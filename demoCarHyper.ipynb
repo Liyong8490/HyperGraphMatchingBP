{
 "cells": [
  {
   "cell_type": "code",
   "execution_count": null,
   "metadata": {
    "collapsed": false,
    "nbpresent": {
     "id": "b7f20efc-77ab-4059-b75a-fdd0df848443"
    }
   },
   "outputs": [],
   "source": [
    "import matlab.engine\n",
    "eng = matlab.engine.start_matlab()"
   ]
  },
  {
   "cell_type": "code",
   "execution_count": null,
   "metadata": {
    "collapsed": false,
    "nbpresent": {
     "id": "093b7e57-976c-4174-81ff-cdae548b1113"
    },
    "scrolled": false
   },
   "outputs": [],
   "source": [
    "#import matlab.engine\n",
    "import numpy as np;\n",
    "from sklearn.neighbors import KDTree\n",
    "import FactorBP as FB\n",
    "from scipy.spatial import Delaunay\n",
    "import scipy.io as sio\n",
    "from Utils import *\n",
    "import time\n",
    "import drawMatches as dm\n",
    "import cPickle as pickle\n",
    "from IPython.display import clear_output\n",
    "\n",
    "\n",
    "%matplotlib inline\n",
    "\n",
    "\n",
    "def ComputeAccuracyPas(decode, gTruth, NofInliers ):\n",
    "    Ccnt = 0\n",
    "    for i in range(len(gTruth)):\n",
    "        if((decode[i] == gTruth[i]) and (gTruth[i] < NofInliers)):\n",
    "            Ccnt += 1\n",
    "    return 1.0 * Ccnt / NofInliers\n",
    "# eng = matlab.engine.start_matlab()\n",
    "CarData = LoadCar()\n",
    "\n",
    "NofAlgorithms = 9\n",
    "AlgorithmNames=['Ours', 'BCA', 'BCA-MP', 'BCA-IPFP', 'HGM', 'RRWHM', 'TM', 'OursPW', 'Ours-BCA']\n",
    "MaxNofOus = 20\n",
    "MeanAcc = np.zeros([MaxNofOus + 1, NofAlgorithms ])\n",
    "MeanRtime = np.zeros([MaxNofOus + 1, NofAlgorithms])\n",
    "MeanObj = np.zeros([MaxNofOus + 1, NofAlgorithms])\n",
    "\n",
    "np.random.seed(123456)\n",
    "NofInstances = 30\n",
    "reload(dm)\n",
    "\n",
    "for NofOus in range(0,MaxNofOus+1):\n",
    "    Accuracy = np.zeros([NofAlgorithms, NofInstances])\n",
    "    Rtime = np.zeros([NofAlgorithms, NofInstances])\n",
    "    Obj = np.zeros([NofAlgorithms, NofInstances])\n",
    "    for idx in range(1, NofInstances + 1):\n",
    "        \n",
    "        car1 = CarData[idx]\n",
    "        LocalFeature1 = car1['features1']\n",
    "        LocalFeature2 = car1['features2']\n",
    "        \n",
    "        PT1 = LocalFeature1[:, 0:2]\n",
    "        PT2 = LocalFeature2[:, 0:2]\n",
    "        \n",
    "        \n",
    "        orientation1 = LocalFeature1[:, 8]\n",
    "        orientation2 = LocalFeature2[:, 8]\n",
    "        \n",
    "        GT = car1['gTruth'][0]\n",
    "        \n",
    "        NofInliers = len(GT)\n",
    "        CMaxNofOus = np.min([LocalFeature1.shape[0], LocalFeature2.shape[0]]) - NofInliers\n",
    "        CNofOus = NofOus\n",
    "        if(CNofOus > CMaxNofOus):\n",
    "            CNofOus = CMaxNofOus\n",
    "        NofNodes = CNofOus + NofInliers\n",
    "        gTruth = np.random.permutation(NofNodes)\n",
    "        PT1 = PT1[gTruth, :]\n",
    "        orientation1 = orientation1[gTruth]\n",
    "        MG1 = FB.MatchingGraph(PT1[0:NofNodes], orientation1[0:NofNodes])\n",
    "        MG2 = FB.MatchingGraph(PT2[0:NofNodes], orientation2[0:NofNodes])\n",
    "\n",
    "        G,MFname = FB.ConstructMatchingModel(MG1, MG2, 'pas', True)\n",
    "        \n",
    "        G2 = FB.ConstructMatchingModel(MG1, MG2, 'pas', False)\n",
    "        Gvis,MFname = FB.ConstructMatchingModel(MG1, MG2, 'pas', True)\n",
    "        \n",
    "        \n",
    "\n",
    "        \n",
    "        \n",
    "        \n",
    "        G.SetVerbose(False)\n",
    "        \n",
    "        res1 = FB.BaBSolver(G, 120, 10, 0.005, False)\n",
    "        res2 = FB.BaBSolver(G2, 120, 10, 0.005, False)\n",
    "\n",
    "\n",
    "        resBag = eng.runBcagm(MFname,nargout=3)\n",
    "        resBagMP = eng.runBcagmQuad1(MFname,1,nargout=3)\n",
    "        resBagIPFP = eng.runBcagmQuad1(MFname, 2,nargout=3)\n",
    "        resHGM = eng.runHGM(MFname,nargout=3)\n",
    "        resRRWHM = eng.runRRWHM(MFname,nargout=3)\n",
    "        resTM = eng.runTensorMatching(MFname,nargout=3)\n",
    "        \n",
    "        \n",
    "        \n",
    "        start_time = time.time()\n",
    "        ResForBca = sio.loadmat(MFname)\n",
    "        X0 = np.zeros(NofNodes)\n",
    "        X0Vec = res1.Decode\n",
    "        for i in xrange(NofNodes):\n",
    "            X0[i] = X0Vec[i]\n",
    "        ResForBca['X0'] = X0\n",
    "        sio.savemat(MFname, ResForBca)\n",
    "        resOursBCA = eng.runBcagm(MFname, nargout=3)\n",
    "        time_dur = time.time() - start_time\n",
    "        \n",
    "        \n",
    "        \n",
    "        ImageI = idx - 1\n",
    "        cDecode = FB.intArray(NofNodes)\n",
    "            \n",
    "        for i in range(NofNodes):\n",
    "            cDecode[i] = int(resOursBCA[1][0][i])\n",
    "        if(res1.Value < Gvis.ComputeObj(cDecode)):\n",
    "            Accuracy[8][ImageI] = ComputeAccuracyPas(resOursBCA[1][0], gTruth, NofInliers)\n",
    "            Obj[8][ImageI] = Gvis.ComputeObj(cDecode)\n",
    "        else:\n",
    "            Accuracy[8][ImageI] = ComputeAccuracyPas(res1.Decode, gTruth, NofInliers)\n",
    "            Obj[8][ImageI] = res1.Value\n",
    "\n",
    "\n",
    "        \n",
    "        Rtime[8][ImageI] = time_dur + res1.Time\n",
    "        clear_output()\n",
    "        #print(resOursBCA[1][0])\n",
    "        #reload(dm)\n",
    "        Fname = 'Car%d_Nous%d_Ours.pdf' % (idx, NofOus)\n",
    "        dm.drawMatchesWithOutlier(car1['I1'],car1['I2'],PT1[0:NofNodes],PT2[0:NofNodes],res1.Decode, gTruth, NofInliers, Fname)\n",
    "        \n",
    "        Fname = 'Car%d_Nous%d_OursBca.pdf' % (idx, NofOus)\n",
    "        dm.drawMatchesWithOutlier(car1['I1'],car1['I2'],PT1[0:NofNodes],PT2[0:NofNodes],np.array(resOursBCA[1][0]), gTruth, NofInliers, Fname)\n",
    "\n",
    "\n",
    "        \n",
    "        Fname = 'Car%d_Nous%d_Bca.pdf' % (idx, NofOus)\n",
    "        dm.drawMatchesWithOutlier(car1['I1'],car1['I2'],PT1[0:NofNodes],PT2[0:NofNodes],np.array(resBag[1][0]), gTruth, NofInliers, Fname)\n",
    "\n",
    "        Fname = 'Car%d_Nous%d_BcaIPFP.pdf' % (idx, NofOus)\n",
    "        dm.drawMatchesWithOutlier(car1['I1'],car1['I2'],PT1[0:NofNodes],PT2[0:NofNodes],np.array(resBagIPFP[1][0]), gTruth, NofInliers, Fname)\n",
    "\n",
    "        Fname = 'Car%d_Nous%d_BcaMP.pdf' % (idx, NofOus)\n",
    "        dm.drawMatchesWithOutlier(car1['I1'],car1['I2'],PT1[0:NofNodes],PT2[0:NofNodes],np.array(resBagMP[1][0]), gTruth, NofInliers, Fname)\n",
    "\n",
    "        Fname = 'Car%d_Nous%d_RRWHM.pdf' % (idx, NofOus)\n",
    "        dm.drawMatchesWithOutlier(car1['I1'],car1['I2'],PT1[0:NofNodes],PT2[0:NofNodes],np.array(resRRWHM[1][0]), gTruth, NofInliers, Fname)\n",
    "\n",
    "        Fname = 'House%d_Nous%d_PW.pdf' % (idx, NofOus)\n",
    "        dm.drawMatchesWithOutlier(car1['I1'],car1['I2'],PT1[0:NofNodes],PT2[0:NofNodes],res2.Decode, gTruth, NofInliers, Fname)\n",
    "        \n",
    "        #print(res1.Decode)\n",
    "        #print(gTruth)\n",
    "        ImageI = idx - 1\n",
    "        Accuracy[0][ImageI] = ComputeAccuracyPas(res1.Decode, gTruth, NofInliers)\n",
    "        Rtime[0][ImageI] = res1.Time\n",
    "        Obj[0][ImageI] = res1.Value\n",
    "        \n",
    "        Accuracy[7][ImageI] = ComputeAccuracyPas(res2.Decode, gTruth, NofInliers)\n",
    "        Rtime[7][ImageI] = res2.Time\n",
    "        Obj[7][ImageI] = res2.Value\n",
    "\n",
    "        Accuracy[1][ImageI] = ComputeAccuracyPas(resBag[1][0], gTruth, NofInliers)\n",
    "        Rtime[1][ImageI] = resBag[0]\n",
    "        cDecode = FB.intArray(NofNodes)\n",
    "        for i in range(NofNodes):\n",
    "            cDecode[i] = int(resBag[1][0][i])\n",
    "        Obj[1][ImageI] = Gvis.ComputeObj(cDecode)\n",
    "\n",
    "        Accuracy[2][ImageI] = ComputeAccuracyPas(resBagMP[1][0], gTruth, NofInliers)\n",
    "        Rtime[2][ImageI] = resBagMP[0]\n",
    "        for i in range(NofNodes):\n",
    "            cDecode[i] = int(resBagMP[1][0][i])\n",
    "        Obj[2][ImageI] = Gvis.ComputeObj(cDecode)\n",
    "        \n",
    "        Accuracy[3][ImageI] = ComputeAccuracyPas(resBagIPFP[1][0], gTruth, NofInliers)\n",
    "        Rtime[3][ImageI] = resBagIPFP[0]\n",
    "        for i in range(NofNodes):\n",
    "            cDecode[i] = int(resBagIPFP[1][0][i])\n",
    "        Obj[3][ImageI] = Gvis.ComputeObj(cDecode)\n",
    "        \n",
    "        \n",
    "        Accuracy[4][ImageI] = ComputeAccuracyPas(resHGM[1][0], gTruth, NofInliers)\n",
    "        Rtime[4][ImageI] = resHGM[0]\n",
    "        for i in range(NofNodes):\n",
    "            cDecode[i] = int(resHGM[1][0][i])\n",
    "        Obj[4][ImageI] = Gvis.ComputeObj(cDecode)\n",
    "        \n",
    "        \n",
    "        Accuracy[5][ImageI] = ComputeAccuracyPas(resRRWHM[1][0], gTruth, NofInliers)\n",
    "        Rtime[5][ImageI] = resRRWHM[0]\n",
    "        for i in range(NofNodes):\n",
    "            cDecode[i] = int(resRRWHM[1][0][i])\n",
    "        Obj[5][ImageI] = Gvis.ComputeObj(cDecode)\n",
    "\n",
    "        Accuracy[6][ImageI] = ComputeAccuracyPas(resTM[1][0], gTruth, NofInliers)\n",
    "        Rtime[6][ImageI] = resTM[0]\n",
    "        for i in range(NofNodes):\n",
    "            cDecode[i] = int(resTM[1][0][i])\n",
    "        Obj[6][ImageI] = Gvis.ComputeObj(cDecode)\n",
    "\n",
    "        MaxObj = np.max(Obj[:,ImageI])\n",
    "        #Obj[:,ImageI] /= MaxObj\n",
    "       \n",
    "        \n",
    "\n",
    "        #for ai in xrange(NofAlgorithms):\n",
    "        #    print('%s Accuracy %f Running Time %f Obj %f' %(AlgorithmNames[ai], \n",
    "        #                                                     Accuracy[ai][ImageI],\n",
    "        #                                                    Rtime[ai][ImageI],\n",
    "        #                                                    Obj[ai][ImageI]))\n",
    "        #print('NofOus %d, Finished Frame: %d' % (NofOus,ImageI) )\n",
    "    FnameSave = 'CarRes_Nous_%d.pkl' % NofOus\n",
    "    f = open(FnameSave, \"w\")\n",
    "    pickle.dump(Accuracy, f)\n",
    "    pickle.dump(Obj, f)\n",
    "    pickle.dump(Rtime, f)\n",
    "    f.close()\n",
    "\n",
    "\n",
    "\n",
    "\n",
    "\n",
    "    #Todo Ours-BCA\n",
    "    for ni in range(Obj.shape[1]):\n",
    "        MaxObj = np.max(Obj[:,ni])\n",
    "        Obj[:,ni] /= MaxObj\n",
    "    \n",
    "    for ai in xrange(NofAlgorithms):\n",
    "        MeanAcc[NofOus][ai] = np.mean(Accuracy[ai])\n",
    "        MeanRtime[NofOus][ai] = np.mean(Rtime[ai])\n",
    "        MeanObj[NofOus][ai] = np.mean(Obj[ai])\n",
    "        print('%s Accuracy %f Running Time %f Obj %f' %(AlgorithmNames[ai], \n",
    "                                                        np.mean(Accuracy[ai]),\n",
    "                                                        np.mean(Rtime[ai]),\n",
    "                                                        np.mean(Obj[ai])))\n",
    "        #G2.SetVerbose(False)\n",
    "        #G1.Solve(400)\n",
    "        #G2.Solve(400)\n",
    "        #Accurancy[idx - 1] = ComputeAccuracyPas(G1.GetDecode(), gTruth, NofInliers)\n",
    "\n",
    "        #print('%d %f %f' % (idx, ComputeAccuracyPas(G1.GetDecode(), gTruth, NofInliers),\n",
    "        #                    ComputeAccuracyPas(G2.GetDecode(), gTruth, NofInliers)))\n",
    "        #print(res.Time)\n",
    "        #print(res.Value)\n",
    "\n",
    "        #AccurancyPW[idx - 1] = ComputeAccuracyPas(G2.GetDecode(), gTruth, NofInliers)\n",
    "\n",
    "        #print(ComputeAccuracyPas(resPW.Decode, NofInliers))\n",
    "        #print(resPW.Time)\n",
    "        #print(resPW.Value)\n",
    "    #print('HyperAccurancy %f, PairwiseAccurancy %f' % (Accurancy.mean(), AccurancyPW.mean()))\n",
    "    "
   ]
  },
  {
   "cell_type": "code",
   "execution_count": 21,
   "metadata": {
    "collapsed": false,
    "nbpresent": {
     "id": "c7250a15-4cea-4b02-bd47-164a0a310fbb"
    }
   },
   "outputs": [
    {
     "data": {
      "text/plain": [
       "(2.286943888,\n",
       " matlab.int32([[32,12,6,13,7,24,0,33,23,1,16,28,15,10,30,36,3,25,39,37,2,9,18,31,22,26,19,21,34,14,5,29,20,11,27,35,38,4,8,17]]),\n",
       " 139.54616808685515)"
      ]
     },
     "execution_count": 21,
     "metadata": {},
     "output_type": "execute_result"
    }
   ],
   "source": [
    "resBagMP"
   ]
  },
  {
   "cell_type": "code",
   "execution_count": null,
   "metadata": {
    "collapsed": false,
    "nbpresent": {
     "id": "a16d8c0f-2594-470b-8f68-9c3ebf8814dc"
    },
    "scrolled": true
   },
   "outputs": [],
   "source": [
    "\n",
    "\n",
    "\n",
    "plt.figure(num=None, figsize=(4, 3), dpi=80, facecolor='w', edgecolor='k')\n",
    "\n",
    "\n",
    "for ai in xrange(NofAlgorithms):\n",
    "    if(AlgorithmNames[Seq[ai]] == 'OursPW'):\n",
    "        continue\n",
    "    plt.plot(range(0,NofOus+1), MeanObj[:,Seq[ai]], label=AlgorithmNames[Seq[ai]], \n",
    "             color=Colors[Seq[ai]], marker=Markers[Seq[ai]])\n",
    "plt.ylim([0.25,1.02])\n",
    "plt.ylabel('Obj. Value')\n",
    "plt.xlabel('#Outliers')\n",
    "plt.grid(True)\n",
    "plt.savefig('Car_Obj.pdf')    # <-- loses transparency"
   ]
  },
  {
   "cell_type": "code",
   "execution_count": null,
   "metadata": {
    "collapsed": false,
    "nbpresent": {
     "id": "ccfc9dfc-0b5f-4dca-8474-c67ac138b367"
    }
   },
   "outputs": [],
   "source": [
    "import matplotlib.pyplot as plt\n",
    "import matplotlib\n",
    "import pylab\n",
    "%matplotlib inline\n",
    "\n",
    "\n",
    "Colors = [[ 0.        ,  0.5        , 0.5        ,  1.        ],\n",
    "          [ 1.        ,  0.00196078,  1.        ,  1.        ],\n",
    "          [ 0.        ,  0.50392157,  1.        ,  1.        ],\n",
    "          [ 0.08538899,  1.        ,  0.88235294,  1.        ],\n",
    "          [ 0.49019608,  1.        ,  0.47754586,  1.        ],\n",
    "          [ 0.5       ,  1.        ,  0.17273877,  1.        ],\n",
    "          [ 1.        ,  0.58169935,  0.        ,  1.        ],\n",
    "          [ 1.        ,  0.11692084,  0.        ,  1.        ],\n",
    "          [ 1.        ,  0.        ,  1.        ,  1.        ]];\n",
    "Seq = [0, 7, 1, 2, 3, 4, 5, 6, 8]\n",
    "AlgorithmNames=['Ours', 'BCA', 'BCA-MP', 'BCA-IPFP', 'HGM', 'RRWHM', 'TM', 'OursPW', 'Ours-BCA']\n",
    "Markers = ['o', '+', 'v', '+', 'x', 'd', 'h', 'D', 'H']\n",
    "\n",
    "figData = pylab.figure(num=None, figsize=(4, 3), dpi=80, facecolor='w', edgecolor='k')\n",
    "ax = pylab.gca()\n",
    "\n",
    "matplotlib.rc('font',family='Times New Roman')\n",
    "\n",
    "\n",
    "#plt.figure(num=None, figsize=(4, 3), dpi=80, facecolor='w', edgecolor='k')\n",
    "\n",
    "for ai in xrange(NofAlgorithms):\n",
    "    pylab.plot(range(0,NofOus+1), MeanAcc[:,Seq[ai]], label=AlgorithmNames[Seq[ai]], \n",
    "             color=Colors[Seq[ai]], marker=Markers[Seq[ai]])\n",
    "pylab.ylim([0,0.85])\n",
    "pylab.grid(True)\n",
    "\n",
    "pylab.ylabel('Accuracy')\n",
    "pylab.xlabel('#Outliers')\n",
    "\n",
    "\n",
    "figLegend = pylab.figure(figsize = (11.7,0.4))\n",
    "pylab.figlegend(*ax.get_legend_handles_labels(), loc = 'upper center',  ncol=9, shadow=True, fancybox=True)\n",
    "#figData.savefig('Car_Acc.pdf')\n",
    "figLegend.savefig(\"legend.pdf\")\n",
    "figLegend.show()\n",
    "\n",
    "#plt.legend(shadow=True, fancybox=True,loc='upper center', bbox_to_anchor=(0.5,-0.25), ncol=9)\n",
    "#plt.savefig('House_ACC.pdf')    # <-- loses transparency"
   ]
  },
  {
   "cell_type": "code",
   "execution_count": null,
   "metadata": {
    "collapsed": false,
    "nbpresent": {
     "id": "0c28994f-29ef-4a3b-a3e7-13278237505d"
    }
   },
   "outputs": [],
   "source": [
    "\n",
    "\n",
    "plt.figure(num=None, figsize=(4, 3), dpi=80, facecolor='w', edgecolor='k')\n",
    "\n",
    "\n",
    "for ai in xrange(NofAlgorithms):\n",
    "    plt.plot(range(0,NofOus+1), MeanRtime[:,Seq[ai]], label=AlgorithmNames[Seq[ai]], \n",
    "             color=Colors[Seq[ai]], marker=Markers[Seq[ai]], linewidth=1.25)\n",
    "\n",
    "plt.ylabel('Running Time')\n",
    "plt.xlabel('#Outliers')\n",
    "\n",
    "plt.grid(True)\n",
    "plt.savefig('Car_Time.pdf')    # <-- loses transparency"
   ]
  },
  {
   "cell_type": "code",
   "execution_count": null,
   "metadata": {
    "collapsed": true,
    "nbpresent": {
     "id": "e8e74d5b-5cc8-4698-85db-61e5363f30e2"
    }
   },
   "outputs": [],
   "source": [
    "import shelve\n",
    "\n",
    "\n",
    "\n",
    "filename='shelve_car.out'\n",
    "my_shelf = shelve.open(filename,'n') # 'n' for new\n",
    "\n",
    "for key in dir():\n",
    "    try:\n",
    "        my_shelf[key] = globals()[key]\n",
    "    except:\n",
    "        #\n",
    "        # __builtins__, my_shelf, and imported modules can not be shelved.\n",
    "        #\n",
    "        print('ERROR shelving: {0}'.format(key))\n",
    "my_shelf.close()"
   ]
  },
  {
   "cell_type": "code",
   "execution_count": null,
   "metadata": {
    "collapsed": true,
    "nbpresent": {
     "id": "9bfed24e-0491-4320-903e-5f0933eb5bf7"
    }
   },
   "outputs": [],
   "source": [
    "import cPickle as pickle\n",
    "f = open(\"CarRes\", \"w\")\n",
    "pickle.dump(MeanAcc, f)\n",
    "pickle.dump(MeanObj, f)\n",
    "pickle.dump(MeanRtime, f)\n",
    "f.close()"
   ]
  },
  {
   "cell_type": "code",
   "execution_count": null,
   "metadata": {
    "collapsed": false,
    "nbpresent": {
     "id": "cdc06da6-d90c-4fad-a888-c6a3e2fceab8"
    }
   },
   "outputs": [],
   "source": [
    "MeanAcc[0]"
   ]
  },
  {
   "cell_type": "code",
   "execution_count": null,
   "metadata": {
    "collapsed": false,
    "nbpresent": {
     "id": "4d7224d5-54e4-4084-bded-06f5ad8b37a0"
    }
   },
   "outputs": [],
   "source": [
    "len(gTruth)"
   ]
  },
  {
   "cell_type": "code",
   "execution_count": null,
   "metadata": {
    "collapsed": false
   },
   "outputs": [],
   "source": [
    "np.array(resBag[1][0])"
   ]
  },
  {
   "cell_type": "code",
   "execution_count": null,
   "metadata": {
    "collapsed": false
   },
   "outputs": [],
   "source": [
    "        dm.drawMatchesWithOutlier(car1['I1'],car1['I2'],PT1,PT2[0:NofInliers],np.array(resBag[1][0]), gTruth, NofNodes, Fname)\n",
    "\n"
   ]
  },
  {
   "cell_type": "code",
   "execution_count": 6,
   "metadata": {
    "collapsed": false
   },
   "outputs": [
    {
     "data": {
      "text/plain": [
       "array([[  62.41943095,   93.86468237,  140.70022231,   69.27469004,\n",
       "         106.56245872,  150.05614834,  145.48333355,   79.07862035,\n",
       "         112.47728442,  107.51800048,  107.35230367,  105.65835791,\n",
       "         137.29662419,  186.86829366,  123.29566054,  124.70179989,\n",
       "          99.64747479,  183.41632275,  216.48122094,  199.41935167,\n",
       "         174.0757691 ,  103.43205972,  120.87059879,  107.98906247,\n",
       "          59.97258059,   93.62388932,  133.61349924,  105.51072093,\n",
       "         152.1319882 ,   95.31014512],\n",
       "       [  62.41943095,   93.64041065,  149.18193384,   80.31415259,\n",
       "          96.11796424,  113.17774778,  129.29327727,   66.28957684,\n",
       "         112.47728442,   69.82336156,  105.65457666,   86.11187266,\n",
       "         138.74044939,  157.77969526,  123.29566054,  105.4994544 ,\n",
       "          80.84407001,  178.45043769,  210.7722291 ,  182.57342901,\n",
       "         157.71646658,   79.61317814,  113.6624748 ,  109.08493495,\n",
       "          54.64829478,   89.59436145,  126.34969585,  107.14215059,\n",
       "         139.70093301,  102.92058251],\n",
       "       [  61.65680213,   93.86468237,  139.8106764 ,   84.21430042,\n",
       "          99.34236964,  150.92354255,  129.29327727,   68.30979193,\n",
       "         112.47728442,   91.1713309 ,  107.40686999,   98.96148029,\n",
       "         134.94387158,  179.79392559,  118.42200902,  108.54837895,\n",
       "         100.96895715,  177.04772641,  210.58158008,  198.58702953,\n",
       "         159.85500298,   98.9937571 ,  120.87059879,  109.08493495,\n",
       "          57.79917245,   85.05447133,  132.73574205,  137.75980414,\n",
       "         157.83540503,  102.61616619],\n",
       "       [  61.65680213,   93.64041065,  140.95803462,   81.39929451,\n",
       "         113.47223994,  118.13933174,  141.39883635,   73.88962838,\n",
       "         112.47728442,   77.74733403,  105.65457666,   98.69213122,\n",
       "         138.74044939,  179.79392559,  123.29566054,  124.70179989,\n",
       "         100.96895715,  178.45043769,  210.7722291 ,  197.12853732,\n",
       "         157.75683411,   98.9937571 ,  114.95755943,  112.16152516,\n",
       "          56.55023627,   88.15499165,  132.73574205,  107.30517376,\n",
       "         157.83540503,  102.61616619],\n",
       "       [  17.18688661,   38.47025448,   24.49142434,   23.76937319,\n",
       "          31.9454637 ,   34.12227394,   36.26513575,   33.15450109,\n",
       "          28.74779222,   33.19744628,   43.66314237,   31.18005055,\n",
       "          41.67182373,   45.88934351,   53.76010497,   38.57112606,\n",
       "          31.46474128,   61.48870371,   39.02715572,   76.18532066,\n",
       "          33.7859521 ,   36.91611235,   36.72218486,   30.8658473 ,\n",
       "          20.769893  ,   33.62127412,   33.12103196,   38.94401937,\n",
       "          31.86109113,   23.56100265],\n",
       "       [  23.75958269,   82.12572892,  143.892634  ,   72.66269048,\n",
       "         107.32502972,  148.69231429,  125.04101985,   82.63991576,\n",
       "          86.38506469,  107.51800048,  101.24115895,   68.65340136,\n",
       "         138.74044939,  184.34991108,  119.63274534,  124.70179989,\n",
       "         100.96895715,  183.41632275,  214.08280056,  199.18056547,\n",
       "         117.40976385,  103.43205972,  112.0501944 ,  103.29830078,\n",
       "          53.41180114,   83.42275052,  133.52100885,   97.23602395,\n",
       "         157.25280263,  102.65182218],\n",
       "       [  49.87429362,   45.28789559,   87.42875434,   47.22739174,\n",
       "          47.95292882,   63.16285977,  100.66713066,   40.99936684,\n",
       "          93.38085384,   29.73658879,   57.57912862,   56.57928492,\n",
       "          70.99878076,  153.11787744,  108.54803893,   86.86684943,\n",
       "          91.82104025,  102.24379677,  102.65037213,  197.12853732,\n",
       "         150.19640481,   60.89181113,   86.4856748 ,   88.58179979,\n",
       "          53.3235914 ,   78.91098838,   61.25603643,   70.87374189,\n",
       "         115.85620287,   61.90445519],\n",
       "       [  44.62248187,   74.68954338,   97.38932649,   61.38757721,\n",
       "          81.88487725,  104.38508725,  102.42482747,   60.53187376,\n",
       "          86.55042966,   82.38238917,   78.91236552,   67.5395239 ,\n",
       "         101.68146372,  151.318756  ,   94.35383346,  100.31637022,\n",
       "          76.82019027,  140.94554933,  171.10620747,  157.07824173,\n",
       "         137.47945044,   83.59700454,   90.39646334,   82.31586605,\n",
       "          47.7951527 ,   70.57642646,  104.50387756,   85.37979377,\n",
       "         111.25184827,   75.39790524],\n",
       "       [  62.41943095,   93.86468237,  146.28923617,   89.42851347,\n",
       "         116.56299037,  150.05614834,  145.48333355,   81.61595377,\n",
       "         112.47728442,  107.51800048,  107.35230367,  105.65835791,\n",
       "         137.29662419,  186.86829366,  123.29566054,  124.70179989,\n",
       "          99.64747479,  183.41632275,  216.48122094,  199.41935167,\n",
       "         174.0757691 ,  103.43205972,  120.87059879,  109.96159997,\n",
       "          59.97258059,   95.47901095,  133.61349924,  123.26506818,\n",
       "         152.1319882 ,  102.61616619]])"
      ]
     },
     "execution_count": 6,
     "metadata": {},
     "output_type": "execute_result"
    }
   ],
   "source": [
    "Obj"
   ]
  },
  {
   "cell_type": "code",
   "execution_count": null,
   "metadata": {
    "collapsed": true
   },
   "outputs": [],
   "source": []
  }
 ],
 "metadata": {
  "anaconda-cloud": {},
  "kernelspec": {
   "display_name": "Python [conda root]",
   "language": "python",
   "name": "conda-root-py"
  },
  "nbpresent": {
   "slides": {},
   "themes": {
    "default": "e94bf481-1fb0-41dc-b61f-1e97b58496e4",
    "theme": {}
   }
  }
 },
 "nbformat": 4,
 "nbformat_minor": 1
}
