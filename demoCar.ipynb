{
 "cells": [
  {
   "cell_type": "code",
   "execution_count": 1,
   "metadata": {
    "collapsed": true
   },
   "outputs": [],
   "source": [
    "import matlab.engine\n",
    "import numpy as np;\n",
    "from sklearn.neighbors import KDTree \n",
    "from FactorBP import *\n",
    "from FactorBP.FactorGraph import *\n",
    "from scipy.spatial import Delaunay\n",
    "import scipy.io as sio\n",
    "from Utils import *\n",
    "eng = matlab.engine.start_matlab()"
   ]
  },
  {
   "cell_type": "code",
   "execution_count": 22,
   "metadata": {
    "collapsed": true
   },
   "outputs": [],
   "source": [
    "def CreateTensorCar(P1,P2,bpermute):\n",
    "    res = {}\n",
    "    NP1 = P1.shape[0]\n",
    "    NP2 = P2.shape[0]\n",
    "    if(bpermute):\n",
    "        res['GT'] = np.random.permutation(P2.shape[0])\n",
    "    else:\n",
    "        res['GT'] = np.array(range(P2.shape[0]))\n",
    "    P1 = P1[res['GT'], :]\n",
    "    \n",
    "    nT = NP1 * NP2\n",
    "    \n",
    "    t1 = np.floor(np.random.rand(3, nT) * NP1)\n",
    "    while(True):\n",
    "        probFound=False;\n",
    "        for i in range(3):\n",
    "            ind=(t1[i,:]==t1[(i+1)%3,:])\n",
    "        if(np.sum(ind)!=0):\n",
    "            idxs = np.nonzero(ind)\n",
    "            t1[i][idxs]=np.floor(np.random.rand(1,len(idxs))*NP1);\n",
    "            probFound=True;\n",
    "        if(probFound == False):\n",
    "            break;\n",
    "    \n",
    "    tri1 = Delaunay(P1)\n",
    "    tri2 = Delaunay(P2)\n",
    "    t1 = tri1.simplices\n",
    "    t2 = tri2.simplices\n",
    "    Feature = computeFeature(P1, P2, t1)\n",
    "    \n",
    "    kdt = KDTree(Feature['feat2'], metric='euclidean')\n",
    "    nNN = 2000;\n",
    "    [dist, indices] = kdt.query(Feature['feat1'], k=nNN, return_distance=True)\n",
    "    \n",
    "    dist = np.exp(- (dist / np.mean(dist) ))\n",
    "    \n",
    "    res['Triplets'] = t1\n",
    "    res['NTriplets'] = indices\n",
    "    res['Similarity'] = dist\n",
    "    return res\n",
    "\n",
    "def ComputeAccuracy(X1, GT, NofInliers):\n",
    "    Ccnt = 0\n",
    "    for b in xrange(NofInliers):\n",
    "        if(int(X1[b]) == int(GT[b])):\n",
    "            Ccnt += 1\n",
    "    res = Ccnt * 1.0 / GT.shape[0]\n",
    "    return res\n",
    "def IndicesToVec(indices, NofNodes, NofStates):\n",
    "    res = VecInt(NofNodes)\n",
    "    res[2] = indices % NofStates\n",
    "    indices /= NofStates\n",
    "    res[1] = indices % NofStates\n",
    "    indices /= NofStates\n",
    "    res[0] = indices\n",
    "    return res\n",
    "\n",
    "def computeFeature(P1, P2, T1 ):\n",
    "    res = {}\n",
    "    F1 = np.zeros([T1.shape[1], 3])\n",
    "    NP2 = P2.shape[0]\n",
    "    F2 = np.zeros([NP2 * NP2 * NP2, 3])\n",
    "    for i in xrange(T1.shape[1]):\n",
    "        F1[i] = computeFeatureSimple(P1, T1[:,i])\n",
    "    Fcnt = 0\n",
    "    for i in xrange(NP2):\n",
    "        for j in xrange(NP2):\n",
    "            for k in xrange(NP2):\n",
    "                F2[Fcnt] = computeFeatureSimple(P2, [i,j,k])\n",
    "                Fcnt = Fcnt + 1\n",
    "    res['feat1'] = F1\n",
    "    res['feat2'] = F2\n",
    "    \n",
    "    return res\n",
    "\n",
    "def RunCar(CarData, idx, NofOus):\n",
    "    car1 = CarData[idx]\n",
    "    LocalFeature1 = car1['features1']\n",
    "    LocalFeature2 = car1['features2']\n",
    "    PT1 = LocalFeature1[:,0:2]\n",
    "    PT2 = LocalFeature2[:,0:2]\n",
    "    orientation1 = LocalFeature1[:,8]\n",
    "    orientation2 = LocalFeature2[:,8]\n",
    "    GT=car1['gTruth'][0]\n",
    "    NofInliers = len(GT)\n",
    "    \n",
    "    NofNodes = NofInliers + NofOus\n",
    "    KP = ComputeFeatureDistance(orientation1[0:NofNodes], orientation2[0:NofNodes])\n",
    "    KTriplets = CreateTensorHouseDelaunay(PT1[0:NofNodes],PT2[0:NofNodes], False)\n",
    "    indH1=np.array(range(NofNodes*NofNodes))\n",
    "    valH1=KP.reshape((NofNodes * NofNodes, 1))\n",
    "    KTriplets['indH1'] = indH1\n",
    "    KTriplets['valH1'] = valH1\n",
    "    \n",
    "            \n",
    "    \n",
    "    sio.savemat('Temp.mat', KTriplets)\n",
    "    \n",
    "    KP = np.exp(-KP)\n",
    "    NofStates = intArray(NofNodes)\n",
    "    for i in xrange(NofNodes):\n",
    "        NofStates[i] = NofNodes\n",
    "    G = CFactorGraph(NofNodes, NofStates)\n",
    "    bi = doubleArray(NofNodes)\n",
    "    for ni in range(NofNodes):\n",
    "        for xi in range(NofNodes):\n",
    "            bi[xi] = float(KP[ni][xi]) \n",
    "    G.AddNodeBelief(ni, bi)\n",
    "    for i in xrange(KTriplets['Triplets'].shape[0]):\n",
    "        T = KTriplets['Triplets'][i]\n",
    "        T1 = VecInt(3)\n",
    "        T1[0] = int(T[0])\n",
    "        T1[1] = int(T[1])\n",
    "        T1[2] = int(T[2])\n",
    "        NNZIs = KTriplets['NTriplets']\n",
    "        NNZVs = KTriplets['Similarity'][i]\n",
    "        NNZIVecs = VecVecInt(NNZIs.shape[0])\n",
    "        NNZVVecs = doubleArray(NNZIs.shape[0])\n",
    "        for xi in xrange(NNZIs.shape[0]):\n",
    "            cNTriplets = VecInt(3)\n",
    "            cNTriplets[0] = int(NNZIs[xi][0])\n",
    "            cNTriplets[1] = int(NNZIs[xi][1])\n",
    "            cNTriplets[2] = int(NNZIs[xi][2])\n",
    "            #cNTriplets = IndicesToVec(NNZIs[xi], 3, NofNodes)\n",
    "            NNZIVecs[xi] = cNTriplets\n",
    "            NNZVVecs[xi] = NNZVs[xi]\n",
    "        G.AddGenericGenericSparseFactor(T1, NNZIVecs, NNZVVecs)\n",
    "    G.SetVerbose(True)\n",
    "    #G.Solve(1000)\n",
    "    G.AddAuctionFactor()\n",
    "    G.Solve(10000)\n",
    "    G.SetVerbose(False)\n",
    "    res1 = BaBSolver(G, 50, 1000, 0.005, False)\n",
    "    resBag = eng.runBcagm(nargout=3)\n",
    "    resBagMP = eng.runBcagmQuad1(1,nargout=3)\n",
    "    resBagIPFP = eng.runBcagmQuad1(2,nargout=3)\n",
    "    resHGM = eng.runHGM(nargout=3)\n",
    "    resRRWHM = eng.runRRWHM(nargout=3)\n",
    "    resTM = eng.runTensorMatching(nargout=3)\n",
    "    \n",
    "    res = {};\n",
    "    res[0] = res1\n",
    "    res[1] = resBag\n",
    "    res[2] = resBagMP\n",
    "    res[3] = resBagIPFP\n",
    "    res[4] = resHGM\n",
    "    res[5] = resRRWHM\n",
    "    res[6] = resTM\n",
    "    res['GT'] = KTriplets['GT']\n",
    "    res['NofInliers'] = NofInliers\n",
    "    return res"
   ]
  },
  {
   "cell_type": "code",
   "execution_count": 3,
   "metadata": {
    "collapsed": false,
    "scrolled": false
   },
   "outputs": [
    {
     "name": "stdout",
     "output_type": "stream",
     "text": [
      "Ours Accuracy 0.583333 Running Time 1.558703 Obj 20.691176\n",
      "BCA Accuracy 0.583333 Running Time 0.080803 Obj 20.627093\n",
      "BCA-MP Accuracy 0.750000 Running Time 0.137263 Obj 18.100723\n",
      "BCA-IPFP Accuracy 0.583333 Running Time 0.020787 Obj 20.627093\n",
      "HGM Accuracy 0.333333 Running Time 0.024433 Obj 5.422342\n",
      "RRWHM Accuracy 0.583333 Running Time 0.101028 Obj 20.627093\n",
      "TM Accuracy 0.208333 Running Time 0.089981 Obj 5.171264\n",
      "Finished Frame: 2\n",
      "Ours Accuracy 0.595238 Running Time 4.381356 Obj 23.273130\n",
      "BCA Accuracy 0.190476 Running Time 0.205425 Obj 25.817076\n",
      "BCA-MP Accuracy 0.738095 Running Time 1.717220 Obj 30.940670\n",
      "BCA-IPFP Accuracy 0.380952 Running Time 0.566061 Obj 28.142028\n",
      "HGM Accuracy 0.071429 Running Time 0.008226 Obj 0.000000\n",
      "RRWHM Accuracy 0.285714 Running Time 0.418968 Obj 29.590718\n",
      "TM Accuracy 0.023810 Running Time 0.124666 Obj 3.529040\n",
      "Finished Frame: 3\n",
      "Ours Accuracy 0.121212 Running Time 2.562558 Obj 17.373924\n",
      "BCA Accuracy 0.000000 Running Time 0.032683 Obj 18.044584\n",
      "BCA-MP Accuracy 0.000000 Running Time 0.494346 Obj 19.641981\n",
      "BCA-IPFP Accuracy 0.000000 Running Time 0.273921 Obj 16.762216\n",
      "HGM Accuracy 0.060606 Running Time 0.004942 Obj 0.000000\n",
      "RRWHM Accuracy 0.030303 Running Time 0.100482 Obj 17.249362\n",
      "TM Accuracy 0.060606 Running Time 0.059488 Obj 2.467811\n",
      "Finished Frame: 4\n",
      "Ours Accuracy 0.102564 Running Time 3.766022 Obj 18.631599\n",
      "BCA Accuracy 0.051282 Running Time 0.063656 Obj 26.129900\n",
      "BCA-MP Accuracy 0.128205 Running Time 0.782227 Obj 19.786145\n",
      "BCA-IPFP Accuracy 0.051282 Running Time 0.375147 Obj 28.411571\n",
      "HGM Accuracy 0.102564 Running Time 0.004556 Obj 0.000000\n",
      "RRWHM Accuracy 0.128205 Running Time 0.089295 Obj 19.805933\n",
      "TM Accuracy 0.000000 Running Time 0.080759 Obj 2.094286\n",
      "Finished Frame: 5\n",
      "Ours Accuracy 0.280470 Running Time 2.453728 Obj 15.993966\n",
      "BCA Accuracy 0.165018 Running Time 0.076513 Obj 18.123731\n",
      "BCA-MP Accuracy 0.323260 Running Time 0.626211 Obj 17.693904\n",
      "BCA-IPFP Accuracy 0.203114 Running Time 0.247183 Obj 18.788582\n",
      "HGM Accuracy 0.113586 Running Time 0.008431 Obj 1.084468\n",
      "RRWHM Accuracy 0.205511 Running Time 0.141954 Obj 17.454621\n",
      "TM Accuracy 0.058550 Running Time 0.070979 Obj 2.652480\n"
     ]
    }
   ],
   "source": [
    "\n",
    "CarData = LoadCar()\n",
    "\n",
    "NofAlgorithms = 7\n",
    "AlgorithmNames=['Ours', 'BCA', 'BCA-MP', 'BCA-IPFP', 'HGM', 'RRWHM', 'TM']\n",
    "\n",
    "NofPairs = 5\n",
    "NofOusMax = 3\n",
    "\n",
    "MeanAcc = np.zeros([NofOusMax,NofAlgorithms])\n",
    "MeanRtime = np.zeros([NofOusMax, NofAlgorithms])\n",
    "MeanObj = np.zeros([NofOusMax, NofAlgorithms])\n",
    "\n",
    "for NofOus in xrange(1):\n",
    "    \n",
    "    Accuracy = np.zeros([NofAlgorithms, NofPairs])\n",
    "    Rtime = np.zeros([NofAlgorithms, NofPairs])\n",
    "    Obj = np.zeros([NofAlgorithms, NofPairs])\n",
    "    \n",
    "    for ImageI in xrange(2, 1 + NofPairs):\n",
    "        res = RunCar(CarData, ImageI, NofOus)\n",
    "        Accuracy[0][ImageI-1] = ComputeAccuracy(res[0].Decode, res['GT'], res['NofInliers'])\n",
    "        Rtime[0][ImageI-1] = res[0].Time\n",
    "        Obj[0][ImageI-1] = res[0].Value\n",
    "        \n",
    "        for AlgoI in xrange(1, NofAlgorithms):\n",
    "            Accuracy[AlgoI][ImageI-1] = ComputeAccuracy(res[AlgoI][1][0], res['GT'], res['NofInliers'])\n",
    "            Rtime[AlgoI][ImageI-1] = res[AlgoI][0]\n",
    "            Obj[AlgoI][ImageI-1] = res[AlgoI][2]/6\n",
    "        \n",
    "        #MaxObj = np.max(Obj[:,ImageI-1])\n",
    "        #Obj[:,ImageI-1] /= MaxObj\n",
    "\n",
    "        for ai in xrange(NofAlgorithms):\n",
    "            print('%s Accuracy %f Running Time %f Obj %f' %(AlgorithmNames[ai], \n",
    "                                                             Accuracy[ai][ImageI-1],\n",
    "                                                            Rtime[ai][ImageI-1],\n",
    "                                                            Obj[ai][ImageI-1]))\n",
    "        print('Finished Frame: %d' %ImageI)\n",
    "    \n",
    "    for ai in xrange(NofAlgorithms):\n",
    "        MeanAcc[NofOus][ai] = np.mean(Accuracy[ai])\n",
    "        MeanRtime[NofOus][ai] = np.mean(Rtime[ai])\n",
    "        MeanObj[NofOus][ai] = np.mean(Obj[ai])\n",
    "        print('%s Accuracy %f Running Time %f Obj %f' %(AlgorithmNames[ai], \n",
    "                                                        np.mean(Accuracy[ai]),\n",
    "                                                        np.mean(Rtime[ai]),\n",
    "                                                        np.mean(Obj[ai])))\n",
    "                         \n",
    "\n"
   ]
  },
  {
   "cell_type": "code",
   "execution_count": 24,
   "metadata": {
    "collapsed": false
   },
   "outputs": [],
   "source": [
    "res = RunCar(CarData, 1, 10)\n"
   ]
  },
  {
   "cell_type": "code",
   "execution_count": 25,
   "metadata": {
    "collapsed": false
   },
   "outputs": [
    {
     "data": {
      "text/plain": [
       "{0: <FactorBP.BaBSolver.BaBRes instance at 0x116cce128>,\n",
       " 1: (0.019353648,\n",
       "  matlab.int32([[0,1,2,3,4,5,6,7,8,15,11,9,12,13,14,10,16,17,18,20,25,23,19,21,27,26,22,24,28]]),\n",
       "  144.26892804364053),\n",
       " 2: (0.166758293,\n",
       "  matlab.int32([[0,1,2,3,4,5,6,7,8,15,26,11,12,13,14,10,16,17,18,25,21,22,24,9,19,20,28,27,23]]),\n",
       "  155.20209782713388),\n",
       " 3: (0.172470443,\n",
       "  matlab.int32([[0,1,2,3,4,5,6,7,8,15,11,23,12,13,14,10,16,17,18,21,26,25,19,9,28,24,22,27,20]]),\n",
       "  136.86733897387546),\n",
       " 4: (0.001679534,\n",
       "  matlab.int32([[11,1,15,3,27,10,26,4,7,2,19,20,21,5,24,25,16,17,18,13,28,23,8,14,6,9,22,0,12]]),\n",
       "  8.770534408907988),\n",
       " 5: (0.105307324,\n",
       "  matlab.int32([[0,1,2,3,4,5,6,7,8,15,9,11,12,13,14,10,16,17,18,25,21,26,24,23,19,20,28,27,22]]),\n",
       "  151.95683690249243),\n",
       " 6: (0.041009867,\n",
       "  matlab.int32([[0,1,2,3,4,5,10,7,9,15,24,26,17,13,14,6,11,8,18,22,21,23,20,25,19,16,28,27,12]]),\n",
       "  76.82439465567906),\n",
       " 'GT': array([ 0,  1,  2,  3,  4,  5,  6,  7,  8,  9, 10, 11, 12, 13, 14, 15, 16,\n",
       "        17, 18, 19, 20, 21, 22, 23, 24, 25, 26, 27, 28]),\n",
       " 'NofInliers': 19}"
      ]
     },
     "execution_count": 25,
     "metadata": {},
     "output_type": "execute_result"
    }
   ],
   "source": [
    "res"
   ]
  },
  {
   "cell_type": "code",
   "execution_count": null,
   "metadata": {
    "collapsed": false
   },
   "outputs": [],
   "source": [
    "np.reshape.__doc__\n"
   ]
  },
  {
   "cell_type": "code",
   "execution_count": null,
   "metadata": {
    "collapsed": false
   },
   "outputs": [],
   "source": [
    "\n",
    "range(100)"
   ]
  },
  {
   "cell_type": "code",
   "execution_count": null,
   "metadata": {
    "collapsed": false
   },
   "outputs": [],
   "source": [
    "\n"
   ]
  },
  {
   "cell_type": "code",
   "execution_count": null,
   "metadata": {
    "collapsed": false
   },
   "outputs": [],
   "source": []
  },
  {
   "cell_type": "code",
   "execution_count": null,
   "metadata": {
    "collapsed": false
   },
   "outputs": [],
   "source": [
    "G.SetVerbose(True)\n",
    "G.AddAuctionFactor()\n",
    "G.Solve(1000)"
   ]
  },
  {
   "cell_type": "code",
   "execution_count": null,
   "metadata": {
    "collapsed": false
   },
   "outputs": [],
   "source": [
    "print(G.GetDecode())"
   ]
  },
  {
   "cell_type": "code",
   "execution_count": null,
   "metadata": {
    "collapsed": false
   },
   "outputs": [],
   "source": [
    "print(KTriplets['GT'])"
   ]
  },
  {
   "cell_type": "code",
   "execution_count": null,
   "metadata": {
    "collapsed": false
   },
   "outputs": [],
   "source": [
    "KTriplets['NTriplets'].shape"
   ]
  },
  {
   "cell_type": "code",
   "execution_count": null,
   "metadata": {
    "collapsed": false
   },
   "outputs": [],
   "source": [
    "KTriplets['Triplets'].shape"
   ]
  },
  {
   "cell_type": "code",
   "execution_count": null,
   "metadata": {
    "collapsed": false
   },
   "outputs": [],
   "source": [
    "print(PT1[0:NofInliers,:])\n"
   ]
  },
  {
   "cell_type": "code",
   "execution_count": null,
   "metadata": {
    "collapsed": false
   },
   "outputs": [],
   "source": [
    "print(PT2[0:NofInliers,:])\n",
    "\n",
    "t2 = Delaunay(PT2[0:NofInliers,:])\n",
    "t2.simplices"
   ]
  },
  {
   "cell_type": "code",
   "execution_count": null,
   "metadata": {
    "collapsed": false
   },
   "outputs": [],
   "source": [
    "28 * 6"
   ]
  },
  {
   "cell_type": "code",
   "execution_count": null,
   "metadata": {
    "collapsed": true
   },
   "outputs": [],
   "source": []
  }
 ],
 "metadata": {
  "kernelspec": {
   "display_name": "Python [Root]",
   "language": "python",
   "name": "Python [Root]"
  },
  "language_info": {
   "codemirror_mode": {
    "name": "ipython",
    "version": 3
   },
   "file_extension": ".py",
   "mimetype": "text/x-python",
   "name": "python",
   "nbconvert_exporter": "python",
   "pygments_lexer": "ipython3",
   "version": "3.5.2"
  }
 },
 "nbformat": 4,
 "nbformat_minor": 1
}
