{
 "cells": [
  {
   "cell_type": "code",
   "execution_count": null,
   "metadata": {},
   "outputs": [],
   "source": [
    "import matlab.engine\n",
    "import numpy as np;\n",
    "from sklearn.neighbors import KDTree \n",
    "from FactorBP import *\n",
    "from FactorBP.FactorGraph import *\n",
    "from scipy.spatial import Delaunay\n",
    "import scipy.io as sio\n",
    "from Utils import *\n",
    "eng = matlab.engine.start_matlab()"
   ]
  },
  {
   "cell_type": "code",
   "execution_count": null,
   "metadata": {},
   "outputs": [],
   "source": [
    "def CreateTensorCar(P1,P2,bpermute):\n",
    "    res = {}\n",
    "    NP1 = P1.shape[0]\n",
    "    NP2 = P2.shape[0]\n",
    "    if(bpermute):\n",
    "        res['GT'] = np.random.permutation(P2.shape[0])\n",
    "    else:\n",
    "        res['GT'] = np.array(range(P2.shape[0]))\n",
    "    P1 = P1[res['GT'], :]\n",
    "    \n",
    "    nT = NP1 * NP2\n",
    "    \n",
    "    t1 = np.floor(np.random.rand(3, nT) * NP1)\n",
    "    while(True):\n",
    "        probFound=False;\n",
    "        for i in range(3):\n",
    "            ind=(t1[i,:]==t1[(i+1)%3,:])\n",
    "        if(np.sum(ind)!=0):\n",
    "            idxs = np.nonzero(ind)\n",
    "            t1[i][idxs]=np.floor(np.random.rand(1,len(idxs))*NP1);\n",
    "            probFound=True;\n",
    "        if(probFound == False):\n",
    "            break;\n",
    "    \n",
    "    tri1 = Delaunay(P1)\n",
    "    tri2 = Delaunay(P2)\n",
    "    t1 = tri1.simplices\n",
    "    t2 = tri2.simplices\n",
    "    Feature = computeFeature(P1, P2, t1)\n",
    "    \n",
    "    kdt = KDTree(Feature['feat2'], metric='euclidean')\n",
    "    nNN = 2000;\n",
    "    [dist, indices] = kdt.query(Feature['feat1'], k=nNN, return_distance=True)\n",
    "    \n",
    "    dist = np.exp(- (dist / np.mean(dist) ))\n",
    "    \n",
    "    res['Triplets'] = t1\n",
    "    res['NTriplets'] = indices\n",
    "    res['Similarity'] = dist\n",
    "    return res\n",
    "\n",
    "def ComputeAccuracy(X1, GT, NofInliers):\n",
    "    Ccnt = 0\n",
    "    for b in xrange(NofInliers):\n",
    "        if(int(X1[b]) == int(GT[b])):\n",
    "            Ccnt += 1\n",
    "    res = Ccnt * 1.0 / GT.shape[0]\n",
    "    return res\n",
    "def IndicesToVec(indices, NofNodes, NofStates):\n",
    "    res = VecInt(NofNodes)\n",
    "    res[2] = indices % NofStates\n",
    "    indices /= NofStates\n",
    "    res[1] = indices % NofStates\n",
    "    indices /= NofStates\n",
    "    res[0] = indices\n",
    "    return res\n",
    "\n",
    "def computeFeature(P1, P2, T1 ):\n",
    "    res = {}\n",
    "    F1 = np.zeros([T1.shape[1], 3])\n",
    "    NP2 = P2.shape[0]\n",
    "    F2 = np.zeros([NP2 * NP2 * NP2, 3])\n",
    "    for i in xrange(T1.shape[1]):\n",
    "        F1[i] = computeFeatureSimple(P1, T1[:,i])\n",
    "    Fcnt = 0\n",
    "    for i in xrange(NP2):\n",
    "        for j in xrange(NP2):\n",
    "            for k in xrange(NP2):\n",
    "                F2[Fcnt] = computeFeatureSimple(P2, [i,j,k])\n",
    "                Fcnt = Fcnt + 1\n",
    "    res['feat1'] = F1\n",
    "    res['feat2'] = F2\n",
    "    \n",
    "    return res\n",
    "\n",
    "def RunCar(CarData, idx, NofOus):\n",
    "    car1 = CarData[idx]\n",
    "    LocalFeature1 = car1['features1']\n",
    "    LocalFeature2 = car1['features2']\n",
    "    PT1 = LocalFeature1[:,0:2]\n",
    "    PT2 = LocalFeature2[:,0:2]\n",
    "    orientation1 = LocalFeature1[:,8]\n",
    "    orientation2 = LocalFeature2[:,8]\n",
    "    GT=car1['gTruth'][0]\n",
    "    NofInliers = len(GT)\n",
    "    \n",
    "    NofNodes = NofInliers + NofOus\n",
    "    KP = ComputeFeatureDistance(orientation1[0:NofNodes], orientation2[0:NofNodes])\n",
    "    KTriplets = CreateTensorHouseDelaunay(PT1[0:NofNodes],PT2[0:NofNodes], False)\n",
    "    indH1=np.array(range(NofNodes*NofNodes))\n",
    "    valH1=KP.reshape((NofNodes * NofNodes, 1))\n",
    "    KTriplets['indH1'] = indH1\n",
    "    KTriplets['valH1'] = valH1\n",
    "    \n",
    "            \n",
    "    \n",
    "    sio.savemat('Temp.mat', KTriplets)\n",
    "    \n",
    "    KP = np.exp(-KP)\n",
    "    NofStates = intArray(NofNodes)\n",
    "    for i in xrange(NofNodes):\n",
    "        NofStates[i] = NofNodes\n",
    "    G = CFactorGraph(NofNodes, NofStates)\n",
    "    bi = doubleArray(NofNodes)\n",
    "    for ni in range(NofNodes):\n",
    "        for xi in range(NofNodes):\n",
    "            bi[xi] = float(KP[ni][xi]) \n",
    "    G.AddNodeBelief(ni, bi)\n",
    "    for i in xrange(KTriplets['Triplets'].shape[0]):\n",
    "        T = KTriplets['Triplets'][i]\n",
    "        T1 = VecInt(3)\n",
    "        T1[0] = int(T[0])\n",
    "        T1[1] = int(T[1])\n",
    "        T1[2] = int(T[2])\n",
    "        NNZIs = KTriplets['NTriplets']\n",
    "        NNZVs = KTriplets['Similarity'][i]\n",
    "        NNZIVecs = VecVecInt(NNZIs.shape[0])\n",
    "        NNZVVecs = doubleArray(NNZIs.shape[0])\n",
    "        for xi in xrange(NNZIs.shape[0]):\n",
    "            cNTriplets = VecInt(3)\n",
    "            cNTriplets[0] = int(NNZIs[xi][0])\n",
    "            cNTriplets[1] = int(NNZIs[xi][1])\n",
    "            cNTriplets[2] = int(NNZIs[xi][2])\n",
    "            #cNTriplets = IndicesToVec(NNZIs[xi], 3, NofNodes)\n",
    "            NNZIVecs[xi] = cNTriplets\n",
    "            NNZVVecs[xi] = NNZVs[xi]\n",
    "        G.AddGenericGenericSparseFactor(T1, NNZIVecs, NNZVVecs)\n",
    "    G.SetVerbose(True)\n",
    "    #G.Solve(1000)\n",
    "    G.AddAuctionFactor()\n",
    "    G.Solve(10000)\n",
    "    G.SetVerbose(False)\n",
    "    res1 = BaBSolver(G, 50, 1000, 0.005, False)\n",
    "    resBag = eng.runBcagm(nargout=3)\n",
    "    resBagMP = eng.runBcagmQuad1(1,nargout=3)\n",
    "    resBagIPFP = eng.runBcagmQuad1(2,nargout=3)\n",
    "    resHGM = eng.runHGM(nargout=3)\n",
    "    resRRWHM = eng.runRRWHM(nargout=3)\n",
    "    resTM = eng.runTensorMatching(nargout=3)\n",
    "    \n",
    "    res = {};\n",
    "    res[0] = res1\n",
    "    res[1] = resBag\n",
    "    res[2] = resBagMP\n",
    "    res[3] = resBagIPFP\n",
    "    res[4] = resHGM\n",
    "    res[5] = resRRWHM\n",
    "    res[6] = resTM\n",
    "    res['GT'] = KTriplets['GT']\n",
    "    res['NofInliers'] = NofInliers\n",
    "    return res"
   ]
  },
  {
   "cell_type": "code",
   "execution_count": null,
   "metadata": {},
   "outputs": [],
   "source": [
    "\n",
    "CarData = LoadCar()\n",
    "\n",
    "NofAlgorithms = 7\n",
    "AlgorithmNames=['Ours', 'BCA', 'BCA-MP', 'BCA-IPFP', 'HGM', 'RRWHM', 'TM']\n",
    "\n",
    "NofPairs = 5\n",
    "NofOusMax = 3\n",
    "\n",
    "MeanAcc = np.zeros([NofOusMax,NofAlgorithms])\n",
    "MeanRtime = np.zeros([NofOusMax, NofAlgorithms])\n",
    "MeanObj = np.zeros([NofOusMax, NofAlgorithms])\n",
    "\n",
    "for NofOus in xrange(1):\n",
    "    \n",
    "    Accuracy = np.zeros([NofAlgorithms, NofPairs])\n",
    "    Rtime = np.zeros([NofAlgorithms, NofPairs])\n",
    "    Obj = np.zeros([NofAlgorithms, NofPairs])\n",
    "    \n",
    "    for ImageI in xrange(2, 1 + NofPairs):\n",
    "        res = RunCar(CarData, ImageI, NofOus)\n",
    "        Accuracy[0][ImageI-1] = ComputeAccuracy(res[0].Decode, res['GT'], res['NofInliers'])\n",
    "        Rtime[0][ImageI-1] = res[0].Time\n",
    "        Obj[0][ImageI-1] = res[0].Value\n",
    "        \n",
    "        for AlgoI in xrange(1, NofAlgorithms):\n",
    "            Accuracy[AlgoI][ImageI-1] = ComputeAccuracy(res[AlgoI][1][0], res['GT'], res['NofInliers'])\n",
    "            Rtime[AlgoI][ImageI-1] = res[AlgoI][0]\n",
    "            Obj[AlgoI][ImageI-1] = res[AlgoI][2]/6\n",
    "        \n",
    "        #MaxObj = np.max(Obj[:,ImageI-1])\n",
    "        #Obj[:,ImageI-1] /= MaxObj\n",
    "\n",
    "        for ai in xrange(NofAlgorithms):\n",
    "            print('%s Accuracy %f Running Time %f Obj %f' %(AlgorithmNames[ai], \n",
    "                                                             Accuracy[ai][ImageI-1],\n",
    "                                                            Rtime[ai][ImageI-1],\n",
    "                                                            Obj[ai][ImageI-1]))\n",
    "        print('Finished Frame: %d' %ImageI)\n",
    "    \n",
    "    for ai in xrange(NofAlgorithms):\n",
    "        MeanAcc[NofOus][ai] = np.mean(Accuracy[ai])\n",
    "        MeanRtime[NofOus][ai] = np.mean(Rtime[ai])\n",
    "        MeanObj[NofOus][ai] = np.mean(Obj[ai])\n",
    "        print('%s Accuracy %f Running Time %f Obj %f' %(AlgorithmNames[ai], \n",
    "                                                        np.mean(Accuracy[ai]),\n",
    "                                                        np.mean(Rtime[ai]),\n",
    "                                                        np.mean(Obj[ai])))\n",
    "                         \n",
    "\n"
   ]
  },
  {
   "cell_type": "code",
   "execution_count": null,
   "metadata": {},
   "outputs": [],
   "source": [
    "res = RunCar(CarData, 1, 10)\n"
   ]
  },
  {
   "cell_type": "code",
   "execution_count": null,
   "metadata": {},
   "outputs": [],
   "source": [
    "res"
   ]
  },
  {
   "cell_type": "code",
   "execution_count": null,
   "metadata": {},
   "outputs": [],
   "source": [
    "np.reshape.__doc__\n"
   ]
  },
  {
   "cell_type": "code",
   "execution_count": null,
   "metadata": {},
   "outputs": [],
   "source": [
    "\n",
    "range(100)"
   ]
  },
  {
   "cell_type": "code",
   "execution_count": null,
   "metadata": {},
   "outputs": [],
   "source": [
    "\n"
   ]
  },
  {
   "cell_type": "code",
   "execution_count": null,
   "metadata": {},
   "outputs": [],
   "source": []
  },
  {
   "cell_type": "code",
   "execution_count": null,
   "metadata": {},
   "outputs": [],
   "source": [
    "G.SetVerbose(True)\n",
    "G.AddAuctionFactor()\n",
    "G.Solve(1000)"
   ]
  },
  {
   "cell_type": "code",
   "execution_count": null,
   "metadata": {},
   "outputs": [],
   "source": [
    "print(G.GetDecode())"
   ]
  },
  {
   "cell_type": "code",
   "execution_count": null,
   "metadata": {},
   "outputs": [],
   "source": [
    "print(KTriplets['GT'])"
   ]
  },
  {
   "cell_type": "code",
   "execution_count": null,
   "metadata": {},
   "outputs": [],
   "source": [
    "KTriplets['NTriplets'].shape"
   ]
  },
  {
   "cell_type": "code",
   "execution_count": null,
   "metadata": {},
   "outputs": [],
   "source": [
    "KTriplets['Triplets'].shape"
   ]
  },
  {
   "cell_type": "code",
   "execution_count": null,
   "metadata": {},
   "outputs": [],
   "source": [
    "print(PT1[0:NofInliers,:])\n"
   ]
  },
  {
   "cell_type": "code",
   "execution_count": null,
   "metadata": {},
   "outputs": [],
   "source": [
    "print(PT2[0:NofInliers,:])\n",
    "\n",
    "t2 = Delaunay(PT2[0:NofInliers,:])\n",
    "t2.simplices"
   ]
  },
  {
   "cell_type": "code",
   "execution_count": null,
   "metadata": {},
   "outputs": [],
   "source": [
    "28 * 6"
   ]
  },
  {
   "cell_type": "code",
   "execution_count": null,
   "metadata": {},
   "outputs": [],
   "source": []
  }
 ],
 "metadata": {
  "anaconda-cloud": {},
  "kernelspec": {
   "display_name": "Python [conda root]",
   "language": "python",
   "name": "conda-root-py"
  },
  "language_info": {
   "codemirror_mode": {
    "name": "ipython",
    "version": 2
   },
   "file_extension": ".py",
   "mimetype": "text/x-python",
   "name": "python",
   "nbconvert_exporter": "python",
   "pygments_lexer": "ipython2"
  }
 },
 "nbformat": 4,
 "nbformat_minor": 1
}
