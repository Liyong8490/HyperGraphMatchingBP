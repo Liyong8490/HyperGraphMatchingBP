{
 "cells": [
  {
   "cell_type": "code",
   "execution_count": null,
   "metadata": {
    "autoscroll": "json-false",
    "ein.tags": [
     "worksheet-0"
    ],
    "slideshow": {
     "slide_type": "-"
    }
   },
   "outputs": [],
   "source": [
    "import matlab.engine\n",
    "eng = matlab.engine.start_matlab()"
   ]
  },
  {
   "cell_type": "code",
   "execution_count": null,
   "metadata": {
    "autoscroll": "json-false",
    "ein.tags": [
     "worksheet-0"
    ],
    "slideshow": {
     "slide_type": "-"
    }
   },
   "outputs": [],
   "source": [
    "#import matlab.engine\n",
    "import numpy as np;\n",
    "from sklearn.neighbors import KDTree\n",
    "import FactorBP as FB\n",
    "from scipy.spatial import Delaunay\n",
    "import scipy.io as sio\n",
    "from Utils import *\n",
    "import time\n",
    "import drawMatches as dm\n",
    "import cPickle as pickle\n",
    "from IPython.display import clear_output\n",
    "\n",
    "\n",
    "%matplotlib inline\n",
    "\n",
    "\n",
    "def ComputeAccuracyPas(decode, gTruth, NofInliers ):\n",
    "    Ccnt = 0\n",
    "    for i in range(len(gTruth)):\n",
    "        if((decode[i] == gTruth[i]) and (gTruth[i] < NofInliers)):\n",
    "            Ccnt += 1\n",
    "    return 1.0 * Ccnt / NofInliers\n",
    "# eng = matlab.engine.start_matlab()\n",
    "CarData = LoadCar()\n",
    "\n",
    "NofAlgorithms = 10\n",
    "AlgorithmNames=['Ours', 'BCA', 'BCA-MP', 'BCA-IPFP', 'HGM', 'RRWHM', 'TM', 'OursPW', 'Ours-BCA', 'FGM']\n",
    "MaxNofOus = 20\n",
    "MeanAcc = np.zeros([MaxNofOus + 1, NofAlgorithms ])\n",
    "MeanRtime = np.zeros([MaxNofOus + 1, NofAlgorithms])\n",
    "MeanObj = np.zeros([MaxNofOus + 1, NofAlgorithms])\n",
    "\n",
    "theta = np.pi / 4\n",
    "P = np.array([[np.cos(theta), -np.sin(theta)], [np.sin(theta), np.cos(theta)]])\n",
    "\n",
    "np.random.seed(123456)\n",
    "NofInstances = 30\n",
    "reload(dm)\n",
    "\n",
    "for NofOus in range(20,20+1):\n",
    "    Accuracy = np.zeros([NofAlgorithms, NofInstances])\n",
    "    Rtime = np.zeros([NofAlgorithms, NofInstances])\n",
    "    Obj = np.zeros([NofAlgorithms, NofInstances])\n",
    "    for idx in range(1, NofInstances + 1):\n",
    "        \n",
    "        car1 = CarData[idx]\n",
    "        LocalFeature1 = car1['features1']\n",
    "        LocalFeature2 = car1['features2']\n",
    "        \n",
    "        PT1 = LocalFeature1[:, 0:2]\n",
    "        PT2 = LocalFeature2[:, 0:2]\n",
    "        PT3 = PT2.dot(P)\n",
    "        PT2 = PT3\n",
    "        \n",
    "        \n",
    "        orientation1 = LocalFeature1[:, 8]\n",
    "        orientation2 = LocalFeature2[:, 8]\n",
    "        \n",
    "        GT = car1['gTruth'][0]\n",
    "        \n",
    "        NofInliers = len(GT)\n",
    "        CMaxNofOus = np.min([LocalFeature1.shape[0], LocalFeature2.shape[0]]) - NofInliers\n",
    "        CNofOus = NofOus\n",
    "        if(CNofOus > CMaxNofOus):\n",
    "            CNofOus = CMaxNofOus\n",
    "        NofNodes = CNofOus + NofInliers\n",
    "        gTruth = np.random.permutation(NofNodes)\n",
    "        PT1 = PT1[gTruth, :]\n",
    "        orientation1 = orientation1[gTruth]\n",
    "        MG1 = FB.MatchingGraph(PT1[0:NofNodes], orientation1[0:NofNodes])\n",
    "        MG2 = FB.MatchingGraph(4 * PT2[0:NofNodes], orientation2[0:NofNodes])\n",
    "\n",
    "        \n",
    "        G,MFname = FB.ConstructMatchingModel(MG1, MG2, 'pas', True, False)\n",
    "        G2,MFname1 = FB.ConstructMatchingModel(MG1, MG2, 'pas', False)\n",
    "        Gvis,MFname = FB.ConstructMatchingModel(MG1, MG2, 'pas', True, False)\n",
    "        \n",
    "        \n",
    "\n",
    "        \n",
    "        \n",
    "        \n",
    "        G.SetVerbose(False)\n",
    "        \n",
    "        res1 = FB.BaBSolver(G, 120, 10, 0.005, False)\n",
    "        res2 = FB.BaBSolver(G2, 600, 5, 0.005, False)\n",
    "\n",
    "        resFGM = eng.runFGM(MFname1,nargout=3)\n",
    "        resBag = eng.runBcagm(MFname,nargout=3)\n",
    "        resBagMP = eng.runBcagmQuad1(MFname,1,nargout=3)\n",
    "        resBagIPFP = eng.runBcagmQuad1(MFname, 2,nargout=3)\n",
    "        resHGM = eng.runHGM(MFname,nargout=3)\n",
    "        resRRWHM = eng.runRRWHM(MFname,nargout=3)\n",
    "        resTM = eng.runTensorMatching(MFname,nargout=3)\n",
    "        \n",
    "        print(resFGM)\n",
    "        \n",
    "        start_time = time.time()\n",
    "        ResForBca = sio.loadmat(MFname)\n",
    "        X0 = np.zeros(NofNodes)\n",
    "        X0Vec = res1.Decode\n",
    "        for i in xrange(NofNodes):\n",
    "            X0[i] = X0Vec[i]\n",
    "        ResForBca['X0'] = X0\n",
    "        sio.savemat(MFname, ResForBca)\n",
    "        resOursBCA = eng.runBcagm(MFname, nargout=3)\n",
    "        time_dur = time.time() - start_time\n",
    "        \n",
    "        \n",
    "        \n",
    "        ImageI = idx - 1\n",
    "        cDecode = FB.intArray(NofNodes)\n",
    "            \n",
    "        for i in range(NofNodes):\n",
    "            cDecode[i] = int(resOursBCA[1][0][i])\n",
    "        if(res1.Value < Gvis.ComputeObj(cDecode)):\n",
    "            Accuracy[8][ImageI] = ComputeAccuracyPas(resOursBCA[1][0], gTruth, NofInliers)\n",
    "            Obj[8][ImageI] = Gvis.ComputeObj(cDecode)\n",
    "        else:\n",
    "            Accuracy[8][ImageI] = ComputeAccuracyPas(res1.Decode, gTruth, NofInliers)\n",
    "            Obj[8][ImageI] = res1.Value\n",
    "\n",
    "\n",
    "        PT2 = LocalFeature2[:, 0:2]\n",
    "\n",
    "\n",
    "        Rtime[8][ImageI] = time_dur + res1.Time\n",
    "        clear_output()\n",
    "        print(resOursBCA[1][0])\n",
    "        reload(dm)\n",
    "        Fname = 'Res/Motor%d_Nous%d_Ours.pdf' % (idx, NofOus)\n",
    "        dm.drawMatchesWithOutlier(car1['I1'],car1['I2'],PT1[0:NofNodes],PT2[0:NofNodes],res1.Decode, gTruth, NofInliers, Fname)\n",
    "        \n",
    "        Fname = 'Res/Motor%d_Nous%d_OursBca.pdf' % (idx, NofOus)\n",
    "        dm.drawMatchesWithOutlier(car1['I1'],car1['I2'],PT1[0:NofNodes],PT2[0:NofNodes],np.array(resOursBCA[1][0]), gTruth, NofInliers, Fname)\n",
    "\n",
    "\n",
    "        \n",
    "        Fname = 'Res/Motor%d_Nous%d_Bca.pdf' % (idx, NofOus)\n",
    "        dm.drawMatchesWithOutlier(car1['I1'],car1['I2'],PT1[0:NofNodes],PT2[0:NofNodes],np.array(resBag[1][0]), gTruth, NofInliers, Fname)\n",
    "\n",
    "        Fname = 'Res/Motor%d_Nous%d_BcaIPFP.pdf' % (idx, NofOus)\n",
    "        dm.drawMatchesWithOutlier(car1['I1'],car1['I2'],PT1[0:NofNodes],PT2[0:NofNodes],np.array(resBagIPFP[1][0]), gTruth, NofInliers, Fname)\n",
    "\n",
    "        Fname = 'Res/Motor%d_Nous%d_BcaMP.pdf' % (idx, NofOus)\n",
    "        dm.drawMatchesWithOutlier(car1['I1'],car1['I2'],PT1[0:NofNodes],PT2[0:NofNodes],np.array(resBagMP[1][0]), gTruth, NofInliers, Fname)\n",
    "\n",
    "        Fname = 'Res/Motor%d_Nous%d_RRWHM.pdf' % (idx, NofOus)\n",
    "        dm.drawMatchesWithOutlier(car1['I1'],car1['I2'],PT1[0:NofNodes],PT2[0:NofNodes],np.array(resRRWHM[1][0]), gTruth, NofInliers, Fname)\n",
    "\n",
    "        Fname = 'Res/Motor%d_Nous%d_PW.pdf' % (idx, NofOus)\n",
    "        dm.drawMatchesWithOutlier(car1['I1'],car1['I2'],PT1[0:NofNodes],PT2[0:NofNodes],res2.Decode, gTruth, NofInliers, Fname)\n",
    "        \n",
    "        Fname = 'Res/Motor%d_Nous%d_OursBca.pdf' % (idx, NofOus)\n",
    "        dm.drawMatchesWithOutlier(car1['I1'],car1['I2'],PT1[0:NofNodes],PT2[0:NofNodes],np.array(resOursBCA[1][0]), gTruth, NofInliers, Fname)\n",
    "\n",
    "        Fname = 'Res/Motor%d_Nous%d_FGM.pdf' % (idx, NofOus)\n",
    "        dm.drawMatchesWithOutlier(car1['I1'],car1['I2'],PT1[0:NofNodes],PT2[0:NofNodes],np.array(resFGM[1][0]), gTruth, NofInliers, Fname)\n",
    "\n",
    "\n",
    "        \n",
    "        #print(res1.Decode)\n",
    "        #print(gTruth)\n",
    "        ImageI = idx - 1\n",
    "        Accuracy[0][ImageI] = ComputeAccuracyPas(res1.Decode, gTruth, NofInliers)\n",
    "        Rtime[0][ImageI] = res1.Time\n",
    "        Obj[0][ImageI] = res1.Value\n",
    "        \n",
    "        Accuracy[7][ImageI] = ComputeAccuracyPas(res2.Decode, gTruth, NofInliers)\n",
    "        Rtime[7][ImageI] = res2.Time\n",
    "        Obj[7][ImageI] = res2.Value\n",
    "\n",
    "        Accuracy[1][ImageI] = ComputeAccuracyPas(resBag[1][0], gTruth, NofInliers)\n",
    "        Rtime[1][ImageI] = resBag[0]\n",
    "        cDecode = FB.intArray(NofNodes)\n",
    "        for i in range(NofNodes):\n",
    "            cDecode[i] = int(resBag[1][0][i])\n",
    "        Obj[1][ImageI] = Gvis.ComputeObj(cDecode)\n",
    "\n",
    "        Accuracy[2][ImageI] = ComputeAccuracyPas(resBagMP[1][0], gTruth, NofInliers)\n",
    "        Rtime[2][ImageI] = resBagMP[0]\n",
    "        for i in range(NofNodes):\n",
    "            cDecode[i] = int(resBagMP[1][0][i])\n",
    "        Obj[2][ImageI] = Gvis.ComputeObj(cDecode)\n",
    "        \n",
    "        Accuracy[3][ImageI] = ComputeAccuracyPas(resBagIPFP[1][0], gTruth, NofInliers)\n",
    "        Rtime[3][ImageI] = resBagIPFP[0]\n",
    "        for i in range(NofNodes):\n",
    "            cDecode[i] = int(resBagIPFP[1][0][i])\n",
    "        Obj[3][ImageI] = Gvis.ComputeObj(cDecode)\n",
    "        \n",
    "        \n",
    "        Accuracy[4][ImageI] = ComputeAccuracyPas(resHGM[1][0], gTruth, NofInliers)\n",
    "        Rtime[4][ImageI] = resHGM[0]\n",
    "        for i in range(NofNodes):\n",
    "            cDecode[i] = int(resHGM[1][0][i])\n",
    "        Obj[4][ImageI] = Gvis.ComputeObj(cDecode)\n",
    "        \n",
    "        \n",
    "        Accuracy[5][ImageI] = ComputeAccuracyPas(resRRWHM[1][0], gTruth, NofInliers)\n",
    "        Rtime[5][ImageI] = resRRWHM[0]\n",
    "        for i in range(NofNodes):\n",
    "            cDecode[i] = int(resRRWHM[1][0][i])\n",
    "        Obj[5][ImageI] = Gvis.ComputeObj(cDecode)\n",
    "\n",
    "        Accuracy[6][ImageI] = ComputeAccuracyPas(resTM[1][0], gTruth, NofInliers)\n",
    "        Rtime[6][ImageI] = resTM[0]\n",
    "        for i in range(NofNodes):\n",
    "            cDecode[i] = int(resTM[1][0][i])\n",
    "        Obj[6][ImageI] = Gvis.ComputeObj(cDecode)\n",
    "        \n",
    "        \n",
    "        Accuracy[9][ImageI] = ComputeAccuracyPas(resFGM[1][0], gTruth, NofInliers)\n",
    "        Rtime[9][ImageI] = resFGM[0]\n",
    "        Obj[9][ImageI] = resFGM[2]\n",
    "\n",
    "        MaxObj = np.max(Obj[:,ImageI])\n",
    "        #Obj[:,ImageI] /= MaxObj\n",
    "       \n",
    "        \n",
    "\n",
    "        for ai in xrange(NofAlgorithms):\n",
    "            print('%s Accuracy %f Running Time %f Obj %f' %(AlgorithmNames[ai], \n",
    "                                                             Accuracy[ai][ImageI],\n",
    "                                                            Rtime[ai][ImageI],\n",
    "                                                            Obj[ai][ImageI]))\n",
    "        print('NofOus %d, Finished Frame: %d' % (NofOus,ImageI) )\n",
    "    FnameSave = 'CarRes_Nous_%d.pkl' % NofOus\n",
    "    f = open(FnameSave, \"w\")\n",
    "    pickle.dump(Accuracy, f)\n",
    "    pickle.dump(Obj, f)\n",
    "    pickle.dump(Rtime, f)\n",
    "    f.close()\n",
    "\n",
    "\n",
    "\n",
    "\n",
    "\n",
    "\n",
    "    #Todo Ours-BCA\n",
    "    ##### Max Objs exclude Pairwise methods\n",
    "    for ni in range(Obj.shape[1]):\n",
    "        maxObj = -1e20\n",
    "        for m in range(Obj.shape[0]):\n",
    "            if(m == 9 or m == 7):\n",
    "                continue\n",
    "            if(maxObj < Obj[m][ni]):\n",
    "                maxObj = Obj[m][ni]\n",
    "        Obj[:,ni] /= maxObj\n",
    "    \n",
    "    for ai in xrange(NofAlgorithms):\n",
    "        MeanAcc[NofOus][ai] = np.mean(Accuracy[ai])\n",
    "        MeanRtime[NofOus][ai] = np.mean(Rtime[ai])\n",
    "        MeanObj[NofOus][ai] = np.mean(Obj[ai])\n",
    "        print('%s Accuracy %f Running Time %f Obj %f' %(AlgorithmNames[ai], \n",
    "                                                        np.mean(Accuracy[ai]),\n",
    "                                                        np.mean(Rtime[ai]),\n",
    "                                                        np.mean(Obj[ai])))\n",
    "        #G2.SetVerbose(False)\n",
    "        #G1.Solve(400)\n",
    "        #G2.Solve(400)\n",
    "        #Accurancy[idx - 1] = ComputeAccuracyPas(G1.GetDecode(), gTruth, NofInliers)\n",
    "\n",
    "        #print('%d %f %f' % (idx, ComputeAccuracyPas(G1.GetDecode(), gTruth, NofInliers),\n",
    "        #                    ComputeAccuracyPas(G2.GetDecode(), gTruth, NofInliers)))\n",
    "        #print(res.Time)\n",
    "        #print(res.Value)\n",
    "\n",
    "        #AccurancyPW[idx - 1] = ComputeAccuracyPas(G2.GetDecode(), gTruth, NofInliers)\n",
    "\n",
    "        #print(ComputeAccuracyPas(resPW.Decode, NofInliers))\n",
    "        #print(resPW.Time)\n",
    "        #print(resPW.Value)\n",
    "    #print('HyperAccurancy %f, PairwiseAccurancy %f' % (Accurancy.mean(), AccurancyPW.mean()))\n",
    "    "
   ]
  },
  {
   "cell_type": "code",
   "execution_count": null,
   "metadata": {
    "autoscroll": "json-false",
    "ein.tags": [
     "worksheet-0"
    ],
    "slideshow": {
     "slide_type": "-"
    }
   },
   "outputs": [],
   "source": [
    "print(eng.runFGM(MFname,nargout=3))\n",
    "print(MFname)"
   ]
  },
  {
   "cell_type": "code",
   "execution_count": null,
   "metadata": {
    "autoscroll": "json-false",
    "ein.tags": [
     "worksheet-0"
    ],
    "slideshow": {
     "slide_type": "-"
    }
   },
   "outputs": [],
   "source": [
    "\n",
    "\n",
    "\n",
    "plt.figure(num=None, figsize=(4, 3), dpi=80, facecolor='w', edgecolor='k')\n",
    "\n",
    "\n",
    "for ai in xrange(NofAlgorithms):\n",
    "    if(AlgorithmNames[Seq[ai]] == 'OursPW'):\n",
    "        continue\n",
    "    if(AlgorithmNames[Seq[ai]] == 'FGM'):\n",
    "        continue\n",
    "    plt.plot(range(0,MaxNofOus+1), MeanObj[0:(MaxNofOus+1),Seq[ai]], label=AlgorithmNames[Seq[ai]], \n",
    "             color=Colors[Seq[ai]], marker=Markers[Seq[ai]])\n",
    "plt.ylim([0.25,1.02])\n",
    "plt.ylabel('Obj. Value')\n",
    "plt.xlabel('#Outliers')\n",
    "plt.grid(True)\n",
    "plt.savefig('Car_Obj.pdf')    # <-- loses transparency"
   ]
  },
  {
   "cell_type": "code",
   "execution_count": null,
   "metadata": {
    "autoscroll": "json-false",
    "ein.tags": [
     "worksheet-0"
    ],
    "slideshow": {
     "slide_type": "-"
    }
   },
   "outputs": [],
   "source": [
    "import matplotlib.pyplot as plt\n",
    "import matplotlib\n",
    "import pylab\n",
    "%matplotlib inline\n",
    "\n",
    "\n",
    "Colors = [[ 0.        ,  0.5        , 0.5        ,  1.        ],\n",
    "          [ 1.        ,  0.00196078,  1.        ,  1.        ],\n",
    "          [ 0.        ,  0.50392157,  1.        ,  1.        ],\n",
    "          [ 0.08538899,  1.        ,  0.88235294,  1.        ],\n",
    "          [ 0.49019608,  1.        ,  0.47754586,  1.        ],\n",
    "          [ 0.5       ,  1.        ,  0.17273877,  1.        ],\n",
    "          [ 1.        ,  0.58169935,  0.        ,  1.        ],\n",
    "          [ 1.        ,  0.11692084,  0.        ,  1.        ],\n",
    "          [ 1.        ,  0.        ,  1.        ,  1.        ],\n",
    "          [ 0.1,  0.9, 0.1, 1]\n",
    "         ];\n",
    "Seq = [0, 7, 1, 2, 3, 4, 5, 6, 8, 9]\n",
    "AlgorithmNames=['Ours', 'BCA', 'BCA-MP', 'BCA-IPFP', 'HGM', 'RRWHM', 'TM', 'OursPW', 'Ours-BCA', 'FGM']\n",
    "Markers = ['o', '+', 'v', '+', 'x', 'd', 'h', 'D', 'H', 'v']\n",
    "\n",
    "figData = pylab.figure(num=None, figsize=(4, 3), dpi=80, facecolor='w', edgecolor='k')\n",
    "ax = pylab.gca()\n",
    "\n",
    "matplotlib.rc('font',family='Times New Roman')\n",
    "MaxNofOus=20\n",
    "\n",
    "#plt.figure(num=None, figsize=(4, 3), dpi=80, facecolor='w', edgecolor='k')\n",
    "\n",
    "for ai in xrange(NofAlgorithms):\n",
    "    pylab.plot(range(0,MaxNofOus+1), MeanAcc[0:(MaxNofOus+1),Seq[ai]], label=AlgorithmNames[Seq[ai]], \n",
    "             color=Colors[Seq[ai]], marker=Markers[Seq[ai]])\n",
    "pylab.ylim([0,0.85])\n",
    "pylab.grid(True)\n",
    "\n",
    "pylab.ylabel('Accuracy')\n",
    "pylab.xlabel('#Outliers')\n",
    "\n",
    "\n",
    "figLegend = pylab.figure(figsize = (11.7,0.4))\n",
    "pylab.figlegend(*ax.get_legend_handles_labels(), loc = 'upper center',  ncol=9, shadow=True, fancybox=True)\n",
    "#figData.savefig('Car_Acc.pdf')\n",
    "figLegend.savefig(\"legend.pdf\")\n",
    "figLegend.show()\n",
    "\n",
    "#plt.legend(shadow=True, fancybox=True,loc='upper center', bbox_to_anchor=(0.5,-0.25), ncol=9)\n",
    "#plt.savefig('House_ACC.pdf')    # <-- loses transparency"
   ]
  },
  {
   "cell_type": "code",
   "execution_count": null,
   "metadata": {
    "autoscroll": "json-false",
    "ein.tags": [
     "worksheet-0"
    ],
    "slideshow": {
     "slide_type": "-"
    }
   },
   "outputs": [],
   "source": [
    "\n",
    "\n",
    "plt.figure(num=None, figsize=(4, 3), dpi=80, facecolor='w', edgecolor='k')\n",
    "\n",
    "\n",
    "for ai in xrange(NofAlgorithms):\n",
    "    plt.plot(range(0,MaxNofOus+1), MeanRtime[0:(MaxNofOus+1),Seq[ai]], label=AlgorithmNames[Seq[ai]], \n",
    "             color=Colors[Seq[ai]], marker=Markers[Seq[ai]], linewidth=1.25)\n",
    "\n",
    "plt.ylabel('Running Time')\n",
    "plt.xlabel('#Outliers')\n",
    "\n",
    "plt.grid(True)\n",
    "plt.savefig('Car_Time.pdf')    # <-- loses transparency"
   ]
  },
  {
   "cell_type": "code",
   "execution_count": null,
   "metadata": {
    "autoscroll": "json-false",
    "ein.tags": [
     "worksheet-0"
    ],
    "slideshow": {
     "slide_type": "-"
    }
   },
   "outputs": [],
   "source": [
    "import shelve\n",
    "\n",
    "\n",
    "\n",
    "filename='shelve_car.out'\n",
    "my_shelf = shelve.open(filename,'n') # 'n' for new\n",
    "\n",
    "for key in dir():\n",
    "    try:\n",
    "        my_shelf[key] = globals()[key]\n",
    "    except:\n",
    "        #\n",
    "        # __builtins__, my_shelf, and imported modules can not be shelved.\n",
    "        #\n",
    "        print('ERROR shelving: {0}'.format(key))\n",
    "my_shelf.close()"
   ]
  },
  {
   "cell_type": "code",
   "execution_count": null,
   "metadata": {
    "autoscroll": "json-false",
    "ein.tags": [
     "worksheet-0"
    ],
    "slideshow": {
     "slide_type": "-"
    }
   },
   "outputs": [],
   "source": [
    "import cPickle as pickle\n",
    "f = open(\"CarRes\", \"w\")\n",
    "pickle.dump(MeanAcc, f)\n",
    "pickle.dump(MeanObj, f)\n",
    "pickle.dump(MeanRtime, f)\n",
    "f.close()"
   ]
  },
  {
   "cell_type": "code",
   "execution_count": null,
   "metadata": {
    "autoscroll": "json-false",
    "ein.tags": [
     "worksheet-0"
    ],
    "slideshow": {
     "slide_type": "-"
    }
   },
   "outputs": [],
   "source": [
    "MeanAcc[0]"
   ]
  },
  {
   "cell_type": "code",
   "execution_count": null,
   "metadata": {
    "autoscroll": "json-false",
    "ein.tags": [
     "worksheet-0"
    ],
    "slideshow": {
     "slide_type": "-"
    }
   },
   "outputs": [],
   "source": [
    "len(gTruth)"
   ]
  },
  {
   "cell_type": "code",
   "execution_count": null,
   "metadata": {
    "autoscroll": "json-false",
    "ein.tags": [
     "worksheet-0"
    ],
    "slideshow": {
     "slide_type": "-"
    }
   },
   "outputs": [],
   "source": [
    "np.array(resBag[1][0])"
   ]
  },
  {
   "cell_type": "code",
   "execution_count": null,
   "metadata": {
    "autoscroll": "json-false",
    "ein.tags": [
     "worksheet-0"
    ],
    "slideshow": {
     "slide_type": "-"
    }
   },
   "outputs": [],
   "source": [
    "        dm.drawMatchesWithOutlier(car1['I1'],car1['I2'],PT1,PT2[0:NofInliers],np.array(resBag[1][0]), gTruth, NofNodes, Fname)\n",
    "\n"
   ]
  },
  {
   "cell_type": "code",
   "execution_count": null,
   "metadata": {
    "autoscroll": "json-false",
    "ein.tags": [
     "worksheet-0"
    ],
    "slideshow": {
     "slide_type": "-"
    }
   },
   "outputs": [],
   "source": [
    "Obj"
   ]
  },
  {
   "cell_type": "code",
   "execution_count": null,
   "metadata": {
    "autoscroll": "json-false",
    "ein.tags": [
     "worksheet-0"
    ],
    "slideshow": {
     "slide_type": "-"
    }
   },
   "outputs": [],
   "source": [
    "reload(dm)"
   ]
  },
  {
   "cell_type": "code",
   "execution_count": null,
   "metadata": {
    "autoscroll": "json-false",
    "ein.tags": [
     "worksheet-0"
    ],
    "slideshow": {
     "slide_type": "-"
    }
   },
   "outputs": [],
   "source": [
    "MeanAcc[:,0] - MeanAcc[:,9]"
   ]
  },
  {
   "cell_type": "code",
   "execution_count": null,
   "metadata": {
    "autoscroll": "json-false",
    "ein.tags": [
     "worksheet-0"
    ],
    "slideshow": {
     "slide_type": "-"
    }
   },
   "outputs": [],
   "source": []
  }
 ],
 "metadata": {
  "anaconda-cloud": {},
  "kernelspec": {
   "display_name": "Python [conda root]",
   "language": "python",
   "name": "conda-root-py"
  },
  "language_info": {
   "codemirror_mode": {
    "name": "ipython",
    "version": 2
   },
   "file_extension": ".py",
   "mimetype": "text/x-python",
   "name": "python",
   "nbconvert_exporter": "python",
   "pygments_lexer": "ipython2"
  },
  "name": "demoCarHyper.ipynb",
  "nbpresent": {
   "slides": {},
   "themes": {
    "default": "e94bf481-1fb0-41dc-b61f-1e97b58496e4",
    "theme": {}
   }
  }
 },
 "nbformat": 4,
 "nbformat_minor": 1
}
