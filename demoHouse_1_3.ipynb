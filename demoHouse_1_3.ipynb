{
 "cells": [
  {
   "cell_type": "code",
   "execution_count": 1,
   "metadata": {
    "slideshow": {
     "slide_type": "slide"
    }
   },
   "outputs": [],
   "source": [
    "import numpy as np\n",
    "import FactorBP as FB\n",
    "import scipy.io as sio\n",
    "import matlab.engine\n",
    "import time\n",
    "eng = matlab.engine.start_matlab()"
   ]
  },
  {
   "cell_type": "code",
   "execution_count": 4,
   "metadata": {},
   "outputs": [
    {
     "name": "stdout",
     "output_type": "stream",
     "text": [
      " Start baseline: 10\n"
     ]
    },
    {
     "name": "stderr",
     "output_type": "stream",
     "text": [
      "FactorBP/FactorGraph.py:399: DeprecationWarning: PyArray_FromDims: use PyArray_SimpleNew.\n  def GetDecode(self): return _FactorGraph.CFactorGraph_GetDecode(self)\nFactorBP/FactorGraph.py:399: DeprecationWarning: PyArray_FromDimsAndDataAndDescr: use PyArray_NewFromDescr.\n  def GetDecode(self): return _FactorGraph.CFactorGraph_GetDecode(self)\n"
     ]
    },
    {
     "name": "stderr",
     "output_type": "stream",
     "text": [
      "FactorBP/FactorGraph.py:399: DeprecationWarning: PyArray_FromDims: use PyArray_SimpleNew.\n  def GetDecode(self): return _FactorGraph.CFactorGraph_GetDecode(self)\nFactorBP/FactorGraph.py:399: DeprecationWarning: PyArray_FromDimsAndDataAndDescr: use PyArray_NewFromDescr.\n  def GetDecode(self): return _FactorGraph.CFactorGraph_GetDecode(self)\n"
     ]
    },
    {
     "name": "stderr",
     "output_type": "stream",
     "text": [
      "FactorBP/FactorGraph.py:399: DeprecationWarning: PyArray_FromDims: use PyArray_SimpleNew.\n  def GetDecode(self): return _FactorGraph.CFactorGraph_GetDecode(self)\nFactorBP/FactorGraph.py:399: DeprecationWarning: PyArray_FromDimsAndDataAndDescr: use PyArray_NewFromDescr.\n  def GetDecode(self): return _FactorGraph.CFactorGraph_GetDecode(self)\n"
     ]
    },
    {
     "name": "stderr",
     "output_type": "stream",
     "text": [
      "FactorBP/FactorGraph.py:399: DeprecationWarning: PyArray_FromDims: use PyArray_SimpleNew.\n  def GetDecode(self): return _FactorGraph.CFactorGraph_GetDecode(self)\nFactorBP/FactorGraph.py:399: DeprecationWarning: PyArray_FromDimsAndDataAndDescr: use PyArray_NewFromDescr.\n  def GetDecode(self): return _FactorGraph.CFactorGraph_GetDecode(self)\n"
     ]
    },
    {
     "name": "stderr",
     "output_type": "stream",
     "text": [
      "FactorBP/FactorGraph.py:399: DeprecationWarning: PyArray_FromDims: use PyArray_SimpleNew.\n  def GetDecode(self): return _FactorGraph.CFactorGraph_GetDecode(self)\nFactorBP/FactorGraph.py:399: DeprecationWarning: PyArray_FromDimsAndDataAndDescr: use PyArray_NewFromDescr.\n  def GetDecode(self): return _FactorGraph.CFactorGraph_GetDecode(self)\n"
     ]
    },
    {
     "name": "stderr",
     "output_type": "stream",
     "text": [
      "FactorBP/FactorGraph.py:399: DeprecationWarning: PyArray_FromDims: use PyArray_SimpleNew.\n  def GetDecode(self): return _FactorGraph.CFactorGraph_GetDecode(self)\nFactorBP/FactorGraph.py:399: DeprecationWarning: PyArray_FromDimsAndDataAndDescr: use PyArray_NewFromDescr.\n  def GetDecode(self): return _FactorGraph.CFactorGraph_GetDecode(self)\n"
     ]
    },
    {
     "name": "stderr",
     "output_type": "stream",
     "text": [
      "FactorBP/FactorGraph.py:399: DeprecationWarning: PyArray_FromDims: use PyArray_SimpleNew.\n  def GetDecode(self): return _FactorGraph.CFactorGraph_GetDecode(self)\nFactorBP/FactorGraph.py:399: DeprecationWarning: PyArray_FromDimsAndDataAndDescr: use PyArray_NewFromDescr.\n  def GetDecode(self): return _FactorGraph.CFactorGraph_GetDecode(self)\n"
     ]
    },
    {
     "name": "stderr",
     "output_type": "stream",
     "text": [
      "FactorBP/FactorGraph.py:399: DeprecationWarning: PyArray_FromDims: use PyArray_SimpleNew.\n  def GetDecode(self): return _FactorGraph.CFactorGraph_GetDecode(self)\nFactorBP/FactorGraph.py:399: DeprecationWarning: PyArray_FromDimsAndDataAndDescr: use PyArray_NewFromDescr.\n  def GetDecode(self): return _FactorGraph.CFactorGraph_GetDecode(self)\n"
     ]
    },
    {
     "name": "stderr",
     "output_type": "stream",
     "text": [
      "FactorBP/FactorGraph.py:399: DeprecationWarning: PyArray_FromDims: use PyArray_SimpleNew.\n  def GetDecode(self): return _FactorGraph.CFactorGraph_GetDecode(self)\nFactorBP/FactorGraph.py:399: DeprecationWarning: PyArray_FromDimsAndDataAndDescr: use PyArray_NewFromDescr.\n  def GetDecode(self): return _FactorGraph.CFactorGraph_GetDecode(self)\n"
     ]
    },
    {
     "name": "stderr",
     "output_type": "stream",
     "text": [
      "FactorBP/FactorGraph.py:399: DeprecationWarning: PyArray_FromDims: use PyArray_SimpleNew.\n  def GetDecode(self): return _FactorGraph.CFactorGraph_GetDecode(self)\nFactorBP/FactorGraph.py:399: DeprecationWarning: PyArray_FromDimsAndDataAndDescr: use PyArray_NewFromDescr.\n  def GetDecode(self): return _FactorGraph.CFactorGraph_GetDecode(self)\n"
     ]
    },
    {
     "name": "stderr",
     "output_type": "stream",
     "text": [
      "FactorBP/FactorGraph.py:399: DeprecationWarning: PyArray_FromDims: use PyArray_SimpleNew.\n  def GetDecode(self): return _FactorGraph.CFactorGraph_GetDecode(self)\nFactorBP/FactorGraph.py:399: DeprecationWarning: PyArray_FromDimsAndDataAndDescr: use PyArray_NewFromDescr.\n  def GetDecode(self): return _FactorGraph.CFactorGraph_GetDecode(self)\n"
     ]
    },
    {
     "name": "stderr",
     "output_type": "stream",
     "text": [
      "FactorBP/FactorGraph.py:399: DeprecationWarning: PyArray_FromDims: use PyArray_SimpleNew.\n  def GetDecode(self): return _FactorGraph.CFactorGraph_GetDecode(self)\nFactorBP/FactorGraph.py:399: DeprecationWarning: PyArray_FromDimsAndDataAndDescr: use PyArray_NewFromDescr.\n  def GetDecode(self): return _FactorGraph.CFactorGraph_GetDecode(self)\n"
     ]
    },
    {
     "name": "stderr",
     "output_type": "stream",
     "text": [
      "FactorBP/FactorGraph.py:399: DeprecationWarning: PyArray_FromDims: use PyArray_SimpleNew.\n  def GetDecode(self): return _FactorGraph.CFactorGraph_GetDecode(self)\nFactorBP/FactorGraph.py:399: DeprecationWarning: PyArray_FromDimsAndDataAndDescr: use PyArray_NewFromDescr.\n  def GetDecode(self): return _FactorGraph.CFactorGraph_GetDecode(self)\n"
     ]
    },
    {
     "name": "stderr",
     "output_type": "stream",
     "text": [
      "FactorBP/FactorGraph.py:399: DeprecationWarning: PyArray_FromDims: use PyArray_SimpleNew.\n  def GetDecode(self): return _FactorGraph.CFactorGraph_GetDecode(self)\nFactorBP/FactorGraph.py:399: DeprecationWarning: PyArray_FromDimsAndDataAndDescr: use PyArray_NewFromDescr.\n  def GetDecode(self): return _FactorGraph.CFactorGraph_GetDecode(self)\n"
     ]
    },
    {
     "name": "stderr",
     "output_type": "stream",
     "text": [
      "FactorBP/FactorGraph.py:399: DeprecationWarning: PyArray_FromDims: use PyArray_SimpleNew.\n  def GetDecode(self): return _FactorGraph.CFactorGraph_GetDecode(self)\nFactorBP/FactorGraph.py:399: DeprecationWarning: PyArray_FromDimsAndDataAndDescr: use PyArray_NewFromDescr.\n  def GetDecode(self): return _FactorGraph.CFactorGraph_GetDecode(self)\n"
     ]
    },
    {
     "name": "stderr",
     "output_type": "stream",
     "text": [
      "FactorBP/FactorGraph.py:399: DeprecationWarning: PyArray_FromDims: use PyArray_SimpleNew.\n  def GetDecode(self): return _FactorGraph.CFactorGraph_GetDecode(self)\nFactorBP/FactorGraph.py:399: DeprecationWarning: PyArray_FromDimsAndDataAndDescr: use PyArray_NewFromDescr.\n  def GetDecode(self): return _FactorGraph.CFactorGraph_GetDecode(self)\n"
     ]
    },
    {
     "name": "stderr",
     "output_type": "stream",
     "text": [
      "FactorBP/FactorGraph.py:399: DeprecationWarning: PyArray_FromDims: use PyArray_SimpleNew.\n  def GetDecode(self): return _FactorGraph.CFactorGraph_GetDecode(self)\nFactorBP/FactorGraph.py:399: DeprecationWarning: PyArray_FromDimsAndDataAndDescr: use PyArray_NewFromDescr.\n  def GetDecode(self): return _FactorGraph.CFactorGraph_GetDecode(self)\n"
     ]
    },
    {
     "name": "stderr",
     "output_type": "stream",
     "text": [
      "FactorBP/FactorGraph.py:399: DeprecationWarning: PyArray_FromDims: use PyArray_SimpleNew.\n  def GetDecode(self): return _FactorGraph.CFactorGraph_GetDecode(self)\nFactorBP/FactorGraph.py:399: DeprecationWarning: PyArray_FromDimsAndDataAndDescr: use PyArray_NewFromDescr.\n  def GetDecode(self): return _FactorGraph.CFactorGraph_GetDecode(self)\n"
     ]
    },
    {
     "name": "stderr",
     "output_type": "stream",
     "text": [
      "FactorBP/FactorGraph.py:399: DeprecationWarning: PyArray_FromDims: use PyArray_SimpleNew.\n  def GetDecode(self): return _FactorGraph.CFactorGraph_GetDecode(self)\nFactorBP/FactorGraph.py:399: DeprecationWarning: PyArray_FromDimsAndDataAndDescr: use PyArray_NewFromDescr.\n  def GetDecode(self): return _FactorGraph.CFactorGraph_GetDecode(self)\n"
     ]
    },
    {
     "name": "stderr",
     "output_type": "stream",
     "text": [
      "FactorBP/FactorGraph.py:399: DeprecationWarning: PyArray_FromDims: use PyArray_SimpleNew.\n  def GetDecode(self): return _FactorGraph.CFactorGraph_GetDecode(self)\nFactorBP/FactorGraph.py:399: DeprecationWarning: PyArray_FromDimsAndDataAndDescr: use PyArray_NewFromDescr.\n  def GetDecode(self): return _FactorGraph.CFactorGraph_GetDecode(self)\n"
     ]
    },
    {
     "name": "stderr",
     "output_type": "stream",
     "text": [
      "FactorBP/FactorGraph.py:399: DeprecationWarning: PyArray_FromDims: use PyArray_SimpleNew.\n  def GetDecode(self): return _FactorGraph.CFactorGraph_GetDecode(self)\nFactorBP/FactorGraph.py:399: DeprecationWarning: PyArray_FromDimsAndDataAndDescr: use PyArray_NewFromDescr.\n  def GetDecode(self): return _FactorGraph.CFactorGraph_GetDecode(self)\n"
     ]
    },
    {
     "name": "stderr",
     "output_type": "stream",
     "text": [
      "FactorBP/FactorGraph.py:399: DeprecationWarning: PyArray_FromDims: use PyArray_SimpleNew.\n  def GetDecode(self): return _FactorGraph.CFactorGraph_GetDecode(self)\nFactorBP/FactorGraph.py:399: DeprecationWarning: PyArray_FromDimsAndDataAndDescr: use PyArray_NewFromDescr.\n  def GetDecode(self): return _FactorGraph.CFactorGraph_GetDecode(self)\n"
     ]
    },
    {
     "name": "stderr",
     "output_type": "stream",
     "text": [
      "FactorBP/FactorGraph.py:399: DeprecationWarning: PyArray_FromDims: use PyArray_SimpleNew.\n  def GetDecode(self): return _FactorGraph.CFactorGraph_GetDecode(self)\nFactorBP/FactorGraph.py:399: DeprecationWarning: PyArray_FromDimsAndDataAndDescr: use PyArray_NewFromDescr.\n  def GetDecode(self): return _FactorGraph.CFactorGraph_GetDecode(self)\n"
     ]
    },
    {
     "name": "stderr",
     "output_type": "stream",
     "text": [
      "FactorBP/FactorGraph.py:399: DeprecationWarning: PyArray_FromDims: use PyArray_SimpleNew.\n  def GetDecode(self): return _FactorGraph.CFactorGraph_GetDecode(self)\nFactorBP/FactorGraph.py:399: DeprecationWarning: PyArray_FromDimsAndDataAndDescr: use PyArray_NewFromDescr.\n  def GetDecode(self): return _FactorGraph.CFactorGraph_GetDecode(self)\n"
     ]
    },
    {
     "name": "stderr",
     "output_type": "stream",
     "text": [
      "FactorBP/FactorGraph.py:399: DeprecationWarning: PyArray_FromDims: use PyArray_SimpleNew.\n  def GetDecode(self): return _FactorGraph.CFactorGraph_GetDecode(self)\nFactorBP/FactorGraph.py:399: DeprecationWarning: PyArray_FromDimsAndDataAndDescr: use PyArray_NewFromDescr.\n  def GetDecode(self): return _FactorGraph.CFactorGraph_GetDecode(self)\n"
     ]
    },
    {
     "name": "stderr",
     "output_type": "stream",
     "text": [
      "FactorBP/FactorGraph.py:399: DeprecationWarning: PyArray_FromDims: use PyArray_SimpleNew.\n  def GetDecode(self): return _FactorGraph.CFactorGraph_GetDecode(self)\nFactorBP/FactorGraph.py:399: DeprecationWarning: PyArray_FromDimsAndDataAndDescr: use PyArray_NewFromDescr.\n  def GetDecode(self): return _FactorGraph.CFactorGraph_GetDecode(self)\n"
     ]
    },
    {
     "name": "stderr",
     "output_type": "stream",
     "text": [
      "FactorBP/FactorGraph.py:399: DeprecationWarning: PyArray_FromDims: use PyArray_SimpleNew.\n  def GetDecode(self): return _FactorGraph.CFactorGraph_GetDecode(self)\nFactorBP/FactorGraph.py:399: DeprecationWarning: PyArray_FromDimsAndDataAndDescr: use PyArray_NewFromDescr.\n  def GetDecode(self): return _FactorGraph.CFactorGraph_GetDecode(self)\n"
     ]
    },
    {
     "name": "stderr",
     "output_type": "stream",
     "text": [
      "FactorBP/FactorGraph.py:399: DeprecationWarning: PyArray_FromDims: use PyArray_SimpleNew.\n  def GetDecode(self): return _FactorGraph.CFactorGraph_GetDecode(self)\nFactorBP/FactorGraph.py:399: DeprecationWarning: PyArray_FromDimsAndDataAndDescr: use PyArray_NewFromDescr.\n  def GetDecode(self): return _FactorGraph.CFactorGraph_GetDecode(self)\n"
     ]
    },
    {
     "name": "stderr",
     "output_type": "stream",
     "text": [
      "FactorBP/FactorGraph.py:399: DeprecationWarning: PyArray_FromDims: use PyArray_SimpleNew.\n  def GetDecode(self): return _FactorGraph.CFactorGraph_GetDecode(self)\nFactorBP/FactorGraph.py:399: DeprecationWarning: PyArray_FromDimsAndDataAndDescr: use PyArray_NewFromDescr.\n  def GetDecode(self): return _FactorGraph.CFactorGraph_GetDecode(self)\n"
     ]
    },
    {
     "name": "stderr",
     "output_type": "stream",
     "text": [
      "FactorBP/FactorGraph.py:399: DeprecationWarning: PyArray_FromDims: use PyArray_SimpleNew.\n  def GetDecode(self): return _FactorGraph.CFactorGraph_GetDecode(self)\nFactorBP/FactorGraph.py:399: DeprecationWarning: PyArray_FromDimsAndDataAndDescr: use PyArray_NewFromDescr.\n  def GetDecode(self): return _FactorGraph.CFactorGraph_GetDecode(self)\n"
     ]
    },
    {
     "name": "stderr",
     "output_type": "stream",
     "text": [
      "FactorBP/FactorGraph.py:399: DeprecationWarning: PyArray_FromDims: use PyArray_SimpleNew.\n  def GetDecode(self): return _FactorGraph.CFactorGraph_GetDecode(self)\nFactorBP/FactorGraph.py:399: DeprecationWarning: PyArray_FromDimsAndDataAndDescr: use PyArray_NewFromDescr.\n  def GetDecode(self): return _FactorGraph.CFactorGraph_GetDecode(self)\n"
     ]
    },
    {
     "name": "stderr",
     "output_type": "stream",
     "text": [
      "FactorBP/FactorGraph.py:399: DeprecationWarning: PyArray_FromDims: use PyArray_SimpleNew.\n  def GetDecode(self): return _FactorGraph.CFactorGraph_GetDecode(self)\nFactorBP/FactorGraph.py:399: DeprecationWarning: PyArray_FromDimsAndDataAndDescr: use PyArray_NewFromDescr.\n  def GetDecode(self): return _FactorGraph.CFactorGraph_GetDecode(self)\n"
     ]
    },
    {
     "name": "stderr",
     "output_type": "stream",
     "text": [
      "FactorBP/FactorGraph.py:399: DeprecationWarning: PyArray_FromDims: use PyArray_SimpleNew.\n  def GetDecode(self): return _FactorGraph.CFactorGraph_GetDecode(self)\nFactorBP/FactorGraph.py:399: DeprecationWarning: PyArray_FromDimsAndDataAndDescr: use PyArray_NewFromDescr.\n  def GetDecode(self): return _FactorGraph.CFactorGraph_GetDecode(self)\n"
     ]
    },
    {
     "name": "stderr",
     "output_type": "stream",
     "text": [
      "FactorBP/FactorGraph.py:399: DeprecationWarning: PyArray_FromDims: use PyArray_SimpleNew.\n  def GetDecode(self): return _FactorGraph.CFactorGraph_GetDecode(self)\nFactorBP/FactorGraph.py:399: DeprecationWarning: PyArray_FromDimsAndDataAndDescr: use PyArray_NewFromDescr.\n  def GetDecode(self): return _FactorGraph.CFactorGraph_GetDecode(self)\n"
     ]
    },
    {
     "name": "stderr",
     "output_type": "stream",
     "text": [
      "FactorBP/FactorGraph.py:399: DeprecationWarning: PyArray_FromDims: use PyArray_SimpleNew.\n  def GetDecode(self): return _FactorGraph.CFactorGraph_GetDecode(self)\nFactorBP/FactorGraph.py:399: DeprecationWarning: PyArray_FromDimsAndDataAndDescr: use PyArray_NewFromDescr.\n  def GetDecode(self): return _FactorGraph.CFactorGraph_GetDecode(self)\n"
     ]
    },
    {
     "name": "stderr",
     "output_type": "stream",
     "text": [
      "FactorBP/FactorGraph.py:399: DeprecationWarning: PyArray_FromDims: use PyArray_SimpleNew.\n  def GetDecode(self): return _FactorGraph.CFactorGraph_GetDecode(self)\nFactorBP/FactorGraph.py:399: DeprecationWarning: PyArray_FromDimsAndDataAndDescr: use PyArray_NewFromDescr.\n  def GetDecode(self): return _FactorGraph.CFactorGraph_GetDecode(self)\n"
     ]
    },
    {
     "name": "stderr",
     "output_type": "stream",
     "text": [
      "FactorBP/FactorGraph.py:399: DeprecationWarning: PyArray_FromDims: use PyArray_SimpleNew.\n  def GetDecode(self): return _FactorGraph.CFactorGraph_GetDecode(self)\nFactorBP/FactorGraph.py:399: DeprecationWarning: PyArray_FromDimsAndDataAndDescr: use PyArray_NewFromDescr.\n  def GetDecode(self): return _FactorGraph.CFactorGraph_GetDecode(self)\n"
     ]
    },
    {
     "name": "stderr",
     "output_type": "stream",
     "text": [
      "FactorBP/FactorGraph.py:399: DeprecationWarning: PyArray_FromDims: use PyArray_SimpleNew.\n  def GetDecode(self): return _FactorGraph.CFactorGraph_GetDecode(self)\nFactorBP/FactorGraph.py:399: DeprecationWarning: PyArray_FromDimsAndDataAndDescr: use PyArray_NewFromDescr.\n  def GetDecode(self): return _FactorGraph.CFactorGraph_GetDecode(self)\n"
     ]
    },
    {
     "name": "stderr",
     "output_type": "stream",
     "text": [
      "FactorBP/FactorGraph.py:399: DeprecationWarning: PyArray_FromDims: use PyArray_SimpleNew.\n  def GetDecode(self): return _FactorGraph.CFactorGraph_GetDecode(self)\nFactorBP/FactorGraph.py:399: DeprecationWarning: PyArray_FromDimsAndDataAndDescr: use PyArray_NewFromDescr.\n  def GetDecode(self): return _FactorGraph.CFactorGraph_GetDecode(self)\n"
     ]
    },
    {
     "name": "stderr",
     "output_type": "stream",
     "text": [
      "FactorBP/FactorGraph.py:399: DeprecationWarning: PyArray_FromDims: use PyArray_SimpleNew.\n  def GetDecode(self): return _FactorGraph.CFactorGraph_GetDecode(self)\nFactorBP/FactorGraph.py:399: DeprecationWarning: PyArray_FromDimsAndDataAndDescr: use PyArray_NewFromDescr.\n  def GetDecode(self): return _FactorGraph.CFactorGraph_GetDecode(self)\n"
     ]
    },
    {
     "name": "stderr",
     "output_type": "stream",
     "text": [
      "FactorBP/FactorGraph.py:399: DeprecationWarning: PyArray_FromDims: use PyArray_SimpleNew.\n  def GetDecode(self): return _FactorGraph.CFactorGraph_GetDecode(self)\nFactorBP/FactorGraph.py:399: DeprecationWarning: PyArray_FromDimsAndDataAndDescr: use PyArray_NewFromDescr.\n  def GetDecode(self): return _FactorGraph.CFactorGraph_GetDecode(self)\n"
     ]
    },
    {
     "name": "stderr",
     "output_type": "stream",
     "text": [
      "FactorBP/FactorGraph.py:399: DeprecationWarning: PyArray_FromDims: use PyArray_SimpleNew.\n  def GetDecode(self): return _FactorGraph.CFactorGraph_GetDecode(self)\nFactorBP/FactorGraph.py:399: DeprecationWarning: PyArray_FromDimsAndDataAndDescr: use PyArray_NewFromDescr.\n  def GetDecode(self): return _FactorGraph.CFactorGraph_GetDecode(self)\n"
     ]
    },
    {
     "name": "stderr",
     "output_type": "stream",
     "text": [
      "FactorBP/FactorGraph.py:399: DeprecationWarning: PyArray_FromDims: use PyArray_SimpleNew.\n  def GetDecode(self): return _FactorGraph.CFactorGraph_GetDecode(self)\nFactorBP/FactorGraph.py:399: DeprecationWarning: PyArray_FromDimsAndDataAndDescr: use PyArray_NewFromDescr.\n  def GetDecode(self): return _FactorGraph.CFactorGraph_GetDecode(self)\n"
     ]
    },
    {
     "name": "stderr",
     "output_type": "stream",
     "text": [
      "FactorBP/FactorGraph.py:399: DeprecationWarning: PyArray_FromDims: use PyArray_SimpleNew.\n  def GetDecode(self): return _FactorGraph.CFactorGraph_GetDecode(self)\nFactorBP/FactorGraph.py:399: DeprecationWarning: PyArray_FromDimsAndDataAndDescr: use PyArray_NewFromDescr.\n  def GetDecode(self): return _FactorGraph.CFactorGraph_GetDecode(self)\n"
     ]
    },
    {
     "name": "stderr",
     "output_type": "stream",
     "text": [
      "FactorBP/FactorGraph.py:399: DeprecationWarning: PyArray_FromDims: use PyArray_SimpleNew.\n  def GetDecode(self): return _FactorGraph.CFactorGraph_GetDecode(self)\nFactorBP/FactorGraph.py:399: DeprecationWarning: PyArray_FromDimsAndDataAndDescr: use PyArray_NewFromDescr.\n  def GetDecode(self): return _FactorGraph.CFactorGraph_GetDecode(self)\n"
     ]
    },
    {
     "name": "stderr",
     "output_type": "stream",
     "text": [
      "FactorBP/FactorGraph.py:399: DeprecationWarning: PyArray_FromDims: use PyArray_SimpleNew.\n  def GetDecode(self): return _FactorGraph.CFactorGraph_GetDecode(self)\nFactorBP/FactorGraph.py:399: DeprecationWarning: PyArray_FromDimsAndDataAndDescr: use PyArray_NewFromDescr.\n  def GetDecode(self): return _FactorGraph.CFactorGraph_GetDecode(self)\n"
     ]
    },
    {
     "name": "stderr",
     "output_type": "stream",
     "text": [
      "FactorBP/FactorGraph.py:399: DeprecationWarning: PyArray_FromDims: use PyArray_SimpleNew.\n  def GetDecode(self): return _FactorGraph.CFactorGraph_GetDecode(self)\nFactorBP/FactorGraph.py:399: DeprecationWarning: PyArray_FromDimsAndDataAndDescr: use PyArray_NewFromDescr.\n  def GetDecode(self): return _FactorGraph.CFactorGraph_GetDecode(self)\n"
     ]
    },
    {
     "name": "stderr",
     "output_type": "stream",
     "text": [
      "FactorBP/FactorGraph.py:399: DeprecationWarning: PyArray_FromDims: use PyArray_SimpleNew.\n  def GetDecode(self): return _FactorGraph.CFactorGraph_GetDecode(self)\nFactorBP/FactorGraph.py:399: DeprecationWarning: PyArray_FromDimsAndDataAndDescr: use PyArray_NewFromDescr.\n  def GetDecode(self): return _FactorGraph.CFactorGraph_GetDecode(self)\n"
     ]
    },
    {
     "name": "stderr",
     "output_type": "stream",
     "text": [
      "FactorBP/FactorGraph.py:399: DeprecationWarning: PyArray_FromDims: use PyArray_SimpleNew.\n  def GetDecode(self): return _FactorGraph.CFactorGraph_GetDecode(self)\nFactorBP/FactorGraph.py:399: DeprecationWarning: PyArray_FromDimsAndDataAndDescr: use PyArray_NewFromDescr.\n  def GetDecode(self): return _FactorGraph.CFactorGraph_GetDecode(self)\n"
     ]
    },
    {
     "name": "stderr",
     "output_type": "stream",
     "text": [
      "FactorBP/FactorGraph.py:399: DeprecationWarning: PyArray_FromDims: use PyArray_SimpleNew.\n  def GetDecode(self): return _FactorGraph.CFactorGraph_GetDecode(self)\nFactorBP/FactorGraph.py:399: DeprecationWarning: PyArray_FromDimsAndDataAndDescr: use PyArray_NewFromDescr.\n  def GetDecode(self): return _FactorGraph.CFactorGraph_GetDecode(self)\n"
     ]
    },
    {
     "name": "stderr",
     "output_type": "stream",
     "text": [
      "FactorBP/FactorGraph.py:399: DeprecationWarning: PyArray_FromDims: use PyArray_SimpleNew.\n  def GetDecode(self): return _FactorGraph.CFactorGraph_GetDecode(self)\nFactorBP/FactorGraph.py:399: DeprecationWarning: PyArray_FromDimsAndDataAndDescr: use PyArray_NewFromDescr.\n  def GetDecode(self): return _FactorGraph.CFactorGraph_GetDecode(self)\n"
     ]
    },
    {
     "name": "stderr",
     "output_type": "stream",
     "text": [
      "FactorBP/FactorGraph.py:399: DeprecationWarning: PyArray_FromDims: use PyArray_SimpleNew.\n  def GetDecode(self): return _FactorGraph.CFactorGraph_GetDecode(self)\nFactorBP/FactorGraph.py:399: DeprecationWarning: PyArray_FromDimsAndDataAndDescr: use PyArray_NewFromDescr.\n  def GetDecode(self): return _FactorGraph.CFactorGraph_GetDecode(self)\n"
     ]
    },
    {
     "name": "stderr",
     "output_type": "stream",
     "text": [
      "FactorBP/FactorGraph.py:399: DeprecationWarning: PyArray_FromDims: use PyArray_SimpleNew.\n  def GetDecode(self): return _FactorGraph.CFactorGraph_GetDecode(self)\nFactorBP/FactorGraph.py:399: DeprecationWarning: PyArray_FromDimsAndDataAndDescr: use PyArray_NewFromDescr.\n  def GetDecode(self): return _FactorGraph.CFactorGraph_GetDecode(self)\n"
     ]
    },
    {
     "name": "stderr",
     "output_type": "stream",
     "text": [
      "FactorBP/FactorGraph.py:399: DeprecationWarning: PyArray_FromDims: use PyArray_SimpleNew.\n  def GetDecode(self): return _FactorGraph.CFactorGraph_GetDecode(self)\nFactorBP/FactorGraph.py:399: DeprecationWarning: PyArray_FromDimsAndDataAndDescr: use PyArray_NewFromDescr.\n  def GetDecode(self): return _FactorGraph.CFactorGraph_GetDecode(self)\n"
     ]
    },
    {
     "name": "stderr",
     "output_type": "stream",
     "text": [
      "FactorBP/FactorGraph.py:399: DeprecationWarning: PyArray_FromDims: use PyArray_SimpleNew.\n  def GetDecode(self): return _FactorGraph.CFactorGraph_GetDecode(self)\nFactorBP/FactorGraph.py:399: DeprecationWarning: PyArray_FromDimsAndDataAndDescr: use PyArray_NewFromDescr.\n  def GetDecode(self): return _FactorGraph.CFactorGraph_GetDecode(self)\n"
     ]
    },
    {
     "name": "stderr",
     "output_type": "stream",
     "text": [
      "FactorBP/FactorGraph.py:399: DeprecationWarning: PyArray_FromDims: use PyArray_SimpleNew.\n  def GetDecode(self): return _FactorGraph.CFactorGraph_GetDecode(self)\nFactorBP/FactorGraph.py:399: DeprecationWarning: PyArray_FromDimsAndDataAndDescr: use PyArray_NewFromDescr.\n  def GetDecode(self): return _FactorGraph.CFactorGraph_GetDecode(self)\n"
     ]
    },
    {
     "name": "stderr",
     "output_type": "stream",
     "text": [
      "FactorBP/FactorGraph.py:399: DeprecationWarning: PyArray_FromDims: use PyArray_SimpleNew.\n  def GetDecode(self): return _FactorGraph.CFactorGraph_GetDecode(self)\nFactorBP/FactorGraph.py:399: DeprecationWarning: PyArray_FromDimsAndDataAndDescr: use PyArray_NewFromDescr.\n  def GetDecode(self): return _FactorGraph.CFactorGraph_GetDecode(self)\n"
     ]
    },
    {
     "name": "stderr",
     "output_type": "stream",
     "text": [
      "FactorBP/FactorGraph.py:399: DeprecationWarning: PyArray_FromDims: use PyArray_SimpleNew.\n  def GetDecode(self): return _FactorGraph.CFactorGraph_GetDecode(self)\nFactorBP/FactorGraph.py:399: DeprecationWarning: PyArray_FromDimsAndDataAndDescr: use PyArray_NewFromDescr.\n  def GetDecode(self): return _FactorGraph.CFactorGraph_GetDecode(self)\n"
     ]
    },
    {
     "name": "stderr",
     "output_type": "stream",
     "text": [
      "FactorBP/FactorGraph.py:399: DeprecationWarning: PyArray_FromDims: use PyArray_SimpleNew.\n  def GetDecode(self): return _FactorGraph.CFactorGraph_GetDecode(self)\nFactorBP/FactorGraph.py:399: DeprecationWarning: PyArray_FromDimsAndDataAndDescr: use PyArray_NewFromDescr.\n  def GetDecode(self): return _FactorGraph.CFactorGraph_GetDecode(self)\n"
     ]
    },
    {
     "name": "stderr",
     "output_type": "stream",
     "text": [
      "FactorBP/FactorGraph.py:399: DeprecationWarning: PyArray_FromDims: use PyArray_SimpleNew.\n  def GetDecode(self): return _FactorGraph.CFactorGraph_GetDecode(self)\nFactorBP/FactorGraph.py:399: DeprecationWarning: PyArray_FromDimsAndDataAndDescr: use PyArray_NewFromDescr.\n  def GetDecode(self): return _FactorGraph.CFactorGraph_GetDecode(self)\n"
     ]
    },
    {
     "name": "stderr",
     "output_type": "stream",
     "text": [
      "FactorBP/FactorGraph.py:399: DeprecationWarning: PyArray_FromDims: use PyArray_SimpleNew.\n  def GetDecode(self): return _FactorGraph.CFactorGraph_GetDecode(self)\nFactorBP/FactorGraph.py:399: DeprecationWarning: PyArray_FromDimsAndDataAndDescr: use PyArray_NewFromDescr.\n  def GetDecode(self): return _FactorGraph.CFactorGraph_GetDecode(self)\n"
     ]
    },
    {
     "name": "stderr",
     "output_type": "stream",
     "text": [
      "FactorBP/FactorGraph.py:399: DeprecationWarning: PyArray_FromDims: use PyArray_SimpleNew.\n  def GetDecode(self): return _FactorGraph.CFactorGraph_GetDecode(self)\nFactorBP/FactorGraph.py:399: DeprecationWarning: PyArray_FromDimsAndDataAndDescr: use PyArray_NewFromDescr.\n  def GetDecode(self): return _FactorGraph.CFactorGraph_GetDecode(self)\n"
     ]
    },
    {
     "name": "stderr",
     "output_type": "stream",
     "text": [
      "FactorBP/FactorGraph.py:399: DeprecationWarning: PyArray_FromDims: use PyArray_SimpleNew.\n  def GetDecode(self): return _FactorGraph.CFactorGraph_GetDecode(self)\nFactorBP/FactorGraph.py:399: DeprecationWarning: PyArray_FromDimsAndDataAndDescr: use PyArray_NewFromDescr.\n  def GetDecode(self): return _FactorGraph.CFactorGraph_GetDecode(self)\n"
     ]
    },
    {
     "name": "stderr",
     "output_type": "stream",
     "text": [
      "FactorBP/FactorGraph.py:399: DeprecationWarning: PyArray_FromDims: use PyArray_SimpleNew.\n  def GetDecode(self): return _FactorGraph.CFactorGraph_GetDecode(self)\nFactorBP/FactorGraph.py:399: DeprecationWarning: PyArray_FromDimsAndDataAndDescr: use PyArray_NewFromDescr.\n  def GetDecode(self): return _FactorGraph.CFactorGraph_GetDecode(self)\n"
     ]
    },
    {
     "name": "stderr",
     "output_type": "stream",
     "text": [
      "FactorBP/FactorGraph.py:399: DeprecationWarning: PyArray_FromDims: use PyArray_SimpleNew.\n  def GetDecode(self): return _FactorGraph.CFactorGraph_GetDecode(self)\nFactorBP/FactorGraph.py:399: DeprecationWarning: PyArray_FromDimsAndDataAndDescr: use PyArray_NewFromDescr.\n  def GetDecode(self): return _FactorGraph.CFactorGraph_GetDecode(self)\n"
     ]
    },
    {
     "name": "stderr",
     "output_type": "stream",
     "text": [
      "FactorBP/FactorGraph.py:399: DeprecationWarning: PyArray_FromDims: use PyArray_SimpleNew.\n  def GetDecode(self): return _FactorGraph.CFactorGraph_GetDecode(self)\nFactorBP/FactorGraph.py:399: DeprecationWarning: PyArray_FromDimsAndDataAndDescr: use PyArray_NewFromDescr.\n  def GetDecode(self): return _FactorGraph.CFactorGraph_GetDecode(self)\n"
     ]
    },
    {
     "name": "stderr",
     "output_type": "stream",
     "text": [
      "FactorBP/FactorGraph.py:399: DeprecationWarning: PyArray_FromDims: use PyArray_SimpleNew.\n  def GetDecode(self): return _FactorGraph.CFactorGraph_GetDecode(self)\nFactorBP/FactorGraph.py:399: DeprecationWarning: PyArray_FromDimsAndDataAndDescr: use PyArray_NewFromDescr.\n  def GetDecode(self): return _FactorGraph.CFactorGraph_GetDecode(self)\n"
     ]
    },
    {
     "name": "stderr",
     "output_type": "stream",
     "text": [
      "FactorBP/FactorGraph.py:399: DeprecationWarning: PyArray_FromDims: use PyArray_SimpleNew.\n  def GetDecode(self): return _FactorGraph.CFactorGraph_GetDecode(self)\nFactorBP/FactorGraph.py:399: DeprecationWarning: PyArray_FromDimsAndDataAndDescr: use PyArray_NewFromDescr.\n  def GetDecode(self): return _FactorGraph.CFactorGraph_GetDecode(self)\n"
     ]
    },
    {
     "name": "stderr",
     "output_type": "stream",
     "text": [
      "FactorBP/FactorGraph.py:399: DeprecationWarning: PyArray_FromDims: use PyArray_SimpleNew.\n  def GetDecode(self): return _FactorGraph.CFactorGraph_GetDecode(self)\nFactorBP/FactorGraph.py:399: DeprecationWarning: PyArray_FromDimsAndDataAndDescr: use PyArray_NewFromDescr.\n  def GetDecode(self): return _FactorGraph.CFactorGraph_GetDecode(self)\n"
     ]
    },
    {
     "name": "stderr",
     "output_type": "stream",
     "text": [
      "FactorBP/FactorGraph.py:399: DeprecationWarning: PyArray_FromDims: use PyArray_SimpleNew.\n  def GetDecode(self): return _FactorGraph.CFactorGraph_GetDecode(self)\nFactorBP/FactorGraph.py:399: DeprecationWarning: PyArray_FromDimsAndDataAndDescr: use PyArray_NewFromDescr.\n  def GetDecode(self): return _FactorGraph.CFactorGraph_GetDecode(self)\n"
     ]
    },
    {
     "name": "stderr",
     "output_type": "stream",
     "text": [
      "FactorBP/FactorGraph.py:399: DeprecationWarning: PyArray_FromDims: use PyArray_SimpleNew.\n  def GetDecode(self): return _FactorGraph.CFactorGraph_GetDecode(self)\nFactorBP/FactorGraph.py:399: DeprecationWarning: PyArray_FromDimsAndDataAndDescr: use PyArray_NewFromDescr.\n  def GetDecode(self): return _FactorGraph.CFactorGraph_GetDecode(self)\n"
     ]
    },
    {
     "name": "stderr",
     "output_type": "stream",
     "text": [
      "FactorBP/FactorGraph.py:399: DeprecationWarning: PyArray_FromDims: use PyArray_SimpleNew.\n  def GetDecode(self): return _FactorGraph.CFactorGraph_GetDecode(self)\nFactorBP/FactorGraph.py:399: DeprecationWarning: PyArray_FromDimsAndDataAndDescr: use PyArray_NewFromDescr.\n  def GetDecode(self): return _FactorGraph.CFactorGraph_GetDecode(self)\n"
     ]
    },
    {
     "name": "stderr",
     "output_type": "stream",
     "text": [
      "FactorBP/FactorGraph.py:399: DeprecationWarning: PyArray_FromDims: use PyArray_SimpleNew.\n  def GetDecode(self): return _FactorGraph.CFactorGraph_GetDecode(self)\nFactorBP/FactorGraph.py:399: DeprecationWarning: PyArray_FromDimsAndDataAndDescr: use PyArray_NewFromDescr.\n  def GetDecode(self): return _FactorGraph.CFactorGraph_GetDecode(self)\n"
     ]
    },
    {
     "name": "stderr",
     "output_type": "stream",
     "text": [
      "FactorBP/FactorGraph.py:399: DeprecationWarning: PyArray_FromDims: use PyArray_SimpleNew.\n  def GetDecode(self): return _FactorGraph.CFactorGraph_GetDecode(self)\nFactorBP/FactorGraph.py:399: DeprecationWarning: PyArray_FromDimsAndDataAndDescr: use PyArray_NewFromDescr.\n  def GetDecode(self): return _FactorGraph.CFactorGraph_GetDecode(self)\n"
     ]
    },
    {
     "name": "stderr",
     "output_type": "stream",
     "text": [
      "FactorBP/FactorGraph.py:399: DeprecationWarning: PyArray_FromDims: use PyArray_SimpleNew.\n  def GetDecode(self): return _FactorGraph.CFactorGraph_GetDecode(self)\nFactorBP/FactorGraph.py:399: DeprecationWarning: PyArray_FromDimsAndDataAndDescr: use PyArray_NewFromDescr.\n  def GetDecode(self): return _FactorGraph.CFactorGraph_GetDecode(self)\n"
     ]
    },
    {
     "name": "stderr",
     "output_type": "stream",
     "text": [
      "FactorBP/FactorGraph.py:399: DeprecationWarning: PyArray_FromDims: use PyArray_SimpleNew.\n  def GetDecode(self): return _FactorGraph.CFactorGraph_GetDecode(self)\nFactorBP/FactorGraph.py:399: DeprecationWarning: PyArray_FromDimsAndDataAndDescr: use PyArray_NewFromDescr.\n  def GetDecode(self): return _FactorGraph.CFactorGraph_GetDecode(self)\n"
     ]
    },
    {
     "name": "stderr",
     "output_type": "stream",
     "text": [
      "FactorBP/FactorGraph.py:399: DeprecationWarning: PyArray_FromDims: use PyArray_SimpleNew.\n  def GetDecode(self): return _FactorGraph.CFactorGraph_GetDecode(self)\nFactorBP/FactorGraph.py:399: DeprecationWarning: PyArray_FromDimsAndDataAndDescr: use PyArray_NewFromDescr.\n  def GetDecode(self): return _FactorGraph.CFactorGraph_GetDecode(self)\n"
     ]
    },
    {
     "name": "stderr",
     "output_type": "stream",
     "text": [
      "FactorBP/FactorGraph.py:399: DeprecationWarning: PyArray_FromDims: use PyArray_SimpleNew.\n  def GetDecode(self): return _FactorGraph.CFactorGraph_GetDecode(self)\nFactorBP/FactorGraph.py:399: DeprecationWarning: PyArray_FromDimsAndDataAndDescr: use PyArray_NewFromDescr.\n  def GetDecode(self): return _FactorGraph.CFactorGraph_GetDecode(self)\n"
     ]
    },
    {
     "name": "stderr",
     "output_type": "stream",
     "text": [
      "FactorBP/FactorGraph.py:399: DeprecationWarning: PyArray_FromDims: use PyArray_SimpleNew.\n  def GetDecode(self): return _FactorGraph.CFactorGraph_GetDecode(self)\nFactorBP/FactorGraph.py:399: DeprecationWarning: PyArray_FromDimsAndDataAndDescr: use PyArray_NewFromDescr.\n  def GetDecode(self): return _FactorGraph.CFactorGraph_GetDecode(self)\n"
     ]
    },
    {
     "name": "stderr",
     "output_type": "stream",
     "text": [
      "FactorBP/FactorGraph.py:399: DeprecationWarning: PyArray_FromDims: use PyArray_SimpleNew.\n  def GetDecode(self): return _FactorGraph.CFactorGraph_GetDecode(self)\nFactorBP/FactorGraph.py:399: DeprecationWarning: PyArray_FromDimsAndDataAndDescr: use PyArray_NewFromDescr.\n  def GetDecode(self): return _FactorGraph.CFactorGraph_GetDecode(self)\n"
     ]
    },
    {
     "name": "stderr",
     "output_type": "stream",
     "text": [
      "FactorBP/FactorGraph.py:399: DeprecationWarning: PyArray_FromDims: use PyArray_SimpleNew.\n  def GetDecode(self): return _FactorGraph.CFactorGraph_GetDecode(self)\nFactorBP/FactorGraph.py:399: DeprecationWarning: PyArray_FromDimsAndDataAndDescr: use PyArray_NewFromDescr.\n  def GetDecode(self): return _FactorGraph.CFactorGraph_GetDecode(self)\n"
     ]
    },
    {
     "name": "stderr",
     "output_type": "stream",
     "text": [
      "FactorBP/FactorGraph.py:399: DeprecationWarning: PyArray_FromDims: use PyArray_SimpleNew.\n  def GetDecode(self): return _FactorGraph.CFactorGraph_GetDecode(self)\nFactorBP/FactorGraph.py:399: DeprecationWarning: PyArray_FromDimsAndDataAndDescr: use PyArray_NewFromDescr.\n  def GetDecode(self): return _FactorGraph.CFactorGraph_GetDecode(self)\n"
     ]
    },
    {
     "name": "stderr",
     "output_type": "stream",
     "text": [
      "FactorBP/FactorGraph.py:399: DeprecationWarning: PyArray_FromDims: use PyArray_SimpleNew.\n  def GetDecode(self): return _FactorGraph.CFactorGraph_GetDecode(self)\nFactorBP/FactorGraph.py:399: DeprecationWarning: PyArray_FromDimsAndDataAndDescr: use PyArray_NewFromDescr.\n  def GetDecode(self): return _FactorGraph.CFactorGraph_GetDecode(self)\n"
     ]
    },
    {
     "name": "stderr",
     "output_type": "stream",
     "text": [
      "FactorBP/FactorGraph.py:399: DeprecationWarning: PyArray_FromDims: use PyArray_SimpleNew.\n  def GetDecode(self): return _FactorGraph.CFactorGraph_GetDecode(self)\nFactorBP/FactorGraph.py:399: DeprecationWarning: PyArray_FromDimsAndDataAndDescr: use PyArray_NewFromDescr.\n  def GetDecode(self): return _FactorGraph.CFactorGraph_GetDecode(self)\n"
     ]
    },
    {
     "name": "stderr",
     "output_type": "stream",
     "text": [
      "FactorBP/FactorGraph.py:399: DeprecationWarning: PyArray_FromDims: use PyArray_SimpleNew.\n  def GetDecode(self): return _FactorGraph.CFactorGraph_GetDecode(self)\nFactorBP/FactorGraph.py:399: DeprecationWarning: PyArray_FromDimsAndDataAndDescr: use PyArray_NewFromDescr.\n  def GetDecode(self): return _FactorGraph.CFactorGraph_GetDecode(self)\n"
     ]
    },
    {
     "name": "stderr",
     "output_type": "stream",
     "text": [
      "FactorBP/FactorGraph.py:399: DeprecationWarning: PyArray_FromDims: use PyArray_SimpleNew.\n  def GetDecode(self): return _FactorGraph.CFactorGraph_GetDecode(self)\nFactorBP/FactorGraph.py:399: DeprecationWarning: PyArray_FromDimsAndDataAndDescr: use PyArray_NewFromDescr.\n  def GetDecode(self): return _FactorGraph.CFactorGraph_GetDecode(self)\n"
     ]
    },
    {
     "name": "stderr",
     "output_type": "stream",
     "text": [
      "FactorBP/FactorGraph.py:399: DeprecationWarning: PyArray_FromDims: use PyArray_SimpleNew.\n  def GetDecode(self): return _FactorGraph.CFactorGraph_GetDecode(self)\nFactorBP/FactorGraph.py:399: DeprecationWarning: PyArray_FromDimsAndDataAndDescr: use PyArray_NewFromDescr.\n  def GetDecode(self): return _FactorGraph.CFactorGraph_GetDecode(self)\n"
     ]
    },
    {
     "name": "stderr",
     "output_type": "stream",
     "text": [
      "FactorBP/FactorGraph.py:399: DeprecationWarning: PyArray_FromDims: use PyArray_SimpleNew.\n  def GetDecode(self): return _FactorGraph.CFactorGraph_GetDecode(self)\nFactorBP/FactorGraph.py:399: DeprecationWarning: PyArray_FromDimsAndDataAndDescr: use PyArray_NewFromDescr.\n  def GetDecode(self): return _FactorGraph.CFactorGraph_GetDecode(self)\n"
     ]
    },
    {
     "name": "stderr",
     "output_type": "stream",
     "text": [
      "FactorBP/FactorGraph.py:399: DeprecationWarning: PyArray_FromDims: use PyArray_SimpleNew.\n  def GetDecode(self): return _FactorGraph.CFactorGraph_GetDecode(self)\nFactorBP/FactorGraph.py:399: DeprecationWarning: PyArray_FromDimsAndDataAndDescr: use PyArray_NewFromDescr.\n  def GetDecode(self): return _FactorGraph.CFactorGraph_GetDecode(self)\n"
     ]
    },
    {
     "name": "stderr",
     "output_type": "stream",
     "text": [
      "FactorBP/FactorGraph.py:399: DeprecationWarning: PyArray_FromDims: use PyArray_SimpleNew.\n  def GetDecode(self): return _FactorGraph.CFactorGraph_GetDecode(self)\nFactorBP/FactorGraph.py:399: DeprecationWarning: PyArray_FromDimsAndDataAndDescr: use PyArray_NewFromDescr.\n  def GetDecode(self): return _FactorGraph.CFactorGraph_GetDecode(self)\n"
     ]
    },
    {
     "name": "stderr",
     "output_type": "stream",
     "text": [
      "FactorBP/FactorGraph.py:399: DeprecationWarning: PyArray_FromDims: use PyArray_SimpleNew.\n  def GetDecode(self): return _FactorGraph.CFactorGraph_GetDecode(self)\nFactorBP/FactorGraph.py:399: DeprecationWarning: PyArray_FromDimsAndDataAndDescr: use PyArray_NewFromDescr.\n  def GetDecode(self): return _FactorGraph.CFactorGraph_GetDecode(self)\n"
     ]
    },
    {
     "name": "stderr",
     "output_type": "stream",
     "text": [
      "FactorBP/FactorGraph.py:399: DeprecationWarning: PyArray_FromDims: use PyArray_SimpleNew.\n  def GetDecode(self): return _FactorGraph.CFactorGraph_GetDecode(self)\nFactorBP/FactorGraph.py:399: DeprecationWarning: PyArray_FromDimsAndDataAndDescr: use PyArray_NewFromDescr.\n  def GetDecode(self): return _FactorGraph.CFactorGraph_GetDecode(self)\n"
     ]
    },
    {
     "name": "stderr",
     "output_type": "stream",
     "text": [
      "FactorBP/FactorGraph.py:399: DeprecationWarning: PyArray_FromDims: use PyArray_SimpleNew.\n  def GetDecode(self): return _FactorGraph.CFactorGraph_GetDecode(self)\nFactorBP/FactorGraph.py:399: DeprecationWarning: PyArray_FromDimsAndDataAndDescr: use PyArray_NewFromDescr.\n  def GetDecode(self): return _FactorGraph.CFactorGraph_GetDecode(self)\n"
     ]
    },
    {
     "name": "stderr",
     "output_type": "stream",
     "text": [
      "FactorBP/FactorGraph.py:399: DeprecationWarning: PyArray_FromDims: use PyArray_SimpleNew.\n  def GetDecode(self): return _FactorGraph.CFactorGraph_GetDecode(self)\nFactorBP/FactorGraph.py:399: DeprecationWarning: PyArray_FromDimsAndDataAndDescr: use PyArray_NewFromDescr.\n  def GetDecode(self): return _FactorGraph.CFactorGraph_GetDecode(self)\n"
     ]
    },
    {
     "name": "stderr",
     "output_type": "stream",
     "text": [
      "FactorBP/FactorGraph.py:399: DeprecationWarning: PyArray_FromDims: use PyArray_SimpleNew.\n  def GetDecode(self): return _FactorGraph.CFactorGraph_GetDecode(self)\nFactorBP/FactorGraph.py:399: DeprecationWarning: PyArray_FromDimsAndDataAndDescr: use PyArray_NewFromDescr.\n  def GetDecode(self): return _FactorGraph.CFactorGraph_GetDecode(self)\n"
     ]
    },
    {
     "name": "stderr",
     "output_type": "stream",
     "text": [
      "FactorBP/FactorGraph.py:399: DeprecationWarning: PyArray_FromDims: use PyArray_SimpleNew.\n  def GetDecode(self): return _FactorGraph.CFactorGraph_GetDecode(self)\nFactorBP/FactorGraph.py:399: DeprecationWarning: PyArray_FromDimsAndDataAndDescr: use PyArray_NewFromDescr.\n  def GetDecode(self): return _FactorGraph.CFactorGraph_GetDecode(self)\n"
     ]
    },
    {
     "name": "stderr",
     "output_type": "stream",
     "text": [
      "FactorBP/FactorGraph.py:399: DeprecationWarning: PyArray_FromDims: use PyArray_SimpleNew.\n  def GetDecode(self): return _FactorGraph.CFactorGraph_GetDecode(self)\nFactorBP/FactorGraph.py:399: DeprecationWarning: PyArray_FromDimsAndDataAndDescr: use PyArray_NewFromDescr.\n  def GetDecode(self): return _FactorGraph.CFactorGraph_GetDecode(self)\n"
     ]
    },
    {
     "name": "stderr",
     "output_type": "stream",
     "text": [
      "FactorBP/FactorGraph.py:399: DeprecationWarning: PyArray_FromDims: use PyArray_SimpleNew.\n  def GetDecode(self): return _FactorGraph.CFactorGraph_GetDecode(self)\nFactorBP/FactorGraph.py:399: DeprecationWarning: PyArray_FromDimsAndDataAndDescr: use PyArray_NewFromDescr.\n  def GetDecode(self): return _FactorGraph.CFactorGraph_GetDecode(self)\n"
     ]
    },
    {
     "name": "stderr",
     "output_type": "stream",
     "text": [
      "FactorBP/FactorGraph.py:399: DeprecationWarning: PyArray_FromDims: use PyArray_SimpleNew.\n  def GetDecode(self): return _FactorGraph.CFactorGraph_GetDecode(self)\nFactorBP/FactorGraph.py:399: DeprecationWarning: PyArray_FromDimsAndDataAndDescr: use PyArray_NewFromDescr.\n  def GetDecode(self): return _FactorGraph.CFactorGraph_GetDecode(self)\n"
     ]
    },
    {
     "name": "stderr",
     "output_type": "stream",
     "text": [
      "FactorBP/FactorGraph.py:399: DeprecationWarning: PyArray_FromDims: use PyArray_SimpleNew.\n  def GetDecode(self): return _FactorGraph.CFactorGraph_GetDecode(self)\nFactorBP/FactorGraph.py:399: DeprecationWarning: PyArray_FromDimsAndDataAndDescr: use PyArray_NewFromDescr.\n  def GetDecode(self): return _FactorGraph.CFactorGraph_GetDecode(self)\n"
     ]
    },
    {
     "name": "stderr",
     "output_type": "stream",
     "text": [
      "FactorBP/FactorGraph.py:399: DeprecationWarning: PyArray_FromDims: use PyArray_SimpleNew.\n  def GetDecode(self): return _FactorGraph.CFactorGraph_GetDecode(self)\nFactorBP/FactorGraph.py:399: DeprecationWarning: PyArray_FromDimsAndDataAndDescr: use PyArray_NewFromDescr.\n  def GetDecode(self): return _FactorGraph.CFactorGraph_GetDecode(self)\n"
     ]
    },
    {
     "name": "stdout",
     "output_type": "stream",
     "text": [
      "Ours Accuracy 1.000000 Running Time 0.003246 Obj 1.000000\nOurs-BCA Accuracy 1.000000 Running Time 0.033400 Obj 1.000000\nBCA Accuracy 1.000000 Running Time 0.021334 Obj 1.000000\nBCA-MP Accuracy 1.000000 Running Time 0.113397 Obj 1.000000\nBCA-IPFP Accuracy 1.000000 Running Time 0.085855 Obj 1.000000\nHGM Accuracy 0.962706 Running Time 0.011424 Obj 0.953366\nRRWHM Accuracy 1.000000 Running Time 0.044324 Obj 1.000000\nTM Accuracy 0.997360 Running Time 0.076202 Obj 0.998736\n××××××××××××××××××××\n Start baseline: 20\n"
     ]
    },
    {
     "name": "stderr",
     "output_type": "stream",
     "text": [
      "FactorBP/FactorGraph.py:399: DeprecationWarning: PyArray_FromDims: use PyArray_SimpleNew.\n  def GetDecode(self): return _FactorGraph.CFactorGraph_GetDecode(self)\nFactorBP/FactorGraph.py:399: DeprecationWarning: PyArray_FromDimsAndDataAndDescr: use PyArray_NewFromDescr.\n  def GetDecode(self): return _FactorGraph.CFactorGraph_GetDecode(self)\n"
     ]
    },
    {
     "name": "stderr",
     "output_type": "stream",
     "text": [
      "FactorBP/FactorGraph.py:399: DeprecationWarning: PyArray_FromDims: use PyArray_SimpleNew.\n  def GetDecode(self): return _FactorGraph.CFactorGraph_GetDecode(self)\nFactorBP/FactorGraph.py:399: DeprecationWarning: PyArray_FromDimsAndDataAndDescr: use PyArray_NewFromDescr.\n  def GetDecode(self): return _FactorGraph.CFactorGraph_GetDecode(self)\n"
     ]
    },
    {
     "name": "stderr",
     "output_type": "stream",
     "text": [
      "FactorBP/FactorGraph.py:399: DeprecationWarning: PyArray_FromDims: use PyArray_SimpleNew.\n  def GetDecode(self): return _FactorGraph.CFactorGraph_GetDecode(self)\nFactorBP/FactorGraph.py:399: DeprecationWarning: PyArray_FromDimsAndDataAndDescr: use PyArray_NewFromDescr.\n  def GetDecode(self): return _FactorGraph.CFactorGraph_GetDecode(self)\n"
     ]
    },
    {
     "name": "stderr",
     "output_type": "stream",
     "text": [
      "FactorBP/FactorGraph.py:399: DeprecationWarning: PyArray_FromDims: use PyArray_SimpleNew.\n  def GetDecode(self): return _FactorGraph.CFactorGraph_GetDecode(self)\nFactorBP/FactorGraph.py:399: DeprecationWarning: PyArray_FromDimsAndDataAndDescr: use PyArray_NewFromDescr.\n  def GetDecode(self): return _FactorGraph.CFactorGraph_GetDecode(self)\n"
     ]
    },
    {
     "name": "stderr",
     "output_type": "stream",
     "text": [
      "FactorBP/FactorGraph.py:399: DeprecationWarning: PyArray_FromDims: use PyArray_SimpleNew.\n  def GetDecode(self): return _FactorGraph.CFactorGraph_GetDecode(self)\nFactorBP/FactorGraph.py:399: DeprecationWarning: PyArray_FromDimsAndDataAndDescr: use PyArray_NewFromDescr.\n  def GetDecode(self): return _FactorGraph.CFactorGraph_GetDecode(self)\n"
     ]
    },
    {
     "name": "stderr",
     "output_type": "stream",
     "text": [
      "FactorBP/FactorGraph.py:399: DeprecationWarning: PyArray_FromDims: use PyArray_SimpleNew.\n  def GetDecode(self): return _FactorGraph.CFactorGraph_GetDecode(self)\nFactorBP/FactorGraph.py:399: DeprecationWarning: PyArray_FromDimsAndDataAndDescr: use PyArray_NewFromDescr.\n  def GetDecode(self): return _FactorGraph.CFactorGraph_GetDecode(self)\n"
     ]
    },
    {
     "name": "stderr",
     "output_type": "stream",
     "text": [
      "FactorBP/FactorGraph.py:399: DeprecationWarning: PyArray_FromDims: use PyArray_SimpleNew.\n  def GetDecode(self): return _FactorGraph.CFactorGraph_GetDecode(self)\nFactorBP/FactorGraph.py:399: DeprecationWarning: PyArray_FromDimsAndDataAndDescr: use PyArray_NewFromDescr.\n  def GetDecode(self): return _FactorGraph.CFactorGraph_GetDecode(self)\n"
     ]
    },
    {
     "name": "stderr",
     "output_type": "stream",
     "text": [
      "FactorBP/FactorGraph.py:399: DeprecationWarning: PyArray_FromDims: use PyArray_SimpleNew.\n  def GetDecode(self): return _FactorGraph.CFactorGraph_GetDecode(self)\nFactorBP/FactorGraph.py:399: DeprecationWarning: PyArray_FromDimsAndDataAndDescr: use PyArray_NewFromDescr.\n  def GetDecode(self): return _FactorGraph.CFactorGraph_GetDecode(self)\n"
     ]
    },
    {
     "name": "stderr",
     "output_type": "stream",
     "text": [
      "FactorBP/FactorGraph.py:399: DeprecationWarning: PyArray_FromDims: use PyArray_SimpleNew.\n  def GetDecode(self): return _FactorGraph.CFactorGraph_GetDecode(self)\nFactorBP/FactorGraph.py:399: DeprecationWarning: PyArray_FromDimsAndDataAndDescr: use PyArray_NewFromDescr.\n  def GetDecode(self): return _FactorGraph.CFactorGraph_GetDecode(self)\n"
     ]
    },
    {
     "name": "stderr",
     "output_type": "stream",
     "text": [
      "FactorBP/FactorGraph.py:399: DeprecationWarning: PyArray_FromDims: use PyArray_SimpleNew.\n  def GetDecode(self): return _FactorGraph.CFactorGraph_GetDecode(self)\nFactorBP/FactorGraph.py:399: DeprecationWarning: PyArray_FromDimsAndDataAndDescr: use PyArray_NewFromDescr.\n  def GetDecode(self): return _FactorGraph.CFactorGraph_GetDecode(self)\n"
     ]
    },
    {
     "name": "stderr",
     "output_type": "stream",
     "text": [
      "FactorBP/FactorGraph.py:399: DeprecationWarning: PyArray_FromDims: use PyArray_SimpleNew.\n  def GetDecode(self): return _FactorGraph.CFactorGraph_GetDecode(self)\nFactorBP/FactorGraph.py:399: DeprecationWarning: PyArray_FromDimsAndDataAndDescr: use PyArray_NewFromDescr.\n  def GetDecode(self): return _FactorGraph.CFactorGraph_GetDecode(self)\n"
     ]
    },
    {
     "name": "stderr",
     "output_type": "stream",
     "text": [
      "FactorBP/FactorGraph.py:399: DeprecationWarning: PyArray_FromDims: use PyArray_SimpleNew.\n  def GetDecode(self): return _FactorGraph.CFactorGraph_GetDecode(self)\nFactorBP/FactorGraph.py:399: DeprecationWarning: PyArray_FromDimsAndDataAndDescr: use PyArray_NewFromDescr.\n  def GetDecode(self): return _FactorGraph.CFactorGraph_GetDecode(self)\n"
     ]
    },
    {
     "name": "stderr",
     "output_type": "stream",
     "text": [
      "FactorBP/FactorGraph.py:399: DeprecationWarning: PyArray_FromDims: use PyArray_SimpleNew.\n  def GetDecode(self): return _FactorGraph.CFactorGraph_GetDecode(self)\nFactorBP/FactorGraph.py:399: DeprecationWarning: PyArray_FromDimsAndDataAndDescr: use PyArray_NewFromDescr.\n  def GetDecode(self): return _FactorGraph.CFactorGraph_GetDecode(self)\n"
     ]
    },
    {
     "name": "stderr",
     "output_type": "stream",
     "text": [
      "FactorBP/FactorGraph.py:399: DeprecationWarning: PyArray_FromDims: use PyArray_SimpleNew.\n  def GetDecode(self): return _FactorGraph.CFactorGraph_GetDecode(self)\nFactorBP/FactorGraph.py:399: DeprecationWarning: PyArray_FromDimsAndDataAndDescr: use PyArray_NewFromDescr.\n  def GetDecode(self): return _FactorGraph.CFactorGraph_GetDecode(self)\n"
     ]
    },
    {
     "name": "stderr",
     "output_type": "stream",
     "text": [
      "FactorBP/FactorGraph.py:399: DeprecationWarning: PyArray_FromDims: use PyArray_SimpleNew.\n  def GetDecode(self): return _FactorGraph.CFactorGraph_GetDecode(self)\nFactorBP/FactorGraph.py:399: DeprecationWarning: PyArray_FromDimsAndDataAndDescr: use PyArray_NewFromDescr.\n  def GetDecode(self): return _FactorGraph.CFactorGraph_GetDecode(self)\n"
     ]
    },
    {
     "name": "stderr",
     "output_type": "stream",
     "text": [
      "FactorBP/FactorGraph.py:399: DeprecationWarning: PyArray_FromDims: use PyArray_SimpleNew.\n  def GetDecode(self): return _FactorGraph.CFactorGraph_GetDecode(self)\nFactorBP/FactorGraph.py:399: DeprecationWarning: PyArray_FromDimsAndDataAndDescr: use PyArray_NewFromDescr.\n  def GetDecode(self): return _FactorGraph.CFactorGraph_GetDecode(self)\n"
     ]
    },
    {
     "name": "stderr",
     "output_type": "stream",
     "text": [
      "FactorBP/FactorGraph.py:399: DeprecationWarning: PyArray_FromDims: use PyArray_SimpleNew.\n  def GetDecode(self): return _FactorGraph.CFactorGraph_GetDecode(self)\nFactorBP/FactorGraph.py:399: DeprecationWarning: PyArray_FromDimsAndDataAndDescr: use PyArray_NewFromDescr.\n  def GetDecode(self): return _FactorGraph.CFactorGraph_GetDecode(self)\n"
     ]
    },
    {
     "name": "stderr",
     "output_type": "stream",
     "text": [
      "FactorBP/FactorGraph.py:399: DeprecationWarning: PyArray_FromDims: use PyArray_SimpleNew.\n  def GetDecode(self): return _FactorGraph.CFactorGraph_GetDecode(self)\nFactorBP/FactorGraph.py:399: DeprecationWarning: PyArray_FromDimsAndDataAndDescr: use PyArray_NewFromDescr.\n  def GetDecode(self): return _FactorGraph.CFactorGraph_GetDecode(self)\n"
     ]
    },
    {
     "name": "stderr",
     "output_type": "stream",
     "text": [
      "FactorBP/FactorGraph.py:399: DeprecationWarning: PyArray_FromDims: use PyArray_SimpleNew.\n  def GetDecode(self): return _FactorGraph.CFactorGraph_GetDecode(self)\nFactorBP/FactorGraph.py:399: DeprecationWarning: PyArray_FromDimsAndDataAndDescr: use PyArray_NewFromDescr.\n  def GetDecode(self): return _FactorGraph.CFactorGraph_GetDecode(self)\n"
     ]
    },
    {
     "name": "stderr",
     "output_type": "stream",
     "text": [
      "FactorBP/FactorGraph.py:399: DeprecationWarning: PyArray_FromDims: use PyArray_SimpleNew.\n  def GetDecode(self): return _FactorGraph.CFactorGraph_GetDecode(self)\nFactorBP/FactorGraph.py:399: DeprecationWarning: PyArray_FromDimsAndDataAndDescr: use PyArray_NewFromDescr.\n  def GetDecode(self): return _FactorGraph.CFactorGraph_GetDecode(self)\n"
     ]
    },
    {
     "name": "stderr",
     "output_type": "stream",
     "text": [
      "FactorBP/FactorGraph.py:399: DeprecationWarning: PyArray_FromDims: use PyArray_SimpleNew.\n  def GetDecode(self): return _FactorGraph.CFactorGraph_GetDecode(self)\nFactorBP/FactorGraph.py:399: DeprecationWarning: PyArray_FromDimsAndDataAndDescr: use PyArray_NewFromDescr.\n  def GetDecode(self): return _FactorGraph.CFactorGraph_GetDecode(self)\n"
     ]
    },
    {
     "name": "stderr",
     "output_type": "stream",
     "text": [
      "FactorBP/FactorGraph.py:399: DeprecationWarning: PyArray_FromDims: use PyArray_SimpleNew.\n  def GetDecode(self): return _FactorGraph.CFactorGraph_GetDecode(self)\nFactorBP/FactorGraph.py:399: DeprecationWarning: PyArray_FromDimsAndDataAndDescr: use PyArray_NewFromDescr.\n  def GetDecode(self): return _FactorGraph.CFactorGraph_GetDecode(self)\n"
     ]
    },
    {
     "name": "stderr",
     "output_type": "stream",
     "text": [
      "FactorBP/FactorGraph.py:399: DeprecationWarning: PyArray_FromDims: use PyArray_SimpleNew.\n  def GetDecode(self): return _FactorGraph.CFactorGraph_GetDecode(self)\nFactorBP/FactorGraph.py:399: DeprecationWarning: PyArray_FromDimsAndDataAndDescr: use PyArray_NewFromDescr.\n  def GetDecode(self): return _FactorGraph.CFactorGraph_GetDecode(self)\n"
     ]
    },
    {
     "name": "stderr",
     "output_type": "stream",
     "text": [
      "FactorBP/FactorGraph.py:399: DeprecationWarning: PyArray_FromDims: use PyArray_SimpleNew.\n  def GetDecode(self): return _FactorGraph.CFactorGraph_GetDecode(self)\nFactorBP/FactorGraph.py:399: DeprecationWarning: PyArray_FromDimsAndDataAndDescr: use PyArray_NewFromDescr.\n  def GetDecode(self): return _FactorGraph.CFactorGraph_GetDecode(self)\n"
     ]
    },
    {
     "name": "stderr",
     "output_type": "stream",
     "text": [
      "FactorBP/FactorGraph.py:399: DeprecationWarning: PyArray_FromDims: use PyArray_SimpleNew.\n  def GetDecode(self): return _FactorGraph.CFactorGraph_GetDecode(self)\nFactorBP/FactorGraph.py:399: DeprecationWarning: PyArray_FromDimsAndDataAndDescr: use PyArray_NewFromDescr.\n  def GetDecode(self): return _FactorGraph.CFactorGraph_GetDecode(self)\n"
     ]
    },
    {
     "name": "stderr",
     "output_type": "stream",
     "text": [
      "FactorBP/FactorGraph.py:399: DeprecationWarning: PyArray_FromDims: use PyArray_SimpleNew.\n  def GetDecode(self): return _FactorGraph.CFactorGraph_GetDecode(self)\nFactorBP/FactorGraph.py:399: DeprecationWarning: PyArray_FromDimsAndDataAndDescr: use PyArray_NewFromDescr.\n  def GetDecode(self): return _FactorGraph.CFactorGraph_GetDecode(self)\n"
     ]
    },
    {
     "name": "stderr",
     "output_type": "stream",
     "text": [
      "FactorBP/FactorGraph.py:399: DeprecationWarning: PyArray_FromDims: use PyArray_SimpleNew.\n  def GetDecode(self): return _FactorGraph.CFactorGraph_GetDecode(self)\nFactorBP/FactorGraph.py:399: DeprecationWarning: PyArray_FromDimsAndDataAndDescr: use PyArray_NewFromDescr.\n  def GetDecode(self): return _FactorGraph.CFactorGraph_GetDecode(self)\n"
     ]
    },
    {
     "name": "stderr",
     "output_type": "stream",
     "text": [
      "FactorBP/FactorGraph.py:399: DeprecationWarning: PyArray_FromDims: use PyArray_SimpleNew.\n  def GetDecode(self): return _FactorGraph.CFactorGraph_GetDecode(self)\nFactorBP/FactorGraph.py:399: DeprecationWarning: PyArray_FromDimsAndDataAndDescr: use PyArray_NewFromDescr.\n  def GetDecode(self): return _FactorGraph.CFactorGraph_GetDecode(self)\n"
     ]
    },
    {
     "name": "stderr",
     "output_type": "stream",
     "text": [
      "FactorBP/FactorGraph.py:399: DeprecationWarning: PyArray_FromDims: use PyArray_SimpleNew.\n  def GetDecode(self): return _FactorGraph.CFactorGraph_GetDecode(self)\nFactorBP/FactorGraph.py:399: DeprecationWarning: PyArray_FromDimsAndDataAndDescr: use PyArray_NewFromDescr.\n  def GetDecode(self): return _FactorGraph.CFactorGraph_GetDecode(self)\n"
     ]
    },
    {
     "name": "stderr",
     "output_type": "stream",
     "text": [
      "FactorBP/FactorGraph.py:399: DeprecationWarning: PyArray_FromDims: use PyArray_SimpleNew.\n  def GetDecode(self): return _FactorGraph.CFactorGraph_GetDecode(self)\nFactorBP/FactorGraph.py:399: DeprecationWarning: PyArray_FromDimsAndDataAndDescr: use PyArray_NewFromDescr.\n  def GetDecode(self): return _FactorGraph.CFactorGraph_GetDecode(self)\n"
     ]
    },
    {
     "name": "stderr",
     "output_type": "stream",
     "text": [
      "FactorBP/FactorGraph.py:399: DeprecationWarning: PyArray_FromDims: use PyArray_SimpleNew.\n  def GetDecode(self): return _FactorGraph.CFactorGraph_GetDecode(self)\nFactorBP/FactorGraph.py:399: DeprecationWarning: PyArray_FromDimsAndDataAndDescr: use PyArray_NewFromDescr.\n  def GetDecode(self): return _FactorGraph.CFactorGraph_GetDecode(self)\n"
     ]
    },
    {
     "name": "stderr",
     "output_type": "stream",
     "text": [
      "FactorBP/FactorGraph.py:399: DeprecationWarning: PyArray_FromDims: use PyArray_SimpleNew.\n  def GetDecode(self): return _FactorGraph.CFactorGraph_GetDecode(self)\nFactorBP/FactorGraph.py:399: DeprecationWarning: PyArray_FromDimsAndDataAndDescr: use PyArray_NewFromDescr.\n  def GetDecode(self): return _FactorGraph.CFactorGraph_GetDecode(self)\n"
     ]
    },
    {
     "name": "stderr",
     "output_type": "stream",
     "text": [
      "FactorBP/FactorGraph.py:399: DeprecationWarning: PyArray_FromDims: use PyArray_SimpleNew.\n  def GetDecode(self): return _FactorGraph.CFactorGraph_GetDecode(self)\nFactorBP/FactorGraph.py:399: DeprecationWarning: PyArray_FromDimsAndDataAndDescr: use PyArray_NewFromDescr.\n  def GetDecode(self): return _FactorGraph.CFactorGraph_GetDecode(self)\n"
     ]
    },
    {
     "name": "stderr",
     "output_type": "stream",
     "text": [
      "FactorBP/FactorGraph.py:399: DeprecationWarning: PyArray_FromDims: use PyArray_SimpleNew.\n  def GetDecode(self): return _FactorGraph.CFactorGraph_GetDecode(self)\nFactorBP/FactorGraph.py:399: DeprecationWarning: PyArray_FromDimsAndDataAndDescr: use PyArray_NewFromDescr.\n  def GetDecode(self): return _FactorGraph.CFactorGraph_GetDecode(self)\n"
     ]
    },
    {
     "name": "stderr",
     "output_type": "stream",
     "text": [
      "FactorBP/FactorGraph.py:399: DeprecationWarning: PyArray_FromDims: use PyArray_SimpleNew.\n  def GetDecode(self): return _FactorGraph.CFactorGraph_GetDecode(self)\nFactorBP/FactorGraph.py:399: DeprecationWarning: PyArray_FromDimsAndDataAndDescr: use PyArray_NewFromDescr.\n  def GetDecode(self): return _FactorGraph.CFactorGraph_GetDecode(self)\n"
     ]
    },
    {
     "name": "stderr",
     "output_type": "stream",
     "text": [
      "FactorBP/FactorGraph.py:399: DeprecationWarning: PyArray_FromDims: use PyArray_SimpleNew.\n  def GetDecode(self): return _FactorGraph.CFactorGraph_GetDecode(self)\nFactorBP/FactorGraph.py:399: DeprecationWarning: PyArray_FromDimsAndDataAndDescr: use PyArray_NewFromDescr.\n  def GetDecode(self): return _FactorGraph.CFactorGraph_GetDecode(self)\n"
     ]
    },
    {
     "name": "stderr",
     "output_type": "stream",
     "text": [
      "FactorBP/FactorGraph.py:399: DeprecationWarning: PyArray_FromDims: use PyArray_SimpleNew.\n  def GetDecode(self): return _FactorGraph.CFactorGraph_GetDecode(self)\nFactorBP/FactorGraph.py:399: DeprecationWarning: PyArray_FromDimsAndDataAndDescr: use PyArray_NewFromDescr.\n  def GetDecode(self): return _FactorGraph.CFactorGraph_GetDecode(self)\n"
     ]
    },
    {
     "name": "stderr",
     "output_type": "stream",
     "text": [
      "FactorBP/FactorGraph.py:399: DeprecationWarning: PyArray_FromDims: use PyArray_SimpleNew.\n  def GetDecode(self): return _FactorGraph.CFactorGraph_GetDecode(self)\nFactorBP/FactorGraph.py:399: DeprecationWarning: PyArray_FromDimsAndDataAndDescr: use PyArray_NewFromDescr.\n  def GetDecode(self): return _FactorGraph.CFactorGraph_GetDecode(self)\n"
     ]
    },
    {
     "name": "stderr",
     "output_type": "stream",
     "text": [
      "FactorBP/FactorGraph.py:399: DeprecationWarning: PyArray_FromDims: use PyArray_SimpleNew.\n  def GetDecode(self): return _FactorGraph.CFactorGraph_GetDecode(self)\nFactorBP/FactorGraph.py:399: DeprecationWarning: PyArray_FromDimsAndDataAndDescr: use PyArray_NewFromDescr.\n  def GetDecode(self): return _FactorGraph.CFactorGraph_GetDecode(self)\n"
     ]
    },
    {
     "name": "stderr",
     "output_type": "stream",
     "text": [
      "FactorBP/FactorGraph.py:399: DeprecationWarning: PyArray_FromDims: use PyArray_SimpleNew.\n  def GetDecode(self): return _FactorGraph.CFactorGraph_GetDecode(self)\nFactorBP/FactorGraph.py:399: DeprecationWarning: PyArray_FromDimsAndDataAndDescr: use PyArray_NewFromDescr.\n  def GetDecode(self): return _FactorGraph.CFactorGraph_GetDecode(self)\n"
     ]
    },
    {
     "name": "stderr",
     "output_type": "stream",
     "text": [
      "FactorBP/FactorGraph.py:399: DeprecationWarning: PyArray_FromDims: use PyArray_SimpleNew.\n  def GetDecode(self): return _FactorGraph.CFactorGraph_GetDecode(self)\nFactorBP/FactorGraph.py:399: DeprecationWarning: PyArray_FromDimsAndDataAndDescr: use PyArray_NewFromDescr.\n  def GetDecode(self): return _FactorGraph.CFactorGraph_GetDecode(self)\n"
     ]
    },
    {
     "name": "stderr",
     "output_type": "stream",
     "text": [
      "FactorBP/FactorGraph.py:399: DeprecationWarning: PyArray_FromDims: use PyArray_SimpleNew.\n  def GetDecode(self): return _FactorGraph.CFactorGraph_GetDecode(self)\nFactorBP/FactorGraph.py:399: DeprecationWarning: PyArray_FromDimsAndDataAndDescr: use PyArray_NewFromDescr.\n  def GetDecode(self): return _FactorGraph.CFactorGraph_GetDecode(self)\n"
     ]
    },
    {
     "name": "stderr",
     "output_type": "stream",
     "text": [
      "FactorBP/FactorGraph.py:399: DeprecationWarning: PyArray_FromDims: use PyArray_SimpleNew.\n  def GetDecode(self): return _FactorGraph.CFactorGraph_GetDecode(self)\nFactorBP/FactorGraph.py:399: DeprecationWarning: PyArray_FromDimsAndDataAndDescr: use PyArray_NewFromDescr.\n  def GetDecode(self): return _FactorGraph.CFactorGraph_GetDecode(self)\n"
     ]
    },
    {
     "name": "stderr",
     "output_type": "stream",
     "text": [
      "FactorBP/FactorGraph.py:399: DeprecationWarning: PyArray_FromDims: use PyArray_SimpleNew.\n  def GetDecode(self): return _FactorGraph.CFactorGraph_GetDecode(self)\nFactorBP/FactorGraph.py:399: DeprecationWarning: PyArray_FromDimsAndDataAndDescr: use PyArray_NewFromDescr.\n  def GetDecode(self): return _FactorGraph.CFactorGraph_GetDecode(self)\n"
     ]
    },
    {
     "name": "stderr",
     "output_type": "stream",
     "text": [
      "FactorBP/FactorGraph.py:399: DeprecationWarning: PyArray_FromDims: use PyArray_SimpleNew.\n  def GetDecode(self): return _FactorGraph.CFactorGraph_GetDecode(self)\nFactorBP/FactorGraph.py:399: DeprecationWarning: PyArray_FromDimsAndDataAndDescr: use PyArray_NewFromDescr.\n  def GetDecode(self): return _FactorGraph.CFactorGraph_GetDecode(self)\n"
     ]
    },
    {
     "name": "stderr",
     "output_type": "stream",
     "text": [
      "FactorBP/FactorGraph.py:399: DeprecationWarning: PyArray_FromDims: use PyArray_SimpleNew.\n  def GetDecode(self): return _FactorGraph.CFactorGraph_GetDecode(self)\nFactorBP/FactorGraph.py:399: DeprecationWarning: PyArray_FromDimsAndDataAndDescr: use PyArray_NewFromDescr.\n  def GetDecode(self): return _FactorGraph.CFactorGraph_GetDecode(self)\n"
     ]
    },
    {
     "name": "stderr",
     "output_type": "stream",
     "text": [
      "FactorBP/FactorGraph.py:399: DeprecationWarning: PyArray_FromDims: use PyArray_SimpleNew.\n  def GetDecode(self): return _FactorGraph.CFactorGraph_GetDecode(self)\nFactorBP/FactorGraph.py:399: DeprecationWarning: PyArray_FromDimsAndDataAndDescr: use PyArray_NewFromDescr.\n  def GetDecode(self): return _FactorGraph.CFactorGraph_GetDecode(self)\n"
     ]
    },
    {
     "name": "stderr",
     "output_type": "stream",
     "text": [
      "FactorBP/FactorGraph.py:399: DeprecationWarning: PyArray_FromDims: use PyArray_SimpleNew.\n  def GetDecode(self): return _FactorGraph.CFactorGraph_GetDecode(self)\nFactorBP/FactorGraph.py:399: DeprecationWarning: PyArray_FromDimsAndDataAndDescr: use PyArray_NewFromDescr.\n  def GetDecode(self): return _FactorGraph.CFactorGraph_GetDecode(self)\n"
     ]
    },
    {
     "name": "stderr",
     "output_type": "stream",
     "text": [
      "FactorBP/FactorGraph.py:399: DeprecationWarning: PyArray_FromDims: use PyArray_SimpleNew.\n  def GetDecode(self): return _FactorGraph.CFactorGraph_GetDecode(self)\nFactorBP/FactorGraph.py:399: DeprecationWarning: PyArray_FromDimsAndDataAndDescr: use PyArray_NewFromDescr.\n  def GetDecode(self): return _FactorGraph.CFactorGraph_GetDecode(self)\n"
     ]
    },
    {
     "name": "stderr",
     "output_type": "stream",
     "text": [
      "FactorBP/FactorGraph.py:399: DeprecationWarning: PyArray_FromDims: use PyArray_SimpleNew.\n  def GetDecode(self): return _FactorGraph.CFactorGraph_GetDecode(self)\nFactorBP/FactorGraph.py:399: DeprecationWarning: PyArray_FromDimsAndDataAndDescr: use PyArray_NewFromDescr.\n  def GetDecode(self): return _FactorGraph.CFactorGraph_GetDecode(self)\n"
     ]
    },
    {
     "name": "stderr",
     "output_type": "stream",
     "text": [
      "FactorBP/FactorGraph.py:399: DeprecationWarning: PyArray_FromDims: use PyArray_SimpleNew.\n  def GetDecode(self): return _FactorGraph.CFactorGraph_GetDecode(self)\nFactorBP/FactorGraph.py:399: DeprecationWarning: PyArray_FromDimsAndDataAndDescr: use PyArray_NewFromDescr.\n  def GetDecode(self): return _FactorGraph.CFactorGraph_GetDecode(self)\n"
     ]
    },
    {
     "name": "stderr",
     "output_type": "stream",
     "text": [
      "FactorBP/FactorGraph.py:399: DeprecationWarning: PyArray_FromDims: use PyArray_SimpleNew.\n  def GetDecode(self): return _FactorGraph.CFactorGraph_GetDecode(self)\nFactorBP/FactorGraph.py:399: DeprecationWarning: PyArray_FromDimsAndDataAndDescr: use PyArray_NewFromDescr.\n  def GetDecode(self): return _FactorGraph.CFactorGraph_GetDecode(self)\n"
     ]
    },
    {
     "name": "stderr",
     "output_type": "stream",
     "text": [
      "FactorBP/FactorGraph.py:399: DeprecationWarning: PyArray_FromDims: use PyArray_SimpleNew.\n  def GetDecode(self): return _FactorGraph.CFactorGraph_GetDecode(self)\nFactorBP/FactorGraph.py:399: DeprecationWarning: PyArray_FromDimsAndDataAndDescr: use PyArray_NewFromDescr.\n  def GetDecode(self): return _FactorGraph.CFactorGraph_GetDecode(self)\n"
     ]
    },
    {
     "name": "stderr",
     "output_type": "stream",
     "text": [
      "FactorBP/FactorGraph.py:399: DeprecationWarning: PyArray_FromDims: use PyArray_SimpleNew.\n  def GetDecode(self): return _FactorGraph.CFactorGraph_GetDecode(self)\nFactorBP/FactorGraph.py:399: DeprecationWarning: PyArray_FromDimsAndDataAndDescr: use PyArray_NewFromDescr.\n  def GetDecode(self): return _FactorGraph.CFactorGraph_GetDecode(self)\n"
     ]
    },
    {
     "name": "stderr",
     "output_type": "stream",
     "text": [
      "FactorBP/FactorGraph.py:399: DeprecationWarning: PyArray_FromDims: use PyArray_SimpleNew.\n  def GetDecode(self): return _FactorGraph.CFactorGraph_GetDecode(self)\nFactorBP/FactorGraph.py:399: DeprecationWarning: PyArray_FromDimsAndDataAndDescr: use PyArray_NewFromDescr.\n  def GetDecode(self): return _FactorGraph.CFactorGraph_GetDecode(self)\n"
     ]
    },
    {
     "name": "stderr",
     "output_type": "stream",
     "text": [
      "FactorBP/FactorGraph.py:399: DeprecationWarning: PyArray_FromDims: use PyArray_SimpleNew.\n  def GetDecode(self): return _FactorGraph.CFactorGraph_GetDecode(self)\nFactorBP/FactorGraph.py:399: DeprecationWarning: PyArray_FromDimsAndDataAndDescr: use PyArray_NewFromDescr.\n  def GetDecode(self): return _FactorGraph.CFactorGraph_GetDecode(self)\n"
     ]
    },
    {
     "name": "stderr",
     "output_type": "stream",
     "text": [
      "FactorBP/FactorGraph.py:399: DeprecationWarning: PyArray_FromDims: use PyArray_SimpleNew.\n  def GetDecode(self): return _FactorGraph.CFactorGraph_GetDecode(self)\nFactorBP/FactorGraph.py:399: DeprecationWarning: PyArray_FromDimsAndDataAndDescr: use PyArray_NewFromDescr.\n  def GetDecode(self): return _FactorGraph.CFactorGraph_GetDecode(self)\n"
     ]
    },
    {
     "name": "stderr",
     "output_type": "stream",
     "text": [
      "FactorBP/FactorGraph.py:399: DeprecationWarning: PyArray_FromDims: use PyArray_SimpleNew.\n  def GetDecode(self): return _FactorGraph.CFactorGraph_GetDecode(self)\nFactorBP/FactorGraph.py:399: DeprecationWarning: PyArray_FromDimsAndDataAndDescr: use PyArray_NewFromDescr.\n  def GetDecode(self): return _FactorGraph.CFactorGraph_GetDecode(self)\n"
     ]
    },
    {
     "name": "stderr",
     "output_type": "stream",
     "text": [
      "FactorBP/FactorGraph.py:399: DeprecationWarning: PyArray_FromDims: use PyArray_SimpleNew.\n  def GetDecode(self): return _FactorGraph.CFactorGraph_GetDecode(self)\nFactorBP/FactorGraph.py:399: DeprecationWarning: PyArray_FromDimsAndDataAndDescr: use PyArray_NewFromDescr.\n  def GetDecode(self): return _FactorGraph.CFactorGraph_GetDecode(self)\n"
     ]
    },
    {
     "name": "stderr",
     "output_type": "stream",
     "text": [
      "FactorBP/FactorGraph.py:399: DeprecationWarning: PyArray_FromDims: use PyArray_SimpleNew.\n  def GetDecode(self): return _FactorGraph.CFactorGraph_GetDecode(self)\nFactorBP/FactorGraph.py:399: DeprecationWarning: PyArray_FromDimsAndDataAndDescr: use PyArray_NewFromDescr.\n  def GetDecode(self): return _FactorGraph.CFactorGraph_GetDecode(self)\n"
     ]
    },
    {
     "name": "stderr",
     "output_type": "stream",
     "text": [
      "FactorBP/FactorGraph.py:399: DeprecationWarning: PyArray_FromDims: use PyArray_SimpleNew.\n  def GetDecode(self): return _FactorGraph.CFactorGraph_GetDecode(self)\nFactorBP/FactorGraph.py:399: DeprecationWarning: PyArray_FromDimsAndDataAndDescr: use PyArray_NewFromDescr.\n  def GetDecode(self): return _FactorGraph.CFactorGraph_GetDecode(self)\n"
     ]
    },
    {
     "name": "stderr",
     "output_type": "stream",
     "text": [
      "FactorBP/FactorGraph.py:399: DeprecationWarning: PyArray_FromDims: use PyArray_SimpleNew.\n  def GetDecode(self): return _FactorGraph.CFactorGraph_GetDecode(self)\nFactorBP/FactorGraph.py:399: DeprecationWarning: PyArray_FromDimsAndDataAndDescr: use PyArray_NewFromDescr.\n  def GetDecode(self): return _FactorGraph.CFactorGraph_GetDecode(self)\n"
     ]
    },
    {
     "name": "stderr",
     "output_type": "stream",
     "text": [
      "FactorBP/FactorGraph.py:399: DeprecationWarning: PyArray_FromDims: use PyArray_SimpleNew.\n  def GetDecode(self): return _FactorGraph.CFactorGraph_GetDecode(self)\nFactorBP/FactorGraph.py:399: DeprecationWarning: PyArray_FromDimsAndDataAndDescr: use PyArray_NewFromDescr.\n  def GetDecode(self): return _FactorGraph.CFactorGraph_GetDecode(self)\n"
     ]
    },
    {
     "name": "stderr",
     "output_type": "stream",
     "text": [
      "FactorBP/FactorGraph.py:399: DeprecationWarning: PyArray_FromDims: use PyArray_SimpleNew.\n  def GetDecode(self): return _FactorGraph.CFactorGraph_GetDecode(self)\nFactorBP/FactorGraph.py:399: DeprecationWarning: PyArray_FromDimsAndDataAndDescr: use PyArray_NewFromDescr.\n  def GetDecode(self): return _FactorGraph.CFactorGraph_GetDecode(self)\n"
     ]
    },
    {
     "name": "stderr",
     "output_type": "stream",
     "text": [
      "FactorBP/FactorGraph.py:399: DeprecationWarning: PyArray_FromDims: use PyArray_SimpleNew.\n  def GetDecode(self): return _FactorGraph.CFactorGraph_GetDecode(self)\nFactorBP/FactorGraph.py:399: DeprecationWarning: PyArray_FromDimsAndDataAndDescr: use PyArray_NewFromDescr.\n  def GetDecode(self): return _FactorGraph.CFactorGraph_GetDecode(self)\n"
     ]
    },
    {
     "name": "stderr",
     "output_type": "stream",
     "text": [
      "FactorBP/FactorGraph.py:399: DeprecationWarning: PyArray_FromDims: use PyArray_SimpleNew.\n  def GetDecode(self): return _FactorGraph.CFactorGraph_GetDecode(self)\nFactorBP/FactorGraph.py:399: DeprecationWarning: PyArray_FromDimsAndDataAndDescr: use PyArray_NewFromDescr.\n  def GetDecode(self): return _FactorGraph.CFactorGraph_GetDecode(self)\n"
     ]
    },
    {
     "name": "stderr",
     "output_type": "stream",
     "text": [
      "FactorBP/FactorGraph.py:399: DeprecationWarning: PyArray_FromDims: use PyArray_SimpleNew.\n  def GetDecode(self): return _FactorGraph.CFactorGraph_GetDecode(self)\nFactorBP/FactorGraph.py:399: DeprecationWarning: PyArray_FromDimsAndDataAndDescr: use PyArray_NewFromDescr.\n  def GetDecode(self): return _FactorGraph.CFactorGraph_GetDecode(self)\n"
     ]
    },
    {
     "name": "stderr",
     "output_type": "stream",
     "text": [
      "FactorBP/FactorGraph.py:399: DeprecationWarning: PyArray_FromDims: use PyArray_SimpleNew.\n  def GetDecode(self): return _FactorGraph.CFactorGraph_GetDecode(self)\nFactorBP/FactorGraph.py:399: DeprecationWarning: PyArray_FromDimsAndDataAndDescr: use PyArray_NewFromDescr.\n  def GetDecode(self): return _FactorGraph.CFactorGraph_GetDecode(self)\n"
     ]
    },
    {
     "name": "stderr",
     "output_type": "stream",
     "text": [
      "FactorBP/FactorGraph.py:399: DeprecationWarning: PyArray_FromDims: use PyArray_SimpleNew.\n  def GetDecode(self): return _FactorGraph.CFactorGraph_GetDecode(self)\nFactorBP/FactorGraph.py:399: DeprecationWarning: PyArray_FromDimsAndDataAndDescr: use PyArray_NewFromDescr.\n  def GetDecode(self): return _FactorGraph.CFactorGraph_GetDecode(self)\n"
     ]
    },
    {
     "name": "stderr",
     "output_type": "stream",
     "text": [
      "FactorBP/FactorGraph.py:399: DeprecationWarning: PyArray_FromDims: use PyArray_SimpleNew.\n  def GetDecode(self): return _FactorGraph.CFactorGraph_GetDecode(self)\nFactorBP/FactorGraph.py:399: DeprecationWarning: PyArray_FromDimsAndDataAndDescr: use PyArray_NewFromDescr.\n  def GetDecode(self): return _FactorGraph.CFactorGraph_GetDecode(self)\n"
     ]
    },
    {
     "name": "stderr",
     "output_type": "stream",
     "text": [
      "FactorBP/FactorGraph.py:399: DeprecationWarning: PyArray_FromDims: use PyArray_SimpleNew.\n  def GetDecode(self): return _FactorGraph.CFactorGraph_GetDecode(self)\nFactorBP/FactorGraph.py:399: DeprecationWarning: PyArray_FromDimsAndDataAndDescr: use PyArray_NewFromDescr.\n  def GetDecode(self): return _FactorGraph.CFactorGraph_GetDecode(self)\n"
     ]
    },
    {
     "name": "stderr",
     "output_type": "stream",
     "text": [
      "FactorBP/FactorGraph.py:399: DeprecationWarning: PyArray_FromDims: use PyArray_SimpleNew.\n  def GetDecode(self): return _FactorGraph.CFactorGraph_GetDecode(self)\nFactorBP/FactorGraph.py:399: DeprecationWarning: PyArray_FromDimsAndDataAndDescr: use PyArray_NewFromDescr.\n  def GetDecode(self): return _FactorGraph.CFactorGraph_GetDecode(self)\n"
     ]
    },
    {
     "name": "stderr",
     "output_type": "stream",
     "text": [
      "FactorBP/FactorGraph.py:399: DeprecationWarning: PyArray_FromDims: use PyArray_SimpleNew.\n  def GetDecode(self): return _FactorGraph.CFactorGraph_GetDecode(self)\nFactorBP/FactorGraph.py:399: DeprecationWarning: PyArray_FromDimsAndDataAndDescr: use PyArray_NewFromDescr.\n  def GetDecode(self): return _FactorGraph.CFactorGraph_GetDecode(self)\n"
     ]
    },
    {
     "name": "stderr",
     "output_type": "stream",
     "text": [
      "FactorBP/FactorGraph.py:399: DeprecationWarning: PyArray_FromDims: use PyArray_SimpleNew.\n  def GetDecode(self): return _FactorGraph.CFactorGraph_GetDecode(self)\nFactorBP/FactorGraph.py:399: DeprecationWarning: PyArray_FromDimsAndDataAndDescr: use PyArray_NewFromDescr.\n  def GetDecode(self): return _FactorGraph.CFactorGraph_GetDecode(self)\n"
     ]
    },
    {
     "name": "stderr",
     "output_type": "stream",
     "text": [
      "FactorBP/FactorGraph.py:399: DeprecationWarning: PyArray_FromDims: use PyArray_SimpleNew.\n  def GetDecode(self): return _FactorGraph.CFactorGraph_GetDecode(self)\nFactorBP/FactorGraph.py:399: DeprecationWarning: PyArray_FromDimsAndDataAndDescr: use PyArray_NewFromDescr.\n  def GetDecode(self): return _FactorGraph.CFactorGraph_GetDecode(self)\n"
     ]
    },
    {
     "name": "stderr",
     "output_type": "stream",
     "text": [
      "FactorBP/FactorGraph.py:399: DeprecationWarning: PyArray_FromDims: use PyArray_SimpleNew.\n  def GetDecode(self): return _FactorGraph.CFactorGraph_GetDecode(self)\nFactorBP/FactorGraph.py:399: DeprecationWarning: PyArray_FromDimsAndDataAndDescr: use PyArray_NewFromDescr.\n  def GetDecode(self): return _FactorGraph.CFactorGraph_GetDecode(self)\n"
     ]
    },
    {
     "name": "stderr",
     "output_type": "stream",
     "text": [
      "FactorBP/FactorGraph.py:399: DeprecationWarning: PyArray_FromDims: use PyArray_SimpleNew.\n  def GetDecode(self): return _FactorGraph.CFactorGraph_GetDecode(self)\nFactorBP/FactorGraph.py:399: DeprecationWarning: PyArray_FromDimsAndDataAndDescr: use PyArray_NewFromDescr.\n  def GetDecode(self): return _FactorGraph.CFactorGraph_GetDecode(self)\n"
     ]
    },
    {
     "name": "stderr",
     "output_type": "stream",
     "text": [
      "FactorBP/FactorGraph.py:399: DeprecationWarning: PyArray_FromDims: use PyArray_SimpleNew.\n  def GetDecode(self): return _FactorGraph.CFactorGraph_GetDecode(self)\nFactorBP/FactorGraph.py:399: DeprecationWarning: PyArray_FromDimsAndDataAndDescr: use PyArray_NewFromDescr.\n  def GetDecode(self): return _FactorGraph.CFactorGraph_GetDecode(self)\n"
     ]
    },
    {
     "name": "stderr",
     "output_type": "stream",
     "text": [
      "FactorBP/FactorGraph.py:399: DeprecationWarning: PyArray_FromDims: use PyArray_SimpleNew.\n  def GetDecode(self): return _FactorGraph.CFactorGraph_GetDecode(self)\nFactorBP/FactorGraph.py:399: DeprecationWarning: PyArray_FromDimsAndDataAndDescr: use PyArray_NewFromDescr.\n  def GetDecode(self): return _FactorGraph.CFactorGraph_GetDecode(self)\n"
     ]
    },
    {
     "name": "stderr",
     "output_type": "stream",
     "text": [
      "FactorBP/FactorGraph.py:399: DeprecationWarning: PyArray_FromDims: use PyArray_SimpleNew.\n  def GetDecode(self): return _FactorGraph.CFactorGraph_GetDecode(self)\nFactorBP/FactorGraph.py:399: DeprecationWarning: PyArray_FromDimsAndDataAndDescr: use PyArray_NewFromDescr.\n  def GetDecode(self): return _FactorGraph.CFactorGraph_GetDecode(self)\n"
     ]
    },
    {
     "name": "stderr",
     "output_type": "stream",
     "text": [
      "FactorBP/FactorGraph.py:399: DeprecationWarning: PyArray_FromDims: use PyArray_SimpleNew.\n  def GetDecode(self): return _FactorGraph.CFactorGraph_GetDecode(self)\nFactorBP/FactorGraph.py:399: DeprecationWarning: PyArray_FromDimsAndDataAndDescr: use PyArray_NewFromDescr.\n  def GetDecode(self): return _FactorGraph.CFactorGraph_GetDecode(self)\n"
     ]
    },
    {
     "name": "stderr",
     "output_type": "stream",
     "text": [
      "FactorBP/FactorGraph.py:399: DeprecationWarning: PyArray_FromDims: use PyArray_SimpleNew.\n  def GetDecode(self): return _FactorGraph.CFactorGraph_GetDecode(self)\nFactorBP/FactorGraph.py:399: DeprecationWarning: PyArray_FromDimsAndDataAndDescr: use PyArray_NewFromDescr.\n  def GetDecode(self): return _FactorGraph.CFactorGraph_GetDecode(self)\n"
     ]
    },
    {
     "name": "stderr",
     "output_type": "stream",
     "text": [
      "FactorBP/FactorGraph.py:399: DeprecationWarning: PyArray_FromDims: use PyArray_SimpleNew.\n  def GetDecode(self): return _FactorGraph.CFactorGraph_GetDecode(self)\nFactorBP/FactorGraph.py:399: DeprecationWarning: PyArray_FromDimsAndDataAndDescr: use PyArray_NewFromDescr.\n  def GetDecode(self): return _FactorGraph.CFactorGraph_GetDecode(self)\n"
     ]
    },
    {
     "name": "stderr",
     "output_type": "stream",
     "text": [
      "FactorBP/FactorGraph.py:399: DeprecationWarning: PyArray_FromDims: use PyArray_SimpleNew.\n  def GetDecode(self): return _FactorGraph.CFactorGraph_GetDecode(self)\nFactorBP/FactorGraph.py:399: DeprecationWarning: PyArray_FromDimsAndDataAndDescr: use PyArray_NewFromDescr.\n  def GetDecode(self): return _FactorGraph.CFactorGraph_GetDecode(self)\n"
     ]
    },
    {
     "name": "stderr",
     "output_type": "stream",
     "text": [
      "FactorBP/FactorGraph.py:399: DeprecationWarning: PyArray_FromDims: use PyArray_SimpleNew.\n  def GetDecode(self): return _FactorGraph.CFactorGraph_GetDecode(self)\nFactorBP/FactorGraph.py:399: DeprecationWarning: PyArray_FromDimsAndDataAndDescr: use PyArray_NewFromDescr.\n  def GetDecode(self): return _FactorGraph.CFactorGraph_GetDecode(self)\n"
     ]
    },
    {
     "name": "stderr",
     "output_type": "stream",
     "text": [
      "FactorBP/FactorGraph.py:399: DeprecationWarning: PyArray_FromDims: use PyArray_SimpleNew.\n  def GetDecode(self): return _FactorGraph.CFactorGraph_GetDecode(self)\nFactorBP/FactorGraph.py:399: DeprecationWarning: PyArray_FromDimsAndDataAndDescr: use PyArray_NewFromDescr.\n  def GetDecode(self): return _FactorGraph.CFactorGraph_GetDecode(self)\n"
     ]
    },
    {
     "name": "stderr",
     "output_type": "stream",
     "text": [
      "FactorBP/FactorGraph.py:399: DeprecationWarning: PyArray_FromDims: use PyArray_SimpleNew.\n  def GetDecode(self): return _FactorGraph.CFactorGraph_GetDecode(self)\nFactorBP/FactorGraph.py:399: DeprecationWarning: PyArray_FromDimsAndDataAndDescr: use PyArray_NewFromDescr.\n  def GetDecode(self): return _FactorGraph.CFactorGraph_GetDecode(self)\n"
     ]
    },
    {
     "name": "stderr",
     "output_type": "stream",
     "text": [
      "FactorBP/FactorGraph.py:399: DeprecationWarning: PyArray_FromDims: use PyArray_SimpleNew.\n  def GetDecode(self): return _FactorGraph.CFactorGraph_GetDecode(self)\nFactorBP/FactorGraph.py:399: DeprecationWarning: PyArray_FromDimsAndDataAndDescr: use PyArray_NewFromDescr.\n  def GetDecode(self): return _FactorGraph.CFactorGraph_GetDecode(self)\n"
     ]
    },
    {
     "name": "stderr",
     "output_type": "stream",
     "text": [
      "FactorBP/FactorGraph.py:399: DeprecationWarning: PyArray_FromDims: use PyArray_SimpleNew.\n  def GetDecode(self): return _FactorGraph.CFactorGraph_GetDecode(self)\nFactorBP/FactorGraph.py:399: DeprecationWarning: PyArray_FromDimsAndDataAndDescr: use PyArray_NewFromDescr.\n  def GetDecode(self): return _FactorGraph.CFactorGraph_GetDecode(self)\n"
     ]
    },
    {
     "name": "stderr",
     "output_type": "stream",
     "text": [
      "FactorBP/FactorGraph.py:399: DeprecationWarning: PyArray_FromDims: use PyArray_SimpleNew.\n  def GetDecode(self): return _FactorGraph.CFactorGraph_GetDecode(self)\nFactorBP/FactorGraph.py:399: DeprecationWarning: PyArray_FromDimsAndDataAndDescr: use PyArray_NewFromDescr.\n  def GetDecode(self): return _FactorGraph.CFactorGraph_GetDecode(self)\n"
     ]
    },
    {
     "name": "stderr",
     "output_type": "stream",
     "text": [
      "FactorBP/FactorGraph.py:399: DeprecationWarning: PyArray_FromDims: use PyArray_SimpleNew.\n  def GetDecode(self): return _FactorGraph.CFactorGraph_GetDecode(self)\nFactorBP/FactorGraph.py:399: DeprecationWarning: PyArray_FromDimsAndDataAndDescr: use PyArray_NewFromDescr.\n  def GetDecode(self): return _FactorGraph.CFactorGraph_GetDecode(self)\n"
     ]
    },
    {
     "name": "stdout",
     "output_type": "stream",
     "text": [
      "Ours Accuracy 1.000000 Running Time 0.004242 Obj 1.000000\nOurs-BCA Accuracy 1.000000 Running Time 0.039028 Obj 1.000000\nBCA Accuracy 1.000000 Running Time 0.023422 Obj 1.000000\nBCA-MP Accuracy 1.000000 Running Time 0.127067 Obj 1.000000\nBCA-IPFP Accuracy 1.000000 Running Time 0.092178 Obj 1.000000\nHGM Accuracy 0.913187 Running Time 0.011335 Obj 0.893184\nRRWHM Accuracy 1.000000 Running Time 0.049138 Obj 1.000000\nTM Accuracy 0.994139 Running Time 0.081275 Obj 0.995319\n××××××××××××××××××××\n Start baseline: 30\n"
     ]
    },
    {
     "name": "stderr",
     "output_type": "stream",
     "text": [
      "FactorBP/FactorGraph.py:399: DeprecationWarning: PyArray_FromDims: use PyArray_SimpleNew.\n  def GetDecode(self): return _FactorGraph.CFactorGraph_GetDecode(self)\nFactorBP/FactorGraph.py:399: DeprecationWarning: PyArray_FromDimsAndDataAndDescr: use PyArray_NewFromDescr.\n  def GetDecode(self): return _FactorGraph.CFactorGraph_GetDecode(self)\n"
     ]
    },
    {
     "name": "stderr",
     "output_type": "stream",
     "text": [
      "FactorBP/FactorGraph.py:399: DeprecationWarning: PyArray_FromDims: use PyArray_SimpleNew.\n  def GetDecode(self): return _FactorGraph.CFactorGraph_GetDecode(self)\nFactorBP/FactorGraph.py:399: DeprecationWarning: PyArray_FromDimsAndDataAndDescr: use PyArray_NewFromDescr.\n  def GetDecode(self): return _FactorGraph.CFactorGraph_GetDecode(self)\n"
     ]
    },
    {
     "name": "stderr",
     "output_type": "stream",
     "text": [
      "FactorBP/FactorGraph.py:399: DeprecationWarning: PyArray_FromDims: use PyArray_SimpleNew.\n  def GetDecode(self): return _FactorGraph.CFactorGraph_GetDecode(self)\nFactorBP/FactorGraph.py:399: DeprecationWarning: PyArray_FromDimsAndDataAndDescr: use PyArray_NewFromDescr.\n  def GetDecode(self): return _FactorGraph.CFactorGraph_GetDecode(self)\n"
     ]
    },
    {
     "name": "stderr",
     "output_type": "stream",
     "text": [
      "FactorBP/FactorGraph.py:399: DeprecationWarning: PyArray_FromDims: use PyArray_SimpleNew.\n  def GetDecode(self): return _FactorGraph.CFactorGraph_GetDecode(self)\nFactorBP/FactorGraph.py:399: DeprecationWarning: PyArray_FromDimsAndDataAndDescr: use PyArray_NewFromDescr.\n  def GetDecode(self): return _FactorGraph.CFactorGraph_GetDecode(self)\n"
     ]
    },
    {
     "name": "stderr",
     "output_type": "stream",
     "text": [
      "FactorBP/FactorGraph.py:399: DeprecationWarning: PyArray_FromDims: use PyArray_SimpleNew.\n  def GetDecode(self): return _FactorGraph.CFactorGraph_GetDecode(self)\nFactorBP/FactorGraph.py:399: DeprecationWarning: PyArray_FromDimsAndDataAndDescr: use PyArray_NewFromDescr.\n  def GetDecode(self): return _FactorGraph.CFactorGraph_GetDecode(self)\n"
     ]
    },
    {
     "name": "stderr",
     "output_type": "stream",
     "text": [
      "FactorBP/FactorGraph.py:399: DeprecationWarning: PyArray_FromDims: use PyArray_SimpleNew.\n  def GetDecode(self): return _FactorGraph.CFactorGraph_GetDecode(self)\nFactorBP/FactorGraph.py:399: DeprecationWarning: PyArray_FromDimsAndDataAndDescr: use PyArray_NewFromDescr.\n  def GetDecode(self): return _FactorGraph.CFactorGraph_GetDecode(self)\n"
     ]
    },
    {
     "name": "stderr",
     "output_type": "stream",
     "text": [
      "FactorBP/FactorGraph.py:399: DeprecationWarning: PyArray_FromDims: use PyArray_SimpleNew.\n  def GetDecode(self): return _FactorGraph.CFactorGraph_GetDecode(self)\nFactorBP/FactorGraph.py:399: DeprecationWarning: PyArray_FromDimsAndDataAndDescr: use PyArray_NewFromDescr.\n  def GetDecode(self): return _FactorGraph.CFactorGraph_GetDecode(self)\n"
     ]
    },
    {
     "name": "stderr",
     "output_type": "stream",
     "text": [
      "FactorBP/FactorGraph.py:399: DeprecationWarning: PyArray_FromDims: use PyArray_SimpleNew.\n  def GetDecode(self): return _FactorGraph.CFactorGraph_GetDecode(self)\nFactorBP/FactorGraph.py:399: DeprecationWarning: PyArray_FromDimsAndDataAndDescr: use PyArray_NewFromDescr.\n  def GetDecode(self): return _FactorGraph.CFactorGraph_GetDecode(self)\n"
     ]
    },
    {
     "name": "stderr",
     "output_type": "stream",
     "text": [
      "FactorBP/FactorGraph.py:399: DeprecationWarning: PyArray_FromDims: use PyArray_SimpleNew.\n  def GetDecode(self): return _FactorGraph.CFactorGraph_GetDecode(self)\nFactorBP/FactorGraph.py:399: DeprecationWarning: PyArray_FromDimsAndDataAndDescr: use PyArray_NewFromDescr.\n  def GetDecode(self): return _FactorGraph.CFactorGraph_GetDecode(self)\n"
     ]
    },
    {
     "name": "stderr",
     "output_type": "stream",
     "text": [
      "FactorBP/FactorGraph.py:399: DeprecationWarning: PyArray_FromDims: use PyArray_SimpleNew.\n  def GetDecode(self): return _FactorGraph.CFactorGraph_GetDecode(self)\nFactorBP/FactorGraph.py:399: DeprecationWarning: PyArray_FromDimsAndDataAndDescr: use PyArray_NewFromDescr.\n  def GetDecode(self): return _FactorGraph.CFactorGraph_GetDecode(self)\n"
     ]
    },
    {
     "name": "stderr",
     "output_type": "stream",
     "text": [
      "FactorBP/FactorGraph.py:399: DeprecationWarning: PyArray_FromDims: use PyArray_SimpleNew.\n  def GetDecode(self): return _FactorGraph.CFactorGraph_GetDecode(self)\nFactorBP/FactorGraph.py:399: DeprecationWarning: PyArray_FromDimsAndDataAndDescr: use PyArray_NewFromDescr.\n  def GetDecode(self): return _FactorGraph.CFactorGraph_GetDecode(self)\n"
     ]
    },
    {
     "name": "stderr",
     "output_type": "stream",
     "text": [
      "FactorBP/FactorGraph.py:399: DeprecationWarning: PyArray_FromDims: use PyArray_SimpleNew.\n  def GetDecode(self): return _FactorGraph.CFactorGraph_GetDecode(self)\nFactorBP/FactorGraph.py:399: DeprecationWarning: PyArray_FromDimsAndDataAndDescr: use PyArray_NewFromDescr.\n  def GetDecode(self): return _FactorGraph.CFactorGraph_GetDecode(self)\n"
     ]
    },
    {
     "name": "stderr",
     "output_type": "stream",
     "text": [
      "FactorBP/FactorGraph.py:399: DeprecationWarning: PyArray_FromDims: use PyArray_SimpleNew.\n  def GetDecode(self): return _FactorGraph.CFactorGraph_GetDecode(self)\nFactorBP/FactorGraph.py:399: DeprecationWarning: PyArray_FromDimsAndDataAndDescr: use PyArray_NewFromDescr.\n  def GetDecode(self): return _FactorGraph.CFactorGraph_GetDecode(self)\n"
     ]
    },
    {
     "name": "stderr",
     "output_type": "stream",
     "text": [
      "FactorBP/FactorGraph.py:399: DeprecationWarning: PyArray_FromDims: use PyArray_SimpleNew.\n  def GetDecode(self): return _FactorGraph.CFactorGraph_GetDecode(self)\nFactorBP/FactorGraph.py:399: DeprecationWarning: PyArray_FromDimsAndDataAndDescr: use PyArray_NewFromDescr.\n  def GetDecode(self): return _FactorGraph.CFactorGraph_GetDecode(self)\n"
     ]
    },
    {
     "name": "stderr",
     "output_type": "stream",
     "text": [
      "FactorBP/FactorGraph.py:399: DeprecationWarning: PyArray_FromDims: use PyArray_SimpleNew.\n  def GetDecode(self): return _FactorGraph.CFactorGraph_GetDecode(self)\nFactorBP/FactorGraph.py:399: DeprecationWarning: PyArray_FromDimsAndDataAndDescr: use PyArray_NewFromDescr.\n  def GetDecode(self): return _FactorGraph.CFactorGraph_GetDecode(self)\n"
     ]
    },
    {
     "name": "stderr",
     "output_type": "stream",
     "text": [
      "FactorBP/FactorGraph.py:399: DeprecationWarning: PyArray_FromDims: use PyArray_SimpleNew.\n  def GetDecode(self): return _FactorGraph.CFactorGraph_GetDecode(self)\nFactorBP/FactorGraph.py:399: DeprecationWarning: PyArray_FromDimsAndDataAndDescr: use PyArray_NewFromDescr.\n  def GetDecode(self): return _FactorGraph.CFactorGraph_GetDecode(self)\n"
     ]
    },
    {
     "name": "stderr",
     "output_type": "stream",
     "text": [
      "FactorBP/FactorGraph.py:399: DeprecationWarning: PyArray_FromDims: use PyArray_SimpleNew.\n  def GetDecode(self): return _FactorGraph.CFactorGraph_GetDecode(self)\nFactorBP/FactorGraph.py:399: DeprecationWarning: PyArray_FromDimsAndDataAndDescr: use PyArray_NewFromDescr.\n  def GetDecode(self): return _FactorGraph.CFactorGraph_GetDecode(self)\n"
     ]
    },
    {
     "name": "stderr",
     "output_type": "stream",
     "text": [
      "FactorBP/FactorGraph.py:399: DeprecationWarning: PyArray_FromDims: use PyArray_SimpleNew.\n  def GetDecode(self): return _FactorGraph.CFactorGraph_GetDecode(self)\nFactorBP/FactorGraph.py:399: DeprecationWarning: PyArray_FromDimsAndDataAndDescr: use PyArray_NewFromDescr.\n  def GetDecode(self): return _FactorGraph.CFactorGraph_GetDecode(self)\n"
     ]
    },
    {
     "name": "stderr",
     "output_type": "stream",
     "text": [
      "FactorBP/FactorGraph.py:399: DeprecationWarning: PyArray_FromDims: use PyArray_SimpleNew.\n  def GetDecode(self): return _FactorGraph.CFactorGraph_GetDecode(self)\nFactorBP/FactorGraph.py:399: DeprecationWarning: PyArray_FromDimsAndDataAndDescr: use PyArray_NewFromDescr.\n  def GetDecode(self): return _FactorGraph.CFactorGraph_GetDecode(self)\n"
     ]
    },
    {
     "name": "stderr",
     "output_type": "stream",
     "text": [
      "FactorBP/FactorGraph.py:399: DeprecationWarning: PyArray_FromDims: use PyArray_SimpleNew.\n  def GetDecode(self): return _FactorGraph.CFactorGraph_GetDecode(self)\nFactorBP/FactorGraph.py:399: DeprecationWarning: PyArray_FromDimsAndDataAndDescr: use PyArray_NewFromDescr.\n  def GetDecode(self): return _FactorGraph.CFactorGraph_GetDecode(self)\n"
     ]
    },
    {
     "name": "stderr",
     "output_type": "stream",
     "text": [
      "FactorBP/FactorGraph.py:399: DeprecationWarning: PyArray_FromDims: use PyArray_SimpleNew.\n  def GetDecode(self): return _FactorGraph.CFactorGraph_GetDecode(self)\nFactorBP/FactorGraph.py:399: DeprecationWarning: PyArray_FromDimsAndDataAndDescr: use PyArray_NewFromDescr.\n  def GetDecode(self): return _FactorGraph.CFactorGraph_GetDecode(self)\n"
     ]
    },
    {
     "name": "stderr",
     "output_type": "stream",
     "text": [
      "FactorBP/FactorGraph.py:399: DeprecationWarning: PyArray_FromDims: use PyArray_SimpleNew.\n  def GetDecode(self): return _FactorGraph.CFactorGraph_GetDecode(self)\nFactorBP/FactorGraph.py:399: DeprecationWarning: PyArray_FromDimsAndDataAndDescr: use PyArray_NewFromDescr.\n  def GetDecode(self): return _FactorGraph.CFactorGraph_GetDecode(self)\n"
     ]
    },
    {
     "name": "stderr",
     "output_type": "stream",
     "text": [
      "FactorBP/FactorGraph.py:399: DeprecationWarning: PyArray_FromDims: use PyArray_SimpleNew.\n  def GetDecode(self): return _FactorGraph.CFactorGraph_GetDecode(self)\nFactorBP/FactorGraph.py:399: DeprecationWarning: PyArray_FromDimsAndDataAndDescr: use PyArray_NewFromDescr.\n  def GetDecode(self): return _FactorGraph.CFactorGraph_GetDecode(self)\n"
     ]
    },
    {
     "name": "stderr",
     "output_type": "stream",
     "text": [
      "FactorBP/FactorGraph.py:399: DeprecationWarning: PyArray_FromDims: use PyArray_SimpleNew.\n  def GetDecode(self): return _FactorGraph.CFactorGraph_GetDecode(self)\nFactorBP/FactorGraph.py:399: DeprecationWarning: PyArray_FromDimsAndDataAndDescr: use PyArray_NewFromDescr.\n  def GetDecode(self): return _FactorGraph.CFactorGraph_GetDecode(self)\n"
     ]
    },
    {
     "name": "stderr",
     "output_type": "stream",
     "text": [
      "FactorBP/FactorGraph.py:399: DeprecationWarning: PyArray_FromDims: use PyArray_SimpleNew.\n  def GetDecode(self): return _FactorGraph.CFactorGraph_GetDecode(self)\nFactorBP/FactorGraph.py:399: DeprecationWarning: PyArray_FromDimsAndDataAndDescr: use PyArray_NewFromDescr.\n  def GetDecode(self): return _FactorGraph.CFactorGraph_GetDecode(self)\n"
     ]
    },
    {
     "name": "stderr",
     "output_type": "stream",
     "text": [
      "FactorBP/FactorGraph.py:399: DeprecationWarning: PyArray_FromDims: use PyArray_SimpleNew.\n  def GetDecode(self): return _FactorGraph.CFactorGraph_GetDecode(self)\nFactorBP/FactorGraph.py:399: DeprecationWarning: PyArray_FromDimsAndDataAndDescr: use PyArray_NewFromDescr.\n  def GetDecode(self): return _FactorGraph.CFactorGraph_GetDecode(self)\n"
     ]
    },
    {
     "name": "stderr",
     "output_type": "stream",
     "text": [
      "FactorBP/FactorGraph.py:399: DeprecationWarning: PyArray_FromDims: use PyArray_SimpleNew.\n  def GetDecode(self): return _FactorGraph.CFactorGraph_GetDecode(self)\nFactorBP/FactorGraph.py:399: DeprecationWarning: PyArray_FromDimsAndDataAndDescr: use PyArray_NewFromDescr.\n  def GetDecode(self): return _FactorGraph.CFactorGraph_GetDecode(self)\n"
     ]
    },
    {
     "name": "stderr",
     "output_type": "stream",
     "text": [
      "FactorBP/FactorGraph.py:399: DeprecationWarning: PyArray_FromDims: use PyArray_SimpleNew.\n  def GetDecode(self): return _FactorGraph.CFactorGraph_GetDecode(self)\nFactorBP/FactorGraph.py:399: DeprecationWarning: PyArray_FromDimsAndDataAndDescr: use PyArray_NewFromDescr.\n  def GetDecode(self): return _FactorGraph.CFactorGraph_GetDecode(self)\n"
     ]
    },
    {
     "name": "stderr",
     "output_type": "stream",
     "text": [
      "FactorBP/FactorGraph.py:399: DeprecationWarning: PyArray_FromDims: use PyArray_SimpleNew.\n  def GetDecode(self): return _FactorGraph.CFactorGraph_GetDecode(self)\nFactorBP/FactorGraph.py:399: DeprecationWarning: PyArray_FromDimsAndDataAndDescr: use PyArray_NewFromDescr.\n  def GetDecode(self): return _FactorGraph.CFactorGraph_GetDecode(self)\n"
     ]
    },
    {
     "name": "stderr",
     "output_type": "stream",
     "text": [
      "FactorBP/FactorGraph.py:399: DeprecationWarning: PyArray_FromDims: use PyArray_SimpleNew.\n  def GetDecode(self): return _FactorGraph.CFactorGraph_GetDecode(self)\nFactorBP/FactorGraph.py:399: DeprecationWarning: PyArray_FromDimsAndDataAndDescr: use PyArray_NewFromDescr.\n  def GetDecode(self): return _FactorGraph.CFactorGraph_GetDecode(self)\n"
     ]
    },
    {
     "name": "stderr",
     "output_type": "stream",
     "text": [
      "FactorBP/FactorGraph.py:399: DeprecationWarning: PyArray_FromDims: use PyArray_SimpleNew.\n  def GetDecode(self): return _FactorGraph.CFactorGraph_GetDecode(self)\nFactorBP/FactorGraph.py:399: DeprecationWarning: PyArray_FromDimsAndDataAndDescr: use PyArray_NewFromDescr.\n  def GetDecode(self): return _FactorGraph.CFactorGraph_GetDecode(self)\n"
     ]
    },
    {
     "name": "stderr",
     "output_type": "stream",
     "text": [
      "FactorBP/FactorGraph.py:399: DeprecationWarning: PyArray_FromDims: use PyArray_SimpleNew.\n  def GetDecode(self): return _FactorGraph.CFactorGraph_GetDecode(self)\nFactorBP/FactorGraph.py:399: DeprecationWarning: PyArray_FromDimsAndDataAndDescr: use PyArray_NewFromDescr.\n  def GetDecode(self): return _FactorGraph.CFactorGraph_GetDecode(self)\n"
     ]
    },
    {
     "name": "stderr",
     "output_type": "stream",
     "text": [
      "FactorBP/FactorGraph.py:399: DeprecationWarning: PyArray_FromDims: use PyArray_SimpleNew.\n  def GetDecode(self): return _FactorGraph.CFactorGraph_GetDecode(self)\nFactorBP/FactorGraph.py:399: DeprecationWarning: PyArray_FromDimsAndDataAndDescr: use PyArray_NewFromDescr.\n  def GetDecode(self): return _FactorGraph.CFactorGraph_GetDecode(self)\nFactorBP/FactorGraph.py:399: DeprecationWarning: PyArray_FromDims: use PyArray_SimpleNew.\n  def GetDecode(self): return _FactorGraph.CFactorGraph_GetDecode(self)\nFactorBP/FactorGraph.py:399: DeprecationWarning: PyArray_FromDimsAndDataAndDescr: use PyArray_NewFromDescr.\n  def GetDecode(self): return _FactorGraph.CFactorGraph_GetDecode(self)\n"
     ]
    },
    {
     "name": "stderr",
     "output_type": "stream",
     "text": [
      "FactorBP/FactorGraph.py:399: DeprecationWarning: PyArray_FromDims: use PyArray_SimpleNew.\n  def GetDecode(self): return _FactorGraph.CFactorGraph_GetDecode(self)\nFactorBP/FactorGraph.py:399: DeprecationWarning: PyArray_FromDimsAndDataAndDescr: use PyArray_NewFromDescr.\n  def GetDecode(self): return _FactorGraph.CFactorGraph_GetDecode(self)\n"
     ]
    },
    {
     "name": "stderr",
     "output_type": "stream",
     "text": [
      "FactorBP/FactorGraph.py:399: DeprecationWarning: PyArray_FromDims: use PyArray_SimpleNew.\n  def GetDecode(self): return _FactorGraph.CFactorGraph_GetDecode(self)\nFactorBP/FactorGraph.py:399: DeprecationWarning: PyArray_FromDimsAndDataAndDescr: use PyArray_NewFromDescr.\n  def GetDecode(self): return _FactorGraph.CFactorGraph_GetDecode(self)\n"
     ]
    },
    {
     "name": "stderr",
     "output_type": "stream",
     "text": [
      "FactorBP/FactorGraph.py:399: DeprecationWarning: PyArray_FromDims: use PyArray_SimpleNew.\n  def GetDecode(self): return _FactorGraph.CFactorGraph_GetDecode(self)\nFactorBP/FactorGraph.py:399: DeprecationWarning: PyArray_FromDimsAndDataAndDescr: use PyArray_NewFromDescr.\n  def GetDecode(self): return _FactorGraph.CFactorGraph_GetDecode(self)\n"
     ]
    },
    {
     "name": "stderr",
     "output_type": "stream",
     "text": [
      "FactorBP/FactorGraph.py:399: DeprecationWarning: PyArray_FromDims: use PyArray_SimpleNew.\n  def GetDecode(self): return _FactorGraph.CFactorGraph_GetDecode(self)\nFactorBP/FactorGraph.py:399: DeprecationWarning: PyArray_FromDimsAndDataAndDescr: use PyArray_NewFromDescr.\n  def GetDecode(self): return _FactorGraph.CFactorGraph_GetDecode(self)\n"
     ]
    },
    {
     "name": "stderr",
     "output_type": "stream",
     "text": [
      "FactorBP/FactorGraph.py:399: DeprecationWarning: PyArray_FromDims: use PyArray_SimpleNew.\n  def GetDecode(self): return _FactorGraph.CFactorGraph_GetDecode(self)\nFactorBP/FactorGraph.py:399: DeprecationWarning: PyArray_FromDimsAndDataAndDescr: use PyArray_NewFromDescr.\n  def GetDecode(self): return _FactorGraph.CFactorGraph_GetDecode(self)\n"
     ]
    },
    {
     "name": "stderr",
     "output_type": "stream",
     "text": [
      "FactorBP/FactorGraph.py:399: DeprecationWarning: PyArray_FromDims: use PyArray_SimpleNew.\n  def GetDecode(self): return _FactorGraph.CFactorGraph_GetDecode(self)\nFactorBP/FactorGraph.py:399: DeprecationWarning: PyArray_FromDimsAndDataAndDescr: use PyArray_NewFromDescr.\n  def GetDecode(self): return _FactorGraph.CFactorGraph_GetDecode(self)\n"
     ]
    },
    {
     "name": "stderr",
     "output_type": "stream",
     "text": [
      "FactorBP/FactorGraph.py:399: DeprecationWarning: PyArray_FromDims: use PyArray_SimpleNew.\n  def GetDecode(self): return _FactorGraph.CFactorGraph_GetDecode(self)\nFactorBP/FactorGraph.py:399: DeprecationWarning: PyArray_FromDimsAndDataAndDescr: use PyArray_NewFromDescr.\n  def GetDecode(self): return _FactorGraph.CFactorGraph_GetDecode(self)\n"
     ]
    },
    {
     "name": "stderr",
     "output_type": "stream",
     "text": [
      "FactorBP/FactorGraph.py:399: DeprecationWarning: PyArray_FromDims: use PyArray_SimpleNew.\n  def GetDecode(self): return _FactorGraph.CFactorGraph_GetDecode(self)\nFactorBP/FactorGraph.py:399: DeprecationWarning: PyArray_FromDimsAndDataAndDescr: use PyArray_NewFromDescr.\n  def GetDecode(self): return _FactorGraph.CFactorGraph_GetDecode(self)\n"
     ]
    },
    {
     "name": "stderr",
     "output_type": "stream",
     "text": [
      "FactorBP/FactorGraph.py:399: DeprecationWarning: PyArray_FromDims: use PyArray_SimpleNew.\n  def GetDecode(self): return _FactorGraph.CFactorGraph_GetDecode(self)\nFactorBP/FactorGraph.py:399: DeprecationWarning: PyArray_FromDimsAndDataAndDescr: use PyArray_NewFromDescr.\n  def GetDecode(self): return _FactorGraph.CFactorGraph_GetDecode(self)\n"
     ]
    },
    {
     "name": "stderr",
     "output_type": "stream",
     "text": [
      "FactorBP/FactorGraph.py:399: DeprecationWarning: PyArray_FromDims: use PyArray_SimpleNew.\n  def GetDecode(self): return _FactorGraph.CFactorGraph_GetDecode(self)\nFactorBP/FactorGraph.py:399: DeprecationWarning: PyArray_FromDimsAndDataAndDescr: use PyArray_NewFromDescr.\n  def GetDecode(self): return _FactorGraph.CFactorGraph_GetDecode(self)\n"
     ]
    },
    {
     "name": "stderr",
     "output_type": "stream",
     "text": [
      "FactorBP/FactorGraph.py:399: DeprecationWarning: PyArray_FromDims: use PyArray_SimpleNew.\n  def GetDecode(self): return _FactorGraph.CFactorGraph_GetDecode(self)\nFactorBP/FactorGraph.py:399: DeprecationWarning: PyArray_FromDimsAndDataAndDescr: use PyArray_NewFromDescr.\n  def GetDecode(self): return _FactorGraph.CFactorGraph_GetDecode(self)\n"
     ]
    },
    {
     "name": "stderr",
     "output_type": "stream",
     "text": [
      "FactorBP/FactorGraph.py:399: DeprecationWarning: PyArray_FromDims: use PyArray_SimpleNew.\n  def GetDecode(self): return _FactorGraph.CFactorGraph_GetDecode(self)\nFactorBP/FactorGraph.py:399: DeprecationWarning: PyArray_FromDimsAndDataAndDescr: use PyArray_NewFromDescr.\n  def GetDecode(self): return _FactorGraph.CFactorGraph_GetDecode(self)\n"
     ]
    },
    {
     "name": "stderr",
     "output_type": "stream",
     "text": [
      "FactorBP/FactorGraph.py:399: DeprecationWarning: PyArray_FromDims: use PyArray_SimpleNew.\n  def GetDecode(self): return _FactorGraph.CFactorGraph_GetDecode(self)\nFactorBP/FactorGraph.py:399: DeprecationWarning: PyArray_FromDimsAndDataAndDescr: use PyArray_NewFromDescr.\n  def GetDecode(self): return _FactorGraph.CFactorGraph_GetDecode(self)\n"
     ]
    },
    {
     "name": "stderr",
     "output_type": "stream",
     "text": [
      "FactorBP/FactorGraph.py:399: DeprecationWarning: PyArray_FromDims: use PyArray_SimpleNew.\n  def GetDecode(self): return _FactorGraph.CFactorGraph_GetDecode(self)\nFactorBP/FactorGraph.py:399: DeprecationWarning: PyArray_FromDimsAndDataAndDescr: use PyArray_NewFromDescr.\n  def GetDecode(self): return _FactorGraph.CFactorGraph_GetDecode(self)\n"
     ]
    },
    {
     "name": "stderr",
     "output_type": "stream",
     "text": [
      "FactorBP/FactorGraph.py:399: DeprecationWarning: PyArray_FromDims: use PyArray_SimpleNew.\n  def GetDecode(self): return _FactorGraph.CFactorGraph_GetDecode(self)\nFactorBP/FactorGraph.py:399: DeprecationWarning: PyArray_FromDimsAndDataAndDescr: use PyArray_NewFromDescr.\n  def GetDecode(self): return _FactorGraph.CFactorGraph_GetDecode(self)\n"
     ]
    },
    {
     "name": "stderr",
     "output_type": "stream",
     "text": [
      "FactorBP/FactorGraph.py:399: DeprecationWarning: PyArray_FromDims: use PyArray_SimpleNew.\n  def GetDecode(self): return _FactorGraph.CFactorGraph_GetDecode(self)\nFactorBP/FactorGraph.py:399: DeprecationWarning: PyArray_FromDimsAndDataAndDescr: use PyArray_NewFromDescr.\n  def GetDecode(self): return _FactorGraph.CFactorGraph_GetDecode(self)\n"
     ]
    },
    {
     "name": "stderr",
     "output_type": "stream",
     "text": [
      "FactorBP/FactorGraph.py:399: DeprecationWarning: PyArray_FromDims: use PyArray_SimpleNew.\n  def GetDecode(self): return _FactorGraph.CFactorGraph_GetDecode(self)\nFactorBP/FactorGraph.py:399: DeprecationWarning: PyArray_FromDimsAndDataAndDescr: use PyArray_NewFromDescr.\n  def GetDecode(self): return _FactorGraph.CFactorGraph_GetDecode(self)\n"
     ]
    },
    {
     "name": "stderr",
     "output_type": "stream",
     "text": [
      "FactorBP/FactorGraph.py:399: DeprecationWarning: PyArray_FromDims: use PyArray_SimpleNew.\n  def GetDecode(self): return _FactorGraph.CFactorGraph_GetDecode(self)\nFactorBP/FactorGraph.py:399: DeprecationWarning: PyArray_FromDimsAndDataAndDescr: use PyArray_NewFromDescr.\n  def GetDecode(self): return _FactorGraph.CFactorGraph_GetDecode(self)\n"
     ]
    },
    {
     "name": "stderr",
     "output_type": "stream",
     "text": [
      "FactorBP/FactorGraph.py:399: DeprecationWarning: PyArray_FromDims: use PyArray_SimpleNew.\n  def GetDecode(self): return _FactorGraph.CFactorGraph_GetDecode(self)\nFactorBP/FactorGraph.py:399: DeprecationWarning: PyArray_FromDimsAndDataAndDescr: use PyArray_NewFromDescr.\n  def GetDecode(self): return _FactorGraph.CFactorGraph_GetDecode(self)\n"
     ]
    },
    {
     "name": "stderr",
     "output_type": "stream",
     "text": [
      "FactorBP/FactorGraph.py:399: DeprecationWarning: PyArray_FromDims: use PyArray_SimpleNew.\n  def GetDecode(self): return _FactorGraph.CFactorGraph_GetDecode(self)\nFactorBP/FactorGraph.py:399: DeprecationWarning: PyArray_FromDimsAndDataAndDescr: use PyArray_NewFromDescr.\n  def GetDecode(self): return _FactorGraph.CFactorGraph_GetDecode(self)\n"
     ]
    },
    {
     "name": "stderr",
     "output_type": "stream",
     "text": [
      "FactorBP/FactorGraph.py:399: DeprecationWarning: PyArray_FromDims: use PyArray_SimpleNew.\n  def GetDecode(self): return _FactorGraph.CFactorGraph_GetDecode(self)\nFactorBP/FactorGraph.py:399: DeprecationWarning: PyArray_FromDimsAndDataAndDescr: use PyArray_NewFromDescr.\n  def GetDecode(self): return _FactorGraph.CFactorGraph_GetDecode(self)\n"
     ]
    },
    {
     "name": "stderr",
     "output_type": "stream",
     "text": [
      "FactorBP/FactorGraph.py:399: DeprecationWarning: PyArray_FromDims: use PyArray_SimpleNew.\n  def GetDecode(self): return _FactorGraph.CFactorGraph_GetDecode(self)\nFactorBP/FactorGraph.py:399: DeprecationWarning: PyArray_FromDimsAndDataAndDescr: use PyArray_NewFromDescr.\n  def GetDecode(self): return _FactorGraph.CFactorGraph_GetDecode(self)\n"
     ]
    },
    {
     "name": "stderr",
     "output_type": "stream",
     "text": [
      "FactorBP/FactorGraph.py:399: DeprecationWarning: PyArray_FromDims: use PyArray_SimpleNew.\n  def GetDecode(self): return _FactorGraph.CFactorGraph_GetDecode(self)\nFactorBP/FactorGraph.py:399: DeprecationWarning: PyArray_FromDimsAndDataAndDescr: use PyArray_NewFromDescr.\n  def GetDecode(self): return _FactorGraph.CFactorGraph_GetDecode(self)\n"
     ]
    },
    {
     "name": "stderr",
     "output_type": "stream",
     "text": [
      "FactorBP/FactorGraph.py:399: DeprecationWarning: PyArray_FromDims: use PyArray_SimpleNew.\n  def GetDecode(self): return _FactorGraph.CFactorGraph_GetDecode(self)\nFactorBP/FactorGraph.py:399: DeprecationWarning: PyArray_FromDimsAndDataAndDescr: use PyArray_NewFromDescr.\n  def GetDecode(self): return _FactorGraph.CFactorGraph_GetDecode(self)\n"
     ]
    },
    {
     "name": "stderr",
     "output_type": "stream",
     "text": [
      "FactorBP/FactorGraph.py:399: DeprecationWarning: PyArray_FromDims: use PyArray_SimpleNew.\n  def GetDecode(self): return _FactorGraph.CFactorGraph_GetDecode(self)\nFactorBP/FactorGraph.py:399: DeprecationWarning: PyArray_FromDimsAndDataAndDescr: use PyArray_NewFromDescr.\n  def GetDecode(self): return _FactorGraph.CFactorGraph_GetDecode(self)\n"
     ]
    },
    {
     "name": "stderr",
     "output_type": "stream",
     "text": [
      "FactorBP/FactorGraph.py:399: DeprecationWarning: PyArray_FromDims: use PyArray_SimpleNew.\n  def GetDecode(self): return _FactorGraph.CFactorGraph_GetDecode(self)\nFactorBP/FactorGraph.py:399: DeprecationWarning: PyArray_FromDimsAndDataAndDescr: use PyArray_NewFromDescr.\n  def GetDecode(self): return _FactorGraph.CFactorGraph_GetDecode(self)\n"
     ]
    },
    {
     "name": "stderr",
     "output_type": "stream",
     "text": [
      "FactorBP/FactorGraph.py:399: DeprecationWarning: PyArray_FromDims: use PyArray_SimpleNew.\n  def GetDecode(self): return _FactorGraph.CFactorGraph_GetDecode(self)\nFactorBP/FactorGraph.py:399: DeprecationWarning: PyArray_FromDimsAndDataAndDescr: use PyArray_NewFromDescr.\n  def GetDecode(self): return _FactorGraph.CFactorGraph_GetDecode(self)\n"
     ]
    },
    {
     "name": "stderr",
     "output_type": "stream",
     "text": [
      "FactorBP/FactorGraph.py:399: DeprecationWarning: PyArray_FromDims: use PyArray_SimpleNew.\n  def GetDecode(self): return _FactorGraph.CFactorGraph_GetDecode(self)\nFactorBP/FactorGraph.py:399: DeprecationWarning: PyArray_FromDimsAndDataAndDescr: use PyArray_NewFromDescr.\n  def GetDecode(self): return _FactorGraph.CFactorGraph_GetDecode(self)\n"
     ]
    },
    {
     "name": "stderr",
     "output_type": "stream",
     "text": [
      "FactorBP/FactorGraph.py:399: DeprecationWarning: PyArray_FromDims: use PyArray_SimpleNew.\n  def GetDecode(self): return _FactorGraph.CFactorGraph_GetDecode(self)\nFactorBP/FactorGraph.py:399: DeprecationWarning: PyArray_FromDimsAndDataAndDescr: use PyArray_NewFromDescr.\n  def GetDecode(self): return _FactorGraph.CFactorGraph_GetDecode(self)\n"
     ]
    },
    {
     "name": "stderr",
     "output_type": "stream",
     "text": [
      "FactorBP/FactorGraph.py:399: DeprecationWarning: PyArray_FromDims: use PyArray_SimpleNew.\n  def GetDecode(self): return _FactorGraph.CFactorGraph_GetDecode(self)\nFactorBP/FactorGraph.py:399: DeprecationWarning: PyArray_FromDimsAndDataAndDescr: use PyArray_NewFromDescr.\n  def GetDecode(self): return _FactorGraph.CFactorGraph_GetDecode(self)\n"
     ]
    },
    {
     "name": "stderr",
     "output_type": "stream",
     "text": [
      "FactorBP/FactorGraph.py:399: DeprecationWarning: PyArray_FromDims: use PyArray_SimpleNew.\n  def GetDecode(self): return _FactorGraph.CFactorGraph_GetDecode(self)\nFactorBP/FactorGraph.py:399: DeprecationWarning: PyArray_FromDimsAndDataAndDescr: use PyArray_NewFromDescr.\n  def GetDecode(self): return _FactorGraph.CFactorGraph_GetDecode(self)\n"
     ]
    },
    {
     "name": "stderr",
     "output_type": "stream",
     "text": [
      "FactorBP/FactorGraph.py:399: DeprecationWarning: PyArray_FromDims: use PyArray_SimpleNew.\n  def GetDecode(self): return _FactorGraph.CFactorGraph_GetDecode(self)\nFactorBP/FactorGraph.py:399: DeprecationWarning: PyArray_FromDimsAndDataAndDescr: use PyArray_NewFromDescr.\n  def GetDecode(self): return _FactorGraph.CFactorGraph_GetDecode(self)\n"
     ]
    },
    {
     "name": "stderr",
     "output_type": "stream",
     "text": [
      "FactorBP/FactorGraph.py:399: DeprecationWarning: PyArray_FromDims: use PyArray_SimpleNew.\n  def GetDecode(self): return _FactorGraph.CFactorGraph_GetDecode(self)\nFactorBP/FactorGraph.py:399: DeprecationWarning: PyArray_FromDimsAndDataAndDescr: use PyArray_NewFromDescr.\n  def GetDecode(self): return _FactorGraph.CFactorGraph_GetDecode(self)\n"
     ]
    },
    {
     "name": "stderr",
     "output_type": "stream",
     "text": [
      "FactorBP/FactorGraph.py:399: DeprecationWarning: PyArray_FromDims: use PyArray_SimpleNew.\n  def GetDecode(self): return _FactorGraph.CFactorGraph_GetDecode(self)\nFactorBP/FactorGraph.py:399: DeprecationWarning: PyArray_FromDimsAndDataAndDescr: use PyArray_NewFromDescr.\n  def GetDecode(self): return _FactorGraph.CFactorGraph_GetDecode(self)\n"
     ]
    },
    {
     "name": "stderr",
     "output_type": "stream",
     "text": [
      "FactorBP/FactorGraph.py:399: DeprecationWarning: PyArray_FromDims: use PyArray_SimpleNew.\n  def GetDecode(self): return _FactorGraph.CFactorGraph_GetDecode(self)\nFactorBP/FactorGraph.py:399: DeprecationWarning: PyArray_FromDimsAndDataAndDescr: use PyArray_NewFromDescr.\n  def GetDecode(self): return _FactorGraph.CFactorGraph_GetDecode(self)\n"
     ]
    },
    {
     "name": "stderr",
     "output_type": "stream",
     "text": [
      "FactorBP/FactorGraph.py:399: DeprecationWarning: PyArray_FromDims: use PyArray_SimpleNew.\n  def GetDecode(self): return _FactorGraph.CFactorGraph_GetDecode(self)\nFactorBP/FactorGraph.py:399: DeprecationWarning: PyArray_FromDimsAndDataAndDescr: use PyArray_NewFromDescr.\n  def GetDecode(self): return _FactorGraph.CFactorGraph_GetDecode(self)\n"
     ]
    },
    {
     "name": "stderr",
     "output_type": "stream",
     "text": [
      "FactorBP/FactorGraph.py:399: DeprecationWarning: PyArray_FromDims: use PyArray_SimpleNew.\n  def GetDecode(self): return _FactorGraph.CFactorGraph_GetDecode(self)\nFactorBP/FactorGraph.py:399: DeprecationWarning: PyArray_FromDimsAndDataAndDescr: use PyArray_NewFromDescr.\n  def GetDecode(self): return _FactorGraph.CFactorGraph_GetDecode(self)\n"
     ]
    },
    {
     "name": "stderr",
     "output_type": "stream",
     "text": [
      "FactorBP/FactorGraph.py:399: DeprecationWarning: PyArray_FromDims: use PyArray_SimpleNew.\n  def GetDecode(self): return _FactorGraph.CFactorGraph_GetDecode(self)\nFactorBP/FactorGraph.py:399: DeprecationWarning: PyArray_FromDimsAndDataAndDescr: use PyArray_NewFromDescr.\n  def GetDecode(self): return _FactorGraph.CFactorGraph_GetDecode(self)\n"
     ]
    },
    {
     "name": "stderr",
     "output_type": "stream",
     "text": [
      "FactorBP/FactorGraph.py:399: DeprecationWarning: PyArray_FromDims: use PyArray_SimpleNew.\n  def GetDecode(self): return _FactorGraph.CFactorGraph_GetDecode(self)\nFactorBP/FactorGraph.py:399: DeprecationWarning: PyArray_FromDimsAndDataAndDescr: use PyArray_NewFromDescr.\n  def GetDecode(self): return _FactorGraph.CFactorGraph_GetDecode(self)\n"
     ]
    },
    {
     "name": "stderr",
     "output_type": "stream",
     "text": [
      "FactorBP/FactorGraph.py:399: DeprecationWarning: PyArray_FromDims: use PyArray_SimpleNew.\n  def GetDecode(self): return _FactorGraph.CFactorGraph_GetDecode(self)\nFactorBP/FactorGraph.py:399: DeprecationWarning: PyArray_FromDimsAndDataAndDescr: use PyArray_NewFromDescr.\n  def GetDecode(self): return _FactorGraph.CFactorGraph_GetDecode(self)\n"
     ]
    },
    {
     "name": "stderr",
     "output_type": "stream",
     "text": [
      "FactorBP/FactorGraph.py:399: DeprecationWarning: PyArray_FromDims: use PyArray_SimpleNew.\n  def GetDecode(self): return _FactorGraph.CFactorGraph_GetDecode(self)\nFactorBP/FactorGraph.py:399: DeprecationWarning: PyArray_FromDimsAndDataAndDescr: use PyArray_NewFromDescr.\n  def GetDecode(self): return _FactorGraph.CFactorGraph_GetDecode(self)\n"
     ]
    },
    {
     "name": "stderr",
     "output_type": "stream",
     "text": [
      "FactorBP/FactorGraph.py:399: DeprecationWarning: PyArray_FromDims: use PyArray_SimpleNew.\n  def GetDecode(self): return _FactorGraph.CFactorGraph_GetDecode(self)\nFactorBP/FactorGraph.py:399: DeprecationWarning: PyArray_FromDimsAndDataAndDescr: use PyArray_NewFromDescr.\n  def GetDecode(self): return _FactorGraph.CFactorGraph_GetDecode(self)\n"
     ]
    },
    {
     "name": "stderr",
     "output_type": "stream",
     "text": [
      "FactorBP/FactorGraph.py:399: DeprecationWarning: PyArray_FromDims: use PyArray_SimpleNew.\n  def GetDecode(self): return _FactorGraph.CFactorGraph_GetDecode(self)\nFactorBP/FactorGraph.py:399: DeprecationWarning: PyArray_FromDimsAndDataAndDescr: use PyArray_NewFromDescr.\n  def GetDecode(self): return _FactorGraph.CFactorGraph_GetDecode(self)\n"
     ]
    },
    {
     "name": "stderr",
     "output_type": "stream",
     "text": [
      "FactorBP/FactorGraph.py:399: DeprecationWarning: PyArray_FromDims: use PyArray_SimpleNew.\n  def GetDecode(self): return _FactorGraph.CFactorGraph_GetDecode(self)\nFactorBP/FactorGraph.py:399: DeprecationWarning: PyArray_FromDimsAndDataAndDescr: use PyArray_NewFromDescr.\n  def GetDecode(self): return _FactorGraph.CFactorGraph_GetDecode(self)\n"
     ]
    },
    {
     "name": "stderr",
     "output_type": "stream",
     "text": [
      "FactorBP/FactorGraph.py:399: DeprecationWarning: PyArray_FromDims: use PyArray_SimpleNew.\n  def GetDecode(self): return _FactorGraph.CFactorGraph_GetDecode(self)\nFactorBP/FactorGraph.py:399: DeprecationWarning: PyArray_FromDimsAndDataAndDescr: use PyArray_NewFromDescr.\n  def GetDecode(self): return _FactorGraph.CFactorGraph_GetDecode(self)\n"
     ]
    },
    {
     "name": "stderr",
     "output_type": "stream",
     "text": [
      "FactorBP/FactorGraph.py:399: DeprecationWarning: PyArray_FromDims: use PyArray_SimpleNew.\n  def GetDecode(self): return _FactorGraph.CFactorGraph_GetDecode(self)\nFactorBP/FactorGraph.py:399: DeprecationWarning: PyArray_FromDimsAndDataAndDescr: use PyArray_NewFromDescr.\n  def GetDecode(self): return _FactorGraph.CFactorGraph_GetDecode(self)\n"
     ]
    },
    {
     "name": "stderr",
     "output_type": "stream",
     "text": [
      "FactorBP/FactorGraph.py:399: DeprecationWarning: PyArray_FromDims: use PyArray_SimpleNew.\n  def GetDecode(self): return _FactorGraph.CFactorGraph_GetDecode(self)\nFactorBP/FactorGraph.py:399: DeprecationWarning: PyArray_FromDimsAndDataAndDescr: use PyArray_NewFromDescr.\n  def GetDecode(self): return _FactorGraph.CFactorGraph_GetDecode(self)\n"
     ]
    },
    {
     "name": "stderr",
     "output_type": "stream",
     "text": [
      "FactorBP/FactorGraph.py:399: DeprecationWarning: PyArray_FromDims: use PyArray_SimpleNew.\n  def GetDecode(self): return _FactorGraph.CFactorGraph_GetDecode(self)\nFactorBP/FactorGraph.py:399: DeprecationWarning: PyArray_FromDimsAndDataAndDescr: use PyArray_NewFromDescr.\n  def GetDecode(self): return _FactorGraph.CFactorGraph_GetDecode(self)\n"
     ]
    },
    {
     "name": "stdout",
     "output_type": "stream",
     "text": [
      "Ours Accuracy 1.000000 Running Time 0.006832 Obj 1.000000\nOurs-BCA Accuracy 1.000000 Running Time 0.040305 Obj 1.000000\nBCA Accuracy 1.000000 Running Time 0.022930 Obj 1.000000\nBCA-MP Accuracy 1.000000 Running Time 0.128108 Obj 1.000000\nBCA-IPFP Accuracy 1.000000 Running Time 0.094498 Obj 1.000000\nHGM Accuracy 0.846502 Running Time 0.011641 Obj 0.810635\nRRWHM Accuracy 1.000000 Running Time 0.055854 Obj 1.000000\nTM Accuracy 0.974074 Running Time 0.082336 Obj 0.978004\n××××××××××××××××××××\n Start baseline: 40\n"
     ]
    },
    {
     "name": "stderr",
     "output_type": "stream",
     "text": [
      "FactorBP/FactorGraph.py:399: DeprecationWarning: PyArray_FromDims: use PyArray_SimpleNew.\n  def GetDecode(self): return _FactorGraph.CFactorGraph_GetDecode(self)\nFactorBP/FactorGraph.py:399: DeprecationWarning: PyArray_FromDimsAndDataAndDescr: use PyArray_NewFromDescr.\n  def GetDecode(self): return _FactorGraph.CFactorGraph_GetDecode(self)\n"
     ]
    },
    {
     "name": "stderr",
     "output_type": "stream",
     "text": [
      "FactorBP/FactorGraph.py:399: DeprecationWarning: PyArray_FromDims: use PyArray_SimpleNew.\n  def GetDecode(self): return _FactorGraph.CFactorGraph_GetDecode(self)\nFactorBP/FactorGraph.py:399: DeprecationWarning: PyArray_FromDimsAndDataAndDescr: use PyArray_NewFromDescr.\n  def GetDecode(self): return _FactorGraph.CFactorGraph_GetDecode(self)\n"
     ]
    },
    {
     "name": "stderr",
     "output_type": "stream",
     "text": [
      "FactorBP/FactorGraph.py:399: DeprecationWarning: PyArray_FromDims: use PyArray_SimpleNew.\n  def GetDecode(self): return _FactorGraph.CFactorGraph_GetDecode(self)\nFactorBP/FactorGraph.py:399: DeprecationWarning: PyArray_FromDimsAndDataAndDescr: use PyArray_NewFromDescr.\n  def GetDecode(self): return _FactorGraph.CFactorGraph_GetDecode(self)\n"
     ]
    },
    {
     "name": "stderr",
     "output_type": "stream",
     "text": [
      "FactorBP/FactorGraph.py:399: DeprecationWarning: PyArray_FromDims: use PyArray_SimpleNew.\n  def GetDecode(self): return _FactorGraph.CFactorGraph_GetDecode(self)\nFactorBP/FactorGraph.py:399: DeprecationWarning: PyArray_FromDimsAndDataAndDescr: use PyArray_NewFromDescr.\n  def GetDecode(self): return _FactorGraph.CFactorGraph_GetDecode(self)\n"
     ]
    },
    {
     "name": "stderr",
     "output_type": "stream",
     "text": [
      "FactorBP/FactorGraph.py:399: DeprecationWarning: PyArray_FromDims: use PyArray_SimpleNew.\n  def GetDecode(self): return _FactorGraph.CFactorGraph_GetDecode(self)\nFactorBP/FactorGraph.py:399: DeprecationWarning: PyArray_FromDimsAndDataAndDescr: use PyArray_NewFromDescr.\n  def GetDecode(self): return _FactorGraph.CFactorGraph_GetDecode(self)\n"
     ]
    },
    {
     "name": "stderr",
     "output_type": "stream",
     "text": [
      "FactorBP/FactorGraph.py:399: DeprecationWarning: PyArray_FromDims: use PyArray_SimpleNew.\n  def GetDecode(self): return _FactorGraph.CFactorGraph_GetDecode(self)\nFactorBP/FactorGraph.py:399: DeprecationWarning: PyArray_FromDimsAndDataAndDescr: use PyArray_NewFromDescr.\n  def GetDecode(self): return _FactorGraph.CFactorGraph_GetDecode(self)\n"
     ]
    },
    {
     "name": "stderr",
     "output_type": "stream",
     "text": [
      "FactorBP/FactorGraph.py:399: DeprecationWarning: PyArray_FromDims: use PyArray_SimpleNew.\n  def GetDecode(self): return _FactorGraph.CFactorGraph_GetDecode(self)\nFactorBP/FactorGraph.py:399: DeprecationWarning: PyArray_FromDimsAndDataAndDescr: use PyArray_NewFromDescr.\n  def GetDecode(self): return _FactorGraph.CFactorGraph_GetDecode(self)\n"
     ]
    },
    {
     "name": "stderr",
     "output_type": "stream",
     "text": [
      "FactorBP/FactorGraph.py:399: DeprecationWarning: PyArray_FromDims: use PyArray_SimpleNew.\n  def GetDecode(self): return _FactorGraph.CFactorGraph_GetDecode(self)\nFactorBP/FactorGraph.py:399: DeprecationWarning: PyArray_FromDimsAndDataAndDescr: use PyArray_NewFromDescr.\n  def GetDecode(self): return _FactorGraph.CFactorGraph_GetDecode(self)\n"
     ]
    },
    {
     "name": "stderr",
     "output_type": "stream",
     "text": [
      "FactorBP/FactorGraph.py:399: DeprecationWarning: PyArray_FromDims: use PyArray_SimpleNew.\n  def GetDecode(self): return _FactorGraph.CFactorGraph_GetDecode(self)\nFactorBP/FactorGraph.py:399: DeprecationWarning: PyArray_FromDimsAndDataAndDescr: use PyArray_NewFromDescr.\n  def GetDecode(self): return _FactorGraph.CFactorGraph_GetDecode(self)\n"
     ]
    },
    {
     "name": "stderr",
     "output_type": "stream",
     "text": [
      "FactorBP/FactorGraph.py:399: DeprecationWarning: PyArray_FromDims: use PyArray_SimpleNew.\n  def GetDecode(self): return _FactorGraph.CFactorGraph_GetDecode(self)\nFactorBP/FactorGraph.py:399: DeprecationWarning: PyArray_FromDimsAndDataAndDescr: use PyArray_NewFromDescr.\n  def GetDecode(self): return _FactorGraph.CFactorGraph_GetDecode(self)\n"
     ]
    },
    {
     "name": "stderr",
     "output_type": "stream",
     "text": [
      "FactorBP/FactorGraph.py:399: DeprecationWarning: PyArray_FromDims: use PyArray_SimpleNew.\n  def GetDecode(self): return _FactorGraph.CFactorGraph_GetDecode(self)\nFactorBP/FactorGraph.py:399: DeprecationWarning: PyArray_FromDimsAndDataAndDescr: use PyArray_NewFromDescr.\n  def GetDecode(self): return _FactorGraph.CFactorGraph_GetDecode(self)\n"
     ]
    },
    {
     "name": "stderr",
     "output_type": "stream",
     "text": [
      "FactorBP/FactorGraph.py:399: DeprecationWarning: PyArray_FromDims: use PyArray_SimpleNew.\n  def GetDecode(self): return _FactorGraph.CFactorGraph_GetDecode(self)\nFactorBP/FactorGraph.py:399: DeprecationWarning: PyArray_FromDimsAndDataAndDescr: use PyArray_NewFromDescr.\n  def GetDecode(self): return _FactorGraph.CFactorGraph_GetDecode(self)\n"
     ]
    },
    {
     "name": "stderr",
     "output_type": "stream",
     "text": [
      "FactorBP/FactorGraph.py:399: DeprecationWarning: PyArray_FromDims: use PyArray_SimpleNew.\n  def GetDecode(self): return _FactorGraph.CFactorGraph_GetDecode(self)\nFactorBP/FactorGraph.py:399: DeprecationWarning: PyArray_FromDimsAndDataAndDescr: use PyArray_NewFromDescr.\n  def GetDecode(self): return _FactorGraph.CFactorGraph_GetDecode(self)\n"
     ]
    },
    {
     "name": "stderr",
     "output_type": "stream",
     "text": [
      "FactorBP/FactorGraph.py:399: DeprecationWarning: PyArray_FromDims: use PyArray_SimpleNew.\n  def GetDecode(self): return _FactorGraph.CFactorGraph_GetDecode(self)\nFactorBP/FactorGraph.py:399: DeprecationWarning: PyArray_FromDimsAndDataAndDescr: use PyArray_NewFromDescr.\n  def GetDecode(self): return _FactorGraph.CFactorGraph_GetDecode(self)\n"
     ]
    },
    {
     "name": "stderr",
     "output_type": "stream",
     "text": [
      "FactorBP/FactorGraph.py:399: DeprecationWarning: PyArray_FromDims: use PyArray_SimpleNew.\n  def GetDecode(self): return _FactorGraph.CFactorGraph_GetDecode(self)\nFactorBP/FactorGraph.py:399: DeprecationWarning: PyArray_FromDimsAndDataAndDescr: use PyArray_NewFromDescr.\n  def GetDecode(self): return _FactorGraph.CFactorGraph_GetDecode(self)\n"
     ]
    },
    {
     "name": "stderr",
     "output_type": "stream",
     "text": [
      "FactorBP/FactorGraph.py:399: DeprecationWarning: PyArray_FromDims: use PyArray_SimpleNew.\n  def GetDecode(self): return _FactorGraph.CFactorGraph_GetDecode(self)\nFactorBP/FactorGraph.py:399: DeprecationWarning: PyArray_FromDimsAndDataAndDescr: use PyArray_NewFromDescr.\n  def GetDecode(self): return _FactorGraph.CFactorGraph_GetDecode(self)\n"
     ]
    },
    {
     "name": "stderr",
     "output_type": "stream",
     "text": [
      "FactorBP/FactorGraph.py:399: DeprecationWarning: PyArray_FromDims: use PyArray_SimpleNew.\n  def GetDecode(self): return _FactorGraph.CFactorGraph_GetDecode(self)\nFactorBP/FactorGraph.py:399: DeprecationWarning: PyArray_FromDimsAndDataAndDescr: use PyArray_NewFromDescr.\n  def GetDecode(self): return _FactorGraph.CFactorGraph_GetDecode(self)\n"
     ]
    },
    {
     "name": "stderr",
     "output_type": "stream",
     "text": [
      "FactorBP/FactorGraph.py:399: DeprecationWarning: PyArray_FromDims: use PyArray_SimpleNew.\n  def GetDecode(self): return _FactorGraph.CFactorGraph_GetDecode(self)\nFactorBP/FactorGraph.py:399: DeprecationWarning: PyArray_FromDimsAndDataAndDescr: use PyArray_NewFromDescr.\n  def GetDecode(self): return _FactorGraph.CFactorGraph_GetDecode(self)\n"
     ]
    },
    {
     "name": "stderr",
     "output_type": "stream",
     "text": [
      "FactorBP/FactorGraph.py:399: DeprecationWarning: PyArray_FromDims: use PyArray_SimpleNew.\n  def GetDecode(self): return _FactorGraph.CFactorGraph_GetDecode(self)\nFactorBP/FactorGraph.py:399: DeprecationWarning: PyArray_FromDimsAndDataAndDescr: use PyArray_NewFromDescr.\n  def GetDecode(self): return _FactorGraph.CFactorGraph_GetDecode(self)\n"
     ]
    },
    {
     "name": "stderr",
     "output_type": "stream",
     "text": [
      "FactorBP/FactorGraph.py:399: DeprecationWarning: PyArray_FromDims: use PyArray_SimpleNew.\n  def GetDecode(self): return _FactorGraph.CFactorGraph_GetDecode(self)\nFactorBP/FactorGraph.py:399: DeprecationWarning: PyArray_FromDimsAndDataAndDescr: use PyArray_NewFromDescr.\n  def GetDecode(self): return _FactorGraph.CFactorGraph_GetDecode(self)\n"
     ]
    },
    {
     "name": "stderr",
     "output_type": "stream",
     "text": [
      "FactorBP/FactorGraph.py:399: DeprecationWarning: PyArray_FromDims: use PyArray_SimpleNew.\n  def GetDecode(self): return _FactorGraph.CFactorGraph_GetDecode(self)\nFactorBP/FactorGraph.py:399: DeprecationWarning: PyArray_FromDimsAndDataAndDescr: use PyArray_NewFromDescr.\n  def GetDecode(self): return _FactorGraph.CFactorGraph_GetDecode(self)\n"
     ]
    },
    {
     "name": "stderr",
     "output_type": "stream",
     "text": [
      "FactorBP/FactorGraph.py:399: DeprecationWarning: PyArray_FromDims: use PyArray_SimpleNew.\n  def GetDecode(self): return _FactorGraph.CFactorGraph_GetDecode(self)\nFactorBP/FactorGraph.py:399: DeprecationWarning: PyArray_FromDimsAndDataAndDescr: use PyArray_NewFromDescr.\n  def GetDecode(self): return _FactorGraph.CFactorGraph_GetDecode(self)\n"
     ]
    },
    {
     "name": "stderr",
     "output_type": "stream",
     "text": [
      "FactorBP/FactorGraph.py:399: DeprecationWarning: PyArray_FromDims: use PyArray_SimpleNew.\n  def GetDecode(self): return _FactorGraph.CFactorGraph_GetDecode(self)\nFactorBP/FactorGraph.py:399: DeprecationWarning: PyArray_FromDimsAndDataAndDescr: use PyArray_NewFromDescr.\n  def GetDecode(self): return _FactorGraph.CFactorGraph_GetDecode(self)\n"
     ]
    },
    {
     "name": "stderr",
     "output_type": "stream",
     "text": [
      "FactorBP/FactorGraph.py:399: DeprecationWarning: PyArray_FromDims: use PyArray_SimpleNew.\n  def GetDecode(self): return _FactorGraph.CFactorGraph_GetDecode(self)\nFactorBP/FactorGraph.py:399: DeprecationWarning: PyArray_FromDimsAndDataAndDescr: use PyArray_NewFromDescr.\n  def GetDecode(self): return _FactorGraph.CFactorGraph_GetDecode(self)\n"
     ]
    },
    {
     "name": "stderr",
     "output_type": "stream",
     "text": [
      "FactorBP/FactorGraph.py:399: DeprecationWarning: PyArray_FromDims: use PyArray_SimpleNew.\n  def GetDecode(self): return _FactorGraph.CFactorGraph_GetDecode(self)\nFactorBP/FactorGraph.py:399: DeprecationWarning: PyArray_FromDimsAndDataAndDescr: use PyArray_NewFromDescr.\n  def GetDecode(self): return _FactorGraph.CFactorGraph_GetDecode(self)\n"
     ]
    },
    {
     "name": "stderr",
     "output_type": "stream",
     "text": [
      "FactorBP/FactorGraph.py:399: DeprecationWarning: PyArray_FromDims: use PyArray_SimpleNew.\n  def GetDecode(self): return _FactorGraph.CFactorGraph_GetDecode(self)\nFactorBP/FactorGraph.py:399: DeprecationWarning: PyArray_FromDimsAndDataAndDescr: use PyArray_NewFromDescr.\n  def GetDecode(self): return _FactorGraph.CFactorGraph_GetDecode(self)\n"
     ]
    },
    {
     "name": "stderr",
     "output_type": "stream",
     "text": [
      "FactorBP/FactorGraph.py:399: DeprecationWarning: PyArray_FromDims: use PyArray_SimpleNew.\n  def GetDecode(self): return _FactorGraph.CFactorGraph_GetDecode(self)\nFactorBP/FactorGraph.py:399: DeprecationWarning: PyArray_FromDimsAndDataAndDescr: use PyArray_NewFromDescr.\n  def GetDecode(self): return _FactorGraph.CFactorGraph_GetDecode(self)\n"
     ]
    },
    {
     "name": "stderr",
     "output_type": "stream",
     "text": [
      "FactorBP/FactorGraph.py:399: DeprecationWarning: PyArray_FromDims: use PyArray_SimpleNew.\n  def GetDecode(self): return _FactorGraph.CFactorGraph_GetDecode(self)\nFactorBP/FactorGraph.py:399: DeprecationWarning: PyArray_FromDimsAndDataAndDescr: use PyArray_NewFromDescr.\n  def GetDecode(self): return _FactorGraph.CFactorGraph_GetDecode(self)\n"
     ]
    },
    {
     "name": "stderr",
     "output_type": "stream",
     "text": [
      "FactorBP/FactorGraph.py:399: DeprecationWarning: PyArray_FromDims: use PyArray_SimpleNew.\n  def GetDecode(self): return _FactorGraph.CFactorGraph_GetDecode(self)\nFactorBP/FactorGraph.py:399: DeprecationWarning: PyArray_FromDimsAndDataAndDescr: use PyArray_NewFromDescr.\n  def GetDecode(self): return _FactorGraph.CFactorGraph_GetDecode(self)\n"
     ]
    },
    {
     "name": "stderr",
     "output_type": "stream",
     "text": [
      "FactorBP/FactorGraph.py:399: DeprecationWarning: PyArray_FromDims: use PyArray_SimpleNew.\n  def GetDecode(self): return _FactorGraph.CFactorGraph_GetDecode(self)\nFactorBP/FactorGraph.py:399: DeprecationWarning: PyArray_FromDimsAndDataAndDescr: use PyArray_NewFromDescr.\n  def GetDecode(self): return _FactorGraph.CFactorGraph_GetDecode(self)\n"
     ]
    },
    {
     "name": "stderr",
     "output_type": "stream",
     "text": [
      "FactorBP/FactorGraph.py:399: DeprecationWarning: PyArray_FromDims: use PyArray_SimpleNew.\n  def GetDecode(self): return _FactorGraph.CFactorGraph_GetDecode(self)\nFactorBP/FactorGraph.py:399: DeprecationWarning: PyArray_FromDimsAndDataAndDescr: use PyArray_NewFromDescr.\n  def GetDecode(self): return _FactorGraph.CFactorGraph_GetDecode(self)\n"
     ]
    },
    {
     "name": "stderr",
     "output_type": "stream",
     "text": [
      "FactorBP/FactorGraph.py:399: DeprecationWarning: PyArray_FromDims: use PyArray_SimpleNew.\n  def GetDecode(self): return _FactorGraph.CFactorGraph_GetDecode(self)\nFactorBP/FactorGraph.py:399: DeprecationWarning: PyArray_FromDimsAndDataAndDescr: use PyArray_NewFromDescr.\n  def GetDecode(self): return _FactorGraph.CFactorGraph_GetDecode(self)\n"
     ]
    },
    {
     "name": "stderr",
     "output_type": "stream",
     "text": [
      "FactorBP/FactorGraph.py:399: DeprecationWarning: PyArray_FromDims: use PyArray_SimpleNew.\n  def GetDecode(self): return _FactorGraph.CFactorGraph_GetDecode(self)\nFactorBP/FactorGraph.py:399: DeprecationWarning: PyArray_FromDimsAndDataAndDescr: use PyArray_NewFromDescr.\n  def GetDecode(self): return _FactorGraph.CFactorGraph_GetDecode(self)\n"
     ]
    },
    {
     "name": "stderr",
     "output_type": "stream",
     "text": [
      "FactorBP/FactorGraph.py:399: DeprecationWarning: PyArray_FromDims: use PyArray_SimpleNew.\n  def GetDecode(self): return _FactorGraph.CFactorGraph_GetDecode(self)\nFactorBP/FactorGraph.py:399: DeprecationWarning: PyArray_FromDimsAndDataAndDescr: use PyArray_NewFromDescr.\n  def GetDecode(self): return _FactorGraph.CFactorGraph_GetDecode(self)\n"
     ]
    },
    {
     "name": "stderr",
     "output_type": "stream",
     "text": [
      "FactorBP/FactorGraph.py:399: DeprecationWarning: PyArray_FromDims: use PyArray_SimpleNew.\n  def GetDecode(self): return _FactorGraph.CFactorGraph_GetDecode(self)\nFactorBP/FactorGraph.py:399: DeprecationWarning: PyArray_FromDimsAndDataAndDescr: use PyArray_NewFromDescr.\n  def GetDecode(self): return _FactorGraph.CFactorGraph_GetDecode(self)\n"
     ]
    },
    {
     "name": "stderr",
     "output_type": "stream",
     "text": [
      "FactorBP/FactorGraph.py:399: DeprecationWarning: PyArray_FromDims: use PyArray_SimpleNew.\n  def GetDecode(self): return _FactorGraph.CFactorGraph_GetDecode(self)\nFactorBP/FactorGraph.py:399: DeprecationWarning: PyArray_FromDimsAndDataAndDescr: use PyArray_NewFromDescr.\n  def GetDecode(self): return _FactorGraph.CFactorGraph_GetDecode(self)\n"
     ]
    },
    {
     "name": "stderr",
     "output_type": "stream",
     "text": [
      "FactorBP/FactorGraph.py:399: DeprecationWarning: PyArray_FromDims: use PyArray_SimpleNew.\n  def GetDecode(self): return _FactorGraph.CFactorGraph_GetDecode(self)\nFactorBP/FactorGraph.py:399: DeprecationWarning: PyArray_FromDimsAndDataAndDescr: use PyArray_NewFromDescr.\n  def GetDecode(self): return _FactorGraph.CFactorGraph_GetDecode(self)\n"
     ]
    },
    {
     "name": "stderr",
     "output_type": "stream",
     "text": [
      "FactorBP/FactorGraph.py:399: DeprecationWarning: PyArray_FromDims: use PyArray_SimpleNew.\n  def GetDecode(self): return _FactorGraph.CFactorGraph_GetDecode(self)\nFactorBP/FactorGraph.py:399: DeprecationWarning: PyArray_FromDimsAndDataAndDescr: use PyArray_NewFromDescr.\n  def GetDecode(self): return _FactorGraph.CFactorGraph_GetDecode(self)\n"
     ]
    },
    {
     "name": "stderr",
     "output_type": "stream",
     "text": [
      "FactorBP/FactorGraph.py:399: DeprecationWarning: PyArray_FromDims: use PyArray_SimpleNew.\n  def GetDecode(self): return _FactorGraph.CFactorGraph_GetDecode(self)\nFactorBP/FactorGraph.py:399: DeprecationWarning: PyArray_FromDimsAndDataAndDescr: use PyArray_NewFromDescr.\n  def GetDecode(self): return _FactorGraph.CFactorGraph_GetDecode(self)\n"
     ]
    },
    {
     "name": "stderr",
     "output_type": "stream",
     "text": [
      "FactorBP/FactorGraph.py:399: DeprecationWarning: PyArray_FromDims: use PyArray_SimpleNew.\n  def GetDecode(self): return _FactorGraph.CFactorGraph_GetDecode(self)\nFactorBP/FactorGraph.py:399: DeprecationWarning: PyArray_FromDimsAndDataAndDescr: use PyArray_NewFromDescr.\n  def GetDecode(self): return _FactorGraph.CFactorGraph_GetDecode(self)\n"
     ]
    },
    {
     "name": "stderr",
     "output_type": "stream",
     "text": [
      "FactorBP/FactorGraph.py:399: DeprecationWarning: PyArray_FromDims: use PyArray_SimpleNew.\n  def GetDecode(self): return _FactorGraph.CFactorGraph_GetDecode(self)\nFactorBP/FactorGraph.py:399: DeprecationWarning: PyArray_FromDimsAndDataAndDescr: use PyArray_NewFromDescr.\n  def GetDecode(self): return _FactorGraph.CFactorGraph_GetDecode(self)\n"
     ]
    },
    {
     "name": "stderr",
     "output_type": "stream",
     "text": [
      "FactorBP/FactorGraph.py:399: DeprecationWarning: PyArray_FromDims: use PyArray_SimpleNew.\n  def GetDecode(self): return _FactorGraph.CFactorGraph_GetDecode(self)\nFactorBP/FactorGraph.py:399: DeprecationWarning: PyArray_FromDimsAndDataAndDescr: use PyArray_NewFromDescr.\n  def GetDecode(self): return _FactorGraph.CFactorGraph_GetDecode(self)\n"
     ]
    },
    {
     "name": "stderr",
     "output_type": "stream",
     "text": [
      "FactorBP/FactorGraph.py:399: DeprecationWarning: PyArray_FromDims: use PyArray_SimpleNew.\n  def GetDecode(self): return _FactorGraph.CFactorGraph_GetDecode(self)\nFactorBP/FactorGraph.py:399: DeprecationWarning: PyArray_FromDimsAndDataAndDescr: use PyArray_NewFromDescr.\n  def GetDecode(self): return _FactorGraph.CFactorGraph_GetDecode(self)\n"
     ]
    },
    {
     "name": "stderr",
     "output_type": "stream",
     "text": [
      "FactorBP/FactorGraph.py:399: DeprecationWarning: PyArray_FromDims: use PyArray_SimpleNew.\n  def GetDecode(self): return _FactorGraph.CFactorGraph_GetDecode(self)\nFactorBP/FactorGraph.py:399: DeprecationWarning: PyArray_FromDimsAndDataAndDescr: use PyArray_NewFromDescr.\n  def GetDecode(self): return _FactorGraph.CFactorGraph_GetDecode(self)\n"
     ]
    },
    {
     "name": "stderr",
     "output_type": "stream",
     "text": [
      "FactorBP/FactorGraph.py:399: DeprecationWarning: PyArray_FromDims: use PyArray_SimpleNew.\n  def GetDecode(self): return _FactorGraph.CFactorGraph_GetDecode(self)\nFactorBP/FactorGraph.py:399: DeprecationWarning: PyArray_FromDimsAndDataAndDescr: use PyArray_NewFromDescr.\n  def GetDecode(self): return _FactorGraph.CFactorGraph_GetDecode(self)\n"
     ]
    },
    {
     "name": "stderr",
     "output_type": "stream",
     "text": [
      "FactorBP/FactorGraph.py:399: DeprecationWarning: PyArray_FromDims: use PyArray_SimpleNew.\n  def GetDecode(self): return _FactorGraph.CFactorGraph_GetDecode(self)\nFactorBP/FactorGraph.py:399: DeprecationWarning: PyArray_FromDimsAndDataAndDescr: use PyArray_NewFromDescr.\n  def GetDecode(self): return _FactorGraph.CFactorGraph_GetDecode(self)\n"
     ]
    },
    {
     "name": "stderr",
     "output_type": "stream",
     "text": [
      "FactorBP/FactorGraph.py:399: DeprecationWarning: PyArray_FromDims: use PyArray_SimpleNew.\n  def GetDecode(self): return _FactorGraph.CFactorGraph_GetDecode(self)\nFactorBP/FactorGraph.py:399: DeprecationWarning: PyArray_FromDimsAndDataAndDescr: use PyArray_NewFromDescr.\n  def GetDecode(self): return _FactorGraph.CFactorGraph_GetDecode(self)\n"
     ]
    },
    {
     "name": "stderr",
     "output_type": "stream",
     "text": [
      "FactorBP/FactorGraph.py:399: DeprecationWarning: PyArray_FromDims: use PyArray_SimpleNew.\n  def GetDecode(self): return _FactorGraph.CFactorGraph_GetDecode(self)\nFactorBP/FactorGraph.py:399: DeprecationWarning: PyArray_FromDimsAndDataAndDescr: use PyArray_NewFromDescr.\n  def GetDecode(self): return _FactorGraph.CFactorGraph_GetDecode(self)\n"
     ]
    },
    {
     "name": "stderr",
     "output_type": "stream",
     "text": [
      "FactorBP/FactorGraph.py:399: DeprecationWarning: PyArray_FromDims: use PyArray_SimpleNew.\n  def GetDecode(self): return _FactorGraph.CFactorGraph_GetDecode(self)\nFactorBP/FactorGraph.py:399: DeprecationWarning: PyArray_FromDimsAndDataAndDescr: use PyArray_NewFromDescr.\n  def GetDecode(self): return _FactorGraph.CFactorGraph_GetDecode(self)\n"
     ]
    },
    {
     "name": "stderr",
     "output_type": "stream",
     "text": [
      "FactorBP/FactorGraph.py:399: DeprecationWarning: PyArray_FromDims: use PyArray_SimpleNew.\n  def GetDecode(self): return _FactorGraph.CFactorGraph_GetDecode(self)\nFactorBP/FactorGraph.py:399: DeprecationWarning: PyArray_FromDimsAndDataAndDescr: use PyArray_NewFromDescr.\n  def GetDecode(self): return _FactorGraph.CFactorGraph_GetDecode(self)\n"
     ]
    },
    {
     "name": "stderr",
     "output_type": "stream",
     "text": [
      "FactorBP/FactorGraph.py:399: DeprecationWarning: PyArray_FromDims: use PyArray_SimpleNew.\n  def GetDecode(self): return _FactorGraph.CFactorGraph_GetDecode(self)\nFactorBP/FactorGraph.py:399: DeprecationWarning: PyArray_FromDimsAndDataAndDescr: use PyArray_NewFromDescr.\n  def GetDecode(self): return _FactorGraph.CFactorGraph_GetDecode(self)\n"
     ]
    },
    {
     "name": "stderr",
     "output_type": "stream",
     "text": [
      "FactorBP/FactorGraph.py:399: DeprecationWarning: PyArray_FromDims: use PyArray_SimpleNew.\n  def GetDecode(self): return _FactorGraph.CFactorGraph_GetDecode(self)\nFactorBP/FactorGraph.py:399: DeprecationWarning: PyArray_FromDimsAndDataAndDescr: use PyArray_NewFromDescr.\n  def GetDecode(self): return _FactorGraph.CFactorGraph_GetDecode(self)\n"
     ]
    },
    {
     "name": "stderr",
     "output_type": "stream",
     "text": [
      "FactorBP/FactorGraph.py:399: DeprecationWarning: PyArray_FromDims: use PyArray_SimpleNew.\n  def GetDecode(self): return _FactorGraph.CFactorGraph_GetDecode(self)\nFactorBP/FactorGraph.py:399: DeprecationWarning: PyArray_FromDimsAndDataAndDescr: use PyArray_NewFromDescr.\n  def GetDecode(self): return _FactorGraph.CFactorGraph_GetDecode(self)\n"
     ]
    },
    {
     "name": "stderr",
     "output_type": "stream",
     "text": [
      "FactorBP/FactorGraph.py:399: DeprecationWarning: PyArray_FromDims: use PyArray_SimpleNew.\n  def GetDecode(self): return _FactorGraph.CFactorGraph_GetDecode(self)\nFactorBP/FactorGraph.py:399: DeprecationWarning: PyArray_FromDimsAndDataAndDescr: use PyArray_NewFromDescr.\n  def GetDecode(self): return _FactorGraph.CFactorGraph_GetDecode(self)\n"
     ]
    },
    {
     "name": "stderr",
     "output_type": "stream",
     "text": [
      "FactorBP/FactorGraph.py:399: DeprecationWarning: PyArray_FromDims: use PyArray_SimpleNew.\n  def GetDecode(self): return _FactorGraph.CFactorGraph_GetDecode(self)\nFactorBP/FactorGraph.py:399: DeprecationWarning: PyArray_FromDimsAndDataAndDescr: use PyArray_NewFromDescr.\n  def GetDecode(self): return _FactorGraph.CFactorGraph_GetDecode(self)\n"
     ]
    },
    {
     "name": "stderr",
     "output_type": "stream",
     "text": [
      "FactorBP/FactorGraph.py:399: DeprecationWarning: PyArray_FromDims: use PyArray_SimpleNew.\n  def GetDecode(self): return _FactorGraph.CFactorGraph_GetDecode(self)\nFactorBP/FactorGraph.py:399: DeprecationWarning: PyArray_FromDimsAndDataAndDescr: use PyArray_NewFromDescr.\n  def GetDecode(self): return _FactorGraph.CFactorGraph_GetDecode(self)\n"
     ]
    },
    {
     "name": "stderr",
     "output_type": "stream",
     "text": [
      "FactorBP/FactorGraph.py:399: DeprecationWarning: PyArray_FromDims: use PyArray_SimpleNew.\n  def GetDecode(self): return _FactorGraph.CFactorGraph_GetDecode(self)\nFactorBP/FactorGraph.py:399: DeprecationWarning: PyArray_FromDimsAndDataAndDescr: use PyArray_NewFromDescr.\n  def GetDecode(self): return _FactorGraph.CFactorGraph_GetDecode(self)\n"
     ]
    },
    {
     "name": "stderr",
     "output_type": "stream",
     "text": [
      "FactorBP/FactorGraph.py:399: DeprecationWarning: PyArray_FromDims: use PyArray_SimpleNew.\n  def GetDecode(self): return _FactorGraph.CFactorGraph_GetDecode(self)\nFactorBP/FactorGraph.py:399: DeprecationWarning: PyArray_FromDimsAndDataAndDescr: use PyArray_NewFromDescr.\n  def GetDecode(self): return _FactorGraph.CFactorGraph_GetDecode(self)\n"
     ]
    },
    {
     "name": "stderr",
     "output_type": "stream",
     "text": [
      "FactorBP/FactorGraph.py:399: DeprecationWarning: PyArray_FromDims: use PyArray_SimpleNew.\n  def GetDecode(self): return _FactorGraph.CFactorGraph_GetDecode(self)\nFactorBP/FactorGraph.py:399: DeprecationWarning: PyArray_FromDimsAndDataAndDescr: use PyArray_NewFromDescr.\n  def GetDecode(self): return _FactorGraph.CFactorGraph_GetDecode(self)\n"
     ]
    },
    {
     "name": "stderr",
     "output_type": "stream",
     "text": [
      "FactorBP/FactorGraph.py:399: DeprecationWarning: PyArray_FromDims: use PyArray_SimpleNew.\n  def GetDecode(self): return _FactorGraph.CFactorGraph_GetDecode(self)\nFactorBP/FactorGraph.py:399: DeprecationWarning: PyArray_FromDimsAndDataAndDescr: use PyArray_NewFromDescr.\n  def GetDecode(self): return _FactorGraph.CFactorGraph_GetDecode(self)\n"
     ]
    },
    {
     "name": "stderr",
     "output_type": "stream",
     "text": [
      "FactorBP/FactorGraph.py:399: DeprecationWarning: PyArray_FromDims: use PyArray_SimpleNew.\n  def GetDecode(self): return _FactorGraph.CFactorGraph_GetDecode(self)\nFactorBP/FactorGraph.py:399: DeprecationWarning: PyArray_FromDimsAndDataAndDescr: use PyArray_NewFromDescr.\n  def GetDecode(self): return _FactorGraph.CFactorGraph_GetDecode(self)\n"
     ]
    },
    {
     "name": "stderr",
     "output_type": "stream",
     "text": [
      "FactorBP/FactorGraph.py:399: DeprecationWarning: PyArray_FromDims: use PyArray_SimpleNew.\n  def GetDecode(self): return _FactorGraph.CFactorGraph_GetDecode(self)\nFactorBP/FactorGraph.py:399: DeprecationWarning: PyArray_FromDimsAndDataAndDescr: use PyArray_NewFromDescr.\n  def GetDecode(self): return _FactorGraph.CFactorGraph_GetDecode(self)\n"
     ]
    },
    {
     "name": "stderr",
     "output_type": "stream",
     "text": [
      "FactorBP/FactorGraph.py:399: DeprecationWarning: PyArray_FromDims: use PyArray_SimpleNew.\n  def GetDecode(self): return _FactorGraph.CFactorGraph_GetDecode(self)\nFactorBP/FactorGraph.py:399: DeprecationWarning: PyArray_FromDimsAndDataAndDescr: use PyArray_NewFromDescr.\n  def GetDecode(self): return _FactorGraph.CFactorGraph_GetDecode(self)\n"
     ]
    },
    {
     "name": "stderr",
     "output_type": "stream",
     "text": [
      "FactorBP/FactorGraph.py:399: DeprecationWarning: PyArray_FromDims: use PyArray_SimpleNew.\n  def GetDecode(self): return _FactorGraph.CFactorGraph_GetDecode(self)\nFactorBP/FactorGraph.py:399: DeprecationWarning: PyArray_FromDimsAndDataAndDescr: use PyArray_NewFromDescr.\n  def GetDecode(self): return _FactorGraph.CFactorGraph_GetDecode(self)\n"
     ]
    },
    {
     "name": "stderr",
     "output_type": "stream",
     "text": [
      "FactorBP/FactorGraph.py:399: DeprecationWarning: PyArray_FromDims: use PyArray_SimpleNew.\n  def GetDecode(self): return _FactorGraph.CFactorGraph_GetDecode(self)\nFactorBP/FactorGraph.py:399: DeprecationWarning: PyArray_FromDimsAndDataAndDescr: use PyArray_NewFromDescr.\n  def GetDecode(self): return _FactorGraph.CFactorGraph_GetDecode(self)\n"
     ]
    },
    {
     "name": "stderr",
     "output_type": "stream",
     "text": [
      "FactorBP/FactorGraph.py:399: DeprecationWarning: PyArray_FromDims: use PyArray_SimpleNew.\n  def GetDecode(self): return _FactorGraph.CFactorGraph_GetDecode(self)\nFactorBP/FactorGraph.py:399: DeprecationWarning: PyArray_FromDimsAndDataAndDescr: use PyArray_NewFromDescr.\n  def GetDecode(self): return _FactorGraph.CFactorGraph_GetDecode(self)\n"
     ]
    },
    {
     "name": "stderr",
     "output_type": "stream",
     "text": [
      "FactorBP/FactorGraph.py:399: DeprecationWarning: PyArray_FromDims: use PyArray_SimpleNew.\n  def GetDecode(self): return _FactorGraph.CFactorGraph_GetDecode(self)\nFactorBP/FactorGraph.py:399: DeprecationWarning: PyArray_FromDimsAndDataAndDescr: use PyArray_NewFromDescr.\n  def GetDecode(self): return _FactorGraph.CFactorGraph_GetDecode(self)\n"
     ]
    },
    {
     "name": "stderr",
     "output_type": "stream",
     "text": [
      "FactorBP/FactorGraph.py:399: DeprecationWarning: PyArray_FromDims: use PyArray_SimpleNew.\n  def GetDecode(self): return _FactorGraph.CFactorGraph_GetDecode(self)\nFactorBP/FactorGraph.py:399: DeprecationWarning: PyArray_FromDimsAndDataAndDescr: use PyArray_NewFromDescr.\n  def GetDecode(self): return _FactorGraph.CFactorGraph_GetDecode(self)\n"
     ]
    },
    {
     "name": "stderr",
     "output_type": "stream",
     "text": [
      "FactorBP/FactorGraph.py:399: DeprecationWarning: PyArray_FromDims: use PyArray_SimpleNew.\n  def GetDecode(self): return _FactorGraph.CFactorGraph_GetDecode(self)\nFactorBP/FactorGraph.py:399: DeprecationWarning: PyArray_FromDimsAndDataAndDescr: use PyArray_NewFromDescr.\n  def GetDecode(self): return _FactorGraph.CFactorGraph_GetDecode(self)\n"
     ]
    },
    {
     "name": "stderr",
     "output_type": "stream",
     "text": [
      "FactorBP/FactorGraph.py:399: DeprecationWarning: PyArray_FromDims: use PyArray_SimpleNew.\n  def GetDecode(self): return _FactorGraph.CFactorGraph_GetDecode(self)\nFactorBP/FactorGraph.py:399: DeprecationWarning: PyArray_FromDimsAndDataAndDescr: use PyArray_NewFromDescr.\n  def GetDecode(self): return _FactorGraph.CFactorGraph_GetDecode(self)\n"
     ]
    },
    {
     "name": "stderr",
     "output_type": "stream",
     "text": [
      "FactorBP/FactorGraph.py:399: DeprecationWarning: PyArray_FromDims: use PyArray_SimpleNew.\n  def GetDecode(self): return _FactorGraph.CFactorGraph_GetDecode(self)\nFactorBP/FactorGraph.py:399: DeprecationWarning: PyArray_FromDimsAndDataAndDescr: use PyArray_NewFromDescr.\n  def GetDecode(self): return _FactorGraph.CFactorGraph_GetDecode(self)\n"
     ]
    },
    {
     "name": "stdout",
     "output_type": "stream",
     "text": [
      "Ours Accuracy 1.000000 Running Time 0.014283 Obj 1.000000\nOurs-BCA Accuracy 1.000000 Running Time 0.046902 Obj 1.000000\nBCA Accuracy 0.998122 Running Time 0.023938 Obj 0.998243\nBCA-MP Accuracy 1.000000 Running Time 0.128051 Obj 1.000000\nBCA-IPFP Accuracy 1.000000 Running Time 0.094515 Obj 1.000000\nHGM Accuracy 0.752113 Running Time 0.011486 Obj 0.711778\nRRWHM Accuracy 1.000000 Running Time 0.063646 Obj 1.000000\nTM Accuracy 0.913615 Running Time 0.081086 Obj 0.929835\n××××××××××××××××××××\n Start baseline: 50\n"
     ]
    },
    {
     "name": "stderr",
     "output_type": "stream",
     "text": [
      "FactorBP/FactorGraph.py:399: DeprecationWarning: PyArray_FromDims: use PyArray_SimpleNew.\n  def GetDecode(self): return _FactorGraph.CFactorGraph_GetDecode(self)\nFactorBP/FactorGraph.py:399: DeprecationWarning: PyArray_FromDimsAndDataAndDescr: use PyArray_NewFromDescr.\n  def GetDecode(self): return _FactorGraph.CFactorGraph_GetDecode(self)\n"
     ]
    },
    {
     "name": "stderr",
     "output_type": "stream",
     "text": [
      "FactorBP/FactorGraph.py:399: DeprecationWarning: PyArray_FromDims: use PyArray_SimpleNew.\n  def GetDecode(self): return _FactorGraph.CFactorGraph_GetDecode(self)\nFactorBP/FactorGraph.py:399: DeprecationWarning: PyArray_FromDimsAndDataAndDescr: use PyArray_NewFromDescr.\n  def GetDecode(self): return _FactorGraph.CFactorGraph_GetDecode(self)\n"
     ]
    },
    {
     "name": "stderr",
     "output_type": "stream",
     "text": [
      "FactorBP/FactorGraph.py:399: DeprecationWarning: PyArray_FromDims: use PyArray_SimpleNew.\n  def GetDecode(self): return _FactorGraph.CFactorGraph_GetDecode(self)\nFactorBP/FactorGraph.py:399: DeprecationWarning: PyArray_FromDimsAndDataAndDescr: use PyArray_NewFromDescr.\n  def GetDecode(self): return _FactorGraph.CFactorGraph_GetDecode(self)\n"
     ]
    },
    {
     "name": "stderr",
     "output_type": "stream",
     "text": [
      "FactorBP/FactorGraph.py:399: DeprecationWarning: PyArray_FromDims: use PyArray_SimpleNew.\n  def GetDecode(self): return _FactorGraph.CFactorGraph_GetDecode(self)\nFactorBP/FactorGraph.py:399: DeprecationWarning: PyArray_FromDimsAndDataAndDescr: use PyArray_NewFromDescr.\n  def GetDecode(self): return _FactorGraph.CFactorGraph_GetDecode(self)\n"
     ]
    },
    {
     "name": "stderr",
     "output_type": "stream",
     "text": [
      "FactorBP/FactorGraph.py:399: DeprecationWarning: PyArray_FromDims: use PyArray_SimpleNew.\n  def GetDecode(self): return _FactorGraph.CFactorGraph_GetDecode(self)\nFactorBP/FactorGraph.py:399: DeprecationWarning: PyArray_FromDimsAndDataAndDescr: use PyArray_NewFromDescr.\n  def GetDecode(self): return _FactorGraph.CFactorGraph_GetDecode(self)\n"
     ]
    },
    {
     "name": "stderr",
     "output_type": "stream",
     "text": [
      "FactorBP/FactorGraph.py:399: DeprecationWarning: PyArray_FromDims: use PyArray_SimpleNew.\n  def GetDecode(self): return _FactorGraph.CFactorGraph_GetDecode(self)\nFactorBP/FactorGraph.py:399: DeprecationWarning: PyArray_FromDimsAndDataAndDescr: use PyArray_NewFromDescr.\n  def GetDecode(self): return _FactorGraph.CFactorGraph_GetDecode(self)\n"
     ]
    },
    {
     "name": "stderr",
     "output_type": "stream",
     "text": [
      "FactorBP/FactorGraph.py:399: DeprecationWarning: PyArray_FromDims: use PyArray_SimpleNew.\n  def GetDecode(self): return _FactorGraph.CFactorGraph_GetDecode(self)\nFactorBP/FactorGraph.py:399: DeprecationWarning: PyArray_FromDimsAndDataAndDescr: use PyArray_NewFromDescr.\n  def GetDecode(self): return _FactorGraph.CFactorGraph_GetDecode(self)\n"
     ]
    },
    {
     "name": "stderr",
     "output_type": "stream",
     "text": [
      "FactorBP/FactorGraph.py:399: DeprecationWarning: PyArray_FromDims: use PyArray_SimpleNew.\n  def GetDecode(self): return _FactorGraph.CFactorGraph_GetDecode(self)\nFactorBP/FactorGraph.py:399: DeprecationWarning: PyArray_FromDimsAndDataAndDescr: use PyArray_NewFromDescr.\n  def GetDecode(self): return _FactorGraph.CFactorGraph_GetDecode(self)\n"
     ]
    },
    {
     "name": "stderr",
     "output_type": "stream",
     "text": [
      "FactorBP/FactorGraph.py:399: DeprecationWarning: PyArray_FromDims: use PyArray_SimpleNew.\n  def GetDecode(self): return _FactorGraph.CFactorGraph_GetDecode(self)\nFactorBP/FactorGraph.py:399: DeprecationWarning: PyArray_FromDimsAndDataAndDescr: use PyArray_NewFromDescr.\n  def GetDecode(self): return _FactorGraph.CFactorGraph_GetDecode(self)\n"
     ]
    },
    {
     "name": "stderr",
     "output_type": "stream",
     "text": [
      "FactorBP/FactorGraph.py:399: DeprecationWarning: PyArray_FromDims: use PyArray_SimpleNew.\n  def GetDecode(self): return _FactorGraph.CFactorGraph_GetDecode(self)\nFactorBP/FactorGraph.py:399: DeprecationWarning: PyArray_FromDimsAndDataAndDescr: use PyArray_NewFromDescr.\n  def GetDecode(self): return _FactorGraph.CFactorGraph_GetDecode(self)\n"
     ]
    },
    {
     "name": "stderr",
     "output_type": "stream",
     "text": [
      "FactorBP/FactorGraph.py:399: DeprecationWarning: PyArray_FromDims: use PyArray_SimpleNew.\n  def GetDecode(self): return _FactorGraph.CFactorGraph_GetDecode(self)\nFactorBP/FactorGraph.py:399: DeprecationWarning: PyArray_FromDimsAndDataAndDescr: use PyArray_NewFromDescr.\n  def GetDecode(self): return _FactorGraph.CFactorGraph_GetDecode(self)\n"
     ]
    },
    {
     "name": "stderr",
     "output_type": "stream",
     "text": [
      "FactorBP/FactorGraph.py:399: DeprecationWarning: PyArray_FromDims: use PyArray_SimpleNew.\n  def GetDecode(self): return _FactorGraph.CFactorGraph_GetDecode(self)\nFactorBP/FactorGraph.py:399: DeprecationWarning: PyArray_FromDimsAndDataAndDescr: use PyArray_NewFromDescr.\n  def GetDecode(self): return _FactorGraph.CFactorGraph_GetDecode(self)\n"
     ]
    },
    {
     "name": "stderr",
     "output_type": "stream",
     "text": [
      "FactorBP/FactorGraph.py:399: DeprecationWarning: PyArray_FromDims: use PyArray_SimpleNew.\n  def GetDecode(self): return _FactorGraph.CFactorGraph_GetDecode(self)\nFactorBP/FactorGraph.py:399: DeprecationWarning: PyArray_FromDimsAndDataAndDescr: use PyArray_NewFromDescr.\n  def GetDecode(self): return _FactorGraph.CFactorGraph_GetDecode(self)\n"
     ]
    },
    {
     "name": "stderr",
     "output_type": "stream",
     "text": [
      "FactorBP/FactorGraph.py:399: DeprecationWarning: PyArray_FromDims: use PyArray_SimpleNew.\n  def GetDecode(self): return _FactorGraph.CFactorGraph_GetDecode(self)\nFactorBP/FactorGraph.py:399: DeprecationWarning: PyArray_FromDimsAndDataAndDescr: use PyArray_NewFromDescr.\n  def GetDecode(self): return _FactorGraph.CFactorGraph_GetDecode(self)\n"
     ]
    },
    {
     "name": "stderr",
     "output_type": "stream",
     "text": [
      "FactorBP/FactorGraph.py:399: DeprecationWarning: PyArray_FromDims: use PyArray_SimpleNew.\n  def GetDecode(self): return _FactorGraph.CFactorGraph_GetDecode(self)\nFactorBP/FactorGraph.py:399: DeprecationWarning: PyArray_FromDimsAndDataAndDescr: use PyArray_NewFromDescr.\n  def GetDecode(self): return _FactorGraph.CFactorGraph_GetDecode(self)\n"
     ]
    },
    {
     "name": "stderr",
     "output_type": "stream",
     "text": [
      "FactorBP/FactorGraph.py:399: DeprecationWarning: PyArray_FromDims: use PyArray_SimpleNew.\n  def GetDecode(self): return _FactorGraph.CFactorGraph_GetDecode(self)\nFactorBP/FactorGraph.py:399: DeprecationWarning: PyArray_FromDimsAndDataAndDescr: use PyArray_NewFromDescr.\n  def GetDecode(self): return _FactorGraph.CFactorGraph_GetDecode(self)\n"
     ]
    },
    {
     "name": "stderr",
     "output_type": "stream",
     "text": [
      "FactorBP/FactorGraph.py:399: DeprecationWarning: PyArray_FromDims: use PyArray_SimpleNew.\n  def GetDecode(self): return _FactorGraph.CFactorGraph_GetDecode(self)\nFactorBP/FactorGraph.py:399: DeprecationWarning: PyArray_FromDimsAndDataAndDescr: use PyArray_NewFromDescr.\n  def GetDecode(self): return _FactorGraph.CFactorGraph_GetDecode(self)\n"
     ]
    },
    {
     "name": "stderr",
     "output_type": "stream",
     "text": [
      "FactorBP/FactorGraph.py:399: DeprecationWarning: PyArray_FromDims: use PyArray_SimpleNew.\n  def GetDecode(self): return _FactorGraph.CFactorGraph_GetDecode(self)\nFactorBP/FactorGraph.py:399: DeprecationWarning: PyArray_FromDimsAndDataAndDescr: use PyArray_NewFromDescr.\n  def GetDecode(self): return _FactorGraph.CFactorGraph_GetDecode(self)\n"
     ]
    },
    {
     "name": "stderr",
     "output_type": "stream",
     "text": [
      "FactorBP/FactorGraph.py:399: DeprecationWarning: PyArray_FromDims: use PyArray_SimpleNew.\n  def GetDecode(self): return _FactorGraph.CFactorGraph_GetDecode(self)\nFactorBP/FactorGraph.py:399: DeprecationWarning: PyArray_FromDimsAndDataAndDescr: use PyArray_NewFromDescr.\n  def GetDecode(self): return _FactorGraph.CFactorGraph_GetDecode(self)\n"
     ]
    },
    {
     "name": "stderr",
     "output_type": "stream",
     "text": [
      "FactorBP/FactorGraph.py:399: DeprecationWarning: PyArray_FromDims: use PyArray_SimpleNew.\n  def GetDecode(self): return _FactorGraph.CFactorGraph_GetDecode(self)\nFactorBP/FactorGraph.py:399: DeprecationWarning: PyArray_FromDimsAndDataAndDescr: use PyArray_NewFromDescr.\n  def GetDecode(self): return _FactorGraph.CFactorGraph_GetDecode(self)\n"
     ]
    },
    {
     "name": "stderr",
     "output_type": "stream",
     "text": [
      "FactorBP/FactorGraph.py:399: DeprecationWarning: PyArray_FromDims: use PyArray_SimpleNew.\n  def GetDecode(self): return _FactorGraph.CFactorGraph_GetDecode(self)\nFactorBP/FactorGraph.py:399: DeprecationWarning: PyArray_FromDimsAndDataAndDescr: use PyArray_NewFromDescr.\n  def GetDecode(self): return _FactorGraph.CFactorGraph_GetDecode(self)\n"
     ]
    },
    {
     "name": "stderr",
     "output_type": "stream",
     "text": [
      "FactorBP/FactorGraph.py:399: DeprecationWarning: PyArray_FromDims: use PyArray_SimpleNew.\n  def GetDecode(self): return _FactorGraph.CFactorGraph_GetDecode(self)\nFactorBP/FactorGraph.py:399: DeprecationWarning: PyArray_FromDimsAndDataAndDescr: use PyArray_NewFromDescr.\n  def GetDecode(self): return _FactorGraph.CFactorGraph_GetDecode(self)\n"
     ]
    },
    {
     "name": "stderr",
     "output_type": "stream",
     "text": [
      "FactorBP/FactorGraph.py:399: DeprecationWarning: PyArray_FromDims: use PyArray_SimpleNew.\n  def GetDecode(self): return _FactorGraph.CFactorGraph_GetDecode(self)\nFactorBP/FactorGraph.py:399: DeprecationWarning: PyArray_FromDimsAndDataAndDescr: use PyArray_NewFromDescr.\n  def GetDecode(self): return _FactorGraph.CFactorGraph_GetDecode(self)\n"
     ]
    },
    {
     "name": "stderr",
     "output_type": "stream",
     "text": [
      "FactorBP/FactorGraph.py:399: DeprecationWarning: PyArray_FromDims: use PyArray_SimpleNew.\n  def GetDecode(self): return _FactorGraph.CFactorGraph_GetDecode(self)\nFactorBP/FactorGraph.py:399: DeprecationWarning: PyArray_FromDimsAndDataAndDescr: use PyArray_NewFromDescr.\n  def GetDecode(self): return _FactorGraph.CFactorGraph_GetDecode(self)\n"
     ]
    },
    {
     "name": "stderr",
     "output_type": "stream",
     "text": [
      "FactorBP/FactorGraph.py:399: DeprecationWarning: PyArray_FromDims: use PyArray_SimpleNew.\n  def GetDecode(self): return _FactorGraph.CFactorGraph_GetDecode(self)\nFactorBP/FactorGraph.py:399: DeprecationWarning: PyArray_FromDimsAndDataAndDescr: use PyArray_NewFromDescr.\n  def GetDecode(self): return _FactorGraph.CFactorGraph_GetDecode(self)\n"
     ]
    },
    {
     "name": "stderr",
     "output_type": "stream",
     "text": [
      "FactorBP/FactorGraph.py:399: DeprecationWarning: PyArray_FromDims: use PyArray_SimpleNew.\n  def GetDecode(self): return _FactorGraph.CFactorGraph_GetDecode(self)\nFactorBP/FactorGraph.py:399: DeprecationWarning: PyArray_FromDimsAndDataAndDescr: use PyArray_NewFromDescr.\n  def GetDecode(self): return _FactorGraph.CFactorGraph_GetDecode(self)\n"
     ]
    },
    {
     "name": "stderr",
     "output_type": "stream",
     "text": [
      "FactorBP/FactorGraph.py:399: DeprecationWarning: PyArray_FromDims: use PyArray_SimpleNew.\n  def GetDecode(self): return _FactorGraph.CFactorGraph_GetDecode(self)\nFactorBP/FactorGraph.py:399: DeprecationWarning: PyArray_FromDimsAndDataAndDescr: use PyArray_NewFromDescr.\n  def GetDecode(self): return _FactorGraph.CFactorGraph_GetDecode(self)\n"
     ]
    },
    {
     "name": "stderr",
     "output_type": "stream",
     "text": [
      "FactorBP/FactorGraph.py:399: DeprecationWarning: PyArray_FromDims: use PyArray_SimpleNew.\n  def GetDecode(self): return _FactorGraph.CFactorGraph_GetDecode(self)\nFactorBP/FactorGraph.py:399: DeprecationWarning: PyArray_FromDimsAndDataAndDescr: use PyArray_NewFromDescr.\n  def GetDecode(self): return _FactorGraph.CFactorGraph_GetDecode(self)\n"
     ]
    },
    {
     "name": "stderr",
     "output_type": "stream",
     "text": [
      "FactorBP/FactorGraph.py:399: DeprecationWarning: PyArray_FromDims: use PyArray_SimpleNew.\n  def GetDecode(self): return _FactorGraph.CFactorGraph_GetDecode(self)\nFactorBP/FactorGraph.py:399: DeprecationWarning: PyArray_FromDimsAndDataAndDescr: use PyArray_NewFromDescr.\n  def GetDecode(self): return _FactorGraph.CFactorGraph_GetDecode(self)\n"
     ]
    },
    {
     "name": "stderr",
     "output_type": "stream",
     "text": [
      "FactorBP/FactorGraph.py:399: DeprecationWarning: PyArray_FromDims: use PyArray_SimpleNew.\n  def GetDecode(self): return _FactorGraph.CFactorGraph_GetDecode(self)\nFactorBP/FactorGraph.py:399: DeprecationWarning: PyArray_FromDimsAndDataAndDescr: use PyArray_NewFromDescr.\n  def GetDecode(self): return _FactorGraph.CFactorGraph_GetDecode(self)\n"
     ]
    },
    {
     "name": "stderr",
     "output_type": "stream",
     "text": [
      "FactorBP/FactorGraph.py:399: DeprecationWarning: PyArray_FromDims: use PyArray_SimpleNew.\n  def GetDecode(self): return _FactorGraph.CFactorGraph_GetDecode(self)\nFactorBP/FactorGraph.py:399: DeprecationWarning: PyArray_FromDimsAndDataAndDescr: use PyArray_NewFromDescr.\n  def GetDecode(self): return _FactorGraph.CFactorGraph_GetDecode(self)\n"
     ]
    },
    {
     "name": "stderr",
     "output_type": "stream",
     "text": [
      "FactorBP/FactorGraph.py:399: DeprecationWarning: PyArray_FromDims: use PyArray_SimpleNew.\n  def GetDecode(self): return _FactorGraph.CFactorGraph_GetDecode(self)\nFactorBP/FactorGraph.py:399: DeprecationWarning: PyArray_FromDimsAndDataAndDescr: use PyArray_NewFromDescr.\n  def GetDecode(self): return _FactorGraph.CFactorGraph_GetDecode(self)\n"
     ]
    },
    {
     "name": "stderr",
     "output_type": "stream",
     "text": [
      "FactorBP/FactorGraph.py:399: DeprecationWarning: PyArray_FromDims: use PyArray_SimpleNew.\n  def GetDecode(self): return _FactorGraph.CFactorGraph_GetDecode(self)\nFactorBP/FactorGraph.py:399: DeprecationWarning: PyArray_FromDimsAndDataAndDescr: use PyArray_NewFromDescr.\n  def GetDecode(self): return _FactorGraph.CFactorGraph_GetDecode(self)\n"
     ]
    },
    {
     "name": "stderr",
     "output_type": "stream",
     "text": [
      "FactorBP/FactorGraph.py:399: DeprecationWarning: PyArray_FromDims: use PyArray_SimpleNew.\n  def GetDecode(self): return _FactorGraph.CFactorGraph_GetDecode(self)\nFactorBP/FactorGraph.py:399: DeprecationWarning: PyArray_FromDimsAndDataAndDescr: use PyArray_NewFromDescr.\n  def GetDecode(self): return _FactorGraph.CFactorGraph_GetDecode(self)\n"
     ]
    },
    {
     "name": "stderr",
     "output_type": "stream",
     "text": [
      "FactorBP/FactorGraph.py:399: DeprecationWarning: PyArray_FromDims: use PyArray_SimpleNew.\n  def GetDecode(self): return _FactorGraph.CFactorGraph_GetDecode(self)\nFactorBP/FactorGraph.py:399: DeprecationWarning: PyArray_FromDimsAndDataAndDescr: use PyArray_NewFromDescr.\n  def GetDecode(self): return _FactorGraph.CFactorGraph_GetDecode(self)\n"
     ]
    },
    {
     "name": "stderr",
     "output_type": "stream",
     "text": [
      "FactorBP/FactorGraph.py:399: DeprecationWarning: PyArray_FromDims: use PyArray_SimpleNew.\n  def GetDecode(self): return _FactorGraph.CFactorGraph_GetDecode(self)\nFactorBP/FactorGraph.py:399: DeprecationWarning: PyArray_FromDimsAndDataAndDescr: use PyArray_NewFromDescr.\n  def GetDecode(self): return _FactorGraph.CFactorGraph_GetDecode(self)\n"
     ]
    },
    {
     "name": "stderr",
     "output_type": "stream",
     "text": [
      "FactorBP/FactorGraph.py:399: DeprecationWarning: PyArray_FromDims: use PyArray_SimpleNew.\n  def GetDecode(self): return _FactorGraph.CFactorGraph_GetDecode(self)\nFactorBP/FactorGraph.py:399: DeprecationWarning: PyArray_FromDimsAndDataAndDescr: use PyArray_NewFromDescr.\n  def GetDecode(self): return _FactorGraph.CFactorGraph_GetDecode(self)\n"
     ]
    },
    {
     "name": "stderr",
     "output_type": "stream",
     "text": [
      "FactorBP/FactorGraph.py:399: DeprecationWarning: PyArray_FromDims: use PyArray_SimpleNew.\n  def GetDecode(self): return _FactorGraph.CFactorGraph_GetDecode(self)\nFactorBP/FactorGraph.py:399: DeprecationWarning: PyArray_FromDimsAndDataAndDescr: use PyArray_NewFromDescr.\n  def GetDecode(self): return _FactorGraph.CFactorGraph_GetDecode(self)\n"
     ]
    },
    {
     "name": "stderr",
     "output_type": "stream",
     "text": [
      "FactorBP/FactorGraph.py:399: DeprecationWarning: PyArray_FromDims: use PyArray_SimpleNew.\n  def GetDecode(self): return _FactorGraph.CFactorGraph_GetDecode(self)\nFactorBP/FactorGraph.py:399: DeprecationWarning: PyArray_FromDimsAndDataAndDescr: use PyArray_NewFromDescr.\n  def GetDecode(self): return _FactorGraph.CFactorGraph_GetDecode(self)\n"
     ]
    },
    {
     "name": "stderr",
     "output_type": "stream",
     "text": [
      "FactorBP/FactorGraph.py:399: DeprecationWarning: PyArray_FromDims: use PyArray_SimpleNew.\n  def GetDecode(self): return _FactorGraph.CFactorGraph_GetDecode(self)\nFactorBP/FactorGraph.py:399: DeprecationWarning: PyArray_FromDimsAndDataAndDescr: use PyArray_NewFromDescr.\n  def GetDecode(self): return _FactorGraph.CFactorGraph_GetDecode(self)\n"
     ]
    },
    {
     "name": "stderr",
     "output_type": "stream",
     "text": [
      "FactorBP/FactorGraph.py:399: DeprecationWarning: PyArray_FromDims: use PyArray_SimpleNew.\n  def GetDecode(self): return _FactorGraph.CFactorGraph_GetDecode(self)\nFactorBP/FactorGraph.py:399: DeprecationWarning: PyArray_FromDimsAndDataAndDescr: use PyArray_NewFromDescr.\n  def GetDecode(self): return _FactorGraph.CFactorGraph_GetDecode(self)\n"
     ]
    },
    {
     "name": "stderr",
     "output_type": "stream",
     "text": [
      "FactorBP/FactorGraph.py:399: DeprecationWarning: PyArray_FromDims: use PyArray_SimpleNew.\n  def GetDecode(self): return _FactorGraph.CFactorGraph_GetDecode(self)\nFactorBP/FactorGraph.py:399: DeprecationWarning: PyArray_FromDimsAndDataAndDescr: use PyArray_NewFromDescr.\n  def GetDecode(self): return _FactorGraph.CFactorGraph_GetDecode(self)\n"
     ]
    },
    {
     "name": "stderr",
     "output_type": "stream",
     "text": [
      "FactorBP/FactorGraph.py:399: DeprecationWarning: PyArray_FromDims: use PyArray_SimpleNew.\n  def GetDecode(self): return _FactorGraph.CFactorGraph_GetDecode(self)\nFactorBP/FactorGraph.py:399: DeprecationWarning: PyArray_FromDimsAndDataAndDescr: use PyArray_NewFromDescr.\n  def GetDecode(self): return _FactorGraph.CFactorGraph_GetDecode(self)\n"
     ]
    },
    {
     "name": "stderr",
     "output_type": "stream",
     "text": [
      "FactorBP/FactorGraph.py:399: DeprecationWarning: PyArray_FromDims: use PyArray_SimpleNew.\n  def GetDecode(self): return _FactorGraph.CFactorGraph_GetDecode(self)\nFactorBP/FactorGraph.py:399: DeprecationWarning: PyArray_FromDimsAndDataAndDescr: use PyArray_NewFromDescr.\n  def GetDecode(self): return _FactorGraph.CFactorGraph_GetDecode(self)\n"
     ]
    },
    {
     "name": "stderr",
     "output_type": "stream",
     "text": [
      "FactorBP/FactorGraph.py:399: DeprecationWarning: PyArray_FromDims: use PyArray_SimpleNew.\n  def GetDecode(self): return _FactorGraph.CFactorGraph_GetDecode(self)\nFactorBP/FactorGraph.py:399: DeprecationWarning: PyArray_FromDimsAndDataAndDescr: use PyArray_NewFromDescr.\n  def GetDecode(self): return _FactorGraph.CFactorGraph_GetDecode(self)\n"
     ]
    },
    {
     "name": "stderr",
     "output_type": "stream",
     "text": [
      "FactorBP/FactorGraph.py:399: DeprecationWarning: PyArray_FromDims: use PyArray_SimpleNew.\n  def GetDecode(self): return _FactorGraph.CFactorGraph_GetDecode(self)\nFactorBP/FactorGraph.py:399: DeprecationWarning: PyArray_FromDimsAndDataAndDescr: use PyArray_NewFromDescr.\n  def GetDecode(self): return _FactorGraph.CFactorGraph_GetDecode(self)\n"
     ]
    },
    {
     "name": "stderr",
     "output_type": "stream",
     "text": [
      "FactorBP/FactorGraph.py:399: DeprecationWarning: PyArray_FromDims: use PyArray_SimpleNew.\n  def GetDecode(self): return _FactorGraph.CFactorGraph_GetDecode(self)\nFactorBP/FactorGraph.py:399: DeprecationWarning: PyArray_FromDimsAndDataAndDescr: use PyArray_NewFromDescr.\n  def GetDecode(self): return _FactorGraph.CFactorGraph_GetDecode(self)\n"
     ]
    },
    {
     "name": "stderr",
     "output_type": "stream",
     "text": [
      "FactorBP/FactorGraph.py:399: DeprecationWarning: PyArray_FromDims: use PyArray_SimpleNew.\n  def GetDecode(self): return _FactorGraph.CFactorGraph_GetDecode(self)\nFactorBP/FactorGraph.py:399: DeprecationWarning: PyArray_FromDimsAndDataAndDescr: use PyArray_NewFromDescr.\n  def GetDecode(self): return _FactorGraph.CFactorGraph_GetDecode(self)\n"
     ]
    },
    {
     "name": "stderr",
     "output_type": "stream",
     "text": [
      "FactorBP/FactorGraph.py:399: DeprecationWarning: PyArray_FromDims: use PyArray_SimpleNew.\n  def GetDecode(self): return _FactorGraph.CFactorGraph_GetDecode(self)\nFactorBP/FactorGraph.py:399: DeprecationWarning: PyArray_FromDimsAndDataAndDescr: use PyArray_NewFromDescr.\n  def GetDecode(self): return _FactorGraph.CFactorGraph_GetDecode(self)\n"
     ]
    },
    {
     "name": "stderr",
     "output_type": "stream",
     "text": [
      "FactorBP/FactorGraph.py:399: DeprecationWarning: PyArray_FromDims: use PyArray_SimpleNew.\n  def GetDecode(self): return _FactorGraph.CFactorGraph_GetDecode(self)\nFactorBP/FactorGraph.py:399: DeprecationWarning: PyArray_FromDimsAndDataAndDescr: use PyArray_NewFromDescr.\n  def GetDecode(self): return _FactorGraph.CFactorGraph_GetDecode(self)\n"
     ]
    },
    {
     "name": "stderr",
     "output_type": "stream",
     "text": [
      "FactorBP/FactorGraph.py:399: DeprecationWarning: PyArray_FromDims: use PyArray_SimpleNew.\n  def GetDecode(self): return _FactorGraph.CFactorGraph_GetDecode(self)\nFactorBP/FactorGraph.py:399: DeprecationWarning: PyArray_FromDimsAndDataAndDescr: use PyArray_NewFromDescr.\n  def GetDecode(self): return _FactorGraph.CFactorGraph_GetDecode(self)\n"
     ]
    },
    {
     "name": "stderr",
     "output_type": "stream",
     "text": [
      "FactorBP/FactorGraph.py:399: DeprecationWarning: PyArray_FromDims: use PyArray_SimpleNew.\n  def GetDecode(self): return _FactorGraph.CFactorGraph_GetDecode(self)\nFactorBP/FactorGraph.py:399: DeprecationWarning: PyArray_FromDimsAndDataAndDescr: use PyArray_NewFromDescr.\n  def GetDecode(self): return _FactorGraph.CFactorGraph_GetDecode(self)\n"
     ]
    },
    {
     "name": "stderr",
     "output_type": "stream",
     "text": [
      "FactorBP/FactorGraph.py:399: DeprecationWarning: PyArray_FromDims: use PyArray_SimpleNew.\n  def GetDecode(self): return _FactorGraph.CFactorGraph_GetDecode(self)\nFactorBP/FactorGraph.py:399: DeprecationWarning: PyArray_FromDimsAndDataAndDescr: use PyArray_NewFromDescr.\n  def GetDecode(self): return _FactorGraph.CFactorGraph_GetDecode(self)\n"
     ]
    },
    {
     "name": "stderr",
     "output_type": "stream",
     "text": [
      "FactorBP/FactorGraph.py:399: DeprecationWarning: PyArray_FromDims: use PyArray_SimpleNew.\n  def GetDecode(self): return _FactorGraph.CFactorGraph_GetDecode(self)\nFactorBP/FactorGraph.py:399: DeprecationWarning: PyArray_FromDimsAndDataAndDescr: use PyArray_NewFromDescr.\n  def GetDecode(self): return _FactorGraph.CFactorGraph_GetDecode(self)\n"
     ]
    },
    {
     "name": "stderr",
     "output_type": "stream",
     "text": [
      "FactorBP/FactorGraph.py:399: DeprecationWarning: PyArray_FromDims: use PyArray_SimpleNew.\n  def GetDecode(self): return _FactorGraph.CFactorGraph_GetDecode(self)\nFactorBP/FactorGraph.py:399: DeprecationWarning: PyArray_FromDimsAndDataAndDescr: use PyArray_NewFromDescr.\n  def GetDecode(self): return _FactorGraph.CFactorGraph_GetDecode(self)\n"
     ]
    },
    {
     "name": "stderr",
     "output_type": "stream",
     "text": [
      "FactorBP/FactorGraph.py:399: DeprecationWarning: PyArray_FromDims: use PyArray_SimpleNew.\n  def GetDecode(self): return _FactorGraph.CFactorGraph_GetDecode(self)\nFactorBP/FactorGraph.py:399: DeprecationWarning: PyArray_FromDimsAndDataAndDescr: use PyArray_NewFromDescr.\n  def GetDecode(self): return _FactorGraph.CFactorGraph_GetDecode(self)\n"
     ]
    },
    {
     "name": "stderr",
     "output_type": "stream",
     "text": [
      "FactorBP/FactorGraph.py:399: DeprecationWarning: PyArray_FromDims: use PyArray_SimpleNew.\n  def GetDecode(self): return _FactorGraph.CFactorGraph_GetDecode(self)\nFactorBP/FactorGraph.py:399: DeprecationWarning: PyArray_FromDimsAndDataAndDescr: use PyArray_NewFromDescr.\n  def GetDecode(self): return _FactorGraph.CFactorGraph_GetDecode(self)\n"
     ]
    },
    {
     "name": "stderr",
     "output_type": "stream",
     "text": [
      "FactorBP/FactorGraph.py:399: DeprecationWarning: PyArray_FromDims: use PyArray_SimpleNew.\n  def GetDecode(self): return _FactorGraph.CFactorGraph_GetDecode(self)\nFactorBP/FactorGraph.py:399: DeprecationWarning: PyArray_FromDimsAndDataAndDescr: use PyArray_NewFromDescr.\n  def GetDecode(self): return _FactorGraph.CFactorGraph_GetDecode(self)\n"
     ]
    },
    {
     "name": "stderr",
     "output_type": "stream",
     "text": [
      "FactorBP/FactorGraph.py:399: DeprecationWarning: PyArray_FromDims: use PyArray_SimpleNew.\n  def GetDecode(self): return _FactorGraph.CFactorGraph_GetDecode(self)\nFactorBP/FactorGraph.py:399: DeprecationWarning: PyArray_FromDimsAndDataAndDescr: use PyArray_NewFromDescr.\n  def GetDecode(self): return _FactorGraph.CFactorGraph_GetDecode(self)\n"
     ]
    },
    {
     "name": "stderr",
     "output_type": "stream",
     "text": [
      "FactorBP/FactorGraph.py:399: DeprecationWarning: PyArray_FromDims: use PyArray_SimpleNew.\n  def GetDecode(self): return _FactorGraph.CFactorGraph_GetDecode(self)\nFactorBP/FactorGraph.py:399: DeprecationWarning: PyArray_FromDimsAndDataAndDescr: use PyArray_NewFromDescr.\n  def GetDecode(self): return _FactorGraph.CFactorGraph_GetDecode(self)\n"
     ]
    },
    {
     "name": "stderr",
     "output_type": "stream",
     "text": [
      "FactorBP/FactorGraph.py:399: DeprecationWarning: PyArray_FromDims: use PyArray_SimpleNew.\n  def GetDecode(self): return _FactorGraph.CFactorGraph_GetDecode(self)\nFactorBP/FactorGraph.py:399: DeprecationWarning: PyArray_FromDimsAndDataAndDescr: use PyArray_NewFromDescr.\n  def GetDecode(self): return _FactorGraph.CFactorGraph_GetDecode(self)\n"
     ]
    },
    {
     "name": "stdout",
     "output_type": "stream",
     "text": [
      "Ours Accuracy 1.000000 Running Time 0.041515 Obj 1.000000\nOurs-BCA Accuracy 1.000000 Running Time 0.073355 Obj 1.000000\nBCA Accuracy 0.998907 Running Time 0.023355 Obj 0.999090\nBCA-MP Accuracy 1.000000 Running Time 0.126226 Obj 1.000000\nBCA-IPFP Accuracy 1.000000 Running Time 0.094461 Obj 1.000000\nHGM Accuracy 0.653005 Running Time 0.010910 Obj 0.617151\nRRWHM Accuracy 1.000000 Running Time 0.067807 Obj 1.000000\nTM Accuracy 0.855738 Running Time 0.081508 Obj 0.877598\n××××××××××××××××××××\n Start baseline: 60\n"
     ]
    },
    {
     "name": "stderr",
     "output_type": "stream",
     "text": [
      "FactorBP/FactorGraph.py:399: DeprecationWarning: PyArray_FromDims: use PyArray_SimpleNew.\n  def GetDecode(self): return _FactorGraph.CFactorGraph_GetDecode(self)\nFactorBP/FactorGraph.py:399: DeprecationWarning: PyArray_FromDimsAndDataAndDescr: use PyArray_NewFromDescr.\n  def GetDecode(self): return _FactorGraph.CFactorGraph_GetDecode(self)\n"
     ]
    },
    {
     "name": "stderr",
     "output_type": "stream",
     "text": [
      "FactorBP/FactorGraph.py:399: DeprecationWarning: PyArray_FromDims: use PyArray_SimpleNew.\n  def GetDecode(self): return _FactorGraph.CFactorGraph_GetDecode(self)\nFactorBP/FactorGraph.py:399: DeprecationWarning: PyArray_FromDimsAndDataAndDescr: use PyArray_NewFromDescr.\n  def GetDecode(self): return _FactorGraph.CFactorGraph_GetDecode(self)\n"
     ]
    },
    {
     "name": "stderr",
     "output_type": "stream",
     "text": [
      "FactorBP/FactorGraph.py:399: DeprecationWarning: PyArray_FromDims: use PyArray_SimpleNew.\n  def GetDecode(self): return _FactorGraph.CFactorGraph_GetDecode(self)\nFactorBP/FactorGraph.py:399: DeprecationWarning: PyArray_FromDimsAndDataAndDescr: use PyArray_NewFromDescr.\n  def GetDecode(self): return _FactorGraph.CFactorGraph_GetDecode(self)\n"
     ]
    },
    {
     "name": "stderr",
     "output_type": "stream",
     "text": [
      "FactorBP/FactorGraph.py:399: DeprecationWarning: PyArray_FromDims: use PyArray_SimpleNew.\n  def GetDecode(self): return _FactorGraph.CFactorGraph_GetDecode(self)\nFactorBP/FactorGraph.py:399: DeprecationWarning: PyArray_FromDimsAndDataAndDescr: use PyArray_NewFromDescr.\n  def GetDecode(self): return _FactorGraph.CFactorGraph_GetDecode(self)\n"
     ]
    },
    {
     "name": "stderr",
     "output_type": "stream",
     "text": [
      "FactorBP/FactorGraph.py:399: DeprecationWarning: PyArray_FromDims: use PyArray_SimpleNew.\n  def GetDecode(self): return _FactorGraph.CFactorGraph_GetDecode(self)\nFactorBP/FactorGraph.py:399: DeprecationWarning: PyArray_FromDimsAndDataAndDescr: use PyArray_NewFromDescr.\n  def GetDecode(self): return _FactorGraph.CFactorGraph_GetDecode(self)\n"
     ]
    },
    {
     "name": "stderr",
     "output_type": "stream",
     "text": [
      "FactorBP/FactorGraph.py:399: DeprecationWarning: PyArray_FromDims: use PyArray_SimpleNew.\n  def GetDecode(self): return _FactorGraph.CFactorGraph_GetDecode(self)\nFactorBP/FactorGraph.py:399: DeprecationWarning: PyArray_FromDimsAndDataAndDescr: use PyArray_NewFromDescr.\n  def GetDecode(self): return _FactorGraph.CFactorGraph_GetDecode(self)\n"
     ]
    },
    {
     "name": "stderr",
     "output_type": "stream",
     "text": [
      "FactorBP/FactorGraph.py:399: DeprecationWarning: PyArray_FromDims: use PyArray_SimpleNew.\n  def GetDecode(self): return _FactorGraph.CFactorGraph_GetDecode(self)\nFactorBP/FactorGraph.py:399: DeprecationWarning: PyArray_FromDimsAndDataAndDescr: use PyArray_NewFromDescr.\n  def GetDecode(self): return _FactorGraph.CFactorGraph_GetDecode(self)\n"
     ]
    },
    {
     "name": "stderr",
     "output_type": "stream",
     "text": [
      "FactorBP/FactorGraph.py:399: DeprecationWarning: PyArray_FromDims: use PyArray_SimpleNew.\n  def GetDecode(self): return _FactorGraph.CFactorGraph_GetDecode(self)\nFactorBP/FactorGraph.py:399: DeprecationWarning: PyArray_FromDimsAndDataAndDescr: use PyArray_NewFromDescr.\n  def GetDecode(self): return _FactorGraph.CFactorGraph_GetDecode(self)\n"
     ]
    },
    {
     "name": "stderr",
     "output_type": "stream",
     "text": [
      "FactorBP/FactorGraph.py:399: DeprecationWarning: PyArray_FromDims: use PyArray_SimpleNew.\n  def GetDecode(self): return _FactorGraph.CFactorGraph_GetDecode(self)\nFactorBP/FactorGraph.py:399: DeprecationWarning: PyArray_FromDimsAndDataAndDescr: use PyArray_NewFromDescr.\n  def GetDecode(self): return _FactorGraph.CFactorGraph_GetDecode(self)\nFactorBP/FactorGraph.py:399: DeprecationWarning: PyArray_FromDims: use PyArray_SimpleNew.\n  def GetDecode(self): return _FactorGraph.CFactorGraph_GetDecode(self)\nFactorBP/FactorGraph.py:399: DeprecationWarning: PyArray_FromDimsAndDataAndDescr: use PyArray_NewFromDescr.\n  def GetDecode(self): return _FactorGraph.CFactorGraph_GetDecode(self)\n"
     ]
    },
    {
     "name": "stderr",
     "output_type": "stream",
     "text": [
      "FactorBP/FactorGraph.py:399: DeprecationWarning: PyArray_FromDims: use PyArray_SimpleNew.\n  def GetDecode(self): return _FactorGraph.CFactorGraph_GetDecode(self)\nFactorBP/FactorGraph.py:399: DeprecationWarning: PyArray_FromDimsAndDataAndDescr: use PyArray_NewFromDescr.\n  def GetDecode(self): return _FactorGraph.CFactorGraph_GetDecode(self)\n"
     ]
    },
    {
     "name": "stderr",
     "output_type": "stream",
     "text": [
      "FactorBP/FactorGraph.py:399: DeprecationWarning: PyArray_FromDims: use PyArray_SimpleNew.\n  def GetDecode(self): return _FactorGraph.CFactorGraph_GetDecode(self)\nFactorBP/FactorGraph.py:399: DeprecationWarning: PyArray_FromDimsAndDataAndDescr: use PyArray_NewFromDescr.\n  def GetDecode(self): return _FactorGraph.CFactorGraph_GetDecode(self)\n"
     ]
    },
    {
     "name": "stderr",
     "output_type": "stream",
     "text": [
      "FactorBP/FactorGraph.py:399: DeprecationWarning: PyArray_FromDims: use PyArray_SimpleNew.\n  def GetDecode(self): return _FactorGraph.CFactorGraph_GetDecode(self)\nFactorBP/FactorGraph.py:399: DeprecationWarning: PyArray_FromDimsAndDataAndDescr: use PyArray_NewFromDescr.\n  def GetDecode(self): return _FactorGraph.CFactorGraph_GetDecode(self)\n"
     ]
    },
    {
     "name": "stderr",
     "output_type": "stream",
     "text": [
      "FactorBP/FactorGraph.py:399: DeprecationWarning: PyArray_FromDims: use PyArray_SimpleNew.\n  def GetDecode(self): return _FactorGraph.CFactorGraph_GetDecode(self)\nFactorBP/FactorGraph.py:399: DeprecationWarning: PyArray_FromDimsAndDataAndDescr: use PyArray_NewFromDescr.\n  def GetDecode(self): return _FactorGraph.CFactorGraph_GetDecode(self)\n"
     ]
    },
    {
     "name": "stderr",
     "output_type": "stream",
     "text": [
      "FactorBP/FactorGraph.py:399: DeprecationWarning: PyArray_FromDims: use PyArray_SimpleNew.\n  def GetDecode(self): return _FactorGraph.CFactorGraph_GetDecode(self)\nFactorBP/FactorGraph.py:399: DeprecationWarning: PyArray_FromDimsAndDataAndDescr: use PyArray_NewFromDescr.\n  def GetDecode(self): return _FactorGraph.CFactorGraph_GetDecode(self)\n"
     ]
    },
    {
     "name": "stderr",
     "output_type": "stream",
     "text": [
      "FactorBP/FactorGraph.py:399: DeprecationWarning: PyArray_FromDims: use PyArray_SimpleNew.\n  def GetDecode(self): return _FactorGraph.CFactorGraph_GetDecode(self)\nFactorBP/FactorGraph.py:399: DeprecationWarning: PyArray_FromDimsAndDataAndDescr: use PyArray_NewFromDescr.\n  def GetDecode(self): return _FactorGraph.CFactorGraph_GetDecode(self)\n"
     ]
    },
    {
     "name": "stderr",
     "output_type": "stream",
     "text": [
      "FactorBP/FactorGraph.py:399: DeprecationWarning: PyArray_FromDims: use PyArray_SimpleNew.\n  def GetDecode(self): return _FactorGraph.CFactorGraph_GetDecode(self)\nFactorBP/FactorGraph.py:399: DeprecationWarning: PyArray_FromDimsAndDataAndDescr: use PyArray_NewFromDescr.\n  def GetDecode(self): return _FactorGraph.CFactorGraph_GetDecode(self)\n"
     ]
    },
    {
     "name": "stderr",
     "output_type": "stream",
     "text": [
      "FactorBP/FactorGraph.py:399: DeprecationWarning: PyArray_FromDims: use PyArray_SimpleNew.\n  def GetDecode(self): return _FactorGraph.CFactorGraph_GetDecode(self)\nFactorBP/FactorGraph.py:399: DeprecationWarning: PyArray_FromDimsAndDataAndDescr: use PyArray_NewFromDescr.\n  def GetDecode(self): return _FactorGraph.CFactorGraph_GetDecode(self)\n"
     ]
    },
    {
     "name": "stderr",
     "output_type": "stream",
     "text": [
      "FactorBP/FactorGraph.py:399: DeprecationWarning: PyArray_FromDims: use PyArray_SimpleNew.\n  def GetDecode(self): return _FactorGraph.CFactorGraph_GetDecode(self)\nFactorBP/FactorGraph.py:399: DeprecationWarning: PyArray_FromDimsAndDataAndDescr: use PyArray_NewFromDescr.\n  def GetDecode(self): return _FactorGraph.CFactorGraph_GetDecode(self)\n"
     ]
    },
    {
     "name": "stderr",
     "output_type": "stream",
     "text": [
      "FactorBP/FactorGraph.py:399: DeprecationWarning: PyArray_FromDims: use PyArray_SimpleNew.\n  def GetDecode(self): return _FactorGraph.CFactorGraph_GetDecode(self)\nFactorBP/FactorGraph.py:399: DeprecationWarning: PyArray_FromDimsAndDataAndDescr: use PyArray_NewFromDescr.\n  def GetDecode(self): return _FactorGraph.CFactorGraph_GetDecode(self)\n"
     ]
    },
    {
     "name": "stderr",
     "output_type": "stream",
     "text": [
      "FactorBP/FactorGraph.py:399: DeprecationWarning: PyArray_FromDims: use PyArray_SimpleNew.\n  def GetDecode(self): return _FactorGraph.CFactorGraph_GetDecode(self)\nFactorBP/FactorGraph.py:399: DeprecationWarning: PyArray_FromDimsAndDataAndDescr: use PyArray_NewFromDescr.\n  def GetDecode(self): return _FactorGraph.CFactorGraph_GetDecode(self)\n"
     ]
    },
    {
     "name": "stderr",
     "output_type": "stream",
     "text": [
      "FactorBP/FactorGraph.py:399: DeprecationWarning: PyArray_FromDims: use PyArray_SimpleNew.\n  def GetDecode(self): return _FactorGraph.CFactorGraph_GetDecode(self)\nFactorBP/FactorGraph.py:399: DeprecationWarning: PyArray_FromDimsAndDataAndDescr: use PyArray_NewFromDescr.\n  def GetDecode(self): return _FactorGraph.CFactorGraph_GetDecode(self)\n"
     ]
    },
    {
     "name": "stderr",
     "output_type": "stream",
     "text": [
      "FactorBP/FactorGraph.py:399: DeprecationWarning: PyArray_FromDims: use PyArray_SimpleNew.\n  def GetDecode(self): return _FactorGraph.CFactorGraph_GetDecode(self)\nFactorBP/FactorGraph.py:399: DeprecationWarning: PyArray_FromDimsAndDataAndDescr: use PyArray_NewFromDescr.\n  def GetDecode(self): return _FactorGraph.CFactorGraph_GetDecode(self)\n"
     ]
    },
    {
     "name": "stderr",
     "output_type": "stream",
     "text": [
      "FactorBP/FactorGraph.py:399: DeprecationWarning: PyArray_FromDims: use PyArray_SimpleNew.\n  def GetDecode(self): return _FactorGraph.CFactorGraph_GetDecode(self)\nFactorBP/FactorGraph.py:399: DeprecationWarning: PyArray_FromDimsAndDataAndDescr: use PyArray_NewFromDescr.\n  def GetDecode(self): return _FactorGraph.CFactorGraph_GetDecode(self)\n"
     ]
    },
    {
     "name": "stderr",
     "output_type": "stream",
     "text": [
      "FactorBP/FactorGraph.py:399: DeprecationWarning: PyArray_FromDims: use PyArray_SimpleNew.\n  def GetDecode(self): return _FactorGraph.CFactorGraph_GetDecode(self)\nFactorBP/FactorGraph.py:399: DeprecationWarning: PyArray_FromDimsAndDataAndDescr: use PyArray_NewFromDescr.\n  def GetDecode(self): return _FactorGraph.CFactorGraph_GetDecode(self)\n"
     ]
    },
    {
     "name": "stderr",
     "output_type": "stream",
     "text": [
      "FactorBP/FactorGraph.py:399: DeprecationWarning: PyArray_FromDims: use PyArray_SimpleNew.\n  def GetDecode(self): return _FactorGraph.CFactorGraph_GetDecode(self)\nFactorBP/FactorGraph.py:399: DeprecationWarning: PyArray_FromDimsAndDataAndDescr: use PyArray_NewFromDescr.\n  def GetDecode(self): return _FactorGraph.CFactorGraph_GetDecode(self)\n"
     ]
    },
    {
     "name": "stderr",
     "output_type": "stream",
     "text": [
      "FactorBP/FactorGraph.py:399: DeprecationWarning: PyArray_FromDims: use PyArray_SimpleNew.\n  def GetDecode(self): return _FactorGraph.CFactorGraph_GetDecode(self)\nFactorBP/FactorGraph.py:399: DeprecationWarning: PyArray_FromDimsAndDataAndDescr: use PyArray_NewFromDescr.\n  def GetDecode(self): return _FactorGraph.CFactorGraph_GetDecode(self)\n"
     ]
    },
    {
     "name": "stderr",
     "output_type": "stream",
     "text": [
      "FactorBP/FactorGraph.py:399: DeprecationWarning: PyArray_FromDims: use PyArray_SimpleNew.\n  def GetDecode(self): return _FactorGraph.CFactorGraph_GetDecode(self)\nFactorBP/FactorGraph.py:399: DeprecationWarning: PyArray_FromDimsAndDataAndDescr: use PyArray_NewFromDescr.\n  def GetDecode(self): return _FactorGraph.CFactorGraph_GetDecode(self)\n"
     ]
    },
    {
     "name": "stderr",
     "output_type": "stream",
     "text": [
      "FactorBP/FactorGraph.py:399: DeprecationWarning: PyArray_FromDims: use PyArray_SimpleNew.\n  def GetDecode(self): return _FactorGraph.CFactorGraph_GetDecode(self)\nFactorBP/FactorGraph.py:399: DeprecationWarning: PyArray_FromDimsAndDataAndDescr: use PyArray_NewFromDescr.\n  def GetDecode(self): return _FactorGraph.CFactorGraph_GetDecode(self)\n"
     ]
    },
    {
     "name": "stderr",
     "output_type": "stream",
     "text": [
      "FactorBP/FactorGraph.py:399: DeprecationWarning: PyArray_FromDims: use PyArray_SimpleNew.\n  def GetDecode(self): return _FactorGraph.CFactorGraph_GetDecode(self)\nFactorBP/FactorGraph.py:399: DeprecationWarning: PyArray_FromDimsAndDataAndDescr: use PyArray_NewFromDescr.\n  def GetDecode(self): return _FactorGraph.CFactorGraph_GetDecode(self)\n"
     ]
    },
    {
     "name": "stderr",
     "output_type": "stream",
     "text": [
      "FactorBP/FactorGraph.py:399: DeprecationWarning: PyArray_FromDims: use PyArray_SimpleNew.\n  def GetDecode(self): return _FactorGraph.CFactorGraph_GetDecode(self)\nFactorBP/FactorGraph.py:399: DeprecationWarning: PyArray_FromDimsAndDataAndDescr: use PyArray_NewFromDescr.\n  def GetDecode(self): return _FactorGraph.CFactorGraph_GetDecode(self)\n"
     ]
    },
    {
     "name": "stderr",
     "output_type": "stream",
     "text": [
      "FactorBP/FactorGraph.py:399: DeprecationWarning: PyArray_FromDims: use PyArray_SimpleNew.\n  def GetDecode(self): return _FactorGraph.CFactorGraph_GetDecode(self)\nFactorBP/FactorGraph.py:399: DeprecationWarning: PyArray_FromDimsAndDataAndDescr: use PyArray_NewFromDescr.\n  def GetDecode(self): return _FactorGraph.CFactorGraph_GetDecode(self)\n"
     ]
    },
    {
     "name": "stderr",
     "output_type": "stream",
     "text": [
      "FactorBP/FactorGraph.py:399: DeprecationWarning: PyArray_FromDims: use PyArray_SimpleNew.\n  def GetDecode(self): return _FactorGraph.CFactorGraph_GetDecode(self)\nFactorBP/FactorGraph.py:399: DeprecationWarning: PyArray_FromDimsAndDataAndDescr: use PyArray_NewFromDescr.\n  def GetDecode(self): return _FactorGraph.CFactorGraph_GetDecode(self)\n"
     ]
    },
    {
     "name": "stderr",
     "output_type": "stream",
     "text": [
      "FactorBP/FactorGraph.py:399: DeprecationWarning: PyArray_FromDims: use PyArray_SimpleNew.\n  def GetDecode(self): return _FactorGraph.CFactorGraph_GetDecode(self)\nFactorBP/FactorGraph.py:399: DeprecationWarning: PyArray_FromDimsAndDataAndDescr: use PyArray_NewFromDescr.\n  def GetDecode(self): return _FactorGraph.CFactorGraph_GetDecode(self)\n"
     ]
    },
    {
     "name": "stderr",
     "output_type": "stream",
     "text": [
      "FactorBP/FactorGraph.py:399: DeprecationWarning: PyArray_FromDims: use PyArray_SimpleNew.\n  def GetDecode(self): return _FactorGraph.CFactorGraph_GetDecode(self)\nFactorBP/FactorGraph.py:399: DeprecationWarning: PyArray_FromDimsAndDataAndDescr: use PyArray_NewFromDescr.\n  def GetDecode(self): return _FactorGraph.CFactorGraph_GetDecode(self)\n"
     ]
    },
    {
     "name": "stderr",
     "output_type": "stream",
     "text": [
      "FactorBP/FactorGraph.py:399: DeprecationWarning: PyArray_FromDims: use PyArray_SimpleNew.\n  def GetDecode(self): return _FactorGraph.CFactorGraph_GetDecode(self)\nFactorBP/FactorGraph.py:399: DeprecationWarning: PyArray_FromDimsAndDataAndDescr: use PyArray_NewFromDescr.\n  def GetDecode(self): return _FactorGraph.CFactorGraph_GetDecode(self)\n"
     ]
    },
    {
     "name": "stderr",
     "output_type": "stream",
     "text": [
      "FactorBP/FactorGraph.py:399: DeprecationWarning: PyArray_FromDims: use PyArray_SimpleNew.\n  def GetDecode(self): return _FactorGraph.CFactorGraph_GetDecode(self)\nFactorBP/FactorGraph.py:399: DeprecationWarning: PyArray_FromDimsAndDataAndDescr: use PyArray_NewFromDescr.\n  def GetDecode(self): return _FactorGraph.CFactorGraph_GetDecode(self)\n"
     ]
    },
    {
     "name": "stderr",
     "output_type": "stream",
     "text": [
      "FactorBP/FactorGraph.py:399: DeprecationWarning: PyArray_FromDims: use PyArray_SimpleNew.\n  def GetDecode(self): return _FactorGraph.CFactorGraph_GetDecode(self)\nFactorBP/FactorGraph.py:399: DeprecationWarning: PyArray_FromDimsAndDataAndDescr: use PyArray_NewFromDescr.\n  def GetDecode(self): return _FactorGraph.CFactorGraph_GetDecode(self)\n"
     ]
    },
    {
     "name": "stderr",
     "output_type": "stream",
     "text": [
      "FactorBP/FactorGraph.py:399: DeprecationWarning: PyArray_FromDims: use PyArray_SimpleNew.\n  def GetDecode(self): return _FactorGraph.CFactorGraph_GetDecode(self)\nFactorBP/FactorGraph.py:399: DeprecationWarning: PyArray_FromDimsAndDataAndDescr: use PyArray_NewFromDescr.\n  def GetDecode(self): return _FactorGraph.CFactorGraph_GetDecode(self)\n"
     ]
    },
    {
     "name": "stderr",
     "output_type": "stream",
     "text": [
      "FactorBP/FactorGraph.py:399: DeprecationWarning: PyArray_FromDims: use PyArray_SimpleNew.\n  def GetDecode(self): return _FactorGraph.CFactorGraph_GetDecode(self)\nFactorBP/FactorGraph.py:399: DeprecationWarning: PyArray_FromDimsAndDataAndDescr: use PyArray_NewFromDescr.\n  def GetDecode(self): return _FactorGraph.CFactorGraph_GetDecode(self)\n"
     ]
    },
    {
     "name": "stderr",
     "output_type": "stream",
     "text": [
      "FactorBP/FactorGraph.py:399: DeprecationWarning: PyArray_FromDims: use PyArray_SimpleNew.\n  def GetDecode(self): return _FactorGraph.CFactorGraph_GetDecode(self)\nFactorBP/FactorGraph.py:399: DeprecationWarning: PyArray_FromDimsAndDataAndDescr: use PyArray_NewFromDescr.\n  def GetDecode(self): return _FactorGraph.CFactorGraph_GetDecode(self)\n"
     ]
    },
    {
     "name": "stderr",
     "output_type": "stream",
     "text": [
      "FactorBP/FactorGraph.py:399: DeprecationWarning: PyArray_FromDims: use PyArray_SimpleNew.\n  def GetDecode(self): return _FactorGraph.CFactorGraph_GetDecode(self)\nFactorBP/FactorGraph.py:399: DeprecationWarning: PyArray_FromDimsAndDataAndDescr: use PyArray_NewFromDescr.\n  def GetDecode(self): return _FactorGraph.CFactorGraph_GetDecode(self)\n"
     ]
    },
    {
     "name": "stderr",
     "output_type": "stream",
     "text": [
      "FactorBP/FactorGraph.py:399: DeprecationWarning: PyArray_FromDims: use PyArray_SimpleNew.\n  def GetDecode(self): return _FactorGraph.CFactorGraph_GetDecode(self)\nFactorBP/FactorGraph.py:399: DeprecationWarning: PyArray_FromDimsAndDataAndDescr: use PyArray_NewFromDescr.\n  def GetDecode(self): return _FactorGraph.CFactorGraph_GetDecode(self)\n"
     ]
    },
    {
     "name": "stderr",
     "output_type": "stream",
     "text": [
      "FactorBP/FactorGraph.py:399: DeprecationWarning: PyArray_FromDims: use PyArray_SimpleNew.\n  def GetDecode(self): return _FactorGraph.CFactorGraph_GetDecode(self)\nFactorBP/FactorGraph.py:399: DeprecationWarning: PyArray_FromDimsAndDataAndDescr: use PyArray_NewFromDescr.\n  def GetDecode(self): return _FactorGraph.CFactorGraph_GetDecode(self)\n"
     ]
    },
    {
     "name": "stderr",
     "output_type": "stream",
     "text": [
      "FactorBP/FactorGraph.py:399: DeprecationWarning: PyArray_FromDims: use PyArray_SimpleNew.\n  def GetDecode(self): return _FactorGraph.CFactorGraph_GetDecode(self)\nFactorBP/FactorGraph.py:399: DeprecationWarning: PyArray_FromDimsAndDataAndDescr: use PyArray_NewFromDescr.\n  def GetDecode(self): return _FactorGraph.CFactorGraph_GetDecode(self)\n"
     ]
    },
    {
     "name": "stderr",
     "output_type": "stream",
     "text": [
      "FactorBP/FactorGraph.py:399: DeprecationWarning: PyArray_FromDims: use PyArray_SimpleNew.\n  def GetDecode(self): return _FactorGraph.CFactorGraph_GetDecode(self)\nFactorBP/FactorGraph.py:399: DeprecationWarning: PyArray_FromDimsAndDataAndDescr: use PyArray_NewFromDescr.\n  def GetDecode(self): return _FactorGraph.CFactorGraph_GetDecode(self)\n"
     ]
    },
    {
     "name": "stderr",
     "output_type": "stream",
     "text": [
      "FactorBP/FactorGraph.py:399: DeprecationWarning: PyArray_FromDims: use PyArray_SimpleNew.\n  def GetDecode(self): return _FactorGraph.CFactorGraph_GetDecode(self)\nFactorBP/FactorGraph.py:399: DeprecationWarning: PyArray_FromDimsAndDataAndDescr: use PyArray_NewFromDescr.\n  def GetDecode(self): return _FactorGraph.CFactorGraph_GetDecode(self)\n"
     ]
    },
    {
     "name": "stderr",
     "output_type": "stream",
     "text": [
      "FactorBP/FactorGraph.py:399: DeprecationWarning: PyArray_FromDims: use PyArray_SimpleNew.\n  def GetDecode(self): return _FactorGraph.CFactorGraph_GetDecode(self)\nFactorBP/FactorGraph.py:399: DeprecationWarning: PyArray_FromDimsAndDataAndDescr: use PyArray_NewFromDescr.\n  def GetDecode(self): return _FactorGraph.CFactorGraph_GetDecode(self)\n"
     ]
    },
    {
     "name": "stderr",
     "output_type": "stream",
     "text": [
      "FactorBP/FactorGraph.py:399: DeprecationWarning: PyArray_FromDims: use PyArray_SimpleNew.\n  def GetDecode(self): return _FactorGraph.CFactorGraph_GetDecode(self)\nFactorBP/FactorGraph.py:399: DeprecationWarning: PyArray_FromDimsAndDataAndDescr: use PyArray_NewFromDescr.\n  def GetDecode(self): return _FactorGraph.CFactorGraph_GetDecode(self)\n"
     ]
    },
    {
     "name": "stderr",
     "output_type": "stream",
     "text": [
      "FactorBP/FactorGraph.py:399: DeprecationWarning: PyArray_FromDims: use PyArray_SimpleNew.\n  def GetDecode(self): return _FactorGraph.CFactorGraph_GetDecode(self)\nFactorBP/FactorGraph.py:399: DeprecationWarning: PyArray_FromDimsAndDataAndDescr: use PyArray_NewFromDescr.\n  def GetDecode(self): return _FactorGraph.CFactorGraph_GetDecode(self)\n"
     ]
    },
    {
     "name": "stderr",
     "output_type": "stream",
     "text": [
      "FactorBP/FactorGraph.py:399: DeprecationWarning: PyArray_FromDims: use PyArray_SimpleNew.\n  def GetDecode(self): return _FactorGraph.CFactorGraph_GetDecode(self)\nFactorBP/FactorGraph.py:399: DeprecationWarning: PyArray_FromDimsAndDataAndDescr: use PyArray_NewFromDescr.\n  def GetDecode(self): return _FactorGraph.CFactorGraph_GetDecode(self)\n"
     ]
    },
    {
     "name": "stderr",
     "output_type": "stream",
     "text": [
      "FactorBP/FactorGraph.py:399: DeprecationWarning: PyArray_FromDims: use PyArray_SimpleNew.\n  def GetDecode(self): return _FactorGraph.CFactorGraph_GetDecode(self)\nFactorBP/FactorGraph.py:399: DeprecationWarning: PyArray_FromDimsAndDataAndDescr: use PyArray_NewFromDescr.\n  def GetDecode(self): return _FactorGraph.CFactorGraph_GetDecode(self)\n"
     ]
    },
    {
     "name": "stdout",
     "output_type": "stream",
     "text": [
      "Ours Accuracy 1.000000 Running Time 0.100715 Obj 1.000000\nOurs-BCA Accuracy 1.000000 Running Time 0.132781 Obj 1.000000\nBCA Accuracy 0.986928 Running Time 0.024071 Obj 0.991332\nBCA-MP Accuracy 0.998693 Running Time 0.141698 Obj 0.999634\nBCA-IPFP Accuracy 1.000000 Running Time 0.093845 Obj 1.000000\nHGM Accuracy 0.603922 Running Time 0.010981 Obj 0.595799\nRRWHM Accuracy 1.000000 Running Time 0.080944 Obj 1.000000\nTM Accuracy 0.758824 Running Time 0.079313 Obj 0.813897\n××××××××××××××××××××\n Start baseline: 70\n"
     ]
    },
    {
     "name": "stderr",
     "output_type": "stream",
     "text": [
      "FactorBP/FactorGraph.py:399: DeprecationWarning: PyArray_FromDims: use PyArray_SimpleNew.\n  def GetDecode(self): return _FactorGraph.CFactorGraph_GetDecode(self)\nFactorBP/FactorGraph.py:399: DeprecationWarning: PyArray_FromDimsAndDataAndDescr: use PyArray_NewFromDescr.\n  def GetDecode(self): return _FactorGraph.CFactorGraph_GetDecode(self)\n"
     ]
    },
    {
     "name": "stderr",
     "output_type": "stream",
     "text": [
      "FactorBP/FactorGraph.py:399: DeprecationWarning: PyArray_FromDims: use PyArray_SimpleNew.\n  def GetDecode(self): return _FactorGraph.CFactorGraph_GetDecode(self)\nFactorBP/FactorGraph.py:399: DeprecationWarning: PyArray_FromDimsAndDataAndDescr: use PyArray_NewFromDescr.\n  def GetDecode(self): return _FactorGraph.CFactorGraph_GetDecode(self)\n"
     ]
    },
    {
     "name": "stderr",
     "output_type": "stream",
     "text": [
      "FactorBP/FactorGraph.py:399: DeprecationWarning: PyArray_FromDims: use PyArray_SimpleNew.\n  def GetDecode(self): return _FactorGraph.CFactorGraph_GetDecode(self)\nFactorBP/FactorGraph.py:399: DeprecationWarning: PyArray_FromDimsAndDataAndDescr: use PyArray_NewFromDescr.\n  def GetDecode(self): return _FactorGraph.CFactorGraph_GetDecode(self)\n"
     ]
    },
    {
     "name": "stderr",
     "output_type": "stream",
     "text": [
      "FactorBP/FactorGraph.py:399: DeprecationWarning: PyArray_FromDims: use PyArray_SimpleNew.\n  def GetDecode(self): return _FactorGraph.CFactorGraph_GetDecode(self)\nFactorBP/FactorGraph.py:399: DeprecationWarning: PyArray_FromDimsAndDataAndDescr: use PyArray_NewFromDescr.\n  def GetDecode(self): return _FactorGraph.CFactorGraph_GetDecode(self)\n"
     ]
    },
    {
     "name": "stderr",
     "output_type": "stream",
     "text": [
      "FactorBP/FactorGraph.py:399: DeprecationWarning: PyArray_FromDims: use PyArray_SimpleNew.\n  def GetDecode(self): return _FactorGraph.CFactorGraph_GetDecode(self)\nFactorBP/FactorGraph.py:399: DeprecationWarning: PyArray_FromDimsAndDataAndDescr: use PyArray_NewFromDescr.\n  def GetDecode(self): return _FactorGraph.CFactorGraph_GetDecode(self)\n"
     ]
    },
    {
     "name": "stderr",
     "output_type": "stream",
     "text": [
      "FactorBP/FactorGraph.py:399: DeprecationWarning: PyArray_FromDims: use PyArray_SimpleNew.\n  def GetDecode(self): return _FactorGraph.CFactorGraph_GetDecode(self)\nFactorBP/FactorGraph.py:399: DeprecationWarning: PyArray_FromDimsAndDataAndDescr: use PyArray_NewFromDescr.\n  def GetDecode(self): return _FactorGraph.CFactorGraph_GetDecode(self)\n"
     ]
    },
    {
     "name": "stderr",
     "output_type": "stream",
     "text": [
      "FactorBP/FactorGraph.py:399: DeprecationWarning: PyArray_FromDims: use PyArray_SimpleNew.\n  def GetDecode(self): return _FactorGraph.CFactorGraph_GetDecode(self)\nFactorBP/FactorGraph.py:399: DeprecationWarning: PyArray_FromDimsAndDataAndDescr: use PyArray_NewFromDescr.\n  def GetDecode(self): return _FactorGraph.CFactorGraph_GetDecode(self)\n"
     ]
    },
    {
     "name": "stderr",
     "output_type": "stream",
     "text": [
      "FactorBP/FactorGraph.py:399: DeprecationWarning: PyArray_FromDims: use PyArray_SimpleNew.\n  def GetDecode(self): return _FactorGraph.CFactorGraph_GetDecode(self)\nFactorBP/FactorGraph.py:399: DeprecationWarning: PyArray_FromDimsAndDataAndDescr: use PyArray_NewFromDescr.\n  def GetDecode(self): return _FactorGraph.CFactorGraph_GetDecode(self)\nFactorBP/FactorGraph.py:399: DeprecationWarning: PyArray_FromDims: use PyArray_SimpleNew.\n  def GetDecode(self): return _FactorGraph.CFactorGraph_GetDecode(self)\nFactorBP/FactorGraph.py:399: DeprecationWarning: PyArray_FromDimsAndDataAndDescr: use PyArray_NewFromDescr.\n  def GetDecode(self): return _FactorGraph.CFactorGraph_GetDecode(self)\n"
     ]
    },
    {
     "name": "stderr",
     "output_type": "stream",
     "text": [
      "FactorBP/FactorGraph.py:399: DeprecationWarning: PyArray_FromDims: use PyArray_SimpleNew.\n  def GetDecode(self): return _FactorGraph.CFactorGraph_GetDecode(self)\nFactorBP/FactorGraph.py:399: DeprecationWarning: PyArray_FromDimsAndDataAndDescr: use PyArray_NewFromDescr.\n  def GetDecode(self): return _FactorGraph.CFactorGraph_GetDecode(self)\n"
     ]
    },
    {
     "name": "stderr",
     "output_type": "stream",
     "text": [
      "FactorBP/FactorGraph.py:399: DeprecationWarning: PyArray_FromDims: use PyArray_SimpleNew.\n  def GetDecode(self): return _FactorGraph.CFactorGraph_GetDecode(self)\nFactorBP/FactorGraph.py:399: DeprecationWarning: PyArray_FromDimsAndDataAndDescr: use PyArray_NewFromDescr.\n  def GetDecode(self): return _FactorGraph.CFactorGraph_GetDecode(self)\n"
     ]
    },
    {
     "name": "stderr",
     "output_type": "stream",
     "text": [
      "FactorBP/FactorGraph.py:399: DeprecationWarning: PyArray_FromDims: use PyArray_SimpleNew.\n  def GetDecode(self): return _FactorGraph.CFactorGraph_GetDecode(self)\nFactorBP/FactorGraph.py:399: DeprecationWarning: PyArray_FromDimsAndDataAndDescr: use PyArray_NewFromDescr.\n  def GetDecode(self): return _FactorGraph.CFactorGraph_GetDecode(self)\n"
     ]
    },
    {
     "name": "stderr",
     "output_type": "stream",
     "text": [
      "FactorBP/FactorGraph.py:399: DeprecationWarning: PyArray_FromDims: use PyArray_SimpleNew.\n  def GetDecode(self): return _FactorGraph.CFactorGraph_GetDecode(self)\nFactorBP/FactorGraph.py:399: DeprecationWarning: PyArray_FromDimsAndDataAndDescr: use PyArray_NewFromDescr.\n  def GetDecode(self): return _FactorGraph.CFactorGraph_GetDecode(self)\nFactorBP/FactorGraph.py:399: DeprecationWarning: PyArray_FromDims: use PyArray_SimpleNew.\n  def GetDecode(self): return _FactorGraph.CFactorGraph_GetDecode(self)\nFactorBP/FactorGraph.py:399: DeprecationWarning: PyArray_FromDimsAndDataAndDescr: use PyArray_NewFromDescr.\n  def GetDecode(self): return _FactorGraph.CFactorGraph_GetDecode(self)\n"
     ]
    },
    {
     "name": "stderr",
     "output_type": "stream",
     "text": [
      "FactorBP/FactorGraph.py:399: DeprecationWarning: PyArray_FromDims: use PyArray_SimpleNew.\n  def GetDecode(self): return _FactorGraph.CFactorGraph_GetDecode(self)\nFactorBP/FactorGraph.py:399: DeprecationWarning: PyArray_FromDimsAndDataAndDescr: use PyArray_NewFromDescr.\n  def GetDecode(self): return _FactorGraph.CFactorGraph_GetDecode(self)\n"
     ]
    },
    {
     "name": "stderr",
     "output_type": "stream",
     "text": [
      "FactorBP/FactorGraph.py:399: DeprecationWarning: PyArray_FromDims: use PyArray_SimpleNew.\n  def GetDecode(self): return _FactorGraph.CFactorGraph_GetDecode(self)\nFactorBP/FactorGraph.py:399: DeprecationWarning: PyArray_FromDimsAndDataAndDescr: use PyArray_NewFromDescr.\n  def GetDecode(self): return _FactorGraph.CFactorGraph_GetDecode(self)\n"
     ]
    },
    {
     "name": "stderr",
     "output_type": "stream",
     "text": [
      "FactorBP/FactorGraph.py:399: DeprecationWarning: PyArray_FromDims: use PyArray_SimpleNew.\n  def GetDecode(self): return _FactorGraph.CFactorGraph_GetDecode(self)\nFactorBP/FactorGraph.py:399: DeprecationWarning: PyArray_FromDimsAndDataAndDescr: use PyArray_NewFromDescr.\n  def GetDecode(self): return _FactorGraph.CFactorGraph_GetDecode(self)\n"
     ]
    },
    {
     "name": "stderr",
     "output_type": "stream",
     "text": [
      "FactorBP/FactorGraph.py:399: DeprecationWarning: PyArray_FromDims: use PyArray_SimpleNew.\n  def GetDecode(self): return _FactorGraph.CFactorGraph_GetDecode(self)\nFactorBP/FactorGraph.py:399: DeprecationWarning: PyArray_FromDimsAndDataAndDescr: use PyArray_NewFromDescr.\n  def GetDecode(self): return _FactorGraph.CFactorGraph_GetDecode(self)\n"
     ]
    },
    {
     "name": "stderr",
     "output_type": "stream",
     "text": [
      "FactorBP/FactorGraph.py:399: DeprecationWarning: PyArray_FromDims: use PyArray_SimpleNew.\n  def GetDecode(self): return _FactorGraph.CFactorGraph_GetDecode(self)\nFactorBP/FactorGraph.py:399: DeprecationWarning: PyArray_FromDimsAndDataAndDescr: use PyArray_NewFromDescr.\n  def GetDecode(self): return _FactorGraph.CFactorGraph_GetDecode(self)\n"
     ]
    },
    {
     "name": "stderr",
     "output_type": "stream",
     "text": [
      "FactorBP/FactorGraph.py:399: DeprecationWarning: PyArray_FromDims: use PyArray_SimpleNew.\n  def GetDecode(self): return _FactorGraph.CFactorGraph_GetDecode(self)\nFactorBP/FactorGraph.py:399: DeprecationWarning: PyArray_FromDimsAndDataAndDescr: use PyArray_NewFromDescr.\n  def GetDecode(self): return _FactorGraph.CFactorGraph_GetDecode(self)\n"
     ]
    },
    {
     "name": "stderr",
     "output_type": "stream",
     "text": [
      "FactorBP/FactorGraph.py:399: DeprecationWarning: PyArray_FromDims: use PyArray_SimpleNew.\n  def GetDecode(self): return _FactorGraph.CFactorGraph_GetDecode(self)\nFactorBP/FactorGraph.py:399: DeprecationWarning: PyArray_FromDimsAndDataAndDescr: use PyArray_NewFromDescr.\n  def GetDecode(self): return _FactorGraph.CFactorGraph_GetDecode(self)\n"
     ]
    },
    {
     "name": "stderr",
     "output_type": "stream",
     "text": [
      "FactorBP/FactorGraph.py:399: DeprecationWarning: PyArray_FromDims: use PyArray_SimpleNew.\n  def GetDecode(self): return _FactorGraph.CFactorGraph_GetDecode(self)\nFactorBP/FactorGraph.py:399: DeprecationWarning: PyArray_FromDimsAndDataAndDescr: use PyArray_NewFromDescr.\n  def GetDecode(self): return _FactorGraph.CFactorGraph_GetDecode(self)\n"
     ]
    },
    {
     "name": "stderr",
     "output_type": "stream",
     "text": [
      "FactorBP/FactorGraph.py:399: DeprecationWarning: PyArray_FromDims: use PyArray_SimpleNew.\n  def GetDecode(self): return _FactorGraph.CFactorGraph_GetDecode(self)\nFactorBP/FactorGraph.py:399: DeprecationWarning: PyArray_FromDimsAndDataAndDescr: use PyArray_NewFromDescr.\n  def GetDecode(self): return _FactorGraph.CFactorGraph_GetDecode(self)\n"
     ]
    },
    {
     "name": "stderr",
     "output_type": "stream",
     "text": [
      "FactorBP/FactorGraph.py:399: DeprecationWarning: PyArray_FromDims: use PyArray_SimpleNew.\n  def GetDecode(self): return _FactorGraph.CFactorGraph_GetDecode(self)\nFactorBP/FactorGraph.py:399: DeprecationWarning: PyArray_FromDimsAndDataAndDescr: use PyArray_NewFromDescr.\n  def GetDecode(self): return _FactorGraph.CFactorGraph_GetDecode(self)\n"
     ]
    },
    {
     "name": "stderr",
     "output_type": "stream",
     "text": [
      "FactorBP/FactorGraph.py:399: DeprecationWarning: PyArray_FromDims: use PyArray_SimpleNew.\n  def GetDecode(self): return _FactorGraph.CFactorGraph_GetDecode(self)\nFactorBP/FactorGraph.py:399: DeprecationWarning: PyArray_FromDimsAndDataAndDescr: use PyArray_NewFromDescr.\n  def GetDecode(self): return _FactorGraph.CFactorGraph_GetDecode(self)\n"
     ]
    },
    {
     "name": "stderr",
     "output_type": "stream",
     "text": [
      "FactorBP/FactorGraph.py:399: DeprecationWarning: PyArray_FromDims: use PyArray_SimpleNew.\n  def GetDecode(self): return _FactorGraph.CFactorGraph_GetDecode(self)\nFactorBP/FactorGraph.py:399: DeprecationWarning: PyArray_FromDimsAndDataAndDescr: use PyArray_NewFromDescr.\n  def GetDecode(self): return _FactorGraph.CFactorGraph_GetDecode(self)\n"
     ]
    },
    {
     "name": "stderr",
     "output_type": "stream",
     "text": [
      "FactorBP/FactorGraph.py:399: DeprecationWarning: PyArray_FromDims: use PyArray_SimpleNew.\n  def GetDecode(self): return _FactorGraph.CFactorGraph_GetDecode(self)\nFactorBP/FactorGraph.py:399: DeprecationWarning: PyArray_FromDimsAndDataAndDescr: use PyArray_NewFromDescr.\n  def GetDecode(self): return _FactorGraph.CFactorGraph_GetDecode(self)\n"
     ]
    },
    {
     "name": "stderr",
     "output_type": "stream",
     "text": [
      "FactorBP/FactorGraph.py:399: DeprecationWarning: PyArray_FromDims: use PyArray_SimpleNew.\n  def GetDecode(self): return _FactorGraph.CFactorGraph_GetDecode(self)\nFactorBP/FactorGraph.py:399: DeprecationWarning: PyArray_FromDimsAndDataAndDescr: use PyArray_NewFromDescr.\n  def GetDecode(self): return _FactorGraph.CFactorGraph_GetDecode(self)\n"
     ]
    },
    {
     "name": "stderr",
     "output_type": "stream",
     "text": [
      "FactorBP/FactorGraph.py:399: DeprecationWarning: PyArray_FromDims: use PyArray_SimpleNew.\n  def GetDecode(self): return _FactorGraph.CFactorGraph_GetDecode(self)\nFactorBP/FactorGraph.py:399: DeprecationWarning: PyArray_FromDimsAndDataAndDescr: use PyArray_NewFromDescr.\n  def GetDecode(self): return _FactorGraph.CFactorGraph_GetDecode(self)\n"
     ]
    },
    {
     "name": "stderr",
     "output_type": "stream",
     "text": [
      "FactorBP/FactorGraph.py:399: DeprecationWarning: PyArray_FromDims: use PyArray_SimpleNew.\n  def GetDecode(self): return _FactorGraph.CFactorGraph_GetDecode(self)\nFactorBP/FactorGraph.py:399: DeprecationWarning: PyArray_FromDimsAndDataAndDescr: use PyArray_NewFromDescr.\n  def GetDecode(self): return _FactorGraph.CFactorGraph_GetDecode(self)\n"
     ]
    },
    {
     "name": "stderr",
     "output_type": "stream",
     "text": [
      "FactorBP/FactorGraph.py:399: DeprecationWarning: PyArray_FromDims: use PyArray_SimpleNew.\n  def GetDecode(self): return _FactorGraph.CFactorGraph_GetDecode(self)\nFactorBP/FactorGraph.py:399: DeprecationWarning: PyArray_FromDimsAndDataAndDescr: use PyArray_NewFromDescr.\n  def GetDecode(self): return _FactorGraph.CFactorGraph_GetDecode(self)\n"
     ]
    },
    {
     "name": "stderr",
     "output_type": "stream",
     "text": [
      "FactorBP/FactorGraph.py:399: DeprecationWarning: PyArray_FromDims: use PyArray_SimpleNew.\n  def GetDecode(self): return _FactorGraph.CFactorGraph_GetDecode(self)\nFactorBP/FactorGraph.py:399: DeprecationWarning: PyArray_FromDimsAndDataAndDescr: use PyArray_NewFromDescr.\n  def GetDecode(self): return _FactorGraph.CFactorGraph_GetDecode(self)\n"
     ]
    },
    {
     "name": "stderr",
     "output_type": "stream",
     "text": [
      "FactorBP/FactorGraph.py:399: DeprecationWarning: PyArray_FromDims: use PyArray_SimpleNew.\n  def GetDecode(self): return _FactorGraph.CFactorGraph_GetDecode(self)\nFactorBP/FactorGraph.py:399: DeprecationWarning: PyArray_FromDimsAndDataAndDescr: use PyArray_NewFromDescr.\n  def GetDecode(self): return _FactorGraph.CFactorGraph_GetDecode(self)\n"
     ]
    },
    {
     "name": "stderr",
     "output_type": "stream",
     "text": [
      "FactorBP/FactorGraph.py:399: DeprecationWarning: PyArray_FromDims: use PyArray_SimpleNew.\n  def GetDecode(self): return _FactorGraph.CFactorGraph_GetDecode(self)\nFactorBP/FactorGraph.py:399: DeprecationWarning: PyArray_FromDimsAndDataAndDescr: use PyArray_NewFromDescr.\n  def GetDecode(self): return _FactorGraph.CFactorGraph_GetDecode(self)\n"
     ]
    },
    {
     "name": "stderr",
     "output_type": "stream",
     "text": [
      "FactorBP/FactorGraph.py:399: DeprecationWarning: PyArray_FromDims: use PyArray_SimpleNew.\n  def GetDecode(self): return _FactorGraph.CFactorGraph_GetDecode(self)\nFactorBP/FactorGraph.py:399: DeprecationWarning: PyArray_FromDimsAndDataAndDescr: use PyArray_NewFromDescr.\n  def GetDecode(self): return _FactorGraph.CFactorGraph_GetDecode(self)\n"
     ]
    },
    {
     "name": "stderr",
     "output_type": "stream",
     "text": [
      "FactorBP/FactorGraph.py:399: DeprecationWarning: PyArray_FromDims: use PyArray_SimpleNew.\n  def GetDecode(self): return _FactorGraph.CFactorGraph_GetDecode(self)\nFactorBP/FactorGraph.py:399: DeprecationWarning: PyArray_FromDimsAndDataAndDescr: use PyArray_NewFromDescr.\n  def GetDecode(self): return _FactorGraph.CFactorGraph_GetDecode(self)\n"
     ]
    },
    {
     "name": "stderr",
     "output_type": "stream",
     "text": [
      "FactorBP/FactorGraph.py:399: DeprecationWarning: PyArray_FromDims: use PyArray_SimpleNew.\n  def GetDecode(self): return _FactorGraph.CFactorGraph_GetDecode(self)\nFactorBP/FactorGraph.py:399: DeprecationWarning: PyArray_FromDimsAndDataAndDescr: use PyArray_NewFromDescr.\n  def GetDecode(self): return _FactorGraph.CFactorGraph_GetDecode(self)\n"
     ]
    },
    {
     "name": "stderr",
     "output_type": "stream",
     "text": [
      "FactorBP/FactorGraph.py:399: DeprecationWarning: PyArray_FromDims: use PyArray_SimpleNew.\n  def GetDecode(self): return _FactorGraph.CFactorGraph_GetDecode(self)\nFactorBP/FactorGraph.py:399: DeprecationWarning: PyArray_FromDimsAndDataAndDescr: use PyArray_NewFromDescr.\n  def GetDecode(self): return _FactorGraph.CFactorGraph_GetDecode(self)\n"
     ]
    },
    {
     "name": "stderr",
     "output_type": "stream",
     "text": [
      "FactorBP/FactorGraph.py:399: DeprecationWarning: PyArray_FromDims: use PyArray_SimpleNew.\n  def GetDecode(self): return _FactorGraph.CFactorGraph_GetDecode(self)\nFactorBP/FactorGraph.py:399: DeprecationWarning: PyArray_FromDimsAndDataAndDescr: use PyArray_NewFromDescr.\n  def GetDecode(self): return _FactorGraph.CFactorGraph_GetDecode(self)\n"
     ]
    },
    {
     "name": "stderr",
     "output_type": "stream",
     "text": [
      "FactorBP/FactorGraph.py:399: DeprecationWarning: PyArray_FromDims: use PyArray_SimpleNew.\n  def GetDecode(self): return _FactorGraph.CFactorGraph_GetDecode(self)\nFactorBP/FactorGraph.py:399: DeprecationWarning: PyArray_FromDimsAndDataAndDescr: use PyArray_NewFromDescr.\n  def GetDecode(self): return _FactorGraph.CFactorGraph_GetDecode(self)\nFactorBP/FactorGraph.py:399: DeprecationWarning: PyArray_FromDims: use PyArray_SimpleNew.\n  def GetDecode(self): return _FactorGraph.CFactorGraph_GetDecode(self)\nFactorBP/FactorGraph.py:399: DeprecationWarning: PyArray_FromDimsAndDataAndDescr: use PyArray_NewFromDescr.\n  def GetDecode(self): return _FactorGraph.CFactorGraph_GetDecode(self)\nFactorBP/FactorGraph.py:399: DeprecationWarning: PyArray_FromDims: use PyArray_SimpleNew.\n  def GetDecode(self): return _FactorGraph.CFactorGraph_GetDecode(self)\nFactorBP/FactorGraph.py:399: DeprecationWarning: PyArray_FromDimsAndDataAndDescr: use PyArray_NewFromDescr.\n  def GetDecode(self): return _FactorGraph.CFactorGraph_GetDecode(self)\n"
     ]
    },
    {
     "name": "stderr",
     "output_type": "stream",
     "text": [
      "FactorBP/FactorGraph.py:399: DeprecationWarning: PyArray_FromDims: use PyArray_SimpleNew.\n  def GetDecode(self): return _FactorGraph.CFactorGraph_GetDecode(self)\nFactorBP/FactorGraph.py:399: DeprecationWarning: PyArray_FromDimsAndDataAndDescr: use PyArray_NewFromDescr.\n  def GetDecode(self): return _FactorGraph.CFactorGraph_GetDecode(self)\n"
     ]
    },
    {
     "name": "stderr",
     "output_type": "stream",
     "text": [
      "FactorBP/FactorGraph.py:399: DeprecationWarning: PyArray_FromDims: use PyArray_SimpleNew.\n  def GetDecode(self): return _FactorGraph.CFactorGraph_GetDecode(self)\nFactorBP/FactorGraph.py:399: DeprecationWarning: PyArray_FromDimsAndDataAndDescr: use PyArray_NewFromDescr.\n  def GetDecode(self): return _FactorGraph.CFactorGraph_GetDecode(self)\n"
     ]
    },
    {
     "name": "stderr",
     "output_type": "stream",
     "text": [
      "FactorBP/FactorGraph.py:399: DeprecationWarning: PyArray_FromDims: use PyArray_SimpleNew.\n  def GetDecode(self): return _FactorGraph.CFactorGraph_GetDecode(self)\nFactorBP/FactorGraph.py:399: DeprecationWarning: PyArray_FromDimsAndDataAndDescr: use PyArray_NewFromDescr.\n  def GetDecode(self): return _FactorGraph.CFactorGraph_GetDecode(self)\n"
     ]
    },
    {
     "name": "stdout",
     "output_type": "stream",
     "text": [
      "Ours Accuracy 0.998374 Running Time 0.223041 Obj 1.000000\nOurs-BCA Accuracy 0.998374 Running Time 0.257648 Obj 1.000000\nBCA Accuracy 0.977236 Running Time 0.024745 Obj 0.984897\nBCA-MP Accuracy 0.996748 Running Time 0.167637 Obj 0.997131\nBCA-IPFP Accuracy 0.998374 Running Time 0.098478 Obj 1.000000\nHGM Accuracy 0.521951 Running Time 0.011403 Obj 0.547603\nRRWHM Accuracy 1.000000 Running Time 0.088765 Obj 0.999716\nTM Accuracy 0.655285 Running Time 0.080365 Obj 0.742037\n××××××××××××××××××××\n Start baseline: 80\n"
     ]
    },
    {
     "name": "stderr",
     "output_type": "stream",
     "text": [
      "FactorBP/FactorGraph.py:399: DeprecationWarning: PyArray_FromDims: use PyArray_SimpleNew.\n  def GetDecode(self): return _FactorGraph.CFactorGraph_GetDecode(self)\nFactorBP/FactorGraph.py:399: DeprecationWarning: PyArray_FromDimsAndDataAndDescr: use PyArray_NewFromDescr.\n  def GetDecode(self): return _FactorGraph.CFactorGraph_GetDecode(self)\nFactorBP/FactorGraph.py:399: DeprecationWarning: PyArray_FromDims: use PyArray_SimpleNew.\n  def GetDecode(self): return _FactorGraph.CFactorGraph_GetDecode(self)\nFactorBP/FactorGraph.py:399: DeprecationWarning: PyArray_FromDimsAndDataAndDescr: use PyArray_NewFromDescr.\n  def GetDecode(self): return _FactorGraph.CFactorGraph_GetDecode(self)\n"
     ]
    },
    {
     "name": "stderr",
     "output_type": "stream",
     "text": [
      "FactorBP/FactorGraph.py:399: DeprecationWarning: PyArray_FromDims: use PyArray_SimpleNew.\n  def GetDecode(self): return _FactorGraph.CFactorGraph_GetDecode(self)\nFactorBP/FactorGraph.py:399: DeprecationWarning: PyArray_FromDimsAndDataAndDescr: use PyArray_NewFromDescr.\n  def GetDecode(self): return _FactorGraph.CFactorGraph_GetDecode(self)\n"
     ]
    },
    {
     "name": "stderr",
     "output_type": "stream",
     "text": [
      "FactorBP/FactorGraph.py:399: DeprecationWarning: PyArray_FromDims: use PyArray_SimpleNew.\n  def GetDecode(self): return _FactorGraph.CFactorGraph_GetDecode(self)\nFactorBP/FactorGraph.py:399: DeprecationWarning: PyArray_FromDimsAndDataAndDescr: use PyArray_NewFromDescr.\n  def GetDecode(self): return _FactorGraph.CFactorGraph_GetDecode(self)\n"
     ]
    },
    {
     "name": "stderr",
     "output_type": "stream",
     "text": [
      "FactorBP/FactorGraph.py:399: DeprecationWarning: PyArray_FromDims: use PyArray_SimpleNew.\n  def GetDecode(self): return _FactorGraph.CFactorGraph_GetDecode(self)\nFactorBP/FactorGraph.py:399: DeprecationWarning: PyArray_FromDimsAndDataAndDescr: use PyArray_NewFromDescr.\n  def GetDecode(self): return _FactorGraph.CFactorGraph_GetDecode(self)\nFactorBP/FactorGraph.py:399: DeprecationWarning: PyArray_FromDims: use PyArray_SimpleNew.\n  def GetDecode(self): return _FactorGraph.CFactorGraph_GetDecode(self)\nFactorBP/FactorGraph.py:399: DeprecationWarning: PyArray_FromDimsAndDataAndDescr: use PyArray_NewFromDescr.\n  def GetDecode(self): return _FactorGraph.CFactorGraph_GetDecode(self)\n"
     ]
    },
    {
     "name": "stderr",
     "output_type": "stream",
     "text": [
      "FactorBP/FactorGraph.py:399: DeprecationWarning: PyArray_FromDims: use PyArray_SimpleNew.\n  def GetDecode(self): return _FactorGraph.CFactorGraph_GetDecode(self)\nFactorBP/FactorGraph.py:399: DeprecationWarning: PyArray_FromDimsAndDataAndDescr: use PyArray_NewFromDescr.\n  def GetDecode(self): return _FactorGraph.CFactorGraph_GetDecode(self)\n"
     ]
    },
    {
     "name": "stderr",
     "output_type": "stream",
     "text": [
      "FactorBP/FactorGraph.py:399: DeprecationWarning: PyArray_FromDims: use PyArray_SimpleNew.\n  def GetDecode(self): return _FactorGraph.CFactorGraph_GetDecode(self)\nFactorBP/FactorGraph.py:399: DeprecationWarning: PyArray_FromDimsAndDataAndDescr: use PyArray_NewFromDescr.\n  def GetDecode(self): return _FactorGraph.CFactorGraph_GetDecode(self)\n"
     ]
    },
    {
     "name": "stderr",
     "output_type": "stream",
     "text": [
      "FactorBP/FactorGraph.py:399: DeprecationWarning: PyArray_FromDims: use PyArray_SimpleNew.\n  def GetDecode(self): return _FactorGraph.CFactorGraph_GetDecode(self)\nFactorBP/FactorGraph.py:399: DeprecationWarning: PyArray_FromDimsAndDataAndDescr: use PyArray_NewFromDescr.\n  def GetDecode(self): return _FactorGraph.CFactorGraph_GetDecode(self)\nFactorBP/FactorGraph.py:399: DeprecationWarning: PyArray_FromDims: use PyArray_SimpleNew.\n  def GetDecode(self): return _FactorGraph.CFactorGraph_GetDecode(self)\nFactorBP/FactorGraph.py:399: DeprecationWarning: PyArray_FromDimsAndDataAndDescr: use PyArray_NewFromDescr.\n  def GetDecode(self): return _FactorGraph.CFactorGraph_GetDecode(self)\n"
     ]
    },
    {
     "name": "stderr",
     "output_type": "stream",
     "text": [
      "FactorBP/FactorGraph.py:399: DeprecationWarning: PyArray_FromDims: use PyArray_SimpleNew.\n  def GetDecode(self): return _FactorGraph.CFactorGraph_GetDecode(self)\nFactorBP/FactorGraph.py:399: DeprecationWarning: PyArray_FromDimsAndDataAndDescr: use PyArray_NewFromDescr.\n  def GetDecode(self): return _FactorGraph.CFactorGraph_GetDecode(self)\n"
     ]
    },
    {
     "name": "stderr",
     "output_type": "stream",
     "text": [
      "FactorBP/FactorGraph.py:399: DeprecationWarning: PyArray_FromDims: use PyArray_SimpleNew.\n  def GetDecode(self): return _FactorGraph.CFactorGraph_GetDecode(self)\nFactorBP/FactorGraph.py:399: DeprecationWarning: PyArray_FromDimsAndDataAndDescr: use PyArray_NewFromDescr.\n  def GetDecode(self): return _FactorGraph.CFactorGraph_GetDecode(self)\nFactorBP/FactorGraph.py:399: DeprecationWarning: PyArray_FromDims: use PyArray_SimpleNew.\n  def GetDecode(self): return _FactorGraph.CFactorGraph_GetDecode(self)\nFactorBP/FactorGraph.py:399: DeprecationWarning: PyArray_FromDimsAndDataAndDescr: use PyArray_NewFromDescr.\n  def GetDecode(self): return _FactorGraph.CFactorGraph_GetDecode(self)\n"
     ]
    },
    {
     "name": "stderr",
     "output_type": "stream",
     "text": [
      "FactorBP/FactorGraph.py:399: DeprecationWarning: PyArray_FromDims: use PyArray_SimpleNew.\n  def GetDecode(self): return _FactorGraph.CFactorGraph_GetDecode(self)\nFactorBP/FactorGraph.py:399: DeprecationWarning: PyArray_FromDimsAndDataAndDescr: use PyArray_NewFromDescr.\n  def GetDecode(self): return _FactorGraph.CFactorGraph_GetDecode(self)\nFactorBP/FactorGraph.py:399: DeprecationWarning: PyArray_FromDims: use PyArray_SimpleNew.\n  def GetDecode(self): return _FactorGraph.CFactorGraph_GetDecode(self)\nFactorBP/FactorGraph.py:399: DeprecationWarning: PyArray_FromDimsAndDataAndDescr: use PyArray_NewFromDescr.\n  def GetDecode(self): return _FactorGraph.CFactorGraph_GetDecode(self)\n"
     ]
    },
    {
     "name": "stderr",
     "output_type": "stream",
     "text": [
      "FactorBP/FactorGraph.py:399: DeprecationWarning: PyArray_FromDims: use PyArray_SimpleNew.\n  def GetDecode(self): return _FactorGraph.CFactorGraph_GetDecode(self)\nFactorBP/FactorGraph.py:399: DeprecationWarning: PyArray_FromDimsAndDataAndDescr: use PyArray_NewFromDescr.\n  def GetDecode(self): return _FactorGraph.CFactorGraph_GetDecode(self)\nFactorBP/FactorGraph.py:399: DeprecationWarning: PyArray_FromDims: use PyArray_SimpleNew.\n  def GetDecode(self): return _FactorGraph.CFactorGraph_GetDecode(self)\nFactorBP/FactorGraph.py:399: DeprecationWarning: PyArray_FromDimsAndDataAndDescr: use PyArray_NewFromDescr.\n  def GetDecode(self): return _FactorGraph.CFactorGraph_GetDecode(self)\n"
     ]
    },
    {
     "name": "stderr",
     "output_type": "stream",
     "text": [
      "FactorBP/FactorGraph.py:399: DeprecationWarning: PyArray_FromDims: use PyArray_SimpleNew.\n  def GetDecode(self): return _FactorGraph.CFactorGraph_GetDecode(self)\nFactorBP/FactorGraph.py:399: DeprecationWarning: PyArray_FromDimsAndDataAndDescr: use PyArray_NewFromDescr.\n  def GetDecode(self): return _FactorGraph.CFactorGraph_GetDecode(self)\nFactorBP/FactorGraph.py:399: DeprecationWarning: PyArray_FromDims: use PyArray_SimpleNew.\n  def GetDecode(self): return _FactorGraph.CFactorGraph_GetDecode(self)\nFactorBP/FactorGraph.py:399: DeprecationWarning: PyArray_FromDimsAndDataAndDescr: use PyArray_NewFromDescr.\n  def GetDecode(self): return _FactorGraph.CFactorGraph_GetDecode(self)\n"
     ]
    },
    {
     "name": "stderr",
     "output_type": "stream",
     "text": [
      "FactorBP/FactorGraph.py:399: DeprecationWarning: PyArray_FromDims: use PyArray_SimpleNew.\n  def GetDecode(self): return _FactorGraph.CFactorGraph_GetDecode(self)\nFactorBP/FactorGraph.py:399: DeprecationWarning: PyArray_FromDimsAndDataAndDescr: use PyArray_NewFromDescr.\n  def GetDecode(self): return _FactorGraph.CFactorGraph_GetDecode(self)\n"
     ]
    },
    {
     "name": "stderr",
     "output_type": "stream",
     "text": [
      "FactorBP/FactorGraph.py:399: DeprecationWarning: PyArray_FromDims: use PyArray_SimpleNew.\n  def GetDecode(self): return _FactorGraph.CFactorGraph_GetDecode(self)\nFactorBP/FactorGraph.py:399: DeprecationWarning: PyArray_FromDimsAndDataAndDescr: use PyArray_NewFromDescr.\n  def GetDecode(self): return _FactorGraph.CFactorGraph_GetDecode(self)\n"
     ]
    },
    {
     "name": "stderr",
     "output_type": "stream",
     "text": [
      "FactorBP/FactorGraph.py:399: DeprecationWarning: PyArray_FromDims: use PyArray_SimpleNew.\n  def GetDecode(self): return _FactorGraph.CFactorGraph_GetDecode(self)\nFactorBP/FactorGraph.py:399: DeprecationWarning: PyArray_FromDimsAndDataAndDescr: use PyArray_NewFromDescr.\n  def GetDecode(self): return _FactorGraph.CFactorGraph_GetDecode(self)\n"
     ]
    },
    {
     "name": "stderr",
     "output_type": "stream",
     "text": [
      "FactorBP/FactorGraph.py:399: DeprecationWarning: PyArray_FromDims: use PyArray_SimpleNew.\n  def GetDecode(self): return _FactorGraph.CFactorGraph_GetDecode(self)\nFactorBP/FactorGraph.py:399: DeprecationWarning: PyArray_FromDimsAndDataAndDescr: use PyArray_NewFromDescr.\n  def GetDecode(self): return _FactorGraph.CFactorGraph_GetDecode(self)\n"
     ]
    },
    {
     "name": "stderr",
     "output_type": "stream",
     "text": [
      "FactorBP/FactorGraph.py:399: DeprecationWarning: PyArray_FromDims: use PyArray_SimpleNew.\n  def GetDecode(self): return _FactorGraph.CFactorGraph_GetDecode(self)\nFactorBP/FactorGraph.py:399: DeprecationWarning: PyArray_FromDimsAndDataAndDescr: use PyArray_NewFromDescr.\n  def GetDecode(self): return _FactorGraph.CFactorGraph_GetDecode(self)\n"
     ]
    },
    {
     "name": "stderr",
     "output_type": "stream",
     "text": [
      "FactorBP/FactorGraph.py:399: DeprecationWarning: PyArray_FromDims: use PyArray_SimpleNew.\n  def GetDecode(self): return _FactorGraph.CFactorGraph_GetDecode(self)\nFactorBP/FactorGraph.py:399: DeprecationWarning: PyArray_FromDimsAndDataAndDescr: use PyArray_NewFromDescr.\n  def GetDecode(self): return _FactorGraph.CFactorGraph_GetDecode(self)\n"
     ]
    },
    {
     "name": "stderr",
     "output_type": "stream",
     "text": [
      "FactorBP/FactorGraph.py:399: DeprecationWarning: PyArray_FromDims: use PyArray_SimpleNew.\n  def GetDecode(self): return _FactorGraph.CFactorGraph_GetDecode(self)\nFactorBP/FactorGraph.py:399: DeprecationWarning: PyArray_FromDimsAndDataAndDescr: use PyArray_NewFromDescr.\n  def GetDecode(self): return _FactorGraph.CFactorGraph_GetDecode(self)\n"
     ]
    },
    {
     "name": "stderr",
     "output_type": "stream",
     "text": [
      "FactorBP/FactorGraph.py:399: DeprecationWarning: PyArray_FromDims: use PyArray_SimpleNew.\n  def GetDecode(self): return _FactorGraph.CFactorGraph_GetDecode(self)\nFactorBP/FactorGraph.py:399: DeprecationWarning: PyArray_FromDimsAndDataAndDescr: use PyArray_NewFromDescr.\n  def GetDecode(self): return _FactorGraph.CFactorGraph_GetDecode(self)\n"
     ]
    },
    {
     "name": "stderr",
     "output_type": "stream",
     "text": [
      "FactorBP/FactorGraph.py:399: DeprecationWarning: PyArray_FromDims: use PyArray_SimpleNew.\n  def GetDecode(self): return _FactorGraph.CFactorGraph_GetDecode(self)\nFactorBP/FactorGraph.py:399: DeprecationWarning: PyArray_FromDimsAndDataAndDescr: use PyArray_NewFromDescr.\n  def GetDecode(self): return _FactorGraph.CFactorGraph_GetDecode(self)\n"
     ]
    },
    {
     "name": "stderr",
     "output_type": "stream",
     "text": [
      "FactorBP/FactorGraph.py:399: DeprecationWarning: PyArray_FromDims: use PyArray_SimpleNew.\n  def GetDecode(self): return _FactorGraph.CFactorGraph_GetDecode(self)\nFactorBP/FactorGraph.py:399: DeprecationWarning: PyArray_FromDimsAndDataAndDescr: use PyArray_NewFromDescr.\n  def GetDecode(self): return _FactorGraph.CFactorGraph_GetDecode(self)\n"
     ]
    },
    {
     "name": "stderr",
     "output_type": "stream",
     "text": [
      "FactorBP/FactorGraph.py:399: DeprecationWarning: PyArray_FromDims: use PyArray_SimpleNew.\n  def GetDecode(self): return _FactorGraph.CFactorGraph_GetDecode(self)\nFactorBP/FactorGraph.py:399: DeprecationWarning: PyArray_FromDimsAndDataAndDescr: use PyArray_NewFromDescr.\n  def GetDecode(self): return _FactorGraph.CFactorGraph_GetDecode(self)\n"
     ]
    },
    {
     "name": "stderr",
     "output_type": "stream",
     "text": [
      "FactorBP/FactorGraph.py:399: DeprecationWarning: PyArray_FromDims: use PyArray_SimpleNew.\n  def GetDecode(self): return _FactorGraph.CFactorGraph_GetDecode(self)\nFactorBP/FactorGraph.py:399: DeprecationWarning: PyArray_FromDimsAndDataAndDescr: use PyArray_NewFromDescr.\n  def GetDecode(self): return _FactorGraph.CFactorGraph_GetDecode(self)\n"
     ]
    },
    {
     "name": "stderr",
     "output_type": "stream",
     "text": [
      "FactorBP/FactorGraph.py:399: DeprecationWarning: PyArray_FromDims: use PyArray_SimpleNew.\n  def GetDecode(self): return _FactorGraph.CFactorGraph_GetDecode(self)\nFactorBP/FactorGraph.py:399: DeprecationWarning: PyArray_FromDimsAndDataAndDescr: use PyArray_NewFromDescr.\n  def GetDecode(self): return _FactorGraph.CFactorGraph_GetDecode(self)\n"
     ]
    },
    {
     "name": "stderr",
     "output_type": "stream",
     "text": [
      "FactorBP/FactorGraph.py:399: DeprecationWarning: PyArray_FromDims: use PyArray_SimpleNew.\n  def GetDecode(self): return _FactorGraph.CFactorGraph_GetDecode(self)\nFactorBP/FactorGraph.py:399: DeprecationWarning: PyArray_FromDimsAndDataAndDescr: use PyArray_NewFromDescr.\n  def GetDecode(self): return _FactorGraph.CFactorGraph_GetDecode(self)\n"
     ]
    },
    {
     "name": "stderr",
     "output_type": "stream",
     "text": [
      "FactorBP/FactorGraph.py:399: DeprecationWarning: PyArray_FromDims: use PyArray_SimpleNew.\n  def GetDecode(self): return _FactorGraph.CFactorGraph_GetDecode(self)\nFactorBP/FactorGraph.py:399: DeprecationWarning: PyArray_FromDimsAndDataAndDescr: use PyArray_NewFromDescr.\n  def GetDecode(self): return _FactorGraph.CFactorGraph_GetDecode(self)\n"
     ]
    },
    {
     "name": "stderr",
     "output_type": "stream",
     "text": [
      "FactorBP/FactorGraph.py:399: DeprecationWarning: PyArray_FromDims: use PyArray_SimpleNew.\n  def GetDecode(self): return _FactorGraph.CFactorGraph_GetDecode(self)\nFactorBP/FactorGraph.py:399: DeprecationWarning: PyArray_FromDimsAndDataAndDescr: use PyArray_NewFromDescr.\n  def GetDecode(self): return _FactorGraph.CFactorGraph_GetDecode(self)\nFactorBP/FactorGraph.py:399: DeprecationWarning: PyArray_FromDims: use PyArray_SimpleNew.\n  def GetDecode(self): return _FactorGraph.CFactorGraph_GetDecode(self)\nFactorBP/FactorGraph.py:399: DeprecationWarning: PyArray_FromDimsAndDataAndDescr: use PyArray_NewFromDescr.\n  def GetDecode(self): return _FactorGraph.CFactorGraph_GetDecode(self)\n"
     ]
    },
    {
     "name": "stderr",
     "output_type": "stream",
     "text": [
      "FactorBP/FactorGraph.py:399: DeprecationWarning: PyArray_FromDims: use PyArray_SimpleNew.\n  def GetDecode(self): return _FactorGraph.CFactorGraph_GetDecode(self)\nFactorBP/FactorGraph.py:399: DeprecationWarning: PyArray_FromDimsAndDataAndDescr: use PyArray_NewFromDescr.\n  def GetDecode(self): return _FactorGraph.CFactorGraph_GetDecode(self)\nFactorBP/FactorGraph.py:399: DeprecationWarning: PyArray_FromDims: use PyArray_SimpleNew.\n  def GetDecode(self): return _FactorGraph.CFactorGraph_GetDecode(self)\nFactorBP/FactorGraph.py:399: DeprecationWarning: PyArray_FromDimsAndDataAndDescr: use PyArray_NewFromDescr.\n  def GetDecode(self): return _FactorGraph.CFactorGraph_GetDecode(self)\n"
     ]
    },
    {
     "name": "stderr",
     "output_type": "stream",
     "text": [
      "FactorBP/FactorGraph.py:399: DeprecationWarning: PyArray_FromDims: use PyArray_SimpleNew.\n  def GetDecode(self): return _FactorGraph.CFactorGraph_GetDecode(self)\nFactorBP/FactorGraph.py:399: DeprecationWarning: PyArray_FromDimsAndDataAndDescr: use PyArray_NewFromDescr.\n  def GetDecode(self): return _FactorGraph.CFactorGraph_GetDecode(self)\n"
     ]
    },
    {
     "name": "stderr",
     "output_type": "stream",
     "text": [
      "FactorBP/FactorGraph.py:399: DeprecationWarning: PyArray_FromDims: use PyArray_SimpleNew.\n  def GetDecode(self): return _FactorGraph.CFactorGraph_GetDecode(self)\nFactorBP/FactorGraph.py:399: DeprecationWarning: PyArray_FromDimsAndDataAndDescr: use PyArray_NewFromDescr.\n  def GetDecode(self): return _FactorGraph.CFactorGraph_GetDecode(self)\n"
     ]
    },
    {
     "name": "stdout",
     "output_type": "stream",
     "text": [
      "Ours Accuracy 0.993548 Running Time 0.335980 Obj 0.998551\nOurs-BCA Accuracy 0.997849 Running Time 0.369341 Obj 1.000000\nBCA Accuracy 0.973118 Running Time 0.023189 Obj 0.983589\nBCA-MP Accuracy 0.972043 Running Time 0.182633 Obj 0.982647\nBCA-IPFP Accuracy 0.997849 Running Time 0.100481 Obj 1.000000\nHGM Accuracy 0.462366 Running Time 0.010961 Obj 0.537475\nRRWHM Accuracy 1.000000 Running Time 0.103759 Obj 0.999573\nTM Accuracy 0.541935 Running Time 0.083627 Obj 0.676240\n××××××××××××××××××××\n Start baseline: 90\n"
     ]
    },
    {
     "name": "stderr",
     "output_type": "stream",
     "text": [
      "FactorBP/FactorGraph.py:399: DeprecationWarning: PyArray_FromDims: use PyArray_SimpleNew.\n  def GetDecode(self): return _FactorGraph.CFactorGraph_GetDecode(self)\nFactorBP/FactorGraph.py:399: DeprecationWarning: PyArray_FromDimsAndDataAndDescr: use PyArray_NewFromDescr.\n  def GetDecode(self): return _FactorGraph.CFactorGraph_GetDecode(self)\n"
     ]
    },
    {
     "name": "stderr",
     "output_type": "stream",
     "text": [
      "FactorBP/FactorGraph.py:399: DeprecationWarning: PyArray_FromDims: use PyArray_SimpleNew.\n  def GetDecode(self): return _FactorGraph.CFactorGraph_GetDecode(self)\nFactorBP/FactorGraph.py:399: DeprecationWarning: PyArray_FromDimsAndDataAndDescr: use PyArray_NewFromDescr.\n  def GetDecode(self): return _FactorGraph.CFactorGraph_GetDecode(self)\nFactorBP/FactorGraph.py:399: DeprecationWarning: PyArray_FromDims: use PyArray_SimpleNew.\n  def GetDecode(self): return _FactorGraph.CFactorGraph_GetDecode(self)\nFactorBP/FactorGraph.py:399: DeprecationWarning: PyArray_FromDimsAndDataAndDescr: use PyArray_NewFromDescr.\n  def GetDecode(self): return _FactorGraph.CFactorGraph_GetDecode(self)\n"
     ]
    },
    {
     "name": "stderr",
     "output_type": "stream",
     "text": [
      "FactorBP/FactorGraph.py:399: DeprecationWarning: PyArray_FromDims: use PyArray_SimpleNew.\n  def GetDecode(self): return _FactorGraph.CFactorGraph_GetDecode(self)\nFactorBP/FactorGraph.py:399: DeprecationWarning: PyArray_FromDimsAndDataAndDescr: use PyArray_NewFromDescr.\n  def GetDecode(self): return _FactorGraph.CFactorGraph_GetDecode(self)\nFactorBP/FactorGraph.py:399: DeprecationWarning: PyArray_FromDims: use PyArray_SimpleNew.\n  def GetDecode(self): return _FactorGraph.CFactorGraph_GetDecode(self)\nFactorBP/FactorGraph.py:399: DeprecationWarning: PyArray_FromDimsAndDataAndDescr: use PyArray_NewFromDescr.\n  def GetDecode(self): return _FactorGraph.CFactorGraph_GetDecode(self)\n"
     ]
    },
    {
     "name": "stderr",
     "output_type": "stream",
     "text": [
      "FactorBP/FactorGraph.py:399: DeprecationWarning: PyArray_FromDims: use PyArray_SimpleNew.\n  def GetDecode(self): return _FactorGraph.CFactorGraph_GetDecode(self)\nFactorBP/FactorGraph.py:399: DeprecationWarning: PyArray_FromDimsAndDataAndDescr: use PyArray_NewFromDescr.\n  def GetDecode(self): return _FactorGraph.CFactorGraph_GetDecode(self)\n"
     ]
    },
    {
     "name": "stderr",
     "output_type": "stream",
     "text": [
      "FactorBP/FactorGraph.py:399: DeprecationWarning: PyArray_FromDims: use PyArray_SimpleNew.\n  def GetDecode(self): return _FactorGraph.CFactorGraph_GetDecode(self)\nFactorBP/FactorGraph.py:399: DeprecationWarning: PyArray_FromDimsAndDataAndDescr: use PyArray_NewFromDescr.\n  def GetDecode(self): return _FactorGraph.CFactorGraph_GetDecode(self)\n"
     ]
    },
    {
     "name": "stderr",
     "output_type": "stream",
     "text": [
      "FactorBP/FactorGraph.py:399: DeprecationWarning: PyArray_FromDims: use PyArray_SimpleNew.\n  def GetDecode(self): return _FactorGraph.CFactorGraph_GetDecode(self)\nFactorBP/FactorGraph.py:399: DeprecationWarning: PyArray_FromDimsAndDataAndDescr: use PyArray_NewFromDescr.\n  def GetDecode(self): return _FactorGraph.CFactorGraph_GetDecode(self)\nFactorBP/FactorGraph.py:399: DeprecationWarning: PyArray_FromDims: use PyArray_SimpleNew.\n  def GetDecode(self): return _FactorGraph.CFactorGraph_GetDecode(self)\nFactorBP/FactorGraph.py:399: DeprecationWarning: PyArray_FromDimsAndDataAndDescr: use PyArray_NewFromDescr.\n  def GetDecode(self): return _FactorGraph.CFactorGraph_GetDecode(self)\n"
     ]
    },
    {
     "name": "stderr",
     "output_type": "stream",
     "text": [
      "FactorBP/FactorGraph.py:399: DeprecationWarning: PyArray_FromDims: use PyArray_SimpleNew.\n  def GetDecode(self): return _FactorGraph.CFactorGraph_GetDecode(self)\nFactorBP/FactorGraph.py:399: DeprecationWarning: PyArray_FromDimsAndDataAndDescr: use PyArray_NewFromDescr.\n  def GetDecode(self): return _FactorGraph.CFactorGraph_GetDecode(self)\n"
     ]
    },
    {
     "name": "stderr",
     "output_type": "stream",
     "text": [
      "FactorBP/FactorGraph.py:399: DeprecationWarning: PyArray_FromDims: use PyArray_SimpleNew.\n  def GetDecode(self): return _FactorGraph.CFactorGraph_GetDecode(self)\nFactorBP/FactorGraph.py:399: DeprecationWarning: PyArray_FromDimsAndDataAndDescr: use PyArray_NewFromDescr.\n  def GetDecode(self): return _FactorGraph.CFactorGraph_GetDecode(self)\n"
     ]
    },
    {
     "name": "stderr",
     "output_type": "stream",
     "text": [
      "FactorBP/FactorGraph.py:399: DeprecationWarning: PyArray_FromDims: use PyArray_SimpleNew.\n  def GetDecode(self): return _FactorGraph.CFactorGraph_GetDecode(self)\nFactorBP/FactorGraph.py:399: DeprecationWarning: PyArray_FromDimsAndDataAndDescr: use PyArray_NewFromDescr.\n  def GetDecode(self): return _FactorGraph.CFactorGraph_GetDecode(self)\n"
     ]
    },
    {
     "name": "stderr",
     "output_type": "stream",
     "text": [
      "FactorBP/FactorGraph.py:399: DeprecationWarning: PyArray_FromDims: use PyArray_SimpleNew.\n  def GetDecode(self): return _FactorGraph.CFactorGraph_GetDecode(self)\nFactorBP/FactorGraph.py:399: DeprecationWarning: PyArray_FromDimsAndDataAndDescr: use PyArray_NewFromDescr.\n  def GetDecode(self): return _FactorGraph.CFactorGraph_GetDecode(self)\nFactorBP/FactorGraph.py:399: DeprecationWarning: PyArray_FromDims: use PyArray_SimpleNew.\n  def GetDecode(self): return _FactorGraph.CFactorGraph_GetDecode(self)\nFactorBP/FactorGraph.py:399: DeprecationWarning: PyArray_FromDimsAndDataAndDescr: use PyArray_NewFromDescr.\n  def GetDecode(self): return _FactorGraph.CFactorGraph_GetDecode(self)\n"
     ]
    },
    {
     "name": "stderr",
     "output_type": "stream",
     "text": [
      "FactorBP/FactorGraph.py:399: DeprecationWarning: PyArray_FromDims: use PyArray_SimpleNew.\n  def GetDecode(self): return _FactorGraph.CFactorGraph_GetDecode(self)\nFactorBP/FactorGraph.py:399: DeprecationWarning: PyArray_FromDimsAndDataAndDescr: use PyArray_NewFromDescr.\n  def GetDecode(self): return _FactorGraph.CFactorGraph_GetDecode(self)\nFactorBP/FactorGraph.py:399: DeprecationWarning: PyArray_FromDims: use PyArray_SimpleNew.\n  def GetDecode(self): return _FactorGraph.CFactorGraph_GetDecode(self)\nFactorBP/FactorGraph.py:399: DeprecationWarning: PyArray_FromDimsAndDataAndDescr: use PyArray_NewFromDescr.\n  def GetDecode(self): return _FactorGraph.CFactorGraph_GetDecode(self)\n"
     ]
    },
    {
     "name": "stderr",
     "output_type": "stream",
     "text": [
      "FactorBP/FactorGraph.py:399: DeprecationWarning: PyArray_FromDims: use PyArray_SimpleNew.\n  def GetDecode(self): return _FactorGraph.CFactorGraph_GetDecode(self)\nFactorBP/FactorGraph.py:399: DeprecationWarning: PyArray_FromDimsAndDataAndDescr: use PyArray_NewFromDescr.\n  def GetDecode(self): return _FactorGraph.CFactorGraph_GetDecode(self)\n"
     ]
    },
    {
     "name": "stderr",
     "output_type": "stream",
     "text": [
      "FactorBP/FactorGraph.py:399: DeprecationWarning: PyArray_FromDims: use PyArray_SimpleNew.\n  def GetDecode(self): return _FactorGraph.CFactorGraph_GetDecode(self)\nFactorBP/FactorGraph.py:399: DeprecationWarning: PyArray_FromDimsAndDataAndDescr: use PyArray_NewFromDescr.\n  def GetDecode(self): return _FactorGraph.CFactorGraph_GetDecode(self)\nFactorBP/FactorGraph.py:399: DeprecationWarning: PyArray_FromDims: use PyArray_SimpleNew.\n  def GetDecode(self): return _FactorGraph.CFactorGraph_GetDecode(self)\nFactorBP/FactorGraph.py:399: DeprecationWarning: PyArray_FromDimsAndDataAndDescr: use PyArray_NewFromDescr.\n  def GetDecode(self): return _FactorGraph.CFactorGraph_GetDecode(self)\n"
     ]
    },
    {
     "name": "stderr",
     "output_type": "stream",
     "text": [
      "FactorBP/FactorGraph.py:399: DeprecationWarning: PyArray_FromDims: use PyArray_SimpleNew.\n  def GetDecode(self): return _FactorGraph.CFactorGraph_GetDecode(self)\nFactorBP/FactorGraph.py:399: DeprecationWarning: PyArray_FromDimsAndDataAndDescr: use PyArray_NewFromDescr.\n  def GetDecode(self): return _FactorGraph.CFactorGraph_GetDecode(self)\n"
     ]
    },
    {
     "name": "stderr",
     "output_type": "stream",
     "text": [
      "FactorBP/FactorGraph.py:399: DeprecationWarning: PyArray_FromDims: use PyArray_SimpleNew.\n  def GetDecode(self): return _FactorGraph.CFactorGraph_GetDecode(self)\nFactorBP/FactorGraph.py:399: DeprecationWarning: PyArray_FromDimsAndDataAndDescr: use PyArray_NewFromDescr.\n  def GetDecode(self): return _FactorGraph.CFactorGraph_GetDecode(self)\n"
     ]
    },
    {
     "name": "stderr",
     "output_type": "stream",
     "text": [
      "FactorBP/FactorGraph.py:399: DeprecationWarning: PyArray_FromDims: use PyArray_SimpleNew.\n  def GetDecode(self): return _FactorGraph.CFactorGraph_GetDecode(self)\nFactorBP/FactorGraph.py:399: DeprecationWarning: PyArray_FromDimsAndDataAndDescr: use PyArray_NewFromDescr.\n  def GetDecode(self): return _FactorGraph.CFactorGraph_GetDecode(self)\n"
     ]
    },
    {
     "name": "stderr",
     "output_type": "stream",
     "text": [
      "FactorBP/FactorGraph.py:399: DeprecationWarning: PyArray_FromDims: use PyArray_SimpleNew.\n  def GetDecode(self): return _FactorGraph.CFactorGraph_GetDecode(self)\nFactorBP/FactorGraph.py:399: DeprecationWarning: PyArray_FromDimsAndDataAndDescr: use PyArray_NewFromDescr.\n  def GetDecode(self): return _FactorGraph.CFactorGraph_GetDecode(self)\nFactorBP/FactorGraph.py:399: DeprecationWarning: PyArray_FromDims: use PyArray_SimpleNew.\n  def GetDecode(self): return _FactorGraph.CFactorGraph_GetDecode(self)\nFactorBP/FactorGraph.py:399: DeprecationWarning: PyArray_FromDimsAndDataAndDescr: use PyArray_NewFromDescr.\n  def GetDecode(self): return _FactorGraph.CFactorGraph_GetDecode(self)\n"
     ]
    },
    {
     "name": "stderr",
     "output_type": "stream",
     "text": [
      "FactorBP/FactorGraph.py:399: DeprecationWarning: PyArray_FromDims: use PyArray_SimpleNew.\n  def GetDecode(self): return _FactorGraph.CFactorGraph_GetDecode(self)\nFactorBP/FactorGraph.py:399: DeprecationWarning: PyArray_FromDimsAndDataAndDescr: use PyArray_NewFromDescr.\n  def GetDecode(self): return _FactorGraph.CFactorGraph_GetDecode(self)\n"
     ]
    },
    {
     "name": "stderr",
     "output_type": "stream",
     "text": [
      "FactorBP/FactorGraph.py:399: DeprecationWarning: PyArray_FromDims: use PyArray_SimpleNew.\n  def GetDecode(self): return _FactorGraph.CFactorGraph_GetDecode(self)\nFactorBP/FactorGraph.py:399: DeprecationWarning: PyArray_FromDimsAndDataAndDescr: use PyArray_NewFromDescr.\n  def GetDecode(self): return _FactorGraph.CFactorGraph_GetDecode(self)\n"
     ]
    },
    {
     "name": "stderr",
     "output_type": "stream",
     "text": [
      "FactorBP/FactorGraph.py:399: DeprecationWarning: PyArray_FromDims: use PyArray_SimpleNew.\n  def GetDecode(self): return _FactorGraph.CFactorGraph_GetDecode(self)\nFactorBP/FactorGraph.py:399: DeprecationWarning: PyArray_FromDimsAndDataAndDescr: use PyArray_NewFromDescr.\n  def GetDecode(self): return _FactorGraph.CFactorGraph_GetDecode(self)\nFactorBP/FactorGraph.py:399: DeprecationWarning: PyArray_FromDims: use PyArray_SimpleNew.\n  def GetDecode(self): return _FactorGraph.CFactorGraph_GetDecode(self)\nFactorBP/FactorGraph.py:399: DeprecationWarning: PyArray_FromDimsAndDataAndDescr: use PyArray_NewFromDescr.\n  def GetDecode(self): return _FactorGraph.CFactorGraph_GetDecode(self)\n"
     ]
    },
    {
     "name": "stderr",
     "output_type": "stream",
     "text": [
      "FactorBP/FactorGraph.py:399: DeprecationWarning: PyArray_FromDims: use PyArray_SimpleNew.\n  def GetDecode(self): return _FactorGraph.CFactorGraph_GetDecode(self)\nFactorBP/FactorGraph.py:399: DeprecationWarning: PyArray_FromDimsAndDataAndDescr: use PyArray_NewFromDescr.\n  def GetDecode(self): return _FactorGraph.CFactorGraph_GetDecode(self)\n"
     ]
    },
    {
     "name": "stdout",
     "output_type": "stream",
     "text": [
      "Ours Accuracy 0.987302 Running Time 0.440418 Obj 0.998166\nOurs-BCA Accuracy 0.992063 Running Time 0.474296 Obj 1.000000\nBCA Accuracy 0.930159 Running Time 0.024715 Obj 0.967747\nBCA-MP Accuracy 0.904762 Running Time 0.224829 Obj 0.955754\nBCA-IPFP Accuracy 0.992063 Running Time 0.109893 Obj 1.000000\nHGM Accuracy 0.414286 Running Time 0.011287 Obj 0.516428\nRRWHM Accuracy 0.995238 Running Time 0.117368 Obj 0.999448\nTM Accuracy 0.436508 Running Time 0.083290 Obj 0.608393\n××××××××××××××××××××\n Start baseline: 100\n"
     ]
    },
    {
     "name": "stderr",
     "output_type": "stream",
     "text": [
      "FactorBP/FactorGraph.py:399: DeprecationWarning: PyArray_FromDims: use PyArray_SimpleNew.\n  def GetDecode(self): return _FactorGraph.CFactorGraph_GetDecode(self)\nFactorBP/FactorGraph.py:399: DeprecationWarning: PyArray_FromDimsAndDataAndDescr: use PyArray_NewFromDescr.\n  def GetDecode(self): return _FactorGraph.CFactorGraph_GetDecode(self)\n"
     ]
    },
    {
     "name": "stderr",
     "output_type": "stream",
     "text": [
      "FactorBP/FactorGraph.py:399: DeprecationWarning: PyArray_FromDims: use PyArray_SimpleNew.\n  def GetDecode(self): return _FactorGraph.CFactorGraph_GetDecode(self)\nFactorBP/FactorGraph.py:399: DeprecationWarning: PyArray_FromDimsAndDataAndDescr: use PyArray_NewFromDescr.\n  def GetDecode(self): return _FactorGraph.CFactorGraph_GetDecode(self)\n"
     ]
    },
    {
     "name": "stderr",
     "output_type": "stream",
     "text": [
      "FactorBP/FactorGraph.py:399: DeprecationWarning: PyArray_FromDims: use PyArray_SimpleNew.\n  def GetDecode(self): return _FactorGraph.CFactorGraph_GetDecode(self)\nFactorBP/FactorGraph.py:399: DeprecationWarning: PyArray_FromDimsAndDataAndDescr: use PyArray_NewFromDescr.\n  def GetDecode(self): return _FactorGraph.CFactorGraph_GetDecode(self)\nFactorBP/FactorGraph.py:399: DeprecationWarning: PyArray_FromDims: use PyArray_SimpleNew.\n  def GetDecode(self): return _FactorGraph.CFactorGraph_GetDecode(self)\nFactorBP/FactorGraph.py:399: DeprecationWarning: PyArray_FromDimsAndDataAndDescr: use PyArray_NewFromDescr.\n  def GetDecode(self): return _FactorGraph.CFactorGraph_GetDecode(self)\n"
     ]
    },
    {
     "name": "stderr",
     "output_type": "stream",
     "text": [
      "FactorBP/FactorGraph.py:399: DeprecationWarning: PyArray_FromDims: use PyArray_SimpleNew.\n  def GetDecode(self): return _FactorGraph.CFactorGraph_GetDecode(self)\nFactorBP/FactorGraph.py:399: DeprecationWarning: PyArray_FromDimsAndDataAndDescr: use PyArray_NewFromDescr.\n  def GetDecode(self): return _FactorGraph.CFactorGraph_GetDecode(self)\n"
     ]
    },
    {
     "name": "stderr",
     "output_type": "stream",
     "text": [
      "FactorBP/FactorGraph.py:399: DeprecationWarning: PyArray_FromDims: use PyArray_SimpleNew.\n  def GetDecode(self): return _FactorGraph.CFactorGraph_GetDecode(self)\nFactorBP/FactorGraph.py:399: DeprecationWarning: PyArray_FromDimsAndDataAndDescr: use PyArray_NewFromDescr.\n  def GetDecode(self): return _FactorGraph.CFactorGraph_GetDecode(self)\nFactorBP/FactorGraph.py:399: DeprecationWarning: PyArray_FromDims: use PyArray_SimpleNew.\n  def GetDecode(self): return _FactorGraph.CFactorGraph_GetDecode(self)\nFactorBP/FactorGraph.py:399: DeprecationWarning: PyArray_FromDimsAndDataAndDescr: use PyArray_NewFromDescr.\n  def GetDecode(self): return _FactorGraph.CFactorGraph_GetDecode(self)\n"
     ]
    },
    {
     "name": "stderr",
     "output_type": "stream",
     "text": [
      "FactorBP/FactorGraph.py:399: DeprecationWarning: PyArray_FromDims: use PyArray_SimpleNew.\n  def GetDecode(self): return _FactorGraph.CFactorGraph_GetDecode(self)\nFactorBP/FactorGraph.py:399: DeprecationWarning: PyArray_FromDimsAndDataAndDescr: use PyArray_NewFromDescr.\n  def GetDecode(self): return _FactorGraph.CFactorGraph_GetDecode(self)\n"
     ]
    },
    {
     "name": "stderr",
     "output_type": "stream",
     "text": [
      "FactorBP/FactorGraph.py:399: DeprecationWarning: PyArray_FromDims: use PyArray_SimpleNew.\n  def GetDecode(self): return _FactorGraph.CFactorGraph_GetDecode(self)\nFactorBP/FactorGraph.py:399: DeprecationWarning: PyArray_FromDimsAndDataAndDescr: use PyArray_NewFromDescr.\n  def GetDecode(self): return _FactorGraph.CFactorGraph_GetDecode(self)\nFactorBP/FactorGraph.py:399: DeprecationWarning: PyArray_FromDims: use PyArray_SimpleNew.\n  def GetDecode(self): return _FactorGraph.CFactorGraph_GetDecode(self)\nFactorBP/FactorGraph.py:399: DeprecationWarning: PyArray_FromDimsAndDataAndDescr: use PyArray_NewFromDescr.\n  def GetDecode(self): return _FactorGraph.CFactorGraph_GetDecode(self)\n"
     ]
    },
    {
     "name": "stderr",
     "output_type": "stream",
     "text": [
      "FactorBP/FactorGraph.py:399: DeprecationWarning: PyArray_FromDims: use PyArray_SimpleNew.\n  def GetDecode(self): return _FactorGraph.CFactorGraph_GetDecode(self)\nFactorBP/FactorGraph.py:399: DeprecationWarning: PyArray_FromDimsAndDataAndDescr: use PyArray_NewFromDescr.\n  def GetDecode(self): return _FactorGraph.CFactorGraph_GetDecode(self)\nFactorBP/FactorGraph.py:399: DeprecationWarning: PyArray_FromDims: use PyArray_SimpleNew.\n  def GetDecode(self): return _FactorGraph.CFactorGraph_GetDecode(self)\nFactorBP/FactorGraph.py:399: DeprecationWarning: PyArray_FromDimsAndDataAndDescr: use PyArray_NewFromDescr.\n  def GetDecode(self): return _FactorGraph.CFactorGraph_GetDecode(self)\nFactorBP/FactorGraph.py:399: DeprecationWarning: PyArray_FromDims: use PyArray_SimpleNew.\n  def GetDecode(self): return _FactorGraph.CFactorGraph_GetDecode(self)\nFactorBP/FactorGraph.py:399: DeprecationWarning: PyArray_FromDimsAndDataAndDescr: use PyArray_NewFromDescr.\n  def GetDecode(self): return _FactorGraph.CFactorGraph_GetDecode(self)\n"
     ]
    },
    {
     "name": "stderr",
     "output_type": "stream",
     "text": [
      "FactorBP/FactorGraph.py:399: DeprecationWarning: PyArray_FromDims: use PyArray_SimpleNew.\n  def GetDecode(self): return _FactorGraph.CFactorGraph_GetDecode(self)\nFactorBP/FactorGraph.py:399: DeprecationWarning: PyArray_FromDimsAndDataAndDescr: use PyArray_NewFromDescr.\n  def GetDecode(self): return _FactorGraph.CFactorGraph_GetDecode(self)\nFactorBP/FactorGraph.py:399: DeprecationWarning: PyArray_FromDims: use PyArray_SimpleNew.\n  def GetDecode(self): return _FactorGraph.CFactorGraph_GetDecode(self)\nFactorBP/FactorGraph.py:399: DeprecationWarning: PyArray_FromDimsAndDataAndDescr: use PyArray_NewFromDescr.\n  def GetDecode(self): return _FactorGraph.CFactorGraph_GetDecode(self)\n"
     ]
    },
    {
     "name": "stderr",
     "output_type": "stream",
     "text": [
      "FactorBP/FactorGraph.py:399: DeprecationWarning: PyArray_FromDims: use PyArray_SimpleNew.\n  def GetDecode(self): return _FactorGraph.CFactorGraph_GetDecode(self)\nFactorBP/FactorGraph.py:399: DeprecationWarning: PyArray_FromDimsAndDataAndDescr: use PyArray_NewFromDescr.\n  def GetDecode(self): return _FactorGraph.CFactorGraph_GetDecode(self)\nFactorBP/FactorGraph.py:399: DeprecationWarning: PyArray_FromDims: use PyArray_SimpleNew.\n  def GetDecode(self): return _FactorGraph.CFactorGraph_GetDecode(self)\nFactorBP/FactorGraph.py:399: DeprecationWarning: PyArray_FromDimsAndDataAndDescr: use PyArray_NewFromDescr.\n  def GetDecode(self): return _FactorGraph.CFactorGraph_GetDecode(self)\nFactorBP/FactorGraph.py:399: DeprecationWarning: PyArray_FromDims: use PyArray_SimpleNew.\n  def GetDecode(self): return _FactorGraph.CFactorGraph_GetDecode(self)\nFactorBP/FactorGraph.py:399: DeprecationWarning: PyArray_FromDimsAndDataAndDescr: use PyArray_NewFromDescr.\n  def GetDecode(self): return _FactorGraph.CFactorGraph_GetDecode(self)\n"
     ]
    },
    {
     "name": "stderr",
     "output_type": "stream",
     "text": [
      "FactorBP/FactorGraph.py:399: DeprecationWarning: PyArray_FromDims: use PyArray_SimpleNew.\n  def GetDecode(self): return _FactorGraph.CFactorGraph_GetDecode(self)\nFactorBP/FactorGraph.py:399: DeprecationWarning: PyArray_FromDimsAndDataAndDescr: use PyArray_NewFromDescr.\n  def GetDecode(self): return _FactorGraph.CFactorGraph_GetDecode(self)\n"
     ]
    },
    {
     "name": "stdout",
     "output_type": "stream",
     "text": [
      "Ours Accuracy 0.954545 Running Time 0.463304 Obj 0.979498\nOurs-BCA Accuracy 0.966667 Running Time 0.495664 Obj 0.992289\nBCA Accuracy 0.881818 Running Time 0.027862 Obj 0.958748\nBCA-MP Accuracy 0.848485 Running Time 0.267982 Obj 0.953980\nBCA-IPFP Accuracy 0.987879 Running Time 0.122869 Obj 0.995023\nHGM Accuracy 0.284848 Running Time 0.014927 Obj 0.498835\nRRWHM Accuracy 0.963636 Running Time 0.163624 Obj 0.991066\nTM Accuracy 0.296970 Running Time 0.089826 Obj 0.558411\n××××××××××××××××××××\n"
     ]
    }
   ],
   "source": [
    "def ComputeAccurancy(Decode, gTruth, NofInliers):\n",
    "    Ccnt = 0\n",
    "    for i in range(NofInliers):\n",
    "        if(Decode[i] == gTruth[i]):\n",
    "            Ccnt += 1\n",
    "    return 1.0 * Ccnt / NofInliers\n",
    "\n",
    "def LoadHouse():\n",
    "    res = np.zeros([111, 30, 2])\n",
    "    for i in range(1,112):\n",
    "        res[i-1] = np.loadtxt('data/cmum/house/label/house%d' %i)\n",
    "    return res\n",
    "HouseData = LoadHouse()\n",
    "NofAlgorithms = 8\n",
    "AlgorithmNames=['Ours', 'Ours-BCA', 'BCA', 'BCA-MP', 'BCA-IPFP', 'HGM', 'RRWHM', 'TM']\n",
    "start = 0\n",
    "end = 111\n",
    "MeanAcc = np.zeros([10,NofAlgorithms])\n",
    "MeanRtime = np.zeros([10, NofAlgorithms])\n",
    "MeanObj = np.zeros([10, NofAlgorithms])\n",
    "AllAcc = {}\n",
    "AllRtim = {}\n",
    "AllObj = {}\n",
    "Type = 'topo'\n",
    "\n",
    "for baseline in xrange(10,101,10):\n",
    "    print(' Start baseline: %d' % (baseline))\n",
    "    AllAcc[(baseline-10)/10] = np.zeros([NofAlgorithms, end - baseline])\n",
    "    AllRtim[(baseline-10)/10] = np.zeros([NofAlgorithms, end - baseline])\n",
    "    # AllObj[(baseline-10)/10] = np.zeros([NofAlgorithms, end - baseline])\n",
    "    Obj = np.zeros([NofAlgorithms, end - baseline])\n",
    "\n",
    "    for ImageI in range(start, end - baseline):\n",
    "        PT1 = np.copy(HouseData[ImageI])\n",
    "        PT2 = np.copy(HouseData[ImageI+baseline])\n",
    "        NofNodes = 30\n",
    "        gTruth = np.random.permutation(NofNodes)\n",
    "        PT1 = PT1[gTruth, :]\n",
    "        PF1 = np.zeros([NofNodes,1])\n",
    "        PF2 = np.zeros([NofNodes,2])\n",
    "        MG1 = FB.MatchingGraph(PT1[0:NofNodes], PF1[0:NofNodes])\n",
    "        MG2 = FB.MatchingGraph(PT2[0:NofNodes], PF2[0:NofNodes])\n",
    "        \n",
    "        [G, FName] = FB.ConstructMatchingModel(MG1, MG2, Type, True, False)\n",
    "        # G2 = FB.ConstructMatchingModel(MG1, MG2, Type, False, True)\n",
    "        [Gvis, FName] = FB.ConstructMatchingModel(MG1, MG2, Type, True, False)\n",
    "        G.SetVerbose(False)\n",
    "\n",
    "        # Our results 1\n",
    "        res1 = FB.BaBSolver(G, 30, 10, 0.005, False)\n",
    "        AllAcc[(baseline-10)/10][0][ImageI] = ComputeAccurancy(res1.Decode, gTruth, NofNodes)\n",
    "        AllRtim[(baseline-10)/10][0][ImageI] = res1.Time\n",
    "        Obj[0][ImageI] = res1.Value\n",
    "        #end Our results 1\n",
    "        \n",
    "        # BCA\n",
    "        resBag = eng.runBcagm(FName, nargout=3)\n",
    "        AllAcc[(baseline-10)/10][2][ImageI] = ComputeAccurancy(resBag[1][0], gTruth, NofNodes)\n",
    "        AllRtim[(baseline-10)/10][2][ImageI] = resBag[0]\n",
    "        cDecode = FB.intArray(NofNodes)\n",
    "        for i in range(NofNodes):\n",
    "            cDecode[i] = int(resBag[1][0][i])\n",
    "        Obj[2][ImageI] = Gvis.ComputeObj(cDecode)\n",
    "        #end BCA\n",
    "        \n",
    "        # BCA-MP\n",
    "        resBagMP = eng.runBcagmQuad1(FName, 1,nargout=3)\n",
    "        AllAcc[(baseline-10)/10][3][ImageI] = ComputeAccurancy(resBagMP[1][0], gTruth, NofNodes)\n",
    "        AllRtim[(baseline-10)/10][3][ImageI] = resBagMP[0]\n",
    "        for i in range(NofNodes):\n",
    "            cDecode[i] = int(resBagMP[1][0][i])\n",
    "        Obj[3][ImageI] = Gvis.ComputeObj(cDecode)\n",
    "        #end BCA-MP\n",
    "        \n",
    "        # BCA-IPFP\n",
    "        resBagIPFP = eng.runBcagmQuad1(FName, 2,nargout=3)\n",
    "        AllAcc[(baseline-10)/10][4][ImageI] = ComputeAccurancy(resBagIPFP[1][0], gTruth, NofNodes)\n",
    "        AllRtim[(baseline-10)/10][4][ImageI] = resBagIPFP[0]\n",
    "        for i in range(NofNodes):\n",
    "            cDecode[i] = int(resBagIPFP[1][0][i])\n",
    "        Obj[4][ImageI] = Gvis.ComputeObj(cDecode)\n",
    "        #end BCA-IPFP\n",
    "        \n",
    "        # HGM\n",
    "        resHGM = eng.runHGM(FName, nargout=3)\n",
    "        AllAcc[(baseline-10)/10][5][ImageI] = ComputeAccurancy(resHGM[1][0], gTruth, NofNodes)\n",
    "        AllRtim[(baseline-10)/10][5][ImageI] = resHGM[0]\n",
    "        for i in range(NofNodes):\n",
    "            cDecode[i] = int(resHGM[1][0][i])\n",
    "        Obj[5][ImageI] = Gvis.ComputeObj(cDecode)\n",
    "        #end HGM\n",
    "        \n",
    "        # RRWHM\n",
    "        resRRWHM = eng.runRRWHM(FName, nargout=3)\n",
    "        #resRRWHM = eng.runBcagm(nargout=3)\n",
    "        AllAcc[(baseline-10)/10][6][ImageI] = ComputeAccurancy(resRRWHM[1][0], gTruth, NofNodes)\n",
    "        AllRtim[(baseline-10)/10][6][ImageI] = resRRWHM[0]\n",
    "        for i in range(NofNodes):\n",
    "            cDecode[i] = int(resRRWHM[1][0][i])\n",
    "        Obj[6][ImageI] = Gvis.ComputeObj(cDecode)\n",
    "        #end RRWHM\n",
    "        \n",
    "        # TensorMatching\n",
    "        resTM = eng.runTensorMatching(FName, nargout=3)\n",
    "        AllAcc[(baseline-10)/10][7][ImageI] = ComputeAccurancy(resTM[1][0], gTruth, NofNodes)\n",
    "        AllRtim[(baseline-10)/10][7][ImageI] = resTM[0]\n",
    "        for i in range(NofNodes):\n",
    "            cDecode[i] = int(resTM[1][0][i])\n",
    "        Obj[7][ImageI] = Gvis.ComputeObj(cDecode)\n",
    "        #end TensorMatching\n",
    "        \n",
    "        # Our-BCA Results\n",
    "        start_time = time.time()\n",
    "        ResForBca = sio.loadmat(FName)\n",
    "        X0 = np.zeros(NofNodes)\n",
    "        X0Vec = res1.Decode\n",
    "        for i in xrange(NofNodes):\n",
    "            X0[i] = X0Vec[i]\n",
    "        ResForBca['X0'] = X0\n",
    "        sio.savemat(FName, ResForBca)\n",
    "        resOursBCA = eng.runBcagm(FName, nargout=3)\n",
    "        time_dur = time.time() - start_time\n",
    "\n",
    "        cDecode = FB.intArray(NofNodes)\n",
    "        #print(resOursBCA[1][0])\n",
    "        for i in range(NofNodes):\n",
    "            cDecode[i] = int(resOursBCA[1][0][i])\n",
    "        if res1.Value < Gvis.ComputeObj(cDecode):\n",
    "            AllAcc[(baseline-10)/10][1][ImageI] = ComputeAccurancy(resOursBCA[1][0], gTruth, NofNodes)\n",
    "            Obj[1][ImageI] = Gvis.ComputeObj(cDecode)\n",
    "        else:\n",
    "            AllAcc[(baseline-10)/10][1][ImageI] = ComputeAccurancy(res1.Decode, gTruth, NofNodes)\n",
    "            Obj[1][ImageI] = res1.Value\n",
    "        AllRtim[(baseline-10)/10][1][ImageI] = time_dur + res1.Time\n",
    "        #end Our-BCA Results\n",
    "        \n",
    "        MaxObj = np.max(Obj[:,ImageI])\n",
    "        Obj[:,ImageI] /= MaxObj\n",
    "        AllObj[(baseline-10)/10] = Obj\n",
    "        #for ai in xrange(NofAlgorithms):\n",
    "        #    print('%s Accuracy %f Running Time %f Obj %f' %(AlgorithmNames[ai], \n",
    "        #                                                     AllAcc[(baseline-10)/10][ai][ImageI],\n",
    "        #                                                    AllRtim[(baseline-10)/10][ai][ImageI],\n",
    "        #                                                   AllObj[(baseline-10)/10][ai][ImageI]))\n",
    "        #print(' Finished Frame: %d ----------------------' % (ImageI) )\n",
    "        #end inner loop\n",
    "    for ai in xrange(NofAlgorithms):\n",
    "        MeanAcc[(baseline-10)/10][ai] = np.mean(AllAcc[(baseline-10)/10][ai])\n",
    "        MeanRtime[(baseline-10)/10][ai] = np.mean(AllRtim[(baseline-10)/10][ai])\n",
    "        # MeanObj[(baseline-10)/10][ai] = np.mean(Obj[ai])\n",
    "        MeanObj[(baseline-10)/10][ai] = np.mean(AllObj[(baseline-10)/10][ai])\n",
    "        print('%s Accuracy %f Running Time %f Obj %f' %(AlgorithmNames[ai], \n",
    "                                                        MeanAcc[(baseline-10)/10][ai],\n",
    "                                                        MeanRtime[(baseline-10)/10][ai],\n",
    "                                                        MeanObj[(baseline-10)/10][ai]))\n",
    "    print('××××××××××××××××××××')\n",
    "    #end outer loop"
   ]
  },
  {
   "cell_type": "code",
   "execution_count": 5,
   "metadata": {},
   "outputs": [
    {
     "data": {
      "text/plain": [
       "array([ 1.        ,  1.        ,  1.        ,  1.        ,  1.        ,\n        1.        ,  0.99837398,  0.99354839,  0.98730159,  0.95454545])"
      ]
     },
     "execution_count": 5,
     "metadata": {},
     "output_type": "execute_result"
    },
    {
     "data": {
      "image/png": "[encoded data removed]",
      "text/plain": [
       "<matplotlib.figure.Figure at 0x7fcc5ce71490>"
      ]
     },
     "metadata": {},
     "output_type": "display_data"
    },
    {
     "data": {
      "text/plain": [
       "<matplotlib.figure.Figure at 0x7fcc43773810>"
      ]
     },
     "execution_count": 0,
     "metadata": {},
     "output_type": "execute_result"
    },
    {
     "data": {
      "image/png": "[encoded data removed]",
      "text/plain": [
       "<matplotlib.figure.Figure at 0x7fcc43785510>"
      ]
     },
     "metadata": {},
     "output_type": "display_data"
    },
    {
     "data": {
      "image/png": "[encoded data removed]",
      "text/plain": [
       "<matplotlib.figure.Figure at 0x7fcc432c3e50>"
      ]
     },
     "metadata": {},
     "output_type": "display_data"
    }
   ],
   "source": [
    "import matplotlib.pyplot as plt\n",
    "import matplotlib\n",
    "import pylab\n",
    "%matplotlib inline\n",
    "\n",
    "Colors = [[ 0.        ,  0.5       , 0.5        ,  1.        ],   #1\n",
    "          # [ 1.        ,  0.00196078,  1.        ,  1.        ],   #2\n",
    "          [ 0.        ,  0.50392157,  1.        ,  1.        ],   #3\n",
    "          [ 0.08538899,  1.        ,  0.88235294,  1.        ],   #4\n",
    "          [ 0.49019608,  1.        ,  0.47754586,  1.        ],   #5\n",
    "          [ 0.5       ,  1.        ,  0.17273877,  1.        ],   #6\n",
    "          [ 1.        ,  0.58169935,  0.        ,  1.        ],   #7\n",
    "          [ 1.        ,  0.11692084,  0.        ,  1.        ],   #8\n",
    "          [ 1.        ,  0.        ,  1.        ,  1.        ]];  #9\n",
    "Seq = [0, 1, 2, 3, 4, 5, 6, 7]\n",
    "AlgorithmNames=['Ours', 'Ours-BCA', 'BCA', 'BCA-MP', 'BCA-IPFP', 'HGM', 'RRWHM', 'TM']\n",
    "Markers = ['o', '+', 'v', 'x', 'd', 'h', 'D', 'H']\n",
    "\n",
    "figData = pylab.figure(num=None, figsize=(4, 3), dpi=80, facecolor='w', edgecolor='k')\n",
    "ax = pylab.gca()\n",
    "\n",
    "matplotlib.rc('font',family='Times New Roman')\n",
    "\n",
    "\n",
    "#plt.figure(num=None, figsize=(4, 3), dpi=80, facecolor='w', edgecolor='k')\n",
    "\n",
    "for ai in xrange(NofAlgorithms):\n",
    "    pylab.plot(range(10,101,10), MeanAcc[:,Seq[ai]], label=AlgorithmNames[Seq[ai]], \n",
    "             color=Colors[Seq[ai]], marker=Markers[Seq[ai]])\n",
    "pylab.ylim([0,1.05])\n",
    "pylab.grid(True)\n",
    "\n",
    "pylab.ylabel('Accuracy')\n",
    "pylab.xlabel('Seperation')\n",
    "\n",
    "\n",
    "figLegend = pylab.figure(figsize = (11.7,0.4))\n",
    "pylab.figlegend(*ax.get_legend_handles_labels(), loc = 'upper center',  ncol=9, shadow=True, fancybox=True)\n",
    "figData.savefig('results/'+Type+'/TripletsOnly/House_Acc.pdf')\n",
    "#figLegend.savefig(\"legend.pdf\")\n",
    "figLegend.show()\n",
    "\n",
    "#plt.legend(shadow=True, fancybox=True,loc='upper center', bbox_to_anchor=(0.5,-0.25), ncol=9)\n",
    "#plt.savefig('House_ACC.pdf')    # <-- loses transparency\n",
    "\n",
    "StoreForPlot ={}\n",
    "StoreForPlot['Accuracy'] = MeanAcc\n",
    "StoreForPlot['Time'] = MeanRtime\n",
    "StoreForPlot['Obj'] = MeanObj\n",
    "\n",
    "sio.savemat('results/'+Type+'/TripletsOnly/PlotData.mat', StoreForPlot)\n",
    "\n",
    "plt.figure(num=None, figsize=(4, 3), dpi=80, facecolor='w', edgecolor='k')\n",
    "\n",
    "\n",
    "for ai in xrange(NofAlgorithms):\n",
    "    if(AlgorithmNames[Seq[ai]] == 'Ours')|(AlgorithmNames[Seq[ai]] == 'Ours-BCA'):\n",
    "        continue\n",
    "    plt.plot(range(10,101,10), MeanObj[:,Seq[ai]], label=AlgorithmNames[Seq[ai]], \n",
    "             color=Colors[Seq[ai]], marker=Markers[Seq[ai]])\n",
    "plt.ylim([0.25,1.02])\n",
    "plt.ylabel('Obj. Value')\n",
    "plt.xlabel('Seperation')\n",
    "plt.grid(True)\n",
    "plt.savefig('results/'+Type+'/TripletsOnly/House_Obj.pdf')    # <-- loses transparency\n",
    "\n",
    "\n",
    "plt.figure(num=None, figsize=(4, 3), dpi=80, facecolor='w', edgecolor='k')\n",
    "\n",
    "\n",
    "for ai in xrange(NofAlgorithms):\n",
    "    plt.plot(range(10,101,10), MeanRtime[:,Seq[ai]], label=AlgorithmNames[Seq[ai]], \n",
    "             color=Colors[Seq[ai]], marker=Markers[Seq[ai]], linewidth=1.25)\n",
    "\n",
    "plt.ylabel('Seperation')\n",
    "plt.xlabel('#Outliers')\n",
    "\n",
    "plt.grid(True)\n",
    "plt.savefig('results/'+Type+'/TripletsOnly/Car_Time.pdf')    # <-- loses transparency\n",
    "\n",
    "MeanAcc[:,0]"
   ]
  },
  {
   "cell_type": "code",
   "execution_count": null,
   "metadata": {},
   "outputs": [],
   "source": [
    "PT1 = np.copy(HouseData[ImageI])\n",
    "PT2 = np.copy(HouseData[ImageI+baseline])\n",
    "NofNodes = 30\n",
    "gTruth = np.random.permutation(NofNodes)\n",
    "PT1 = PT1[gTruth, :]\n",
    "PF1 = np.zeros([NofNodes,1])\n",
    "PF2 = np.zeros([NofNodes,2])\n",
    "MG1 = FB.MatchingGraph(PT1[0:NofNodes], PF1[0:NofNodes])\n",
    "MG2 = FB.MatchingGraph(PT2[0:NofNodes], PF2[0:NofNodes])\n",
    "G = FB.ConstructMatchingModel(MG1, MG2, 'cmu', True, False)\n",
    "res1 = FB.BaBSolver(G, 30, 10, 0.005, True)"
   ]
  },
  {
   "cell_type": "code",
   "execution_count": null,
   "metadata": {},
   "outputs": [],
   "source": [
    ""
   ]
  }
 ],
 "metadata": {
  "anaconda-cloud": {},
  "celltoolbar": "Slideshow",
  "kernelspec": {
   "display_name": "Python 2",
   "language": "python",
   "name": "python2"
  },
  "language_info": {
   "codemirror_mode": {
    "name": "ipython",
    "version": 2.0
   },
   "file_extension": ".py",
   "mimetype": "text/x-python",
   "name": "python",
   "nbconvert_exporter": "python",
   "pygments_lexer": "ipython2"
  }
 },
 "nbformat": 4,
 "nbformat_minor": 0
}