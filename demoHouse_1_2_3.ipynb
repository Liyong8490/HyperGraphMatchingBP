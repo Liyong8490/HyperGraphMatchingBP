{
 "cells": [
  {
   "cell_type": "code",
   "execution_count": 1,
   "metadata": {
    "collapsed": false,
    "slideshow": {
     "slide_type": "slide"
    }
   },
   "outputs": [],
   "source": [
    "import numpy as np\n",
    "import FactorBP as FB\n",
    "import scipy.io as sio\n",
    "import matlab.engine\n",
    "import time\n",
    "eng = matlab.engine.start_matlab()"
   ]
  },
  {
   "cell_type": "code",
   "execution_count": 2,
   "metadata": {
    "collapsed": false,
    "scrolled": true
   },
   "outputs": [
    {
     "name": "stdout",
     "output_type": "stream",
     "text": [
      " Start baseline: 10\n"
     ]
    },
    {
     "name": "stderr",
     "output_type": "stream",
     "text": [
      "FactorBP/FactorGraph.py:399: DeprecationWarning: PyArray_FromDims: use PyArray_SimpleNew.\n  def GetDecode(self): return _FactorGraph.CFactorGraph_GetDecode(self)\nFactorBP/FactorGraph.py:399: DeprecationWarning: PyArray_FromDimsAndDataAndDescr: use PyArray_NewFromDescr.\n  def GetDecode(self): return _FactorGraph.CFactorGraph_GetDecode(self)\nFactorBP/FactorGraph.py:399: DeprecationWarning: PyArray_FromDims: use PyArray_SimpleNew.\n  def GetDecode(self): return _FactorGraph.CFactorGraph_GetDecode(self)\nFactorBP/FactorGraph.py:399: DeprecationWarning: PyArray_FromDimsAndDataAndDescr: use PyArray_NewFromDescr.\n  def GetDecode(self): return _FactorGraph.CFactorGraph_GetDecode(self)\n"
     ]
    },
    {
     "name": "stderr",
     "output_type": "stream",
     "text": [
      "FactorBP/FactorGraph.py:399: DeprecationWarning: PyArray_FromDims: use PyArray_SimpleNew.\n  def GetDecode(self): return _FactorGraph.CFactorGraph_GetDecode(self)\nFactorBP/FactorGraph.py:399: DeprecationWarning: PyArray_FromDimsAndDataAndDescr: use PyArray_NewFromDescr.\n  def GetDecode(self): return _FactorGraph.CFactorGraph_GetDecode(self)\nFactorBP/FactorGraph.py:399: DeprecationWarning: PyArray_FromDims: use PyArray_SimpleNew.\n  def GetDecode(self): return _FactorGraph.CFactorGraph_GetDecode(self)\nFactorBP/FactorGraph.py:399: DeprecationWarning: PyArray_FromDimsAndDataAndDescr: use PyArray_NewFromDescr.\n  def GetDecode(self): return _FactorGraph.CFactorGraph_GetDecode(self)\n"
     ]
    },
    {
     "name": "stderr",
     "output_type": "stream",
     "text": [
      "FactorBP/FactorGraph.py:399: DeprecationWarning: PyArray_FromDims: use PyArray_SimpleNew.\n  def GetDecode(self): return _FactorGraph.CFactorGraph_GetDecode(self)\nFactorBP/FactorGraph.py:399: DeprecationWarning: PyArray_FromDimsAndDataAndDescr: use PyArray_NewFromDescr.\n  def GetDecode(self): return _FactorGraph.CFactorGraph_GetDecode(self)\nFactorBP/FactorGraph.py:399: DeprecationWarning: PyArray_FromDims: use PyArray_SimpleNew.\n  def GetDecode(self): return _FactorGraph.CFactorGraph_GetDecode(self)\nFactorBP/FactorGraph.py:399: DeprecationWarning: PyArray_FromDimsAndDataAndDescr: use PyArray_NewFromDescr.\n  def GetDecode(self): return _FactorGraph.CFactorGraph_GetDecode(self)\n"
     ]
    },
    {
     "name": "stderr",
     "output_type": "stream",
     "text": [
      "FactorBP/FactorGraph.py:399: DeprecationWarning: PyArray_FromDims: use PyArray_SimpleNew.\n  def GetDecode(self): return _FactorGraph.CFactorGraph_GetDecode(self)\nFactorBP/FactorGraph.py:399: DeprecationWarning: PyArray_FromDimsAndDataAndDescr: use PyArray_NewFromDescr.\n  def GetDecode(self): return _FactorGraph.CFactorGraph_GetDecode(self)\nFactorBP/FactorGraph.py:399: DeprecationWarning: PyArray_FromDims: use PyArray_SimpleNew.\n  def GetDecode(self): return _FactorGraph.CFactorGraph_GetDecode(self)\nFactorBP/FactorGraph.py:399: DeprecationWarning: PyArray_FromDimsAndDataAndDescr: use PyArray_NewFromDescr.\n  def GetDecode(self): return _FactorGraph.CFactorGraph_GetDecode(self)\n"
     ]
    },
    {
     "name": "stderr",
     "output_type": "stream",
     "text": [
      "FactorBP/FactorGraph.py:399: DeprecationWarning: PyArray_FromDims: use PyArray_SimpleNew.\n  def GetDecode(self): return _FactorGraph.CFactorGraph_GetDecode(self)\nFactorBP/FactorGraph.py:399: DeprecationWarning: PyArray_FromDimsAndDataAndDescr: use PyArray_NewFromDescr.\n  def GetDecode(self): return _FactorGraph.CFactorGraph_GetDecode(self)\nFactorBP/FactorGraph.py:399: DeprecationWarning: PyArray_FromDims: use PyArray_SimpleNew.\n  def GetDecode(self): return _FactorGraph.CFactorGraph_GetDecode(self)\nFactorBP/FactorGraph.py:399: DeprecationWarning: PyArray_FromDimsAndDataAndDescr: use PyArray_NewFromDescr.\n  def GetDecode(self): return _FactorGraph.CFactorGraph_GetDecode(self)\n"
     ]
    },
    {
     "name": "stderr",
     "output_type": "stream",
     "text": [
      "FactorBP/FactorGraph.py:399: DeprecationWarning: PyArray_FromDims: use PyArray_SimpleNew.\n  def GetDecode(self): return _FactorGraph.CFactorGraph_GetDecode(self)\nFactorBP/FactorGraph.py:399: DeprecationWarning: PyArray_FromDimsAndDataAndDescr: use PyArray_NewFromDescr.\n  def GetDecode(self): return _FactorGraph.CFactorGraph_GetDecode(self)\nFactorBP/FactorGraph.py:399: DeprecationWarning: PyArray_FromDims: use PyArray_SimpleNew.\n  def GetDecode(self): return _FactorGraph.CFactorGraph_GetDecode(self)\nFactorBP/FactorGraph.py:399: DeprecationWarning: PyArray_FromDimsAndDataAndDescr: use PyArray_NewFromDescr.\n  def GetDecode(self): return _FactorGraph.CFactorGraph_GetDecode(self)\n"
     ]
    },
    {
     "name": "stderr",
     "output_type": "stream",
     "text": [
      "FactorBP/FactorGraph.py:399: DeprecationWarning: PyArray_FromDims: use PyArray_SimpleNew.\n  def GetDecode(self): return _FactorGraph.CFactorGraph_GetDecode(self)\nFactorBP/FactorGraph.py:399: DeprecationWarning: PyArray_FromDimsAndDataAndDescr: use PyArray_NewFromDescr.\n  def GetDecode(self): return _FactorGraph.CFactorGraph_GetDecode(self)\nFactorBP/FactorGraph.py:399: DeprecationWarning: PyArray_FromDims: use PyArray_SimpleNew.\n  def GetDecode(self): return _FactorGraph.CFactorGraph_GetDecode(self)\nFactorBP/FactorGraph.py:399: DeprecationWarning: PyArray_FromDimsAndDataAndDescr: use PyArray_NewFromDescr.\n  def GetDecode(self): return _FactorGraph.CFactorGraph_GetDecode(self)\n"
     ]
    },
    {
     "name": "stderr",
     "output_type": "stream",
     "text": [
      "FactorBP/FactorGraph.py:399: DeprecationWarning: PyArray_FromDims: use PyArray_SimpleNew.\n  def GetDecode(self): return _FactorGraph.CFactorGraph_GetDecode(self)\nFactorBP/FactorGraph.py:399: DeprecationWarning: PyArray_FromDimsAndDataAndDescr: use PyArray_NewFromDescr.\n  def GetDecode(self): return _FactorGraph.CFactorGraph_GetDecode(self)\nFactorBP/FactorGraph.py:399: DeprecationWarning: PyArray_FromDims: use PyArray_SimpleNew.\n  def GetDecode(self): return _FactorGraph.CFactorGraph_GetDecode(self)\nFactorBP/FactorGraph.py:399: DeprecationWarning: PyArray_FromDimsAndDataAndDescr: use PyArray_NewFromDescr.\n  def GetDecode(self): return _FactorGraph.CFactorGraph_GetDecode(self)\n"
     ]
    },
    {
     "name": "stderr",
     "output_type": "stream",
     "text": [
      "FactorBP/FactorGraph.py:399: DeprecationWarning: PyArray_FromDims: use PyArray_SimpleNew.\n  def GetDecode(self): return _FactorGraph.CFactorGraph_GetDecode(self)\nFactorBP/FactorGraph.py:399: DeprecationWarning: PyArray_FromDimsAndDataAndDescr: use PyArray_NewFromDescr.\n  def GetDecode(self): return _FactorGraph.CFactorGraph_GetDecode(self)\nFactorBP/FactorGraph.py:399: DeprecationWarning: PyArray_FromDims: use PyArray_SimpleNew.\n  def GetDecode(self): return _FactorGraph.CFactorGraph_GetDecode(self)\nFactorBP/FactorGraph.py:399: DeprecationWarning: PyArray_FromDimsAndDataAndDescr: use PyArray_NewFromDescr.\n  def GetDecode(self): return _FactorGraph.CFactorGraph_GetDecode(self)\n"
     ]
    },
    {
     "name": "stderr",
     "output_type": "stream",
     "text": [
      "FactorBP/FactorGraph.py:399: DeprecationWarning: PyArray_FromDims: use PyArray_SimpleNew.\n  def GetDecode(self): return _FactorGraph.CFactorGraph_GetDecode(self)\nFactorBP/FactorGraph.py:399: DeprecationWarning: PyArray_FromDimsAndDataAndDescr: use PyArray_NewFromDescr.\n  def GetDecode(self): return _FactorGraph.CFactorGraph_GetDecode(self)\nFactorBP/FactorGraph.py:399: DeprecationWarning: PyArray_FromDims: use PyArray_SimpleNew.\n  def GetDecode(self): return _FactorGraph.CFactorGraph_GetDecode(self)\nFactorBP/FactorGraph.py:399: DeprecationWarning: PyArray_FromDimsAndDataAndDescr: use PyArray_NewFromDescr.\n  def GetDecode(self): return _FactorGraph.CFactorGraph_GetDecode(self)\n"
     ]
    },
    {
     "name": "stderr",
     "output_type": "stream",
     "text": [
      "FactorBP/FactorGraph.py:399: DeprecationWarning: PyArray_FromDims: use PyArray_SimpleNew.\n  def GetDecode(self): return _FactorGraph.CFactorGraph_GetDecode(self)\nFactorBP/FactorGraph.py:399: DeprecationWarning: PyArray_FromDimsAndDataAndDescr: use PyArray_NewFromDescr.\n  def GetDecode(self): return _FactorGraph.CFactorGraph_GetDecode(self)\nFactorBP/FactorGraph.py:399: DeprecationWarning: PyArray_FromDims: use PyArray_SimpleNew.\n  def GetDecode(self): return _FactorGraph.CFactorGraph_GetDecode(self)\nFactorBP/FactorGraph.py:399: DeprecationWarning: PyArray_FromDimsAndDataAndDescr: use PyArray_NewFromDescr.\n  def GetDecode(self): return _FactorGraph.CFactorGraph_GetDecode(self)\n"
     ]
    },
    {
     "name": "stderr",
     "output_type": "stream",
     "text": [
      "FactorBP/FactorGraph.py:399: DeprecationWarning: PyArray_FromDims: use PyArray_SimpleNew.\n  def GetDecode(self): return _FactorGraph.CFactorGraph_GetDecode(self)\nFactorBP/FactorGraph.py:399: DeprecationWarning: PyArray_FromDimsAndDataAndDescr: use PyArray_NewFromDescr.\n  def GetDecode(self): return _FactorGraph.CFactorGraph_GetDecode(self)\nFactorBP/FactorGraph.py:399: DeprecationWarning: PyArray_FromDims: use PyArray_SimpleNew.\n  def GetDecode(self): return _FactorGraph.CFactorGraph_GetDecode(self)\nFactorBP/FactorGraph.py:399: DeprecationWarning: PyArray_FromDimsAndDataAndDescr: use PyArray_NewFromDescr.\n  def GetDecode(self): return _FactorGraph.CFactorGraph_GetDecode(self)\n"
     ]
    },
    {
     "name": "stderr",
     "output_type": "stream",
     "text": [
      "FactorBP/FactorGraph.py:399: DeprecationWarning: PyArray_FromDims: use PyArray_SimpleNew.\n  def GetDecode(self): return _FactorGraph.CFactorGraph_GetDecode(self)\nFactorBP/FactorGraph.py:399: DeprecationWarning: PyArray_FromDimsAndDataAndDescr: use PyArray_NewFromDescr.\n  def GetDecode(self): return _FactorGraph.CFactorGraph_GetDecode(self)\nFactorBP/FactorGraph.py:399: DeprecationWarning: PyArray_FromDims: use PyArray_SimpleNew.\n  def GetDecode(self): return _FactorGraph.CFactorGraph_GetDecode(self)\nFactorBP/FactorGraph.py:399: DeprecationWarning: PyArray_FromDimsAndDataAndDescr: use PyArray_NewFromDescr.\n  def GetDecode(self): return _FactorGraph.CFactorGraph_GetDecode(self)\n"
     ]
    },
    {
     "name": "stderr",
     "output_type": "stream",
     "text": [
      "FactorBP/FactorGraph.py:399: DeprecationWarning: PyArray_FromDims: use PyArray_SimpleNew.\n  def GetDecode(self): return _FactorGraph.CFactorGraph_GetDecode(self)\nFactorBP/FactorGraph.py:399: DeprecationWarning: PyArray_FromDimsAndDataAndDescr: use PyArray_NewFromDescr.\n  def GetDecode(self): return _FactorGraph.CFactorGraph_GetDecode(self)\nFactorBP/FactorGraph.py:399: DeprecationWarning: PyArray_FromDims: use PyArray_SimpleNew.\n  def GetDecode(self): return _FactorGraph.CFactorGraph_GetDecode(self)\nFactorBP/FactorGraph.py:399: DeprecationWarning: PyArray_FromDimsAndDataAndDescr: use PyArray_NewFromDescr.\n  def GetDecode(self): return _FactorGraph.CFactorGraph_GetDecode(self)\n"
     ]
    },
    {
     "name": "stderr",
     "output_type": "stream",
     "text": [
      "FactorBP/FactorGraph.py:399: DeprecationWarning: PyArray_FromDims: use PyArray_SimpleNew.\n  def GetDecode(self): return _FactorGraph.CFactorGraph_GetDecode(self)\nFactorBP/FactorGraph.py:399: DeprecationWarning: PyArray_FromDimsAndDataAndDescr: use PyArray_NewFromDescr.\n  def GetDecode(self): return _FactorGraph.CFactorGraph_GetDecode(self)\nFactorBP/FactorGraph.py:399: DeprecationWarning: PyArray_FromDims: use PyArray_SimpleNew.\n  def GetDecode(self): return _FactorGraph.CFactorGraph_GetDecode(self)\nFactorBP/FactorGraph.py:399: DeprecationWarning: PyArray_FromDimsAndDataAndDescr: use PyArray_NewFromDescr.\n  def GetDecode(self): return _FactorGraph.CFactorGraph_GetDecode(self)\n"
     ]
    },
    {
     "name": "stderr",
     "output_type": "stream",
     "text": [
      "FactorBP/FactorGraph.py:399: DeprecationWarning: PyArray_FromDims: use PyArray_SimpleNew.\n  def GetDecode(self): return _FactorGraph.CFactorGraph_GetDecode(self)\nFactorBP/FactorGraph.py:399: DeprecationWarning: PyArray_FromDimsAndDataAndDescr: use PyArray_NewFromDescr.\n  def GetDecode(self): return _FactorGraph.CFactorGraph_GetDecode(self)\nFactorBP/FactorGraph.py:399: DeprecationWarning: PyArray_FromDims: use PyArray_SimpleNew.\n  def GetDecode(self): return _FactorGraph.CFactorGraph_GetDecode(self)\nFactorBP/FactorGraph.py:399: DeprecationWarning: PyArray_FromDimsAndDataAndDescr: use PyArray_NewFromDescr.\n  def GetDecode(self): return _FactorGraph.CFactorGraph_GetDecode(self)\n"
     ]
    },
    {
     "name": "stderr",
     "output_type": "stream",
     "text": [
      "FactorBP/FactorGraph.py:399: DeprecationWarning: PyArray_FromDims: use PyArray_SimpleNew.\n  def GetDecode(self): return _FactorGraph.CFactorGraph_GetDecode(self)\nFactorBP/FactorGraph.py:399: DeprecationWarning: PyArray_FromDimsAndDataAndDescr: use PyArray_NewFromDescr.\n  def GetDecode(self): return _FactorGraph.CFactorGraph_GetDecode(self)\nFactorBP/FactorGraph.py:399: DeprecationWarning: PyArray_FromDims: use PyArray_SimpleNew.\n  def GetDecode(self): return _FactorGraph.CFactorGraph_GetDecode(self)\nFactorBP/FactorGraph.py:399: DeprecationWarning: PyArray_FromDimsAndDataAndDescr: use PyArray_NewFromDescr.\n  def GetDecode(self): return _FactorGraph.CFactorGraph_GetDecode(self)\n"
     ]
    },
    {
     "name": "stderr",
     "output_type": "stream",
     "text": [
      "FactorBP/FactorGraph.py:399: DeprecationWarning: PyArray_FromDims: use PyArray_SimpleNew.\n  def GetDecode(self): return _FactorGraph.CFactorGraph_GetDecode(self)\nFactorBP/FactorGraph.py:399: DeprecationWarning: PyArray_FromDimsAndDataAndDescr: use PyArray_NewFromDescr.\n  def GetDecode(self): return _FactorGraph.CFactorGraph_GetDecode(self)\nFactorBP/FactorGraph.py:399: DeprecationWarning: PyArray_FromDims: use PyArray_SimpleNew.\n  def GetDecode(self): return _FactorGraph.CFactorGraph_GetDecode(self)\nFactorBP/FactorGraph.py:399: DeprecationWarning: PyArray_FromDimsAndDataAndDescr: use PyArray_NewFromDescr.\n  def GetDecode(self): return _FactorGraph.CFactorGraph_GetDecode(self)\n"
     ]
    },
    {
     "name": "stderr",
     "output_type": "stream",
     "text": [
      "FactorBP/FactorGraph.py:399: DeprecationWarning: PyArray_FromDims: use PyArray_SimpleNew.\n  def GetDecode(self): return _FactorGraph.CFactorGraph_GetDecode(self)\nFactorBP/FactorGraph.py:399: DeprecationWarning: PyArray_FromDimsAndDataAndDescr: use PyArray_NewFromDescr.\n  def GetDecode(self): return _FactorGraph.CFactorGraph_GetDecode(self)\nFactorBP/FactorGraph.py:399: DeprecationWarning: PyArray_FromDims: use PyArray_SimpleNew.\n  def GetDecode(self): return _FactorGraph.CFactorGraph_GetDecode(self)\nFactorBP/FactorGraph.py:399: DeprecationWarning: PyArray_FromDimsAndDataAndDescr: use PyArray_NewFromDescr.\n  def GetDecode(self): return _FactorGraph.CFactorGraph_GetDecode(self)\n"
     ]
    },
    {
     "name": "stderr",
     "output_type": "stream",
     "text": [
      "FactorBP/FactorGraph.py:399: DeprecationWarning: PyArray_FromDims: use PyArray_SimpleNew.\n  def GetDecode(self): return _FactorGraph.CFactorGraph_GetDecode(self)\nFactorBP/FactorGraph.py:399: DeprecationWarning: PyArray_FromDimsAndDataAndDescr: use PyArray_NewFromDescr.\n  def GetDecode(self): return _FactorGraph.CFactorGraph_GetDecode(self)\nFactorBP/FactorGraph.py:399: DeprecationWarning: PyArray_FromDims: use PyArray_SimpleNew.\n  def GetDecode(self): return _FactorGraph.CFactorGraph_GetDecode(self)\nFactorBP/FactorGraph.py:399: DeprecationWarning: PyArray_FromDimsAndDataAndDescr: use PyArray_NewFromDescr.\n  def GetDecode(self): return _FactorGraph.CFactorGraph_GetDecode(self)\n"
     ]
    },
    {
     "name": "stderr",
     "output_type": "stream",
     "text": [
      "FactorBP/FactorGraph.py:399: DeprecationWarning: PyArray_FromDims: use PyArray_SimpleNew.\n  def GetDecode(self): return _FactorGraph.CFactorGraph_GetDecode(self)\nFactorBP/FactorGraph.py:399: DeprecationWarning: PyArray_FromDimsAndDataAndDescr: use PyArray_NewFromDescr.\n  def GetDecode(self): return _FactorGraph.CFactorGraph_GetDecode(self)\nFactorBP/FactorGraph.py:399: DeprecationWarning: PyArray_FromDims: use PyArray_SimpleNew.\n  def GetDecode(self): return _FactorGraph.CFactorGraph_GetDecode(self)\nFactorBP/FactorGraph.py:399: DeprecationWarning: PyArray_FromDimsAndDataAndDescr: use PyArray_NewFromDescr.\n  def GetDecode(self): return _FactorGraph.CFactorGraph_GetDecode(self)\n"
     ]
    },
    {
     "name": "stderr",
     "output_type": "stream",
     "text": [
      "FactorBP/FactorGraph.py:399: DeprecationWarning: PyArray_FromDims: use PyArray_SimpleNew.\n  def GetDecode(self): return _FactorGraph.CFactorGraph_GetDecode(self)\nFactorBP/FactorGraph.py:399: DeprecationWarning: PyArray_FromDimsAndDataAndDescr: use PyArray_NewFromDescr.\n  def GetDecode(self): return _FactorGraph.CFactorGraph_GetDecode(self)\nFactorBP/FactorGraph.py:399: DeprecationWarning: PyArray_FromDims: use PyArray_SimpleNew.\n  def GetDecode(self): return _FactorGraph.CFactorGraph_GetDecode(self)\nFactorBP/FactorGraph.py:399: DeprecationWarning: PyArray_FromDimsAndDataAndDescr: use PyArray_NewFromDescr.\n  def GetDecode(self): return _FactorGraph.CFactorGraph_GetDecode(self)\n"
     ]
    },
    {
     "name": "stderr",
     "output_type": "stream",
     "text": [
      "FactorBP/FactorGraph.py:399: DeprecationWarning: PyArray_FromDims: use PyArray_SimpleNew.\n  def GetDecode(self): return _FactorGraph.CFactorGraph_GetDecode(self)\nFactorBP/FactorGraph.py:399: DeprecationWarning: PyArray_FromDimsAndDataAndDescr: use PyArray_NewFromDescr.\n  def GetDecode(self): return _FactorGraph.CFactorGraph_GetDecode(self)\nFactorBP/FactorGraph.py:399: DeprecationWarning: PyArray_FromDims: use PyArray_SimpleNew.\n  def GetDecode(self): return _FactorGraph.CFactorGraph_GetDecode(self)\nFactorBP/FactorGraph.py:399: DeprecationWarning: PyArray_FromDimsAndDataAndDescr: use PyArray_NewFromDescr.\n  def GetDecode(self): return _FactorGraph.CFactorGraph_GetDecode(self)\n"
     ]
    },
    {
     "name": "stderr",
     "output_type": "stream",
     "text": [
      "FactorBP/FactorGraph.py:399: DeprecationWarning: PyArray_FromDims: use PyArray_SimpleNew.\n  def GetDecode(self): return _FactorGraph.CFactorGraph_GetDecode(self)\nFactorBP/FactorGraph.py:399: DeprecationWarning: PyArray_FromDimsAndDataAndDescr: use PyArray_NewFromDescr.\n  def GetDecode(self): return _FactorGraph.CFactorGraph_GetDecode(self)\nFactorBP/FactorGraph.py:399: DeprecationWarning: PyArray_FromDims: use PyArray_SimpleNew.\n  def GetDecode(self): return _FactorGraph.CFactorGraph_GetDecode(self)\nFactorBP/FactorGraph.py:399: DeprecationWarning: PyArray_FromDimsAndDataAndDescr: use PyArray_NewFromDescr.\n  def GetDecode(self): return _FactorGraph.CFactorGraph_GetDecode(self)\n"
     ]
    },
    {
     "name": "stderr",
     "output_type": "stream",
     "text": [
      "FactorBP/FactorGraph.py:399: DeprecationWarning: PyArray_FromDims: use PyArray_SimpleNew.\n  def GetDecode(self): return _FactorGraph.CFactorGraph_GetDecode(self)\nFactorBP/FactorGraph.py:399: DeprecationWarning: PyArray_FromDimsAndDataAndDescr: use PyArray_NewFromDescr.\n  def GetDecode(self): return _FactorGraph.CFactorGraph_GetDecode(self)\nFactorBP/FactorGraph.py:399: DeprecationWarning: PyArray_FromDims: use PyArray_SimpleNew.\n  def GetDecode(self): return _FactorGraph.CFactorGraph_GetDecode(self)\nFactorBP/FactorGraph.py:399: DeprecationWarning: PyArray_FromDimsAndDataAndDescr: use PyArray_NewFromDescr.\n  def GetDecode(self): return _FactorGraph.CFactorGraph_GetDecode(self)\n"
     ]
    },
    {
     "name": "stderr",
     "output_type": "stream",
     "text": [
      "FactorBP/FactorGraph.py:399: DeprecationWarning: PyArray_FromDims: use PyArray_SimpleNew.\n  def GetDecode(self): return _FactorGraph.CFactorGraph_GetDecode(self)\nFactorBP/FactorGraph.py:399: DeprecationWarning: PyArray_FromDimsAndDataAndDescr: use PyArray_NewFromDescr.\n  def GetDecode(self): return _FactorGraph.CFactorGraph_GetDecode(self)\nFactorBP/FactorGraph.py:399: DeprecationWarning: PyArray_FromDims: use PyArray_SimpleNew.\n  def GetDecode(self): return _FactorGraph.CFactorGraph_GetDecode(self)\nFactorBP/FactorGraph.py:399: DeprecationWarning: PyArray_FromDimsAndDataAndDescr: use PyArray_NewFromDescr.\n  def GetDecode(self): return _FactorGraph.CFactorGraph_GetDecode(self)\n"
     ]
    },
    {
     "name": "stderr",
     "output_type": "stream",
     "text": [
      "FactorBP/FactorGraph.py:399: DeprecationWarning: PyArray_FromDims: use PyArray_SimpleNew.\n  def GetDecode(self): return _FactorGraph.CFactorGraph_GetDecode(self)\nFactorBP/FactorGraph.py:399: DeprecationWarning: PyArray_FromDimsAndDataAndDescr: use PyArray_NewFromDescr.\n  def GetDecode(self): return _FactorGraph.CFactorGraph_GetDecode(self)\nFactorBP/FactorGraph.py:399: DeprecationWarning: PyArray_FromDims: use PyArray_SimpleNew.\n  def GetDecode(self): return _FactorGraph.CFactorGraph_GetDecode(self)\nFactorBP/FactorGraph.py:399: DeprecationWarning: PyArray_FromDimsAndDataAndDescr: use PyArray_NewFromDescr.\n  def GetDecode(self): return _FactorGraph.CFactorGraph_GetDecode(self)\n"
     ]
    },
    {
     "name": "stderr",
     "output_type": "stream",
     "text": [
      "FactorBP/FactorGraph.py:399: DeprecationWarning: PyArray_FromDims: use PyArray_SimpleNew.\n  def GetDecode(self): return _FactorGraph.CFactorGraph_GetDecode(self)\nFactorBP/FactorGraph.py:399: DeprecationWarning: PyArray_FromDimsAndDataAndDescr: use PyArray_NewFromDescr.\n  def GetDecode(self): return _FactorGraph.CFactorGraph_GetDecode(self)\nFactorBP/FactorGraph.py:399: DeprecationWarning: PyArray_FromDims: use PyArray_SimpleNew.\n  def GetDecode(self): return _FactorGraph.CFactorGraph_GetDecode(self)\nFactorBP/FactorGraph.py:399: DeprecationWarning: PyArray_FromDimsAndDataAndDescr: use PyArray_NewFromDescr.\n  def GetDecode(self): return _FactorGraph.CFactorGraph_GetDecode(self)\n"
     ]
    },
    {
     "name": "stderr",
     "output_type": "stream",
     "text": [
      "FactorBP/FactorGraph.py:399: DeprecationWarning: PyArray_FromDims: use PyArray_SimpleNew.\n  def GetDecode(self): return _FactorGraph.CFactorGraph_GetDecode(self)\nFactorBP/FactorGraph.py:399: DeprecationWarning: PyArray_FromDimsAndDataAndDescr: use PyArray_NewFromDescr.\n  def GetDecode(self): return _FactorGraph.CFactorGraph_GetDecode(self)\nFactorBP/FactorGraph.py:399: DeprecationWarning: PyArray_FromDims: use PyArray_SimpleNew.\n  def GetDecode(self): return _FactorGraph.CFactorGraph_GetDecode(self)\nFactorBP/FactorGraph.py:399: DeprecationWarning: PyArray_FromDimsAndDataAndDescr: use PyArray_NewFromDescr.\n  def GetDecode(self): return _FactorGraph.CFactorGraph_GetDecode(self)\n"
     ]
    },
    {
     "name": "stderr",
     "output_type": "stream",
     "text": [
      "FactorBP/FactorGraph.py:399: DeprecationWarning: PyArray_FromDims: use PyArray_SimpleNew.\n  def GetDecode(self): return _FactorGraph.CFactorGraph_GetDecode(self)\nFactorBP/FactorGraph.py:399: DeprecationWarning: PyArray_FromDimsAndDataAndDescr: use PyArray_NewFromDescr.\n  def GetDecode(self): return _FactorGraph.CFactorGraph_GetDecode(self)\nFactorBP/FactorGraph.py:399: DeprecationWarning: PyArray_FromDims: use PyArray_SimpleNew.\n  def GetDecode(self): return _FactorGraph.CFactorGraph_GetDecode(self)\nFactorBP/FactorGraph.py:399: DeprecationWarning: PyArray_FromDimsAndDataAndDescr: use PyArray_NewFromDescr.\n  def GetDecode(self): return _FactorGraph.CFactorGraph_GetDecode(self)\n"
     ]
    },
    {
     "name": "stderr",
     "output_type": "stream",
     "text": [
      "FactorBP/FactorGraph.py:399: DeprecationWarning: PyArray_FromDims: use PyArray_SimpleNew.\n  def GetDecode(self): return _FactorGraph.CFactorGraph_GetDecode(self)\nFactorBP/FactorGraph.py:399: DeprecationWarning: PyArray_FromDimsAndDataAndDescr: use PyArray_NewFromDescr.\n  def GetDecode(self): return _FactorGraph.CFactorGraph_GetDecode(self)\nFactorBP/FactorGraph.py:399: DeprecationWarning: PyArray_FromDims: use PyArray_SimpleNew.\n  def GetDecode(self): return _FactorGraph.CFactorGraph_GetDecode(self)\nFactorBP/FactorGraph.py:399: DeprecationWarning: PyArray_FromDimsAndDataAndDescr: use PyArray_NewFromDescr.\n  def GetDecode(self): return _FactorGraph.CFactorGraph_GetDecode(self)\n"
     ]
    },
    {
     "name": "stderr",
     "output_type": "stream",
     "text": [
      "FactorBP/FactorGraph.py:399: DeprecationWarning: PyArray_FromDims: use PyArray_SimpleNew.\n  def GetDecode(self): return _FactorGraph.CFactorGraph_GetDecode(self)\nFactorBP/FactorGraph.py:399: DeprecationWarning: PyArray_FromDimsAndDataAndDescr: use PyArray_NewFromDescr.\n  def GetDecode(self): return _FactorGraph.CFactorGraph_GetDecode(self)\nFactorBP/FactorGraph.py:399: DeprecationWarning: PyArray_FromDims: use PyArray_SimpleNew.\n  def GetDecode(self): return _FactorGraph.CFactorGraph_GetDecode(self)\nFactorBP/FactorGraph.py:399: DeprecationWarning: PyArray_FromDimsAndDataAndDescr: use PyArray_NewFromDescr.\n  def GetDecode(self): return _FactorGraph.CFactorGraph_GetDecode(self)\n"
     ]
    },
    {
     "name": "stderr",
     "output_type": "stream",
     "text": [
      "FactorBP/FactorGraph.py:399: DeprecationWarning: PyArray_FromDims: use PyArray_SimpleNew.\n  def GetDecode(self): return _FactorGraph.CFactorGraph_GetDecode(self)\nFactorBP/FactorGraph.py:399: DeprecationWarning: PyArray_FromDimsAndDataAndDescr: use PyArray_NewFromDescr.\n  def GetDecode(self): return _FactorGraph.CFactorGraph_GetDecode(self)\nFactorBP/FactorGraph.py:399: DeprecationWarning: PyArray_FromDims: use PyArray_SimpleNew.\n  def GetDecode(self): return _FactorGraph.CFactorGraph_GetDecode(self)\nFactorBP/FactorGraph.py:399: DeprecationWarning: PyArray_FromDimsAndDataAndDescr: use PyArray_NewFromDescr.\n  def GetDecode(self): return _FactorGraph.CFactorGraph_GetDecode(self)\n"
     ]
    },
    {
     "name": "stderr",
     "output_type": "stream",
     "text": [
      "FactorBP/FactorGraph.py:399: DeprecationWarning: PyArray_FromDims: use PyArray_SimpleNew.\n  def GetDecode(self): return _FactorGraph.CFactorGraph_GetDecode(self)\nFactorBP/FactorGraph.py:399: DeprecationWarning: PyArray_FromDimsAndDataAndDescr: use PyArray_NewFromDescr.\n  def GetDecode(self): return _FactorGraph.CFactorGraph_GetDecode(self)\nFactorBP/FactorGraph.py:399: DeprecationWarning: PyArray_FromDims: use PyArray_SimpleNew.\n  def GetDecode(self): return _FactorGraph.CFactorGraph_GetDecode(self)\nFactorBP/FactorGraph.py:399: DeprecationWarning: PyArray_FromDimsAndDataAndDescr: use PyArray_NewFromDescr.\n  def GetDecode(self): return _FactorGraph.CFactorGraph_GetDecode(self)\n"
     ]
    },
    {
     "name": "stderr",
     "output_type": "stream",
     "text": [
      "FactorBP/FactorGraph.py:399: DeprecationWarning: PyArray_FromDims: use PyArray_SimpleNew.\n  def GetDecode(self): return _FactorGraph.CFactorGraph_GetDecode(self)\nFactorBP/FactorGraph.py:399: DeprecationWarning: PyArray_FromDimsAndDataAndDescr: use PyArray_NewFromDescr.\n  def GetDecode(self): return _FactorGraph.CFactorGraph_GetDecode(self)\nFactorBP/FactorGraph.py:399: DeprecationWarning: PyArray_FromDims: use PyArray_SimpleNew.\n  def GetDecode(self): return _FactorGraph.CFactorGraph_GetDecode(self)\nFactorBP/FactorGraph.py:399: DeprecationWarning: PyArray_FromDimsAndDataAndDescr: use PyArray_NewFromDescr.\n  def GetDecode(self): return _FactorGraph.CFactorGraph_GetDecode(self)\n"
     ]
    },
    {
     "name": "stderr",
     "output_type": "stream",
     "text": [
      "FactorBP/FactorGraph.py:399: DeprecationWarning: PyArray_FromDims: use PyArray_SimpleNew.\n  def GetDecode(self): return _FactorGraph.CFactorGraph_GetDecode(self)\nFactorBP/FactorGraph.py:399: DeprecationWarning: PyArray_FromDimsAndDataAndDescr: use PyArray_NewFromDescr.\n  def GetDecode(self): return _FactorGraph.CFactorGraph_GetDecode(self)\nFactorBP/FactorGraph.py:399: DeprecationWarning: PyArray_FromDims: use PyArray_SimpleNew.\n  def GetDecode(self): return _FactorGraph.CFactorGraph_GetDecode(self)\nFactorBP/FactorGraph.py:399: DeprecationWarning: PyArray_FromDimsAndDataAndDescr: use PyArray_NewFromDescr.\n  def GetDecode(self): return _FactorGraph.CFactorGraph_GetDecode(self)\n"
     ]
    },
    {
     "name": "stderr",
     "output_type": "stream",
     "text": [
      "FactorBP/FactorGraph.py:399: DeprecationWarning: PyArray_FromDims: use PyArray_SimpleNew.\n  def GetDecode(self): return _FactorGraph.CFactorGraph_GetDecode(self)\nFactorBP/FactorGraph.py:399: DeprecationWarning: PyArray_FromDimsAndDataAndDescr: use PyArray_NewFromDescr.\n  def GetDecode(self): return _FactorGraph.CFactorGraph_GetDecode(self)\nFactorBP/FactorGraph.py:399: DeprecationWarning: PyArray_FromDims: use PyArray_SimpleNew.\n  def GetDecode(self): return _FactorGraph.CFactorGraph_GetDecode(self)\nFactorBP/FactorGraph.py:399: DeprecationWarning: PyArray_FromDimsAndDataAndDescr: use PyArray_NewFromDescr.\n  def GetDecode(self): return _FactorGraph.CFactorGraph_GetDecode(self)\n"
     ]
    },
    {
     "name": "stderr",
     "output_type": "stream",
     "text": [
      "FactorBP/FactorGraph.py:399: DeprecationWarning: PyArray_FromDims: use PyArray_SimpleNew.\n  def GetDecode(self): return _FactorGraph.CFactorGraph_GetDecode(self)\nFactorBP/FactorGraph.py:399: DeprecationWarning: PyArray_FromDimsAndDataAndDescr: use PyArray_NewFromDescr.\n  def GetDecode(self): return _FactorGraph.CFactorGraph_GetDecode(self)\nFactorBP/FactorGraph.py:399: DeprecationWarning: PyArray_FromDims: use PyArray_SimpleNew.\n  def GetDecode(self): return _FactorGraph.CFactorGraph_GetDecode(self)\nFactorBP/FactorGraph.py:399: DeprecationWarning: PyArray_FromDimsAndDataAndDescr: use PyArray_NewFromDescr.\n  def GetDecode(self): return _FactorGraph.CFactorGraph_GetDecode(self)\n"
     ]
    },
    {
     "name": "stderr",
     "output_type": "stream",
     "text": [
      "FactorBP/FactorGraph.py:399: DeprecationWarning: PyArray_FromDims: use PyArray_SimpleNew.\n  def GetDecode(self): return _FactorGraph.CFactorGraph_GetDecode(self)\nFactorBP/FactorGraph.py:399: DeprecationWarning: PyArray_FromDimsAndDataAndDescr: use PyArray_NewFromDescr.\n  def GetDecode(self): return _FactorGraph.CFactorGraph_GetDecode(self)\nFactorBP/FactorGraph.py:399: DeprecationWarning: PyArray_FromDims: use PyArray_SimpleNew.\n  def GetDecode(self): return _FactorGraph.CFactorGraph_GetDecode(self)\nFactorBP/FactorGraph.py:399: DeprecationWarning: PyArray_FromDimsAndDataAndDescr: use PyArray_NewFromDescr.\n  def GetDecode(self): return _FactorGraph.CFactorGraph_GetDecode(self)\n"
     ]
    },
    {
     "name": "stderr",
     "output_type": "stream",
     "text": [
      "FactorBP/FactorGraph.py:399: DeprecationWarning: PyArray_FromDims: use PyArray_SimpleNew.\n  def GetDecode(self): return _FactorGraph.CFactorGraph_GetDecode(self)\nFactorBP/FactorGraph.py:399: DeprecationWarning: PyArray_FromDimsAndDataAndDescr: use PyArray_NewFromDescr.\n  def GetDecode(self): return _FactorGraph.CFactorGraph_GetDecode(self)\nFactorBP/FactorGraph.py:399: DeprecationWarning: PyArray_FromDims: use PyArray_SimpleNew.\n  def GetDecode(self): return _FactorGraph.CFactorGraph_GetDecode(self)\nFactorBP/FactorGraph.py:399: DeprecationWarning: PyArray_FromDimsAndDataAndDescr: use PyArray_NewFromDescr.\n  def GetDecode(self): return _FactorGraph.CFactorGraph_GetDecode(self)\n"
     ]
    },
    {
     "name": "stderr",
     "output_type": "stream",
     "text": [
      "FactorBP/FactorGraph.py:399: DeprecationWarning: PyArray_FromDims: use PyArray_SimpleNew.\n  def GetDecode(self): return _FactorGraph.CFactorGraph_GetDecode(self)\nFactorBP/FactorGraph.py:399: DeprecationWarning: PyArray_FromDimsAndDataAndDescr: use PyArray_NewFromDescr.\n  def GetDecode(self): return _FactorGraph.CFactorGraph_GetDecode(self)\nFactorBP/FactorGraph.py:399: DeprecationWarning: PyArray_FromDims: use PyArray_SimpleNew.\n  def GetDecode(self): return _FactorGraph.CFactorGraph_GetDecode(self)\nFactorBP/FactorGraph.py:399: DeprecationWarning: PyArray_FromDimsAndDataAndDescr: use PyArray_NewFromDescr.\n  def GetDecode(self): return _FactorGraph.CFactorGraph_GetDecode(self)\n"
     ]
    },
    {
     "name": "stderr",
     "output_type": "stream",
     "text": [
      "FactorBP/FactorGraph.py:399: DeprecationWarning: PyArray_FromDims: use PyArray_SimpleNew.\n  def GetDecode(self): return _FactorGraph.CFactorGraph_GetDecode(self)\nFactorBP/FactorGraph.py:399: DeprecationWarning: PyArray_FromDimsAndDataAndDescr: use PyArray_NewFromDescr.\n  def GetDecode(self): return _FactorGraph.CFactorGraph_GetDecode(self)\nFactorBP/FactorGraph.py:399: DeprecationWarning: PyArray_FromDims: use PyArray_SimpleNew.\n  def GetDecode(self): return _FactorGraph.CFactorGraph_GetDecode(self)\nFactorBP/FactorGraph.py:399: DeprecationWarning: PyArray_FromDimsAndDataAndDescr: use PyArray_NewFromDescr.\n  def GetDecode(self): return _FactorGraph.CFactorGraph_GetDecode(self)\n"
     ]
    },
    {
     "name": "stderr",
     "output_type": "stream",
     "text": [
      "FactorBP/FactorGraph.py:399: DeprecationWarning: PyArray_FromDims: use PyArray_SimpleNew.\n  def GetDecode(self): return _FactorGraph.CFactorGraph_GetDecode(self)\nFactorBP/FactorGraph.py:399: DeprecationWarning: PyArray_FromDimsAndDataAndDescr: use PyArray_NewFromDescr.\n  def GetDecode(self): return _FactorGraph.CFactorGraph_GetDecode(self)\nFactorBP/FactorGraph.py:399: DeprecationWarning: PyArray_FromDims: use PyArray_SimpleNew.\n  def GetDecode(self): return _FactorGraph.CFactorGraph_GetDecode(self)\nFactorBP/FactorGraph.py:399: DeprecationWarning: PyArray_FromDimsAndDataAndDescr: use PyArray_NewFromDescr.\n  def GetDecode(self): return _FactorGraph.CFactorGraph_GetDecode(self)\n"
     ]
    },
    {
     "name": "stderr",
     "output_type": "stream",
     "text": [
      "FactorBP/FactorGraph.py:399: DeprecationWarning: PyArray_FromDims: use PyArray_SimpleNew.\n  def GetDecode(self): return _FactorGraph.CFactorGraph_GetDecode(self)\nFactorBP/FactorGraph.py:399: DeprecationWarning: PyArray_FromDimsAndDataAndDescr: use PyArray_NewFromDescr.\n  def GetDecode(self): return _FactorGraph.CFactorGraph_GetDecode(self)\nFactorBP/FactorGraph.py:399: DeprecationWarning: PyArray_FromDims: use PyArray_SimpleNew.\n  def GetDecode(self): return _FactorGraph.CFactorGraph_GetDecode(self)\nFactorBP/FactorGraph.py:399: DeprecationWarning: PyArray_FromDimsAndDataAndDescr: use PyArray_NewFromDescr.\n  def GetDecode(self): return _FactorGraph.CFactorGraph_GetDecode(self)\n"
     ]
    },
    {
     "name": "stderr",
     "output_type": "stream",
     "text": [
      "FactorBP/FactorGraph.py:399: DeprecationWarning: PyArray_FromDims: use PyArray_SimpleNew.\n  def GetDecode(self): return _FactorGraph.CFactorGraph_GetDecode(self)\nFactorBP/FactorGraph.py:399: DeprecationWarning: PyArray_FromDimsAndDataAndDescr: use PyArray_NewFromDescr.\n  def GetDecode(self): return _FactorGraph.CFactorGraph_GetDecode(self)\nFactorBP/FactorGraph.py:399: DeprecationWarning: PyArray_FromDims: use PyArray_SimpleNew.\n  def GetDecode(self): return _FactorGraph.CFactorGraph_GetDecode(self)\nFactorBP/FactorGraph.py:399: DeprecationWarning: PyArray_FromDimsAndDataAndDescr: use PyArray_NewFromDescr.\n  def GetDecode(self): return _FactorGraph.CFactorGraph_GetDecode(self)\n"
     ]
    },
    {
     "name": "stderr",
     "output_type": "stream",
     "text": [
      "FactorBP/FactorGraph.py:399: DeprecationWarning: PyArray_FromDims: use PyArray_SimpleNew.\n  def GetDecode(self): return _FactorGraph.CFactorGraph_GetDecode(self)\nFactorBP/FactorGraph.py:399: DeprecationWarning: PyArray_FromDimsAndDataAndDescr: use PyArray_NewFromDescr.\n  def GetDecode(self): return _FactorGraph.CFactorGraph_GetDecode(self)\nFactorBP/FactorGraph.py:399: DeprecationWarning: PyArray_FromDims: use PyArray_SimpleNew.\n  def GetDecode(self): return _FactorGraph.CFactorGraph_GetDecode(self)\nFactorBP/FactorGraph.py:399: DeprecationWarning: PyArray_FromDimsAndDataAndDescr: use PyArray_NewFromDescr.\n  def GetDecode(self): return _FactorGraph.CFactorGraph_GetDecode(self)\n"
     ]
    },
    {
     "name": "stderr",
     "output_type": "stream",
     "text": [
      "FactorBP/FactorGraph.py:399: DeprecationWarning: PyArray_FromDims: use PyArray_SimpleNew.\n  def GetDecode(self): return _FactorGraph.CFactorGraph_GetDecode(self)\nFactorBP/FactorGraph.py:399: DeprecationWarning: PyArray_FromDimsAndDataAndDescr: use PyArray_NewFromDescr.\n  def GetDecode(self): return _FactorGraph.CFactorGraph_GetDecode(self)\nFactorBP/FactorGraph.py:399: DeprecationWarning: PyArray_FromDims: use PyArray_SimpleNew.\n  def GetDecode(self): return _FactorGraph.CFactorGraph_GetDecode(self)\nFactorBP/FactorGraph.py:399: DeprecationWarning: PyArray_FromDimsAndDataAndDescr: use PyArray_NewFromDescr.\n  def GetDecode(self): return _FactorGraph.CFactorGraph_GetDecode(self)\n"
     ]
    },
    {
     "name": "stderr",
     "output_type": "stream",
     "text": [
      "FactorBP/FactorGraph.py:399: DeprecationWarning: PyArray_FromDims: use PyArray_SimpleNew.\n  def GetDecode(self): return _FactorGraph.CFactorGraph_GetDecode(self)\nFactorBP/FactorGraph.py:399: DeprecationWarning: PyArray_FromDimsAndDataAndDescr: use PyArray_NewFromDescr.\n  def GetDecode(self): return _FactorGraph.CFactorGraph_GetDecode(self)\nFactorBP/FactorGraph.py:399: DeprecationWarning: PyArray_FromDims: use PyArray_SimpleNew.\n  def GetDecode(self): return _FactorGraph.CFactorGraph_GetDecode(self)\nFactorBP/FactorGraph.py:399: DeprecationWarning: PyArray_FromDimsAndDataAndDescr: use PyArray_NewFromDescr.\n  def GetDecode(self): return _FactorGraph.CFactorGraph_GetDecode(self)\n"
     ]
    },
    {
     "name": "stderr",
     "output_type": "stream",
     "text": [
      "FactorBP/FactorGraph.py:399: DeprecationWarning: PyArray_FromDims: use PyArray_SimpleNew.\n  def GetDecode(self): return _FactorGraph.CFactorGraph_GetDecode(self)\nFactorBP/FactorGraph.py:399: DeprecationWarning: PyArray_FromDimsAndDataAndDescr: use PyArray_NewFromDescr.\n  def GetDecode(self): return _FactorGraph.CFactorGraph_GetDecode(self)\nFactorBP/FactorGraph.py:399: DeprecationWarning: PyArray_FromDims: use PyArray_SimpleNew.\n  def GetDecode(self): return _FactorGraph.CFactorGraph_GetDecode(self)\nFactorBP/FactorGraph.py:399: DeprecationWarning: PyArray_FromDimsAndDataAndDescr: use PyArray_NewFromDescr.\n  def GetDecode(self): return _FactorGraph.CFactorGraph_GetDecode(self)\n"
     ]
    },
    {
     "name": "stderr",
     "output_type": "stream",
     "text": [
      "FactorBP/FactorGraph.py:399: DeprecationWarning: PyArray_FromDims: use PyArray_SimpleNew.\n  def GetDecode(self): return _FactorGraph.CFactorGraph_GetDecode(self)\nFactorBP/FactorGraph.py:399: DeprecationWarning: PyArray_FromDimsAndDataAndDescr: use PyArray_NewFromDescr.\n  def GetDecode(self): return _FactorGraph.CFactorGraph_GetDecode(self)\nFactorBP/FactorGraph.py:399: DeprecationWarning: PyArray_FromDims: use PyArray_SimpleNew.\n  def GetDecode(self): return _FactorGraph.CFactorGraph_GetDecode(self)\nFactorBP/FactorGraph.py:399: DeprecationWarning: PyArray_FromDimsAndDataAndDescr: use PyArray_NewFromDescr.\n  def GetDecode(self): return _FactorGraph.CFactorGraph_GetDecode(self)\n"
     ]
    },
    {
     "name": "stderr",
     "output_type": "stream",
     "text": [
      "FactorBP/FactorGraph.py:399: DeprecationWarning: PyArray_FromDims: use PyArray_SimpleNew.\n  def GetDecode(self): return _FactorGraph.CFactorGraph_GetDecode(self)\nFactorBP/FactorGraph.py:399: DeprecationWarning: PyArray_FromDimsAndDataAndDescr: use PyArray_NewFromDescr.\n  def GetDecode(self): return _FactorGraph.CFactorGraph_GetDecode(self)\nFactorBP/FactorGraph.py:399: DeprecationWarning: PyArray_FromDims: use PyArray_SimpleNew.\n  def GetDecode(self): return _FactorGraph.CFactorGraph_GetDecode(self)\nFactorBP/FactorGraph.py:399: DeprecationWarning: PyArray_FromDimsAndDataAndDescr: use PyArray_NewFromDescr.\n  def GetDecode(self): return _FactorGraph.CFactorGraph_GetDecode(self)\n"
     ]
    },
    {
     "name": "stderr",
     "output_type": "stream",
     "text": [
      "FactorBP/FactorGraph.py:399: DeprecationWarning: PyArray_FromDims: use PyArray_SimpleNew.\n  def GetDecode(self): return _FactorGraph.CFactorGraph_GetDecode(self)\nFactorBP/FactorGraph.py:399: DeprecationWarning: PyArray_FromDimsAndDataAndDescr: use PyArray_NewFromDescr.\n  def GetDecode(self): return _FactorGraph.CFactorGraph_GetDecode(self)\nFactorBP/FactorGraph.py:399: DeprecationWarning: PyArray_FromDims: use PyArray_SimpleNew.\n  def GetDecode(self): return _FactorGraph.CFactorGraph_GetDecode(self)\nFactorBP/FactorGraph.py:399: DeprecationWarning: PyArray_FromDimsAndDataAndDescr: use PyArray_NewFromDescr.\n  def GetDecode(self): return _FactorGraph.CFactorGraph_GetDecode(self)\n"
     ]
    },
    {
     "name": "stderr",
     "output_type": "stream",
     "text": [
      "FactorBP/FactorGraph.py:399: DeprecationWarning: PyArray_FromDims: use PyArray_SimpleNew.\n  def GetDecode(self): return _FactorGraph.CFactorGraph_GetDecode(self)\nFactorBP/FactorGraph.py:399: DeprecationWarning: PyArray_FromDimsAndDataAndDescr: use PyArray_NewFromDescr.\n  def GetDecode(self): return _FactorGraph.CFactorGraph_GetDecode(self)\nFactorBP/FactorGraph.py:399: DeprecationWarning: PyArray_FromDims: use PyArray_SimpleNew.\n  def GetDecode(self): return _FactorGraph.CFactorGraph_GetDecode(self)\nFactorBP/FactorGraph.py:399: DeprecationWarning: PyArray_FromDimsAndDataAndDescr: use PyArray_NewFromDescr.\n  def GetDecode(self): return _FactorGraph.CFactorGraph_GetDecode(self)\n"
     ]
    },
    {
     "name": "stderr",
     "output_type": "stream",
     "text": [
      "FactorBP/FactorGraph.py:399: DeprecationWarning: PyArray_FromDims: use PyArray_SimpleNew.\n  def GetDecode(self): return _FactorGraph.CFactorGraph_GetDecode(self)\nFactorBP/FactorGraph.py:399: DeprecationWarning: PyArray_FromDimsAndDataAndDescr: use PyArray_NewFromDescr.\n  def GetDecode(self): return _FactorGraph.CFactorGraph_GetDecode(self)\nFactorBP/FactorGraph.py:399: DeprecationWarning: PyArray_FromDims: use PyArray_SimpleNew.\n  def GetDecode(self): return _FactorGraph.CFactorGraph_GetDecode(self)\nFactorBP/FactorGraph.py:399: DeprecationWarning: PyArray_FromDimsAndDataAndDescr: use PyArray_NewFromDescr.\n  def GetDecode(self): return _FactorGraph.CFactorGraph_GetDecode(self)\n"
     ]
    },
    {
     "name": "stderr",
     "output_type": "stream",
     "text": [
      "FactorBP/FactorGraph.py:399: DeprecationWarning: PyArray_FromDims: use PyArray_SimpleNew.\n  def GetDecode(self): return _FactorGraph.CFactorGraph_GetDecode(self)\nFactorBP/FactorGraph.py:399: DeprecationWarning: PyArray_FromDimsAndDataAndDescr: use PyArray_NewFromDescr.\n  def GetDecode(self): return _FactorGraph.CFactorGraph_GetDecode(self)\nFactorBP/FactorGraph.py:399: DeprecationWarning: PyArray_FromDims: use PyArray_SimpleNew.\n  def GetDecode(self): return _FactorGraph.CFactorGraph_GetDecode(self)\nFactorBP/FactorGraph.py:399: DeprecationWarning: PyArray_FromDimsAndDataAndDescr: use PyArray_NewFromDescr.\n  def GetDecode(self): return _FactorGraph.CFactorGraph_GetDecode(self)\n"
     ]
    },
    {
     "name": "stderr",
     "output_type": "stream",
     "text": [
      "FactorBP/FactorGraph.py:399: DeprecationWarning: PyArray_FromDims: use PyArray_SimpleNew.\n  def GetDecode(self): return _FactorGraph.CFactorGraph_GetDecode(self)\nFactorBP/FactorGraph.py:399: DeprecationWarning: PyArray_FromDimsAndDataAndDescr: use PyArray_NewFromDescr.\n  def GetDecode(self): return _FactorGraph.CFactorGraph_GetDecode(self)\nFactorBP/FactorGraph.py:399: DeprecationWarning: PyArray_FromDims: use PyArray_SimpleNew.\n  def GetDecode(self): return _FactorGraph.CFactorGraph_GetDecode(self)\nFactorBP/FactorGraph.py:399: DeprecationWarning: PyArray_FromDimsAndDataAndDescr: use PyArray_NewFromDescr.\n  def GetDecode(self): return _FactorGraph.CFactorGraph_GetDecode(self)\n"
     ]
    },
    {
     "name": "stderr",
     "output_type": "stream",
     "text": [
      "FactorBP/FactorGraph.py:399: DeprecationWarning: PyArray_FromDims: use PyArray_SimpleNew.\n  def GetDecode(self): return _FactorGraph.CFactorGraph_GetDecode(self)\nFactorBP/FactorGraph.py:399: DeprecationWarning: PyArray_FromDimsAndDataAndDescr: use PyArray_NewFromDescr.\n  def GetDecode(self): return _FactorGraph.CFactorGraph_GetDecode(self)\nFactorBP/FactorGraph.py:399: DeprecationWarning: PyArray_FromDims: use PyArray_SimpleNew.\n  def GetDecode(self): return _FactorGraph.CFactorGraph_GetDecode(self)\nFactorBP/FactorGraph.py:399: DeprecationWarning: PyArray_FromDimsAndDataAndDescr: use PyArray_NewFromDescr.\n  def GetDecode(self): return _FactorGraph.CFactorGraph_GetDecode(self)\n"
     ]
    },
    {
     "name": "stderr",
     "output_type": "stream",
     "text": [
      "FactorBP/FactorGraph.py:399: DeprecationWarning: PyArray_FromDims: use PyArray_SimpleNew.\n  def GetDecode(self): return _FactorGraph.CFactorGraph_GetDecode(self)\nFactorBP/FactorGraph.py:399: DeprecationWarning: PyArray_FromDimsAndDataAndDescr: use PyArray_NewFromDescr.\n  def GetDecode(self): return _FactorGraph.CFactorGraph_GetDecode(self)\nFactorBP/FactorGraph.py:399: DeprecationWarning: PyArray_FromDims: use PyArray_SimpleNew.\n  def GetDecode(self): return _FactorGraph.CFactorGraph_GetDecode(self)\nFactorBP/FactorGraph.py:399: DeprecationWarning: PyArray_FromDimsAndDataAndDescr: use PyArray_NewFromDescr.\n  def GetDecode(self): return _FactorGraph.CFactorGraph_GetDecode(self)\n"
     ]
    },
    {
     "name": "stderr",
     "output_type": "stream",
     "text": [
      "FactorBP/FactorGraph.py:399: DeprecationWarning: PyArray_FromDims: use PyArray_SimpleNew.\n  def GetDecode(self): return _FactorGraph.CFactorGraph_GetDecode(self)\nFactorBP/FactorGraph.py:399: DeprecationWarning: PyArray_FromDimsAndDataAndDescr: use PyArray_NewFromDescr.\n  def GetDecode(self): return _FactorGraph.CFactorGraph_GetDecode(self)\nFactorBP/FactorGraph.py:399: DeprecationWarning: PyArray_FromDims: use PyArray_SimpleNew.\n  def GetDecode(self): return _FactorGraph.CFactorGraph_GetDecode(self)\nFactorBP/FactorGraph.py:399: DeprecationWarning: PyArray_FromDimsAndDataAndDescr: use PyArray_NewFromDescr.\n  def GetDecode(self): return _FactorGraph.CFactorGraph_GetDecode(self)\n"
     ]
    },
    {
     "name": "stderr",
     "output_type": "stream",
     "text": [
      "FactorBP/FactorGraph.py:399: DeprecationWarning: PyArray_FromDims: use PyArray_SimpleNew.\n  def GetDecode(self): return _FactorGraph.CFactorGraph_GetDecode(self)\nFactorBP/FactorGraph.py:399: DeprecationWarning: PyArray_FromDimsAndDataAndDescr: use PyArray_NewFromDescr.\n  def GetDecode(self): return _FactorGraph.CFactorGraph_GetDecode(self)\nFactorBP/FactorGraph.py:399: DeprecationWarning: PyArray_FromDims: use PyArray_SimpleNew.\n  def GetDecode(self): return _FactorGraph.CFactorGraph_GetDecode(self)\nFactorBP/FactorGraph.py:399: DeprecationWarning: PyArray_FromDimsAndDataAndDescr: use PyArray_NewFromDescr.\n  def GetDecode(self): return _FactorGraph.CFactorGraph_GetDecode(self)\n"
     ]
    },
    {
     "name": "stderr",
     "output_type": "stream",
     "text": [
      "FactorBP/FactorGraph.py:399: DeprecationWarning: PyArray_FromDims: use PyArray_SimpleNew.\n  def GetDecode(self): return _FactorGraph.CFactorGraph_GetDecode(self)\nFactorBP/FactorGraph.py:399: DeprecationWarning: PyArray_FromDimsAndDataAndDescr: use PyArray_NewFromDescr.\n  def GetDecode(self): return _FactorGraph.CFactorGraph_GetDecode(self)\nFactorBP/FactorGraph.py:399: DeprecationWarning: PyArray_FromDims: use PyArray_SimpleNew.\n  def GetDecode(self): return _FactorGraph.CFactorGraph_GetDecode(self)\nFactorBP/FactorGraph.py:399: DeprecationWarning: PyArray_FromDimsAndDataAndDescr: use PyArray_NewFromDescr.\n  def GetDecode(self): return _FactorGraph.CFactorGraph_GetDecode(self)\n"
     ]
    },
    {
     "name": "stderr",
     "output_type": "stream",
     "text": [
      "FactorBP/FactorGraph.py:399: DeprecationWarning: PyArray_FromDims: use PyArray_SimpleNew.\n  def GetDecode(self): return _FactorGraph.CFactorGraph_GetDecode(self)\nFactorBP/FactorGraph.py:399: DeprecationWarning: PyArray_FromDimsAndDataAndDescr: use PyArray_NewFromDescr.\n  def GetDecode(self): return _FactorGraph.CFactorGraph_GetDecode(self)\nFactorBP/FactorGraph.py:399: DeprecationWarning: PyArray_FromDims: use PyArray_SimpleNew.\n  def GetDecode(self): return _FactorGraph.CFactorGraph_GetDecode(self)\nFactorBP/FactorGraph.py:399: DeprecationWarning: PyArray_FromDimsAndDataAndDescr: use PyArray_NewFromDescr.\n  def GetDecode(self): return _FactorGraph.CFactorGraph_GetDecode(self)\n"
     ]
    },
    {
     "name": "stderr",
     "output_type": "stream",
     "text": [
      "FactorBP/FactorGraph.py:399: DeprecationWarning: PyArray_FromDims: use PyArray_SimpleNew.\n  def GetDecode(self): return _FactorGraph.CFactorGraph_GetDecode(self)\nFactorBP/FactorGraph.py:399: DeprecationWarning: PyArray_FromDimsAndDataAndDescr: use PyArray_NewFromDescr.\n  def GetDecode(self): return _FactorGraph.CFactorGraph_GetDecode(self)\nFactorBP/FactorGraph.py:399: DeprecationWarning: PyArray_FromDims: use PyArray_SimpleNew.\n  def GetDecode(self): return _FactorGraph.CFactorGraph_GetDecode(self)\nFactorBP/FactorGraph.py:399: DeprecationWarning: PyArray_FromDimsAndDataAndDescr: use PyArray_NewFromDescr.\n  def GetDecode(self): return _FactorGraph.CFactorGraph_GetDecode(self)\n"
     ]
    },
    {
     "name": "stderr",
     "output_type": "stream",
     "text": [
      "FactorBP/FactorGraph.py:399: DeprecationWarning: PyArray_FromDims: use PyArray_SimpleNew.\n  def GetDecode(self): return _FactorGraph.CFactorGraph_GetDecode(self)\nFactorBP/FactorGraph.py:399: DeprecationWarning: PyArray_FromDimsAndDataAndDescr: use PyArray_NewFromDescr.\n  def GetDecode(self): return _FactorGraph.CFactorGraph_GetDecode(self)\nFactorBP/FactorGraph.py:399: DeprecationWarning: PyArray_FromDims: use PyArray_SimpleNew.\n  def GetDecode(self): return _FactorGraph.CFactorGraph_GetDecode(self)\nFactorBP/FactorGraph.py:399: DeprecationWarning: PyArray_FromDimsAndDataAndDescr: use PyArray_NewFromDescr.\n  def GetDecode(self): return _FactorGraph.CFactorGraph_GetDecode(self)\n"
     ]
    },
    {
     "name": "stderr",
     "output_type": "stream",
     "text": [
      "FactorBP/FactorGraph.py:399: DeprecationWarning: PyArray_FromDims: use PyArray_SimpleNew.\n  def GetDecode(self): return _FactorGraph.CFactorGraph_GetDecode(self)\nFactorBP/FactorGraph.py:399: DeprecationWarning: PyArray_FromDimsAndDataAndDescr: use PyArray_NewFromDescr.\n  def GetDecode(self): return _FactorGraph.CFactorGraph_GetDecode(self)\nFactorBP/FactorGraph.py:399: DeprecationWarning: PyArray_FromDims: use PyArray_SimpleNew.\n  def GetDecode(self): return _FactorGraph.CFactorGraph_GetDecode(self)\nFactorBP/FactorGraph.py:399: DeprecationWarning: PyArray_FromDimsAndDataAndDescr: use PyArray_NewFromDescr.\n  def GetDecode(self): return _FactorGraph.CFactorGraph_GetDecode(self)\n"
     ]
    },
    {
     "name": "stderr",
     "output_type": "stream",
     "text": [
      "FactorBP/FactorGraph.py:399: DeprecationWarning: PyArray_FromDims: use PyArray_SimpleNew.\n  def GetDecode(self): return _FactorGraph.CFactorGraph_GetDecode(self)\nFactorBP/FactorGraph.py:399: DeprecationWarning: PyArray_FromDimsAndDataAndDescr: use PyArray_NewFromDescr.\n  def GetDecode(self): return _FactorGraph.CFactorGraph_GetDecode(self)\nFactorBP/FactorGraph.py:399: DeprecationWarning: PyArray_FromDims: use PyArray_SimpleNew.\n  def GetDecode(self): return _FactorGraph.CFactorGraph_GetDecode(self)\nFactorBP/FactorGraph.py:399: DeprecationWarning: PyArray_FromDimsAndDataAndDescr: use PyArray_NewFromDescr.\n  def GetDecode(self): return _FactorGraph.CFactorGraph_GetDecode(self)\n"
     ]
    },
    {
     "name": "stderr",
     "output_type": "stream",
     "text": [
      "FactorBP/FactorGraph.py:399: DeprecationWarning: PyArray_FromDims: use PyArray_SimpleNew.\n  def GetDecode(self): return _FactorGraph.CFactorGraph_GetDecode(self)\nFactorBP/FactorGraph.py:399: DeprecationWarning: PyArray_FromDimsAndDataAndDescr: use PyArray_NewFromDescr.\n  def GetDecode(self): return _FactorGraph.CFactorGraph_GetDecode(self)\nFactorBP/FactorGraph.py:399: DeprecationWarning: PyArray_FromDims: use PyArray_SimpleNew.\n  def GetDecode(self): return _FactorGraph.CFactorGraph_GetDecode(self)\nFactorBP/FactorGraph.py:399: DeprecationWarning: PyArray_FromDimsAndDataAndDescr: use PyArray_NewFromDescr.\n  def GetDecode(self): return _FactorGraph.CFactorGraph_GetDecode(self)\n"
     ]
    },
    {
     "name": "stderr",
     "output_type": "stream",
     "text": [
      "FactorBP/FactorGraph.py:399: DeprecationWarning: PyArray_FromDims: use PyArray_SimpleNew.\n  def GetDecode(self): return _FactorGraph.CFactorGraph_GetDecode(self)\nFactorBP/FactorGraph.py:399: DeprecationWarning: PyArray_FromDimsAndDataAndDescr: use PyArray_NewFromDescr.\n  def GetDecode(self): return _FactorGraph.CFactorGraph_GetDecode(self)\nFactorBP/FactorGraph.py:399: DeprecationWarning: PyArray_FromDims: use PyArray_SimpleNew.\n  def GetDecode(self): return _FactorGraph.CFactorGraph_GetDecode(self)\nFactorBP/FactorGraph.py:399: DeprecationWarning: PyArray_FromDimsAndDataAndDescr: use PyArray_NewFromDescr.\n  def GetDecode(self): return _FactorGraph.CFactorGraph_GetDecode(self)\n"
     ]
    },
    {
     "name": "stderr",
     "output_type": "stream",
     "text": [
      "FactorBP/FactorGraph.py:399: DeprecationWarning: PyArray_FromDims: use PyArray_SimpleNew.\n  def GetDecode(self): return _FactorGraph.CFactorGraph_GetDecode(self)\nFactorBP/FactorGraph.py:399: DeprecationWarning: PyArray_FromDimsAndDataAndDescr: use PyArray_NewFromDescr.\n  def GetDecode(self): return _FactorGraph.CFactorGraph_GetDecode(self)\nFactorBP/FactorGraph.py:399: DeprecationWarning: PyArray_FromDims: use PyArray_SimpleNew.\n  def GetDecode(self): return _FactorGraph.CFactorGraph_GetDecode(self)\nFactorBP/FactorGraph.py:399: DeprecationWarning: PyArray_FromDimsAndDataAndDescr: use PyArray_NewFromDescr.\n  def GetDecode(self): return _FactorGraph.CFactorGraph_GetDecode(self)\n"
     ]
    },
    {
     "name": "stderr",
     "output_type": "stream",
     "text": [
      "FactorBP/FactorGraph.py:399: DeprecationWarning: PyArray_FromDims: use PyArray_SimpleNew.\n  def GetDecode(self): return _FactorGraph.CFactorGraph_GetDecode(self)\nFactorBP/FactorGraph.py:399: DeprecationWarning: PyArray_FromDimsAndDataAndDescr: use PyArray_NewFromDescr.\n  def GetDecode(self): return _FactorGraph.CFactorGraph_GetDecode(self)\nFactorBP/FactorGraph.py:399: DeprecationWarning: PyArray_FromDims: use PyArray_SimpleNew.\n  def GetDecode(self): return _FactorGraph.CFactorGraph_GetDecode(self)\nFactorBP/FactorGraph.py:399: DeprecationWarning: PyArray_FromDimsAndDataAndDescr: use PyArray_NewFromDescr.\n  def GetDecode(self): return _FactorGraph.CFactorGraph_GetDecode(self)\n"
     ]
    },
    {
     "name": "stderr",
     "output_type": "stream",
     "text": [
      "FactorBP/FactorGraph.py:399: DeprecationWarning: PyArray_FromDims: use PyArray_SimpleNew.\n  def GetDecode(self): return _FactorGraph.CFactorGraph_GetDecode(self)\nFactorBP/FactorGraph.py:399: DeprecationWarning: PyArray_FromDimsAndDataAndDescr: use PyArray_NewFromDescr.\n  def GetDecode(self): return _FactorGraph.CFactorGraph_GetDecode(self)\nFactorBP/FactorGraph.py:399: DeprecationWarning: PyArray_FromDims: use PyArray_SimpleNew.\n  def GetDecode(self): return _FactorGraph.CFactorGraph_GetDecode(self)\nFactorBP/FactorGraph.py:399: DeprecationWarning: PyArray_FromDimsAndDataAndDescr: use PyArray_NewFromDescr.\n  def GetDecode(self): return _FactorGraph.CFactorGraph_GetDecode(self)\n"
     ]
    },
    {
     "name": "stderr",
     "output_type": "stream",
     "text": [
      "FactorBP/FactorGraph.py:399: DeprecationWarning: PyArray_FromDims: use PyArray_SimpleNew.\n  def GetDecode(self): return _FactorGraph.CFactorGraph_GetDecode(self)\nFactorBP/FactorGraph.py:399: DeprecationWarning: PyArray_FromDimsAndDataAndDescr: use PyArray_NewFromDescr.\n  def GetDecode(self): return _FactorGraph.CFactorGraph_GetDecode(self)\nFactorBP/FactorGraph.py:399: DeprecationWarning: PyArray_FromDims: use PyArray_SimpleNew.\n  def GetDecode(self): return _FactorGraph.CFactorGraph_GetDecode(self)\nFactorBP/FactorGraph.py:399: DeprecationWarning: PyArray_FromDimsAndDataAndDescr: use PyArray_NewFromDescr.\n  def GetDecode(self): return _FactorGraph.CFactorGraph_GetDecode(self)\n"
     ]
    },
    {
     "name": "stderr",
     "output_type": "stream",
     "text": [
      "FactorBP/FactorGraph.py:399: DeprecationWarning: PyArray_FromDims: use PyArray_SimpleNew.\n  def GetDecode(self): return _FactorGraph.CFactorGraph_GetDecode(self)\nFactorBP/FactorGraph.py:399: DeprecationWarning: PyArray_FromDimsAndDataAndDescr: use PyArray_NewFromDescr.\n  def GetDecode(self): return _FactorGraph.CFactorGraph_GetDecode(self)\nFactorBP/FactorGraph.py:399: DeprecationWarning: PyArray_FromDims: use PyArray_SimpleNew.\n  def GetDecode(self): return _FactorGraph.CFactorGraph_GetDecode(self)\nFactorBP/FactorGraph.py:399: DeprecationWarning: PyArray_FromDimsAndDataAndDescr: use PyArray_NewFromDescr.\n  def GetDecode(self): return _FactorGraph.CFactorGraph_GetDecode(self)\n"
     ]
    },
    {
     "name": "stderr",
     "output_type": "stream",
     "text": [
      "FactorBP/FactorGraph.py:399: DeprecationWarning: PyArray_FromDims: use PyArray_SimpleNew.\n  def GetDecode(self): return _FactorGraph.CFactorGraph_GetDecode(self)\nFactorBP/FactorGraph.py:399: DeprecationWarning: PyArray_FromDimsAndDataAndDescr: use PyArray_NewFromDescr.\n  def GetDecode(self): return _FactorGraph.CFactorGraph_GetDecode(self)\nFactorBP/FactorGraph.py:399: DeprecationWarning: PyArray_FromDims: use PyArray_SimpleNew.\n  def GetDecode(self): return _FactorGraph.CFactorGraph_GetDecode(self)\nFactorBP/FactorGraph.py:399: DeprecationWarning: PyArray_FromDimsAndDataAndDescr: use PyArray_NewFromDescr.\n  def GetDecode(self): return _FactorGraph.CFactorGraph_GetDecode(self)\n"
     ]
    },
    {
     "name": "stderr",
     "output_type": "stream",
     "text": [
      "FactorBP/FactorGraph.py:399: DeprecationWarning: PyArray_FromDims: use PyArray_SimpleNew.\n  def GetDecode(self): return _FactorGraph.CFactorGraph_GetDecode(self)\nFactorBP/FactorGraph.py:399: DeprecationWarning: PyArray_FromDimsAndDataAndDescr: use PyArray_NewFromDescr.\n  def GetDecode(self): return _FactorGraph.CFactorGraph_GetDecode(self)\nFactorBP/FactorGraph.py:399: DeprecationWarning: PyArray_FromDims: use PyArray_SimpleNew.\n  def GetDecode(self): return _FactorGraph.CFactorGraph_GetDecode(self)\nFactorBP/FactorGraph.py:399: DeprecationWarning: PyArray_FromDimsAndDataAndDescr: use PyArray_NewFromDescr.\n  def GetDecode(self): return _FactorGraph.CFactorGraph_GetDecode(self)\n"
     ]
    },
    {
     "name": "stderr",
     "output_type": "stream",
     "text": [
      "FactorBP/FactorGraph.py:399: DeprecationWarning: PyArray_FromDims: use PyArray_SimpleNew.\n  def GetDecode(self): return _FactorGraph.CFactorGraph_GetDecode(self)\nFactorBP/FactorGraph.py:399: DeprecationWarning: PyArray_FromDimsAndDataAndDescr: use PyArray_NewFromDescr.\n  def GetDecode(self): return _FactorGraph.CFactorGraph_GetDecode(self)\nFactorBP/FactorGraph.py:399: DeprecationWarning: PyArray_FromDims: use PyArray_SimpleNew.\n  def GetDecode(self): return _FactorGraph.CFactorGraph_GetDecode(self)\nFactorBP/FactorGraph.py:399: DeprecationWarning: PyArray_FromDimsAndDataAndDescr: use PyArray_NewFromDescr.\n  def GetDecode(self): return _FactorGraph.CFactorGraph_GetDecode(self)\n"
     ]
    },
    {
     "name": "stderr",
     "output_type": "stream",
     "text": [
      "FactorBP/FactorGraph.py:399: DeprecationWarning: PyArray_FromDims: use PyArray_SimpleNew.\n  def GetDecode(self): return _FactorGraph.CFactorGraph_GetDecode(self)\nFactorBP/FactorGraph.py:399: DeprecationWarning: PyArray_FromDimsAndDataAndDescr: use PyArray_NewFromDescr.\n  def GetDecode(self): return _FactorGraph.CFactorGraph_GetDecode(self)\nFactorBP/FactorGraph.py:399: DeprecationWarning: PyArray_FromDims: use PyArray_SimpleNew.\n  def GetDecode(self): return _FactorGraph.CFactorGraph_GetDecode(self)\nFactorBP/FactorGraph.py:399: DeprecationWarning: PyArray_FromDimsAndDataAndDescr: use PyArray_NewFromDescr.\n  def GetDecode(self): return _FactorGraph.CFactorGraph_GetDecode(self)\n"
     ]
    },
    {
     "name": "stderr",
     "output_type": "stream",
     "text": [
      "FactorBP/FactorGraph.py:399: DeprecationWarning: PyArray_FromDims: use PyArray_SimpleNew.\n  def GetDecode(self): return _FactorGraph.CFactorGraph_GetDecode(self)\nFactorBP/FactorGraph.py:399: DeprecationWarning: PyArray_FromDimsAndDataAndDescr: use PyArray_NewFromDescr.\n  def GetDecode(self): return _FactorGraph.CFactorGraph_GetDecode(self)\nFactorBP/FactorGraph.py:399: DeprecationWarning: PyArray_FromDims: use PyArray_SimpleNew.\n  def GetDecode(self): return _FactorGraph.CFactorGraph_GetDecode(self)\nFactorBP/FactorGraph.py:399: DeprecationWarning: PyArray_FromDimsAndDataAndDescr: use PyArray_NewFromDescr.\n  def GetDecode(self): return _FactorGraph.CFactorGraph_GetDecode(self)\n"
     ]
    },
    {
     "name": "stderr",
     "output_type": "stream",
     "text": [
      "FactorBP/FactorGraph.py:399: DeprecationWarning: PyArray_FromDims: use PyArray_SimpleNew.\n  def GetDecode(self): return _FactorGraph.CFactorGraph_GetDecode(self)\nFactorBP/FactorGraph.py:399: DeprecationWarning: PyArray_FromDimsAndDataAndDescr: use PyArray_NewFromDescr.\n  def GetDecode(self): return _FactorGraph.CFactorGraph_GetDecode(self)\nFactorBP/FactorGraph.py:399: DeprecationWarning: PyArray_FromDims: use PyArray_SimpleNew.\n  def GetDecode(self): return _FactorGraph.CFactorGraph_GetDecode(self)\nFactorBP/FactorGraph.py:399: DeprecationWarning: PyArray_FromDimsAndDataAndDescr: use PyArray_NewFromDescr.\n  def GetDecode(self): return _FactorGraph.CFactorGraph_GetDecode(self)\n"
     ]
    },
    {
     "name": "stderr",
     "output_type": "stream",
     "text": [
      "FactorBP/FactorGraph.py:399: DeprecationWarning: PyArray_FromDims: use PyArray_SimpleNew.\n  def GetDecode(self): return _FactorGraph.CFactorGraph_GetDecode(self)\nFactorBP/FactorGraph.py:399: DeprecationWarning: PyArray_FromDimsAndDataAndDescr: use PyArray_NewFromDescr.\n  def GetDecode(self): return _FactorGraph.CFactorGraph_GetDecode(self)\nFactorBP/FactorGraph.py:399: DeprecationWarning: PyArray_FromDims: use PyArray_SimpleNew.\n  def GetDecode(self): return _FactorGraph.CFactorGraph_GetDecode(self)\nFactorBP/FactorGraph.py:399: DeprecationWarning: PyArray_FromDimsAndDataAndDescr: use PyArray_NewFromDescr.\n  def GetDecode(self): return _FactorGraph.CFactorGraph_GetDecode(self)\n"
     ]
    },
    {
     "name": "stderr",
     "output_type": "stream",
     "text": [
      "FactorBP/FactorGraph.py:399: DeprecationWarning: PyArray_FromDims: use PyArray_SimpleNew.\n  def GetDecode(self): return _FactorGraph.CFactorGraph_GetDecode(self)\nFactorBP/FactorGraph.py:399: DeprecationWarning: PyArray_FromDimsAndDataAndDescr: use PyArray_NewFromDescr.\n  def GetDecode(self): return _FactorGraph.CFactorGraph_GetDecode(self)\nFactorBP/FactorGraph.py:399: DeprecationWarning: PyArray_FromDims: use PyArray_SimpleNew.\n  def GetDecode(self): return _FactorGraph.CFactorGraph_GetDecode(self)\nFactorBP/FactorGraph.py:399: DeprecationWarning: PyArray_FromDimsAndDataAndDescr: use PyArray_NewFromDescr.\n  def GetDecode(self): return _FactorGraph.CFactorGraph_GetDecode(self)\n"
     ]
    },
    {
     "name": "stderr",
     "output_type": "stream",
     "text": [
      "FactorBP/FactorGraph.py:399: DeprecationWarning: PyArray_FromDims: use PyArray_SimpleNew.\n  def GetDecode(self): return _FactorGraph.CFactorGraph_GetDecode(self)\nFactorBP/FactorGraph.py:399: DeprecationWarning: PyArray_FromDimsAndDataAndDescr: use PyArray_NewFromDescr.\n  def GetDecode(self): return _FactorGraph.CFactorGraph_GetDecode(self)\nFactorBP/FactorGraph.py:399: DeprecationWarning: PyArray_FromDims: use PyArray_SimpleNew.\n  def GetDecode(self): return _FactorGraph.CFactorGraph_GetDecode(self)\nFactorBP/FactorGraph.py:399: DeprecationWarning: PyArray_FromDimsAndDataAndDescr: use PyArray_NewFromDescr.\n  def GetDecode(self): return _FactorGraph.CFactorGraph_GetDecode(self)\n"
     ]
    },
    {
     "name": "stderr",
     "output_type": "stream",
     "text": [
      "FactorBP/FactorGraph.py:399: DeprecationWarning: PyArray_FromDims: use PyArray_SimpleNew.\n  def GetDecode(self): return _FactorGraph.CFactorGraph_GetDecode(self)\nFactorBP/FactorGraph.py:399: DeprecationWarning: PyArray_FromDimsAndDataAndDescr: use PyArray_NewFromDescr.\n  def GetDecode(self): return _FactorGraph.CFactorGraph_GetDecode(self)\nFactorBP/FactorGraph.py:399: DeprecationWarning: PyArray_FromDims: use PyArray_SimpleNew.\n  def GetDecode(self): return _FactorGraph.CFactorGraph_GetDecode(self)\nFactorBP/FactorGraph.py:399: DeprecationWarning: PyArray_FromDimsAndDataAndDescr: use PyArray_NewFromDescr.\n  def GetDecode(self): return _FactorGraph.CFactorGraph_GetDecode(self)\n"
     ]
    },
    {
     "name": "stderr",
     "output_type": "stream",
     "text": [
      "FactorBP/FactorGraph.py:399: DeprecationWarning: PyArray_FromDims: use PyArray_SimpleNew.\n  def GetDecode(self): return _FactorGraph.CFactorGraph_GetDecode(self)\nFactorBP/FactorGraph.py:399: DeprecationWarning: PyArray_FromDimsAndDataAndDescr: use PyArray_NewFromDescr.\n  def GetDecode(self): return _FactorGraph.CFactorGraph_GetDecode(self)\nFactorBP/FactorGraph.py:399: DeprecationWarning: PyArray_FromDims: use PyArray_SimpleNew.\n  def GetDecode(self): return _FactorGraph.CFactorGraph_GetDecode(self)\nFactorBP/FactorGraph.py:399: DeprecationWarning: PyArray_FromDimsAndDataAndDescr: use PyArray_NewFromDescr.\n  def GetDecode(self): return _FactorGraph.CFactorGraph_GetDecode(self)\n"
     ]
    },
    {
     "name": "stderr",
     "output_type": "stream",
     "text": [
      "FactorBP/FactorGraph.py:399: DeprecationWarning: PyArray_FromDims: use PyArray_SimpleNew.\n  def GetDecode(self): return _FactorGraph.CFactorGraph_GetDecode(self)\nFactorBP/FactorGraph.py:399: DeprecationWarning: PyArray_FromDimsAndDataAndDescr: use PyArray_NewFromDescr.\n  def GetDecode(self): return _FactorGraph.CFactorGraph_GetDecode(self)\nFactorBP/FactorGraph.py:399: DeprecationWarning: PyArray_FromDims: use PyArray_SimpleNew.\n  def GetDecode(self): return _FactorGraph.CFactorGraph_GetDecode(self)\nFactorBP/FactorGraph.py:399: DeprecationWarning: PyArray_FromDimsAndDataAndDescr: use PyArray_NewFromDescr.\n  def GetDecode(self): return _FactorGraph.CFactorGraph_GetDecode(self)\n"
     ]
    },
    {
     "name": "stderr",
     "output_type": "stream",
     "text": [
      "FactorBP/FactorGraph.py:399: DeprecationWarning: PyArray_FromDims: use PyArray_SimpleNew.\n  def GetDecode(self): return _FactorGraph.CFactorGraph_GetDecode(self)\nFactorBP/FactorGraph.py:399: DeprecationWarning: PyArray_FromDimsAndDataAndDescr: use PyArray_NewFromDescr.\n  def GetDecode(self): return _FactorGraph.CFactorGraph_GetDecode(self)\nFactorBP/FactorGraph.py:399: DeprecationWarning: PyArray_FromDims: use PyArray_SimpleNew.\n  def GetDecode(self): return _FactorGraph.CFactorGraph_GetDecode(self)\nFactorBP/FactorGraph.py:399: DeprecationWarning: PyArray_FromDimsAndDataAndDescr: use PyArray_NewFromDescr.\n  def GetDecode(self): return _FactorGraph.CFactorGraph_GetDecode(self)\n"
     ]
    },
    {
     "name": "stderr",
     "output_type": "stream",
     "text": [
      "FactorBP/FactorGraph.py:399: DeprecationWarning: PyArray_FromDims: use PyArray_SimpleNew.\n  def GetDecode(self): return _FactorGraph.CFactorGraph_GetDecode(self)\nFactorBP/FactorGraph.py:399: DeprecationWarning: PyArray_FromDimsAndDataAndDescr: use PyArray_NewFromDescr.\n  def GetDecode(self): return _FactorGraph.CFactorGraph_GetDecode(self)\nFactorBP/FactorGraph.py:399: DeprecationWarning: PyArray_FromDims: use PyArray_SimpleNew.\n  def GetDecode(self): return _FactorGraph.CFactorGraph_GetDecode(self)\nFactorBP/FactorGraph.py:399: DeprecationWarning: PyArray_FromDimsAndDataAndDescr: use PyArray_NewFromDescr.\n  def GetDecode(self): return _FactorGraph.CFactorGraph_GetDecode(self)\n"
     ]
    },
    {
     "name": "stderr",
     "output_type": "stream",
     "text": [
      "FactorBP/FactorGraph.py:399: DeprecationWarning: PyArray_FromDims: use PyArray_SimpleNew.\n  def GetDecode(self): return _FactorGraph.CFactorGraph_GetDecode(self)\nFactorBP/FactorGraph.py:399: DeprecationWarning: PyArray_FromDimsAndDataAndDescr: use PyArray_NewFromDescr.\n  def GetDecode(self): return _FactorGraph.CFactorGraph_GetDecode(self)\nFactorBP/FactorGraph.py:399: DeprecationWarning: PyArray_FromDims: use PyArray_SimpleNew.\n  def GetDecode(self): return _FactorGraph.CFactorGraph_GetDecode(self)\nFactorBP/FactorGraph.py:399: DeprecationWarning: PyArray_FromDimsAndDataAndDescr: use PyArray_NewFromDescr.\n  def GetDecode(self): return _FactorGraph.CFactorGraph_GetDecode(self)\n"
     ]
    },
    {
     "name": "stderr",
     "output_type": "stream",
     "text": [
      "FactorBP/FactorGraph.py:399: DeprecationWarning: PyArray_FromDims: use PyArray_SimpleNew.\n  def GetDecode(self): return _FactorGraph.CFactorGraph_GetDecode(self)\nFactorBP/FactorGraph.py:399: DeprecationWarning: PyArray_FromDimsAndDataAndDescr: use PyArray_NewFromDescr.\n  def GetDecode(self): return _FactorGraph.CFactorGraph_GetDecode(self)\nFactorBP/FactorGraph.py:399: DeprecationWarning: PyArray_FromDims: use PyArray_SimpleNew.\n  def GetDecode(self): return _FactorGraph.CFactorGraph_GetDecode(self)\nFactorBP/FactorGraph.py:399: DeprecationWarning: PyArray_FromDimsAndDataAndDescr: use PyArray_NewFromDescr.\n  def GetDecode(self): return _FactorGraph.CFactorGraph_GetDecode(self)\n"
     ]
    },
    {
     "name": "stderr",
     "output_type": "stream",
     "text": [
      "FactorBP/FactorGraph.py:399: DeprecationWarning: PyArray_FromDims: use PyArray_SimpleNew.\n  def GetDecode(self): return _FactorGraph.CFactorGraph_GetDecode(self)\nFactorBP/FactorGraph.py:399: DeprecationWarning: PyArray_FromDimsAndDataAndDescr: use PyArray_NewFromDescr.\n  def GetDecode(self): return _FactorGraph.CFactorGraph_GetDecode(self)\nFactorBP/FactorGraph.py:399: DeprecationWarning: PyArray_FromDims: use PyArray_SimpleNew.\n  def GetDecode(self): return _FactorGraph.CFactorGraph_GetDecode(self)\nFactorBP/FactorGraph.py:399: DeprecationWarning: PyArray_FromDimsAndDataAndDescr: use PyArray_NewFromDescr.\n  def GetDecode(self): return _FactorGraph.CFactorGraph_GetDecode(self)\n"
     ]
    },
    {
     "name": "stderr",
     "output_type": "stream",
     "text": [
      "FactorBP/FactorGraph.py:399: DeprecationWarning: PyArray_FromDims: use PyArray_SimpleNew.\n  def GetDecode(self): return _FactorGraph.CFactorGraph_GetDecode(self)\nFactorBP/FactorGraph.py:399: DeprecationWarning: PyArray_FromDimsAndDataAndDescr: use PyArray_NewFromDescr.\n  def GetDecode(self): return _FactorGraph.CFactorGraph_GetDecode(self)\nFactorBP/FactorGraph.py:399: DeprecationWarning: PyArray_FromDims: use PyArray_SimpleNew.\n  def GetDecode(self): return _FactorGraph.CFactorGraph_GetDecode(self)\nFactorBP/FactorGraph.py:399: DeprecationWarning: PyArray_FromDimsAndDataAndDescr: use PyArray_NewFromDescr.\n  def GetDecode(self): return _FactorGraph.CFactorGraph_GetDecode(self)\n"
     ]
    },
    {
     "name": "stderr",
     "output_type": "stream",
     "text": [
      "FactorBP/FactorGraph.py:399: DeprecationWarning: PyArray_FromDims: use PyArray_SimpleNew.\n  def GetDecode(self): return _FactorGraph.CFactorGraph_GetDecode(self)\nFactorBP/FactorGraph.py:399: DeprecationWarning: PyArray_FromDimsAndDataAndDescr: use PyArray_NewFromDescr.\n  def GetDecode(self): return _FactorGraph.CFactorGraph_GetDecode(self)\nFactorBP/FactorGraph.py:399: DeprecationWarning: PyArray_FromDims: use PyArray_SimpleNew.\n  def GetDecode(self): return _FactorGraph.CFactorGraph_GetDecode(self)\nFactorBP/FactorGraph.py:399: DeprecationWarning: PyArray_FromDimsAndDataAndDescr: use PyArray_NewFromDescr.\n  def GetDecode(self): return _FactorGraph.CFactorGraph_GetDecode(self)\n"
     ]
    },
    {
     "name": "stderr",
     "output_type": "stream",
     "text": [
      "FactorBP/FactorGraph.py:399: DeprecationWarning: PyArray_FromDims: use PyArray_SimpleNew.\n  def GetDecode(self): return _FactorGraph.CFactorGraph_GetDecode(self)\nFactorBP/FactorGraph.py:399: DeprecationWarning: PyArray_FromDimsAndDataAndDescr: use PyArray_NewFromDescr.\n  def GetDecode(self): return _FactorGraph.CFactorGraph_GetDecode(self)\nFactorBP/FactorGraph.py:399: DeprecationWarning: PyArray_FromDims: use PyArray_SimpleNew.\n  def GetDecode(self): return _FactorGraph.CFactorGraph_GetDecode(self)\nFactorBP/FactorGraph.py:399: DeprecationWarning: PyArray_FromDimsAndDataAndDescr: use PyArray_NewFromDescr.\n  def GetDecode(self): return _FactorGraph.CFactorGraph_GetDecode(self)\n"
     ]
    },
    {
     "name": "stderr",
     "output_type": "stream",
     "text": [
      "FactorBP/FactorGraph.py:399: DeprecationWarning: PyArray_FromDims: use PyArray_SimpleNew.\n  def GetDecode(self): return _FactorGraph.CFactorGraph_GetDecode(self)\nFactorBP/FactorGraph.py:399: DeprecationWarning: PyArray_FromDimsAndDataAndDescr: use PyArray_NewFromDescr.\n  def GetDecode(self): return _FactorGraph.CFactorGraph_GetDecode(self)\nFactorBP/FactorGraph.py:399: DeprecationWarning: PyArray_FromDims: use PyArray_SimpleNew.\n  def GetDecode(self): return _FactorGraph.CFactorGraph_GetDecode(self)\nFactorBP/FactorGraph.py:399: DeprecationWarning: PyArray_FromDimsAndDataAndDescr: use PyArray_NewFromDescr.\n  def GetDecode(self): return _FactorGraph.CFactorGraph_GetDecode(self)\n"
     ]
    },
    {
     "name": "stderr",
     "output_type": "stream",
     "text": [
      "FactorBP/FactorGraph.py:399: DeprecationWarning: PyArray_FromDims: use PyArray_SimpleNew.\n  def GetDecode(self): return _FactorGraph.CFactorGraph_GetDecode(self)\nFactorBP/FactorGraph.py:399: DeprecationWarning: PyArray_FromDimsAndDataAndDescr: use PyArray_NewFromDescr.\n  def GetDecode(self): return _FactorGraph.CFactorGraph_GetDecode(self)\nFactorBP/FactorGraph.py:399: DeprecationWarning: PyArray_FromDims: use PyArray_SimpleNew.\n  def GetDecode(self): return _FactorGraph.CFactorGraph_GetDecode(self)\nFactorBP/FactorGraph.py:399: DeprecationWarning: PyArray_FromDimsAndDataAndDescr: use PyArray_NewFromDescr.\n  def GetDecode(self): return _FactorGraph.CFactorGraph_GetDecode(self)\n"
     ]
    },
    {
     "name": "stderr",
     "output_type": "stream",
     "text": [
      "FactorBP/FactorGraph.py:399: DeprecationWarning: PyArray_FromDims: use PyArray_SimpleNew.\n  def GetDecode(self): return _FactorGraph.CFactorGraph_GetDecode(self)\nFactorBP/FactorGraph.py:399: DeprecationWarning: PyArray_FromDimsAndDataAndDescr: use PyArray_NewFromDescr.\n  def GetDecode(self): return _FactorGraph.CFactorGraph_GetDecode(self)\nFactorBP/FactorGraph.py:399: DeprecationWarning: PyArray_FromDims: use PyArray_SimpleNew.\n  def GetDecode(self): return _FactorGraph.CFactorGraph_GetDecode(self)\nFactorBP/FactorGraph.py:399: DeprecationWarning: PyArray_FromDimsAndDataAndDescr: use PyArray_NewFromDescr.\n  def GetDecode(self): return _FactorGraph.CFactorGraph_GetDecode(self)\n"
     ]
    },
    {
     "name": "stderr",
     "output_type": "stream",
     "text": [
      "FactorBP/FactorGraph.py:399: DeprecationWarning: PyArray_FromDims: use PyArray_SimpleNew.\n  def GetDecode(self): return _FactorGraph.CFactorGraph_GetDecode(self)\nFactorBP/FactorGraph.py:399: DeprecationWarning: PyArray_FromDimsAndDataAndDescr: use PyArray_NewFromDescr.\n  def GetDecode(self): return _FactorGraph.CFactorGraph_GetDecode(self)\nFactorBP/FactorGraph.py:399: DeprecationWarning: PyArray_FromDims: use PyArray_SimpleNew.\n  def GetDecode(self): return _FactorGraph.CFactorGraph_GetDecode(self)\nFactorBP/FactorGraph.py:399: DeprecationWarning: PyArray_FromDimsAndDataAndDescr: use PyArray_NewFromDescr.\n  def GetDecode(self): return _FactorGraph.CFactorGraph_GetDecode(self)\n"
     ]
    },
    {
     "name": "stderr",
     "output_type": "stream",
     "text": [
      "FactorBP/FactorGraph.py:399: DeprecationWarning: PyArray_FromDims: use PyArray_SimpleNew.\n  def GetDecode(self): return _FactorGraph.CFactorGraph_GetDecode(self)\nFactorBP/FactorGraph.py:399: DeprecationWarning: PyArray_FromDimsAndDataAndDescr: use PyArray_NewFromDescr.\n  def GetDecode(self): return _FactorGraph.CFactorGraph_GetDecode(self)\nFactorBP/FactorGraph.py:399: DeprecationWarning: PyArray_FromDims: use PyArray_SimpleNew.\n  def GetDecode(self): return _FactorGraph.CFactorGraph_GetDecode(self)\nFactorBP/FactorGraph.py:399: DeprecationWarning: PyArray_FromDimsAndDataAndDescr: use PyArray_NewFromDescr.\n  def GetDecode(self): return _FactorGraph.CFactorGraph_GetDecode(self)\n"
     ]
    },
    {
     "name": "stderr",
     "output_type": "stream",
     "text": [
      "FactorBP/FactorGraph.py:399: DeprecationWarning: PyArray_FromDims: use PyArray_SimpleNew.\n  def GetDecode(self): return _FactorGraph.CFactorGraph_GetDecode(self)\nFactorBP/FactorGraph.py:399: DeprecationWarning: PyArray_FromDimsAndDataAndDescr: use PyArray_NewFromDescr.\n  def GetDecode(self): return _FactorGraph.CFactorGraph_GetDecode(self)\nFactorBP/FactorGraph.py:399: DeprecationWarning: PyArray_FromDims: use PyArray_SimpleNew.\n  def GetDecode(self): return _FactorGraph.CFactorGraph_GetDecode(self)\nFactorBP/FactorGraph.py:399: DeprecationWarning: PyArray_FromDimsAndDataAndDescr: use PyArray_NewFromDescr.\n  def GetDecode(self): return _FactorGraph.CFactorGraph_GetDecode(self)\n"
     ]
    },
    {
     "name": "stderr",
     "output_type": "stream",
     "text": [
      "FactorBP/FactorGraph.py:399: DeprecationWarning: PyArray_FromDims: use PyArray_SimpleNew.\n  def GetDecode(self): return _FactorGraph.CFactorGraph_GetDecode(self)\nFactorBP/FactorGraph.py:399: DeprecationWarning: PyArray_FromDimsAndDataAndDescr: use PyArray_NewFromDescr.\n  def GetDecode(self): return _FactorGraph.CFactorGraph_GetDecode(self)\nFactorBP/FactorGraph.py:399: DeprecationWarning: PyArray_FromDims: use PyArray_SimpleNew.\n  def GetDecode(self): return _FactorGraph.CFactorGraph_GetDecode(self)\nFactorBP/FactorGraph.py:399: DeprecationWarning: PyArray_FromDimsAndDataAndDescr: use PyArray_NewFromDescr.\n  def GetDecode(self): return _FactorGraph.CFactorGraph_GetDecode(self)\n"
     ]
    },
    {
     "name": "stderr",
     "output_type": "stream",
     "text": [
      "FactorBP/FactorGraph.py:399: DeprecationWarning: PyArray_FromDims: use PyArray_SimpleNew.\n  def GetDecode(self): return _FactorGraph.CFactorGraph_GetDecode(self)\nFactorBP/FactorGraph.py:399: DeprecationWarning: PyArray_FromDimsAndDataAndDescr: use PyArray_NewFromDescr.\n  def GetDecode(self): return _FactorGraph.CFactorGraph_GetDecode(self)\nFactorBP/FactorGraph.py:399: DeprecationWarning: PyArray_FromDims: use PyArray_SimpleNew.\n  def GetDecode(self): return _FactorGraph.CFactorGraph_GetDecode(self)\nFactorBP/FactorGraph.py:399: DeprecationWarning: PyArray_FromDimsAndDataAndDescr: use PyArray_NewFromDescr.\n  def GetDecode(self): return _FactorGraph.CFactorGraph_GetDecode(self)\n"
     ]
    },
    {
     "name": "stdout",
     "output_type": "stream",
     "text": [
      "Ours Accuracy 1.000000 Running Time 0.016523 Obj 1.000000\nOurs-PW Accuracy 1.000000 Running Time 0.009125 Obj 0.893873\nOurs-BCA Accuracy 1.000000 Running Time 0.047588 Obj 1.000000\nBCA Accuracy 1.000000 Running Time 0.022799 Obj 1.000000\nBCA-MP Accuracy 1.000000 Running Time 0.115352 Obj 1.000000\nBCA-IPFP Accuracy 1.000000 Running Time 0.091066 Obj 1.000000\nHGM Accuracy 0.807591 Running Time 0.005248 Obj 0.761619\nRRWHM Accuracy 1.000000 Running Time 0.057733 Obj 1.000000\nTM Accuracy 0.789769 Running Time 0.086883 Obj 0.794058\n××××××××××××××××××××\n Start baseline: 20\n"
     ]
    },
    {
     "name": "stderr",
     "output_type": "stream",
     "text": [
      "FactorBP/FactorGraph.py:399: DeprecationWarning: PyArray_FromDims: use PyArray_SimpleNew.\n  def GetDecode(self): return _FactorGraph.CFactorGraph_GetDecode(self)\nFactorBP/FactorGraph.py:399: DeprecationWarning: PyArray_FromDimsAndDataAndDescr: use PyArray_NewFromDescr.\n  def GetDecode(self): return _FactorGraph.CFactorGraph_GetDecode(self)\nFactorBP/FactorGraph.py:399: DeprecationWarning: PyArray_FromDims: use PyArray_SimpleNew.\n  def GetDecode(self): return _FactorGraph.CFactorGraph_GetDecode(self)\nFactorBP/FactorGraph.py:399: DeprecationWarning: PyArray_FromDimsAndDataAndDescr: use PyArray_NewFromDescr.\n  def GetDecode(self): return _FactorGraph.CFactorGraph_GetDecode(self)\n"
     ]
    },
    {
     "name": "stderr",
     "output_type": "stream",
     "text": [
      "FactorBP/FactorGraph.py:399: DeprecationWarning: PyArray_FromDims: use PyArray_SimpleNew.\n  def GetDecode(self): return _FactorGraph.CFactorGraph_GetDecode(self)\nFactorBP/FactorGraph.py:399: DeprecationWarning: PyArray_FromDimsAndDataAndDescr: use PyArray_NewFromDescr.\n  def GetDecode(self): return _FactorGraph.CFactorGraph_GetDecode(self)\nFactorBP/FactorGraph.py:399: DeprecationWarning: PyArray_FromDims: use PyArray_SimpleNew.\n  def GetDecode(self): return _FactorGraph.CFactorGraph_GetDecode(self)\nFactorBP/FactorGraph.py:399: DeprecationWarning: PyArray_FromDimsAndDataAndDescr: use PyArray_NewFromDescr.\n  def GetDecode(self): return _FactorGraph.CFactorGraph_GetDecode(self)\n"
     ]
    },
    {
     "name": "stderr",
     "output_type": "stream",
     "text": [
      "FactorBP/FactorGraph.py:399: DeprecationWarning: PyArray_FromDims: use PyArray_SimpleNew.\n  def GetDecode(self): return _FactorGraph.CFactorGraph_GetDecode(self)\nFactorBP/FactorGraph.py:399: DeprecationWarning: PyArray_FromDimsAndDataAndDescr: use PyArray_NewFromDescr.\n  def GetDecode(self): return _FactorGraph.CFactorGraph_GetDecode(self)\nFactorBP/FactorGraph.py:399: DeprecationWarning: PyArray_FromDims: use PyArray_SimpleNew.\n  def GetDecode(self): return _FactorGraph.CFactorGraph_GetDecode(self)\nFactorBP/FactorGraph.py:399: DeprecationWarning: PyArray_FromDimsAndDataAndDescr: use PyArray_NewFromDescr.\n  def GetDecode(self): return _FactorGraph.CFactorGraph_GetDecode(self)\n"
     ]
    },
    {
     "name": "stderr",
     "output_type": "stream",
     "text": [
      "FactorBP/FactorGraph.py:399: DeprecationWarning: PyArray_FromDims: use PyArray_SimpleNew.\n  def GetDecode(self): return _FactorGraph.CFactorGraph_GetDecode(self)\nFactorBP/FactorGraph.py:399: DeprecationWarning: PyArray_FromDimsAndDataAndDescr: use PyArray_NewFromDescr.\n  def GetDecode(self): return _FactorGraph.CFactorGraph_GetDecode(self)\nFactorBP/FactorGraph.py:399: DeprecationWarning: PyArray_FromDims: use PyArray_SimpleNew.\n  def GetDecode(self): return _FactorGraph.CFactorGraph_GetDecode(self)\nFactorBP/FactorGraph.py:399: DeprecationWarning: PyArray_FromDimsAndDataAndDescr: use PyArray_NewFromDescr.\n  def GetDecode(self): return _FactorGraph.CFactorGraph_GetDecode(self)\n"
     ]
    },
    {
     "name": "stderr",
     "output_type": "stream",
     "text": [
      "FactorBP/FactorGraph.py:399: DeprecationWarning: PyArray_FromDims: use PyArray_SimpleNew.\n  def GetDecode(self): return _FactorGraph.CFactorGraph_GetDecode(self)\nFactorBP/FactorGraph.py:399: DeprecationWarning: PyArray_FromDimsAndDataAndDescr: use PyArray_NewFromDescr.\n  def GetDecode(self): return _FactorGraph.CFactorGraph_GetDecode(self)\nFactorBP/FactorGraph.py:399: DeprecationWarning: PyArray_FromDims: use PyArray_SimpleNew.\n  def GetDecode(self): return _FactorGraph.CFactorGraph_GetDecode(self)\nFactorBP/FactorGraph.py:399: DeprecationWarning: PyArray_FromDimsAndDataAndDescr: use PyArray_NewFromDescr.\n  def GetDecode(self): return _FactorGraph.CFactorGraph_GetDecode(self)\n"
     ]
    },
    {
     "name": "stderr",
     "output_type": "stream",
     "text": [
      "FactorBP/FactorGraph.py:399: DeprecationWarning: PyArray_FromDims: use PyArray_SimpleNew.\n  def GetDecode(self): return _FactorGraph.CFactorGraph_GetDecode(self)\nFactorBP/FactorGraph.py:399: DeprecationWarning: PyArray_FromDimsAndDataAndDescr: use PyArray_NewFromDescr.\n  def GetDecode(self): return _FactorGraph.CFactorGraph_GetDecode(self)\nFactorBP/FactorGraph.py:399: DeprecationWarning: PyArray_FromDims: use PyArray_SimpleNew.\n  def GetDecode(self): return _FactorGraph.CFactorGraph_GetDecode(self)\nFactorBP/FactorGraph.py:399: DeprecationWarning: PyArray_FromDimsAndDataAndDescr: use PyArray_NewFromDescr.\n  def GetDecode(self): return _FactorGraph.CFactorGraph_GetDecode(self)\n"
     ]
    },
    {
     "name": "stderr",
     "output_type": "stream",
     "text": [
      "FactorBP/FactorGraph.py:399: DeprecationWarning: PyArray_FromDims: use PyArray_SimpleNew.\n  def GetDecode(self): return _FactorGraph.CFactorGraph_GetDecode(self)\nFactorBP/FactorGraph.py:399: DeprecationWarning: PyArray_FromDimsAndDataAndDescr: use PyArray_NewFromDescr.\n  def GetDecode(self): return _FactorGraph.CFactorGraph_GetDecode(self)\nFactorBP/FactorGraph.py:399: DeprecationWarning: PyArray_FromDims: use PyArray_SimpleNew.\n  def GetDecode(self): return _FactorGraph.CFactorGraph_GetDecode(self)\nFactorBP/FactorGraph.py:399: DeprecationWarning: PyArray_FromDimsAndDataAndDescr: use PyArray_NewFromDescr.\n  def GetDecode(self): return _FactorGraph.CFactorGraph_GetDecode(self)\n"
     ]
    },
    {
     "name": "stderr",
     "output_type": "stream",
     "text": [
      "FactorBP/FactorGraph.py:399: DeprecationWarning: PyArray_FromDims: use PyArray_SimpleNew.\n  def GetDecode(self): return _FactorGraph.CFactorGraph_GetDecode(self)\nFactorBP/FactorGraph.py:399: DeprecationWarning: PyArray_FromDimsAndDataAndDescr: use PyArray_NewFromDescr.\n  def GetDecode(self): return _FactorGraph.CFactorGraph_GetDecode(self)\nFactorBP/FactorGraph.py:399: DeprecationWarning: PyArray_FromDims: use PyArray_SimpleNew.\n  def GetDecode(self): return _FactorGraph.CFactorGraph_GetDecode(self)\nFactorBP/FactorGraph.py:399: DeprecationWarning: PyArray_FromDimsAndDataAndDescr: use PyArray_NewFromDescr.\n  def GetDecode(self): return _FactorGraph.CFactorGraph_GetDecode(self)\n"
     ]
    },
    {
     "name": "stderr",
     "output_type": "stream",
     "text": [
      "FactorBP/FactorGraph.py:399: DeprecationWarning: PyArray_FromDims: use PyArray_SimpleNew.\n  def GetDecode(self): return _FactorGraph.CFactorGraph_GetDecode(self)\nFactorBP/FactorGraph.py:399: DeprecationWarning: PyArray_FromDimsAndDataAndDescr: use PyArray_NewFromDescr.\n  def GetDecode(self): return _FactorGraph.CFactorGraph_GetDecode(self)\nFactorBP/FactorGraph.py:399: DeprecationWarning: PyArray_FromDims: use PyArray_SimpleNew.\n  def GetDecode(self): return _FactorGraph.CFactorGraph_GetDecode(self)\nFactorBP/FactorGraph.py:399: DeprecationWarning: PyArray_FromDimsAndDataAndDescr: use PyArray_NewFromDescr.\n  def GetDecode(self): return _FactorGraph.CFactorGraph_GetDecode(self)\n"
     ]
    },
    {
     "name": "stderr",
     "output_type": "stream",
     "text": [
      "FactorBP/FactorGraph.py:399: DeprecationWarning: PyArray_FromDims: use PyArray_SimpleNew.\n  def GetDecode(self): return _FactorGraph.CFactorGraph_GetDecode(self)\nFactorBP/FactorGraph.py:399: DeprecationWarning: PyArray_FromDimsAndDataAndDescr: use PyArray_NewFromDescr.\n  def GetDecode(self): return _FactorGraph.CFactorGraph_GetDecode(self)\nFactorBP/FactorGraph.py:399: DeprecationWarning: PyArray_FromDims: use PyArray_SimpleNew.\n  def GetDecode(self): return _FactorGraph.CFactorGraph_GetDecode(self)\nFactorBP/FactorGraph.py:399: DeprecationWarning: PyArray_FromDimsAndDataAndDescr: use PyArray_NewFromDescr.\n  def GetDecode(self): return _FactorGraph.CFactorGraph_GetDecode(self)\n"
     ]
    },
    {
     "name": "stderr",
     "output_type": "stream",
     "text": [
      "FactorBP/FactorGraph.py:399: DeprecationWarning: PyArray_FromDims: use PyArray_SimpleNew.\n  def GetDecode(self): return _FactorGraph.CFactorGraph_GetDecode(self)\nFactorBP/FactorGraph.py:399: DeprecationWarning: PyArray_FromDimsAndDataAndDescr: use PyArray_NewFromDescr.\n  def GetDecode(self): return _FactorGraph.CFactorGraph_GetDecode(self)\nFactorBP/FactorGraph.py:399: DeprecationWarning: PyArray_FromDims: use PyArray_SimpleNew.\n  def GetDecode(self): return _FactorGraph.CFactorGraph_GetDecode(self)\nFactorBP/FactorGraph.py:399: DeprecationWarning: PyArray_FromDimsAndDataAndDescr: use PyArray_NewFromDescr.\n  def GetDecode(self): return _FactorGraph.CFactorGraph_GetDecode(self)\n"
     ]
    },
    {
     "name": "stderr",
     "output_type": "stream",
     "text": [
      "FactorBP/FactorGraph.py:399: DeprecationWarning: PyArray_FromDims: use PyArray_SimpleNew.\n  def GetDecode(self): return _FactorGraph.CFactorGraph_GetDecode(self)\nFactorBP/FactorGraph.py:399: DeprecationWarning: PyArray_FromDimsAndDataAndDescr: use PyArray_NewFromDescr.\n  def GetDecode(self): return _FactorGraph.CFactorGraph_GetDecode(self)\nFactorBP/FactorGraph.py:399: DeprecationWarning: PyArray_FromDims: use PyArray_SimpleNew.\n  def GetDecode(self): return _FactorGraph.CFactorGraph_GetDecode(self)\nFactorBP/FactorGraph.py:399: DeprecationWarning: PyArray_FromDimsAndDataAndDescr: use PyArray_NewFromDescr.\n  def GetDecode(self): return _FactorGraph.CFactorGraph_GetDecode(self)\n"
     ]
    },
    {
     "name": "stderr",
     "output_type": "stream",
     "text": [
      "FactorBP/FactorGraph.py:399: DeprecationWarning: PyArray_FromDims: use PyArray_SimpleNew.\n  def GetDecode(self): return _FactorGraph.CFactorGraph_GetDecode(self)\nFactorBP/FactorGraph.py:399: DeprecationWarning: PyArray_FromDimsAndDataAndDescr: use PyArray_NewFromDescr.\n  def GetDecode(self): return _FactorGraph.CFactorGraph_GetDecode(self)\nFactorBP/FactorGraph.py:399: DeprecationWarning: PyArray_FromDims: use PyArray_SimpleNew.\n  def GetDecode(self): return _FactorGraph.CFactorGraph_GetDecode(self)\nFactorBP/FactorGraph.py:399: DeprecationWarning: PyArray_FromDimsAndDataAndDescr: use PyArray_NewFromDescr.\n  def GetDecode(self): return _FactorGraph.CFactorGraph_GetDecode(self)\n"
     ]
    },
    {
     "name": "stderr",
     "output_type": "stream",
     "text": [
      "FactorBP/FactorGraph.py:399: DeprecationWarning: PyArray_FromDims: use PyArray_SimpleNew.\n  def GetDecode(self): return _FactorGraph.CFactorGraph_GetDecode(self)\nFactorBP/FactorGraph.py:399: DeprecationWarning: PyArray_FromDimsAndDataAndDescr: use PyArray_NewFromDescr.\n  def GetDecode(self): return _FactorGraph.CFactorGraph_GetDecode(self)\nFactorBP/FactorGraph.py:399: DeprecationWarning: PyArray_FromDims: use PyArray_SimpleNew.\n  def GetDecode(self): return _FactorGraph.CFactorGraph_GetDecode(self)\nFactorBP/FactorGraph.py:399: DeprecationWarning: PyArray_FromDimsAndDataAndDescr: use PyArray_NewFromDescr.\n  def GetDecode(self): return _FactorGraph.CFactorGraph_GetDecode(self)\n"
     ]
    },
    {
     "name": "stderr",
     "output_type": "stream",
     "text": [
      "FactorBP/FactorGraph.py:399: DeprecationWarning: PyArray_FromDims: use PyArray_SimpleNew.\n  def GetDecode(self): return _FactorGraph.CFactorGraph_GetDecode(self)\nFactorBP/FactorGraph.py:399: DeprecationWarning: PyArray_FromDimsAndDataAndDescr: use PyArray_NewFromDescr.\n  def GetDecode(self): return _FactorGraph.CFactorGraph_GetDecode(self)\nFactorBP/FactorGraph.py:399: DeprecationWarning: PyArray_FromDims: use PyArray_SimpleNew.\n  def GetDecode(self): return _FactorGraph.CFactorGraph_GetDecode(self)\nFactorBP/FactorGraph.py:399: DeprecationWarning: PyArray_FromDimsAndDataAndDescr: use PyArray_NewFromDescr.\n  def GetDecode(self): return _FactorGraph.CFactorGraph_GetDecode(self)\n"
     ]
    },
    {
     "name": "stderr",
     "output_type": "stream",
     "text": [
      "FactorBP/FactorGraph.py:399: DeprecationWarning: PyArray_FromDims: use PyArray_SimpleNew.\n  def GetDecode(self): return _FactorGraph.CFactorGraph_GetDecode(self)\nFactorBP/FactorGraph.py:399: DeprecationWarning: PyArray_FromDimsAndDataAndDescr: use PyArray_NewFromDescr.\n  def GetDecode(self): return _FactorGraph.CFactorGraph_GetDecode(self)\nFactorBP/FactorGraph.py:399: DeprecationWarning: PyArray_FromDims: use PyArray_SimpleNew.\n  def GetDecode(self): return _FactorGraph.CFactorGraph_GetDecode(self)\nFactorBP/FactorGraph.py:399: DeprecationWarning: PyArray_FromDimsAndDataAndDescr: use PyArray_NewFromDescr.\n  def GetDecode(self): return _FactorGraph.CFactorGraph_GetDecode(self)\n"
     ]
    },
    {
     "name": "stderr",
     "output_type": "stream",
     "text": [
      "FactorBP/FactorGraph.py:399: DeprecationWarning: PyArray_FromDims: use PyArray_SimpleNew.\n  def GetDecode(self): return _FactorGraph.CFactorGraph_GetDecode(self)\nFactorBP/FactorGraph.py:399: DeprecationWarning: PyArray_FromDimsAndDataAndDescr: use PyArray_NewFromDescr.\n  def GetDecode(self): return _FactorGraph.CFactorGraph_GetDecode(self)\nFactorBP/FactorGraph.py:399: DeprecationWarning: PyArray_FromDims: use PyArray_SimpleNew.\n  def GetDecode(self): return _FactorGraph.CFactorGraph_GetDecode(self)\nFactorBP/FactorGraph.py:399: DeprecationWarning: PyArray_FromDimsAndDataAndDescr: use PyArray_NewFromDescr.\n  def GetDecode(self): return _FactorGraph.CFactorGraph_GetDecode(self)\n"
     ]
    },
    {
     "name": "stderr",
     "output_type": "stream",
     "text": [
      "FactorBP/FactorGraph.py:399: DeprecationWarning: PyArray_FromDims: use PyArray_SimpleNew.\n  def GetDecode(self): return _FactorGraph.CFactorGraph_GetDecode(self)\nFactorBP/FactorGraph.py:399: DeprecationWarning: PyArray_FromDimsAndDataAndDescr: use PyArray_NewFromDescr.\n  def GetDecode(self): return _FactorGraph.CFactorGraph_GetDecode(self)\nFactorBP/FactorGraph.py:399: DeprecationWarning: PyArray_FromDims: use PyArray_SimpleNew.\n  def GetDecode(self): return _FactorGraph.CFactorGraph_GetDecode(self)\nFactorBP/FactorGraph.py:399: DeprecationWarning: PyArray_FromDimsAndDataAndDescr: use PyArray_NewFromDescr.\n  def GetDecode(self): return _FactorGraph.CFactorGraph_GetDecode(self)\n"
     ]
    },
    {
     "name": "stderr",
     "output_type": "stream",
     "text": [
      "FactorBP/FactorGraph.py:399: DeprecationWarning: PyArray_FromDims: use PyArray_SimpleNew.\n  def GetDecode(self): return _FactorGraph.CFactorGraph_GetDecode(self)\nFactorBP/FactorGraph.py:399: DeprecationWarning: PyArray_FromDimsAndDataAndDescr: use PyArray_NewFromDescr.\n  def GetDecode(self): return _FactorGraph.CFactorGraph_GetDecode(self)\nFactorBP/FactorGraph.py:399: DeprecationWarning: PyArray_FromDims: use PyArray_SimpleNew.\n  def GetDecode(self): return _FactorGraph.CFactorGraph_GetDecode(self)\nFactorBP/FactorGraph.py:399: DeprecationWarning: PyArray_FromDimsAndDataAndDescr: use PyArray_NewFromDescr.\n  def GetDecode(self): return _FactorGraph.CFactorGraph_GetDecode(self)\n"
     ]
    },
    {
     "name": "stderr",
     "output_type": "stream",
     "text": [
      "FactorBP/FactorGraph.py:399: DeprecationWarning: PyArray_FromDims: use PyArray_SimpleNew.\n  def GetDecode(self): return _FactorGraph.CFactorGraph_GetDecode(self)\nFactorBP/FactorGraph.py:399: DeprecationWarning: PyArray_FromDimsAndDataAndDescr: use PyArray_NewFromDescr.\n  def GetDecode(self): return _FactorGraph.CFactorGraph_GetDecode(self)\nFactorBP/FactorGraph.py:399: DeprecationWarning: PyArray_FromDims: use PyArray_SimpleNew.\n  def GetDecode(self): return _FactorGraph.CFactorGraph_GetDecode(self)\nFactorBP/FactorGraph.py:399: DeprecationWarning: PyArray_FromDimsAndDataAndDescr: use PyArray_NewFromDescr.\n  def GetDecode(self): return _FactorGraph.CFactorGraph_GetDecode(self)\n"
     ]
    },
    {
     "name": "stderr",
     "output_type": "stream",
     "text": [
      "FactorBP/FactorGraph.py:399: DeprecationWarning: PyArray_FromDims: use PyArray_SimpleNew.\n  def GetDecode(self): return _FactorGraph.CFactorGraph_GetDecode(self)\nFactorBP/FactorGraph.py:399: DeprecationWarning: PyArray_FromDimsAndDataAndDescr: use PyArray_NewFromDescr.\n  def GetDecode(self): return _FactorGraph.CFactorGraph_GetDecode(self)\nFactorBP/FactorGraph.py:399: DeprecationWarning: PyArray_FromDims: use PyArray_SimpleNew.\n  def GetDecode(self): return _FactorGraph.CFactorGraph_GetDecode(self)\nFactorBP/FactorGraph.py:399: DeprecationWarning: PyArray_FromDimsAndDataAndDescr: use PyArray_NewFromDescr.\n  def GetDecode(self): return _FactorGraph.CFactorGraph_GetDecode(self)\n"
     ]
    },
    {
     "name": "stderr",
     "output_type": "stream",
     "text": [
      "FactorBP/FactorGraph.py:399: DeprecationWarning: PyArray_FromDims: use PyArray_SimpleNew.\n  def GetDecode(self): return _FactorGraph.CFactorGraph_GetDecode(self)\nFactorBP/FactorGraph.py:399: DeprecationWarning: PyArray_FromDimsAndDataAndDescr: use PyArray_NewFromDescr.\n  def GetDecode(self): return _FactorGraph.CFactorGraph_GetDecode(self)\nFactorBP/FactorGraph.py:399: DeprecationWarning: PyArray_FromDims: use PyArray_SimpleNew.\n  def GetDecode(self): return _FactorGraph.CFactorGraph_GetDecode(self)\nFactorBP/FactorGraph.py:399: DeprecationWarning: PyArray_FromDimsAndDataAndDescr: use PyArray_NewFromDescr.\n  def GetDecode(self): return _FactorGraph.CFactorGraph_GetDecode(self)\n"
     ]
    },
    {
     "name": "stderr",
     "output_type": "stream",
     "text": [
      "FactorBP/FactorGraph.py:399: DeprecationWarning: PyArray_FromDims: use PyArray_SimpleNew.\n  def GetDecode(self): return _FactorGraph.CFactorGraph_GetDecode(self)\nFactorBP/FactorGraph.py:399: DeprecationWarning: PyArray_FromDimsAndDataAndDescr: use PyArray_NewFromDescr.\n  def GetDecode(self): return _FactorGraph.CFactorGraph_GetDecode(self)\nFactorBP/FactorGraph.py:399: DeprecationWarning: PyArray_FromDims: use PyArray_SimpleNew.\n  def GetDecode(self): return _FactorGraph.CFactorGraph_GetDecode(self)\nFactorBP/FactorGraph.py:399: DeprecationWarning: PyArray_FromDimsAndDataAndDescr: use PyArray_NewFromDescr.\n  def GetDecode(self): return _FactorGraph.CFactorGraph_GetDecode(self)\n"
     ]
    },
    {
     "name": "stderr",
     "output_type": "stream",
     "text": [
      "FactorBP/FactorGraph.py:399: DeprecationWarning: PyArray_FromDims: use PyArray_SimpleNew.\n  def GetDecode(self): return _FactorGraph.CFactorGraph_GetDecode(self)\nFactorBP/FactorGraph.py:399: DeprecationWarning: PyArray_FromDimsAndDataAndDescr: use PyArray_NewFromDescr.\n  def GetDecode(self): return _FactorGraph.CFactorGraph_GetDecode(self)\nFactorBP/FactorGraph.py:399: DeprecationWarning: PyArray_FromDims: use PyArray_SimpleNew.\n  def GetDecode(self): return _FactorGraph.CFactorGraph_GetDecode(self)\nFactorBP/FactorGraph.py:399: DeprecationWarning: PyArray_FromDimsAndDataAndDescr: use PyArray_NewFromDescr.\n  def GetDecode(self): return _FactorGraph.CFactorGraph_GetDecode(self)\n"
     ]
    },
    {
     "name": "stderr",
     "output_type": "stream",
     "text": [
      "FactorBP/FactorGraph.py:399: DeprecationWarning: PyArray_FromDims: use PyArray_SimpleNew.\n  def GetDecode(self): return _FactorGraph.CFactorGraph_GetDecode(self)\nFactorBP/FactorGraph.py:399: DeprecationWarning: PyArray_FromDimsAndDataAndDescr: use PyArray_NewFromDescr.\n  def GetDecode(self): return _FactorGraph.CFactorGraph_GetDecode(self)\nFactorBP/FactorGraph.py:399: DeprecationWarning: PyArray_FromDims: use PyArray_SimpleNew.\n  def GetDecode(self): return _FactorGraph.CFactorGraph_GetDecode(self)\nFactorBP/FactorGraph.py:399: DeprecationWarning: PyArray_FromDimsAndDataAndDescr: use PyArray_NewFromDescr.\n  def GetDecode(self): return _FactorGraph.CFactorGraph_GetDecode(self)\n"
     ]
    },
    {
     "name": "stderr",
     "output_type": "stream",
     "text": [
      "FactorBP/FactorGraph.py:399: DeprecationWarning: PyArray_FromDims: use PyArray_SimpleNew.\n  def GetDecode(self): return _FactorGraph.CFactorGraph_GetDecode(self)\nFactorBP/FactorGraph.py:399: DeprecationWarning: PyArray_FromDimsAndDataAndDescr: use PyArray_NewFromDescr.\n  def GetDecode(self): return _FactorGraph.CFactorGraph_GetDecode(self)\nFactorBP/FactorGraph.py:399: DeprecationWarning: PyArray_FromDims: use PyArray_SimpleNew.\n  def GetDecode(self): return _FactorGraph.CFactorGraph_GetDecode(self)\nFactorBP/FactorGraph.py:399: DeprecationWarning: PyArray_FromDimsAndDataAndDescr: use PyArray_NewFromDescr.\n  def GetDecode(self): return _FactorGraph.CFactorGraph_GetDecode(self)\n"
     ]
    },
    {
     "name": "stderr",
     "output_type": "stream",
     "text": [
      "FactorBP/FactorGraph.py:399: DeprecationWarning: PyArray_FromDims: use PyArray_SimpleNew.\n  def GetDecode(self): return _FactorGraph.CFactorGraph_GetDecode(self)\nFactorBP/FactorGraph.py:399: DeprecationWarning: PyArray_FromDimsAndDataAndDescr: use PyArray_NewFromDescr.\n  def GetDecode(self): return _FactorGraph.CFactorGraph_GetDecode(self)\nFactorBP/FactorGraph.py:399: DeprecationWarning: PyArray_FromDims: use PyArray_SimpleNew.\n  def GetDecode(self): return _FactorGraph.CFactorGraph_GetDecode(self)\nFactorBP/FactorGraph.py:399: DeprecationWarning: PyArray_FromDimsAndDataAndDescr: use PyArray_NewFromDescr.\n  def GetDecode(self): return _FactorGraph.CFactorGraph_GetDecode(self)\n"
     ]
    },
    {
     "name": "stderr",
     "output_type": "stream",
     "text": [
      "FactorBP/FactorGraph.py:399: DeprecationWarning: PyArray_FromDims: use PyArray_SimpleNew.\n  def GetDecode(self): return _FactorGraph.CFactorGraph_GetDecode(self)\nFactorBP/FactorGraph.py:399: DeprecationWarning: PyArray_FromDimsAndDataAndDescr: use PyArray_NewFromDescr.\n  def GetDecode(self): return _FactorGraph.CFactorGraph_GetDecode(self)\nFactorBP/FactorGraph.py:399: DeprecationWarning: PyArray_FromDims: use PyArray_SimpleNew.\n  def GetDecode(self): return _FactorGraph.CFactorGraph_GetDecode(self)\nFactorBP/FactorGraph.py:399: DeprecationWarning: PyArray_FromDimsAndDataAndDescr: use PyArray_NewFromDescr.\n  def GetDecode(self): return _FactorGraph.CFactorGraph_GetDecode(self)\n"
     ]
    },
    {
     "name": "stderr",
     "output_type": "stream",
     "text": [
      "FactorBP/FactorGraph.py:399: DeprecationWarning: PyArray_FromDims: use PyArray_SimpleNew.\n  def GetDecode(self): return _FactorGraph.CFactorGraph_GetDecode(self)\nFactorBP/FactorGraph.py:399: DeprecationWarning: PyArray_FromDimsAndDataAndDescr: use PyArray_NewFromDescr.\n  def GetDecode(self): return _FactorGraph.CFactorGraph_GetDecode(self)\nFactorBP/FactorGraph.py:399: DeprecationWarning: PyArray_FromDims: use PyArray_SimpleNew.\n  def GetDecode(self): return _FactorGraph.CFactorGraph_GetDecode(self)\nFactorBP/FactorGraph.py:399: DeprecationWarning: PyArray_FromDimsAndDataAndDescr: use PyArray_NewFromDescr.\n  def GetDecode(self): return _FactorGraph.CFactorGraph_GetDecode(self)\n"
     ]
    },
    {
     "name": "stderr",
     "output_type": "stream",
     "text": [
      "FactorBP/FactorGraph.py:399: DeprecationWarning: PyArray_FromDims: use PyArray_SimpleNew.\n  def GetDecode(self): return _FactorGraph.CFactorGraph_GetDecode(self)\nFactorBP/FactorGraph.py:399: DeprecationWarning: PyArray_FromDimsAndDataAndDescr: use PyArray_NewFromDescr.\n  def GetDecode(self): return _FactorGraph.CFactorGraph_GetDecode(self)\nFactorBP/FactorGraph.py:399: DeprecationWarning: PyArray_FromDims: use PyArray_SimpleNew.\n  def GetDecode(self): return _FactorGraph.CFactorGraph_GetDecode(self)\nFactorBP/FactorGraph.py:399: DeprecationWarning: PyArray_FromDimsAndDataAndDescr: use PyArray_NewFromDescr.\n  def GetDecode(self): return _FactorGraph.CFactorGraph_GetDecode(self)\n"
     ]
    },
    {
     "name": "stderr",
     "output_type": "stream",
     "text": [
      "FactorBP/FactorGraph.py:399: DeprecationWarning: PyArray_FromDims: use PyArray_SimpleNew.\n  def GetDecode(self): return _FactorGraph.CFactorGraph_GetDecode(self)\nFactorBP/FactorGraph.py:399: DeprecationWarning: PyArray_FromDimsAndDataAndDescr: use PyArray_NewFromDescr.\n  def GetDecode(self): return _FactorGraph.CFactorGraph_GetDecode(self)\nFactorBP/FactorGraph.py:399: DeprecationWarning: PyArray_FromDims: use PyArray_SimpleNew.\n  def GetDecode(self): return _FactorGraph.CFactorGraph_GetDecode(self)\nFactorBP/FactorGraph.py:399: DeprecationWarning: PyArray_FromDimsAndDataAndDescr: use PyArray_NewFromDescr.\n  def GetDecode(self): return _FactorGraph.CFactorGraph_GetDecode(self)\n"
     ]
    },
    {
     "name": "stderr",
     "output_type": "stream",
     "text": [
      "FactorBP/FactorGraph.py:399: DeprecationWarning: PyArray_FromDims: use PyArray_SimpleNew.\n  def GetDecode(self): return _FactorGraph.CFactorGraph_GetDecode(self)\nFactorBP/FactorGraph.py:399: DeprecationWarning: PyArray_FromDimsAndDataAndDescr: use PyArray_NewFromDescr.\n  def GetDecode(self): return _FactorGraph.CFactorGraph_GetDecode(self)\nFactorBP/FactorGraph.py:399: DeprecationWarning: PyArray_FromDims: use PyArray_SimpleNew.\n  def GetDecode(self): return _FactorGraph.CFactorGraph_GetDecode(self)\nFactorBP/FactorGraph.py:399: DeprecationWarning: PyArray_FromDimsAndDataAndDescr: use PyArray_NewFromDescr.\n  def GetDecode(self): return _FactorGraph.CFactorGraph_GetDecode(self)\n"
     ]
    },
    {
     "name": "stderr",
     "output_type": "stream",
     "text": [
      "FactorBP/FactorGraph.py:399: DeprecationWarning: PyArray_FromDims: use PyArray_SimpleNew.\n  def GetDecode(self): return _FactorGraph.CFactorGraph_GetDecode(self)\nFactorBP/FactorGraph.py:399: DeprecationWarning: PyArray_FromDimsAndDataAndDescr: use PyArray_NewFromDescr.\n  def GetDecode(self): return _FactorGraph.CFactorGraph_GetDecode(self)\nFactorBP/FactorGraph.py:399: DeprecationWarning: PyArray_FromDims: use PyArray_SimpleNew.\n  def GetDecode(self): return _FactorGraph.CFactorGraph_GetDecode(self)\nFactorBP/FactorGraph.py:399: DeprecationWarning: PyArray_FromDimsAndDataAndDescr: use PyArray_NewFromDescr.\n  def GetDecode(self): return _FactorGraph.CFactorGraph_GetDecode(self)\n"
     ]
    },
    {
     "name": "stderr",
     "output_type": "stream",
     "text": [
      "FactorBP/FactorGraph.py:399: DeprecationWarning: PyArray_FromDims: use PyArray_SimpleNew.\n  def GetDecode(self): return _FactorGraph.CFactorGraph_GetDecode(self)\nFactorBP/FactorGraph.py:399: DeprecationWarning: PyArray_FromDimsAndDataAndDescr: use PyArray_NewFromDescr.\n  def GetDecode(self): return _FactorGraph.CFactorGraph_GetDecode(self)\nFactorBP/FactorGraph.py:399: DeprecationWarning: PyArray_FromDims: use PyArray_SimpleNew.\n  def GetDecode(self): return _FactorGraph.CFactorGraph_GetDecode(self)\nFactorBP/FactorGraph.py:399: DeprecationWarning: PyArray_FromDimsAndDataAndDescr: use PyArray_NewFromDescr.\n  def GetDecode(self): return _FactorGraph.CFactorGraph_GetDecode(self)\n"
     ]
    },
    {
     "name": "stderr",
     "output_type": "stream",
     "text": [
      "FactorBP/FactorGraph.py:399: DeprecationWarning: PyArray_FromDims: use PyArray_SimpleNew.\n  def GetDecode(self): return _FactorGraph.CFactorGraph_GetDecode(self)\nFactorBP/FactorGraph.py:399: DeprecationWarning: PyArray_FromDimsAndDataAndDescr: use PyArray_NewFromDescr.\n  def GetDecode(self): return _FactorGraph.CFactorGraph_GetDecode(self)\nFactorBP/FactorGraph.py:399: DeprecationWarning: PyArray_FromDims: use PyArray_SimpleNew.\n  def GetDecode(self): return _FactorGraph.CFactorGraph_GetDecode(self)\nFactorBP/FactorGraph.py:399: DeprecationWarning: PyArray_FromDimsAndDataAndDescr: use PyArray_NewFromDescr.\n  def GetDecode(self): return _FactorGraph.CFactorGraph_GetDecode(self)\n"
     ]
    },
    {
     "name": "stderr",
     "output_type": "stream",
     "text": [
      "FactorBP/FactorGraph.py:399: DeprecationWarning: PyArray_FromDims: use PyArray_SimpleNew.\n  def GetDecode(self): return _FactorGraph.CFactorGraph_GetDecode(self)\nFactorBP/FactorGraph.py:399: DeprecationWarning: PyArray_FromDimsAndDataAndDescr: use PyArray_NewFromDescr.\n  def GetDecode(self): return _FactorGraph.CFactorGraph_GetDecode(self)\nFactorBP/FactorGraph.py:399: DeprecationWarning: PyArray_FromDims: use PyArray_SimpleNew.\n  def GetDecode(self): return _FactorGraph.CFactorGraph_GetDecode(self)\nFactorBP/FactorGraph.py:399: DeprecationWarning: PyArray_FromDimsAndDataAndDescr: use PyArray_NewFromDescr.\n  def GetDecode(self): return _FactorGraph.CFactorGraph_GetDecode(self)\n"
     ]
    },
    {
     "name": "stderr",
     "output_type": "stream",
     "text": [
      "FactorBP/FactorGraph.py:399: DeprecationWarning: PyArray_FromDims: use PyArray_SimpleNew.\n  def GetDecode(self): return _FactorGraph.CFactorGraph_GetDecode(self)\nFactorBP/FactorGraph.py:399: DeprecationWarning: PyArray_FromDimsAndDataAndDescr: use PyArray_NewFromDescr.\n  def GetDecode(self): return _FactorGraph.CFactorGraph_GetDecode(self)\nFactorBP/FactorGraph.py:399: DeprecationWarning: PyArray_FromDims: use PyArray_SimpleNew.\n  def GetDecode(self): return _FactorGraph.CFactorGraph_GetDecode(self)\nFactorBP/FactorGraph.py:399: DeprecationWarning: PyArray_FromDimsAndDataAndDescr: use PyArray_NewFromDescr.\n  def GetDecode(self): return _FactorGraph.CFactorGraph_GetDecode(self)\n"
     ]
    },
    {
     "name": "stderr",
     "output_type": "stream",
     "text": [
      "FactorBP/FactorGraph.py:399: DeprecationWarning: PyArray_FromDims: use PyArray_SimpleNew.\n  def GetDecode(self): return _FactorGraph.CFactorGraph_GetDecode(self)\nFactorBP/FactorGraph.py:399: DeprecationWarning: PyArray_FromDimsAndDataAndDescr: use PyArray_NewFromDescr.\n  def GetDecode(self): return _FactorGraph.CFactorGraph_GetDecode(self)\nFactorBP/FactorGraph.py:399: DeprecationWarning: PyArray_FromDims: use PyArray_SimpleNew.\n  def GetDecode(self): return _FactorGraph.CFactorGraph_GetDecode(self)\nFactorBP/FactorGraph.py:399: DeprecationWarning: PyArray_FromDimsAndDataAndDescr: use PyArray_NewFromDescr.\n  def GetDecode(self): return _FactorGraph.CFactorGraph_GetDecode(self)\n"
     ]
    },
    {
     "name": "stderr",
     "output_type": "stream",
     "text": [
      "FactorBP/FactorGraph.py:399: DeprecationWarning: PyArray_FromDims: use PyArray_SimpleNew.\n  def GetDecode(self): return _FactorGraph.CFactorGraph_GetDecode(self)\nFactorBP/FactorGraph.py:399: DeprecationWarning: PyArray_FromDimsAndDataAndDescr: use PyArray_NewFromDescr.\n  def GetDecode(self): return _FactorGraph.CFactorGraph_GetDecode(self)\nFactorBP/FactorGraph.py:399: DeprecationWarning: PyArray_FromDims: use PyArray_SimpleNew.\n  def GetDecode(self): return _FactorGraph.CFactorGraph_GetDecode(self)\nFactorBP/FactorGraph.py:399: DeprecationWarning: PyArray_FromDimsAndDataAndDescr: use PyArray_NewFromDescr.\n  def GetDecode(self): return _FactorGraph.CFactorGraph_GetDecode(self)\n"
     ]
    },
    {
     "name": "stderr",
     "output_type": "stream",
     "text": [
      "FactorBP/FactorGraph.py:399: DeprecationWarning: PyArray_FromDims: use PyArray_SimpleNew.\n  def GetDecode(self): return _FactorGraph.CFactorGraph_GetDecode(self)\nFactorBP/FactorGraph.py:399: DeprecationWarning: PyArray_FromDimsAndDataAndDescr: use PyArray_NewFromDescr.\n  def GetDecode(self): return _FactorGraph.CFactorGraph_GetDecode(self)\nFactorBP/FactorGraph.py:399: DeprecationWarning: PyArray_FromDims: use PyArray_SimpleNew.\n  def GetDecode(self): return _FactorGraph.CFactorGraph_GetDecode(self)\nFactorBP/FactorGraph.py:399: DeprecationWarning: PyArray_FromDimsAndDataAndDescr: use PyArray_NewFromDescr.\n  def GetDecode(self): return _FactorGraph.CFactorGraph_GetDecode(self)\n"
     ]
    },
    {
     "name": "stderr",
     "output_type": "stream",
     "text": [
      "FactorBP/FactorGraph.py:399: DeprecationWarning: PyArray_FromDims: use PyArray_SimpleNew.\n  def GetDecode(self): return _FactorGraph.CFactorGraph_GetDecode(self)\nFactorBP/FactorGraph.py:399: DeprecationWarning: PyArray_FromDimsAndDataAndDescr: use PyArray_NewFromDescr.\n  def GetDecode(self): return _FactorGraph.CFactorGraph_GetDecode(self)\nFactorBP/FactorGraph.py:399: DeprecationWarning: PyArray_FromDims: use PyArray_SimpleNew.\n  def GetDecode(self): return _FactorGraph.CFactorGraph_GetDecode(self)\nFactorBP/FactorGraph.py:399: DeprecationWarning: PyArray_FromDimsAndDataAndDescr: use PyArray_NewFromDescr.\n  def GetDecode(self): return _FactorGraph.CFactorGraph_GetDecode(self)\n"
     ]
    },
    {
     "name": "stderr",
     "output_type": "stream",
     "text": [
      "FactorBP/FactorGraph.py:399: DeprecationWarning: PyArray_FromDims: use PyArray_SimpleNew.\n  def GetDecode(self): return _FactorGraph.CFactorGraph_GetDecode(self)\nFactorBP/FactorGraph.py:399: DeprecationWarning: PyArray_FromDimsAndDataAndDescr: use PyArray_NewFromDescr.\n  def GetDecode(self): return _FactorGraph.CFactorGraph_GetDecode(self)\nFactorBP/FactorGraph.py:399: DeprecationWarning: PyArray_FromDims: use PyArray_SimpleNew.\n  def GetDecode(self): return _FactorGraph.CFactorGraph_GetDecode(self)\nFactorBP/FactorGraph.py:399: DeprecationWarning: PyArray_FromDimsAndDataAndDescr: use PyArray_NewFromDescr.\n  def GetDecode(self): return _FactorGraph.CFactorGraph_GetDecode(self)\n"
     ]
    },
    {
     "name": "stderr",
     "output_type": "stream",
     "text": [
      "FactorBP/FactorGraph.py:399: DeprecationWarning: PyArray_FromDims: use PyArray_SimpleNew.\n  def GetDecode(self): return _FactorGraph.CFactorGraph_GetDecode(self)\nFactorBP/FactorGraph.py:399: DeprecationWarning: PyArray_FromDimsAndDataAndDescr: use PyArray_NewFromDescr.\n  def GetDecode(self): return _FactorGraph.CFactorGraph_GetDecode(self)\nFactorBP/FactorGraph.py:399: DeprecationWarning: PyArray_FromDims: use PyArray_SimpleNew.\n  def GetDecode(self): return _FactorGraph.CFactorGraph_GetDecode(self)\nFactorBP/FactorGraph.py:399: DeprecationWarning: PyArray_FromDimsAndDataAndDescr: use PyArray_NewFromDescr.\n  def GetDecode(self): return _FactorGraph.CFactorGraph_GetDecode(self)\n"
     ]
    },
    {
     "name": "stderr",
     "output_type": "stream",
     "text": [
      "FactorBP/FactorGraph.py:399: DeprecationWarning: PyArray_FromDims: use PyArray_SimpleNew.\n  def GetDecode(self): return _FactorGraph.CFactorGraph_GetDecode(self)\nFactorBP/FactorGraph.py:399: DeprecationWarning: PyArray_FromDimsAndDataAndDescr: use PyArray_NewFromDescr.\n  def GetDecode(self): return _FactorGraph.CFactorGraph_GetDecode(self)\nFactorBP/FactorGraph.py:399: DeprecationWarning: PyArray_FromDims: use PyArray_SimpleNew.\n  def GetDecode(self): return _FactorGraph.CFactorGraph_GetDecode(self)\nFactorBP/FactorGraph.py:399: DeprecationWarning: PyArray_FromDimsAndDataAndDescr: use PyArray_NewFromDescr.\n  def GetDecode(self): return _FactorGraph.CFactorGraph_GetDecode(self)\n"
     ]
    },
    {
     "name": "stderr",
     "output_type": "stream",
     "text": [
      "FactorBP/FactorGraph.py:399: DeprecationWarning: PyArray_FromDims: use PyArray_SimpleNew.\n  def GetDecode(self): return _FactorGraph.CFactorGraph_GetDecode(self)\nFactorBP/FactorGraph.py:399: DeprecationWarning: PyArray_FromDimsAndDataAndDescr: use PyArray_NewFromDescr.\n  def GetDecode(self): return _FactorGraph.CFactorGraph_GetDecode(self)\nFactorBP/FactorGraph.py:399: DeprecationWarning: PyArray_FromDims: use PyArray_SimpleNew.\n  def GetDecode(self): return _FactorGraph.CFactorGraph_GetDecode(self)\nFactorBP/FactorGraph.py:399: DeprecationWarning: PyArray_FromDimsAndDataAndDescr: use PyArray_NewFromDescr.\n  def GetDecode(self): return _FactorGraph.CFactorGraph_GetDecode(self)\n"
     ]
    },
    {
     "name": "stderr",
     "output_type": "stream",
     "text": [
      "FactorBP/FactorGraph.py:399: DeprecationWarning: PyArray_FromDims: use PyArray_SimpleNew.\n  def GetDecode(self): return _FactorGraph.CFactorGraph_GetDecode(self)\nFactorBP/FactorGraph.py:399: DeprecationWarning: PyArray_FromDimsAndDataAndDescr: use PyArray_NewFromDescr.\n  def GetDecode(self): return _FactorGraph.CFactorGraph_GetDecode(self)\nFactorBP/FactorGraph.py:399: DeprecationWarning: PyArray_FromDims: use PyArray_SimpleNew.\n  def GetDecode(self): return _FactorGraph.CFactorGraph_GetDecode(self)\nFactorBP/FactorGraph.py:399: DeprecationWarning: PyArray_FromDimsAndDataAndDescr: use PyArray_NewFromDescr.\n  def GetDecode(self): return _FactorGraph.CFactorGraph_GetDecode(self)\n"
     ]
    },
    {
     "name": "stderr",
     "output_type": "stream",
     "text": [
      "FactorBP/FactorGraph.py:399: DeprecationWarning: PyArray_FromDims: use PyArray_SimpleNew.\n  def GetDecode(self): return _FactorGraph.CFactorGraph_GetDecode(self)\nFactorBP/FactorGraph.py:399: DeprecationWarning: PyArray_FromDimsAndDataAndDescr: use PyArray_NewFromDescr.\n  def GetDecode(self): return _FactorGraph.CFactorGraph_GetDecode(self)\nFactorBP/FactorGraph.py:399: DeprecationWarning: PyArray_FromDims: use PyArray_SimpleNew.\n  def GetDecode(self): return _FactorGraph.CFactorGraph_GetDecode(self)\nFactorBP/FactorGraph.py:399: DeprecationWarning: PyArray_FromDimsAndDataAndDescr: use PyArray_NewFromDescr.\n  def GetDecode(self): return _FactorGraph.CFactorGraph_GetDecode(self)\n"
     ]
    },
    {
     "name": "stderr",
     "output_type": "stream",
     "text": [
      "FactorBP/FactorGraph.py:399: DeprecationWarning: PyArray_FromDims: use PyArray_SimpleNew.\n  def GetDecode(self): return _FactorGraph.CFactorGraph_GetDecode(self)\nFactorBP/FactorGraph.py:399: DeprecationWarning: PyArray_FromDimsAndDataAndDescr: use PyArray_NewFromDescr.\n  def GetDecode(self): return _FactorGraph.CFactorGraph_GetDecode(self)\nFactorBP/FactorGraph.py:399: DeprecationWarning: PyArray_FromDims: use PyArray_SimpleNew.\n  def GetDecode(self): return _FactorGraph.CFactorGraph_GetDecode(self)\nFactorBP/FactorGraph.py:399: DeprecationWarning: PyArray_FromDimsAndDataAndDescr: use PyArray_NewFromDescr.\n  def GetDecode(self): return _FactorGraph.CFactorGraph_GetDecode(self)\n"
     ]
    },
    {
     "name": "stderr",
     "output_type": "stream",
     "text": [
      "FactorBP/FactorGraph.py:399: DeprecationWarning: PyArray_FromDims: use PyArray_SimpleNew.\n  def GetDecode(self): return _FactorGraph.CFactorGraph_GetDecode(self)\nFactorBP/FactorGraph.py:399: DeprecationWarning: PyArray_FromDimsAndDataAndDescr: use PyArray_NewFromDescr.\n  def GetDecode(self): return _FactorGraph.CFactorGraph_GetDecode(self)\nFactorBP/FactorGraph.py:399: DeprecationWarning: PyArray_FromDims: use PyArray_SimpleNew.\n  def GetDecode(self): return _FactorGraph.CFactorGraph_GetDecode(self)\nFactorBP/FactorGraph.py:399: DeprecationWarning: PyArray_FromDimsAndDataAndDescr: use PyArray_NewFromDescr.\n  def GetDecode(self): return _FactorGraph.CFactorGraph_GetDecode(self)\n"
     ]
    },
    {
     "name": "stderr",
     "output_type": "stream",
     "text": [
      "FactorBP/FactorGraph.py:399: DeprecationWarning: PyArray_FromDims: use PyArray_SimpleNew.\n  def GetDecode(self): return _FactorGraph.CFactorGraph_GetDecode(self)\nFactorBP/FactorGraph.py:399: DeprecationWarning: PyArray_FromDimsAndDataAndDescr: use PyArray_NewFromDescr.\n  def GetDecode(self): return _FactorGraph.CFactorGraph_GetDecode(self)\nFactorBP/FactorGraph.py:399: DeprecationWarning: PyArray_FromDims: use PyArray_SimpleNew.\n  def GetDecode(self): return _FactorGraph.CFactorGraph_GetDecode(self)\nFactorBP/FactorGraph.py:399: DeprecationWarning: PyArray_FromDimsAndDataAndDescr: use PyArray_NewFromDescr.\n  def GetDecode(self): return _FactorGraph.CFactorGraph_GetDecode(self)\n"
     ]
    },
    {
     "name": "stderr",
     "output_type": "stream",
     "text": [
      "FactorBP/FactorGraph.py:399: DeprecationWarning: PyArray_FromDims: use PyArray_SimpleNew.\n  def GetDecode(self): return _FactorGraph.CFactorGraph_GetDecode(self)\nFactorBP/FactorGraph.py:399: DeprecationWarning: PyArray_FromDimsAndDataAndDescr: use PyArray_NewFromDescr.\n  def GetDecode(self): return _FactorGraph.CFactorGraph_GetDecode(self)\nFactorBP/FactorGraph.py:399: DeprecationWarning: PyArray_FromDims: use PyArray_SimpleNew.\n  def GetDecode(self): return _FactorGraph.CFactorGraph_GetDecode(self)\nFactorBP/FactorGraph.py:399: DeprecationWarning: PyArray_FromDimsAndDataAndDescr: use PyArray_NewFromDescr.\n  def GetDecode(self): return _FactorGraph.CFactorGraph_GetDecode(self)\n"
     ]
    },
    {
     "name": "stderr",
     "output_type": "stream",
     "text": [
      "FactorBP/FactorGraph.py:399: DeprecationWarning: PyArray_FromDims: use PyArray_SimpleNew.\n  def GetDecode(self): return _FactorGraph.CFactorGraph_GetDecode(self)\nFactorBP/FactorGraph.py:399: DeprecationWarning: PyArray_FromDimsAndDataAndDescr: use PyArray_NewFromDescr.\n  def GetDecode(self): return _FactorGraph.CFactorGraph_GetDecode(self)\nFactorBP/FactorGraph.py:399: DeprecationWarning: PyArray_FromDims: use PyArray_SimpleNew.\n  def GetDecode(self): return _FactorGraph.CFactorGraph_GetDecode(self)\nFactorBP/FactorGraph.py:399: DeprecationWarning: PyArray_FromDimsAndDataAndDescr: use PyArray_NewFromDescr.\n  def GetDecode(self): return _FactorGraph.CFactorGraph_GetDecode(self)\n"
     ]
    },
    {
     "name": "stderr",
     "output_type": "stream",
     "text": [
      "FactorBP/FactorGraph.py:399: DeprecationWarning: PyArray_FromDims: use PyArray_SimpleNew.\n  def GetDecode(self): return _FactorGraph.CFactorGraph_GetDecode(self)\nFactorBP/FactorGraph.py:399: DeprecationWarning: PyArray_FromDimsAndDataAndDescr: use PyArray_NewFromDescr.\n  def GetDecode(self): return _FactorGraph.CFactorGraph_GetDecode(self)\nFactorBP/FactorGraph.py:399: DeprecationWarning: PyArray_FromDims: use PyArray_SimpleNew.\n  def GetDecode(self): return _FactorGraph.CFactorGraph_GetDecode(self)\nFactorBP/FactorGraph.py:399: DeprecationWarning: PyArray_FromDimsAndDataAndDescr: use PyArray_NewFromDescr.\n  def GetDecode(self): return _FactorGraph.CFactorGraph_GetDecode(self)\n"
     ]
    },
    {
     "name": "stderr",
     "output_type": "stream",
     "text": [
      "FactorBP/FactorGraph.py:399: DeprecationWarning: PyArray_FromDims: use PyArray_SimpleNew.\n  def GetDecode(self): return _FactorGraph.CFactorGraph_GetDecode(self)\nFactorBP/FactorGraph.py:399: DeprecationWarning: PyArray_FromDimsAndDataAndDescr: use PyArray_NewFromDescr.\n  def GetDecode(self): return _FactorGraph.CFactorGraph_GetDecode(self)\nFactorBP/FactorGraph.py:399: DeprecationWarning: PyArray_FromDims: use PyArray_SimpleNew.\n  def GetDecode(self): return _FactorGraph.CFactorGraph_GetDecode(self)\nFactorBP/FactorGraph.py:399: DeprecationWarning: PyArray_FromDimsAndDataAndDescr: use PyArray_NewFromDescr.\n  def GetDecode(self): return _FactorGraph.CFactorGraph_GetDecode(self)\n"
     ]
    },
    {
     "name": "stderr",
     "output_type": "stream",
     "text": [
      "FactorBP/FactorGraph.py:399: DeprecationWarning: PyArray_FromDims: use PyArray_SimpleNew.\n  def GetDecode(self): return _FactorGraph.CFactorGraph_GetDecode(self)\nFactorBP/FactorGraph.py:399: DeprecationWarning: PyArray_FromDimsAndDataAndDescr: use PyArray_NewFromDescr.\n  def GetDecode(self): return _FactorGraph.CFactorGraph_GetDecode(self)\nFactorBP/FactorGraph.py:399: DeprecationWarning: PyArray_FromDims: use PyArray_SimpleNew.\n  def GetDecode(self): return _FactorGraph.CFactorGraph_GetDecode(self)\nFactorBP/FactorGraph.py:399: DeprecationWarning: PyArray_FromDimsAndDataAndDescr: use PyArray_NewFromDescr.\n  def GetDecode(self): return _FactorGraph.CFactorGraph_GetDecode(self)\n"
     ]
    },
    {
     "name": "stderr",
     "output_type": "stream",
     "text": [
      "FactorBP/FactorGraph.py:399: DeprecationWarning: PyArray_FromDims: use PyArray_SimpleNew.\n  def GetDecode(self): return _FactorGraph.CFactorGraph_GetDecode(self)\nFactorBP/FactorGraph.py:399: DeprecationWarning: PyArray_FromDimsAndDataAndDescr: use PyArray_NewFromDescr.\n  def GetDecode(self): return _FactorGraph.CFactorGraph_GetDecode(self)\nFactorBP/FactorGraph.py:399: DeprecationWarning: PyArray_FromDims: use PyArray_SimpleNew.\n  def GetDecode(self): return _FactorGraph.CFactorGraph_GetDecode(self)\nFactorBP/FactorGraph.py:399: DeprecationWarning: PyArray_FromDimsAndDataAndDescr: use PyArray_NewFromDescr.\n  def GetDecode(self): return _FactorGraph.CFactorGraph_GetDecode(self)\n"
     ]
    },
    {
     "name": "stderr",
     "output_type": "stream",
     "text": [
      "FactorBP/FactorGraph.py:399: DeprecationWarning: PyArray_FromDims: use PyArray_SimpleNew.\n  def GetDecode(self): return _FactorGraph.CFactorGraph_GetDecode(self)\nFactorBP/FactorGraph.py:399: DeprecationWarning: PyArray_FromDimsAndDataAndDescr: use PyArray_NewFromDescr.\n  def GetDecode(self): return _FactorGraph.CFactorGraph_GetDecode(self)\nFactorBP/FactorGraph.py:399: DeprecationWarning: PyArray_FromDims: use PyArray_SimpleNew.\n  def GetDecode(self): return _FactorGraph.CFactorGraph_GetDecode(self)\nFactorBP/FactorGraph.py:399: DeprecationWarning: PyArray_FromDimsAndDataAndDescr: use PyArray_NewFromDescr.\n  def GetDecode(self): return _FactorGraph.CFactorGraph_GetDecode(self)\n"
     ]
    },
    {
     "name": "stderr",
     "output_type": "stream",
     "text": [
      "FactorBP/FactorGraph.py:399: DeprecationWarning: PyArray_FromDims: use PyArray_SimpleNew.\n  def GetDecode(self): return _FactorGraph.CFactorGraph_GetDecode(self)\nFactorBP/FactorGraph.py:399: DeprecationWarning: PyArray_FromDimsAndDataAndDescr: use PyArray_NewFromDescr.\n  def GetDecode(self): return _FactorGraph.CFactorGraph_GetDecode(self)\nFactorBP/FactorGraph.py:399: DeprecationWarning: PyArray_FromDims: use PyArray_SimpleNew.\n  def GetDecode(self): return _FactorGraph.CFactorGraph_GetDecode(self)\nFactorBP/FactorGraph.py:399: DeprecationWarning: PyArray_FromDimsAndDataAndDescr: use PyArray_NewFromDescr.\n  def GetDecode(self): return _FactorGraph.CFactorGraph_GetDecode(self)\n"
     ]
    },
    {
     "name": "stderr",
     "output_type": "stream",
     "text": [
      "FactorBP/FactorGraph.py:399: DeprecationWarning: PyArray_FromDims: use PyArray_SimpleNew.\n  def GetDecode(self): return _FactorGraph.CFactorGraph_GetDecode(self)\nFactorBP/FactorGraph.py:399: DeprecationWarning: PyArray_FromDimsAndDataAndDescr: use PyArray_NewFromDescr.\n  def GetDecode(self): return _FactorGraph.CFactorGraph_GetDecode(self)\nFactorBP/FactorGraph.py:399: DeprecationWarning: PyArray_FromDims: use PyArray_SimpleNew.\n  def GetDecode(self): return _FactorGraph.CFactorGraph_GetDecode(self)\nFactorBP/FactorGraph.py:399: DeprecationWarning: PyArray_FromDimsAndDataAndDescr: use PyArray_NewFromDescr.\n  def GetDecode(self): return _FactorGraph.CFactorGraph_GetDecode(self)\n"
     ]
    },
    {
     "name": "stderr",
     "output_type": "stream",
     "text": [
      "FactorBP/FactorGraph.py:399: DeprecationWarning: PyArray_FromDims: use PyArray_SimpleNew.\n  def GetDecode(self): return _FactorGraph.CFactorGraph_GetDecode(self)\nFactorBP/FactorGraph.py:399: DeprecationWarning: PyArray_FromDimsAndDataAndDescr: use PyArray_NewFromDescr.\n  def GetDecode(self): return _FactorGraph.CFactorGraph_GetDecode(self)\nFactorBP/FactorGraph.py:399: DeprecationWarning: PyArray_FromDims: use PyArray_SimpleNew.\n  def GetDecode(self): return _FactorGraph.CFactorGraph_GetDecode(self)\nFactorBP/FactorGraph.py:399: DeprecationWarning: PyArray_FromDimsAndDataAndDescr: use PyArray_NewFromDescr.\n  def GetDecode(self): return _FactorGraph.CFactorGraph_GetDecode(self)\n"
     ]
    },
    {
     "name": "stderr",
     "output_type": "stream",
     "text": [
      "FactorBP/FactorGraph.py:399: DeprecationWarning: PyArray_FromDims: use PyArray_SimpleNew.\n  def GetDecode(self): return _FactorGraph.CFactorGraph_GetDecode(self)\nFactorBP/FactorGraph.py:399: DeprecationWarning: PyArray_FromDimsAndDataAndDescr: use PyArray_NewFromDescr.\n  def GetDecode(self): return _FactorGraph.CFactorGraph_GetDecode(self)\nFactorBP/FactorGraph.py:399: DeprecationWarning: PyArray_FromDims: use PyArray_SimpleNew.\n  def GetDecode(self): return _FactorGraph.CFactorGraph_GetDecode(self)\nFactorBP/FactorGraph.py:399: DeprecationWarning: PyArray_FromDimsAndDataAndDescr: use PyArray_NewFromDescr.\n  def GetDecode(self): return _FactorGraph.CFactorGraph_GetDecode(self)\n"
     ]
    },
    {
     "name": "stderr",
     "output_type": "stream",
     "text": [
      "FactorBP/FactorGraph.py:399: DeprecationWarning: PyArray_FromDims: use PyArray_SimpleNew.\n  def GetDecode(self): return _FactorGraph.CFactorGraph_GetDecode(self)\nFactorBP/FactorGraph.py:399: DeprecationWarning: PyArray_FromDimsAndDataAndDescr: use PyArray_NewFromDescr.\n  def GetDecode(self): return _FactorGraph.CFactorGraph_GetDecode(self)\nFactorBP/FactorGraph.py:399: DeprecationWarning: PyArray_FromDims: use PyArray_SimpleNew.\n  def GetDecode(self): return _FactorGraph.CFactorGraph_GetDecode(self)\nFactorBP/FactorGraph.py:399: DeprecationWarning: PyArray_FromDimsAndDataAndDescr: use PyArray_NewFromDescr.\n  def GetDecode(self): return _FactorGraph.CFactorGraph_GetDecode(self)\n"
     ]
    },
    {
     "name": "stderr",
     "output_type": "stream",
     "text": [
      "FactorBP/FactorGraph.py:399: DeprecationWarning: PyArray_FromDims: use PyArray_SimpleNew.\n  def GetDecode(self): return _FactorGraph.CFactorGraph_GetDecode(self)\nFactorBP/FactorGraph.py:399: DeprecationWarning: PyArray_FromDimsAndDataAndDescr: use PyArray_NewFromDescr.\n  def GetDecode(self): return _FactorGraph.CFactorGraph_GetDecode(self)\nFactorBP/FactorGraph.py:399: DeprecationWarning: PyArray_FromDims: use PyArray_SimpleNew.\n  def GetDecode(self): return _FactorGraph.CFactorGraph_GetDecode(self)\nFactorBP/FactorGraph.py:399: DeprecationWarning: PyArray_FromDimsAndDataAndDescr: use PyArray_NewFromDescr.\n  def GetDecode(self): return _FactorGraph.CFactorGraph_GetDecode(self)\n"
     ]
    },
    {
     "name": "stderr",
     "output_type": "stream",
     "text": [
      "FactorBP/FactorGraph.py:399: DeprecationWarning: PyArray_FromDims: use PyArray_SimpleNew.\n  def GetDecode(self): return _FactorGraph.CFactorGraph_GetDecode(self)\nFactorBP/FactorGraph.py:399: DeprecationWarning: PyArray_FromDimsAndDataAndDescr: use PyArray_NewFromDescr.\n  def GetDecode(self): return _FactorGraph.CFactorGraph_GetDecode(self)\nFactorBP/FactorGraph.py:399: DeprecationWarning: PyArray_FromDims: use PyArray_SimpleNew.\n  def GetDecode(self): return _FactorGraph.CFactorGraph_GetDecode(self)\nFactorBP/FactorGraph.py:399: DeprecationWarning: PyArray_FromDimsAndDataAndDescr: use PyArray_NewFromDescr.\n  def GetDecode(self): return _FactorGraph.CFactorGraph_GetDecode(self)\n"
     ]
    },
    {
     "name": "stderr",
     "output_type": "stream",
     "text": [
      "FactorBP/FactorGraph.py:399: DeprecationWarning: PyArray_FromDims: use PyArray_SimpleNew.\n  def GetDecode(self): return _FactorGraph.CFactorGraph_GetDecode(self)\nFactorBP/FactorGraph.py:399: DeprecationWarning: PyArray_FromDimsAndDataAndDescr: use PyArray_NewFromDescr.\n  def GetDecode(self): return _FactorGraph.CFactorGraph_GetDecode(self)\nFactorBP/FactorGraph.py:399: DeprecationWarning: PyArray_FromDims: use PyArray_SimpleNew.\n  def GetDecode(self): return _FactorGraph.CFactorGraph_GetDecode(self)\nFactorBP/FactorGraph.py:399: DeprecationWarning: PyArray_FromDimsAndDataAndDescr: use PyArray_NewFromDescr.\n  def GetDecode(self): return _FactorGraph.CFactorGraph_GetDecode(self)\n"
     ]
    },
    {
     "name": "stderr",
     "output_type": "stream",
     "text": [
      "FactorBP/FactorGraph.py:399: DeprecationWarning: PyArray_FromDims: use PyArray_SimpleNew.\n  def GetDecode(self): return _FactorGraph.CFactorGraph_GetDecode(self)\nFactorBP/FactorGraph.py:399: DeprecationWarning: PyArray_FromDimsAndDataAndDescr: use PyArray_NewFromDescr.\n  def GetDecode(self): return _FactorGraph.CFactorGraph_GetDecode(self)\nFactorBP/FactorGraph.py:399: DeprecationWarning: PyArray_FromDims: use PyArray_SimpleNew.\n  def GetDecode(self): return _FactorGraph.CFactorGraph_GetDecode(self)\nFactorBP/FactorGraph.py:399: DeprecationWarning: PyArray_FromDimsAndDataAndDescr: use PyArray_NewFromDescr.\n  def GetDecode(self): return _FactorGraph.CFactorGraph_GetDecode(self)\n"
     ]
    },
    {
     "name": "stderr",
     "output_type": "stream",
     "text": [
      "FactorBP/FactorGraph.py:399: DeprecationWarning: PyArray_FromDims: use PyArray_SimpleNew.\n  def GetDecode(self): return _FactorGraph.CFactorGraph_GetDecode(self)\nFactorBP/FactorGraph.py:399: DeprecationWarning: PyArray_FromDimsAndDataAndDescr: use PyArray_NewFromDescr.\n  def GetDecode(self): return _FactorGraph.CFactorGraph_GetDecode(self)\nFactorBP/FactorGraph.py:399: DeprecationWarning: PyArray_FromDims: use PyArray_SimpleNew.\n  def GetDecode(self): return _FactorGraph.CFactorGraph_GetDecode(self)\nFactorBP/FactorGraph.py:399: DeprecationWarning: PyArray_FromDimsAndDataAndDescr: use PyArray_NewFromDescr.\n  def GetDecode(self): return _FactorGraph.CFactorGraph_GetDecode(self)\n"
     ]
    },
    {
     "name": "stderr",
     "output_type": "stream",
     "text": [
      "FactorBP/FactorGraph.py:399: DeprecationWarning: PyArray_FromDims: use PyArray_SimpleNew.\n  def GetDecode(self): return _FactorGraph.CFactorGraph_GetDecode(self)\nFactorBP/FactorGraph.py:399: DeprecationWarning: PyArray_FromDimsAndDataAndDescr: use PyArray_NewFromDescr.\n  def GetDecode(self): return _FactorGraph.CFactorGraph_GetDecode(self)\nFactorBP/FactorGraph.py:399: DeprecationWarning: PyArray_FromDims: use PyArray_SimpleNew.\n  def GetDecode(self): return _FactorGraph.CFactorGraph_GetDecode(self)\nFactorBP/FactorGraph.py:399: DeprecationWarning: PyArray_FromDimsAndDataAndDescr: use PyArray_NewFromDescr.\n  def GetDecode(self): return _FactorGraph.CFactorGraph_GetDecode(self)\n"
     ]
    },
    {
     "name": "stderr",
     "output_type": "stream",
     "text": [
      "FactorBP/FactorGraph.py:399: DeprecationWarning: PyArray_FromDims: use PyArray_SimpleNew.\n  def GetDecode(self): return _FactorGraph.CFactorGraph_GetDecode(self)\nFactorBP/FactorGraph.py:399: DeprecationWarning: PyArray_FromDimsAndDataAndDescr: use PyArray_NewFromDescr.\n  def GetDecode(self): return _FactorGraph.CFactorGraph_GetDecode(self)\nFactorBP/FactorGraph.py:399: DeprecationWarning: PyArray_FromDims: use PyArray_SimpleNew.\n  def GetDecode(self): return _FactorGraph.CFactorGraph_GetDecode(self)\nFactorBP/FactorGraph.py:399: DeprecationWarning: PyArray_FromDimsAndDataAndDescr: use PyArray_NewFromDescr.\n  def GetDecode(self): return _FactorGraph.CFactorGraph_GetDecode(self)\n"
     ]
    },
    {
     "name": "stderr",
     "output_type": "stream",
     "text": [
      "FactorBP/FactorGraph.py:399: DeprecationWarning: PyArray_FromDims: use PyArray_SimpleNew.\n  def GetDecode(self): return _FactorGraph.CFactorGraph_GetDecode(self)\nFactorBP/FactorGraph.py:399: DeprecationWarning: PyArray_FromDimsAndDataAndDescr: use PyArray_NewFromDescr.\n  def GetDecode(self): return _FactorGraph.CFactorGraph_GetDecode(self)\nFactorBP/FactorGraph.py:399: DeprecationWarning: PyArray_FromDims: use PyArray_SimpleNew.\n  def GetDecode(self): return _FactorGraph.CFactorGraph_GetDecode(self)\nFactorBP/FactorGraph.py:399: DeprecationWarning: PyArray_FromDimsAndDataAndDescr: use PyArray_NewFromDescr.\n  def GetDecode(self): return _FactorGraph.CFactorGraph_GetDecode(self)\n"
     ]
    },
    {
     "name": "stderr",
     "output_type": "stream",
     "text": [
      "FactorBP/FactorGraph.py:399: DeprecationWarning: PyArray_FromDims: use PyArray_SimpleNew.\n  def GetDecode(self): return _FactorGraph.CFactorGraph_GetDecode(self)\nFactorBP/FactorGraph.py:399: DeprecationWarning: PyArray_FromDimsAndDataAndDescr: use PyArray_NewFromDescr.\n  def GetDecode(self): return _FactorGraph.CFactorGraph_GetDecode(self)\nFactorBP/FactorGraph.py:399: DeprecationWarning: PyArray_FromDims: use PyArray_SimpleNew.\n  def GetDecode(self): return _FactorGraph.CFactorGraph_GetDecode(self)\nFactorBP/FactorGraph.py:399: DeprecationWarning: PyArray_FromDimsAndDataAndDescr: use PyArray_NewFromDescr.\n  def GetDecode(self): return _FactorGraph.CFactorGraph_GetDecode(self)\n"
     ]
    },
    {
     "name": "stderr",
     "output_type": "stream",
     "text": [
      "FactorBP/FactorGraph.py:399: DeprecationWarning: PyArray_FromDims: use PyArray_SimpleNew.\n  def GetDecode(self): return _FactorGraph.CFactorGraph_GetDecode(self)\nFactorBP/FactorGraph.py:399: DeprecationWarning: PyArray_FromDimsAndDataAndDescr: use PyArray_NewFromDescr.\n  def GetDecode(self): return _FactorGraph.CFactorGraph_GetDecode(self)\nFactorBP/FactorGraph.py:399: DeprecationWarning: PyArray_FromDims: use PyArray_SimpleNew.\n  def GetDecode(self): return _FactorGraph.CFactorGraph_GetDecode(self)\nFactorBP/FactorGraph.py:399: DeprecationWarning: PyArray_FromDimsAndDataAndDescr: use PyArray_NewFromDescr.\n  def GetDecode(self): return _FactorGraph.CFactorGraph_GetDecode(self)\n"
     ]
    },
    {
     "name": "stderr",
     "output_type": "stream",
     "text": [
      "FactorBP/FactorGraph.py:399: DeprecationWarning: PyArray_FromDims: use PyArray_SimpleNew.\n  def GetDecode(self): return _FactorGraph.CFactorGraph_GetDecode(self)\nFactorBP/FactorGraph.py:399: DeprecationWarning: PyArray_FromDimsAndDataAndDescr: use PyArray_NewFromDescr.\n  def GetDecode(self): return _FactorGraph.CFactorGraph_GetDecode(self)\nFactorBP/FactorGraph.py:399: DeprecationWarning: PyArray_FromDims: use PyArray_SimpleNew.\n  def GetDecode(self): return _FactorGraph.CFactorGraph_GetDecode(self)\nFactorBP/FactorGraph.py:399: DeprecationWarning: PyArray_FromDimsAndDataAndDescr: use PyArray_NewFromDescr.\n  def GetDecode(self): return _FactorGraph.CFactorGraph_GetDecode(self)\n"
     ]
    },
    {
     "name": "stderr",
     "output_type": "stream",
     "text": [
      "FactorBP/FactorGraph.py:399: DeprecationWarning: PyArray_FromDims: use PyArray_SimpleNew.\n  def GetDecode(self): return _FactorGraph.CFactorGraph_GetDecode(self)\nFactorBP/FactorGraph.py:399: DeprecationWarning: PyArray_FromDimsAndDataAndDescr: use PyArray_NewFromDescr.\n  def GetDecode(self): return _FactorGraph.CFactorGraph_GetDecode(self)\nFactorBP/FactorGraph.py:399: DeprecationWarning: PyArray_FromDims: use PyArray_SimpleNew.\n  def GetDecode(self): return _FactorGraph.CFactorGraph_GetDecode(self)\nFactorBP/FactorGraph.py:399: DeprecationWarning: PyArray_FromDimsAndDataAndDescr: use PyArray_NewFromDescr.\n  def GetDecode(self): return _FactorGraph.CFactorGraph_GetDecode(self)\n"
     ]
    },
    {
     "name": "stderr",
     "output_type": "stream",
     "text": [
      "FactorBP/FactorGraph.py:399: DeprecationWarning: PyArray_FromDims: use PyArray_SimpleNew.\n  def GetDecode(self): return _FactorGraph.CFactorGraph_GetDecode(self)\nFactorBP/FactorGraph.py:399: DeprecationWarning: PyArray_FromDimsAndDataAndDescr: use PyArray_NewFromDescr.\n  def GetDecode(self): return _FactorGraph.CFactorGraph_GetDecode(self)\nFactorBP/FactorGraph.py:399: DeprecationWarning: PyArray_FromDims: use PyArray_SimpleNew.\n  def GetDecode(self): return _FactorGraph.CFactorGraph_GetDecode(self)\nFactorBP/FactorGraph.py:399: DeprecationWarning: PyArray_FromDimsAndDataAndDescr: use PyArray_NewFromDescr.\n  def GetDecode(self): return _FactorGraph.CFactorGraph_GetDecode(self)\n"
     ]
    },
    {
     "name": "stderr",
     "output_type": "stream",
     "text": [
      "FactorBP/FactorGraph.py:399: DeprecationWarning: PyArray_FromDims: use PyArray_SimpleNew.\n  def GetDecode(self): return _FactorGraph.CFactorGraph_GetDecode(self)\nFactorBP/FactorGraph.py:399: DeprecationWarning: PyArray_FromDimsAndDataAndDescr: use PyArray_NewFromDescr.\n  def GetDecode(self): return _FactorGraph.CFactorGraph_GetDecode(self)\nFactorBP/FactorGraph.py:399: DeprecationWarning: PyArray_FromDims: use PyArray_SimpleNew.\n  def GetDecode(self): return _FactorGraph.CFactorGraph_GetDecode(self)\nFactorBP/FactorGraph.py:399: DeprecationWarning: PyArray_FromDimsAndDataAndDescr: use PyArray_NewFromDescr.\n  def GetDecode(self): return _FactorGraph.CFactorGraph_GetDecode(self)\n"
     ]
    },
    {
     "name": "stderr",
     "output_type": "stream",
     "text": [
      "FactorBP/FactorGraph.py:399: DeprecationWarning: PyArray_FromDims: use PyArray_SimpleNew.\n  def GetDecode(self): return _FactorGraph.CFactorGraph_GetDecode(self)\nFactorBP/FactorGraph.py:399: DeprecationWarning: PyArray_FromDimsAndDataAndDescr: use PyArray_NewFromDescr.\n  def GetDecode(self): return _FactorGraph.CFactorGraph_GetDecode(self)\nFactorBP/FactorGraph.py:399: DeprecationWarning: PyArray_FromDims: use PyArray_SimpleNew.\n  def GetDecode(self): return _FactorGraph.CFactorGraph_GetDecode(self)\nFactorBP/FactorGraph.py:399: DeprecationWarning: PyArray_FromDimsAndDataAndDescr: use PyArray_NewFromDescr.\n  def GetDecode(self): return _FactorGraph.CFactorGraph_GetDecode(self)\n"
     ]
    },
    {
     "name": "stderr",
     "output_type": "stream",
     "text": [
      "FactorBP/FactorGraph.py:399: DeprecationWarning: PyArray_FromDims: use PyArray_SimpleNew.\n  def GetDecode(self): return _FactorGraph.CFactorGraph_GetDecode(self)\nFactorBP/FactorGraph.py:399: DeprecationWarning: PyArray_FromDimsAndDataAndDescr: use PyArray_NewFromDescr.\n  def GetDecode(self): return _FactorGraph.CFactorGraph_GetDecode(self)\nFactorBP/FactorGraph.py:399: DeprecationWarning: PyArray_FromDims: use PyArray_SimpleNew.\n  def GetDecode(self): return _FactorGraph.CFactorGraph_GetDecode(self)\nFactorBP/FactorGraph.py:399: DeprecationWarning: PyArray_FromDimsAndDataAndDescr: use PyArray_NewFromDescr.\n  def GetDecode(self): return _FactorGraph.CFactorGraph_GetDecode(self)\n"
     ]
    },
    {
     "name": "stderr",
     "output_type": "stream",
     "text": [
      "FactorBP/FactorGraph.py:399: DeprecationWarning: PyArray_FromDims: use PyArray_SimpleNew.\n  def GetDecode(self): return _FactorGraph.CFactorGraph_GetDecode(self)\nFactorBP/FactorGraph.py:399: DeprecationWarning: PyArray_FromDimsAndDataAndDescr: use PyArray_NewFromDescr.\n  def GetDecode(self): return _FactorGraph.CFactorGraph_GetDecode(self)\nFactorBP/FactorGraph.py:399: DeprecationWarning: PyArray_FromDims: use PyArray_SimpleNew.\n  def GetDecode(self): return _FactorGraph.CFactorGraph_GetDecode(self)\nFactorBP/FactorGraph.py:399: DeprecationWarning: PyArray_FromDimsAndDataAndDescr: use PyArray_NewFromDescr.\n  def GetDecode(self): return _FactorGraph.CFactorGraph_GetDecode(self)\n"
     ]
    },
    {
     "name": "stderr",
     "output_type": "stream",
     "text": [
      "FactorBP/FactorGraph.py:399: DeprecationWarning: PyArray_FromDims: use PyArray_SimpleNew.\n  def GetDecode(self): return _FactorGraph.CFactorGraph_GetDecode(self)\nFactorBP/FactorGraph.py:399: DeprecationWarning: PyArray_FromDimsAndDataAndDescr: use PyArray_NewFromDescr.\n  def GetDecode(self): return _FactorGraph.CFactorGraph_GetDecode(self)\nFactorBP/FactorGraph.py:399: DeprecationWarning: PyArray_FromDims: use PyArray_SimpleNew.\n  def GetDecode(self): return _FactorGraph.CFactorGraph_GetDecode(self)\nFactorBP/FactorGraph.py:399: DeprecationWarning: PyArray_FromDimsAndDataAndDescr: use PyArray_NewFromDescr.\n  def GetDecode(self): return _FactorGraph.CFactorGraph_GetDecode(self)\n"
     ]
    },
    {
     "name": "stderr",
     "output_type": "stream",
     "text": [
      "FactorBP/FactorGraph.py:399: DeprecationWarning: PyArray_FromDims: use PyArray_SimpleNew.\n  def GetDecode(self): return _FactorGraph.CFactorGraph_GetDecode(self)\nFactorBP/FactorGraph.py:399: DeprecationWarning: PyArray_FromDimsAndDataAndDescr: use PyArray_NewFromDescr.\n  def GetDecode(self): return _FactorGraph.CFactorGraph_GetDecode(self)\nFactorBP/FactorGraph.py:399: DeprecationWarning: PyArray_FromDims: use PyArray_SimpleNew.\n  def GetDecode(self): return _FactorGraph.CFactorGraph_GetDecode(self)\nFactorBP/FactorGraph.py:399: DeprecationWarning: PyArray_FromDimsAndDataAndDescr: use PyArray_NewFromDescr.\n  def GetDecode(self): return _FactorGraph.CFactorGraph_GetDecode(self)\n"
     ]
    },
    {
     "name": "stderr",
     "output_type": "stream",
     "text": [
      "FactorBP/FactorGraph.py:399: DeprecationWarning: PyArray_FromDims: use PyArray_SimpleNew.\n  def GetDecode(self): return _FactorGraph.CFactorGraph_GetDecode(self)\nFactorBP/FactorGraph.py:399: DeprecationWarning: PyArray_FromDimsAndDataAndDescr: use PyArray_NewFromDescr.\n  def GetDecode(self): return _FactorGraph.CFactorGraph_GetDecode(self)\nFactorBP/FactorGraph.py:399: DeprecationWarning: PyArray_FromDims: use PyArray_SimpleNew.\n  def GetDecode(self): return _FactorGraph.CFactorGraph_GetDecode(self)\nFactorBP/FactorGraph.py:399: DeprecationWarning: PyArray_FromDimsAndDataAndDescr: use PyArray_NewFromDescr.\n  def GetDecode(self): return _FactorGraph.CFactorGraph_GetDecode(self)\n"
     ]
    },
    {
     "name": "stderr",
     "output_type": "stream",
     "text": [
      "FactorBP/FactorGraph.py:399: DeprecationWarning: PyArray_FromDims: use PyArray_SimpleNew.\n  def GetDecode(self): return _FactorGraph.CFactorGraph_GetDecode(self)\nFactorBP/FactorGraph.py:399: DeprecationWarning: PyArray_FromDimsAndDataAndDescr: use PyArray_NewFromDescr.\n  def GetDecode(self): return _FactorGraph.CFactorGraph_GetDecode(self)\nFactorBP/FactorGraph.py:399: DeprecationWarning: PyArray_FromDims: use PyArray_SimpleNew.\n  def GetDecode(self): return _FactorGraph.CFactorGraph_GetDecode(self)\nFactorBP/FactorGraph.py:399: DeprecationWarning: PyArray_FromDimsAndDataAndDescr: use PyArray_NewFromDescr.\n  def GetDecode(self): return _FactorGraph.CFactorGraph_GetDecode(self)\n"
     ]
    },
    {
     "name": "stderr",
     "output_type": "stream",
     "text": [
      "FactorBP/FactorGraph.py:399: DeprecationWarning: PyArray_FromDims: use PyArray_SimpleNew.\n  def GetDecode(self): return _FactorGraph.CFactorGraph_GetDecode(self)\nFactorBP/FactorGraph.py:399: DeprecationWarning: PyArray_FromDimsAndDataAndDescr: use PyArray_NewFromDescr.\n  def GetDecode(self): return _FactorGraph.CFactorGraph_GetDecode(self)\nFactorBP/FactorGraph.py:399: DeprecationWarning: PyArray_FromDims: use PyArray_SimpleNew.\n  def GetDecode(self): return _FactorGraph.CFactorGraph_GetDecode(self)\nFactorBP/FactorGraph.py:399: DeprecationWarning: PyArray_FromDimsAndDataAndDescr: use PyArray_NewFromDescr.\n  def GetDecode(self): return _FactorGraph.CFactorGraph_GetDecode(self)\n"
     ]
    },
    {
     "name": "stderr",
     "output_type": "stream",
     "text": [
      "FactorBP/FactorGraph.py:399: DeprecationWarning: PyArray_FromDims: use PyArray_SimpleNew.\n  def GetDecode(self): return _FactorGraph.CFactorGraph_GetDecode(self)\nFactorBP/FactorGraph.py:399: DeprecationWarning: PyArray_FromDimsAndDataAndDescr: use PyArray_NewFromDescr.\n  def GetDecode(self): return _FactorGraph.CFactorGraph_GetDecode(self)\nFactorBP/FactorGraph.py:399: DeprecationWarning: PyArray_FromDims: use PyArray_SimpleNew.\n  def GetDecode(self): return _FactorGraph.CFactorGraph_GetDecode(self)\nFactorBP/FactorGraph.py:399: DeprecationWarning: PyArray_FromDimsAndDataAndDescr: use PyArray_NewFromDescr.\n  def GetDecode(self): return _FactorGraph.CFactorGraph_GetDecode(self)\n"
     ]
    },
    {
     "name": "stderr",
     "output_type": "stream",
     "text": [
      "FactorBP/FactorGraph.py:399: DeprecationWarning: PyArray_FromDims: use PyArray_SimpleNew.\n  def GetDecode(self): return _FactorGraph.CFactorGraph_GetDecode(self)\nFactorBP/FactorGraph.py:399: DeprecationWarning: PyArray_FromDimsAndDataAndDescr: use PyArray_NewFromDescr.\n  def GetDecode(self): return _FactorGraph.CFactorGraph_GetDecode(self)\nFactorBP/FactorGraph.py:399: DeprecationWarning: PyArray_FromDims: use PyArray_SimpleNew.\n  def GetDecode(self): return _FactorGraph.CFactorGraph_GetDecode(self)\nFactorBP/FactorGraph.py:399: DeprecationWarning: PyArray_FromDimsAndDataAndDescr: use PyArray_NewFromDescr.\n  def GetDecode(self): return _FactorGraph.CFactorGraph_GetDecode(self)\n"
     ]
    },
    {
     "name": "stderr",
     "output_type": "stream",
     "text": [
      "FactorBP/FactorGraph.py:399: DeprecationWarning: PyArray_FromDims: use PyArray_SimpleNew.\n  def GetDecode(self): return _FactorGraph.CFactorGraph_GetDecode(self)\nFactorBP/FactorGraph.py:399: DeprecationWarning: PyArray_FromDimsAndDataAndDescr: use PyArray_NewFromDescr.\n  def GetDecode(self): return _FactorGraph.CFactorGraph_GetDecode(self)\nFactorBP/FactorGraph.py:399: DeprecationWarning: PyArray_FromDims: use PyArray_SimpleNew.\n  def GetDecode(self): return _FactorGraph.CFactorGraph_GetDecode(self)\nFactorBP/FactorGraph.py:399: DeprecationWarning: PyArray_FromDimsAndDataAndDescr: use PyArray_NewFromDescr.\n  def GetDecode(self): return _FactorGraph.CFactorGraph_GetDecode(self)\n"
     ]
    },
    {
     "name": "stderr",
     "output_type": "stream",
     "text": [
      "FactorBP/FactorGraph.py:399: DeprecationWarning: PyArray_FromDims: use PyArray_SimpleNew.\n  def GetDecode(self): return _FactorGraph.CFactorGraph_GetDecode(self)\nFactorBP/FactorGraph.py:399: DeprecationWarning: PyArray_FromDimsAndDataAndDescr: use PyArray_NewFromDescr.\n  def GetDecode(self): return _FactorGraph.CFactorGraph_GetDecode(self)\nFactorBP/FactorGraph.py:399: DeprecationWarning: PyArray_FromDims: use PyArray_SimpleNew.\n  def GetDecode(self): return _FactorGraph.CFactorGraph_GetDecode(self)\nFactorBP/FactorGraph.py:399: DeprecationWarning: PyArray_FromDimsAndDataAndDescr: use PyArray_NewFromDescr.\n  def GetDecode(self): return _FactorGraph.CFactorGraph_GetDecode(self)\n"
     ]
    },
    {
     "name": "stderr",
     "output_type": "stream",
     "text": [
      "FactorBP/FactorGraph.py:399: DeprecationWarning: PyArray_FromDims: use PyArray_SimpleNew.\n  def GetDecode(self): return _FactorGraph.CFactorGraph_GetDecode(self)\nFactorBP/FactorGraph.py:399: DeprecationWarning: PyArray_FromDimsAndDataAndDescr: use PyArray_NewFromDescr.\n  def GetDecode(self): return _FactorGraph.CFactorGraph_GetDecode(self)\nFactorBP/FactorGraph.py:399: DeprecationWarning: PyArray_FromDims: use PyArray_SimpleNew.\n  def GetDecode(self): return _FactorGraph.CFactorGraph_GetDecode(self)\nFactorBP/FactorGraph.py:399: DeprecationWarning: PyArray_FromDimsAndDataAndDescr: use PyArray_NewFromDescr.\n  def GetDecode(self): return _FactorGraph.CFactorGraph_GetDecode(self)\n"
     ]
    },
    {
     "name": "stderr",
     "output_type": "stream",
     "text": [
      "FactorBP/FactorGraph.py:399: DeprecationWarning: PyArray_FromDims: use PyArray_SimpleNew.\n  def GetDecode(self): return _FactorGraph.CFactorGraph_GetDecode(self)\nFactorBP/FactorGraph.py:399: DeprecationWarning: PyArray_FromDimsAndDataAndDescr: use PyArray_NewFromDescr.\n  def GetDecode(self): return _FactorGraph.CFactorGraph_GetDecode(self)\nFactorBP/FactorGraph.py:399: DeprecationWarning: PyArray_FromDims: use PyArray_SimpleNew.\n  def GetDecode(self): return _FactorGraph.CFactorGraph_GetDecode(self)\nFactorBP/FactorGraph.py:399: DeprecationWarning: PyArray_FromDimsAndDataAndDescr: use PyArray_NewFromDescr.\n  def GetDecode(self): return _FactorGraph.CFactorGraph_GetDecode(self)\n"
     ]
    },
    {
     "name": "stderr",
     "output_type": "stream",
     "text": [
      "FactorBP/FactorGraph.py:399: DeprecationWarning: PyArray_FromDims: use PyArray_SimpleNew.\n  def GetDecode(self): return _FactorGraph.CFactorGraph_GetDecode(self)\nFactorBP/FactorGraph.py:399: DeprecationWarning: PyArray_FromDimsAndDataAndDescr: use PyArray_NewFromDescr.\n  def GetDecode(self): return _FactorGraph.CFactorGraph_GetDecode(self)\nFactorBP/FactorGraph.py:399: DeprecationWarning: PyArray_FromDims: use PyArray_SimpleNew.\n  def GetDecode(self): return _FactorGraph.CFactorGraph_GetDecode(self)\nFactorBP/FactorGraph.py:399: DeprecationWarning: PyArray_FromDimsAndDataAndDescr: use PyArray_NewFromDescr.\n  def GetDecode(self): return _FactorGraph.CFactorGraph_GetDecode(self)\n"
     ]
    },
    {
     "name": "stdout",
     "output_type": "stream",
     "text": [
      "Ours Accuracy 1.000000 Running Time 0.022767 Obj 1.000000\nOurs-PW Accuracy 1.000000 Running Time 0.014243 Obj 0.897443\nOurs-BCA Accuracy 1.000000 Running Time 0.055432 Obj 1.000000\nBCA Accuracy 1.000000 Running Time 0.024006 Obj 1.000000\nBCA-MP Accuracy 1.000000 Running Time 0.122788 Obj 1.000000\nBCA-IPFP Accuracy 1.000000 Running Time 0.094354 Obj 1.000000\nHGM Accuracy 0.735531 Running Time 0.005517 Obj 0.685113\nRRWHM Accuracy 1.000000 Running Time 0.058880 Obj 1.000000\nTM Accuracy 0.745055 Running Time 0.091717 Obj 0.753990\n××××××××××××××××××××\n Start baseline: 30\n"
     ]
    },
    {
     "name": "stderr",
     "output_type": "stream",
     "text": [
      "FactorBP/FactorGraph.py:399: DeprecationWarning: PyArray_FromDims: use PyArray_SimpleNew.\n  def GetDecode(self): return _FactorGraph.CFactorGraph_GetDecode(self)\nFactorBP/FactorGraph.py:399: DeprecationWarning: PyArray_FromDimsAndDataAndDescr: use PyArray_NewFromDescr.\n  def GetDecode(self): return _FactorGraph.CFactorGraph_GetDecode(self)\nFactorBP/FactorGraph.py:399: DeprecationWarning: PyArray_FromDims: use PyArray_SimpleNew.\n  def GetDecode(self): return _FactorGraph.CFactorGraph_GetDecode(self)\nFactorBP/FactorGraph.py:399: DeprecationWarning: PyArray_FromDimsAndDataAndDescr: use PyArray_NewFromDescr.\n  def GetDecode(self): return _FactorGraph.CFactorGraph_GetDecode(self)\n"
     ]
    },
    {
     "name": "stderr",
     "output_type": "stream",
     "text": [
      "FactorBP/FactorGraph.py:399: DeprecationWarning: PyArray_FromDims: use PyArray_SimpleNew.\n  def GetDecode(self): return _FactorGraph.CFactorGraph_GetDecode(self)\nFactorBP/FactorGraph.py:399: DeprecationWarning: PyArray_FromDimsAndDataAndDescr: use PyArray_NewFromDescr.\n  def GetDecode(self): return _FactorGraph.CFactorGraph_GetDecode(self)\nFactorBP/FactorGraph.py:399: DeprecationWarning: PyArray_FromDims: use PyArray_SimpleNew.\n  def GetDecode(self): return _FactorGraph.CFactorGraph_GetDecode(self)\nFactorBP/FactorGraph.py:399: DeprecationWarning: PyArray_FromDimsAndDataAndDescr: use PyArray_NewFromDescr.\n  def GetDecode(self): return _FactorGraph.CFactorGraph_GetDecode(self)\n"
     ]
    },
    {
     "name": "stderr",
     "output_type": "stream",
     "text": [
      "FactorBP/FactorGraph.py:399: DeprecationWarning: PyArray_FromDims: use PyArray_SimpleNew.\n  def GetDecode(self): return _FactorGraph.CFactorGraph_GetDecode(self)\nFactorBP/FactorGraph.py:399: DeprecationWarning: PyArray_FromDimsAndDataAndDescr: use PyArray_NewFromDescr.\n  def GetDecode(self): return _FactorGraph.CFactorGraph_GetDecode(self)\nFactorBP/FactorGraph.py:399: DeprecationWarning: PyArray_FromDims: use PyArray_SimpleNew.\n  def GetDecode(self): return _FactorGraph.CFactorGraph_GetDecode(self)\nFactorBP/FactorGraph.py:399: DeprecationWarning: PyArray_FromDimsAndDataAndDescr: use PyArray_NewFromDescr.\n  def GetDecode(self): return _FactorGraph.CFactorGraph_GetDecode(self)\n"
     ]
    },
    {
     "name": "stderr",
     "output_type": "stream",
     "text": [
      "FactorBP/FactorGraph.py:399: DeprecationWarning: PyArray_FromDims: use PyArray_SimpleNew.\n  def GetDecode(self): return _FactorGraph.CFactorGraph_GetDecode(self)\nFactorBP/FactorGraph.py:399: DeprecationWarning: PyArray_FromDimsAndDataAndDescr: use PyArray_NewFromDescr.\n  def GetDecode(self): return _FactorGraph.CFactorGraph_GetDecode(self)\nFactorBP/FactorGraph.py:399: DeprecationWarning: PyArray_FromDims: use PyArray_SimpleNew.\n  def GetDecode(self): return _FactorGraph.CFactorGraph_GetDecode(self)\nFactorBP/FactorGraph.py:399: DeprecationWarning: PyArray_FromDimsAndDataAndDescr: use PyArray_NewFromDescr.\n  def GetDecode(self): return _FactorGraph.CFactorGraph_GetDecode(self)\n"
     ]
    },
    {
     "name": "stderr",
     "output_type": "stream",
     "text": [
      "FactorBP/FactorGraph.py:399: DeprecationWarning: PyArray_FromDims: use PyArray_SimpleNew.\n  def GetDecode(self): return _FactorGraph.CFactorGraph_GetDecode(self)\nFactorBP/FactorGraph.py:399: DeprecationWarning: PyArray_FromDimsAndDataAndDescr: use PyArray_NewFromDescr.\n  def GetDecode(self): return _FactorGraph.CFactorGraph_GetDecode(self)\nFactorBP/FactorGraph.py:399: DeprecationWarning: PyArray_FromDims: use PyArray_SimpleNew.\n  def GetDecode(self): return _FactorGraph.CFactorGraph_GetDecode(self)\nFactorBP/FactorGraph.py:399: DeprecationWarning: PyArray_FromDimsAndDataAndDescr: use PyArray_NewFromDescr.\n  def GetDecode(self): return _FactorGraph.CFactorGraph_GetDecode(self)\n"
     ]
    },
    {
     "name": "stderr",
     "output_type": "stream",
     "text": [
      "FactorBP/FactorGraph.py:399: DeprecationWarning: PyArray_FromDims: use PyArray_SimpleNew.\n  def GetDecode(self): return _FactorGraph.CFactorGraph_GetDecode(self)\nFactorBP/FactorGraph.py:399: DeprecationWarning: PyArray_FromDimsAndDataAndDescr: use PyArray_NewFromDescr.\n  def GetDecode(self): return _FactorGraph.CFactorGraph_GetDecode(self)\nFactorBP/FactorGraph.py:399: DeprecationWarning: PyArray_FromDims: use PyArray_SimpleNew.\n  def GetDecode(self): return _FactorGraph.CFactorGraph_GetDecode(self)\nFactorBP/FactorGraph.py:399: DeprecationWarning: PyArray_FromDimsAndDataAndDescr: use PyArray_NewFromDescr.\n  def GetDecode(self): return _FactorGraph.CFactorGraph_GetDecode(self)\n"
     ]
    },
    {
     "name": "stderr",
     "output_type": "stream",
     "text": [
      "FactorBP/FactorGraph.py:399: DeprecationWarning: PyArray_FromDims: use PyArray_SimpleNew.\n  def GetDecode(self): return _FactorGraph.CFactorGraph_GetDecode(self)\nFactorBP/FactorGraph.py:399: DeprecationWarning: PyArray_FromDimsAndDataAndDescr: use PyArray_NewFromDescr.\n  def GetDecode(self): return _FactorGraph.CFactorGraph_GetDecode(self)\nFactorBP/FactorGraph.py:399: DeprecationWarning: PyArray_FromDims: use PyArray_SimpleNew.\n  def GetDecode(self): return _FactorGraph.CFactorGraph_GetDecode(self)\nFactorBP/FactorGraph.py:399: DeprecationWarning: PyArray_FromDimsAndDataAndDescr: use PyArray_NewFromDescr.\n  def GetDecode(self): return _FactorGraph.CFactorGraph_GetDecode(self)\n"
     ]
    },
    {
     "name": "stderr",
     "output_type": "stream",
     "text": [
      "FactorBP/FactorGraph.py:399: DeprecationWarning: PyArray_FromDims: use PyArray_SimpleNew.\n  def GetDecode(self): return _FactorGraph.CFactorGraph_GetDecode(self)\nFactorBP/FactorGraph.py:399: DeprecationWarning: PyArray_FromDimsAndDataAndDescr: use PyArray_NewFromDescr.\n  def GetDecode(self): return _FactorGraph.CFactorGraph_GetDecode(self)\nFactorBP/FactorGraph.py:399: DeprecationWarning: PyArray_FromDims: use PyArray_SimpleNew.\n  def GetDecode(self): return _FactorGraph.CFactorGraph_GetDecode(self)\nFactorBP/FactorGraph.py:399: DeprecationWarning: PyArray_FromDimsAndDataAndDescr: use PyArray_NewFromDescr.\n  def GetDecode(self): return _FactorGraph.CFactorGraph_GetDecode(self)\n"
     ]
    },
    {
     "name": "stderr",
     "output_type": "stream",
     "text": [
      "FactorBP/FactorGraph.py:399: DeprecationWarning: PyArray_FromDims: use PyArray_SimpleNew.\n  def GetDecode(self): return _FactorGraph.CFactorGraph_GetDecode(self)\nFactorBP/FactorGraph.py:399: DeprecationWarning: PyArray_FromDimsAndDataAndDescr: use PyArray_NewFromDescr.\n  def GetDecode(self): return _FactorGraph.CFactorGraph_GetDecode(self)\nFactorBP/FactorGraph.py:399: DeprecationWarning: PyArray_FromDims: use PyArray_SimpleNew.\n  def GetDecode(self): return _FactorGraph.CFactorGraph_GetDecode(self)\nFactorBP/FactorGraph.py:399: DeprecationWarning: PyArray_FromDimsAndDataAndDescr: use PyArray_NewFromDescr.\n  def GetDecode(self): return _FactorGraph.CFactorGraph_GetDecode(self)\n"
     ]
    },
    {
     "name": "stderr",
     "output_type": "stream",
     "text": [
      "FactorBP/FactorGraph.py:399: DeprecationWarning: PyArray_FromDims: use PyArray_SimpleNew.\n  def GetDecode(self): return _FactorGraph.CFactorGraph_GetDecode(self)\nFactorBP/FactorGraph.py:399: DeprecationWarning: PyArray_FromDimsAndDataAndDescr: use PyArray_NewFromDescr.\n  def GetDecode(self): return _FactorGraph.CFactorGraph_GetDecode(self)\nFactorBP/FactorGraph.py:399: DeprecationWarning: PyArray_FromDims: use PyArray_SimpleNew.\n  def GetDecode(self): return _FactorGraph.CFactorGraph_GetDecode(self)\nFactorBP/FactorGraph.py:399: DeprecationWarning: PyArray_FromDimsAndDataAndDescr: use PyArray_NewFromDescr.\n  def GetDecode(self): return _FactorGraph.CFactorGraph_GetDecode(self)\n"
     ]
    },
    {
     "name": "stderr",
     "output_type": "stream",
     "text": [
      "FactorBP/FactorGraph.py:399: DeprecationWarning: PyArray_FromDims: use PyArray_SimpleNew.\n  def GetDecode(self): return _FactorGraph.CFactorGraph_GetDecode(self)\nFactorBP/FactorGraph.py:399: DeprecationWarning: PyArray_FromDimsAndDataAndDescr: use PyArray_NewFromDescr.\n  def GetDecode(self): return _FactorGraph.CFactorGraph_GetDecode(self)\nFactorBP/FactorGraph.py:399: DeprecationWarning: PyArray_FromDims: use PyArray_SimpleNew.\n  def GetDecode(self): return _FactorGraph.CFactorGraph_GetDecode(self)\nFactorBP/FactorGraph.py:399: DeprecationWarning: PyArray_FromDimsAndDataAndDescr: use PyArray_NewFromDescr.\n  def GetDecode(self): return _FactorGraph.CFactorGraph_GetDecode(self)\n"
     ]
    },
    {
     "name": "stderr",
     "output_type": "stream",
     "text": [
      "FactorBP/FactorGraph.py:399: DeprecationWarning: PyArray_FromDims: use PyArray_SimpleNew.\n  def GetDecode(self): return _FactorGraph.CFactorGraph_GetDecode(self)\nFactorBP/FactorGraph.py:399: DeprecationWarning: PyArray_FromDimsAndDataAndDescr: use PyArray_NewFromDescr.\n  def GetDecode(self): return _FactorGraph.CFactorGraph_GetDecode(self)\nFactorBP/FactorGraph.py:399: DeprecationWarning: PyArray_FromDims: use PyArray_SimpleNew.\n  def GetDecode(self): return _FactorGraph.CFactorGraph_GetDecode(self)\nFactorBP/FactorGraph.py:399: DeprecationWarning: PyArray_FromDimsAndDataAndDescr: use PyArray_NewFromDescr.\n  def GetDecode(self): return _FactorGraph.CFactorGraph_GetDecode(self)\n"
     ]
    },
    {
     "name": "stderr",
     "output_type": "stream",
     "text": [
      "FactorBP/FactorGraph.py:399: DeprecationWarning: PyArray_FromDims: use PyArray_SimpleNew.\n  def GetDecode(self): return _FactorGraph.CFactorGraph_GetDecode(self)\nFactorBP/FactorGraph.py:399: DeprecationWarning: PyArray_FromDimsAndDataAndDescr: use PyArray_NewFromDescr.\n  def GetDecode(self): return _FactorGraph.CFactorGraph_GetDecode(self)\nFactorBP/FactorGraph.py:399: DeprecationWarning: PyArray_FromDims: use PyArray_SimpleNew.\n  def GetDecode(self): return _FactorGraph.CFactorGraph_GetDecode(self)\nFactorBP/FactorGraph.py:399: DeprecationWarning: PyArray_FromDimsAndDataAndDescr: use PyArray_NewFromDescr.\n  def GetDecode(self): return _FactorGraph.CFactorGraph_GetDecode(self)\n"
     ]
    },
    {
     "name": "stderr",
     "output_type": "stream",
     "text": [
      "FactorBP/FactorGraph.py:399: DeprecationWarning: PyArray_FromDims: use PyArray_SimpleNew.\n  def GetDecode(self): return _FactorGraph.CFactorGraph_GetDecode(self)\nFactorBP/FactorGraph.py:399: DeprecationWarning: PyArray_FromDimsAndDataAndDescr: use PyArray_NewFromDescr.\n  def GetDecode(self): return _FactorGraph.CFactorGraph_GetDecode(self)\nFactorBP/FactorGraph.py:399: DeprecationWarning: PyArray_FromDims: use PyArray_SimpleNew.\n  def GetDecode(self): return _FactorGraph.CFactorGraph_GetDecode(self)\nFactorBP/FactorGraph.py:399: DeprecationWarning: PyArray_FromDimsAndDataAndDescr: use PyArray_NewFromDescr.\n  def GetDecode(self): return _FactorGraph.CFactorGraph_GetDecode(self)\n"
     ]
    },
    {
     "name": "stderr",
     "output_type": "stream",
     "text": [
      "FactorBP/FactorGraph.py:399: DeprecationWarning: PyArray_FromDims: use PyArray_SimpleNew.\n  def GetDecode(self): return _FactorGraph.CFactorGraph_GetDecode(self)\nFactorBP/FactorGraph.py:399: DeprecationWarning: PyArray_FromDimsAndDataAndDescr: use PyArray_NewFromDescr.\n  def GetDecode(self): return _FactorGraph.CFactorGraph_GetDecode(self)\nFactorBP/FactorGraph.py:399: DeprecationWarning: PyArray_FromDims: use PyArray_SimpleNew.\n  def GetDecode(self): return _FactorGraph.CFactorGraph_GetDecode(self)\nFactorBP/FactorGraph.py:399: DeprecationWarning: PyArray_FromDimsAndDataAndDescr: use PyArray_NewFromDescr.\n  def GetDecode(self): return _FactorGraph.CFactorGraph_GetDecode(self)\n"
     ]
    },
    {
     "name": "stderr",
     "output_type": "stream",
     "text": [
      "FactorBP/FactorGraph.py:399: DeprecationWarning: PyArray_FromDims: use PyArray_SimpleNew.\n  def GetDecode(self): return _FactorGraph.CFactorGraph_GetDecode(self)\nFactorBP/FactorGraph.py:399: DeprecationWarning: PyArray_FromDimsAndDataAndDescr: use PyArray_NewFromDescr.\n  def GetDecode(self): return _FactorGraph.CFactorGraph_GetDecode(self)\nFactorBP/FactorGraph.py:399: DeprecationWarning: PyArray_FromDims: use PyArray_SimpleNew.\n  def GetDecode(self): return _FactorGraph.CFactorGraph_GetDecode(self)\nFactorBP/FactorGraph.py:399: DeprecationWarning: PyArray_FromDimsAndDataAndDescr: use PyArray_NewFromDescr.\n  def GetDecode(self): return _FactorGraph.CFactorGraph_GetDecode(self)\n"
     ]
    },
    {
     "name": "stderr",
     "output_type": "stream",
     "text": [
      "FactorBP/FactorGraph.py:399: DeprecationWarning: PyArray_FromDims: use PyArray_SimpleNew.\n  def GetDecode(self): return _FactorGraph.CFactorGraph_GetDecode(self)\nFactorBP/FactorGraph.py:399: DeprecationWarning: PyArray_FromDimsAndDataAndDescr: use PyArray_NewFromDescr.\n  def GetDecode(self): return _FactorGraph.CFactorGraph_GetDecode(self)\nFactorBP/FactorGraph.py:399: DeprecationWarning: PyArray_FromDims: use PyArray_SimpleNew.\n  def GetDecode(self): return _FactorGraph.CFactorGraph_GetDecode(self)\nFactorBP/FactorGraph.py:399: DeprecationWarning: PyArray_FromDimsAndDataAndDescr: use PyArray_NewFromDescr.\n  def GetDecode(self): return _FactorGraph.CFactorGraph_GetDecode(self)\n"
     ]
    },
    {
     "name": "stderr",
     "output_type": "stream",
     "text": [
      "FactorBP/FactorGraph.py:399: DeprecationWarning: PyArray_FromDims: use PyArray_SimpleNew.\n  def GetDecode(self): return _FactorGraph.CFactorGraph_GetDecode(self)\nFactorBP/FactorGraph.py:399: DeprecationWarning: PyArray_FromDimsAndDataAndDescr: use PyArray_NewFromDescr.\n  def GetDecode(self): return _FactorGraph.CFactorGraph_GetDecode(self)\nFactorBP/FactorGraph.py:399: DeprecationWarning: PyArray_FromDims: use PyArray_SimpleNew.\n  def GetDecode(self): return _FactorGraph.CFactorGraph_GetDecode(self)\nFactorBP/FactorGraph.py:399: DeprecationWarning: PyArray_FromDimsAndDataAndDescr: use PyArray_NewFromDescr.\n  def GetDecode(self): return _FactorGraph.CFactorGraph_GetDecode(self)\n"
     ]
    },
    {
     "name": "stderr",
     "output_type": "stream",
     "text": [
      "FactorBP/FactorGraph.py:399: DeprecationWarning: PyArray_FromDims: use PyArray_SimpleNew.\n  def GetDecode(self): return _FactorGraph.CFactorGraph_GetDecode(self)\nFactorBP/FactorGraph.py:399: DeprecationWarning: PyArray_FromDimsAndDataAndDescr: use PyArray_NewFromDescr.\n  def GetDecode(self): return _FactorGraph.CFactorGraph_GetDecode(self)\nFactorBP/FactorGraph.py:399: DeprecationWarning: PyArray_FromDims: use PyArray_SimpleNew.\n  def GetDecode(self): return _FactorGraph.CFactorGraph_GetDecode(self)\nFactorBP/FactorGraph.py:399: DeprecationWarning: PyArray_FromDimsAndDataAndDescr: use PyArray_NewFromDescr.\n  def GetDecode(self): return _FactorGraph.CFactorGraph_GetDecode(self)\n"
     ]
    },
    {
     "name": "stderr",
     "output_type": "stream",
     "text": [
      "FactorBP/FactorGraph.py:399: DeprecationWarning: PyArray_FromDims: use PyArray_SimpleNew.\n  def GetDecode(self): return _FactorGraph.CFactorGraph_GetDecode(self)\nFactorBP/FactorGraph.py:399: DeprecationWarning: PyArray_FromDimsAndDataAndDescr: use PyArray_NewFromDescr.\n  def GetDecode(self): return _FactorGraph.CFactorGraph_GetDecode(self)\nFactorBP/FactorGraph.py:399: DeprecationWarning: PyArray_FromDims: use PyArray_SimpleNew.\n  def GetDecode(self): return _FactorGraph.CFactorGraph_GetDecode(self)\nFactorBP/FactorGraph.py:399: DeprecationWarning: PyArray_FromDimsAndDataAndDescr: use PyArray_NewFromDescr.\n  def GetDecode(self): return _FactorGraph.CFactorGraph_GetDecode(self)\n"
     ]
    },
    {
     "name": "stderr",
     "output_type": "stream",
     "text": [
      "FactorBP/FactorGraph.py:399: DeprecationWarning: PyArray_FromDims: use PyArray_SimpleNew.\n  def GetDecode(self): return _FactorGraph.CFactorGraph_GetDecode(self)\nFactorBP/FactorGraph.py:399: DeprecationWarning: PyArray_FromDimsAndDataAndDescr: use PyArray_NewFromDescr.\n  def GetDecode(self): return _FactorGraph.CFactorGraph_GetDecode(self)\nFactorBP/FactorGraph.py:399: DeprecationWarning: PyArray_FromDims: use PyArray_SimpleNew.\n  def GetDecode(self): return _FactorGraph.CFactorGraph_GetDecode(self)\nFactorBP/FactorGraph.py:399: DeprecationWarning: PyArray_FromDimsAndDataAndDescr: use PyArray_NewFromDescr.\n  def GetDecode(self): return _FactorGraph.CFactorGraph_GetDecode(self)\n"
     ]
    },
    {
     "name": "stderr",
     "output_type": "stream",
     "text": [
      "FactorBP/FactorGraph.py:399: DeprecationWarning: PyArray_FromDims: use PyArray_SimpleNew.\n  def GetDecode(self): return _FactorGraph.CFactorGraph_GetDecode(self)\nFactorBP/FactorGraph.py:399: DeprecationWarning: PyArray_FromDimsAndDataAndDescr: use PyArray_NewFromDescr.\n  def GetDecode(self): return _FactorGraph.CFactorGraph_GetDecode(self)\nFactorBP/FactorGraph.py:399: DeprecationWarning: PyArray_FromDims: use PyArray_SimpleNew.\n  def GetDecode(self): return _FactorGraph.CFactorGraph_GetDecode(self)\nFactorBP/FactorGraph.py:399: DeprecationWarning: PyArray_FromDimsAndDataAndDescr: use PyArray_NewFromDescr.\n  def GetDecode(self): return _FactorGraph.CFactorGraph_GetDecode(self)\n"
     ]
    },
    {
     "name": "stderr",
     "output_type": "stream",
     "text": [
      "FactorBP/FactorGraph.py:399: DeprecationWarning: PyArray_FromDims: use PyArray_SimpleNew.\n  def GetDecode(self): return _FactorGraph.CFactorGraph_GetDecode(self)\nFactorBP/FactorGraph.py:399: DeprecationWarning: PyArray_FromDimsAndDataAndDescr: use PyArray_NewFromDescr.\n  def GetDecode(self): return _FactorGraph.CFactorGraph_GetDecode(self)\nFactorBP/FactorGraph.py:399: DeprecationWarning: PyArray_FromDims: use PyArray_SimpleNew.\n  def GetDecode(self): return _FactorGraph.CFactorGraph_GetDecode(self)\nFactorBP/FactorGraph.py:399: DeprecationWarning: PyArray_FromDimsAndDataAndDescr: use PyArray_NewFromDescr.\n  def GetDecode(self): return _FactorGraph.CFactorGraph_GetDecode(self)\n"
     ]
    },
    {
     "name": "stderr",
     "output_type": "stream",
     "text": [
      "FactorBP/FactorGraph.py:399: DeprecationWarning: PyArray_FromDims: use PyArray_SimpleNew.\n  def GetDecode(self): return _FactorGraph.CFactorGraph_GetDecode(self)\nFactorBP/FactorGraph.py:399: DeprecationWarning: PyArray_FromDimsAndDataAndDescr: use PyArray_NewFromDescr.\n  def GetDecode(self): return _FactorGraph.CFactorGraph_GetDecode(self)\nFactorBP/FactorGraph.py:399: DeprecationWarning: PyArray_FromDims: use PyArray_SimpleNew.\n  def GetDecode(self): return _FactorGraph.CFactorGraph_GetDecode(self)\nFactorBP/FactorGraph.py:399: DeprecationWarning: PyArray_FromDimsAndDataAndDescr: use PyArray_NewFromDescr.\n  def GetDecode(self): return _FactorGraph.CFactorGraph_GetDecode(self)\n"
     ]
    },
    {
     "name": "stderr",
     "output_type": "stream",
     "text": [
      "FactorBP/FactorGraph.py:399: DeprecationWarning: PyArray_FromDims: use PyArray_SimpleNew.\n  def GetDecode(self): return _FactorGraph.CFactorGraph_GetDecode(self)\nFactorBP/FactorGraph.py:399: DeprecationWarning: PyArray_FromDimsAndDataAndDescr: use PyArray_NewFromDescr.\n  def GetDecode(self): return _FactorGraph.CFactorGraph_GetDecode(self)\nFactorBP/FactorGraph.py:399: DeprecationWarning: PyArray_FromDims: use PyArray_SimpleNew.\n  def GetDecode(self): return _FactorGraph.CFactorGraph_GetDecode(self)\nFactorBP/FactorGraph.py:399: DeprecationWarning: PyArray_FromDimsAndDataAndDescr: use PyArray_NewFromDescr.\n  def GetDecode(self): return _FactorGraph.CFactorGraph_GetDecode(self)\n"
     ]
    },
    {
     "name": "stderr",
     "output_type": "stream",
     "text": [
      "FactorBP/FactorGraph.py:399: DeprecationWarning: PyArray_FromDims: use PyArray_SimpleNew.\n  def GetDecode(self): return _FactorGraph.CFactorGraph_GetDecode(self)\nFactorBP/FactorGraph.py:399: DeprecationWarning: PyArray_FromDimsAndDataAndDescr: use PyArray_NewFromDescr.\n  def GetDecode(self): return _FactorGraph.CFactorGraph_GetDecode(self)\nFactorBP/FactorGraph.py:399: DeprecationWarning: PyArray_FromDims: use PyArray_SimpleNew.\n  def GetDecode(self): return _FactorGraph.CFactorGraph_GetDecode(self)\nFactorBP/FactorGraph.py:399: DeprecationWarning: PyArray_FromDimsAndDataAndDescr: use PyArray_NewFromDescr.\n  def GetDecode(self): return _FactorGraph.CFactorGraph_GetDecode(self)\n"
     ]
    },
    {
     "name": "stderr",
     "output_type": "stream",
     "text": [
      "FactorBP/FactorGraph.py:399: DeprecationWarning: PyArray_FromDims: use PyArray_SimpleNew.\n  def GetDecode(self): return _FactorGraph.CFactorGraph_GetDecode(self)\nFactorBP/FactorGraph.py:399: DeprecationWarning: PyArray_FromDimsAndDataAndDescr: use PyArray_NewFromDescr.\n  def GetDecode(self): return _FactorGraph.CFactorGraph_GetDecode(self)\nFactorBP/FactorGraph.py:399: DeprecationWarning: PyArray_FromDims: use PyArray_SimpleNew.\n  def GetDecode(self): return _FactorGraph.CFactorGraph_GetDecode(self)\nFactorBP/FactorGraph.py:399: DeprecationWarning: PyArray_FromDimsAndDataAndDescr: use PyArray_NewFromDescr.\n  def GetDecode(self): return _FactorGraph.CFactorGraph_GetDecode(self)\n"
     ]
    },
    {
     "name": "stderr",
     "output_type": "stream",
     "text": [
      "FactorBP/FactorGraph.py:399: DeprecationWarning: PyArray_FromDims: use PyArray_SimpleNew.\n  def GetDecode(self): return _FactorGraph.CFactorGraph_GetDecode(self)\nFactorBP/FactorGraph.py:399: DeprecationWarning: PyArray_FromDimsAndDataAndDescr: use PyArray_NewFromDescr.\n  def GetDecode(self): return _FactorGraph.CFactorGraph_GetDecode(self)\nFactorBP/FactorGraph.py:399: DeprecationWarning: PyArray_FromDims: use PyArray_SimpleNew.\n  def GetDecode(self): return _FactorGraph.CFactorGraph_GetDecode(self)\nFactorBP/FactorGraph.py:399: DeprecationWarning: PyArray_FromDimsAndDataAndDescr: use PyArray_NewFromDescr.\n  def GetDecode(self): return _FactorGraph.CFactorGraph_GetDecode(self)\n"
     ]
    },
    {
     "name": "stderr",
     "output_type": "stream",
     "text": [
      "FactorBP/FactorGraph.py:399: DeprecationWarning: PyArray_FromDims: use PyArray_SimpleNew.\n  def GetDecode(self): return _FactorGraph.CFactorGraph_GetDecode(self)\nFactorBP/FactorGraph.py:399: DeprecationWarning: PyArray_FromDimsAndDataAndDescr: use PyArray_NewFromDescr.\n  def GetDecode(self): return _FactorGraph.CFactorGraph_GetDecode(self)\nFactorBP/FactorGraph.py:399: DeprecationWarning: PyArray_FromDims: use PyArray_SimpleNew.\n  def GetDecode(self): return _FactorGraph.CFactorGraph_GetDecode(self)\nFactorBP/FactorGraph.py:399: DeprecationWarning: PyArray_FromDimsAndDataAndDescr: use PyArray_NewFromDescr.\n  def GetDecode(self): return _FactorGraph.CFactorGraph_GetDecode(self)\n"
     ]
    },
    {
     "name": "stderr",
     "output_type": "stream",
     "text": [
      "FactorBP/FactorGraph.py:399: DeprecationWarning: PyArray_FromDims: use PyArray_SimpleNew.\n  def GetDecode(self): return _FactorGraph.CFactorGraph_GetDecode(self)\nFactorBP/FactorGraph.py:399: DeprecationWarning: PyArray_FromDimsAndDataAndDescr: use PyArray_NewFromDescr.\n  def GetDecode(self): return _FactorGraph.CFactorGraph_GetDecode(self)\nFactorBP/FactorGraph.py:399: DeprecationWarning: PyArray_FromDims: use PyArray_SimpleNew.\n  def GetDecode(self): return _FactorGraph.CFactorGraph_GetDecode(self)\nFactorBP/FactorGraph.py:399: DeprecationWarning: PyArray_FromDimsAndDataAndDescr: use PyArray_NewFromDescr.\n  def GetDecode(self): return _FactorGraph.CFactorGraph_GetDecode(self)\n"
     ]
    },
    {
     "name": "stderr",
     "output_type": "stream",
     "text": [
      "FactorBP/FactorGraph.py:399: DeprecationWarning: PyArray_FromDims: use PyArray_SimpleNew.\n  def GetDecode(self): return _FactorGraph.CFactorGraph_GetDecode(self)\nFactorBP/FactorGraph.py:399: DeprecationWarning: PyArray_FromDimsAndDataAndDescr: use PyArray_NewFromDescr.\n  def GetDecode(self): return _FactorGraph.CFactorGraph_GetDecode(self)\nFactorBP/FactorGraph.py:399: DeprecationWarning: PyArray_FromDims: use PyArray_SimpleNew.\n  def GetDecode(self): return _FactorGraph.CFactorGraph_GetDecode(self)\nFactorBP/FactorGraph.py:399: DeprecationWarning: PyArray_FromDimsAndDataAndDescr: use PyArray_NewFromDescr.\n  def GetDecode(self): return _FactorGraph.CFactorGraph_GetDecode(self)\n"
     ]
    },
    {
     "name": "stderr",
     "output_type": "stream",
     "text": [
      "FactorBP/FactorGraph.py:399: DeprecationWarning: PyArray_FromDims: use PyArray_SimpleNew.\n  def GetDecode(self): return _FactorGraph.CFactorGraph_GetDecode(self)\nFactorBP/FactorGraph.py:399: DeprecationWarning: PyArray_FromDimsAndDataAndDescr: use PyArray_NewFromDescr.\n  def GetDecode(self): return _FactorGraph.CFactorGraph_GetDecode(self)\nFactorBP/FactorGraph.py:399: DeprecationWarning: PyArray_FromDims: use PyArray_SimpleNew.\n  def GetDecode(self): return _FactorGraph.CFactorGraph_GetDecode(self)\nFactorBP/FactorGraph.py:399: DeprecationWarning: PyArray_FromDimsAndDataAndDescr: use PyArray_NewFromDescr.\n  def GetDecode(self): return _FactorGraph.CFactorGraph_GetDecode(self)\n"
     ]
    },
    {
     "name": "stderr",
     "output_type": "stream",
     "text": [
      "FactorBP/FactorGraph.py:399: DeprecationWarning: PyArray_FromDims: use PyArray_SimpleNew.\n  def GetDecode(self): return _FactorGraph.CFactorGraph_GetDecode(self)\nFactorBP/FactorGraph.py:399: DeprecationWarning: PyArray_FromDimsAndDataAndDescr: use PyArray_NewFromDescr.\n  def GetDecode(self): return _FactorGraph.CFactorGraph_GetDecode(self)\nFactorBP/FactorGraph.py:399: DeprecationWarning: PyArray_FromDims: use PyArray_SimpleNew.\n  def GetDecode(self): return _FactorGraph.CFactorGraph_GetDecode(self)\nFactorBP/FactorGraph.py:399: DeprecationWarning: PyArray_FromDimsAndDataAndDescr: use PyArray_NewFromDescr.\n  def GetDecode(self): return _FactorGraph.CFactorGraph_GetDecode(self)\nFactorBP/FactorGraph.py:399: DeprecationWarning: PyArray_FromDims: use PyArray_SimpleNew.\n  def GetDecode(self): return _FactorGraph.CFactorGraph_GetDecode(self)\nFactorBP/FactorGraph.py:399: DeprecationWarning: PyArray_FromDimsAndDataAndDescr: use PyArray_NewFromDescr.\n  def GetDecode(self): return _FactorGraph.CFactorGraph_GetDecode(self)\n"
     ]
    },
    {
     "name": "stderr",
     "output_type": "stream",
     "text": [
      "FactorBP/FactorGraph.py:399: DeprecationWarning: PyArray_FromDims: use PyArray_SimpleNew.\n  def GetDecode(self): return _FactorGraph.CFactorGraph_GetDecode(self)\nFactorBP/FactorGraph.py:399: DeprecationWarning: PyArray_FromDimsAndDataAndDescr: use PyArray_NewFromDescr.\n  def GetDecode(self): return _FactorGraph.CFactorGraph_GetDecode(self)\nFactorBP/FactorGraph.py:399: DeprecationWarning: PyArray_FromDims: use PyArray_SimpleNew.\n  def GetDecode(self): return _FactorGraph.CFactorGraph_GetDecode(self)\nFactorBP/FactorGraph.py:399: DeprecationWarning: PyArray_FromDimsAndDataAndDescr: use PyArray_NewFromDescr.\n  def GetDecode(self): return _FactorGraph.CFactorGraph_GetDecode(self)\n"
     ]
    },
    {
     "name": "stderr",
     "output_type": "stream",
     "text": [
      "FactorBP/FactorGraph.py:399: DeprecationWarning: PyArray_FromDims: use PyArray_SimpleNew.\n  def GetDecode(self): return _FactorGraph.CFactorGraph_GetDecode(self)\nFactorBP/FactorGraph.py:399: DeprecationWarning: PyArray_FromDimsAndDataAndDescr: use PyArray_NewFromDescr.\n  def GetDecode(self): return _FactorGraph.CFactorGraph_GetDecode(self)\nFactorBP/FactorGraph.py:399: DeprecationWarning: PyArray_FromDims: use PyArray_SimpleNew.\n  def GetDecode(self): return _FactorGraph.CFactorGraph_GetDecode(self)\nFactorBP/FactorGraph.py:399: DeprecationWarning: PyArray_FromDimsAndDataAndDescr: use PyArray_NewFromDescr.\n  def GetDecode(self): return _FactorGraph.CFactorGraph_GetDecode(self)\n"
     ]
    },
    {
     "name": "stderr",
     "output_type": "stream",
     "text": [
      "FactorBP/FactorGraph.py:399: DeprecationWarning: PyArray_FromDims: use PyArray_SimpleNew.\n  def GetDecode(self): return _FactorGraph.CFactorGraph_GetDecode(self)\nFactorBP/FactorGraph.py:399: DeprecationWarning: PyArray_FromDimsAndDataAndDescr: use PyArray_NewFromDescr.\n  def GetDecode(self): return _FactorGraph.CFactorGraph_GetDecode(self)\nFactorBP/FactorGraph.py:399: DeprecationWarning: PyArray_FromDims: use PyArray_SimpleNew.\n  def GetDecode(self): return _FactorGraph.CFactorGraph_GetDecode(self)\nFactorBP/FactorGraph.py:399: DeprecationWarning: PyArray_FromDimsAndDataAndDescr: use PyArray_NewFromDescr.\n  def GetDecode(self): return _FactorGraph.CFactorGraph_GetDecode(self)\n"
     ]
    },
    {
     "name": "stderr",
     "output_type": "stream",
     "text": [
      "FactorBP/FactorGraph.py:399: DeprecationWarning: PyArray_FromDims: use PyArray_SimpleNew.\n  def GetDecode(self): return _FactorGraph.CFactorGraph_GetDecode(self)\nFactorBP/FactorGraph.py:399: DeprecationWarning: PyArray_FromDimsAndDataAndDescr: use PyArray_NewFromDescr.\n  def GetDecode(self): return _FactorGraph.CFactorGraph_GetDecode(self)\nFactorBP/FactorGraph.py:399: DeprecationWarning: PyArray_FromDims: use PyArray_SimpleNew.\n  def GetDecode(self): return _FactorGraph.CFactorGraph_GetDecode(self)\nFactorBP/FactorGraph.py:399: DeprecationWarning: PyArray_FromDimsAndDataAndDescr: use PyArray_NewFromDescr.\n  def GetDecode(self): return _FactorGraph.CFactorGraph_GetDecode(self)\n"
     ]
    },
    {
     "name": "stderr",
     "output_type": "stream",
     "text": [
      "FactorBP/FactorGraph.py:399: DeprecationWarning: PyArray_FromDims: use PyArray_SimpleNew.\n  def GetDecode(self): return _FactorGraph.CFactorGraph_GetDecode(self)\nFactorBP/FactorGraph.py:399: DeprecationWarning: PyArray_FromDimsAndDataAndDescr: use PyArray_NewFromDescr.\n  def GetDecode(self): return _FactorGraph.CFactorGraph_GetDecode(self)\nFactorBP/FactorGraph.py:399: DeprecationWarning: PyArray_FromDims: use PyArray_SimpleNew.\n  def GetDecode(self): return _FactorGraph.CFactorGraph_GetDecode(self)\nFactorBP/FactorGraph.py:399: DeprecationWarning: PyArray_FromDimsAndDataAndDescr: use PyArray_NewFromDescr.\n  def GetDecode(self): return _FactorGraph.CFactorGraph_GetDecode(self)\n"
     ]
    },
    {
     "name": "stderr",
     "output_type": "stream",
     "text": [
      "FactorBP/FactorGraph.py:399: DeprecationWarning: PyArray_FromDims: use PyArray_SimpleNew.\n  def GetDecode(self): return _FactorGraph.CFactorGraph_GetDecode(self)\nFactorBP/FactorGraph.py:399: DeprecationWarning: PyArray_FromDimsAndDataAndDescr: use PyArray_NewFromDescr.\n  def GetDecode(self): return _FactorGraph.CFactorGraph_GetDecode(self)\nFactorBP/FactorGraph.py:399: DeprecationWarning: PyArray_FromDims: use PyArray_SimpleNew.\n  def GetDecode(self): return _FactorGraph.CFactorGraph_GetDecode(self)\nFactorBP/FactorGraph.py:399: DeprecationWarning: PyArray_FromDimsAndDataAndDescr: use PyArray_NewFromDescr.\n  def GetDecode(self): return _FactorGraph.CFactorGraph_GetDecode(self)\n"
     ]
    },
    {
     "name": "stderr",
     "output_type": "stream",
     "text": [
      "FactorBP/FactorGraph.py:399: DeprecationWarning: PyArray_FromDims: use PyArray_SimpleNew.\n  def GetDecode(self): return _FactorGraph.CFactorGraph_GetDecode(self)\nFactorBP/FactorGraph.py:399: DeprecationWarning: PyArray_FromDimsAndDataAndDescr: use PyArray_NewFromDescr.\n  def GetDecode(self): return _FactorGraph.CFactorGraph_GetDecode(self)\nFactorBP/FactorGraph.py:399: DeprecationWarning: PyArray_FromDims: use PyArray_SimpleNew.\n  def GetDecode(self): return _FactorGraph.CFactorGraph_GetDecode(self)\nFactorBP/FactorGraph.py:399: DeprecationWarning: PyArray_FromDimsAndDataAndDescr: use PyArray_NewFromDescr.\n  def GetDecode(self): return _FactorGraph.CFactorGraph_GetDecode(self)\n"
     ]
    },
    {
     "name": "stderr",
     "output_type": "stream",
     "text": [
      "FactorBP/FactorGraph.py:399: DeprecationWarning: PyArray_FromDims: use PyArray_SimpleNew.\n  def GetDecode(self): return _FactorGraph.CFactorGraph_GetDecode(self)\nFactorBP/FactorGraph.py:399: DeprecationWarning: PyArray_FromDimsAndDataAndDescr: use PyArray_NewFromDescr.\n  def GetDecode(self): return _FactorGraph.CFactorGraph_GetDecode(self)\nFactorBP/FactorGraph.py:399: DeprecationWarning: PyArray_FromDims: use PyArray_SimpleNew.\n  def GetDecode(self): return _FactorGraph.CFactorGraph_GetDecode(self)\nFactorBP/FactorGraph.py:399: DeprecationWarning: PyArray_FromDimsAndDataAndDescr: use PyArray_NewFromDescr.\n  def GetDecode(self): return _FactorGraph.CFactorGraph_GetDecode(self)\n"
     ]
    },
    {
     "name": "stderr",
     "output_type": "stream",
     "text": [
      "FactorBP/FactorGraph.py:399: DeprecationWarning: PyArray_FromDims: use PyArray_SimpleNew.\n  def GetDecode(self): return _FactorGraph.CFactorGraph_GetDecode(self)\nFactorBP/FactorGraph.py:399: DeprecationWarning: PyArray_FromDimsAndDataAndDescr: use PyArray_NewFromDescr.\n  def GetDecode(self): return _FactorGraph.CFactorGraph_GetDecode(self)\nFactorBP/FactorGraph.py:399: DeprecationWarning: PyArray_FromDims: use PyArray_SimpleNew.\n  def GetDecode(self): return _FactorGraph.CFactorGraph_GetDecode(self)\nFactorBP/FactorGraph.py:399: DeprecationWarning: PyArray_FromDimsAndDataAndDescr: use PyArray_NewFromDescr.\n  def GetDecode(self): return _FactorGraph.CFactorGraph_GetDecode(self)\n"
     ]
    },
    {
     "name": "stderr",
     "output_type": "stream",
     "text": [
      "FactorBP/FactorGraph.py:399: DeprecationWarning: PyArray_FromDims: use PyArray_SimpleNew.\n  def GetDecode(self): return _FactorGraph.CFactorGraph_GetDecode(self)\nFactorBP/FactorGraph.py:399: DeprecationWarning: PyArray_FromDimsAndDataAndDescr: use PyArray_NewFromDescr.\n  def GetDecode(self): return _FactorGraph.CFactorGraph_GetDecode(self)\nFactorBP/FactorGraph.py:399: DeprecationWarning: PyArray_FromDims: use PyArray_SimpleNew.\n  def GetDecode(self): return _FactorGraph.CFactorGraph_GetDecode(self)\nFactorBP/FactorGraph.py:399: DeprecationWarning: PyArray_FromDimsAndDataAndDescr: use PyArray_NewFromDescr.\n  def GetDecode(self): return _FactorGraph.CFactorGraph_GetDecode(self)\n"
     ]
    },
    {
     "name": "stderr",
     "output_type": "stream",
     "text": [
      "FactorBP/FactorGraph.py:399: DeprecationWarning: PyArray_FromDims: use PyArray_SimpleNew.\n  def GetDecode(self): return _FactorGraph.CFactorGraph_GetDecode(self)\nFactorBP/FactorGraph.py:399: DeprecationWarning: PyArray_FromDimsAndDataAndDescr: use PyArray_NewFromDescr.\n  def GetDecode(self): return _FactorGraph.CFactorGraph_GetDecode(self)\nFactorBP/FactorGraph.py:399: DeprecationWarning: PyArray_FromDims: use PyArray_SimpleNew.\n  def GetDecode(self): return _FactorGraph.CFactorGraph_GetDecode(self)\nFactorBP/FactorGraph.py:399: DeprecationWarning: PyArray_FromDimsAndDataAndDescr: use PyArray_NewFromDescr.\n  def GetDecode(self): return _FactorGraph.CFactorGraph_GetDecode(self)\n"
     ]
    },
    {
     "name": "stderr",
     "output_type": "stream",
     "text": [
      "FactorBP/FactorGraph.py:399: DeprecationWarning: PyArray_FromDims: use PyArray_SimpleNew.\n  def GetDecode(self): return _FactorGraph.CFactorGraph_GetDecode(self)\nFactorBP/FactorGraph.py:399: DeprecationWarning: PyArray_FromDimsAndDataAndDescr: use PyArray_NewFromDescr.\n  def GetDecode(self): return _FactorGraph.CFactorGraph_GetDecode(self)\nFactorBP/FactorGraph.py:399: DeprecationWarning: PyArray_FromDims: use PyArray_SimpleNew.\n  def GetDecode(self): return _FactorGraph.CFactorGraph_GetDecode(self)\nFactorBP/FactorGraph.py:399: DeprecationWarning: PyArray_FromDimsAndDataAndDescr: use PyArray_NewFromDescr.\n  def GetDecode(self): return _FactorGraph.CFactorGraph_GetDecode(self)\n"
     ]
    },
    {
     "name": "stderr",
     "output_type": "stream",
     "text": [
      "FactorBP/FactorGraph.py:399: DeprecationWarning: PyArray_FromDims: use PyArray_SimpleNew.\n  def GetDecode(self): return _FactorGraph.CFactorGraph_GetDecode(self)\nFactorBP/FactorGraph.py:399: DeprecationWarning: PyArray_FromDimsAndDataAndDescr: use PyArray_NewFromDescr.\n  def GetDecode(self): return _FactorGraph.CFactorGraph_GetDecode(self)\nFactorBP/FactorGraph.py:399: DeprecationWarning: PyArray_FromDims: use PyArray_SimpleNew.\n  def GetDecode(self): return _FactorGraph.CFactorGraph_GetDecode(self)\nFactorBP/FactorGraph.py:399: DeprecationWarning: PyArray_FromDimsAndDataAndDescr: use PyArray_NewFromDescr.\n  def GetDecode(self): return _FactorGraph.CFactorGraph_GetDecode(self)\n"
     ]
    },
    {
     "name": "stderr",
     "output_type": "stream",
     "text": [
      "FactorBP/FactorGraph.py:399: DeprecationWarning: PyArray_FromDims: use PyArray_SimpleNew.\n  def GetDecode(self): return _FactorGraph.CFactorGraph_GetDecode(self)\nFactorBP/FactorGraph.py:399: DeprecationWarning: PyArray_FromDimsAndDataAndDescr: use PyArray_NewFromDescr.\n  def GetDecode(self): return _FactorGraph.CFactorGraph_GetDecode(self)\nFactorBP/FactorGraph.py:399: DeprecationWarning: PyArray_FromDims: use PyArray_SimpleNew.\n  def GetDecode(self): return _FactorGraph.CFactorGraph_GetDecode(self)\nFactorBP/FactorGraph.py:399: DeprecationWarning: PyArray_FromDimsAndDataAndDescr: use PyArray_NewFromDescr.\n  def GetDecode(self): return _FactorGraph.CFactorGraph_GetDecode(self)\n"
     ]
    },
    {
     "name": "stderr",
     "output_type": "stream",
     "text": [
      "FactorBP/FactorGraph.py:399: DeprecationWarning: PyArray_FromDims: use PyArray_SimpleNew.\n  def GetDecode(self): return _FactorGraph.CFactorGraph_GetDecode(self)\nFactorBP/FactorGraph.py:399: DeprecationWarning: PyArray_FromDimsAndDataAndDescr: use PyArray_NewFromDescr.\n  def GetDecode(self): return _FactorGraph.CFactorGraph_GetDecode(self)\nFactorBP/FactorGraph.py:399: DeprecationWarning: PyArray_FromDims: use PyArray_SimpleNew.\n  def GetDecode(self): return _FactorGraph.CFactorGraph_GetDecode(self)\nFactorBP/FactorGraph.py:399: DeprecationWarning: PyArray_FromDimsAndDataAndDescr: use PyArray_NewFromDescr.\n  def GetDecode(self): return _FactorGraph.CFactorGraph_GetDecode(self)\n"
     ]
    },
    {
     "name": "stderr",
     "output_type": "stream",
     "text": [
      "FactorBP/FactorGraph.py:399: DeprecationWarning: PyArray_FromDims: use PyArray_SimpleNew.\n  def GetDecode(self): return _FactorGraph.CFactorGraph_GetDecode(self)\nFactorBP/FactorGraph.py:399: DeprecationWarning: PyArray_FromDimsAndDataAndDescr: use PyArray_NewFromDescr.\n  def GetDecode(self): return _FactorGraph.CFactorGraph_GetDecode(self)\nFactorBP/FactorGraph.py:399: DeprecationWarning: PyArray_FromDims: use PyArray_SimpleNew.\n  def GetDecode(self): return _FactorGraph.CFactorGraph_GetDecode(self)\nFactorBP/FactorGraph.py:399: DeprecationWarning: PyArray_FromDimsAndDataAndDescr: use PyArray_NewFromDescr.\n  def GetDecode(self): return _FactorGraph.CFactorGraph_GetDecode(self)\n"
     ]
    },
    {
     "name": "stderr",
     "output_type": "stream",
     "text": [
      "FactorBP/FactorGraph.py:399: DeprecationWarning: PyArray_FromDims: use PyArray_SimpleNew.\n  def GetDecode(self): return _FactorGraph.CFactorGraph_GetDecode(self)\nFactorBP/FactorGraph.py:399: DeprecationWarning: PyArray_FromDimsAndDataAndDescr: use PyArray_NewFromDescr.\n  def GetDecode(self): return _FactorGraph.CFactorGraph_GetDecode(self)\nFactorBP/FactorGraph.py:399: DeprecationWarning: PyArray_FromDims: use PyArray_SimpleNew.\n  def GetDecode(self): return _FactorGraph.CFactorGraph_GetDecode(self)\nFactorBP/FactorGraph.py:399: DeprecationWarning: PyArray_FromDimsAndDataAndDescr: use PyArray_NewFromDescr.\n  def GetDecode(self): return _FactorGraph.CFactorGraph_GetDecode(self)\n"
     ]
    },
    {
     "name": "stderr",
     "output_type": "stream",
     "text": [
      "FactorBP/FactorGraph.py:399: DeprecationWarning: PyArray_FromDims: use PyArray_SimpleNew.\n  def GetDecode(self): return _FactorGraph.CFactorGraph_GetDecode(self)\nFactorBP/FactorGraph.py:399: DeprecationWarning: PyArray_FromDimsAndDataAndDescr: use PyArray_NewFromDescr.\n  def GetDecode(self): return _FactorGraph.CFactorGraph_GetDecode(self)\nFactorBP/FactorGraph.py:399: DeprecationWarning: PyArray_FromDims: use PyArray_SimpleNew.\n  def GetDecode(self): return _FactorGraph.CFactorGraph_GetDecode(self)\nFactorBP/FactorGraph.py:399: DeprecationWarning: PyArray_FromDimsAndDataAndDescr: use PyArray_NewFromDescr.\n  def GetDecode(self): return _FactorGraph.CFactorGraph_GetDecode(self)\n"
     ]
    },
    {
     "name": "stderr",
     "output_type": "stream",
     "text": [
      "FactorBP/FactorGraph.py:399: DeprecationWarning: PyArray_FromDims: use PyArray_SimpleNew.\n  def GetDecode(self): return _FactorGraph.CFactorGraph_GetDecode(self)\nFactorBP/FactorGraph.py:399: DeprecationWarning: PyArray_FromDimsAndDataAndDescr: use PyArray_NewFromDescr.\n  def GetDecode(self): return _FactorGraph.CFactorGraph_GetDecode(self)\nFactorBP/FactorGraph.py:399: DeprecationWarning: PyArray_FromDims: use PyArray_SimpleNew.\n  def GetDecode(self): return _FactorGraph.CFactorGraph_GetDecode(self)\nFactorBP/FactorGraph.py:399: DeprecationWarning: PyArray_FromDimsAndDataAndDescr: use PyArray_NewFromDescr.\n  def GetDecode(self): return _FactorGraph.CFactorGraph_GetDecode(self)\n"
     ]
    },
    {
     "name": "stderr",
     "output_type": "stream",
     "text": [
      "FactorBP/FactorGraph.py:399: DeprecationWarning: PyArray_FromDims: use PyArray_SimpleNew.\n  def GetDecode(self): return _FactorGraph.CFactorGraph_GetDecode(self)\nFactorBP/FactorGraph.py:399: DeprecationWarning: PyArray_FromDimsAndDataAndDescr: use PyArray_NewFromDescr.\n  def GetDecode(self): return _FactorGraph.CFactorGraph_GetDecode(self)\nFactorBP/FactorGraph.py:399: DeprecationWarning: PyArray_FromDims: use PyArray_SimpleNew.\n  def GetDecode(self): return _FactorGraph.CFactorGraph_GetDecode(self)\nFactorBP/FactorGraph.py:399: DeprecationWarning: PyArray_FromDimsAndDataAndDescr: use PyArray_NewFromDescr.\n  def GetDecode(self): return _FactorGraph.CFactorGraph_GetDecode(self)\n"
     ]
    },
    {
     "name": "stderr",
     "output_type": "stream",
     "text": [
      "FactorBP/FactorGraph.py:399: DeprecationWarning: PyArray_FromDims: use PyArray_SimpleNew.\n  def GetDecode(self): return _FactorGraph.CFactorGraph_GetDecode(self)\nFactorBP/FactorGraph.py:399: DeprecationWarning: PyArray_FromDimsAndDataAndDescr: use PyArray_NewFromDescr.\n  def GetDecode(self): return _FactorGraph.CFactorGraph_GetDecode(self)\nFactorBP/FactorGraph.py:399: DeprecationWarning: PyArray_FromDims: use PyArray_SimpleNew.\n  def GetDecode(self): return _FactorGraph.CFactorGraph_GetDecode(self)\nFactorBP/FactorGraph.py:399: DeprecationWarning: PyArray_FromDimsAndDataAndDescr: use PyArray_NewFromDescr.\n  def GetDecode(self): return _FactorGraph.CFactorGraph_GetDecode(self)\n"
     ]
    },
    {
     "name": "stderr",
     "output_type": "stream",
     "text": [
      "FactorBP/FactorGraph.py:399: DeprecationWarning: PyArray_FromDims: use PyArray_SimpleNew.\n  def GetDecode(self): return _FactorGraph.CFactorGraph_GetDecode(self)\nFactorBP/FactorGraph.py:399: DeprecationWarning: PyArray_FromDimsAndDataAndDescr: use PyArray_NewFromDescr.\n  def GetDecode(self): return _FactorGraph.CFactorGraph_GetDecode(self)\nFactorBP/FactorGraph.py:399: DeprecationWarning: PyArray_FromDims: use PyArray_SimpleNew.\n  def GetDecode(self): return _FactorGraph.CFactorGraph_GetDecode(self)\nFactorBP/FactorGraph.py:399: DeprecationWarning: PyArray_FromDimsAndDataAndDescr: use PyArray_NewFromDescr.\n  def GetDecode(self): return _FactorGraph.CFactorGraph_GetDecode(self)\n"
     ]
    },
    {
     "name": "stderr",
     "output_type": "stream",
     "text": [
      "FactorBP/FactorGraph.py:399: DeprecationWarning: PyArray_FromDims: use PyArray_SimpleNew.\n  def GetDecode(self): return _FactorGraph.CFactorGraph_GetDecode(self)\nFactorBP/FactorGraph.py:399: DeprecationWarning: PyArray_FromDimsAndDataAndDescr: use PyArray_NewFromDescr.\n  def GetDecode(self): return _FactorGraph.CFactorGraph_GetDecode(self)\nFactorBP/FactorGraph.py:399: DeprecationWarning: PyArray_FromDims: use PyArray_SimpleNew.\n  def GetDecode(self): return _FactorGraph.CFactorGraph_GetDecode(self)\nFactorBP/FactorGraph.py:399: DeprecationWarning: PyArray_FromDimsAndDataAndDescr: use PyArray_NewFromDescr.\n  def GetDecode(self): return _FactorGraph.CFactorGraph_GetDecode(self)\n"
     ]
    },
    {
     "name": "stderr",
     "output_type": "stream",
     "text": [
      "FactorBP/FactorGraph.py:399: DeprecationWarning: PyArray_FromDims: use PyArray_SimpleNew.\n  def GetDecode(self): return _FactorGraph.CFactorGraph_GetDecode(self)\nFactorBP/FactorGraph.py:399: DeprecationWarning: PyArray_FromDimsAndDataAndDescr: use PyArray_NewFromDescr.\n  def GetDecode(self): return _FactorGraph.CFactorGraph_GetDecode(self)\nFactorBP/FactorGraph.py:399: DeprecationWarning: PyArray_FromDims: use PyArray_SimpleNew.\n  def GetDecode(self): return _FactorGraph.CFactorGraph_GetDecode(self)\nFactorBP/FactorGraph.py:399: DeprecationWarning: PyArray_FromDimsAndDataAndDescr: use PyArray_NewFromDescr.\n  def GetDecode(self): return _FactorGraph.CFactorGraph_GetDecode(self)\n"
     ]
    },
    {
     "name": "stderr",
     "output_type": "stream",
     "text": [
      "FactorBP/FactorGraph.py:399: DeprecationWarning: PyArray_FromDims: use PyArray_SimpleNew.\n  def GetDecode(self): return _FactorGraph.CFactorGraph_GetDecode(self)\nFactorBP/FactorGraph.py:399: DeprecationWarning: PyArray_FromDimsAndDataAndDescr: use PyArray_NewFromDescr.\n  def GetDecode(self): return _FactorGraph.CFactorGraph_GetDecode(self)\nFactorBP/FactorGraph.py:399: DeprecationWarning: PyArray_FromDims: use PyArray_SimpleNew.\n  def GetDecode(self): return _FactorGraph.CFactorGraph_GetDecode(self)\nFactorBP/FactorGraph.py:399: DeprecationWarning: PyArray_FromDimsAndDataAndDescr: use PyArray_NewFromDescr.\n  def GetDecode(self): return _FactorGraph.CFactorGraph_GetDecode(self)\n"
     ]
    },
    {
     "name": "stderr",
     "output_type": "stream",
     "text": [
      "FactorBP/FactorGraph.py:399: DeprecationWarning: PyArray_FromDims: use PyArray_SimpleNew.\n  def GetDecode(self): return _FactorGraph.CFactorGraph_GetDecode(self)\nFactorBP/FactorGraph.py:399: DeprecationWarning: PyArray_FromDimsAndDataAndDescr: use PyArray_NewFromDescr.\n  def GetDecode(self): return _FactorGraph.CFactorGraph_GetDecode(self)\nFactorBP/FactorGraph.py:399: DeprecationWarning: PyArray_FromDims: use PyArray_SimpleNew.\n  def GetDecode(self): return _FactorGraph.CFactorGraph_GetDecode(self)\nFactorBP/FactorGraph.py:399: DeprecationWarning: PyArray_FromDimsAndDataAndDescr: use PyArray_NewFromDescr.\n  def GetDecode(self): return _FactorGraph.CFactorGraph_GetDecode(self)\n"
     ]
    },
    {
     "name": "stderr",
     "output_type": "stream",
     "text": [
      "FactorBP/FactorGraph.py:399: DeprecationWarning: PyArray_FromDims: use PyArray_SimpleNew.\n  def GetDecode(self): return _FactorGraph.CFactorGraph_GetDecode(self)\nFactorBP/FactorGraph.py:399: DeprecationWarning: PyArray_FromDimsAndDataAndDescr: use PyArray_NewFromDescr.\n  def GetDecode(self): return _FactorGraph.CFactorGraph_GetDecode(self)\nFactorBP/FactorGraph.py:399: DeprecationWarning: PyArray_FromDims: use PyArray_SimpleNew.\n  def GetDecode(self): return _FactorGraph.CFactorGraph_GetDecode(self)\nFactorBP/FactorGraph.py:399: DeprecationWarning: PyArray_FromDimsAndDataAndDescr: use PyArray_NewFromDescr.\n  def GetDecode(self): return _FactorGraph.CFactorGraph_GetDecode(self)\n"
     ]
    },
    {
     "name": "stderr",
     "output_type": "stream",
     "text": [
      "FactorBP/FactorGraph.py:399: DeprecationWarning: PyArray_FromDims: use PyArray_SimpleNew.\n  def GetDecode(self): return _FactorGraph.CFactorGraph_GetDecode(self)\nFactorBP/FactorGraph.py:399: DeprecationWarning: PyArray_FromDimsAndDataAndDescr: use PyArray_NewFromDescr.\n  def GetDecode(self): return _FactorGraph.CFactorGraph_GetDecode(self)\nFactorBP/FactorGraph.py:399: DeprecationWarning: PyArray_FromDims: use PyArray_SimpleNew.\n  def GetDecode(self): return _FactorGraph.CFactorGraph_GetDecode(self)\nFactorBP/FactorGraph.py:399: DeprecationWarning: PyArray_FromDimsAndDataAndDescr: use PyArray_NewFromDescr.\n  def GetDecode(self): return _FactorGraph.CFactorGraph_GetDecode(self)\n"
     ]
    },
    {
     "name": "stderr",
     "output_type": "stream",
     "text": [
      "FactorBP/FactorGraph.py:399: DeprecationWarning: PyArray_FromDims: use PyArray_SimpleNew.\n  def GetDecode(self): return _FactorGraph.CFactorGraph_GetDecode(self)\nFactorBP/FactorGraph.py:399: DeprecationWarning: PyArray_FromDimsAndDataAndDescr: use PyArray_NewFromDescr.\n  def GetDecode(self): return _FactorGraph.CFactorGraph_GetDecode(self)\nFactorBP/FactorGraph.py:399: DeprecationWarning: PyArray_FromDims: use PyArray_SimpleNew.\n  def GetDecode(self): return _FactorGraph.CFactorGraph_GetDecode(self)\nFactorBP/FactorGraph.py:399: DeprecationWarning: PyArray_FromDimsAndDataAndDescr: use PyArray_NewFromDescr.\n  def GetDecode(self): return _FactorGraph.CFactorGraph_GetDecode(self)\n"
     ]
    },
    {
     "name": "stderr",
     "output_type": "stream",
     "text": [
      "FactorBP/FactorGraph.py:399: DeprecationWarning: PyArray_FromDims: use PyArray_SimpleNew.\n  def GetDecode(self): return _FactorGraph.CFactorGraph_GetDecode(self)\nFactorBP/FactorGraph.py:399: DeprecationWarning: PyArray_FromDimsAndDataAndDescr: use PyArray_NewFromDescr.\n  def GetDecode(self): return _FactorGraph.CFactorGraph_GetDecode(self)\nFactorBP/FactorGraph.py:399: DeprecationWarning: PyArray_FromDims: use PyArray_SimpleNew.\n  def GetDecode(self): return _FactorGraph.CFactorGraph_GetDecode(self)\nFactorBP/FactorGraph.py:399: DeprecationWarning: PyArray_FromDimsAndDataAndDescr: use PyArray_NewFromDescr.\n  def GetDecode(self): return _FactorGraph.CFactorGraph_GetDecode(self)\n"
     ]
    },
    {
     "name": "stderr",
     "output_type": "stream",
     "text": [
      "FactorBP/FactorGraph.py:399: DeprecationWarning: PyArray_FromDims: use PyArray_SimpleNew.\n  def GetDecode(self): return _FactorGraph.CFactorGraph_GetDecode(self)\nFactorBP/FactorGraph.py:399: DeprecationWarning: PyArray_FromDimsAndDataAndDescr: use PyArray_NewFromDescr.\n  def GetDecode(self): return _FactorGraph.CFactorGraph_GetDecode(self)\nFactorBP/FactorGraph.py:399: DeprecationWarning: PyArray_FromDims: use PyArray_SimpleNew.\n  def GetDecode(self): return _FactorGraph.CFactorGraph_GetDecode(self)\nFactorBP/FactorGraph.py:399: DeprecationWarning: PyArray_FromDimsAndDataAndDescr: use PyArray_NewFromDescr.\n  def GetDecode(self): return _FactorGraph.CFactorGraph_GetDecode(self)\n"
     ]
    },
    {
     "name": "stderr",
     "output_type": "stream",
     "text": [
      "FactorBP/FactorGraph.py:399: DeprecationWarning: PyArray_FromDims: use PyArray_SimpleNew.\n  def GetDecode(self): return _FactorGraph.CFactorGraph_GetDecode(self)\nFactorBP/FactorGraph.py:399: DeprecationWarning: PyArray_FromDimsAndDataAndDescr: use PyArray_NewFromDescr.\n  def GetDecode(self): return _FactorGraph.CFactorGraph_GetDecode(self)\nFactorBP/FactorGraph.py:399: DeprecationWarning: PyArray_FromDims: use PyArray_SimpleNew.\n  def GetDecode(self): return _FactorGraph.CFactorGraph_GetDecode(self)\nFactorBP/FactorGraph.py:399: DeprecationWarning: PyArray_FromDimsAndDataAndDescr: use PyArray_NewFromDescr.\n  def GetDecode(self): return _FactorGraph.CFactorGraph_GetDecode(self)\n"
     ]
    },
    {
     "name": "stderr",
     "output_type": "stream",
     "text": [
      "FactorBP/FactorGraph.py:399: DeprecationWarning: PyArray_FromDims: use PyArray_SimpleNew.\n  def GetDecode(self): return _FactorGraph.CFactorGraph_GetDecode(self)\nFactorBP/FactorGraph.py:399: DeprecationWarning: PyArray_FromDimsAndDataAndDescr: use PyArray_NewFromDescr.\n  def GetDecode(self): return _FactorGraph.CFactorGraph_GetDecode(self)\nFactorBP/FactorGraph.py:399: DeprecationWarning: PyArray_FromDims: use PyArray_SimpleNew.\n  def GetDecode(self): return _FactorGraph.CFactorGraph_GetDecode(self)\nFactorBP/FactorGraph.py:399: DeprecationWarning: PyArray_FromDimsAndDataAndDescr: use PyArray_NewFromDescr.\n  def GetDecode(self): return _FactorGraph.CFactorGraph_GetDecode(self)\n"
     ]
    },
    {
     "name": "stderr",
     "output_type": "stream",
     "text": [
      "FactorBP/FactorGraph.py:399: DeprecationWarning: PyArray_FromDims: use PyArray_SimpleNew.\n  def GetDecode(self): return _FactorGraph.CFactorGraph_GetDecode(self)\nFactorBP/FactorGraph.py:399: DeprecationWarning: PyArray_FromDimsAndDataAndDescr: use PyArray_NewFromDescr.\n  def GetDecode(self): return _FactorGraph.CFactorGraph_GetDecode(self)\nFactorBP/FactorGraph.py:399: DeprecationWarning: PyArray_FromDims: use PyArray_SimpleNew.\n  def GetDecode(self): return _FactorGraph.CFactorGraph_GetDecode(self)\nFactorBP/FactorGraph.py:399: DeprecationWarning: PyArray_FromDimsAndDataAndDescr: use PyArray_NewFromDescr.\n  def GetDecode(self): return _FactorGraph.CFactorGraph_GetDecode(self)\n"
     ]
    },
    {
     "name": "stderr",
     "output_type": "stream",
     "text": [
      "FactorBP/FactorGraph.py:399: DeprecationWarning: PyArray_FromDims: use PyArray_SimpleNew.\n  def GetDecode(self): return _FactorGraph.CFactorGraph_GetDecode(self)\nFactorBP/FactorGraph.py:399: DeprecationWarning: PyArray_FromDimsAndDataAndDescr: use PyArray_NewFromDescr.\n  def GetDecode(self): return _FactorGraph.CFactorGraph_GetDecode(self)\nFactorBP/FactorGraph.py:399: DeprecationWarning: PyArray_FromDims: use PyArray_SimpleNew.\n  def GetDecode(self): return _FactorGraph.CFactorGraph_GetDecode(self)\nFactorBP/FactorGraph.py:399: DeprecationWarning: PyArray_FromDimsAndDataAndDescr: use PyArray_NewFromDescr.\n  def GetDecode(self): return _FactorGraph.CFactorGraph_GetDecode(self)\n"
     ]
    },
    {
     "name": "stderr",
     "output_type": "stream",
     "text": [
      "FactorBP/FactorGraph.py:399: DeprecationWarning: PyArray_FromDims: use PyArray_SimpleNew.\n  def GetDecode(self): return _FactorGraph.CFactorGraph_GetDecode(self)\nFactorBP/FactorGraph.py:399: DeprecationWarning: PyArray_FromDimsAndDataAndDescr: use PyArray_NewFromDescr.\n  def GetDecode(self): return _FactorGraph.CFactorGraph_GetDecode(self)\nFactorBP/FactorGraph.py:399: DeprecationWarning: PyArray_FromDims: use PyArray_SimpleNew.\n  def GetDecode(self): return _FactorGraph.CFactorGraph_GetDecode(self)\nFactorBP/FactorGraph.py:399: DeprecationWarning: PyArray_FromDimsAndDataAndDescr: use PyArray_NewFromDescr.\n  def GetDecode(self): return _FactorGraph.CFactorGraph_GetDecode(self)\n"
     ]
    },
    {
     "name": "stderr",
     "output_type": "stream",
     "text": [
      "FactorBP/FactorGraph.py:399: DeprecationWarning: PyArray_FromDims: use PyArray_SimpleNew.\n  def GetDecode(self): return _FactorGraph.CFactorGraph_GetDecode(self)\nFactorBP/FactorGraph.py:399: DeprecationWarning: PyArray_FromDimsAndDataAndDescr: use PyArray_NewFromDescr.\n  def GetDecode(self): return _FactorGraph.CFactorGraph_GetDecode(self)\nFactorBP/FactorGraph.py:399: DeprecationWarning: PyArray_FromDims: use PyArray_SimpleNew.\n  def GetDecode(self): return _FactorGraph.CFactorGraph_GetDecode(self)\nFactorBP/FactorGraph.py:399: DeprecationWarning: PyArray_FromDimsAndDataAndDescr: use PyArray_NewFromDescr.\n  def GetDecode(self): return _FactorGraph.CFactorGraph_GetDecode(self)\n"
     ]
    },
    {
     "name": "stderr",
     "output_type": "stream",
     "text": [
      "FactorBP/FactorGraph.py:399: DeprecationWarning: PyArray_FromDims: use PyArray_SimpleNew.\n  def GetDecode(self): return _FactorGraph.CFactorGraph_GetDecode(self)\nFactorBP/FactorGraph.py:399: DeprecationWarning: PyArray_FromDimsAndDataAndDescr: use PyArray_NewFromDescr.\n  def GetDecode(self): return _FactorGraph.CFactorGraph_GetDecode(self)\nFactorBP/FactorGraph.py:399: DeprecationWarning: PyArray_FromDims: use PyArray_SimpleNew.\n  def GetDecode(self): return _FactorGraph.CFactorGraph_GetDecode(self)\nFactorBP/FactorGraph.py:399: DeprecationWarning: PyArray_FromDimsAndDataAndDescr: use PyArray_NewFromDescr.\n  def GetDecode(self): return _FactorGraph.CFactorGraph_GetDecode(self)\n"
     ]
    },
    {
     "name": "stderr",
     "output_type": "stream",
     "text": [
      "FactorBP/FactorGraph.py:399: DeprecationWarning: PyArray_FromDims: use PyArray_SimpleNew.\n  def GetDecode(self): return _FactorGraph.CFactorGraph_GetDecode(self)\nFactorBP/FactorGraph.py:399: DeprecationWarning: PyArray_FromDimsAndDataAndDescr: use PyArray_NewFromDescr.\n  def GetDecode(self): return _FactorGraph.CFactorGraph_GetDecode(self)\nFactorBP/FactorGraph.py:399: DeprecationWarning: PyArray_FromDims: use PyArray_SimpleNew.\n  def GetDecode(self): return _FactorGraph.CFactorGraph_GetDecode(self)\nFactorBP/FactorGraph.py:399: DeprecationWarning: PyArray_FromDimsAndDataAndDescr: use PyArray_NewFromDescr.\n  def GetDecode(self): return _FactorGraph.CFactorGraph_GetDecode(self)\n"
     ]
    },
    {
     "name": "stderr",
     "output_type": "stream",
     "text": [
      "FactorBP/FactorGraph.py:399: DeprecationWarning: PyArray_FromDims: use PyArray_SimpleNew.\n  def GetDecode(self): return _FactorGraph.CFactorGraph_GetDecode(self)\nFactorBP/FactorGraph.py:399: DeprecationWarning: PyArray_FromDimsAndDataAndDescr: use PyArray_NewFromDescr.\n  def GetDecode(self): return _FactorGraph.CFactorGraph_GetDecode(self)\nFactorBP/FactorGraph.py:399: DeprecationWarning: PyArray_FromDims: use PyArray_SimpleNew.\n  def GetDecode(self): return _FactorGraph.CFactorGraph_GetDecode(self)\nFactorBP/FactorGraph.py:399: DeprecationWarning: PyArray_FromDimsAndDataAndDescr: use PyArray_NewFromDescr.\n  def GetDecode(self): return _FactorGraph.CFactorGraph_GetDecode(self)\n"
     ]
    },
    {
     "name": "stderr",
     "output_type": "stream",
     "text": [
      "FactorBP/FactorGraph.py:399: DeprecationWarning: PyArray_FromDims: use PyArray_SimpleNew.\n  def GetDecode(self): return _FactorGraph.CFactorGraph_GetDecode(self)\nFactorBP/FactorGraph.py:399: DeprecationWarning: PyArray_FromDimsAndDataAndDescr: use PyArray_NewFromDescr.\n  def GetDecode(self): return _FactorGraph.CFactorGraph_GetDecode(self)\nFactorBP/FactorGraph.py:399: DeprecationWarning: PyArray_FromDims: use PyArray_SimpleNew.\n  def GetDecode(self): return _FactorGraph.CFactorGraph_GetDecode(self)\nFactorBP/FactorGraph.py:399: DeprecationWarning: PyArray_FromDimsAndDataAndDescr: use PyArray_NewFromDescr.\n  def GetDecode(self): return _FactorGraph.CFactorGraph_GetDecode(self)\n"
     ]
    },
    {
     "name": "stderr",
     "output_type": "stream",
     "text": [
      "FactorBP/FactorGraph.py:399: DeprecationWarning: PyArray_FromDims: use PyArray_SimpleNew.\n  def GetDecode(self): return _FactorGraph.CFactorGraph_GetDecode(self)\nFactorBP/FactorGraph.py:399: DeprecationWarning: PyArray_FromDimsAndDataAndDescr: use PyArray_NewFromDescr.\n  def GetDecode(self): return _FactorGraph.CFactorGraph_GetDecode(self)\nFactorBP/FactorGraph.py:399: DeprecationWarning: PyArray_FromDims: use PyArray_SimpleNew.\n  def GetDecode(self): return _FactorGraph.CFactorGraph_GetDecode(self)\nFactorBP/FactorGraph.py:399: DeprecationWarning: PyArray_FromDimsAndDataAndDescr: use PyArray_NewFromDescr.\n  def GetDecode(self): return _FactorGraph.CFactorGraph_GetDecode(self)\n"
     ]
    },
    {
     "name": "stderr",
     "output_type": "stream",
     "text": [
      "FactorBP/FactorGraph.py:399: DeprecationWarning: PyArray_FromDims: use PyArray_SimpleNew.\n  def GetDecode(self): return _FactorGraph.CFactorGraph_GetDecode(self)\nFactorBP/FactorGraph.py:399: DeprecationWarning: PyArray_FromDimsAndDataAndDescr: use PyArray_NewFromDescr.\n  def GetDecode(self): return _FactorGraph.CFactorGraph_GetDecode(self)\nFactorBP/FactorGraph.py:399: DeprecationWarning: PyArray_FromDims: use PyArray_SimpleNew.\n  def GetDecode(self): return _FactorGraph.CFactorGraph_GetDecode(self)\nFactorBP/FactorGraph.py:399: DeprecationWarning: PyArray_FromDimsAndDataAndDescr: use PyArray_NewFromDescr.\n  def GetDecode(self): return _FactorGraph.CFactorGraph_GetDecode(self)\n"
     ]
    },
    {
     "name": "stderr",
     "output_type": "stream",
     "text": [
      "FactorBP/FactorGraph.py:399: DeprecationWarning: PyArray_FromDims: use PyArray_SimpleNew.\n  def GetDecode(self): return _FactorGraph.CFactorGraph_GetDecode(self)\nFactorBP/FactorGraph.py:399: DeprecationWarning: PyArray_FromDimsAndDataAndDescr: use PyArray_NewFromDescr.\n  def GetDecode(self): return _FactorGraph.CFactorGraph_GetDecode(self)\nFactorBP/FactorGraph.py:399: DeprecationWarning: PyArray_FromDims: use PyArray_SimpleNew.\n  def GetDecode(self): return _FactorGraph.CFactorGraph_GetDecode(self)\nFactorBP/FactorGraph.py:399: DeprecationWarning: PyArray_FromDimsAndDataAndDescr: use PyArray_NewFromDescr.\n  def GetDecode(self): return _FactorGraph.CFactorGraph_GetDecode(self)\n"
     ]
    },
    {
     "name": "stderr",
     "output_type": "stream",
     "text": [
      "FactorBP/FactorGraph.py:399: DeprecationWarning: PyArray_FromDims: use PyArray_SimpleNew.\n  def GetDecode(self): return _FactorGraph.CFactorGraph_GetDecode(self)\nFactorBP/FactorGraph.py:399: DeprecationWarning: PyArray_FromDimsAndDataAndDescr: use PyArray_NewFromDescr.\n  def GetDecode(self): return _FactorGraph.CFactorGraph_GetDecode(self)\nFactorBP/FactorGraph.py:399: DeprecationWarning: PyArray_FromDims: use PyArray_SimpleNew.\n  def GetDecode(self): return _FactorGraph.CFactorGraph_GetDecode(self)\nFactorBP/FactorGraph.py:399: DeprecationWarning: PyArray_FromDimsAndDataAndDescr: use PyArray_NewFromDescr.\n  def GetDecode(self): return _FactorGraph.CFactorGraph_GetDecode(self)\n"
     ]
    },
    {
     "name": "stderr",
     "output_type": "stream",
     "text": [
      "FactorBP/FactorGraph.py:399: DeprecationWarning: PyArray_FromDims: use PyArray_SimpleNew.\n  def GetDecode(self): return _FactorGraph.CFactorGraph_GetDecode(self)\nFactorBP/FactorGraph.py:399: DeprecationWarning: PyArray_FromDimsAndDataAndDescr: use PyArray_NewFromDescr.\n  def GetDecode(self): return _FactorGraph.CFactorGraph_GetDecode(self)\nFactorBP/FactorGraph.py:399: DeprecationWarning: PyArray_FromDims: use PyArray_SimpleNew.\n  def GetDecode(self): return _FactorGraph.CFactorGraph_GetDecode(self)\nFactorBP/FactorGraph.py:399: DeprecationWarning: PyArray_FromDimsAndDataAndDescr: use PyArray_NewFromDescr.\n  def GetDecode(self): return _FactorGraph.CFactorGraph_GetDecode(self)\n"
     ]
    },
    {
     "name": "stderr",
     "output_type": "stream",
     "text": [
      "FactorBP/FactorGraph.py:399: DeprecationWarning: PyArray_FromDims: use PyArray_SimpleNew.\n  def GetDecode(self): return _FactorGraph.CFactorGraph_GetDecode(self)\nFactorBP/FactorGraph.py:399: DeprecationWarning: PyArray_FromDimsAndDataAndDescr: use PyArray_NewFromDescr.\n  def GetDecode(self): return _FactorGraph.CFactorGraph_GetDecode(self)\nFactorBP/FactorGraph.py:399: DeprecationWarning: PyArray_FromDims: use PyArray_SimpleNew.\n  def GetDecode(self): return _FactorGraph.CFactorGraph_GetDecode(self)\nFactorBP/FactorGraph.py:399: DeprecationWarning: PyArray_FromDimsAndDataAndDescr: use PyArray_NewFromDescr.\n  def GetDecode(self): return _FactorGraph.CFactorGraph_GetDecode(self)\n"
     ]
    },
    {
     "name": "stderr",
     "output_type": "stream",
     "text": [
      "FactorBP/FactorGraph.py:399: DeprecationWarning: PyArray_FromDims: use PyArray_SimpleNew.\n  def GetDecode(self): return _FactorGraph.CFactorGraph_GetDecode(self)\nFactorBP/FactorGraph.py:399: DeprecationWarning: PyArray_FromDimsAndDataAndDescr: use PyArray_NewFromDescr.\n  def GetDecode(self): return _FactorGraph.CFactorGraph_GetDecode(self)\nFactorBP/FactorGraph.py:399: DeprecationWarning: PyArray_FromDims: use PyArray_SimpleNew.\n  def GetDecode(self): return _FactorGraph.CFactorGraph_GetDecode(self)\nFactorBP/FactorGraph.py:399: DeprecationWarning: PyArray_FromDimsAndDataAndDescr: use PyArray_NewFromDescr.\n  def GetDecode(self): return _FactorGraph.CFactorGraph_GetDecode(self)\n"
     ]
    },
    {
     "name": "stdout",
     "output_type": "stream",
     "text": [
      "Ours Accuracy 1.000000 Running Time 0.041609 Obj 1.000000\nOurs-PW Accuracy 1.000000 Running Time 0.029756 Obj 0.901365\nOurs-BCA Accuracy 1.000000 Running Time 0.074000 Obj 1.000000\nBCA Accuracy 0.999177 Running Time 0.022623 Obj 0.999378\nBCA-MP Accuracy 1.000000 Running Time 0.123162 Obj 1.000000\nBCA-IPFP Accuracy 1.000000 Running Time 0.094415 Obj 1.000000\nHGM Accuracy 0.671605 Running Time 0.004937 Obj 0.620446\nRRWHM Accuracy 1.000000 Running Time 0.059448 Obj 1.000000\nTM Accuracy 0.691770 Running Time 0.088787 Obj 0.716026\n××××××××××××××××××××\n Start baseline: 40\n"
     ]
    },
    {
     "name": "stderr",
     "output_type": "stream",
     "text": [
      "FactorBP/FactorGraph.py:399: DeprecationWarning: PyArray_FromDims: use PyArray_SimpleNew.\n  def GetDecode(self): return _FactorGraph.CFactorGraph_GetDecode(self)\nFactorBP/FactorGraph.py:399: DeprecationWarning: PyArray_FromDimsAndDataAndDescr: use PyArray_NewFromDescr.\n  def GetDecode(self): return _FactorGraph.CFactorGraph_GetDecode(self)\nFactorBP/FactorGraph.py:399: DeprecationWarning: PyArray_FromDims: use PyArray_SimpleNew.\n  def GetDecode(self): return _FactorGraph.CFactorGraph_GetDecode(self)\nFactorBP/FactorGraph.py:399: DeprecationWarning: PyArray_FromDimsAndDataAndDescr: use PyArray_NewFromDescr.\n  def GetDecode(self): return _FactorGraph.CFactorGraph_GetDecode(self)\n"
     ]
    },
    {
     "name": "stderr",
     "output_type": "stream",
     "text": [
      "FactorBP/FactorGraph.py:399: DeprecationWarning: PyArray_FromDims: use PyArray_SimpleNew.\n  def GetDecode(self): return _FactorGraph.CFactorGraph_GetDecode(self)\nFactorBP/FactorGraph.py:399: DeprecationWarning: PyArray_FromDimsAndDataAndDescr: use PyArray_NewFromDescr.\n  def GetDecode(self): return _FactorGraph.CFactorGraph_GetDecode(self)\nFactorBP/FactorGraph.py:399: DeprecationWarning: PyArray_FromDims: use PyArray_SimpleNew.\n  def GetDecode(self): return _FactorGraph.CFactorGraph_GetDecode(self)\nFactorBP/FactorGraph.py:399: DeprecationWarning: PyArray_FromDimsAndDataAndDescr: use PyArray_NewFromDescr.\n  def GetDecode(self): return _FactorGraph.CFactorGraph_GetDecode(self)\n"
     ]
    },
    {
     "name": "stderr",
     "output_type": "stream",
     "text": [
      "FactorBP/FactorGraph.py:399: DeprecationWarning: PyArray_FromDims: use PyArray_SimpleNew.\n  def GetDecode(self): return _FactorGraph.CFactorGraph_GetDecode(self)\nFactorBP/FactorGraph.py:399: DeprecationWarning: PyArray_FromDimsAndDataAndDescr: use PyArray_NewFromDescr.\n  def GetDecode(self): return _FactorGraph.CFactorGraph_GetDecode(self)\nFactorBP/FactorGraph.py:399: DeprecationWarning: PyArray_FromDims: use PyArray_SimpleNew.\n  def GetDecode(self): return _FactorGraph.CFactorGraph_GetDecode(self)\nFactorBP/FactorGraph.py:399: DeprecationWarning: PyArray_FromDimsAndDataAndDescr: use PyArray_NewFromDescr.\n  def GetDecode(self): return _FactorGraph.CFactorGraph_GetDecode(self)\n"
     ]
    },
    {
     "name": "stderr",
     "output_type": "stream",
     "text": [
      "FactorBP/FactorGraph.py:399: DeprecationWarning: PyArray_FromDims: use PyArray_SimpleNew.\n  def GetDecode(self): return _FactorGraph.CFactorGraph_GetDecode(self)\nFactorBP/FactorGraph.py:399: DeprecationWarning: PyArray_FromDimsAndDataAndDescr: use PyArray_NewFromDescr.\n  def GetDecode(self): return _FactorGraph.CFactorGraph_GetDecode(self)\nFactorBP/FactorGraph.py:399: DeprecationWarning: PyArray_FromDims: use PyArray_SimpleNew.\n  def GetDecode(self): return _FactorGraph.CFactorGraph_GetDecode(self)\nFactorBP/FactorGraph.py:399: DeprecationWarning: PyArray_FromDimsAndDataAndDescr: use PyArray_NewFromDescr.\n  def GetDecode(self): return _FactorGraph.CFactorGraph_GetDecode(self)\n"
     ]
    },
    {
     "name": "stderr",
     "output_type": "stream",
     "text": [
      "FactorBP/FactorGraph.py:399: DeprecationWarning: PyArray_FromDims: use PyArray_SimpleNew.\n  def GetDecode(self): return _FactorGraph.CFactorGraph_GetDecode(self)\nFactorBP/FactorGraph.py:399: DeprecationWarning: PyArray_FromDimsAndDataAndDescr: use PyArray_NewFromDescr.\n  def GetDecode(self): return _FactorGraph.CFactorGraph_GetDecode(self)\nFactorBP/FactorGraph.py:399: DeprecationWarning: PyArray_FromDims: use PyArray_SimpleNew.\n  def GetDecode(self): return _FactorGraph.CFactorGraph_GetDecode(self)\nFactorBP/FactorGraph.py:399: DeprecationWarning: PyArray_FromDimsAndDataAndDescr: use PyArray_NewFromDescr.\n  def GetDecode(self): return _FactorGraph.CFactorGraph_GetDecode(self)\n"
     ]
    },
    {
     "name": "stderr",
     "output_type": "stream",
     "text": [
      "FactorBP/FactorGraph.py:399: DeprecationWarning: PyArray_FromDims: use PyArray_SimpleNew.\n  def GetDecode(self): return _FactorGraph.CFactorGraph_GetDecode(self)\nFactorBP/FactorGraph.py:399: DeprecationWarning: PyArray_FromDimsAndDataAndDescr: use PyArray_NewFromDescr.\n  def GetDecode(self): return _FactorGraph.CFactorGraph_GetDecode(self)\nFactorBP/FactorGraph.py:399: DeprecationWarning: PyArray_FromDims: use PyArray_SimpleNew.\n  def GetDecode(self): return _FactorGraph.CFactorGraph_GetDecode(self)\nFactorBP/FactorGraph.py:399: DeprecationWarning: PyArray_FromDimsAndDataAndDescr: use PyArray_NewFromDescr.\n  def GetDecode(self): return _FactorGraph.CFactorGraph_GetDecode(self)\n"
     ]
    },
    {
     "name": "stderr",
     "output_type": "stream",
     "text": [
      "FactorBP/FactorGraph.py:399: DeprecationWarning: PyArray_FromDims: use PyArray_SimpleNew.\n  def GetDecode(self): return _FactorGraph.CFactorGraph_GetDecode(self)\nFactorBP/FactorGraph.py:399: DeprecationWarning: PyArray_FromDimsAndDataAndDescr: use PyArray_NewFromDescr.\n  def GetDecode(self): return _FactorGraph.CFactorGraph_GetDecode(self)\nFactorBP/FactorGraph.py:399: DeprecationWarning: PyArray_FromDims: use PyArray_SimpleNew.\n  def GetDecode(self): return _FactorGraph.CFactorGraph_GetDecode(self)\nFactorBP/FactorGraph.py:399: DeprecationWarning: PyArray_FromDimsAndDataAndDescr: use PyArray_NewFromDescr.\n  def GetDecode(self): return _FactorGraph.CFactorGraph_GetDecode(self)\n"
     ]
    },
    {
     "name": "stderr",
     "output_type": "stream",
     "text": [
      "FactorBP/FactorGraph.py:399: DeprecationWarning: PyArray_FromDims: use PyArray_SimpleNew.\n  def GetDecode(self): return _FactorGraph.CFactorGraph_GetDecode(self)\nFactorBP/FactorGraph.py:399: DeprecationWarning: PyArray_FromDimsAndDataAndDescr: use PyArray_NewFromDescr.\n  def GetDecode(self): return _FactorGraph.CFactorGraph_GetDecode(self)\nFactorBP/FactorGraph.py:399: DeprecationWarning: PyArray_FromDims: use PyArray_SimpleNew.\n  def GetDecode(self): return _FactorGraph.CFactorGraph_GetDecode(self)\nFactorBP/FactorGraph.py:399: DeprecationWarning: PyArray_FromDimsAndDataAndDescr: use PyArray_NewFromDescr.\n  def GetDecode(self): return _FactorGraph.CFactorGraph_GetDecode(self)\n"
     ]
    },
    {
     "name": "stderr",
     "output_type": "stream",
     "text": [
      "FactorBP/FactorGraph.py:399: DeprecationWarning: PyArray_FromDims: use PyArray_SimpleNew.\n  def GetDecode(self): return _FactorGraph.CFactorGraph_GetDecode(self)\nFactorBP/FactorGraph.py:399: DeprecationWarning: PyArray_FromDimsAndDataAndDescr: use PyArray_NewFromDescr.\n  def GetDecode(self): return _FactorGraph.CFactorGraph_GetDecode(self)\nFactorBP/FactorGraph.py:399: DeprecationWarning: PyArray_FromDims: use PyArray_SimpleNew.\n  def GetDecode(self): return _FactorGraph.CFactorGraph_GetDecode(self)\nFactorBP/FactorGraph.py:399: DeprecationWarning: PyArray_FromDimsAndDataAndDescr: use PyArray_NewFromDescr.\n  def GetDecode(self): return _FactorGraph.CFactorGraph_GetDecode(self)\n"
     ]
    },
    {
     "name": "stderr",
     "output_type": "stream",
     "text": [
      "FactorBP/FactorGraph.py:399: DeprecationWarning: PyArray_FromDims: use PyArray_SimpleNew.\n  def GetDecode(self): return _FactorGraph.CFactorGraph_GetDecode(self)\nFactorBP/FactorGraph.py:399: DeprecationWarning: PyArray_FromDimsAndDataAndDescr: use PyArray_NewFromDescr.\n  def GetDecode(self): return _FactorGraph.CFactorGraph_GetDecode(self)\nFactorBP/FactorGraph.py:399: DeprecationWarning: PyArray_FromDims: use PyArray_SimpleNew.\n  def GetDecode(self): return _FactorGraph.CFactorGraph_GetDecode(self)\nFactorBP/FactorGraph.py:399: DeprecationWarning: PyArray_FromDimsAndDataAndDescr: use PyArray_NewFromDescr.\n  def GetDecode(self): return _FactorGraph.CFactorGraph_GetDecode(self)\n"
     ]
    },
    {
     "name": "stderr",
     "output_type": "stream",
     "text": [
      "FactorBP/FactorGraph.py:399: DeprecationWarning: PyArray_FromDims: use PyArray_SimpleNew.\n  def GetDecode(self): return _FactorGraph.CFactorGraph_GetDecode(self)\nFactorBP/FactorGraph.py:399: DeprecationWarning: PyArray_FromDimsAndDataAndDescr: use PyArray_NewFromDescr.\n  def GetDecode(self): return _FactorGraph.CFactorGraph_GetDecode(self)\nFactorBP/FactorGraph.py:399: DeprecationWarning: PyArray_FromDims: use PyArray_SimpleNew.\n  def GetDecode(self): return _FactorGraph.CFactorGraph_GetDecode(self)\nFactorBP/FactorGraph.py:399: DeprecationWarning: PyArray_FromDimsAndDataAndDescr: use PyArray_NewFromDescr.\n  def GetDecode(self): return _FactorGraph.CFactorGraph_GetDecode(self)\nFactorBP/FactorGraph.py:399: DeprecationWarning: PyArray_FromDims: use PyArray_SimpleNew.\n  def GetDecode(self): return _FactorGraph.CFactorGraph_GetDecode(self)\nFactorBP/FactorGraph.py:399: DeprecationWarning: PyArray_FromDimsAndDataAndDescr: use PyArray_NewFromDescr.\n  def GetDecode(self): return _FactorGraph.CFactorGraph_GetDecode(self)\n"
     ]
    },
    {
     "name": "stderr",
     "output_type": "stream",
     "text": [
      "FactorBP/FactorGraph.py:399: DeprecationWarning: PyArray_FromDims: use PyArray_SimpleNew.\n  def GetDecode(self): return _FactorGraph.CFactorGraph_GetDecode(self)\nFactorBP/FactorGraph.py:399: DeprecationWarning: PyArray_FromDimsAndDataAndDescr: use PyArray_NewFromDescr.\n  def GetDecode(self): return _FactorGraph.CFactorGraph_GetDecode(self)\nFactorBP/FactorGraph.py:399: DeprecationWarning: PyArray_FromDims: use PyArray_SimpleNew.\n  def GetDecode(self): return _FactorGraph.CFactorGraph_GetDecode(self)\nFactorBP/FactorGraph.py:399: DeprecationWarning: PyArray_FromDimsAndDataAndDescr: use PyArray_NewFromDescr.\n  def GetDecode(self): return _FactorGraph.CFactorGraph_GetDecode(self)\n"
     ]
    },
    {
     "name": "stderr",
     "output_type": "stream",
     "text": [
      "FactorBP/FactorGraph.py:399: DeprecationWarning: PyArray_FromDims: use PyArray_SimpleNew.\n  def GetDecode(self): return _FactorGraph.CFactorGraph_GetDecode(self)\nFactorBP/FactorGraph.py:399: DeprecationWarning: PyArray_FromDimsAndDataAndDescr: use PyArray_NewFromDescr.\n  def GetDecode(self): return _FactorGraph.CFactorGraph_GetDecode(self)\nFactorBP/FactorGraph.py:399: DeprecationWarning: PyArray_FromDims: use PyArray_SimpleNew.\n  def GetDecode(self): return _FactorGraph.CFactorGraph_GetDecode(self)\nFactorBP/FactorGraph.py:399: DeprecationWarning: PyArray_FromDimsAndDataAndDescr: use PyArray_NewFromDescr.\n  def GetDecode(self): return _FactorGraph.CFactorGraph_GetDecode(self)\n"
     ]
    },
    {
     "name": "stderr",
     "output_type": "stream",
     "text": [
      "FactorBP/FactorGraph.py:399: DeprecationWarning: PyArray_FromDims: use PyArray_SimpleNew.\n  def GetDecode(self): return _FactorGraph.CFactorGraph_GetDecode(self)\nFactorBP/FactorGraph.py:399: DeprecationWarning: PyArray_FromDimsAndDataAndDescr: use PyArray_NewFromDescr.\n  def GetDecode(self): return _FactorGraph.CFactorGraph_GetDecode(self)\nFactorBP/FactorGraph.py:399: DeprecationWarning: PyArray_FromDims: use PyArray_SimpleNew.\n  def GetDecode(self): return _FactorGraph.CFactorGraph_GetDecode(self)\nFactorBP/FactorGraph.py:399: DeprecationWarning: PyArray_FromDimsAndDataAndDescr: use PyArray_NewFromDescr.\n  def GetDecode(self): return _FactorGraph.CFactorGraph_GetDecode(self)\n"
     ]
    },
    {
     "name": "stderr",
     "output_type": "stream",
     "text": [
      "FactorBP/FactorGraph.py:399: DeprecationWarning: PyArray_FromDims: use PyArray_SimpleNew.\n  def GetDecode(self): return _FactorGraph.CFactorGraph_GetDecode(self)\nFactorBP/FactorGraph.py:399: DeprecationWarning: PyArray_FromDimsAndDataAndDescr: use PyArray_NewFromDescr.\n  def GetDecode(self): return _FactorGraph.CFactorGraph_GetDecode(self)\nFactorBP/FactorGraph.py:399: DeprecationWarning: PyArray_FromDims: use PyArray_SimpleNew.\n  def GetDecode(self): return _FactorGraph.CFactorGraph_GetDecode(self)\nFactorBP/FactorGraph.py:399: DeprecationWarning: PyArray_FromDimsAndDataAndDescr: use PyArray_NewFromDescr.\n  def GetDecode(self): return _FactorGraph.CFactorGraph_GetDecode(self)\n"
     ]
    },
    {
     "name": "stderr",
     "output_type": "stream",
     "text": [
      "FactorBP/FactorGraph.py:399: DeprecationWarning: PyArray_FromDims: use PyArray_SimpleNew.\n  def GetDecode(self): return _FactorGraph.CFactorGraph_GetDecode(self)\nFactorBP/FactorGraph.py:399: DeprecationWarning: PyArray_FromDimsAndDataAndDescr: use PyArray_NewFromDescr.\n  def GetDecode(self): return _FactorGraph.CFactorGraph_GetDecode(self)\nFactorBP/FactorGraph.py:399: DeprecationWarning: PyArray_FromDims: use PyArray_SimpleNew.\n  def GetDecode(self): return _FactorGraph.CFactorGraph_GetDecode(self)\nFactorBP/FactorGraph.py:399: DeprecationWarning: PyArray_FromDimsAndDataAndDescr: use PyArray_NewFromDescr.\n  def GetDecode(self): return _FactorGraph.CFactorGraph_GetDecode(self)\n"
     ]
    },
    {
     "name": "stderr",
     "output_type": "stream",
     "text": [
      "FactorBP/FactorGraph.py:399: DeprecationWarning: PyArray_FromDims: use PyArray_SimpleNew.\n  def GetDecode(self): return _FactorGraph.CFactorGraph_GetDecode(self)\nFactorBP/FactorGraph.py:399: DeprecationWarning: PyArray_FromDimsAndDataAndDescr: use PyArray_NewFromDescr.\n  def GetDecode(self): return _FactorGraph.CFactorGraph_GetDecode(self)\nFactorBP/FactorGraph.py:399: DeprecationWarning: PyArray_FromDims: use PyArray_SimpleNew.\n  def GetDecode(self): return _FactorGraph.CFactorGraph_GetDecode(self)\nFactorBP/FactorGraph.py:399: DeprecationWarning: PyArray_FromDimsAndDataAndDescr: use PyArray_NewFromDescr.\n  def GetDecode(self): return _FactorGraph.CFactorGraph_GetDecode(self)\n"
     ]
    },
    {
     "name": "stderr",
     "output_type": "stream",
     "text": [
      "FactorBP/FactorGraph.py:399: DeprecationWarning: PyArray_FromDims: use PyArray_SimpleNew.\n  def GetDecode(self): return _FactorGraph.CFactorGraph_GetDecode(self)\nFactorBP/FactorGraph.py:399: DeprecationWarning: PyArray_FromDimsAndDataAndDescr: use PyArray_NewFromDescr.\n  def GetDecode(self): return _FactorGraph.CFactorGraph_GetDecode(self)\nFactorBP/FactorGraph.py:399: DeprecationWarning: PyArray_FromDims: use PyArray_SimpleNew.\n  def GetDecode(self): return _FactorGraph.CFactorGraph_GetDecode(self)\nFactorBP/FactorGraph.py:399: DeprecationWarning: PyArray_FromDimsAndDataAndDescr: use PyArray_NewFromDescr.\n  def GetDecode(self): return _FactorGraph.CFactorGraph_GetDecode(self)\n"
     ]
    },
    {
     "name": "stderr",
     "output_type": "stream",
     "text": [
      "FactorBP/FactorGraph.py:399: DeprecationWarning: PyArray_FromDims: use PyArray_SimpleNew.\n  def GetDecode(self): return _FactorGraph.CFactorGraph_GetDecode(self)\nFactorBP/FactorGraph.py:399: DeprecationWarning: PyArray_FromDimsAndDataAndDescr: use PyArray_NewFromDescr.\n  def GetDecode(self): return _FactorGraph.CFactorGraph_GetDecode(self)\nFactorBP/FactorGraph.py:399: DeprecationWarning: PyArray_FromDims: use PyArray_SimpleNew.\n  def GetDecode(self): return _FactorGraph.CFactorGraph_GetDecode(self)\nFactorBP/FactorGraph.py:399: DeprecationWarning: PyArray_FromDimsAndDataAndDescr: use PyArray_NewFromDescr.\n  def GetDecode(self): return _FactorGraph.CFactorGraph_GetDecode(self)\n"
     ]
    },
    {
     "name": "stderr",
     "output_type": "stream",
     "text": [
      "FactorBP/FactorGraph.py:399: DeprecationWarning: PyArray_FromDims: use PyArray_SimpleNew.\n  def GetDecode(self): return _FactorGraph.CFactorGraph_GetDecode(self)\nFactorBP/FactorGraph.py:399: DeprecationWarning: PyArray_FromDimsAndDataAndDescr: use PyArray_NewFromDescr.\n  def GetDecode(self): return _FactorGraph.CFactorGraph_GetDecode(self)\nFactorBP/FactorGraph.py:399: DeprecationWarning: PyArray_FromDims: use PyArray_SimpleNew.\n  def GetDecode(self): return _FactorGraph.CFactorGraph_GetDecode(self)\nFactorBP/FactorGraph.py:399: DeprecationWarning: PyArray_FromDimsAndDataAndDescr: use PyArray_NewFromDescr.\n  def GetDecode(self): return _FactorGraph.CFactorGraph_GetDecode(self)\n"
     ]
    },
    {
     "name": "stderr",
     "output_type": "stream",
     "text": [
      "FactorBP/FactorGraph.py:399: DeprecationWarning: PyArray_FromDims: use PyArray_SimpleNew.\n  def GetDecode(self): return _FactorGraph.CFactorGraph_GetDecode(self)\nFactorBP/FactorGraph.py:399: DeprecationWarning: PyArray_FromDimsAndDataAndDescr: use PyArray_NewFromDescr.\n  def GetDecode(self): return _FactorGraph.CFactorGraph_GetDecode(self)\nFactorBP/FactorGraph.py:399: DeprecationWarning: PyArray_FromDims: use PyArray_SimpleNew.\n  def GetDecode(self): return _FactorGraph.CFactorGraph_GetDecode(self)\nFactorBP/FactorGraph.py:399: DeprecationWarning: PyArray_FromDimsAndDataAndDescr: use PyArray_NewFromDescr.\n  def GetDecode(self): return _FactorGraph.CFactorGraph_GetDecode(self)\n"
     ]
    },
    {
     "name": "stderr",
     "output_type": "stream",
     "text": [
      "FactorBP/FactorGraph.py:399: DeprecationWarning: PyArray_FromDims: use PyArray_SimpleNew.\n  def GetDecode(self): return _FactorGraph.CFactorGraph_GetDecode(self)\nFactorBP/FactorGraph.py:399: DeprecationWarning: PyArray_FromDimsAndDataAndDescr: use PyArray_NewFromDescr.\n  def GetDecode(self): return _FactorGraph.CFactorGraph_GetDecode(self)\nFactorBP/FactorGraph.py:399: DeprecationWarning: PyArray_FromDims: use PyArray_SimpleNew.\n  def GetDecode(self): return _FactorGraph.CFactorGraph_GetDecode(self)\nFactorBP/FactorGraph.py:399: DeprecationWarning: PyArray_FromDimsAndDataAndDescr: use PyArray_NewFromDescr.\n  def GetDecode(self): return _FactorGraph.CFactorGraph_GetDecode(self)\n"
     ]
    },
    {
     "name": "stderr",
     "output_type": "stream",
     "text": [
      "FactorBP/FactorGraph.py:399: DeprecationWarning: PyArray_FromDims: use PyArray_SimpleNew.\n  def GetDecode(self): return _FactorGraph.CFactorGraph_GetDecode(self)\nFactorBP/FactorGraph.py:399: DeprecationWarning: PyArray_FromDimsAndDataAndDescr: use PyArray_NewFromDescr.\n  def GetDecode(self): return _FactorGraph.CFactorGraph_GetDecode(self)\nFactorBP/FactorGraph.py:399: DeprecationWarning: PyArray_FromDims: use PyArray_SimpleNew.\n  def GetDecode(self): return _FactorGraph.CFactorGraph_GetDecode(self)\nFactorBP/FactorGraph.py:399: DeprecationWarning: PyArray_FromDimsAndDataAndDescr: use PyArray_NewFromDescr.\n  def GetDecode(self): return _FactorGraph.CFactorGraph_GetDecode(self)\n"
     ]
    },
    {
     "name": "stderr",
     "output_type": "stream",
     "text": [
      "FactorBP/FactorGraph.py:399: DeprecationWarning: PyArray_FromDims: use PyArray_SimpleNew.\n  def GetDecode(self): return _FactorGraph.CFactorGraph_GetDecode(self)\nFactorBP/FactorGraph.py:399: DeprecationWarning: PyArray_FromDimsAndDataAndDescr: use PyArray_NewFromDescr.\n  def GetDecode(self): return _FactorGraph.CFactorGraph_GetDecode(self)\nFactorBP/FactorGraph.py:399: DeprecationWarning: PyArray_FromDims: use PyArray_SimpleNew.\n  def GetDecode(self): return _FactorGraph.CFactorGraph_GetDecode(self)\nFactorBP/FactorGraph.py:399: DeprecationWarning: PyArray_FromDimsAndDataAndDescr: use PyArray_NewFromDescr.\n  def GetDecode(self): return _FactorGraph.CFactorGraph_GetDecode(self)\n"
     ]
    },
    {
     "name": "stderr",
     "output_type": "stream",
     "text": [
      "FactorBP/FactorGraph.py:399: DeprecationWarning: PyArray_FromDims: use PyArray_SimpleNew.\n  def GetDecode(self): return _FactorGraph.CFactorGraph_GetDecode(self)\nFactorBP/FactorGraph.py:399: DeprecationWarning: PyArray_FromDimsAndDataAndDescr: use PyArray_NewFromDescr.\n  def GetDecode(self): return _FactorGraph.CFactorGraph_GetDecode(self)\nFactorBP/FactorGraph.py:399: DeprecationWarning: PyArray_FromDims: use PyArray_SimpleNew.\n  def GetDecode(self): return _FactorGraph.CFactorGraph_GetDecode(self)\nFactorBP/FactorGraph.py:399: DeprecationWarning: PyArray_FromDimsAndDataAndDescr: use PyArray_NewFromDescr.\n  def GetDecode(self): return _FactorGraph.CFactorGraph_GetDecode(self)\n"
     ]
    },
    {
     "name": "stderr",
     "output_type": "stream",
     "text": [
      "FactorBP/FactorGraph.py:399: DeprecationWarning: PyArray_FromDims: use PyArray_SimpleNew.\n  def GetDecode(self): return _FactorGraph.CFactorGraph_GetDecode(self)\nFactorBP/FactorGraph.py:399: DeprecationWarning: PyArray_FromDimsAndDataAndDescr: use PyArray_NewFromDescr.\n  def GetDecode(self): return _FactorGraph.CFactorGraph_GetDecode(self)\nFactorBP/FactorGraph.py:399: DeprecationWarning: PyArray_FromDims: use PyArray_SimpleNew.\n  def GetDecode(self): return _FactorGraph.CFactorGraph_GetDecode(self)\nFactorBP/FactorGraph.py:399: DeprecationWarning: PyArray_FromDimsAndDataAndDescr: use PyArray_NewFromDescr.\n  def GetDecode(self): return _FactorGraph.CFactorGraph_GetDecode(self)\n"
     ]
    },
    {
     "name": "stderr",
     "output_type": "stream",
     "text": [
      "FactorBP/FactorGraph.py:399: DeprecationWarning: PyArray_FromDims: use PyArray_SimpleNew.\n  def GetDecode(self): return _FactorGraph.CFactorGraph_GetDecode(self)\nFactorBP/FactorGraph.py:399: DeprecationWarning: PyArray_FromDimsAndDataAndDescr: use PyArray_NewFromDescr.\n  def GetDecode(self): return _FactorGraph.CFactorGraph_GetDecode(self)\nFactorBP/FactorGraph.py:399: DeprecationWarning: PyArray_FromDims: use PyArray_SimpleNew.\n  def GetDecode(self): return _FactorGraph.CFactorGraph_GetDecode(self)\nFactorBP/FactorGraph.py:399: DeprecationWarning: PyArray_FromDimsAndDataAndDescr: use PyArray_NewFromDescr.\n  def GetDecode(self): return _FactorGraph.CFactorGraph_GetDecode(self)\n"
     ]
    },
    {
     "name": "stderr",
     "output_type": "stream",
     "text": [
      "FactorBP/FactorGraph.py:399: DeprecationWarning: PyArray_FromDims: use PyArray_SimpleNew.\n  def GetDecode(self): return _FactorGraph.CFactorGraph_GetDecode(self)\nFactorBP/FactorGraph.py:399: DeprecationWarning: PyArray_FromDimsAndDataAndDescr: use PyArray_NewFromDescr.\n  def GetDecode(self): return _FactorGraph.CFactorGraph_GetDecode(self)\nFactorBP/FactorGraph.py:399: DeprecationWarning: PyArray_FromDims: use PyArray_SimpleNew.\n  def GetDecode(self): return _FactorGraph.CFactorGraph_GetDecode(self)\nFactorBP/FactorGraph.py:399: DeprecationWarning: PyArray_FromDimsAndDataAndDescr: use PyArray_NewFromDescr.\n  def GetDecode(self): return _FactorGraph.CFactorGraph_GetDecode(self)\n"
     ]
    },
    {
     "name": "stderr",
     "output_type": "stream",
     "text": [
      "FactorBP/FactorGraph.py:399: DeprecationWarning: PyArray_FromDims: use PyArray_SimpleNew.\n  def GetDecode(self): return _FactorGraph.CFactorGraph_GetDecode(self)\nFactorBP/FactorGraph.py:399: DeprecationWarning: PyArray_FromDimsAndDataAndDescr: use PyArray_NewFromDescr.\n  def GetDecode(self): return _FactorGraph.CFactorGraph_GetDecode(self)\nFactorBP/FactorGraph.py:399: DeprecationWarning: PyArray_FromDims: use PyArray_SimpleNew.\n  def GetDecode(self): return _FactorGraph.CFactorGraph_GetDecode(self)\nFactorBP/FactorGraph.py:399: DeprecationWarning: PyArray_FromDimsAndDataAndDescr: use PyArray_NewFromDescr.\n  def GetDecode(self): return _FactorGraph.CFactorGraph_GetDecode(self)\n"
     ]
    },
    {
     "name": "stderr",
     "output_type": "stream",
     "text": [
      "FactorBP/FactorGraph.py:399: DeprecationWarning: PyArray_FromDims: use PyArray_SimpleNew.\n  def GetDecode(self): return _FactorGraph.CFactorGraph_GetDecode(self)\nFactorBP/FactorGraph.py:399: DeprecationWarning: PyArray_FromDimsAndDataAndDescr: use PyArray_NewFromDescr.\n  def GetDecode(self): return _FactorGraph.CFactorGraph_GetDecode(self)\nFactorBP/FactorGraph.py:399: DeprecationWarning: PyArray_FromDims: use PyArray_SimpleNew.\n  def GetDecode(self): return _FactorGraph.CFactorGraph_GetDecode(self)\nFactorBP/FactorGraph.py:399: DeprecationWarning: PyArray_FromDimsAndDataAndDescr: use PyArray_NewFromDescr.\n  def GetDecode(self): return _FactorGraph.CFactorGraph_GetDecode(self)\n"
     ]
    },
    {
     "name": "stderr",
     "output_type": "stream",
     "text": [
      "FactorBP/FactorGraph.py:399: DeprecationWarning: PyArray_FromDims: use PyArray_SimpleNew.\n  def GetDecode(self): return _FactorGraph.CFactorGraph_GetDecode(self)\nFactorBP/FactorGraph.py:399: DeprecationWarning: PyArray_FromDimsAndDataAndDescr: use PyArray_NewFromDescr.\n  def GetDecode(self): return _FactorGraph.CFactorGraph_GetDecode(self)\nFactorBP/FactorGraph.py:399: DeprecationWarning: PyArray_FromDims: use PyArray_SimpleNew.\n  def GetDecode(self): return _FactorGraph.CFactorGraph_GetDecode(self)\nFactorBP/FactorGraph.py:399: DeprecationWarning: PyArray_FromDimsAndDataAndDescr: use PyArray_NewFromDescr.\n  def GetDecode(self): return _FactorGraph.CFactorGraph_GetDecode(self)\n"
     ]
    },
    {
     "name": "stderr",
     "output_type": "stream",
     "text": [
      "FactorBP/FactorGraph.py:399: DeprecationWarning: PyArray_FromDims: use PyArray_SimpleNew.\n  def GetDecode(self): return _FactorGraph.CFactorGraph_GetDecode(self)\nFactorBP/FactorGraph.py:399: DeprecationWarning: PyArray_FromDimsAndDataAndDescr: use PyArray_NewFromDescr.\n  def GetDecode(self): return _FactorGraph.CFactorGraph_GetDecode(self)\nFactorBP/FactorGraph.py:399: DeprecationWarning: PyArray_FromDims: use PyArray_SimpleNew.\n  def GetDecode(self): return _FactorGraph.CFactorGraph_GetDecode(self)\nFactorBP/FactorGraph.py:399: DeprecationWarning: PyArray_FromDimsAndDataAndDescr: use PyArray_NewFromDescr.\n  def GetDecode(self): return _FactorGraph.CFactorGraph_GetDecode(self)\n"
     ]
    },
    {
     "name": "stderr",
     "output_type": "stream",
     "text": [
      "FactorBP/FactorGraph.py:399: DeprecationWarning: PyArray_FromDims: use PyArray_SimpleNew.\n  def GetDecode(self): return _FactorGraph.CFactorGraph_GetDecode(self)\nFactorBP/FactorGraph.py:399: DeprecationWarning: PyArray_FromDimsAndDataAndDescr: use PyArray_NewFromDescr.\n  def GetDecode(self): return _FactorGraph.CFactorGraph_GetDecode(self)\nFactorBP/FactorGraph.py:399: DeprecationWarning: PyArray_FromDims: use PyArray_SimpleNew.\n  def GetDecode(self): return _FactorGraph.CFactorGraph_GetDecode(self)\nFactorBP/FactorGraph.py:399: DeprecationWarning: PyArray_FromDimsAndDataAndDescr: use PyArray_NewFromDescr.\n  def GetDecode(self): return _FactorGraph.CFactorGraph_GetDecode(self)\n"
     ]
    },
    {
     "name": "stderr",
     "output_type": "stream",
     "text": [
      "FactorBP/FactorGraph.py:399: DeprecationWarning: PyArray_FromDims: use PyArray_SimpleNew.\n  def GetDecode(self): return _FactorGraph.CFactorGraph_GetDecode(self)\nFactorBP/FactorGraph.py:399: DeprecationWarning: PyArray_FromDimsAndDataAndDescr: use PyArray_NewFromDescr.\n  def GetDecode(self): return _FactorGraph.CFactorGraph_GetDecode(self)\nFactorBP/FactorGraph.py:399: DeprecationWarning: PyArray_FromDims: use PyArray_SimpleNew.\n  def GetDecode(self): return _FactorGraph.CFactorGraph_GetDecode(self)\nFactorBP/FactorGraph.py:399: DeprecationWarning: PyArray_FromDimsAndDataAndDescr: use PyArray_NewFromDescr.\n  def GetDecode(self): return _FactorGraph.CFactorGraph_GetDecode(self)\n"
     ]
    },
    {
     "name": "stderr",
     "output_type": "stream",
     "text": [
      "FactorBP/FactorGraph.py:399: DeprecationWarning: PyArray_FromDims: use PyArray_SimpleNew.\n  def GetDecode(self): return _FactorGraph.CFactorGraph_GetDecode(self)\nFactorBP/FactorGraph.py:399: DeprecationWarning: PyArray_FromDimsAndDataAndDescr: use PyArray_NewFromDescr.\n  def GetDecode(self): return _FactorGraph.CFactorGraph_GetDecode(self)\nFactorBP/FactorGraph.py:399: DeprecationWarning: PyArray_FromDims: use PyArray_SimpleNew.\n  def GetDecode(self): return _FactorGraph.CFactorGraph_GetDecode(self)\nFactorBP/FactorGraph.py:399: DeprecationWarning: PyArray_FromDimsAndDataAndDescr: use PyArray_NewFromDescr.\n  def GetDecode(self): return _FactorGraph.CFactorGraph_GetDecode(self)\n"
     ]
    },
    {
     "name": "stderr",
     "output_type": "stream",
     "text": [
      "FactorBP/FactorGraph.py:399: DeprecationWarning: PyArray_FromDims: use PyArray_SimpleNew.\n  def GetDecode(self): return _FactorGraph.CFactorGraph_GetDecode(self)\nFactorBP/FactorGraph.py:399: DeprecationWarning: PyArray_FromDimsAndDataAndDescr: use PyArray_NewFromDescr.\n  def GetDecode(self): return _FactorGraph.CFactorGraph_GetDecode(self)\nFactorBP/FactorGraph.py:399: DeprecationWarning: PyArray_FromDims: use PyArray_SimpleNew.\n  def GetDecode(self): return _FactorGraph.CFactorGraph_GetDecode(self)\nFactorBP/FactorGraph.py:399: DeprecationWarning: PyArray_FromDimsAndDataAndDescr: use PyArray_NewFromDescr.\n  def GetDecode(self): return _FactorGraph.CFactorGraph_GetDecode(self)\n"
     ]
    },
    {
     "name": "stderr",
     "output_type": "stream",
     "text": [
      "FactorBP/FactorGraph.py:399: DeprecationWarning: PyArray_FromDims: use PyArray_SimpleNew.\n  def GetDecode(self): return _FactorGraph.CFactorGraph_GetDecode(self)\nFactorBP/FactorGraph.py:399: DeprecationWarning: PyArray_FromDimsAndDataAndDescr: use PyArray_NewFromDescr.\n  def GetDecode(self): return _FactorGraph.CFactorGraph_GetDecode(self)\nFactorBP/FactorGraph.py:399: DeprecationWarning: PyArray_FromDims: use PyArray_SimpleNew.\n  def GetDecode(self): return _FactorGraph.CFactorGraph_GetDecode(self)\nFactorBP/FactorGraph.py:399: DeprecationWarning: PyArray_FromDimsAndDataAndDescr: use PyArray_NewFromDescr.\n  def GetDecode(self): return _FactorGraph.CFactorGraph_GetDecode(self)\n"
     ]
    },
    {
     "name": "stderr",
     "output_type": "stream",
     "text": [
      "FactorBP/FactorGraph.py:399: DeprecationWarning: PyArray_FromDims: use PyArray_SimpleNew.\n  def GetDecode(self): return _FactorGraph.CFactorGraph_GetDecode(self)\nFactorBP/FactorGraph.py:399: DeprecationWarning: PyArray_FromDimsAndDataAndDescr: use PyArray_NewFromDescr.\n  def GetDecode(self): return _FactorGraph.CFactorGraph_GetDecode(self)\nFactorBP/FactorGraph.py:399: DeprecationWarning: PyArray_FromDims: use PyArray_SimpleNew.\n  def GetDecode(self): return _FactorGraph.CFactorGraph_GetDecode(self)\nFactorBP/FactorGraph.py:399: DeprecationWarning: PyArray_FromDimsAndDataAndDescr: use PyArray_NewFromDescr.\n  def GetDecode(self): return _FactorGraph.CFactorGraph_GetDecode(self)\n"
     ]
    },
    {
     "name": "stderr",
     "output_type": "stream",
     "text": [
      "FactorBP/FactorGraph.py:399: DeprecationWarning: PyArray_FromDims: use PyArray_SimpleNew.\n  def GetDecode(self): return _FactorGraph.CFactorGraph_GetDecode(self)\nFactorBP/FactorGraph.py:399: DeprecationWarning: PyArray_FromDimsAndDataAndDescr: use PyArray_NewFromDescr.\n  def GetDecode(self): return _FactorGraph.CFactorGraph_GetDecode(self)\nFactorBP/FactorGraph.py:399: DeprecationWarning: PyArray_FromDims: use PyArray_SimpleNew.\n  def GetDecode(self): return _FactorGraph.CFactorGraph_GetDecode(self)\nFactorBP/FactorGraph.py:399: DeprecationWarning: PyArray_FromDimsAndDataAndDescr: use PyArray_NewFromDescr.\n  def GetDecode(self): return _FactorGraph.CFactorGraph_GetDecode(self)\n"
     ]
    },
    {
     "name": "stderr",
     "output_type": "stream",
     "text": [
      "FactorBP/FactorGraph.py:399: DeprecationWarning: PyArray_FromDims: use PyArray_SimpleNew.\n  def GetDecode(self): return _FactorGraph.CFactorGraph_GetDecode(self)\nFactorBP/FactorGraph.py:399: DeprecationWarning: PyArray_FromDimsAndDataAndDescr: use PyArray_NewFromDescr.\n  def GetDecode(self): return _FactorGraph.CFactorGraph_GetDecode(self)\nFactorBP/FactorGraph.py:399: DeprecationWarning: PyArray_FromDims: use PyArray_SimpleNew.\n  def GetDecode(self): return _FactorGraph.CFactorGraph_GetDecode(self)\nFactorBP/FactorGraph.py:399: DeprecationWarning: PyArray_FromDimsAndDataAndDescr: use PyArray_NewFromDescr.\n  def GetDecode(self): return _FactorGraph.CFactorGraph_GetDecode(self)\n"
     ]
    },
    {
     "name": "stderr",
     "output_type": "stream",
     "text": [
      "FactorBP/FactorGraph.py:399: DeprecationWarning: PyArray_FromDims: use PyArray_SimpleNew.\n  def GetDecode(self): return _FactorGraph.CFactorGraph_GetDecode(self)\nFactorBP/FactorGraph.py:399: DeprecationWarning: PyArray_FromDimsAndDataAndDescr: use PyArray_NewFromDescr.\n  def GetDecode(self): return _FactorGraph.CFactorGraph_GetDecode(self)\nFactorBP/FactorGraph.py:399: DeprecationWarning: PyArray_FromDims: use PyArray_SimpleNew.\n  def GetDecode(self): return _FactorGraph.CFactorGraph_GetDecode(self)\nFactorBP/FactorGraph.py:399: DeprecationWarning: PyArray_FromDimsAndDataAndDescr: use PyArray_NewFromDescr.\n  def GetDecode(self): return _FactorGraph.CFactorGraph_GetDecode(self)\n"
     ]
    },
    {
     "name": "stderr",
     "output_type": "stream",
     "text": [
      "FactorBP/FactorGraph.py:399: DeprecationWarning: PyArray_FromDims: use PyArray_SimpleNew.\n  def GetDecode(self): return _FactorGraph.CFactorGraph_GetDecode(self)\nFactorBP/FactorGraph.py:399: DeprecationWarning: PyArray_FromDimsAndDataAndDescr: use PyArray_NewFromDescr.\n  def GetDecode(self): return _FactorGraph.CFactorGraph_GetDecode(self)\nFactorBP/FactorGraph.py:399: DeprecationWarning: PyArray_FromDims: use PyArray_SimpleNew.\n  def GetDecode(self): return _FactorGraph.CFactorGraph_GetDecode(self)\nFactorBP/FactorGraph.py:399: DeprecationWarning: PyArray_FromDimsAndDataAndDescr: use PyArray_NewFromDescr.\n  def GetDecode(self): return _FactorGraph.CFactorGraph_GetDecode(self)\n"
     ]
    },
    {
     "name": "stderr",
     "output_type": "stream",
     "text": [
      "FactorBP/FactorGraph.py:399: DeprecationWarning: PyArray_FromDims: use PyArray_SimpleNew.\n  def GetDecode(self): return _FactorGraph.CFactorGraph_GetDecode(self)\nFactorBP/FactorGraph.py:399: DeprecationWarning: PyArray_FromDimsAndDataAndDescr: use PyArray_NewFromDescr.\n  def GetDecode(self): return _FactorGraph.CFactorGraph_GetDecode(self)\nFactorBP/FactorGraph.py:399: DeprecationWarning: PyArray_FromDims: use PyArray_SimpleNew.\n  def GetDecode(self): return _FactorGraph.CFactorGraph_GetDecode(self)\nFactorBP/FactorGraph.py:399: DeprecationWarning: PyArray_FromDimsAndDataAndDescr: use PyArray_NewFromDescr.\n  def GetDecode(self): return _FactorGraph.CFactorGraph_GetDecode(self)\n"
     ]
    },
    {
     "name": "stderr",
     "output_type": "stream",
     "text": [
      "FactorBP/FactorGraph.py:399: DeprecationWarning: PyArray_FromDims: use PyArray_SimpleNew.\n  def GetDecode(self): return _FactorGraph.CFactorGraph_GetDecode(self)\nFactorBP/FactorGraph.py:399: DeprecationWarning: PyArray_FromDimsAndDataAndDescr: use PyArray_NewFromDescr.\n  def GetDecode(self): return _FactorGraph.CFactorGraph_GetDecode(self)\nFactorBP/FactorGraph.py:399: DeprecationWarning: PyArray_FromDims: use PyArray_SimpleNew.\n  def GetDecode(self): return _FactorGraph.CFactorGraph_GetDecode(self)\nFactorBP/FactorGraph.py:399: DeprecationWarning: PyArray_FromDimsAndDataAndDescr: use PyArray_NewFromDescr.\n  def GetDecode(self): return _FactorGraph.CFactorGraph_GetDecode(self)\n"
     ]
    },
    {
     "name": "stderr",
     "output_type": "stream",
     "text": [
      "FactorBP/FactorGraph.py:399: DeprecationWarning: PyArray_FromDims: use PyArray_SimpleNew.\n  def GetDecode(self): return _FactorGraph.CFactorGraph_GetDecode(self)\nFactorBP/FactorGraph.py:399: DeprecationWarning: PyArray_FromDimsAndDataAndDescr: use PyArray_NewFromDescr.\n  def GetDecode(self): return _FactorGraph.CFactorGraph_GetDecode(self)\nFactorBP/FactorGraph.py:399: DeprecationWarning: PyArray_FromDims: use PyArray_SimpleNew.\n  def GetDecode(self): return _FactorGraph.CFactorGraph_GetDecode(self)\nFactorBP/FactorGraph.py:399: DeprecationWarning: PyArray_FromDimsAndDataAndDescr: use PyArray_NewFromDescr.\n  def GetDecode(self): return _FactorGraph.CFactorGraph_GetDecode(self)\n"
     ]
    },
    {
     "name": "stderr",
     "output_type": "stream",
     "text": [
      "FactorBP/FactorGraph.py:399: DeprecationWarning: PyArray_FromDims: use PyArray_SimpleNew.\n  def GetDecode(self): return _FactorGraph.CFactorGraph_GetDecode(self)\nFactorBP/FactorGraph.py:399: DeprecationWarning: PyArray_FromDimsAndDataAndDescr: use PyArray_NewFromDescr.\n  def GetDecode(self): return _FactorGraph.CFactorGraph_GetDecode(self)\nFactorBP/FactorGraph.py:399: DeprecationWarning: PyArray_FromDims: use PyArray_SimpleNew.\n  def GetDecode(self): return _FactorGraph.CFactorGraph_GetDecode(self)\nFactorBP/FactorGraph.py:399: DeprecationWarning: PyArray_FromDimsAndDataAndDescr: use PyArray_NewFromDescr.\n  def GetDecode(self): return _FactorGraph.CFactorGraph_GetDecode(self)\n"
     ]
    },
    {
     "name": "stderr",
     "output_type": "stream",
     "text": [
      "FactorBP/FactorGraph.py:399: DeprecationWarning: PyArray_FromDims: use PyArray_SimpleNew.\n  def GetDecode(self): return _FactorGraph.CFactorGraph_GetDecode(self)\nFactorBP/FactorGraph.py:399: DeprecationWarning: PyArray_FromDimsAndDataAndDescr: use PyArray_NewFromDescr.\n  def GetDecode(self): return _FactorGraph.CFactorGraph_GetDecode(self)\nFactorBP/FactorGraph.py:399: DeprecationWarning: PyArray_FromDims: use PyArray_SimpleNew.\n  def GetDecode(self): return _FactorGraph.CFactorGraph_GetDecode(self)\nFactorBP/FactorGraph.py:399: DeprecationWarning: PyArray_FromDimsAndDataAndDescr: use PyArray_NewFromDescr.\n  def GetDecode(self): return _FactorGraph.CFactorGraph_GetDecode(self)\n"
     ]
    },
    {
     "name": "stderr",
     "output_type": "stream",
     "text": [
      "FactorBP/FactorGraph.py:399: DeprecationWarning: PyArray_FromDims: use PyArray_SimpleNew.\n  def GetDecode(self): return _FactorGraph.CFactorGraph_GetDecode(self)\nFactorBP/FactorGraph.py:399: DeprecationWarning: PyArray_FromDimsAndDataAndDescr: use PyArray_NewFromDescr.\n  def GetDecode(self): return _FactorGraph.CFactorGraph_GetDecode(self)\nFactorBP/FactorGraph.py:399: DeprecationWarning: PyArray_FromDims: use PyArray_SimpleNew.\n  def GetDecode(self): return _FactorGraph.CFactorGraph_GetDecode(self)\nFactorBP/FactorGraph.py:399: DeprecationWarning: PyArray_FromDimsAndDataAndDescr: use PyArray_NewFromDescr.\n  def GetDecode(self): return _FactorGraph.CFactorGraph_GetDecode(self)\n"
     ]
    },
    {
     "name": "stderr",
     "output_type": "stream",
     "text": [
      "FactorBP/FactorGraph.py:399: DeprecationWarning: PyArray_FromDims: use PyArray_SimpleNew.\n  def GetDecode(self): return _FactorGraph.CFactorGraph_GetDecode(self)\nFactorBP/FactorGraph.py:399: DeprecationWarning: PyArray_FromDimsAndDataAndDescr: use PyArray_NewFromDescr.\n  def GetDecode(self): return _FactorGraph.CFactorGraph_GetDecode(self)\nFactorBP/FactorGraph.py:399: DeprecationWarning: PyArray_FromDims: use PyArray_SimpleNew.\n  def GetDecode(self): return _FactorGraph.CFactorGraph_GetDecode(self)\nFactorBP/FactorGraph.py:399: DeprecationWarning: PyArray_FromDimsAndDataAndDescr: use PyArray_NewFromDescr.\n  def GetDecode(self): return _FactorGraph.CFactorGraph_GetDecode(self)\n"
     ]
    },
    {
     "name": "stderr",
     "output_type": "stream",
     "text": [
      "FactorBP/FactorGraph.py:399: DeprecationWarning: PyArray_FromDims: use PyArray_SimpleNew.\n  def GetDecode(self): return _FactorGraph.CFactorGraph_GetDecode(self)\nFactorBP/FactorGraph.py:399: DeprecationWarning: PyArray_FromDimsAndDataAndDescr: use PyArray_NewFromDescr.\n  def GetDecode(self): return _FactorGraph.CFactorGraph_GetDecode(self)\nFactorBP/FactorGraph.py:399: DeprecationWarning: PyArray_FromDims: use PyArray_SimpleNew.\n  def GetDecode(self): return _FactorGraph.CFactorGraph_GetDecode(self)\nFactorBP/FactorGraph.py:399: DeprecationWarning: PyArray_FromDimsAndDataAndDescr: use PyArray_NewFromDescr.\n  def GetDecode(self): return _FactorGraph.CFactorGraph_GetDecode(self)\n"
     ]
    },
    {
     "name": "stderr",
     "output_type": "stream",
     "text": [
      "FactorBP/FactorGraph.py:399: DeprecationWarning: PyArray_FromDims: use PyArray_SimpleNew.\n  def GetDecode(self): return _FactorGraph.CFactorGraph_GetDecode(self)\nFactorBP/FactorGraph.py:399: DeprecationWarning: PyArray_FromDimsAndDataAndDescr: use PyArray_NewFromDescr.\n  def GetDecode(self): return _FactorGraph.CFactorGraph_GetDecode(self)\nFactorBP/FactorGraph.py:399: DeprecationWarning: PyArray_FromDims: use PyArray_SimpleNew.\n  def GetDecode(self): return _FactorGraph.CFactorGraph_GetDecode(self)\nFactorBP/FactorGraph.py:399: DeprecationWarning: PyArray_FromDimsAndDataAndDescr: use PyArray_NewFromDescr.\n  def GetDecode(self): return _FactorGraph.CFactorGraph_GetDecode(self)\n"
     ]
    },
    {
     "name": "stderr",
     "output_type": "stream",
     "text": [
      "FactorBP/FactorGraph.py:399: DeprecationWarning: PyArray_FromDims: use PyArray_SimpleNew.\n  def GetDecode(self): return _FactorGraph.CFactorGraph_GetDecode(self)\nFactorBP/FactorGraph.py:399: DeprecationWarning: PyArray_FromDimsAndDataAndDescr: use PyArray_NewFromDescr.\n  def GetDecode(self): return _FactorGraph.CFactorGraph_GetDecode(self)\nFactorBP/FactorGraph.py:399: DeprecationWarning: PyArray_FromDims: use PyArray_SimpleNew.\n  def GetDecode(self): return _FactorGraph.CFactorGraph_GetDecode(self)\nFactorBP/FactorGraph.py:399: DeprecationWarning: PyArray_FromDimsAndDataAndDescr: use PyArray_NewFromDescr.\n  def GetDecode(self): return _FactorGraph.CFactorGraph_GetDecode(self)\n"
     ]
    },
    {
     "name": "stderr",
     "output_type": "stream",
     "text": [
      "FactorBP/FactorGraph.py:399: DeprecationWarning: PyArray_FromDims: use PyArray_SimpleNew.\n  def GetDecode(self): return _FactorGraph.CFactorGraph_GetDecode(self)\nFactorBP/FactorGraph.py:399: DeprecationWarning: PyArray_FromDimsAndDataAndDescr: use PyArray_NewFromDescr.\n  def GetDecode(self): return _FactorGraph.CFactorGraph_GetDecode(self)\nFactorBP/FactorGraph.py:399: DeprecationWarning: PyArray_FromDims: use PyArray_SimpleNew.\n  def GetDecode(self): return _FactorGraph.CFactorGraph_GetDecode(self)\nFactorBP/FactorGraph.py:399: DeprecationWarning: PyArray_FromDimsAndDataAndDescr: use PyArray_NewFromDescr.\n  def GetDecode(self): return _FactorGraph.CFactorGraph_GetDecode(self)\n"
     ]
    },
    {
     "name": "stderr",
     "output_type": "stream",
     "text": [
      "FactorBP/FactorGraph.py:399: DeprecationWarning: PyArray_FromDims: use PyArray_SimpleNew.\n  def GetDecode(self): return _FactorGraph.CFactorGraph_GetDecode(self)\nFactorBP/FactorGraph.py:399: DeprecationWarning: PyArray_FromDimsAndDataAndDescr: use PyArray_NewFromDescr.\n  def GetDecode(self): return _FactorGraph.CFactorGraph_GetDecode(self)\nFactorBP/FactorGraph.py:399: DeprecationWarning: PyArray_FromDims: use PyArray_SimpleNew.\n  def GetDecode(self): return _FactorGraph.CFactorGraph_GetDecode(self)\nFactorBP/FactorGraph.py:399: DeprecationWarning: PyArray_FromDimsAndDataAndDescr: use PyArray_NewFromDescr.\n  def GetDecode(self): return _FactorGraph.CFactorGraph_GetDecode(self)\n"
     ]
    },
    {
     "name": "stderr",
     "output_type": "stream",
     "text": [
      "FactorBP/FactorGraph.py:399: DeprecationWarning: PyArray_FromDims: use PyArray_SimpleNew.\n  def GetDecode(self): return _FactorGraph.CFactorGraph_GetDecode(self)\nFactorBP/FactorGraph.py:399: DeprecationWarning: PyArray_FromDimsAndDataAndDescr: use PyArray_NewFromDescr.\n  def GetDecode(self): return _FactorGraph.CFactorGraph_GetDecode(self)\nFactorBP/FactorGraph.py:399: DeprecationWarning: PyArray_FromDims: use PyArray_SimpleNew.\n  def GetDecode(self): return _FactorGraph.CFactorGraph_GetDecode(self)\nFactorBP/FactorGraph.py:399: DeprecationWarning: PyArray_FromDimsAndDataAndDescr: use PyArray_NewFromDescr.\n  def GetDecode(self): return _FactorGraph.CFactorGraph_GetDecode(self)\n"
     ]
    },
    {
     "name": "stderr",
     "output_type": "stream",
     "text": [
      "FactorBP/FactorGraph.py:399: DeprecationWarning: PyArray_FromDims: use PyArray_SimpleNew.\n  def GetDecode(self): return _FactorGraph.CFactorGraph_GetDecode(self)\nFactorBP/FactorGraph.py:399: DeprecationWarning: PyArray_FromDimsAndDataAndDescr: use PyArray_NewFromDescr.\n  def GetDecode(self): return _FactorGraph.CFactorGraph_GetDecode(self)\nFactorBP/FactorGraph.py:399: DeprecationWarning: PyArray_FromDims: use PyArray_SimpleNew.\n  def GetDecode(self): return _FactorGraph.CFactorGraph_GetDecode(self)\nFactorBP/FactorGraph.py:399: DeprecationWarning: PyArray_FromDimsAndDataAndDescr: use PyArray_NewFromDescr.\n  def GetDecode(self): return _FactorGraph.CFactorGraph_GetDecode(self)\n"
     ]
    },
    {
     "name": "stderr",
     "output_type": "stream",
     "text": [
      "FactorBP/FactorGraph.py:399: DeprecationWarning: PyArray_FromDims: use PyArray_SimpleNew.\n  def GetDecode(self): return _FactorGraph.CFactorGraph_GetDecode(self)\nFactorBP/FactorGraph.py:399: DeprecationWarning: PyArray_FromDimsAndDataAndDescr: use PyArray_NewFromDescr.\n  def GetDecode(self): return _FactorGraph.CFactorGraph_GetDecode(self)\nFactorBP/FactorGraph.py:399: DeprecationWarning: PyArray_FromDims: use PyArray_SimpleNew.\n  def GetDecode(self): return _FactorGraph.CFactorGraph_GetDecode(self)\nFactorBP/FactorGraph.py:399: DeprecationWarning: PyArray_FromDimsAndDataAndDescr: use PyArray_NewFromDescr.\n  def GetDecode(self): return _FactorGraph.CFactorGraph_GetDecode(self)\n"
     ]
    },
    {
     "name": "stderr",
     "output_type": "stream",
     "text": [
      "FactorBP/FactorGraph.py:399: DeprecationWarning: PyArray_FromDims: use PyArray_SimpleNew.\n  def GetDecode(self): return _FactorGraph.CFactorGraph_GetDecode(self)\nFactorBP/FactorGraph.py:399: DeprecationWarning: PyArray_FromDimsAndDataAndDescr: use PyArray_NewFromDescr.\n  def GetDecode(self): return _FactorGraph.CFactorGraph_GetDecode(self)\nFactorBP/FactorGraph.py:399: DeprecationWarning: PyArray_FromDims: use PyArray_SimpleNew.\n  def GetDecode(self): return _FactorGraph.CFactorGraph_GetDecode(self)\nFactorBP/FactorGraph.py:399: DeprecationWarning: PyArray_FromDimsAndDataAndDescr: use PyArray_NewFromDescr.\n  def GetDecode(self): return _FactorGraph.CFactorGraph_GetDecode(self)\n"
     ]
    },
    {
     "name": "stderr",
     "output_type": "stream",
     "text": [
      "FactorBP/FactorGraph.py:399: DeprecationWarning: PyArray_FromDims: use PyArray_SimpleNew.\n  def GetDecode(self): return _FactorGraph.CFactorGraph_GetDecode(self)\nFactorBP/FactorGraph.py:399: DeprecationWarning: PyArray_FromDimsAndDataAndDescr: use PyArray_NewFromDescr.\n  def GetDecode(self): return _FactorGraph.CFactorGraph_GetDecode(self)\nFactorBP/FactorGraph.py:399: DeprecationWarning: PyArray_FromDims: use PyArray_SimpleNew.\n  def GetDecode(self): return _FactorGraph.CFactorGraph_GetDecode(self)\nFactorBP/FactorGraph.py:399: DeprecationWarning: PyArray_FromDimsAndDataAndDescr: use PyArray_NewFromDescr.\n  def GetDecode(self): return _FactorGraph.CFactorGraph_GetDecode(self)\n"
     ]
    },
    {
     "name": "stderr",
     "output_type": "stream",
     "text": [
      "FactorBP/FactorGraph.py:399: DeprecationWarning: PyArray_FromDims: use PyArray_SimpleNew.\n  def GetDecode(self): return _FactorGraph.CFactorGraph_GetDecode(self)\nFactorBP/FactorGraph.py:399: DeprecationWarning: PyArray_FromDimsAndDataAndDescr: use PyArray_NewFromDescr.\n  def GetDecode(self): return _FactorGraph.CFactorGraph_GetDecode(self)\nFactorBP/FactorGraph.py:399: DeprecationWarning: PyArray_FromDims: use PyArray_SimpleNew.\n  def GetDecode(self): return _FactorGraph.CFactorGraph_GetDecode(self)\nFactorBP/FactorGraph.py:399: DeprecationWarning: PyArray_FromDimsAndDataAndDescr: use PyArray_NewFromDescr.\n  def GetDecode(self): return _FactorGraph.CFactorGraph_GetDecode(self)\n"
     ]
    },
    {
     "name": "stderr",
     "output_type": "stream",
     "text": [
      "FactorBP/FactorGraph.py:399: DeprecationWarning: PyArray_FromDims: use PyArray_SimpleNew.\n  def GetDecode(self): return _FactorGraph.CFactorGraph_GetDecode(self)\nFactorBP/FactorGraph.py:399: DeprecationWarning: PyArray_FromDimsAndDataAndDescr: use PyArray_NewFromDescr.\n  def GetDecode(self): return _FactorGraph.CFactorGraph_GetDecode(self)\nFactorBP/FactorGraph.py:399: DeprecationWarning: PyArray_FromDims: use PyArray_SimpleNew.\n  def GetDecode(self): return _FactorGraph.CFactorGraph_GetDecode(self)\nFactorBP/FactorGraph.py:399: DeprecationWarning: PyArray_FromDimsAndDataAndDescr: use PyArray_NewFromDescr.\n  def GetDecode(self): return _FactorGraph.CFactorGraph_GetDecode(self)\n"
     ]
    },
    {
     "name": "stderr",
     "output_type": "stream",
     "text": [
      "FactorBP/FactorGraph.py:399: DeprecationWarning: PyArray_FromDims: use PyArray_SimpleNew.\n  def GetDecode(self): return _FactorGraph.CFactorGraph_GetDecode(self)\nFactorBP/FactorGraph.py:399: DeprecationWarning: PyArray_FromDimsAndDataAndDescr: use PyArray_NewFromDescr.\n  def GetDecode(self): return _FactorGraph.CFactorGraph_GetDecode(self)\nFactorBP/FactorGraph.py:399: DeprecationWarning: PyArray_FromDims: use PyArray_SimpleNew.\n  def GetDecode(self): return _FactorGraph.CFactorGraph_GetDecode(self)\nFactorBP/FactorGraph.py:399: DeprecationWarning: PyArray_FromDimsAndDataAndDescr: use PyArray_NewFromDescr.\n  def GetDecode(self): return _FactorGraph.CFactorGraph_GetDecode(self)\n"
     ]
    },
    {
     "name": "stderr",
     "output_type": "stream",
     "text": [
      "FactorBP/FactorGraph.py:399: DeprecationWarning: PyArray_FromDims: use PyArray_SimpleNew.\n  def GetDecode(self): return _FactorGraph.CFactorGraph_GetDecode(self)\nFactorBP/FactorGraph.py:399: DeprecationWarning: PyArray_FromDimsAndDataAndDescr: use PyArray_NewFromDescr.\n  def GetDecode(self): return _FactorGraph.CFactorGraph_GetDecode(self)\nFactorBP/FactorGraph.py:399: DeprecationWarning: PyArray_FromDims: use PyArray_SimpleNew.\n  def GetDecode(self): return _FactorGraph.CFactorGraph_GetDecode(self)\nFactorBP/FactorGraph.py:399: DeprecationWarning: PyArray_FromDimsAndDataAndDescr: use PyArray_NewFromDescr.\n  def GetDecode(self): return _FactorGraph.CFactorGraph_GetDecode(self)\n"
     ]
    },
    {
     "name": "stderr",
     "output_type": "stream",
     "text": [
      "FactorBP/FactorGraph.py:399: DeprecationWarning: PyArray_FromDims: use PyArray_SimpleNew.\n  def GetDecode(self): return _FactorGraph.CFactorGraph_GetDecode(self)\nFactorBP/FactorGraph.py:399: DeprecationWarning: PyArray_FromDimsAndDataAndDescr: use PyArray_NewFromDescr.\n  def GetDecode(self): return _FactorGraph.CFactorGraph_GetDecode(self)\nFactorBP/FactorGraph.py:399: DeprecationWarning: PyArray_FromDims: use PyArray_SimpleNew.\n  def GetDecode(self): return _FactorGraph.CFactorGraph_GetDecode(self)\nFactorBP/FactorGraph.py:399: DeprecationWarning: PyArray_FromDimsAndDataAndDescr: use PyArray_NewFromDescr.\n  def GetDecode(self): return _FactorGraph.CFactorGraph_GetDecode(self)\n"
     ]
    },
    {
     "name": "stderr",
     "output_type": "stream",
     "text": [
      "FactorBP/FactorGraph.py:399: DeprecationWarning: PyArray_FromDims: use PyArray_SimpleNew.\n  def GetDecode(self): return _FactorGraph.CFactorGraph_GetDecode(self)\nFactorBP/FactorGraph.py:399: DeprecationWarning: PyArray_FromDimsAndDataAndDescr: use PyArray_NewFromDescr.\n  def GetDecode(self): return _FactorGraph.CFactorGraph_GetDecode(self)\nFactorBP/FactorGraph.py:399: DeprecationWarning: PyArray_FromDims: use PyArray_SimpleNew.\n  def GetDecode(self): return _FactorGraph.CFactorGraph_GetDecode(self)\nFactorBP/FactorGraph.py:399: DeprecationWarning: PyArray_FromDimsAndDataAndDescr: use PyArray_NewFromDescr.\n  def GetDecode(self): return _FactorGraph.CFactorGraph_GetDecode(self)\n"
     ]
    },
    {
     "name": "stderr",
     "output_type": "stream",
     "text": [
      "FactorBP/FactorGraph.py:399: DeprecationWarning: PyArray_FromDims: use PyArray_SimpleNew.\n  def GetDecode(self): return _FactorGraph.CFactorGraph_GetDecode(self)\nFactorBP/FactorGraph.py:399: DeprecationWarning: PyArray_FromDimsAndDataAndDescr: use PyArray_NewFromDescr.\n  def GetDecode(self): return _FactorGraph.CFactorGraph_GetDecode(self)\nFactorBP/FactorGraph.py:399: DeprecationWarning: PyArray_FromDims: use PyArray_SimpleNew.\n  def GetDecode(self): return _FactorGraph.CFactorGraph_GetDecode(self)\nFactorBP/FactorGraph.py:399: DeprecationWarning: PyArray_FromDimsAndDataAndDescr: use PyArray_NewFromDescr.\n  def GetDecode(self): return _FactorGraph.CFactorGraph_GetDecode(self)\nFactorBP/FactorGraph.py:399: DeprecationWarning: PyArray_FromDims: use PyArray_SimpleNew.\n  def GetDecode(self): return _FactorGraph.CFactorGraph_GetDecode(self)\nFactorBP/FactorGraph.py:399: DeprecationWarning: PyArray_FromDimsAndDataAndDescr: use PyArray_NewFromDescr.\n  def GetDecode(self): return _FactorGraph.CFactorGraph_GetDecode(self)\n"
     ]
    },
    {
     "name": "stderr",
     "output_type": "stream",
     "text": [
      "FactorBP/FactorGraph.py:399: DeprecationWarning: PyArray_FromDims: use PyArray_SimpleNew.\n  def GetDecode(self): return _FactorGraph.CFactorGraph_GetDecode(self)\nFactorBP/FactorGraph.py:399: DeprecationWarning: PyArray_FromDimsAndDataAndDescr: use PyArray_NewFromDescr.\n  def GetDecode(self): return _FactorGraph.CFactorGraph_GetDecode(self)\nFactorBP/FactorGraph.py:399: DeprecationWarning: PyArray_FromDims: use PyArray_SimpleNew.\n  def GetDecode(self): return _FactorGraph.CFactorGraph_GetDecode(self)\nFactorBP/FactorGraph.py:399: DeprecationWarning: PyArray_FromDimsAndDataAndDescr: use PyArray_NewFromDescr.\n  def GetDecode(self): return _FactorGraph.CFactorGraph_GetDecode(self)\n"
     ]
    },
    {
     "name": "stderr",
     "output_type": "stream",
     "text": [
      "FactorBP/FactorGraph.py:399: DeprecationWarning: PyArray_FromDims: use PyArray_SimpleNew.\n  def GetDecode(self): return _FactorGraph.CFactorGraph_GetDecode(self)\nFactorBP/FactorGraph.py:399: DeprecationWarning: PyArray_FromDimsAndDataAndDescr: use PyArray_NewFromDescr.\n  def GetDecode(self): return _FactorGraph.CFactorGraph_GetDecode(self)\nFactorBP/FactorGraph.py:399: DeprecationWarning: PyArray_FromDims: use PyArray_SimpleNew.\n  def GetDecode(self): return _FactorGraph.CFactorGraph_GetDecode(self)\nFactorBP/FactorGraph.py:399: DeprecationWarning: PyArray_FromDimsAndDataAndDescr: use PyArray_NewFromDescr.\n  def GetDecode(self): return _FactorGraph.CFactorGraph_GetDecode(self)\n"
     ]
    },
    {
     "name": "stderr",
     "output_type": "stream",
     "text": [
      "FactorBP/FactorGraph.py:399: DeprecationWarning: PyArray_FromDims: use PyArray_SimpleNew.\n  def GetDecode(self): return _FactorGraph.CFactorGraph_GetDecode(self)\nFactorBP/FactorGraph.py:399: DeprecationWarning: PyArray_FromDimsAndDataAndDescr: use PyArray_NewFromDescr.\n  def GetDecode(self): return _FactorGraph.CFactorGraph_GetDecode(self)\nFactorBP/FactorGraph.py:399: DeprecationWarning: PyArray_FromDims: use PyArray_SimpleNew.\n  def GetDecode(self): return _FactorGraph.CFactorGraph_GetDecode(self)\nFactorBP/FactorGraph.py:399: DeprecationWarning: PyArray_FromDimsAndDataAndDescr: use PyArray_NewFromDescr.\n  def GetDecode(self): return _FactorGraph.CFactorGraph_GetDecode(self)\n"
     ]
    },
    {
     "name": "stderr",
     "output_type": "stream",
     "text": [
      "FactorBP/FactorGraph.py:399: DeprecationWarning: PyArray_FromDims: use PyArray_SimpleNew.\n  def GetDecode(self): return _FactorGraph.CFactorGraph_GetDecode(self)\nFactorBP/FactorGraph.py:399: DeprecationWarning: PyArray_FromDimsAndDataAndDescr: use PyArray_NewFromDescr.\n  def GetDecode(self): return _FactorGraph.CFactorGraph_GetDecode(self)\nFactorBP/FactorGraph.py:399: DeprecationWarning: PyArray_FromDims: use PyArray_SimpleNew.\n  def GetDecode(self): return _FactorGraph.CFactorGraph_GetDecode(self)\nFactorBP/FactorGraph.py:399: DeprecationWarning: PyArray_FromDimsAndDataAndDescr: use PyArray_NewFromDescr.\n  def GetDecode(self): return _FactorGraph.CFactorGraph_GetDecode(self)\n"
     ]
    },
    {
     "name": "stderr",
     "output_type": "stream",
     "text": [
      "FactorBP/FactorGraph.py:399: DeprecationWarning: PyArray_FromDims: use PyArray_SimpleNew.\n  def GetDecode(self): return _FactorGraph.CFactorGraph_GetDecode(self)\nFactorBP/FactorGraph.py:399: DeprecationWarning: PyArray_FromDimsAndDataAndDescr: use PyArray_NewFromDescr.\n  def GetDecode(self): return _FactorGraph.CFactorGraph_GetDecode(self)\nFactorBP/FactorGraph.py:399: DeprecationWarning: PyArray_FromDims: use PyArray_SimpleNew.\n  def GetDecode(self): return _FactorGraph.CFactorGraph_GetDecode(self)\nFactorBP/FactorGraph.py:399: DeprecationWarning: PyArray_FromDimsAndDataAndDescr: use PyArray_NewFromDescr.\n  def GetDecode(self): return _FactorGraph.CFactorGraph_GetDecode(self)\n"
     ]
    },
    {
     "name": "stdout",
     "output_type": "stream",
     "text": [
      "Ours Accuracy 1.000000 Running Time 0.094124 Obj 1.000000\nOurs-PW Accuracy 1.000000 Running Time 0.050703 Obj 0.905050\nOurs-BCA Accuracy 1.000000 Running Time 0.123765 Obj 1.000000\nBCA Accuracy 0.995775 Running Time 0.022152 Obj 0.997587\nBCA-MP Accuracy 0.999061 Running Time 0.121692 Obj 0.999847\nBCA-IPFP Accuracy 0.999061 Running Time 0.088945 Obj 0.999847\nHGM Accuracy 0.610329 Running Time 0.004551 Obj 0.565179\nRRWHM Accuracy 1.000000 Running Time 0.058519 Obj 1.000000\nTM Accuracy 0.622535 Running Time 0.085262 Obj 0.674333\n××××××××××××××××××××\n Start baseline: 50\n"
     ]
    },
    {
     "name": "stderr",
     "output_type": "stream",
     "text": [
      "FactorBP/FactorGraph.py:399: DeprecationWarning: PyArray_FromDims: use PyArray_SimpleNew.\n  def GetDecode(self): return _FactorGraph.CFactorGraph_GetDecode(self)\nFactorBP/FactorGraph.py:399: DeprecationWarning: PyArray_FromDimsAndDataAndDescr: use PyArray_NewFromDescr.\n  def GetDecode(self): return _FactorGraph.CFactorGraph_GetDecode(self)\nFactorBP/FactorGraph.py:399: DeprecationWarning: PyArray_FromDims: use PyArray_SimpleNew.\n  def GetDecode(self): return _FactorGraph.CFactorGraph_GetDecode(self)\nFactorBP/FactorGraph.py:399: DeprecationWarning: PyArray_FromDimsAndDataAndDescr: use PyArray_NewFromDescr.\n  def GetDecode(self): return _FactorGraph.CFactorGraph_GetDecode(self)\n"
     ]
    },
    {
     "name": "stderr",
     "output_type": "stream",
     "text": [
      "FactorBP/FactorGraph.py:399: DeprecationWarning: PyArray_FromDims: use PyArray_SimpleNew.\n  def GetDecode(self): return _FactorGraph.CFactorGraph_GetDecode(self)\nFactorBP/FactorGraph.py:399: DeprecationWarning: PyArray_FromDimsAndDataAndDescr: use PyArray_NewFromDescr.\n  def GetDecode(self): return _FactorGraph.CFactorGraph_GetDecode(self)\nFactorBP/FactorGraph.py:399: DeprecationWarning: PyArray_FromDims: use PyArray_SimpleNew.\n  def GetDecode(self): return _FactorGraph.CFactorGraph_GetDecode(self)\nFactorBP/FactorGraph.py:399: DeprecationWarning: PyArray_FromDimsAndDataAndDescr: use PyArray_NewFromDescr.\n  def GetDecode(self): return _FactorGraph.CFactorGraph_GetDecode(self)\n"
     ]
    },
    {
     "name": "stderr",
     "output_type": "stream",
     "text": [
      "FactorBP/FactorGraph.py:399: DeprecationWarning: PyArray_FromDims: use PyArray_SimpleNew.\n  def GetDecode(self): return _FactorGraph.CFactorGraph_GetDecode(self)\nFactorBP/FactorGraph.py:399: DeprecationWarning: PyArray_FromDimsAndDataAndDescr: use PyArray_NewFromDescr.\n  def GetDecode(self): return _FactorGraph.CFactorGraph_GetDecode(self)\nFactorBP/FactorGraph.py:399: DeprecationWarning: PyArray_FromDims: use PyArray_SimpleNew.\n  def GetDecode(self): return _FactorGraph.CFactorGraph_GetDecode(self)\nFactorBP/FactorGraph.py:399: DeprecationWarning: PyArray_FromDimsAndDataAndDescr: use PyArray_NewFromDescr.\n  def GetDecode(self): return _FactorGraph.CFactorGraph_GetDecode(self)\n"
     ]
    },
    {
     "name": "stderr",
     "output_type": "stream",
     "text": [
      "FactorBP/FactorGraph.py:399: DeprecationWarning: PyArray_FromDims: use PyArray_SimpleNew.\n  def GetDecode(self): return _FactorGraph.CFactorGraph_GetDecode(self)\nFactorBP/FactorGraph.py:399: DeprecationWarning: PyArray_FromDimsAndDataAndDescr: use PyArray_NewFromDescr.\n  def GetDecode(self): return _FactorGraph.CFactorGraph_GetDecode(self)\nFactorBP/FactorGraph.py:399: DeprecationWarning: PyArray_FromDims: use PyArray_SimpleNew.\n  def GetDecode(self): return _FactorGraph.CFactorGraph_GetDecode(self)\nFactorBP/FactorGraph.py:399: DeprecationWarning: PyArray_FromDimsAndDataAndDescr: use PyArray_NewFromDescr.\n  def GetDecode(self): return _FactorGraph.CFactorGraph_GetDecode(self)\n"
     ]
    },
    {
     "name": "stderr",
     "output_type": "stream",
     "text": [
      "FactorBP/FactorGraph.py:399: DeprecationWarning: PyArray_FromDims: use PyArray_SimpleNew.\n  def GetDecode(self): return _FactorGraph.CFactorGraph_GetDecode(self)\nFactorBP/FactorGraph.py:399: DeprecationWarning: PyArray_FromDimsAndDataAndDescr: use PyArray_NewFromDescr.\n  def GetDecode(self): return _FactorGraph.CFactorGraph_GetDecode(self)\nFactorBP/FactorGraph.py:399: DeprecationWarning: PyArray_FromDims: use PyArray_SimpleNew.\n  def GetDecode(self): return _FactorGraph.CFactorGraph_GetDecode(self)\nFactorBP/FactorGraph.py:399: DeprecationWarning: PyArray_FromDimsAndDataAndDescr: use PyArray_NewFromDescr.\n  def GetDecode(self): return _FactorGraph.CFactorGraph_GetDecode(self)\n"
     ]
    },
    {
     "name": "stderr",
     "output_type": "stream",
     "text": [
      "FactorBP/FactorGraph.py:399: DeprecationWarning: PyArray_FromDims: use PyArray_SimpleNew.\n  def GetDecode(self): return _FactorGraph.CFactorGraph_GetDecode(self)\nFactorBP/FactorGraph.py:399: DeprecationWarning: PyArray_FromDimsAndDataAndDescr: use PyArray_NewFromDescr.\n  def GetDecode(self): return _FactorGraph.CFactorGraph_GetDecode(self)\nFactorBP/FactorGraph.py:399: DeprecationWarning: PyArray_FromDims: use PyArray_SimpleNew.\n  def GetDecode(self): return _FactorGraph.CFactorGraph_GetDecode(self)\nFactorBP/FactorGraph.py:399: DeprecationWarning: PyArray_FromDimsAndDataAndDescr: use PyArray_NewFromDescr.\n  def GetDecode(self): return _FactorGraph.CFactorGraph_GetDecode(self)\n"
     ]
    },
    {
     "name": "stderr",
     "output_type": "stream",
     "text": [
      "FactorBP/FactorGraph.py:399: DeprecationWarning: PyArray_FromDims: use PyArray_SimpleNew.\n  def GetDecode(self): return _FactorGraph.CFactorGraph_GetDecode(self)\nFactorBP/FactorGraph.py:399: DeprecationWarning: PyArray_FromDimsAndDataAndDescr: use PyArray_NewFromDescr.\n  def GetDecode(self): return _FactorGraph.CFactorGraph_GetDecode(self)\n"
     ]
    },
    {
     "name": "stderr",
     "output_type": "stream",
     "text": [
      "FactorBP/FactorGraph.py:399: DeprecationWarning: PyArray_FromDims: use PyArray_SimpleNew.\n  def GetDecode(self): return _FactorGraph.CFactorGraph_GetDecode(self)\nFactorBP/FactorGraph.py:399: DeprecationWarning: PyArray_FromDimsAndDataAndDescr: use PyArray_NewFromDescr.\n  def GetDecode(self): return _FactorGraph.CFactorGraph_GetDecode(self)\n"
     ]
    },
    {
     "name": "stderr",
     "output_type": "stream",
     "text": [
      "FactorBP/FactorGraph.py:399: DeprecationWarning: PyArray_FromDims: use PyArray_SimpleNew.\n  def GetDecode(self): return _FactorGraph.CFactorGraph_GetDecode(self)\nFactorBP/FactorGraph.py:399: DeprecationWarning: PyArray_FromDimsAndDataAndDescr: use PyArray_NewFromDescr.\n  def GetDecode(self): return _FactorGraph.CFactorGraph_GetDecode(self)\nFactorBP/FactorGraph.py:399: DeprecationWarning: PyArray_FromDims: use PyArray_SimpleNew.\n  def GetDecode(self): return _FactorGraph.CFactorGraph_GetDecode(self)\nFactorBP/FactorGraph.py:399: DeprecationWarning: PyArray_FromDimsAndDataAndDescr: use PyArray_NewFromDescr.\n  def GetDecode(self): return _FactorGraph.CFactorGraph_GetDecode(self)\n"
     ]
    },
    {
     "name": "stderr",
     "output_type": "stream",
     "text": [
      "FactorBP/FactorGraph.py:399: DeprecationWarning: PyArray_FromDims: use PyArray_SimpleNew.\n  def GetDecode(self): return _FactorGraph.CFactorGraph_GetDecode(self)\nFactorBP/FactorGraph.py:399: DeprecationWarning: PyArray_FromDimsAndDataAndDescr: use PyArray_NewFromDescr.\n  def GetDecode(self): return _FactorGraph.CFactorGraph_GetDecode(self)\n"
     ]
    },
    {
     "name": "stderr",
     "output_type": "stream",
     "text": [
      "FactorBP/FactorGraph.py:399: DeprecationWarning: PyArray_FromDims: use PyArray_SimpleNew.\n  def GetDecode(self): return _FactorGraph.CFactorGraph_GetDecode(self)\nFactorBP/FactorGraph.py:399: DeprecationWarning: PyArray_FromDimsAndDataAndDescr: use PyArray_NewFromDescr.\n  def GetDecode(self): return _FactorGraph.CFactorGraph_GetDecode(self)\n"
     ]
    },
    {
     "name": "stderr",
     "output_type": "stream",
     "text": [
      "FactorBP/FactorGraph.py:399: DeprecationWarning: PyArray_FromDims: use PyArray_SimpleNew.\n  def GetDecode(self): return _FactorGraph.CFactorGraph_GetDecode(self)\nFactorBP/FactorGraph.py:399: DeprecationWarning: PyArray_FromDimsAndDataAndDescr: use PyArray_NewFromDescr.\n  def GetDecode(self): return _FactorGraph.CFactorGraph_GetDecode(self)\nFactorBP/FactorGraph.py:399: DeprecationWarning: PyArray_FromDims: use PyArray_SimpleNew.\n  def GetDecode(self): return _FactorGraph.CFactorGraph_GetDecode(self)\nFactorBP/FactorGraph.py:399: DeprecationWarning: PyArray_FromDimsAndDataAndDescr: use PyArray_NewFromDescr.\n  def GetDecode(self): return _FactorGraph.CFactorGraph_GetDecode(self)\n"
     ]
    },
    {
     "name": "stderr",
     "output_type": "stream",
     "text": [
      "FactorBP/FactorGraph.py:399: DeprecationWarning: PyArray_FromDims: use PyArray_SimpleNew.\n  def GetDecode(self): return _FactorGraph.CFactorGraph_GetDecode(self)\nFactorBP/FactorGraph.py:399: DeprecationWarning: PyArray_FromDimsAndDataAndDescr: use PyArray_NewFromDescr.\n  def GetDecode(self): return _FactorGraph.CFactorGraph_GetDecode(self)\nFactorBP/FactorGraph.py:399: DeprecationWarning: PyArray_FromDims: use PyArray_SimpleNew.\n  def GetDecode(self): return _FactorGraph.CFactorGraph_GetDecode(self)\nFactorBP/FactorGraph.py:399: DeprecationWarning: PyArray_FromDimsAndDataAndDescr: use PyArray_NewFromDescr.\n  def GetDecode(self): return _FactorGraph.CFactorGraph_GetDecode(self)\n"
     ]
    },
    {
     "name": "stderr",
     "output_type": "stream",
     "text": [
      "FactorBP/FactorGraph.py:399: DeprecationWarning: PyArray_FromDims: use PyArray_SimpleNew.\n  def GetDecode(self): return _FactorGraph.CFactorGraph_GetDecode(self)\nFactorBP/FactorGraph.py:399: DeprecationWarning: PyArray_FromDimsAndDataAndDescr: use PyArray_NewFromDescr.\n  def GetDecode(self): return _FactorGraph.CFactorGraph_GetDecode(self)\nFactorBP/FactorGraph.py:399: DeprecationWarning: PyArray_FromDims: use PyArray_SimpleNew.\n  def GetDecode(self): return _FactorGraph.CFactorGraph_GetDecode(self)\nFactorBP/FactorGraph.py:399: DeprecationWarning: PyArray_FromDimsAndDataAndDescr: use PyArray_NewFromDescr.\n  def GetDecode(self): return _FactorGraph.CFactorGraph_GetDecode(self)\n"
     ]
    },
    {
     "name": "stderr",
     "output_type": "stream",
     "text": [
      "FactorBP/FactorGraph.py:399: DeprecationWarning: PyArray_FromDims: use PyArray_SimpleNew.\n  def GetDecode(self): return _FactorGraph.CFactorGraph_GetDecode(self)\nFactorBP/FactorGraph.py:399: DeprecationWarning: PyArray_FromDimsAndDataAndDescr: use PyArray_NewFromDescr.\n  def GetDecode(self): return _FactorGraph.CFactorGraph_GetDecode(self)\nFactorBP/FactorGraph.py:399: DeprecationWarning: PyArray_FromDims: use PyArray_SimpleNew.\n  def GetDecode(self): return _FactorGraph.CFactorGraph_GetDecode(self)\nFactorBP/FactorGraph.py:399: DeprecationWarning: PyArray_FromDimsAndDataAndDescr: use PyArray_NewFromDescr.\n  def GetDecode(self): return _FactorGraph.CFactorGraph_GetDecode(self)\n"
     ]
    },
    {
     "name": "stderr",
     "output_type": "stream",
     "text": [
      "FactorBP/FactorGraph.py:399: DeprecationWarning: PyArray_FromDims: use PyArray_SimpleNew.\n  def GetDecode(self): return _FactorGraph.CFactorGraph_GetDecode(self)\nFactorBP/FactorGraph.py:399: DeprecationWarning: PyArray_FromDimsAndDataAndDescr: use PyArray_NewFromDescr.\n  def GetDecode(self): return _FactorGraph.CFactorGraph_GetDecode(self)\nFactorBP/FactorGraph.py:399: DeprecationWarning: PyArray_FromDims: use PyArray_SimpleNew.\n  def GetDecode(self): return _FactorGraph.CFactorGraph_GetDecode(self)\nFactorBP/FactorGraph.py:399: DeprecationWarning: PyArray_FromDimsAndDataAndDescr: use PyArray_NewFromDescr.\n  def GetDecode(self): return _FactorGraph.CFactorGraph_GetDecode(self)\n"
     ]
    },
    {
     "name": "stderr",
     "output_type": "stream",
     "text": [
      "FactorBP/FactorGraph.py:399: DeprecationWarning: PyArray_FromDims: use PyArray_SimpleNew.\n  def GetDecode(self): return _FactorGraph.CFactorGraph_GetDecode(self)\nFactorBP/FactorGraph.py:399: DeprecationWarning: PyArray_FromDimsAndDataAndDescr: use PyArray_NewFromDescr.\n  def GetDecode(self): return _FactorGraph.CFactorGraph_GetDecode(self)\nFactorBP/FactorGraph.py:399: DeprecationWarning: PyArray_FromDims: use PyArray_SimpleNew.\n  def GetDecode(self): return _FactorGraph.CFactorGraph_GetDecode(self)\nFactorBP/FactorGraph.py:399: DeprecationWarning: PyArray_FromDimsAndDataAndDescr: use PyArray_NewFromDescr.\n  def GetDecode(self): return _FactorGraph.CFactorGraph_GetDecode(self)\n"
     ]
    },
    {
     "name": "stderr",
     "output_type": "stream",
     "text": [
      "FactorBP/FactorGraph.py:399: DeprecationWarning: PyArray_FromDims: use PyArray_SimpleNew.\n  def GetDecode(self): return _FactorGraph.CFactorGraph_GetDecode(self)\nFactorBP/FactorGraph.py:399: DeprecationWarning: PyArray_FromDimsAndDataAndDescr: use PyArray_NewFromDescr.\n  def GetDecode(self): return _FactorGraph.CFactorGraph_GetDecode(self)\nFactorBP/FactorGraph.py:399: DeprecationWarning: PyArray_FromDims: use PyArray_SimpleNew.\n  def GetDecode(self): return _FactorGraph.CFactorGraph_GetDecode(self)\nFactorBP/FactorGraph.py:399: DeprecationWarning: PyArray_FromDimsAndDataAndDescr: use PyArray_NewFromDescr.\n  def GetDecode(self): return _FactorGraph.CFactorGraph_GetDecode(self)\n"
     ]
    },
    {
     "name": "stderr",
     "output_type": "stream",
     "text": [
      "FactorBP/FactorGraph.py:399: DeprecationWarning: PyArray_FromDims: use PyArray_SimpleNew.\n  def GetDecode(self): return _FactorGraph.CFactorGraph_GetDecode(self)\nFactorBP/FactorGraph.py:399: DeprecationWarning: PyArray_FromDimsAndDataAndDescr: use PyArray_NewFromDescr.\n  def GetDecode(self): return _FactorGraph.CFactorGraph_GetDecode(self)\nFactorBP/FactorGraph.py:399: DeprecationWarning: PyArray_FromDims: use PyArray_SimpleNew.\n  def GetDecode(self): return _FactorGraph.CFactorGraph_GetDecode(self)\nFactorBP/FactorGraph.py:399: DeprecationWarning: PyArray_FromDimsAndDataAndDescr: use PyArray_NewFromDescr.\n  def GetDecode(self): return _FactorGraph.CFactorGraph_GetDecode(self)\n"
     ]
    },
    {
     "name": "stderr",
     "output_type": "stream",
     "text": [
      "FactorBP/FactorGraph.py:399: DeprecationWarning: PyArray_FromDims: use PyArray_SimpleNew.\n  def GetDecode(self): return _FactorGraph.CFactorGraph_GetDecode(self)\nFactorBP/FactorGraph.py:399: DeprecationWarning: PyArray_FromDimsAndDataAndDescr: use PyArray_NewFromDescr.\n  def GetDecode(self): return _FactorGraph.CFactorGraph_GetDecode(self)\nFactorBP/FactorGraph.py:399: DeprecationWarning: PyArray_FromDims: use PyArray_SimpleNew.\n  def GetDecode(self): return _FactorGraph.CFactorGraph_GetDecode(self)\nFactorBP/FactorGraph.py:399: DeprecationWarning: PyArray_FromDimsAndDataAndDescr: use PyArray_NewFromDescr.\n  def GetDecode(self): return _FactorGraph.CFactorGraph_GetDecode(self)\nFactorBP/FactorGraph.py:399: DeprecationWarning: PyArray_FromDims: use PyArray_SimpleNew.\n  def GetDecode(self): return _FactorGraph.CFactorGraph_GetDecode(self)\nFactorBP/FactorGraph.py:399: DeprecationWarning: PyArray_FromDimsAndDataAndDescr: use PyArray_NewFromDescr.\n  def GetDecode(self): return _FactorGraph.CFactorGraph_GetDecode(self)\n"
     ]
    },
    {
     "name": "stderr",
     "output_type": "stream",
     "text": [
      "FactorBP/FactorGraph.py:399: DeprecationWarning: PyArray_FromDims: use PyArray_SimpleNew.\n  def GetDecode(self): return _FactorGraph.CFactorGraph_GetDecode(self)\nFactorBP/FactorGraph.py:399: DeprecationWarning: PyArray_FromDimsAndDataAndDescr: use PyArray_NewFromDescr.\n  def GetDecode(self): return _FactorGraph.CFactorGraph_GetDecode(self)\nFactorBP/FactorGraph.py:399: DeprecationWarning: PyArray_FromDims: use PyArray_SimpleNew.\n  def GetDecode(self): return _FactorGraph.CFactorGraph_GetDecode(self)\nFactorBP/FactorGraph.py:399: DeprecationWarning: PyArray_FromDimsAndDataAndDescr: use PyArray_NewFromDescr.\n  def GetDecode(self): return _FactorGraph.CFactorGraph_GetDecode(self)\n"
     ]
    },
    {
     "name": "stderr",
     "output_type": "stream",
     "text": [
      "FactorBP/FactorGraph.py:399: DeprecationWarning: PyArray_FromDims: use PyArray_SimpleNew.\n  def GetDecode(self): return _FactorGraph.CFactorGraph_GetDecode(self)\nFactorBP/FactorGraph.py:399: DeprecationWarning: PyArray_FromDimsAndDataAndDescr: use PyArray_NewFromDescr.\n  def GetDecode(self): return _FactorGraph.CFactorGraph_GetDecode(self)\nFactorBP/FactorGraph.py:399: DeprecationWarning: PyArray_FromDims: use PyArray_SimpleNew.\n  def GetDecode(self): return _FactorGraph.CFactorGraph_GetDecode(self)\nFactorBP/FactorGraph.py:399: DeprecationWarning: PyArray_FromDimsAndDataAndDescr: use PyArray_NewFromDescr.\n  def GetDecode(self): return _FactorGraph.CFactorGraph_GetDecode(self)\n"
     ]
    },
    {
     "name": "stderr",
     "output_type": "stream",
     "text": [
      "FactorBP/FactorGraph.py:399: DeprecationWarning: PyArray_FromDims: use PyArray_SimpleNew.\n  def GetDecode(self): return _FactorGraph.CFactorGraph_GetDecode(self)\nFactorBP/FactorGraph.py:399: DeprecationWarning: PyArray_FromDimsAndDataAndDescr: use PyArray_NewFromDescr.\n  def GetDecode(self): return _FactorGraph.CFactorGraph_GetDecode(self)\nFactorBP/FactorGraph.py:399: DeprecationWarning: PyArray_FromDims: use PyArray_SimpleNew.\n  def GetDecode(self): return _FactorGraph.CFactorGraph_GetDecode(self)\nFactorBP/FactorGraph.py:399: DeprecationWarning: PyArray_FromDimsAndDataAndDescr: use PyArray_NewFromDescr.\n  def GetDecode(self): return _FactorGraph.CFactorGraph_GetDecode(self)\n"
     ]
    },
    {
     "name": "stderr",
     "output_type": "stream",
     "text": [
      "FactorBP/FactorGraph.py:399: DeprecationWarning: PyArray_FromDims: use PyArray_SimpleNew.\n  def GetDecode(self): return _FactorGraph.CFactorGraph_GetDecode(self)\nFactorBP/FactorGraph.py:399: DeprecationWarning: PyArray_FromDimsAndDataAndDescr: use PyArray_NewFromDescr.\n  def GetDecode(self): return _FactorGraph.CFactorGraph_GetDecode(self)\nFactorBP/FactorGraph.py:399: DeprecationWarning: PyArray_FromDims: use PyArray_SimpleNew.\n  def GetDecode(self): return _FactorGraph.CFactorGraph_GetDecode(self)\nFactorBP/FactorGraph.py:399: DeprecationWarning: PyArray_FromDimsAndDataAndDescr: use PyArray_NewFromDescr.\n  def GetDecode(self): return _FactorGraph.CFactorGraph_GetDecode(self)\n"
     ]
    },
    {
     "name": "stderr",
     "output_type": "stream",
     "text": [
      "FactorBP/FactorGraph.py:399: DeprecationWarning: PyArray_FromDims: use PyArray_SimpleNew.\n  def GetDecode(self): return _FactorGraph.CFactorGraph_GetDecode(self)\nFactorBP/FactorGraph.py:399: DeprecationWarning: PyArray_FromDimsAndDataAndDescr: use PyArray_NewFromDescr.\n  def GetDecode(self): return _FactorGraph.CFactorGraph_GetDecode(self)\nFactorBP/FactorGraph.py:399: DeprecationWarning: PyArray_FromDims: use PyArray_SimpleNew.\n  def GetDecode(self): return _FactorGraph.CFactorGraph_GetDecode(self)\nFactorBP/FactorGraph.py:399: DeprecationWarning: PyArray_FromDimsAndDataAndDescr: use PyArray_NewFromDescr.\n  def GetDecode(self): return _FactorGraph.CFactorGraph_GetDecode(self)\n"
     ]
    },
    {
     "name": "stderr",
     "output_type": "stream",
     "text": [
      "FactorBP/FactorGraph.py:399: DeprecationWarning: PyArray_FromDims: use PyArray_SimpleNew.\n  def GetDecode(self): return _FactorGraph.CFactorGraph_GetDecode(self)\nFactorBP/FactorGraph.py:399: DeprecationWarning: PyArray_FromDimsAndDataAndDescr: use PyArray_NewFromDescr.\n  def GetDecode(self): return _FactorGraph.CFactorGraph_GetDecode(self)\nFactorBP/FactorGraph.py:399: DeprecationWarning: PyArray_FromDims: use PyArray_SimpleNew.\n  def GetDecode(self): return _FactorGraph.CFactorGraph_GetDecode(self)\nFactorBP/FactorGraph.py:399: DeprecationWarning: PyArray_FromDimsAndDataAndDescr: use PyArray_NewFromDescr.\n  def GetDecode(self): return _FactorGraph.CFactorGraph_GetDecode(self)\n"
     ]
    },
    {
     "name": "stderr",
     "output_type": "stream",
     "text": [
      "FactorBP/FactorGraph.py:399: DeprecationWarning: PyArray_FromDims: use PyArray_SimpleNew.\n  def GetDecode(self): return _FactorGraph.CFactorGraph_GetDecode(self)\nFactorBP/FactorGraph.py:399: DeprecationWarning: PyArray_FromDimsAndDataAndDescr: use PyArray_NewFromDescr.\n  def GetDecode(self): return _FactorGraph.CFactorGraph_GetDecode(self)\nFactorBP/FactorGraph.py:399: DeprecationWarning: PyArray_FromDims: use PyArray_SimpleNew.\n  def GetDecode(self): return _FactorGraph.CFactorGraph_GetDecode(self)\nFactorBP/FactorGraph.py:399: DeprecationWarning: PyArray_FromDimsAndDataAndDescr: use PyArray_NewFromDescr.\n  def GetDecode(self): return _FactorGraph.CFactorGraph_GetDecode(self)\n"
     ]
    },
    {
     "name": "stderr",
     "output_type": "stream",
     "text": [
      "FactorBP/FactorGraph.py:399: DeprecationWarning: PyArray_FromDims: use PyArray_SimpleNew.\n  def GetDecode(self): return _FactorGraph.CFactorGraph_GetDecode(self)\nFactorBP/FactorGraph.py:399: DeprecationWarning: PyArray_FromDimsAndDataAndDescr: use PyArray_NewFromDescr.\n  def GetDecode(self): return _FactorGraph.CFactorGraph_GetDecode(self)\nFactorBP/FactorGraph.py:399: DeprecationWarning: PyArray_FromDims: use PyArray_SimpleNew.\n  def GetDecode(self): return _FactorGraph.CFactorGraph_GetDecode(self)\nFactorBP/FactorGraph.py:399: DeprecationWarning: PyArray_FromDimsAndDataAndDescr: use PyArray_NewFromDescr.\n  def GetDecode(self): return _FactorGraph.CFactorGraph_GetDecode(self)\n"
     ]
    },
    {
     "name": "stderr",
     "output_type": "stream",
     "text": [
      "FactorBP/FactorGraph.py:399: DeprecationWarning: PyArray_FromDims: use PyArray_SimpleNew.\n  def GetDecode(self): return _FactorGraph.CFactorGraph_GetDecode(self)\nFactorBP/FactorGraph.py:399: DeprecationWarning: PyArray_FromDimsAndDataAndDescr: use PyArray_NewFromDescr.\n  def GetDecode(self): return _FactorGraph.CFactorGraph_GetDecode(self)\nFactorBP/FactorGraph.py:399: DeprecationWarning: PyArray_FromDims: use PyArray_SimpleNew.\n  def GetDecode(self): return _FactorGraph.CFactorGraph_GetDecode(self)\nFactorBP/FactorGraph.py:399: DeprecationWarning: PyArray_FromDimsAndDataAndDescr: use PyArray_NewFromDescr.\n  def GetDecode(self): return _FactorGraph.CFactorGraph_GetDecode(self)\n"
     ]
    },
    {
     "name": "stderr",
     "output_type": "stream",
     "text": [
      "FactorBP/FactorGraph.py:399: DeprecationWarning: PyArray_FromDims: use PyArray_SimpleNew.\n  def GetDecode(self): return _FactorGraph.CFactorGraph_GetDecode(self)\nFactorBP/FactorGraph.py:399: DeprecationWarning: PyArray_FromDimsAndDataAndDescr: use PyArray_NewFromDescr.\n  def GetDecode(self): return _FactorGraph.CFactorGraph_GetDecode(self)\nFactorBP/FactorGraph.py:399: DeprecationWarning: PyArray_FromDims: use PyArray_SimpleNew.\n  def GetDecode(self): return _FactorGraph.CFactorGraph_GetDecode(self)\nFactorBP/FactorGraph.py:399: DeprecationWarning: PyArray_FromDimsAndDataAndDescr: use PyArray_NewFromDescr.\n  def GetDecode(self): return _FactorGraph.CFactorGraph_GetDecode(self)\n"
     ]
    },
    {
     "name": "stderr",
     "output_type": "stream",
     "text": [
      "FactorBP/FactorGraph.py:399: DeprecationWarning: PyArray_FromDims: use PyArray_SimpleNew.\n  def GetDecode(self): return _FactorGraph.CFactorGraph_GetDecode(self)\nFactorBP/FactorGraph.py:399: DeprecationWarning: PyArray_FromDimsAndDataAndDescr: use PyArray_NewFromDescr.\n  def GetDecode(self): return _FactorGraph.CFactorGraph_GetDecode(self)\nFactorBP/FactorGraph.py:399: DeprecationWarning: PyArray_FromDims: use PyArray_SimpleNew.\n  def GetDecode(self): return _FactorGraph.CFactorGraph_GetDecode(self)\nFactorBP/FactorGraph.py:399: DeprecationWarning: PyArray_FromDimsAndDataAndDescr: use PyArray_NewFromDescr.\n  def GetDecode(self): return _FactorGraph.CFactorGraph_GetDecode(self)\n"
     ]
    },
    {
     "name": "stderr",
     "output_type": "stream",
     "text": [
      "FactorBP/FactorGraph.py:399: DeprecationWarning: PyArray_FromDims: use PyArray_SimpleNew.\n  def GetDecode(self): return _FactorGraph.CFactorGraph_GetDecode(self)\nFactorBP/FactorGraph.py:399: DeprecationWarning: PyArray_FromDimsAndDataAndDescr: use PyArray_NewFromDescr.\n  def GetDecode(self): return _FactorGraph.CFactorGraph_GetDecode(self)\nFactorBP/FactorGraph.py:399: DeprecationWarning: PyArray_FromDims: use PyArray_SimpleNew.\n  def GetDecode(self): return _FactorGraph.CFactorGraph_GetDecode(self)\nFactorBP/FactorGraph.py:399: DeprecationWarning: PyArray_FromDimsAndDataAndDescr: use PyArray_NewFromDescr.\n  def GetDecode(self): return _FactorGraph.CFactorGraph_GetDecode(self)\n"
     ]
    },
    {
     "name": "stderr",
     "output_type": "stream",
     "text": [
      "FactorBP/FactorGraph.py:399: DeprecationWarning: PyArray_FromDims: use PyArray_SimpleNew.\n  def GetDecode(self): return _FactorGraph.CFactorGraph_GetDecode(self)\nFactorBP/FactorGraph.py:399: DeprecationWarning: PyArray_FromDimsAndDataAndDescr: use PyArray_NewFromDescr.\n  def GetDecode(self): return _FactorGraph.CFactorGraph_GetDecode(self)\nFactorBP/FactorGraph.py:399: DeprecationWarning: PyArray_FromDims: use PyArray_SimpleNew.\n  def GetDecode(self): return _FactorGraph.CFactorGraph_GetDecode(self)\nFactorBP/FactorGraph.py:399: DeprecationWarning: PyArray_FromDimsAndDataAndDescr: use PyArray_NewFromDescr.\n  def GetDecode(self): return _FactorGraph.CFactorGraph_GetDecode(self)\n"
     ]
    },
    {
     "name": "stderr",
     "output_type": "stream",
     "text": [
      "FactorBP/FactorGraph.py:399: DeprecationWarning: PyArray_FromDims: use PyArray_SimpleNew.\n  def GetDecode(self): return _FactorGraph.CFactorGraph_GetDecode(self)\nFactorBP/FactorGraph.py:399: DeprecationWarning: PyArray_FromDimsAndDataAndDescr: use PyArray_NewFromDescr.\n  def GetDecode(self): return _FactorGraph.CFactorGraph_GetDecode(self)\nFactorBP/FactorGraph.py:399: DeprecationWarning: PyArray_FromDims: use PyArray_SimpleNew.\n  def GetDecode(self): return _FactorGraph.CFactorGraph_GetDecode(self)\nFactorBP/FactorGraph.py:399: DeprecationWarning: PyArray_FromDimsAndDataAndDescr: use PyArray_NewFromDescr.\n  def GetDecode(self): return _FactorGraph.CFactorGraph_GetDecode(self)\n"
     ]
    },
    {
     "name": "stderr",
     "output_type": "stream",
     "text": [
      "FactorBP/FactorGraph.py:399: DeprecationWarning: PyArray_FromDims: use PyArray_SimpleNew.\n  def GetDecode(self): return _FactorGraph.CFactorGraph_GetDecode(self)\nFactorBP/FactorGraph.py:399: DeprecationWarning: PyArray_FromDimsAndDataAndDescr: use PyArray_NewFromDescr.\n  def GetDecode(self): return _FactorGraph.CFactorGraph_GetDecode(self)\nFactorBP/FactorGraph.py:399: DeprecationWarning: PyArray_FromDims: use PyArray_SimpleNew.\n  def GetDecode(self): return _FactorGraph.CFactorGraph_GetDecode(self)\nFactorBP/FactorGraph.py:399: DeprecationWarning: PyArray_FromDimsAndDataAndDescr: use PyArray_NewFromDescr.\n  def GetDecode(self): return _FactorGraph.CFactorGraph_GetDecode(self)\n"
     ]
    },
    {
     "name": "stderr",
     "output_type": "stream",
     "text": [
      "FactorBP/FactorGraph.py:399: DeprecationWarning: PyArray_FromDims: use PyArray_SimpleNew.\n  def GetDecode(self): return _FactorGraph.CFactorGraph_GetDecode(self)\nFactorBP/FactorGraph.py:399: DeprecationWarning: PyArray_FromDimsAndDataAndDescr: use PyArray_NewFromDescr.\n  def GetDecode(self): return _FactorGraph.CFactorGraph_GetDecode(self)\nFactorBP/FactorGraph.py:399: DeprecationWarning: PyArray_FromDims: use PyArray_SimpleNew.\n  def GetDecode(self): return _FactorGraph.CFactorGraph_GetDecode(self)\nFactorBP/FactorGraph.py:399: DeprecationWarning: PyArray_FromDimsAndDataAndDescr: use PyArray_NewFromDescr.\n  def GetDecode(self): return _FactorGraph.CFactorGraph_GetDecode(self)\n"
     ]
    },
    {
     "name": "stderr",
     "output_type": "stream",
     "text": [
      "FactorBP/FactorGraph.py:399: DeprecationWarning: PyArray_FromDims: use PyArray_SimpleNew.\n  def GetDecode(self): return _FactorGraph.CFactorGraph_GetDecode(self)\nFactorBP/FactorGraph.py:399: DeprecationWarning: PyArray_FromDimsAndDataAndDescr: use PyArray_NewFromDescr.\n  def GetDecode(self): return _FactorGraph.CFactorGraph_GetDecode(self)\nFactorBP/FactorGraph.py:399: DeprecationWarning: PyArray_FromDims: use PyArray_SimpleNew.\n  def GetDecode(self): return _FactorGraph.CFactorGraph_GetDecode(self)\nFactorBP/FactorGraph.py:399: DeprecationWarning: PyArray_FromDimsAndDataAndDescr: use PyArray_NewFromDescr.\n  def GetDecode(self): return _FactorGraph.CFactorGraph_GetDecode(self)\n"
     ]
    },
    {
     "name": "stderr",
     "output_type": "stream",
     "text": [
      "FactorBP/FactorGraph.py:399: DeprecationWarning: PyArray_FromDims: use PyArray_SimpleNew.\n  def GetDecode(self): return _FactorGraph.CFactorGraph_GetDecode(self)\nFactorBP/FactorGraph.py:399: DeprecationWarning: PyArray_FromDimsAndDataAndDescr: use PyArray_NewFromDescr.\n  def GetDecode(self): return _FactorGraph.CFactorGraph_GetDecode(self)\nFactorBP/FactorGraph.py:399: DeprecationWarning: PyArray_FromDims: use PyArray_SimpleNew.\n  def GetDecode(self): return _FactorGraph.CFactorGraph_GetDecode(self)\nFactorBP/FactorGraph.py:399: DeprecationWarning: PyArray_FromDimsAndDataAndDescr: use PyArray_NewFromDescr.\n  def GetDecode(self): return _FactorGraph.CFactorGraph_GetDecode(self)\n"
     ]
    },
    {
     "name": "stderr",
     "output_type": "stream",
     "text": [
      "FactorBP/FactorGraph.py:399: DeprecationWarning: PyArray_FromDims: use PyArray_SimpleNew.\n  def GetDecode(self): return _FactorGraph.CFactorGraph_GetDecode(self)\nFactorBP/FactorGraph.py:399: DeprecationWarning: PyArray_FromDimsAndDataAndDescr: use PyArray_NewFromDescr.\n  def GetDecode(self): return _FactorGraph.CFactorGraph_GetDecode(self)\nFactorBP/FactorGraph.py:399: DeprecationWarning: PyArray_FromDims: use PyArray_SimpleNew.\n  def GetDecode(self): return _FactorGraph.CFactorGraph_GetDecode(self)\nFactorBP/FactorGraph.py:399: DeprecationWarning: PyArray_FromDimsAndDataAndDescr: use PyArray_NewFromDescr.\n  def GetDecode(self): return _FactorGraph.CFactorGraph_GetDecode(self)\n"
     ]
    },
    {
     "name": "stderr",
     "output_type": "stream",
     "text": [
      "FactorBP/FactorGraph.py:399: DeprecationWarning: PyArray_FromDims: use PyArray_SimpleNew.\n  def GetDecode(self): return _FactorGraph.CFactorGraph_GetDecode(self)\nFactorBP/FactorGraph.py:399: DeprecationWarning: PyArray_FromDimsAndDataAndDescr: use PyArray_NewFromDescr.\n  def GetDecode(self): return _FactorGraph.CFactorGraph_GetDecode(self)\nFactorBP/FactorGraph.py:399: DeprecationWarning: PyArray_FromDims: use PyArray_SimpleNew.\n  def GetDecode(self): return _FactorGraph.CFactorGraph_GetDecode(self)\nFactorBP/FactorGraph.py:399: DeprecationWarning: PyArray_FromDimsAndDataAndDescr: use PyArray_NewFromDescr.\n  def GetDecode(self): return _FactorGraph.CFactorGraph_GetDecode(self)\n"
     ]
    },
    {
     "name": "stderr",
     "output_type": "stream",
     "text": [
      "FactorBP/FactorGraph.py:399: DeprecationWarning: PyArray_FromDims: use PyArray_SimpleNew.\n  def GetDecode(self): return _FactorGraph.CFactorGraph_GetDecode(self)\nFactorBP/FactorGraph.py:399: DeprecationWarning: PyArray_FromDimsAndDataAndDescr: use PyArray_NewFromDescr.\n  def GetDecode(self): return _FactorGraph.CFactorGraph_GetDecode(self)\nFactorBP/FactorGraph.py:399: DeprecationWarning: PyArray_FromDims: use PyArray_SimpleNew.\n  def GetDecode(self): return _FactorGraph.CFactorGraph_GetDecode(self)\nFactorBP/FactorGraph.py:399: DeprecationWarning: PyArray_FromDimsAndDataAndDescr: use PyArray_NewFromDescr.\n  def GetDecode(self): return _FactorGraph.CFactorGraph_GetDecode(self)\nFactorBP/FactorGraph.py:399: DeprecationWarning: PyArray_FromDims: use PyArray_SimpleNew.\n  def GetDecode(self): return _FactorGraph.CFactorGraph_GetDecode(self)\nFactorBP/FactorGraph.py:399: DeprecationWarning: PyArray_FromDimsAndDataAndDescr: use PyArray_NewFromDescr.\n  def GetDecode(self): return _FactorGraph.CFactorGraph_GetDecode(self)\n"
     ]
    },
    {
     "name": "stderr",
     "output_type": "stream",
     "text": [
      "FactorBP/FactorGraph.py:399: DeprecationWarning: PyArray_FromDims: use PyArray_SimpleNew.\n  def GetDecode(self): return _FactorGraph.CFactorGraph_GetDecode(self)\nFactorBP/FactorGraph.py:399: DeprecationWarning: PyArray_FromDimsAndDataAndDescr: use PyArray_NewFromDescr.\n  def GetDecode(self): return _FactorGraph.CFactorGraph_GetDecode(self)\nFactorBP/FactorGraph.py:399: DeprecationWarning: PyArray_FromDims: use PyArray_SimpleNew.\n  def GetDecode(self): return _FactorGraph.CFactorGraph_GetDecode(self)\nFactorBP/FactorGraph.py:399: DeprecationWarning: PyArray_FromDimsAndDataAndDescr: use PyArray_NewFromDescr.\n  def GetDecode(self): return _FactorGraph.CFactorGraph_GetDecode(self)\n"
     ]
    },
    {
     "name": "stderr",
     "output_type": "stream",
     "text": [
      "FactorBP/FactorGraph.py:399: DeprecationWarning: PyArray_FromDims: use PyArray_SimpleNew.\n  def GetDecode(self): return _FactorGraph.CFactorGraph_GetDecode(self)\nFactorBP/FactorGraph.py:399: DeprecationWarning: PyArray_FromDimsAndDataAndDescr: use PyArray_NewFromDescr.\n  def GetDecode(self): return _FactorGraph.CFactorGraph_GetDecode(self)\nFactorBP/FactorGraph.py:399: DeprecationWarning: PyArray_FromDims: use PyArray_SimpleNew.\n  def GetDecode(self): return _FactorGraph.CFactorGraph_GetDecode(self)\nFactorBP/FactorGraph.py:399: DeprecationWarning: PyArray_FromDimsAndDataAndDescr: use PyArray_NewFromDescr.\n  def GetDecode(self): return _FactorGraph.CFactorGraph_GetDecode(self)\nFactorBP/FactorGraph.py:399: DeprecationWarning: PyArray_FromDims: use PyArray_SimpleNew.\n  def GetDecode(self): return _FactorGraph.CFactorGraph_GetDecode(self)\nFactorBP/FactorGraph.py:399: DeprecationWarning: PyArray_FromDimsAndDataAndDescr: use PyArray_NewFromDescr.\n  def GetDecode(self): return _FactorGraph.CFactorGraph_GetDecode(self)\n"
     ]
    },
    {
     "name": "stderr",
     "output_type": "stream",
     "text": [
      "FactorBP/FactorGraph.py:399: DeprecationWarning: PyArray_FromDims: use PyArray_SimpleNew.\n  def GetDecode(self): return _FactorGraph.CFactorGraph_GetDecode(self)\nFactorBP/FactorGraph.py:399: DeprecationWarning: PyArray_FromDimsAndDataAndDescr: use PyArray_NewFromDescr.\n  def GetDecode(self): return _FactorGraph.CFactorGraph_GetDecode(self)\nFactorBP/FactorGraph.py:399: DeprecationWarning: PyArray_FromDims: use PyArray_SimpleNew.\n  def GetDecode(self): return _FactorGraph.CFactorGraph_GetDecode(self)\nFactorBP/FactorGraph.py:399: DeprecationWarning: PyArray_FromDimsAndDataAndDescr: use PyArray_NewFromDescr.\n  def GetDecode(self): return _FactorGraph.CFactorGraph_GetDecode(self)\n"
     ]
    },
    {
     "name": "stderr",
     "output_type": "stream",
     "text": [
      "FactorBP/FactorGraph.py:399: DeprecationWarning: PyArray_FromDims: use PyArray_SimpleNew.\n  def GetDecode(self): return _FactorGraph.CFactorGraph_GetDecode(self)\nFactorBP/FactorGraph.py:399: DeprecationWarning: PyArray_FromDimsAndDataAndDescr: use PyArray_NewFromDescr.\n  def GetDecode(self): return _FactorGraph.CFactorGraph_GetDecode(self)\nFactorBP/FactorGraph.py:399: DeprecationWarning: PyArray_FromDims: use PyArray_SimpleNew.\n  def GetDecode(self): return _FactorGraph.CFactorGraph_GetDecode(self)\nFactorBP/FactorGraph.py:399: DeprecationWarning: PyArray_FromDimsAndDataAndDescr: use PyArray_NewFromDescr.\n  def GetDecode(self): return _FactorGraph.CFactorGraph_GetDecode(self)\n"
     ]
    },
    {
     "name": "stderr",
     "output_type": "stream",
     "text": [
      "FactorBP/FactorGraph.py:399: DeprecationWarning: PyArray_FromDims: use PyArray_SimpleNew.\n  def GetDecode(self): return _FactorGraph.CFactorGraph_GetDecode(self)\nFactorBP/FactorGraph.py:399: DeprecationWarning: PyArray_FromDimsAndDataAndDescr: use PyArray_NewFromDescr.\n  def GetDecode(self): return _FactorGraph.CFactorGraph_GetDecode(self)\nFactorBP/FactorGraph.py:399: DeprecationWarning: PyArray_FromDims: use PyArray_SimpleNew.\n  def GetDecode(self): return _FactorGraph.CFactorGraph_GetDecode(self)\nFactorBP/FactorGraph.py:399: DeprecationWarning: PyArray_FromDimsAndDataAndDescr: use PyArray_NewFromDescr.\n  def GetDecode(self): return _FactorGraph.CFactorGraph_GetDecode(self)\n"
     ]
    },
    {
     "name": "stderr",
     "output_type": "stream",
     "text": [
      "FactorBP/FactorGraph.py:399: DeprecationWarning: PyArray_FromDims: use PyArray_SimpleNew.\n  def GetDecode(self): return _FactorGraph.CFactorGraph_GetDecode(self)\nFactorBP/FactorGraph.py:399: DeprecationWarning: PyArray_FromDimsAndDataAndDescr: use PyArray_NewFromDescr.\n  def GetDecode(self): return _FactorGraph.CFactorGraph_GetDecode(self)\nFactorBP/FactorGraph.py:399: DeprecationWarning: PyArray_FromDims: use PyArray_SimpleNew.\n  def GetDecode(self): return _FactorGraph.CFactorGraph_GetDecode(self)\nFactorBP/FactorGraph.py:399: DeprecationWarning: PyArray_FromDimsAndDataAndDescr: use PyArray_NewFromDescr.\n  def GetDecode(self): return _FactorGraph.CFactorGraph_GetDecode(self)\n"
     ]
    },
    {
     "name": "stderr",
     "output_type": "stream",
     "text": [
      "FactorBP/FactorGraph.py:399: DeprecationWarning: PyArray_FromDims: use PyArray_SimpleNew.\n  def GetDecode(self): return _FactorGraph.CFactorGraph_GetDecode(self)\nFactorBP/FactorGraph.py:399: DeprecationWarning: PyArray_FromDimsAndDataAndDescr: use PyArray_NewFromDescr.\n  def GetDecode(self): return _FactorGraph.CFactorGraph_GetDecode(self)\nFactorBP/FactorGraph.py:399: DeprecationWarning: PyArray_FromDims: use PyArray_SimpleNew.\n  def GetDecode(self): return _FactorGraph.CFactorGraph_GetDecode(self)\nFactorBP/FactorGraph.py:399: DeprecationWarning: PyArray_FromDimsAndDataAndDescr: use PyArray_NewFromDescr.\n  def GetDecode(self): return _FactorGraph.CFactorGraph_GetDecode(self)\n"
     ]
    },
    {
     "name": "stderr",
     "output_type": "stream",
     "text": [
      "FactorBP/FactorGraph.py:399: DeprecationWarning: PyArray_FromDims: use PyArray_SimpleNew.\n  def GetDecode(self): return _FactorGraph.CFactorGraph_GetDecode(self)\nFactorBP/FactorGraph.py:399: DeprecationWarning: PyArray_FromDimsAndDataAndDescr: use PyArray_NewFromDescr.\n  def GetDecode(self): return _FactorGraph.CFactorGraph_GetDecode(self)\nFactorBP/FactorGraph.py:399: DeprecationWarning: PyArray_FromDims: use PyArray_SimpleNew.\n  def GetDecode(self): return _FactorGraph.CFactorGraph_GetDecode(self)\nFactorBP/FactorGraph.py:399: DeprecationWarning: PyArray_FromDimsAndDataAndDescr: use PyArray_NewFromDescr.\n  def GetDecode(self): return _FactorGraph.CFactorGraph_GetDecode(self)\n"
     ]
    },
    {
     "name": "stderr",
     "output_type": "stream",
     "text": [
      "FactorBP/FactorGraph.py:399: DeprecationWarning: PyArray_FromDims: use PyArray_SimpleNew.\n  def GetDecode(self): return _FactorGraph.CFactorGraph_GetDecode(self)\nFactorBP/FactorGraph.py:399: DeprecationWarning: PyArray_FromDimsAndDataAndDescr: use PyArray_NewFromDescr.\n  def GetDecode(self): return _FactorGraph.CFactorGraph_GetDecode(self)\nFactorBP/FactorGraph.py:399: DeprecationWarning: PyArray_FromDims: use PyArray_SimpleNew.\n  def GetDecode(self): return _FactorGraph.CFactorGraph_GetDecode(self)\nFactorBP/FactorGraph.py:399: DeprecationWarning: PyArray_FromDimsAndDataAndDescr: use PyArray_NewFromDescr.\n  def GetDecode(self): return _FactorGraph.CFactorGraph_GetDecode(self)\n"
     ]
    },
    {
     "name": "stderr",
     "output_type": "stream",
     "text": [
      "FactorBP/FactorGraph.py:399: DeprecationWarning: PyArray_FromDims: use PyArray_SimpleNew.\n  def GetDecode(self): return _FactorGraph.CFactorGraph_GetDecode(self)\nFactorBP/FactorGraph.py:399: DeprecationWarning: PyArray_FromDimsAndDataAndDescr: use PyArray_NewFromDescr.\n  def GetDecode(self): return _FactorGraph.CFactorGraph_GetDecode(self)\nFactorBP/FactorGraph.py:399: DeprecationWarning: PyArray_FromDims: use PyArray_SimpleNew.\n  def GetDecode(self): return _FactorGraph.CFactorGraph_GetDecode(self)\nFactorBP/FactorGraph.py:399: DeprecationWarning: PyArray_FromDimsAndDataAndDescr: use PyArray_NewFromDescr.\n  def GetDecode(self): return _FactorGraph.CFactorGraph_GetDecode(self)\n"
     ]
    },
    {
     "name": "stderr",
     "output_type": "stream",
     "text": [
      "FactorBP/FactorGraph.py:399: DeprecationWarning: PyArray_FromDims: use PyArray_SimpleNew.\n  def GetDecode(self): return _FactorGraph.CFactorGraph_GetDecode(self)\nFactorBP/FactorGraph.py:399: DeprecationWarning: PyArray_FromDimsAndDataAndDescr: use PyArray_NewFromDescr.\n  def GetDecode(self): return _FactorGraph.CFactorGraph_GetDecode(self)\nFactorBP/FactorGraph.py:399: DeprecationWarning: PyArray_FromDims: use PyArray_SimpleNew.\n  def GetDecode(self): return _FactorGraph.CFactorGraph_GetDecode(self)\nFactorBP/FactorGraph.py:399: DeprecationWarning: PyArray_FromDimsAndDataAndDescr: use PyArray_NewFromDescr.\n  def GetDecode(self): return _FactorGraph.CFactorGraph_GetDecode(self)\n"
     ]
    },
    {
     "name": "stderr",
     "output_type": "stream",
     "text": [
      "FactorBP/FactorGraph.py:399: DeprecationWarning: PyArray_FromDims: use PyArray_SimpleNew.\n  def GetDecode(self): return _FactorGraph.CFactorGraph_GetDecode(self)\nFactorBP/FactorGraph.py:399: DeprecationWarning: PyArray_FromDimsAndDataAndDescr: use PyArray_NewFromDescr.\n  def GetDecode(self): return _FactorGraph.CFactorGraph_GetDecode(self)\nFactorBP/FactorGraph.py:399: DeprecationWarning: PyArray_FromDims: use PyArray_SimpleNew.\n  def GetDecode(self): return _FactorGraph.CFactorGraph_GetDecode(self)\nFactorBP/FactorGraph.py:399: DeprecationWarning: PyArray_FromDimsAndDataAndDescr: use PyArray_NewFromDescr.\n  def GetDecode(self): return _FactorGraph.CFactorGraph_GetDecode(self)\n"
     ]
    },
    {
     "name": "stderr",
     "output_type": "stream",
     "text": [
      "FactorBP/FactorGraph.py:399: DeprecationWarning: PyArray_FromDims: use PyArray_SimpleNew.\n  def GetDecode(self): return _FactorGraph.CFactorGraph_GetDecode(self)\nFactorBP/FactorGraph.py:399: DeprecationWarning: PyArray_FromDimsAndDataAndDescr: use PyArray_NewFromDescr.\n  def GetDecode(self): return _FactorGraph.CFactorGraph_GetDecode(self)\nFactorBP/FactorGraph.py:399: DeprecationWarning: PyArray_FromDims: use PyArray_SimpleNew.\n  def GetDecode(self): return _FactorGraph.CFactorGraph_GetDecode(self)\nFactorBP/FactorGraph.py:399: DeprecationWarning: PyArray_FromDimsAndDataAndDescr: use PyArray_NewFromDescr.\n  def GetDecode(self): return _FactorGraph.CFactorGraph_GetDecode(self)\n"
     ]
    },
    {
     "name": "stderr",
     "output_type": "stream",
     "text": [
      "FactorBP/FactorGraph.py:399: DeprecationWarning: PyArray_FromDims: use PyArray_SimpleNew.\n  def GetDecode(self): return _FactorGraph.CFactorGraph_GetDecode(self)\nFactorBP/FactorGraph.py:399: DeprecationWarning: PyArray_FromDimsAndDataAndDescr: use PyArray_NewFromDescr.\n  def GetDecode(self): return _FactorGraph.CFactorGraph_GetDecode(self)\nFactorBP/FactorGraph.py:399: DeprecationWarning: PyArray_FromDims: use PyArray_SimpleNew.\n  def GetDecode(self): return _FactorGraph.CFactorGraph_GetDecode(self)\nFactorBP/FactorGraph.py:399: DeprecationWarning: PyArray_FromDimsAndDataAndDescr: use PyArray_NewFromDescr.\n  def GetDecode(self): return _FactorGraph.CFactorGraph_GetDecode(self)\n"
     ]
    },
    {
     "name": "stderr",
     "output_type": "stream",
     "text": [
      "FactorBP/FactorGraph.py:399: DeprecationWarning: PyArray_FromDims: use PyArray_SimpleNew.\n  def GetDecode(self): return _FactorGraph.CFactorGraph_GetDecode(self)\nFactorBP/FactorGraph.py:399: DeprecationWarning: PyArray_FromDimsAndDataAndDescr: use PyArray_NewFromDescr.\n  def GetDecode(self): return _FactorGraph.CFactorGraph_GetDecode(self)\nFactorBP/FactorGraph.py:399: DeprecationWarning: PyArray_FromDims: use PyArray_SimpleNew.\n  def GetDecode(self): return _FactorGraph.CFactorGraph_GetDecode(self)\nFactorBP/FactorGraph.py:399: DeprecationWarning: PyArray_FromDimsAndDataAndDescr: use PyArray_NewFromDescr.\n  def GetDecode(self): return _FactorGraph.CFactorGraph_GetDecode(self)\n"
     ]
    },
    {
     "name": "stderr",
     "output_type": "stream",
     "text": [
      "FactorBP/FactorGraph.py:399: DeprecationWarning: PyArray_FromDims: use PyArray_SimpleNew.\n  def GetDecode(self): return _FactorGraph.CFactorGraph_GetDecode(self)\nFactorBP/FactorGraph.py:399: DeprecationWarning: PyArray_FromDimsAndDataAndDescr: use PyArray_NewFromDescr.\n  def GetDecode(self): return _FactorGraph.CFactorGraph_GetDecode(self)\nFactorBP/FactorGraph.py:399: DeprecationWarning: PyArray_FromDims: use PyArray_SimpleNew.\n  def GetDecode(self): return _FactorGraph.CFactorGraph_GetDecode(self)\nFactorBP/FactorGraph.py:399: DeprecationWarning: PyArray_FromDimsAndDataAndDescr: use PyArray_NewFromDescr.\n  def GetDecode(self): return _FactorGraph.CFactorGraph_GetDecode(self)\n"
     ]
    },
    {
     "name": "stderr",
     "output_type": "stream",
     "text": [
      "FactorBP/FactorGraph.py:399: DeprecationWarning: PyArray_FromDims: use PyArray_SimpleNew.\n  def GetDecode(self): return _FactorGraph.CFactorGraph_GetDecode(self)\nFactorBP/FactorGraph.py:399: DeprecationWarning: PyArray_FromDimsAndDataAndDescr: use PyArray_NewFromDescr.\n  def GetDecode(self): return _FactorGraph.CFactorGraph_GetDecode(self)\nFactorBP/FactorGraph.py:399: DeprecationWarning: PyArray_FromDims: use PyArray_SimpleNew.\n  def GetDecode(self): return _FactorGraph.CFactorGraph_GetDecode(self)\nFactorBP/FactorGraph.py:399: DeprecationWarning: PyArray_FromDimsAndDataAndDescr: use PyArray_NewFromDescr.\n  def GetDecode(self): return _FactorGraph.CFactorGraph_GetDecode(self)\n"
     ]
    },
    {
     "name": "stderr",
     "output_type": "stream",
     "text": [
      "FactorBP/FactorGraph.py:399: DeprecationWarning: PyArray_FromDims: use PyArray_SimpleNew.\n  def GetDecode(self): return _FactorGraph.CFactorGraph_GetDecode(self)\nFactorBP/FactorGraph.py:399: DeprecationWarning: PyArray_FromDimsAndDataAndDescr: use PyArray_NewFromDescr.\n  def GetDecode(self): return _FactorGraph.CFactorGraph_GetDecode(self)\nFactorBP/FactorGraph.py:399: DeprecationWarning: PyArray_FromDims: use PyArray_SimpleNew.\n  def GetDecode(self): return _FactorGraph.CFactorGraph_GetDecode(self)\nFactorBP/FactorGraph.py:399: DeprecationWarning: PyArray_FromDimsAndDataAndDescr: use PyArray_NewFromDescr.\n  def GetDecode(self): return _FactorGraph.CFactorGraph_GetDecode(self)\n"
     ]
    },
    {
     "name": "stderr",
     "output_type": "stream",
     "text": [
      "FactorBP/FactorGraph.py:399: DeprecationWarning: PyArray_FromDims: use PyArray_SimpleNew.\n  def GetDecode(self): return _FactorGraph.CFactorGraph_GetDecode(self)\nFactorBP/FactorGraph.py:399: DeprecationWarning: PyArray_FromDimsAndDataAndDescr: use PyArray_NewFromDescr.\n  def GetDecode(self): return _FactorGraph.CFactorGraph_GetDecode(self)\nFactorBP/FactorGraph.py:399: DeprecationWarning: PyArray_FromDims: use PyArray_SimpleNew.\n  def GetDecode(self): return _FactorGraph.CFactorGraph_GetDecode(self)\nFactorBP/FactorGraph.py:399: DeprecationWarning: PyArray_FromDimsAndDataAndDescr: use PyArray_NewFromDescr.\n  def GetDecode(self): return _FactorGraph.CFactorGraph_GetDecode(self)\n"
     ]
    },
    {
     "name": "stderr",
     "output_type": "stream",
     "text": [
      "FactorBP/FactorGraph.py:399: DeprecationWarning: PyArray_FromDims: use PyArray_SimpleNew.\n  def GetDecode(self): return _FactorGraph.CFactorGraph_GetDecode(self)\nFactorBP/FactorGraph.py:399: DeprecationWarning: PyArray_FromDimsAndDataAndDescr: use PyArray_NewFromDescr.\n  def GetDecode(self): return _FactorGraph.CFactorGraph_GetDecode(self)\nFactorBP/FactorGraph.py:399: DeprecationWarning: PyArray_FromDims: use PyArray_SimpleNew.\n  def GetDecode(self): return _FactorGraph.CFactorGraph_GetDecode(self)\nFactorBP/FactorGraph.py:399: DeprecationWarning: PyArray_FromDimsAndDataAndDescr: use PyArray_NewFromDescr.\n  def GetDecode(self): return _FactorGraph.CFactorGraph_GetDecode(self)\n"
     ]
    },
    {
     "name": "stderr",
     "output_type": "stream",
     "text": [
      "FactorBP/FactorGraph.py:399: DeprecationWarning: PyArray_FromDims: use PyArray_SimpleNew.\n  def GetDecode(self): return _FactorGraph.CFactorGraph_GetDecode(self)\nFactorBP/FactorGraph.py:399: DeprecationWarning: PyArray_FromDimsAndDataAndDescr: use PyArray_NewFromDescr.\n  def GetDecode(self): return _FactorGraph.CFactorGraph_GetDecode(self)\nFactorBP/FactorGraph.py:399: DeprecationWarning: PyArray_FromDims: use PyArray_SimpleNew.\n  def GetDecode(self): return _FactorGraph.CFactorGraph_GetDecode(self)\nFactorBP/FactorGraph.py:399: DeprecationWarning: PyArray_FromDimsAndDataAndDescr: use PyArray_NewFromDescr.\n  def GetDecode(self): return _FactorGraph.CFactorGraph_GetDecode(self)\n"
     ]
    },
    {
     "name": "stderr",
     "output_type": "stream",
     "text": [
      "FactorBP/FactorGraph.py:399: DeprecationWarning: PyArray_FromDims: use PyArray_SimpleNew.\n  def GetDecode(self): return _FactorGraph.CFactorGraph_GetDecode(self)\nFactorBP/FactorGraph.py:399: DeprecationWarning: PyArray_FromDimsAndDataAndDescr: use PyArray_NewFromDescr.\n  def GetDecode(self): return _FactorGraph.CFactorGraph_GetDecode(self)\nFactorBP/FactorGraph.py:399: DeprecationWarning: PyArray_FromDims: use PyArray_SimpleNew.\n  def GetDecode(self): return _FactorGraph.CFactorGraph_GetDecode(self)\nFactorBP/FactorGraph.py:399: DeprecationWarning: PyArray_FromDimsAndDataAndDescr: use PyArray_NewFromDescr.\n  def GetDecode(self): return _FactorGraph.CFactorGraph_GetDecode(self)\n"
     ]
    },
    {
     "name": "stdout",
     "output_type": "stream",
     "text": [
      "Ours Accuracy 1.000000 Running Time 0.130577 Obj 1.000000\nOurs-PW Accuracy 1.000000 Running Time 0.063400 Obj 0.908791\nOurs-BCA Accuracy 1.000000 Running Time 0.159561 Obj 1.000000\nBCA Accuracy 0.994536 Running Time 0.021744 Obj 0.995813\nBCA-MP Accuracy 1.000000 Running Time 0.125771 Obj 1.000000\nBCA-IPFP Accuracy 1.000000 Running Time 0.089189 Obj 1.000000\nHGM Accuracy 0.531694 Running Time 0.004416 Obj 0.497991\nRRWHM Accuracy 1.000000 Running Time 0.058012 Obj 1.000000\nTM Accuracy 0.542623 Running Time 0.078736 Obj 0.629331\n××××××××××××××××××××\n Start baseline: 60\n"
     ]
    },
    {
     "name": "stderr",
     "output_type": "stream",
     "text": [
      "FactorBP/FactorGraph.py:399: DeprecationWarning: PyArray_FromDims: use PyArray_SimpleNew.\n  def GetDecode(self): return _FactorGraph.CFactorGraph_GetDecode(self)\nFactorBP/FactorGraph.py:399: DeprecationWarning: PyArray_FromDimsAndDataAndDescr: use PyArray_NewFromDescr.\n  def GetDecode(self): return _FactorGraph.CFactorGraph_GetDecode(self)\nFactorBP/FactorGraph.py:399: DeprecationWarning: PyArray_FromDims: use PyArray_SimpleNew.\n  def GetDecode(self): return _FactorGraph.CFactorGraph_GetDecode(self)\nFactorBP/FactorGraph.py:399: DeprecationWarning: PyArray_FromDimsAndDataAndDescr: use PyArray_NewFromDescr.\n  def GetDecode(self): return _FactorGraph.CFactorGraph_GetDecode(self)\n"
     ]
    },
    {
     "name": "stderr",
     "output_type": "stream",
     "text": [
      "FactorBP/FactorGraph.py:399: DeprecationWarning: PyArray_FromDims: use PyArray_SimpleNew.\n  def GetDecode(self): return _FactorGraph.CFactorGraph_GetDecode(self)\nFactorBP/FactorGraph.py:399: DeprecationWarning: PyArray_FromDimsAndDataAndDescr: use PyArray_NewFromDescr.\n  def GetDecode(self): return _FactorGraph.CFactorGraph_GetDecode(self)\nFactorBP/FactorGraph.py:399: DeprecationWarning: PyArray_FromDims: use PyArray_SimpleNew.\n  def GetDecode(self): return _FactorGraph.CFactorGraph_GetDecode(self)\nFactorBP/FactorGraph.py:399: DeprecationWarning: PyArray_FromDimsAndDataAndDescr: use PyArray_NewFromDescr.\n  def GetDecode(self): return _FactorGraph.CFactorGraph_GetDecode(self)\n"
     ]
    },
    {
     "name": "stderr",
     "output_type": "stream",
     "text": [
      "FactorBP/FactorGraph.py:399: DeprecationWarning: PyArray_FromDims: use PyArray_SimpleNew.\n  def GetDecode(self): return _FactorGraph.CFactorGraph_GetDecode(self)\nFactorBP/FactorGraph.py:399: DeprecationWarning: PyArray_FromDimsAndDataAndDescr: use PyArray_NewFromDescr.\n  def GetDecode(self): return _FactorGraph.CFactorGraph_GetDecode(self)\nFactorBP/FactorGraph.py:399: DeprecationWarning: PyArray_FromDims: use PyArray_SimpleNew.\n  def GetDecode(self): return _FactorGraph.CFactorGraph_GetDecode(self)\nFactorBP/FactorGraph.py:399: DeprecationWarning: PyArray_FromDimsAndDataAndDescr: use PyArray_NewFromDescr.\n  def GetDecode(self): return _FactorGraph.CFactorGraph_GetDecode(self)\n"
     ]
    },
    {
     "name": "stderr",
     "output_type": "stream",
     "text": [
      "FactorBP/FactorGraph.py:399: DeprecationWarning: PyArray_FromDims: use PyArray_SimpleNew.\n  def GetDecode(self): return _FactorGraph.CFactorGraph_GetDecode(self)\nFactorBP/FactorGraph.py:399: DeprecationWarning: PyArray_FromDimsAndDataAndDescr: use PyArray_NewFromDescr.\n  def GetDecode(self): return _FactorGraph.CFactorGraph_GetDecode(self)\nFactorBP/FactorGraph.py:399: DeprecationWarning: PyArray_FromDims: use PyArray_SimpleNew.\n  def GetDecode(self): return _FactorGraph.CFactorGraph_GetDecode(self)\nFactorBP/FactorGraph.py:399: DeprecationWarning: PyArray_FromDimsAndDataAndDescr: use PyArray_NewFromDescr.\n  def GetDecode(self): return _FactorGraph.CFactorGraph_GetDecode(self)\n"
     ]
    },
    {
     "name": "stderr",
     "output_type": "stream",
     "text": [
      "FactorBP/FactorGraph.py:399: DeprecationWarning: PyArray_FromDims: use PyArray_SimpleNew.\n  def GetDecode(self): return _FactorGraph.CFactorGraph_GetDecode(self)\nFactorBP/FactorGraph.py:399: DeprecationWarning: PyArray_FromDimsAndDataAndDescr: use PyArray_NewFromDescr.\n  def GetDecode(self): return _FactorGraph.CFactorGraph_GetDecode(self)\nFactorBP/FactorGraph.py:399: DeprecationWarning: PyArray_FromDims: use PyArray_SimpleNew.\n  def GetDecode(self): return _FactorGraph.CFactorGraph_GetDecode(self)\nFactorBP/FactorGraph.py:399: DeprecationWarning: PyArray_FromDimsAndDataAndDescr: use PyArray_NewFromDescr.\n  def GetDecode(self): return _FactorGraph.CFactorGraph_GetDecode(self)\n"
     ]
    },
    {
     "name": "stderr",
     "output_type": "stream",
     "text": [
      "FactorBP/FactorGraph.py:399: DeprecationWarning: PyArray_FromDims: use PyArray_SimpleNew.\n  def GetDecode(self): return _FactorGraph.CFactorGraph_GetDecode(self)\nFactorBP/FactorGraph.py:399: DeprecationWarning: PyArray_FromDimsAndDataAndDescr: use PyArray_NewFromDescr.\n  def GetDecode(self): return _FactorGraph.CFactorGraph_GetDecode(self)\nFactorBP/FactorGraph.py:399: DeprecationWarning: PyArray_FromDims: use PyArray_SimpleNew.\n  def GetDecode(self): return _FactorGraph.CFactorGraph_GetDecode(self)\nFactorBP/FactorGraph.py:399: DeprecationWarning: PyArray_FromDimsAndDataAndDescr: use PyArray_NewFromDescr.\n  def GetDecode(self): return _FactorGraph.CFactorGraph_GetDecode(self)\nFactorBP/FactorGraph.py:399: DeprecationWarning: PyArray_FromDims: use PyArray_SimpleNew.\n  def GetDecode(self): return _FactorGraph.CFactorGraph_GetDecode(self)\nFactorBP/FactorGraph.py:399: DeprecationWarning: PyArray_FromDimsAndDataAndDescr: use PyArray_NewFromDescr.\n  def GetDecode(self): return _FactorGraph.CFactorGraph_GetDecode(self)\n"
     ]
    },
    {
     "name": "stderr",
     "output_type": "stream",
     "text": [
      "FactorBP/FactorGraph.py:399: DeprecationWarning: PyArray_FromDims: use PyArray_SimpleNew.\n  def GetDecode(self): return _FactorGraph.CFactorGraph_GetDecode(self)\nFactorBP/FactorGraph.py:399: DeprecationWarning: PyArray_FromDimsAndDataAndDescr: use PyArray_NewFromDescr.\n  def GetDecode(self): return _FactorGraph.CFactorGraph_GetDecode(self)\nFactorBP/FactorGraph.py:399: DeprecationWarning: PyArray_FromDims: use PyArray_SimpleNew.\n  def GetDecode(self): return _FactorGraph.CFactorGraph_GetDecode(self)\nFactorBP/FactorGraph.py:399: DeprecationWarning: PyArray_FromDimsAndDataAndDescr: use PyArray_NewFromDescr.\n  def GetDecode(self): return _FactorGraph.CFactorGraph_GetDecode(self)\n"
     ]
    },
    {
     "name": "stderr",
     "output_type": "stream",
     "text": [
      "FactorBP/FactorGraph.py:399: DeprecationWarning: PyArray_FromDims: use PyArray_SimpleNew.\n  def GetDecode(self): return _FactorGraph.CFactorGraph_GetDecode(self)\nFactorBP/FactorGraph.py:399: DeprecationWarning: PyArray_FromDimsAndDataAndDescr: use PyArray_NewFromDescr.\n  def GetDecode(self): return _FactorGraph.CFactorGraph_GetDecode(self)\nFactorBP/FactorGraph.py:399: DeprecationWarning: PyArray_FromDims: use PyArray_SimpleNew.\n  def GetDecode(self): return _FactorGraph.CFactorGraph_GetDecode(self)\nFactorBP/FactorGraph.py:399: DeprecationWarning: PyArray_FromDimsAndDataAndDescr: use PyArray_NewFromDescr.\n  def GetDecode(self): return _FactorGraph.CFactorGraph_GetDecode(self)\n"
     ]
    },
    {
     "name": "stderr",
     "output_type": "stream",
     "text": [
      "FactorBP/FactorGraph.py:399: DeprecationWarning: PyArray_FromDims: use PyArray_SimpleNew.\n  def GetDecode(self): return _FactorGraph.CFactorGraph_GetDecode(self)\nFactorBP/FactorGraph.py:399: DeprecationWarning: PyArray_FromDimsAndDataAndDescr: use PyArray_NewFromDescr.\n  def GetDecode(self): return _FactorGraph.CFactorGraph_GetDecode(self)\nFactorBP/FactorGraph.py:399: DeprecationWarning: PyArray_FromDims: use PyArray_SimpleNew.\n  def GetDecode(self): return _FactorGraph.CFactorGraph_GetDecode(self)\nFactorBP/FactorGraph.py:399: DeprecationWarning: PyArray_FromDimsAndDataAndDescr: use PyArray_NewFromDescr.\n  def GetDecode(self): return _FactorGraph.CFactorGraph_GetDecode(self)\nFactorBP/FactorGraph.py:399: DeprecationWarning: PyArray_FromDims: use PyArray_SimpleNew.\n  def GetDecode(self): return _FactorGraph.CFactorGraph_GetDecode(self)\nFactorBP/FactorGraph.py:399: DeprecationWarning: PyArray_FromDimsAndDataAndDescr: use PyArray_NewFromDescr.\n  def GetDecode(self): return _FactorGraph.CFactorGraph_GetDecode(self)\n"
     ]
    },
    {
     "name": "stderr",
     "output_type": "stream",
     "text": [
      "FactorBP/FactorGraph.py:399: DeprecationWarning: PyArray_FromDims: use PyArray_SimpleNew.\n  def GetDecode(self): return _FactorGraph.CFactorGraph_GetDecode(self)\nFactorBP/FactorGraph.py:399: DeprecationWarning: PyArray_FromDimsAndDataAndDescr: use PyArray_NewFromDescr.\n  def GetDecode(self): return _FactorGraph.CFactorGraph_GetDecode(self)\n"
     ]
    },
    {
     "name": "stderr",
     "output_type": "stream",
     "text": [
      "FactorBP/FactorGraph.py:399: DeprecationWarning: PyArray_FromDims: use PyArray_SimpleNew.\n  def GetDecode(self): return _FactorGraph.CFactorGraph_GetDecode(self)\nFactorBP/FactorGraph.py:399: DeprecationWarning: PyArray_FromDimsAndDataAndDescr: use PyArray_NewFromDescr.\n  def GetDecode(self): return _FactorGraph.CFactorGraph_GetDecode(self)\n"
     ]
    },
    {
     "name": "stderr",
     "output_type": "stream",
     "text": [
      "FactorBP/FactorGraph.py:399: DeprecationWarning: PyArray_FromDims: use PyArray_SimpleNew.\n  def GetDecode(self): return _FactorGraph.CFactorGraph_GetDecode(self)\nFactorBP/FactorGraph.py:399: DeprecationWarning: PyArray_FromDimsAndDataAndDescr: use PyArray_NewFromDescr.\n  def GetDecode(self): return _FactorGraph.CFactorGraph_GetDecode(self)\nFactorBP/FactorGraph.py:399: DeprecationWarning: PyArray_FromDims: use PyArray_SimpleNew.\n  def GetDecode(self): return _FactorGraph.CFactorGraph_GetDecode(self)\nFactorBP/FactorGraph.py:399: DeprecationWarning: PyArray_FromDimsAndDataAndDescr: use PyArray_NewFromDescr.\n  def GetDecode(self): return _FactorGraph.CFactorGraph_GetDecode(self)\nFactorBP/FactorGraph.py:399: DeprecationWarning: PyArray_FromDims: use PyArray_SimpleNew.\n  def GetDecode(self): return _FactorGraph.CFactorGraph_GetDecode(self)\nFactorBP/FactorGraph.py:399: DeprecationWarning: PyArray_FromDimsAndDataAndDescr: use PyArray_NewFromDescr.\n  def GetDecode(self): return _FactorGraph.CFactorGraph_GetDecode(self)\n"
     ]
    },
    {
     "name": "stderr",
     "output_type": "stream",
     "text": [
      "FactorBP/FactorGraph.py:399: DeprecationWarning: PyArray_FromDims: use PyArray_SimpleNew.\n  def GetDecode(self): return _FactorGraph.CFactorGraph_GetDecode(self)\nFactorBP/FactorGraph.py:399: DeprecationWarning: PyArray_FromDimsAndDataAndDescr: use PyArray_NewFromDescr.\n  def GetDecode(self): return _FactorGraph.CFactorGraph_GetDecode(self)\nFactorBP/FactorGraph.py:399: DeprecationWarning: PyArray_FromDims: use PyArray_SimpleNew.\n  def GetDecode(self): return _FactorGraph.CFactorGraph_GetDecode(self)\nFactorBP/FactorGraph.py:399: DeprecationWarning: PyArray_FromDimsAndDataAndDescr: use PyArray_NewFromDescr.\n  def GetDecode(self): return _FactorGraph.CFactorGraph_GetDecode(self)\n"
     ]
    },
    {
     "name": "stderr",
     "output_type": "stream",
     "text": [
      "FactorBP/FactorGraph.py:399: DeprecationWarning: PyArray_FromDims: use PyArray_SimpleNew.\n  def GetDecode(self): return _FactorGraph.CFactorGraph_GetDecode(self)\nFactorBP/FactorGraph.py:399: DeprecationWarning: PyArray_FromDimsAndDataAndDescr: use PyArray_NewFromDescr.\n  def GetDecode(self): return _FactorGraph.CFactorGraph_GetDecode(self)\nFactorBP/FactorGraph.py:399: DeprecationWarning: PyArray_FromDims: use PyArray_SimpleNew.\n  def GetDecode(self): return _FactorGraph.CFactorGraph_GetDecode(self)\nFactorBP/FactorGraph.py:399: DeprecationWarning: PyArray_FromDimsAndDataAndDescr: use PyArray_NewFromDescr.\n  def GetDecode(self): return _FactorGraph.CFactorGraph_GetDecode(self)\n"
     ]
    },
    {
     "name": "stderr",
     "output_type": "stream",
     "text": [
      "FactorBP/FactorGraph.py:399: DeprecationWarning: PyArray_FromDims: use PyArray_SimpleNew.\n  def GetDecode(self): return _FactorGraph.CFactorGraph_GetDecode(self)\nFactorBP/FactorGraph.py:399: DeprecationWarning: PyArray_FromDimsAndDataAndDescr: use PyArray_NewFromDescr.\n  def GetDecode(self): return _FactorGraph.CFactorGraph_GetDecode(self)\nFactorBP/FactorGraph.py:399: DeprecationWarning: PyArray_FromDims: use PyArray_SimpleNew.\n  def GetDecode(self): return _FactorGraph.CFactorGraph_GetDecode(self)\nFactorBP/FactorGraph.py:399: DeprecationWarning: PyArray_FromDimsAndDataAndDescr: use PyArray_NewFromDescr.\n  def GetDecode(self): return _FactorGraph.CFactorGraph_GetDecode(self)\n"
     ]
    },
    {
     "name": "stderr",
     "output_type": "stream",
     "text": [
      "FactorBP/FactorGraph.py:399: DeprecationWarning: PyArray_FromDims: use PyArray_SimpleNew.\n  def GetDecode(self): return _FactorGraph.CFactorGraph_GetDecode(self)\nFactorBP/FactorGraph.py:399: DeprecationWarning: PyArray_FromDimsAndDataAndDescr: use PyArray_NewFromDescr.\n  def GetDecode(self): return _FactorGraph.CFactorGraph_GetDecode(self)\nFactorBP/FactorGraph.py:399: DeprecationWarning: PyArray_FromDims: use PyArray_SimpleNew.\n  def GetDecode(self): return _FactorGraph.CFactorGraph_GetDecode(self)\nFactorBP/FactorGraph.py:399: DeprecationWarning: PyArray_FromDimsAndDataAndDescr: use PyArray_NewFromDescr.\n  def GetDecode(self): return _FactorGraph.CFactorGraph_GetDecode(self)\n"
     ]
    },
    {
     "name": "stderr",
     "output_type": "stream",
     "text": [
      "FactorBP/FactorGraph.py:399: DeprecationWarning: PyArray_FromDims: use PyArray_SimpleNew.\n  def GetDecode(self): return _FactorGraph.CFactorGraph_GetDecode(self)\nFactorBP/FactorGraph.py:399: DeprecationWarning: PyArray_FromDimsAndDataAndDescr: use PyArray_NewFromDescr.\n  def GetDecode(self): return _FactorGraph.CFactorGraph_GetDecode(self)\nFactorBP/FactorGraph.py:399: DeprecationWarning: PyArray_FromDims: use PyArray_SimpleNew.\n  def GetDecode(self): return _FactorGraph.CFactorGraph_GetDecode(self)\nFactorBP/FactorGraph.py:399: DeprecationWarning: PyArray_FromDimsAndDataAndDescr: use PyArray_NewFromDescr.\n  def GetDecode(self): return _FactorGraph.CFactorGraph_GetDecode(self)\n"
     ]
    },
    {
     "name": "stderr",
     "output_type": "stream",
     "text": [
      "FactorBP/FactorGraph.py:399: DeprecationWarning: PyArray_FromDims: use PyArray_SimpleNew.\n  def GetDecode(self): return _FactorGraph.CFactorGraph_GetDecode(self)\nFactorBP/FactorGraph.py:399: DeprecationWarning: PyArray_FromDimsAndDataAndDescr: use PyArray_NewFromDescr.\n  def GetDecode(self): return _FactorGraph.CFactorGraph_GetDecode(self)\nFactorBP/FactorGraph.py:399: DeprecationWarning: PyArray_FromDims: use PyArray_SimpleNew.\n  def GetDecode(self): return _FactorGraph.CFactorGraph_GetDecode(self)\nFactorBP/FactorGraph.py:399: DeprecationWarning: PyArray_FromDimsAndDataAndDescr: use PyArray_NewFromDescr.\n  def GetDecode(self): return _FactorGraph.CFactorGraph_GetDecode(self)\n"
     ]
    },
    {
     "name": "stderr",
     "output_type": "stream",
     "text": [
      "FactorBP/FactorGraph.py:399: DeprecationWarning: PyArray_FromDims: use PyArray_SimpleNew.\n  def GetDecode(self): return _FactorGraph.CFactorGraph_GetDecode(self)\nFactorBP/FactorGraph.py:399: DeprecationWarning: PyArray_FromDimsAndDataAndDescr: use PyArray_NewFromDescr.\n  def GetDecode(self): return _FactorGraph.CFactorGraph_GetDecode(self)\nFactorBP/FactorGraph.py:399: DeprecationWarning: PyArray_FromDims: use PyArray_SimpleNew.\n  def GetDecode(self): return _FactorGraph.CFactorGraph_GetDecode(self)\nFactorBP/FactorGraph.py:399: DeprecationWarning: PyArray_FromDimsAndDataAndDescr: use PyArray_NewFromDescr.\n  def GetDecode(self): return _FactorGraph.CFactorGraph_GetDecode(self)\n"
     ]
    },
    {
     "name": "stderr",
     "output_type": "stream",
     "text": [
      "FactorBP/FactorGraph.py:399: DeprecationWarning: PyArray_FromDims: use PyArray_SimpleNew.\n  def GetDecode(self): return _FactorGraph.CFactorGraph_GetDecode(self)\nFactorBP/FactorGraph.py:399: DeprecationWarning: PyArray_FromDimsAndDataAndDescr: use PyArray_NewFromDescr.\n  def GetDecode(self): return _FactorGraph.CFactorGraph_GetDecode(self)\nFactorBP/FactorGraph.py:399: DeprecationWarning: PyArray_FromDims: use PyArray_SimpleNew.\n  def GetDecode(self): return _FactorGraph.CFactorGraph_GetDecode(self)\nFactorBP/FactorGraph.py:399: DeprecationWarning: PyArray_FromDimsAndDataAndDescr: use PyArray_NewFromDescr.\n  def GetDecode(self): return _FactorGraph.CFactorGraph_GetDecode(self)\n"
     ]
    },
    {
     "name": "stderr",
     "output_type": "stream",
     "text": [
      "FactorBP/FactorGraph.py:399: DeprecationWarning: PyArray_FromDims: use PyArray_SimpleNew.\n  def GetDecode(self): return _FactorGraph.CFactorGraph_GetDecode(self)\nFactorBP/FactorGraph.py:399: DeprecationWarning: PyArray_FromDimsAndDataAndDescr: use PyArray_NewFromDescr.\n  def GetDecode(self): return _FactorGraph.CFactorGraph_GetDecode(self)\nFactorBP/FactorGraph.py:399: DeprecationWarning: PyArray_FromDims: use PyArray_SimpleNew.\n  def GetDecode(self): return _FactorGraph.CFactorGraph_GetDecode(self)\nFactorBP/FactorGraph.py:399: DeprecationWarning: PyArray_FromDimsAndDataAndDescr: use PyArray_NewFromDescr.\n  def GetDecode(self): return _FactorGraph.CFactorGraph_GetDecode(self)\n"
     ]
    },
    {
     "name": "stderr",
     "output_type": "stream",
     "text": [
      "FactorBP/FactorGraph.py:399: DeprecationWarning: PyArray_FromDims: use PyArray_SimpleNew.\n  def GetDecode(self): return _FactorGraph.CFactorGraph_GetDecode(self)\nFactorBP/FactorGraph.py:399: DeprecationWarning: PyArray_FromDimsAndDataAndDescr: use PyArray_NewFromDescr.\n  def GetDecode(self): return _FactorGraph.CFactorGraph_GetDecode(self)\nFactorBP/FactorGraph.py:399: DeprecationWarning: PyArray_FromDims: use PyArray_SimpleNew.\n  def GetDecode(self): return _FactorGraph.CFactorGraph_GetDecode(self)\nFactorBP/FactorGraph.py:399: DeprecationWarning: PyArray_FromDimsAndDataAndDescr: use PyArray_NewFromDescr.\n  def GetDecode(self): return _FactorGraph.CFactorGraph_GetDecode(self)\n"
     ]
    },
    {
     "name": "stderr",
     "output_type": "stream",
     "text": [
      "FactorBP/FactorGraph.py:399: DeprecationWarning: PyArray_FromDims: use PyArray_SimpleNew.\n  def GetDecode(self): return _FactorGraph.CFactorGraph_GetDecode(self)\nFactorBP/FactorGraph.py:399: DeprecationWarning: PyArray_FromDimsAndDataAndDescr: use PyArray_NewFromDescr.\n  def GetDecode(self): return _FactorGraph.CFactorGraph_GetDecode(self)\nFactorBP/FactorGraph.py:399: DeprecationWarning: PyArray_FromDims: use PyArray_SimpleNew.\n  def GetDecode(self): return _FactorGraph.CFactorGraph_GetDecode(self)\nFactorBP/FactorGraph.py:399: DeprecationWarning: PyArray_FromDimsAndDataAndDescr: use PyArray_NewFromDescr.\n  def GetDecode(self): return _FactorGraph.CFactorGraph_GetDecode(self)\n"
     ]
    },
    {
     "name": "stderr",
     "output_type": "stream",
     "text": [
      "FactorBP/FactorGraph.py:399: DeprecationWarning: PyArray_FromDims: use PyArray_SimpleNew.\n  def GetDecode(self): return _FactorGraph.CFactorGraph_GetDecode(self)\nFactorBP/FactorGraph.py:399: DeprecationWarning: PyArray_FromDimsAndDataAndDescr: use PyArray_NewFromDescr.\n  def GetDecode(self): return _FactorGraph.CFactorGraph_GetDecode(self)\nFactorBP/FactorGraph.py:399: DeprecationWarning: PyArray_FromDims: use PyArray_SimpleNew.\n  def GetDecode(self): return _FactorGraph.CFactorGraph_GetDecode(self)\nFactorBP/FactorGraph.py:399: DeprecationWarning: PyArray_FromDimsAndDataAndDescr: use PyArray_NewFromDescr.\n  def GetDecode(self): return _FactorGraph.CFactorGraph_GetDecode(self)\n"
     ]
    },
    {
     "name": "stderr",
     "output_type": "stream",
     "text": [
      "FactorBP/FactorGraph.py:399: DeprecationWarning: PyArray_FromDims: use PyArray_SimpleNew.\n  def GetDecode(self): return _FactorGraph.CFactorGraph_GetDecode(self)\nFactorBP/FactorGraph.py:399: DeprecationWarning: PyArray_FromDimsAndDataAndDescr: use PyArray_NewFromDescr.\n  def GetDecode(self): return _FactorGraph.CFactorGraph_GetDecode(self)\nFactorBP/FactorGraph.py:399: DeprecationWarning: PyArray_FromDims: use PyArray_SimpleNew.\n  def GetDecode(self): return _FactorGraph.CFactorGraph_GetDecode(self)\nFactorBP/FactorGraph.py:399: DeprecationWarning: PyArray_FromDimsAndDataAndDescr: use PyArray_NewFromDescr.\n  def GetDecode(self): return _FactorGraph.CFactorGraph_GetDecode(self)\n"
     ]
    },
    {
     "name": "stderr",
     "output_type": "stream",
     "text": [
      "FactorBP/FactorGraph.py:399: DeprecationWarning: PyArray_FromDims: use PyArray_SimpleNew.\n  def GetDecode(self): return _FactorGraph.CFactorGraph_GetDecode(self)\nFactorBP/FactorGraph.py:399: DeprecationWarning: PyArray_FromDimsAndDataAndDescr: use PyArray_NewFromDescr.\n  def GetDecode(self): return _FactorGraph.CFactorGraph_GetDecode(self)\nFactorBP/FactorGraph.py:399: DeprecationWarning: PyArray_FromDims: use PyArray_SimpleNew.\n  def GetDecode(self): return _FactorGraph.CFactorGraph_GetDecode(self)\nFactorBP/FactorGraph.py:399: DeprecationWarning: PyArray_FromDimsAndDataAndDescr: use PyArray_NewFromDescr.\n  def GetDecode(self): return _FactorGraph.CFactorGraph_GetDecode(self)\n"
     ]
    },
    {
     "name": "stderr",
     "output_type": "stream",
     "text": [
      "FactorBP/FactorGraph.py:399: DeprecationWarning: PyArray_FromDims: use PyArray_SimpleNew.\n  def GetDecode(self): return _FactorGraph.CFactorGraph_GetDecode(self)\nFactorBP/FactorGraph.py:399: DeprecationWarning: PyArray_FromDimsAndDataAndDescr: use PyArray_NewFromDescr.\n  def GetDecode(self): return _FactorGraph.CFactorGraph_GetDecode(self)\nFactorBP/FactorGraph.py:399: DeprecationWarning: PyArray_FromDims: use PyArray_SimpleNew.\n  def GetDecode(self): return _FactorGraph.CFactorGraph_GetDecode(self)\nFactorBP/FactorGraph.py:399: DeprecationWarning: PyArray_FromDimsAndDataAndDescr: use PyArray_NewFromDescr.\n  def GetDecode(self): return _FactorGraph.CFactorGraph_GetDecode(self)\n"
     ]
    },
    {
     "name": "stderr",
     "output_type": "stream",
     "text": [
      "FactorBP/FactorGraph.py:399: DeprecationWarning: PyArray_FromDims: use PyArray_SimpleNew.\n  def GetDecode(self): return _FactorGraph.CFactorGraph_GetDecode(self)\nFactorBP/FactorGraph.py:399: DeprecationWarning: PyArray_FromDimsAndDataAndDescr: use PyArray_NewFromDescr.\n  def GetDecode(self): return _FactorGraph.CFactorGraph_GetDecode(self)\nFactorBP/FactorGraph.py:399: DeprecationWarning: PyArray_FromDims: use PyArray_SimpleNew.\n  def GetDecode(self): return _FactorGraph.CFactorGraph_GetDecode(self)\nFactorBP/FactorGraph.py:399: DeprecationWarning: PyArray_FromDimsAndDataAndDescr: use PyArray_NewFromDescr.\n  def GetDecode(self): return _FactorGraph.CFactorGraph_GetDecode(self)\n"
     ]
    },
    {
     "name": "stderr",
     "output_type": "stream",
     "text": [
      "FactorBP/FactorGraph.py:399: DeprecationWarning: PyArray_FromDims: use PyArray_SimpleNew.\n  def GetDecode(self): return _FactorGraph.CFactorGraph_GetDecode(self)\nFactorBP/FactorGraph.py:399: DeprecationWarning: PyArray_FromDimsAndDataAndDescr: use PyArray_NewFromDescr.\n  def GetDecode(self): return _FactorGraph.CFactorGraph_GetDecode(self)\nFactorBP/FactorGraph.py:399: DeprecationWarning: PyArray_FromDims: use PyArray_SimpleNew.\n  def GetDecode(self): return _FactorGraph.CFactorGraph_GetDecode(self)\nFactorBP/FactorGraph.py:399: DeprecationWarning: PyArray_FromDimsAndDataAndDescr: use PyArray_NewFromDescr.\n  def GetDecode(self): return _FactorGraph.CFactorGraph_GetDecode(self)\n"
     ]
    },
    {
     "name": "stderr",
     "output_type": "stream",
     "text": [
      "FactorBP/FactorGraph.py:399: DeprecationWarning: PyArray_FromDims: use PyArray_SimpleNew.\n  def GetDecode(self): return _FactorGraph.CFactorGraph_GetDecode(self)\nFactorBP/FactorGraph.py:399: DeprecationWarning: PyArray_FromDimsAndDataAndDescr: use PyArray_NewFromDescr.\n  def GetDecode(self): return _FactorGraph.CFactorGraph_GetDecode(self)\nFactorBP/FactorGraph.py:399: DeprecationWarning: PyArray_FromDims: use PyArray_SimpleNew.\n  def GetDecode(self): return _FactorGraph.CFactorGraph_GetDecode(self)\nFactorBP/FactorGraph.py:399: DeprecationWarning: PyArray_FromDimsAndDataAndDescr: use PyArray_NewFromDescr.\n  def GetDecode(self): return _FactorGraph.CFactorGraph_GetDecode(self)\n"
     ]
    },
    {
     "name": "stderr",
     "output_type": "stream",
     "text": [
      "FactorBP/FactorGraph.py:399: DeprecationWarning: PyArray_FromDims: use PyArray_SimpleNew.\n  def GetDecode(self): return _FactorGraph.CFactorGraph_GetDecode(self)\nFactorBP/FactorGraph.py:399: DeprecationWarning: PyArray_FromDimsAndDataAndDescr: use PyArray_NewFromDescr.\n  def GetDecode(self): return _FactorGraph.CFactorGraph_GetDecode(self)\nFactorBP/FactorGraph.py:399: DeprecationWarning: PyArray_FromDims: use PyArray_SimpleNew.\n  def GetDecode(self): return _FactorGraph.CFactorGraph_GetDecode(self)\nFactorBP/FactorGraph.py:399: DeprecationWarning: PyArray_FromDimsAndDataAndDescr: use PyArray_NewFromDescr.\n  def GetDecode(self): return _FactorGraph.CFactorGraph_GetDecode(self)\n"
     ]
    },
    {
     "name": "stderr",
     "output_type": "stream",
     "text": [
      "FactorBP/FactorGraph.py:399: DeprecationWarning: PyArray_FromDims: use PyArray_SimpleNew.\n  def GetDecode(self): return _FactorGraph.CFactorGraph_GetDecode(self)\nFactorBP/FactorGraph.py:399: DeprecationWarning: PyArray_FromDimsAndDataAndDescr: use PyArray_NewFromDescr.\n  def GetDecode(self): return _FactorGraph.CFactorGraph_GetDecode(self)\nFactorBP/FactorGraph.py:399: DeprecationWarning: PyArray_FromDims: use PyArray_SimpleNew.\n  def GetDecode(self): return _FactorGraph.CFactorGraph_GetDecode(self)\nFactorBP/FactorGraph.py:399: DeprecationWarning: PyArray_FromDimsAndDataAndDescr: use PyArray_NewFromDescr.\n  def GetDecode(self): return _FactorGraph.CFactorGraph_GetDecode(self)\n"
     ]
    },
    {
     "name": "stderr",
     "output_type": "stream",
     "text": [
      "FactorBP/FactorGraph.py:399: DeprecationWarning: PyArray_FromDims: use PyArray_SimpleNew.\n  def GetDecode(self): return _FactorGraph.CFactorGraph_GetDecode(self)\nFactorBP/FactorGraph.py:399: DeprecationWarning: PyArray_FromDimsAndDataAndDescr: use PyArray_NewFromDescr.\n  def GetDecode(self): return _FactorGraph.CFactorGraph_GetDecode(self)\nFactorBP/FactorGraph.py:399: DeprecationWarning: PyArray_FromDims: use PyArray_SimpleNew.\n  def GetDecode(self): return _FactorGraph.CFactorGraph_GetDecode(self)\nFactorBP/FactorGraph.py:399: DeprecationWarning: PyArray_FromDimsAndDataAndDescr: use PyArray_NewFromDescr.\n  def GetDecode(self): return _FactorGraph.CFactorGraph_GetDecode(self)\n"
     ]
    },
    {
     "name": "stderr",
     "output_type": "stream",
     "text": [
      "FactorBP/FactorGraph.py:399: DeprecationWarning: PyArray_FromDims: use PyArray_SimpleNew.\n  def GetDecode(self): return _FactorGraph.CFactorGraph_GetDecode(self)\nFactorBP/FactorGraph.py:399: DeprecationWarning: PyArray_FromDimsAndDataAndDescr: use PyArray_NewFromDescr.\n  def GetDecode(self): return _FactorGraph.CFactorGraph_GetDecode(self)\nFactorBP/FactorGraph.py:399: DeprecationWarning: PyArray_FromDims: use PyArray_SimpleNew.\n  def GetDecode(self): return _FactorGraph.CFactorGraph_GetDecode(self)\nFactorBP/FactorGraph.py:399: DeprecationWarning: PyArray_FromDimsAndDataAndDescr: use PyArray_NewFromDescr.\n  def GetDecode(self): return _FactorGraph.CFactorGraph_GetDecode(self)\n"
     ]
    },
    {
     "name": "stderr",
     "output_type": "stream",
     "text": [
      "FactorBP/FactorGraph.py:399: DeprecationWarning: PyArray_FromDims: use PyArray_SimpleNew.\n  def GetDecode(self): return _FactorGraph.CFactorGraph_GetDecode(self)\nFactorBP/FactorGraph.py:399: DeprecationWarning: PyArray_FromDimsAndDataAndDescr: use PyArray_NewFromDescr.\n  def GetDecode(self): return _FactorGraph.CFactorGraph_GetDecode(self)\nFactorBP/FactorGraph.py:399: DeprecationWarning: PyArray_FromDims: use PyArray_SimpleNew.\n  def GetDecode(self): return _FactorGraph.CFactorGraph_GetDecode(self)\nFactorBP/FactorGraph.py:399: DeprecationWarning: PyArray_FromDimsAndDataAndDescr: use PyArray_NewFromDescr.\n  def GetDecode(self): return _FactorGraph.CFactorGraph_GetDecode(self)\nFactorBP/FactorGraph.py:399: DeprecationWarning: PyArray_FromDims: use PyArray_SimpleNew.\n  def GetDecode(self): return _FactorGraph.CFactorGraph_GetDecode(self)\nFactorBP/FactorGraph.py:399: DeprecationWarning: PyArray_FromDimsAndDataAndDescr: use PyArray_NewFromDescr.\n  def GetDecode(self): return _FactorGraph.CFactorGraph_GetDecode(self)\n"
     ]
    },
    {
     "name": "stderr",
     "output_type": "stream",
     "text": [
      "FactorBP/FactorGraph.py:399: DeprecationWarning: PyArray_FromDims: use PyArray_SimpleNew.\n  def GetDecode(self): return _FactorGraph.CFactorGraph_GetDecode(self)\nFactorBP/FactorGraph.py:399: DeprecationWarning: PyArray_FromDimsAndDataAndDescr: use PyArray_NewFromDescr.\n  def GetDecode(self): return _FactorGraph.CFactorGraph_GetDecode(self)\nFactorBP/FactorGraph.py:399: DeprecationWarning: PyArray_FromDims: use PyArray_SimpleNew.\n  def GetDecode(self): return _FactorGraph.CFactorGraph_GetDecode(self)\nFactorBP/FactorGraph.py:399: DeprecationWarning: PyArray_FromDimsAndDataAndDescr: use PyArray_NewFromDescr.\n  def GetDecode(self): return _FactorGraph.CFactorGraph_GetDecode(self)\nFactorBP/FactorGraph.py:399: DeprecationWarning: PyArray_FromDims: use PyArray_SimpleNew.\n  def GetDecode(self): return _FactorGraph.CFactorGraph_GetDecode(self)\nFactorBP/FactorGraph.py:399: DeprecationWarning: PyArray_FromDimsAndDataAndDescr: use PyArray_NewFromDescr.\n  def GetDecode(self): return _FactorGraph.CFactorGraph_GetDecode(self)\n"
     ]
    },
    {
     "name": "stderr",
     "output_type": "stream",
     "text": [
      "FactorBP/FactorGraph.py:399: DeprecationWarning: PyArray_FromDims: use PyArray_SimpleNew.\n  def GetDecode(self): return _FactorGraph.CFactorGraph_GetDecode(self)\nFactorBP/FactorGraph.py:399: DeprecationWarning: PyArray_FromDimsAndDataAndDescr: use PyArray_NewFromDescr.\n  def GetDecode(self): return _FactorGraph.CFactorGraph_GetDecode(self)\nFactorBP/FactorGraph.py:399: DeprecationWarning: PyArray_FromDims: use PyArray_SimpleNew.\n  def GetDecode(self): return _FactorGraph.CFactorGraph_GetDecode(self)\nFactorBP/FactorGraph.py:399: DeprecationWarning: PyArray_FromDimsAndDataAndDescr: use PyArray_NewFromDescr.\n  def GetDecode(self): return _FactorGraph.CFactorGraph_GetDecode(self)\n"
     ]
    },
    {
     "name": "stderr",
     "output_type": "stream",
     "text": [
      "FactorBP/FactorGraph.py:399: DeprecationWarning: PyArray_FromDims: use PyArray_SimpleNew.\n  def GetDecode(self): return _FactorGraph.CFactorGraph_GetDecode(self)\nFactorBP/FactorGraph.py:399: DeprecationWarning: PyArray_FromDimsAndDataAndDescr: use PyArray_NewFromDescr.\n  def GetDecode(self): return _FactorGraph.CFactorGraph_GetDecode(self)\nFactorBP/FactorGraph.py:399: DeprecationWarning: PyArray_FromDims: use PyArray_SimpleNew.\n  def GetDecode(self): return _FactorGraph.CFactorGraph_GetDecode(self)\nFactorBP/FactorGraph.py:399: DeprecationWarning: PyArray_FromDimsAndDataAndDescr: use PyArray_NewFromDescr.\n  def GetDecode(self): return _FactorGraph.CFactorGraph_GetDecode(self)\n"
     ]
    },
    {
     "name": "stderr",
     "output_type": "stream",
     "text": [
      "FactorBP/FactorGraph.py:399: DeprecationWarning: PyArray_FromDims: use PyArray_SimpleNew.\n  def GetDecode(self): return _FactorGraph.CFactorGraph_GetDecode(self)\nFactorBP/FactorGraph.py:399: DeprecationWarning: PyArray_FromDimsAndDataAndDescr: use PyArray_NewFromDescr.\n  def GetDecode(self): return _FactorGraph.CFactorGraph_GetDecode(self)\nFactorBP/FactorGraph.py:399: DeprecationWarning: PyArray_FromDims: use PyArray_SimpleNew.\n  def GetDecode(self): return _FactorGraph.CFactorGraph_GetDecode(self)\nFactorBP/FactorGraph.py:399: DeprecationWarning: PyArray_FromDimsAndDataAndDescr: use PyArray_NewFromDescr.\n  def GetDecode(self): return _FactorGraph.CFactorGraph_GetDecode(self)\n"
     ]
    },
    {
     "name": "stderr",
     "output_type": "stream",
     "text": [
      "FactorBP/FactorGraph.py:399: DeprecationWarning: PyArray_FromDims: use PyArray_SimpleNew.\n  def GetDecode(self): return _FactorGraph.CFactorGraph_GetDecode(self)\nFactorBP/FactorGraph.py:399: DeprecationWarning: PyArray_FromDimsAndDataAndDescr: use PyArray_NewFromDescr.\n  def GetDecode(self): return _FactorGraph.CFactorGraph_GetDecode(self)\nFactorBP/FactorGraph.py:399: DeprecationWarning: PyArray_FromDims: use PyArray_SimpleNew.\n  def GetDecode(self): return _FactorGraph.CFactorGraph_GetDecode(self)\nFactorBP/FactorGraph.py:399: DeprecationWarning: PyArray_FromDimsAndDataAndDescr: use PyArray_NewFromDescr.\n  def GetDecode(self): return _FactorGraph.CFactorGraph_GetDecode(self)\n"
     ]
    },
    {
     "name": "stderr",
     "output_type": "stream",
     "text": [
      "FactorBP/FactorGraph.py:399: DeprecationWarning: PyArray_FromDims: use PyArray_SimpleNew.\n  def GetDecode(self): return _FactorGraph.CFactorGraph_GetDecode(self)\nFactorBP/FactorGraph.py:399: DeprecationWarning: PyArray_FromDimsAndDataAndDescr: use PyArray_NewFromDescr.\n  def GetDecode(self): return _FactorGraph.CFactorGraph_GetDecode(self)\nFactorBP/FactorGraph.py:399: DeprecationWarning: PyArray_FromDims: use PyArray_SimpleNew.\n  def GetDecode(self): return _FactorGraph.CFactorGraph_GetDecode(self)\nFactorBP/FactorGraph.py:399: DeprecationWarning: PyArray_FromDimsAndDataAndDescr: use PyArray_NewFromDescr.\n  def GetDecode(self): return _FactorGraph.CFactorGraph_GetDecode(self)\n"
     ]
    },
    {
     "name": "stderr",
     "output_type": "stream",
     "text": [
      "FactorBP/FactorGraph.py:399: DeprecationWarning: PyArray_FromDims: use PyArray_SimpleNew.\n  def GetDecode(self): return _FactorGraph.CFactorGraph_GetDecode(self)\nFactorBP/FactorGraph.py:399: DeprecationWarning: PyArray_FromDimsAndDataAndDescr: use PyArray_NewFromDescr.\n  def GetDecode(self): return _FactorGraph.CFactorGraph_GetDecode(self)\nFactorBP/FactorGraph.py:399: DeprecationWarning: PyArray_FromDims: use PyArray_SimpleNew.\n  def GetDecode(self): return _FactorGraph.CFactorGraph_GetDecode(self)\nFactorBP/FactorGraph.py:399: DeprecationWarning: PyArray_FromDimsAndDataAndDescr: use PyArray_NewFromDescr.\n  def GetDecode(self): return _FactorGraph.CFactorGraph_GetDecode(self)\nFactorBP/FactorGraph.py:399: DeprecationWarning: PyArray_FromDims: use PyArray_SimpleNew.\n  def GetDecode(self): return _FactorGraph.CFactorGraph_GetDecode(self)\nFactorBP/FactorGraph.py:399: DeprecationWarning: PyArray_FromDimsAndDataAndDescr: use PyArray_NewFromDescr.\n  def GetDecode(self): return _FactorGraph.CFactorGraph_GetDecode(self)\n"
     ]
    },
    {
     "name": "stderr",
     "output_type": "stream",
     "text": [
      "FactorBP/FactorGraph.py:399: DeprecationWarning: PyArray_FromDims: use PyArray_SimpleNew.\n  def GetDecode(self): return _FactorGraph.CFactorGraph_GetDecode(self)\nFactorBP/FactorGraph.py:399: DeprecationWarning: PyArray_FromDimsAndDataAndDescr: use PyArray_NewFromDescr.\n  def GetDecode(self): return _FactorGraph.CFactorGraph_GetDecode(self)\nFactorBP/FactorGraph.py:399: DeprecationWarning: PyArray_FromDims: use PyArray_SimpleNew.\n  def GetDecode(self): return _FactorGraph.CFactorGraph_GetDecode(self)\nFactorBP/FactorGraph.py:399: DeprecationWarning: PyArray_FromDimsAndDataAndDescr: use PyArray_NewFromDescr.\n  def GetDecode(self): return _FactorGraph.CFactorGraph_GetDecode(self)\n"
     ]
    },
    {
     "name": "stderr",
     "output_type": "stream",
     "text": [
      "FactorBP/FactorGraph.py:399: DeprecationWarning: PyArray_FromDims: use PyArray_SimpleNew.\n  def GetDecode(self): return _FactorGraph.CFactorGraph_GetDecode(self)\nFactorBP/FactorGraph.py:399: DeprecationWarning: PyArray_FromDimsAndDataAndDescr: use PyArray_NewFromDescr.\n  def GetDecode(self): return _FactorGraph.CFactorGraph_GetDecode(self)\nFactorBP/FactorGraph.py:399: DeprecationWarning: PyArray_FromDims: use PyArray_SimpleNew.\n  def GetDecode(self): return _FactorGraph.CFactorGraph_GetDecode(self)\nFactorBP/FactorGraph.py:399: DeprecationWarning: PyArray_FromDimsAndDataAndDescr: use PyArray_NewFromDescr.\n  def GetDecode(self): return _FactorGraph.CFactorGraph_GetDecode(self)\n"
     ]
    },
    {
     "name": "stderr",
     "output_type": "stream",
     "text": [
      "FactorBP/FactorGraph.py:399: DeprecationWarning: PyArray_FromDims: use PyArray_SimpleNew.\n  def GetDecode(self): return _FactorGraph.CFactorGraph_GetDecode(self)\nFactorBP/FactorGraph.py:399: DeprecationWarning: PyArray_FromDimsAndDataAndDescr: use PyArray_NewFromDescr.\n  def GetDecode(self): return _FactorGraph.CFactorGraph_GetDecode(self)\nFactorBP/FactorGraph.py:399: DeprecationWarning: PyArray_FromDims: use PyArray_SimpleNew.\n  def GetDecode(self): return _FactorGraph.CFactorGraph_GetDecode(self)\nFactorBP/FactorGraph.py:399: DeprecationWarning: PyArray_FromDimsAndDataAndDescr: use PyArray_NewFromDescr.\n  def GetDecode(self): return _FactorGraph.CFactorGraph_GetDecode(self)\n"
     ]
    },
    {
     "name": "stderr",
     "output_type": "stream",
     "text": [
      "FactorBP/FactorGraph.py:399: DeprecationWarning: PyArray_FromDims: use PyArray_SimpleNew.\n  def GetDecode(self): return _FactorGraph.CFactorGraph_GetDecode(self)\nFactorBP/FactorGraph.py:399: DeprecationWarning: PyArray_FromDimsAndDataAndDescr: use PyArray_NewFromDescr.\n  def GetDecode(self): return _FactorGraph.CFactorGraph_GetDecode(self)\nFactorBP/FactorGraph.py:399: DeprecationWarning: PyArray_FromDims: use PyArray_SimpleNew.\n  def GetDecode(self): return _FactorGraph.CFactorGraph_GetDecode(self)\nFactorBP/FactorGraph.py:399: DeprecationWarning: PyArray_FromDimsAndDataAndDescr: use PyArray_NewFromDescr.\n  def GetDecode(self): return _FactorGraph.CFactorGraph_GetDecode(self)\n"
     ]
    },
    {
     "name": "stderr",
     "output_type": "stream",
     "text": [
      "FactorBP/FactorGraph.py:399: DeprecationWarning: PyArray_FromDims: use PyArray_SimpleNew.\n  def GetDecode(self): return _FactorGraph.CFactorGraph_GetDecode(self)\nFactorBP/FactorGraph.py:399: DeprecationWarning: PyArray_FromDimsAndDataAndDescr: use PyArray_NewFromDescr.\n  def GetDecode(self): return _FactorGraph.CFactorGraph_GetDecode(self)\nFactorBP/FactorGraph.py:399: DeprecationWarning: PyArray_FromDims: use PyArray_SimpleNew.\n  def GetDecode(self): return _FactorGraph.CFactorGraph_GetDecode(self)\nFactorBP/FactorGraph.py:399: DeprecationWarning: PyArray_FromDimsAndDataAndDescr: use PyArray_NewFromDescr.\n  def GetDecode(self): return _FactorGraph.CFactorGraph_GetDecode(self)\n"
     ]
    },
    {
     "name": "stderr",
     "output_type": "stream",
     "text": [
      "FactorBP/FactorGraph.py:399: DeprecationWarning: PyArray_FromDims: use PyArray_SimpleNew.\n  def GetDecode(self): return _FactorGraph.CFactorGraph_GetDecode(self)\nFactorBP/FactorGraph.py:399: DeprecationWarning: PyArray_FromDimsAndDataAndDescr: use PyArray_NewFromDescr.\n  def GetDecode(self): return _FactorGraph.CFactorGraph_GetDecode(self)\nFactorBP/FactorGraph.py:399: DeprecationWarning: PyArray_FromDims: use PyArray_SimpleNew.\n  def GetDecode(self): return _FactorGraph.CFactorGraph_GetDecode(self)\nFactorBP/FactorGraph.py:399: DeprecationWarning: PyArray_FromDimsAndDataAndDescr: use PyArray_NewFromDescr.\n  def GetDecode(self): return _FactorGraph.CFactorGraph_GetDecode(self)\n"
     ]
    },
    {
     "name": "stderr",
     "output_type": "stream",
     "text": [
      "FactorBP/FactorGraph.py:399: DeprecationWarning: PyArray_FromDims: use PyArray_SimpleNew.\n  def GetDecode(self): return _FactorGraph.CFactorGraph_GetDecode(self)\nFactorBP/FactorGraph.py:399: DeprecationWarning: PyArray_FromDimsAndDataAndDescr: use PyArray_NewFromDescr.\n  def GetDecode(self): return _FactorGraph.CFactorGraph_GetDecode(self)\nFactorBP/FactorGraph.py:399: DeprecationWarning: PyArray_FromDims: use PyArray_SimpleNew.\n  def GetDecode(self): return _FactorGraph.CFactorGraph_GetDecode(self)\nFactorBP/FactorGraph.py:399: DeprecationWarning: PyArray_FromDimsAndDataAndDescr: use PyArray_NewFromDescr.\n  def GetDecode(self): return _FactorGraph.CFactorGraph_GetDecode(self)\n"
     ]
    },
    {
     "name": "stderr",
     "output_type": "stream",
     "text": [
      "FactorBP/FactorGraph.py:399: DeprecationWarning: PyArray_FromDims: use PyArray_SimpleNew.\n  def GetDecode(self): return _FactorGraph.CFactorGraph_GetDecode(self)\nFactorBP/FactorGraph.py:399: DeprecationWarning: PyArray_FromDimsAndDataAndDescr: use PyArray_NewFromDescr.\n  def GetDecode(self): return _FactorGraph.CFactorGraph_GetDecode(self)\nFactorBP/FactorGraph.py:399: DeprecationWarning: PyArray_FromDims: use PyArray_SimpleNew.\n  def GetDecode(self): return _FactorGraph.CFactorGraph_GetDecode(self)\nFactorBP/FactorGraph.py:399: DeprecationWarning: PyArray_FromDimsAndDataAndDescr: use PyArray_NewFromDescr.\n  def GetDecode(self): return _FactorGraph.CFactorGraph_GetDecode(self)\n"
     ]
    },
    {
     "name": "stderr",
     "output_type": "stream",
     "text": [
      "FactorBP/FactorGraph.py:399: DeprecationWarning: PyArray_FromDims: use PyArray_SimpleNew.\n  def GetDecode(self): return _FactorGraph.CFactorGraph_GetDecode(self)\nFactorBP/FactorGraph.py:399: DeprecationWarning: PyArray_FromDimsAndDataAndDescr: use PyArray_NewFromDescr.\n  def GetDecode(self): return _FactorGraph.CFactorGraph_GetDecode(self)\nFactorBP/FactorGraph.py:399: DeprecationWarning: PyArray_FromDims: use PyArray_SimpleNew.\n  def GetDecode(self): return _FactorGraph.CFactorGraph_GetDecode(self)\nFactorBP/FactorGraph.py:399: DeprecationWarning: PyArray_FromDimsAndDataAndDescr: use PyArray_NewFromDescr.\n  def GetDecode(self): return _FactorGraph.CFactorGraph_GetDecode(self)\n"
     ]
    },
    {
     "name": "stderr",
     "output_type": "stream",
     "text": [
      "FactorBP/FactorGraph.py:399: DeprecationWarning: PyArray_FromDims: use PyArray_SimpleNew.\n  def GetDecode(self): return _FactorGraph.CFactorGraph_GetDecode(self)\nFactorBP/FactorGraph.py:399: DeprecationWarning: PyArray_FromDimsAndDataAndDescr: use PyArray_NewFromDescr.\n  def GetDecode(self): return _FactorGraph.CFactorGraph_GetDecode(self)\nFactorBP/FactorGraph.py:399: DeprecationWarning: PyArray_FromDims: use PyArray_SimpleNew.\n  def GetDecode(self): return _FactorGraph.CFactorGraph_GetDecode(self)\nFactorBP/FactorGraph.py:399: DeprecationWarning: PyArray_FromDimsAndDataAndDescr: use PyArray_NewFromDescr.\n  def GetDecode(self): return _FactorGraph.CFactorGraph_GetDecode(self)\n"
     ]
    },
    {
     "name": "stdout",
     "output_type": "stream",
     "text": [
      "Ours Accuracy 1.000000 Running Time 0.185600 Obj 1.000000\nOurs-PW Accuracy 1.000000 Running Time 0.085917 Obj 0.911867\nOurs-BCA Accuracy 1.000000 Running Time 0.214425 Obj 1.000000\nBCA Accuracy 0.980392 Running Time 0.020539 Obj 0.989443\nBCA-MP Accuracy 0.989542 Running Time 0.132642 Obj 0.995977\nBCA-IPFP Accuracy 0.998693 Running Time 0.086755 Obj 0.999828\nHGM Accuracy 0.475163 Running Time 0.004161 Obj 0.473048\nRRWHM Accuracy 1.000000 Running Time 0.060480 Obj 1.000000\nTM Accuracy 0.496732 Running Time 0.078248 Obj 0.607207\n××××××××××××××××××××\n Start baseline: 70\n"
     ]
    },
    {
     "name": "stderr",
     "output_type": "stream",
     "text": [
      "FactorBP/FactorGraph.py:399: DeprecationWarning: PyArray_FromDims: use PyArray_SimpleNew.\n  def GetDecode(self): return _FactorGraph.CFactorGraph_GetDecode(self)\nFactorBP/FactorGraph.py:399: DeprecationWarning: PyArray_FromDimsAndDataAndDescr: use PyArray_NewFromDescr.\n  def GetDecode(self): return _FactorGraph.CFactorGraph_GetDecode(self)\nFactorBP/FactorGraph.py:399: DeprecationWarning: PyArray_FromDims: use PyArray_SimpleNew.\n  def GetDecode(self): return _FactorGraph.CFactorGraph_GetDecode(self)\nFactorBP/FactorGraph.py:399: DeprecationWarning: PyArray_FromDimsAndDataAndDescr: use PyArray_NewFromDescr.\n  def GetDecode(self): return _FactorGraph.CFactorGraph_GetDecode(self)\n"
     ]
    },
    {
     "name": "stderr",
     "output_type": "stream",
     "text": [
      "FactorBP/FactorGraph.py:399: DeprecationWarning: PyArray_FromDims: use PyArray_SimpleNew.\n  def GetDecode(self): return _FactorGraph.CFactorGraph_GetDecode(self)\nFactorBP/FactorGraph.py:399: DeprecationWarning: PyArray_FromDimsAndDataAndDescr: use PyArray_NewFromDescr.\n  def GetDecode(self): return _FactorGraph.CFactorGraph_GetDecode(self)\n"
     ]
    },
    {
     "name": "stderr",
     "output_type": "stream",
     "text": [
      "FactorBP/FactorGraph.py:399: DeprecationWarning: PyArray_FromDims: use PyArray_SimpleNew.\n  def GetDecode(self): return _FactorGraph.CFactorGraph_GetDecode(self)\nFactorBP/FactorGraph.py:399: DeprecationWarning: PyArray_FromDimsAndDataAndDescr: use PyArray_NewFromDescr.\n  def GetDecode(self): return _FactorGraph.CFactorGraph_GetDecode(self)\n"
     ]
    },
    {
     "name": "stderr",
     "output_type": "stream",
     "text": [
      "FactorBP/FactorGraph.py:399: DeprecationWarning: PyArray_FromDims: use PyArray_SimpleNew.\n  def GetDecode(self): return _FactorGraph.CFactorGraph_GetDecode(self)\nFactorBP/FactorGraph.py:399: DeprecationWarning: PyArray_FromDimsAndDataAndDescr: use PyArray_NewFromDescr.\n  def GetDecode(self): return _FactorGraph.CFactorGraph_GetDecode(self)\nFactorBP/FactorGraph.py:399: DeprecationWarning: PyArray_FromDims: use PyArray_SimpleNew.\n  def GetDecode(self): return _FactorGraph.CFactorGraph_GetDecode(self)\nFactorBP/FactorGraph.py:399: DeprecationWarning: PyArray_FromDimsAndDataAndDescr: use PyArray_NewFromDescr.\n  def GetDecode(self): return _FactorGraph.CFactorGraph_GetDecode(self)\n"
     ]
    },
    {
     "name": "stderr",
     "output_type": "stream",
     "text": [
      "FactorBP/FactorGraph.py:399: DeprecationWarning: PyArray_FromDims: use PyArray_SimpleNew.\n  def GetDecode(self): return _FactorGraph.CFactorGraph_GetDecode(self)\nFactorBP/FactorGraph.py:399: DeprecationWarning: PyArray_FromDimsAndDataAndDescr: use PyArray_NewFromDescr.\n  def GetDecode(self): return _FactorGraph.CFactorGraph_GetDecode(self)\nFactorBP/FactorGraph.py:399: DeprecationWarning: PyArray_FromDims: use PyArray_SimpleNew.\n  def GetDecode(self): return _FactorGraph.CFactorGraph_GetDecode(self)\nFactorBP/FactorGraph.py:399: DeprecationWarning: PyArray_FromDimsAndDataAndDescr: use PyArray_NewFromDescr.\n  def GetDecode(self): return _FactorGraph.CFactorGraph_GetDecode(self)\n"
     ]
    },
    {
     "name": "stderr",
     "output_type": "stream",
     "text": [
      "FactorBP/FactorGraph.py:399: DeprecationWarning: PyArray_FromDims: use PyArray_SimpleNew.\n  def GetDecode(self): return _FactorGraph.CFactorGraph_GetDecode(self)\nFactorBP/FactorGraph.py:399: DeprecationWarning: PyArray_FromDimsAndDataAndDescr: use PyArray_NewFromDescr.\n  def GetDecode(self): return _FactorGraph.CFactorGraph_GetDecode(self)\n"
     ]
    },
    {
     "name": "stderr",
     "output_type": "stream",
     "text": [
      "FactorBP/FactorGraph.py:399: DeprecationWarning: PyArray_FromDims: use PyArray_SimpleNew.\n  def GetDecode(self): return _FactorGraph.CFactorGraph_GetDecode(self)\nFactorBP/FactorGraph.py:399: DeprecationWarning: PyArray_FromDimsAndDataAndDescr: use PyArray_NewFromDescr.\n  def GetDecode(self): return _FactorGraph.CFactorGraph_GetDecode(self)\n"
     ]
    },
    {
     "name": "stderr",
     "output_type": "stream",
     "text": [
      "FactorBP/FactorGraph.py:399: DeprecationWarning: PyArray_FromDims: use PyArray_SimpleNew.\n  def GetDecode(self): return _FactorGraph.CFactorGraph_GetDecode(self)\nFactorBP/FactorGraph.py:399: DeprecationWarning: PyArray_FromDimsAndDataAndDescr: use PyArray_NewFromDescr.\n  def GetDecode(self): return _FactorGraph.CFactorGraph_GetDecode(self)\nFactorBP/FactorGraph.py:399: DeprecationWarning: PyArray_FromDims: use PyArray_SimpleNew.\n  def GetDecode(self): return _FactorGraph.CFactorGraph_GetDecode(self)\nFactorBP/FactorGraph.py:399: DeprecationWarning: PyArray_FromDimsAndDataAndDescr: use PyArray_NewFromDescr.\n  def GetDecode(self): return _FactorGraph.CFactorGraph_GetDecode(self)\nFactorBP/FactorGraph.py:399: DeprecationWarning: PyArray_FromDims: use PyArray_SimpleNew.\n  def GetDecode(self): return _FactorGraph.CFactorGraph_GetDecode(self)\nFactorBP/FactorGraph.py:399: DeprecationWarning: PyArray_FromDimsAndDataAndDescr: use PyArray_NewFromDescr.\n  def GetDecode(self): return _FactorGraph.CFactorGraph_GetDecode(self)\n"
     ]
    },
    {
     "name": "stderr",
     "output_type": "stream",
     "text": [
      "FactorBP/FactorGraph.py:399: DeprecationWarning: PyArray_FromDims: use PyArray_SimpleNew.\n  def GetDecode(self): return _FactorGraph.CFactorGraph_GetDecode(self)\nFactorBP/FactorGraph.py:399: DeprecationWarning: PyArray_FromDimsAndDataAndDescr: use PyArray_NewFromDescr.\n  def GetDecode(self): return _FactorGraph.CFactorGraph_GetDecode(self)\nFactorBP/FactorGraph.py:399: DeprecationWarning: PyArray_FromDims: use PyArray_SimpleNew.\n  def GetDecode(self): return _FactorGraph.CFactorGraph_GetDecode(self)\nFactorBP/FactorGraph.py:399: DeprecationWarning: PyArray_FromDimsAndDataAndDescr: use PyArray_NewFromDescr.\n  def GetDecode(self): return _FactorGraph.CFactorGraph_GetDecode(self)\nFactorBP/FactorGraph.py:399: DeprecationWarning: PyArray_FromDims: use PyArray_SimpleNew.\n  def GetDecode(self): return _FactorGraph.CFactorGraph_GetDecode(self)\nFactorBP/FactorGraph.py:399: DeprecationWarning: PyArray_FromDimsAndDataAndDescr: use PyArray_NewFromDescr.\n  def GetDecode(self): return _FactorGraph.CFactorGraph_GetDecode(self)\n"
     ]
    },
    {
     "name": "stderr",
     "output_type": "stream",
     "text": [
      "FactorBP/FactorGraph.py:399: DeprecationWarning: PyArray_FromDims: use PyArray_SimpleNew.\n  def GetDecode(self): return _FactorGraph.CFactorGraph_GetDecode(self)\nFactorBP/FactorGraph.py:399: DeprecationWarning: PyArray_FromDimsAndDataAndDescr: use PyArray_NewFromDescr.\n  def GetDecode(self): return _FactorGraph.CFactorGraph_GetDecode(self)\nFactorBP/FactorGraph.py:399: DeprecationWarning: PyArray_FromDims: use PyArray_SimpleNew.\n  def GetDecode(self): return _FactorGraph.CFactorGraph_GetDecode(self)\nFactorBP/FactorGraph.py:399: DeprecationWarning: PyArray_FromDimsAndDataAndDescr: use PyArray_NewFromDescr.\n  def GetDecode(self): return _FactorGraph.CFactorGraph_GetDecode(self)\n"
     ]
    },
    {
     "name": "stderr",
     "output_type": "stream",
     "text": [
      "FactorBP/FactorGraph.py:399: DeprecationWarning: PyArray_FromDims: use PyArray_SimpleNew.\n  def GetDecode(self): return _FactorGraph.CFactorGraph_GetDecode(self)\nFactorBP/FactorGraph.py:399: DeprecationWarning: PyArray_FromDimsAndDataAndDescr: use PyArray_NewFromDescr.\n  def GetDecode(self): return _FactorGraph.CFactorGraph_GetDecode(self)\nFactorBP/FactorGraph.py:399: DeprecationWarning: PyArray_FromDims: use PyArray_SimpleNew.\n  def GetDecode(self): return _FactorGraph.CFactorGraph_GetDecode(self)\nFactorBP/FactorGraph.py:399: DeprecationWarning: PyArray_FromDimsAndDataAndDescr: use PyArray_NewFromDescr.\n  def GetDecode(self): return _FactorGraph.CFactorGraph_GetDecode(self)\n"
     ]
    },
    {
     "name": "stderr",
     "output_type": "stream",
     "text": [
      "FactorBP/FactorGraph.py:399: DeprecationWarning: PyArray_FromDims: use PyArray_SimpleNew.\n  def GetDecode(self): return _FactorGraph.CFactorGraph_GetDecode(self)\nFactorBP/FactorGraph.py:399: DeprecationWarning: PyArray_FromDimsAndDataAndDescr: use PyArray_NewFromDescr.\n  def GetDecode(self): return _FactorGraph.CFactorGraph_GetDecode(self)\nFactorBP/FactorGraph.py:399: DeprecationWarning: PyArray_FromDims: use PyArray_SimpleNew.\n  def GetDecode(self): return _FactorGraph.CFactorGraph_GetDecode(self)\nFactorBP/FactorGraph.py:399: DeprecationWarning: PyArray_FromDimsAndDataAndDescr: use PyArray_NewFromDescr.\n  def GetDecode(self): return _FactorGraph.CFactorGraph_GetDecode(self)\n"
     ]
    },
    {
     "name": "stderr",
     "output_type": "stream",
     "text": [
      "FactorBP/FactorGraph.py:399: DeprecationWarning: PyArray_FromDims: use PyArray_SimpleNew.\n  def GetDecode(self): return _FactorGraph.CFactorGraph_GetDecode(self)\nFactorBP/FactorGraph.py:399: DeprecationWarning: PyArray_FromDimsAndDataAndDescr: use PyArray_NewFromDescr.\n  def GetDecode(self): return _FactorGraph.CFactorGraph_GetDecode(self)\nFactorBP/FactorGraph.py:399: DeprecationWarning: PyArray_FromDims: use PyArray_SimpleNew.\n  def GetDecode(self): return _FactorGraph.CFactorGraph_GetDecode(self)\nFactorBP/FactorGraph.py:399: DeprecationWarning: PyArray_FromDimsAndDataAndDescr: use PyArray_NewFromDescr.\n  def GetDecode(self): return _FactorGraph.CFactorGraph_GetDecode(self)\n"
     ]
    },
    {
     "name": "stderr",
     "output_type": "stream",
     "text": [
      "FactorBP/FactorGraph.py:399: DeprecationWarning: PyArray_FromDims: use PyArray_SimpleNew.\n  def GetDecode(self): return _FactorGraph.CFactorGraph_GetDecode(self)\nFactorBP/FactorGraph.py:399: DeprecationWarning: PyArray_FromDimsAndDataAndDescr: use PyArray_NewFromDescr.\n  def GetDecode(self): return _FactorGraph.CFactorGraph_GetDecode(self)\nFactorBP/FactorGraph.py:399: DeprecationWarning: PyArray_FromDims: use PyArray_SimpleNew.\n  def GetDecode(self): return _FactorGraph.CFactorGraph_GetDecode(self)\nFactorBP/FactorGraph.py:399: DeprecationWarning: PyArray_FromDimsAndDataAndDescr: use PyArray_NewFromDescr.\n  def GetDecode(self): return _FactorGraph.CFactorGraph_GetDecode(self)\n"
     ]
    },
    {
     "name": "stderr",
     "output_type": "stream",
     "text": [
      "FactorBP/FactorGraph.py:399: DeprecationWarning: PyArray_FromDims: use PyArray_SimpleNew.\n  def GetDecode(self): return _FactorGraph.CFactorGraph_GetDecode(self)\nFactorBP/FactorGraph.py:399: DeprecationWarning: PyArray_FromDimsAndDataAndDescr: use PyArray_NewFromDescr.\n  def GetDecode(self): return _FactorGraph.CFactorGraph_GetDecode(self)\nFactorBP/FactorGraph.py:399: DeprecationWarning: PyArray_FromDims: use PyArray_SimpleNew.\n  def GetDecode(self): return _FactorGraph.CFactorGraph_GetDecode(self)\nFactorBP/FactorGraph.py:399: DeprecationWarning: PyArray_FromDimsAndDataAndDescr: use PyArray_NewFromDescr.\n  def GetDecode(self): return _FactorGraph.CFactorGraph_GetDecode(self)\n"
     ]
    },
    {
     "name": "stderr",
     "output_type": "stream",
     "text": [
      "FactorBP/FactorGraph.py:399: DeprecationWarning: PyArray_FromDims: use PyArray_SimpleNew.\n  def GetDecode(self): return _FactorGraph.CFactorGraph_GetDecode(self)\nFactorBP/FactorGraph.py:399: DeprecationWarning: PyArray_FromDimsAndDataAndDescr: use PyArray_NewFromDescr.\n  def GetDecode(self): return _FactorGraph.CFactorGraph_GetDecode(self)\nFactorBP/FactorGraph.py:399: DeprecationWarning: PyArray_FromDims: use PyArray_SimpleNew.\n  def GetDecode(self): return _FactorGraph.CFactorGraph_GetDecode(self)\nFactorBP/FactorGraph.py:399: DeprecationWarning: PyArray_FromDimsAndDataAndDescr: use PyArray_NewFromDescr.\n  def GetDecode(self): return _FactorGraph.CFactorGraph_GetDecode(self)\n"
     ]
    },
    {
     "name": "stderr",
     "output_type": "stream",
     "text": [
      "FactorBP/FactorGraph.py:399: DeprecationWarning: PyArray_FromDims: use PyArray_SimpleNew.\n  def GetDecode(self): return _FactorGraph.CFactorGraph_GetDecode(self)\nFactorBP/FactorGraph.py:399: DeprecationWarning: PyArray_FromDimsAndDataAndDescr: use PyArray_NewFromDescr.\n  def GetDecode(self): return _FactorGraph.CFactorGraph_GetDecode(self)\nFactorBP/FactorGraph.py:399: DeprecationWarning: PyArray_FromDims: use PyArray_SimpleNew.\n  def GetDecode(self): return _FactorGraph.CFactorGraph_GetDecode(self)\nFactorBP/FactorGraph.py:399: DeprecationWarning: PyArray_FromDimsAndDataAndDescr: use PyArray_NewFromDescr.\n  def GetDecode(self): return _FactorGraph.CFactorGraph_GetDecode(self)\n"
     ]
    },
    {
     "name": "stderr",
     "output_type": "stream",
     "text": [
      "FactorBP/FactorGraph.py:399: DeprecationWarning: PyArray_FromDims: use PyArray_SimpleNew.\n  def GetDecode(self): return _FactorGraph.CFactorGraph_GetDecode(self)\nFactorBP/FactorGraph.py:399: DeprecationWarning: PyArray_FromDimsAndDataAndDescr: use PyArray_NewFromDescr.\n  def GetDecode(self): return _FactorGraph.CFactorGraph_GetDecode(self)\nFactorBP/FactorGraph.py:399: DeprecationWarning: PyArray_FromDims: use PyArray_SimpleNew.\n  def GetDecode(self): return _FactorGraph.CFactorGraph_GetDecode(self)\nFactorBP/FactorGraph.py:399: DeprecationWarning: PyArray_FromDimsAndDataAndDescr: use PyArray_NewFromDescr.\n  def GetDecode(self): return _FactorGraph.CFactorGraph_GetDecode(self)\n"
     ]
    },
    {
     "name": "stderr",
     "output_type": "stream",
     "text": [
      "FactorBP/FactorGraph.py:399: DeprecationWarning: PyArray_FromDims: use PyArray_SimpleNew.\n  def GetDecode(self): return _FactorGraph.CFactorGraph_GetDecode(self)\nFactorBP/FactorGraph.py:399: DeprecationWarning: PyArray_FromDimsAndDataAndDescr: use PyArray_NewFromDescr.\n  def GetDecode(self): return _FactorGraph.CFactorGraph_GetDecode(self)\nFactorBP/FactorGraph.py:399: DeprecationWarning: PyArray_FromDims: use PyArray_SimpleNew.\n  def GetDecode(self): return _FactorGraph.CFactorGraph_GetDecode(self)\nFactorBP/FactorGraph.py:399: DeprecationWarning: PyArray_FromDimsAndDataAndDescr: use PyArray_NewFromDescr.\n  def GetDecode(self): return _FactorGraph.CFactorGraph_GetDecode(self)\n"
     ]
    },
    {
     "name": "stderr",
     "output_type": "stream",
     "text": [
      "FactorBP/FactorGraph.py:399: DeprecationWarning: PyArray_FromDims: use PyArray_SimpleNew.\n  def GetDecode(self): return _FactorGraph.CFactorGraph_GetDecode(self)\nFactorBP/FactorGraph.py:399: DeprecationWarning: PyArray_FromDimsAndDataAndDescr: use PyArray_NewFromDescr.\n  def GetDecode(self): return _FactorGraph.CFactorGraph_GetDecode(self)\nFactorBP/FactorGraph.py:399: DeprecationWarning: PyArray_FromDims: use PyArray_SimpleNew.\n  def GetDecode(self): return _FactorGraph.CFactorGraph_GetDecode(self)\nFactorBP/FactorGraph.py:399: DeprecationWarning: PyArray_FromDimsAndDataAndDescr: use PyArray_NewFromDescr.\n  def GetDecode(self): return _FactorGraph.CFactorGraph_GetDecode(self)\n"
     ]
    },
    {
     "name": "stderr",
     "output_type": "stream",
     "text": [
      "FactorBP/FactorGraph.py:399: DeprecationWarning: PyArray_FromDims: use PyArray_SimpleNew.\n  def GetDecode(self): return _FactorGraph.CFactorGraph_GetDecode(self)\nFactorBP/FactorGraph.py:399: DeprecationWarning: PyArray_FromDimsAndDataAndDescr: use PyArray_NewFromDescr.\n  def GetDecode(self): return _FactorGraph.CFactorGraph_GetDecode(self)\nFactorBP/FactorGraph.py:399: DeprecationWarning: PyArray_FromDims: use PyArray_SimpleNew.\n  def GetDecode(self): return _FactorGraph.CFactorGraph_GetDecode(self)\nFactorBP/FactorGraph.py:399: DeprecationWarning: PyArray_FromDimsAndDataAndDescr: use PyArray_NewFromDescr.\n  def GetDecode(self): return _FactorGraph.CFactorGraph_GetDecode(self)\nFactorBP/FactorGraph.py:399: DeprecationWarning: PyArray_FromDims: use PyArray_SimpleNew.\n  def GetDecode(self): return _FactorGraph.CFactorGraph_GetDecode(self)\nFactorBP/FactorGraph.py:399: DeprecationWarning: PyArray_FromDimsAndDataAndDescr: use PyArray_NewFromDescr.\n  def GetDecode(self): return _FactorGraph.CFactorGraph_GetDecode(self)\n"
     ]
    },
    {
     "name": "stderr",
     "output_type": "stream",
     "text": [
      "FactorBP/FactorGraph.py:399: DeprecationWarning: PyArray_FromDims: use PyArray_SimpleNew.\n  def GetDecode(self): return _FactorGraph.CFactorGraph_GetDecode(self)\nFactorBP/FactorGraph.py:399: DeprecationWarning: PyArray_FromDimsAndDataAndDescr: use PyArray_NewFromDescr.\n  def GetDecode(self): return _FactorGraph.CFactorGraph_GetDecode(self)\nFactorBP/FactorGraph.py:399: DeprecationWarning: PyArray_FromDims: use PyArray_SimpleNew.\n  def GetDecode(self): return _FactorGraph.CFactorGraph_GetDecode(self)\nFactorBP/FactorGraph.py:399: DeprecationWarning: PyArray_FromDimsAndDataAndDescr: use PyArray_NewFromDescr.\n  def GetDecode(self): return _FactorGraph.CFactorGraph_GetDecode(self)\n"
     ]
    },
    {
     "name": "stderr",
     "output_type": "stream",
     "text": [
      "FactorBP/FactorGraph.py:399: DeprecationWarning: PyArray_FromDims: use PyArray_SimpleNew.\n  def GetDecode(self): return _FactorGraph.CFactorGraph_GetDecode(self)\nFactorBP/FactorGraph.py:399: DeprecationWarning: PyArray_FromDimsAndDataAndDescr: use PyArray_NewFromDescr.\n  def GetDecode(self): return _FactorGraph.CFactorGraph_GetDecode(self)\nFactorBP/FactorGraph.py:399: DeprecationWarning: PyArray_FromDims: use PyArray_SimpleNew.\n  def GetDecode(self): return _FactorGraph.CFactorGraph_GetDecode(self)\nFactorBP/FactorGraph.py:399: DeprecationWarning: PyArray_FromDimsAndDataAndDescr: use PyArray_NewFromDescr.\n  def GetDecode(self): return _FactorGraph.CFactorGraph_GetDecode(self)\n"
     ]
    },
    {
     "name": "stderr",
     "output_type": "stream",
     "text": [
      "FactorBP/FactorGraph.py:399: DeprecationWarning: PyArray_FromDims: use PyArray_SimpleNew.\n  def GetDecode(self): return _FactorGraph.CFactorGraph_GetDecode(self)\nFactorBP/FactorGraph.py:399: DeprecationWarning: PyArray_FromDimsAndDataAndDescr: use PyArray_NewFromDescr.\n  def GetDecode(self): return _FactorGraph.CFactorGraph_GetDecode(self)\nFactorBP/FactorGraph.py:399: DeprecationWarning: PyArray_FromDims: use PyArray_SimpleNew.\n  def GetDecode(self): return _FactorGraph.CFactorGraph_GetDecode(self)\nFactorBP/FactorGraph.py:399: DeprecationWarning: PyArray_FromDimsAndDataAndDescr: use PyArray_NewFromDescr.\n  def GetDecode(self): return _FactorGraph.CFactorGraph_GetDecode(self)\n"
     ]
    },
    {
     "name": "stderr",
     "output_type": "stream",
     "text": [
      "FactorBP/FactorGraph.py:399: DeprecationWarning: PyArray_FromDims: use PyArray_SimpleNew.\n  def GetDecode(self): return _FactorGraph.CFactorGraph_GetDecode(self)\nFactorBP/FactorGraph.py:399: DeprecationWarning: PyArray_FromDimsAndDataAndDescr: use PyArray_NewFromDescr.\n  def GetDecode(self): return _FactorGraph.CFactorGraph_GetDecode(self)\nFactorBP/FactorGraph.py:399: DeprecationWarning: PyArray_FromDims: use PyArray_SimpleNew.\n  def GetDecode(self): return _FactorGraph.CFactorGraph_GetDecode(self)\nFactorBP/FactorGraph.py:399: DeprecationWarning: PyArray_FromDimsAndDataAndDescr: use PyArray_NewFromDescr.\n  def GetDecode(self): return _FactorGraph.CFactorGraph_GetDecode(self)\n"
     ]
    },
    {
     "name": "stderr",
     "output_type": "stream",
     "text": [
      "FactorBP/FactorGraph.py:399: DeprecationWarning: PyArray_FromDims: use PyArray_SimpleNew.\n  def GetDecode(self): return _FactorGraph.CFactorGraph_GetDecode(self)\nFactorBP/FactorGraph.py:399: DeprecationWarning: PyArray_FromDimsAndDataAndDescr: use PyArray_NewFromDescr.\n  def GetDecode(self): return _FactorGraph.CFactorGraph_GetDecode(self)\nFactorBP/FactorGraph.py:399: DeprecationWarning: PyArray_FromDims: use PyArray_SimpleNew.\n  def GetDecode(self): return _FactorGraph.CFactorGraph_GetDecode(self)\nFactorBP/FactorGraph.py:399: DeprecationWarning: PyArray_FromDimsAndDataAndDescr: use PyArray_NewFromDescr.\n  def GetDecode(self): return _FactorGraph.CFactorGraph_GetDecode(self)\n"
     ]
    },
    {
     "name": "stderr",
     "output_type": "stream",
     "text": [
      "FactorBP/FactorGraph.py:399: DeprecationWarning: PyArray_FromDims: use PyArray_SimpleNew.\n  def GetDecode(self): return _FactorGraph.CFactorGraph_GetDecode(self)\nFactorBP/FactorGraph.py:399: DeprecationWarning: PyArray_FromDimsAndDataAndDescr: use PyArray_NewFromDescr.\n  def GetDecode(self): return _FactorGraph.CFactorGraph_GetDecode(self)\nFactorBP/FactorGraph.py:399: DeprecationWarning: PyArray_FromDims: use PyArray_SimpleNew.\n  def GetDecode(self): return _FactorGraph.CFactorGraph_GetDecode(self)\nFactorBP/FactorGraph.py:399: DeprecationWarning: PyArray_FromDimsAndDataAndDescr: use PyArray_NewFromDescr.\n  def GetDecode(self): return _FactorGraph.CFactorGraph_GetDecode(self)\n"
     ]
    },
    {
     "name": "stderr",
     "output_type": "stream",
     "text": [
      "FactorBP/FactorGraph.py:399: DeprecationWarning: PyArray_FromDims: use PyArray_SimpleNew.\n  def GetDecode(self): return _FactorGraph.CFactorGraph_GetDecode(self)\nFactorBP/FactorGraph.py:399: DeprecationWarning: PyArray_FromDimsAndDataAndDescr: use PyArray_NewFromDescr.\n  def GetDecode(self): return _FactorGraph.CFactorGraph_GetDecode(self)\nFactorBP/FactorGraph.py:399: DeprecationWarning: PyArray_FromDims: use PyArray_SimpleNew.\n  def GetDecode(self): return _FactorGraph.CFactorGraph_GetDecode(self)\nFactorBP/FactorGraph.py:399: DeprecationWarning: PyArray_FromDimsAndDataAndDescr: use PyArray_NewFromDescr.\n  def GetDecode(self): return _FactorGraph.CFactorGraph_GetDecode(self)\n"
     ]
    },
    {
     "name": "stderr",
     "output_type": "stream",
     "text": [
      "FactorBP/FactorGraph.py:399: DeprecationWarning: PyArray_FromDims: use PyArray_SimpleNew.\n  def GetDecode(self): return _FactorGraph.CFactorGraph_GetDecode(self)\nFactorBP/FactorGraph.py:399: DeprecationWarning: PyArray_FromDimsAndDataAndDescr: use PyArray_NewFromDescr.\n  def GetDecode(self): return _FactorGraph.CFactorGraph_GetDecode(self)\nFactorBP/FactorGraph.py:399: DeprecationWarning: PyArray_FromDims: use PyArray_SimpleNew.\n  def GetDecode(self): return _FactorGraph.CFactorGraph_GetDecode(self)\nFactorBP/FactorGraph.py:399: DeprecationWarning: PyArray_FromDimsAndDataAndDescr: use PyArray_NewFromDescr.\n  def GetDecode(self): return _FactorGraph.CFactorGraph_GetDecode(self)\n"
     ]
    },
    {
     "name": "stderr",
     "output_type": "stream",
     "text": [
      "FactorBP/FactorGraph.py:399: DeprecationWarning: PyArray_FromDims: use PyArray_SimpleNew.\n  def GetDecode(self): return _FactorGraph.CFactorGraph_GetDecode(self)\nFactorBP/FactorGraph.py:399: DeprecationWarning: PyArray_FromDimsAndDataAndDescr: use PyArray_NewFromDescr.\n  def GetDecode(self): return _FactorGraph.CFactorGraph_GetDecode(self)\nFactorBP/FactorGraph.py:399: DeprecationWarning: PyArray_FromDims: use PyArray_SimpleNew.\n  def GetDecode(self): return _FactorGraph.CFactorGraph_GetDecode(self)\nFactorBP/FactorGraph.py:399: DeprecationWarning: PyArray_FromDimsAndDataAndDescr: use PyArray_NewFromDescr.\n  def GetDecode(self): return _FactorGraph.CFactorGraph_GetDecode(self)\n"
     ]
    },
    {
     "name": "stderr",
     "output_type": "stream",
     "text": [
      "FactorBP/FactorGraph.py:399: DeprecationWarning: PyArray_FromDims: use PyArray_SimpleNew.\n  def GetDecode(self): return _FactorGraph.CFactorGraph_GetDecode(self)\nFactorBP/FactorGraph.py:399: DeprecationWarning: PyArray_FromDimsAndDataAndDescr: use PyArray_NewFromDescr.\n  def GetDecode(self): return _FactorGraph.CFactorGraph_GetDecode(self)\nFactorBP/FactorGraph.py:399: DeprecationWarning: PyArray_FromDims: use PyArray_SimpleNew.\n  def GetDecode(self): return _FactorGraph.CFactorGraph_GetDecode(self)\nFactorBP/FactorGraph.py:399: DeprecationWarning: PyArray_FromDimsAndDataAndDescr: use PyArray_NewFromDescr.\n  def GetDecode(self): return _FactorGraph.CFactorGraph_GetDecode(self)\n"
     ]
    },
    {
     "name": "stderr",
     "output_type": "stream",
     "text": [
      "FactorBP/FactorGraph.py:399: DeprecationWarning: PyArray_FromDims: use PyArray_SimpleNew.\n  def GetDecode(self): return _FactorGraph.CFactorGraph_GetDecode(self)\nFactorBP/FactorGraph.py:399: DeprecationWarning: PyArray_FromDimsAndDataAndDescr: use PyArray_NewFromDescr.\n  def GetDecode(self): return _FactorGraph.CFactorGraph_GetDecode(self)\nFactorBP/FactorGraph.py:399: DeprecationWarning: PyArray_FromDims: use PyArray_SimpleNew.\n  def GetDecode(self): return _FactorGraph.CFactorGraph_GetDecode(self)\nFactorBP/FactorGraph.py:399: DeprecationWarning: PyArray_FromDimsAndDataAndDescr: use PyArray_NewFromDescr.\n  def GetDecode(self): return _FactorGraph.CFactorGraph_GetDecode(self)\n"
     ]
    },
    {
     "name": "stderr",
     "output_type": "stream",
     "text": [
      "FactorBP/FactorGraph.py:399: DeprecationWarning: PyArray_FromDims: use PyArray_SimpleNew.\n  def GetDecode(self): return _FactorGraph.CFactorGraph_GetDecode(self)\nFactorBP/FactorGraph.py:399: DeprecationWarning: PyArray_FromDimsAndDataAndDescr: use PyArray_NewFromDescr.\n  def GetDecode(self): return _FactorGraph.CFactorGraph_GetDecode(self)\nFactorBP/FactorGraph.py:399: DeprecationWarning: PyArray_FromDims: use PyArray_SimpleNew.\n  def GetDecode(self): return _FactorGraph.CFactorGraph_GetDecode(self)\nFactorBP/FactorGraph.py:399: DeprecationWarning: PyArray_FromDimsAndDataAndDescr: use PyArray_NewFromDescr.\n  def GetDecode(self): return _FactorGraph.CFactorGraph_GetDecode(self)\n"
     ]
    },
    {
     "name": "stderr",
     "output_type": "stream",
     "text": [
      "FactorBP/FactorGraph.py:399: DeprecationWarning: PyArray_FromDims: use PyArray_SimpleNew.\n  def GetDecode(self): return _FactorGraph.CFactorGraph_GetDecode(self)\nFactorBP/FactorGraph.py:399: DeprecationWarning: PyArray_FromDimsAndDataAndDescr: use PyArray_NewFromDescr.\n  def GetDecode(self): return _FactorGraph.CFactorGraph_GetDecode(self)\nFactorBP/FactorGraph.py:399: DeprecationWarning: PyArray_FromDims: use PyArray_SimpleNew.\n  def GetDecode(self): return _FactorGraph.CFactorGraph_GetDecode(self)\nFactorBP/FactorGraph.py:399: DeprecationWarning: PyArray_FromDimsAndDataAndDescr: use PyArray_NewFromDescr.\n  def GetDecode(self): return _FactorGraph.CFactorGraph_GetDecode(self)\n"
     ]
    },
    {
     "name": "stderr",
     "output_type": "stream",
     "text": [
      "FactorBP/FactorGraph.py:399: DeprecationWarning: PyArray_FromDims: use PyArray_SimpleNew.\n  def GetDecode(self): return _FactorGraph.CFactorGraph_GetDecode(self)\nFactorBP/FactorGraph.py:399: DeprecationWarning: PyArray_FromDimsAndDataAndDescr: use PyArray_NewFromDescr.\n  def GetDecode(self): return _FactorGraph.CFactorGraph_GetDecode(self)\nFactorBP/FactorGraph.py:399: DeprecationWarning: PyArray_FromDims: use PyArray_SimpleNew.\n  def GetDecode(self): return _FactorGraph.CFactorGraph_GetDecode(self)\nFactorBP/FactorGraph.py:399: DeprecationWarning: PyArray_FromDimsAndDataAndDescr: use PyArray_NewFromDescr.\n  def GetDecode(self): return _FactorGraph.CFactorGraph_GetDecode(self)\nFactorBP/FactorGraph.py:399: DeprecationWarning: PyArray_FromDims: use PyArray_SimpleNew.\n  def GetDecode(self): return _FactorGraph.CFactorGraph_GetDecode(self)\nFactorBP/FactorGraph.py:399: DeprecationWarning: PyArray_FromDimsAndDataAndDescr: use PyArray_NewFromDescr.\n  def GetDecode(self): return _FactorGraph.CFactorGraph_GetDecode(self)\n"
     ]
    },
    {
     "name": "stderr",
     "output_type": "stream",
     "text": [
      "FactorBP/FactorGraph.py:399: DeprecationWarning: PyArray_FromDims: use PyArray_SimpleNew.\n  def GetDecode(self): return _FactorGraph.CFactorGraph_GetDecode(self)\nFactorBP/FactorGraph.py:399: DeprecationWarning: PyArray_FromDimsAndDataAndDescr: use PyArray_NewFromDescr.\n  def GetDecode(self): return _FactorGraph.CFactorGraph_GetDecode(self)\nFactorBP/FactorGraph.py:399: DeprecationWarning: PyArray_FromDims: use PyArray_SimpleNew.\n  def GetDecode(self): return _FactorGraph.CFactorGraph_GetDecode(self)\nFactorBP/FactorGraph.py:399: DeprecationWarning: PyArray_FromDimsAndDataAndDescr: use PyArray_NewFromDescr.\n  def GetDecode(self): return _FactorGraph.CFactorGraph_GetDecode(self)\n"
     ]
    },
    {
     "name": "stderr",
     "output_type": "stream",
     "text": [
      "FactorBP/FactorGraph.py:399: DeprecationWarning: PyArray_FromDims: use PyArray_SimpleNew.\n  def GetDecode(self): return _FactorGraph.CFactorGraph_GetDecode(self)\nFactorBP/FactorGraph.py:399: DeprecationWarning: PyArray_FromDimsAndDataAndDescr: use PyArray_NewFromDescr.\n  def GetDecode(self): return _FactorGraph.CFactorGraph_GetDecode(self)\nFactorBP/FactorGraph.py:399: DeprecationWarning: PyArray_FromDims: use PyArray_SimpleNew.\n  def GetDecode(self): return _FactorGraph.CFactorGraph_GetDecode(self)\nFactorBP/FactorGraph.py:399: DeprecationWarning: PyArray_FromDimsAndDataAndDescr: use PyArray_NewFromDescr.\n  def GetDecode(self): return _FactorGraph.CFactorGraph_GetDecode(self)\n"
     ]
    },
    {
     "name": "stderr",
     "output_type": "stream",
     "text": [
      "FactorBP/FactorGraph.py:399: DeprecationWarning: PyArray_FromDims: use PyArray_SimpleNew.\n  def GetDecode(self): return _FactorGraph.CFactorGraph_GetDecode(self)\nFactorBP/FactorGraph.py:399: DeprecationWarning: PyArray_FromDimsAndDataAndDescr: use PyArray_NewFromDescr.\n  def GetDecode(self): return _FactorGraph.CFactorGraph_GetDecode(self)\nFactorBP/FactorGraph.py:399: DeprecationWarning: PyArray_FromDims: use PyArray_SimpleNew.\n  def GetDecode(self): return _FactorGraph.CFactorGraph_GetDecode(self)\nFactorBP/FactorGraph.py:399: DeprecationWarning: PyArray_FromDimsAndDataAndDescr: use PyArray_NewFromDescr.\n  def GetDecode(self): return _FactorGraph.CFactorGraph_GetDecode(self)\n"
     ]
    },
    {
     "name": "stderr",
     "output_type": "stream",
     "text": [
      "FactorBP/FactorGraph.py:399: DeprecationWarning: PyArray_FromDims: use PyArray_SimpleNew.\n  def GetDecode(self): return _FactorGraph.CFactorGraph_GetDecode(self)\nFactorBP/FactorGraph.py:399: DeprecationWarning: PyArray_FromDimsAndDataAndDescr: use PyArray_NewFromDescr.\n  def GetDecode(self): return _FactorGraph.CFactorGraph_GetDecode(self)\nFactorBP/FactorGraph.py:399: DeprecationWarning: PyArray_FromDims: use PyArray_SimpleNew.\n  def GetDecode(self): return _FactorGraph.CFactorGraph_GetDecode(self)\nFactorBP/FactorGraph.py:399: DeprecationWarning: PyArray_FromDimsAndDataAndDescr: use PyArray_NewFromDescr.\n  def GetDecode(self): return _FactorGraph.CFactorGraph_GetDecode(self)\n"
     ]
    },
    {
     "name": "stderr",
     "output_type": "stream",
     "text": [
      "FactorBP/FactorGraph.py:399: DeprecationWarning: PyArray_FromDims: use PyArray_SimpleNew.\n  def GetDecode(self): return _FactorGraph.CFactorGraph_GetDecode(self)\nFactorBP/FactorGraph.py:399: DeprecationWarning: PyArray_FromDimsAndDataAndDescr: use PyArray_NewFromDescr.\n  def GetDecode(self): return _FactorGraph.CFactorGraph_GetDecode(self)\nFactorBP/FactorGraph.py:399: DeprecationWarning: PyArray_FromDims: use PyArray_SimpleNew.\n  def GetDecode(self): return _FactorGraph.CFactorGraph_GetDecode(self)\nFactorBP/FactorGraph.py:399: DeprecationWarning: PyArray_FromDimsAndDataAndDescr: use PyArray_NewFromDescr.\n  def GetDecode(self): return _FactorGraph.CFactorGraph_GetDecode(self)\n"
     ]
    },
    {
     "name": "stderr",
     "output_type": "stream",
     "text": [
      "FactorBP/FactorGraph.py:399: DeprecationWarning: PyArray_FromDims: use PyArray_SimpleNew.\n  def GetDecode(self): return _FactorGraph.CFactorGraph_GetDecode(self)\nFactorBP/FactorGraph.py:399: DeprecationWarning: PyArray_FromDimsAndDataAndDescr: use PyArray_NewFromDescr.\n  def GetDecode(self): return _FactorGraph.CFactorGraph_GetDecode(self)\nFactorBP/FactorGraph.py:399: DeprecationWarning: PyArray_FromDims: use PyArray_SimpleNew.\n  def GetDecode(self): return _FactorGraph.CFactorGraph_GetDecode(self)\nFactorBP/FactorGraph.py:399: DeprecationWarning: PyArray_FromDimsAndDataAndDescr: use PyArray_NewFromDescr.\n  def GetDecode(self): return _FactorGraph.CFactorGraph_GetDecode(self)\n"
     ]
    },
    {
     "name": "stderr",
     "output_type": "stream",
     "text": [
      "FactorBP/FactorGraph.py:399: DeprecationWarning: PyArray_FromDims: use PyArray_SimpleNew.\n  def GetDecode(self): return _FactorGraph.CFactorGraph_GetDecode(self)\nFactorBP/FactorGraph.py:399: DeprecationWarning: PyArray_FromDimsAndDataAndDescr: use PyArray_NewFromDescr.\n  def GetDecode(self): return _FactorGraph.CFactorGraph_GetDecode(self)\nFactorBP/FactorGraph.py:399: DeprecationWarning: PyArray_FromDims: use PyArray_SimpleNew.\n  def GetDecode(self): return _FactorGraph.CFactorGraph_GetDecode(self)\nFactorBP/FactorGraph.py:399: DeprecationWarning: PyArray_FromDimsAndDataAndDescr: use PyArray_NewFromDescr.\n  def GetDecode(self): return _FactorGraph.CFactorGraph_GetDecode(self)\n"
     ]
    },
    {
     "name": "stderr",
     "output_type": "stream",
     "text": [
      "FactorBP/FactorGraph.py:399: DeprecationWarning: PyArray_FromDims: use PyArray_SimpleNew.\n  def GetDecode(self): return _FactorGraph.CFactorGraph_GetDecode(self)\nFactorBP/FactorGraph.py:399: DeprecationWarning: PyArray_FromDimsAndDataAndDescr: use PyArray_NewFromDescr.\n  def GetDecode(self): return _FactorGraph.CFactorGraph_GetDecode(self)\nFactorBP/FactorGraph.py:399: DeprecationWarning: PyArray_FromDims: use PyArray_SimpleNew.\n  def GetDecode(self): return _FactorGraph.CFactorGraph_GetDecode(self)\nFactorBP/FactorGraph.py:399: DeprecationWarning: PyArray_FromDimsAndDataAndDescr: use PyArray_NewFromDescr.\n  def GetDecode(self): return _FactorGraph.CFactorGraph_GetDecode(self)\nFactorBP/FactorGraph.py:399: DeprecationWarning: PyArray_FromDims: use PyArray_SimpleNew.\n  def GetDecode(self): return _FactorGraph.CFactorGraph_GetDecode(self)\nFactorBP/FactorGraph.py:399: DeprecationWarning: PyArray_FromDimsAndDataAndDescr: use PyArray_NewFromDescr.\n  def GetDecode(self): return _FactorGraph.CFactorGraph_GetDecode(self)\n"
     ]
    },
    {
     "name": "stdout",
     "output_type": "stream",
     "text": [
      "Ours Accuracy 1.000000 Running Time 0.286311 Obj 1.000000\nOurs-PW Accuracy 1.000000 Running Time 0.113202 Obj 0.915925\nOurs-BCA Accuracy 1.000000 Running Time 0.314871 Obj 1.000000\nBCA Accuracy 0.950407 Running Time 0.019219 Obj 0.974635\nBCA-MP Accuracy 0.995935 Running Time 0.130087 Obj 0.997648\nBCA-IPFP Accuracy 0.998374 Running Time 0.087202 Obj 0.999424\nHGM Accuracy 0.432520 Running Time 0.003722 Obj 0.436438\nRRWHM Accuracy 1.000000 Running Time 0.060068 Obj 1.000000\nTM Accuracy 0.369106 Running Time 0.070506 Obj 0.533630\n××××××××××××××××××××\n Start baseline: 80\n"
     ]
    },
    {
     "name": "stderr",
     "output_type": "stream",
     "text": [
      "FactorBP/FactorGraph.py:399: DeprecationWarning: PyArray_FromDims: use PyArray_SimpleNew.\n  def GetDecode(self): return _FactorGraph.CFactorGraph_GetDecode(self)\nFactorBP/FactorGraph.py:399: DeprecationWarning: PyArray_FromDimsAndDataAndDescr: use PyArray_NewFromDescr.\n  def GetDecode(self): return _FactorGraph.CFactorGraph_GetDecode(self)\nFactorBP/FactorGraph.py:399: DeprecationWarning: PyArray_FromDims: use PyArray_SimpleNew.\n  def GetDecode(self): return _FactorGraph.CFactorGraph_GetDecode(self)\nFactorBP/FactorGraph.py:399: DeprecationWarning: PyArray_FromDimsAndDataAndDescr: use PyArray_NewFromDescr.\n  def GetDecode(self): return _FactorGraph.CFactorGraph_GetDecode(self)\n"
     ]
    },
    {
     "name": "stderr",
     "output_type": "stream",
     "text": [
      "FactorBP/FactorGraph.py:399: DeprecationWarning: PyArray_FromDims: use PyArray_SimpleNew.\n  def GetDecode(self): return _FactorGraph.CFactorGraph_GetDecode(self)\nFactorBP/FactorGraph.py:399: DeprecationWarning: PyArray_FromDimsAndDataAndDescr: use PyArray_NewFromDescr.\n  def GetDecode(self): return _FactorGraph.CFactorGraph_GetDecode(self)\n"
     ]
    },
    {
     "name": "stderr",
     "output_type": "stream",
     "text": [
      "FactorBP/FactorGraph.py:399: DeprecationWarning: PyArray_FromDims: use PyArray_SimpleNew.\n  def GetDecode(self): return _FactorGraph.CFactorGraph_GetDecode(self)\nFactorBP/FactorGraph.py:399: DeprecationWarning: PyArray_FromDimsAndDataAndDescr: use PyArray_NewFromDescr.\n  def GetDecode(self): return _FactorGraph.CFactorGraph_GetDecode(self)\n"
     ]
    },
    {
     "name": "stderr",
     "output_type": "stream",
     "text": [
      "FactorBP/FactorGraph.py:399: DeprecationWarning: PyArray_FromDims: use PyArray_SimpleNew.\n  def GetDecode(self): return _FactorGraph.CFactorGraph_GetDecode(self)\nFactorBP/FactorGraph.py:399: DeprecationWarning: PyArray_FromDimsAndDataAndDescr: use PyArray_NewFromDescr.\n  def GetDecode(self): return _FactorGraph.CFactorGraph_GetDecode(self)\nFactorBP/FactorGraph.py:399: DeprecationWarning: PyArray_FromDims: use PyArray_SimpleNew.\n  def GetDecode(self): return _FactorGraph.CFactorGraph_GetDecode(self)\nFactorBP/FactorGraph.py:399: DeprecationWarning: PyArray_FromDimsAndDataAndDescr: use PyArray_NewFromDescr.\n  def GetDecode(self): return _FactorGraph.CFactorGraph_GetDecode(self)\n"
     ]
    },
    {
     "name": "stderr",
     "output_type": "stream",
     "text": [
      "FactorBP/FactorGraph.py:399: DeprecationWarning: PyArray_FromDims: use PyArray_SimpleNew.\n  def GetDecode(self): return _FactorGraph.CFactorGraph_GetDecode(self)\nFactorBP/FactorGraph.py:399: DeprecationWarning: PyArray_FromDimsAndDataAndDescr: use PyArray_NewFromDescr.\n  def GetDecode(self): return _FactorGraph.CFactorGraph_GetDecode(self)\n"
     ]
    },
    {
     "name": "stderr",
     "output_type": "stream",
     "text": [
      "FactorBP/FactorGraph.py:399: DeprecationWarning: PyArray_FromDims: use PyArray_SimpleNew.\n  def GetDecode(self): return _FactorGraph.CFactorGraph_GetDecode(self)\nFactorBP/FactorGraph.py:399: DeprecationWarning: PyArray_FromDimsAndDataAndDescr: use PyArray_NewFromDescr.\n  def GetDecode(self): return _FactorGraph.CFactorGraph_GetDecode(self)\nFactorBP/FactorGraph.py:399: DeprecationWarning: PyArray_FromDims: use PyArray_SimpleNew.\n  def GetDecode(self): return _FactorGraph.CFactorGraph_GetDecode(self)\nFactorBP/FactorGraph.py:399: DeprecationWarning: PyArray_FromDimsAndDataAndDescr: use PyArray_NewFromDescr.\n  def GetDecode(self): return _FactorGraph.CFactorGraph_GetDecode(self)\n"
     ]
    },
    {
     "name": "stderr",
     "output_type": "stream",
     "text": [
      "FactorBP/FactorGraph.py:399: DeprecationWarning: PyArray_FromDims: use PyArray_SimpleNew.\n  def GetDecode(self): return _FactorGraph.CFactorGraph_GetDecode(self)\nFactorBP/FactorGraph.py:399: DeprecationWarning: PyArray_FromDimsAndDataAndDescr: use PyArray_NewFromDescr.\n  def GetDecode(self): return _FactorGraph.CFactorGraph_GetDecode(self)\nFactorBP/FactorGraph.py:399: DeprecationWarning: PyArray_FromDims: use PyArray_SimpleNew.\n  def GetDecode(self): return _FactorGraph.CFactorGraph_GetDecode(self)\nFactorBP/FactorGraph.py:399: DeprecationWarning: PyArray_FromDimsAndDataAndDescr: use PyArray_NewFromDescr.\n  def GetDecode(self): return _FactorGraph.CFactorGraph_GetDecode(self)\n"
     ]
    },
    {
     "name": "stderr",
     "output_type": "stream",
     "text": [
      "FactorBP/FactorGraph.py:399: DeprecationWarning: PyArray_FromDims: use PyArray_SimpleNew.\n  def GetDecode(self): return _FactorGraph.CFactorGraph_GetDecode(self)\nFactorBP/FactorGraph.py:399: DeprecationWarning: PyArray_FromDimsAndDataAndDescr: use PyArray_NewFromDescr.\n  def GetDecode(self): return _FactorGraph.CFactorGraph_GetDecode(self)\nFactorBP/FactorGraph.py:399: DeprecationWarning: PyArray_FromDims: use PyArray_SimpleNew.\n  def GetDecode(self): return _FactorGraph.CFactorGraph_GetDecode(self)\nFactorBP/FactorGraph.py:399: DeprecationWarning: PyArray_FromDimsAndDataAndDescr: use PyArray_NewFromDescr.\n  def GetDecode(self): return _FactorGraph.CFactorGraph_GetDecode(self)\nFactorBP/FactorGraph.py:399: DeprecationWarning: PyArray_FromDims: use PyArray_SimpleNew.\n  def GetDecode(self): return _FactorGraph.CFactorGraph_GetDecode(self)\nFactorBP/FactorGraph.py:399: DeprecationWarning: PyArray_FromDimsAndDataAndDescr: use PyArray_NewFromDescr.\n  def GetDecode(self): return _FactorGraph.CFactorGraph_GetDecode(self)\n"
     ]
    },
    {
     "name": "stderr",
     "output_type": "stream",
     "text": [
      "FactorBP/FactorGraph.py:399: DeprecationWarning: PyArray_FromDims: use PyArray_SimpleNew.\n  def GetDecode(self): return _FactorGraph.CFactorGraph_GetDecode(self)\nFactorBP/FactorGraph.py:399: DeprecationWarning: PyArray_FromDimsAndDataAndDescr: use PyArray_NewFromDescr.\n  def GetDecode(self): return _FactorGraph.CFactorGraph_GetDecode(self)\nFactorBP/FactorGraph.py:399: DeprecationWarning: PyArray_FromDims: use PyArray_SimpleNew.\n  def GetDecode(self): return _FactorGraph.CFactorGraph_GetDecode(self)\nFactorBP/FactorGraph.py:399: DeprecationWarning: PyArray_FromDimsAndDataAndDescr: use PyArray_NewFromDescr.\n  def GetDecode(self): return _FactorGraph.CFactorGraph_GetDecode(self)\n"
     ]
    },
    {
     "name": "stderr",
     "output_type": "stream",
     "text": [
      "FactorBP/FactorGraph.py:399: DeprecationWarning: PyArray_FromDims: use PyArray_SimpleNew.\n  def GetDecode(self): return _FactorGraph.CFactorGraph_GetDecode(self)\nFactorBP/FactorGraph.py:399: DeprecationWarning: PyArray_FromDimsAndDataAndDescr: use PyArray_NewFromDescr.\n  def GetDecode(self): return _FactorGraph.CFactorGraph_GetDecode(self)\n"
     ]
    },
    {
     "name": "stderr",
     "output_type": "stream",
     "text": [
      "FactorBP/FactorGraph.py:399: DeprecationWarning: PyArray_FromDims: use PyArray_SimpleNew.\n  def GetDecode(self): return _FactorGraph.CFactorGraph_GetDecode(self)\nFactorBP/FactorGraph.py:399: DeprecationWarning: PyArray_FromDimsAndDataAndDescr: use PyArray_NewFromDescr.\n  def GetDecode(self): return _FactorGraph.CFactorGraph_GetDecode(self)\n"
     ]
    },
    {
     "name": "stderr",
     "output_type": "stream",
     "text": [
      "FactorBP/FactorGraph.py:399: DeprecationWarning: PyArray_FromDims: use PyArray_SimpleNew.\n  def GetDecode(self): return _FactorGraph.CFactorGraph_GetDecode(self)\nFactorBP/FactorGraph.py:399: DeprecationWarning: PyArray_FromDimsAndDataAndDescr: use PyArray_NewFromDescr.\n  def GetDecode(self): return _FactorGraph.CFactorGraph_GetDecode(self)\n"
     ]
    },
    {
     "name": "stderr",
     "output_type": "stream",
     "text": [
      "FactorBP/FactorGraph.py:399: DeprecationWarning: PyArray_FromDims: use PyArray_SimpleNew.\n  def GetDecode(self): return _FactorGraph.CFactorGraph_GetDecode(self)\nFactorBP/FactorGraph.py:399: DeprecationWarning: PyArray_FromDimsAndDataAndDescr: use PyArray_NewFromDescr.\n  def GetDecode(self): return _FactorGraph.CFactorGraph_GetDecode(self)\n"
     ]
    },
    {
     "name": "stderr",
     "output_type": "stream",
     "text": [
      "FactorBP/FactorGraph.py:399: DeprecationWarning: PyArray_FromDims: use PyArray_SimpleNew.\n  def GetDecode(self): return _FactorGraph.CFactorGraph_GetDecode(self)\nFactorBP/FactorGraph.py:399: DeprecationWarning: PyArray_FromDimsAndDataAndDescr: use PyArray_NewFromDescr.\n  def GetDecode(self): return _FactorGraph.CFactorGraph_GetDecode(self)\n"
     ]
    },
    {
     "name": "stderr",
     "output_type": "stream",
     "text": [
      "FactorBP/FactorGraph.py:399: DeprecationWarning: PyArray_FromDims: use PyArray_SimpleNew.\n  def GetDecode(self): return _FactorGraph.CFactorGraph_GetDecode(self)\nFactorBP/FactorGraph.py:399: DeprecationWarning: PyArray_FromDimsAndDataAndDescr: use PyArray_NewFromDescr.\n  def GetDecode(self): return _FactorGraph.CFactorGraph_GetDecode(self)\n"
     ]
    },
    {
     "name": "stderr",
     "output_type": "stream",
     "text": [
      "FactorBP/FactorGraph.py:399: DeprecationWarning: PyArray_FromDims: use PyArray_SimpleNew.\n  def GetDecode(self): return _FactorGraph.CFactorGraph_GetDecode(self)\nFactorBP/FactorGraph.py:399: DeprecationWarning: PyArray_FromDimsAndDataAndDescr: use PyArray_NewFromDescr.\n  def GetDecode(self): return _FactorGraph.CFactorGraph_GetDecode(self)\nFactorBP/FactorGraph.py:399: DeprecationWarning: PyArray_FromDims: use PyArray_SimpleNew.\n  def GetDecode(self): return _FactorGraph.CFactorGraph_GetDecode(self)\nFactorBP/FactorGraph.py:399: DeprecationWarning: PyArray_FromDimsAndDataAndDescr: use PyArray_NewFromDescr.\n  def GetDecode(self): return _FactorGraph.CFactorGraph_GetDecode(self)\n"
     ]
    },
    {
     "name": "stderr",
     "output_type": "stream",
     "text": [
      "FactorBP/FactorGraph.py:399: DeprecationWarning: PyArray_FromDims: use PyArray_SimpleNew.\n  def GetDecode(self): return _FactorGraph.CFactorGraph_GetDecode(self)\nFactorBP/FactorGraph.py:399: DeprecationWarning: PyArray_FromDimsAndDataAndDescr: use PyArray_NewFromDescr.\n  def GetDecode(self): return _FactorGraph.CFactorGraph_GetDecode(self)\nFactorBP/FactorGraph.py:399: DeprecationWarning: PyArray_FromDims: use PyArray_SimpleNew.\n  def GetDecode(self): return _FactorGraph.CFactorGraph_GetDecode(self)\nFactorBP/FactorGraph.py:399: DeprecationWarning: PyArray_FromDimsAndDataAndDescr: use PyArray_NewFromDescr.\n  def GetDecode(self): return _FactorGraph.CFactorGraph_GetDecode(self)\n"
     ]
    },
    {
     "name": "stderr",
     "output_type": "stream",
     "text": [
      "FactorBP/FactorGraph.py:399: DeprecationWarning: PyArray_FromDims: use PyArray_SimpleNew.\n  def GetDecode(self): return _FactorGraph.CFactorGraph_GetDecode(self)\nFactorBP/FactorGraph.py:399: DeprecationWarning: PyArray_FromDimsAndDataAndDescr: use PyArray_NewFromDescr.\n  def GetDecode(self): return _FactorGraph.CFactorGraph_GetDecode(self)\n"
     ]
    },
    {
     "name": "stderr",
     "output_type": "stream",
     "text": [
      "FactorBP/FactorGraph.py:399: DeprecationWarning: PyArray_FromDims: use PyArray_SimpleNew.\n  def GetDecode(self): return _FactorGraph.CFactorGraph_GetDecode(self)\nFactorBP/FactorGraph.py:399: DeprecationWarning: PyArray_FromDimsAndDataAndDescr: use PyArray_NewFromDescr.\n  def GetDecode(self): return _FactorGraph.CFactorGraph_GetDecode(self)\n"
     ]
    },
    {
     "name": "stderr",
     "output_type": "stream",
     "text": [
      "FactorBP/FactorGraph.py:399: DeprecationWarning: PyArray_FromDims: use PyArray_SimpleNew.\n  def GetDecode(self): return _FactorGraph.CFactorGraph_GetDecode(self)\nFactorBP/FactorGraph.py:399: DeprecationWarning: PyArray_FromDimsAndDataAndDescr: use PyArray_NewFromDescr.\n  def GetDecode(self): return _FactorGraph.CFactorGraph_GetDecode(self)\nFactorBP/FactorGraph.py:399: DeprecationWarning: PyArray_FromDims: use PyArray_SimpleNew.\n  def GetDecode(self): return _FactorGraph.CFactorGraph_GetDecode(self)\nFactorBP/FactorGraph.py:399: DeprecationWarning: PyArray_FromDimsAndDataAndDescr: use PyArray_NewFromDescr.\n  def GetDecode(self): return _FactorGraph.CFactorGraph_GetDecode(self)\n"
     ]
    },
    {
     "name": "stderr",
     "output_type": "stream",
     "text": [
      "FactorBP/FactorGraph.py:399: DeprecationWarning: PyArray_FromDims: use PyArray_SimpleNew.\n  def GetDecode(self): return _FactorGraph.CFactorGraph_GetDecode(self)\nFactorBP/FactorGraph.py:399: DeprecationWarning: PyArray_FromDimsAndDataAndDescr: use PyArray_NewFromDescr.\n  def GetDecode(self): return _FactorGraph.CFactorGraph_GetDecode(self)\nFactorBP/FactorGraph.py:399: DeprecationWarning: PyArray_FromDims: use PyArray_SimpleNew.\n  def GetDecode(self): return _FactorGraph.CFactorGraph_GetDecode(self)\nFactorBP/FactorGraph.py:399: DeprecationWarning: PyArray_FromDimsAndDataAndDescr: use PyArray_NewFromDescr.\n  def GetDecode(self): return _FactorGraph.CFactorGraph_GetDecode(self)\n"
     ]
    },
    {
     "name": "stderr",
     "output_type": "stream",
     "text": [
      "FactorBP/FactorGraph.py:399: DeprecationWarning: PyArray_FromDims: use PyArray_SimpleNew.\n  def GetDecode(self): return _FactorGraph.CFactorGraph_GetDecode(self)\nFactorBP/FactorGraph.py:399: DeprecationWarning: PyArray_FromDimsAndDataAndDescr: use PyArray_NewFromDescr.\n  def GetDecode(self): return _FactorGraph.CFactorGraph_GetDecode(self)\nFactorBP/FactorGraph.py:399: DeprecationWarning: PyArray_FromDims: use PyArray_SimpleNew.\n  def GetDecode(self): return _FactorGraph.CFactorGraph_GetDecode(self)\nFactorBP/FactorGraph.py:399: DeprecationWarning: PyArray_FromDimsAndDataAndDescr: use PyArray_NewFromDescr.\n  def GetDecode(self): return _FactorGraph.CFactorGraph_GetDecode(self)\n"
     ]
    },
    {
     "name": "stderr",
     "output_type": "stream",
     "text": [
      "FactorBP/FactorGraph.py:399: DeprecationWarning: PyArray_FromDims: use PyArray_SimpleNew.\n  def GetDecode(self): return _FactorGraph.CFactorGraph_GetDecode(self)\nFactorBP/FactorGraph.py:399: DeprecationWarning: PyArray_FromDimsAndDataAndDescr: use PyArray_NewFromDescr.\n  def GetDecode(self): return _FactorGraph.CFactorGraph_GetDecode(self)\nFactorBP/FactorGraph.py:399: DeprecationWarning: PyArray_FromDims: use PyArray_SimpleNew.\n  def GetDecode(self): return _FactorGraph.CFactorGraph_GetDecode(self)\nFactorBP/FactorGraph.py:399: DeprecationWarning: PyArray_FromDimsAndDataAndDescr: use PyArray_NewFromDescr.\n  def GetDecode(self): return _FactorGraph.CFactorGraph_GetDecode(self)\n"
     ]
    },
    {
     "name": "stderr",
     "output_type": "stream",
     "text": [
      "FactorBP/FactorGraph.py:399: DeprecationWarning: PyArray_FromDims: use PyArray_SimpleNew.\n  def GetDecode(self): return _FactorGraph.CFactorGraph_GetDecode(self)\nFactorBP/FactorGraph.py:399: DeprecationWarning: PyArray_FromDimsAndDataAndDescr: use PyArray_NewFromDescr.\n  def GetDecode(self): return _FactorGraph.CFactorGraph_GetDecode(self)\nFactorBP/FactorGraph.py:399: DeprecationWarning: PyArray_FromDims: use PyArray_SimpleNew.\n  def GetDecode(self): return _FactorGraph.CFactorGraph_GetDecode(self)\nFactorBP/FactorGraph.py:399: DeprecationWarning: PyArray_FromDimsAndDataAndDescr: use PyArray_NewFromDescr.\n  def GetDecode(self): return _FactorGraph.CFactorGraph_GetDecode(self)\n"
     ]
    },
    {
     "name": "stderr",
     "output_type": "stream",
     "text": [
      "FactorBP/FactorGraph.py:399: DeprecationWarning: PyArray_FromDims: use PyArray_SimpleNew.\n  def GetDecode(self): return _FactorGraph.CFactorGraph_GetDecode(self)\nFactorBP/FactorGraph.py:399: DeprecationWarning: PyArray_FromDimsAndDataAndDescr: use PyArray_NewFromDescr.\n  def GetDecode(self): return _FactorGraph.CFactorGraph_GetDecode(self)\nFactorBP/FactorGraph.py:399: DeprecationWarning: PyArray_FromDims: use PyArray_SimpleNew.\n  def GetDecode(self): return _FactorGraph.CFactorGraph_GetDecode(self)\nFactorBP/FactorGraph.py:399: DeprecationWarning: PyArray_FromDimsAndDataAndDescr: use PyArray_NewFromDescr.\n  def GetDecode(self): return _FactorGraph.CFactorGraph_GetDecode(self)\n"
     ]
    },
    {
     "name": "stderr",
     "output_type": "stream",
     "text": [
      "FactorBP/FactorGraph.py:399: DeprecationWarning: PyArray_FromDims: use PyArray_SimpleNew.\n  def GetDecode(self): return _FactorGraph.CFactorGraph_GetDecode(self)\nFactorBP/FactorGraph.py:399: DeprecationWarning: PyArray_FromDimsAndDataAndDescr: use PyArray_NewFromDescr.\n  def GetDecode(self): return _FactorGraph.CFactorGraph_GetDecode(self)\nFactorBP/FactorGraph.py:399: DeprecationWarning: PyArray_FromDims: use PyArray_SimpleNew.\n  def GetDecode(self): return _FactorGraph.CFactorGraph_GetDecode(self)\nFactorBP/FactorGraph.py:399: DeprecationWarning: PyArray_FromDimsAndDataAndDescr: use PyArray_NewFromDescr.\n  def GetDecode(self): return _FactorGraph.CFactorGraph_GetDecode(self)\n"
     ]
    },
    {
     "name": "stderr",
     "output_type": "stream",
     "text": [
      "FactorBP/FactorGraph.py:399: DeprecationWarning: PyArray_FromDims: use PyArray_SimpleNew.\n  def GetDecode(self): return _FactorGraph.CFactorGraph_GetDecode(self)\nFactorBP/FactorGraph.py:399: DeprecationWarning: PyArray_FromDimsAndDataAndDescr: use PyArray_NewFromDescr.\n  def GetDecode(self): return _FactorGraph.CFactorGraph_GetDecode(self)\nFactorBP/FactorGraph.py:399: DeprecationWarning: PyArray_FromDims: use PyArray_SimpleNew.\n  def GetDecode(self): return _FactorGraph.CFactorGraph_GetDecode(self)\nFactorBP/FactorGraph.py:399: DeprecationWarning: PyArray_FromDimsAndDataAndDescr: use PyArray_NewFromDescr.\n  def GetDecode(self): return _FactorGraph.CFactorGraph_GetDecode(self)\n"
     ]
    },
    {
     "name": "stderr",
     "output_type": "stream",
     "text": [
      "FactorBP/FactorGraph.py:399: DeprecationWarning: PyArray_FromDims: use PyArray_SimpleNew.\n  def GetDecode(self): return _FactorGraph.CFactorGraph_GetDecode(self)\nFactorBP/FactorGraph.py:399: DeprecationWarning: PyArray_FromDimsAndDataAndDescr: use PyArray_NewFromDescr.\n  def GetDecode(self): return _FactorGraph.CFactorGraph_GetDecode(self)\nFactorBP/FactorGraph.py:399: DeprecationWarning: PyArray_FromDims: use PyArray_SimpleNew.\n  def GetDecode(self): return _FactorGraph.CFactorGraph_GetDecode(self)\nFactorBP/FactorGraph.py:399: DeprecationWarning: PyArray_FromDimsAndDataAndDescr: use PyArray_NewFromDescr.\n  def GetDecode(self): return _FactorGraph.CFactorGraph_GetDecode(self)\n"
     ]
    },
    {
     "name": "stderr",
     "output_type": "stream",
     "text": [
      "FactorBP/FactorGraph.py:399: DeprecationWarning: PyArray_FromDims: use PyArray_SimpleNew.\n  def GetDecode(self): return _FactorGraph.CFactorGraph_GetDecode(self)\nFactorBP/FactorGraph.py:399: DeprecationWarning: PyArray_FromDimsAndDataAndDescr: use PyArray_NewFromDescr.\n  def GetDecode(self): return _FactorGraph.CFactorGraph_GetDecode(self)\nFactorBP/FactorGraph.py:399: DeprecationWarning: PyArray_FromDims: use PyArray_SimpleNew.\n  def GetDecode(self): return _FactorGraph.CFactorGraph_GetDecode(self)\nFactorBP/FactorGraph.py:399: DeprecationWarning: PyArray_FromDimsAndDataAndDescr: use PyArray_NewFromDescr.\n  def GetDecode(self): return _FactorGraph.CFactorGraph_GetDecode(self)\n"
     ]
    },
    {
     "name": "stderr",
     "output_type": "stream",
     "text": [
      "FactorBP/FactorGraph.py:399: DeprecationWarning: PyArray_FromDims: use PyArray_SimpleNew.\n  def GetDecode(self): return _FactorGraph.CFactorGraph_GetDecode(self)\nFactorBP/FactorGraph.py:399: DeprecationWarning: PyArray_FromDimsAndDataAndDescr: use PyArray_NewFromDescr.\n  def GetDecode(self): return _FactorGraph.CFactorGraph_GetDecode(self)\nFactorBP/FactorGraph.py:399: DeprecationWarning: PyArray_FromDims: use PyArray_SimpleNew.\n  def GetDecode(self): return _FactorGraph.CFactorGraph_GetDecode(self)\nFactorBP/FactorGraph.py:399: DeprecationWarning: PyArray_FromDimsAndDataAndDescr: use PyArray_NewFromDescr.\n  def GetDecode(self): return _FactorGraph.CFactorGraph_GetDecode(self)\n"
     ]
    },
    {
     "name": "stderr",
     "output_type": "stream",
     "text": [
      "FactorBP/FactorGraph.py:399: DeprecationWarning: PyArray_FromDims: use PyArray_SimpleNew.\n  def GetDecode(self): return _FactorGraph.CFactorGraph_GetDecode(self)\nFactorBP/FactorGraph.py:399: DeprecationWarning: PyArray_FromDimsAndDataAndDescr: use PyArray_NewFromDescr.\n  def GetDecode(self): return _FactorGraph.CFactorGraph_GetDecode(self)\nFactorBP/FactorGraph.py:399: DeprecationWarning: PyArray_FromDims: use PyArray_SimpleNew.\n  def GetDecode(self): return _FactorGraph.CFactorGraph_GetDecode(self)\nFactorBP/FactorGraph.py:399: DeprecationWarning: PyArray_FromDimsAndDataAndDescr: use PyArray_NewFromDescr.\n  def GetDecode(self): return _FactorGraph.CFactorGraph_GetDecode(self)\n"
     ]
    },
    {
     "name": "stderr",
     "output_type": "stream",
     "text": [
      "FactorBP/FactorGraph.py:399: DeprecationWarning: PyArray_FromDims: use PyArray_SimpleNew.\n  def GetDecode(self): return _FactorGraph.CFactorGraph_GetDecode(self)\nFactorBP/FactorGraph.py:399: DeprecationWarning: PyArray_FromDimsAndDataAndDescr: use PyArray_NewFromDescr.\n  def GetDecode(self): return _FactorGraph.CFactorGraph_GetDecode(self)\nFactorBP/FactorGraph.py:399: DeprecationWarning: PyArray_FromDims: use PyArray_SimpleNew.\n  def GetDecode(self): return _FactorGraph.CFactorGraph_GetDecode(self)\nFactorBP/FactorGraph.py:399: DeprecationWarning: PyArray_FromDimsAndDataAndDescr: use PyArray_NewFromDescr.\n  def GetDecode(self): return _FactorGraph.CFactorGraph_GetDecode(self)\n"
     ]
    },
    {
     "name": "stderr",
     "output_type": "stream",
     "text": [
      "FactorBP/FactorGraph.py:399: DeprecationWarning: PyArray_FromDims: use PyArray_SimpleNew.\n  def GetDecode(self): return _FactorGraph.CFactorGraph_GetDecode(self)\nFactorBP/FactorGraph.py:399: DeprecationWarning: PyArray_FromDimsAndDataAndDescr: use PyArray_NewFromDescr.\n  def GetDecode(self): return _FactorGraph.CFactorGraph_GetDecode(self)\nFactorBP/FactorGraph.py:399: DeprecationWarning: PyArray_FromDims: use PyArray_SimpleNew.\n  def GetDecode(self): return _FactorGraph.CFactorGraph_GetDecode(self)\nFactorBP/FactorGraph.py:399: DeprecationWarning: PyArray_FromDimsAndDataAndDescr: use PyArray_NewFromDescr.\n  def GetDecode(self): return _FactorGraph.CFactorGraph_GetDecode(self)\n"
     ]
    },
    {
     "name": "stderr",
     "output_type": "stream",
     "text": [
      "FactorBP/FactorGraph.py:399: DeprecationWarning: PyArray_FromDims: use PyArray_SimpleNew.\n  def GetDecode(self): return _FactorGraph.CFactorGraph_GetDecode(self)\nFactorBP/FactorGraph.py:399: DeprecationWarning: PyArray_FromDimsAndDataAndDescr: use PyArray_NewFromDescr.\n  def GetDecode(self): return _FactorGraph.CFactorGraph_GetDecode(self)\nFactorBP/FactorGraph.py:399: DeprecationWarning: PyArray_FromDims: use PyArray_SimpleNew.\n  def GetDecode(self): return _FactorGraph.CFactorGraph_GetDecode(self)\nFactorBP/FactorGraph.py:399: DeprecationWarning: PyArray_FromDimsAndDataAndDescr: use PyArray_NewFromDescr.\n  def GetDecode(self): return _FactorGraph.CFactorGraph_GetDecode(self)\n"
     ]
    },
    {
     "name": "stderr",
     "output_type": "stream",
     "text": [
      "FactorBP/FactorGraph.py:399: DeprecationWarning: PyArray_FromDims: use PyArray_SimpleNew.\n  def GetDecode(self): return _FactorGraph.CFactorGraph_GetDecode(self)\nFactorBP/FactorGraph.py:399: DeprecationWarning: PyArray_FromDimsAndDataAndDescr: use PyArray_NewFromDescr.\n  def GetDecode(self): return _FactorGraph.CFactorGraph_GetDecode(self)\nFactorBP/FactorGraph.py:399: DeprecationWarning: PyArray_FromDims: use PyArray_SimpleNew.\n  def GetDecode(self): return _FactorGraph.CFactorGraph_GetDecode(self)\nFactorBP/FactorGraph.py:399: DeprecationWarning: PyArray_FromDimsAndDataAndDescr: use PyArray_NewFromDescr.\n  def GetDecode(self): return _FactorGraph.CFactorGraph_GetDecode(self)\n"
     ]
    },
    {
     "name": "stderr",
     "output_type": "stream",
     "text": [
      "FactorBP/FactorGraph.py:399: DeprecationWarning: PyArray_FromDims: use PyArray_SimpleNew.\n  def GetDecode(self): return _FactorGraph.CFactorGraph_GetDecode(self)\nFactorBP/FactorGraph.py:399: DeprecationWarning: PyArray_FromDimsAndDataAndDescr: use PyArray_NewFromDescr.\n  def GetDecode(self): return _FactorGraph.CFactorGraph_GetDecode(self)\n"
     ]
    },
    {
     "name": "stderr",
     "output_type": "stream",
     "text": [
      "FactorBP/FactorGraph.py:399: DeprecationWarning: PyArray_FromDims: use PyArray_SimpleNew.\n  def GetDecode(self): return _FactorGraph.CFactorGraph_GetDecode(self)\nFactorBP/FactorGraph.py:399: DeprecationWarning: PyArray_FromDimsAndDataAndDescr: use PyArray_NewFromDescr.\n  def GetDecode(self): return _FactorGraph.CFactorGraph_GetDecode(self)\nFactorBP/FactorGraph.py:399: DeprecationWarning: PyArray_FromDims: use PyArray_SimpleNew.\n  def GetDecode(self): return _FactorGraph.CFactorGraph_GetDecode(self)\nFactorBP/FactorGraph.py:399: DeprecationWarning: PyArray_FromDimsAndDataAndDescr: use PyArray_NewFromDescr.\n  def GetDecode(self): return _FactorGraph.CFactorGraph_GetDecode(self)\n"
     ]
    },
    {
     "name": "stderr",
     "output_type": "stream",
     "text": [
      "FactorBP/FactorGraph.py:399: DeprecationWarning: PyArray_FromDims: use PyArray_SimpleNew.\n  def GetDecode(self): return _FactorGraph.CFactorGraph_GetDecode(self)\nFactorBP/FactorGraph.py:399: DeprecationWarning: PyArray_FromDimsAndDataAndDescr: use PyArray_NewFromDescr.\n  def GetDecode(self): return _FactorGraph.CFactorGraph_GetDecode(self)\nFactorBP/FactorGraph.py:399: DeprecationWarning: PyArray_FromDims: use PyArray_SimpleNew.\n  def GetDecode(self): return _FactorGraph.CFactorGraph_GetDecode(self)\nFactorBP/FactorGraph.py:399: DeprecationWarning: PyArray_FromDimsAndDataAndDescr: use PyArray_NewFromDescr.\n  def GetDecode(self): return _FactorGraph.CFactorGraph_GetDecode(self)\n"
     ]
    },
    {
     "name": "stdout",
     "output_type": "stream",
     "text": [
      "Ours Accuracy 1.000000 Running Time 0.406622 Obj 1.000000\nOurs-PW Accuracy 1.000000 Running Time 0.169032 Obj 0.918616\nOurs-BCA Accuracy 1.000000 Running Time 0.435874 Obj 1.000000\nBCA Accuracy 0.897849 Running Time 0.019792 Obj 0.950651\nBCA-MP Accuracy 0.944086 Running Time 0.154359 Obj 0.971855\nBCA-IPFP Accuracy 0.986022 Running Time 0.090008 Obj 0.994838\nHGM Accuracy 0.379570 Running Time 0.003616 Obj 0.417788\nRRWHM Accuracy 1.000000 Running Time 0.063218 Obj 1.000000\nTM Accuracy 0.273118 Running Time 0.071115 Obj 0.482560\n××××××××××××××××××××\n Start baseline: 90\n"
     ]
    },
    {
     "name": "stderr",
     "output_type": "stream",
     "text": [
      "FactorBP/FactorGraph.py:399: DeprecationWarning: PyArray_FromDims: use PyArray_SimpleNew.\n  def GetDecode(self): return _FactorGraph.CFactorGraph_GetDecode(self)\nFactorBP/FactorGraph.py:399: DeprecationWarning: PyArray_FromDimsAndDataAndDescr: use PyArray_NewFromDescr.\n  def GetDecode(self): return _FactorGraph.CFactorGraph_GetDecode(self)\nFactorBP/FactorGraph.py:399: DeprecationWarning: PyArray_FromDims: use PyArray_SimpleNew.\n  def GetDecode(self): return _FactorGraph.CFactorGraph_GetDecode(self)\nFactorBP/FactorGraph.py:399: DeprecationWarning: PyArray_FromDimsAndDataAndDescr: use PyArray_NewFromDescr.\n  def GetDecode(self): return _FactorGraph.CFactorGraph_GetDecode(self)\n"
     ]
    },
    {
     "name": "stderr",
     "output_type": "stream",
     "text": [
      "FactorBP/FactorGraph.py:399: DeprecationWarning: PyArray_FromDims: use PyArray_SimpleNew.\n  def GetDecode(self): return _FactorGraph.CFactorGraph_GetDecode(self)\nFactorBP/FactorGraph.py:399: DeprecationWarning: PyArray_FromDimsAndDataAndDescr: use PyArray_NewFromDescr.\n  def GetDecode(self): return _FactorGraph.CFactorGraph_GetDecode(self)\nFactorBP/FactorGraph.py:399: DeprecationWarning: PyArray_FromDims: use PyArray_SimpleNew.\n  def GetDecode(self): return _FactorGraph.CFactorGraph_GetDecode(self)\nFactorBP/FactorGraph.py:399: DeprecationWarning: PyArray_FromDimsAndDataAndDescr: use PyArray_NewFromDescr.\n  def GetDecode(self): return _FactorGraph.CFactorGraph_GetDecode(self)\n"
     ]
    },
    {
     "name": "stderr",
     "output_type": "stream",
     "text": [
      "FactorBP/FactorGraph.py:399: DeprecationWarning: PyArray_FromDims: use PyArray_SimpleNew.\n  def GetDecode(self): return _FactorGraph.CFactorGraph_GetDecode(self)\nFactorBP/FactorGraph.py:399: DeprecationWarning: PyArray_FromDimsAndDataAndDescr: use PyArray_NewFromDescr.\n  def GetDecode(self): return _FactorGraph.CFactorGraph_GetDecode(self)\nFactorBP/FactorGraph.py:399: DeprecationWarning: PyArray_FromDims: use PyArray_SimpleNew.\n  def GetDecode(self): return _FactorGraph.CFactorGraph_GetDecode(self)\nFactorBP/FactorGraph.py:399: DeprecationWarning: PyArray_FromDimsAndDataAndDescr: use PyArray_NewFromDescr.\n  def GetDecode(self): return _FactorGraph.CFactorGraph_GetDecode(self)\nFactorBP/FactorGraph.py:399: DeprecationWarning: PyArray_FromDims: use PyArray_SimpleNew.\n  def GetDecode(self): return _FactorGraph.CFactorGraph_GetDecode(self)\n"
     ]
    },
    {
     "name": "stderr",
     "output_type": "stream",
     "text": [
      "FactorBP/FactorGraph.py:399: DeprecationWarning: PyArray_FromDimsAndDataAndDescr: use PyArray_NewFromDescr.\n  def GetDecode(self): return _FactorGraph.CFactorGraph_GetDecode(self)\n"
     ]
    },
    {
     "name": "stderr",
     "output_type": "stream",
     "text": [
      "FactorBP/FactorGraph.py:399: DeprecationWarning: PyArray_FromDims: use PyArray_SimpleNew.\n  def GetDecode(self): return _FactorGraph.CFactorGraph_GetDecode(self)\nFactorBP/FactorGraph.py:399: DeprecationWarning: PyArray_FromDimsAndDataAndDescr: use PyArray_NewFromDescr.\n  def GetDecode(self): return _FactorGraph.CFactorGraph_GetDecode(self)\nFactorBP/FactorGraph.py:399: DeprecationWarning: PyArray_FromDims: use PyArray_SimpleNew.\n  def GetDecode(self): return _FactorGraph.CFactorGraph_GetDecode(self)\nFactorBP/FactorGraph.py:399: DeprecationWarning: PyArray_FromDimsAndDataAndDescr: use PyArray_NewFromDescr.\n  def GetDecode(self): return _FactorGraph.CFactorGraph_GetDecode(self)\n"
     ]
    },
    {
     "name": "stderr",
     "output_type": "stream",
     "text": [
      "FactorBP/FactorGraph.py:399: DeprecationWarning: PyArray_FromDims: use PyArray_SimpleNew.\n  def GetDecode(self): return _FactorGraph.CFactorGraph_GetDecode(self)\nFactorBP/FactorGraph.py:399: DeprecationWarning: PyArray_FromDimsAndDataAndDescr: use PyArray_NewFromDescr.\n  def GetDecode(self): return _FactorGraph.CFactorGraph_GetDecode(self)\n"
     ]
    },
    {
     "name": "stderr",
     "output_type": "stream",
     "text": [
      "FactorBP/FactorGraph.py:399: DeprecationWarning: PyArray_FromDims: use PyArray_SimpleNew.\n  def GetDecode(self): return _FactorGraph.CFactorGraph_GetDecode(self)\nFactorBP/FactorGraph.py:399: DeprecationWarning: PyArray_FromDimsAndDataAndDescr: use PyArray_NewFromDescr.\n  def GetDecode(self): return _FactorGraph.CFactorGraph_GetDecode(self)\nFactorBP/FactorGraph.py:399: DeprecationWarning: PyArray_FromDims: use PyArray_SimpleNew.\n  def GetDecode(self): return _FactorGraph.CFactorGraph_GetDecode(self)\nFactorBP/FactorGraph.py:399: DeprecationWarning: PyArray_FromDimsAndDataAndDescr: use PyArray_NewFromDescr.\n  def GetDecode(self): return _FactorGraph.CFactorGraph_GetDecode(self)\n"
     ]
    },
    {
     "name": "stderr",
     "output_type": "stream",
     "text": [
      "FactorBP/FactorGraph.py:399: DeprecationWarning: PyArray_FromDims: use PyArray_SimpleNew.\n  def GetDecode(self): return _FactorGraph.CFactorGraph_GetDecode(self)\nFactorBP/FactorGraph.py:399: DeprecationWarning: PyArray_FromDimsAndDataAndDescr: use PyArray_NewFromDescr.\n  def GetDecode(self): return _FactorGraph.CFactorGraph_GetDecode(self)\nFactorBP/FactorGraph.py:399: DeprecationWarning: PyArray_FromDims: use PyArray_SimpleNew.\n  def GetDecode(self): return _FactorGraph.CFactorGraph_GetDecode(self)\nFactorBP/FactorGraph.py:399: DeprecationWarning: PyArray_FromDimsAndDataAndDescr: use PyArray_NewFromDescr.\n  def GetDecode(self): return _FactorGraph.CFactorGraph_GetDecode(self)\nFactorBP/FactorGraph.py:399: DeprecationWarning: PyArray_FromDims: use PyArray_SimpleNew.\n  def GetDecode(self): return _FactorGraph.CFactorGraph_GetDecode(self)\nFactorBP/FactorGraph.py:399: DeprecationWarning: PyArray_FromDimsAndDataAndDescr: use PyArray_NewFromDescr.\n  def GetDecode(self): return _FactorGraph.CFactorGraph_GetDecode(self)\n"
     ]
    },
    {
     "name": "stderr",
     "output_type": "stream",
     "text": [
      "FactorBP/FactorGraph.py:399: DeprecationWarning: PyArray_FromDims: use PyArray_SimpleNew.\n  def GetDecode(self): return _FactorGraph.CFactorGraph_GetDecode(self)\nFactorBP/FactorGraph.py:399: DeprecationWarning: PyArray_FromDimsAndDataAndDescr: use PyArray_NewFromDescr.\n  def GetDecode(self): return _FactorGraph.CFactorGraph_GetDecode(self)\nFactorBP/FactorGraph.py:399: DeprecationWarning: PyArray_FromDims: use PyArray_SimpleNew.\n  def GetDecode(self): return _FactorGraph.CFactorGraph_GetDecode(self)\nFactorBP/FactorGraph.py:399: DeprecationWarning: PyArray_FromDimsAndDataAndDescr: use PyArray_NewFromDescr.\n  def GetDecode(self): return _FactorGraph.CFactorGraph_GetDecode(self)\nFactorBP/FactorGraph.py:399: DeprecationWarning: PyArray_FromDims: use PyArray_SimpleNew.\n  def GetDecode(self): return _FactorGraph.CFactorGraph_GetDecode(self)\nFactorBP/FactorGraph.py:399: DeprecationWarning: PyArray_FromDimsAndDataAndDescr: use PyArray_NewFromDescr.\n  def GetDecode(self): return _FactorGraph.CFactorGraph_GetDecode(self)\nFactorBP/FactorGraph.py:399: DeprecationWarning: PyArray_FromDims: use PyArray_SimpleNew.\n  def GetDecode(self): return _FactorGraph.CFactorGraph_GetDecode(self)\nFactorBP/FactorGraph.py:399: DeprecationWarning: PyArray_FromDimsAndDataAndDescr: use PyArray_NewFromDescr.\n  def GetDecode(self): return _FactorGraph.CFactorGraph_GetDecode(self)\n"
     ]
    },
    {
     "name": "stderr",
     "output_type": "stream",
     "text": [
      "FactorBP/FactorGraph.py:399: DeprecationWarning: PyArray_FromDims: use PyArray_SimpleNew.\n  def GetDecode(self): return _FactorGraph.CFactorGraph_GetDecode(self)\nFactorBP/FactorGraph.py:399: DeprecationWarning: PyArray_FromDimsAndDataAndDescr: use PyArray_NewFromDescr.\n  def GetDecode(self): return _FactorGraph.CFactorGraph_GetDecode(self)\nFactorBP/FactorGraph.py:399: DeprecationWarning: PyArray_FromDims: use PyArray_SimpleNew.\n  def GetDecode(self): return _FactorGraph.CFactorGraph_GetDecode(self)\nFactorBP/FactorGraph.py:399: DeprecationWarning: PyArray_FromDimsAndDataAndDescr: use PyArray_NewFromDescr.\n  def GetDecode(self): return _FactorGraph.CFactorGraph_GetDecode(self)\nFactorBP/FactorGraph.py:399: DeprecationWarning: PyArray_FromDims: use PyArray_SimpleNew.\n  def GetDecode(self): return _FactorGraph.CFactorGraph_GetDecode(self)\nFactorBP/FactorGraph.py:399: DeprecationWarning: PyArray_FromDimsAndDataAndDescr: use PyArray_NewFromDescr.\n  def GetDecode(self): return _FactorGraph.CFactorGraph_GetDecode(self)\n"
     ]
    },
    {
     "name": "stderr",
     "output_type": "stream",
     "text": [
      "FactorBP/FactorGraph.py:399: DeprecationWarning: PyArray_FromDims: use PyArray_SimpleNew.\n  def GetDecode(self): return _FactorGraph.CFactorGraph_GetDecode(self)\nFactorBP/FactorGraph.py:399: DeprecationWarning: PyArray_FromDimsAndDataAndDescr: use PyArray_NewFromDescr.\n  def GetDecode(self): return _FactorGraph.CFactorGraph_GetDecode(self)\nFactorBP/FactorGraph.py:399: DeprecationWarning: PyArray_FromDims: use PyArray_SimpleNew.\n  def GetDecode(self): return _FactorGraph.CFactorGraph_GetDecode(self)\nFactorBP/FactorGraph.py:399: DeprecationWarning: PyArray_FromDimsAndDataAndDescr: use PyArray_NewFromDescr.\n  def GetDecode(self): return _FactorGraph.CFactorGraph_GetDecode(self)\nFactorBP/FactorGraph.py:399: DeprecationWarning: PyArray_FromDims: use PyArray_SimpleNew.\n  def GetDecode(self): return _FactorGraph.CFactorGraph_GetDecode(self)\nFactorBP/FactorGraph.py:399: DeprecationWarning: PyArray_FromDimsAndDataAndDescr: use PyArray_NewFromDescr.\n  def GetDecode(self): return _FactorGraph.CFactorGraph_GetDecode(self)\n"
     ]
    },
    {
     "name": "stderr",
     "output_type": "stream",
     "text": [
      "FactorBP/FactorGraph.py:399: DeprecationWarning: PyArray_FromDims: use PyArray_SimpleNew.\n  def GetDecode(self): return _FactorGraph.CFactorGraph_GetDecode(self)\nFactorBP/FactorGraph.py:399: DeprecationWarning: PyArray_FromDimsAndDataAndDescr: use PyArray_NewFromDescr.\n  def GetDecode(self): return _FactorGraph.CFactorGraph_GetDecode(self)\nFactorBP/FactorGraph.py:399: DeprecationWarning: PyArray_FromDims: use PyArray_SimpleNew.\n  def GetDecode(self): return _FactorGraph.CFactorGraph_GetDecode(self)\nFactorBP/FactorGraph.py:399: DeprecationWarning: PyArray_FromDimsAndDataAndDescr: use PyArray_NewFromDescr.\n  def GetDecode(self): return _FactorGraph.CFactorGraph_GetDecode(self)\nFactorBP/FactorGraph.py:399: DeprecationWarning: PyArray_FromDims: use PyArray_SimpleNew.\n  def GetDecode(self): return _FactorGraph.CFactorGraph_GetDecode(self)\nFactorBP/FactorGraph.py:399: DeprecationWarning: PyArray_FromDimsAndDataAndDescr: use PyArray_NewFromDescr.\n  def GetDecode(self): return _FactorGraph.CFactorGraph_GetDecode(self)\n"
     ]
    },
    {
     "name": "stderr",
     "output_type": "stream",
     "text": [
      "FactorBP/FactorGraph.py:399: DeprecationWarning: PyArray_FromDims: use PyArray_SimpleNew.\n  def GetDecode(self): return _FactorGraph.CFactorGraph_GetDecode(self)\nFactorBP/FactorGraph.py:399: DeprecationWarning: PyArray_FromDimsAndDataAndDescr: use PyArray_NewFromDescr.\n  def GetDecode(self): return _FactorGraph.CFactorGraph_GetDecode(self)\nFactorBP/FactorGraph.py:399: DeprecationWarning: PyArray_FromDims: use PyArray_SimpleNew.\n  def GetDecode(self): return _FactorGraph.CFactorGraph_GetDecode(self)\nFactorBP/FactorGraph.py:399: DeprecationWarning: PyArray_FromDimsAndDataAndDescr: use PyArray_NewFromDescr.\n  def GetDecode(self): return _FactorGraph.CFactorGraph_GetDecode(self)\n"
     ]
    },
    {
     "name": "stderr",
     "output_type": "stream",
     "text": [
      "FactorBP/FactorGraph.py:399: DeprecationWarning: PyArray_FromDims: use PyArray_SimpleNew.\n  def GetDecode(self): return _FactorGraph.CFactorGraph_GetDecode(self)\nFactorBP/FactorGraph.py:399: DeprecationWarning: PyArray_FromDimsAndDataAndDescr: use PyArray_NewFromDescr.\n  def GetDecode(self): return _FactorGraph.CFactorGraph_GetDecode(self)\n"
     ]
    },
    {
     "name": "stderr",
     "output_type": "stream",
     "text": [
      "FactorBP/FactorGraph.py:399: DeprecationWarning: PyArray_FromDims: use PyArray_SimpleNew.\n  def GetDecode(self): return _FactorGraph.CFactorGraph_GetDecode(self)\nFactorBP/FactorGraph.py:399: DeprecationWarning: PyArray_FromDimsAndDataAndDescr: use PyArray_NewFromDescr.\n  def GetDecode(self): return _FactorGraph.CFactorGraph_GetDecode(self)\n"
     ]
    },
    {
     "name": "stderr",
     "output_type": "stream",
     "text": [
      "FactorBP/FactorGraph.py:399: DeprecationWarning: PyArray_FromDims: use PyArray_SimpleNew.\n  def GetDecode(self): return _FactorGraph.CFactorGraph_GetDecode(self)\nFactorBP/FactorGraph.py:399: DeprecationWarning: PyArray_FromDimsAndDataAndDescr: use PyArray_NewFromDescr.\n  def GetDecode(self): return _FactorGraph.CFactorGraph_GetDecode(self)\nFactorBP/FactorGraph.py:399: DeprecationWarning: PyArray_FromDims: use PyArray_SimpleNew.\n  def GetDecode(self): return _FactorGraph.CFactorGraph_GetDecode(self)\nFactorBP/FactorGraph.py:399: DeprecationWarning: PyArray_FromDimsAndDataAndDescr: use PyArray_NewFromDescr.\n  def GetDecode(self): return _FactorGraph.CFactorGraph_GetDecode(self)\nFactorBP/FactorGraph.py:399: DeprecationWarning: PyArray_FromDims: use PyArray_SimpleNew.\n  def GetDecode(self): return _FactorGraph.CFactorGraph_GetDecode(self)\nFactorBP/FactorGraph.py:399: DeprecationWarning: PyArray_FromDimsAndDataAndDescr: use PyArray_NewFromDescr.\n  def GetDecode(self): return _FactorGraph.CFactorGraph_GetDecode(self)\nFactorBP/FactorGraph.py:399: DeprecationWarning: PyArray_FromDims: use PyArray_SimpleNew.\n  def GetDecode(self): return _FactorGraph.CFactorGraph_GetDecode(self)\nFactorBP/FactorGraph.py:399: DeprecationWarning: PyArray_FromDimsAndDataAndDescr: use PyArray_NewFromDescr.\n  def GetDecode(self): return _FactorGraph.CFactorGraph_GetDecode(self)\n"
     ]
    },
    {
     "name": "stderr",
     "output_type": "stream",
     "text": [
      "FactorBP/FactorGraph.py:399: DeprecationWarning: PyArray_FromDims: use PyArray_SimpleNew.\n  def GetDecode(self): return _FactorGraph.CFactorGraph_GetDecode(self)\nFactorBP/FactorGraph.py:399: DeprecationWarning: PyArray_FromDimsAndDataAndDescr: use PyArray_NewFromDescr.\n  def GetDecode(self): return _FactorGraph.CFactorGraph_GetDecode(self)\nFactorBP/FactorGraph.py:399: DeprecationWarning: PyArray_FromDims: use PyArray_SimpleNew.\n  def GetDecode(self): return _FactorGraph.CFactorGraph_GetDecode(self)\nFactorBP/FactorGraph.py:399: DeprecationWarning: PyArray_FromDimsAndDataAndDescr: use PyArray_NewFromDescr.\n  def GetDecode(self): return _FactorGraph.CFactorGraph_GetDecode(self)\n"
     ]
    },
    {
     "name": "stderr",
     "output_type": "stream",
     "text": [
      "FactorBP/FactorGraph.py:399: DeprecationWarning: PyArray_FromDims: use PyArray_SimpleNew.\n  def GetDecode(self): return _FactorGraph.CFactorGraph_GetDecode(self)\nFactorBP/FactorGraph.py:399: DeprecationWarning: PyArray_FromDimsAndDataAndDescr: use PyArray_NewFromDescr.\n  def GetDecode(self): return _FactorGraph.CFactorGraph_GetDecode(self)\nFactorBP/FactorGraph.py:399: DeprecationWarning: PyArray_FromDims: use PyArray_SimpleNew.\n  def GetDecode(self): return _FactorGraph.CFactorGraph_GetDecode(self)\nFactorBP/FactorGraph.py:399: DeprecationWarning: PyArray_FromDimsAndDataAndDescr: use PyArray_NewFromDescr.\n  def GetDecode(self): return _FactorGraph.CFactorGraph_GetDecode(self)\n"
     ]
    },
    {
     "name": "stderr",
     "output_type": "stream",
     "text": [
      "FactorBP/FactorGraph.py:399: DeprecationWarning: PyArray_FromDims: use PyArray_SimpleNew.\n  def GetDecode(self): return _FactorGraph.CFactorGraph_GetDecode(self)\nFactorBP/FactorGraph.py:399: DeprecationWarning: PyArray_FromDimsAndDataAndDescr: use PyArray_NewFromDescr.\n  def GetDecode(self): return _FactorGraph.CFactorGraph_GetDecode(self)\nFactorBP/FactorGraph.py:399: DeprecationWarning: PyArray_FromDims: use PyArray_SimpleNew.\n  def GetDecode(self): return _FactorGraph.CFactorGraph_GetDecode(self)\nFactorBP/FactorGraph.py:399: DeprecationWarning: PyArray_FromDimsAndDataAndDescr: use PyArray_NewFromDescr.\n  def GetDecode(self): return _FactorGraph.CFactorGraph_GetDecode(self)\nFactorBP/FactorGraph.py:399: DeprecationWarning: PyArray_FromDims: use PyArray_SimpleNew.\n  def GetDecode(self): return _FactorGraph.CFactorGraph_GetDecode(self)\nFactorBP/FactorGraph.py:399: DeprecationWarning: PyArray_FromDimsAndDataAndDescr: use PyArray_NewFromDescr.\n  def GetDecode(self): return _FactorGraph.CFactorGraph_GetDecode(self)\n"
     ]
    },
    {
     "name": "stderr",
     "output_type": "stream",
     "text": [
      "FactorBP/FactorGraph.py:399: DeprecationWarning: PyArray_FromDims: use PyArray_SimpleNew.\n  def GetDecode(self): return _FactorGraph.CFactorGraph_GetDecode(self)\nFactorBP/FactorGraph.py:399: DeprecationWarning: PyArray_FromDimsAndDataAndDescr: use PyArray_NewFromDescr.\n  def GetDecode(self): return _FactorGraph.CFactorGraph_GetDecode(self)\nFactorBP/FactorGraph.py:399: DeprecationWarning: PyArray_FromDims: use PyArray_SimpleNew.\n  def GetDecode(self): return _FactorGraph.CFactorGraph_GetDecode(self)\nFactorBP/FactorGraph.py:399: DeprecationWarning: PyArray_FromDimsAndDataAndDescr: use PyArray_NewFromDescr.\n  def GetDecode(self): return _FactorGraph.CFactorGraph_GetDecode(self)\nFactorBP/FactorGraph.py:399: DeprecationWarning: PyArray_FromDims: use PyArray_SimpleNew.\n  def GetDecode(self): return _FactorGraph.CFactorGraph_GetDecode(self)\nFactorBP/FactorGraph.py:399: DeprecationWarning: PyArray_FromDimsAndDataAndDescr: use PyArray_NewFromDescr.\n  def GetDecode(self): return _FactorGraph.CFactorGraph_GetDecode(self)\n"
     ]
    },
    {
     "name": "stderr",
     "output_type": "stream",
     "text": [
      "FactorBP/FactorGraph.py:399: DeprecationWarning: PyArray_FromDims: use PyArray_SimpleNew.\n  def GetDecode(self): return _FactorGraph.CFactorGraph_GetDecode(self)\nFactorBP/FactorGraph.py:399: DeprecationWarning: PyArray_FromDimsAndDataAndDescr: use PyArray_NewFromDescr.\n  def GetDecode(self): return _FactorGraph.CFactorGraph_GetDecode(self)\nFactorBP/FactorGraph.py:399: DeprecationWarning: PyArray_FromDims: use PyArray_SimpleNew.\n  def GetDecode(self): return _FactorGraph.CFactorGraph_GetDecode(self)\nFactorBP/FactorGraph.py:399: DeprecationWarning: PyArray_FromDimsAndDataAndDescr: use PyArray_NewFromDescr.\n  def GetDecode(self): return _FactorGraph.CFactorGraph_GetDecode(self)\nFactorBP/FactorGraph.py:399: DeprecationWarning: PyArray_FromDims: use PyArray_SimpleNew.\n  def GetDecode(self): return _FactorGraph.CFactorGraph_GetDecode(self)\nFactorBP/FactorGraph.py:399: DeprecationWarning: PyArray_FromDimsAndDataAndDescr: use PyArray_NewFromDescr.\n  def GetDecode(self): return _FactorGraph.CFactorGraph_GetDecode(self)\n"
     ]
    },
    {
     "name": "stderr",
     "output_type": "stream",
     "text": [
      "FactorBP/FactorGraph.py:399: DeprecationWarning: PyArray_FromDims: use PyArray_SimpleNew.\n  def GetDecode(self): return _FactorGraph.CFactorGraph_GetDecode(self)\nFactorBP/FactorGraph.py:399: DeprecationWarning: PyArray_FromDimsAndDataAndDescr: use PyArray_NewFromDescr.\n  def GetDecode(self): return _FactorGraph.CFactorGraph_GetDecode(self)\nFactorBP/FactorGraph.py:399: DeprecationWarning: PyArray_FromDims: use PyArray_SimpleNew.\n  def GetDecode(self): return _FactorGraph.CFactorGraph_GetDecode(self)\nFactorBP/FactorGraph.py:399: DeprecationWarning: PyArray_FromDimsAndDataAndDescr: use PyArray_NewFromDescr.\n  def GetDecode(self): return _FactorGraph.CFactorGraph_GetDecode(self)\n"
     ]
    },
    {
     "name": "stderr",
     "output_type": "stream",
     "text": [
      "FactorBP/FactorGraph.py:399: DeprecationWarning: PyArray_FromDims: use PyArray_SimpleNew.\n  def GetDecode(self): return _FactorGraph.CFactorGraph_GetDecode(self)\nFactorBP/FactorGraph.py:399: DeprecationWarning: PyArray_FromDimsAndDataAndDescr: use PyArray_NewFromDescr.\n  def GetDecode(self): return _FactorGraph.CFactorGraph_GetDecode(self)\nFactorBP/FactorGraph.py:399: DeprecationWarning: PyArray_FromDims: use PyArray_SimpleNew.\n  def GetDecode(self): return _FactorGraph.CFactorGraph_GetDecode(self)\nFactorBP/FactorGraph.py:399: DeprecationWarning: PyArray_FromDimsAndDataAndDescr: use PyArray_NewFromDescr.\n  def GetDecode(self): return _FactorGraph.CFactorGraph_GetDecode(self)\nFactorBP/FactorGraph.py:399: DeprecationWarning: PyArray_FromDims: use PyArray_SimpleNew.\n  def GetDecode(self): return _FactorGraph.CFactorGraph_GetDecode(self)\nFactorBP/FactorGraph.py:399: DeprecationWarning: PyArray_FromDimsAndDataAndDescr: use PyArray_NewFromDescr.\n  def GetDecode(self): return _FactorGraph.CFactorGraph_GetDecode(self)\n"
     ]
    },
    {
     "name": "stderr",
     "output_type": "stream",
     "text": [
      "FactorBP/FactorGraph.py:399: DeprecationWarning: PyArray_FromDims: use PyArray_SimpleNew.\n  def GetDecode(self): return _FactorGraph.CFactorGraph_GetDecode(self)\nFactorBP/FactorGraph.py:399: DeprecationWarning: PyArray_FromDimsAndDataAndDescr: use PyArray_NewFromDescr.\n  def GetDecode(self): return _FactorGraph.CFactorGraph_GetDecode(self)\nFactorBP/FactorGraph.py:399: DeprecationWarning: PyArray_FromDims: use PyArray_SimpleNew.\n  def GetDecode(self): return _FactorGraph.CFactorGraph_GetDecode(self)\nFactorBP/FactorGraph.py:399: DeprecationWarning: PyArray_FromDimsAndDataAndDescr: use PyArray_NewFromDescr.\n  def GetDecode(self): return _FactorGraph.CFactorGraph_GetDecode(self)\n"
     ]
    },
    {
     "name": "stdout",
     "output_type": "stream",
     "text": [
      "Ours Accuracy 1.000000 Running Time 0.508364 Obj 1.000000\nOurs-PW Accuracy 0.988889 Running Time 0.221878 Obj 0.919742\nOurs-BCA Accuracy 1.000000 Running Time 0.536741 Obj 1.000000\nBCA Accuracy 0.876190 Running Time 0.019775 Obj 0.942559\nBCA-MP Accuracy 0.892063 Running Time 0.173439 Obj 0.949317\nBCA-IPFP Accuracy 0.960317 Running Time 0.100380 Obj 0.984084\nHGM Accuracy 0.323810 Running Time 0.003767 Obj 0.374482\nRRWHM Accuracy 0.996825 Running Time 0.067783 Obj 0.999698\nTM Accuracy 0.155556 Running Time 0.070917 Obj 0.447057\n××××××××××××××××××××\n Start baseline: 100\n"
     ]
    },
    {
     "name": "stderr",
     "output_type": "stream",
     "text": [
      "FactorBP/FactorGraph.py:399: DeprecationWarning: PyArray_FromDims: use PyArray_SimpleNew.\n  def GetDecode(self): return _FactorGraph.CFactorGraph_GetDecode(self)\nFactorBP/FactorGraph.py:399: DeprecationWarning: PyArray_FromDimsAndDataAndDescr: use PyArray_NewFromDescr.\n  def GetDecode(self): return _FactorGraph.CFactorGraph_GetDecode(self)\nFactorBP/FactorGraph.py:399: DeprecationWarning: PyArray_FromDims: use PyArray_SimpleNew.\n  def GetDecode(self): return _FactorGraph.CFactorGraph_GetDecode(self)\nFactorBP/FactorGraph.py:399: DeprecationWarning: PyArray_FromDimsAndDataAndDescr: use PyArray_NewFromDescr.\n  def GetDecode(self): return _FactorGraph.CFactorGraph_GetDecode(self)\nFactorBP/FactorGraph.py:399: DeprecationWarning: PyArray_FromDims: use PyArray_SimpleNew.\n  def GetDecode(self): return _FactorGraph.CFactorGraph_GetDecode(self)\nFactorBP/FactorGraph.py:399: DeprecationWarning: PyArray_FromDimsAndDataAndDescr: use PyArray_NewFromDescr.\n  def GetDecode(self): return _FactorGraph.CFactorGraph_GetDecode(self)\nFactorBP/FactorGraph.py:399: DeprecationWarning: PyArray_FromDims: use PyArray_SimpleNew.\n  def GetDecode(self): return _FactorGraph.CFactorGraph_GetDecode(self)\nFactorBP/FactorGraph.py:399: DeprecationWarning: PyArray_FromDimsAndDataAndDescr: use PyArray_NewFromDescr.\n  def GetDecode(self): return _FactorGraph.CFactorGraph_GetDecode(self)\n"
     ]
    },
    {
     "name": "stderr",
     "output_type": "stream",
     "text": [
      "FactorBP/FactorGraph.py:399: DeprecationWarning: PyArray_FromDims: use PyArray_SimpleNew.\n  def GetDecode(self): return _FactorGraph.CFactorGraph_GetDecode(self)\nFactorBP/FactorGraph.py:399: DeprecationWarning: PyArray_FromDimsAndDataAndDescr: use PyArray_NewFromDescr.\n  def GetDecode(self): return _FactorGraph.CFactorGraph_GetDecode(self)\nFactorBP/FactorGraph.py:399: DeprecationWarning: PyArray_FromDims: use PyArray_SimpleNew.\n  def GetDecode(self): return _FactorGraph.CFactorGraph_GetDecode(self)\nFactorBP/FactorGraph.py:399: DeprecationWarning: PyArray_FromDimsAndDataAndDescr: use PyArray_NewFromDescr.\n  def GetDecode(self): return _FactorGraph.CFactorGraph_GetDecode(self)\nFactorBP/FactorGraph.py:399: DeprecationWarning: PyArray_FromDims: use PyArray_SimpleNew.\n  def GetDecode(self): return _FactorGraph.CFactorGraph_GetDecode(self)\nFactorBP/FactorGraph.py:399: DeprecationWarning: PyArray_FromDimsAndDataAndDescr: use PyArray_NewFromDescr.\n  def GetDecode(self): return _FactorGraph.CFactorGraph_GetDecode(self)\n"
     ]
    },
    {
     "name": "stderr",
     "output_type": "stream",
     "text": [
      "FactorBP/FactorGraph.py:399: DeprecationWarning: PyArray_FromDims: use PyArray_SimpleNew.\n  def GetDecode(self): return _FactorGraph.CFactorGraph_GetDecode(self)\nFactorBP/FactorGraph.py:399: DeprecationWarning: PyArray_FromDimsAndDataAndDescr: use PyArray_NewFromDescr.\n  def GetDecode(self): return _FactorGraph.CFactorGraph_GetDecode(self)\nFactorBP/FactorGraph.py:399: DeprecationWarning: PyArray_FromDims: use PyArray_SimpleNew.\n  def GetDecode(self): return _FactorGraph.CFactorGraph_GetDecode(self)\nFactorBP/FactorGraph.py:399: DeprecationWarning: PyArray_FromDimsAndDataAndDescr: use PyArray_NewFromDescr.\n  def GetDecode(self): return _FactorGraph.CFactorGraph_GetDecode(self)\n"
     ]
    },
    {
     "name": "stderr",
     "output_type": "stream",
     "text": [
      "FactorBP/FactorGraph.py:399: DeprecationWarning: PyArray_FromDims: use PyArray_SimpleNew.\n  def GetDecode(self): return _FactorGraph.CFactorGraph_GetDecode(self)\nFactorBP/FactorGraph.py:399: DeprecationWarning: PyArray_FromDimsAndDataAndDescr: use PyArray_NewFromDescr.\n  def GetDecode(self): return _FactorGraph.CFactorGraph_GetDecode(self)\nFactorBP/FactorGraph.py:399: DeprecationWarning: PyArray_FromDims: use PyArray_SimpleNew.\n  def GetDecode(self): return _FactorGraph.CFactorGraph_GetDecode(self)\nFactorBP/FactorGraph.py:399: DeprecationWarning: PyArray_FromDimsAndDataAndDescr: use PyArray_NewFromDescr.\n  def GetDecode(self): return _FactorGraph.CFactorGraph_GetDecode(self)\n"
     ]
    },
    {
     "name": "stderr",
     "output_type": "stream",
     "text": [
      "FactorBP/FactorGraph.py:399: DeprecationWarning: PyArray_FromDims: use PyArray_SimpleNew.\n  def GetDecode(self): return _FactorGraph.CFactorGraph_GetDecode(self)\nFactorBP/FactorGraph.py:399: DeprecationWarning: PyArray_FromDimsAndDataAndDescr: use PyArray_NewFromDescr.\n  def GetDecode(self): return _FactorGraph.CFactorGraph_GetDecode(self)\nFactorBP/FactorGraph.py:399: DeprecationWarning: PyArray_FromDims: use PyArray_SimpleNew.\n  def GetDecode(self): return _FactorGraph.CFactorGraph_GetDecode(self)\nFactorBP/FactorGraph.py:399: DeprecationWarning: PyArray_FromDimsAndDataAndDescr: use PyArray_NewFromDescr.\n  def GetDecode(self): return _FactorGraph.CFactorGraph_GetDecode(self)\nFactorBP/FactorGraph.py:399: DeprecationWarning: PyArray_FromDims: use PyArray_SimpleNew.\n  def GetDecode(self): return _FactorGraph.CFactorGraph_GetDecode(self)\nFactorBP/FactorGraph.py:399: DeprecationWarning: PyArray_FromDimsAndDataAndDescr: use PyArray_NewFromDescr.\n  def GetDecode(self): return _FactorGraph.CFactorGraph_GetDecode(self)\n"
     ]
    },
    {
     "name": "stderr",
     "output_type": "stream",
     "text": [
      "FactorBP/FactorGraph.py:399: DeprecationWarning: PyArray_FromDims: use PyArray_SimpleNew.\n  def GetDecode(self): return _FactorGraph.CFactorGraph_GetDecode(self)\nFactorBP/FactorGraph.py:399: DeprecationWarning: PyArray_FromDimsAndDataAndDescr: use PyArray_NewFromDescr.\n  def GetDecode(self): return _FactorGraph.CFactorGraph_GetDecode(self)\n"
     ]
    },
    {
     "name": "stderr",
     "output_type": "stream",
     "text": [
      "FactorBP/FactorGraph.py:399: DeprecationWarning: PyArray_FromDims: use PyArray_SimpleNew.\n  def GetDecode(self): return _FactorGraph.CFactorGraph_GetDecode(self)\nFactorBP/FactorGraph.py:399: DeprecationWarning: PyArray_FromDimsAndDataAndDescr: use PyArray_NewFromDescr.\n  def GetDecode(self): return _FactorGraph.CFactorGraph_GetDecode(self)\n"
     ]
    },
    {
     "name": "stderr",
     "output_type": "stream",
     "text": [
      "FactorBP/FactorGraph.py:399: DeprecationWarning: PyArray_FromDims: use PyArray_SimpleNew.\n  def GetDecode(self): return _FactorGraph.CFactorGraph_GetDecode(self)\nFactorBP/FactorGraph.py:399: DeprecationWarning: PyArray_FromDimsAndDataAndDescr: use PyArray_NewFromDescr.\n  def GetDecode(self): return _FactorGraph.CFactorGraph_GetDecode(self)\nFactorBP/FactorGraph.py:399: DeprecationWarning: PyArray_FromDims: use PyArray_SimpleNew.\n  def GetDecode(self): return _FactorGraph.CFactorGraph_GetDecode(self)\nFactorBP/FactorGraph.py:399: DeprecationWarning: PyArray_FromDimsAndDataAndDescr: use PyArray_NewFromDescr.\n  def GetDecode(self): return _FactorGraph.CFactorGraph_GetDecode(self)\n"
     ]
    },
    {
     "name": "stderr",
     "output_type": "stream",
     "text": [
      "FactorBP/FactorGraph.py:399: DeprecationWarning: PyArray_FromDims: use PyArray_SimpleNew.\n  def GetDecode(self): return _FactorGraph.CFactorGraph_GetDecode(self)\nFactorBP/FactorGraph.py:399: DeprecationWarning: PyArray_FromDimsAndDataAndDescr: use PyArray_NewFromDescr.\n  def GetDecode(self): return _FactorGraph.CFactorGraph_GetDecode(self)\nFactorBP/FactorGraph.py:399: DeprecationWarning: PyArray_FromDims: use PyArray_SimpleNew.\n  def GetDecode(self): return _FactorGraph.CFactorGraph_GetDecode(self)\nFactorBP/FactorGraph.py:399: DeprecationWarning: PyArray_FromDimsAndDataAndDescr: use PyArray_NewFromDescr.\n  def GetDecode(self): return _FactorGraph.CFactorGraph_GetDecode(self)\nFactorBP/FactorGraph.py:399: DeprecationWarning: PyArray_FromDims: use PyArray_SimpleNew.\n  def GetDecode(self): return _FactorGraph.CFactorGraph_GetDecode(self)\nFactorBP/FactorGraph.py:399: DeprecationWarning: PyArray_FromDimsAndDataAndDescr: use PyArray_NewFromDescr.\n  def GetDecode(self): return _FactorGraph.CFactorGraph_GetDecode(self)\n"
     ]
    },
    {
     "name": "stderr",
     "output_type": "stream",
     "text": [
      "FactorBP/FactorGraph.py:399: DeprecationWarning: PyArray_FromDims: use PyArray_SimpleNew.\n  def GetDecode(self): return _FactorGraph.CFactorGraph_GetDecode(self)\nFactorBP/FactorGraph.py:399: DeprecationWarning: PyArray_FromDimsAndDataAndDescr: use PyArray_NewFromDescr.\n  def GetDecode(self): return _FactorGraph.CFactorGraph_GetDecode(self)\nFactorBP/FactorGraph.py:399: DeprecationWarning: PyArray_FromDims: use PyArray_SimpleNew.\n  def GetDecode(self): return _FactorGraph.CFactorGraph_GetDecode(self)\nFactorBP/FactorGraph.py:399: DeprecationWarning: PyArray_FromDimsAndDataAndDescr: use PyArray_NewFromDescr.\n  def GetDecode(self): return _FactorGraph.CFactorGraph_GetDecode(self)\nFactorBP/FactorGraph.py:399: DeprecationWarning: PyArray_FromDims: use PyArray_SimpleNew.\n  def GetDecode(self): return _FactorGraph.CFactorGraph_GetDecode(self)\nFactorBP/FactorGraph.py:399: DeprecationWarning: PyArray_FromDimsAndDataAndDescr: use PyArray_NewFromDescr.\n  def GetDecode(self): return _FactorGraph.CFactorGraph_GetDecode(self)\nFactorBP/FactorGraph.py:399: DeprecationWarning: PyArray_FromDims: use PyArray_SimpleNew.\n  def GetDecode(self): return _FactorGraph.CFactorGraph_GetDecode(self)\nFactorBP/FactorGraph.py:399: DeprecationWarning: PyArray_FromDimsAndDataAndDescr: use PyArray_NewFromDescr.\n  def GetDecode(self): return _FactorGraph.CFactorGraph_GetDecode(self)\n"
     ]
    },
    {
     "name": "stderr",
     "output_type": "stream",
     "text": [
      "FactorBP/FactorGraph.py:399: DeprecationWarning: PyArray_FromDims: use PyArray_SimpleNew.\n  def GetDecode(self): return _FactorGraph.CFactorGraph_GetDecode(self)\nFactorBP/FactorGraph.py:399: DeprecationWarning: PyArray_FromDimsAndDataAndDescr: use PyArray_NewFromDescr.\n  def GetDecode(self): return _FactorGraph.CFactorGraph_GetDecode(self)\nFactorBP/FactorGraph.py:399: DeprecationWarning: PyArray_FromDims: use PyArray_SimpleNew.\n  def GetDecode(self): return _FactorGraph.CFactorGraph_GetDecode(self)\nFactorBP/FactorGraph.py:399: DeprecationWarning: PyArray_FromDimsAndDataAndDescr: use PyArray_NewFromDescr.\n  def GetDecode(self): return _FactorGraph.CFactorGraph_GetDecode(self)\n"
     ]
    },
    {
     "name": "stderr",
     "output_type": "stream",
     "text": [
      "FactorBP/FactorGraph.py:399: DeprecationWarning: PyArray_FromDims: use PyArray_SimpleNew.\n  def GetDecode(self): return _FactorGraph.CFactorGraph_GetDecode(self)\nFactorBP/FactorGraph.py:399: DeprecationWarning: PyArray_FromDimsAndDataAndDescr: use PyArray_NewFromDescr.\n  def GetDecode(self): return _FactorGraph.CFactorGraph_GetDecode(self)\n"
     ]
    },
    {
     "name": "stderr",
     "output_type": "stream",
     "text": [
      "FactorBP/FactorGraph.py:399: DeprecationWarning: PyArray_FromDims: use PyArray_SimpleNew.\n  def GetDecode(self): return _FactorGraph.CFactorGraph_GetDecode(self)\nFactorBP/FactorGraph.py:399: DeprecationWarning: PyArray_FromDimsAndDataAndDescr: use PyArray_NewFromDescr.\n  def GetDecode(self): return _FactorGraph.CFactorGraph_GetDecode(self)\nFactorBP/FactorGraph.py:399: DeprecationWarning: PyArray_FromDims: use PyArray_SimpleNew.\n  def GetDecode(self): return _FactorGraph.CFactorGraph_GetDecode(self)\nFactorBP/FactorGraph.py:399: DeprecationWarning: PyArray_FromDimsAndDataAndDescr: use PyArray_NewFromDescr.\n  def GetDecode(self): return _FactorGraph.CFactorGraph_GetDecode(self)\nFactorBP/FactorGraph.py:399: DeprecationWarning: PyArray_FromDims: use PyArray_SimpleNew.\n  def GetDecode(self): return _FactorGraph.CFactorGraph_GetDecode(self)\nFactorBP/FactorGraph.py:399: DeprecationWarning: PyArray_FromDimsAndDataAndDescr: use PyArray_NewFromDescr.\n  def GetDecode(self): return _FactorGraph.CFactorGraph_GetDecode(self)\n"
     ]
    },
    {
     "name": "stderr",
     "output_type": "stream",
     "text": [
      "FactorBP/FactorGraph.py:399: DeprecationWarning: PyArray_FromDims: use PyArray_SimpleNew.\n  def GetDecode(self): return _FactorGraph.CFactorGraph_GetDecode(self)\nFactorBP/FactorGraph.py:399: DeprecationWarning: PyArray_FromDimsAndDataAndDescr: use PyArray_NewFromDescr.\n  def GetDecode(self): return _FactorGraph.CFactorGraph_GetDecode(self)\nFactorBP/FactorGraph.py:399: DeprecationWarning: PyArray_FromDims: use PyArray_SimpleNew.\n  def GetDecode(self): return _FactorGraph.CFactorGraph_GetDecode(self)\nFactorBP/FactorGraph.py:399: DeprecationWarning: PyArray_FromDimsAndDataAndDescr: use PyArray_NewFromDescr.\n  def GetDecode(self): return _FactorGraph.CFactorGraph_GetDecode(self)\n"
     ]
    },
    {
     "name": "stderr",
     "output_type": "stream",
     "text": [
      "FactorBP/FactorGraph.py:399: DeprecationWarning: PyArray_FromDims: use PyArray_SimpleNew.\n  def GetDecode(self): return _FactorGraph.CFactorGraph_GetDecode(self)\nFactorBP/FactorGraph.py:399: DeprecationWarning: PyArray_FromDimsAndDataAndDescr: use PyArray_NewFromDescr.\n  def GetDecode(self): return _FactorGraph.CFactorGraph_GetDecode(self)\nFactorBP/FactorGraph.py:399: DeprecationWarning: PyArray_FromDims: use PyArray_SimpleNew.\n  def GetDecode(self): return _FactorGraph.CFactorGraph_GetDecode(self)\nFactorBP/FactorGraph.py:399: DeprecationWarning: PyArray_FromDimsAndDataAndDescr: use PyArray_NewFromDescr.\n  def GetDecode(self): return _FactorGraph.CFactorGraph_GetDecode(self)\nFactorBP/FactorGraph.py:399: DeprecationWarning: PyArray_FromDims: use PyArray_SimpleNew.\n  def GetDecode(self): return _FactorGraph.CFactorGraph_GetDecode(self)\nFactorBP/FactorGraph.py:399: DeprecationWarning: PyArray_FromDimsAndDataAndDescr: use PyArray_NewFromDescr.\n  def GetDecode(self): return _FactorGraph.CFactorGraph_GetDecode(self)\n"
     ]
    },
    {
     "name": "stdout",
     "output_type": "stream",
     "text": [
      "Ours Accuracy 1.000000 Running Time 0.530374 Obj 1.000000\nOurs-PW Accuracy 0.981818 Running Time 0.253045 Obj 0.920637\nOurs-BCA Accuracy 1.000000 Running Time 0.558612 Obj 1.000000\nBCA Accuracy 0.766667 Running Time 0.019915 Obj 0.897223\nBCA-MP Accuracy 0.775758 Running Time 0.196543 Obj 0.903804\nBCA-IPFP Accuracy 0.969697 Running Time 0.105857 Obj 0.989947\nHGM Accuracy 0.309091 Running Time 0.003680 Obj 0.391638\nRRWHM Accuracy 0.993939 Running Time 0.072446 Obj 0.999527\nTM Accuracy 0.124242 Running Time 0.072067 Obj 0.423140\n××××××××××××××××××××\n"
     ]
    }
   ],
   "source": [
    "def ComputeAccurancy(Decode, gTruth, NofInliers):\n",
    "    Ccnt = 0\n",
    "    for i in range(NofInliers):\n",
    "        if(Decode[i] == gTruth[i]):\n",
    "            Ccnt += 1\n",
    "    return 1.0 * Ccnt / NofInliers\n",
    "\n",
    "def LoadHouse():\n",
    "    res = np.zeros([111, 30, 2])\n",
    "    for i in range(1,112):\n",
    "        res[i-1] = np.loadtxt('data/cmum/house/label/house%d' %i)\n",
    "    return res\n",
    "HouseData = LoadHouse()\n",
    "NofAlgorithms = 9\n",
    "AlgorithmNames=['Ours', 'Ours-PW', 'Ours-BCA', 'BCA', 'BCA-MP', 'BCA-IPFP', 'HGM', 'RRWHM', 'TM']\n",
    "start = 0\n",
    "end = 111\n",
    "MeanAcc = np.zeros([10,NofAlgorithms])\n",
    "MeanRtime = np.zeros([10, NofAlgorithms])\n",
    "MeanObj = np.zeros([10, NofAlgorithms])\n",
    "AllAcc = {}\n",
    "AllRtim = {}\n",
    "AllObj = {}\n",
    "for baseline in xrange(10,101,10):\n",
    "    print(' Start baseline: %d' % (baseline))\n",
    "    AllAcc[(baseline-10)/10] = np.zeros([NofAlgorithms, end - baseline])\n",
    "    AllRtim[(baseline-10)/10] = np.zeros([NofAlgorithms, end - baseline])\n",
    "    # AllObj[(baseline-10)/10] = np.zeros([NofAlgorithms, end - baseline])\n",
    "    Obj = np.zeros([NofAlgorithms, end - baseline])\n",
    "\n",
    "    for ImageI in range(start, end - baseline):\n",
    "        PT1 = np.copy(HouseData[ImageI])\n",
    "        PT2 = np.copy(HouseData[ImageI+baseline])\n",
    "        NofNodes = 30\n",
    "        gTruth = np.random.permutation(NofNodes)\n",
    "        PT1 = PT1[gTruth, :]\n",
    "        PF1 = np.zeros([NofNodes,1])\n",
    "        PF2 = np.zeros([NofNodes,2])\n",
    "        MG1 = FB.MatchingGraph(PT1[0:NofNodes], PF1[0:NofNodes])\n",
    "        MG2 = FB.MatchingGraph(PT2[0:NofNodes], PF2[0:NofNodes])\n",
    "\n",
    "        [G, FName1] = FB.ConstructMatchingModel(MG1, MG2, 'cmu', True, True)\n",
    "        [G2, FName2] = FB.ConstructMatchingModel(MG1, MG2, 'cmu', False, True)\n",
    "        [Gvis, FName1] = FB.ConstructMatchingModel(MG1, MG2, 'cmu', True, True)\n",
    "        G.SetVerbose(False)\n",
    "\n",
    "        # Our results 1\n",
    "        res1 = FB.BaBSolver(G, 30, 10, 0.005, False)\n",
    "        AllAcc[(baseline-10)/10][0][ImageI] = ComputeAccurancy(res1.Decode, gTruth, NofNodes)\n",
    "        AllRtim[(baseline-10)/10][0][ImageI] = res1.Time\n",
    "        Obj[0][ImageI] = res1.Value\n",
    "        #end Our results 1\n",
    "        \n",
    "        # Our-PW\n",
    "        res2 = FB.BaBSolver(G2, 30, 10, 0.005, False)\n",
    "        AllAcc[(baseline-10)/10][1][ImageI] = ComputeAccurancy(res2.Decode, gTruth, NofNodes)\n",
    "        AllRtim[(baseline-10)/10][1][ImageI] = res2.Time\n",
    "        Obj[1][ImageI] = res2.Value\n",
    "        #end Our-PW\n",
    "        \n",
    "        # BCA\n",
    "        resBag = eng.runBcagm(FName1, nargout=3)\n",
    "        AllAcc[(baseline-10)/10][3][ImageI] = ComputeAccurancy(resBag[1][0], gTruth, NofNodes)\n",
    "        AllRtim[(baseline-10)/10][3][ImageI] = resBag[0]\n",
    "        cDecode = FB.intArray(NofNodes)\n",
    "        for i in range(NofNodes):\n",
    "            cDecode[i] = int(resBag[1][0][i])\n",
    "        Obj[3][ImageI] = Gvis.ComputeObj(cDecode)\n",
    "        #end BCA\n",
    "        \n",
    "        # BCA-MP\n",
    "        resBagMP = eng.runBcagmQuad1(FName1, 1,nargout=3)\n",
    "        AllAcc[(baseline-10)/10][4][ImageI] = ComputeAccurancy(resBagMP[1][0], gTruth, NofNodes)\n",
    "        AllRtim[(baseline-10)/10][4][ImageI] = resBagMP[0]\n",
    "        for i in range(NofNodes):\n",
    "            cDecode[i] = int(resBagMP[1][0][i])\n",
    "        Obj[4][ImageI] = Gvis.ComputeObj(cDecode)\n",
    "        #end BCA-MP\n",
    "        \n",
    "        # BCA-IPFP\n",
    "        resBagIPFP = eng.runBcagmQuad1(FName1, 2,nargout=3)\n",
    "        AllAcc[(baseline-10)/10][5][ImageI] = ComputeAccurancy(resBagIPFP[1][0], gTruth, NofNodes)\n",
    "        AllRtim[(baseline-10)/10][5][ImageI] = resBagIPFP[0]\n",
    "        for i in range(NofNodes):\n",
    "            cDecode[i] = int(resBagIPFP[1][0][i])\n",
    "        Obj[5][ImageI] = Gvis.ComputeObj(cDecode)\n",
    "        #end BCA-IPFP\n",
    "        \n",
    "        # HGM\n",
    "        resHGM = eng.runHGM(FName1, nargout=3)\n",
    "        AllAcc[(baseline-10)/10][6][ImageI] = ComputeAccurancy(resHGM[1][0], gTruth, NofNodes)\n",
    "        AllRtim[(baseline-10)/10][6][ImageI] = resHGM[0]\n",
    "        for i in range(NofNodes):\n",
    "            cDecode[i] = int(resHGM[1][0][i])\n",
    "        Obj[6][ImageI] = Gvis.ComputeObj(cDecode)\n",
    "        #end HGM\n",
    "        \n",
    "        # RRWHM\n",
    "        resRRWHM = eng.runRRWHM(FName1, nargout=3)\n",
    "        #resRRWHM = eng.runBcagm(nargout=3)\n",
    "        AllAcc[(baseline-10)/10][7][ImageI] = ComputeAccurancy(resRRWHM[1][0], gTruth, NofNodes)\n",
    "        AllRtim[(baseline-10)/10][7][ImageI] = resRRWHM[0]\n",
    "        for i in range(NofNodes):\n",
    "            cDecode[i] = int(resRRWHM[1][0][i])\n",
    "        Obj[7][ImageI] = Gvis.ComputeObj(cDecode)\n",
    "        #end RRWHM\n",
    "        \n",
    "        # TensorMatching\n",
    "        resTM = eng.runTensorMatching(FName1, nargout=3)\n",
    "        AllAcc[(baseline-10)/10][8][ImageI] = ComputeAccurancy(resTM[1][0], gTruth, NofNodes)\n",
    "        AllRtim[(baseline-10)/10][8][ImageI] = resTM[0]\n",
    "        for i in range(NofNodes):\n",
    "            cDecode[i] = int(resTM[1][0][i])\n",
    "        Obj[8][ImageI] = Gvis.ComputeObj(cDecode)\n",
    "        #end TensorMatching\n",
    "        \n",
    "         # Our-BCA Results\n",
    "        start_time = time.time()\n",
    "        ResForBca = sio.loadmat(FName1)\n",
    "        X0 = np.zeros(NofNodes)\n",
    "        X0Vec = res1.Decode\n",
    "        for i in xrange(NofNodes):\n",
    "            X0[i] = X0Vec[i]\n",
    "        ResForBca['X0'] = X0\n",
    "        sio.savemat(FName1, ResForBca)\n",
    "        resOursBCA = eng.runBcagm(FName1, nargout=3)\n",
    "        time_dur = time.time() - start_time\n",
    "\n",
    "        cDecode = FB.intArray(NofNodes)\n",
    "        #print(resOursBCA[1][0])\n",
    "        for i in range(NofNodes):\n",
    "            cDecode[i] = int(resOursBCA[1][0][i])\n",
    "        if res1.Value < Gvis.ComputeObj(cDecode): #??? Lee\n",
    "            AllAcc[(baseline-10)/10][2][ImageI] = ComputeAccurancy(resOursBCA[1][0], gTruth, NofNodes)\n",
    "            Obj[2][ImageI] = Gvis.ComputeObj(cDecode)\n",
    "        else:\n",
    "            AllAcc[(baseline-10)/10][2][ImageI] = ComputeAccurancy(res1.Decode, gTruth, NofNodes)\n",
    "            Obj[2][ImageI] = res1.Value\n",
    "        AllRtim[(baseline-10)/10][2][ImageI] = time_dur + res1.Time\n",
    "        #end Our-BCA Results\n",
    "        \n",
    "        MaxObj = np.max(Obj[:,ImageI])\n",
    "        Obj[:,ImageI] /= MaxObj\n",
    "        AllObj[(baseline-10)/10] = Obj\n",
    "        #for ai in xrange(NofAlgorithms):\n",
    "        #    print('%s Accuracy %f Running Time %f Obj %f' %(AlgorithmNames[ai], \n",
    "        #                                                     AllAcc[(baseline-10)/10][ai][ImageI],\n",
    "        #                                                    AllRtim[(baseline-10)/10][ai][ImageI],\n",
    "        #                                                   AllObj[(baseline-10)/10][ai][ImageI]))\n",
    "        #print(' Finished Frame: %d ----------------------' % (ImageI) )\n",
    "        #end inner loop\n",
    "    for ai in xrange(NofAlgorithms):\n",
    "        MeanAcc[(baseline-10)/10][ai] = np.mean(AllAcc[(baseline-10)/10][ai])\n",
    "        MeanRtime[(baseline-10)/10][ai] = np.mean(AllRtim[(baseline-10)/10][ai])\n",
    "        # MeanObj[(baseline-10)/10][ai] = np.mean(Obj[ai])\n",
    "        MeanObj[(baseline-10)/10][ai] = np.mean(AllObj[(baseline-10)/10][ai])\n",
    "        print('%s Accuracy %f Running Time %f Obj %f' %(AlgorithmNames[ai], \n",
    "                                                        MeanAcc[(baseline-10)/10][ai],\n",
    "                                                        MeanRtime[(baseline-10)/10][ai],\n",
    "                                                        MeanObj[(baseline-10)/10][ai]))\n",
    "    print('××××××××××××××××××××')\n",
    "    #end outer loop"
   ]
  },
  {
   "cell_type": "code",
   "execution_count": 3,
   "metadata": {
    "collapsed": false
   },
   "outputs": [
    {
     "name": "stderr",
     "output_type": "stream",
     "text": [
      "/usr/lib/pymodules/python2.7/matplotlib/figure.py:371: UserWarning: matplotlib is currently using a non-GUI backend, so cannot show the figure\n  \"matplotlib is currently using a non-GUI backend, \"\n/usr/lib/pymodules/python2.7/matplotlib/font_manager.py:1236: UserWarning: findfont: Font family ['Times New Roman'] not found. Falling back to Bitstream Vera Sans\n  (prop.get_family(), self.defaultFamily[fontext]))\n/usr/lib/pymodules/python2.7/matplotlib/font_manager.py:1246: UserWarning: findfont: Could not match :family=Bitstream Vera Sans:style=normal:variant=normal:weight=normal:stretch=normal:size=medium. Returning /usr/share/matplotlib/mpl-data/fonts/ttf/cmb10.ttf\n  UserWarning)\n"
     ]
    },
    {
     "data": {
      "text/plain": [
       "array([ 1.,  1.,  1.,  1.,  1.,  1.,  1.,  1.,  1.,  1.])"
      ]
     },
     "execution_count": 3,
     "metadata": {},
     "output_type": "execute_result"
    },
    {
     "data": {
      "image/png": "[encoded data removed]",
      "text/plain": [
       "<matplotlib.figure.Figure at 0x7fb870130690>"
      ]
     },
     "metadata": {},
     "output_type": "display_data"
    },
    {
     "data": {
      "text/plain": [
       "<matplotlib.figure.Figure at 0x7fb869ddc390>"
      ]
     },
     "execution_count": 0,
     "metadata": {},
     "output_type": "execute_result"
    },
    {
     "data": {
      "image/png": "[encoded data removed]",
      "text/plain": [
       "<matplotlib.figure.Figure at 0x7fb869a01450>"
      ]
     },
     "metadata": {},
     "output_type": "display_data"
    },
    {
     "data": {
      "image/png": "[encoded data removed]",
      "text/plain": [
       "<matplotlib.figure.Figure at 0x7fb8699a0c90>"
      ]
     },
     "metadata": {},
     "output_type": "display_data"
    }
   ],
   "source": [
    "import matplotlib.pyplot as plt\n",
    "import matplotlib\n",
    "import pylab\n",
    "%matplotlib inline\n",
    "\n",
    "Colors = [[ 0.        ,  0.5       , 0.5        ,  1.        ],   #1\n",
    "          [ 1.        ,  0.00196078,  1.        ,  1.        ],   #2\n",
    "          [ 0.        ,  0.50392157,  1.        ,  1.        ],   #3\n",
    "          [ 0.08538899,  1.        ,  0.88235294,  1.        ],   #4\n",
    "          [ 0.49019608,  1.        ,  0.47754586,  1.        ],   #5\n",
    "          [ 0.5       ,  1.        ,  0.17273877,  1.        ],   #6\n",
    "          [ 1.        ,  0.58169935,  0.        ,  1.        ],   #7\n",
    "          [ 1.        ,  0.11692084,  0.        ,  1.        ],   #8\n",
    "          [ 1.        ,  0.        ,  1.        ,  1.        ]];  #9\n",
    "Seq = [0, 1, 2, 3, 4, 5, 6, 7, 8]\n",
    "AlgorithmNames=['Ours', 'Ours-PW', 'Ours-BCA', 'BCA', 'BCA-MP', 'BCA-IPFP', 'HGM', 'RRWHM', 'TM']\n",
    "Markers = ['o', 'v', '+', 'v', 'x', 'd', 'h', 'D', 'H']\n",
    "\n",
    "figData = pylab.figure(num=None, figsize=(4, 3), dpi=80, facecolor='w', edgecolor='k')\n",
    "ax = pylab.gca()\n",
    "\n",
    "matplotlib.rc('font',family='Times New Roman')\n",
    "\n",
    "\n",
    "#plt.figure(num=None, figsize=(4, 3), dpi=80, facecolor='w', edgecolor='k')\n",
    "\n",
    "for ai in xrange(NofAlgorithms):\n",
    "    pylab.plot(range(10,101,10), MeanAcc[:,Seq[ai]], label=AlgorithmNames[Seq[ai]], \n",
    "             color=Colors[Seq[ai]], marker=Markers[Seq[ai]])\n",
    "pylab.ylim([0,1.05])\n",
    "pylab.grid(True)\n",
    "\n",
    "pylab.ylabel('Accuracy')\n",
    "pylab.xlabel('Seperation')\n",
    "\n",
    "\n",
    "figLegend = pylab.figure(figsize = (11.7,0.4))\n",
    "pylab.figlegend(*ax.get_legend_handles_labels(), loc = 'upper center',  ncol=9, shadow=True, fancybox=True)\n",
    "figData.savefig('results/Edges_Triplets/House_Acc.pdf')\n",
    "#figLegend.savefig(\"legend.pdf\")\n",
    "figLegend.show()\n",
    "\n",
    "#plt.legend(shadow=True, fancybox=True,loc='upper center', bbox_to_anchor=(0.5,-0.25), ncol=9)\n",
    "#plt.savefig('House_ACC.pdf')    # <-- loses transparency\n",
    "\n",
    "StoreForPlot ={}\n",
    "StoreForPlot['Accuracy'] = MeanAcc\n",
    "StoreForPlot['Time'] = MeanRtime\n",
    "StoreForPlot['Obj'] = MeanObj\n",
    "\n",
    "sio.savemat('results/Edges_Triplets/PlotData.mat', StoreForPlot)\n",
    "\n",
    "plt.figure(num=None, figsize=(4, 3), dpi=80, facecolor='w', edgecolor='k')\n",
    "\n",
    "\n",
    "for ai in xrange(NofAlgorithms):\n",
    "    if(AlgorithmNames[Seq[ai]] == 'Ours')|(AlgorithmNames[Seq[ai]] == 'Ours-BCA')|(AlgorithmNames[Seq[ai]] == 'Ours-PW'):\n",
    "        continue\n",
    "    plt.plot(range(10,101,10), MeanObj[:,Seq[ai]], label=AlgorithmNames[Seq[ai]], \n",
    "             color=Colors[Seq[ai]], marker=Markers[Seq[ai]])\n",
    "plt.ylim([0.25,1.02])\n",
    "plt.ylabel('Obj. Value')\n",
    "plt.xlabel('Seperation')\n",
    "plt.grid(True)\n",
    "plt.savefig('results/Edges_Triplets/House_Obj.pdf')    # <-- loses transparency\n",
    "\n",
    "\n",
    "plt.figure(num=None, figsize=(4, 3), dpi=80, facecolor='w', edgecolor='k')\n",
    "\n",
    "\n",
    "for ai in xrange(NofAlgorithms):\n",
    "    plt.plot(range(10,101,10), MeanRtime[:,Seq[ai]], label=AlgorithmNames[Seq[ai]], \n",
    "             color=Colors[Seq[ai]], marker=Markers[Seq[ai]], linewidth=1.25)\n",
    "\n",
    "plt.ylabel('Seperation')\n",
    "plt.xlabel('#Outliers')\n",
    "\n",
    "plt.grid(True)\n",
    "plt.savefig('results/Edges_Triplets/Car_Time.pdf')    # <-- loses transparency\n",
    "\n",
    "MeanAcc[:,0]"
   ]
  },
  {
   "cell_type": "code",
   "execution_count": 16,
   "metadata": {
    "collapsed": false
   },
   "outputs": [
    {
     "name": "stdout",
     "output_type": "stream",
     "text": [
      "BaBIter=1, GUB = 100000000000000000000.000000, GLB = -100000000000000000000.000000, Gap = 2.00, Time=0.0027\n"
     ]
    }
   ],
   "source": [
    "PT1 = np.copy(HouseData[ImageI])\n",
    "PT2 = np.copy(HouseData[ImageI+baseline])\n",
    "NofNodes = 30\n",
    "gTruth = np.random.permutation(NofNodes)\n",
    "PT1 = PT1[gTruth, :]\n",
    "PF1 = np.zeros([NofNodes,1])\n",
    "PF2 = np.zeros([NofNodes,2])\n",
    "MG1 = FB.MatchingGraph(PT1[0:NofNodes], PF1[0:NofNodes])\n",
    "MG2 = FB.MatchingGraph(PT2[0:NofNodes], PF2[0:NofNodes])\n",
    "G = FB.ConstructMatchingModel(MG1, MG2, 'cmu', True, True)\n",
    "res1 = FB.BaBSolver(G, 30, 10, 0.005, True)"
   ]
  },
  {
   "cell_type": "code",
   "execution_count": null,
   "metadata": {
    "collapsed": true
   },
   "outputs": [],
   "source": [
    ""
   ]
  }
 ],
 "metadata": {
  "anaconda-cloud": {},
  "celltoolbar": "Slideshow",
  "kernelspec": {
   "display_name": "Python 2",
   "language": "python",
   "name": "python2"
  },
  "language_info": {
   "codemirror_mode": {
    "name": "ipython",
    "version": 2.0
   },
   "file_extension": ".py",
   "mimetype": "text/x-python",
   "name": "python",
   "nbconvert_exporter": "python",
   "pygments_lexer": "ipython2",
   "version": "2.7.6"
  }
 },
 "nbformat": 4,
 "nbformat_minor": 0
}