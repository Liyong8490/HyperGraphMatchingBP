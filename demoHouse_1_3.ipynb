{
 "cells": [
  {
   "cell_type": "code",
   "execution_count": 1,
   "metadata": {
    "collapsed": false,
    "slideshow": {
     "slide_type": "slide"
    }
   },
   "outputs": [],
   "source": [
    "import numpy as np\n",
    "import FactorBP as FB\n",
    "import scipy.io as sio\n",
    "import matlab.engine\n",
    "import time\n",
    "eng = matlab.engine.start_matlab()"
   ]
  },
  {
   "cell_type": "code",
   "execution_count": 4,
   "metadata": {
    "collapsed": false,
    "scrolled": true
   },
   "outputs": [
    {
     "name": "stdout",
     "output_type": "stream",
     "text": [
      " Start baseline: 10\n"
     ]
    },
    {
     "name": "stderr",
     "output_type": "stream",
     "text": [
      "FactorBP/FactorGraph.py:399: DeprecationWarning: PyArray_FromDims: use PyArray_SimpleNew.\n  def GetDecode(self): return _FactorGraph.CFactorGraph_GetDecode(self)\nFactorBP/FactorGraph.py:399: DeprecationWarning: PyArray_FromDimsAndDataAndDescr: use PyArray_NewFromDescr.\n  def GetDecode(self): return _FactorGraph.CFactorGraph_GetDecode(self)\n"
     ]
    },
    {
     "name": "stderr",
     "output_type": "stream",
     "text": [
      "FactorBP/FactorGraph.py:399: DeprecationWarning: PyArray_FromDims: use PyArray_SimpleNew.\n  def GetDecode(self): return _FactorGraph.CFactorGraph_GetDecode(self)\nFactorBP/FactorGraph.py:399: DeprecationWarning: PyArray_FromDimsAndDataAndDescr: use PyArray_NewFromDescr.\n  def GetDecode(self): return _FactorGraph.CFactorGraph_GetDecode(self)\n"
     ]
    },
    {
     "name": "stderr",
     "output_type": "stream",
     "text": [
      "FactorBP/FactorGraph.py:399: DeprecationWarning: PyArray_FromDims: use PyArray_SimpleNew.\n  def GetDecode(self): return _FactorGraph.CFactorGraph_GetDecode(self)\nFactorBP/FactorGraph.py:399: DeprecationWarning: PyArray_FromDimsAndDataAndDescr: use PyArray_NewFromDescr.\n  def GetDecode(self): return _FactorGraph.CFactorGraph_GetDecode(self)\n"
     ]
    },
    {
     "name": "stderr",
     "output_type": "stream",
     "text": [
      "FactorBP/FactorGraph.py:399: DeprecationWarning: PyArray_FromDims: use PyArray_SimpleNew.\n  def GetDecode(self): return _FactorGraph.CFactorGraph_GetDecode(self)\nFactorBP/FactorGraph.py:399: DeprecationWarning: PyArray_FromDimsAndDataAndDescr: use PyArray_NewFromDescr.\n  def GetDecode(self): return _FactorGraph.CFactorGraph_GetDecode(self)\n"
     ]
    },
    {
     "name": "stderr",
     "output_type": "stream",
     "text": [
      "FactorBP/FactorGraph.py:399: DeprecationWarning: PyArray_FromDims: use PyArray_SimpleNew.\n  def GetDecode(self): return _FactorGraph.CFactorGraph_GetDecode(self)\nFactorBP/FactorGraph.py:399: DeprecationWarning: PyArray_FromDimsAndDataAndDescr: use PyArray_NewFromDescr.\n  def GetDecode(self): return _FactorGraph.CFactorGraph_GetDecode(self)\n"
     ]
    },
    {
     "name": "stderr",
     "output_type": "stream",
     "text": [
      "FactorBP/FactorGraph.py:399: DeprecationWarning: PyArray_FromDims: use PyArray_SimpleNew.\n  def GetDecode(self): return _FactorGraph.CFactorGraph_GetDecode(self)\nFactorBP/FactorGraph.py:399: DeprecationWarning: PyArray_FromDimsAndDataAndDescr: use PyArray_NewFromDescr.\n  def GetDecode(self): return _FactorGraph.CFactorGraph_GetDecode(self)\n"
     ]
    },
    {
     "name": "stderr",
     "output_type": "stream",
     "text": [
      "FactorBP/FactorGraph.py:399: DeprecationWarning: PyArray_FromDims: use PyArray_SimpleNew.\n  def GetDecode(self): return _FactorGraph.CFactorGraph_GetDecode(self)\nFactorBP/FactorGraph.py:399: DeprecationWarning: PyArray_FromDimsAndDataAndDescr: use PyArray_NewFromDescr.\n  def GetDecode(self): return _FactorGraph.CFactorGraph_GetDecode(self)\n"
     ]
    },
    {
     "name": "stderr",
     "output_type": "stream",
     "text": [
      "FactorBP/FactorGraph.py:399: DeprecationWarning: PyArray_FromDims: use PyArray_SimpleNew.\n  def GetDecode(self): return _FactorGraph.CFactorGraph_GetDecode(self)\nFactorBP/FactorGraph.py:399: DeprecationWarning: PyArray_FromDimsAndDataAndDescr: use PyArray_NewFromDescr.\n  def GetDecode(self): return _FactorGraph.CFactorGraph_GetDecode(self)\n"
     ]
    },
    {
     "name": "stderr",
     "output_type": "stream",
     "text": [
      "FactorBP/FactorGraph.py:399: DeprecationWarning: PyArray_FromDims: use PyArray_SimpleNew.\n  def GetDecode(self): return _FactorGraph.CFactorGraph_GetDecode(self)\nFactorBP/FactorGraph.py:399: DeprecationWarning: PyArray_FromDimsAndDataAndDescr: use PyArray_NewFromDescr.\n  def GetDecode(self): return _FactorGraph.CFactorGraph_GetDecode(self)\n"
     ]
    },
    {
     "name": "stderr",
     "output_type": "stream",
     "text": [
      "FactorBP/FactorGraph.py:399: DeprecationWarning: PyArray_FromDims: use PyArray_SimpleNew.\n  def GetDecode(self): return _FactorGraph.CFactorGraph_GetDecode(self)\nFactorBP/FactorGraph.py:399: DeprecationWarning: PyArray_FromDimsAndDataAndDescr: use PyArray_NewFromDescr.\n  def GetDecode(self): return _FactorGraph.CFactorGraph_GetDecode(self)\n"
     ]
    },
    {
     "name": "stderr",
     "output_type": "stream",
     "text": [
      "FactorBP/FactorGraph.py:399: DeprecationWarning: PyArray_FromDims: use PyArray_SimpleNew.\n  def GetDecode(self): return _FactorGraph.CFactorGraph_GetDecode(self)\nFactorBP/FactorGraph.py:399: DeprecationWarning: PyArray_FromDimsAndDataAndDescr: use PyArray_NewFromDescr.\n  def GetDecode(self): return _FactorGraph.CFactorGraph_GetDecode(self)\n"
     ]
    },
    {
     "name": "stderr",
     "output_type": "stream",
     "text": [
      "FactorBP/FactorGraph.py:399: DeprecationWarning: PyArray_FromDims: use PyArray_SimpleNew.\n  def GetDecode(self): return _FactorGraph.CFactorGraph_GetDecode(self)\nFactorBP/FactorGraph.py:399: DeprecationWarning: PyArray_FromDimsAndDataAndDescr: use PyArray_NewFromDescr.\n  def GetDecode(self): return _FactorGraph.CFactorGraph_GetDecode(self)\n"
     ]
    },
    {
     "name": "stderr",
     "output_type": "stream",
     "text": [
      "FactorBP/FactorGraph.py:399: DeprecationWarning: PyArray_FromDims: use PyArray_SimpleNew.\n  def GetDecode(self): return _FactorGraph.CFactorGraph_GetDecode(self)\nFactorBP/FactorGraph.py:399: DeprecationWarning: PyArray_FromDimsAndDataAndDescr: use PyArray_NewFromDescr.\n  def GetDecode(self): return _FactorGraph.CFactorGraph_GetDecode(self)\n"
     ]
    },
    {
     "name": "stderr",
     "output_type": "stream",
     "text": [
      "FactorBP/FactorGraph.py:399: DeprecationWarning: PyArray_FromDims: use PyArray_SimpleNew.\n  def GetDecode(self): return _FactorGraph.CFactorGraph_GetDecode(self)\nFactorBP/FactorGraph.py:399: DeprecationWarning: PyArray_FromDimsAndDataAndDescr: use PyArray_NewFromDescr.\n  def GetDecode(self): return _FactorGraph.CFactorGraph_GetDecode(self)\n"
     ]
    },
    {
     "name": "stderr",
     "output_type": "stream",
     "text": [
      "FactorBP/FactorGraph.py:399: DeprecationWarning: PyArray_FromDims: use PyArray_SimpleNew.\n  def GetDecode(self): return _FactorGraph.CFactorGraph_GetDecode(self)\nFactorBP/FactorGraph.py:399: DeprecationWarning: PyArray_FromDimsAndDataAndDescr: use PyArray_NewFromDescr.\n  def GetDecode(self): return _FactorGraph.CFactorGraph_GetDecode(self)\n"
     ]
    },
    {
     "name": "stderr",
     "output_type": "stream",
     "text": [
      "FactorBP/FactorGraph.py:399: DeprecationWarning: PyArray_FromDims: use PyArray_SimpleNew.\n  def GetDecode(self): return _FactorGraph.CFactorGraph_GetDecode(self)\nFactorBP/FactorGraph.py:399: DeprecationWarning: PyArray_FromDimsAndDataAndDescr: use PyArray_NewFromDescr.\n  def GetDecode(self): return _FactorGraph.CFactorGraph_GetDecode(self)\n"
     ]
    },
    {
     "name": "stderr",
     "output_type": "stream",
     "text": [
      "FactorBP/FactorGraph.py:399: DeprecationWarning: PyArray_FromDims: use PyArray_SimpleNew.\n  def GetDecode(self): return _FactorGraph.CFactorGraph_GetDecode(self)\nFactorBP/FactorGraph.py:399: DeprecationWarning: PyArray_FromDimsAndDataAndDescr: use PyArray_NewFromDescr.\n  def GetDecode(self): return _FactorGraph.CFactorGraph_GetDecode(self)\n"
     ]
    },
    {
     "name": "stderr",
     "output_type": "stream",
     "text": [
      "FactorBP/FactorGraph.py:399: DeprecationWarning: PyArray_FromDims: use PyArray_SimpleNew.\n  def GetDecode(self): return _FactorGraph.CFactorGraph_GetDecode(self)\nFactorBP/FactorGraph.py:399: DeprecationWarning: PyArray_FromDimsAndDataAndDescr: use PyArray_NewFromDescr.\n  def GetDecode(self): return _FactorGraph.CFactorGraph_GetDecode(self)\n"
     ]
    },
    {
     "name": "stderr",
     "output_type": "stream",
     "text": [
      "FactorBP/FactorGraph.py:399: DeprecationWarning: PyArray_FromDims: use PyArray_SimpleNew.\n  def GetDecode(self): return _FactorGraph.CFactorGraph_GetDecode(self)\nFactorBP/FactorGraph.py:399: DeprecationWarning: PyArray_FromDimsAndDataAndDescr: use PyArray_NewFromDescr.\n  def GetDecode(self): return _FactorGraph.CFactorGraph_GetDecode(self)\n"
     ]
    },
    {
     "name": "stderr",
     "output_type": "stream",
     "text": [
      "FactorBP/FactorGraph.py:399: DeprecationWarning: PyArray_FromDims: use PyArray_SimpleNew.\n  def GetDecode(self): return _FactorGraph.CFactorGraph_GetDecode(self)\nFactorBP/FactorGraph.py:399: DeprecationWarning: PyArray_FromDimsAndDataAndDescr: use PyArray_NewFromDescr.\n  def GetDecode(self): return _FactorGraph.CFactorGraph_GetDecode(self)\n"
     ]
    },
    {
     "name": "stderr",
     "output_type": "stream",
     "text": [
      "FactorBP/FactorGraph.py:399: DeprecationWarning: PyArray_FromDims: use PyArray_SimpleNew.\n  def GetDecode(self): return _FactorGraph.CFactorGraph_GetDecode(self)\nFactorBP/FactorGraph.py:399: DeprecationWarning: PyArray_FromDimsAndDataAndDescr: use PyArray_NewFromDescr.\n  def GetDecode(self): return _FactorGraph.CFactorGraph_GetDecode(self)\n"
     ]
    },
    {
     "name": "stderr",
     "output_type": "stream",
     "text": [
      "FactorBP/FactorGraph.py:399: DeprecationWarning: PyArray_FromDims: use PyArray_SimpleNew.\n  def GetDecode(self): return _FactorGraph.CFactorGraph_GetDecode(self)\nFactorBP/FactorGraph.py:399: DeprecationWarning: PyArray_FromDimsAndDataAndDescr: use PyArray_NewFromDescr.\n  def GetDecode(self): return _FactorGraph.CFactorGraph_GetDecode(self)\n"
     ]
    },
    {
     "name": "stderr",
     "output_type": "stream",
     "text": [
      "FactorBP/FactorGraph.py:399: DeprecationWarning: PyArray_FromDims: use PyArray_SimpleNew.\n  def GetDecode(self): return _FactorGraph.CFactorGraph_GetDecode(self)\nFactorBP/FactorGraph.py:399: DeprecationWarning: PyArray_FromDimsAndDataAndDescr: use PyArray_NewFromDescr.\n  def GetDecode(self): return _FactorGraph.CFactorGraph_GetDecode(self)\n"
     ]
    },
    {
     "name": "stderr",
     "output_type": "stream",
     "text": [
      "FactorBP/FactorGraph.py:399: DeprecationWarning: PyArray_FromDims: use PyArray_SimpleNew.\n  def GetDecode(self): return _FactorGraph.CFactorGraph_GetDecode(self)\nFactorBP/FactorGraph.py:399: DeprecationWarning: PyArray_FromDimsAndDataAndDescr: use PyArray_NewFromDescr.\n  def GetDecode(self): return _FactorGraph.CFactorGraph_GetDecode(self)\n"
     ]
    },
    {
     "name": "stderr",
     "output_type": "stream",
     "text": [
      "FactorBP/FactorGraph.py:399: DeprecationWarning: PyArray_FromDims: use PyArray_SimpleNew.\n  def GetDecode(self): return _FactorGraph.CFactorGraph_GetDecode(self)\nFactorBP/FactorGraph.py:399: DeprecationWarning: PyArray_FromDimsAndDataAndDescr: use PyArray_NewFromDescr.\n  def GetDecode(self): return _FactorGraph.CFactorGraph_GetDecode(self)\n"
     ]
    },
    {
     "name": "stderr",
     "output_type": "stream",
     "text": [
      "FactorBP/FactorGraph.py:399: DeprecationWarning: PyArray_FromDims: use PyArray_SimpleNew.\n  def GetDecode(self): return _FactorGraph.CFactorGraph_GetDecode(self)\nFactorBP/FactorGraph.py:399: DeprecationWarning: PyArray_FromDimsAndDataAndDescr: use PyArray_NewFromDescr.\n  def GetDecode(self): return _FactorGraph.CFactorGraph_GetDecode(self)\n"
     ]
    },
    {
     "name": "stderr",
     "output_type": "stream",
     "text": [
      "FactorBP/FactorGraph.py:399: DeprecationWarning: PyArray_FromDims: use PyArray_SimpleNew.\n  def GetDecode(self): return _FactorGraph.CFactorGraph_GetDecode(self)\nFactorBP/FactorGraph.py:399: DeprecationWarning: PyArray_FromDimsAndDataAndDescr: use PyArray_NewFromDescr.\n  def GetDecode(self): return _FactorGraph.CFactorGraph_GetDecode(self)\n"
     ]
    },
    {
     "name": "stderr",
     "output_type": "stream",
     "text": [
      "FactorBP/FactorGraph.py:399: DeprecationWarning: PyArray_FromDims: use PyArray_SimpleNew.\n  def GetDecode(self): return _FactorGraph.CFactorGraph_GetDecode(self)\nFactorBP/FactorGraph.py:399: DeprecationWarning: PyArray_FromDimsAndDataAndDescr: use PyArray_NewFromDescr.\n  def GetDecode(self): return _FactorGraph.CFactorGraph_GetDecode(self)\n"
     ]
    },
    {
     "name": "stderr",
     "output_type": "stream",
     "text": [
      "FactorBP/FactorGraph.py:399: DeprecationWarning: PyArray_FromDims: use PyArray_SimpleNew.\n  def GetDecode(self): return _FactorGraph.CFactorGraph_GetDecode(self)\nFactorBP/FactorGraph.py:399: DeprecationWarning: PyArray_FromDimsAndDataAndDescr: use PyArray_NewFromDescr.\n  def GetDecode(self): return _FactorGraph.CFactorGraph_GetDecode(self)\n"
     ]
    },
    {
     "name": "stderr",
     "output_type": "stream",
     "text": [
      "FactorBP/FactorGraph.py:399: DeprecationWarning: PyArray_FromDims: use PyArray_SimpleNew.\n  def GetDecode(self): return _FactorGraph.CFactorGraph_GetDecode(self)\nFactorBP/FactorGraph.py:399: DeprecationWarning: PyArray_FromDimsAndDataAndDescr: use PyArray_NewFromDescr.\n  def GetDecode(self): return _FactorGraph.CFactorGraph_GetDecode(self)\n"
     ]
    },
    {
     "name": "stderr",
     "output_type": "stream",
     "text": [
      "FactorBP/FactorGraph.py:399: DeprecationWarning: PyArray_FromDims: use PyArray_SimpleNew.\n  def GetDecode(self): return _FactorGraph.CFactorGraph_GetDecode(self)\nFactorBP/FactorGraph.py:399: DeprecationWarning: PyArray_FromDimsAndDataAndDescr: use PyArray_NewFromDescr.\n  def GetDecode(self): return _FactorGraph.CFactorGraph_GetDecode(self)\n"
     ]
    },
    {
     "name": "stderr",
     "output_type": "stream",
     "text": [
      "FactorBP/FactorGraph.py:399: DeprecationWarning: PyArray_FromDims: use PyArray_SimpleNew.\n  def GetDecode(self): return _FactorGraph.CFactorGraph_GetDecode(self)\nFactorBP/FactorGraph.py:399: DeprecationWarning: PyArray_FromDimsAndDataAndDescr: use PyArray_NewFromDescr.\n  def GetDecode(self): return _FactorGraph.CFactorGraph_GetDecode(self)\n"
     ]
    },
    {
     "name": "stderr",
     "output_type": "stream",
     "text": [
      "FactorBP/FactorGraph.py:399: DeprecationWarning: PyArray_FromDims: use PyArray_SimpleNew.\n  def GetDecode(self): return _FactorGraph.CFactorGraph_GetDecode(self)\nFactorBP/FactorGraph.py:399: DeprecationWarning: PyArray_FromDimsAndDataAndDescr: use PyArray_NewFromDescr.\n  def GetDecode(self): return _FactorGraph.CFactorGraph_GetDecode(self)\n"
     ]
    },
    {
     "name": "stderr",
     "output_type": "stream",
     "text": [
      "FactorBP/FactorGraph.py:399: DeprecationWarning: PyArray_FromDims: use PyArray_SimpleNew.\n  def GetDecode(self): return _FactorGraph.CFactorGraph_GetDecode(self)\nFactorBP/FactorGraph.py:399: DeprecationWarning: PyArray_FromDimsAndDataAndDescr: use PyArray_NewFromDescr.\n  def GetDecode(self): return _FactorGraph.CFactorGraph_GetDecode(self)\n"
     ]
    },
    {
     "name": "stderr",
     "output_type": "stream",
     "text": [
      "FactorBP/FactorGraph.py:399: DeprecationWarning: PyArray_FromDims: use PyArray_SimpleNew.\n  def GetDecode(self): return _FactorGraph.CFactorGraph_GetDecode(self)\nFactorBP/FactorGraph.py:399: DeprecationWarning: PyArray_FromDimsAndDataAndDescr: use PyArray_NewFromDescr.\n  def GetDecode(self): return _FactorGraph.CFactorGraph_GetDecode(self)\n"
     ]
    },
    {
     "name": "stderr",
     "output_type": "stream",
     "text": [
      "FactorBP/FactorGraph.py:399: DeprecationWarning: PyArray_FromDims: use PyArray_SimpleNew.\n  def GetDecode(self): return _FactorGraph.CFactorGraph_GetDecode(self)\nFactorBP/FactorGraph.py:399: DeprecationWarning: PyArray_FromDimsAndDataAndDescr: use PyArray_NewFromDescr.\n  def GetDecode(self): return _FactorGraph.CFactorGraph_GetDecode(self)\n"
     ]
    },
    {
     "name": "stderr",
     "output_type": "stream",
     "text": [
      "FactorBP/FactorGraph.py:399: DeprecationWarning: PyArray_FromDims: use PyArray_SimpleNew.\n  def GetDecode(self): return _FactorGraph.CFactorGraph_GetDecode(self)\nFactorBP/FactorGraph.py:399: DeprecationWarning: PyArray_FromDimsAndDataAndDescr: use PyArray_NewFromDescr.\n  def GetDecode(self): return _FactorGraph.CFactorGraph_GetDecode(self)\n"
     ]
    },
    {
     "name": "stderr",
     "output_type": "stream",
     "text": [
      "FactorBP/FactorGraph.py:399: DeprecationWarning: PyArray_FromDims: use PyArray_SimpleNew.\n  def GetDecode(self): return _FactorGraph.CFactorGraph_GetDecode(self)\nFactorBP/FactorGraph.py:399: DeprecationWarning: PyArray_FromDimsAndDataAndDescr: use PyArray_NewFromDescr.\n  def GetDecode(self): return _FactorGraph.CFactorGraph_GetDecode(self)\n"
     ]
    },
    {
     "name": "stderr",
     "output_type": "stream",
     "text": [
      "FactorBP/FactorGraph.py:399: DeprecationWarning: PyArray_FromDims: use PyArray_SimpleNew.\n  def GetDecode(self): return _FactorGraph.CFactorGraph_GetDecode(self)\nFactorBP/FactorGraph.py:399: DeprecationWarning: PyArray_FromDimsAndDataAndDescr: use PyArray_NewFromDescr.\n  def GetDecode(self): return _FactorGraph.CFactorGraph_GetDecode(self)\n"
     ]
    },
    {
     "name": "stderr",
     "output_type": "stream",
     "text": [
      "FactorBP/FactorGraph.py:399: DeprecationWarning: PyArray_FromDims: use PyArray_SimpleNew.\n  def GetDecode(self): return _FactorGraph.CFactorGraph_GetDecode(self)\nFactorBP/FactorGraph.py:399: DeprecationWarning: PyArray_FromDimsAndDataAndDescr: use PyArray_NewFromDescr.\n  def GetDecode(self): return _FactorGraph.CFactorGraph_GetDecode(self)\n"
     ]
    },
    {
     "name": "stderr",
     "output_type": "stream",
     "text": [
      "FactorBP/FactorGraph.py:399: DeprecationWarning: PyArray_FromDims: use PyArray_SimpleNew.\n  def GetDecode(self): return _FactorGraph.CFactorGraph_GetDecode(self)\nFactorBP/FactorGraph.py:399: DeprecationWarning: PyArray_FromDimsAndDataAndDescr: use PyArray_NewFromDescr.\n  def GetDecode(self): return _FactorGraph.CFactorGraph_GetDecode(self)\n"
     ]
    },
    {
     "name": "stderr",
     "output_type": "stream",
     "text": [
      "FactorBP/FactorGraph.py:399: DeprecationWarning: PyArray_FromDims: use PyArray_SimpleNew.\n  def GetDecode(self): return _FactorGraph.CFactorGraph_GetDecode(self)\nFactorBP/FactorGraph.py:399: DeprecationWarning: PyArray_FromDimsAndDataAndDescr: use PyArray_NewFromDescr.\n  def GetDecode(self): return _FactorGraph.CFactorGraph_GetDecode(self)\n"
     ]
    },
    {
     "name": "stderr",
     "output_type": "stream",
     "text": [
      "FactorBP/FactorGraph.py:399: DeprecationWarning: PyArray_FromDims: use PyArray_SimpleNew.\n  def GetDecode(self): return _FactorGraph.CFactorGraph_GetDecode(self)\nFactorBP/FactorGraph.py:399: DeprecationWarning: PyArray_FromDimsAndDataAndDescr: use PyArray_NewFromDescr.\n  def GetDecode(self): return _FactorGraph.CFactorGraph_GetDecode(self)\n"
     ]
    },
    {
     "name": "stderr",
     "output_type": "stream",
     "text": [
      "FactorBP/FactorGraph.py:399: DeprecationWarning: PyArray_FromDims: use PyArray_SimpleNew.\n  def GetDecode(self): return _FactorGraph.CFactorGraph_GetDecode(self)\nFactorBP/FactorGraph.py:399: DeprecationWarning: PyArray_FromDimsAndDataAndDescr: use PyArray_NewFromDescr.\n  def GetDecode(self): return _FactorGraph.CFactorGraph_GetDecode(self)\n"
     ]
    },
    {
     "name": "stderr",
     "output_type": "stream",
     "text": [
      "FactorBP/FactorGraph.py:399: DeprecationWarning: PyArray_FromDims: use PyArray_SimpleNew.\n  def GetDecode(self): return _FactorGraph.CFactorGraph_GetDecode(self)\nFactorBP/FactorGraph.py:399: DeprecationWarning: PyArray_FromDimsAndDataAndDescr: use PyArray_NewFromDescr.\n  def GetDecode(self): return _FactorGraph.CFactorGraph_GetDecode(self)\n"
     ]
    },
    {
     "name": "stderr",
     "output_type": "stream",
     "text": [
      "FactorBP/FactorGraph.py:399: DeprecationWarning: PyArray_FromDims: use PyArray_SimpleNew.\n  def GetDecode(self): return _FactorGraph.CFactorGraph_GetDecode(self)\nFactorBP/FactorGraph.py:399: DeprecationWarning: PyArray_FromDimsAndDataAndDescr: use PyArray_NewFromDescr.\n  def GetDecode(self): return _FactorGraph.CFactorGraph_GetDecode(self)\n"
     ]
    },
    {
     "name": "stderr",
     "output_type": "stream",
     "text": [
      "FactorBP/FactorGraph.py:399: DeprecationWarning: PyArray_FromDims: use PyArray_SimpleNew.\n  def GetDecode(self): return _FactorGraph.CFactorGraph_GetDecode(self)\nFactorBP/FactorGraph.py:399: DeprecationWarning: PyArray_FromDimsAndDataAndDescr: use PyArray_NewFromDescr.\n  def GetDecode(self): return _FactorGraph.CFactorGraph_GetDecode(self)\n"
     ]
    },
    {
     "name": "stderr",
     "output_type": "stream",
     "text": [
      "FactorBP/FactorGraph.py:399: DeprecationWarning: PyArray_FromDims: use PyArray_SimpleNew.\n  def GetDecode(self): return _FactorGraph.CFactorGraph_GetDecode(self)\nFactorBP/FactorGraph.py:399: DeprecationWarning: PyArray_FromDimsAndDataAndDescr: use PyArray_NewFromDescr.\n  def GetDecode(self): return _FactorGraph.CFactorGraph_GetDecode(self)\n"
     ]
    },
    {
     "name": "stderr",
     "output_type": "stream",
     "text": [
      "FactorBP/FactorGraph.py:399: DeprecationWarning: PyArray_FromDims: use PyArray_SimpleNew.\n  def GetDecode(self): return _FactorGraph.CFactorGraph_GetDecode(self)\nFactorBP/FactorGraph.py:399: DeprecationWarning: PyArray_FromDimsAndDataAndDescr: use PyArray_NewFromDescr.\n  def GetDecode(self): return _FactorGraph.CFactorGraph_GetDecode(self)\n"
     ]
    },
    {
     "name": "stderr",
     "output_type": "stream",
     "text": [
      "FactorBP/FactorGraph.py:399: DeprecationWarning: PyArray_FromDims: use PyArray_SimpleNew.\n  def GetDecode(self): return _FactorGraph.CFactorGraph_GetDecode(self)\nFactorBP/FactorGraph.py:399: DeprecationWarning: PyArray_FromDimsAndDataAndDescr: use PyArray_NewFromDescr.\n  def GetDecode(self): return _FactorGraph.CFactorGraph_GetDecode(self)\n"
     ]
    },
    {
     "name": "stderr",
     "output_type": "stream",
     "text": [
      "FactorBP/FactorGraph.py:399: DeprecationWarning: PyArray_FromDims: use PyArray_SimpleNew.\n  def GetDecode(self): return _FactorGraph.CFactorGraph_GetDecode(self)\nFactorBP/FactorGraph.py:399: DeprecationWarning: PyArray_FromDimsAndDataAndDescr: use PyArray_NewFromDescr.\n  def GetDecode(self): return _FactorGraph.CFactorGraph_GetDecode(self)\n"
     ]
    },
    {
     "name": "stderr",
     "output_type": "stream",
     "text": [
      "FactorBP/FactorGraph.py:399: DeprecationWarning: PyArray_FromDims: use PyArray_SimpleNew.\n  def GetDecode(self): return _FactorGraph.CFactorGraph_GetDecode(self)\nFactorBP/FactorGraph.py:399: DeprecationWarning: PyArray_FromDimsAndDataAndDescr: use PyArray_NewFromDescr.\n  def GetDecode(self): return _FactorGraph.CFactorGraph_GetDecode(self)\n"
     ]
    },
    {
     "name": "stderr",
     "output_type": "stream",
     "text": [
      "FactorBP/FactorGraph.py:399: DeprecationWarning: PyArray_FromDims: use PyArray_SimpleNew.\n  def GetDecode(self): return _FactorGraph.CFactorGraph_GetDecode(self)\nFactorBP/FactorGraph.py:399: DeprecationWarning: PyArray_FromDimsAndDataAndDescr: use PyArray_NewFromDescr.\n  def GetDecode(self): return _FactorGraph.CFactorGraph_GetDecode(self)\n"
     ]
    },
    {
     "name": "stderr",
     "output_type": "stream",
     "text": [
      "FactorBP/FactorGraph.py:399: DeprecationWarning: PyArray_FromDims: use PyArray_SimpleNew.\n  def GetDecode(self): return _FactorGraph.CFactorGraph_GetDecode(self)\nFactorBP/FactorGraph.py:399: DeprecationWarning: PyArray_FromDimsAndDataAndDescr: use PyArray_NewFromDescr.\n  def GetDecode(self): return _FactorGraph.CFactorGraph_GetDecode(self)\n"
     ]
    },
    {
     "name": "stderr",
     "output_type": "stream",
     "text": [
      "FactorBP/FactorGraph.py:399: DeprecationWarning: PyArray_FromDims: use PyArray_SimpleNew.\n  def GetDecode(self): return _FactorGraph.CFactorGraph_GetDecode(self)\nFactorBP/FactorGraph.py:399: DeprecationWarning: PyArray_FromDimsAndDataAndDescr: use PyArray_NewFromDescr.\n  def GetDecode(self): return _FactorGraph.CFactorGraph_GetDecode(self)\n"
     ]
    },
    {
     "name": "stderr",
     "output_type": "stream",
     "text": [
      "FactorBP/FactorGraph.py:399: DeprecationWarning: PyArray_FromDims: use PyArray_SimpleNew.\n  def GetDecode(self): return _FactorGraph.CFactorGraph_GetDecode(self)\nFactorBP/FactorGraph.py:399: DeprecationWarning: PyArray_FromDimsAndDataAndDescr: use PyArray_NewFromDescr.\n  def GetDecode(self): return _FactorGraph.CFactorGraph_GetDecode(self)\n"
     ]
    },
    {
     "name": "stderr",
     "output_type": "stream",
     "text": [
      "FactorBP/FactorGraph.py:399: DeprecationWarning: PyArray_FromDims: use PyArray_SimpleNew.\n  def GetDecode(self): return _FactorGraph.CFactorGraph_GetDecode(self)\nFactorBP/FactorGraph.py:399: DeprecationWarning: PyArray_FromDimsAndDataAndDescr: use PyArray_NewFromDescr.\n  def GetDecode(self): return _FactorGraph.CFactorGraph_GetDecode(self)\n"
     ]
    },
    {
     "name": "stderr",
     "output_type": "stream",
     "text": [
      "FactorBP/FactorGraph.py:399: DeprecationWarning: PyArray_FromDims: use PyArray_SimpleNew.\n  def GetDecode(self): return _FactorGraph.CFactorGraph_GetDecode(self)\nFactorBP/FactorGraph.py:399: DeprecationWarning: PyArray_FromDimsAndDataAndDescr: use PyArray_NewFromDescr.\n  def GetDecode(self): return _FactorGraph.CFactorGraph_GetDecode(self)\n"
     ]
    },
    {
     "name": "stderr",
     "output_type": "stream",
     "text": [
      "FactorBP/FactorGraph.py:399: DeprecationWarning: PyArray_FromDims: use PyArray_SimpleNew.\n  def GetDecode(self): return _FactorGraph.CFactorGraph_GetDecode(self)\nFactorBP/FactorGraph.py:399: DeprecationWarning: PyArray_FromDimsAndDataAndDescr: use PyArray_NewFromDescr.\n  def GetDecode(self): return _FactorGraph.CFactorGraph_GetDecode(self)\n"
     ]
    },
    {
     "name": "stderr",
     "output_type": "stream",
     "text": [
      "FactorBP/FactorGraph.py:399: DeprecationWarning: PyArray_FromDims: use PyArray_SimpleNew.\n  def GetDecode(self): return _FactorGraph.CFactorGraph_GetDecode(self)\nFactorBP/FactorGraph.py:399: DeprecationWarning: PyArray_FromDimsAndDataAndDescr: use PyArray_NewFromDescr.\n  def GetDecode(self): return _FactorGraph.CFactorGraph_GetDecode(self)\n"
     ]
    },
    {
     "name": "stderr",
     "output_type": "stream",
     "text": [
      "FactorBP/FactorGraph.py:399: DeprecationWarning: PyArray_FromDims: use PyArray_SimpleNew.\n  def GetDecode(self): return _FactorGraph.CFactorGraph_GetDecode(self)\nFactorBP/FactorGraph.py:399: DeprecationWarning: PyArray_FromDimsAndDataAndDescr: use PyArray_NewFromDescr.\n  def GetDecode(self): return _FactorGraph.CFactorGraph_GetDecode(self)\n"
     ]
    },
    {
     "name": "stderr",
     "output_type": "stream",
     "text": [
      "FactorBP/FactorGraph.py:399: DeprecationWarning: PyArray_FromDims: use PyArray_SimpleNew.\n  def GetDecode(self): return _FactorGraph.CFactorGraph_GetDecode(self)\nFactorBP/FactorGraph.py:399: DeprecationWarning: PyArray_FromDimsAndDataAndDescr: use PyArray_NewFromDescr.\n  def GetDecode(self): return _FactorGraph.CFactorGraph_GetDecode(self)\n"
     ]
    },
    {
     "name": "stderr",
     "output_type": "stream",
     "text": [
      "FactorBP/FactorGraph.py:399: DeprecationWarning: PyArray_FromDims: use PyArray_SimpleNew.\n  def GetDecode(self): return _FactorGraph.CFactorGraph_GetDecode(self)\nFactorBP/FactorGraph.py:399: DeprecationWarning: PyArray_FromDimsAndDataAndDescr: use PyArray_NewFromDescr.\n  def GetDecode(self): return _FactorGraph.CFactorGraph_GetDecode(self)\n"
     ]
    },
    {
     "name": "stderr",
     "output_type": "stream",
     "text": [
      "FactorBP/FactorGraph.py:399: DeprecationWarning: PyArray_FromDims: use PyArray_SimpleNew.\n  def GetDecode(self): return _FactorGraph.CFactorGraph_GetDecode(self)\nFactorBP/FactorGraph.py:399: DeprecationWarning: PyArray_FromDimsAndDataAndDescr: use PyArray_NewFromDescr.\n  def GetDecode(self): return _FactorGraph.CFactorGraph_GetDecode(self)\n"
     ]
    },
    {
     "name": "stderr",
     "output_type": "stream",
     "text": [
      "FactorBP/FactorGraph.py:399: DeprecationWarning: PyArray_FromDims: use PyArray_SimpleNew.\n  def GetDecode(self): return _FactorGraph.CFactorGraph_GetDecode(self)\nFactorBP/FactorGraph.py:399: DeprecationWarning: PyArray_FromDimsAndDataAndDescr: use PyArray_NewFromDescr.\n  def GetDecode(self): return _FactorGraph.CFactorGraph_GetDecode(self)\n"
     ]
    },
    {
     "name": "stderr",
     "output_type": "stream",
     "text": [
      "FactorBP/FactorGraph.py:399: DeprecationWarning: PyArray_FromDims: use PyArray_SimpleNew.\n  def GetDecode(self): return _FactorGraph.CFactorGraph_GetDecode(self)\nFactorBP/FactorGraph.py:399: DeprecationWarning: PyArray_FromDimsAndDataAndDescr: use PyArray_NewFromDescr.\n  def GetDecode(self): return _FactorGraph.CFactorGraph_GetDecode(self)\n"
     ]
    },
    {
     "name": "stderr",
     "output_type": "stream",
     "text": [
      "FactorBP/FactorGraph.py:399: DeprecationWarning: PyArray_FromDims: use PyArray_SimpleNew.\n  def GetDecode(self): return _FactorGraph.CFactorGraph_GetDecode(self)\nFactorBP/FactorGraph.py:399: DeprecationWarning: PyArray_FromDimsAndDataAndDescr: use PyArray_NewFromDescr.\n  def GetDecode(self): return _FactorGraph.CFactorGraph_GetDecode(self)\n"
     ]
    },
    {
     "name": "stderr",
     "output_type": "stream",
     "text": [
      "FactorBP/FactorGraph.py:399: DeprecationWarning: PyArray_FromDims: use PyArray_SimpleNew.\n  def GetDecode(self): return _FactorGraph.CFactorGraph_GetDecode(self)\nFactorBP/FactorGraph.py:399: DeprecationWarning: PyArray_FromDimsAndDataAndDescr: use PyArray_NewFromDescr.\n  def GetDecode(self): return _FactorGraph.CFactorGraph_GetDecode(self)\n"
     ]
    },
    {
     "name": "stderr",
     "output_type": "stream",
     "text": [
      "FactorBP/FactorGraph.py:399: DeprecationWarning: PyArray_FromDims: use PyArray_SimpleNew.\n  def GetDecode(self): return _FactorGraph.CFactorGraph_GetDecode(self)\nFactorBP/FactorGraph.py:399: DeprecationWarning: PyArray_FromDimsAndDataAndDescr: use PyArray_NewFromDescr.\n  def GetDecode(self): return _FactorGraph.CFactorGraph_GetDecode(self)\n"
     ]
    },
    {
     "name": "stderr",
     "output_type": "stream",
     "text": [
      "FactorBP/FactorGraph.py:399: DeprecationWarning: PyArray_FromDims: use PyArray_SimpleNew.\n  def GetDecode(self): return _FactorGraph.CFactorGraph_GetDecode(self)\nFactorBP/FactorGraph.py:399: DeprecationWarning: PyArray_FromDimsAndDataAndDescr: use PyArray_NewFromDescr.\n  def GetDecode(self): return _FactorGraph.CFactorGraph_GetDecode(self)\n"
     ]
    },
    {
     "name": "stderr",
     "output_type": "stream",
     "text": [
      "FactorBP/FactorGraph.py:399: DeprecationWarning: PyArray_FromDims: use PyArray_SimpleNew.\n  def GetDecode(self): return _FactorGraph.CFactorGraph_GetDecode(self)\nFactorBP/FactorGraph.py:399: DeprecationWarning: PyArray_FromDimsAndDataAndDescr: use PyArray_NewFromDescr.\n  def GetDecode(self): return _FactorGraph.CFactorGraph_GetDecode(self)\n"
     ]
    },
    {
     "name": "stderr",
     "output_type": "stream",
     "text": [
      "FactorBP/FactorGraph.py:399: DeprecationWarning: PyArray_FromDims: use PyArray_SimpleNew.\n  def GetDecode(self): return _FactorGraph.CFactorGraph_GetDecode(self)\nFactorBP/FactorGraph.py:399: DeprecationWarning: PyArray_FromDimsAndDataAndDescr: use PyArray_NewFromDescr.\n  def GetDecode(self): return _FactorGraph.CFactorGraph_GetDecode(self)\n"
     ]
    },
    {
     "name": "stderr",
     "output_type": "stream",
     "text": [
      "FactorBP/FactorGraph.py:399: DeprecationWarning: PyArray_FromDims: use PyArray_SimpleNew.\n  def GetDecode(self): return _FactorGraph.CFactorGraph_GetDecode(self)\nFactorBP/FactorGraph.py:399: DeprecationWarning: PyArray_FromDimsAndDataAndDescr: use PyArray_NewFromDescr.\n  def GetDecode(self): return _FactorGraph.CFactorGraph_GetDecode(self)\n"
     ]
    },
    {
     "name": "stderr",
     "output_type": "stream",
     "text": [
      "FactorBP/FactorGraph.py:399: DeprecationWarning: PyArray_FromDims: use PyArray_SimpleNew.\n  def GetDecode(self): return _FactorGraph.CFactorGraph_GetDecode(self)\nFactorBP/FactorGraph.py:399: DeprecationWarning: PyArray_FromDimsAndDataAndDescr: use PyArray_NewFromDescr.\n  def GetDecode(self): return _FactorGraph.CFactorGraph_GetDecode(self)\n"
     ]
    },
    {
     "name": "stderr",
     "output_type": "stream",
     "text": [
      "FactorBP/FactorGraph.py:399: DeprecationWarning: PyArray_FromDims: use PyArray_SimpleNew.\n  def GetDecode(self): return _FactorGraph.CFactorGraph_GetDecode(self)\nFactorBP/FactorGraph.py:399: DeprecationWarning: PyArray_FromDimsAndDataAndDescr: use PyArray_NewFromDescr.\n  def GetDecode(self): return _FactorGraph.CFactorGraph_GetDecode(self)\n"
     ]
    },
    {
     "name": "stderr",
     "output_type": "stream",
     "text": [
      "FactorBP/FactorGraph.py:399: DeprecationWarning: PyArray_FromDims: use PyArray_SimpleNew.\n  def GetDecode(self): return _FactorGraph.CFactorGraph_GetDecode(self)\nFactorBP/FactorGraph.py:399: DeprecationWarning: PyArray_FromDimsAndDataAndDescr: use PyArray_NewFromDescr.\n  def GetDecode(self): return _FactorGraph.CFactorGraph_GetDecode(self)\n"
     ]
    },
    {
     "name": "stderr",
     "output_type": "stream",
     "text": [
      "FactorBP/FactorGraph.py:399: DeprecationWarning: PyArray_FromDims: use PyArray_SimpleNew.\n  def GetDecode(self): return _FactorGraph.CFactorGraph_GetDecode(self)\nFactorBP/FactorGraph.py:399: DeprecationWarning: PyArray_FromDimsAndDataAndDescr: use PyArray_NewFromDescr.\n  def GetDecode(self): return _FactorGraph.CFactorGraph_GetDecode(self)\n"
     ]
    },
    {
     "name": "stderr",
     "output_type": "stream",
     "text": [
      "FactorBP/FactorGraph.py:399: DeprecationWarning: PyArray_FromDims: use PyArray_SimpleNew.\n  def GetDecode(self): return _FactorGraph.CFactorGraph_GetDecode(self)\nFactorBP/FactorGraph.py:399: DeprecationWarning: PyArray_FromDimsAndDataAndDescr: use PyArray_NewFromDescr.\n  def GetDecode(self): return _FactorGraph.CFactorGraph_GetDecode(self)\n"
     ]
    },
    {
     "name": "stderr",
     "output_type": "stream",
     "text": [
      "FactorBP/FactorGraph.py:399: DeprecationWarning: PyArray_FromDims: use PyArray_SimpleNew.\n  def GetDecode(self): return _FactorGraph.CFactorGraph_GetDecode(self)\nFactorBP/FactorGraph.py:399: DeprecationWarning: PyArray_FromDimsAndDataAndDescr: use PyArray_NewFromDescr.\n  def GetDecode(self): return _FactorGraph.CFactorGraph_GetDecode(self)\n"
     ]
    },
    {
     "name": "stderr",
     "output_type": "stream",
     "text": [
      "FactorBP/FactorGraph.py:399: DeprecationWarning: PyArray_FromDims: use PyArray_SimpleNew.\n  def GetDecode(self): return _FactorGraph.CFactorGraph_GetDecode(self)\nFactorBP/FactorGraph.py:399: DeprecationWarning: PyArray_FromDimsAndDataAndDescr: use PyArray_NewFromDescr.\n  def GetDecode(self): return _FactorGraph.CFactorGraph_GetDecode(self)\n"
     ]
    },
    {
     "name": "stderr",
     "output_type": "stream",
     "text": [
      "FactorBP/FactorGraph.py:399: DeprecationWarning: PyArray_FromDims: use PyArray_SimpleNew.\n  def GetDecode(self): return _FactorGraph.CFactorGraph_GetDecode(self)\nFactorBP/FactorGraph.py:399: DeprecationWarning: PyArray_FromDimsAndDataAndDescr: use PyArray_NewFromDescr.\n  def GetDecode(self): return _FactorGraph.CFactorGraph_GetDecode(self)\n"
     ]
    },
    {
     "name": "stderr",
     "output_type": "stream",
     "text": [
      "FactorBP/FactorGraph.py:399: DeprecationWarning: PyArray_FromDims: use PyArray_SimpleNew.\n  def GetDecode(self): return _FactorGraph.CFactorGraph_GetDecode(self)\nFactorBP/FactorGraph.py:399: DeprecationWarning: PyArray_FromDimsAndDataAndDescr: use PyArray_NewFromDescr.\n  def GetDecode(self): return _FactorGraph.CFactorGraph_GetDecode(self)\n"
     ]
    },
    {
     "name": "stderr",
     "output_type": "stream",
     "text": [
      "FactorBP/FactorGraph.py:399: DeprecationWarning: PyArray_FromDims: use PyArray_SimpleNew.\n  def GetDecode(self): return _FactorGraph.CFactorGraph_GetDecode(self)\nFactorBP/FactorGraph.py:399: DeprecationWarning: PyArray_FromDimsAndDataAndDescr: use PyArray_NewFromDescr.\n  def GetDecode(self): return _FactorGraph.CFactorGraph_GetDecode(self)\n"
     ]
    },
    {
     "name": "stderr",
     "output_type": "stream",
     "text": [
      "FactorBP/FactorGraph.py:399: DeprecationWarning: PyArray_FromDims: use PyArray_SimpleNew.\n  def GetDecode(self): return _FactorGraph.CFactorGraph_GetDecode(self)\nFactorBP/FactorGraph.py:399: DeprecationWarning: PyArray_FromDimsAndDataAndDescr: use PyArray_NewFromDescr.\n  def GetDecode(self): return _FactorGraph.CFactorGraph_GetDecode(self)\n"
     ]
    },
    {
     "name": "stderr",
     "output_type": "stream",
     "text": [
      "FactorBP/FactorGraph.py:399: DeprecationWarning: PyArray_FromDims: use PyArray_SimpleNew.\n  def GetDecode(self): return _FactorGraph.CFactorGraph_GetDecode(self)\nFactorBP/FactorGraph.py:399: DeprecationWarning: PyArray_FromDimsAndDataAndDescr: use PyArray_NewFromDescr.\n  def GetDecode(self): return _FactorGraph.CFactorGraph_GetDecode(self)\n"
     ]
    },
    {
     "name": "stderr",
     "output_type": "stream",
     "text": [
      "FactorBP/FactorGraph.py:399: DeprecationWarning: PyArray_FromDims: use PyArray_SimpleNew.\n  def GetDecode(self): return _FactorGraph.CFactorGraph_GetDecode(self)\nFactorBP/FactorGraph.py:399: DeprecationWarning: PyArray_FromDimsAndDataAndDescr: use PyArray_NewFromDescr.\n  def GetDecode(self): return _FactorGraph.CFactorGraph_GetDecode(self)\n"
     ]
    },
    {
     "name": "stderr",
     "output_type": "stream",
     "text": [
      "FactorBP/FactorGraph.py:399: DeprecationWarning: PyArray_FromDims: use PyArray_SimpleNew.\n  def GetDecode(self): return _FactorGraph.CFactorGraph_GetDecode(self)\nFactorBP/FactorGraph.py:399: DeprecationWarning: PyArray_FromDimsAndDataAndDescr: use PyArray_NewFromDescr.\n  def GetDecode(self): return _FactorGraph.CFactorGraph_GetDecode(self)\n"
     ]
    },
    {
     "name": "stderr",
     "output_type": "stream",
     "text": [
      "FactorBP/FactorGraph.py:399: DeprecationWarning: PyArray_FromDims: use PyArray_SimpleNew.\n  def GetDecode(self): return _FactorGraph.CFactorGraph_GetDecode(self)\nFactorBP/FactorGraph.py:399: DeprecationWarning: PyArray_FromDimsAndDataAndDescr: use PyArray_NewFromDescr.\n  def GetDecode(self): return _FactorGraph.CFactorGraph_GetDecode(self)\n"
     ]
    },
    {
     "name": "stderr",
     "output_type": "stream",
     "text": [
      "FactorBP/FactorGraph.py:399: DeprecationWarning: PyArray_FromDims: use PyArray_SimpleNew.\n  def GetDecode(self): return _FactorGraph.CFactorGraph_GetDecode(self)\nFactorBP/FactorGraph.py:399: DeprecationWarning: PyArray_FromDimsAndDataAndDescr: use PyArray_NewFromDescr.\n  def GetDecode(self): return _FactorGraph.CFactorGraph_GetDecode(self)\n"
     ]
    },
    {
     "name": "stderr",
     "output_type": "stream",
     "text": [
      "FactorBP/FactorGraph.py:399: DeprecationWarning: PyArray_FromDims: use PyArray_SimpleNew.\n  def GetDecode(self): return _FactorGraph.CFactorGraph_GetDecode(self)\nFactorBP/FactorGraph.py:399: DeprecationWarning: PyArray_FromDimsAndDataAndDescr: use PyArray_NewFromDescr.\n  def GetDecode(self): return _FactorGraph.CFactorGraph_GetDecode(self)\n"
     ]
    },
    {
     "name": "stderr",
     "output_type": "stream",
     "text": [
      "FactorBP/FactorGraph.py:399: DeprecationWarning: PyArray_FromDims: use PyArray_SimpleNew.\n  def GetDecode(self): return _FactorGraph.CFactorGraph_GetDecode(self)\nFactorBP/FactorGraph.py:399: DeprecationWarning: PyArray_FromDimsAndDataAndDescr: use PyArray_NewFromDescr.\n  def GetDecode(self): return _FactorGraph.CFactorGraph_GetDecode(self)\n"
     ]
    },
    {
     "name": "stderr",
     "output_type": "stream",
     "text": [
      "FactorBP/FactorGraph.py:399: DeprecationWarning: PyArray_FromDims: use PyArray_SimpleNew.\n  def GetDecode(self): return _FactorGraph.CFactorGraph_GetDecode(self)\nFactorBP/FactorGraph.py:399: DeprecationWarning: PyArray_FromDimsAndDataAndDescr: use PyArray_NewFromDescr.\n  def GetDecode(self): return _FactorGraph.CFactorGraph_GetDecode(self)\n"
     ]
    },
    {
     "name": "stderr",
     "output_type": "stream",
     "text": [
      "FactorBP/FactorGraph.py:399: DeprecationWarning: PyArray_FromDims: use PyArray_SimpleNew.\n  def GetDecode(self): return _FactorGraph.CFactorGraph_GetDecode(self)\nFactorBP/FactorGraph.py:399: DeprecationWarning: PyArray_FromDimsAndDataAndDescr: use PyArray_NewFromDescr.\n  def GetDecode(self): return _FactorGraph.CFactorGraph_GetDecode(self)\n"
     ]
    },
    {
     "name": "stderr",
     "output_type": "stream",
     "text": [
      "FactorBP/FactorGraph.py:399: DeprecationWarning: PyArray_FromDims: use PyArray_SimpleNew.\n  def GetDecode(self): return _FactorGraph.CFactorGraph_GetDecode(self)\nFactorBP/FactorGraph.py:399: DeprecationWarning: PyArray_FromDimsAndDataAndDescr: use PyArray_NewFromDescr.\n  def GetDecode(self): return _FactorGraph.CFactorGraph_GetDecode(self)\n"
     ]
    },
    {
     "name": "stderr",
     "output_type": "stream",
     "text": [
      "FactorBP/FactorGraph.py:399: DeprecationWarning: PyArray_FromDims: use PyArray_SimpleNew.\n  def GetDecode(self): return _FactorGraph.CFactorGraph_GetDecode(self)\nFactorBP/FactorGraph.py:399: DeprecationWarning: PyArray_FromDimsAndDataAndDescr: use PyArray_NewFromDescr.\n  def GetDecode(self): return _FactorGraph.CFactorGraph_GetDecode(self)\n"
     ]
    },
    {
     "name": "stderr",
     "output_type": "stream",
     "text": [
      "FactorBP/FactorGraph.py:399: DeprecationWarning: PyArray_FromDims: use PyArray_SimpleNew.\n  def GetDecode(self): return _FactorGraph.CFactorGraph_GetDecode(self)\nFactorBP/FactorGraph.py:399: DeprecationWarning: PyArray_FromDimsAndDataAndDescr: use PyArray_NewFromDescr.\n  def GetDecode(self): return _FactorGraph.CFactorGraph_GetDecode(self)\n"
     ]
    },
    {
     "name": "stderr",
     "output_type": "stream",
     "text": [
      "FactorBP/FactorGraph.py:399: DeprecationWarning: PyArray_FromDims: use PyArray_SimpleNew.\n  def GetDecode(self): return _FactorGraph.CFactorGraph_GetDecode(self)\nFactorBP/FactorGraph.py:399: DeprecationWarning: PyArray_FromDimsAndDataAndDescr: use PyArray_NewFromDescr.\n  def GetDecode(self): return _FactorGraph.CFactorGraph_GetDecode(self)\n"
     ]
    },
    {
     "name": "stderr",
     "output_type": "stream",
     "text": [
      "FactorBP/FactorGraph.py:399: DeprecationWarning: PyArray_FromDims: use PyArray_SimpleNew.\n  def GetDecode(self): return _FactorGraph.CFactorGraph_GetDecode(self)\nFactorBP/FactorGraph.py:399: DeprecationWarning: PyArray_FromDimsAndDataAndDescr: use PyArray_NewFromDescr.\n  def GetDecode(self): return _FactorGraph.CFactorGraph_GetDecode(self)\n"
     ]
    },
    {
     "name": "stderr",
     "output_type": "stream",
     "text": [
      "FactorBP/FactorGraph.py:399: DeprecationWarning: PyArray_FromDims: use PyArray_SimpleNew.\n  def GetDecode(self): return _FactorGraph.CFactorGraph_GetDecode(self)\nFactorBP/FactorGraph.py:399: DeprecationWarning: PyArray_FromDimsAndDataAndDescr: use PyArray_NewFromDescr.\n  def GetDecode(self): return _FactorGraph.CFactorGraph_GetDecode(self)\n"
     ]
    },
    {
     "name": "stderr",
     "output_type": "stream",
     "text": [
      "FactorBP/FactorGraph.py:399: DeprecationWarning: PyArray_FromDims: use PyArray_SimpleNew.\n  def GetDecode(self): return _FactorGraph.CFactorGraph_GetDecode(self)\nFactorBP/FactorGraph.py:399: DeprecationWarning: PyArray_FromDimsAndDataAndDescr: use PyArray_NewFromDescr.\n  def GetDecode(self): return _FactorGraph.CFactorGraph_GetDecode(self)\n"
     ]
    },
    {
     "name": "stderr",
     "output_type": "stream",
     "text": [
      "FactorBP/FactorGraph.py:399: DeprecationWarning: PyArray_FromDims: use PyArray_SimpleNew.\n  def GetDecode(self): return _FactorGraph.CFactorGraph_GetDecode(self)\nFactorBP/FactorGraph.py:399: DeprecationWarning: PyArray_FromDimsAndDataAndDescr: use PyArray_NewFromDescr.\n  def GetDecode(self): return _FactorGraph.CFactorGraph_GetDecode(self)\n"
     ]
    },
    {
     "name": "stdout",
     "output_type": "stream",
     "text": [
      "Ours Accuracy 1.000000 Running Time 0.009004 Obj 1.000000\nOurs-BCA Accuracy 1.000000 Running Time 0.037562 Obj 1.000000\nBCA Accuracy 1.000000 Running Time 0.018011 Obj 1.000000\nBCA-MP Accuracy 1.000000 Running Time 0.093568 Obj 1.000000\nBCA-IPFP Accuracy 1.000000 Running Time 0.076360 Obj 1.000000\nHGM Accuracy 0.807591 Running Time 0.003934 Obj 0.840986\nRRWHM Accuracy 1.000000 Running Time 0.046375 Obj 1.000000\nTM Accuracy 0.774917 Running Time 0.061660 Obj 0.863725\n××××××××××××××××××××\n Start baseline: 20\n"
     ]
    },
    {
     "name": "stderr",
     "output_type": "stream",
     "text": [
      "FactorBP/FactorGraph.py:399: DeprecationWarning: PyArray_FromDims: use PyArray_SimpleNew.\n  def GetDecode(self): return _FactorGraph.CFactorGraph_GetDecode(self)\nFactorBP/FactorGraph.py:399: DeprecationWarning: PyArray_FromDimsAndDataAndDescr: use PyArray_NewFromDescr.\n  def GetDecode(self): return _FactorGraph.CFactorGraph_GetDecode(self)\n"
     ]
    },
    {
     "name": "stderr",
     "output_type": "stream",
     "text": [
      "FactorBP/FactorGraph.py:399: DeprecationWarning: PyArray_FromDims: use PyArray_SimpleNew.\n  def GetDecode(self): return _FactorGraph.CFactorGraph_GetDecode(self)\nFactorBP/FactorGraph.py:399: DeprecationWarning: PyArray_FromDimsAndDataAndDescr: use PyArray_NewFromDescr.\n  def GetDecode(self): return _FactorGraph.CFactorGraph_GetDecode(self)\n"
     ]
    },
    {
     "name": "stderr",
     "output_type": "stream",
     "text": [
      "FactorBP/FactorGraph.py:399: DeprecationWarning: PyArray_FromDims: use PyArray_SimpleNew.\n  def GetDecode(self): return _FactorGraph.CFactorGraph_GetDecode(self)\nFactorBP/FactorGraph.py:399: DeprecationWarning: PyArray_FromDimsAndDataAndDescr: use PyArray_NewFromDescr.\n  def GetDecode(self): return _FactorGraph.CFactorGraph_GetDecode(self)\n"
     ]
    },
    {
     "name": "stderr",
     "output_type": "stream",
     "text": [
      "FactorBP/FactorGraph.py:399: DeprecationWarning: PyArray_FromDims: use PyArray_SimpleNew.\n  def GetDecode(self): return _FactorGraph.CFactorGraph_GetDecode(self)\nFactorBP/FactorGraph.py:399: DeprecationWarning: PyArray_FromDimsAndDataAndDescr: use PyArray_NewFromDescr.\n  def GetDecode(self): return _FactorGraph.CFactorGraph_GetDecode(self)\n"
     ]
    },
    {
     "name": "stderr",
     "output_type": "stream",
     "text": [
      "FactorBP/FactorGraph.py:399: DeprecationWarning: PyArray_FromDims: use PyArray_SimpleNew.\n  def GetDecode(self): return _FactorGraph.CFactorGraph_GetDecode(self)\nFactorBP/FactorGraph.py:399: DeprecationWarning: PyArray_FromDimsAndDataAndDescr: use PyArray_NewFromDescr.\n  def GetDecode(self): return _FactorGraph.CFactorGraph_GetDecode(self)\n"
     ]
    },
    {
     "name": "stderr",
     "output_type": "stream",
     "text": [
      "FactorBP/FactorGraph.py:399: DeprecationWarning: PyArray_FromDims: use PyArray_SimpleNew.\n  def GetDecode(self): return _FactorGraph.CFactorGraph_GetDecode(self)\nFactorBP/FactorGraph.py:399: DeprecationWarning: PyArray_FromDimsAndDataAndDescr: use PyArray_NewFromDescr.\n  def GetDecode(self): return _FactorGraph.CFactorGraph_GetDecode(self)\n"
     ]
    },
    {
     "name": "stderr",
     "output_type": "stream",
     "text": [
      "FactorBP/FactorGraph.py:399: DeprecationWarning: PyArray_FromDims: use PyArray_SimpleNew.\n  def GetDecode(self): return _FactorGraph.CFactorGraph_GetDecode(self)\nFactorBP/FactorGraph.py:399: DeprecationWarning: PyArray_FromDimsAndDataAndDescr: use PyArray_NewFromDescr.\n  def GetDecode(self): return _FactorGraph.CFactorGraph_GetDecode(self)\n"
     ]
    },
    {
     "name": "stderr",
     "output_type": "stream",
     "text": [
      "FactorBP/FactorGraph.py:399: DeprecationWarning: PyArray_FromDims: use PyArray_SimpleNew.\n  def GetDecode(self): return _FactorGraph.CFactorGraph_GetDecode(self)\nFactorBP/FactorGraph.py:399: DeprecationWarning: PyArray_FromDimsAndDataAndDescr: use PyArray_NewFromDescr.\n  def GetDecode(self): return _FactorGraph.CFactorGraph_GetDecode(self)\n"
     ]
    },
    {
     "name": "stderr",
     "output_type": "stream",
     "text": [
      "FactorBP/FactorGraph.py:399: DeprecationWarning: PyArray_FromDims: use PyArray_SimpleNew.\n  def GetDecode(self): return _FactorGraph.CFactorGraph_GetDecode(self)\nFactorBP/FactorGraph.py:399: DeprecationWarning: PyArray_FromDimsAndDataAndDescr: use PyArray_NewFromDescr.\n  def GetDecode(self): return _FactorGraph.CFactorGraph_GetDecode(self)\n"
     ]
    },
    {
     "name": "stderr",
     "output_type": "stream",
     "text": [
      "FactorBP/FactorGraph.py:399: DeprecationWarning: PyArray_FromDims: use PyArray_SimpleNew.\n  def GetDecode(self): return _FactorGraph.CFactorGraph_GetDecode(self)\nFactorBP/FactorGraph.py:399: DeprecationWarning: PyArray_FromDimsAndDataAndDescr: use PyArray_NewFromDescr.\n  def GetDecode(self): return _FactorGraph.CFactorGraph_GetDecode(self)\n"
     ]
    },
    {
     "name": "stderr",
     "output_type": "stream",
     "text": [
      "FactorBP/FactorGraph.py:399: DeprecationWarning: PyArray_FromDims: use PyArray_SimpleNew.\n  def GetDecode(self): return _FactorGraph.CFactorGraph_GetDecode(self)\nFactorBP/FactorGraph.py:399: DeprecationWarning: PyArray_FromDimsAndDataAndDescr: use PyArray_NewFromDescr.\n  def GetDecode(self): return _FactorGraph.CFactorGraph_GetDecode(self)\n"
     ]
    },
    {
     "name": "stderr",
     "output_type": "stream",
     "text": [
      "FactorBP/FactorGraph.py:399: DeprecationWarning: PyArray_FromDims: use PyArray_SimpleNew.\n  def GetDecode(self): return _FactorGraph.CFactorGraph_GetDecode(self)\nFactorBP/FactorGraph.py:399: DeprecationWarning: PyArray_FromDimsAndDataAndDescr: use PyArray_NewFromDescr.\n  def GetDecode(self): return _FactorGraph.CFactorGraph_GetDecode(self)\n"
     ]
    },
    {
     "name": "stderr",
     "output_type": "stream",
     "text": [
      "FactorBP/FactorGraph.py:399: DeprecationWarning: PyArray_FromDims: use PyArray_SimpleNew.\n  def GetDecode(self): return _FactorGraph.CFactorGraph_GetDecode(self)\nFactorBP/FactorGraph.py:399: DeprecationWarning: PyArray_FromDimsAndDataAndDescr: use PyArray_NewFromDescr.\n  def GetDecode(self): return _FactorGraph.CFactorGraph_GetDecode(self)\n"
     ]
    },
    {
     "name": "stderr",
     "output_type": "stream",
     "text": [
      "FactorBP/FactorGraph.py:399: DeprecationWarning: PyArray_FromDims: use PyArray_SimpleNew.\n  def GetDecode(self): return _FactorGraph.CFactorGraph_GetDecode(self)\nFactorBP/FactorGraph.py:399: DeprecationWarning: PyArray_FromDimsAndDataAndDescr: use PyArray_NewFromDescr.\n  def GetDecode(self): return _FactorGraph.CFactorGraph_GetDecode(self)\n"
     ]
    },
    {
     "name": "stderr",
     "output_type": "stream",
     "text": [
      "FactorBP/FactorGraph.py:399: DeprecationWarning: PyArray_FromDims: use PyArray_SimpleNew.\n  def GetDecode(self): return _FactorGraph.CFactorGraph_GetDecode(self)\nFactorBP/FactorGraph.py:399: DeprecationWarning: PyArray_FromDimsAndDataAndDescr: use PyArray_NewFromDescr.\n  def GetDecode(self): return _FactorGraph.CFactorGraph_GetDecode(self)\n"
     ]
    },
    {
     "name": "stderr",
     "output_type": "stream",
     "text": [
      "FactorBP/FactorGraph.py:399: DeprecationWarning: PyArray_FromDims: use PyArray_SimpleNew.\n  def GetDecode(self): return _FactorGraph.CFactorGraph_GetDecode(self)\nFactorBP/FactorGraph.py:399: DeprecationWarning: PyArray_FromDimsAndDataAndDescr: use PyArray_NewFromDescr.\n  def GetDecode(self): return _FactorGraph.CFactorGraph_GetDecode(self)\n"
     ]
    },
    {
     "name": "stderr",
     "output_type": "stream",
     "text": [
      "FactorBP/FactorGraph.py:399: DeprecationWarning: PyArray_FromDims: use PyArray_SimpleNew.\n  def GetDecode(self): return _FactorGraph.CFactorGraph_GetDecode(self)\nFactorBP/FactorGraph.py:399: DeprecationWarning: PyArray_FromDimsAndDataAndDescr: use PyArray_NewFromDescr.\n  def GetDecode(self): return _FactorGraph.CFactorGraph_GetDecode(self)\n"
     ]
    },
    {
     "name": "stderr",
     "output_type": "stream",
     "text": [
      "FactorBP/FactorGraph.py:399: DeprecationWarning: PyArray_FromDims: use PyArray_SimpleNew.\n  def GetDecode(self): return _FactorGraph.CFactorGraph_GetDecode(self)\nFactorBP/FactorGraph.py:399: DeprecationWarning: PyArray_FromDimsAndDataAndDescr: use PyArray_NewFromDescr.\n  def GetDecode(self): return _FactorGraph.CFactorGraph_GetDecode(self)\n"
     ]
    },
    {
     "name": "stderr",
     "output_type": "stream",
     "text": [
      "FactorBP/FactorGraph.py:399: DeprecationWarning: PyArray_FromDims: use PyArray_SimpleNew.\n  def GetDecode(self): return _FactorGraph.CFactorGraph_GetDecode(self)\nFactorBP/FactorGraph.py:399: DeprecationWarning: PyArray_FromDimsAndDataAndDescr: use PyArray_NewFromDescr.\n  def GetDecode(self): return _FactorGraph.CFactorGraph_GetDecode(self)\n"
     ]
    },
    {
     "name": "stderr",
     "output_type": "stream",
     "text": [
      "FactorBP/FactorGraph.py:399: DeprecationWarning: PyArray_FromDims: use PyArray_SimpleNew.\n  def GetDecode(self): return _FactorGraph.CFactorGraph_GetDecode(self)\nFactorBP/FactorGraph.py:399: DeprecationWarning: PyArray_FromDimsAndDataAndDescr: use PyArray_NewFromDescr.\n  def GetDecode(self): return _FactorGraph.CFactorGraph_GetDecode(self)\n"
     ]
    },
    {
     "name": "stderr",
     "output_type": "stream",
     "text": [
      "FactorBP/FactorGraph.py:399: DeprecationWarning: PyArray_FromDims: use PyArray_SimpleNew.\n  def GetDecode(self): return _FactorGraph.CFactorGraph_GetDecode(self)\nFactorBP/FactorGraph.py:399: DeprecationWarning: PyArray_FromDimsAndDataAndDescr: use PyArray_NewFromDescr.\n  def GetDecode(self): return _FactorGraph.CFactorGraph_GetDecode(self)\n"
     ]
    },
    {
     "name": "stderr",
     "output_type": "stream",
     "text": [
      "FactorBP/FactorGraph.py:399: DeprecationWarning: PyArray_FromDims: use PyArray_SimpleNew.\n  def GetDecode(self): return _FactorGraph.CFactorGraph_GetDecode(self)\nFactorBP/FactorGraph.py:399: DeprecationWarning: PyArray_FromDimsAndDataAndDescr: use PyArray_NewFromDescr.\n  def GetDecode(self): return _FactorGraph.CFactorGraph_GetDecode(self)\n"
     ]
    },
    {
     "name": "stderr",
     "output_type": "stream",
     "text": [
      "FactorBP/FactorGraph.py:399: DeprecationWarning: PyArray_FromDims: use PyArray_SimpleNew.\n  def GetDecode(self): return _FactorGraph.CFactorGraph_GetDecode(self)\nFactorBP/FactorGraph.py:399: DeprecationWarning: PyArray_FromDimsAndDataAndDescr: use PyArray_NewFromDescr.\n  def GetDecode(self): return _FactorGraph.CFactorGraph_GetDecode(self)\n"
     ]
    },
    {
     "name": "stderr",
     "output_type": "stream",
     "text": [
      "FactorBP/FactorGraph.py:399: DeprecationWarning: PyArray_FromDims: use PyArray_SimpleNew.\n  def GetDecode(self): return _FactorGraph.CFactorGraph_GetDecode(self)\nFactorBP/FactorGraph.py:399: DeprecationWarning: PyArray_FromDimsAndDataAndDescr: use PyArray_NewFromDescr.\n  def GetDecode(self): return _FactorGraph.CFactorGraph_GetDecode(self)\n"
     ]
    },
    {
     "name": "stderr",
     "output_type": "stream",
     "text": [
      "FactorBP/FactorGraph.py:399: DeprecationWarning: PyArray_FromDims: use PyArray_SimpleNew.\n  def GetDecode(self): return _FactorGraph.CFactorGraph_GetDecode(self)\nFactorBP/FactorGraph.py:399: DeprecationWarning: PyArray_FromDimsAndDataAndDescr: use PyArray_NewFromDescr.\n  def GetDecode(self): return _FactorGraph.CFactorGraph_GetDecode(self)\n"
     ]
    },
    {
     "name": "stderr",
     "output_type": "stream",
     "text": [
      "FactorBP/FactorGraph.py:399: DeprecationWarning: PyArray_FromDims: use PyArray_SimpleNew.\n  def GetDecode(self): return _FactorGraph.CFactorGraph_GetDecode(self)\nFactorBP/FactorGraph.py:399: DeprecationWarning: PyArray_FromDimsAndDataAndDescr: use PyArray_NewFromDescr.\n  def GetDecode(self): return _FactorGraph.CFactorGraph_GetDecode(self)\n"
     ]
    },
    {
     "name": "stderr",
     "output_type": "stream",
     "text": [
      "FactorBP/FactorGraph.py:399: DeprecationWarning: PyArray_FromDims: use PyArray_SimpleNew.\n  def GetDecode(self): return _FactorGraph.CFactorGraph_GetDecode(self)\nFactorBP/FactorGraph.py:399: DeprecationWarning: PyArray_FromDimsAndDataAndDescr: use PyArray_NewFromDescr.\n  def GetDecode(self): return _FactorGraph.CFactorGraph_GetDecode(self)\n"
     ]
    },
    {
     "name": "stderr",
     "output_type": "stream",
     "text": [
      "FactorBP/FactorGraph.py:399: DeprecationWarning: PyArray_FromDims: use PyArray_SimpleNew.\n  def GetDecode(self): return _FactorGraph.CFactorGraph_GetDecode(self)\nFactorBP/FactorGraph.py:399: DeprecationWarning: PyArray_FromDimsAndDataAndDescr: use PyArray_NewFromDescr.\n  def GetDecode(self): return _FactorGraph.CFactorGraph_GetDecode(self)\n"
     ]
    },
    {
     "name": "stderr",
     "output_type": "stream",
     "text": [
      "FactorBP/FactorGraph.py:399: DeprecationWarning: PyArray_FromDims: use PyArray_SimpleNew.\n  def GetDecode(self): return _FactorGraph.CFactorGraph_GetDecode(self)\nFactorBP/FactorGraph.py:399: DeprecationWarning: PyArray_FromDimsAndDataAndDescr: use PyArray_NewFromDescr.\n  def GetDecode(self): return _FactorGraph.CFactorGraph_GetDecode(self)\nFactorBP/FactorGraph.py:399: DeprecationWarning: PyArray_FromDims: use PyArray_SimpleNew.\n  def GetDecode(self): return _FactorGraph.CFactorGraph_GetDecode(self)\nFactorBP/FactorGraph.py:399: DeprecationWarning: PyArray_FromDimsAndDataAndDescr: use PyArray_NewFromDescr.\n  def GetDecode(self): return _FactorGraph.CFactorGraph_GetDecode(self)\n"
     ]
    },
    {
     "name": "stderr",
     "output_type": "stream",
     "text": [
      "FactorBP/FactorGraph.py:399: DeprecationWarning: PyArray_FromDims: use PyArray_SimpleNew.\n  def GetDecode(self): return _FactorGraph.CFactorGraph_GetDecode(self)\nFactorBP/FactorGraph.py:399: DeprecationWarning: PyArray_FromDimsAndDataAndDescr: use PyArray_NewFromDescr.\n  def GetDecode(self): return _FactorGraph.CFactorGraph_GetDecode(self)\n"
     ]
    },
    {
     "name": "stderr",
     "output_type": "stream",
     "text": [
      "FactorBP/FactorGraph.py:399: DeprecationWarning: PyArray_FromDims: use PyArray_SimpleNew.\n  def GetDecode(self): return _FactorGraph.CFactorGraph_GetDecode(self)\nFactorBP/FactorGraph.py:399: DeprecationWarning: PyArray_FromDimsAndDataAndDescr: use PyArray_NewFromDescr.\n  def GetDecode(self): return _FactorGraph.CFactorGraph_GetDecode(self)\n"
     ]
    },
    {
     "name": "stderr",
     "output_type": "stream",
     "text": [
      "FactorBP/FactorGraph.py:399: DeprecationWarning: PyArray_FromDims: use PyArray_SimpleNew.\n  def GetDecode(self): return _FactorGraph.CFactorGraph_GetDecode(self)\nFactorBP/FactorGraph.py:399: DeprecationWarning: PyArray_FromDimsAndDataAndDescr: use PyArray_NewFromDescr.\n  def GetDecode(self): return _FactorGraph.CFactorGraph_GetDecode(self)\n"
     ]
    },
    {
     "name": "stderr",
     "output_type": "stream",
     "text": [
      "FactorBP/FactorGraph.py:399: DeprecationWarning: PyArray_FromDims: use PyArray_SimpleNew.\n  def GetDecode(self): return _FactorGraph.CFactorGraph_GetDecode(self)\nFactorBP/FactorGraph.py:399: DeprecationWarning: PyArray_FromDimsAndDataAndDescr: use PyArray_NewFromDescr.\n  def GetDecode(self): return _FactorGraph.CFactorGraph_GetDecode(self)\n"
     ]
    },
    {
     "name": "stderr",
     "output_type": "stream",
     "text": [
      "FactorBP/FactorGraph.py:399: DeprecationWarning: PyArray_FromDims: use PyArray_SimpleNew.\n  def GetDecode(self): return _FactorGraph.CFactorGraph_GetDecode(self)\nFactorBP/FactorGraph.py:399: DeprecationWarning: PyArray_FromDimsAndDataAndDescr: use PyArray_NewFromDescr.\n  def GetDecode(self): return _FactorGraph.CFactorGraph_GetDecode(self)\n"
     ]
    },
    {
     "name": "stderr",
     "output_type": "stream",
     "text": [
      "FactorBP/FactorGraph.py:399: DeprecationWarning: PyArray_FromDims: use PyArray_SimpleNew.\n  def GetDecode(self): return _FactorGraph.CFactorGraph_GetDecode(self)\nFactorBP/FactorGraph.py:399: DeprecationWarning: PyArray_FromDimsAndDataAndDescr: use PyArray_NewFromDescr.\n  def GetDecode(self): return _FactorGraph.CFactorGraph_GetDecode(self)\n"
     ]
    },
    {
     "name": "stderr",
     "output_type": "stream",
     "text": [
      "FactorBP/FactorGraph.py:399: DeprecationWarning: PyArray_FromDims: use PyArray_SimpleNew.\n  def GetDecode(self): return _FactorGraph.CFactorGraph_GetDecode(self)\nFactorBP/FactorGraph.py:399: DeprecationWarning: PyArray_FromDimsAndDataAndDescr: use PyArray_NewFromDescr.\n  def GetDecode(self): return _FactorGraph.CFactorGraph_GetDecode(self)\n"
     ]
    },
    {
     "name": "stderr",
     "output_type": "stream",
     "text": [
      "FactorBP/FactorGraph.py:399: DeprecationWarning: PyArray_FromDims: use PyArray_SimpleNew.\n  def GetDecode(self): return _FactorGraph.CFactorGraph_GetDecode(self)\nFactorBP/FactorGraph.py:399: DeprecationWarning: PyArray_FromDimsAndDataAndDescr: use PyArray_NewFromDescr.\n  def GetDecode(self): return _FactorGraph.CFactorGraph_GetDecode(self)\n"
     ]
    },
    {
     "name": "stderr",
     "output_type": "stream",
     "text": [
      "FactorBP/FactorGraph.py:399: DeprecationWarning: PyArray_FromDims: use PyArray_SimpleNew.\n  def GetDecode(self): return _FactorGraph.CFactorGraph_GetDecode(self)\nFactorBP/FactorGraph.py:399: DeprecationWarning: PyArray_FromDimsAndDataAndDescr: use PyArray_NewFromDescr.\n  def GetDecode(self): return _FactorGraph.CFactorGraph_GetDecode(self)\n"
     ]
    },
    {
     "name": "stderr",
     "output_type": "stream",
     "text": [
      "FactorBP/FactorGraph.py:399: DeprecationWarning: PyArray_FromDims: use PyArray_SimpleNew.\n  def GetDecode(self): return _FactorGraph.CFactorGraph_GetDecode(self)\nFactorBP/FactorGraph.py:399: DeprecationWarning: PyArray_FromDimsAndDataAndDescr: use PyArray_NewFromDescr.\n  def GetDecode(self): return _FactorGraph.CFactorGraph_GetDecode(self)\n"
     ]
    },
    {
     "name": "stderr",
     "output_type": "stream",
     "text": [
      "FactorBP/FactorGraph.py:399: DeprecationWarning: PyArray_FromDims: use PyArray_SimpleNew.\n  def GetDecode(self): return _FactorGraph.CFactorGraph_GetDecode(self)\nFactorBP/FactorGraph.py:399: DeprecationWarning: PyArray_FromDimsAndDataAndDescr: use PyArray_NewFromDescr.\n  def GetDecode(self): return _FactorGraph.CFactorGraph_GetDecode(self)\nFactorBP/FactorGraph.py:399: DeprecationWarning: PyArray_FromDims: use PyArray_SimpleNew.\n  def GetDecode(self): return _FactorGraph.CFactorGraph_GetDecode(self)\nFactorBP/FactorGraph.py:399: DeprecationWarning: PyArray_FromDimsAndDataAndDescr: use PyArray_NewFromDescr.\n  def GetDecode(self): return _FactorGraph.CFactorGraph_GetDecode(self)\n"
     ]
    },
    {
     "name": "stderr",
     "output_type": "stream",
     "text": [
      "FactorBP/FactorGraph.py:399: DeprecationWarning: PyArray_FromDims: use PyArray_SimpleNew.\n  def GetDecode(self): return _FactorGraph.CFactorGraph_GetDecode(self)\nFactorBP/FactorGraph.py:399: DeprecationWarning: PyArray_FromDimsAndDataAndDescr: use PyArray_NewFromDescr.\n  def GetDecode(self): return _FactorGraph.CFactorGraph_GetDecode(self)\n"
     ]
    },
    {
     "name": "stderr",
     "output_type": "stream",
     "text": [
      "FactorBP/FactorGraph.py:399: DeprecationWarning: PyArray_FromDims: use PyArray_SimpleNew.\n  def GetDecode(self): return _FactorGraph.CFactorGraph_GetDecode(self)\nFactorBP/FactorGraph.py:399: DeprecationWarning: PyArray_FromDimsAndDataAndDescr: use PyArray_NewFromDescr.\n  def GetDecode(self): return _FactorGraph.CFactorGraph_GetDecode(self)\n"
     ]
    },
    {
     "name": "stderr",
     "output_type": "stream",
     "text": [
      "FactorBP/FactorGraph.py:399: DeprecationWarning: PyArray_FromDims: use PyArray_SimpleNew.\n  def GetDecode(self): return _FactorGraph.CFactorGraph_GetDecode(self)\nFactorBP/FactorGraph.py:399: DeprecationWarning: PyArray_FromDimsAndDataAndDescr: use PyArray_NewFromDescr.\n  def GetDecode(self): return _FactorGraph.CFactorGraph_GetDecode(self)\n"
     ]
    },
    {
     "name": "stderr",
     "output_type": "stream",
     "text": [
      "FactorBP/FactorGraph.py:399: DeprecationWarning: PyArray_FromDims: use PyArray_SimpleNew.\n  def GetDecode(self): return _FactorGraph.CFactorGraph_GetDecode(self)\nFactorBP/FactorGraph.py:399: DeprecationWarning: PyArray_FromDimsAndDataAndDescr: use PyArray_NewFromDescr.\n  def GetDecode(self): return _FactorGraph.CFactorGraph_GetDecode(self)\n"
     ]
    },
    {
     "name": "stderr",
     "output_type": "stream",
     "text": [
      "FactorBP/FactorGraph.py:399: DeprecationWarning: PyArray_FromDims: use PyArray_SimpleNew.\n  def GetDecode(self): return _FactorGraph.CFactorGraph_GetDecode(self)\nFactorBP/FactorGraph.py:399: DeprecationWarning: PyArray_FromDimsAndDataAndDescr: use PyArray_NewFromDescr.\n  def GetDecode(self): return _FactorGraph.CFactorGraph_GetDecode(self)\n"
     ]
    },
    {
     "name": "stderr",
     "output_type": "stream",
     "text": [
      "FactorBP/FactorGraph.py:399: DeprecationWarning: PyArray_FromDims: use PyArray_SimpleNew.\n  def GetDecode(self): return _FactorGraph.CFactorGraph_GetDecode(self)\nFactorBP/FactorGraph.py:399: DeprecationWarning: PyArray_FromDimsAndDataAndDescr: use PyArray_NewFromDescr.\n  def GetDecode(self): return _FactorGraph.CFactorGraph_GetDecode(self)\n"
     ]
    },
    {
     "name": "stderr",
     "output_type": "stream",
     "text": [
      "FactorBP/FactorGraph.py:399: DeprecationWarning: PyArray_FromDims: use PyArray_SimpleNew.\n  def GetDecode(self): return _FactorGraph.CFactorGraph_GetDecode(self)\nFactorBP/FactorGraph.py:399: DeprecationWarning: PyArray_FromDimsAndDataAndDescr: use PyArray_NewFromDescr.\n  def GetDecode(self): return _FactorGraph.CFactorGraph_GetDecode(self)\n"
     ]
    },
    {
     "name": "stderr",
     "output_type": "stream",
     "text": [
      "FactorBP/FactorGraph.py:399: DeprecationWarning: PyArray_FromDims: use PyArray_SimpleNew.\n  def GetDecode(self): return _FactorGraph.CFactorGraph_GetDecode(self)\nFactorBP/FactorGraph.py:399: DeprecationWarning: PyArray_FromDimsAndDataAndDescr: use PyArray_NewFromDescr.\n  def GetDecode(self): return _FactorGraph.CFactorGraph_GetDecode(self)\n"
     ]
    },
    {
     "name": "stderr",
     "output_type": "stream",
     "text": [
      "FactorBP/FactorGraph.py:399: DeprecationWarning: PyArray_FromDims: use PyArray_SimpleNew.\n  def GetDecode(self): return _FactorGraph.CFactorGraph_GetDecode(self)\nFactorBP/FactorGraph.py:399: DeprecationWarning: PyArray_FromDimsAndDataAndDescr: use PyArray_NewFromDescr.\n  def GetDecode(self): return _FactorGraph.CFactorGraph_GetDecode(self)\n"
     ]
    },
    {
     "name": "stderr",
     "output_type": "stream",
     "text": [
      "FactorBP/FactorGraph.py:399: DeprecationWarning: PyArray_FromDims: use PyArray_SimpleNew.\n  def GetDecode(self): return _FactorGraph.CFactorGraph_GetDecode(self)\nFactorBP/FactorGraph.py:399: DeprecationWarning: PyArray_FromDimsAndDataAndDescr: use PyArray_NewFromDescr.\n  def GetDecode(self): return _FactorGraph.CFactorGraph_GetDecode(self)\n"
     ]
    },
    {
     "name": "stderr",
     "output_type": "stream",
     "text": [
      "FactorBP/FactorGraph.py:399: DeprecationWarning: PyArray_FromDims: use PyArray_SimpleNew.\n  def GetDecode(self): return _FactorGraph.CFactorGraph_GetDecode(self)\nFactorBP/FactorGraph.py:399: DeprecationWarning: PyArray_FromDimsAndDataAndDescr: use PyArray_NewFromDescr.\n  def GetDecode(self): return _FactorGraph.CFactorGraph_GetDecode(self)\n"
     ]
    },
    {
     "name": "stderr",
     "output_type": "stream",
     "text": [
      "FactorBP/FactorGraph.py:399: DeprecationWarning: PyArray_FromDims: use PyArray_SimpleNew.\n  def GetDecode(self): return _FactorGraph.CFactorGraph_GetDecode(self)\nFactorBP/FactorGraph.py:399: DeprecationWarning: PyArray_FromDimsAndDataAndDescr: use PyArray_NewFromDescr.\n  def GetDecode(self): return _FactorGraph.CFactorGraph_GetDecode(self)\n"
     ]
    },
    {
     "name": "stderr",
     "output_type": "stream",
     "text": [
      "FactorBP/FactorGraph.py:399: DeprecationWarning: PyArray_FromDims: use PyArray_SimpleNew.\n  def GetDecode(self): return _FactorGraph.CFactorGraph_GetDecode(self)\nFactorBP/FactorGraph.py:399: DeprecationWarning: PyArray_FromDimsAndDataAndDescr: use PyArray_NewFromDescr.\n  def GetDecode(self): return _FactorGraph.CFactorGraph_GetDecode(self)\n"
     ]
    },
    {
     "name": "stderr",
     "output_type": "stream",
     "text": [
      "FactorBP/FactorGraph.py:399: DeprecationWarning: PyArray_FromDims: use PyArray_SimpleNew.\n  def GetDecode(self): return _FactorGraph.CFactorGraph_GetDecode(self)\nFactorBP/FactorGraph.py:399: DeprecationWarning: PyArray_FromDimsAndDataAndDescr: use PyArray_NewFromDescr.\n  def GetDecode(self): return _FactorGraph.CFactorGraph_GetDecode(self)\n"
     ]
    },
    {
     "name": "stderr",
     "output_type": "stream",
     "text": [
      "FactorBP/FactorGraph.py:399: DeprecationWarning: PyArray_FromDims: use PyArray_SimpleNew.\n  def GetDecode(self): return _FactorGraph.CFactorGraph_GetDecode(self)\nFactorBP/FactorGraph.py:399: DeprecationWarning: PyArray_FromDimsAndDataAndDescr: use PyArray_NewFromDescr.\n  def GetDecode(self): return _FactorGraph.CFactorGraph_GetDecode(self)\n"
     ]
    },
    {
     "name": "stderr",
     "output_type": "stream",
     "text": [
      "FactorBP/FactorGraph.py:399: DeprecationWarning: PyArray_FromDims: use PyArray_SimpleNew.\n  def GetDecode(self): return _FactorGraph.CFactorGraph_GetDecode(self)\nFactorBP/FactorGraph.py:399: DeprecationWarning: PyArray_FromDimsAndDataAndDescr: use PyArray_NewFromDescr.\n  def GetDecode(self): return _FactorGraph.CFactorGraph_GetDecode(self)\n"
     ]
    },
    {
     "name": "stderr",
     "output_type": "stream",
     "text": [
      "FactorBP/FactorGraph.py:399: DeprecationWarning: PyArray_FromDims: use PyArray_SimpleNew.\n  def GetDecode(self): return _FactorGraph.CFactorGraph_GetDecode(self)\nFactorBP/FactorGraph.py:399: DeprecationWarning: PyArray_FromDimsAndDataAndDescr: use PyArray_NewFromDescr.\n  def GetDecode(self): return _FactorGraph.CFactorGraph_GetDecode(self)\n"
     ]
    },
    {
     "name": "stderr",
     "output_type": "stream",
     "text": [
      "FactorBP/FactorGraph.py:399: DeprecationWarning: PyArray_FromDims: use PyArray_SimpleNew.\n  def GetDecode(self): return _FactorGraph.CFactorGraph_GetDecode(self)\nFactorBP/FactorGraph.py:399: DeprecationWarning: PyArray_FromDimsAndDataAndDescr: use PyArray_NewFromDescr.\n  def GetDecode(self): return _FactorGraph.CFactorGraph_GetDecode(self)\n"
     ]
    },
    {
     "name": "stderr",
     "output_type": "stream",
     "text": [
      "FactorBP/FactorGraph.py:399: DeprecationWarning: PyArray_FromDims: use PyArray_SimpleNew.\n  def GetDecode(self): return _FactorGraph.CFactorGraph_GetDecode(self)\nFactorBP/FactorGraph.py:399: DeprecationWarning: PyArray_FromDimsAndDataAndDescr: use PyArray_NewFromDescr.\n  def GetDecode(self): return _FactorGraph.CFactorGraph_GetDecode(self)\n"
     ]
    },
    {
     "name": "stderr",
     "output_type": "stream",
     "text": [
      "FactorBP/FactorGraph.py:399: DeprecationWarning: PyArray_FromDims: use PyArray_SimpleNew.\n  def GetDecode(self): return _FactorGraph.CFactorGraph_GetDecode(self)\nFactorBP/FactorGraph.py:399: DeprecationWarning: PyArray_FromDimsAndDataAndDescr: use PyArray_NewFromDescr.\n  def GetDecode(self): return _FactorGraph.CFactorGraph_GetDecode(self)\n"
     ]
    },
    {
     "name": "stderr",
     "output_type": "stream",
     "text": [
      "FactorBP/FactorGraph.py:399: DeprecationWarning: PyArray_FromDims: use PyArray_SimpleNew.\n  def GetDecode(self): return _FactorGraph.CFactorGraph_GetDecode(self)\nFactorBP/FactorGraph.py:399: DeprecationWarning: PyArray_FromDimsAndDataAndDescr: use PyArray_NewFromDescr.\n  def GetDecode(self): return _FactorGraph.CFactorGraph_GetDecode(self)\n"
     ]
    },
    {
     "name": "stderr",
     "output_type": "stream",
     "text": [
      "FactorBP/FactorGraph.py:399: DeprecationWarning: PyArray_FromDims: use PyArray_SimpleNew.\n  def GetDecode(self): return _FactorGraph.CFactorGraph_GetDecode(self)\nFactorBP/FactorGraph.py:399: DeprecationWarning: PyArray_FromDimsAndDataAndDescr: use PyArray_NewFromDescr.\n  def GetDecode(self): return _FactorGraph.CFactorGraph_GetDecode(self)\n"
     ]
    },
    {
     "name": "stderr",
     "output_type": "stream",
     "text": [
      "FactorBP/FactorGraph.py:399: DeprecationWarning: PyArray_FromDims: use PyArray_SimpleNew.\n  def GetDecode(self): return _FactorGraph.CFactorGraph_GetDecode(self)\nFactorBP/FactorGraph.py:399: DeprecationWarning: PyArray_FromDimsAndDataAndDescr: use PyArray_NewFromDescr.\n  def GetDecode(self): return _FactorGraph.CFactorGraph_GetDecode(self)\n"
     ]
    },
    {
     "name": "stderr",
     "output_type": "stream",
     "text": [
      "FactorBP/FactorGraph.py:399: DeprecationWarning: PyArray_FromDims: use PyArray_SimpleNew.\n  def GetDecode(self): return _FactorGraph.CFactorGraph_GetDecode(self)\nFactorBP/FactorGraph.py:399: DeprecationWarning: PyArray_FromDimsAndDataAndDescr: use PyArray_NewFromDescr.\n  def GetDecode(self): return _FactorGraph.CFactorGraph_GetDecode(self)\n"
     ]
    },
    {
     "name": "stderr",
     "output_type": "stream",
     "text": [
      "FactorBP/FactorGraph.py:399: DeprecationWarning: PyArray_FromDims: use PyArray_SimpleNew.\n  def GetDecode(self): return _FactorGraph.CFactorGraph_GetDecode(self)\nFactorBP/FactorGraph.py:399: DeprecationWarning: PyArray_FromDimsAndDataAndDescr: use PyArray_NewFromDescr.\n  def GetDecode(self): return _FactorGraph.CFactorGraph_GetDecode(self)\n"
     ]
    },
    {
     "name": "stderr",
     "output_type": "stream",
     "text": [
      "FactorBP/FactorGraph.py:399: DeprecationWarning: PyArray_FromDims: use PyArray_SimpleNew.\n  def GetDecode(self): return _FactorGraph.CFactorGraph_GetDecode(self)\nFactorBP/FactorGraph.py:399: DeprecationWarning: PyArray_FromDimsAndDataAndDescr: use PyArray_NewFromDescr.\n  def GetDecode(self): return _FactorGraph.CFactorGraph_GetDecode(self)\n"
     ]
    },
    {
     "name": "stderr",
     "output_type": "stream",
     "text": [
      "FactorBP/FactorGraph.py:399: DeprecationWarning: PyArray_FromDims: use PyArray_SimpleNew.\n  def GetDecode(self): return _FactorGraph.CFactorGraph_GetDecode(self)\nFactorBP/FactorGraph.py:399: DeprecationWarning: PyArray_FromDimsAndDataAndDescr: use PyArray_NewFromDescr.\n  def GetDecode(self): return _FactorGraph.CFactorGraph_GetDecode(self)\n"
     ]
    },
    {
     "name": "stderr",
     "output_type": "stream",
     "text": [
      "FactorBP/FactorGraph.py:399: DeprecationWarning: PyArray_FromDims: use PyArray_SimpleNew.\n  def GetDecode(self): return _FactorGraph.CFactorGraph_GetDecode(self)\nFactorBP/FactorGraph.py:399: DeprecationWarning: PyArray_FromDimsAndDataAndDescr: use PyArray_NewFromDescr.\n  def GetDecode(self): return _FactorGraph.CFactorGraph_GetDecode(self)\n"
     ]
    },
    {
     "name": "stderr",
     "output_type": "stream",
     "text": [
      "FactorBP/FactorGraph.py:399: DeprecationWarning: PyArray_FromDims: use PyArray_SimpleNew.\n  def GetDecode(self): return _FactorGraph.CFactorGraph_GetDecode(self)\nFactorBP/FactorGraph.py:399: DeprecationWarning: PyArray_FromDimsAndDataAndDescr: use PyArray_NewFromDescr.\n  def GetDecode(self): return _FactorGraph.CFactorGraph_GetDecode(self)\n"
     ]
    },
    {
     "name": "stderr",
     "output_type": "stream",
     "text": [
      "FactorBP/FactorGraph.py:399: DeprecationWarning: PyArray_FromDims: use PyArray_SimpleNew.\n  def GetDecode(self): return _FactorGraph.CFactorGraph_GetDecode(self)\nFactorBP/FactorGraph.py:399: DeprecationWarning: PyArray_FromDimsAndDataAndDescr: use PyArray_NewFromDescr.\n  def GetDecode(self): return _FactorGraph.CFactorGraph_GetDecode(self)\n"
     ]
    },
    {
     "name": "stderr",
     "output_type": "stream",
     "text": [
      "FactorBP/FactorGraph.py:399: DeprecationWarning: PyArray_FromDims: use PyArray_SimpleNew.\n  def GetDecode(self): return _FactorGraph.CFactorGraph_GetDecode(self)\nFactorBP/FactorGraph.py:399: DeprecationWarning: PyArray_FromDimsAndDataAndDescr: use PyArray_NewFromDescr.\n  def GetDecode(self): return _FactorGraph.CFactorGraph_GetDecode(self)\n"
     ]
    },
    {
     "name": "stderr",
     "output_type": "stream",
     "text": [
      "FactorBP/FactorGraph.py:399: DeprecationWarning: PyArray_FromDims: use PyArray_SimpleNew.\n  def GetDecode(self): return _FactorGraph.CFactorGraph_GetDecode(self)\nFactorBP/FactorGraph.py:399: DeprecationWarning: PyArray_FromDimsAndDataAndDescr: use PyArray_NewFromDescr.\n  def GetDecode(self): return _FactorGraph.CFactorGraph_GetDecode(self)\n"
     ]
    },
    {
     "name": "stderr",
     "output_type": "stream",
     "text": [
      "FactorBP/FactorGraph.py:399: DeprecationWarning: PyArray_FromDims: use PyArray_SimpleNew.\n  def GetDecode(self): return _FactorGraph.CFactorGraph_GetDecode(self)\nFactorBP/FactorGraph.py:399: DeprecationWarning: PyArray_FromDimsAndDataAndDescr: use PyArray_NewFromDescr.\n  def GetDecode(self): return _FactorGraph.CFactorGraph_GetDecode(self)\n"
     ]
    },
    {
     "name": "stderr",
     "output_type": "stream",
     "text": [
      "FactorBP/FactorGraph.py:399: DeprecationWarning: PyArray_FromDims: use PyArray_SimpleNew.\n  def GetDecode(self): return _FactorGraph.CFactorGraph_GetDecode(self)\nFactorBP/FactorGraph.py:399: DeprecationWarning: PyArray_FromDimsAndDataAndDescr: use PyArray_NewFromDescr.\n  def GetDecode(self): return _FactorGraph.CFactorGraph_GetDecode(self)\n"
     ]
    },
    {
     "name": "stderr",
     "output_type": "stream",
     "text": [
      "FactorBP/FactorGraph.py:399: DeprecationWarning: PyArray_FromDims: use PyArray_SimpleNew.\n  def GetDecode(self): return _FactorGraph.CFactorGraph_GetDecode(self)\nFactorBP/FactorGraph.py:399: DeprecationWarning: PyArray_FromDimsAndDataAndDescr: use PyArray_NewFromDescr.\n  def GetDecode(self): return _FactorGraph.CFactorGraph_GetDecode(self)\n"
     ]
    },
    {
     "name": "stderr",
     "output_type": "stream",
     "text": [
      "FactorBP/FactorGraph.py:399: DeprecationWarning: PyArray_FromDims: use PyArray_SimpleNew.\n  def GetDecode(self): return _FactorGraph.CFactorGraph_GetDecode(self)\nFactorBP/FactorGraph.py:399: DeprecationWarning: PyArray_FromDimsAndDataAndDescr: use PyArray_NewFromDescr.\n  def GetDecode(self): return _FactorGraph.CFactorGraph_GetDecode(self)\n"
     ]
    },
    {
     "name": "stderr",
     "output_type": "stream",
     "text": [
      "FactorBP/FactorGraph.py:399: DeprecationWarning: PyArray_FromDims: use PyArray_SimpleNew.\n  def GetDecode(self): return _FactorGraph.CFactorGraph_GetDecode(self)\nFactorBP/FactorGraph.py:399: DeprecationWarning: PyArray_FromDimsAndDataAndDescr: use PyArray_NewFromDescr.\n  def GetDecode(self): return _FactorGraph.CFactorGraph_GetDecode(self)\n"
     ]
    },
    {
     "name": "stderr",
     "output_type": "stream",
     "text": [
      "FactorBP/FactorGraph.py:399: DeprecationWarning: PyArray_FromDims: use PyArray_SimpleNew.\n  def GetDecode(self): return _FactorGraph.CFactorGraph_GetDecode(self)\nFactorBP/FactorGraph.py:399: DeprecationWarning: PyArray_FromDimsAndDataAndDescr: use PyArray_NewFromDescr.\n  def GetDecode(self): return _FactorGraph.CFactorGraph_GetDecode(self)\n"
     ]
    },
    {
     "name": "stderr",
     "output_type": "stream",
     "text": [
      "FactorBP/FactorGraph.py:399: DeprecationWarning: PyArray_FromDims: use PyArray_SimpleNew.\n  def GetDecode(self): return _FactorGraph.CFactorGraph_GetDecode(self)\nFactorBP/FactorGraph.py:399: DeprecationWarning: PyArray_FromDimsAndDataAndDescr: use PyArray_NewFromDescr.\n  def GetDecode(self): return _FactorGraph.CFactorGraph_GetDecode(self)\n"
     ]
    },
    {
     "name": "stderr",
     "output_type": "stream",
     "text": [
      "FactorBP/FactorGraph.py:399: DeprecationWarning: PyArray_FromDims: use PyArray_SimpleNew.\n  def GetDecode(self): return _FactorGraph.CFactorGraph_GetDecode(self)\nFactorBP/FactorGraph.py:399: DeprecationWarning: PyArray_FromDimsAndDataAndDescr: use PyArray_NewFromDescr.\n  def GetDecode(self): return _FactorGraph.CFactorGraph_GetDecode(self)\n"
     ]
    },
    {
     "name": "stderr",
     "output_type": "stream",
     "text": [
      "FactorBP/FactorGraph.py:399: DeprecationWarning: PyArray_FromDims: use PyArray_SimpleNew.\n  def GetDecode(self): return _FactorGraph.CFactorGraph_GetDecode(self)\nFactorBP/FactorGraph.py:399: DeprecationWarning: PyArray_FromDimsAndDataAndDescr: use PyArray_NewFromDescr.\n  def GetDecode(self): return _FactorGraph.CFactorGraph_GetDecode(self)\n"
     ]
    },
    {
     "name": "stderr",
     "output_type": "stream",
     "text": [
      "FactorBP/FactorGraph.py:399: DeprecationWarning: PyArray_FromDims: use PyArray_SimpleNew.\n  def GetDecode(self): return _FactorGraph.CFactorGraph_GetDecode(self)\nFactorBP/FactorGraph.py:399: DeprecationWarning: PyArray_FromDimsAndDataAndDescr: use PyArray_NewFromDescr.\n  def GetDecode(self): return _FactorGraph.CFactorGraph_GetDecode(self)\n"
     ]
    },
    {
     "name": "stderr",
     "output_type": "stream",
     "text": [
      "FactorBP/FactorGraph.py:399: DeprecationWarning: PyArray_FromDims: use PyArray_SimpleNew.\n  def GetDecode(self): return _FactorGraph.CFactorGraph_GetDecode(self)\nFactorBP/FactorGraph.py:399: DeprecationWarning: PyArray_FromDimsAndDataAndDescr: use PyArray_NewFromDescr.\n  def GetDecode(self): return _FactorGraph.CFactorGraph_GetDecode(self)\n"
     ]
    },
    {
     "name": "stderr",
     "output_type": "stream",
     "text": [
      "FactorBP/FactorGraph.py:399: DeprecationWarning: PyArray_FromDims: use PyArray_SimpleNew.\n  def GetDecode(self): return _FactorGraph.CFactorGraph_GetDecode(self)\nFactorBP/FactorGraph.py:399: DeprecationWarning: PyArray_FromDimsAndDataAndDescr: use PyArray_NewFromDescr.\n  def GetDecode(self): return _FactorGraph.CFactorGraph_GetDecode(self)\n"
     ]
    },
    {
     "name": "stderr",
     "output_type": "stream",
     "text": [
      "FactorBP/FactorGraph.py:399: DeprecationWarning: PyArray_FromDims: use PyArray_SimpleNew.\n  def GetDecode(self): return _FactorGraph.CFactorGraph_GetDecode(self)\nFactorBP/FactorGraph.py:399: DeprecationWarning: PyArray_FromDimsAndDataAndDescr: use PyArray_NewFromDescr.\n  def GetDecode(self): return _FactorGraph.CFactorGraph_GetDecode(self)\n"
     ]
    },
    {
     "name": "stderr",
     "output_type": "stream",
     "text": [
      "FactorBP/FactorGraph.py:399: DeprecationWarning: PyArray_FromDims: use PyArray_SimpleNew.\n  def GetDecode(self): return _FactorGraph.CFactorGraph_GetDecode(self)\nFactorBP/FactorGraph.py:399: DeprecationWarning: PyArray_FromDimsAndDataAndDescr: use PyArray_NewFromDescr.\n  def GetDecode(self): return _FactorGraph.CFactorGraph_GetDecode(self)\n"
     ]
    },
    {
     "name": "stderr",
     "output_type": "stream",
     "text": [
      "FactorBP/FactorGraph.py:399: DeprecationWarning: PyArray_FromDims: use PyArray_SimpleNew.\n  def GetDecode(self): return _FactorGraph.CFactorGraph_GetDecode(self)\nFactorBP/FactorGraph.py:399: DeprecationWarning: PyArray_FromDimsAndDataAndDescr: use PyArray_NewFromDescr.\n  def GetDecode(self): return _FactorGraph.CFactorGraph_GetDecode(self)\n"
     ]
    },
    {
     "name": "stderr",
     "output_type": "stream",
     "text": [
      "FactorBP/FactorGraph.py:399: DeprecationWarning: PyArray_FromDims: use PyArray_SimpleNew.\n  def GetDecode(self): return _FactorGraph.CFactorGraph_GetDecode(self)\nFactorBP/FactorGraph.py:399: DeprecationWarning: PyArray_FromDimsAndDataAndDescr: use PyArray_NewFromDescr.\n  def GetDecode(self): return _FactorGraph.CFactorGraph_GetDecode(self)\n"
     ]
    },
    {
     "name": "stderr",
     "output_type": "stream",
     "text": [
      "FactorBP/FactorGraph.py:399: DeprecationWarning: PyArray_FromDims: use PyArray_SimpleNew.\n  def GetDecode(self): return _FactorGraph.CFactorGraph_GetDecode(self)\nFactorBP/FactorGraph.py:399: DeprecationWarning: PyArray_FromDimsAndDataAndDescr: use PyArray_NewFromDescr.\n  def GetDecode(self): return _FactorGraph.CFactorGraph_GetDecode(self)\n"
     ]
    },
    {
     "name": "stderr",
     "output_type": "stream",
     "text": [
      "FactorBP/FactorGraph.py:399: DeprecationWarning: PyArray_FromDims: use PyArray_SimpleNew.\n  def GetDecode(self): return _FactorGraph.CFactorGraph_GetDecode(self)\nFactorBP/FactorGraph.py:399: DeprecationWarning: PyArray_FromDimsAndDataAndDescr: use PyArray_NewFromDescr.\n  def GetDecode(self): return _FactorGraph.CFactorGraph_GetDecode(self)\n"
     ]
    },
    {
     "name": "stderr",
     "output_type": "stream",
     "text": [
      "FactorBP/FactorGraph.py:399: DeprecationWarning: PyArray_FromDims: use PyArray_SimpleNew.\n  def GetDecode(self): return _FactorGraph.CFactorGraph_GetDecode(self)\nFactorBP/FactorGraph.py:399: DeprecationWarning: PyArray_FromDimsAndDataAndDescr: use PyArray_NewFromDescr.\n  def GetDecode(self): return _FactorGraph.CFactorGraph_GetDecode(self)\n"
     ]
    },
    {
     "name": "stdout",
     "output_type": "stream",
     "text": [
      "Ours Accuracy 1.000000 Running Time 0.017288 Obj 1.000000\nOurs-BCA Accuracy 1.000000 Running Time 0.046243 Obj 1.000000\nBCA Accuracy 1.000000 Running Time 0.018045 Obj 1.000000\nBCA-MP Accuracy 1.000000 Running Time 0.097822 Obj 1.000000\nBCA-IPFP Accuracy 1.000000 Running Time 0.078259 Obj 1.000000\nHGM Accuracy 0.735531 Running Time 0.003899 Obj 0.797988\nRRWHM Accuracy 1.000000 Running Time 0.046902 Obj 1.000000\nTM Accuracy 0.684982 Running Time 0.062826 Obj 0.824640\n××××××××××××××××××××\n Start baseline: 30\n"
     ]
    },
    {
     "name": "stderr",
     "output_type": "stream",
     "text": [
      "FactorBP/FactorGraph.py:399: DeprecationWarning: PyArray_FromDims: use PyArray_SimpleNew.\n  def GetDecode(self): return _FactorGraph.CFactorGraph_GetDecode(self)\nFactorBP/FactorGraph.py:399: DeprecationWarning: PyArray_FromDimsAndDataAndDescr: use PyArray_NewFromDescr.\n  def GetDecode(self): return _FactorGraph.CFactorGraph_GetDecode(self)\n"
     ]
    },
    {
     "name": "stderr",
     "output_type": "stream",
     "text": [
      "FactorBP/FactorGraph.py:399: DeprecationWarning: PyArray_FromDims: use PyArray_SimpleNew.\n  def GetDecode(self): return _FactorGraph.CFactorGraph_GetDecode(self)\nFactorBP/FactorGraph.py:399: DeprecationWarning: PyArray_FromDimsAndDataAndDescr: use PyArray_NewFromDescr.\n  def GetDecode(self): return _FactorGraph.CFactorGraph_GetDecode(self)\n"
     ]
    },
    {
     "name": "stderr",
     "output_type": "stream",
     "text": [
      "FactorBP/FactorGraph.py:399: DeprecationWarning: PyArray_FromDims: use PyArray_SimpleNew.\n  def GetDecode(self): return _FactorGraph.CFactorGraph_GetDecode(self)\nFactorBP/FactorGraph.py:399: DeprecationWarning: PyArray_FromDimsAndDataAndDescr: use PyArray_NewFromDescr.\n  def GetDecode(self): return _FactorGraph.CFactorGraph_GetDecode(self)\n"
     ]
    },
    {
     "name": "stderr",
     "output_type": "stream",
     "text": [
      "FactorBP/FactorGraph.py:399: DeprecationWarning: PyArray_FromDims: use PyArray_SimpleNew.\n  def GetDecode(self): return _FactorGraph.CFactorGraph_GetDecode(self)\nFactorBP/FactorGraph.py:399: DeprecationWarning: PyArray_FromDimsAndDataAndDescr: use PyArray_NewFromDescr.\n  def GetDecode(self): return _FactorGraph.CFactorGraph_GetDecode(self)\n"
     ]
    },
    {
     "name": "stderr",
     "output_type": "stream",
     "text": [
      "FactorBP/FactorGraph.py:399: DeprecationWarning: PyArray_FromDims: use PyArray_SimpleNew.\n  def GetDecode(self): return _FactorGraph.CFactorGraph_GetDecode(self)\nFactorBP/FactorGraph.py:399: DeprecationWarning: PyArray_FromDimsAndDataAndDescr: use PyArray_NewFromDescr.\n  def GetDecode(self): return _FactorGraph.CFactorGraph_GetDecode(self)\n"
     ]
    },
    {
     "name": "stderr",
     "output_type": "stream",
     "text": [
      "FactorBP/FactorGraph.py:399: DeprecationWarning: PyArray_FromDims: use PyArray_SimpleNew.\n  def GetDecode(self): return _FactorGraph.CFactorGraph_GetDecode(self)\nFactorBP/FactorGraph.py:399: DeprecationWarning: PyArray_FromDimsAndDataAndDescr: use PyArray_NewFromDescr.\n  def GetDecode(self): return _FactorGraph.CFactorGraph_GetDecode(self)\n"
     ]
    },
    {
     "name": "stderr",
     "output_type": "stream",
     "text": [
      "FactorBP/FactorGraph.py:399: DeprecationWarning: PyArray_FromDims: use PyArray_SimpleNew.\n  def GetDecode(self): return _FactorGraph.CFactorGraph_GetDecode(self)\nFactorBP/FactorGraph.py:399: DeprecationWarning: PyArray_FromDimsAndDataAndDescr: use PyArray_NewFromDescr.\n  def GetDecode(self): return _FactorGraph.CFactorGraph_GetDecode(self)\n"
     ]
    },
    {
     "name": "stderr",
     "output_type": "stream",
     "text": [
      "FactorBP/FactorGraph.py:399: DeprecationWarning: PyArray_FromDims: use PyArray_SimpleNew.\n  def GetDecode(self): return _FactorGraph.CFactorGraph_GetDecode(self)\nFactorBP/FactorGraph.py:399: DeprecationWarning: PyArray_FromDimsAndDataAndDescr: use PyArray_NewFromDescr.\n  def GetDecode(self): return _FactorGraph.CFactorGraph_GetDecode(self)\n"
     ]
    },
    {
     "name": "stderr",
     "output_type": "stream",
     "text": [
      "FactorBP/FactorGraph.py:399: DeprecationWarning: PyArray_FromDims: use PyArray_SimpleNew.\n  def GetDecode(self): return _FactorGraph.CFactorGraph_GetDecode(self)\nFactorBP/FactorGraph.py:399: DeprecationWarning: PyArray_FromDimsAndDataAndDescr: use PyArray_NewFromDescr.\n  def GetDecode(self): return _FactorGraph.CFactorGraph_GetDecode(self)\n"
     ]
    },
    {
     "name": "stderr",
     "output_type": "stream",
     "text": [
      "FactorBP/FactorGraph.py:399: DeprecationWarning: PyArray_FromDims: use PyArray_SimpleNew.\n  def GetDecode(self): return _FactorGraph.CFactorGraph_GetDecode(self)\nFactorBP/FactorGraph.py:399: DeprecationWarning: PyArray_FromDimsAndDataAndDescr: use PyArray_NewFromDescr.\n  def GetDecode(self): return _FactorGraph.CFactorGraph_GetDecode(self)\n"
     ]
    },
    {
     "name": "stderr",
     "output_type": "stream",
     "text": [
      "FactorBP/FactorGraph.py:399: DeprecationWarning: PyArray_FromDims: use PyArray_SimpleNew.\n  def GetDecode(self): return _FactorGraph.CFactorGraph_GetDecode(self)\nFactorBP/FactorGraph.py:399: DeprecationWarning: PyArray_FromDimsAndDataAndDescr: use PyArray_NewFromDescr.\n  def GetDecode(self): return _FactorGraph.CFactorGraph_GetDecode(self)\n"
     ]
    },
    {
     "name": "stderr",
     "output_type": "stream",
     "text": [
      "FactorBP/FactorGraph.py:399: DeprecationWarning: PyArray_FromDims: use PyArray_SimpleNew.\n  def GetDecode(self): return _FactorGraph.CFactorGraph_GetDecode(self)\nFactorBP/FactorGraph.py:399: DeprecationWarning: PyArray_FromDimsAndDataAndDescr: use PyArray_NewFromDescr.\n  def GetDecode(self): return _FactorGraph.CFactorGraph_GetDecode(self)\n"
     ]
    },
    {
     "name": "stderr",
     "output_type": "stream",
     "text": [
      "FactorBP/FactorGraph.py:399: DeprecationWarning: PyArray_FromDims: use PyArray_SimpleNew.\n  def GetDecode(self): return _FactorGraph.CFactorGraph_GetDecode(self)\nFactorBP/FactorGraph.py:399: DeprecationWarning: PyArray_FromDimsAndDataAndDescr: use PyArray_NewFromDescr.\n  def GetDecode(self): return _FactorGraph.CFactorGraph_GetDecode(self)\n"
     ]
    },
    {
     "name": "stderr",
     "output_type": "stream",
     "text": [
      "FactorBP/FactorGraph.py:399: DeprecationWarning: PyArray_FromDims: use PyArray_SimpleNew.\n  def GetDecode(self): return _FactorGraph.CFactorGraph_GetDecode(self)\nFactorBP/FactorGraph.py:399: DeprecationWarning: PyArray_FromDimsAndDataAndDescr: use PyArray_NewFromDescr.\n  def GetDecode(self): return _FactorGraph.CFactorGraph_GetDecode(self)\n"
     ]
    },
    {
     "name": "stderr",
     "output_type": "stream",
     "text": [
      "FactorBP/FactorGraph.py:399: DeprecationWarning: PyArray_FromDims: use PyArray_SimpleNew.\n  def GetDecode(self): return _FactorGraph.CFactorGraph_GetDecode(self)\nFactorBP/FactorGraph.py:399: DeprecationWarning: PyArray_FromDimsAndDataAndDescr: use PyArray_NewFromDescr.\n  def GetDecode(self): return _FactorGraph.CFactorGraph_GetDecode(self)\n"
     ]
    },
    {
     "name": "stderr",
     "output_type": "stream",
     "text": [
      "FactorBP/FactorGraph.py:399: DeprecationWarning: PyArray_FromDims: use PyArray_SimpleNew.\n  def GetDecode(self): return _FactorGraph.CFactorGraph_GetDecode(self)\nFactorBP/FactorGraph.py:399: DeprecationWarning: PyArray_FromDimsAndDataAndDescr: use PyArray_NewFromDescr.\n  def GetDecode(self): return _FactorGraph.CFactorGraph_GetDecode(self)\n"
     ]
    },
    {
     "name": "stderr",
     "output_type": "stream",
     "text": [
      "FactorBP/FactorGraph.py:399: DeprecationWarning: PyArray_FromDims: use PyArray_SimpleNew.\n  def GetDecode(self): return _FactorGraph.CFactorGraph_GetDecode(self)\nFactorBP/FactorGraph.py:399: DeprecationWarning: PyArray_FromDimsAndDataAndDescr: use PyArray_NewFromDescr.\n  def GetDecode(self): return _FactorGraph.CFactorGraph_GetDecode(self)\n"
     ]
    },
    {
     "name": "stderr",
     "output_type": "stream",
     "text": [
      "FactorBP/FactorGraph.py:399: DeprecationWarning: PyArray_FromDims: use PyArray_SimpleNew.\n  def GetDecode(self): return _FactorGraph.CFactorGraph_GetDecode(self)\nFactorBP/FactorGraph.py:399: DeprecationWarning: PyArray_FromDimsAndDataAndDescr: use PyArray_NewFromDescr.\n  def GetDecode(self): return _FactorGraph.CFactorGraph_GetDecode(self)\n"
     ]
    },
    {
     "name": "stderr",
     "output_type": "stream",
     "text": [
      "FactorBP/FactorGraph.py:399: DeprecationWarning: PyArray_FromDims: use PyArray_SimpleNew.\n  def GetDecode(self): return _FactorGraph.CFactorGraph_GetDecode(self)\nFactorBP/FactorGraph.py:399: DeprecationWarning: PyArray_FromDimsAndDataAndDescr: use PyArray_NewFromDescr.\n  def GetDecode(self): return _FactorGraph.CFactorGraph_GetDecode(self)\n"
     ]
    },
    {
     "name": "stderr",
     "output_type": "stream",
     "text": [
      "FactorBP/FactorGraph.py:399: DeprecationWarning: PyArray_FromDims: use PyArray_SimpleNew.\n  def GetDecode(self): return _FactorGraph.CFactorGraph_GetDecode(self)\nFactorBP/FactorGraph.py:399: DeprecationWarning: PyArray_FromDimsAndDataAndDescr: use PyArray_NewFromDescr.\n  def GetDecode(self): return _FactorGraph.CFactorGraph_GetDecode(self)\n"
     ]
    },
    {
     "name": "stderr",
     "output_type": "stream",
     "text": [
      "FactorBP/FactorGraph.py:399: DeprecationWarning: PyArray_FromDims: use PyArray_SimpleNew.\n  def GetDecode(self): return _FactorGraph.CFactorGraph_GetDecode(self)\nFactorBP/FactorGraph.py:399: DeprecationWarning: PyArray_FromDimsAndDataAndDescr: use PyArray_NewFromDescr.\n  def GetDecode(self): return _FactorGraph.CFactorGraph_GetDecode(self)\n"
     ]
    },
    {
     "name": "stderr",
     "output_type": "stream",
     "text": [
      "FactorBP/FactorGraph.py:399: DeprecationWarning: PyArray_FromDims: use PyArray_SimpleNew.\n  def GetDecode(self): return _FactorGraph.CFactorGraph_GetDecode(self)\nFactorBP/FactorGraph.py:399: DeprecationWarning: PyArray_FromDimsAndDataAndDescr: use PyArray_NewFromDescr.\n  def GetDecode(self): return _FactorGraph.CFactorGraph_GetDecode(self)\n"
     ]
    },
    {
     "name": "stderr",
     "output_type": "stream",
     "text": [
      "FactorBP/FactorGraph.py:399: DeprecationWarning: PyArray_FromDims: use PyArray_SimpleNew.\n  def GetDecode(self): return _FactorGraph.CFactorGraph_GetDecode(self)\nFactorBP/FactorGraph.py:399: DeprecationWarning: PyArray_FromDimsAndDataAndDescr: use PyArray_NewFromDescr.\n  def GetDecode(self): return _FactorGraph.CFactorGraph_GetDecode(self)\n"
     ]
    },
    {
     "name": "stderr",
     "output_type": "stream",
     "text": [
      "FactorBP/FactorGraph.py:399: DeprecationWarning: PyArray_FromDims: use PyArray_SimpleNew.\n  def GetDecode(self): return _FactorGraph.CFactorGraph_GetDecode(self)\nFactorBP/FactorGraph.py:399: DeprecationWarning: PyArray_FromDimsAndDataAndDescr: use PyArray_NewFromDescr.\n  def GetDecode(self): return _FactorGraph.CFactorGraph_GetDecode(self)\n"
     ]
    },
    {
     "name": "stderr",
     "output_type": "stream",
     "text": [
      "FactorBP/FactorGraph.py:399: DeprecationWarning: PyArray_FromDims: use PyArray_SimpleNew.\n  def GetDecode(self): return _FactorGraph.CFactorGraph_GetDecode(self)\nFactorBP/FactorGraph.py:399: DeprecationWarning: PyArray_FromDimsAndDataAndDescr: use PyArray_NewFromDescr.\n  def GetDecode(self): return _FactorGraph.CFactorGraph_GetDecode(self)\n"
     ]
    },
    {
     "name": "stderr",
     "output_type": "stream",
     "text": [
      "FactorBP/FactorGraph.py:399: DeprecationWarning: PyArray_FromDims: use PyArray_SimpleNew.\n  def GetDecode(self): return _FactorGraph.CFactorGraph_GetDecode(self)\nFactorBP/FactorGraph.py:399: DeprecationWarning: PyArray_FromDimsAndDataAndDescr: use PyArray_NewFromDescr.\n  def GetDecode(self): return _FactorGraph.CFactorGraph_GetDecode(self)\n"
     ]
    },
    {
     "name": "stderr",
     "output_type": "stream",
     "text": [
      "FactorBP/FactorGraph.py:399: DeprecationWarning: PyArray_FromDims: use PyArray_SimpleNew.\n  def GetDecode(self): return _FactorGraph.CFactorGraph_GetDecode(self)\nFactorBP/FactorGraph.py:399: DeprecationWarning: PyArray_FromDimsAndDataAndDescr: use PyArray_NewFromDescr.\n  def GetDecode(self): return _FactorGraph.CFactorGraph_GetDecode(self)\n"
     ]
    },
    {
     "name": "stderr",
     "output_type": "stream",
     "text": [
      "FactorBP/FactorGraph.py:399: DeprecationWarning: PyArray_FromDims: use PyArray_SimpleNew.\n  def GetDecode(self): return _FactorGraph.CFactorGraph_GetDecode(self)\nFactorBP/FactorGraph.py:399: DeprecationWarning: PyArray_FromDimsAndDataAndDescr: use PyArray_NewFromDescr.\n  def GetDecode(self): return _FactorGraph.CFactorGraph_GetDecode(self)\n"
     ]
    },
    {
     "name": "stderr",
     "output_type": "stream",
     "text": [
      "FactorBP/FactorGraph.py:399: DeprecationWarning: PyArray_FromDims: use PyArray_SimpleNew.\n  def GetDecode(self): return _FactorGraph.CFactorGraph_GetDecode(self)\nFactorBP/FactorGraph.py:399: DeprecationWarning: PyArray_FromDimsAndDataAndDescr: use PyArray_NewFromDescr.\n  def GetDecode(self): return _FactorGraph.CFactorGraph_GetDecode(self)\nFactorBP/FactorGraph.py:399: DeprecationWarning: PyArray_FromDims: use PyArray_SimpleNew.\n  def GetDecode(self): return _FactorGraph.CFactorGraph_GetDecode(self)\nFactorBP/FactorGraph.py:399: DeprecationWarning: PyArray_FromDimsAndDataAndDescr: use PyArray_NewFromDescr.\n  def GetDecode(self): return _FactorGraph.CFactorGraph_GetDecode(self)\n"
     ]
    },
    {
     "name": "stderr",
     "output_type": "stream",
     "text": [
      "FactorBP/FactorGraph.py:399: DeprecationWarning: PyArray_FromDims: use PyArray_SimpleNew.\n  def GetDecode(self): return _FactorGraph.CFactorGraph_GetDecode(self)\nFactorBP/FactorGraph.py:399: DeprecationWarning: PyArray_FromDimsAndDataAndDescr: use PyArray_NewFromDescr.\n  def GetDecode(self): return _FactorGraph.CFactorGraph_GetDecode(self)\n"
     ]
    },
    {
     "name": "stderr",
     "output_type": "stream",
     "text": [
      "FactorBP/FactorGraph.py:399: DeprecationWarning: PyArray_FromDims: use PyArray_SimpleNew.\n  def GetDecode(self): return _FactorGraph.CFactorGraph_GetDecode(self)\nFactorBP/FactorGraph.py:399: DeprecationWarning: PyArray_FromDimsAndDataAndDescr: use PyArray_NewFromDescr.\n  def GetDecode(self): return _FactorGraph.CFactorGraph_GetDecode(self)\n"
     ]
    },
    {
     "name": "stderr",
     "output_type": "stream",
     "text": [
      "FactorBP/FactorGraph.py:399: DeprecationWarning: PyArray_FromDims: use PyArray_SimpleNew.\n  def GetDecode(self): return _FactorGraph.CFactorGraph_GetDecode(self)\nFactorBP/FactorGraph.py:399: DeprecationWarning: PyArray_FromDimsAndDataAndDescr: use PyArray_NewFromDescr.\n  def GetDecode(self): return _FactorGraph.CFactorGraph_GetDecode(self)\n"
     ]
    },
    {
     "name": "stderr",
     "output_type": "stream",
     "text": [
      "FactorBP/FactorGraph.py:399: DeprecationWarning: PyArray_FromDims: use PyArray_SimpleNew.\n  def GetDecode(self): return _FactorGraph.CFactorGraph_GetDecode(self)\nFactorBP/FactorGraph.py:399: DeprecationWarning: PyArray_FromDimsAndDataAndDescr: use PyArray_NewFromDescr.\n  def GetDecode(self): return _FactorGraph.CFactorGraph_GetDecode(self)\n"
     ]
    },
    {
     "name": "stderr",
     "output_type": "stream",
     "text": [
      "FactorBP/FactorGraph.py:399: DeprecationWarning: PyArray_FromDims: use PyArray_SimpleNew.\n  def GetDecode(self): return _FactorGraph.CFactorGraph_GetDecode(self)\nFactorBP/FactorGraph.py:399: DeprecationWarning: PyArray_FromDimsAndDataAndDescr: use PyArray_NewFromDescr.\n  def GetDecode(self): return _FactorGraph.CFactorGraph_GetDecode(self)\n"
     ]
    },
    {
     "name": "stderr",
     "output_type": "stream",
     "text": [
      "FactorBP/FactorGraph.py:399: DeprecationWarning: PyArray_FromDims: use PyArray_SimpleNew.\n  def GetDecode(self): return _FactorGraph.CFactorGraph_GetDecode(self)\nFactorBP/FactorGraph.py:399: DeprecationWarning: PyArray_FromDimsAndDataAndDescr: use PyArray_NewFromDescr.\n  def GetDecode(self): return _FactorGraph.CFactorGraph_GetDecode(self)\n"
     ]
    },
    {
     "name": "stderr",
     "output_type": "stream",
     "text": [
      "FactorBP/FactorGraph.py:399: DeprecationWarning: PyArray_FromDims: use PyArray_SimpleNew.\n  def GetDecode(self): return _FactorGraph.CFactorGraph_GetDecode(self)\nFactorBP/FactorGraph.py:399: DeprecationWarning: PyArray_FromDimsAndDataAndDescr: use PyArray_NewFromDescr.\n  def GetDecode(self): return _FactorGraph.CFactorGraph_GetDecode(self)\n"
     ]
    },
    {
     "name": "stderr",
     "output_type": "stream",
     "text": [
      "FactorBP/FactorGraph.py:399: DeprecationWarning: PyArray_FromDims: use PyArray_SimpleNew.\n  def GetDecode(self): return _FactorGraph.CFactorGraph_GetDecode(self)\nFactorBP/FactorGraph.py:399: DeprecationWarning: PyArray_FromDimsAndDataAndDescr: use PyArray_NewFromDescr.\n  def GetDecode(self): return _FactorGraph.CFactorGraph_GetDecode(self)\n"
     ]
    },
    {
     "name": "stderr",
     "output_type": "stream",
     "text": [
      "FactorBP/FactorGraph.py:399: DeprecationWarning: PyArray_FromDims: use PyArray_SimpleNew.\n  def GetDecode(self): return _FactorGraph.CFactorGraph_GetDecode(self)\nFactorBP/FactorGraph.py:399: DeprecationWarning: PyArray_FromDimsAndDataAndDescr: use PyArray_NewFromDescr.\n  def GetDecode(self): return _FactorGraph.CFactorGraph_GetDecode(self)\n"
     ]
    },
    {
     "name": "stderr",
     "output_type": "stream",
     "text": [
      "FactorBP/FactorGraph.py:399: DeprecationWarning: PyArray_FromDims: use PyArray_SimpleNew.\n  def GetDecode(self): return _FactorGraph.CFactorGraph_GetDecode(self)\nFactorBP/FactorGraph.py:399: DeprecationWarning: PyArray_FromDimsAndDataAndDescr: use PyArray_NewFromDescr.\n  def GetDecode(self): return _FactorGraph.CFactorGraph_GetDecode(self)\n"
     ]
    },
    {
     "name": "stderr",
     "output_type": "stream",
     "text": [
      "FactorBP/FactorGraph.py:399: DeprecationWarning: PyArray_FromDims: use PyArray_SimpleNew.\n  def GetDecode(self): return _FactorGraph.CFactorGraph_GetDecode(self)\nFactorBP/FactorGraph.py:399: DeprecationWarning: PyArray_FromDimsAndDataAndDescr: use PyArray_NewFromDescr.\n  def GetDecode(self): return _FactorGraph.CFactorGraph_GetDecode(self)\n"
     ]
    },
    {
     "name": "stderr",
     "output_type": "stream",
     "text": [
      "FactorBP/FactorGraph.py:399: DeprecationWarning: PyArray_FromDims: use PyArray_SimpleNew.\n  def GetDecode(self): return _FactorGraph.CFactorGraph_GetDecode(self)\nFactorBP/FactorGraph.py:399: DeprecationWarning: PyArray_FromDimsAndDataAndDescr: use PyArray_NewFromDescr.\n  def GetDecode(self): return _FactorGraph.CFactorGraph_GetDecode(self)\n"
     ]
    },
    {
     "name": "stderr",
     "output_type": "stream",
     "text": [
      "FactorBP/FactorGraph.py:399: DeprecationWarning: PyArray_FromDims: use PyArray_SimpleNew.\n  def GetDecode(self): return _FactorGraph.CFactorGraph_GetDecode(self)\nFactorBP/FactorGraph.py:399: DeprecationWarning: PyArray_FromDimsAndDataAndDescr: use PyArray_NewFromDescr.\n  def GetDecode(self): return _FactorGraph.CFactorGraph_GetDecode(self)\n"
     ]
    },
    {
     "name": "stderr",
     "output_type": "stream",
     "text": [
      "FactorBP/FactorGraph.py:399: DeprecationWarning: PyArray_FromDims: use PyArray_SimpleNew.\n  def GetDecode(self): return _FactorGraph.CFactorGraph_GetDecode(self)\nFactorBP/FactorGraph.py:399: DeprecationWarning: PyArray_FromDimsAndDataAndDescr: use PyArray_NewFromDescr.\n  def GetDecode(self): return _FactorGraph.CFactorGraph_GetDecode(self)\n"
     ]
    },
    {
     "name": "stderr",
     "output_type": "stream",
     "text": [
      "FactorBP/FactorGraph.py:399: DeprecationWarning: PyArray_FromDims: use PyArray_SimpleNew.\n  def GetDecode(self): return _FactorGraph.CFactorGraph_GetDecode(self)\nFactorBP/FactorGraph.py:399: DeprecationWarning: PyArray_FromDimsAndDataAndDescr: use PyArray_NewFromDescr.\n  def GetDecode(self): return _FactorGraph.CFactorGraph_GetDecode(self)\n"
     ]
    },
    {
     "name": "stderr",
     "output_type": "stream",
     "text": [
      "FactorBP/FactorGraph.py:399: DeprecationWarning: PyArray_FromDims: use PyArray_SimpleNew.\n  def GetDecode(self): return _FactorGraph.CFactorGraph_GetDecode(self)\nFactorBP/FactorGraph.py:399: DeprecationWarning: PyArray_FromDimsAndDataAndDescr: use PyArray_NewFromDescr.\n  def GetDecode(self): return _FactorGraph.CFactorGraph_GetDecode(self)\n"
     ]
    },
    {
     "name": "stderr",
     "output_type": "stream",
     "text": [
      "FactorBP/FactorGraph.py:399: DeprecationWarning: PyArray_FromDims: use PyArray_SimpleNew.\n  def GetDecode(self): return _FactorGraph.CFactorGraph_GetDecode(self)\nFactorBP/FactorGraph.py:399: DeprecationWarning: PyArray_FromDimsAndDataAndDescr: use PyArray_NewFromDescr.\n  def GetDecode(self): return _FactorGraph.CFactorGraph_GetDecode(self)\n"
     ]
    },
    {
     "name": "stderr",
     "output_type": "stream",
     "text": [
      "FactorBP/FactorGraph.py:399: DeprecationWarning: PyArray_FromDims: use PyArray_SimpleNew.\n  def GetDecode(self): return _FactorGraph.CFactorGraph_GetDecode(self)\nFactorBP/FactorGraph.py:399: DeprecationWarning: PyArray_FromDimsAndDataAndDescr: use PyArray_NewFromDescr.\n  def GetDecode(self): return _FactorGraph.CFactorGraph_GetDecode(self)\n"
     ]
    },
    {
     "name": "stderr",
     "output_type": "stream",
     "text": [
      "FactorBP/FactorGraph.py:399: DeprecationWarning: PyArray_FromDims: use PyArray_SimpleNew.\n  def GetDecode(self): return _FactorGraph.CFactorGraph_GetDecode(self)\nFactorBP/FactorGraph.py:399: DeprecationWarning: PyArray_FromDimsAndDataAndDescr: use PyArray_NewFromDescr.\n  def GetDecode(self): return _FactorGraph.CFactorGraph_GetDecode(self)\n"
     ]
    },
    {
     "name": "stderr",
     "output_type": "stream",
     "text": [
      "FactorBP/FactorGraph.py:399: DeprecationWarning: PyArray_FromDims: use PyArray_SimpleNew.\n  def GetDecode(self): return _FactorGraph.CFactorGraph_GetDecode(self)\nFactorBP/FactorGraph.py:399: DeprecationWarning: PyArray_FromDimsAndDataAndDescr: use PyArray_NewFromDescr.\n  def GetDecode(self): return _FactorGraph.CFactorGraph_GetDecode(self)\n"
     ]
    },
    {
     "name": "stderr",
     "output_type": "stream",
     "text": [
      "FactorBP/FactorGraph.py:399: DeprecationWarning: PyArray_FromDims: use PyArray_SimpleNew.\n  def GetDecode(self): return _FactorGraph.CFactorGraph_GetDecode(self)\nFactorBP/FactorGraph.py:399: DeprecationWarning: PyArray_FromDimsAndDataAndDescr: use PyArray_NewFromDescr.\n  def GetDecode(self): return _FactorGraph.CFactorGraph_GetDecode(self)\n"
     ]
    },
    {
     "name": "stderr",
     "output_type": "stream",
     "text": [
      "FactorBP/FactorGraph.py:399: DeprecationWarning: PyArray_FromDims: use PyArray_SimpleNew.\n  def GetDecode(self): return _FactorGraph.CFactorGraph_GetDecode(self)\nFactorBP/FactorGraph.py:399: DeprecationWarning: PyArray_FromDimsAndDataAndDescr: use PyArray_NewFromDescr.\n  def GetDecode(self): return _FactorGraph.CFactorGraph_GetDecode(self)\n"
     ]
    },
    {
     "name": "stderr",
     "output_type": "stream",
     "text": [
      "FactorBP/FactorGraph.py:399: DeprecationWarning: PyArray_FromDims: use PyArray_SimpleNew.\n  def GetDecode(self): return _FactorGraph.CFactorGraph_GetDecode(self)\nFactorBP/FactorGraph.py:399: DeprecationWarning: PyArray_FromDimsAndDataAndDescr: use PyArray_NewFromDescr.\n  def GetDecode(self): return _FactorGraph.CFactorGraph_GetDecode(self)\n"
     ]
    },
    {
     "name": "stderr",
     "output_type": "stream",
     "text": [
      "FactorBP/FactorGraph.py:399: DeprecationWarning: PyArray_FromDims: use PyArray_SimpleNew.\n  def GetDecode(self): return _FactorGraph.CFactorGraph_GetDecode(self)\nFactorBP/FactorGraph.py:399: DeprecationWarning: PyArray_FromDimsAndDataAndDescr: use PyArray_NewFromDescr.\n  def GetDecode(self): return _FactorGraph.CFactorGraph_GetDecode(self)\n"
     ]
    },
    {
     "name": "stderr",
     "output_type": "stream",
     "text": [
      "FactorBP/FactorGraph.py:399: DeprecationWarning: PyArray_FromDims: use PyArray_SimpleNew.\n  def GetDecode(self): return _FactorGraph.CFactorGraph_GetDecode(self)\nFactorBP/FactorGraph.py:399: DeprecationWarning: PyArray_FromDimsAndDataAndDescr: use PyArray_NewFromDescr.\n  def GetDecode(self): return _FactorGraph.CFactorGraph_GetDecode(self)\n"
     ]
    },
    {
     "name": "stderr",
     "output_type": "stream",
     "text": [
      "FactorBP/FactorGraph.py:399: DeprecationWarning: PyArray_FromDims: use PyArray_SimpleNew.\n  def GetDecode(self): return _FactorGraph.CFactorGraph_GetDecode(self)\nFactorBP/FactorGraph.py:399: DeprecationWarning: PyArray_FromDimsAndDataAndDescr: use PyArray_NewFromDescr.\n  def GetDecode(self): return _FactorGraph.CFactorGraph_GetDecode(self)\n"
     ]
    },
    {
     "name": "stderr",
     "output_type": "stream",
     "text": [
      "FactorBP/FactorGraph.py:399: DeprecationWarning: PyArray_FromDims: use PyArray_SimpleNew.\n  def GetDecode(self): return _FactorGraph.CFactorGraph_GetDecode(self)\nFactorBP/FactorGraph.py:399: DeprecationWarning: PyArray_FromDimsAndDataAndDescr: use PyArray_NewFromDescr.\n  def GetDecode(self): return _FactorGraph.CFactorGraph_GetDecode(self)\n"
     ]
    },
    {
     "name": "stderr",
     "output_type": "stream",
     "text": [
      "FactorBP/FactorGraph.py:399: DeprecationWarning: PyArray_FromDims: use PyArray_SimpleNew.\n  def GetDecode(self): return _FactorGraph.CFactorGraph_GetDecode(self)\nFactorBP/FactorGraph.py:399: DeprecationWarning: PyArray_FromDimsAndDataAndDescr: use PyArray_NewFromDescr.\n  def GetDecode(self): return _FactorGraph.CFactorGraph_GetDecode(self)\n"
     ]
    },
    {
     "name": "stderr",
     "output_type": "stream",
     "text": [
      "FactorBP/FactorGraph.py:399: DeprecationWarning: PyArray_FromDims: use PyArray_SimpleNew.\n  def GetDecode(self): return _FactorGraph.CFactorGraph_GetDecode(self)\nFactorBP/FactorGraph.py:399: DeprecationWarning: PyArray_FromDimsAndDataAndDescr: use PyArray_NewFromDescr.\n  def GetDecode(self): return _FactorGraph.CFactorGraph_GetDecode(self)\n"
     ]
    },
    {
     "name": "stderr",
     "output_type": "stream",
     "text": [
      "FactorBP/FactorGraph.py:399: DeprecationWarning: PyArray_FromDims: use PyArray_SimpleNew.\n  def GetDecode(self): return _FactorGraph.CFactorGraph_GetDecode(self)\nFactorBP/FactorGraph.py:399: DeprecationWarning: PyArray_FromDimsAndDataAndDescr: use PyArray_NewFromDescr.\n  def GetDecode(self): return _FactorGraph.CFactorGraph_GetDecode(self)\n"
     ]
    },
    {
     "name": "stderr",
     "output_type": "stream",
     "text": [
      "FactorBP/FactorGraph.py:399: DeprecationWarning: PyArray_FromDims: use PyArray_SimpleNew.\n  def GetDecode(self): return _FactorGraph.CFactorGraph_GetDecode(self)\nFactorBP/FactorGraph.py:399: DeprecationWarning: PyArray_FromDimsAndDataAndDescr: use PyArray_NewFromDescr.\n  def GetDecode(self): return _FactorGraph.CFactorGraph_GetDecode(self)\n"
     ]
    },
    {
     "name": "stderr",
     "output_type": "stream",
     "text": [
      "FactorBP/FactorGraph.py:399: DeprecationWarning: PyArray_FromDims: use PyArray_SimpleNew.\n  def GetDecode(self): return _FactorGraph.CFactorGraph_GetDecode(self)\nFactorBP/FactorGraph.py:399: DeprecationWarning: PyArray_FromDimsAndDataAndDescr: use PyArray_NewFromDescr.\n  def GetDecode(self): return _FactorGraph.CFactorGraph_GetDecode(self)\n"
     ]
    },
    {
     "name": "stderr",
     "output_type": "stream",
     "text": [
      "FactorBP/FactorGraph.py:399: DeprecationWarning: PyArray_FromDims: use PyArray_SimpleNew.\n  def GetDecode(self): return _FactorGraph.CFactorGraph_GetDecode(self)\nFactorBP/FactorGraph.py:399: DeprecationWarning: PyArray_FromDimsAndDataAndDescr: use PyArray_NewFromDescr.\n  def GetDecode(self): return _FactorGraph.CFactorGraph_GetDecode(self)\n"
     ]
    },
    {
     "name": "stderr",
     "output_type": "stream",
     "text": [
      "FactorBP/FactorGraph.py:399: DeprecationWarning: PyArray_FromDims: use PyArray_SimpleNew.\n  def GetDecode(self): return _FactorGraph.CFactorGraph_GetDecode(self)\nFactorBP/FactorGraph.py:399: DeprecationWarning: PyArray_FromDimsAndDataAndDescr: use PyArray_NewFromDescr.\n  def GetDecode(self): return _FactorGraph.CFactorGraph_GetDecode(self)\n"
     ]
    },
    {
     "name": "stderr",
     "output_type": "stream",
     "text": [
      "FactorBP/FactorGraph.py:399: DeprecationWarning: PyArray_FromDims: use PyArray_SimpleNew.\n  def GetDecode(self): return _FactorGraph.CFactorGraph_GetDecode(self)\nFactorBP/FactorGraph.py:399: DeprecationWarning: PyArray_FromDimsAndDataAndDescr: use PyArray_NewFromDescr.\n  def GetDecode(self): return _FactorGraph.CFactorGraph_GetDecode(self)\n"
     ]
    },
    {
     "name": "stderr",
     "output_type": "stream",
     "text": [
      "FactorBP/FactorGraph.py:399: DeprecationWarning: PyArray_FromDims: use PyArray_SimpleNew.\n  def GetDecode(self): return _FactorGraph.CFactorGraph_GetDecode(self)\nFactorBP/FactorGraph.py:399: DeprecationWarning: PyArray_FromDimsAndDataAndDescr: use PyArray_NewFromDescr.\n  def GetDecode(self): return _FactorGraph.CFactorGraph_GetDecode(self)\n"
     ]
    },
    {
     "name": "stderr",
     "output_type": "stream",
     "text": [
      "FactorBP/FactorGraph.py:399: DeprecationWarning: PyArray_FromDims: use PyArray_SimpleNew.\n  def GetDecode(self): return _FactorGraph.CFactorGraph_GetDecode(self)\nFactorBP/FactorGraph.py:399: DeprecationWarning: PyArray_FromDimsAndDataAndDescr: use PyArray_NewFromDescr.\n  def GetDecode(self): return _FactorGraph.CFactorGraph_GetDecode(self)\n"
     ]
    },
    {
     "name": "stderr",
     "output_type": "stream",
     "text": [
      "FactorBP/FactorGraph.py:399: DeprecationWarning: PyArray_FromDims: use PyArray_SimpleNew.\n  def GetDecode(self): return _FactorGraph.CFactorGraph_GetDecode(self)\nFactorBP/FactorGraph.py:399: DeprecationWarning: PyArray_FromDimsAndDataAndDescr: use PyArray_NewFromDescr.\n  def GetDecode(self): return _FactorGraph.CFactorGraph_GetDecode(self)\n"
     ]
    },
    {
     "name": "stderr",
     "output_type": "stream",
     "text": [
      "FactorBP/FactorGraph.py:399: DeprecationWarning: PyArray_FromDims: use PyArray_SimpleNew.\n  def GetDecode(self): return _FactorGraph.CFactorGraph_GetDecode(self)\nFactorBP/FactorGraph.py:399: DeprecationWarning: PyArray_FromDimsAndDataAndDescr: use PyArray_NewFromDescr.\n  def GetDecode(self): return _FactorGraph.CFactorGraph_GetDecode(self)\n"
     ]
    },
    {
     "name": "stderr",
     "output_type": "stream",
     "text": [
      "FactorBP/FactorGraph.py:399: DeprecationWarning: PyArray_FromDims: use PyArray_SimpleNew.\n  def GetDecode(self): return _FactorGraph.CFactorGraph_GetDecode(self)\nFactorBP/FactorGraph.py:399: DeprecationWarning: PyArray_FromDimsAndDataAndDescr: use PyArray_NewFromDescr.\n  def GetDecode(self): return _FactorGraph.CFactorGraph_GetDecode(self)\n"
     ]
    },
    {
     "name": "stderr",
     "output_type": "stream",
     "text": [
      "FactorBP/FactorGraph.py:399: DeprecationWarning: PyArray_FromDims: use PyArray_SimpleNew.\n  def GetDecode(self): return _FactorGraph.CFactorGraph_GetDecode(self)\nFactorBP/FactorGraph.py:399: DeprecationWarning: PyArray_FromDimsAndDataAndDescr: use PyArray_NewFromDescr.\n  def GetDecode(self): return _FactorGraph.CFactorGraph_GetDecode(self)\n"
     ]
    },
    {
     "name": "stderr",
     "output_type": "stream",
     "text": [
      "FactorBP/FactorGraph.py:399: DeprecationWarning: PyArray_FromDims: use PyArray_SimpleNew.\n  def GetDecode(self): return _FactorGraph.CFactorGraph_GetDecode(self)\nFactorBP/FactorGraph.py:399: DeprecationWarning: PyArray_FromDimsAndDataAndDescr: use PyArray_NewFromDescr.\n  def GetDecode(self): return _FactorGraph.CFactorGraph_GetDecode(self)\n"
     ]
    },
    {
     "name": "stderr",
     "output_type": "stream",
     "text": [
      "FactorBP/FactorGraph.py:399: DeprecationWarning: PyArray_FromDims: use PyArray_SimpleNew.\n  def GetDecode(self): return _FactorGraph.CFactorGraph_GetDecode(self)\nFactorBP/FactorGraph.py:399: DeprecationWarning: PyArray_FromDimsAndDataAndDescr: use PyArray_NewFromDescr.\n  def GetDecode(self): return _FactorGraph.CFactorGraph_GetDecode(self)\n"
     ]
    },
    {
     "name": "stderr",
     "output_type": "stream",
     "text": [
      "FactorBP/FactorGraph.py:399: DeprecationWarning: PyArray_FromDims: use PyArray_SimpleNew.\n  def GetDecode(self): return _FactorGraph.CFactorGraph_GetDecode(self)\nFactorBP/FactorGraph.py:399: DeprecationWarning: PyArray_FromDimsAndDataAndDescr: use PyArray_NewFromDescr.\n  def GetDecode(self): return _FactorGraph.CFactorGraph_GetDecode(self)\n"
     ]
    },
    {
     "name": "stderr",
     "output_type": "stream",
     "text": [
      "FactorBP/FactorGraph.py:399: DeprecationWarning: PyArray_FromDims: use PyArray_SimpleNew.\n  def GetDecode(self): return _FactorGraph.CFactorGraph_GetDecode(self)\nFactorBP/FactorGraph.py:399: DeprecationWarning: PyArray_FromDimsAndDataAndDescr: use PyArray_NewFromDescr.\n  def GetDecode(self): return _FactorGraph.CFactorGraph_GetDecode(self)\n"
     ]
    },
    {
     "name": "stderr",
     "output_type": "stream",
     "text": [
      "FactorBP/FactorGraph.py:399: DeprecationWarning: PyArray_FromDims: use PyArray_SimpleNew.\n  def GetDecode(self): return _FactorGraph.CFactorGraph_GetDecode(self)\nFactorBP/FactorGraph.py:399: DeprecationWarning: PyArray_FromDimsAndDataAndDescr: use PyArray_NewFromDescr.\n  def GetDecode(self): return _FactorGraph.CFactorGraph_GetDecode(self)\n"
     ]
    },
    {
     "name": "stderr",
     "output_type": "stream",
     "text": [
      "FactorBP/FactorGraph.py:399: DeprecationWarning: PyArray_FromDims: use PyArray_SimpleNew.\n  def GetDecode(self): return _FactorGraph.CFactorGraph_GetDecode(self)\nFactorBP/FactorGraph.py:399: DeprecationWarning: PyArray_FromDimsAndDataAndDescr: use PyArray_NewFromDescr.\n  def GetDecode(self): return _FactorGraph.CFactorGraph_GetDecode(self)\n"
     ]
    },
    {
     "name": "stderr",
     "output_type": "stream",
     "text": [
      "FactorBP/FactorGraph.py:399: DeprecationWarning: PyArray_FromDims: use PyArray_SimpleNew.\n  def GetDecode(self): return _FactorGraph.CFactorGraph_GetDecode(self)\nFactorBP/FactorGraph.py:399: DeprecationWarning: PyArray_FromDimsAndDataAndDescr: use PyArray_NewFromDescr.\n  def GetDecode(self): return _FactorGraph.CFactorGraph_GetDecode(self)\n"
     ]
    },
    {
     "name": "stderr",
     "output_type": "stream",
     "text": [
      "FactorBP/FactorGraph.py:399: DeprecationWarning: PyArray_FromDims: use PyArray_SimpleNew.\n  def GetDecode(self): return _FactorGraph.CFactorGraph_GetDecode(self)\nFactorBP/FactorGraph.py:399: DeprecationWarning: PyArray_FromDimsAndDataAndDescr: use PyArray_NewFromDescr.\n  def GetDecode(self): return _FactorGraph.CFactorGraph_GetDecode(self)\n"
     ]
    },
    {
     "name": "stderr",
     "output_type": "stream",
     "text": [
      "FactorBP/FactorGraph.py:399: DeprecationWarning: PyArray_FromDims: use PyArray_SimpleNew.\n  def GetDecode(self): return _FactorGraph.CFactorGraph_GetDecode(self)\nFactorBP/FactorGraph.py:399: DeprecationWarning: PyArray_FromDimsAndDataAndDescr: use PyArray_NewFromDescr.\n  def GetDecode(self): return _FactorGraph.CFactorGraph_GetDecode(self)\n"
     ]
    },
    {
     "name": "stderr",
     "output_type": "stream",
     "text": [
      "FactorBP/FactorGraph.py:399: DeprecationWarning: PyArray_FromDims: use PyArray_SimpleNew.\n  def GetDecode(self): return _FactorGraph.CFactorGraph_GetDecode(self)\nFactorBP/FactorGraph.py:399: DeprecationWarning: PyArray_FromDimsAndDataAndDescr: use PyArray_NewFromDescr.\n  def GetDecode(self): return _FactorGraph.CFactorGraph_GetDecode(self)\n"
     ]
    },
    {
     "name": "stderr",
     "output_type": "stream",
     "text": [
      "FactorBP/FactorGraph.py:399: DeprecationWarning: PyArray_FromDims: use PyArray_SimpleNew.\n  def GetDecode(self): return _FactorGraph.CFactorGraph_GetDecode(self)\nFactorBP/FactorGraph.py:399: DeprecationWarning: PyArray_FromDimsAndDataAndDescr: use PyArray_NewFromDescr.\n  def GetDecode(self): return _FactorGraph.CFactorGraph_GetDecode(self)\n"
     ]
    },
    {
     "name": "stdout",
     "output_type": "stream",
     "text": [
      "Ours Accuracy 1.000000 Running Time 0.044493 Obj 1.000000\nOurs-BCA Accuracy 1.000000 Running Time 0.072957 Obj 1.000000\nBCA Accuracy 0.999177 Running Time 0.018342 Obj 0.999549\nBCA-MP Accuracy 1.000000 Running Time 0.097591 Obj 1.000000\nBCA-IPFP Accuracy 1.000000 Running Time 0.078460 Obj 1.000000\nHGM Accuracy 0.671605 Running Time 0.003748 Obj 0.774584\nRRWHM Accuracy 1.000000 Running Time 0.052786 Obj 1.000000\nTM Accuracy 0.626337 Running Time 0.062151 Obj 0.806426\n××××××××××××××××××××\n Start baseline: 40\n"
     ]
    },
    {
     "name": "stderr",
     "output_type": "stream",
     "text": [
      "FactorBP/FactorGraph.py:399: DeprecationWarning: PyArray_FromDims: use PyArray_SimpleNew.\n  def GetDecode(self): return _FactorGraph.CFactorGraph_GetDecode(self)\nFactorBP/FactorGraph.py:399: DeprecationWarning: PyArray_FromDimsAndDataAndDescr: use PyArray_NewFromDescr.\n  def GetDecode(self): return _FactorGraph.CFactorGraph_GetDecode(self)\n"
     ]
    },
    {
     "name": "stderr",
     "output_type": "stream",
     "text": [
      "FactorBP/FactorGraph.py:399: DeprecationWarning: PyArray_FromDims: use PyArray_SimpleNew.\n  def GetDecode(self): return _FactorGraph.CFactorGraph_GetDecode(self)\nFactorBP/FactorGraph.py:399: DeprecationWarning: PyArray_FromDimsAndDataAndDescr: use PyArray_NewFromDescr.\n  def GetDecode(self): return _FactorGraph.CFactorGraph_GetDecode(self)\n"
     ]
    },
    {
     "name": "stderr",
     "output_type": "stream",
     "text": [
      "FactorBP/FactorGraph.py:399: DeprecationWarning: PyArray_FromDims: use PyArray_SimpleNew.\n  def GetDecode(self): return _FactorGraph.CFactorGraph_GetDecode(self)\nFactorBP/FactorGraph.py:399: DeprecationWarning: PyArray_FromDimsAndDataAndDescr: use PyArray_NewFromDescr.\n  def GetDecode(self): return _FactorGraph.CFactorGraph_GetDecode(self)\n"
     ]
    },
    {
     "name": "stderr",
     "output_type": "stream",
     "text": [
      "FactorBP/FactorGraph.py:399: DeprecationWarning: PyArray_FromDims: use PyArray_SimpleNew.\n  def GetDecode(self): return _FactorGraph.CFactorGraph_GetDecode(self)\nFactorBP/FactorGraph.py:399: DeprecationWarning: PyArray_FromDimsAndDataAndDescr: use PyArray_NewFromDescr.\n  def GetDecode(self): return _FactorGraph.CFactorGraph_GetDecode(self)\nFactorBP/FactorGraph.py:399: DeprecationWarning: PyArray_FromDims: use PyArray_SimpleNew.\n  def GetDecode(self): return _FactorGraph.CFactorGraph_GetDecode(self)\nFactorBP/FactorGraph.py:399: DeprecationWarning: PyArray_FromDimsAndDataAndDescr: use PyArray_NewFromDescr.\n  def GetDecode(self): return _FactorGraph.CFactorGraph_GetDecode(self)\n"
     ]
    },
    {
     "name": "stderr",
     "output_type": "stream",
     "text": [
      "FactorBP/FactorGraph.py:399: DeprecationWarning: PyArray_FromDims: use PyArray_SimpleNew.\n  def GetDecode(self): return _FactorGraph.CFactorGraph_GetDecode(self)\nFactorBP/FactorGraph.py:399: DeprecationWarning: PyArray_FromDimsAndDataAndDescr: use PyArray_NewFromDescr.\n  def GetDecode(self): return _FactorGraph.CFactorGraph_GetDecode(self)\n"
     ]
    },
    {
     "name": "stderr",
     "output_type": "stream",
     "text": [
      "FactorBP/FactorGraph.py:399: DeprecationWarning: PyArray_FromDims: use PyArray_SimpleNew.\n  def GetDecode(self): return _FactorGraph.CFactorGraph_GetDecode(self)\nFactorBP/FactorGraph.py:399: DeprecationWarning: PyArray_FromDimsAndDataAndDescr: use PyArray_NewFromDescr.\n  def GetDecode(self): return _FactorGraph.CFactorGraph_GetDecode(self)\n"
     ]
    },
    {
     "name": "stderr",
     "output_type": "stream",
     "text": [
      "FactorBP/FactorGraph.py:399: DeprecationWarning: PyArray_FromDims: use PyArray_SimpleNew.\n  def GetDecode(self): return _FactorGraph.CFactorGraph_GetDecode(self)\nFactorBP/FactorGraph.py:399: DeprecationWarning: PyArray_FromDimsAndDataAndDescr: use PyArray_NewFromDescr.\n  def GetDecode(self): return _FactorGraph.CFactorGraph_GetDecode(self)\n"
     ]
    },
    {
     "name": "stderr",
     "output_type": "stream",
     "text": [
      "FactorBP/FactorGraph.py:399: DeprecationWarning: PyArray_FromDims: use PyArray_SimpleNew.\n  def GetDecode(self): return _FactorGraph.CFactorGraph_GetDecode(self)\nFactorBP/FactorGraph.py:399: DeprecationWarning: PyArray_FromDimsAndDataAndDescr: use PyArray_NewFromDescr.\n  def GetDecode(self): return _FactorGraph.CFactorGraph_GetDecode(self)\nFactorBP/FactorGraph.py:399: DeprecationWarning: PyArray_FromDims: use PyArray_SimpleNew.\n  def GetDecode(self): return _FactorGraph.CFactorGraph_GetDecode(self)\nFactorBP/FactorGraph.py:399: DeprecationWarning: PyArray_FromDimsAndDataAndDescr: use PyArray_NewFromDescr.\n  def GetDecode(self): return _FactorGraph.CFactorGraph_GetDecode(self)\n"
     ]
    },
    {
     "name": "stderr",
     "output_type": "stream",
     "text": [
      "FactorBP/FactorGraph.py:399: DeprecationWarning: PyArray_FromDims: use PyArray_SimpleNew.\n  def GetDecode(self): return _FactorGraph.CFactorGraph_GetDecode(self)\nFactorBP/FactorGraph.py:399: DeprecationWarning: PyArray_FromDimsAndDataAndDescr: use PyArray_NewFromDescr.\n  def GetDecode(self): return _FactorGraph.CFactorGraph_GetDecode(self)\n"
     ]
    },
    {
     "name": "stderr",
     "output_type": "stream",
     "text": [
      "FactorBP/FactorGraph.py:399: DeprecationWarning: PyArray_FromDims: use PyArray_SimpleNew.\n  def GetDecode(self): return _FactorGraph.CFactorGraph_GetDecode(self)\nFactorBP/FactorGraph.py:399: DeprecationWarning: PyArray_FromDimsAndDataAndDescr: use PyArray_NewFromDescr.\n  def GetDecode(self): return _FactorGraph.CFactorGraph_GetDecode(self)\n"
     ]
    },
    {
     "name": "stderr",
     "output_type": "stream",
     "text": [
      "FactorBP/FactorGraph.py:399: DeprecationWarning: PyArray_FromDims: use PyArray_SimpleNew.\n  def GetDecode(self): return _FactorGraph.CFactorGraph_GetDecode(self)\nFactorBP/FactorGraph.py:399: DeprecationWarning: PyArray_FromDimsAndDataAndDescr: use PyArray_NewFromDescr.\n  def GetDecode(self): return _FactorGraph.CFactorGraph_GetDecode(self)\n"
     ]
    },
    {
     "name": "stderr",
     "output_type": "stream",
     "text": [
      "FactorBP/FactorGraph.py:399: DeprecationWarning: PyArray_FromDims: use PyArray_SimpleNew.\n  def GetDecode(self): return _FactorGraph.CFactorGraph_GetDecode(self)\nFactorBP/FactorGraph.py:399: DeprecationWarning: PyArray_FromDimsAndDataAndDescr: use PyArray_NewFromDescr.\n  def GetDecode(self): return _FactorGraph.CFactorGraph_GetDecode(self)\nFactorBP/FactorGraph.py:399: DeprecationWarning: PyArray_FromDims: use PyArray_SimpleNew.\n  def GetDecode(self): return _FactorGraph.CFactorGraph_GetDecode(self)\nFactorBP/FactorGraph.py:399: DeprecationWarning: PyArray_FromDimsAndDataAndDescr: use PyArray_NewFromDescr.\n  def GetDecode(self): return _FactorGraph.CFactorGraph_GetDecode(self)\n"
     ]
    },
    {
     "name": "stderr",
     "output_type": "stream",
     "text": [
      "FactorBP/FactorGraph.py:399: DeprecationWarning: PyArray_FromDims: use PyArray_SimpleNew.\n  def GetDecode(self): return _FactorGraph.CFactorGraph_GetDecode(self)\nFactorBP/FactorGraph.py:399: DeprecationWarning: PyArray_FromDimsAndDataAndDescr: use PyArray_NewFromDescr.\n  def GetDecode(self): return _FactorGraph.CFactorGraph_GetDecode(self)\n"
     ]
    },
    {
     "name": "stderr",
     "output_type": "stream",
     "text": [
      "FactorBP/FactorGraph.py:399: DeprecationWarning: PyArray_FromDims: use PyArray_SimpleNew.\n  def GetDecode(self): return _FactorGraph.CFactorGraph_GetDecode(self)\nFactorBP/FactorGraph.py:399: DeprecationWarning: PyArray_FromDimsAndDataAndDescr: use PyArray_NewFromDescr.\n  def GetDecode(self): return _FactorGraph.CFactorGraph_GetDecode(self)\n"
     ]
    },
    {
     "name": "stderr",
     "output_type": "stream",
     "text": [
      "FactorBP/FactorGraph.py:399: DeprecationWarning: PyArray_FromDims: use PyArray_SimpleNew.\n  def GetDecode(self): return _FactorGraph.CFactorGraph_GetDecode(self)\nFactorBP/FactorGraph.py:399: DeprecationWarning: PyArray_FromDimsAndDataAndDescr: use PyArray_NewFromDescr.\n  def GetDecode(self): return _FactorGraph.CFactorGraph_GetDecode(self)\n"
     ]
    },
    {
     "name": "stderr",
     "output_type": "stream",
     "text": [
      "FactorBP/FactorGraph.py:399: DeprecationWarning: PyArray_FromDims: use PyArray_SimpleNew.\n  def GetDecode(self): return _FactorGraph.CFactorGraph_GetDecode(self)\nFactorBP/FactorGraph.py:399: DeprecationWarning: PyArray_FromDimsAndDataAndDescr: use PyArray_NewFromDescr.\n  def GetDecode(self): return _FactorGraph.CFactorGraph_GetDecode(self)\n"
     ]
    },
    {
     "name": "stderr",
     "output_type": "stream",
     "text": [
      "FactorBP/FactorGraph.py:399: DeprecationWarning: PyArray_FromDims: use PyArray_SimpleNew.\n  def GetDecode(self): return _FactorGraph.CFactorGraph_GetDecode(self)\nFactorBP/FactorGraph.py:399: DeprecationWarning: PyArray_FromDimsAndDataAndDescr: use PyArray_NewFromDescr.\n  def GetDecode(self): return _FactorGraph.CFactorGraph_GetDecode(self)\n"
     ]
    },
    {
     "name": "stderr",
     "output_type": "stream",
     "text": [
      "FactorBP/FactorGraph.py:399: DeprecationWarning: PyArray_FromDims: use PyArray_SimpleNew.\n  def GetDecode(self): return _FactorGraph.CFactorGraph_GetDecode(self)\nFactorBP/FactorGraph.py:399: DeprecationWarning: PyArray_FromDimsAndDataAndDescr: use PyArray_NewFromDescr.\n  def GetDecode(self): return _FactorGraph.CFactorGraph_GetDecode(self)\n"
     ]
    },
    {
     "name": "stderr",
     "output_type": "stream",
     "text": [
      "FactorBP/FactorGraph.py:399: DeprecationWarning: PyArray_FromDims: use PyArray_SimpleNew.\n  def GetDecode(self): return _FactorGraph.CFactorGraph_GetDecode(self)\nFactorBP/FactorGraph.py:399: DeprecationWarning: PyArray_FromDimsAndDataAndDescr: use PyArray_NewFromDescr.\n  def GetDecode(self): return _FactorGraph.CFactorGraph_GetDecode(self)\n"
     ]
    },
    {
     "name": "stderr",
     "output_type": "stream",
     "text": [
      "FactorBP/FactorGraph.py:399: DeprecationWarning: PyArray_FromDims: use PyArray_SimpleNew.\n  def GetDecode(self): return _FactorGraph.CFactorGraph_GetDecode(self)\nFactorBP/FactorGraph.py:399: DeprecationWarning: PyArray_FromDimsAndDataAndDescr: use PyArray_NewFromDescr.\n  def GetDecode(self): return _FactorGraph.CFactorGraph_GetDecode(self)\n"
     ]
    },
    {
     "name": "stderr",
     "output_type": "stream",
     "text": [
      "FactorBP/FactorGraph.py:399: DeprecationWarning: PyArray_FromDims: use PyArray_SimpleNew.\n  def GetDecode(self): return _FactorGraph.CFactorGraph_GetDecode(self)\nFactorBP/FactorGraph.py:399: DeprecationWarning: PyArray_FromDimsAndDataAndDescr: use PyArray_NewFromDescr.\n  def GetDecode(self): return _FactorGraph.CFactorGraph_GetDecode(self)\nFactorBP/FactorGraph.py:399: DeprecationWarning: PyArray_FromDims: use PyArray_SimpleNew.\n  def GetDecode(self): return _FactorGraph.CFactorGraph_GetDecode(self)\nFactorBP/FactorGraph.py:399: DeprecationWarning: PyArray_FromDimsAndDataAndDescr: use PyArray_NewFromDescr.\n  def GetDecode(self): return _FactorGraph.CFactorGraph_GetDecode(self)\nFactorBP/FactorGraph.py:399: DeprecationWarning: PyArray_FromDims: use PyArray_SimpleNew.\n  def GetDecode(self): return _FactorGraph.CFactorGraph_GetDecode(self)\nFactorBP/FactorGraph.py:399: DeprecationWarning: PyArray_FromDimsAndDataAndDescr: use PyArray_NewFromDescr.\n  def GetDecode(self): return _FactorGraph.CFactorGraph_GetDecode(self)\n"
     ]
    },
    {
     "name": "stderr",
     "output_type": "stream",
     "text": [
      "FactorBP/FactorGraph.py:399: DeprecationWarning: PyArray_FromDims: use PyArray_SimpleNew.\n  def GetDecode(self): return _FactorGraph.CFactorGraph_GetDecode(self)\nFactorBP/FactorGraph.py:399: DeprecationWarning: PyArray_FromDimsAndDataAndDescr: use PyArray_NewFromDescr.\n  def GetDecode(self): return _FactorGraph.CFactorGraph_GetDecode(self)\n"
     ]
    },
    {
     "name": "stderr",
     "output_type": "stream",
     "text": [
      "FactorBP/FactorGraph.py:399: DeprecationWarning: PyArray_FromDims: use PyArray_SimpleNew.\n  def GetDecode(self): return _FactorGraph.CFactorGraph_GetDecode(self)\nFactorBP/FactorGraph.py:399: DeprecationWarning: PyArray_FromDimsAndDataAndDescr: use PyArray_NewFromDescr.\n  def GetDecode(self): return _FactorGraph.CFactorGraph_GetDecode(self)\n"
     ]
    },
    {
     "name": "stderr",
     "output_type": "stream",
     "text": [
      "FactorBP/FactorGraph.py:399: DeprecationWarning: PyArray_FromDims: use PyArray_SimpleNew.\n  def GetDecode(self): return _FactorGraph.CFactorGraph_GetDecode(self)\nFactorBP/FactorGraph.py:399: DeprecationWarning: PyArray_FromDimsAndDataAndDescr: use PyArray_NewFromDescr.\n  def GetDecode(self): return _FactorGraph.CFactorGraph_GetDecode(self)\n"
     ]
    },
    {
     "name": "stderr",
     "output_type": "stream",
     "text": [
      "FactorBP/FactorGraph.py:399: DeprecationWarning: PyArray_FromDims: use PyArray_SimpleNew.\n  def GetDecode(self): return _FactorGraph.CFactorGraph_GetDecode(self)\nFactorBP/FactorGraph.py:399: DeprecationWarning: PyArray_FromDimsAndDataAndDescr: use PyArray_NewFromDescr.\n  def GetDecode(self): return _FactorGraph.CFactorGraph_GetDecode(self)\n"
     ]
    },
    {
     "name": "stderr",
     "output_type": "stream",
     "text": [
      "FactorBP/FactorGraph.py:399: DeprecationWarning: PyArray_FromDims: use PyArray_SimpleNew.\n  def GetDecode(self): return _FactorGraph.CFactorGraph_GetDecode(self)\nFactorBP/FactorGraph.py:399: DeprecationWarning: PyArray_FromDimsAndDataAndDescr: use PyArray_NewFromDescr.\n  def GetDecode(self): return _FactorGraph.CFactorGraph_GetDecode(self)\n"
     ]
    },
    {
     "name": "stderr",
     "output_type": "stream",
     "text": [
      "FactorBP/FactorGraph.py:399: DeprecationWarning: PyArray_FromDims: use PyArray_SimpleNew.\n  def GetDecode(self): return _FactorGraph.CFactorGraph_GetDecode(self)\nFactorBP/FactorGraph.py:399: DeprecationWarning: PyArray_FromDimsAndDataAndDescr: use PyArray_NewFromDescr.\n  def GetDecode(self): return _FactorGraph.CFactorGraph_GetDecode(self)\nFactorBP/FactorGraph.py:399: DeprecationWarning: PyArray_FromDims: use PyArray_SimpleNew.\n  def GetDecode(self): return _FactorGraph.CFactorGraph_GetDecode(self)\nFactorBP/FactorGraph.py:399: DeprecationWarning: PyArray_FromDimsAndDataAndDescr: use PyArray_NewFromDescr.\n  def GetDecode(self): return _FactorGraph.CFactorGraph_GetDecode(self)\n"
     ]
    },
    {
     "name": "stderr",
     "output_type": "stream",
     "text": [
      "FactorBP/FactorGraph.py:399: DeprecationWarning: PyArray_FromDims: use PyArray_SimpleNew.\n  def GetDecode(self): return _FactorGraph.CFactorGraph_GetDecode(self)\nFactorBP/FactorGraph.py:399: DeprecationWarning: PyArray_FromDimsAndDataAndDescr: use PyArray_NewFromDescr.\n  def GetDecode(self): return _FactorGraph.CFactorGraph_GetDecode(self)\n"
     ]
    },
    {
     "name": "stderr",
     "output_type": "stream",
     "text": [
      "FactorBP/FactorGraph.py:399: DeprecationWarning: PyArray_FromDims: use PyArray_SimpleNew.\n  def GetDecode(self): return _FactorGraph.CFactorGraph_GetDecode(self)\nFactorBP/FactorGraph.py:399: DeprecationWarning: PyArray_FromDimsAndDataAndDescr: use PyArray_NewFromDescr.\n  def GetDecode(self): return _FactorGraph.CFactorGraph_GetDecode(self)\n"
     ]
    },
    {
     "name": "stderr",
     "output_type": "stream",
     "text": [
      "FactorBP/FactorGraph.py:399: DeprecationWarning: PyArray_FromDims: use PyArray_SimpleNew.\n  def GetDecode(self): return _FactorGraph.CFactorGraph_GetDecode(self)\nFactorBP/FactorGraph.py:399: DeprecationWarning: PyArray_FromDimsAndDataAndDescr: use PyArray_NewFromDescr.\n  def GetDecode(self): return _FactorGraph.CFactorGraph_GetDecode(self)\n"
     ]
    },
    {
     "name": "stderr",
     "output_type": "stream",
     "text": [
      "FactorBP/FactorGraph.py:399: DeprecationWarning: PyArray_FromDims: use PyArray_SimpleNew.\n  def GetDecode(self): return _FactorGraph.CFactorGraph_GetDecode(self)\nFactorBP/FactorGraph.py:399: DeprecationWarning: PyArray_FromDimsAndDataAndDescr: use PyArray_NewFromDescr.\n  def GetDecode(self): return _FactorGraph.CFactorGraph_GetDecode(self)\n"
     ]
    },
    {
     "name": "stderr",
     "output_type": "stream",
     "text": [
      "FactorBP/FactorGraph.py:399: DeprecationWarning: PyArray_FromDims: use PyArray_SimpleNew.\n  def GetDecode(self): return _FactorGraph.CFactorGraph_GetDecode(self)\nFactorBP/FactorGraph.py:399: DeprecationWarning: PyArray_FromDimsAndDataAndDescr: use PyArray_NewFromDescr.\n  def GetDecode(self): return _FactorGraph.CFactorGraph_GetDecode(self)\n"
     ]
    },
    {
     "name": "stderr",
     "output_type": "stream",
     "text": [
      "FactorBP/FactorGraph.py:399: DeprecationWarning: PyArray_FromDims: use PyArray_SimpleNew.\n  def GetDecode(self): return _FactorGraph.CFactorGraph_GetDecode(self)\nFactorBP/FactorGraph.py:399: DeprecationWarning: PyArray_FromDimsAndDataAndDescr: use PyArray_NewFromDescr.\n  def GetDecode(self): return _FactorGraph.CFactorGraph_GetDecode(self)\n"
     ]
    },
    {
     "name": "stderr",
     "output_type": "stream",
     "text": [
      "FactorBP/FactorGraph.py:399: DeprecationWarning: PyArray_FromDims: use PyArray_SimpleNew.\n  def GetDecode(self): return _FactorGraph.CFactorGraph_GetDecode(self)\nFactorBP/FactorGraph.py:399: DeprecationWarning: PyArray_FromDimsAndDataAndDescr: use PyArray_NewFromDescr.\n  def GetDecode(self): return _FactorGraph.CFactorGraph_GetDecode(self)\n"
     ]
    },
    {
     "name": "stderr",
     "output_type": "stream",
     "text": [
      "FactorBP/FactorGraph.py:399: DeprecationWarning: PyArray_FromDims: use PyArray_SimpleNew.\n  def GetDecode(self): return _FactorGraph.CFactorGraph_GetDecode(self)\nFactorBP/FactorGraph.py:399: DeprecationWarning: PyArray_FromDimsAndDataAndDescr: use PyArray_NewFromDescr.\n  def GetDecode(self): return _FactorGraph.CFactorGraph_GetDecode(self)\n"
     ]
    },
    {
     "name": "stderr",
     "output_type": "stream",
     "text": [
      "FactorBP/FactorGraph.py:399: DeprecationWarning: PyArray_FromDims: use PyArray_SimpleNew.\n  def GetDecode(self): return _FactorGraph.CFactorGraph_GetDecode(self)\nFactorBP/FactorGraph.py:399: DeprecationWarning: PyArray_FromDimsAndDataAndDescr: use PyArray_NewFromDescr.\n  def GetDecode(self): return _FactorGraph.CFactorGraph_GetDecode(self)\n"
     ]
    },
    {
     "name": "stderr",
     "output_type": "stream",
     "text": [
      "FactorBP/FactorGraph.py:399: DeprecationWarning: PyArray_FromDims: use PyArray_SimpleNew.\n  def GetDecode(self): return _FactorGraph.CFactorGraph_GetDecode(self)\nFactorBP/FactorGraph.py:399: DeprecationWarning: PyArray_FromDimsAndDataAndDescr: use PyArray_NewFromDescr.\n  def GetDecode(self): return _FactorGraph.CFactorGraph_GetDecode(self)\n"
     ]
    },
    {
     "name": "stderr",
     "output_type": "stream",
     "text": [
      "FactorBP/FactorGraph.py:399: DeprecationWarning: PyArray_FromDims: use PyArray_SimpleNew.\n  def GetDecode(self): return _FactorGraph.CFactorGraph_GetDecode(self)\nFactorBP/FactorGraph.py:399: DeprecationWarning: PyArray_FromDimsAndDataAndDescr: use PyArray_NewFromDescr.\n  def GetDecode(self): return _FactorGraph.CFactorGraph_GetDecode(self)\n"
     ]
    },
    {
     "name": "stderr",
     "output_type": "stream",
     "text": [
      "FactorBP/FactorGraph.py:399: DeprecationWarning: PyArray_FromDims: use PyArray_SimpleNew.\n  def GetDecode(self): return _FactorGraph.CFactorGraph_GetDecode(self)\nFactorBP/FactorGraph.py:399: DeprecationWarning: PyArray_FromDimsAndDataAndDescr: use PyArray_NewFromDescr.\n  def GetDecode(self): return _FactorGraph.CFactorGraph_GetDecode(self)\n"
     ]
    },
    {
     "name": "stderr",
     "output_type": "stream",
     "text": [
      "FactorBP/FactorGraph.py:399: DeprecationWarning: PyArray_FromDims: use PyArray_SimpleNew.\n  def GetDecode(self): return _FactorGraph.CFactorGraph_GetDecode(self)\nFactorBP/FactorGraph.py:399: DeprecationWarning: PyArray_FromDimsAndDataAndDescr: use PyArray_NewFromDescr.\n  def GetDecode(self): return _FactorGraph.CFactorGraph_GetDecode(self)\n"
     ]
    },
    {
     "name": "stderr",
     "output_type": "stream",
     "text": [
      "FactorBP/FactorGraph.py:399: DeprecationWarning: PyArray_FromDims: use PyArray_SimpleNew.\n  def GetDecode(self): return _FactorGraph.CFactorGraph_GetDecode(self)\nFactorBP/FactorGraph.py:399: DeprecationWarning: PyArray_FromDimsAndDataAndDescr: use PyArray_NewFromDescr.\n  def GetDecode(self): return _FactorGraph.CFactorGraph_GetDecode(self)\n"
     ]
    },
    {
     "name": "stderr",
     "output_type": "stream",
     "text": [
      "FactorBP/FactorGraph.py:399: DeprecationWarning: PyArray_FromDims: use PyArray_SimpleNew.\n  def GetDecode(self): return _FactorGraph.CFactorGraph_GetDecode(self)\nFactorBP/FactorGraph.py:399: DeprecationWarning: PyArray_FromDimsAndDataAndDescr: use PyArray_NewFromDescr.\n  def GetDecode(self): return _FactorGraph.CFactorGraph_GetDecode(self)\nFactorBP/FactorGraph.py:399: DeprecationWarning: PyArray_FromDims: use PyArray_SimpleNew.\n  def GetDecode(self): return _FactorGraph.CFactorGraph_GetDecode(self)\nFactorBP/FactorGraph.py:399: DeprecationWarning: PyArray_FromDimsAndDataAndDescr: use PyArray_NewFromDescr.\n  def GetDecode(self): return _FactorGraph.CFactorGraph_GetDecode(self)\n"
     ]
    },
    {
     "name": "stderr",
     "output_type": "stream",
     "text": [
      "FactorBP/FactorGraph.py:399: DeprecationWarning: PyArray_FromDims: use PyArray_SimpleNew.\n  def GetDecode(self): return _FactorGraph.CFactorGraph_GetDecode(self)\nFactorBP/FactorGraph.py:399: DeprecationWarning: PyArray_FromDimsAndDataAndDescr: use PyArray_NewFromDescr.\n  def GetDecode(self): return _FactorGraph.CFactorGraph_GetDecode(self)\nFactorBP/FactorGraph.py:399: DeprecationWarning: PyArray_FromDims: use PyArray_SimpleNew.\n  def GetDecode(self): return _FactorGraph.CFactorGraph_GetDecode(self)\nFactorBP/FactorGraph.py:399: DeprecationWarning: PyArray_FromDimsAndDataAndDescr: use PyArray_NewFromDescr.\n  def GetDecode(self): return _FactorGraph.CFactorGraph_GetDecode(self)\n"
     ]
    },
    {
     "name": "stderr",
     "output_type": "stream",
     "text": [
      "FactorBP/FactorGraph.py:399: DeprecationWarning: PyArray_FromDims: use PyArray_SimpleNew.\n  def GetDecode(self): return _FactorGraph.CFactorGraph_GetDecode(self)\nFactorBP/FactorGraph.py:399: DeprecationWarning: PyArray_FromDimsAndDataAndDescr: use PyArray_NewFromDescr.\n  def GetDecode(self): return _FactorGraph.CFactorGraph_GetDecode(self)\n"
     ]
    },
    {
     "name": "stderr",
     "output_type": "stream",
     "text": [
      "FactorBP/FactorGraph.py:399: DeprecationWarning: PyArray_FromDims: use PyArray_SimpleNew.\n  def GetDecode(self): return _FactorGraph.CFactorGraph_GetDecode(self)\nFactorBP/FactorGraph.py:399: DeprecationWarning: PyArray_FromDimsAndDataAndDescr: use PyArray_NewFromDescr.\n  def GetDecode(self): return _FactorGraph.CFactorGraph_GetDecode(self)\n"
     ]
    },
    {
     "name": "stderr",
     "output_type": "stream",
     "text": [
      "FactorBP/FactorGraph.py:399: DeprecationWarning: PyArray_FromDims: use PyArray_SimpleNew.\n  def GetDecode(self): return _FactorGraph.CFactorGraph_GetDecode(self)\nFactorBP/FactorGraph.py:399: DeprecationWarning: PyArray_FromDimsAndDataAndDescr: use PyArray_NewFromDescr.\n  def GetDecode(self): return _FactorGraph.CFactorGraph_GetDecode(self)\n"
     ]
    },
    {
     "name": "stderr",
     "output_type": "stream",
     "text": [
      "FactorBP/FactorGraph.py:399: DeprecationWarning: PyArray_FromDims: use PyArray_SimpleNew.\n  def GetDecode(self): return _FactorGraph.CFactorGraph_GetDecode(self)\nFactorBP/FactorGraph.py:399: DeprecationWarning: PyArray_FromDimsAndDataAndDescr: use PyArray_NewFromDescr.\n  def GetDecode(self): return _FactorGraph.CFactorGraph_GetDecode(self)\n"
     ]
    },
    {
     "name": "stderr",
     "output_type": "stream",
     "text": [
      "FactorBP/FactorGraph.py:399: DeprecationWarning: PyArray_FromDims: use PyArray_SimpleNew.\n  def GetDecode(self): return _FactorGraph.CFactorGraph_GetDecode(self)\nFactorBP/FactorGraph.py:399: DeprecationWarning: PyArray_FromDimsAndDataAndDescr: use PyArray_NewFromDescr.\n  def GetDecode(self): return _FactorGraph.CFactorGraph_GetDecode(self)\n"
     ]
    },
    {
     "name": "stderr",
     "output_type": "stream",
     "text": [
      "FactorBP/FactorGraph.py:399: DeprecationWarning: PyArray_FromDims: use PyArray_SimpleNew.\n  def GetDecode(self): return _FactorGraph.CFactorGraph_GetDecode(self)\nFactorBP/FactorGraph.py:399: DeprecationWarning: PyArray_FromDimsAndDataAndDescr: use PyArray_NewFromDescr.\n  def GetDecode(self): return _FactorGraph.CFactorGraph_GetDecode(self)\n"
     ]
    },
    {
     "name": "stderr",
     "output_type": "stream",
     "text": [
      "FactorBP/FactorGraph.py:399: DeprecationWarning: PyArray_FromDims: use PyArray_SimpleNew.\n  def GetDecode(self): return _FactorGraph.CFactorGraph_GetDecode(self)\nFactorBP/FactorGraph.py:399: DeprecationWarning: PyArray_FromDimsAndDataAndDescr: use PyArray_NewFromDescr.\n  def GetDecode(self): return _FactorGraph.CFactorGraph_GetDecode(self)\n"
     ]
    },
    {
     "name": "stderr",
     "output_type": "stream",
     "text": [
      "FactorBP/FactorGraph.py:399: DeprecationWarning: PyArray_FromDims: use PyArray_SimpleNew.\n  def GetDecode(self): return _FactorGraph.CFactorGraph_GetDecode(self)\nFactorBP/FactorGraph.py:399: DeprecationWarning: PyArray_FromDimsAndDataAndDescr: use PyArray_NewFromDescr.\n  def GetDecode(self): return _FactorGraph.CFactorGraph_GetDecode(self)\n"
     ]
    },
    {
     "name": "stderr",
     "output_type": "stream",
     "text": [
      "FactorBP/FactorGraph.py:399: DeprecationWarning: PyArray_FromDims: use PyArray_SimpleNew.\n  def GetDecode(self): return _FactorGraph.CFactorGraph_GetDecode(self)\nFactorBP/FactorGraph.py:399: DeprecationWarning: PyArray_FromDimsAndDataAndDescr: use PyArray_NewFromDescr.\n  def GetDecode(self): return _FactorGraph.CFactorGraph_GetDecode(self)\n"
     ]
    },
    {
     "name": "stderr",
     "output_type": "stream",
     "text": [
      "FactorBP/FactorGraph.py:399: DeprecationWarning: PyArray_FromDims: use PyArray_SimpleNew.\n  def GetDecode(self): return _FactorGraph.CFactorGraph_GetDecode(self)\nFactorBP/FactorGraph.py:399: DeprecationWarning: PyArray_FromDimsAndDataAndDescr: use PyArray_NewFromDescr.\n  def GetDecode(self): return _FactorGraph.CFactorGraph_GetDecode(self)\n"
     ]
    },
    {
     "name": "stderr",
     "output_type": "stream",
     "text": [
      "FactorBP/FactorGraph.py:399: DeprecationWarning: PyArray_FromDims: use PyArray_SimpleNew.\n  def GetDecode(self): return _FactorGraph.CFactorGraph_GetDecode(self)\nFactorBP/FactorGraph.py:399: DeprecationWarning: PyArray_FromDimsAndDataAndDescr: use PyArray_NewFromDescr.\n  def GetDecode(self): return _FactorGraph.CFactorGraph_GetDecode(self)\n"
     ]
    },
    {
     "name": "stderr",
     "output_type": "stream",
     "text": [
      "FactorBP/FactorGraph.py:399: DeprecationWarning: PyArray_FromDims: use PyArray_SimpleNew.\n  def GetDecode(self): return _FactorGraph.CFactorGraph_GetDecode(self)\nFactorBP/FactorGraph.py:399: DeprecationWarning: PyArray_FromDimsAndDataAndDescr: use PyArray_NewFromDescr.\n  def GetDecode(self): return _FactorGraph.CFactorGraph_GetDecode(self)\n"
     ]
    },
    {
     "name": "stderr",
     "output_type": "stream",
     "text": [
      "FactorBP/FactorGraph.py:399: DeprecationWarning: PyArray_FromDims: use PyArray_SimpleNew.\n  def GetDecode(self): return _FactorGraph.CFactorGraph_GetDecode(self)\nFactorBP/FactorGraph.py:399: DeprecationWarning: PyArray_FromDimsAndDataAndDescr: use PyArray_NewFromDescr.\n  def GetDecode(self): return _FactorGraph.CFactorGraph_GetDecode(self)\n"
     ]
    },
    {
     "name": "stderr",
     "output_type": "stream",
     "text": [
      "FactorBP/FactorGraph.py:399: DeprecationWarning: PyArray_FromDims: use PyArray_SimpleNew.\n  def GetDecode(self): return _FactorGraph.CFactorGraph_GetDecode(self)\nFactorBP/FactorGraph.py:399: DeprecationWarning: PyArray_FromDimsAndDataAndDescr: use PyArray_NewFromDescr.\n  def GetDecode(self): return _FactorGraph.CFactorGraph_GetDecode(self)\n"
     ]
    },
    {
     "name": "stderr",
     "output_type": "stream",
     "text": [
      "FactorBP/FactorGraph.py:399: DeprecationWarning: PyArray_FromDims: use PyArray_SimpleNew.\n  def GetDecode(self): return _FactorGraph.CFactorGraph_GetDecode(self)\nFactorBP/FactorGraph.py:399: DeprecationWarning: PyArray_FromDimsAndDataAndDescr: use PyArray_NewFromDescr.\n  def GetDecode(self): return _FactorGraph.CFactorGraph_GetDecode(self)\n"
     ]
    },
    {
     "name": "stderr",
     "output_type": "stream",
     "text": [
      "FactorBP/FactorGraph.py:399: DeprecationWarning: PyArray_FromDims: use PyArray_SimpleNew.\n  def GetDecode(self): return _FactorGraph.CFactorGraph_GetDecode(self)\nFactorBP/FactorGraph.py:399: DeprecationWarning: PyArray_FromDimsAndDataAndDescr: use PyArray_NewFromDescr.\n  def GetDecode(self): return _FactorGraph.CFactorGraph_GetDecode(self)\n"
     ]
    },
    {
     "name": "stderr",
     "output_type": "stream",
     "text": [
      "FactorBP/FactorGraph.py:399: DeprecationWarning: PyArray_FromDims: use PyArray_SimpleNew.\n  def GetDecode(self): return _FactorGraph.CFactorGraph_GetDecode(self)\nFactorBP/FactorGraph.py:399: DeprecationWarning: PyArray_FromDimsAndDataAndDescr: use PyArray_NewFromDescr.\n  def GetDecode(self): return _FactorGraph.CFactorGraph_GetDecode(self)\n"
     ]
    },
    {
     "name": "stderr",
     "output_type": "stream",
     "text": [
      "FactorBP/FactorGraph.py:399: DeprecationWarning: PyArray_FromDims: use PyArray_SimpleNew.\n  def GetDecode(self): return _FactorGraph.CFactorGraph_GetDecode(self)\nFactorBP/FactorGraph.py:399: DeprecationWarning: PyArray_FromDimsAndDataAndDescr: use PyArray_NewFromDescr.\n  def GetDecode(self): return _FactorGraph.CFactorGraph_GetDecode(self)\n"
     ]
    },
    {
     "name": "stderr",
     "output_type": "stream",
     "text": [
      "FactorBP/FactorGraph.py:399: DeprecationWarning: PyArray_FromDims: use PyArray_SimpleNew.\n  def GetDecode(self): return _FactorGraph.CFactorGraph_GetDecode(self)\nFactorBP/FactorGraph.py:399: DeprecationWarning: PyArray_FromDimsAndDataAndDescr: use PyArray_NewFromDescr.\n  def GetDecode(self): return _FactorGraph.CFactorGraph_GetDecode(self)\n"
     ]
    },
    {
     "name": "stderr",
     "output_type": "stream",
     "text": [
      "FactorBP/FactorGraph.py:399: DeprecationWarning: PyArray_FromDims: use PyArray_SimpleNew.\n  def GetDecode(self): return _FactorGraph.CFactorGraph_GetDecode(self)\nFactorBP/FactorGraph.py:399: DeprecationWarning: PyArray_FromDimsAndDataAndDescr: use PyArray_NewFromDescr.\n  def GetDecode(self): return _FactorGraph.CFactorGraph_GetDecode(self)\n"
     ]
    },
    {
     "name": "stderr",
     "output_type": "stream",
     "text": [
      "FactorBP/FactorGraph.py:399: DeprecationWarning: PyArray_FromDims: use PyArray_SimpleNew.\n  def GetDecode(self): return _FactorGraph.CFactorGraph_GetDecode(self)\nFactorBP/FactorGraph.py:399: DeprecationWarning: PyArray_FromDimsAndDataAndDescr: use PyArray_NewFromDescr.\n  def GetDecode(self): return _FactorGraph.CFactorGraph_GetDecode(self)\n"
     ]
    },
    {
     "name": "stderr",
     "output_type": "stream",
     "text": [
      "FactorBP/FactorGraph.py:399: DeprecationWarning: PyArray_FromDims: use PyArray_SimpleNew.\n  def GetDecode(self): return _FactorGraph.CFactorGraph_GetDecode(self)\nFactorBP/FactorGraph.py:399: DeprecationWarning: PyArray_FromDimsAndDataAndDescr: use PyArray_NewFromDescr.\n  def GetDecode(self): return _FactorGraph.CFactorGraph_GetDecode(self)\n"
     ]
    },
    {
     "name": "stderr",
     "output_type": "stream",
     "text": [
      "FactorBP/FactorGraph.py:399: DeprecationWarning: PyArray_FromDims: use PyArray_SimpleNew.\n  def GetDecode(self): return _FactorGraph.CFactorGraph_GetDecode(self)\nFactorBP/FactorGraph.py:399: DeprecationWarning: PyArray_FromDimsAndDataAndDescr: use PyArray_NewFromDescr.\n  def GetDecode(self): return _FactorGraph.CFactorGraph_GetDecode(self)\n"
     ]
    },
    {
     "name": "stderr",
     "output_type": "stream",
     "text": [
      "FactorBP/FactorGraph.py:399: DeprecationWarning: PyArray_FromDims: use PyArray_SimpleNew.\n  def GetDecode(self): return _FactorGraph.CFactorGraph_GetDecode(self)\nFactorBP/FactorGraph.py:399: DeprecationWarning: PyArray_FromDimsAndDataAndDescr: use PyArray_NewFromDescr.\n  def GetDecode(self): return _FactorGraph.CFactorGraph_GetDecode(self)\n"
     ]
    },
    {
     "name": "stderr",
     "output_type": "stream",
     "text": [
      "FactorBP/FactorGraph.py:399: DeprecationWarning: PyArray_FromDims: use PyArray_SimpleNew.\n  def GetDecode(self): return _FactorGraph.CFactorGraph_GetDecode(self)\nFactorBP/FactorGraph.py:399: DeprecationWarning: PyArray_FromDimsAndDataAndDescr: use PyArray_NewFromDescr.\n  def GetDecode(self): return _FactorGraph.CFactorGraph_GetDecode(self)\n"
     ]
    },
    {
     "name": "stderr",
     "output_type": "stream",
     "text": [
      "FactorBP/FactorGraph.py:399: DeprecationWarning: PyArray_FromDims: use PyArray_SimpleNew.\n  def GetDecode(self): return _FactorGraph.CFactorGraph_GetDecode(self)\nFactorBP/FactorGraph.py:399: DeprecationWarning: PyArray_FromDimsAndDataAndDescr: use PyArray_NewFromDescr.\n  def GetDecode(self): return _FactorGraph.CFactorGraph_GetDecode(self)\n"
     ]
    },
    {
     "name": "stderr",
     "output_type": "stream",
     "text": [
      "FactorBP/FactorGraph.py:399: DeprecationWarning: PyArray_FromDims: use PyArray_SimpleNew.\n  def GetDecode(self): return _FactorGraph.CFactorGraph_GetDecode(self)\nFactorBP/FactorGraph.py:399: DeprecationWarning: PyArray_FromDimsAndDataAndDescr: use PyArray_NewFromDescr.\n  def GetDecode(self): return _FactorGraph.CFactorGraph_GetDecode(self)\n"
     ]
    },
    {
     "name": "stderr",
     "output_type": "stream",
     "text": [
      "FactorBP/FactorGraph.py:399: DeprecationWarning: PyArray_FromDims: use PyArray_SimpleNew.\n  def GetDecode(self): return _FactorGraph.CFactorGraph_GetDecode(self)\nFactorBP/FactorGraph.py:399: DeprecationWarning: PyArray_FromDimsAndDataAndDescr: use PyArray_NewFromDescr.\n  def GetDecode(self): return _FactorGraph.CFactorGraph_GetDecode(self)\n"
     ]
    },
    {
     "name": "stdout",
     "output_type": "stream",
     "text": [
      "Ours Accuracy 1.000000 Running Time 0.106046 Obj 1.000000\nOurs-BCA Accuracy 1.000000 Running Time 0.134457 Obj 1.000000\nBCA Accuracy 0.995775 Running Time 0.017836 Obj 0.998386\nBCA-MP Accuracy 0.999061 Running Time 0.101052 Obj 0.999856\nBCA-IPFP Accuracy 0.999061 Running Time 0.078608 Obj 0.999856\nHGM Accuracy 0.610329 Running Time 0.003698 Obj 0.752440\nRRWHM Accuracy 0.998592 Running Time 0.058971 Obj 0.999905\nTM Accuracy 0.573239 Running Time 0.061530 Obj 0.791789\n××××××××××××××××××××\n Start baseline: 50\n"
     ]
    },
    {
     "name": "stderr",
     "output_type": "stream",
     "text": [
      "FactorBP/FactorGraph.py:399: DeprecationWarning: PyArray_FromDims: use PyArray_SimpleNew.\n  def GetDecode(self): return _FactorGraph.CFactorGraph_GetDecode(self)\nFactorBP/FactorGraph.py:399: DeprecationWarning: PyArray_FromDimsAndDataAndDescr: use PyArray_NewFromDescr.\n  def GetDecode(self): return _FactorGraph.CFactorGraph_GetDecode(self)\n"
     ]
    },
    {
     "name": "stderr",
     "output_type": "stream",
     "text": [
      "FactorBP/FactorGraph.py:399: DeprecationWarning: PyArray_FromDims: use PyArray_SimpleNew.\n  def GetDecode(self): return _FactorGraph.CFactorGraph_GetDecode(self)\nFactorBP/FactorGraph.py:399: DeprecationWarning: PyArray_FromDimsAndDataAndDescr: use PyArray_NewFromDescr.\n  def GetDecode(self): return _FactorGraph.CFactorGraph_GetDecode(self)\n"
     ]
    },
    {
     "name": "stderr",
     "output_type": "stream",
     "text": [
      "FactorBP/FactorGraph.py:399: DeprecationWarning: PyArray_FromDims: use PyArray_SimpleNew.\n  def GetDecode(self): return _FactorGraph.CFactorGraph_GetDecode(self)\nFactorBP/FactorGraph.py:399: DeprecationWarning: PyArray_FromDimsAndDataAndDescr: use PyArray_NewFromDescr.\n  def GetDecode(self): return _FactorGraph.CFactorGraph_GetDecode(self)\n"
     ]
    },
    {
     "name": "stderr",
     "output_type": "stream",
     "text": [
      "FactorBP/FactorGraph.py:399: DeprecationWarning: PyArray_FromDims: use PyArray_SimpleNew.\n  def GetDecode(self): return _FactorGraph.CFactorGraph_GetDecode(self)\nFactorBP/FactorGraph.py:399: DeprecationWarning: PyArray_FromDimsAndDataAndDescr: use PyArray_NewFromDescr.\n  def GetDecode(self): return _FactorGraph.CFactorGraph_GetDecode(self)\n"
     ]
    },
    {
     "name": "stderr",
     "output_type": "stream",
     "text": [
      "FactorBP/FactorGraph.py:399: DeprecationWarning: PyArray_FromDims: use PyArray_SimpleNew.\n  def GetDecode(self): return _FactorGraph.CFactorGraph_GetDecode(self)\nFactorBP/FactorGraph.py:399: DeprecationWarning: PyArray_FromDimsAndDataAndDescr: use PyArray_NewFromDescr.\n  def GetDecode(self): return _FactorGraph.CFactorGraph_GetDecode(self)\n"
     ]
    },
    {
     "name": "stderr",
     "output_type": "stream",
     "text": [
      "FactorBP/FactorGraph.py:399: DeprecationWarning: PyArray_FromDims: use PyArray_SimpleNew.\n  def GetDecode(self): return _FactorGraph.CFactorGraph_GetDecode(self)\nFactorBP/FactorGraph.py:399: DeprecationWarning: PyArray_FromDimsAndDataAndDescr: use PyArray_NewFromDescr.\n  def GetDecode(self): return _FactorGraph.CFactorGraph_GetDecode(self)\n"
     ]
    },
    {
     "name": "stderr",
     "output_type": "stream",
     "text": [
      "FactorBP/FactorGraph.py:399: DeprecationWarning: PyArray_FromDims: use PyArray_SimpleNew.\n  def GetDecode(self): return _FactorGraph.CFactorGraph_GetDecode(self)\nFactorBP/FactorGraph.py:399: DeprecationWarning: PyArray_FromDimsAndDataAndDescr: use PyArray_NewFromDescr.\n  def GetDecode(self): return _FactorGraph.CFactorGraph_GetDecode(self)\n"
     ]
    },
    {
     "name": "stderr",
     "output_type": "stream",
     "text": [
      "FactorBP/FactorGraph.py:399: DeprecationWarning: PyArray_FromDims: use PyArray_SimpleNew.\n  def GetDecode(self): return _FactorGraph.CFactorGraph_GetDecode(self)\nFactorBP/FactorGraph.py:399: DeprecationWarning: PyArray_FromDimsAndDataAndDescr: use PyArray_NewFromDescr.\n  def GetDecode(self): return _FactorGraph.CFactorGraph_GetDecode(self)\n"
     ]
    },
    {
     "name": "stderr",
     "output_type": "stream",
     "text": [
      "FactorBP/FactorGraph.py:399: DeprecationWarning: PyArray_FromDims: use PyArray_SimpleNew.\n  def GetDecode(self): return _FactorGraph.CFactorGraph_GetDecode(self)\nFactorBP/FactorGraph.py:399: DeprecationWarning: PyArray_FromDimsAndDataAndDescr: use PyArray_NewFromDescr.\n  def GetDecode(self): return _FactorGraph.CFactorGraph_GetDecode(self)\nFactorBP/FactorGraph.py:399: DeprecationWarning: PyArray_FromDims: use PyArray_SimpleNew.\n  def GetDecode(self): return _FactorGraph.CFactorGraph_GetDecode(self)\nFactorBP/FactorGraph.py:399: DeprecationWarning: PyArray_FromDimsAndDataAndDescr: use PyArray_NewFromDescr.\n  def GetDecode(self): return _FactorGraph.CFactorGraph_GetDecode(self)\n"
     ]
    },
    {
     "name": "stderr",
     "output_type": "stream",
     "text": [
      "FactorBP/FactorGraph.py:399: DeprecationWarning: PyArray_FromDims: use PyArray_SimpleNew.\n  def GetDecode(self): return _FactorGraph.CFactorGraph_GetDecode(self)\nFactorBP/FactorGraph.py:399: DeprecationWarning: PyArray_FromDimsAndDataAndDescr: use PyArray_NewFromDescr.\n  def GetDecode(self): return _FactorGraph.CFactorGraph_GetDecode(self)\n"
     ]
    },
    {
     "name": "stderr",
     "output_type": "stream",
     "text": [
      "FactorBP/FactorGraph.py:399: DeprecationWarning: PyArray_FromDims: use PyArray_SimpleNew.\n  def GetDecode(self): return _FactorGraph.CFactorGraph_GetDecode(self)\nFactorBP/FactorGraph.py:399: DeprecationWarning: PyArray_FromDimsAndDataAndDescr: use PyArray_NewFromDescr.\n  def GetDecode(self): return _FactorGraph.CFactorGraph_GetDecode(self)\n"
     ]
    },
    {
     "name": "stderr",
     "output_type": "stream",
     "text": [
      "FactorBP/FactorGraph.py:399: DeprecationWarning: PyArray_FromDims: use PyArray_SimpleNew.\n  def GetDecode(self): return _FactorGraph.CFactorGraph_GetDecode(self)\nFactorBP/FactorGraph.py:399: DeprecationWarning: PyArray_FromDimsAndDataAndDescr: use PyArray_NewFromDescr.\n  def GetDecode(self): return _FactorGraph.CFactorGraph_GetDecode(self)\n"
     ]
    },
    {
     "name": "stderr",
     "output_type": "stream",
     "text": [
      "FactorBP/FactorGraph.py:399: DeprecationWarning: PyArray_FromDims: use PyArray_SimpleNew.\n  def GetDecode(self): return _FactorGraph.CFactorGraph_GetDecode(self)\nFactorBP/FactorGraph.py:399: DeprecationWarning: PyArray_FromDimsAndDataAndDescr: use PyArray_NewFromDescr.\n  def GetDecode(self): return _FactorGraph.CFactorGraph_GetDecode(self)\n"
     ]
    },
    {
     "name": "stderr",
     "output_type": "stream",
     "text": [
      "FactorBP/FactorGraph.py:399: DeprecationWarning: PyArray_FromDims: use PyArray_SimpleNew.\n  def GetDecode(self): return _FactorGraph.CFactorGraph_GetDecode(self)\nFactorBP/FactorGraph.py:399: DeprecationWarning: PyArray_FromDimsAndDataAndDescr: use PyArray_NewFromDescr.\n  def GetDecode(self): return _FactorGraph.CFactorGraph_GetDecode(self)\n"
     ]
    },
    {
     "name": "stderr",
     "output_type": "stream",
     "text": [
      "FactorBP/FactorGraph.py:399: DeprecationWarning: PyArray_FromDims: use PyArray_SimpleNew.\n  def GetDecode(self): return _FactorGraph.CFactorGraph_GetDecode(self)\nFactorBP/FactorGraph.py:399: DeprecationWarning: PyArray_FromDimsAndDataAndDescr: use PyArray_NewFromDescr.\n  def GetDecode(self): return _FactorGraph.CFactorGraph_GetDecode(self)\n"
     ]
    },
    {
     "name": "stderr",
     "output_type": "stream",
     "text": [
      "FactorBP/FactorGraph.py:399: DeprecationWarning: PyArray_FromDims: use PyArray_SimpleNew.\n  def GetDecode(self): return _FactorGraph.CFactorGraph_GetDecode(self)\nFactorBP/FactorGraph.py:399: DeprecationWarning: PyArray_FromDimsAndDataAndDescr: use PyArray_NewFromDescr.\n  def GetDecode(self): return _FactorGraph.CFactorGraph_GetDecode(self)\n"
     ]
    },
    {
     "name": "stderr",
     "output_type": "stream",
     "text": [
      "FactorBP/FactorGraph.py:399: DeprecationWarning: PyArray_FromDims: use PyArray_SimpleNew.\n  def GetDecode(self): return _FactorGraph.CFactorGraph_GetDecode(self)\nFactorBP/FactorGraph.py:399: DeprecationWarning: PyArray_FromDimsAndDataAndDescr: use PyArray_NewFromDescr.\n  def GetDecode(self): return _FactorGraph.CFactorGraph_GetDecode(self)\n"
     ]
    },
    {
     "name": "stderr",
     "output_type": "stream",
     "text": [
      "FactorBP/FactorGraph.py:399: DeprecationWarning: PyArray_FromDims: use PyArray_SimpleNew.\n  def GetDecode(self): return _FactorGraph.CFactorGraph_GetDecode(self)\nFactorBP/FactorGraph.py:399: DeprecationWarning: PyArray_FromDimsAndDataAndDescr: use PyArray_NewFromDescr.\n  def GetDecode(self): return _FactorGraph.CFactorGraph_GetDecode(self)\nFactorBP/FactorGraph.py:399: DeprecationWarning: PyArray_FromDims: use PyArray_SimpleNew.\n  def GetDecode(self): return _FactorGraph.CFactorGraph_GetDecode(self)\nFactorBP/FactorGraph.py:399: DeprecationWarning: PyArray_FromDimsAndDataAndDescr: use PyArray_NewFromDescr.\n  def GetDecode(self): return _FactorGraph.CFactorGraph_GetDecode(self)\n"
     ]
    },
    {
     "name": "stderr",
     "output_type": "stream",
     "text": [
      "FactorBP/FactorGraph.py:399: DeprecationWarning: PyArray_FromDims: use PyArray_SimpleNew.\n  def GetDecode(self): return _FactorGraph.CFactorGraph_GetDecode(self)\nFactorBP/FactorGraph.py:399: DeprecationWarning: PyArray_FromDimsAndDataAndDescr: use PyArray_NewFromDescr.\n  def GetDecode(self): return _FactorGraph.CFactorGraph_GetDecode(self)\n"
     ]
    },
    {
     "name": "stderr",
     "output_type": "stream",
     "text": [
      "FactorBP/FactorGraph.py:399: DeprecationWarning: PyArray_FromDims: use PyArray_SimpleNew.\n  def GetDecode(self): return _FactorGraph.CFactorGraph_GetDecode(self)\nFactorBP/FactorGraph.py:399: DeprecationWarning: PyArray_FromDimsAndDataAndDescr: use PyArray_NewFromDescr.\n  def GetDecode(self): return _FactorGraph.CFactorGraph_GetDecode(self)\n"
     ]
    },
    {
     "name": "stderr",
     "output_type": "stream",
     "text": [
      "FactorBP/FactorGraph.py:399: DeprecationWarning: PyArray_FromDims: use PyArray_SimpleNew.\n  def GetDecode(self): return _FactorGraph.CFactorGraph_GetDecode(self)\nFactorBP/FactorGraph.py:399: DeprecationWarning: PyArray_FromDimsAndDataAndDescr: use PyArray_NewFromDescr.\n  def GetDecode(self): return _FactorGraph.CFactorGraph_GetDecode(self)\n"
     ]
    },
    {
     "name": "stderr",
     "output_type": "stream",
     "text": [
      "FactorBP/FactorGraph.py:399: DeprecationWarning: PyArray_FromDims: use PyArray_SimpleNew.\n  def GetDecode(self): return _FactorGraph.CFactorGraph_GetDecode(self)\nFactorBP/FactorGraph.py:399: DeprecationWarning: PyArray_FromDimsAndDataAndDescr: use PyArray_NewFromDescr.\n  def GetDecode(self): return _FactorGraph.CFactorGraph_GetDecode(self)\n"
     ]
    },
    {
     "name": "stderr",
     "output_type": "stream",
     "text": [
      "FactorBP/FactorGraph.py:399: DeprecationWarning: PyArray_FromDims: use PyArray_SimpleNew.\n  def GetDecode(self): return _FactorGraph.CFactorGraph_GetDecode(self)\nFactorBP/FactorGraph.py:399: DeprecationWarning: PyArray_FromDimsAndDataAndDescr: use PyArray_NewFromDescr.\n  def GetDecode(self): return _FactorGraph.CFactorGraph_GetDecode(self)\n"
     ]
    },
    {
     "name": "stderr",
     "output_type": "stream",
     "text": [
      "FactorBP/FactorGraph.py:399: DeprecationWarning: PyArray_FromDims: use PyArray_SimpleNew.\n  def GetDecode(self): return _FactorGraph.CFactorGraph_GetDecode(self)\nFactorBP/FactorGraph.py:399: DeprecationWarning: PyArray_FromDimsAndDataAndDescr: use PyArray_NewFromDescr.\n  def GetDecode(self): return _FactorGraph.CFactorGraph_GetDecode(self)\nFactorBP/FactorGraph.py:399: DeprecationWarning: PyArray_FromDims: use PyArray_SimpleNew.\n  def GetDecode(self): return _FactorGraph.CFactorGraph_GetDecode(self)\nFactorBP/FactorGraph.py:399: DeprecationWarning: PyArray_FromDimsAndDataAndDescr: use PyArray_NewFromDescr.\n  def GetDecode(self): return _FactorGraph.CFactorGraph_GetDecode(self)\n"
     ]
    },
    {
     "name": "stderr",
     "output_type": "stream",
     "text": [
      "FactorBP/FactorGraph.py:399: DeprecationWarning: PyArray_FromDims: use PyArray_SimpleNew.\n  def GetDecode(self): return _FactorGraph.CFactorGraph_GetDecode(self)\nFactorBP/FactorGraph.py:399: DeprecationWarning: PyArray_FromDimsAndDataAndDescr: use PyArray_NewFromDescr.\n  def GetDecode(self): return _FactorGraph.CFactorGraph_GetDecode(self)\n"
     ]
    },
    {
     "name": "stderr",
     "output_type": "stream",
     "text": [
      "FactorBP/FactorGraph.py:399: DeprecationWarning: PyArray_FromDims: use PyArray_SimpleNew.\n  def GetDecode(self): return _FactorGraph.CFactorGraph_GetDecode(self)\nFactorBP/FactorGraph.py:399: DeprecationWarning: PyArray_FromDimsAndDataAndDescr: use PyArray_NewFromDescr.\n  def GetDecode(self): return _FactorGraph.CFactorGraph_GetDecode(self)\nFactorBP/FactorGraph.py:399: DeprecationWarning: PyArray_FromDims: use PyArray_SimpleNew.\n  def GetDecode(self): return _FactorGraph.CFactorGraph_GetDecode(self)\nFactorBP/FactorGraph.py:399: DeprecationWarning: PyArray_FromDimsAndDataAndDescr: use PyArray_NewFromDescr.\n  def GetDecode(self): return _FactorGraph.CFactorGraph_GetDecode(self)\n"
     ]
    },
    {
     "name": "stderr",
     "output_type": "stream",
     "text": [
      "FactorBP/FactorGraph.py:399: DeprecationWarning: PyArray_FromDims: use PyArray_SimpleNew.\n  def GetDecode(self): return _FactorGraph.CFactorGraph_GetDecode(self)\nFactorBP/FactorGraph.py:399: DeprecationWarning: PyArray_FromDimsAndDataAndDescr: use PyArray_NewFromDescr.\n  def GetDecode(self): return _FactorGraph.CFactorGraph_GetDecode(self)\n"
     ]
    },
    {
     "name": "stderr",
     "output_type": "stream",
     "text": [
      "FactorBP/FactorGraph.py:399: DeprecationWarning: PyArray_FromDims: use PyArray_SimpleNew.\n  def GetDecode(self): return _FactorGraph.CFactorGraph_GetDecode(self)\nFactorBP/FactorGraph.py:399: DeprecationWarning: PyArray_FromDimsAndDataAndDescr: use PyArray_NewFromDescr.\n  def GetDecode(self): return _FactorGraph.CFactorGraph_GetDecode(self)\n"
     ]
    },
    {
     "name": "stderr",
     "output_type": "stream",
     "text": [
      "FactorBP/FactorGraph.py:399: DeprecationWarning: PyArray_FromDims: use PyArray_SimpleNew.\n  def GetDecode(self): return _FactorGraph.CFactorGraph_GetDecode(self)\nFactorBP/FactorGraph.py:399: DeprecationWarning: PyArray_FromDimsAndDataAndDescr: use PyArray_NewFromDescr.\n  def GetDecode(self): return _FactorGraph.CFactorGraph_GetDecode(self)\n"
     ]
    },
    {
     "name": "stderr",
     "output_type": "stream",
     "text": [
      "FactorBP/FactorGraph.py:399: DeprecationWarning: PyArray_FromDims: use PyArray_SimpleNew.\n  def GetDecode(self): return _FactorGraph.CFactorGraph_GetDecode(self)\nFactorBP/FactorGraph.py:399: DeprecationWarning: PyArray_FromDimsAndDataAndDescr: use PyArray_NewFromDescr.\n  def GetDecode(self): return _FactorGraph.CFactorGraph_GetDecode(self)\nFactorBP/FactorGraph.py:399: DeprecationWarning: PyArray_FromDims: use PyArray_SimpleNew.\n  def GetDecode(self): return _FactorGraph.CFactorGraph_GetDecode(self)\nFactorBP/FactorGraph.py:399: DeprecationWarning: PyArray_FromDimsAndDataAndDescr: use PyArray_NewFromDescr.\n  def GetDecode(self): return _FactorGraph.CFactorGraph_GetDecode(self)\n"
     ]
    },
    {
     "name": "stderr",
     "output_type": "stream",
     "text": [
      "FactorBP/FactorGraph.py:399: DeprecationWarning: PyArray_FromDims: use PyArray_SimpleNew.\n  def GetDecode(self): return _FactorGraph.CFactorGraph_GetDecode(self)\nFactorBP/FactorGraph.py:399: DeprecationWarning: PyArray_FromDimsAndDataAndDescr: use PyArray_NewFromDescr.\n  def GetDecode(self): return _FactorGraph.CFactorGraph_GetDecode(self)\n"
     ]
    },
    {
     "name": "stderr",
     "output_type": "stream",
     "text": [
      "FactorBP/FactorGraph.py:399: DeprecationWarning: PyArray_FromDims: use PyArray_SimpleNew.\n  def GetDecode(self): return _FactorGraph.CFactorGraph_GetDecode(self)\nFactorBP/FactorGraph.py:399: DeprecationWarning: PyArray_FromDimsAndDataAndDescr: use PyArray_NewFromDescr.\n  def GetDecode(self): return _FactorGraph.CFactorGraph_GetDecode(self)\n"
     ]
    },
    {
     "name": "stderr",
     "output_type": "stream",
     "text": [
      "FactorBP/FactorGraph.py:399: DeprecationWarning: PyArray_FromDims: use PyArray_SimpleNew.\n  def GetDecode(self): return _FactorGraph.CFactorGraph_GetDecode(self)\nFactorBP/FactorGraph.py:399: DeprecationWarning: PyArray_FromDimsAndDataAndDescr: use PyArray_NewFromDescr.\n  def GetDecode(self): return _FactorGraph.CFactorGraph_GetDecode(self)\n"
     ]
    },
    {
     "name": "stderr",
     "output_type": "stream",
     "text": [
      "FactorBP/FactorGraph.py:399: DeprecationWarning: PyArray_FromDims: use PyArray_SimpleNew.\n  def GetDecode(self): return _FactorGraph.CFactorGraph_GetDecode(self)\nFactorBP/FactorGraph.py:399: DeprecationWarning: PyArray_FromDimsAndDataAndDescr: use PyArray_NewFromDescr.\n  def GetDecode(self): return _FactorGraph.CFactorGraph_GetDecode(self)\n"
     ]
    },
    {
     "name": "stderr",
     "output_type": "stream",
     "text": [
      "FactorBP/FactorGraph.py:399: DeprecationWarning: PyArray_FromDims: use PyArray_SimpleNew.\n  def GetDecode(self): return _FactorGraph.CFactorGraph_GetDecode(self)\nFactorBP/FactorGraph.py:399: DeprecationWarning: PyArray_FromDimsAndDataAndDescr: use PyArray_NewFromDescr.\n  def GetDecode(self): return _FactorGraph.CFactorGraph_GetDecode(self)\n"
     ]
    },
    {
     "name": "stderr",
     "output_type": "stream",
     "text": [
      "FactorBP/FactorGraph.py:399: DeprecationWarning: PyArray_FromDims: use PyArray_SimpleNew.\n  def GetDecode(self): return _FactorGraph.CFactorGraph_GetDecode(self)\nFactorBP/FactorGraph.py:399: DeprecationWarning: PyArray_FromDimsAndDataAndDescr: use PyArray_NewFromDescr.\n  def GetDecode(self): return _FactorGraph.CFactorGraph_GetDecode(self)\n"
     ]
    },
    {
     "name": "stderr",
     "output_type": "stream",
     "text": [
      "FactorBP/FactorGraph.py:399: DeprecationWarning: PyArray_FromDims: use PyArray_SimpleNew.\n  def GetDecode(self): return _FactorGraph.CFactorGraph_GetDecode(self)\nFactorBP/FactorGraph.py:399: DeprecationWarning: PyArray_FromDimsAndDataAndDescr: use PyArray_NewFromDescr.\n  def GetDecode(self): return _FactorGraph.CFactorGraph_GetDecode(self)\n"
     ]
    },
    {
     "name": "stderr",
     "output_type": "stream",
     "text": [
      "FactorBP/FactorGraph.py:399: DeprecationWarning: PyArray_FromDims: use PyArray_SimpleNew.\n  def GetDecode(self): return _FactorGraph.CFactorGraph_GetDecode(self)\nFactorBP/FactorGraph.py:399: DeprecationWarning: PyArray_FromDimsAndDataAndDescr: use PyArray_NewFromDescr.\n  def GetDecode(self): return _FactorGraph.CFactorGraph_GetDecode(self)\n"
     ]
    },
    {
     "name": "stderr",
     "output_type": "stream",
     "text": [
      "FactorBP/FactorGraph.py:399: DeprecationWarning: PyArray_FromDims: use PyArray_SimpleNew.\n  def GetDecode(self): return _FactorGraph.CFactorGraph_GetDecode(self)\nFactorBP/FactorGraph.py:399: DeprecationWarning: PyArray_FromDimsAndDataAndDescr: use PyArray_NewFromDescr.\n  def GetDecode(self): return _FactorGraph.CFactorGraph_GetDecode(self)\nFactorBP/FactorGraph.py:399: DeprecationWarning: PyArray_FromDims: use PyArray_SimpleNew.\n  def GetDecode(self): return _FactorGraph.CFactorGraph_GetDecode(self)\nFactorBP/FactorGraph.py:399: DeprecationWarning: PyArray_FromDimsAndDataAndDescr: use PyArray_NewFromDescr.\n  def GetDecode(self): return _FactorGraph.CFactorGraph_GetDecode(self)\n"
     ]
    },
    {
     "name": "stderr",
     "output_type": "stream",
     "text": [
      "FactorBP/FactorGraph.py:399: DeprecationWarning: PyArray_FromDims: use PyArray_SimpleNew.\n  def GetDecode(self): return _FactorGraph.CFactorGraph_GetDecode(self)\nFactorBP/FactorGraph.py:399: DeprecationWarning: PyArray_FromDimsAndDataAndDescr: use PyArray_NewFromDescr.\n  def GetDecode(self): return _FactorGraph.CFactorGraph_GetDecode(self)\n"
     ]
    },
    {
     "name": "stderr",
     "output_type": "stream",
     "text": [
      "FactorBP/FactorGraph.py:399: DeprecationWarning: PyArray_FromDims: use PyArray_SimpleNew.\n  def GetDecode(self): return _FactorGraph.CFactorGraph_GetDecode(self)\nFactorBP/FactorGraph.py:399: DeprecationWarning: PyArray_FromDimsAndDataAndDescr: use PyArray_NewFromDescr.\n  def GetDecode(self): return _FactorGraph.CFactorGraph_GetDecode(self)\n"
     ]
    },
    {
     "name": "stderr",
     "output_type": "stream",
     "text": [
      "FactorBP/FactorGraph.py:399: DeprecationWarning: PyArray_FromDims: use PyArray_SimpleNew.\n  def GetDecode(self): return _FactorGraph.CFactorGraph_GetDecode(self)\nFactorBP/FactorGraph.py:399: DeprecationWarning: PyArray_FromDimsAndDataAndDescr: use PyArray_NewFromDescr.\n  def GetDecode(self): return _FactorGraph.CFactorGraph_GetDecode(self)\n"
     ]
    },
    {
     "name": "stderr",
     "output_type": "stream",
     "text": [
      "FactorBP/FactorGraph.py:399: DeprecationWarning: PyArray_FromDims: use PyArray_SimpleNew.\n  def GetDecode(self): return _FactorGraph.CFactorGraph_GetDecode(self)\nFactorBP/FactorGraph.py:399: DeprecationWarning: PyArray_FromDimsAndDataAndDescr: use PyArray_NewFromDescr.\n  def GetDecode(self): return _FactorGraph.CFactorGraph_GetDecode(self)\n"
     ]
    },
    {
     "name": "stderr",
     "output_type": "stream",
     "text": [
      "FactorBP/FactorGraph.py:399: DeprecationWarning: PyArray_FromDims: use PyArray_SimpleNew.\n  def GetDecode(self): return _FactorGraph.CFactorGraph_GetDecode(self)\nFactorBP/FactorGraph.py:399: DeprecationWarning: PyArray_FromDimsAndDataAndDescr: use PyArray_NewFromDescr.\n  def GetDecode(self): return _FactorGraph.CFactorGraph_GetDecode(self)\n"
     ]
    },
    {
     "name": "stderr",
     "output_type": "stream",
     "text": [
      "FactorBP/FactorGraph.py:399: DeprecationWarning: PyArray_FromDims: use PyArray_SimpleNew.\n  def GetDecode(self): return _FactorGraph.CFactorGraph_GetDecode(self)\nFactorBP/FactorGraph.py:399: DeprecationWarning: PyArray_FromDimsAndDataAndDescr: use PyArray_NewFromDescr.\n  def GetDecode(self): return _FactorGraph.CFactorGraph_GetDecode(self)\n"
     ]
    },
    {
     "name": "stderr",
     "output_type": "stream",
     "text": [
      "FactorBP/FactorGraph.py:399: DeprecationWarning: PyArray_FromDims: use PyArray_SimpleNew.\n  def GetDecode(self): return _FactorGraph.CFactorGraph_GetDecode(self)\nFactorBP/FactorGraph.py:399: DeprecationWarning: PyArray_FromDimsAndDataAndDescr: use PyArray_NewFromDescr.\n  def GetDecode(self): return _FactorGraph.CFactorGraph_GetDecode(self)\n"
     ]
    },
    {
     "name": "stderr",
     "output_type": "stream",
     "text": [
      "FactorBP/FactorGraph.py:399: DeprecationWarning: PyArray_FromDims: use PyArray_SimpleNew.\n  def GetDecode(self): return _FactorGraph.CFactorGraph_GetDecode(self)\nFactorBP/FactorGraph.py:399: DeprecationWarning: PyArray_FromDimsAndDataAndDescr: use PyArray_NewFromDescr.\n  def GetDecode(self): return _FactorGraph.CFactorGraph_GetDecode(self)\n"
     ]
    },
    {
     "name": "stderr",
     "output_type": "stream",
     "text": [
      "FactorBP/FactorGraph.py:399: DeprecationWarning: PyArray_FromDims: use PyArray_SimpleNew.\n  def GetDecode(self): return _FactorGraph.CFactorGraph_GetDecode(self)\nFactorBP/FactorGraph.py:399: DeprecationWarning: PyArray_FromDimsAndDataAndDescr: use PyArray_NewFromDescr.\n  def GetDecode(self): return _FactorGraph.CFactorGraph_GetDecode(self)\n"
     ]
    },
    {
     "name": "stderr",
     "output_type": "stream",
     "text": [
      "FactorBP/FactorGraph.py:399: DeprecationWarning: PyArray_FromDims: use PyArray_SimpleNew.\n  def GetDecode(self): return _FactorGraph.CFactorGraph_GetDecode(self)\nFactorBP/FactorGraph.py:399: DeprecationWarning: PyArray_FromDimsAndDataAndDescr: use PyArray_NewFromDescr.\n  def GetDecode(self): return _FactorGraph.CFactorGraph_GetDecode(self)\n"
     ]
    },
    {
     "name": "stderr",
     "output_type": "stream",
     "text": [
      "FactorBP/FactorGraph.py:399: DeprecationWarning: PyArray_FromDims: use PyArray_SimpleNew.\n  def GetDecode(self): return _FactorGraph.CFactorGraph_GetDecode(self)\nFactorBP/FactorGraph.py:399: DeprecationWarning: PyArray_FromDimsAndDataAndDescr: use PyArray_NewFromDescr.\n  def GetDecode(self): return _FactorGraph.CFactorGraph_GetDecode(self)\n"
     ]
    },
    {
     "name": "stderr",
     "output_type": "stream",
     "text": [
      "FactorBP/FactorGraph.py:399: DeprecationWarning: PyArray_FromDims: use PyArray_SimpleNew.\n  def GetDecode(self): return _FactorGraph.CFactorGraph_GetDecode(self)\nFactorBP/FactorGraph.py:399: DeprecationWarning: PyArray_FromDimsAndDataAndDescr: use PyArray_NewFromDescr.\n  def GetDecode(self): return _FactorGraph.CFactorGraph_GetDecode(self)\n"
     ]
    },
    {
     "name": "stderr",
     "output_type": "stream",
     "text": [
      "FactorBP/FactorGraph.py:399: DeprecationWarning: PyArray_FromDims: use PyArray_SimpleNew.\n  def GetDecode(self): return _FactorGraph.CFactorGraph_GetDecode(self)\nFactorBP/FactorGraph.py:399: DeprecationWarning: PyArray_FromDimsAndDataAndDescr: use PyArray_NewFromDescr.\n  def GetDecode(self): return _FactorGraph.CFactorGraph_GetDecode(self)\n"
     ]
    },
    {
     "name": "stderr",
     "output_type": "stream",
     "text": [
      "FactorBP/FactorGraph.py:399: DeprecationWarning: PyArray_FromDims: use PyArray_SimpleNew.\n  def GetDecode(self): return _FactorGraph.CFactorGraph_GetDecode(self)\nFactorBP/FactorGraph.py:399: DeprecationWarning: PyArray_FromDimsAndDataAndDescr: use PyArray_NewFromDescr.\n  def GetDecode(self): return _FactorGraph.CFactorGraph_GetDecode(self)\n"
     ]
    },
    {
     "name": "stderr",
     "output_type": "stream",
     "text": [
      "FactorBP/FactorGraph.py:399: DeprecationWarning: PyArray_FromDims: use PyArray_SimpleNew.\n  def GetDecode(self): return _FactorGraph.CFactorGraph_GetDecode(self)\nFactorBP/FactorGraph.py:399: DeprecationWarning: PyArray_FromDimsAndDataAndDescr: use PyArray_NewFromDescr.\n  def GetDecode(self): return _FactorGraph.CFactorGraph_GetDecode(self)\n"
     ]
    },
    {
     "name": "stderr",
     "output_type": "stream",
     "text": [
      "FactorBP/FactorGraph.py:399: DeprecationWarning: PyArray_FromDims: use PyArray_SimpleNew.\n  def GetDecode(self): return _FactorGraph.CFactorGraph_GetDecode(self)\nFactorBP/FactorGraph.py:399: DeprecationWarning: PyArray_FromDimsAndDataAndDescr: use PyArray_NewFromDescr.\n  def GetDecode(self): return _FactorGraph.CFactorGraph_GetDecode(self)\n"
     ]
    },
    {
     "name": "stderr",
     "output_type": "stream",
     "text": [
      "FactorBP/FactorGraph.py:399: DeprecationWarning: PyArray_FromDims: use PyArray_SimpleNew.\n  def GetDecode(self): return _FactorGraph.CFactorGraph_GetDecode(self)\nFactorBP/FactorGraph.py:399: DeprecationWarning: PyArray_FromDimsAndDataAndDescr: use PyArray_NewFromDescr.\n  def GetDecode(self): return _FactorGraph.CFactorGraph_GetDecode(self)\n"
     ]
    },
    {
     "name": "stderr",
     "output_type": "stream",
     "text": [
      "FactorBP/FactorGraph.py:399: DeprecationWarning: PyArray_FromDims: use PyArray_SimpleNew.\n  def GetDecode(self): return _FactorGraph.CFactorGraph_GetDecode(self)\nFactorBP/FactorGraph.py:399: DeprecationWarning: PyArray_FromDimsAndDataAndDescr: use PyArray_NewFromDescr.\n  def GetDecode(self): return _FactorGraph.CFactorGraph_GetDecode(self)\n"
     ]
    },
    {
     "name": "stderr",
     "output_type": "stream",
     "text": [
      "FactorBP/FactorGraph.py:399: DeprecationWarning: PyArray_FromDims: use PyArray_SimpleNew.\n  def GetDecode(self): return _FactorGraph.CFactorGraph_GetDecode(self)\nFactorBP/FactorGraph.py:399: DeprecationWarning: PyArray_FromDimsAndDataAndDescr: use PyArray_NewFromDescr.\n  def GetDecode(self): return _FactorGraph.CFactorGraph_GetDecode(self)\n"
     ]
    },
    {
     "name": "stderr",
     "output_type": "stream",
     "text": [
      "FactorBP/FactorGraph.py:399: DeprecationWarning: PyArray_FromDims: use PyArray_SimpleNew.\n  def GetDecode(self): return _FactorGraph.CFactorGraph_GetDecode(self)\nFactorBP/FactorGraph.py:399: DeprecationWarning: PyArray_FromDimsAndDataAndDescr: use PyArray_NewFromDescr.\n  def GetDecode(self): return _FactorGraph.CFactorGraph_GetDecode(self)\n"
     ]
    },
    {
     "name": "stderr",
     "output_type": "stream",
     "text": [
      "FactorBP/FactorGraph.py:399: DeprecationWarning: PyArray_FromDims: use PyArray_SimpleNew.\n  def GetDecode(self): return _FactorGraph.CFactorGraph_GetDecode(self)\nFactorBP/FactorGraph.py:399: DeprecationWarning: PyArray_FromDimsAndDataAndDescr: use PyArray_NewFromDescr.\n  def GetDecode(self): return _FactorGraph.CFactorGraph_GetDecode(self)\n"
     ]
    },
    {
     "name": "stderr",
     "output_type": "stream",
     "text": [
      "FactorBP/FactorGraph.py:399: DeprecationWarning: PyArray_FromDims: use PyArray_SimpleNew.\n  def GetDecode(self): return _FactorGraph.CFactorGraph_GetDecode(self)\nFactorBP/FactorGraph.py:399: DeprecationWarning: PyArray_FromDimsAndDataAndDescr: use PyArray_NewFromDescr.\n  def GetDecode(self): return _FactorGraph.CFactorGraph_GetDecode(self)\n"
     ]
    },
    {
     "name": "stdout",
     "output_type": "stream",
     "text": [
      "Ours Accuracy 1.000000 Running Time 0.141739 Obj 1.000000\nOurs-BCA Accuracy 1.000000 Running Time 0.170270 Obj 1.000000\nBCA Accuracy 0.993443 Running Time 0.018036 Obj 0.996708\nBCA-MP Accuracy 1.000000 Running Time 0.106536 Obj 1.000000\nBCA-IPFP Accuracy 1.000000 Running Time 0.080583 Obj 1.000000\nHGM Accuracy 0.531694 Running Time 0.003796 Obj 0.728015\nRRWHM Accuracy 1.000000 Running Time 0.060792 Obj 1.000000\nTM Accuracy 0.508743 Running Time 0.061677 Obj 0.773002\n××××××××××××××××××××\n Start baseline: 60\n"
     ]
    },
    {
     "name": "stderr",
     "output_type": "stream",
     "text": [
      "FactorBP/FactorGraph.py:399: DeprecationWarning: PyArray_FromDims: use PyArray_SimpleNew.\n  def GetDecode(self): return _FactorGraph.CFactorGraph_GetDecode(self)\nFactorBP/FactorGraph.py:399: DeprecationWarning: PyArray_FromDimsAndDataAndDescr: use PyArray_NewFromDescr.\n  def GetDecode(self): return _FactorGraph.CFactorGraph_GetDecode(self)\n"
     ]
    },
    {
     "name": "stderr",
     "output_type": "stream",
     "text": [
      "FactorBP/FactorGraph.py:399: DeprecationWarning: PyArray_FromDims: use PyArray_SimpleNew.\n  def GetDecode(self): return _FactorGraph.CFactorGraph_GetDecode(self)\nFactorBP/FactorGraph.py:399: DeprecationWarning: PyArray_FromDimsAndDataAndDescr: use PyArray_NewFromDescr.\n  def GetDecode(self): return _FactorGraph.CFactorGraph_GetDecode(self)\nFactorBP/FactorGraph.py:399: DeprecationWarning: PyArray_FromDims: use PyArray_SimpleNew.\n  def GetDecode(self): return _FactorGraph.CFactorGraph_GetDecode(self)\nFactorBP/FactorGraph.py:399: DeprecationWarning: PyArray_FromDimsAndDataAndDescr: use PyArray_NewFromDescr.\n  def GetDecode(self): return _FactorGraph.CFactorGraph_GetDecode(self)\n"
     ]
    },
    {
     "name": "stderr",
     "output_type": "stream",
     "text": [
      "FactorBP/FactorGraph.py:399: DeprecationWarning: PyArray_FromDims: use PyArray_SimpleNew.\n  def GetDecode(self): return _FactorGraph.CFactorGraph_GetDecode(self)\nFactorBP/FactorGraph.py:399: DeprecationWarning: PyArray_FromDimsAndDataAndDescr: use PyArray_NewFromDescr.\n  def GetDecode(self): return _FactorGraph.CFactorGraph_GetDecode(self)\n"
     ]
    },
    {
     "name": "stderr",
     "output_type": "stream",
     "text": [
      "FactorBP/FactorGraph.py:399: DeprecationWarning: PyArray_FromDims: use PyArray_SimpleNew.\n  def GetDecode(self): return _FactorGraph.CFactorGraph_GetDecode(self)\nFactorBP/FactorGraph.py:399: DeprecationWarning: PyArray_FromDimsAndDataAndDescr: use PyArray_NewFromDescr.\n  def GetDecode(self): return _FactorGraph.CFactorGraph_GetDecode(self)\n"
     ]
    },
    {
     "name": "stderr",
     "output_type": "stream",
     "text": [
      "FactorBP/FactorGraph.py:399: DeprecationWarning: PyArray_FromDims: use PyArray_SimpleNew.\n  def GetDecode(self): return _FactorGraph.CFactorGraph_GetDecode(self)\nFactorBP/FactorGraph.py:399: DeprecationWarning: PyArray_FromDimsAndDataAndDescr: use PyArray_NewFromDescr.\n  def GetDecode(self): return _FactorGraph.CFactorGraph_GetDecode(self)\n"
     ]
    },
    {
     "name": "stderr",
     "output_type": "stream",
     "text": [
      "FactorBP/FactorGraph.py:399: DeprecationWarning: PyArray_FromDims: use PyArray_SimpleNew.\n  def GetDecode(self): return _FactorGraph.CFactorGraph_GetDecode(self)\nFactorBP/FactorGraph.py:399: DeprecationWarning: PyArray_FromDimsAndDataAndDescr: use PyArray_NewFromDescr.\n  def GetDecode(self): return _FactorGraph.CFactorGraph_GetDecode(self)\nFactorBP/FactorGraph.py:399: DeprecationWarning: PyArray_FromDims: use PyArray_SimpleNew.\n  def GetDecode(self): return _FactorGraph.CFactorGraph_GetDecode(self)\nFactorBP/FactorGraph.py:399: DeprecationWarning: PyArray_FromDimsAndDataAndDescr: use PyArray_NewFromDescr.\n  def GetDecode(self): return _FactorGraph.CFactorGraph_GetDecode(self)\nFactorBP/FactorGraph.py:399: DeprecationWarning: PyArray_FromDims: use PyArray_SimpleNew.\n  def GetDecode(self): return _FactorGraph.CFactorGraph_GetDecode(self)\nFactorBP/FactorGraph.py:399: DeprecationWarning: PyArray_FromDimsAndDataAndDescr: use PyArray_NewFromDescr.\n  def GetDecode(self): return _FactorGraph.CFactorGraph_GetDecode(self)\n"
     ]
    },
    {
     "name": "stderr",
     "output_type": "stream",
     "text": [
      "FactorBP/FactorGraph.py:399: DeprecationWarning: PyArray_FromDims: use PyArray_SimpleNew.\n  def GetDecode(self): return _FactorGraph.CFactorGraph_GetDecode(self)\nFactorBP/FactorGraph.py:399: DeprecationWarning: PyArray_FromDimsAndDataAndDescr: use PyArray_NewFromDescr.\n  def GetDecode(self): return _FactorGraph.CFactorGraph_GetDecode(self)\n"
     ]
    },
    {
     "name": "stderr",
     "output_type": "stream",
     "text": [
      "FactorBP/FactorGraph.py:399: DeprecationWarning: PyArray_FromDims: use PyArray_SimpleNew.\n  def GetDecode(self): return _FactorGraph.CFactorGraph_GetDecode(self)\nFactorBP/FactorGraph.py:399: DeprecationWarning: PyArray_FromDimsAndDataAndDescr: use PyArray_NewFromDescr.\n  def GetDecode(self): return _FactorGraph.CFactorGraph_GetDecode(self)\nFactorBP/FactorGraph.py:399: DeprecationWarning: PyArray_FromDims: use PyArray_SimpleNew.\n  def GetDecode(self): return _FactorGraph.CFactorGraph_GetDecode(self)\nFactorBP/FactorGraph.py:399: DeprecationWarning: PyArray_FromDimsAndDataAndDescr: use PyArray_NewFromDescr.\n  def GetDecode(self): return _FactorGraph.CFactorGraph_GetDecode(self)\nFactorBP/FactorGraph.py:399: DeprecationWarning: PyArray_FromDims: use PyArray_SimpleNew.\n  def GetDecode(self): return _FactorGraph.CFactorGraph_GetDecode(self)\nFactorBP/FactorGraph.py:399: DeprecationWarning: PyArray_FromDimsAndDataAndDescr: use PyArray_NewFromDescr.\n  def GetDecode(self): return _FactorGraph.CFactorGraph_GetDecode(self)\n"
     ]
    },
    {
     "name": "stderr",
     "output_type": "stream",
     "text": [
      "FactorBP/FactorGraph.py:399: DeprecationWarning: PyArray_FromDims: use PyArray_SimpleNew.\n  def GetDecode(self): return _FactorGraph.CFactorGraph_GetDecode(self)\nFactorBP/FactorGraph.py:399: DeprecationWarning: PyArray_FromDimsAndDataAndDescr: use PyArray_NewFromDescr.\n  def GetDecode(self): return _FactorGraph.CFactorGraph_GetDecode(self)\n"
     ]
    },
    {
     "name": "stderr",
     "output_type": "stream",
     "text": [
      "FactorBP/FactorGraph.py:399: DeprecationWarning: PyArray_FromDims: use PyArray_SimpleNew.\n  def GetDecode(self): return _FactorGraph.CFactorGraph_GetDecode(self)\nFactorBP/FactorGraph.py:399: DeprecationWarning: PyArray_FromDimsAndDataAndDescr: use PyArray_NewFromDescr.\n  def GetDecode(self): return _FactorGraph.CFactorGraph_GetDecode(self)\nFactorBP/FactorGraph.py:399: DeprecationWarning: PyArray_FromDims: use PyArray_SimpleNew.\n  def GetDecode(self): return _FactorGraph.CFactorGraph_GetDecode(self)\nFactorBP/FactorGraph.py:399: DeprecationWarning: PyArray_FromDimsAndDataAndDescr: use PyArray_NewFromDescr.\n  def GetDecode(self): return _FactorGraph.CFactorGraph_GetDecode(self)\nFactorBP/FactorGraph.py:399: DeprecationWarning: PyArray_FromDims: use PyArray_SimpleNew.\n  def GetDecode(self): return _FactorGraph.CFactorGraph_GetDecode(self)\nFactorBP/FactorGraph.py:399: DeprecationWarning: PyArray_FromDimsAndDataAndDescr: use PyArray_NewFromDescr.\n  def GetDecode(self): return _FactorGraph.CFactorGraph_GetDecode(self)\n"
     ]
    },
    {
     "name": "stderr",
     "output_type": "stream",
     "text": [
      "FactorBP/FactorGraph.py:399: DeprecationWarning: PyArray_FromDims: use PyArray_SimpleNew.\n  def GetDecode(self): return _FactorGraph.CFactorGraph_GetDecode(self)\nFactorBP/FactorGraph.py:399: DeprecationWarning: PyArray_FromDimsAndDataAndDescr: use PyArray_NewFromDescr.\n  def GetDecode(self): return _FactorGraph.CFactorGraph_GetDecode(self)\nFactorBP/FactorGraph.py:399: DeprecationWarning: PyArray_FromDims: use PyArray_SimpleNew.\n  def GetDecode(self): return _FactorGraph.CFactorGraph_GetDecode(self)\nFactorBP/FactorGraph.py:399: DeprecationWarning: PyArray_FromDimsAndDataAndDescr: use PyArray_NewFromDescr.\n  def GetDecode(self): return _FactorGraph.CFactorGraph_GetDecode(self)\n"
     ]
    },
    {
     "name": "stderr",
     "output_type": "stream",
     "text": [
      "FactorBP/FactorGraph.py:399: DeprecationWarning: PyArray_FromDims: use PyArray_SimpleNew.\n  def GetDecode(self): return _FactorGraph.CFactorGraph_GetDecode(self)\nFactorBP/FactorGraph.py:399: DeprecationWarning: PyArray_FromDimsAndDataAndDescr: use PyArray_NewFromDescr.\n  def GetDecode(self): return _FactorGraph.CFactorGraph_GetDecode(self)\n"
     ]
    },
    {
     "name": "stderr",
     "output_type": "stream",
     "text": [
      "FactorBP/FactorGraph.py:399: DeprecationWarning: PyArray_FromDims: use PyArray_SimpleNew.\n  def GetDecode(self): return _FactorGraph.CFactorGraph_GetDecode(self)\nFactorBP/FactorGraph.py:399: DeprecationWarning: PyArray_FromDimsAndDataAndDescr: use PyArray_NewFromDescr.\n  def GetDecode(self): return _FactorGraph.CFactorGraph_GetDecode(self)\n"
     ]
    },
    {
     "name": "stderr",
     "output_type": "stream",
     "text": [
      "FactorBP/FactorGraph.py:399: DeprecationWarning: PyArray_FromDims: use PyArray_SimpleNew.\n  def GetDecode(self): return _FactorGraph.CFactorGraph_GetDecode(self)\nFactorBP/FactorGraph.py:399: DeprecationWarning: PyArray_FromDimsAndDataAndDescr: use PyArray_NewFromDescr.\n  def GetDecode(self): return _FactorGraph.CFactorGraph_GetDecode(self)\n"
     ]
    },
    {
     "name": "stderr",
     "output_type": "stream",
     "text": [
      "FactorBP/FactorGraph.py:399: DeprecationWarning: PyArray_FromDims: use PyArray_SimpleNew.\n  def GetDecode(self): return _FactorGraph.CFactorGraph_GetDecode(self)\nFactorBP/FactorGraph.py:399: DeprecationWarning: PyArray_FromDimsAndDataAndDescr: use PyArray_NewFromDescr.\n  def GetDecode(self): return _FactorGraph.CFactorGraph_GetDecode(self)\n"
     ]
    },
    {
     "name": "stderr",
     "output_type": "stream",
     "text": [
      "FactorBP/FactorGraph.py:399: DeprecationWarning: PyArray_FromDims: use PyArray_SimpleNew.\n  def GetDecode(self): return _FactorGraph.CFactorGraph_GetDecode(self)\nFactorBP/FactorGraph.py:399: DeprecationWarning: PyArray_FromDimsAndDataAndDescr: use PyArray_NewFromDescr.\n  def GetDecode(self): return _FactorGraph.CFactorGraph_GetDecode(self)\nFactorBP/FactorGraph.py:399: DeprecationWarning: PyArray_FromDims: use PyArray_SimpleNew.\n  def GetDecode(self): return _FactorGraph.CFactorGraph_GetDecode(self)\nFactorBP/FactorGraph.py:399: DeprecationWarning: PyArray_FromDimsAndDataAndDescr: use PyArray_NewFromDescr.\n  def GetDecode(self): return _FactorGraph.CFactorGraph_GetDecode(self)\n"
     ]
    },
    {
     "name": "stderr",
     "output_type": "stream",
     "text": [
      "FactorBP/FactorGraph.py:399: DeprecationWarning: PyArray_FromDims: use PyArray_SimpleNew.\n  def GetDecode(self): return _FactorGraph.CFactorGraph_GetDecode(self)\nFactorBP/FactorGraph.py:399: DeprecationWarning: PyArray_FromDimsAndDataAndDescr: use PyArray_NewFromDescr.\n  def GetDecode(self): return _FactorGraph.CFactorGraph_GetDecode(self)\n"
     ]
    },
    {
     "name": "stderr",
     "output_type": "stream",
     "text": [
      "FactorBP/FactorGraph.py:399: DeprecationWarning: PyArray_FromDims: use PyArray_SimpleNew.\n  def GetDecode(self): return _FactorGraph.CFactorGraph_GetDecode(self)\nFactorBP/FactorGraph.py:399: DeprecationWarning: PyArray_FromDimsAndDataAndDescr: use PyArray_NewFromDescr.\n  def GetDecode(self): return _FactorGraph.CFactorGraph_GetDecode(self)\n"
     ]
    },
    {
     "name": "stderr",
     "output_type": "stream",
     "text": [
      "FactorBP/FactorGraph.py:399: DeprecationWarning: PyArray_FromDims: use PyArray_SimpleNew.\n  def GetDecode(self): return _FactorGraph.CFactorGraph_GetDecode(self)\nFactorBP/FactorGraph.py:399: DeprecationWarning: PyArray_FromDimsAndDataAndDescr: use PyArray_NewFromDescr.\n  def GetDecode(self): return _FactorGraph.CFactorGraph_GetDecode(self)\n"
     ]
    },
    {
     "name": "stderr",
     "output_type": "stream",
     "text": [
      "FactorBP/FactorGraph.py:399: DeprecationWarning: PyArray_FromDims: use PyArray_SimpleNew.\n  def GetDecode(self): return _FactorGraph.CFactorGraph_GetDecode(self)\nFactorBP/FactorGraph.py:399: DeprecationWarning: PyArray_FromDimsAndDataAndDescr: use PyArray_NewFromDescr.\n  def GetDecode(self): return _FactorGraph.CFactorGraph_GetDecode(self)\n"
     ]
    },
    {
     "name": "stderr",
     "output_type": "stream",
     "text": [
      "FactorBP/FactorGraph.py:399: DeprecationWarning: PyArray_FromDims: use PyArray_SimpleNew.\n  def GetDecode(self): return _FactorGraph.CFactorGraph_GetDecode(self)\nFactorBP/FactorGraph.py:399: DeprecationWarning: PyArray_FromDimsAndDataAndDescr: use PyArray_NewFromDescr.\n  def GetDecode(self): return _FactorGraph.CFactorGraph_GetDecode(self)\n"
     ]
    },
    {
     "name": "stderr",
     "output_type": "stream",
     "text": [
      "FactorBP/FactorGraph.py:399: DeprecationWarning: PyArray_FromDims: use PyArray_SimpleNew.\n  def GetDecode(self): return _FactorGraph.CFactorGraph_GetDecode(self)\nFactorBP/FactorGraph.py:399: DeprecationWarning: PyArray_FromDimsAndDataAndDescr: use PyArray_NewFromDescr.\n  def GetDecode(self): return _FactorGraph.CFactorGraph_GetDecode(self)\n"
     ]
    },
    {
     "name": "stderr",
     "output_type": "stream",
     "text": [
      "FactorBP/FactorGraph.py:399: DeprecationWarning: PyArray_FromDims: use PyArray_SimpleNew.\n  def GetDecode(self): return _FactorGraph.CFactorGraph_GetDecode(self)\nFactorBP/FactorGraph.py:399: DeprecationWarning: PyArray_FromDimsAndDataAndDescr: use PyArray_NewFromDescr.\n  def GetDecode(self): return _FactorGraph.CFactorGraph_GetDecode(self)\n"
     ]
    },
    {
     "name": "stderr",
     "output_type": "stream",
     "text": [
      "FactorBP/FactorGraph.py:399: DeprecationWarning: PyArray_FromDims: use PyArray_SimpleNew.\n  def GetDecode(self): return _FactorGraph.CFactorGraph_GetDecode(self)\nFactorBP/FactorGraph.py:399: DeprecationWarning: PyArray_FromDimsAndDataAndDescr: use PyArray_NewFromDescr.\n  def GetDecode(self): return _FactorGraph.CFactorGraph_GetDecode(self)\n"
     ]
    },
    {
     "name": "stderr",
     "output_type": "stream",
     "text": [
      "FactorBP/FactorGraph.py:399: DeprecationWarning: PyArray_FromDims: use PyArray_SimpleNew.\n  def GetDecode(self): return _FactorGraph.CFactorGraph_GetDecode(self)\nFactorBP/FactorGraph.py:399: DeprecationWarning: PyArray_FromDimsAndDataAndDescr: use PyArray_NewFromDescr.\n  def GetDecode(self): return _FactorGraph.CFactorGraph_GetDecode(self)\n"
     ]
    },
    {
     "name": "stderr",
     "output_type": "stream",
     "text": [
      "FactorBP/FactorGraph.py:399: DeprecationWarning: PyArray_FromDims: use PyArray_SimpleNew.\n  def GetDecode(self): return _FactorGraph.CFactorGraph_GetDecode(self)\nFactorBP/FactorGraph.py:399: DeprecationWarning: PyArray_FromDimsAndDataAndDescr: use PyArray_NewFromDescr.\n  def GetDecode(self): return _FactorGraph.CFactorGraph_GetDecode(self)\n"
     ]
    },
    {
     "name": "stderr",
     "output_type": "stream",
     "text": [
      "FactorBP/FactorGraph.py:399: DeprecationWarning: PyArray_FromDims: use PyArray_SimpleNew.\n  def GetDecode(self): return _FactorGraph.CFactorGraph_GetDecode(self)\nFactorBP/FactorGraph.py:399: DeprecationWarning: PyArray_FromDimsAndDataAndDescr: use PyArray_NewFromDescr.\n  def GetDecode(self): return _FactorGraph.CFactorGraph_GetDecode(self)\n"
     ]
    },
    {
     "name": "stderr",
     "output_type": "stream",
     "text": [
      "FactorBP/FactorGraph.py:399: DeprecationWarning: PyArray_FromDims: use PyArray_SimpleNew.\n  def GetDecode(self): return _FactorGraph.CFactorGraph_GetDecode(self)\nFactorBP/FactorGraph.py:399: DeprecationWarning: PyArray_FromDimsAndDataAndDescr: use PyArray_NewFromDescr.\n  def GetDecode(self): return _FactorGraph.CFactorGraph_GetDecode(self)\nFactorBP/FactorGraph.py:399: DeprecationWarning: PyArray_FromDims: use PyArray_SimpleNew.\n  def GetDecode(self): return _FactorGraph.CFactorGraph_GetDecode(self)\nFactorBP/FactorGraph.py:399: DeprecationWarning: PyArray_FromDimsAndDataAndDescr: use PyArray_NewFromDescr.\n  def GetDecode(self): return _FactorGraph.CFactorGraph_GetDecode(self)\n"
     ]
    },
    {
     "name": "stderr",
     "output_type": "stream",
     "text": [
      "FactorBP/FactorGraph.py:399: DeprecationWarning: PyArray_FromDims: use PyArray_SimpleNew.\n  def GetDecode(self): return _FactorGraph.CFactorGraph_GetDecode(self)\nFactorBP/FactorGraph.py:399: DeprecationWarning: PyArray_FromDimsAndDataAndDescr: use PyArray_NewFromDescr.\n  def GetDecode(self): return _FactorGraph.CFactorGraph_GetDecode(self)\nFactorBP/FactorGraph.py:399: DeprecationWarning: PyArray_FromDims: use PyArray_SimpleNew.\n  def GetDecode(self): return _FactorGraph.CFactorGraph_GetDecode(self)\nFactorBP/FactorGraph.py:399: DeprecationWarning: PyArray_FromDimsAndDataAndDescr: use PyArray_NewFromDescr.\n  def GetDecode(self): return _FactorGraph.CFactorGraph_GetDecode(self)\n"
     ]
    },
    {
     "name": "stderr",
     "output_type": "stream",
     "text": [
      "FactorBP/FactorGraph.py:399: DeprecationWarning: PyArray_FromDims: use PyArray_SimpleNew.\n  def GetDecode(self): return _FactorGraph.CFactorGraph_GetDecode(self)\nFactorBP/FactorGraph.py:399: DeprecationWarning: PyArray_FromDimsAndDataAndDescr: use PyArray_NewFromDescr.\n  def GetDecode(self): return _FactorGraph.CFactorGraph_GetDecode(self)\n"
     ]
    },
    {
     "name": "stderr",
     "output_type": "stream",
     "text": [
      "FactorBP/FactorGraph.py:399: DeprecationWarning: PyArray_FromDims: use PyArray_SimpleNew.\n  def GetDecode(self): return _FactorGraph.CFactorGraph_GetDecode(self)\nFactorBP/FactorGraph.py:399: DeprecationWarning: PyArray_FromDimsAndDataAndDescr: use PyArray_NewFromDescr.\n  def GetDecode(self): return _FactorGraph.CFactorGraph_GetDecode(self)\n"
     ]
    },
    {
     "name": "stderr",
     "output_type": "stream",
     "text": [
      "FactorBP/FactorGraph.py:399: DeprecationWarning: PyArray_FromDims: use PyArray_SimpleNew.\n  def GetDecode(self): return _FactorGraph.CFactorGraph_GetDecode(self)\nFactorBP/FactorGraph.py:399: DeprecationWarning: PyArray_FromDimsAndDataAndDescr: use PyArray_NewFromDescr.\n  def GetDecode(self): return _FactorGraph.CFactorGraph_GetDecode(self)\n"
     ]
    },
    {
     "name": "stderr",
     "output_type": "stream",
     "text": [
      "FactorBP/FactorGraph.py:399: DeprecationWarning: PyArray_FromDims: use PyArray_SimpleNew.\n  def GetDecode(self): return _FactorGraph.CFactorGraph_GetDecode(self)\nFactorBP/FactorGraph.py:399: DeprecationWarning: PyArray_FromDimsAndDataAndDescr: use PyArray_NewFromDescr.\n  def GetDecode(self): return _FactorGraph.CFactorGraph_GetDecode(self)\n"
     ]
    },
    {
     "name": "stderr",
     "output_type": "stream",
     "text": [
      "FactorBP/FactorGraph.py:399: DeprecationWarning: PyArray_FromDims: use PyArray_SimpleNew.\n  def GetDecode(self): return _FactorGraph.CFactorGraph_GetDecode(self)\nFactorBP/FactorGraph.py:399: DeprecationWarning: PyArray_FromDimsAndDataAndDescr: use PyArray_NewFromDescr.\n  def GetDecode(self): return _FactorGraph.CFactorGraph_GetDecode(self)\nFactorBP/FactorGraph.py:399: DeprecationWarning: PyArray_FromDims: use PyArray_SimpleNew.\n  def GetDecode(self): return _FactorGraph.CFactorGraph_GetDecode(self)\nFactorBP/FactorGraph.py:399: DeprecationWarning: PyArray_FromDimsAndDataAndDescr: use PyArray_NewFromDescr.\n  def GetDecode(self): return _FactorGraph.CFactorGraph_GetDecode(self)\n"
     ]
    },
    {
     "name": "stderr",
     "output_type": "stream",
     "text": [
      "FactorBP/FactorGraph.py:399: DeprecationWarning: PyArray_FromDims: use PyArray_SimpleNew.\n  def GetDecode(self): return _FactorGraph.CFactorGraph_GetDecode(self)\nFactorBP/FactorGraph.py:399: DeprecationWarning: PyArray_FromDimsAndDataAndDescr: use PyArray_NewFromDescr.\n  def GetDecode(self): return _FactorGraph.CFactorGraph_GetDecode(self)\n"
     ]
    },
    {
     "name": "stderr",
     "output_type": "stream",
     "text": [
      "FactorBP/FactorGraph.py:399: DeprecationWarning: PyArray_FromDims: use PyArray_SimpleNew.\n  def GetDecode(self): return _FactorGraph.CFactorGraph_GetDecode(self)\nFactorBP/FactorGraph.py:399: DeprecationWarning: PyArray_FromDimsAndDataAndDescr: use PyArray_NewFromDescr.\n  def GetDecode(self): return _FactorGraph.CFactorGraph_GetDecode(self)\n"
     ]
    },
    {
     "name": "stderr",
     "output_type": "stream",
     "text": [
      "FactorBP/FactorGraph.py:399: DeprecationWarning: PyArray_FromDims: use PyArray_SimpleNew.\n  def GetDecode(self): return _FactorGraph.CFactorGraph_GetDecode(self)\nFactorBP/FactorGraph.py:399: DeprecationWarning: PyArray_FromDimsAndDataAndDescr: use PyArray_NewFromDescr.\n  def GetDecode(self): return _FactorGraph.CFactorGraph_GetDecode(self)\n"
     ]
    },
    {
     "name": "stderr",
     "output_type": "stream",
     "text": [
      "FactorBP/FactorGraph.py:399: DeprecationWarning: PyArray_FromDims: use PyArray_SimpleNew.\n  def GetDecode(self): return _FactorGraph.CFactorGraph_GetDecode(self)\nFactorBP/FactorGraph.py:399: DeprecationWarning: PyArray_FromDimsAndDataAndDescr: use PyArray_NewFromDescr.\n  def GetDecode(self): return _FactorGraph.CFactorGraph_GetDecode(self)\n"
     ]
    },
    {
     "name": "stderr",
     "output_type": "stream",
     "text": [
      "FactorBP/FactorGraph.py:399: DeprecationWarning: PyArray_FromDims: use PyArray_SimpleNew.\n  def GetDecode(self): return _FactorGraph.CFactorGraph_GetDecode(self)\nFactorBP/FactorGraph.py:399: DeprecationWarning: PyArray_FromDimsAndDataAndDescr: use PyArray_NewFromDescr.\n  def GetDecode(self): return _FactorGraph.CFactorGraph_GetDecode(self)\n"
     ]
    },
    {
     "name": "stderr",
     "output_type": "stream",
     "text": [
      "FactorBP/FactorGraph.py:399: DeprecationWarning: PyArray_FromDims: use PyArray_SimpleNew.\n  def GetDecode(self): return _FactorGraph.CFactorGraph_GetDecode(self)\nFactorBP/FactorGraph.py:399: DeprecationWarning: PyArray_FromDimsAndDataAndDescr: use PyArray_NewFromDescr.\n  def GetDecode(self): return _FactorGraph.CFactorGraph_GetDecode(self)\n"
     ]
    },
    {
     "name": "stderr",
     "output_type": "stream",
     "text": [
      "FactorBP/FactorGraph.py:399: DeprecationWarning: PyArray_FromDims: use PyArray_SimpleNew.\n  def GetDecode(self): return _FactorGraph.CFactorGraph_GetDecode(self)\nFactorBP/FactorGraph.py:399: DeprecationWarning: PyArray_FromDimsAndDataAndDescr: use PyArray_NewFromDescr.\n  def GetDecode(self): return _FactorGraph.CFactorGraph_GetDecode(self)\nFactorBP/FactorGraph.py:399: DeprecationWarning: PyArray_FromDims: use PyArray_SimpleNew.\n  def GetDecode(self): return _FactorGraph.CFactorGraph_GetDecode(self)\nFactorBP/FactorGraph.py:399: DeprecationWarning: PyArray_FromDimsAndDataAndDescr: use PyArray_NewFromDescr.\n  def GetDecode(self): return _FactorGraph.CFactorGraph_GetDecode(self)\n"
     ]
    },
    {
     "name": "stderr",
     "output_type": "stream",
     "text": [
      "FactorBP/FactorGraph.py:399: DeprecationWarning: PyArray_FromDims: use PyArray_SimpleNew.\n  def GetDecode(self): return _FactorGraph.CFactorGraph_GetDecode(self)\nFactorBP/FactorGraph.py:399: DeprecationWarning: PyArray_FromDimsAndDataAndDescr: use PyArray_NewFromDescr.\n  def GetDecode(self): return _FactorGraph.CFactorGraph_GetDecode(self)\nFactorBP/FactorGraph.py:399: DeprecationWarning: PyArray_FromDims: use PyArray_SimpleNew.\n  def GetDecode(self): return _FactorGraph.CFactorGraph_GetDecode(self)\nFactorBP/FactorGraph.py:399: DeprecationWarning: PyArray_FromDimsAndDataAndDescr: use PyArray_NewFromDescr.\n  def GetDecode(self): return _FactorGraph.CFactorGraph_GetDecode(self)\n"
     ]
    },
    {
     "name": "stderr",
     "output_type": "stream",
     "text": [
      "FactorBP/FactorGraph.py:399: DeprecationWarning: PyArray_FromDims: use PyArray_SimpleNew.\n  def GetDecode(self): return _FactorGraph.CFactorGraph_GetDecode(self)\nFactorBP/FactorGraph.py:399: DeprecationWarning: PyArray_FromDimsAndDataAndDescr: use PyArray_NewFromDescr.\n  def GetDecode(self): return _FactorGraph.CFactorGraph_GetDecode(self)\n"
     ]
    },
    {
     "name": "stderr",
     "output_type": "stream",
     "text": [
      "FactorBP/FactorGraph.py:399: DeprecationWarning: PyArray_FromDims: use PyArray_SimpleNew.\n  def GetDecode(self): return _FactorGraph.CFactorGraph_GetDecode(self)\nFactorBP/FactorGraph.py:399: DeprecationWarning: PyArray_FromDimsAndDataAndDescr: use PyArray_NewFromDescr.\n  def GetDecode(self): return _FactorGraph.CFactorGraph_GetDecode(self)\n"
     ]
    },
    {
     "name": "stderr",
     "output_type": "stream",
     "text": [
      "FactorBP/FactorGraph.py:399: DeprecationWarning: PyArray_FromDims: use PyArray_SimpleNew.\n  def GetDecode(self): return _FactorGraph.CFactorGraph_GetDecode(self)\nFactorBP/FactorGraph.py:399: DeprecationWarning: PyArray_FromDimsAndDataAndDescr: use PyArray_NewFromDescr.\n  def GetDecode(self): return _FactorGraph.CFactorGraph_GetDecode(self)\n"
     ]
    },
    {
     "name": "stderr",
     "output_type": "stream",
     "text": [
      "FactorBP/FactorGraph.py:399: DeprecationWarning: PyArray_FromDims: use PyArray_SimpleNew.\n  def GetDecode(self): return _FactorGraph.CFactorGraph_GetDecode(self)\nFactorBP/FactorGraph.py:399: DeprecationWarning: PyArray_FromDimsAndDataAndDescr: use PyArray_NewFromDescr.\n  def GetDecode(self): return _FactorGraph.CFactorGraph_GetDecode(self)\n"
     ]
    },
    {
     "name": "stderr",
     "output_type": "stream",
     "text": [
      "FactorBP/FactorGraph.py:399: DeprecationWarning: PyArray_FromDims: use PyArray_SimpleNew.\n  def GetDecode(self): return _FactorGraph.CFactorGraph_GetDecode(self)\nFactorBP/FactorGraph.py:399: DeprecationWarning: PyArray_FromDimsAndDataAndDescr: use PyArray_NewFromDescr.\n  def GetDecode(self): return _FactorGraph.CFactorGraph_GetDecode(self)\n"
     ]
    },
    {
     "name": "stderr",
     "output_type": "stream",
     "text": [
      "FactorBP/FactorGraph.py:399: DeprecationWarning: PyArray_FromDims: use PyArray_SimpleNew.\n  def GetDecode(self): return _FactorGraph.CFactorGraph_GetDecode(self)\nFactorBP/FactorGraph.py:399: DeprecationWarning: PyArray_FromDimsAndDataAndDescr: use PyArray_NewFromDescr.\n  def GetDecode(self): return _FactorGraph.CFactorGraph_GetDecode(self)\n"
     ]
    },
    {
     "name": "stderr",
     "output_type": "stream",
     "text": [
      "FactorBP/FactorGraph.py:399: DeprecationWarning: PyArray_FromDims: use PyArray_SimpleNew.\n  def GetDecode(self): return _FactorGraph.CFactorGraph_GetDecode(self)\nFactorBP/FactorGraph.py:399: DeprecationWarning: PyArray_FromDimsAndDataAndDescr: use PyArray_NewFromDescr.\n  def GetDecode(self): return _FactorGraph.CFactorGraph_GetDecode(self)\n"
     ]
    },
    {
     "name": "stderr",
     "output_type": "stream",
     "text": [
      "FactorBP/FactorGraph.py:399: DeprecationWarning: PyArray_FromDims: use PyArray_SimpleNew.\n  def GetDecode(self): return _FactorGraph.CFactorGraph_GetDecode(self)\nFactorBP/FactorGraph.py:399: DeprecationWarning: PyArray_FromDimsAndDataAndDescr: use PyArray_NewFromDescr.\n  def GetDecode(self): return _FactorGraph.CFactorGraph_GetDecode(self)\n"
     ]
    },
    {
     "name": "stderr",
     "output_type": "stream",
     "text": [
      "FactorBP/FactorGraph.py:399: DeprecationWarning: PyArray_FromDims: use PyArray_SimpleNew.\n  def GetDecode(self): return _FactorGraph.CFactorGraph_GetDecode(self)\nFactorBP/FactorGraph.py:399: DeprecationWarning: PyArray_FromDimsAndDataAndDescr: use PyArray_NewFromDescr.\n  def GetDecode(self): return _FactorGraph.CFactorGraph_GetDecode(self)\n"
     ]
    },
    {
     "name": "stdout",
     "output_type": "stream",
     "text": [
      "Ours Accuracy 0.998693 Running Time 0.207385 Obj 0.999795\nOurs-BCA Accuracy 1.000000 Running Time 0.235985 Obj 1.000000\nBCA Accuracy 0.980392 Running Time 0.018149 Obj 0.994266\nBCA-MP Accuracy 0.989542 Running Time 0.119753 Obj 0.998203\nBCA-IPFP Accuracy 0.998693 Running Time 0.081603 Obj 0.999849\nHGM Accuracy 0.475163 Running Time 0.003611 Obj 0.726346\nRRWHM Accuracy 0.994118 Running Time 0.071700 Obj 0.999077\nTM Accuracy 0.475163 Running Time 0.061522 Obj 0.774178\n××××××××××××××××××××\n Start baseline: 70\n"
     ]
    },
    {
     "name": "stderr",
     "output_type": "stream",
     "text": [
      "FactorBP/FactorGraph.py:399: DeprecationWarning: PyArray_FromDims: use PyArray_SimpleNew.\n  def GetDecode(self): return _FactorGraph.CFactorGraph_GetDecode(self)\nFactorBP/FactorGraph.py:399: DeprecationWarning: PyArray_FromDimsAndDataAndDescr: use PyArray_NewFromDescr.\n  def GetDecode(self): return _FactorGraph.CFactorGraph_GetDecode(self)\n"
     ]
    },
    {
     "name": "stderr",
     "output_type": "stream",
     "text": [
      "FactorBP/FactorGraph.py:399: DeprecationWarning: PyArray_FromDims: use PyArray_SimpleNew.\n  def GetDecode(self): return _FactorGraph.CFactorGraph_GetDecode(self)\nFactorBP/FactorGraph.py:399: DeprecationWarning: PyArray_FromDimsAndDataAndDescr: use PyArray_NewFromDescr.\n  def GetDecode(self): return _FactorGraph.CFactorGraph_GetDecode(self)\n"
     ]
    },
    {
     "name": "stderr",
     "output_type": "stream",
     "text": [
      "FactorBP/FactorGraph.py:399: DeprecationWarning: PyArray_FromDims: use PyArray_SimpleNew.\n  def GetDecode(self): return _FactorGraph.CFactorGraph_GetDecode(self)\nFactorBP/FactorGraph.py:399: DeprecationWarning: PyArray_FromDimsAndDataAndDescr: use PyArray_NewFromDescr.\n  def GetDecode(self): return _FactorGraph.CFactorGraph_GetDecode(self)\n"
     ]
    },
    {
     "name": "stderr",
     "output_type": "stream",
     "text": [
      "FactorBP/FactorGraph.py:399: DeprecationWarning: PyArray_FromDims: use PyArray_SimpleNew.\n  def GetDecode(self): return _FactorGraph.CFactorGraph_GetDecode(self)\nFactorBP/FactorGraph.py:399: DeprecationWarning: PyArray_FromDimsAndDataAndDescr: use PyArray_NewFromDescr.\n  def GetDecode(self): return _FactorGraph.CFactorGraph_GetDecode(self)\n"
     ]
    },
    {
     "name": "stderr",
     "output_type": "stream",
     "text": [
      "FactorBP/FactorGraph.py:399: DeprecationWarning: PyArray_FromDims: use PyArray_SimpleNew.\n  def GetDecode(self): return _FactorGraph.CFactorGraph_GetDecode(self)\nFactorBP/FactorGraph.py:399: DeprecationWarning: PyArray_FromDimsAndDataAndDescr: use PyArray_NewFromDescr.\n  def GetDecode(self): return _FactorGraph.CFactorGraph_GetDecode(self)\n"
     ]
    },
    {
     "name": "stderr",
     "output_type": "stream",
     "text": [
      "FactorBP/FactorGraph.py:399: DeprecationWarning: PyArray_FromDims: use PyArray_SimpleNew.\n  def GetDecode(self): return _FactorGraph.CFactorGraph_GetDecode(self)\nFactorBP/FactorGraph.py:399: DeprecationWarning: PyArray_FromDimsAndDataAndDescr: use PyArray_NewFromDescr.\n  def GetDecode(self): return _FactorGraph.CFactorGraph_GetDecode(self)\n"
     ]
    },
    {
     "name": "stderr",
     "output_type": "stream",
     "text": [
      "FactorBP/FactorGraph.py:399: DeprecationWarning: PyArray_FromDims: use PyArray_SimpleNew.\n  def GetDecode(self): return _FactorGraph.CFactorGraph_GetDecode(self)\nFactorBP/FactorGraph.py:399: DeprecationWarning: PyArray_FromDimsAndDataAndDescr: use PyArray_NewFromDescr.\n  def GetDecode(self): return _FactorGraph.CFactorGraph_GetDecode(self)\n"
     ]
    },
    {
     "name": "stderr",
     "output_type": "stream",
     "text": [
      "FactorBP/FactorGraph.py:399: DeprecationWarning: PyArray_FromDims: use PyArray_SimpleNew.\n  def GetDecode(self): return _FactorGraph.CFactorGraph_GetDecode(self)\nFactorBP/FactorGraph.py:399: DeprecationWarning: PyArray_FromDimsAndDataAndDescr: use PyArray_NewFromDescr.\n  def GetDecode(self): return _FactorGraph.CFactorGraph_GetDecode(self)\n"
     ]
    },
    {
     "name": "stderr",
     "output_type": "stream",
     "text": [
      "FactorBP/FactorGraph.py:399: DeprecationWarning: PyArray_FromDims: use PyArray_SimpleNew.\n  def GetDecode(self): return _FactorGraph.CFactorGraph_GetDecode(self)\nFactorBP/FactorGraph.py:399: DeprecationWarning: PyArray_FromDimsAndDataAndDescr: use PyArray_NewFromDescr.\n  def GetDecode(self): return _FactorGraph.CFactorGraph_GetDecode(self)\n"
     ]
    },
    {
     "name": "stderr",
     "output_type": "stream",
     "text": [
      "FactorBP/FactorGraph.py:399: DeprecationWarning: PyArray_FromDims: use PyArray_SimpleNew.\n  def GetDecode(self): return _FactorGraph.CFactorGraph_GetDecode(self)\nFactorBP/FactorGraph.py:399: DeprecationWarning: PyArray_FromDimsAndDataAndDescr: use PyArray_NewFromDescr.\n  def GetDecode(self): return _FactorGraph.CFactorGraph_GetDecode(self)\n"
     ]
    },
    {
     "name": "stderr",
     "output_type": "stream",
     "text": [
      "FactorBP/FactorGraph.py:399: DeprecationWarning: PyArray_FromDims: use PyArray_SimpleNew.\n  def GetDecode(self): return _FactorGraph.CFactorGraph_GetDecode(self)\nFactorBP/FactorGraph.py:399: DeprecationWarning: PyArray_FromDimsAndDataAndDescr: use PyArray_NewFromDescr.\n  def GetDecode(self): return _FactorGraph.CFactorGraph_GetDecode(self)\nFactorBP/FactorGraph.py:399: DeprecationWarning: PyArray_FromDims: use PyArray_SimpleNew.\n  def GetDecode(self): return _FactorGraph.CFactorGraph_GetDecode(self)\nFactorBP/FactorGraph.py:399: DeprecationWarning: PyArray_FromDimsAndDataAndDescr: use PyArray_NewFromDescr.\n  def GetDecode(self): return _FactorGraph.CFactorGraph_GetDecode(self)\n"
     ]
    },
    {
     "name": "stderr",
     "output_type": "stream",
     "text": [
      "FactorBP/FactorGraph.py:399: DeprecationWarning: PyArray_FromDims: use PyArray_SimpleNew.\n  def GetDecode(self): return _FactorGraph.CFactorGraph_GetDecode(self)\nFactorBP/FactorGraph.py:399: DeprecationWarning: PyArray_FromDimsAndDataAndDescr: use PyArray_NewFromDescr.\n  def GetDecode(self): return _FactorGraph.CFactorGraph_GetDecode(self)\n"
     ]
    },
    {
     "name": "stderr",
     "output_type": "stream",
     "text": [
      "FactorBP/FactorGraph.py:399: DeprecationWarning: PyArray_FromDims: use PyArray_SimpleNew.\n  def GetDecode(self): return _FactorGraph.CFactorGraph_GetDecode(self)\nFactorBP/FactorGraph.py:399: DeprecationWarning: PyArray_FromDimsAndDataAndDescr: use PyArray_NewFromDescr.\n  def GetDecode(self): return _FactorGraph.CFactorGraph_GetDecode(self)\n"
     ]
    },
    {
     "name": "stderr",
     "output_type": "stream",
     "text": [
      "FactorBP/FactorGraph.py:399: DeprecationWarning: PyArray_FromDims: use PyArray_SimpleNew.\n  def GetDecode(self): return _FactorGraph.CFactorGraph_GetDecode(self)\nFactorBP/FactorGraph.py:399: DeprecationWarning: PyArray_FromDimsAndDataAndDescr: use PyArray_NewFromDescr.\n  def GetDecode(self): return _FactorGraph.CFactorGraph_GetDecode(self)\nFactorBP/FactorGraph.py:399: DeprecationWarning: PyArray_FromDims: use PyArray_SimpleNew.\n  def GetDecode(self): return _FactorGraph.CFactorGraph_GetDecode(self)\nFactorBP/FactorGraph.py:399: DeprecationWarning: PyArray_FromDimsAndDataAndDescr: use PyArray_NewFromDescr.\n  def GetDecode(self): return _FactorGraph.CFactorGraph_GetDecode(self)\n"
     ]
    },
    {
     "name": "stderr",
     "output_type": "stream",
     "text": [
      "FactorBP/FactorGraph.py:399: DeprecationWarning: PyArray_FromDims: use PyArray_SimpleNew.\n  def GetDecode(self): return _FactorGraph.CFactorGraph_GetDecode(self)\nFactorBP/FactorGraph.py:399: DeprecationWarning: PyArray_FromDimsAndDataAndDescr: use PyArray_NewFromDescr.\n  def GetDecode(self): return _FactorGraph.CFactorGraph_GetDecode(self)\n"
     ]
    },
    {
     "name": "stderr",
     "output_type": "stream",
     "text": [
      "FactorBP/FactorGraph.py:399: DeprecationWarning: PyArray_FromDims: use PyArray_SimpleNew.\n  def GetDecode(self): return _FactorGraph.CFactorGraph_GetDecode(self)\nFactorBP/FactorGraph.py:399: DeprecationWarning: PyArray_FromDimsAndDataAndDescr: use PyArray_NewFromDescr.\n  def GetDecode(self): return _FactorGraph.CFactorGraph_GetDecode(self)\nFactorBP/FactorGraph.py:399: DeprecationWarning: PyArray_FromDims: use PyArray_SimpleNew.\n  def GetDecode(self): return _FactorGraph.CFactorGraph_GetDecode(self)\nFactorBP/FactorGraph.py:399: DeprecationWarning: PyArray_FromDimsAndDataAndDescr: use PyArray_NewFromDescr.\n  def GetDecode(self): return _FactorGraph.CFactorGraph_GetDecode(self)\n"
     ]
    },
    {
     "name": "stderr",
     "output_type": "stream",
     "text": [
      "FactorBP/FactorGraph.py:399: DeprecationWarning: PyArray_FromDims: use PyArray_SimpleNew.\n  def GetDecode(self): return _FactorGraph.CFactorGraph_GetDecode(self)\nFactorBP/FactorGraph.py:399: DeprecationWarning: PyArray_FromDimsAndDataAndDescr: use PyArray_NewFromDescr.\n  def GetDecode(self): return _FactorGraph.CFactorGraph_GetDecode(self)\nFactorBP/FactorGraph.py:399: DeprecationWarning: PyArray_FromDims: use PyArray_SimpleNew.\n  def GetDecode(self): return _FactorGraph.CFactorGraph_GetDecode(self)\nFactorBP/FactorGraph.py:399: DeprecationWarning: PyArray_FromDimsAndDataAndDescr: use PyArray_NewFromDescr.\n  def GetDecode(self): return _FactorGraph.CFactorGraph_GetDecode(self)\n"
     ]
    },
    {
     "name": "stderr",
     "output_type": "stream",
     "text": [
      "FactorBP/FactorGraph.py:399: DeprecationWarning: PyArray_FromDims: use PyArray_SimpleNew.\n  def GetDecode(self): return _FactorGraph.CFactorGraph_GetDecode(self)\nFactorBP/FactorGraph.py:399: DeprecationWarning: PyArray_FromDimsAndDataAndDescr: use PyArray_NewFromDescr.\n  def GetDecode(self): return _FactorGraph.CFactorGraph_GetDecode(self)\n"
     ]
    },
    {
     "name": "stderr",
     "output_type": "stream",
     "text": [
      "FactorBP/FactorGraph.py:399: DeprecationWarning: PyArray_FromDims: use PyArray_SimpleNew.\n  def GetDecode(self): return _FactorGraph.CFactorGraph_GetDecode(self)\nFactorBP/FactorGraph.py:399: DeprecationWarning: PyArray_FromDimsAndDataAndDescr: use PyArray_NewFromDescr.\n  def GetDecode(self): return _FactorGraph.CFactorGraph_GetDecode(self)\n"
     ]
    },
    {
     "name": "stderr",
     "output_type": "stream",
     "text": [
      "FactorBP/FactorGraph.py:399: DeprecationWarning: PyArray_FromDims: use PyArray_SimpleNew.\n  def GetDecode(self): return _FactorGraph.CFactorGraph_GetDecode(self)\nFactorBP/FactorGraph.py:399: DeprecationWarning: PyArray_FromDimsAndDataAndDescr: use PyArray_NewFromDescr.\n  def GetDecode(self): return _FactorGraph.CFactorGraph_GetDecode(self)\n"
     ]
    },
    {
     "name": "stderr",
     "output_type": "stream",
     "text": [
      "FactorBP/FactorGraph.py:399: DeprecationWarning: PyArray_FromDims: use PyArray_SimpleNew.\n  def GetDecode(self): return _FactorGraph.CFactorGraph_GetDecode(self)\nFactorBP/FactorGraph.py:399: DeprecationWarning: PyArray_FromDimsAndDataAndDescr: use PyArray_NewFromDescr.\n  def GetDecode(self): return _FactorGraph.CFactorGraph_GetDecode(self)\n"
     ]
    },
    {
     "name": "stderr",
     "output_type": "stream",
     "text": [
      "FactorBP/FactorGraph.py:399: DeprecationWarning: PyArray_FromDims: use PyArray_SimpleNew.\n  def GetDecode(self): return _FactorGraph.CFactorGraph_GetDecode(self)\nFactorBP/FactorGraph.py:399: DeprecationWarning: PyArray_FromDimsAndDataAndDescr: use PyArray_NewFromDescr.\n  def GetDecode(self): return _FactorGraph.CFactorGraph_GetDecode(self)\n"
     ]
    },
    {
     "name": "stderr",
     "output_type": "stream",
     "text": [
      "FactorBP/FactorGraph.py:399: DeprecationWarning: PyArray_FromDims: use PyArray_SimpleNew.\n  def GetDecode(self): return _FactorGraph.CFactorGraph_GetDecode(self)\nFactorBP/FactorGraph.py:399: DeprecationWarning: PyArray_FromDimsAndDataAndDescr: use PyArray_NewFromDescr.\n  def GetDecode(self): return _FactorGraph.CFactorGraph_GetDecode(self)\n"
     ]
    },
    {
     "name": "stderr",
     "output_type": "stream",
     "text": [
      "FactorBP/FactorGraph.py:399: DeprecationWarning: PyArray_FromDims: use PyArray_SimpleNew.\n  def GetDecode(self): return _FactorGraph.CFactorGraph_GetDecode(self)\nFactorBP/FactorGraph.py:399: DeprecationWarning: PyArray_FromDimsAndDataAndDescr: use PyArray_NewFromDescr.\n  def GetDecode(self): return _FactorGraph.CFactorGraph_GetDecode(self)\n"
     ]
    },
    {
     "name": "stderr",
     "output_type": "stream",
     "text": [
      "FactorBP/FactorGraph.py:399: DeprecationWarning: PyArray_FromDims: use PyArray_SimpleNew.\n  def GetDecode(self): return _FactorGraph.CFactorGraph_GetDecode(self)\nFactorBP/FactorGraph.py:399: DeprecationWarning: PyArray_FromDimsAndDataAndDescr: use PyArray_NewFromDescr.\n  def GetDecode(self): return _FactorGraph.CFactorGraph_GetDecode(self)\n"
     ]
    },
    {
     "name": "stderr",
     "output_type": "stream",
     "text": [
      "FactorBP/FactorGraph.py:399: DeprecationWarning: PyArray_FromDims: use PyArray_SimpleNew.\n  def GetDecode(self): return _FactorGraph.CFactorGraph_GetDecode(self)\nFactorBP/FactorGraph.py:399: DeprecationWarning: PyArray_FromDimsAndDataAndDescr: use PyArray_NewFromDescr.\n  def GetDecode(self): return _FactorGraph.CFactorGraph_GetDecode(self)\n"
     ]
    },
    {
     "name": "stderr",
     "output_type": "stream",
     "text": [
      "FactorBP/FactorGraph.py:399: DeprecationWarning: PyArray_FromDims: use PyArray_SimpleNew.\n  def GetDecode(self): return _FactorGraph.CFactorGraph_GetDecode(self)\nFactorBP/FactorGraph.py:399: DeprecationWarning: PyArray_FromDimsAndDataAndDescr: use PyArray_NewFromDescr.\n  def GetDecode(self): return _FactorGraph.CFactorGraph_GetDecode(self)\n"
     ]
    },
    {
     "name": "stderr",
     "output_type": "stream",
     "text": [
      "FactorBP/FactorGraph.py:399: DeprecationWarning: PyArray_FromDims: use PyArray_SimpleNew.\n  def GetDecode(self): return _FactorGraph.CFactorGraph_GetDecode(self)\nFactorBP/FactorGraph.py:399: DeprecationWarning: PyArray_FromDimsAndDataAndDescr: use PyArray_NewFromDescr.\n  def GetDecode(self): return _FactorGraph.CFactorGraph_GetDecode(self)\nFactorBP/FactorGraph.py:399: DeprecationWarning: PyArray_FromDims: use PyArray_SimpleNew.\n  def GetDecode(self): return _FactorGraph.CFactorGraph_GetDecode(self)\nFactorBP/FactorGraph.py:399: DeprecationWarning: PyArray_FromDimsAndDataAndDescr: use PyArray_NewFromDescr.\n  def GetDecode(self): return _FactorGraph.CFactorGraph_GetDecode(self)\n"
     ]
    },
    {
     "name": "stderr",
     "output_type": "stream",
     "text": [
      "FactorBP/FactorGraph.py:399: DeprecationWarning: PyArray_FromDims: use PyArray_SimpleNew.\n  def GetDecode(self): return _FactorGraph.CFactorGraph_GetDecode(self)\nFactorBP/FactorGraph.py:399: DeprecationWarning: PyArray_FromDimsAndDataAndDescr: use PyArray_NewFromDescr.\n  def GetDecode(self): return _FactorGraph.CFactorGraph_GetDecode(self)\n"
     ]
    },
    {
     "name": "stderr",
     "output_type": "stream",
     "text": [
      "FactorBP/FactorGraph.py:399: DeprecationWarning: PyArray_FromDims: use PyArray_SimpleNew.\n  def GetDecode(self): return _FactorGraph.CFactorGraph_GetDecode(self)\nFactorBP/FactorGraph.py:399: DeprecationWarning: PyArray_FromDimsAndDataAndDescr: use PyArray_NewFromDescr.\n  def GetDecode(self): return _FactorGraph.CFactorGraph_GetDecode(self)\n"
     ]
    },
    {
     "name": "stderr",
     "output_type": "stream",
     "text": [
      "FactorBP/FactorGraph.py:399: DeprecationWarning: PyArray_FromDims: use PyArray_SimpleNew.\n  def GetDecode(self): return _FactorGraph.CFactorGraph_GetDecode(self)\nFactorBP/FactorGraph.py:399: DeprecationWarning: PyArray_FromDimsAndDataAndDescr: use PyArray_NewFromDescr.\n  def GetDecode(self): return _FactorGraph.CFactorGraph_GetDecode(self)\n"
     ]
    },
    {
     "name": "stderr",
     "output_type": "stream",
     "text": [
      "FactorBP/FactorGraph.py:399: DeprecationWarning: PyArray_FromDims: use PyArray_SimpleNew.\n  def GetDecode(self): return _FactorGraph.CFactorGraph_GetDecode(self)\nFactorBP/FactorGraph.py:399: DeprecationWarning: PyArray_FromDimsAndDataAndDescr: use PyArray_NewFromDescr.\n  def GetDecode(self): return _FactorGraph.CFactorGraph_GetDecode(self)\n"
     ]
    },
    {
     "name": "stderr",
     "output_type": "stream",
     "text": [
      "FactorBP/FactorGraph.py:399: DeprecationWarning: PyArray_FromDims: use PyArray_SimpleNew.\n  def GetDecode(self): return _FactorGraph.CFactorGraph_GetDecode(self)\nFactorBP/FactorGraph.py:399: DeprecationWarning: PyArray_FromDimsAndDataAndDescr: use PyArray_NewFromDescr.\n  def GetDecode(self): return _FactorGraph.CFactorGraph_GetDecode(self)\n"
     ]
    },
    {
     "name": "stderr",
     "output_type": "stream",
     "text": [
      "FactorBP/FactorGraph.py:399: DeprecationWarning: PyArray_FromDims: use PyArray_SimpleNew.\n  def GetDecode(self): return _FactorGraph.CFactorGraph_GetDecode(self)\nFactorBP/FactorGraph.py:399: DeprecationWarning: PyArray_FromDimsAndDataAndDescr: use PyArray_NewFromDescr.\n  def GetDecode(self): return _FactorGraph.CFactorGraph_GetDecode(self)\n"
     ]
    },
    {
     "name": "stderr",
     "output_type": "stream",
     "text": [
      "FactorBP/FactorGraph.py:399: DeprecationWarning: PyArray_FromDims: use PyArray_SimpleNew.\n  def GetDecode(self): return _FactorGraph.CFactorGraph_GetDecode(self)\nFactorBP/FactorGraph.py:399: DeprecationWarning: PyArray_FromDimsAndDataAndDescr: use PyArray_NewFromDescr.\n  def GetDecode(self): return _FactorGraph.CFactorGraph_GetDecode(self)\n"
     ]
    },
    {
     "name": "stderr",
     "output_type": "stream",
     "text": [
      "FactorBP/FactorGraph.py:399: DeprecationWarning: PyArray_FromDims: use PyArray_SimpleNew.\n  def GetDecode(self): return _FactorGraph.CFactorGraph_GetDecode(self)\nFactorBP/FactorGraph.py:399: DeprecationWarning: PyArray_FromDimsAndDataAndDescr: use PyArray_NewFromDescr.\n  def GetDecode(self): return _FactorGraph.CFactorGraph_GetDecode(self)\n"
     ]
    },
    {
     "name": "stderr",
     "output_type": "stream",
     "text": [
      "FactorBP/FactorGraph.py:399: DeprecationWarning: PyArray_FromDims: use PyArray_SimpleNew.\n  def GetDecode(self): return _FactorGraph.CFactorGraph_GetDecode(self)\nFactorBP/FactorGraph.py:399: DeprecationWarning: PyArray_FromDimsAndDataAndDescr: use PyArray_NewFromDescr.\n  def GetDecode(self): return _FactorGraph.CFactorGraph_GetDecode(self)\n"
     ]
    },
    {
     "name": "stderr",
     "output_type": "stream",
     "text": [
      "FactorBP/FactorGraph.py:399: DeprecationWarning: PyArray_FromDims: use PyArray_SimpleNew.\n  def GetDecode(self): return _FactorGraph.CFactorGraph_GetDecode(self)\nFactorBP/FactorGraph.py:399: DeprecationWarning: PyArray_FromDimsAndDataAndDescr: use PyArray_NewFromDescr.\n  def GetDecode(self): return _FactorGraph.CFactorGraph_GetDecode(self)\n"
     ]
    },
    {
     "name": "stderr",
     "output_type": "stream",
     "text": [
      "FactorBP/FactorGraph.py:399: DeprecationWarning: PyArray_FromDims: use PyArray_SimpleNew.\n  def GetDecode(self): return _FactorGraph.CFactorGraph_GetDecode(self)\nFactorBP/FactorGraph.py:399: DeprecationWarning: PyArray_FromDimsAndDataAndDescr: use PyArray_NewFromDescr.\n  def GetDecode(self): return _FactorGraph.CFactorGraph_GetDecode(self)\n"
     ]
    },
    {
     "name": "stderr",
     "output_type": "stream",
     "text": [
      "FactorBP/FactorGraph.py:399: DeprecationWarning: PyArray_FromDims: use PyArray_SimpleNew.\n  def GetDecode(self): return _FactorGraph.CFactorGraph_GetDecode(self)\nFactorBP/FactorGraph.py:399: DeprecationWarning: PyArray_FromDimsAndDataAndDescr: use PyArray_NewFromDescr.\n  def GetDecode(self): return _FactorGraph.CFactorGraph_GetDecode(self)\n"
     ]
    },
    {
     "name": "stderr",
     "output_type": "stream",
     "text": [
      "FactorBP/FactorGraph.py:399: DeprecationWarning: PyArray_FromDims: use PyArray_SimpleNew.\n  def GetDecode(self): return _FactorGraph.CFactorGraph_GetDecode(self)\nFactorBP/FactorGraph.py:399: DeprecationWarning: PyArray_FromDimsAndDataAndDescr: use PyArray_NewFromDescr.\n  def GetDecode(self): return _FactorGraph.CFactorGraph_GetDecode(self)\n"
     ]
    },
    {
     "name": "stdout",
     "output_type": "stream",
     "text": [
      "Ours Accuracy 0.998374 Running Time 0.307777 Obj 1.000000\nOurs-BCA Accuracy 0.998374 Running Time 0.336441 Obj 1.000000\nBCA Accuracy 0.950407 Running Time 0.018058 Obj 0.986527\nBCA-MP Accuracy 0.995935 Running Time 0.127184 Obj 0.998705\nBCA-IPFP Accuracy 0.998374 Running Time 0.085649 Obj 1.000000\nHGM Accuracy 0.432520 Running Time 0.003696 Obj 0.719301\nRRWHM Accuracy 1.000000 Running Time 0.074326 Obj 0.999935\nTM Accuracy 0.392683 Running Time 0.061830 Obj 0.766666\n××××××××××××××××××××\n Start baseline: 80\n"
     ]
    },
    {
     "name": "stderr",
     "output_type": "stream",
     "text": [
      "FactorBP/FactorGraph.py:399: DeprecationWarning: PyArray_FromDims: use PyArray_SimpleNew.\n  def GetDecode(self): return _FactorGraph.CFactorGraph_GetDecode(self)\nFactorBP/FactorGraph.py:399: DeprecationWarning: PyArray_FromDimsAndDataAndDescr: use PyArray_NewFromDescr.\n  def GetDecode(self): return _FactorGraph.CFactorGraph_GetDecode(self)\n"
     ]
    },
    {
     "name": "stderr",
     "output_type": "stream",
     "text": [
      "FactorBP/FactorGraph.py:399: DeprecationWarning: PyArray_FromDims: use PyArray_SimpleNew.\n  def GetDecode(self): return _FactorGraph.CFactorGraph_GetDecode(self)\nFactorBP/FactorGraph.py:399: DeprecationWarning: PyArray_FromDimsAndDataAndDescr: use PyArray_NewFromDescr.\n  def GetDecode(self): return _FactorGraph.CFactorGraph_GetDecode(self)\n"
     ]
    },
    {
     "name": "stderr",
     "output_type": "stream",
     "text": [
      "FactorBP/FactorGraph.py:399: DeprecationWarning: PyArray_FromDims: use PyArray_SimpleNew.\n  def GetDecode(self): return _FactorGraph.CFactorGraph_GetDecode(self)\nFactorBP/FactorGraph.py:399: DeprecationWarning: PyArray_FromDimsAndDataAndDescr: use PyArray_NewFromDescr.\n  def GetDecode(self): return _FactorGraph.CFactorGraph_GetDecode(self)\n"
     ]
    },
    {
     "name": "stderr",
     "output_type": "stream",
     "text": [
      "FactorBP/FactorGraph.py:399: DeprecationWarning: PyArray_FromDims: use PyArray_SimpleNew.\n  def GetDecode(self): return _FactorGraph.CFactorGraph_GetDecode(self)\nFactorBP/FactorGraph.py:399: DeprecationWarning: PyArray_FromDimsAndDataAndDescr: use PyArray_NewFromDescr.\n  def GetDecode(self): return _FactorGraph.CFactorGraph_GetDecode(self)\n"
     ]
    },
    {
     "name": "stderr",
     "output_type": "stream",
     "text": [
      "FactorBP/FactorGraph.py:399: DeprecationWarning: PyArray_FromDims: use PyArray_SimpleNew.\n  def GetDecode(self): return _FactorGraph.CFactorGraph_GetDecode(self)\nFactorBP/FactorGraph.py:399: DeprecationWarning: PyArray_FromDimsAndDataAndDescr: use PyArray_NewFromDescr.\n  def GetDecode(self): return _FactorGraph.CFactorGraph_GetDecode(self)\n"
     ]
    },
    {
     "name": "stderr",
     "output_type": "stream",
     "text": [
      "FactorBP/FactorGraph.py:399: DeprecationWarning: PyArray_FromDims: use PyArray_SimpleNew.\n  def GetDecode(self): return _FactorGraph.CFactorGraph_GetDecode(self)\nFactorBP/FactorGraph.py:399: DeprecationWarning: PyArray_FromDimsAndDataAndDescr: use PyArray_NewFromDescr.\n  def GetDecode(self): return _FactorGraph.CFactorGraph_GetDecode(self)\nFactorBP/FactorGraph.py:399: DeprecationWarning: PyArray_FromDims: use PyArray_SimpleNew.\n  def GetDecode(self): return _FactorGraph.CFactorGraph_GetDecode(self)\nFactorBP/FactorGraph.py:399: DeprecationWarning: PyArray_FromDimsAndDataAndDescr: use PyArray_NewFromDescr.\n  def GetDecode(self): return _FactorGraph.CFactorGraph_GetDecode(self)\n"
     ]
    },
    {
     "name": "stderr",
     "output_type": "stream",
     "text": [
      "FactorBP/FactorGraph.py:399: DeprecationWarning: PyArray_FromDims: use PyArray_SimpleNew.\n  def GetDecode(self): return _FactorGraph.CFactorGraph_GetDecode(self)\nFactorBP/FactorGraph.py:399: DeprecationWarning: PyArray_FromDimsAndDataAndDescr: use PyArray_NewFromDescr.\n  def GetDecode(self): return _FactorGraph.CFactorGraph_GetDecode(self)\n"
     ]
    },
    {
     "name": "stderr",
     "output_type": "stream",
     "text": [
      "FactorBP/FactorGraph.py:399: DeprecationWarning: PyArray_FromDims: use PyArray_SimpleNew.\n  def GetDecode(self): return _FactorGraph.CFactorGraph_GetDecode(self)\nFactorBP/FactorGraph.py:399: DeprecationWarning: PyArray_FromDimsAndDataAndDescr: use PyArray_NewFromDescr.\n  def GetDecode(self): return _FactorGraph.CFactorGraph_GetDecode(self)\n"
     ]
    },
    {
     "name": "stderr",
     "output_type": "stream",
     "text": [
      "FactorBP/FactorGraph.py:399: DeprecationWarning: PyArray_FromDims: use PyArray_SimpleNew.\n  def GetDecode(self): return _FactorGraph.CFactorGraph_GetDecode(self)\nFactorBP/FactorGraph.py:399: DeprecationWarning: PyArray_FromDimsAndDataAndDescr: use PyArray_NewFromDescr.\n  def GetDecode(self): return _FactorGraph.CFactorGraph_GetDecode(self)\nFactorBP/FactorGraph.py:399: DeprecationWarning: PyArray_FromDims: use PyArray_SimpleNew.\n  def GetDecode(self): return _FactorGraph.CFactorGraph_GetDecode(self)\nFactorBP/FactorGraph.py:399: DeprecationWarning: PyArray_FromDimsAndDataAndDescr: use PyArray_NewFromDescr.\n  def GetDecode(self): return _FactorGraph.CFactorGraph_GetDecode(self)\n"
     ]
    },
    {
     "name": "stderr",
     "output_type": "stream",
     "text": [
      "FactorBP/FactorGraph.py:399: DeprecationWarning: PyArray_FromDims: use PyArray_SimpleNew.\n  def GetDecode(self): return _FactorGraph.CFactorGraph_GetDecode(self)\nFactorBP/FactorGraph.py:399: DeprecationWarning: PyArray_FromDimsAndDataAndDescr: use PyArray_NewFromDescr.\n  def GetDecode(self): return _FactorGraph.CFactorGraph_GetDecode(self)\nFactorBP/FactorGraph.py:399: DeprecationWarning: PyArray_FromDims: use PyArray_SimpleNew.\n  def GetDecode(self): return _FactorGraph.CFactorGraph_GetDecode(self)\nFactorBP/FactorGraph.py:399: DeprecationWarning: PyArray_FromDimsAndDataAndDescr: use PyArray_NewFromDescr.\n  def GetDecode(self): return _FactorGraph.CFactorGraph_GetDecode(self)\n"
     ]
    },
    {
     "name": "stderr",
     "output_type": "stream",
     "text": [
      "FactorBP/FactorGraph.py:399: DeprecationWarning: PyArray_FromDims: use PyArray_SimpleNew.\n  def GetDecode(self): return _FactorGraph.CFactorGraph_GetDecode(self)\nFactorBP/FactorGraph.py:399: DeprecationWarning: PyArray_FromDimsAndDataAndDescr: use PyArray_NewFromDescr.\n  def GetDecode(self): return _FactorGraph.CFactorGraph_GetDecode(self)\n"
     ]
    },
    {
     "name": "stderr",
     "output_type": "stream",
     "text": [
      "FactorBP/FactorGraph.py:399: DeprecationWarning: PyArray_FromDims: use PyArray_SimpleNew.\n  def GetDecode(self): return _FactorGraph.CFactorGraph_GetDecode(self)\nFactorBP/FactorGraph.py:399: DeprecationWarning: PyArray_FromDimsAndDataAndDescr: use PyArray_NewFromDescr.\n  def GetDecode(self): return _FactorGraph.CFactorGraph_GetDecode(self)\n"
     ]
    },
    {
     "name": "stderr",
     "output_type": "stream",
     "text": [
      "FactorBP/FactorGraph.py:399: DeprecationWarning: PyArray_FromDims: use PyArray_SimpleNew.\n  def GetDecode(self): return _FactorGraph.CFactorGraph_GetDecode(self)\nFactorBP/FactorGraph.py:399: DeprecationWarning: PyArray_FromDimsAndDataAndDescr: use PyArray_NewFromDescr.\n  def GetDecode(self): return _FactorGraph.CFactorGraph_GetDecode(self)\n"
     ]
    },
    {
     "name": "stderr",
     "output_type": "stream",
     "text": [
      "FactorBP/FactorGraph.py:399: DeprecationWarning: PyArray_FromDims: use PyArray_SimpleNew.\n  def GetDecode(self): return _FactorGraph.CFactorGraph_GetDecode(self)\nFactorBP/FactorGraph.py:399: DeprecationWarning: PyArray_FromDimsAndDataAndDescr: use PyArray_NewFromDescr.\n  def GetDecode(self): return _FactorGraph.CFactorGraph_GetDecode(self)\n"
     ]
    },
    {
     "name": "stderr",
     "output_type": "stream",
     "text": [
      "FactorBP/FactorGraph.py:399: DeprecationWarning: PyArray_FromDims: use PyArray_SimpleNew.\n  def GetDecode(self): return _FactorGraph.CFactorGraph_GetDecode(self)\nFactorBP/FactorGraph.py:399: DeprecationWarning: PyArray_FromDimsAndDataAndDescr: use PyArray_NewFromDescr.\n  def GetDecode(self): return _FactorGraph.CFactorGraph_GetDecode(self)\n"
     ]
    },
    {
     "name": "stderr",
     "output_type": "stream",
     "text": [
      "FactorBP/FactorGraph.py:399: DeprecationWarning: PyArray_FromDims: use PyArray_SimpleNew.\n  def GetDecode(self): return _FactorGraph.CFactorGraph_GetDecode(self)\nFactorBP/FactorGraph.py:399: DeprecationWarning: PyArray_FromDimsAndDataAndDescr: use PyArray_NewFromDescr.\n  def GetDecode(self): return _FactorGraph.CFactorGraph_GetDecode(self)\nFactorBP/FactorGraph.py:399: DeprecationWarning: PyArray_FromDims: use PyArray_SimpleNew.\n  def GetDecode(self): return _FactorGraph.CFactorGraph_GetDecode(self)\nFactorBP/FactorGraph.py:399: DeprecationWarning: PyArray_FromDimsAndDataAndDescr: use PyArray_NewFromDescr.\n  def GetDecode(self): return _FactorGraph.CFactorGraph_GetDecode(self)\n"
     ]
    },
    {
     "name": "stderr",
     "output_type": "stream",
     "text": [
      "FactorBP/FactorGraph.py:399: DeprecationWarning: PyArray_FromDims: use PyArray_SimpleNew.\n  def GetDecode(self): return _FactorGraph.CFactorGraph_GetDecode(self)\nFactorBP/FactorGraph.py:399: DeprecationWarning: PyArray_FromDimsAndDataAndDescr: use PyArray_NewFromDescr.\n  def GetDecode(self): return _FactorGraph.CFactorGraph_GetDecode(self)\n"
     ]
    },
    {
     "name": "stderr",
     "output_type": "stream",
     "text": [
      "FactorBP/FactorGraph.py:399: DeprecationWarning: PyArray_FromDims: use PyArray_SimpleNew.\n  def GetDecode(self): return _FactorGraph.CFactorGraph_GetDecode(self)\nFactorBP/FactorGraph.py:399: DeprecationWarning: PyArray_FromDimsAndDataAndDescr: use PyArray_NewFromDescr.\n  def GetDecode(self): return _FactorGraph.CFactorGraph_GetDecode(self)\nFactorBP/FactorGraph.py:399: DeprecationWarning: PyArray_FromDims: use PyArray_SimpleNew.\n  def GetDecode(self): return _FactorGraph.CFactorGraph_GetDecode(self)\nFactorBP/FactorGraph.py:399: DeprecationWarning: PyArray_FromDimsAndDataAndDescr: use PyArray_NewFromDescr.\n  def GetDecode(self): return _FactorGraph.CFactorGraph_GetDecode(self)\n"
     ]
    },
    {
     "name": "stderr",
     "output_type": "stream",
     "text": [
      "FactorBP/FactorGraph.py:399: DeprecationWarning: PyArray_FromDims: use PyArray_SimpleNew.\n  def GetDecode(self): return _FactorGraph.CFactorGraph_GetDecode(self)\nFactorBP/FactorGraph.py:399: DeprecationWarning: PyArray_FromDimsAndDataAndDescr: use PyArray_NewFromDescr.\n  def GetDecode(self): return _FactorGraph.CFactorGraph_GetDecode(self)\n"
     ]
    },
    {
     "name": "stderr",
     "output_type": "stream",
     "text": [
      "FactorBP/FactorGraph.py:399: DeprecationWarning: PyArray_FromDims: use PyArray_SimpleNew.\n  def GetDecode(self): return _FactorGraph.CFactorGraph_GetDecode(self)\nFactorBP/FactorGraph.py:399: DeprecationWarning: PyArray_FromDimsAndDataAndDescr: use PyArray_NewFromDescr.\n  def GetDecode(self): return _FactorGraph.CFactorGraph_GetDecode(self)\n"
     ]
    },
    {
     "name": "stderr",
     "output_type": "stream",
     "text": [
      "FactorBP/FactorGraph.py:399: DeprecationWarning: PyArray_FromDims: use PyArray_SimpleNew.\n  def GetDecode(self): return _FactorGraph.CFactorGraph_GetDecode(self)\nFactorBP/FactorGraph.py:399: DeprecationWarning: PyArray_FromDimsAndDataAndDescr: use PyArray_NewFromDescr.\n  def GetDecode(self): return _FactorGraph.CFactorGraph_GetDecode(self)\nFactorBP/FactorGraph.py:399: DeprecationWarning: PyArray_FromDims: use PyArray_SimpleNew.\n  def GetDecode(self): return _FactorGraph.CFactorGraph_GetDecode(self)\nFactorBP/FactorGraph.py:399: DeprecationWarning: PyArray_FromDimsAndDataAndDescr: use PyArray_NewFromDescr.\n  def GetDecode(self): return _FactorGraph.CFactorGraph_GetDecode(self)\n"
     ]
    },
    {
     "name": "stderr",
     "output_type": "stream",
     "text": [
      "FactorBP/FactorGraph.py:399: DeprecationWarning: PyArray_FromDims: use PyArray_SimpleNew.\n  def GetDecode(self): return _FactorGraph.CFactorGraph_GetDecode(self)\nFactorBP/FactorGraph.py:399: DeprecationWarning: PyArray_FromDimsAndDataAndDescr: use PyArray_NewFromDescr.\n  def GetDecode(self): return _FactorGraph.CFactorGraph_GetDecode(self)\n"
     ]
    },
    {
     "name": "stderr",
     "output_type": "stream",
     "text": [
      "FactorBP/FactorGraph.py:399: DeprecationWarning: PyArray_FromDims: use PyArray_SimpleNew.\n  def GetDecode(self): return _FactorGraph.CFactorGraph_GetDecode(self)\nFactorBP/FactorGraph.py:399: DeprecationWarning: PyArray_FromDimsAndDataAndDescr: use PyArray_NewFromDescr.\n  def GetDecode(self): return _FactorGraph.CFactorGraph_GetDecode(self)\n"
     ]
    },
    {
     "name": "stderr",
     "output_type": "stream",
     "text": [
      "FactorBP/FactorGraph.py:399: DeprecationWarning: PyArray_FromDims: use PyArray_SimpleNew.\n  def GetDecode(self): return _FactorGraph.CFactorGraph_GetDecode(self)\nFactorBP/FactorGraph.py:399: DeprecationWarning: PyArray_FromDimsAndDataAndDescr: use PyArray_NewFromDescr.\n  def GetDecode(self): return _FactorGraph.CFactorGraph_GetDecode(self)\nFactorBP/FactorGraph.py:399: DeprecationWarning: PyArray_FromDims: use PyArray_SimpleNew.\n  def GetDecode(self): return _FactorGraph.CFactorGraph_GetDecode(self)\nFactorBP/FactorGraph.py:399: DeprecationWarning: PyArray_FromDimsAndDataAndDescr: use PyArray_NewFromDescr.\n  def GetDecode(self): return _FactorGraph.CFactorGraph_GetDecode(self)\n"
     ]
    },
    {
     "name": "stderr",
     "output_type": "stream",
     "text": [
      "FactorBP/FactorGraph.py:399: DeprecationWarning: PyArray_FromDims: use PyArray_SimpleNew.\n  def GetDecode(self): return _FactorGraph.CFactorGraph_GetDecode(self)\nFactorBP/FactorGraph.py:399: DeprecationWarning: PyArray_FromDimsAndDataAndDescr: use PyArray_NewFromDescr.\n  def GetDecode(self): return _FactorGraph.CFactorGraph_GetDecode(self)\n"
     ]
    },
    {
     "name": "stderr",
     "output_type": "stream",
     "text": [
      "FactorBP/FactorGraph.py:399: DeprecationWarning: PyArray_FromDims: use PyArray_SimpleNew.\n  def GetDecode(self): return _FactorGraph.CFactorGraph_GetDecode(self)\nFactorBP/FactorGraph.py:399: DeprecationWarning: PyArray_FromDimsAndDataAndDescr: use PyArray_NewFromDescr.\n  def GetDecode(self): return _FactorGraph.CFactorGraph_GetDecode(self)\nFactorBP/FactorGraph.py:399: DeprecationWarning: PyArray_FromDims: use PyArray_SimpleNew.\n  def GetDecode(self): return _FactorGraph.CFactorGraph_GetDecode(self)\nFactorBP/FactorGraph.py:399: DeprecationWarning: PyArray_FromDimsAndDataAndDescr: use PyArray_NewFromDescr.\n  def GetDecode(self): return _FactorGraph.CFactorGraph_GetDecode(self)\n"
     ]
    },
    {
     "name": "stderr",
     "output_type": "stream",
     "text": [
      "FactorBP/FactorGraph.py:399: DeprecationWarning: PyArray_FromDims: use PyArray_SimpleNew.\n  def GetDecode(self): return _FactorGraph.CFactorGraph_GetDecode(self)\nFactorBP/FactorGraph.py:399: DeprecationWarning: PyArray_FromDimsAndDataAndDescr: use PyArray_NewFromDescr.\n  def GetDecode(self): return _FactorGraph.CFactorGraph_GetDecode(self)\nFactorBP/FactorGraph.py:399: DeprecationWarning: PyArray_FromDims: use PyArray_SimpleNew.\n  def GetDecode(self): return _FactorGraph.CFactorGraph_GetDecode(self)\nFactorBP/FactorGraph.py:399: DeprecationWarning: PyArray_FromDimsAndDataAndDescr: use PyArray_NewFromDescr.\n  def GetDecode(self): return _FactorGraph.CFactorGraph_GetDecode(self)\nFactorBP/FactorGraph.py:399: DeprecationWarning: PyArray_FromDims: use PyArray_SimpleNew.\n  def GetDecode(self): return _FactorGraph.CFactorGraph_GetDecode(self)\nFactorBP/FactorGraph.py:399: DeprecationWarning: PyArray_FromDimsAndDataAndDescr: use PyArray_NewFromDescr.\n  def GetDecode(self): return _FactorGraph.CFactorGraph_GetDecode(self)\n"
     ]
    },
    {
     "name": "stderr",
     "output_type": "stream",
     "text": [
      "FactorBP/FactorGraph.py:399: DeprecationWarning: PyArray_FromDims: use PyArray_SimpleNew.\n  def GetDecode(self): return _FactorGraph.CFactorGraph_GetDecode(self)\nFactorBP/FactorGraph.py:399: DeprecationWarning: PyArray_FromDimsAndDataAndDescr: use PyArray_NewFromDescr.\n  def GetDecode(self): return _FactorGraph.CFactorGraph_GetDecode(self)\n"
     ]
    },
    {
     "name": "stderr",
     "output_type": "stream",
     "text": [
      "FactorBP/FactorGraph.py:399: DeprecationWarning: PyArray_FromDims: use PyArray_SimpleNew.\n  def GetDecode(self): return _FactorGraph.CFactorGraph_GetDecode(self)\nFactorBP/FactorGraph.py:399: DeprecationWarning: PyArray_FromDimsAndDataAndDescr: use PyArray_NewFromDescr.\n  def GetDecode(self): return _FactorGraph.CFactorGraph_GetDecode(self)\n"
     ]
    },
    {
     "name": "stderr",
     "output_type": "stream",
     "text": [
      "FactorBP/FactorGraph.py:399: DeprecationWarning: PyArray_FromDims: use PyArray_SimpleNew.\n  def GetDecode(self): return _FactorGraph.CFactorGraph_GetDecode(self)\nFactorBP/FactorGraph.py:399: DeprecationWarning: PyArray_FromDimsAndDataAndDescr: use PyArray_NewFromDescr.\n  def GetDecode(self): return _FactorGraph.CFactorGraph_GetDecode(self)\nFactorBP/FactorGraph.py:399: DeprecationWarning: PyArray_FromDims: use PyArray_SimpleNew.\n  def GetDecode(self): return _FactorGraph.CFactorGraph_GetDecode(self)\nFactorBP/FactorGraph.py:399: DeprecationWarning: PyArray_FromDimsAndDataAndDescr: use PyArray_NewFromDescr.\n  def GetDecode(self): return _FactorGraph.CFactorGraph_GetDecode(self)\n"
     ]
    },
    {
     "name": "stderr",
     "output_type": "stream",
     "text": [
      "FactorBP/FactorGraph.py:399: DeprecationWarning: PyArray_FromDims: use PyArray_SimpleNew.\n  def GetDecode(self): return _FactorGraph.CFactorGraph_GetDecode(self)\nFactorBP/FactorGraph.py:399: DeprecationWarning: PyArray_FromDimsAndDataAndDescr: use PyArray_NewFromDescr.\n  def GetDecode(self): return _FactorGraph.CFactorGraph_GetDecode(self)\n"
     ]
    },
    {
     "name": "stdout",
     "output_type": "stream",
     "text": [
      "Ours Accuracy 0.995699 Running Time 0.330119 Obj 0.999685\nOurs-BCA Accuracy 0.997849 Running Time 0.358307 Obj 1.000000\nBCA Accuracy 0.897849 Running Time 0.018833 Obj 0.974292\nBCA-MP Accuracy 0.944086 Running Time 0.150468 Obj 0.986929\nBCA-IPFP Accuracy 0.986022 Running Time 0.089184 Obj 0.997951\nHGM Accuracy 0.379570 Running Time 0.003656 Obj 0.717935\nRRWHM Accuracy 1.000000 Running Time 0.093293 Obj 0.999970\nTM Accuracy 0.322581 Running Time 0.062126 Obj 0.753160\n××××××××××××××××××××\n Start baseline: 90\n"
     ]
    },
    {
     "name": "stderr",
     "output_type": "stream",
     "text": [
      "FactorBP/FactorGraph.py:399: DeprecationWarning: PyArray_FromDims: use PyArray_SimpleNew.\n  def GetDecode(self): return _FactorGraph.CFactorGraph_GetDecode(self)\nFactorBP/FactorGraph.py:399: DeprecationWarning: PyArray_FromDimsAndDataAndDescr: use PyArray_NewFromDescr.\n  def GetDecode(self): return _FactorGraph.CFactorGraph_GetDecode(self)\nFactorBP/FactorGraph.py:399: DeprecationWarning: PyArray_FromDims: use PyArray_SimpleNew.\n  def GetDecode(self): return _FactorGraph.CFactorGraph_GetDecode(self)\nFactorBP/FactorGraph.py:399: DeprecationWarning: PyArray_FromDimsAndDataAndDescr: use PyArray_NewFromDescr.\n  def GetDecode(self): return _FactorGraph.CFactorGraph_GetDecode(self)\n"
     ]
    },
    {
     "name": "stderr",
     "output_type": "stream",
     "text": [
      "FactorBP/FactorGraph.py:399: DeprecationWarning: PyArray_FromDims: use PyArray_SimpleNew.\n  def GetDecode(self): return _FactorGraph.CFactorGraph_GetDecode(self)\nFactorBP/FactorGraph.py:399: DeprecationWarning: PyArray_FromDimsAndDataAndDescr: use PyArray_NewFromDescr.\n  def GetDecode(self): return _FactorGraph.CFactorGraph_GetDecode(self)\nFactorBP/FactorGraph.py:399: DeprecationWarning: PyArray_FromDims: use PyArray_SimpleNew.\n  def GetDecode(self): return _FactorGraph.CFactorGraph_GetDecode(self)\nFactorBP/FactorGraph.py:399: DeprecationWarning: PyArray_FromDimsAndDataAndDescr: use PyArray_NewFromDescr.\n  def GetDecode(self): return _FactorGraph.CFactorGraph_GetDecode(self)\n"
     ]
    },
    {
     "name": "stderr",
     "output_type": "stream",
     "text": [
      "FactorBP/FactorGraph.py:399: DeprecationWarning: PyArray_FromDims: use PyArray_SimpleNew.\n  def GetDecode(self): return _FactorGraph.CFactorGraph_GetDecode(self)\nFactorBP/FactorGraph.py:399: DeprecationWarning: PyArray_FromDimsAndDataAndDescr: use PyArray_NewFromDescr.\n  def GetDecode(self): return _FactorGraph.CFactorGraph_GetDecode(self)\nFactorBP/FactorGraph.py:399: DeprecationWarning: PyArray_FromDims: use PyArray_SimpleNew.\n  def GetDecode(self): return _FactorGraph.CFactorGraph_GetDecode(self)\nFactorBP/FactorGraph.py:399: DeprecationWarning: PyArray_FromDimsAndDataAndDescr: use PyArray_NewFromDescr.\n  def GetDecode(self): return _FactorGraph.CFactorGraph_GetDecode(self)\n"
     ]
    },
    {
     "name": "stderr",
     "output_type": "stream",
     "text": [
      "FactorBP/FactorGraph.py:399: DeprecationWarning: PyArray_FromDims: use PyArray_SimpleNew.\n  def GetDecode(self): return _FactorGraph.CFactorGraph_GetDecode(self)\nFactorBP/FactorGraph.py:399: DeprecationWarning: PyArray_FromDimsAndDataAndDescr: use PyArray_NewFromDescr.\n  def GetDecode(self): return _FactorGraph.CFactorGraph_GetDecode(self)\n"
     ]
    },
    {
     "name": "stderr",
     "output_type": "stream",
     "text": [
      "FactorBP/FactorGraph.py:399: DeprecationWarning: PyArray_FromDims: use PyArray_SimpleNew.\n  def GetDecode(self): return _FactorGraph.CFactorGraph_GetDecode(self)\nFactorBP/FactorGraph.py:399: DeprecationWarning: PyArray_FromDimsAndDataAndDescr: use PyArray_NewFromDescr.\n  def GetDecode(self): return _FactorGraph.CFactorGraph_GetDecode(self)\n"
     ]
    },
    {
     "name": "stderr",
     "output_type": "stream",
     "text": [
      "FactorBP/FactorGraph.py:399: DeprecationWarning: PyArray_FromDims: use PyArray_SimpleNew.\n  def GetDecode(self): return _FactorGraph.CFactorGraph_GetDecode(self)\nFactorBP/FactorGraph.py:399: DeprecationWarning: PyArray_FromDimsAndDataAndDescr: use PyArray_NewFromDescr.\n  def GetDecode(self): return _FactorGraph.CFactorGraph_GetDecode(self)\n"
     ]
    },
    {
     "name": "stderr",
     "output_type": "stream",
     "text": [
      "FactorBP/FactorGraph.py:399: DeprecationWarning: PyArray_FromDims: use PyArray_SimpleNew.\n  def GetDecode(self): return _FactorGraph.CFactorGraph_GetDecode(self)\nFactorBP/FactorGraph.py:399: DeprecationWarning: PyArray_FromDimsAndDataAndDescr: use PyArray_NewFromDescr.\n  def GetDecode(self): return _FactorGraph.CFactorGraph_GetDecode(self)\nFactorBP/FactorGraph.py:399: DeprecationWarning: PyArray_FromDims: use PyArray_SimpleNew.\n  def GetDecode(self): return _FactorGraph.CFactorGraph_GetDecode(self)\nFactorBP/FactorGraph.py:399: DeprecationWarning: PyArray_FromDimsAndDataAndDescr: use PyArray_NewFromDescr.\n  def GetDecode(self): return _FactorGraph.CFactorGraph_GetDecode(self)\nFactorBP/FactorGraph.py:399: DeprecationWarning: PyArray_FromDims: use PyArray_SimpleNew.\n  def GetDecode(self): return _FactorGraph.CFactorGraph_GetDecode(self)\nFactorBP/FactorGraph.py:399: DeprecationWarning: PyArray_FromDimsAndDataAndDescr: use PyArray_NewFromDescr.\n  def GetDecode(self): return _FactorGraph.CFactorGraph_GetDecode(self)\n"
     ]
    },
    {
     "name": "stderr",
     "output_type": "stream",
     "text": [
      "FactorBP/FactorGraph.py:399: DeprecationWarning: PyArray_FromDims: use PyArray_SimpleNew.\n  def GetDecode(self): return _FactorGraph.CFactorGraph_GetDecode(self)\nFactorBP/FactorGraph.py:399: DeprecationWarning: PyArray_FromDimsAndDataAndDescr: use PyArray_NewFromDescr.\n  def GetDecode(self): return _FactorGraph.CFactorGraph_GetDecode(self)\nFactorBP/FactorGraph.py:399: DeprecationWarning: PyArray_FromDims: use PyArray_SimpleNew.\n  def GetDecode(self): return _FactorGraph.CFactorGraph_GetDecode(self)\nFactorBP/FactorGraph.py:399: DeprecationWarning: PyArray_FromDimsAndDataAndDescr: use PyArray_NewFromDescr.\n  def GetDecode(self): return _FactorGraph.CFactorGraph_GetDecode(self)\n"
     ]
    },
    {
     "name": "stderr",
     "output_type": "stream",
     "text": [
      "FactorBP/FactorGraph.py:399: DeprecationWarning: PyArray_FromDims: use PyArray_SimpleNew.\n  def GetDecode(self): return _FactorGraph.CFactorGraph_GetDecode(self)\nFactorBP/FactorGraph.py:399: DeprecationWarning: PyArray_FromDimsAndDataAndDescr: use PyArray_NewFromDescr.\n  def GetDecode(self): return _FactorGraph.CFactorGraph_GetDecode(self)\nFactorBP/FactorGraph.py:399: DeprecationWarning: PyArray_FromDims: use PyArray_SimpleNew.\n  def GetDecode(self): return _FactorGraph.CFactorGraph_GetDecode(self)\nFactorBP/FactorGraph.py:399: DeprecationWarning: PyArray_FromDimsAndDataAndDescr: use PyArray_NewFromDescr.\n  def GetDecode(self): return _FactorGraph.CFactorGraph_GetDecode(self)\n"
     ]
    },
    {
     "name": "stderr",
     "output_type": "stream",
     "text": [
      "FactorBP/FactorGraph.py:399: DeprecationWarning: PyArray_FromDims: use PyArray_SimpleNew.\n  def GetDecode(self): return _FactorGraph.CFactorGraph_GetDecode(self)\nFactorBP/FactorGraph.py:399: DeprecationWarning: PyArray_FromDimsAndDataAndDescr: use PyArray_NewFromDescr.\n  def GetDecode(self): return _FactorGraph.CFactorGraph_GetDecode(self)\n"
     ]
    },
    {
     "name": "stderr",
     "output_type": "stream",
     "text": [
      "FactorBP/FactorGraph.py:399: DeprecationWarning: PyArray_FromDims: use PyArray_SimpleNew.\n  def GetDecode(self): return _FactorGraph.CFactorGraph_GetDecode(self)\nFactorBP/FactorGraph.py:399: DeprecationWarning: PyArray_FromDimsAndDataAndDescr: use PyArray_NewFromDescr.\n  def GetDecode(self): return _FactorGraph.CFactorGraph_GetDecode(self)\nFactorBP/FactorGraph.py:399: DeprecationWarning: PyArray_FromDims: use PyArray_SimpleNew.\n  def GetDecode(self): return _FactorGraph.CFactorGraph_GetDecode(self)\nFactorBP/FactorGraph.py:399: DeprecationWarning: PyArray_FromDimsAndDataAndDescr: use PyArray_NewFromDescr.\n  def GetDecode(self): return _FactorGraph.CFactorGraph_GetDecode(self)\n"
     ]
    },
    {
     "name": "stderr",
     "output_type": "stream",
     "text": [
      "FactorBP/FactorGraph.py:399: DeprecationWarning: PyArray_FromDims: use PyArray_SimpleNew.\n  def GetDecode(self): return _FactorGraph.CFactorGraph_GetDecode(self)\nFactorBP/FactorGraph.py:399: DeprecationWarning: PyArray_FromDimsAndDataAndDescr: use PyArray_NewFromDescr.\n  def GetDecode(self): return _FactorGraph.CFactorGraph_GetDecode(self)\n"
     ]
    },
    {
     "name": "stderr",
     "output_type": "stream",
     "text": [
      "FactorBP/FactorGraph.py:399: DeprecationWarning: PyArray_FromDims: use PyArray_SimpleNew.\n  def GetDecode(self): return _FactorGraph.CFactorGraph_GetDecode(self)\nFactorBP/FactorGraph.py:399: DeprecationWarning: PyArray_FromDimsAndDataAndDescr: use PyArray_NewFromDescr.\n  def GetDecode(self): return _FactorGraph.CFactorGraph_GetDecode(self)\n"
     ]
    },
    {
     "name": "stderr",
     "output_type": "stream",
     "text": [
      "FactorBP/FactorGraph.py:399: DeprecationWarning: PyArray_FromDims: use PyArray_SimpleNew.\n  def GetDecode(self): return _FactorGraph.CFactorGraph_GetDecode(self)\nFactorBP/FactorGraph.py:399: DeprecationWarning: PyArray_FromDimsAndDataAndDescr: use PyArray_NewFromDescr.\n  def GetDecode(self): return _FactorGraph.CFactorGraph_GetDecode(self)\n"
     ]
    },
    {
     "name": "stderr",
     "output_type": "stream",
     "text": [
      "FactorBP/FactorGraph.py:399: DeprecationWarning: PyArray_FromDims: use PyArray_SimpleNew.\n  def GetDecode(self): return _FactorGraph.CFactorGraph_GetDecode(self)\nFactorBP/FactorGraph.py:399: DeprecationWarning: PyArray_FromDimsAndDataAndDescr: use PyArray_NewFromDescr.\n  def GetDecode(self): return _FactorGraph.CFactorGraph_GetDecode(self)\n"
     ]
    },
    {
     "name": "stderr",
     "output_type": "stream",
     "text": [
      "FactorBP/FactorGraph.py:399: DeprecationWarning: PyArray_FromDims: use PyArray_SimpleNew.\n  def GetDecode(self): return _FactorGraph.CFactorGraph_GetDecode(self)\nFactorBP/FactorGraph.py:399: DeprecationWarning: PyArray_FromDimsAndDataAndDescr: use PyArray_NewFromDescr.\n  def GetDecode(self): return _FactorGraph.CFactorGraph_GetDecode(self)\n"
     ]
    },
    {
     "name": "stderr",
     "output_type": "stream",
     "text": [
      "FactorBP/FactorGraph.py:399: DeprecationWarning: PyArray_FromDims: use PyArray_SimpleNew.\n  def GetDecode(self): return _FactorGraph.CFactorGraph_GetDecode(self)\nFactorBP/FactorGraph.py:399: DeprecationWarning: PyArray_FromDimsAndDataAndDescr: use PyArray_NewFromDescr.\n  def GetDecode(self): return _FactorGraph.CFactorGraph_GetDecode(self)\n"
     ]
    },
    {
     "name": "stderr",
     "output_type": "stream",
     "text": [
      "FactorBP/FactorGraph.py:399: DeprecationWarning: PyArray_FromDims: use PyArray_SimpleNew.\n  def GetDecode(self): return _FactorGraph.CFactorGraph_GetDecode(self)\nFactorBP/FactorGraph.py:399: DeprecationWarning: PyArray_FromDimsAndDataAndDescr: use PyArray_NewFromDescr.\n  def GetDecode(self): return _FactorGraph.CFactorGraph_GetDecode(self)\nFactorBP/FactorGraph.py:399: DeprecationWarning: PyArray_FromDims: use PyArray_SimpleNew.\n  def GetDecode(self): return _FactorGraph.CFactorGraph_GetDecode(self)\nFactorBP/FactorGraph.py:399: DeprecationWarning: PyArray_FromDimsAndDataAndDescr: use PyArray_NewFromDescr.\n  def GetDecode(self): return _FactorGraph.CFactorGraph_GetDecode(self)\n"
     ]
    },
    {
     "name": "stderr",
     "output_type": "stream",
     "text": [
      "FactorBP/FactorGraph.py:399: DeprecationWarning: PyArray_FromDims: use PyArray_SimpleNew.\n  def GetDecode(self): return _FactorGraph.CFactorGraph_GetDecode(self)\nFactorBP/FactorGraph.py:399: DeprecationWarning: PyArray_FromDimsAndDataAndDescr: use PyArray_NewFromDescr.\n  def GetDecode(self): return _FactorGraph.CFactorGraph_GetDecode(self)\n"
     ]
    },
    {
     "name": "stderr",
     "output_type": "stream",
     "text": [
      "FactorBP/FactorGraph.py:399: DeprecationWarning: PyArray_FromDims: use PyArray_SimpleNew.\n  def GetDecode(self): return _FactorGraph.CFactorGraph_GetDecode(self)\nFactorBP/FactorGraph.py:399: DeprecationWarning: PyArray_FromDimsAndDataAndDescr: use PyArray_NewFromDescr.\n  def GetDecode(self): return _FactorGraph.CFactorGraph_GetDecode(self)\nFactorBP/FactorGraph.py:399: DeprecationWarning: PyArray_FromDims: use PyArray_SimpleNew.\n  def GetDecode(self): return _FactorGraph.CFactorGraph_GetDecode(self)\nFactorBP/FactorGraph.py:399: DeprecationWarning: PyArray_FromDimsAndDataAndDescr: use PyArray_NewFromDescr.\n  def GetDecode(self): return _FactorGraph.CFactorGraph_GetDecode(self)\n"
     ]
    },
    {
     "name": "stderr",
     "output_type": "stream",
     "text": [
      "FactorBP/FactorGraph.py:399: DeprecationWarning: PyArray_FromDims: use PyArray_SimpleNew.\n  def GetDecode(self): return _FactorGraph.CFactorGraph_GetDecode(self)\nFactorBP/FactorGraph.py:399: DeprecationWarning: PyArray_FromDimsAndDataAndDescr: use PyArray_NewFromDescr.\n  def GetDecode(self): return _FactorGraph.CFactorGraph_GetDecode(self)\n"
     ]
    },
    {
     "name": "stdout",
     "output_type": "stream",
     "text": [
      "Ours Accuracy 0.971429 Running Time 0.345050 Obj 0.994424\nOurs-BCA Accuracy 0.979365 Running Time 0.373733 Obj 0.997479\nBCA Accuracy 0.876190 Running Time 0.018732 Obj 0.972760\nBCA-MP Accuracy 0.892063 Running Time 0.169705 Obj 0.978799\nBCA-IPFP Accuracy 0.960317 Running Time 0.098177 Obj 0.994431\nHGM Accuracy 0.323810 Running Time 0.003706 Obj 0.713097\nRRWHM Accuracy 0.995238 Running Time 0.114961 Obj 0.999871\nTM Accuracy 0.287302 Running Time 0.062098 Obj 0.761568\n××××××××××××××××××××\n Start baseline: 100\n"
     ]
    },
    {
     "name": "stderr",
     "output_type": "stream",
     "text": [
      "FactorBP/FactorGraph.py:399: DeprecationWarning: PyArray_FromDims: use PyArray_SimpleNew.\n  def GetDecode(self): return _FactorGraph.CFactorGraph_GetDecode(self)\nFactorBP/FactorGraph.py:399: DeprecationWarning: PyArray_FromDimsAndDataAndDescr: use PyArray_NewFromDescr.\n  def GetDecode(self): return _FactorGraph.CFactorGraph_GetDecode(self)\n"
     ]
    },
    {
     "name": "stderr",
     "output_type": "stream",
     "text": [
      "FactorBP/FactorGraph.py:399: DeprecationWarning: PyArray_FromDims: use PyArray_SimpleNew.\n  def GetDecode(self): return _FactorGraph.CFactorGraph_GetDecode(self)\nFactorBP/FactorGraph.py:399: DeprecationWarning: PyArray_FromDimsAndDataAndDescr: use PyArray_NewFromDescr.\n  def GetDecode(self): return _FactorGraph.CFactorGraph_GetDecode(self)\n"
     ]
    },
    {
     "name": "stderr",
     "output_type": "stream",
     "text": [
      "FactorBP/FactorGraph.py:399: DeprecationWarning: PyArray_FromDims: use PyArray_SimpleNew.\n  def GetDecode(self): return _FactorGraph.CFactorGraph_GetDecode(self)\nFactorBP/FactorGraph.py:399: DeprecationWarning: PyArray_FromDimsAndDataAndDescr: use PyArray_NewFromDescr.\n  def GetDecode(self): return _FactorGraph.CFactorGraph_GetDecode(self)\nFactorBP/FactorGraph.py:399: DeprecationWarning: PyArray_FromDims: use PyArray_SimpleNew.\n  def GetDecode(self): return _FactorGraph.CFactorGraph_GetDecode(self)\nFactorBP/FactorGraph.py:399: DeprecationWarning: PyArray_FromDimsAndDataAndDescr: use PyArray_NewFromDescr.\n  def GetDecode(self): return _FactorGraph.CFactorGraph_GetDecode(self)\nFactorBP/FactorGraph.py:399: DeprecationWarning: PyArray_FromDims: use PyArray_SimpleNew.\n  def GetDecode(self): return _FactorGraph.CFactorGraph_GetDecode(self)\nFactorBP/FactorGraph.py:399: DeprecationWarning: PyArray_FromDimsAndDataAndDescr: use PyArray_NewFromDescr.\n  def GetDecode(self): return _FactorGraph.CFactorGraph_GetDecode(self)\n"
     ]
    },
    {
     "name": "stderr",
     "output_type": "stream",
     "text": [
      "FactorBP/FactorGraph.py:399: DeprecationWarning: PyArray_FromDims: use PyArray_SimpleNew.\n  def GetDecode(self): return _FactorGraph.CFactorGraph_GetDecode(self)\nFactorBP/FactorGraph.py:399: DeprecationWarning: PyArray_FromDimsAndDataAndDescr: use PyArray_NewFromDescr.\n  def GetDecode(self): return _FactorGraph.CFactorGraph_GetDecode(self)\nFactorBP/FactorGraph.py:399: DeprecationWarning: PyArray_FromDims: use PyArray_SimpleNew.\n  def GetDecode(self): return _FactorGraph.CFactorGraph_GetDecode(self)\nFactorBP/FactorGraph.py:399: DeprecationWarning: PyArray_FromDimsAndDataAndDescr: use PyArray_NewFromDescr.\n  def GetDecode(self): return _FactorGraph.CFactorGraph_GetDecode(self)\n"
     ]
    },
    {
     "name": "stderr",
     "output_type": "stream",
     "text": [
      "FactorBP/FactorGraph.py:399: DeprecationWarning: PyArray_FromDims: use PyArray_SimpleNew.\n  def GetDecode(self): return _FactorGraph.CFactorGraph_GetDecode(self)\nFactorBP/FactorGraph.py:399: DeprecationWarning: PyArray_FromDimsAndDataAndDescr: use PyArray_NewFromDescr.\n  def GetDecode(self): return _FactorGraph.CFactorGraph_GetDecode(self)\n"
     ]
    },
    {
     "name": "stderr",
     "output_type": "stream",
     "text": [
      "FactorBP/FactorGraph.py:399: DeprecationWarning: PyArray_FromDims: use PyArray_SimpleNew.\n  def GetDecode(self): return _FactorGraph.CFactorGraph_GetDecode(self)\nFactorBP/FactorGraph.py:399: DeprecationWarning: PyArray_FromDimsAndDataAndDescr: use PyArray_NewFromDescr.\n  def GetDecode(self): return _FactorGraph.CFactorGraph_GetDecode(self)\nFactorBP/FactorGraph.py:399: DeprecationWarning: PyArray_FromDims: use PyArray_SimpleNew.\n  def GetDecode(self): return _FactorGraph.CFactorGraph_GetDecode(self)\nFactorBP/FactorGraph.py:399: DeprecationWarning: PyArray_FromDimsAndDataAndDescr: use PyArray_NewFromDescr.\n  def GetDecode(self): return _FactorGraph.CFactorGraph_GetDecode(self)\n"
     ]
    },
    {
     "name": "stderr",
     "output_type": "stream",
     "text": [
      "FactorBP/FactorGraph.py:399: DeprecationWarning: PyArray_FromDims: use PyArray_SimpleNew.\n  def GetDecode(self): return _FactorGraph.CFactorGraph_GetDecode(self)\nFactorBP/FactorGraph.py:399: DeprecationWarning: PyArray_FromDimsAndDataAndDescr: use PyArray_NewFromDescr.\n  def GetDecode(self): return _FactorGraph.CFactorGraph_GetDecode(self)\nFactorBP/FactorGraph.py:399: DeprecationWarning: PyArray_FromDims: use PyArray_SimpleNew.\n  def GetDecode(self): return _FactorGraph.CFactorGraph_GetDecode(self)\nFactorBP/FactorGraph.py:399: DeprecationWarning: PyArray_FromDimsAndDataAndDescr: use PyArray_NewFromDescr.\n  def GetDecode(self): return _FactorGraph.CFactorGraph_GetDecode(self)\n"
     ]
    },
    {
     "name": "stderr",
     "output_type": "stream",
     "text": [
      "FactorBP/FactorGraph.py:399: DeprecationWarning: PyArray_FromDims: use PyArray_SimpleNew.\n  def GetDecode(self): return _FactorGraph.CFactorGraph_GetDecode(self)\nFactorBP/FactorGraph.py:399: DeprecationWarning: PyArray_FromDimsAndDataAndDescr: use PyArray_NewFromDescr.\n  def GetDecode(self): return _FactorGraph.CFactorGraph_GetDecode(self)\nFactorBP/FactorGraph.py:399: DeprecationWarning: PyArray_FromDims: use PyArray_SimpleNew.\n  def GetDecode(self): return _FactorGraph.CFactorGraph_GetDecode(self)\nFactorBP/FactorGraph.py:399: DeprecationWarning: PyArray_FromDimsAndDataAndDescr: use PyArray_NewFromDescr.\n  def GetDecode(self): return _FactorGraph.CFactorGraph_GetDecode(self)\n"
     ]
    },
    {
     "name": "stderr",
     "output_type": "stream",
     "text": [
      "FactorBP/FactorGraph.py:399: DeprecationWarning: PyArray_FromDims: use PyArray_SimpleNew.\n  def GetDecode(self): return _FactorGraph.CFactorGraph_GetDecode(self)\nFactorBP/FactorGraph.py:399: DeprecationWarning: PyArray_FromDimsAndDataAndDescr: use PyArray_NewFromDescr.\n  def GetDecode(self): return _FactorGraph.CFactorGraph_GetDecode(self)\nFactorBP/FactorGraph.py:399: DeprecationWarning: PyArray_FromDims: use PyArray_SimpleNew.\n  def GetDecode(self): return _FactorGraph.CFactorGraph_GetDecode(self)\nFactorBP/FactorGraph.py:399: DeprecationWarning: PyArray_FromDimsAndDataAndDescr: use PyArray_NewFromDescr.\n  def GetDecode(self): return _FactorGraph.CFactorGraph_GetDecode(self)\n"
     ]
    },
    {
     "name": "stderr",
     "output_type": "stream",
     "text": [
      "FactorBP/FactorGraph.py:399: DeprecationWarning: PyArray_FromDims: use PyArray_SimpleNew.\n  def GetDecode(self): return _FactorGraph.CFactorGraph_GetDecode(self)\nFactorBP/FactorGraph.py:399: DeprecationWarning: PyArray_FromDimsAndDataAndDescr: use PyArray_NewFromDescr.\n  def GetDecode(self): return _FactorGraph.CFactorGraph_GetDecode(self)\nFactorBP/FactorGraph.py:399: DeprecationWarning: PyArray_FromDims: use PyArray_SimpleNew.\n  def GetDecode(self): return _FactorGraph.CFactorGraph_GetDecode(self)\nFactorBP/FactorGraph.py:399: DeprecationWarning: PyArray_FromDimsAndDataAndDescr: use PyArray_NewFromDescr.\n  def GetDecode(self): return _FactorGraph.CFactorGraph_GetDecode(self)\nFactorBP/FactorGraph.py:399: DeprecationWarning: PyArray_FromDims: use PyArray_SimpleNew.\n  def GetDecode(self): return _FactorGraph.CFactorGraph_GetDecode(self)\nFactorBP/FactorGraph.py:399: DeprecationWarning: PyArray_FromDimsAndDataAndDescr: use PyArray_NewFromDescr.\n  def GetDecode(self): return _FactorGraph.CFactorGraph_GetDecode(self)\n"
     ]
    },
    {
     "name": "stderr",
     "output_type": "stream",
     "text": [
      "FactorBP/FactorGraph.py:399: DeprecationWarning: PyArray_FromDims: use PyArray_SimpleNew.\n  def GetDecode(self): return _FactorGraph.CFactorGraph_GetDecode(self)\nFactorBP/FactorGraph.py:399: DeprecationWarning: PyArray_FromDimsAndDataAndDescr: use PyArray_NewFromDescr.\n  def GetDecode(self): return _FactorGraph.CFactorGraph_GetDecode(self)\nFactorBP/FactorGraph.py:399: DeprecationWarning: PyArray_FromDims: use PyArray_SimpleNew.\n  def GetDecode(self): return _FactorGraph.CFactorGraph_GetDecode(self)\nFactorBP/FactorGraph.py:399: DeprecationWarning: PyArray_FromDimsAndDataAndDescr: use PyArray_NewFromDescr.\n  def GetDecode(self): return _FactorGraph.CFactorGraph_GetDecode(self)\n"
     ]
    },
    {
     "name": "stdout",
     "output_type": "stream",
     "text": [
      "Ours Accuracy 0.887879 Running Time 0.336284 Obj 0.976182\nOurs-BCA Accuracy 0.924242 Running Time 0.364488 Obj 0.992444\nBCA Accuracy 0.766667 Running Time 0.019216 Obj 0.961381\nBCA-MP Accuracy 0.775758 Running Time 0.189769 Obj 0.964752\nBCA-IPFP Accuracy 0.969697 Running Time 0.103456 Obj 0.996433\nHGM Accuracy 0.309091 Running Time 0.003493 Obj 0.727841\nRRWHM Accuracy 0.936364 Running Time 0.202189 Obj 0.992158\nTM Accuracy 0.281818 Running Time 0.062517 Obj 0.773986\n××××××××××××××××××××\n"
     ]
    }
   ],
   "source": [
    "def ComputeAccurancy(Decode, gTruth, NofInliers):\n",
    "    Ccnt = 0\n",
    "    for i in range(NofInliers):\n",
    "        if(Decode[i] == gTruth[i]):\n",
    "            Ccnt += 1\n",
    "    return 1.0 * Ccnt / NofInliers\n",
    "\n",
    "def LoadHouse():\n",
    "    res = np.zeros([111, 30, 2])\n",
    "    for i in range(1,112):\n",
    "        res[i-1] = np.loadtxt('data/cmum/house/label/house%d' %i)\n",
    "    return res\n",
    "HouseData = LoadHouse()\n",
    "NofAlgorithms = 8\n",
    "AlgorithmNames=['Ours', 'Ours-BCA', 'BCA', 'BCA-MP', 'BCA-IPFP', 'HGM', 'RRWHM', 'TM']\n",
    "start = 0\n",
    "end = 111\n",
    "MeanAcc = np.zeros([10,NofAlgorithms])\n",
    "MeanRtime = np.zeros([10, NofAlgorithms])\n",
    "MeanObj = np.zeros([10, NofAlgorithms])\n",
    "AllAcc = {}\n",
    "AllRtim = {}\n",
    "AllObj = {}\n",
    "for baseline in xrange(10,101,10):\n",
    "    print(' Start baseline: %d' % (baseline))\n",
    "    AllAcc[(baseline-10)/10] = np.zeros([NofAlgorithms, end - baseline])\n",
    "    AllRtim[(baseline-10)/10] = np.zeros([NofAlgorithms, end - baseline])\n",
    "    # AllObj[(baseline-10)/10] = np.zeros([NofAlgorithms, end - baseline])\n",
    "    Obj = np.zeros([NofAlgorithms, end - baseline])\n",
    "\n",
    "    for ImageI in range(start, end - baseline):\n",
    "        PT1 = np.copy(HouseData[ImageI])\n",
    "        PT2 = np.copy(HouseData[ImageI+baseline])\n",
    "        NofNodes = 30\n",
    "        gTruth = np.random.permutation(NofNodes)\n",
    "        PT1 = PT1[gTruth, :]\n",
    "        PF1 = np.zeros([NofNodes,1])\n",
    "        PF2 = np.zeros([NofNodes,2])\n",
    "        MG1 = FB.MatchingGraph(PT1[0:NofNodes], PF1[0:NofNodes])\n",
    "        MG2 = FB.MatchingGraph(PT2[0:NofNodes], PF2[0:NofNodes])\n",
    "\n",
    "        [G, FName] = FB.ConstructMatchingModel(MG1, MG2, 'cmu', True, False)\n",
    "        # G2 = FB.ConstructMatchingModel(MG1, MG2, 'cmu', False, True)\n",
    "        [Gvis, FName] = FB.ConstructMatchingModel(MG1, MG2, 'cmu', True, False)\n",
    "        G.SetVerbose(False)\n",
    "\n",
    "        # Our results 1\n",
    "        res1 = FB.BaBSolver(G, 30, 10, 0.005, False)\n",
    "        AllAcc[(baseline-10)/10][0][ImageI] = ComputeAccurancy(res1.Decode, gTruth, NofNodes)\n",
    "        AllRtim[(baseline-10)/10][0][ImageI] = res1.Time\n",
    "        Obj[0][ImageI] = res1.Value\n",
    "        #end Our results 1\n",
    "        \n",
    "        # BCA\n",
    "        resBag = eng.runBcagm(FName, nargout=3)\n",
    "        AllAcc[(baseline-10)/10][2][ImageI] = ComputeAccurancy(resBag[1][0], gTruth, NofNodes)\n",
    "        AllRtim[(baseline-10)/10][2][ImageI] = resBag[0]\n",
    "        cDecode = FB.intArray(NofNodes)\n",
    "        for i in range(NofNodes):\n",
    "            cDecode[i] = int(resBag[1][0][i])\n",
    "        Obj[2][ImageI] = Gvis.ComputeObj(cDecode)\n",
    "        #end BCA\n",
    "        \n",
    "        # BCA-MP\n",
    "        resBagMP = eng.runBcagmQuad1(FName, 1,nargout=3)\n",
    "        AllAcc[(baseline-10)/10][3][ImageI] = ComputeAccurancy(resBagMP[1][0], gTruth, NofNodes)\n",
    "        AllRtim[(baseline-10)/10][3][ImageI] = resBagMP[0]\n",
    "        for i in range(NofNodes):\n",
    "            cDecode[i] = int(resBagMP[1][0][i])\n",
    "        Obj[3][ImageI] = Gvis.ComputeObj(cDecode)\n",
    "        #end BCA-MP\n",
    "        \n",
    "        # BCA-IPFP\n",
    "        resBagIPFP = eng.runBcagmQuad1(FName, 2,nargout=3)\n",
    "        AllAcc[(baseline-10)/10][4][ImageI] = ComputeAccurancy(resBagIPFP[1][0], gTruth, NofNodes)\n",
    "        AllRtim[(baseline-10)/10][4][ImageI] = resBagIPFP[0]\n",
    "        for i in range(NofNodes):\n",
    "            cDecode[i] = int(resBagIPFP[1][0][i])\n",
    "        Obj[4][ImageI] = Gvis.ComputeObj(cDecode)\n",
    "        #end BCA-IPFP\n",
    "        \n",
    "        # HGM\n",
    "        resHGM = eng.runHGM(FName, nargout=3)\n",
    "        AllAcc[(baseline-10)/10][5][ImageI] = ComputeAccurancy(resHGM[1][0], gTruth, NofNodes)\n",
    "        AllRtim[(baseline-10)/10][5][ImageI] = resHGM[0]\n",
    "        for i in range(NofNodes):\n",
    "            cDecode[i] = int(resHGM[1][0][i])\n",
    "        Obj[5][ImageI] = Gvis.ComputeObj(cDecode)\n",
    "        #end HGM\n",
    "        \n",
    "        # RRWHM\n",
    "        resRRWHM = eng.runRRWHM(FName, nargout=3)\n",
    "        #resRRWHM = eng.runBcagm(nargout=3)\n",
    "        AllAcc[(baseline-10)/10][6][ImageI] = ComputeAccurancy(resRRWHM[1][0], gTruth, NofNodes)\n",
    "        AllRtim[(baseline-10)/10][6][ImageI] = resRRWHM[0]\n",
    "        for i in range(NofNodes):\n",
    "            cDecode[i] = int(resRRWHM[1][0][i])\n",
    "        Obj[6][ImageI] = Gvis.ComputeObj(cDecode)\n",
    "        #end RRWHM\n",
    "        \n",
    "        # TensorMatching\n",
    "        resTM = eng.runTensorMatching(FName, nargout=3)\n",
    "        AllAcc[(baseline-10)/10][7][ImageI] = ComputeAccurancy(resTM[1][0], gTruth, NofNodes)\n",
    "        AllRtim[(baseline-10)/10][7][ImageI] = resTM[0]\n",
    "        for i in range(NofNodes):\n",
    "            cDecode[i] = int(resTM[1][0][i])\n",
    "        Obj[7][ImageI] = Gvis.ComputeObj(cDecode)\n",
    "        #end TensorMatching\n",
    "        \n",
    "        # Our-BCA Results\n",
    "        start_time = time.time()\n",
    "        ResForBca = sio.loadmat(FName)\n",
    "        X0 = np.zeros(NofNodes)\n",
    "        X0Vec = res1.Decode\n",
    "        for i in xrange(NofNodes):\n",
    "            X0[i] = X0Vec[i]\n",
    "        ResForBca['X0'] = X0\n",
    "        sio.savemat(FName, ResForBca)\n",
    "        resOursBCA = eng.runBcagm(FName, nargout=3)\n",
    "        time_dur = time.time() - start_time\n",
    "\n",
    "        cDecode = FB.intArray(NofNodes)\n",
    "        #print(resOursBCA[1][0])\n",
    "        for i in range(NofNodes):\n",
    "            cDecode[i] = int(resOursBCA[1][0][i])\n",
    "        if res1.Value < Gvis.ComputeObj(cDecode):\n",
    "            AllAcc[(baseline-10)/10][1][ImageI] = ComputeAccurancy(resOursBCA[1][0], gTruth, NofNodes)\n",
    "            Obj[1][ImageI] = Gvis.ComputeObj(cDecode)\n",
    "        else:\n",
    "            AllAcc[(baseline-10)/10][1][ImageI] = ComputeAccurancy(res1.Decode, gTruth, NofNodes)\n",
    "            Obj[1][ImageI] = res1.Value\n",
    "        AllRtim[(baseline-10)/10][1][ImageI] = time_dur + res1.Time\n",
    "        #end Our-BCA Results\n",
    "        \n",
    "        MaxObj = np.max(Obj[:,ImageI])\n",
    "        Obj[:,ImageI] /= MaxObj\n",
    "        AllObj[(baseline-10)/10] = Obj\n",
    "        #for ai in xrange(NofAlgorithms):\n",
    "        #    print('%s Accuracy %f Running Time %f Obj %f' %(AlgorithmNames[ai], \n",
    "        #                                                     AllAcc[(baseline-10)/10][ai][ImageI],\n",
    "        #                                                    AllRtim[(baseline-10)/10][ai][ImageI],\n",
    "        #                                                   AllObj[(baseline-10)/10][ai][ImageI]))\n",
    "        #print(' Finished Frame: %d ----------------------' % (ImageI) )\n",
    "        #end inner loop\n",
    "    for ai in xrange(NofAlgorithms):\n",
    "        MeanAcc[(baseline-10)/10][ai] = np.mean(AllAcc[(baseline-10)/10][ai])\n",
    "        MeanRtime[(baseline-10)/10][ai] = np.mean(AllRtim[(baseline-10)/10][ai])\n",
    "        # MeanObj[(baseline-10)/10][ai] = np.mean(Obj[ai])\n",
    "        MeanObj[(baseline-10)/10][ai] = np.mean(AllObj[(baseline-10)/10][ai])\n",
    "        print('%s Accuracy %f Running Time %f Obj %f' %(AlgorithmNames[ai], \n",
    "                                                        MeanAcc[(baseline-10)/10][ai],\n",
    "                                                        MeanRtime[(baseline-10)/10][ai],\n",
    "                                                        MeanObj[(baseline-10)/10][ai]))\n",
    "    print('××××××××××××××××××××')\n",
    "    #end outer loop"
   ]
  },
  {
   "cell_type": "code",
   "execution_count": 5,
   "metadata": {
    "collapsed": false
   },
   "outputs": [
    {
     "data": {
      "text/plain": [
       "array([ 1.        ,  1.        ,  1.        ,  1.        ,  1.        ,\n        0.99869281,  0.99837398,  0.99569892,  0.97142857,  0.88787879])"
      ]
     },
     "execution_count": 5,
     "metadata": {},
     "output_type": "execute_result"
    },
    {
     "data": {
      "image/png": "[encoded data removed]",
      "text/plain": [
       "<matplotlib.figure.Figure at 0x7fd65b610a50>"
      ]
     },
     "metadata": {},
     "output_type": "display_data"
    },
    {
     "data": {
      "text/plain": [
       "<matplotlib.figure.Figure at 0x7fd652a37910>"
      ]
     },
     "execution_count": 0,
     "metadata": {},
     "output_type": "execute_result"
    },
    {
     "data": {
      "image/png": "[encoded data removed]",
      "text/plain": [
       "<matplotlib.figure.Figure at 0x7fd652f25290>"
      ]
     },
     "metadata": {},
     "output_type": "display_data"
    },
    {
     "data": {
      "image/png": "[encoded data removed]",
      "text/plain": [
       "<matplotlib.figure.Figure at 0x7fd652670a50>"
      ]
     },
     "metadata": {},
     "output_type": "display_data"
    }
   ],
   "source": [
    "import matplotlib.pyplot as plt\n",
    "import matplotlib\n",
    "import pylab\n",
    "%matplotlib inline\n",
    "\n",
    "Colors = [[ 0.        ,  0.5       , 0.5        ,  1.        ],   #1\n",
    "          # [ 1.        ,  0.00196078,  1.        ,  1.        ],   #2\n",
    "          [ 0.        ,  0.50392157,  1.        ,  1.        ],   #3\n",
    "          [ 0.08538899,  1.        ,  0.88235294,  1.        ],   #4\n",
    "          [ 0.49019608,  1.        ,  0.47754586,  1.        ],   #5\n",
    "          [ 0.5       ,  1.        ,  0.17273877,  1.        ],   #6\n",
    "          [ 1.        ,  0.58169935,  0.        ,  1.        ],   #7\n",
    "          [ 1.        ,  0.11692084,  0.        ,  1.        ],   #8\n",
    "          [ 1.        ,  0.        ,  1.        ,  1.        ]];  #9\n",
    "Seq = [0, 1, 2, 3, 4, 5, 6, 7]\n",
    "AlgorithmNames=['Ours', 'Ours-BCA', 'BCA', 'BCA-MP', 'BCA-IPFP', 'HGM', 'RRWHM', 'TM']\n",
    "Markers = ['o', '+', 'v', 'x', 'd', 'h', 'D', 'H']\n",
    "\n",
    "figData = pylab.figure(num=None, figsize=(4, 3), dpi=80, facecolor='w', edgecolor='k')\n",
    "ax = pylab.gca()\n",
    "\n",
    "matplotlib.rc('font',family='Times New Roman')\n",
    "\n",
    "\n",
    "#plt.figure(num=None, figsize=(4, 3), dpi=80, facecolor='w', edgecolor='k')\n",
    "\n",
    "for ai in xrange(NofAlgorithms):\n",
    "    pylab.plot(range(10,101,10), MeanAcc[:,Seq[ai]], label=AlgorithmNames[Seq[ai]], \n",
    "             color=Colors[Seq[ai]], marker=Markers[Seq[ai]])\n",
    "pylab.ylim([0,1.05])\n",
    "pylab.grid(True)\n",
    "\n",
    "pylab.ylabel('Accuracy')\n",
    "pylab.xlabel('Seperation')\n",
    "\n",
    "\n",
    "figLegend = pylab.figure(figsize = (11.7,0.4))\n",
    "pylab.figlegend(*ax.get_legend_handles_labels(), loc = 'upper center',  ncol=9, shadow=True, fancybox=True)\n",
    "figData.savefig('results/TripletsOnly/House_Acc.pdf')\n",
    "#figLegend.savefig(\"legend.pdf\")\n",
    "figLegend.show()\n",
    "\n",
    "#plt.legend(shadow=True, fancybox=True,loc='upper center', bbox_to_anchor=(0.5,-0.25), ncol=9)\n",
    "#plt.savefig('House_ACC.pdf')    # <-- loses transparency\n",
    "\n",
    "StoreForPlot ={}\n",
    "StoreForPlot['Accuracy'] = MeanAcc\n",
    "StoreForPlot['Time'] = MeanRtime\n",
    "StoreForPlot['Obj'] = MeanObj\n",
    "\n",
    "sio.savemat('results/TripletsOnly/PlotData.mat', StoreForPlot)\n",
    "\n",
    "plt.figure(num=None, figsize=(4, 3), dpi=80, facecolor='w', edgecolor='k')\n",
    "\n",
    "\n",
    "for ai in xrange(NofAlgorithms):\n",
    "    if(AlgorithmNames[Seq[ai]] == 'Ours')|(AlgorithmNames[Seq[ai]] == 'Ours-BCA'):\n",
    "        continue\n",
    "    plt.plot(range(10,101,10), MeanObj[:,Seq[ai]], label=AlgorithmNames[Seq[ai]], \n",
    "             color=Colors[Seq[ai]], marker=Markers[Seq[ai]])\n",
    "plt.ylim([0.25,1.02])\n",
    "plt.ylabel('Obj. Value')\n",
    "plt.xlabel('Seperation')\n",
    "plt.grid(True)\n",
    "plt.savefig('results/TripletsOnly/House_Obj.pdf')    # <-- loses transparency\n",
    "\n",
    "\n",
    "plt.figure(num=None, figsize=(4, 3), dpi=80, facecolor='w', edgecolor='k')\n",
    "\n",
    "\n",
    "for ai in xrange(NofAlgorithms):\n",
    "    plt.plot(range(10,101,10), MeanRtime[:,Seq[ai]], label=AlgorithmNames[Seq[ai]], \n",
    "             color=Colors[Seq[ai]], marker=Markers[Seq[ai]], linewidth=1.25)\n",
    "\n",
    "plt.ylabel('Seperation')\n",
    "plt.xlabel('#Outliers')\n",
    "\n",
    "plt.grid(True)\n",
    "plt.savefig('results/TripletsOnly/Car_Time.pdf')    # <-- loses transparency\n",
    "\n",
    "MeanAcc[:,0]"
   ]
  },
  {
   "cell_type": "code",
   "execution_count": 16,
   "metadata": {
    "collapsed": false
   },
   "outputs": [
    {
     "name": "stdout",
     "output_type": "stream",
     "text": [
      "BaBIter=1, GUB = 100000000000000000000.000000, GLB = -100000000000000000000.000000, Gap = 2.00, Time=0.0027\n"
     ]
    }
   ],
   "source": [
    "PT1 = np.copy(HouseData[ImageI])\n",
    "PT2 = np.copy(HouseData[ImageI+baseline])\n",
    "NofNodes = 30\n",
    "gTruth = np.random.permutation(NofNodes)\n",
    "PT1 = PT1[gTruth, :]\n",
    "PF1 = np.zeros([NofNodes,1])\n",
    "PF2 = np.zeros([NofNodes,2])\n",
    "MG1 = FB.MatchingGraph(PT1[0:NofNodes], PF1[0:NofNodes])\n",
    "MG2 = FB.MatchingGraph(PT2[0:NofNodes], PF2[0:NofNodes])\n",
    "G = FB.ConstructMatchingModel(MG1, MG2, 'cmu', True, False)\n",
    "res1 = FB.BaBSolver(G, 30, 10, 0.005, True)"
   ]
  },
  {
   "cell_type": "code",
   "execution_count": null,
   "metadata": {
    "collapsed": true
   },
   "outputs": [],
   "source": [
    ""
   ]
  }
 ],
 "metadata": {
  "anaconda-cloud": {},
  "celltoolbar": "Slideshow",
  "kernelspec": {
   "display_name": "Python 2",
   "language": "python",
   "name": "python2"
  },
  "language_info": {
   "codemirror_mode": {
    "name": "ipython",
    "version": 2.0
   },
   "file_extension": ".py",
   "mimetype": "text/x-python",
   "name": "python",
   "nbconvert_exporter": "python",
   "pygments_lexer": "ipython2",
   "version": "2.7.6"
  }
 },
 "nbformat": 4,
 "nbformat_minor": 0
}