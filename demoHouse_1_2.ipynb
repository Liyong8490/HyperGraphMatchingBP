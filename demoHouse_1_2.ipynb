{
 "cells": [
  {
   "cell_type": "code",
   "execution_count": 1,
   "metadata": {
    "collapsed": false,
    "slideshow": {
     "slide_type": "slide"
    }
   },
   "outputs": [],
   "source": [
    "import numpy as np\n",
    "import FactorBP as FB\n",
    "import scipy.io as sio\n",
    "import matlab.engine\n",
    "import time\n",
    "eng = matlab.engine.start_matlab()"
   ]
  },
  {
   "cell_type": "code",
   "execution_count": 6,
   "metadata": {
    "collapsed": false
   },
   "outputs": [
    {
     "name": "stdout",
     "output_type": "stream",
     "text": [
      " Start baseline: 10\n"
     ]
    },
    {
     "name": "stderr",
     "output_type": "stream",
     "text": [
      "FactorBP/FactorGraph.py:399: DeprecationWarning: PyArray_FromDims: use PyArray_SimpleNew.\n  def GetDecode(self): return _FactorGraph.CFactorGraph_GetDecode(self)\nFactorBP/FactorGraph.py:399: DeprecationWarning: PyArray_FromDimsAndDataAndDescr: use PyArray_NewFromDescr.\n  def GetDecode(self): return _FactorGraph.CFactorGraph_GetDecode(self)\n"
     ]
    },
    {
     "name": "stderr",
     "output_type": "stream",
     "text": [
      "FactorBP/FactorGraph.py:399: DeprecationWarning: PyArray_FromDims: use PyArray_SimpleNew.\n  def GetDecode(self): return _FactorGraph.CFactorGraph_GetDecode(self)\nFactorBP/FactorGraph.py:399: DeprecationWarning: PyArray_FromDimsAndDataAndDescr: use PyArray_NewFromDescr.\n  def GetDecode(self): return _FactorGraph.CFactorGraph_GetDecode(self)\n"
     ]
    },
    {
     "name": "stderr",
     "output_type": "stream",
     "text": [
      "FactorBP/FactorGraph.py:399: DeprecationWarning: PyArray_FromDims: use PyArray_SimpleNew.\n  def GetDecode(self): return _FactorGraph.CFactorGraph_GetDecode(self)\nFactorBP/FactorGraph.py:399: DeprecationWarning: PyArray_FromDimsAndDataAndDescr: use PyArray_NewFromDescr.\n  def GetDecode(self): return _FactorGraph.CFactorGraph_GetDecode(self)\n"
     ]
    },
    {
     "name": "stderr",
     "output_type": "stream",
     "text": [
      "FactorBP/FactorGraph.py:399: DeprecationWarning: PyArray_FromDims: use PyArray_SimpleNew.\n  def GetDecode(self): return _FactorGraph.CFactorGraph_GetDecode(self)\nFactorBP/FactorGraph.py:399: DeprecationWarning: PyArray_FromDimsAndDataAndDescr: use PyArray_NewFromDescr.\n  def GetDecode(self): return _FactorGraph.CFactorGraph_GetDecode(self)\n"
     ]
    },
    {
     "name": "stderr",
     "output_type": "stream",
     "text": [
      "FactorBP/FactorGraph.py:399: DeprecationWarning: PyArray_FromDims: use PyArray_SimpleNew.\n  def GetDecode(self): return _FactorGraph.CFactorGraph_GetDecode(self)\nFactorBP/FactorGraph.py:399: DeprecationWarning: PyArray_FromDimsAndDataAndDescr: use PyArray_NewFromDescr.\n  def GetDecode(self): return _FactorGraph.CFactorGraph_GetDecode(self)\n"
     ]
    },
    {
     "name": "stderr",
     "output_type": "stream",
     "text": [
      "FactorBP/FactorGraph.py:399: DeprecationWarning: PyArray_FromDims: use PyArray_SimpleNew.\n  def GetDecode(self): return _FactorGraph.CFactorGraph_GetDecode(self)\nFactorBP/FactorGraph.py:399: DeprecationWarning: PyArray_FromDimsAndDataAndDescr: use PyArray_NewFromDescr.\n  def GetDecode(self): return _FactorGraph.CFactorGraph_GetDecode(self)\n"
     ]
    },
    {
     "name": "stderr",
     "output_type": "stream",
     "text": [
      "FactorBP/FactorGraph.py:399: DeprecationWarning: PyArray_FromDims: use PyArray_SimpleNew.\n  def GetDecode(self): return _FactorGraph.CFactorGraph_GetDecode(self)\nFactorBP/FactorGraph.py:399: DeprecationWarning: PyArray_FromDimsAndDataAndDescr: use PyArray_NewFromDescr.\n  def GetDecode(self): return _FactorGraph.CFactorGraph_GetDecode(self)\n"
     ]
    },
    {
     "name": "stderr",
     "output_type": "stream",
     "text": [
      "FactorBP/FactorGraph.py:399: DeprecationWarning: PyArray_FromDims: use PyArray_SimpleNew.\n  def GetDecode(self): return _FactorGraph.CFactorGraph_GetDecode(self)\nFactorBP/FactorGraph.py:399: DeprecationWarning: PyArray_FromDimsAndDataAndDescr: use PyArray_NewFromDescr.\n  def GetDecode(self): return _FactorGraph.CFactorGraph_GetDecode(self)\n"
     ]
    },
    {
     "name": "stderr",
     "output_type": "stream",
     "text": [
      "FactorBP/FactorGraph.py:399: DeprecationWarning: PyArray_FromDims: use PyArray_SimpleNew.\n  def GetDecode(self): return _FactorGraph.CFactorGraph_GetDecode(self)\nFactorBP/FactorGraph.py:399: DeprecationWarning: PyArray_FromDimsAndDataAndDescr: use PyArray_NewFromDescr.\n  def GetDecode(self): return _FactorGraph.CFactorGraph_GetDecode(self)\n"
     ]
    },
    {
     "name": "stderr",
     "output_type": "stream",
     "text": [
      "FactorBP/FactorGraph.py:399: DeprecationWarning: PyArray_FromDims: use PyArray_SimpleNew.\n  def GetDecode(self): return _FactorGraph.CFactorGraph_GetDecode(self)\nFactorBP/FactorGraph.py:399: DeprecationWarning: PyArray_FromDimsAndDataAndDescr: use PyArray_NewFromDescr.\n  def GetDecode(self): return _FactorGraph.CFactorGraph_GetDecode(self)\n"
     ]
    },
    {
     "name": "stderr",
     "output_type": "stream",
     "text": [
      "FactorBP/FactorGraph.py:399: DeprecationWarning: PyArray_FromDims: use PyArray_SimpleNew.\n  def GetDecode(self): return _FactorGraph.CFactorGraph_GetDecode(self)\nFactorBP/FactorGraph.py:399: DeprecationWarning: PyArray_FromDimsAndDataAndDescr: use PyArray_NewFromDescr.\n  def GetDecode(self): return _FactorGraph.CFactorGraph_GetDecode(self)\n"
     ]
    },
    {
     "name": "stderr",
     "output_type": "stream",
     "text": [
      "FactorBP/FactorGraph.py:399: DeprecationWarning: PyArray_FromDims: use PyArray_SimpleNew.\n  def GetDecode(self): return _FactorGraph.CFactorGraph_GetDecode(self)\nFactorBP/FactorGraph.py:399: DeprecationWarning: PyArray_FromDimsAndDataAndDescr: use PyArray_NewFromDescr.\n  def GetDecode(self): return _FactorGraph.CFactorGraph_GetDecode(self)\n"
     ]
    },
    {
     "name": "stderr",
     "output_type": "stream",
     "text": [
      "FactorBP/FactorGraph.py:399: DeprecationWarning: PyArray_FromDims: use PyArray_SimpleNew.\n  def GetDecode(self): return _FactorGraph.CFactorGraph_GetDecode(self)\nFactorBP/FactorGraph.py:399: DeprecationWarning: PyArray_FromDimsAndDataAndDescr: use PyArray_NewFromDescr.\n  def GetDecode(self): return _FactorGraph.CFactorGraph_GetDecode(self)\n"
     ]
    },
    {
     "name": "stderr",
     "output_type": "stream",
     "text": [
      "FactorBP/FactorGraph.py:399: DeprecationWarning: PyArray_FromDims: use PyArray_SimpleNew.\n  def GetDecode(self): return _FactorGraph.CFactorGraph_GetDecode(self)\nFactorBP/FactorGraph.py:399: DeprecationWarning: PyArray_FromDimsAndDataAndDescr: use PyArray_NewFromDescr.\n  def GetDecode(self): return _FactorGraph.CFactorGraph_GetDecode(self)\n"
     ]
    },
    {
     "name": "stderr",
     "output_type": "stream",
     "text": [
      "FactorBP/FactorGraph.py:399: DeprecationWarning: PyArray_FromDims: use PyArray_SimpleNew.\n  def GetDecode(self): return _FactorGraph.CFactorGraph_GetDecode(self)\nFactorBP/FactorGraph.py:399: DeprecationWarning: PyArray_FromDimsAndDataAndDescr: use PyArray_NewFromDescr.\n  def GetDecode(self): return _FactorGraph.CFactorGraph_GetDecode(self)\n"
     ]
    },
    {
     "name": "stderr",
     "output_type": "stream",
     "text": [
      "FactorBP/FactorGraph.py:399: DeprecationWarning: PyArray_FromDims: use PyArray_SimpleNew.\n  def GetDecode(self): return _FactorGraph.CFactorGraph_GetDecode(self)\nFactorBP/FactorGraph.py:399: DeprecationWarning: PyArray_FromDimsAndDataAndDescr: use PyArray_NewFromDescr.\n  def GetDecode(self): return _FactorGraph.CFactorGraph_GetDecode(self)\n"
     ]
    },
    {
     "name": "stderr",
     "output_type": "stream",
     "text": [
      "FactorBP/FactorGraph.py:399: DeprecationWarning: PyArray_FromDims: use PyArray_SimpleNew.\n  def GetDecode(self): return _FactorGraph.CFactorGraph_GetDecode(self)\nFactorBP/FactorGraph.py:399: DeprecationWarning: PyArray_FromDimsAndDataAndDescr: use PyArray_NewFromDescr.\n  def GetDecode(self): return _FactorGraph.CFactorGraph_GetDecode(self)\n"
     ]
    },
    {
     "name": "stderr",
     "output_type": "stream",
     "text": [
      "FactorBP/FactorGraph.py:399: DeprecationWarning: PyArray_FromDims: use PyArray_SimpleNew.\n  def GetDecode(self): return _FactorGraph.CFactorGraph_GetDecode(self)\nFactorBP/FactorGraph.py:399: DeprecationWarning: PyArray_FromDimsAndDataAndDescr: use PyArray_NewFromDescr.\n  def GetDecode(self): return _FactorGraph.CFactorGraph_GetDecode(self)\n"
     ]
    },
    {
     "name": "stderr",
     "output_type": "stream",
     "text": [
      "FactorBP/FactorGraph.py:399: DeprecationWarning: PyArray_FromDims: use PyArray_SimpleNew.\n  def GetDecode(self): return _FactorGraph.CFactorGraph_GetDecode(self)\nFactorBP/FactorGraph.py:399: DeprecationWarning: PyArray_FromDimsAndDataAndDescr: use PyArray_NewFromDescr.\n  def GetDecode(self): return _FactorGraph.CFactorGraph_GetDecode(self)\n"
     ]
    },
    {
     "name": "stderr",
     "output_type": "stream",
     "text": [
      "FactorBP/FactorGraph.py:399: DeprecationWarning: PyArray_FromDims: use PyArray_SimpleNew.\n  def GetDecode(self): return _FactorGraph.CFactorGraph_GetDecode(self)\nFactorBP/FactorGraph.py:399: DeprecationWarning: PyArray_FromDimsAndDataAndDescr: use PyArray_NewFromDescr.\n  def GetDecode(self): return _FactorGraph.CFactorGraph_GetDecode(self)\n"
     ]
    },
    {
     "name": "stderr",
     "output_type": "stream",
     "text": [
      "FactorBP/FactorGraph.py:399: DeprecationWarning: PyArray_FromDims: use PyArray_SimpleNew.\n  def GetDecode(self): return _FactorGraph.CFactorGraph_GetDecode(self)\nFactorBP/FactorGraph.py:399: DeprecationWarning: PyArray_FromDimsAndDataAndDescr: use PyArray_NewFromDescr.\n  def GetDecode(self): return _FactorGraph.CFactorGraph_GetDecode(self)\n"
     ]
    },
    {
     "name": "stderr",
     "output_type": "stream",
     "text": [
      "FactorBP/FactorGraph.py:399: DeprecationWarning: PyArray_FromDims: use PyArray_SimpleNew.\n  def GetDecode(self): return _FactorGraph.CFactorGraph_GetDecode(self)\nFactorBP/FactorGraph.py:399: DeprecationWarning: PyArray_FromDimsAndDataAndDescr: use PyArray_NewFromDescr.\n  def GetDecode(self): return _FactorGraph.CFactorGraph_GetDecode(self)\n"
     ]
    },
    {
     "name": "stderr",
     "output_type": "stream",
     "text": [
      "FactorBP/FactorGraph.py:399: DeprecationWarning: PyArray_FromDims: use PyArray_SimpleNew.\n  def GetDecode(self): return _FactorGraph.CFactorGraph_GetDecode(self)\nFactorBP/FactorGraph.py:399: DeprecationWarning: PyArray_FromDimsAndDataAndDescr: use PyArray_NewFromDescr.\n  def GetDecode(self): return _FactorGraph.CFactorGraph_GetDecode(self)\n"
     ]
    },
    {
     "name": "stderr",
     "output_type": "stream",
     "text": [
      "FactorBP/FactorGraph.py:399: DeprecationWarning: PyArray_FromDims: use PyArray_SimpleNew.\n  def GetDecode(self): return _FactorGraph.CFactorGraph_GetDecode(self)\nFactorBP/FactorGraph.py:399: DeprecationWarning: PyArray_FromDimsAndDataAndDescr: use PyArray_NewFromDescr.\n  def GetDecode(self): return _FactorGraph.CFactorGraph_GetDecode(self)\n"
     ]
    },
    {
     "name": "stderr",
     "output_type": "stream",
     "text": [
      "FactorBP/FactorGraph.py:399: DeprecationWarning: PyArray_FromDims: use PyArray_SimpleNew.\n  def GetDecode(self): return _FactorGraph.CFactorGraph_GetDecode(self)\nFactorBP/FactorGraph.py:399: DeprecationWarning: PyArray_FromDimsAndDataAndDescr: use PyArray_NewFromDescr.\n  def GetDecode(self): return _FactorGraph.CFactorGraph_GetDecode(self)\n"
     ]
    },
    {
     "name": "stderr",
     "output_type": "stream",
     "text": [
      "FactorBP/FactorGraph.py:399: DeprecationWarning: PyArray_FromDims: use PyArray_SimpleNew.\n  def GetDecode(self): return _FactorGraph.CFactorGraph_GetDecode(self)\nFactorBP/FactorGraph.py:399: DeprecationWarning: PyArray_FromDimsAndDataAndDescr: use PyArray_NewFromDescr.\n  def GetDecode(self): return _FactorGraph.CFactorGraph_GetDecode(self)\n"
     ]
    },
    {
     "name": "stderr",
     "output_type": "stream",
     "text": [
      "FactorBP/FactorGraph.py:399: DeprecationWarning: PyArray_FromDims: use PyArray_SimpleNew.\n  def GetDecode(self): return _FactorGraph.CFactorGraph_GetDecode(self)\nFactorBP/FactorGraph.py:399: DeprecationWarning: PyArray_FromDimsAndDataAndDescr: use PyArray_NewFromDescr.\n  def GetDecode(self): return _FactorGraph.CFactorGraph_GetDecode(self)\n"
     ]
    },
    {
     "name": "stderr",
     "output_type": "stream",
     "text": [
      "FactorBP/FactorGraph.py:399: DeprecationWarning: PyArray_FromDims: use PyArray_SimpleNew.\n  def GetDecode(self): return _FactorGraph.CFactorGraph_GetDecode(self)\nFactorBP/FactorGraph.py:399: DeprecationWarning: PyArray_FromDimsAndDataAndDescr: use PyArray_NewFromDescr.\n  def GetDecode(self): return _FactorGraph.CFactorGraph_GetDecode(self)\n"
     ]
    },
    {
     "name": "stderr",
     "output_type": "stream",
     "text": [
      "FactorBP/FactorGraph.py:399: DeprecationWarning: PyArray_FromDims: use PyArray_SimpleNew.\n  def GetDecode(self): return _FactorGraph.CFactorGraph_GetDecode(self)\nFactorBP/FactorGraph.py:399: DeprecationWarning: PyArray_FromDimsAndDataAndDescr: use PyArray_NewFromDescr.\n  def GetDecode(self): return _FactorGraph.CFactorGraph_GetDecode(self)\n"
     ]
    },
    {
     "name": "stderr",
     "output_type": "stream",
     "text": [
      "FactorBP/FactorGraph.py:399: DeprecationWarning: PyArray_FromDims: use PyArray_SimpleNew.\n  def GetDecode(self): return _FactorGraph.CFactorGraph_GetDecode(self)\nFactorBP/FactorGraph.py:399: DeprecationWarning: PyArray_FromDimsAndDataAndDescr: use PyArray_NewFromDescr.\n  def GetDecode(self): return _FactorGraph.CFactorGraph_GetDecode(self)\n"
     ]
    },
    {
     "name": "stderr",
     "output_type": "stream",
     "text": [
      "FactorBP/FactorGraph.py:399: DeprecationWarning: PyArray_FromDims: use PyArray_SimpleNew.\n  def GetDecode(self): return _FactorGraph.CFactorGraph_GetDecode(self)\nFactorBP/FactorGraph.py:399: DeprecationWarning: PyArray_FromDimsAndDataAndDescr: use PyArray_NewFromDescr.\n  def GetDecode(self): return _FactorGraph.CFactorGraph_GetDecode(self)\n"
     ]
    },
    {
     "name": "stderr",
     "output_type": "stream",
     "text": [
      "FactorBP/FactorGraph.py:399: DeprecationWarning: PyArray_FromDims: use PyArray_SimpleNew.\n  def GetDecode(self): return _FactorGraph.CFactorGraph_GetDecode(self)\nFactorBP/FactorGraph.py:399: DeprecationWarning: PyArray_FromDimsAndDataAndDescr: use PyArray_NewFromDescr.\n  def GetDecode(self): return _FactorGraph.CFactorGraph_GetDecode(self)\n"
     ]
    },
    {
     "name": "stderr",
     "output_type": "stream",
     "text": [
      "FactorBP/FactorGraph.py:399: DeprecationWarning: PyArray_FromDims: use PyArray_SimpleNew.\n  def GetDecode(self): return _FactorGraph.CFactorGraph_GetDecode(self)\nFactorBP/FactorGraph.py:399: DeprecationWarning: PyArray_FromDimsAndDataAndDescr: use PyArray_NewFromDescr.\n  def GetDecode(self): return _FactorGraph.CFactorGraph_GetDecode(self)\n"
     ]
    },
    {
     "name": "stderr",
     "output_type": "stream",
     "text": [
      "FactorBP/FactorGraph.py:399: DeprecationWarning: PyArray_FromDims: use PyArray_SimpleNew.\n  def GetDecode(self): return _FactorGraph.CFactorGraph_GetDecode(self)\nFactorBP/FactorGraph.py:399: DeprecationWarning: PyArray_FromDimsAndDataAndDescr: use PyArray_NewFromDescr.\n  def GetDecode(self): return _FactorGraph.CFactorGraph_GetDecode(self)\n"
     ]
    },
    {
     "name": "stderr",
     "output_type": "stream",
     "text": [
      "FactorBP/FactorGraph.py:399: DeprecationWarning: PyArray_FromDims: use PyArray_SimpleNew.\n  def GetDecode(self): return _FactorGraph.CFactorGraph_GetDecode(self)\nFactorBP/FactorGraph.py:399: DeprecationWarning: PyArray_FromDimsAndDataAndDescr: use PyArray_NewFromDescr.\n  def GetDecode(self): return _FactorGraph.CFactorGraph_GetDecode(self)\n"
     ]
    },
    {
     "name": "stderr",
     "output_type": "stream",
     "text": [
      "FactorBP/FactorGraph.py:399: DeprecationWarning: PyArray_FromDims: use PyArray_SimpleNew.\n  def GetDecode(self): return _FactorGraph.CFactorGraph_GetDecode(self)\nFactorBP/FactorGraph.py:399: DeprecationWarning: PyArray_FromDimsAndDataAndDescr: use PyArray_NewFromDescr.\n  def GetDecode(self): return _FactorGraph.CFactorGraph_GetDecode(self)\n"
     ]
    },
    {
     "name": "stderr",
     "output_type": "stream",
     "text": [
      "FactorBP/FactorGraph.py:399: DeprecationWarning: PyArray_FromDims: use PyArray_SimpleNew.\n  def GetDecode(self): return _FactorGraph.CFactorGraph_GetDecode(self)\nFactorBP/FactorGraph.py:399: DeprecationWarning: PyArray_FromDimsAndDataAndDescr: use PyArray_NewFromDescr.\n  def GetDecode(self): return _FactorGraph.CFactorGraph_GetDecode(self)\n"
     ]
    },
    {
     "name": "stderr",
     "output_type": "stream",
     "text": [
      "FactorBP/FactorGraph.py:399: DeprecationWarning: PyArray_FromDims: use PyArray_SimpleNew.\n  def GetDecode(self): return _FactorGraph.CFactorGraph_GetDecode(self)\nFactorBP/FactorGraph.py:399: DeprecationWarning: PyArray_FromDimsAndDataAndDescr: use PyArray_NewFromDescr.\n  def GetDecode(self): return _FactorGraph.CFactorGraph_GetDecode(self)\n"
     ]
    },
    {
     "name": "stderr",
     "output_type": "stream",
     "text": [
      "FactorBP/FactorGraph.py:399: DeprecationWarning: PyArray_FromDims: use PyArray_SimpleNew.\n  def GetDecode(self): return _FactorGraph.CFactorGraph_GetDecode(self)\nFactorBP/FactorGraph.py:399: DeprecationWarning: PyArray_FromDimsAndDataAndDescr: use PyArray_NewFromDescr.\n  def GetDecode(self): return _FactorGraph.CFactorGraph_GetDecode(self)\n"
     ]
    },
    {
     "name": "stderr",
     "output_type": "stream",
     "text": [
      "FactorBP/FactorGraph.py:399: DeprecationWarning: PyArray_FromDims: use PyArray_SimpleNew.\n  def GetDecode(self): return _FactorGraph.CFactorGraph_GetDecode(self)\nFactorBP/FactorGraph.py:399: DeprecationWarning: PyArray_FromDimsAndDataAndDescr: use PyArray_NewFromDescr.\n  def GetDecode(self): return _FactorGraph.CFactorGraph_GetDecode(self)\n"
     ]
    },
    {
     "name": "stderr",
     "output_type": "stream",
     "text": [
      "FactorBP/FactorGraph.py:399: DeprecationWarning: PyArray_FromDims: use PyArray_SimpleNew.\n  def GetDecode(self): return _FactorGraph.CFactorGraph_GetDecode(self)\nFactorBP/FactorGraph.py:399: DeprecationWarning: PyArray_FromDimsAndDataAndDescr: use PyArray_NewFromDescr.\n  def GetDecode(self): return _FactorGraph.CFactorGraph_GetDecode(self)\n"
     ]
    },
    {
     "name": "stderr",
     "output_type": "stream",
     "text": [
      "FactorBP/FactorGraph.py:399: DeprecationWarning: PyArray_FromDims: use PyArray_SimpleNew.\n  def GetDecode(self): return _FactorGraph.CFactorGraph_GetDecode(self)\nFactorBP/FactorGraph.py:399: DeprecationWarning: PyArray_FromDimsAndDataAndDescr: use PyArray_NewFromDescr.\n  def GetDecode(self): return _FactorGraph.CFactorGraph_GetDecode(self)\n"
     ]
    },
    {
     "name": "stderr",
     "output_type": "stream",
     "text": [
      "FactorBP/FactorGraph.py:399: DeprecationWarning: PyArray_FromDims: use PyArray_SimpleNew.\n  def GetDecode(self): return _FactorGraph.CFactorGraph_GetDecode(self)\nFactorBP/FactorGraph.py:399: DeprecationWarning: PyArray_FromDimsAndDataAndDescr: use PyArray_NewFromDescr.\n  def GetDecode(self): return _FactorGraph.CFactorGraph_GetDecode(self)\n"
     ]
    },
    {
     "name": "stderr",
     "output_type": "stream",
     "text": [
      "FactorBP/FactorGraph.py:399: DeprecationWarning: PyArray_FromDims: use PyArray_SimpleNew.\n  def GetDecode(self): return _FactorGraph.CFactorGraph_GetDecode(self)\nFactorBP/FactorGraph.py:399: DeprecationWarning: PyArray_FromDimsAndDataAndDescr: use PyArray_NewFromDescr.\n  def GetDecode(self): return _FactorGraph.CFactorGraph_GetDecode(self)\n"
     ]
    },
    {
     "name": "stderr",
     "output_type": "stream",
     "text": [
      "FactorBP/FactorGraph.py:399: DeprecationWarning: PyArray_FromDims: use PyArray_SimpleNew.\n  def GetDecode(self): return _FactorGraph.CFactorGraph_GetDecode(self)\nFactorBP/FactorGraph.py:399: DeprecationWarning: PyArray_FromDimsAndDataAndDescr: use PyArray_NewFromDescr.\n  def GetDecode(self): return _FactorGraph.CFactorGraph_GetDecode(self)\n"
     ]
    },
    {
     "name": "stderr",
     "output_type": "stream",
     "text": [
      "FactorBP/FactorGraph.py:399: DeprecationWarning: PyArray_FromDims: use PyArray_SimpleNew.\n  def GetDecode(self): return _FactorGraph.CFactorGraph_GetDecode(self)\nFactorBP/FactorGraph.py:399: DeprecationWarning: PyArray_FromDimsAndDataAndDescr: use PyArray_NewFromDescr.\n  def GetDecode(self): return _FactorGraph.CFactorGraph_GetDecode(self)\n"
     ]
    },
    {
     "name": "stderr",
     "output_type": "stream",
     "text": [
      "FactorBP/FactorGraph.py:399: DeprecationWarning: PyArray_FromDims: use PyArray_SimpleNew.\n  def GetDecode(self): return _FactorGraph.CFactorGraph_GetDecode(self)\nFactorBP/FactorGraph.py:399: DeprecationWarning: PyArray_FromDimsAndDataAndDescr: use PyArray_NewFromDescr.\n  def GetDecode(self): return _FactorGraph.CFactorGraph_GetDecode(self)\n"
     ]
    },
    {
     "name": "stderr",
     "output_type": "stream",
     "text": [
      "FactorBP/FactorGraph.py:399: DeprecationWarning: PyArray_FromDims: use PyArray_SimpleNew.\n  def GetDecode(self): return _FactorGraph.CFactorGraph_GetDecode(self)\nFactorBP/FactorGraph.py:399: DeprecationWarning: PyArray_FromDimsAndDataAndDescr: use PyArray_NewFromDescr.\n  def GetDecode(self): return _FactorGraph.CFactorGraph_GetDecode(self)\n"
     ]
    },
    {
     "name": "stderr",
     "output_type": "stream",
     "text": [
      "FactorBP/FactorGraph.py:399: DeprecationWarning: PyArray_FromDims: use PyArray_SimpleNew.\n  def GetDecode(self): return _FactorGraph.CFactorGraph_GetDecode(self)\nFactorBP/FactorGraph.py:399: DeprecationWarning: PyArray_FromDimsAndDataAndDescr: use PyArray_NewFromDescr.\n  def GetDecode(self): return _FactorGraph.CFactorGraph_GetDecode(self)\n"
     ]
    },
    {
     "name": "stderr",
     "output_type": "stream",
     "text": [
      "FactorBP/FactorGraph.py:399: DeprecationWarning: PyArray_FromDims: use PyArray_SimpleNew.\n  def GetDecode(self): return _FactorGraph.CFactorGraph_GetDecode(self)\nFactorBP/FactorGraph.py:399: DeprecationWarning: PyArray_FromDimsAndDataAndDescr: use PyArray_NewFromDescr.\n  def GetDecode(self): return _FactorGraph.CFactorGraph_GetDecode(self)\n"
     ]
    },
    {
     "name": "stderr",
     "output_type": "stream",
     "text": [
      "FactorBP/FactorGraph.py:399: DeprecationWarning: PyArray_FromDims: use PyArray_SimpleNew.\n  def GetDecode(self): return _FactorGraph.CFactorGraph_GetDecode(self)\nFactorBP/FactorGraph.py:399: DeprecationWarning: PyArray_FromDimsAndDataAndDescr: use PyArray_NewFromDescr.\n  def GetDecode(self): return _FactorGraph.CFactorGraph_GetDecode(self)\n"
     ]
    },
    {
     "name": "stderr",
     "output_type": "stream",
     "text": [
      "FactorBP/FactorGraph.py:399: DeprecationWarning: PyArray_FromDims: use PyArray_SimpleNew.\n  def GetDecode(self): return _FactorGraph.CFactorGraph_GetDecode(self)\nFactorBP/FactorGraph.py:399: DeprecationWarning: PyArray_FromDimsAndDataAndDescr: use PyArray_NewFromDescr.\n  def GetDecode(self): return _FactorGraph.CFactorGraph_GetDecode(self)\n"
     ]
    },
    {
     "name": "stderr",
     "output_type": "stream",
     "text": [
      "FactorBP/FactorGraph.py:399: DeprecationWarning: PyArray_FromDims: use PyArray_SimpleNew.\n  def GetDecode(self): return _FactorGraph.CFactorGraph_GetDecode(self)\nFactorBP/FactorGraph.py:399: DeprecationWarning: PyArray_FromDimsAndDataAndDescr: use PyArray_NewFromDescr.\n  def GetDecode(self): return _FactorGraph.CFactorGraph_GetDecode(self)\n"
     ]
    },
    {
     "name": "stderr",
     "output_type": "stream",
     "text": [
      "FactorBP/FactorGraph.py:399: DeprecationWarning: PyArray_FromDims: use PyArray_SimpleNew.\n  def GetDecode(self): return _FactorGraph.CFactorGraph_GetDecode(self)\nFactorBP/FactorGraph.py:399: DeprecationWarning: PyArray_FromDimsAndDataAndDescr: use PyArray_NewFromDescr.\n  def GetDecode(self): return _FactorGraph.CFactorGraph_GetDecode(self)\n"
     ]
    },
    {
     "name": "stderr",
     "output_type": "stream",
     "text": [
      "FactorBP/FactorGraph.py:399: DeprecationWarning: PyArray_FromDims: use PyArray_SimpleNew.\n  def GetDecode(self): return _FactorGraph.CFactorGraph_GetDecode(self)\nFactorBP/FactorGraph.py:399: DeprecationWarning: PyArray_FromDimsAndDataAndDescr: use PyArray_NewFromDescr.\n  def GetDecode(self): return _FactorGraph.CFactorGraph_GetDecode(self)\n"
     ]
    },
    {
     "name": "stderr",
     "output_type": "stream",
     "text": [
      "FactorBP/FactorGraph.py:399: DeprecationWarning: PyArray_FromDims: use PyArray_SimpleNew.\n  def GetDecode(self): return _FactorGraph.CFactorGraph_GetDecode(self)\nFactorBP/FactorGraph.py:399: DeprecationWarning: PyArray_FromDimsAndDataAndDescr: use PyArray_NewFromDescr.\n  def GetDecode(self): return _FactorGraph.CFactorGraph_GetDecode(self)\n"
     ]
    },
    {
     "name": "stderr",
     "output_type": "stream",
     "text": [
      "FactorBP/FactorGraph.py:399: DeprecationWarning: PyArray_FromDims: use PyArray_SimpleNew.\n  def GetDecode(self): return _FactorGraph.CFactorGraph_GetDecode(self)\nFactorBP/FactorGraph.py:399: DeprecationWarning: PyArray_FromDimsAndDataAndDescr: use PyArray_NewFromDescr.\n  def GetDecode(self): return _FactorGraph.CFactorGraph_GetDecode(self)\n"
     ]
    },
    {
     "name": "stderr",
     "output_type": "stream",
     "text": [
      "FactorBP/FactorGraph.py:399: DeprecationWarning: PyArray_FromDims: use PyArray_SimpleNew.\n  def GetDecode(self): return _FactorGraph.CFactorGraph_GetDecode(self)\nFactorBP/FactorGraph.py:399: DeprecationWarning: PyArray_FromDimsAndDataAndDescr: use PyArray_NewFromDescr.\n  def GetDecode(self): return _FactorGraph.CFactorGraph_GetDecode(self)\n"
     ]
    },
    {
     "name": "stderr",
     "output_type": "stream",
     "text": [
      "FactorBP/FactorGraph.py:399: DeprecationWarning: PyArray_FromDims: use PyArray_SimpleNew.\n  def GetDecode(self): return _FactorGraph.CFactorGraph_GetDecode(self)\nFactorBP/FactorGraph.py:399: DeprecationWarning: PyArray_FromDimsAndDataAndDescr: use PyArray_NewFromDescr.\n  def GetDecode(self): return _FactorGraph.CFactorGraph_GetDecode(self)\n"
     ]
    },
    {
     "name": "stderr",
     "output_type": "stream",
     "text": [
      "FactorBP/FactorGraph.py:399: DeprecationWarning: PyArray_FromDims: use PyArray_SimpleNew.\n  def GetDecode(self): return _FactorGraph.CFactorGraph_GetDecode(self)\nFactorBP/FactorGraph.py:399: DeprecationWarning: PyArray_FromDimsAndDataAndDescr: use PyArray_NewFromDescr.\n  def GetDecode(self): return _FactorGraph.CFactorGraph_GetDecode(self)\n"
     ]
    },
    {
     "name": "stderr",
     "output_type": "stream",
     "text": [
      "FactorBP/FactorGraph.py:399: DeprecationWarning: PyArray_FromDims: use PyArray_SimpleNew.\n  def GetDecode(self): return _FactorGraph.CFactorGraph_GetDecode(self)\nFactorBP/FactorGraph.py:399: DeprecationWarning: PyArray_FromDimsAndDataAndDescr: use PyArray_NewFromDescr.\n  def GetDecode(self): return _FactorGraph.CFactorGraph_GetDecode(self)\n"
     ]
    },
    {
     "name": "stderr",
     "output_type": "stream",
     "text": [
      "FactorBP/FactorGraph.py:399: DeprecationWarning: PyArray_FromDims: use PyArray_SimpleNew.\n  def GetDecode(self): return _FactorGraph.CFactorGraph_GetDecode(self)\nFactorBP/FactorGraph.py:399: DeprecationWarning: PyArray_FromDimsAndDataAndDescr: use PyArray_NewFromDescr.\n  def GetDecode(self): return _FactorGraph.CFactorGraph_GetDecode(self)\n"
     ]
    },
    {
     "name": "stderr",
     "output_type": "stream",
     "text": [
      "FactorBP/FactorGraph.py:399: DeprecationWarning: PyArray_FromDims: use PyArray_SimpleNew.\n  def GetDecode(self): return _FactorGraph.CFactorGraph_GetDecode(self)\nFactorBP/FactorGraph.py:399: DeprecationWarning: PyArray_FromDimsAndDataAndDescr: use PyArray_NewFromDescr.\n  def GetDecode(self): return _FactorGraph.CFactorGraph_GetDecode(self)\n"
     ]
    },
    {
     "name": "stderr",
     "output_type": "stream",
     "text": [
      "FactorBP/FactorGraph.py:399: DeprecationWarning: PyArray_FromDims: use PyArray_SimpleNew.\n  def GetDecode(self): return _FactorGraph.CFactorGraph_GetDecode(self)\nFactorBP/FactorGraph.py:399: DeprecationWarning: PyArray_FromDimsAndDataAndDescr: use PyArray_NewFromDescr.\n  def GetDecode(self): return _FactorGraph.CFactorGraph_GetDecode(self)\n"
     ]
    },
    {
     "name": "stderr",
     "output_type": "stream",
     "text": [
      "FactorBP/FactorGraph.py:399: DeprecationWarning: PyArray_FromDims: use PyArray_SimpleNew.\n  def GetDecode(self): return _FactorGraph.CFactorGraph_GetDecode(self)\nFactorBP/FactorGraph.py:399: DeprecationWarning: PyArray_FromDimsAndDataAndDescr: use PyArray_NewFromDescr.\n  def GetDecode(self): return _FactorGraph.CFactorGraph_GetDecode(self)\n"
     ]
    },
    {
     "name": "stderr",
     "output_type": "stream",
     "text": [
      "FactorBP/FactorGraph.py:399: DeprecationWarning: PyArray_FromDims: use PyArray_SimpleNew.\n  def GetDecode(self): return _FactorGraph.CFactorGraph_GetDecode(self)\nFactorBP/FactorGraph.py:399: DeprecationWarning: PyArray_FromDimsAndDataAndDescr: use PyArray_NewFromDescr.\n  def GetDecode(self): return _FactorGraph.CFactorGraph_GetDecode(self)\n"
     ]
    },
    {
     "name": "stderr",
     "output_type": "stream",
     "text": [
      "FactorBP/FactorGraph.py:399: DeprecationWarning: PyArray_FromDims: use PyArray_SimpleNew.\n  def GetDecode(self): return _FactorGraph.CFactorGraph_GetDecode(self)\nFactorBP/FactorGraph.py:399: DeprecationWarning: PyArray_FromDimsAndDataAndDescr: use PyArray_NewFromDescr.\n  def GetDecode(self): return _FactorGraph.CFactorGraph_GetDecode(self)\n"
     ]
    },
    {
     "name": "stderr",
     "output_type": "stream",
     "text": [
      "FactorBP/FactorGraph.py:399: DeprecationWarning: PyArray_FromDims: use PyArray_SimpleNew.\n  def GetDecode(self): return _FactorGraph.CFactorGraph_GetDecode(self)\nFactorBP/FactorGraph.py:399: DeprecationWarning: PyArray_FromDimsAndDataAndDescr: use PyArray_NewFromDescr.\n  def GetDecode(self): return _FactorGraph.CFactorGraph_GetDecode(self)\n"
     ]
    },
    {
     "name": "stderr",
     "output_type": "stream",
     "text": [
      "FactorBP/FactorGraph.py:399: DeprecationWarning: PyArray_FromDims: use PyArray_SimpleNew.\n  def GetDecode(self): return _FactorGraph.CFactorGraph_GetDecode(self)\nFactorBP/FactorGraph.py:399: DeprecationWarning: PyArray_FromDimsAndDataAndDescr: use PyArray_NewFromDescr.\n  def GetDecode(self): return _FactorGraph.CFactorGraph_GetDecode(self)\n"
     ]
    },
    {
     "name": "stderr",
     "output_type": "stream",
     "text": [
      "FactorBP/FactorGraph.py:399: DeprecationWarning: PyArray_FromDims: use PyArray_SimpleNew.\n  def GetDecode(self): return _FactorGraph.CFactorGraph_GetDecode(self)\nFactorBP/FactorGraph.py:399: DeprecationWarning: PyArray_FromDimsAndDataAndDescr: use PyArray_NewFromDescr.\n  def GetDecode(self): return _FactorGraph.CFactorGraph_GetDecode(self)\n"
     ]
    },
    {
     "name": "stderr",
     "output_type": "stream",
     "text": [
      "FactorBP/FactorGraph.py:399: DeprecationWarning: PyArray_FromDims: use PyArray_SimpleNew.\n  def GetDecode(self): return _FactorGraph.CFactorGraph_GetDecode(self)\nFactorBP/FactorGraph.py:399: DeprecationWarning: PyArray_FromDimsAndDataAndDescr: use PyArray_NewFromDescr.\n  def GetDecode(self): return _FactorGraph.CFactorGraph_GetDecode(self)\n"
     ]
    },
    {
     "name": "stderr",
     "output_type": "stream",
     "text": [
      "FactorBP/FactorGraph.py:399: DeprecationWarning: PyArray_FromDims: use PyArray_SimpleNew.\n  def GetDecode(self): return _FactorGraph.CFactorGraph_GetDecode(self)\nFactorBP/FactorGraph.py:399: DeprecationWarning: PyArray_FromDimsAndDataAndDescr: use PyArray_NewFromDescr.\n  def GetDecode(self): return _FactorGraph.CFactorGraph_GetDecode(self)\n"
     ]
    },
    {
     "name": "stderr",
     "output_type": "stream",
     "text": [
      "FactorBP/FactorGraph.py:399: DeprecationWarning: PyArray_FromDims: use PyArray_SimpleNew.\n  def GetDecode(self): return _FactorGraph.CFactorGraph_GetDecode(self)\nFactorBP/FactorGraph.py:399: DeprecationWarning: PyArray_FromDimsAndDataAndDescr: use PyArray_NewFromDescr.\n  def GetDecode(self): return _FactorGraph.CFactorGraph_GetDecode(self)\n"
     ]
    },
    {
     "name": "stderr",
     "output_type": "stream",
     "text": [
      "FactorBP/FactorGraph.py:399: DeprecationWarning: PyArray_FromDims: use PyArray_SimpleNew.\n  def GetDecode(self): return _FactorGraph.CFactorGraph_GetDecode(self)\nFactorBP/FactorGraph.py:399: DeprecationWarning: PyArray_FromDimsAndDataAndDescr: use PyArray_NewFromDescr.\n  def GetDecode(self): return _FactorGraph.CFactorGraph_GetDecode(self)\n"
     ]
    },
    {
     "name": "stderr",
     "output_type": "stream",
     "text": [
      "FactorBP/FactorGraph.py:399: DeprecationWarning: PyArray_FromDims: use PyArray_SimpleNew.\n  def GetDecode(self): return _FactorGraph.CFactorGraph_GetDecode(self)\nFactorBP/FactorGraph.py:399: DeprecationWarning: PyArray_FromDimsAndDataAndDescr: use PyArray_NewFromDescr.\n  def GetDecode(self): return _FactorGraph.CFactorGraph_GetDecode(self)\n"
     ]
    },
    {
     "name": "stderr",
     "output_type": "stream",
     "text": [
      "FactorBP/FactorGraph.py:399: DeprecationWarning: PyArray_FromDims: use PyArray_SimpleNew.\n  def GetDecode(self): return _FactorGraph.CFactorGraph_GetDecode(self)\nFactorBP/FactorGraph.py:399: DeprecationWarning: PyArray_FromDimsAndDataAndDescr: use PyArray_NewFromDescr.\n  def GetDecode(self): return _FactorGraph.CFactorGraph_GetDecode(self)\n"
     ]
    },
    {
     "name": "stderr",
     "output_type": "stream",
     "text": [
      "FactorBP/FactorGraph.py:399: DeprecationWarning: PyArray_FromDims: use PyArray_SimpleNew.\n  def GetDecode(self): return _FactorGraph.CFactorGraph_GetDecode(self)\nFactorBP/FactorGraph.py:399: DeprecationWarning: PyArray_FromDimsAndDataAndDescr: use PyArray_NewFromDescr.\n  def GetDecode(self): return _FactorGraph.CFactorGraph_GetDecode(self)\n"
     ]
    },
    {
     "name": "stderr",
     "output_type": "stream",
     "text": [
      "FactorBP/FactorGraph.py:399: DeprecationWarning: PyArray_FromDims: use PyArray_SimpleNew.\n  def GetDecode(self): return _FactorGraph.CFactorGraph_GetDecode(self)\nFactorBP/FactorGraph.py:399: DeprecationWarning: PyArray_FromDimsAndDataAndDescr: use PyArray_NewFromDescr.\n  def GetDecode(self): return _FactorGraph.CFactorGraph_GetDecode(self)\n"
     ]
    },
    {
     "name": "stderr",
     "output_type": "stream",
     "text": [
      "FactorBP/FactorGraph.py:399: DeprecationWarning: PyArray_FromDims: use PyArray_SimpleNew.\n  def GetDecode(self): return _FactorGraph.CFactorGraph_GetDecode(self)\nFactorBP/FactorGraph.py:399: DeprecationWarning: PyArray_FromDimsAndDataAndDescr: use PyArray_NewFromDescr.\n  def GetDecode(self): return _FactorGraph.CFactorGraph_GetDecode(self)\n"
     ]
    },
    {
     "name": "stderr",
     "output_type": "stream",
     "text": [
      "FactorBP/FactorGraph.py:399: DeprecationWarning: PyArray_FromDims: use PyArray_SimpleNew.\n  def GetDecode(self): return _FactorGraph.CFactorGraph_GetDecode(self)\nFactorBP/FactorGraph.py:399: DeprecationWarning: PyArray_FromDimsAndDataAndDescr: use PyArray_NewFromDescr.\n  def GetDecode(self): return _FactorGraph.CFactorGraph_GetDecode(self)\n"
     ]
    },
    {
     "name": "stderr",
     "output_type": "stream",
     "text": [
      "FactorBP/FactorGraph.py:399: DeprecationWarning: PyArray_FromDims: use PyArray_SimpleNew.\n  def GetDecode(self): return _FactorGraph.CFactorGraph_GetDecode(self)\nFactorBP/FactorGraph.py:399: DeprecationWarning: PyArray_FromDimsAndDataAndDescr: use PyArray_NewFromDescr.\n  def GetDecode(self): return _FactorGraph.CFactorGraph_GetDecode(self)\n"
     ]
    },
    {
     "name": "stderr",
     "output_type": "stream",
     "text": [
      "FactorBP/FactorGraph.py:399: DeprecationWarning: PyArray_FromDims: use PyArray_SimpleNew.\n  def GetDecode(self): return _FactorGraph.CFactorGraph_GetDecode(self)\nFactorBP/FactorGraph.py:399: DeprecationWarning: PyArray_FromDimsAndDataAndDescr: use PyArray_NewFromDescr.\n  def GetDecode(self): return _FactorGraph.CFactorGraph_GetDecode(self)\n"
     ]
    },
    {
     "name": "stderr",
     "output_type": "stream",
     "text": [
      "FactorBP/FactorGraph.py:399: DeprecationWarning: PyArray_FromDims: use PyArray_SimpleNew.\n  def GetDecode(self): return _FactorGraph.CFactorGraph_GetDecode(self)\nFactorBP/FactorGraph.py:399: DeprecationWarning: PyArray_FromDimsAndDataAndDescr: use PyArray_NewFromDescr.\n  def GetDecode(self): return _FactorGraph.CFactorGraph_GetDecode(self)\n"
     ]
    },
    {
     "name": "stderr",
     "output_type": "stream",
     "text": [
      "FactorBP/FactorGraph.py:399: DeprecationWarning: PyArray_FromDims: use PyArray_SimpleNew.\n  def GetDecode(self): return _FactorGraph.CFactorGraph_GetDecode(self)\nFactorBP/FactorGraph.py:399: DeprecationWarning: PyArray_FromDimsAndDataAndDescr: use PyArray_NewFromDescr.\n  def GetDecode(self): return _FactorGraph.CFactorGraph_GetDecode(self)\n"
     ]
    },
    {
     "name": "stderr",
     "output_type": "stream",
     "text": [
      "FactorBP/FactorGraph.py:399: DeprecationWarning: PyArray_FromDims: use PyArray_SimpleNew.\n  def GetDecode(self): return _FactorGraph.CFactorGraph_GetDecode(self)\nFactorBP/FactorGraph.py:399: DeprecationWarning: PyArray_FromDimsAndDataAndDescr: use PyArray_NewFromDescr.\n  def GetDecode(self): return _FactorGraph.CFactorGraph_GetDecode(self)\n"
     ]
    },
    {
     "name": "stderr",
     "output_type": "stream",
     "text": [
      "FactorBP/FactorGraph.py:399: DeprecationWarning: PyArray_FromDims: use PyArray_SimpleNew.\n  def GetDecode(self): return _FactorGraph.CFactorGraph_GetDecode(self)\nFactorBP/FactorGraph.py:399: DeprecationWarning: PyArray_FromDimsAndDataAndDescr: use PyArray_NewFromDescr.\n  def GetDecode(self): return _FactorGraph.CFactorGraph_GetDecode(self)\n"
     ]
    },
    {
     "name": "stderr",
     "output_type": "stream",
     "text": [
      "FactorBP/FactorGraph.py:399: DeprecationWarning: PyArray_FromDims: use PyArray_SimpleNew.\n  def GetDecode(self): return _FactorGraph.CFactorGraph_GetDecode(self)\nFactorBP/FactorGraph.py:399: DeprecationWarning: PyArray_FromDimsAndDataAndDescr: use PyArray_NewFromDescr.\n  def GetDecode(self): return _FactorGraph.CFactorGraph_GetDecode(self)\n"
     ]
    },
    {
     "name": "stderr",
     "output_type": "stream",
     "text": [
      "FactorBP/FactorGraph.py:399: DeprecationWarning: PyArray_FromDims: use PyArray_SimpleNew.\n  def GetDecode(self): return _FactorGraph.CFactorGraph_GetDecode(self)\nFactorBP/FactorGraph.py:399: DeprecationWarning: PyArray_FromDimsAndDataAndDescr: use PyArray_NewFromDescr.\n  def GetDecode(self): return _FactorGraph.CFactorGraph_GetDecode(self)\n"
     ]
    },
    {
     "name": "stderr",
     "output_type": "stream",
     "text": [
      "FactorBP/FactorGraph.py:399: DeprecationWarning: PyArray_FromDims: use PyArray_SimpleNew.\n  def GetDecode(self): return _FactorGraph.CFactorGraph_GetDecode(self)\nFactorBP/FactorGraph.py:399: DeprecationWarning: PyArray_FromDimsAndDataAndDescr: use PyArray_NewFromDescr.\n  def GetDecode(self): return _FactorGraph.CFactorGraph_GetDecode(self)\n"
     ]
    },
    {
     "name": "stderr",
     "output_type": "stream",
     "text": [
      "FactorBP/FactorGraph.py:399: DeprecationWarning: PyArray_FromDims: use PyArray_SimpleNew.\n  def GetDecode(self): return _FactorGraph.CFactorGraph_GetDecode(self)\nFactorBP/FactorGraph.py:399: DeprecationWarning: PyArray_FromDimsAndDataAndDescr: use PyArray_NewFromDescr.\n  def GetDecode(self): return _FactorGraph.CFactorGraph_GetDecode(self)\n"
     ]
    },
    {
     "name": "stderr",
     "output_type": "stream",
     "text": [
      "FactorBP/FactorGraph.py:399: DeprecationWarning: PyArray_FromDims: use PyArray_SimpleNew.\n  def GetDecode(self): return _FactorGraph.CFactorGraph_GetDecode(self)\nFactorBP/FactorGraph.py:399: DeprecationWarning: PyArray_FromDimsAndDataAndDescr: use PyArray_NewFromDescr.\n  def GetDecode(self): return _FactorGraph.CFactorGraph_GetDecode(self)\n"
     ]
    },
    {
     "name": "stderr",
     "output_type": "stream",
     "text": [
      "FactorBP/FactorGraph.py:399: DeprecationWarning: PyArray_FromDims: use PyArray_SimpleNew.\n  def GetDecode(self): return _FactorGraph.CFactorGraph_GetDecode(self)\nFactorBP/FactorGraph.py:399: DeprecationWarning: PyArray_FromDimsAndDataAndDescr: use PyArray_NewFromDescr.\n  def GetDecode(self): return _FactorGraph.CFactorGraph_GetDecode(self)\n"
     ]
    },
    {
     "name": "stderr",
     "output_type": "stream",
     "text": [
      "FactorBP/FactorGraph.py:399: DeprecationWarning: PyArray_FromDims: use PyArray_SimpleNew.\n  def GetDecode(self): return _FactorGraph.CFactorGraph_GetDecode(self)\nFactorBP/FactorGraph.py:399: DeprecationWarning: PyArray_FromDimsAndDataAndDescr: use PyArray_NewFromDescr.\n  def GetDecode(self): return _FactorGraph.CFactorGraph_GetDecode(self)\n"
     ]
    },
    {
     "name": "stderr",
     "output_type": "stream",
     "text": [
      "FactorBP/FactorGraph.py:399: DeprecationWarning: PyArray_FromDims: use PyArray_SimpleNew.\n  def GetDecode(self): return _FactorGraph.CFactorGraph_GetDecode(self)\nFactorBP/FactorGraph.py:399: DeprecationWarning: PyArray_FromDimsAndDataAndDescr: use PyArray_NewFromDescr.\n  def GetDecode(self): return _FactorGraph.CFactorGraph_GetDecode(self)\n"
     ]
    },
    {
     "name": "stderr",
     "output_type": "stream",
     "text": [
      "FactorBP/FactorGraph.py:399: DeprecationWarning: PyArray_FromDims: use PyArray_SimpleNew.\n  def GetDecode(self): return _FactorGraph.CFactorGraph_GetDecode(self)\nFactorBP/FactorGraph.py:399: DeprecationWarning: PyArray_FromDimsAndDataAndDescr: use PyArray_NewFromDescr.\n  def GetDecode(self): return _FactorGraph.CFactorGraph_GetDecode(self)\n"
     ]
    },
    {
     "name": "stderr",
     "output_type": "stream",
     "text": [
      "FactorBP/FactorGraph.py:399: DeprecationWarning: PyArray_FromDims: use PyArray_SimpleNew.\n  def GetDecode(self): return _FactorGraph.CFactorGraph_GetDecode(self)\nFactorBP/FactorGraph.py:399: DeprecationWarning: PyArray_FromDimsAndDataAndDescr: use PyArray_NewFromDescr.\n  def GetDecode(self): return _FactorGraph.CFactorGraph_GetDecode(self)\n"
     ]
    },
    {
     "name": "stderr",
     "output_type": "stream",
     "text": [
      "FactorBP/FactorGraph.py:399: DeprecationWarning: PyArray_FromDims: use PyArray_SimpleNew.\n  def GetDecode(self): return _FactorGraph.CFactorGraph_GetDecode(self)\nFactorBP/FactorGraph.py:399: DeprecationWarning: PyArray_FromDimsAndDataAndDescr: use PyArray_NewFromDescr.\n  def GetDecode(self): return _FactorGraph.CFactorGraph_GetDecode(self)\n"
     ]
    },
    {
     "name": "stderr",
     "output_type": "stream",
     "text": [
      "FactorBP/FactorGraph.py:399: DeprecationWarning: PyArray_FromDims: use PyArray_SimpleNew.\n  def GetDecode(self): return _FactorGraph.CFactorGraph_GetDecode(self)\nFactorBP/FactorGraph.py:399: DeprecationWarning: PyArray_FromDimsAndDataAndDescr: use PyArray_NewFromDescr.\n  def GetDecode(self): return _FactorGraph.CFactorGraph_GetDecode(self)\n"
     ]
    },
    {
     "name": "stderr",
     "output_type": "stream",
     "text": [
      "FactorBP/FactorGraph.py:399: DeprecationWarning: PyArray_FromDims: use PyArray_SimpleNew.\n  def GetDecode(self): return _FactorGraph.CFactorGraph_GetDecode(self)\nFactorBP/FactorGraph.py:399: DeprecationWarning: PyArray_FromDimsAndDataAndDescr: use PyArray_NewFromDescr.\n  def GetDecode(self): return _FactorGraph.CFactorGraph_GetDecode(self)\n"
     ]
    },
    {
     "name": "stderr",
     "output_type": "stream",
     "text": [
      "FactorBP/FactorGraph.py:399: DeprecationWarning: PyArray_FromDims: use PyArray_SimpleNew.\n  def GetDecode(self): return _FactorGraph.CFactorGraph_GetDecode(self)\nFactorBP/FactorGraph.py:399: DeprecationWarning: PyArray_FromDimsAndDataAndDescr: use PyArray_NewFromDescr.\n  def GetDecode(self): return _FactorGraph.CFactorGraph_GetDecode(self)\n"
     ]
    },
    {
     "name": "stderr",
     "output_type": "stream",
     "text": [
      "FactorBP/FactorGraph.py:399: DeprecationWarning: PyArray_FromDims: use PyArray_SimpleNew.\n  def GetDecode(self): return _FactorGraph.CFactorGraph_GetDecode(self)\nFactorBP/FactorGraph.py:399: DeprecationWarning: PyArray_FromDimsAndDataAndDescr: use PyArray_NewFromDescr.\n  def GetDecode(self): return _FactorGraph.CFactorGraph_GetDecode(self)\n"
     ]
    },
    {
     "name": "stdout",
     "output_type": "stream",
     "text": [
      "IPFP Accuracy 0.960066 Running Time 0.007364 Obj 0.972756\nOurs-PW Accuracy 1.000000 Running Time 0.010105 Obj 1.000000\nFGM Accuracy 0.985149 Running Time 0.027512 Obj 0.990196\nRRWM Accuracy 1.000000 Running Time 0.020068 Obj 1.000000\nSM Accuracy 0.985149 Running Time 0.027697 Obj 0.990196\n××××××××××××××××××××\n Start baseline: 20\n"
     ]
    },
    {
     "name": "stderr",
     "output_type": "stream",
     "text": [
      "FactorBP/FactorGraph.py:399: DeprecationWarning: PyArray_FromDims: use PyArray_SimpleNew.\n  def GetDecode(self): return _FactorGraph.CFactorGraph_GetDecode(self)\nFactorBP/FactorGraph.py:399: DeprecationWarning: PyArray_FromDimsAndDataAndDescr: use PyArray_NewFromDescr.\n  def GetDecode(self): return _FactorGraph.CFactorGraph_GetDecode(self)\n"
     ]
    },
    {
     "name": "stderr",
     "output_type": "stream",
     "text": [
      "FactorBP/FactorGraph.py:399: DeprecationWarning: PyArray_FromDims: use PyArray_SimpleNew.\n  def GetDecode(self): return _FactorGraph.CFactorGraph_GetDecode(self)\nFactorBP/FactorGraph.py:399: DeprecationWarning: PyArray_FromDimsAndDataAndDescr: use PyArray_NewFromDescr.\n  def GetDecode(self): return _FactorGraph.CFactorGraph_GetDecode(self)\n"
     ]
    },
    {
     "name": "stderr",
     "output_type": "stream",
     "text": [
      "FactorBP/FactorGraph.py:399: DeprecationWarning: PyArray_FromDims: use PyArray_SimpleNew.\n  def GetDecode(self): return _FactorGraph.CFactorGraph_GetDecode(self)\nFactorBP/FactorGraph.py:399: DeprecationWarning: PyArray_FromDimsAndDataAndDescr: use PyArray_NewFromDescr.\n  def GetDecode(self): return _FactorGraph.CFactorGraph_GetDecode(self)\n"
     ]
    },
    {
     "name": "stderr",
     "output_type": "stream",
     "text": [
      "FactorBP/FactorGraph.py:399: DeprecationWarning: PyArray_FromDims: use PyArray_SimpleNew.\n  def GetDecode(self): return _FactorGraph.CFactorGraph_GetDecode(self)\nFactorBP/FactorGraph.py:399: DeprecationWarning: PyArray_FromDimsAndDataAndDescr: use PyArray_NewFromDescr.\n  def GetDecode(self): return _FactorGraph.CFactorGraph_GetDecode(self)\n"
     ]
    },
    {
     "name": "stderr",
     "output_type": "stream",
     "text": [
      "FactorBP/FactorGraph.py:399: DeprecationWarning: PyArray_FromDims: use PyArray_SimpleNew.\n  def GetDecode(self): return _FactorGraph.CFactorGraph_GetDecode(self)\nFactorBP/FactorGraph.py:399: DeprecationWarning: PyArray_FromDimsAndDataAndDescr: use PyArray_NewFromDescr.\n  def GetDecode(self): return _FactorGraph.CFactorGraph_GetDecode(self)\n"
     ]
    },
    {
     "name": "stderr",
     "output_type": "stream",
     "text": [
      "FactorBP/FactorGraph.py:399: DeprecationWarning: PyArray_FromDims: use PyArray_SimpleNew.\n  def GetDecode(self): return _FactorGraph.CFactorGraph_GetDecode(self)\nFactorBP/FactorGraph.py:399: DeprecationWarning: PyArray_FromDimsAndDataAndDescr: use PyArray_NewFromDescr.\n  def GetDecode(self): return _FactorGraph.CFactorGraph_GetDecode(self)\n"
     ]
    },
    {
     "name": "stderr",
     "output_type": "stream",
     "text": [
      "FactorBP/FactorGraph.py:399: DeprecationWarning: PyArray_FromDims: use PyArray_SimpleNew.\n  def GetDecode(self): return _FactorGraph.CFactorGraph_GetDecode(self)\nFactorBP/FactorGraph.py:399: DeprecationWarning: PyArray_FromDimsAndDataAndDescr: use PyArray_NewFromDescr.\n  def GetDecode(self): return _FactorGraph.CFactorGraph_GetDecode(self)\n"
     ]
    },
    {
     "name": "stderr",
     "output_type": "stream",
     "text": [
      "FactorBP/FactorGraph.py:399: DeprecationWarning: PyArray_FromDims: use PyArray_SimpleNew.\n  def GetDecode(self): return _FactorGraph.CFactorGraph_GetDecode(self)\nFactorBP/FactorGraph.py:399: DeprecationWarning: PyArray_FromDimsAndDataAndDescr: use PyArray_NewFromDescr.\n  def GetDecode(self): return _FactorGraph.CFactorGraph_GetDecode(self)\n"
     ]
    },
    {
     "name": "stderr",
     "output_type": "stream",
     "text": [
      "FactorBP/FactorGraph.py:399: DeprecationWarning: PyArray_FromDims: use PyArray_SimpleNew.\n  def GetDecode(self): return _FactorGraph.CFactorGraph_GetDecode(self)\nFactorBP/FactorGraph.py:399: DeprecationWarning: PyArray_FromDimsAndDataAndDescr: use PyArray_NewFromDescr.\n  def GetDecode(self): return _FactorGraph.CFactorGraph_GetDecode(self)\n"
     ]
    },
    {
     "name": "stderr",
     "output_type": "stream",
     "text": [
      "FactorBP/FactorGraph.py:399: DeprecationWarning: PyArray_FromDims: use PyArray_SimpleNew.\n  def GetDecode(self): return _FactorGraph.CFactorGraph_GetDecode(self)\nFactorBP/FactorGraph.py:399: DeprecationWarning: PyArray_FromDimsAndDataAndDescr: use PyArray_NewFromDescr.\n  def GetDecode(self): return _FactorGraph.CFactorGraph_GetDecode(self)\n"
     ]
    },
    {
     "name": "stderr",
     "output_type": "stream",
     "text": [
      "FactorBP/FactorGraph.py:399: DeprecationWarning: PyArray_FromDims: use PyArray_SimpleNew.\n  def GetDecode(self): return _FactorGraph.CFactorGraph_GetDecode(self)\nFactorBP/FactorGraph.py:399: DeprecationWarning: PyArray_FromDimsAndDataAndDescr: use PyArray_NewFromDescr.\n  def GetDecode(self): return _FactorGraph.CFactorGraph_GetDecode(self)\n"
     ]
    },
    {
     "name": "stderr",
     "output_type": "stream",
     "text": [
      "FactorBP/FactorGraph.py:399: DeprecationWarning: PyArray_FromDims: use PyArray_SimpleNew.\n  def GetDecode(self): return _FactorGraph.CFactorGraph_GetDecode(self)\nFactorBP/FactorGraph.py:399: DeprecationWarning: PyArray_FromDimsAndDataAndDescr: use PyArray_NewFromDescr.\n  def GetDecode(self): return _FactorGraph.CFactorGraph_GetDecode(self)\n"
     ]
    },
    {
     "name": "stderr",
     "output_type": "stream",
     "text": [
      "FactorBP/FactorGraph.py:399: DeprecationWarning: PyArray_FromDims: use PyArray_SimpleNew.\n  def GetDecode(self): return _FactorGraph.CFactorGraph_GetDecode(self)\nFactorBP/FactorGraph.py:399: DeprecationWarning: PyArray_FromDimsAndDataAndDescr: use PyArray_NewFromDescr.\n  def GetDecode(self): return _FactorGraph.CFactorGraph_GetDecode(self)\n"
     ]
    },
    {
     "name": "stderr",
     "output_type": "stream",
     "text": [
      "FactorBP/FactorGraph.py:399: DeprecationWarning: PyArray_FromDims: use PyArray_SimpleNew.\n  def GetDecode(self): return _FactorGraph.CFactorGraph_GetDecode(self)\nFactorBP/FactorGraph.py:399: DeprecationWarning: PyArray_FromDimsAndDataAndDescr: use PyArray_NewFromDescr.\n  def GetDecode(self): return _FactorGraph.CFactorGraph_GetDecode(self)\n"
     ]
    },
    {
     "name": "stderr",
     "output_type": "stream",
     "text": [
      "FactorBP/FactorGraph.py:399: DeprecationWarning: PyArray_FromDims: use PyArray_SimpleNew.\n  def GetDecode(self): return _FactorGraph.CFactorGraph_GetDecode(self)\nFactorBP/FactorGraph.py:399: DeprecationWarning: PyArray_FromDimsAndDataAndDescr: use PyArray_NewFromDescr.\n  def GetDecode(self): return _FactorGraph.CFactorGraph_GetDecode(self)\n"
     ]
    },
    {
     "name": "stderr",
     "output_type": "stream",
     "text": [
      "FactorBP/FactorGraph.py:399: DeprecationWarning: PyArray_FromDims: use PyArray_SimpleNew.\n  def GetDecode(self): return _FactorGraph.CFactorGraph_GetDecode(self)\nFactorBP/FactorGraph.py:399: DeprecationWarning: PyArray_FromDimsAndDataAndDescr: use PyArray_NewFromDescr.\n  def GetDecode(self): return _FactorGraph.CFactorGraph_GetDecode(self)\n"
     ]
    },
    {
     "name": "stderr",
     "output_type": "stream",
     "text": [
      "FactorBP/FactorGraph.py:399: DeprecationWarning: PyArray_FromDims: use PyArray_SimpleNew.\n  def GetDecode(self): return _FactorGraph.CFactorGraph_GetDecode(self)\nFactorBP/FactorGraph.py:399: DeprecationWarning: PyArray_FromDimsAndDataAndDescr: use PyArray_NewFromDescr.\n  def GetDecode(self): return _FactorGraph.CFactorGraph_GetDecode(self)\n"
     ]
    },
    {
     "name": "stderr",
     "output_type": "stream",
     "text": [
      "FactorBP/FactorGraph.py:399: DeprecationWarning: PyArray_FromDims: use PyArray_SimpleNew.\n  def GetDecode(self): return _FactorGraph.CFactorGraph_GetDecode(self)\nFactorBP/FactorGraph.py:399: DeprecationWarning: PyArray_FromDimsAndDataAndDescr: use PyArray_NewFromDescr.\n  def GetDecode(self): return _FactorGraph.CFactorGraph_GetDecode(self)\n"
     ]
    },
    {
     "name": "stderr",
     "output_type": "stream",
     "text": [
      "FactorBP/FactorGraph.py:399: DeprecationWarning: PyArray_FromDims: use PyArray_SimpleNew.\n  def GetDecode(self): return _FactorGraph.CFactorGraph_GetDecode(self)\nFactorBP/FactorGraph.py:399: DeprecationWarning: PyArray_FromDimsAndDataAndDescr: use PyArray_NewFromDescr.\n  def GetDecode(self): return _FactorGraph.CFactorGraph_GetDecode(self)\n"
     ]
    },
    {
     "name": "stderr",
     "output_type": "stream",
     "text": [
      "FactorBP/FactorGraph.py:399: DeprecationWarning: PyArray_FromDims: use PyArray_SimpleNew.\n  def GetDecode(self): return _FactorGraph.CFactorGraph_GetDecode(self)\nFactorBP/FactorGraph.py:399: DeprecationWarning: PyArray_FromDimsAndDataAndDescr: use PyArray_NewFromDescr.\n  def GetDecode(self): return _FactorGraph.CFactorGraph_GetDecode(self)\n"
     ]
    },
    {
     "name": "stderr",
     "output_type": "stream",
     "text": [
      "FactorBP/FactorGraph.py:399: DeprecationWarning: PyArray_FromDims: use PyArray_SimpleNew.\n  def GetDecode(self): return _FactorGraph.CFactorGraph_GetDecode(self)\nFactorBP/FactorGraph.py:399: DeprecationWarning: PyArray_FromDimsAndDataAndDescr: use PyArray_NewFromDescr.\n  def GetDecode(self): return _FactorGraph.CFactorGraph_GetDecode(self)\n"
     ]
    },
    {
     "name": "stderr",
     "output_type": "stream",
     "text": [
      "FactorBP/FactorGraph.py:399: DeprecationWarning: PyArray_FromDims: use PyArray_SimpleNew.\n  def GetDecode(self): return _FactorGraph.CFactorGraph_GetDecode(self)\nFactorBP/FactorGraph.py:399: DeprecationWarning: PyArray_FromDimsAndDataAndDescr: use PyArray_NewFromDescr.\n  def GetDecode(self): return _FactorGraph.CFactorGraph_GetDecode(self)\n"
     ]
    },
    {
     "name": "stderr",
     "output_type": "stream",
     "text": [
      "FactorBP/FactorGraph.py:399: DeprecationWarning: PyArray_FromDims: use PyArray_SimpleNew.\n  def GetDecode(self): return _FactorGraph.CFactorGraph_GetDecode(self)\nFactorBP/FactorGraph.py:399: DeprecationWarning: PyArray_FromDimsAndDataAndDescr: use PyArray_NewFromDescr.\n  def GetDecode(self): return _FactorGraph.CFactorGraph_GetDecode(self)\n"
     ]
    },
    {
     "name": "stderr",
     "output_type": "stream",
     "text": [
      "FactorBP/FactorGraph.py:399: DeprecationWarning: PyArray_FromDims: use PyArray_SimpleNew.\n  def GetDecode(self): return _FactorGraph.CFactorGraph_GetDecode(self)\nFactorBP/FactorGraph.py:399: DeprecationWarning: PyArray_FromDimsAndDataAndDescr: use PyArray_NewFromDescr.\n  def GetDecode(self): return _FactorGraph.CFactorGraph_GetDecode(self)\n"
     ]
    },
    {
     "name": "stderr",
     "output_type": "stream",
     "text": [
      "FactorBP/FactorGraph.py:399: DeprecationWarning: PyArray_FromDims: use PyArray_SimpleNew.\n  def GetDecode(self): return _FactorGraph.CFactorGraph_GetDecode(self)\nFactorBP/FactorGraph.py:399: DeprecationWarning: PyArray_FromDimsAndDataAndDescr: use PyArray_NewFromDescr.\n  def GetDecode(self): return _FactorGraph.CFactorGraph_GetDecode(self)\n"
     ]
    },
    {
     "name": "stderr",
     "output_type": "stream",
     "text": [
      "FactorBP/FactorGraph.py:399: DeprecationWarning: PyArray_FromDims: use PyArray_SimpleNew.\n  def GetDecode(self): return _FactorGraph.CFactorGraph_GetDecode(self)\nFactorBP/FactorGraph.py:399: DeprecationWarning: PyArray_FromDimsAndDataAndDescr: use PyArray_NewFromDescr.\n  def GetDecode(self): return _FactorGraph.CFactorGraph_GetDecode(self)\n"
     ]
    },
    {
     "name": "stderr",
     "output_type": "stream",
     "text": [
      "FactorBP/FactorGraph.py:399: DeprecationWarning: PyArray_FromDims: use PyArray_SimpleNew.\n  def GetDecode(self): return _FactorGraph.CFactorGraph_GetDecode(self)\nFactorBP/FactorGraph.py:399: DeprecationWarning: PyArray_FromDimsAndDataAndDescr: use PyArray_NewFromDescr.\n  def GetDecode(self): return _FactorGraph.CFactorGraph_GetDecode(self)\n"
     ]
    },
    {
     "name": "stderr",
     "output_type": "stream",
     "text": [
      "FactorBP/FactorGraph.py:399: DeprecationWarning: PyArray_FromDims: use PyArray_SimpleNew.\n  def GetDecode(self): return _FactorGraph.CFactorGraph_GetDecode(self)\nFactorBP/FactorGraph.py:399: DeprecationWarning: PyArray_FromDimsAndDataAndDescr: use PyArray_NewFromDescr.\n  def GetDecode(self): return _FactorGraph.CFactorGraph_GetDecode(self)\n"
     ]
    },
    {
     "name": "stderr",
     "output_type": "stream",
     "text": [
      "FactorBP/FactorGraph.py:399: DeprecationWarning: PyArray_FromDims: use PyArray_SimpleNew.\n  def GetDecode(self): return _FactorGraph.CFactorGraph_GetDecode(self)\nFactorBP/FactorGraph.py:399: DeprecationWarning: PyArray_FromDimsAndDataAndDescr: use PyArray_NewFromDescr.\n  def GetDecode(self): return _FactorGraph.CFactorGraph_GetDecode(self)\n"
     ]
    },
    {
     "name": "stderr",
     "output_type": "stream",
     "text": [
      "FactorBP/FactorGraph.py:399: DeprecationWarning: PyArray_FromDims: use PyArray_SimpleNew.\n  def GetDecode(self): return _FactorGraph.CFactorGraph_GetDecode(self)\nFactorBP/FactorGraph.py:399: DeprecationWarning: PyArray_FromDimsAndDataAndDescr: use PyArray_NewFromDescr.\n  def GetDecode(self): return _FactorGraph.CFactorGraph_GetDecode(self)\n"
     ]
    },
    {
     "name": "stderr",
     "output_type": "stream",
     "text": [
      "FactorBP/FactorGraph.py:399: DeprecationWarning: PyArray_FromDims: use PyArray_SimpleNew.\n  def GetDecode(self): return _FactorGraph.CFactorGraph_GetDecode(self)\nFactorBP/FactorGraph.py:399: DeprecationWarning: PyArray_FromDimsAndDataAndDescr: use PyArray_NewFromDescr.\n  def GetDecode(self): return _FactorGraph.CFactorGraph_GetDecode(self)\n"
     ]
    },
    {
     "name": "stderr",
     "output_type": "stream",
     "text": [
      "FactorBP/FactorGraph.py:399: DeprecationWarning: PyArray_FromDims: use PyArray_SimpleNew.\n  def GetDecode(self): return _FactorGraph.CFactorGraph_GetDecode(self)\nFactorBP/FactorGraph.py:399: DeprecationWarning: PyArray_FromDimsAndDataAndDescr: use PyArray_NewFromDescr.\n  def GetDecode(self): return _FactorGraph.CFactorGraph_GetDecode(self)\n"
     ]
    },
    {
     "name": "stderr",
     "output_type": "stream",
     "text": [
      "FactorBP/FactorGraph.py:399: DeprecationWarning: PyArray_FromDims: use PyArray_SimpleNew.\n  def GetDecode(self): return _FactorGraph.CFactorGraph_GetDecode(self)\nFactorBP/FactorGraph.py:399: DeprecationWarning: PyArray_FromDimsAndDataAndDescr: use PyArray_NewFromDescr.\n  def GetDecode(self): return _FactorGraph.CFactorGraph_GetDecode(self)\n"
     ]
    },
    {
     "name": "stderr",
     "output_type": "stream",
     "text": [
      "FactorBP/FactorGraph.py:399: DeprecationWarning: PyArray_FromDims: use PyArray_SimpleNew.\n  def GetDecode(self): return _FactorGraph.CFactorGraph_GetDecode(self)\nFactorBP/FactorGraph.py:399: DeprecationWarning: PyArray_FromDimsAndDataAndDescr: use PyArray_NewFromDescr.\n  def GetDecode(self): return _FactorGraph.CFactorGraph_GetDecode(self)\n"
     ]
    },
    {
     "name": "stderr",
     "output_type": "stream",
     "text": [
      "FactorBP/FactorGraph.py:399: DeprecationWarning: PyArray_FromDims: use PyArray_SimpleNew.\n  def GetDecode(self): return _FactorGraph.CFactorGraph_GetDecode(self)\nFactorBP/FactorGraph.py:399: DeprecationWarning: PyArray_FromDimsAndDataAndDescr: use PyArray_NewFromDescr.\n  def GetDecode(self): return _FactorGraph.CFactorGraph_GetDecode(self)\n"
     ]
    },
    {
     "name": "stderr",
     "output_type": "stream",
     "text": [
      "FactorBP/FactorGraph.py:399: DeprecationWarning: PyArray_FromDims: use PyArray_SimpleNew.\n  def GetDecode(self): return _FactorGraph.CFactorGraph_GetDecode(self)\nFactorBP/FactorGraph.py:399: DeprecationWarning: PyArray_FromDimsAndDataAndDescr: use PyArray_NewFromDescr.\n  def GetDecode(self): return _FactorGraph.CFactorGraph_GetDecode(self)\n"
     ]
    },
    {
     "name": "stderr",
     "output_type": "stream",
     "text": [
      "FactorBP/FactorGraph.py:399: DeprecationWarning: PyArray_FromDims: use PyArray_SimpleNew.\n  def GetDecode(self): return _FactorGraph.CFactorGraph_GetDecode(self)\nFactorBP/FactorGraph.py:399: DeprecationWarning: PyArray_FromDimsAndDataAndDescr: use PyArray_NewFromDescr.\n  def GetDecode(self): return _FactorGraph.CFactorGraph_GetDecode(self)\n"
     ]
    },
    {
     "name": "stderr",
     "output_type": "stream",
     "text": [
      "FactorBP/FactorGraph.py:399: DeprecationWarning: PyArray_FromDims: use PyArray_SimpleNew.\n  def GetDecode(self): return _FactorGraph.CFactorGraph_GetDecode(self)\nFactorBP/FactorGraph.py:399: DeprecationWarning: PyArray_FromDimsAndDataAndDescr: use PyArray_NewFromDescr.\n  def GetDecode(self): return _FactorGraph.CFactorGraph_GetDecode(self)\n"
     ]
    },
    {
     "name": "stderr",
     "output_type": "stream",
     "text": [
      "FactorBP/FactorGraph.py:399: DeprecationWarning: PyArray_FromDims: use PyArray_SimpleNew.\n  def GetDecode(self): return _FactorGraph.CFactorGraph_GetDecode(self)\nFactorBP/FactorGraph.py:399: DeprecationWarning: PyArray_FromDimsAndDataAndDescr: use PyArray_NewFromDescr.\n  def GetDecode(self): return _FactorGraph.CFactorGraph_GetDecode(self)\n"
     ]
    },
    {
     "name": "stderr",
     "output_type": "stream",
     "text": [
      "FactorBP/FactorGraph.py:399: DeprecationWarning: PyArray_FromDims: use PyArray_SimpleNew.\n  def GetDecode(self): return _FactorGraph.CFactorGraph_GetDecode(self)\nFactorBP/FactorGraph.py:399: DeprecationWarning: PyArray_FromDimsAndDataAndDescr: use PyArray_NewFromDescr.\n  def GetDecode(self): return _FactorGraph.CFactorGraph_GetDecode(self)\n"
     ]
    },
    {
     "name": "stderr",
     "output_type": "stream",
     "text": [
      "FactorBP/FactorGraph.py:399: DeprecationWarning: PyArray_FromDims: use PyArray_SimpleNew.\n  def GetDecode(self): return _FactorGraph.CFactorGraph_GetDecode(self)\nFactorBP/FactorGraph.py:399: DeprecationWarning: PyArray_FromDimsAndDataAndDescr: use PyArray_NewFromDescr.\n  def GetDecode(self): return _FactorGraph.CFactorGraph_GetDecode(self)\n"
     ]
    },
    {
     "name": "stderr",
     "output_type": "stream",
     "text": [
      "FactorBP/FactorGraph.py:399: DeprecationWarning: PyArray_FromDims: use PyArray_SimpleNew.\n  def GetDecode(self): return _FactorGraph.CFactorGraph_GetDecode(self)\nFactorBP/FactorGraph.py:399: DeprecationWarning: PyArray_FromDimsAndDataAndDescr: use PyArray_NewFromDescr.\n  def GetDecode(self): return _FactorGraph.CFactorGraph_GetDecode(self)\n"
     ]
    },
    {
     "name": "stderr",
     "output_type": "stream",
     "text": [
      "FactorBP/FactorGraph.py:399: DeprecationWarning: PyArray_FromDims: use PyArray_SimpleNew.\n  def GetDecode(self): return _FactorGraph.CFactorGraph_GetDecode(self)\nFactorBP/FactorGraph.py:399: DeprecationWarning: PyArray_FromDimsAndDataAndDescr: use PyArray_NewFromDescr.\n  def GetDecode(self): return _FactorGraph.CFactorGraph_GetDecode(self)\n"
     ]
    },
    {
     "name": "stderr",
     "output_type": "stream",
     "text": [
      "FactorBP/FactorGraph.py:399: DeprecationWarning: PyArray_FromDims: use PyArray_SimpleNew.\n  def GetDecode(self): return _FactorGraph.CFactorGraph_GetDecode(self)\nFactorBP/FactorGraph.py:399: DeprecationWarning: PyArray_FromDimsAndDataAndDescr: use PyArray_NewFromDescr.\n  def GetDecode(self): return _FactorGraph.CFactorGraph_GetDecode(self)\n"
     ]
    },
    {
     "name": "stderr",
     "output_type": "stream",
     "text": [
      "FactorBP/FactorGraph.py:399: DeprecationWarning: PyArray_FromDims: use PyArray_SimpleNew.\n  def GetDecode(self): return _FactorGraph.CFactorGraph_GetDecode(self)\nFactorBP/FactorGraph.py:399: DeprecationWarning: PyArray_FromDimsAndDataAndDescr: use PyArray_NewFromDescr.\n  def GetDecode(self): return _FactorGraph.CFactorGraph_GetDecode(self)\n"
     ]
    },
    {
     "name": "stderr",
     "output_type": "stream",
     "text": [
      "FactorBP/FactorGraph.py:399: DeprecationWarning: PyArray_FromDims: use PyArray_SimpleNew.\n  def GetDecode(self): return _FactorGraph.CFactorGraph_GetDecode(self)\nFactorBP/FactorGraph.py:399: DeprecationWarning: PyArray_FromDimsAndDataAndDescr: use PyArray_NewFromDescr.\n  def GetDecode(self): return _FactorGraph.CFactorGraph_GetDecode(self)\n"
     ]
    },
    {
     "name": "stderr",
     "output_type": "stream",
     "text": [
      "FactorBP/FactorGraph.py:399: DeprecationWarning: PyArray_FromDims: use PyArray_SimpleNew.\n  def GetDecode(self): return _FactorGraph.CFactorGraph_GetDecode(self)\nFactorBP/FactorGraph.py:399: DeprecationWarning: PyArray_FromDimsAndDataAndDescr: use PyArray_NewFromDescr.\n  def GetDecode(self): return _FactorGraph.CFactorGraph_GetDecode(self)\n"
     ]
    },
    {
     "name": "stderr",
     "output_type": "stream",
     "text": [
      "FactorBP/FactorGraph.py:399: DeprecationWarning: PyArray_FromDims: use PyArray_SimpleNew.\n  def GetDecode(self): return _FactorGraph.CFactorGraph_GetDecode(self)\nFactorBP/FactorGraph.py:399: DeprecationWarning: PyArray_FromDimsAndDataAndDescr: use PyArray_NewFromDescr.\n  def GetDecode(self): return _FactorGraph.CFactorGraph_GetDecode(self)\n"
     ]
    },
    {
     "name": "stderr",
     "output_type": "stream",
     "text": [
      "FactorBP/FactorGraph.py:399: DeprecationWarning: PyArray_FromDims: use PyArray_SimpleNew.\n  def GetDecode(self): return _FactorGraph.CFactorGraph_GetDecode(self)\nFactorBP/FactorGraph.py:399: DeprecationWarning: PyArray_FromDimsAndDataAndDescr: use PyArray_NewFromDescr.\n  def GetDecode(self): return _FactorGraph.CFactorGraph_GetDecode(self)\n"
     ]
    },
    {
     "name": "stderr",
     "output_type": "stream",
     "text": [
      "FactorBP/FactorGraph.py:399: DeprecationWarning: PyArray_FromDims: use PyArray_SimpleNew.\n  def GetDecode(self): return _FactorGraph.CFactorGraph_GetDecode(self)\nFactorBP/FactorGraph.py:399: DeprecationWarning: PyArray_FromDimsAndDataAndDescr: use PyArray_NewFromDescr.\n  def GetDecode(self): return _FactorGraph.CFactorGraph_GetDecode(self)\n"
     ]
    },
    {
     "name": "stderr",
     "output_type": "stream",
     "text": [
      "FactorBP/FactorGraph.py:399: DeprecationWarning: PyArray_FromDims: use PyArray_SimpleNew.\n  def GetDecode(self): return _FactorGraph.CFactorGraph_GetDecode(self)\nFactorBP/FactorGraph.py:399: DeprecationWarning: PyArray_FromDimsAndDataAndDescr: use PyArray_NewFromDescr.\n  def GetDecode(self): return _FactorGraph.CFactorGraph_GetDecode(self)\n"
     ]
    },
    {
     "name": "stderr",
     "output_type": "stream",
     "text": [
      "FactorBP/FactorGraph.py:399: DeprecationWarning: PyArray_FromDims: use PyArray_SimpleNew.\n  def GetDecode(self): return _FactorGraph.CFactorGraph_GetDecode(self)\nFactorBP/FactorGraph.py:399: DeprecationWarning: PyArray_FromDimsAndDataAndDescr: use PyArray_NewFromDescr.\n  def GetDecode(self): return _FactorGraph.CFactorGraph_GetDecode(self)\n"
     ]
    },
    {
     "name": "stderr",
     "output_type": "stream",
     "text": [
      "FactorBP/FactorGraph.py:399: DeprecationWarning: PyArray_FromDims: use PyArray_SimpleNew.\n  def GetDecode(self): return _FactorGraph.CFactorGraph_GetDecode(self)\nFactorBP/FactorGraph.py:399: DeprecationWarning: PyArray_FromDimsAndDataAndDescr: use PyArray_NewFromDescr.\n  def GetDecode(self): return _FactorGraph.CFactorGraph_GetDecode(self)\n"
     ]
    },
    {
     "name": "stderr",
     "output_type": "stream",
     "text": [
      "FactorBP/FactorGraph.py:399: DeprecationWarning: PyArray_FromDims: use PyArray_SimpleNew.\n  def GetDecode(self): return _FactorGraph.CFactorGraph_GetDecode(self)\nFactorBP/FactorGraph.py:399: DeprecationWarning: PyArray_FromDimsAndDataAndDescr: use PyArray_NewFromDescr.\n  def GetDecode(self): return _FactorGraph.CFactorGraph_GetDecode(self)\n"
     ]
    },
    {
     "name": "stderr",
     "output_type": "stream",
     "text": [
      "FactorBP/FactorGraph.py:399: DeprecationWarning: PyArray_FromDims: use PyArray_SimpleNew.\n  def GetDecode(self): return _FactorGraph.CFactorGraph_GetDecode(self)\nFactorBP/FactorGraph.py:399: DeprecationWarning: PyArray_FromDimsAndDataAndDescr: use PyArray_NewFromDescr.\n  def GetDecode(self): return _FactorGraph.CFactorGraph_GetDecode(self)\n"
     ]
    },
    {
     "name": "stderr",
     "output_type": "stream",
     "text": [
      "FactorBP/FactorGraph.py:399: DeprecationWarning: PyArray_FromDims: use PyArray_SimpleNew.\n  def GetDecode(self): return _FactorGraph.CFactorGraph_GetDecode(self)\nFactorBP/FactorGraph.py:399: DeprecationWarning: PyArray_FromDimsAndDataAndDescr: use PyArray_NewFromDescr.\n  def GetDecode(self): return _FactorGraph.CFactorGraph_GetDecode(self)\n"
     ]
    },
    {
     "name": "stderr",
     "output_type": "stream",
     "text": [
      "FactorBP/FactorGraph.py:399: DeprecationWarning: PyArray_FromDims: use PyArray_SimpleNew.\n  def GetDecode(self): return _FactorGraph.CFactorGraph_GetDecode(self)\nFactorBP/FactorGraph.py:399: DeprecationWarning: PyArray_FromDimsAndDataAndDescr: use PyArray_NewFromDescr.\n  def GetDecode(self): return _FactorGraph.CFactorGraph_GetDecode(self)\n"
     ]
    },
    {
     "name": "stderr",
     "output_type": "stream",
     "text": [
      "FactorBP/FactorGraph.py:399: DeprecationWarning: PyArray_FromDims: use PyArray_SimpleNew.\n  def GetDecode(self): return _FactorGraph.CFactorGraph_GetDecode(self)\nFactorBP/FactorGraph.py:399: DeprecationWarning: PyArray_FromDimsAndDataAndDescr: use PyArray_NewFromDescr.\n  def GetDecode(self): return _FactorGraph.CFactorGraph_GetDecode(self)\n"
     ]
    },
    {
     "name": "stderr",
     "output_type": "stream",
     "text": [
      "FactorBP/FactorGraph.py:399: DeprecationWarning: PyArray_FromDims: use PyArray_SimpleNew.\n  def GetDecode(self): return _FactorGraph.CFactorGraph_GetDecode(self)\nFactorBP/FactorGraph.py:399: DeprecationWarning: PyArray_FromDimsAndDataAndDescr: use PyArray_NewFromDescr.\n  def GetDecode(self): return _FactorGraph.CFactorGraph_GetDecode(self)\n"
     ]
    },
    {
     "name": "stderr",
     "output_type": "stream",
     "text": [
      "FactorBP/FactorGraph.py:399: DeprecationWarning: PyArray_FromDims: use PyArray_SimpleNew.\n  def GetDecode(self): return _FactorGraph.CFactorGraph_GetDecode(self)\nFactorBP/FactorGraph.py:399: DeprecationWarning: PyArray_FromDimsAndDataAndDescr: use PyArray_NewFromDescr.\n  def GetDecode(self): return _FactorGraph.CFactorGraph_GetDecode(self)\n"
     ]
    },
    {
     "name": "stderr",
     "output_type": "stream",
     "text": [
      "FactorBP/FactorGraph.py:399: DeprecationWarning: PyArray_FromDims: use PyArray_SimpleNew.\n  def GetDecode(self): return _FactorGraph.CFactorGraph_GetDecode(self)\nFactorBP/FactorGraph.py:399: DeprecationWarning: PyArray_FromDimsAndDataAndDescr: use PyArray_NewFromDescr.\n  def GetDecode(self): return _FactorGraph.CFactorGraph_GetDecode(self)\n"
     ]
    },
    {
     "name": "stderr",
     "output_type": "stream",
     "text": [
      "FactorBP/FactorGraph.py:399: DeprecationWarning: PyArray_FromDims: use PyArray_SimpleNew.\n  def GetDecode(self): return _FactorGraph.CFactorGraph_GetDecode(self)\nFactorBP/FactorGraph.py:399: DeprecationWarning: PyArray_FromDimsAndDataAndDescr: use PyArray_NewFromDescr.\n  def GetDecode(self): return _FactorGraph.CFactorGraph_GetDecode(self)\n"
     ]
    },
    {
     "name": "stderr",
     "output_type": "stream",
     "text": [
      "FactorBP/FactorGraph.py:399: DeprecationWarning: PyArray_FromDims: use PyArray_SimpleNew.\n  def GetDecode(self): return _FactorGraph.CFactorGraph_GetDecode(self)\nFactorBP/FactorGraph.py:399: DeprecationWarning: PyArray_FromDimsAndDataAndDescr: use PyArray_NewFromDescr.\n  def GetDecode(self): return _FactorGraph.CFactorGraph_GetDecode(self)\n"
     ]
    },
    {
     "name": "stderr",
     "output_type": "stream",
     "text": [
      "FactorBP/FactorGraph.py:399: DeprecationWarning: PyArray_FromDims: use PyArray_SimpleNew.\n  def GetDecode(self): return _FactorGraph.CFactorGraph_GetDecode(self)\nFactorBP/FactorGraph.py:399: DeprecationWarning: PyArray_FromDimsAndDataAndDescr: use PyArray_NewFromDescr.\n  def GetDecode(self): return _FactorGraph.CFactorGraph_GetDecode(self)\n"
     ]
    },
    {
     "name": "stderr",
     "output_type": "stream",
     "text": [
      "FactorBP/FactorGraph.py:399: DeprecationWarning: PyArray_FromDims: use PyArray_SimpleNew.\n  def GetDecode(self): return _FactorGraph.CFactorGraph_GetDecode(self)\nFactorBP/FactorGraph.py:399: DeprecationWarning: PyArray_FromDimsAndDataAndDescr: use PyArray_NewFromDescr.\n  def GetDecode(self): return _FactorGraph.CFactorGraph_GetDecode(self)\n"
     ]
    },
    {
     "name": "stderr",
     "output_type": "stream",
     "text": [
      "FactorBP/FactorGraph.py:399: DeprecationWarning: PyArray_FromDims: use PyArray_SimpleNew.\n  def GetDecode(self): return _FactorGraph.CFactorGraph_GetDecode(self)\nFactorBP/FactorGraph.py:399: DeprecationWarning: PyArray_FromDimsAndDataAndDescr: use PyArray_NewFromDescr.\n  def GetDecode(self): return _FactorGraph.CFactorGraph_GetDecode(self)\n"
     ]
    },
    {
     "name": "stderr",
     "output_type": "stream",
     "text": [
      "FactorBP/FactorGraph.py:399: DeprecationWarning: PyArray_FromDims: use PyArray_SimpleNew.\n  def GetDecode(self): return _FactorGraph.CFactorGraph_GetDecode(self)\nFactorBP/FactorGraph.py:399: DeprecationWarning: PyArray_FromDimsAndDataAndDescr: use PyArray_NewFromDescr.\n  def GetDecode(self): return _FactorGraph.CFactorGraph_GetDecode(self)\n"
     ]
    },
    {
     "name": "stderr",
     "output_type": "stream",
     "text": [
      "FactorBP/FactorGraph.py:399: DeprecationWarning: PyArray_FromDims: use PyArray_SimpleNew.\n  def GetDecode(self): return _FactorGraph.CFactorGraph_GetDecode(self)\nFactorBP/FactorGraph.py:399: DeprecationWarning: PyArray_FromDimsAndDataAndDescr: use PyArray_NewFromDescr.\n  def GetDecode(self): return _FactorGraph.CFactorGraph_GetDecode(self)\n"
     ]
    },
    {
     "name": "stderr",
     "output_type": "stream",
     "text": [
      "FactorBP/FactorGraph.py:399: DeprecationWarning: PyArray_FromDims: use PyArray_SimpleNew.\n  def GetDecode(self): return _FactorGraph.CFactorGraph_GetDecode(self)\nFactorBP/FactorGraph.py:399: DeprecationWarning: PyArray_FromDimsAndDataAndDescr: use PyArray_NewFromDescr.\n  def GetDecode(self): return _FactorGraph.CFactorGraph_GetDecode(self)\n"
     ]
    },
    {
     "name": "stderr",
     "output_type": "stream",
     "text": [
      "FactorBP/FactorGraph.py:399: DeprecationWarning: PyArray_FromDims: use PyArray_SimpleNew.\n  def GetDecode(self): return _FactorGraph.CFactorGraph_GetDecode(self)\nFactorBP/FactorGraph.py:399: DeprecationWarning: PyArray_FromDimsAndDataAndDescr: use PyArray_NewFromDescr.\n  def GetDecode(self): return _FactorGraph.CFactorGraph_GetDecode(self)\n"
     ]
    },
    {
     "name": "stderr",
     "output_type": "stream",
     "text": [
      "FactorBP/FactorGraph.py:399: DeprecationWarning: PyArray_FromDims: use PyArray_SimpleNew.\n  def GetDecode(self): return _FactorGraph.CFactorGraph_GetDecode(self)\nFactorBP/FactorGraph.py:399: DeprecationWarning: PyArray_FromDimsAndDataAndDescr: use PyArray_NewFromDescr.\n  def GetDecode(self): return _FactorGraph.CFactorGraph_GetDecode(self)\n"
     ]
    },
    {
     "name": "stderr",
     "output_type": "stream",
     "text": [
      "FactorBP/FactorGraph.py:399: DeprecationWarning: PyArray_FromDims: use PyArray_SimpleNew.\n  def GetDecode(self): return _FactorGraph.CFactorGraph_GetDecode(self)\nFactorBP/FactorGraph.py:399: DeprecationWarning: PyArray_FromDimsAndDataAndDescr: use PyArray_NewFromDescr.\n  def GetDecode(self): return _FactorGraph.CFactorGraph_GetDecode(self)\n"
     ]
    },
    {
     "name": "stderr",
     "output_type": "stream",
     "text": [
      "FactorBP/FactorGraph.py:399: DeprecationWarning: PyArray_FromDims: use PyArray_SimpleNew.\n  def GetDecode(self): return _FactorGraph.CFactorGraph_GetDecode(self)\nFactorBP/FactorGraph.py:399: DeprecationWarning: PyArray_FromDimsAndDataAndDescr: use PyArray_NewFromDescr.\n  def GetDecode(self): return _FactorGraph.CFactorGraph_GetDecode(self)\n"
     ]
    },
    {
     "name": "stderr",
     "output_type": "stream",
     "text": [
      "FactorBP/FactorGraph.py:399: DeprecationWarning: PyArray_FromDims: use PyArray_SimpleNew.\n  def GetDecode(self): return _FactorGraph.CFactorGraph_GetDecode(self)\nFactorBP/FactorGraph.py:399: DeprecationWarning: PyArray_FromDimsAndDataAndDescr: use PyArray_NewFromDescr.\n  def GetDecode(self): return _FactorGraph.CFactorGraph_GetDecode(self)\n"
     ]
    },
    {
     "name": "stderr",
     "output_type": "stream",
     "text": [
      "FactorBP/FactorGraph.py:399: DeprecationWarning: PyArray_FromDims: use PyArray_SimpleNew.\n  def GetDecode(self): return _FactorGraph.CFactorGraph_GetDecode(self)\nFactorBP/FactorGraph.py:399: DeprecationWarning: PyArray_FromDimsAndDataAndDescr: use PyArray_NewFromDescr.\n  def GetDecode(self): return _FactorGraph.CFactorGraph_GetDecode(self)\n"
     ]
    },
    {
     "name": "stderr",
     "output_type": "stream",
     "text": [
      "FactorBP/FactorGraph.py:399: DeprecationWarning: PyArray_FromDims: use PyArray_SimpleNew.\n  def GetDecode(self): return _FactorGraph.CFactorGraph_GetDecode(self)\nFactorBP/FactorGraph.py:399: DeprecationWarning: PyArray_FromDimsAndDataAndDescr: use PyArray_NewFromDescr.\n  def GetDecode(self): return _FactorGraph.CFactorGraph_GetDecode(self)\n"
     ]
    },
    {
     "name": "stderr",
     "output_type": "stream",
     "text": [
      "FactorBP/FactorGraph.py:399: DeprecationWarning: PyArray_FromDims: use PyArray_SimpleNew.\n  def GetDecode(self): return _FactorGraph.CFactorGraph_GetDecode(self)\nFactorBP/FactorGraph.py:399: DeprecationWarning: PyArray_FromDimsAndDataAndDescr: use PyArray_NewFromDescr.\n  def GetDecode(self): return _FactorGraph.CFactorGraph_GetDecode(self)\n"
     ]
    },
    {
     "name": "stderr",
     "output_type": "stream",
     "text": [
      "FactorBP/FactorGraph.py:399: DeprecationWarning: PyArray_FromDims: use PyArray_SimpleNew.\n  def GetDecode(self): return _FactorGraph.CFactorGraph_GetDecode(self)\nFactorBP/FactorGraph.py:399: DeprecationWarning: PyArray_FromDimsAndDataAndDescr: use PyArray_NewFromDescr.\n  def GetDecode(self): return _FactorGraph.CFactorGraph_GetDecode(self)\n"
     ]
    },
    {
     "name": "stderr",
     "output_type": "stream",
     "text": [
      "FactorBP/FactorGraph.py:399: DeprecationWarning: PyArray_FromDims: use PyArray_SimpleNew.\n  def GetDecode(self): return _FactorGraph.CFactorGraph_GetDecode(self)\nFactorBP/FactorGraph.py:399: DeprecationWarning: PyArray_FromDimsAndDataAndDescr: use PyArray_NewFromDescr.\n  def GetDecode(self): return _FactorGraph.CFactorGraph_GetDecode(self)\n"
     ]
    },
    {
     "name": "stderr",
     "output_type": "stream",
     "text": [
      "FactorBP/FactorGraph.py:399: DeprecationWarning: PyArray_FromDims: use PyArray_SimpleNew.\n  def GetDecode(self): return _FactorGraph.CFactorGraph_GetDecode(self)\nFactorBP/FactorGraph.py:399: DeprecationWarning: PyArray_FromDimsAndDataAndDescr: use PyArray_NewFromDescr.\n  def GetDecode(self): return _FactorGraph.CFactorGraph_GetDecode(self)\n"
     ]
    },
    {
     "name": "stderr",
     "output_type": "stream",
     "text": [
      "FactorBP/FactorGraph.py:399: DeprecationWarning: PyArray_FromDims: use PyArray_SimpleNew.\n  def GetDecode(self): return _FactorGraph.CFactorGraph_GetDecode(self)\nFactorBP/FactorGraph.py:399: DeprecationWarning: PyArray_FromDimsAndDataAndDescr: use PyArray_NewFromDescr.\n  def GetDecode(self): return _FactorGraph.CFactorGraph_GetDecode(self)\n"
     ]
    },
    {
     "name": "stderr",
     "output_type": "stream",
     "text": [
      "FactorBP/FactorGraph.py:399: DeprecationWarning: PyArray_FromDims: use PyArray_SimpleNew.\n  def GetDecode(self): return _FactorGraph.CFactorGraph_GetDecode(self)\nFactorBP/FactorGraph.py:399: DeprecationWarning: PyArray_FromDimsAndDataAndDescr: use PyArray_NewFromDescr.\n  def GetDecode(self): return _FactorGraph.CFactorGraph_GetDecode(self)\n"
     ]
    },
    {
     "name": "stderr",
     "output_type": "stream",
     "text": [
      "FactorBP/FactorGraph.py:399: DeprecationWarning: PyArray_FromDims: use PyArray_SimpleNew.\n  def GetDecode(self): return _FactorGraph.CFactorGraph_GetDecode(self)\nFactorBP/FactorGraph.py:399: DeprecationWarning: PyArray_FromDimsAndDataAndDescr: use PyArray_NewFromDescr.\n  def GetDecode(self): return _FactorGraph.CFactorGraph_GetDecode(self)\n"
     ]
    },
    {
     "name": "stderr",
     "output_type": "stream",
     "text": [
      "FactorBP/FactorGraph.py:399: DeprecationWarning: PyArray_FromDims: use PyArray_SimpleNew.\n  def GetDecode(self): return _FactorGraph.CFactorGraph_GetDecode(self)\nFactorBP/FactorGraph.py:399: DeprecationWarning: PyArray_FromDimsAndDataAndDescr: use PyArray_NewFromDescr.\n  def GetDecode(self): return _FactorGraph.CFactorGraph_GetDecode(self)\n"
     ]
    },
    {
     "name": "stderr",
     "output_type": "stream",
     "text": [
      "FactorBP/FactorGraph.py:399: DeprecationWarning: PyArray_FromDims: use PyArray_SimpleNew.\n  def GetDecode(self): return _FactorGraph.CFactorGraph_GetDecode(self)\nFactorBP/FactorGraph.py:399: DeprecationWarning: PyArray_FromDimsAndDataAndDescr: use PyArray_NewFromDescr.\n  def GetDecode(self): return _FactorGraph.CFactorGraph_GetDecode(self)\n"
     ]
    },
    {
     "name": "stderr",
     "output_type": "stream",
     "text": [
      "FactorBP/FactorGraph.py:399: DeprecationWarning: PyArray_FromDims: use PyArray_SimpleNew.\n  def GetDecode(self): return _FactorGraph.CFactorGraph_GetDecode(self)\nFactorBP/FactorGraph.py:399: DeprecationWarning: PyArray_FromDimsAndDataAndDescr: use PyArray_NewFromDescr.\n  def GetDecode(self): return _FactorGraph.CFactorGraph_GetDecode(self)\n"
     ]
    },
    {
     "name": "stderr",
     "output_type": "stream",
     "text": [
      "FactorBP/FactorGraph.py:399: DeprecationWarning: PyArray_FromDims: use PyArray_SimpleNew.\n  def GetDecode(self): return _FactorGraph.CFactorGraph_GetDecode(self)\nFactorBP/FactorGraph.py:399: DeprecationWarning: PyArray_FromDimsAndDataAndDescr: use PyArray_NewFromDescr.\n  def GetDecode(self): return _FactorGraph.CFactorGraph_GetDecode(self)\n"
     ]
    },
    {
     "name": "stderr",
     "output_type": "stream",
     "text": [
      "FactorBP/FactorGraph.py:399: DeprecationWarning: PyArray_FromDims: use PyArray_SimpleNew.\n  def GetDecode(self): return _FactorGraph.CFactorGraph_GetDecode(self)\nFactorBP/FactorGraph.py:399: DeprecationWarning: PyArray_FromDimsAndDataAndDescr: use PyArray_NewFromDescr.\n  def GetDecode(self): return _FactorGraph.CFactorGraph_GetDecode(self)\n"
     ]
    },
    {
     "name": "stderr",
     "output_type": "stream",
     "text": [
      "FactorBP/FactorGraph.py:399: DeprecationWarning: PyArray_FromDims: use PyArray_SimpleNew.\n  def GetDecode(self): return _FactorGraph.CFactorGraph_GetDecode(self)\nFactorBP/FactorGraph.py:399: DeprecationWarning: PyArray_FromDimsAndDataAndDescr: use PyArray_NewFromDescr.\n  def GetDecode(self): return _FactorGraph.CFactorGraph_GetDecode(self)\n"
     ]
    },
    {
     "name": "stderr",
     "output_type": "stream",
     "text": [
      "FactorBP/FactorGraph.py:399: DeprecationWarning: PyArray_FromDims: use PyArray_SimpleNew.\n  def GetDecode(self): return _FactorGraph.CFactorGraph_GetDecode(self)\nFactorBP/FactorGraph.py:399: DeprecationWarning: PyArray_FromDimsAndDataAndDescr: use PyArray_NewFromDescr.\n  def GetDecode(self): return _FactorGraph.CFactorGraph_GetDecode(self)\n"
     ]
    },
    {
     "name": "stderr",
     "output_type": "stream",
     "text": [
      "FactorBP/FactorGraph.py:399: DeprecationWarning: PyArray_FromDims: use PyArray_SimpleNew.\n  def GetDecode(self): return _FactorGraph.CFactorGraph_GetDecode(self)\nFactorBP/FactorGraph.py:399: DeprecationWarning: PyArray_FromDimsAndDataAndDescr: use PyArray_NewFromDescr.\n  def GetDecode(self): return _FactorGraph.CFactorGraph_GetDecode(self)\n"
     ]
    },
    {
     "name": "stdout",
     "output_type": "stream",
     "text": [
      "IPFP Accuracy 0.937363 Running Time 0.007531 Obj 0.956667\nOurs-PW Accuracy 1.000000 Running Time 0.015134 Obj 1.000000\nFGM Accuracy 0.978755 Running Time 0.027394 Obj 0.984141\nRRWM Accuracy 1.000000 Running Time 0.019734 Obj 1.000000\nSM Accuracy 0.978755 Running Time 0.027658 Obj 0.984141\n××××××××××××××××××××\n Start baseline: 30\n"
     ]
    },
    {
     "name": "stderr",
     "output_type": "stream",
     "text": [
      "FactorBP/FactorGraph.py:399: DeprecationWarning: PyArray_FromDims: use PyArray_SimpleNew.\n  def GetDecode(self): return _FactorGraph.CFactorGraph_GetDecode(self)\nFactorBP/FactorGraph.py:399: DeprecationWarning: PyArray_FromDimsAndDataAndDescr: use PyArray_NewFromDescr.\n  def GetDecode(self): return _FactorGraph.CFactorGraph_GetDecode(self)\n"
     ]
    },
    {
     "name": "stderr",
     "output_type": "stream",
     "text": [
      "FactorBP/FactorGraph.py:399: DeprecationWarning: PyArray_FromDims: use PyArray_SimpleNew.\n  def GetDecode(self): return _FactorGraph.CFactorGraph_GetDecode(self)\nFactorBP/FactorGraph.py:399: DeprecationWarning: PyArray_FromDimsAndDataAndDescr: use PyArray_NewFromDescr.\n  def GetDecode(self): return _FactorGraph.CFactorGraph_GetDecode(self)\n"
     ]
    },
    {
     "name": "stderr",
     "output_type": "stream",
     "text": [
      "FactorBP/FactorGraph.py:399: DeprecationWarning: PyArray_FromDims: use PyArray_SimpleNew.\n  def GetDecode(self): return _FactorGraph.CFactorGraph_GetDecode(self)\nFactorBP/FactorGraph.py:399: DeprecationWarning: PyArray_FromDimsAndDataAndDescr: use PyArray_NewFromDescr.\n  def GetDecode(self): return _FactorGraph.CFactorGraph_GetDecode(self)\n"
     ]
    },
    {
     "name": "stderr",
     "output_type": "stream",
     "text": [
      "FactorBP/FactorGraph.py:399: DeprecationWarning: PyArray_FromDims: use PyArray_SimpleNew.\n  def GetDecode(self): return _FactorGraph.CFactorGraph_GetDecode(self)\nFactorBP/FactorGraph.py:399: DeprecationWarning: PyArray_FromDimsAndDataAndDescr: use PyArray_NewFromDescr.\n  def GetDecode(self): return _FactorGraph.CFactorGraph_GetDecode(self)\n"
     ]
    },
    {
     "name": "stderr",
     "output_type": "stream",
     "text": [
      "FactorBP/FactorGraph.py:399: DeprecationWarning: PyArray_FromDims: use PyArray_SimpleNew.\n  def GetDecode(self): return _FactorGraph.CFactorGraph_GetDecode(self)\nFactorBP/FactorGraph.py:399: DeprecationWarning: PyArray_FromDimsAndDataAndDescr: use PyArray_NewFromDescr.\n  def GetDecode(self): return _FactorGraph.CFactorGraph_GetDecode(self)\n"
     ]
    },
    {
     "name": "stderr",
     "output_type": "stream",
     "text": [
      "FactorBP/FactorGraph.py:399: DeprecationWarning: PyArray_FromDims: use PyArray_SimpleNew.\n  def GetDecode(self): return _FactorGraph.CFactorGraph_GetDecode(self)\nFactorBP/FactorGraph.py:399: DeprecationWarning: PyArray_FromDimsAndDataAndDescr: use PyArray_NewFromDescr.\n  def GetDecode(self): return _FactorGraph.CFactorGraph_GetDecode(self)\n"
     ]
    },
    {
     "name": "stderr",
     "output_type": "stream",
     "text": [
      "FactorBP/FactorGraph.py:399: DeprecationWarning: PyArray_FromDims: use PyArray_SimpleNew.\n  def GetDecode(self): return _FactorGraph.CFactorGraph_GetDecode(self)\nFactorBP/FactorGraph.py:399: DeprecationWarning: PyArray_FromDimsAndDataAndDescr: use PyArray_NewFromDescr.\n  def GetDecode(self): return _FactorGraph.CFactorGraph_GetDecode(self)\n"
     ]
    },
    {
     "name": "stderr",
     "output_type": "stream",
     "text": [
      "FactorBP/FactorGraph.py:399: DeprecationWarning: PyArray_FromDims: use PyArray_SimpleNew.\n  def GetDecode(self): return _FactorGraph.CFactorGraph_GetDecode(self)\nFactorBP/FactorGraph.py:399: DeprecationWarning: PyArray_FromDimsAndDataAndDescr: use PyArray_NewFromDescr.\n  def GetDecode(self): return _FactorGraph.CFactorGraph_GetDecode(self)\n"
     ]
    },
    {
     "name": "stderr",
     "output_type": "stream",
     "text": [
      "FactorBP/FactorGraph.py:399: DeprecationWarning: PyArray_FromDims: use PyArray_SimpleNew.\n  def GetDecode(self): return _FactorGraph.CFactorGraph_GetDecode(self)\nFactorBP/FactorGraph.py:399: DeprecationWarning: PyArray_FromDimsAndDataAndDescr: use PyArray_NewFromDescr.\n  def GetDecode(self): return _FactorGraph.CFactorGraph_GetDecode(self)\n"
     ]
    },
    {
     "name": "stderr",
     "output_type": "stream",
     "text": [
      "FactorBP/FactorGraph.py:399: DeprecationWarning: PyArray_FromDims: use PyArray_SimpleNew.\n  def GetDecode(self): return _FactorGraph.CFactorGraph_GetDecode(self)\nFactorBP/FactorGraph.py:399: DeprecationWarning: PyArray_FromDimsAndDataAndDescr: use PyArray_NewFromDescr.\n  def GetDecode(self): return _FactorGraph.CFactorGraph_GetDecode(self)\n"
     ]
    },
    {
     "name": "stderr",
     "output_type": "stream",
     "text": [
      "FactorBP/FactorGraph.py:399: DeprecationWarning: PyArray_FromDims: use PyArray_SimpleNew.\n  def GetDecode(self): return _FactorGraph.CFactorGraph_GetDecode(self)\nFactorBP/FactorGraph.py:399: DeprecationWarning: PyArray_FromDimsAndDataAndDescr: use PyArray_NewFromDescr.\n  def GetDecode(self): return _FactorGraph.CFactorGraph_GetDecode(self)\n"
     ]
    },
    {
     "name": "stderr",
     "output_type": "stream",
     "text": [
      "FactorBP/FactorGraph.py:399: DeprecationWarning: PyArray_FromDims: use PyArray_SimpleNew.\n  def GetDecode(self): return _FactorGraph.CFactorGraph_GetDecode(self)\nFactorBP/FactorGraph.py:399: DeprecationWarning: PyArray_FromDimsAndDataAndDescr: use PyArray_NewFromDescr.\n  def GetDecode(self): return _FactorGraph.CFactorGraph_GetDecode(self)\n"
     ]
    },
    {
     "name": "stderr",
     "output_type": "stream",
     "text": [
      "FactorBP/FactorGraph.py:399: DeprecationWarning: PyArray_FromDims: use PyArray_SimpleNew.\n  def GetDecode(self): return _FactorGraph.CFactorGraph_GetDecode(self)\nFactorBP/FactorGraph.py:399: DeprecationWarning: PyArray_FromDimsAndDataAndDescr: use PyArray_NewFromDescr.\n  def GetDecode(self): return _FactorGraph.CFactorGraph_GetDecode(self)\n"
     ]
    },
    {
     "name": "stderr",
     "output_type": "stream",
     "text": [
      "FactorBP/FactorGraph.py:399: DeprecationWarning: PyArray_FromDims: use PyArray_SimpleNew.\n  def GetDecode(self): return _FactorGraph.CFactorGraph_GetDecode(self)\nFactorBP/FactorGraph.py:399: DeprecationWarning: PyArray_FromDimsAndDataAndDescr: use PyArray_NewFromDescr.\n  def GetDecode(self): return _FactorGraph.CFactorGraph_GetDecode(self)\n"
     ]
    },
    {
     "name": "stderr",
     "output_type": "stream",
     "text": [
      "FactorBP/FactorGraph.py:399: DeprecationWarning: PyArray_FromDims: use PyArray_SimpleNew.\n  def GetDecode(self): return _FactorGraph.CFactorGraph_GetDecode(self)\nFactorBP/FactorGraph.py:399: DeprecationWarning: PyArray_FromDimsAndDataAndDescr: use PyArray_NewFromDescr.\n  def GetDecode(self): return _FactorGraph.CFactorGraph_GetDecode(self)\n"
     ]
    },
    {
     "name": "stderr",
     "output_type": "stream",
     "text": [
      "FactorBP/FactorGraph.py:399: DeprecationWarning: PyArray_FromDims: use PyArray_SimpleNew.\n  def GetDecode(self): return _FactorGraph.CFactorGraph_GetDecode(self)\nFactorBP/FactorGraph.py:399: DeprecationWarning: PyArray_FromDimsAndDataAndDescr: use PyArray_NewFromDescr.\n  def GetDecode(self): return _FactorGraph.CFactorGraph_GetDecode(self)\n"
     ]
    },
    {
     "name": "stderr",
     "output_type": "stream",
     "text": [
      "FactorBP/FactorGraph.py:399: DeprecationWarning: PyArray_FromDims: use PyArray_SimpleNew.\n  def GetDecode(self): return _FactorGraph.CFactorGraph_GetDecode(self)\nFactorBP/FactorGraph.py:399: DeprecationWarning: PyArray_FromDimsAndDataAndDescr: use PyArray_NewFromDescr.\n  def GetDecode(self): return _FactorGraph.CFactorGraph_GetDecode(self)\n"
     ]
    },
    {
     "name": "stderr",
     "output_type": "stream",
     "text": [
      "FactorBP/FactorGraph.py:399: DeprecationWarning: PyArray_FromDims: use PyArray_SimpleNew.\n  def GetDecode(self): return _FactorGraph.CFactorGraph_GetDecode(self)\nFactorBP/FactorGraph.py:399: DeprecationWarning: PyArray_FromDimsAndDataAndDescr: use PyArray_NewFromDescr.\n  def GetDecode(self): return _FactorGraph.CFactorGraph_GetDecode(self)\n"
     ]
    },
    {
     "name": "stderr",
     "output_type": "stream",
     "text": [
      "FactorBP/FactorGraph.py:399: DeprecationWarning: PyArray_FromDims: use PyArray_SimpleNew.\n  def GetDecode(self): return _FactorGraph.CFactorGraph_GetDecode(self)\nFactorBP/FactorGraph.py:399: DeprecationWarning: PyArray_FromDimsAndDataAndDescr: use PyArray_NewFromDescr.\n  def GetDecode(self): return _FactorGraph.CFactorGraph_GetDecode(self)\n"
     ]
    },
    {
     "name": "stderr",
     "output_type": "stream",
     "text": [
      "FactorBP/FactorGraph.py:399: DeprecationWarning: PyArray_FromDims: use PyArray_SimpleNew.\n  def GetDecode(self): return _FactorGraph.CFactorGraph_GetDecode(self)\nFactorBP/FactorGraph.py:399: DeprecationWarning: PyArray_FromDimsAndDataAndDescr: use PyArray_NewFromDescr.\n  def GetDecode(self): return _FactorGraph.CFactorGraph_GetDecode(self)\n"
     ]
    },
    {
     "name": "stderr",
     "output_type": "stream",
     "text": [
      "FactorBP/FactorGraph.py:399: DeprecationWarning: PyArray_FromDims: use PyArray_SimpleNew.\n  def GetDecode(self): return _FactorGraph.CFactorGraph_GetDecode(self)\nFactorBP/FactorGraph.py:399: DeprecationWarning: PyArray_FromDimsAndDataAndDescr: use PyArray_NewFromDescr.\n  def GetDecode(self): return _FactorGraph.CFactorGraph_GetDecode(self)\n"
     ]
    },
    {
     "name": "stderr",
     "output_type": "stream",
     "text": [
      "FactorBP/FactorGraph.py:399: DeprecationWarning: PyArray_FromDims: use PyArray_SimpleNew.\n  def GetDecode(self): return _FactorGraph.CFactorGraph_GetDecode(self)\nFactorBP/FactorGraph.py:399: DeprecationWarning: PyArray_FromDimsAndDataAndDescr: use PyArray_NewFromDescr.\n  def GetDecode(self): return _FactorGraph.CFactorGraph_GetDecode(self)\n"
     ]
    },
    {
     "name": "stderr",
     "output_type": "stream",
     "text": [
      "FactorBP/FactorGraph.py:399: DeprecationWarning: PyArray_FromDims: use PyArray_SimpleNew.\n  def GetDecode(self): return _FactorGraph.CFactorGraph_GetDecode(self)\nFactorBP/FactorGraph.py:399: DeprecationWarning: PyArray_FromDimsAndDataAndDescr: use PyArray_NewFromDescr.\n  def GetDecode(self): return _FactorGraph.CFactorGraph_GetDecode(self)\n"
     ]
    },
    {
     "name": "stderr",
     "output_type": "stream",
     "text": [
      "FactorBP/FactorGraph.py:399: DeprecationWarning: PyArray_FromDims: use PyArray_SimpleNew.\n  def GetDecode(self): return _FactorGraph.CFactorGraph_GetDecode(self)\nFactorBP/FactorGraph.py:399: DeprecationWarning: PyArray_FromDimsAndDataAndDescr: use PyArray_NewFromDescr.\n  def GetDecode(self): return _FactorGraph.CFactorGraph_GetDecode(self)\n"
     ]
    },
    {
     "name": "stderr",
     "output_type": "stream",
     "text": [
      "FactorBP/FactorGraph.py:399: DeprecationWarning: PyArray_FromDims: use PyArray_SimpleNew.\n  def GetDecode(self): return _FactorGraph.CFactorGraph_GetDecode(self)\nFactorBP/FactorGraph.py:399: DeprecationWarning: PyArray_FromDimsAndDataAndDescr: use PyArray_NewFromDescr.\n  def GetDecode(self): return _FactorGraph.CFactorGraph_GetDecode(self)\n"
     ]
    },
    {
     "name": "stderr",
     "output_type": "stream",
     "text": [
      "FactorBP/FactorGraph.py:399: DeprecationWarning: PyArray_FromDims: use PyArray_SimpleNew.\n  def GetDecode(self): return _FactorGraph.CFactorGraph_GetDecode(self)\nFactorBP/FactorGraph.py:399: DeprecationWarning: PyArray_FromDimsAndDataAndDescr: use PyArray_NewFromDescr.\n  def GetDecode(self): return _FactorGraph.CFactorGraph_GetDecode(self)\n"
     ]
    },
    {
     "name": "stderr",
     "output_type": "stream",
     "text": [
      "FactorBP/FactorGraph.py:399: DeprecationWarning: PyArray_FromDims: use PyArray_SimpleNew.\n  def GetDecode(self): return _FactorGraph.CFactorGraph_GetDecode(self)\nFactorBP/FactorGraph.py:399: DeprecationWarning: PyArray_FromDimsAndDataAndDescr: use PyArray_NewFromDescr.\n  def GetDecode(self): return _FactorGraph.CFactorGraph_GetDecode(self)\n"
     ]
    },
    {
     "name": "stderr",
     "output_type": "stream",
     "text": [
      "FactorBP/FactorGraph.py:399: DeprecationWarning: PyArray_FromDims: use PyArray_SimpleNew.\n  def GetDecode(self): return _FactorGraph.CFactorGraph_GetDecode(self)\nFactorBP/FactorGraph.py:399: DeprecationWarning: PyArray_FromDimsAndDataAndDescr: use PyArray_NewFromDescr.\n  def GetDecode(self): return _FactorGraph.CFactorGraph_GetDecode(self)\n"
     ]
    },
    {
     "name": "stderr",
     "output_type": "stream",
     "text": [
      "FactorBP/FactorGraph.py:399: DeprecationWarning: PyArray_FromDims: use PyArray_SimpleNew.\n  def GetDecode(self): return _FactorGraph.CFactorGraph_GetDecode(self)\nFactorBP/FactorGraph.py:399: DeprecationWarning: PyArray_FromDimsAndDataAndDescr: use PyArray_NewFromDescr.\n  def GetDecode(self): return _FactorGraph.CFactorGraph_GetDecode(self)\n"
     ]
    },
    {
     "name": "stderr",
     "output_type": "stream",
     "text": [
      "FactorBP/FactorGraph.py:399: DeprecationWarning: PyArray_FromDims: use PyArray_SimpleNew.\n  def GetDecode(self): return _FactorGraph.CFactorGraph_GetDecode(self)\nFactorBP/FactorGraph.py:399: DeprecationWarning: PyArray_FromDimsAndDataAndDescr: use PyArray_NewFromDescr.\n  def GetDecode(self): return _FactorGraph.CFactorGraph_GetDecode(self)\n"
     ]
    },
    {
     "name": "stderr",
     "output_type": "stream",
     "text": [
      "FactorBP/FactorGraph.py:399: DeprecationWarning: PyArray_FromDims: use PyArray_SimpleNew.\n  def GetDecode(self): return _FactorGraph.CFactorGraph_GetDecode(self)\nFactorBP/FactorGraph.py:399: DeprecationWarning: PyArray_FromDimsAndDataAndDescr: use PyArray_NewFromDescr.\n  def GetDecode(self): return _FactorGraph.CFactorGraph_GetDecode(self)\n"
     ]
    },
    {
     "name": "stderr",
     "output_type": "stream",
     "text": [
      "FactorBP/FactorGraph.py:399: DeprecationWarning: PyArray_FromDims: use PyArray_SimpleNew.\n  def GetDecode(self): return _FactorGraph.CFactorGraph_GetDecode(self)\nFactorBP/FactorGraph.py:399: DeprecationWarning: PyArray_FromDimsAndDataAndDescr: use PyArray_NewFromDescr.\n  def GetDecode(self): return _FactorGraph.CFactorGraph_GetDecode(self)\n"
     ]
    },
    {
     "name": "stderr",
     "output_type": "stream",
     "text": [
      "FactorBP/FactorGraph.py:399: DeprecationWarning: PyArray_FromDims: use PyArray_SimpleNew.\n  def GetDecode(self): return _FactorGraph.CFactorGraph_GetDecode(self)\nFactorBP/FactorGraph.py:399: DeprecationWarning: PyArray_FromDimsAndDataAndDescr: use PyArray_NewFromDescr.\n  def GetDecode(self): return _FactorGraph.CFactorGraph_GetDecode(self)\n"
     ]
    },
    {
     "name": "stderr",
     "output_type": "stream",
     "text": [
      "FactorBP/FactorGraph.py:399: DeprecationWarning: PyArray_FromDims: use PyArray_SimpleNew.\n  def GetDecode(self): return _FactorGraph.CFactorGraph_GetDecode(self)\nFactorBP/FactorGraph.py:399: DeprecationWarning: PyArray_FromDimsAndDataAndDescr: use PyArray_NewFromDescr.\n  def GetDecode(self): return _FactorGraph.CFactorGraph_GetDecode(self)\n"
     ]
    },
    {
     "name": "stderr",
     "output_type": "stream",
     "text": [
      "FactorBP/FactorGraph.py:399: DeprecationWarning: PyArray_FromDims: use PyArray_SimpleNew.\n  def GetDecode(self): return _FactorGraph.CFactorGraph_GetDecode(self)\nFactorBP/FactorGraph.py:399: DeprecationWarning: PyArray_FromDimsAndDataAndDescr: use PyArray_NewFromDescr.\n  def GetDecode(self): return _FactorGraph.CFactorGraph_GetDecode(self)\n"
     ]
    },
    {
     "name": "stderr",
     "output_type": "stream",
     "text": [
      "FactorBP/FactorGraph.py:399: DeprecationWarning: PyArray_FromDims: use PyArray_SimpleNew.\n  def GetDecode(self): return _FactorGraph.CFactorGraph_GetDecode(self)\nFactorBP/FactorGraph.py:399: DeprecationWarning: PyArray_FromDimsAndDataAndDescr: use PyArray_NewFromDescr.\n  def GetDecode(self): return _FactorGraph.CFactorGraph_GetDecode(self)\n"
     ]
    },
    {
     "name": "stderr",
     "output_type": "stream",
     "text": [
      "FactorBP/FactorGraph.py:399: DeprecationWarning: PyArray_FromDims: use PyArray_SimpleNew.\n  def GetDecode(self): return _FactorGraph.CFactorGraph_GetDecode(self)\nFactorBP/FactorGraph.py:399: DeprecationWarning: PyArray_FromDimsAndDataAndDescr: use PyArray_NewFromDescr.\n  def GetDecode(self): return _FactorGraph.CFactorGraph_GetDecode(self)\n"
     ]
    },
    {
     "name": "stderr",
     "output_type": "stream",
     "text": [
      "FactorBP/FactorGraph.py:399: DeprecationWarning: PyArray_FromDims: use PyArray_SimpleNew.\n  def GetDecode(self): return _FactorGraph.CFactorGraph_GetDecode(self)\nFactorBP/FactorGraph.py:399: DeprecationWarning: PyArray_FromDimsAndDataAndDescr: use PyArray_NewFromDescr.\n  def GetDecode(self): return _FactorGraph.CFactorGraph_GetDecode(self)\n"
     ]
    },
    {
     "name": "stderr",
     "output_type": "stream",
     "text": [
      "FactorBP/FactorGraph.py:399: DeprecationWarning: PyArray_FromDims: use PyArray_SimpleNew.\n  def GetDecode(self): return _FactorGraph.CFactorGraph_GetDecode(self)\nFactorBP/FactorGraph.py:399: DeprecationWarning: PyArray_FromDimsAndDataAndDescr: use PyArray_NewFromDescr.\n  def GetDecode(self): return _FactorGraph.CFactorGraph_GetDecode(self)\n"
     ]
    },
    {
     "name": "stderr",
     "output_type": "stream",
     "text": [
      "FactorBP/FactorGraph.py:399: DeprecationWarning: PyArray_FromDims: use PyArray_SimpleNew.\n  def GetDecode(self): return _FactorGraph.CFactorGraph_GetDecode(self)\nFactorBP/FactorGraph.py:399: DeprecationWarning: PyArray_FromDimsAndDataAndDescr: use PyArray_NewFromDescr.\n  def GetDecode(self): return _FactorGraph.CFactorGraph_GetDecode(self)\n"
     ]
    },
    {
     "name": "stderr",
     "output_type": "stream",
     "text": [
      "FactorBP/FactorGraph.py:399: DeprecationWarning: PyArray_FromDims: use PyArray_SimpleNew.\n  def GetDecode(self): return _FactorGraph.CFactorGraph_GetDecode(self)\nFactorBP/FactorGraph.py:399: DeprecationWarning: PyArray_FromDimsAndDataAndDescr: use PyArray_NewFromDescr.\n  def GetDecode(self): return _FactorGraph.CFactorGraph_GetDecode(self)\n"
     ]
    },
    {
     "name": "stderr",
     "output_type": "stream",
     "text": [
      "FactorBP/FactorGraph.py:399: DeprecationWarning: PyArray_FromDims: use PyArray_SimpleNew.\n  def GetDecode(self): return _FactorGraph.CFactorGraph_GetDecode(self)\nFactorBP/FactorGraph.py:399: DeprecationWarning: PyArray_FromDimsAndDataAndDescr: use PyArray_NewFromDescr.\n  def GetDecode(self): return _FactorGraph.CFactorGraph_GetDecode(self)\n"
     ]
    },
    {
     "name": "stderr",
     "output_type": "stream",
     "text": [
      "FactorBP/FactorGraph.py:399: DeprecationWarning: PyArray_FromDims: use PyArray_SimpleNew.\n  def GetDecode(self): return _FactorGraph.CFactorGraph_GetDecode(self)\nFactorBP/FactorGraph.py:399: DeprecationWarning: PyArray_FromDimsAndDataAndDescr: use PyArray_NewFromDescr.\n  def GetDecode(self): return _FactorGraph.CFactorGraph_GetDecode(self)\n"
     ]
    },
    {
     "name": "stderr",
     "output_type": "stream",
     "text": [
      "FactorBP/FactorGraph.py:399: DeprecationWarning: PyArray_FromDims: use PyArray_SimpleNew.\n  def GetDecode(self): return _FactorGraph.CFactorGraph_GetDecode(self)\nFactorBP/FactorGraph.py:399: DeprecationWarning: PyArray_FromDimsAndDataAndDescr: use PyArray_NewFromDescr.\n  def GetDecode(self): return _FactorGraph.CFactorGraph_GetDecode(self)\n"
     ]
    },
    {
     "name": "stderr",
     "output_type": "stream",
     "text": [
      "FactorBP/FactorGraph.py:399: DeprecationWarning: PyArray_FromDims: use PyArray_SimpleNew.\n  def GetDecode(self): return _FactorGraph.CFactorGraph_GetDecode(self)\nFactorBP/FactorGraph.py:399: DeprecationWarning: PyArray_FromDimsAndDataAndDescr: use PyArray_NewFromDescr.\n  def GetDecode(self): return _FactorGraph.CFactorGraph_GetDecode(self)\n"
     ]
    },
    {
     "name": "stderr",
     "output_type": "stream",
     "text": [
      "FactorBP/FactorGraph.py:399: DeprecationWarning: PyArray_FromDims: use PyArray_SimpleNew.\n  def GetDecode(self): return _FactorGraph.CFactorGraph_GetDecode(self)\nFactorBP/FactorGraph.py:399: DeprecationWarning: PyArray_FromDimsAndDataAndDescr: use PyArray_NewFromDescr.\n  def GetDecode(self): return _FactorGraph.CFactorGraph_GetDecode(self)\n"
     ]
    },
    {
     "name": "stderr",
     "output_type": "stream",
     "text": [
      "FactorBP/FactorGraph.py:399: DeprecationWarning: PyArray_FromDims: use PyArray_SimpleNew.\n  def GetDecode(self): return _FactorGraph.CFactorGraph_GetDecode(self)\nFactorBP/FactorGraph.py:399: DeprecationWarning: PyArray_FromDimsAndDataAndDescr: use PyArray_NewFromDescr.\n  def GetDecode(self): return _FactorGraph.CFactorGraph_GetDecode(self)\n"
     ]
    },
    {
     "name": "stderr",
     "output_type": "stream",
     "text": [
      "FactorBP/FactorGraph.py:399: DeprecationWarning: PyArray_FromDims: use PyArray_SimpleNew.\n  def GetDecode(self): return _FactorGraph.CFactorGraph_GetDecode(self)\nFactorBP/FactorGraph.py:399: DeprecationWarning: PyArray_FromDimsAndDataAndDescr: use PyArray_NewFromDescr.\n  def GetDecode(self): return _FactorGraph.CFactorGraph_GetDecode(self)\n"
     ]
    },
    {
     "name": "stderr",
     "output_type": "stream",
     "text": [
      "FactorBP/FactorGraph.py:399: DeprecationWarning: PyArray_FromDims: use PyArray_SimpleNew.\n  def GetDecode(self): return _FactorGraph.CFactorGraph_GetDecode(self)\nFactorBP/FactorGraph.py:399: DeprecationWarning: PyArray_FromDimsAndDataAndDescr: use PyArray_NewFromDescr.\n  def GetDecode(self): return _FactorGraph.CFactorGraph_GetDecode(self)\n"
     ]
    },
    {
     "name": "stderr",
     "output_type": "stream",
     "text": [
      "FactorBP/FactorGraph.py:399: DeprecationWarning: PyArray_FromDims: use PyArray_SimpleNew.\n  def GetDecode(self): return _FactorGraph.CFactorGraph_GetDecode(self)\nFactorBP/FactorGraph.py:399: DeprecationWarning: PyArray_FromDimsAndDataAndDescr: use PyArray_NewFromDescr.\n  def GetDecode(self): return _FactorGraph.CFactorGraph_GetDecode(self)\n"
     ]
    },
    {
     "name": "stderr",
     "output_type": "stream",
     "text": [
      "FactorBP/FactorGraph.py:399: DeprecationWarning: PyArray_FromDims: use PyArray_SimpleNew.\n  def GetDecode(self): return _FactorGraph.CFactorGraph_GetDecode(self)\nFactorBP/FactorGraph.py:399: DeprecationWarning: PyArray_FromDimsAndDataAndDescr: use PyArray_NewFromDescr.\n  def GetDecode(self): return _FactorGraph.CFactorGraph_GetDecode(self)\n"
     ]
    },
    {
     "name": "stderr",
     "output_type": "stream",
     "text": [
      "FactorBP/FactorGraph.py:399: DeprecationWarning: PyArray_FromDims: use PyArray_SimpleNew.\n  def GetDecode(self): return _FactorGraph.CFactorGraph_GetDecode(self)\nFactorBP/FactorGraph.py:399: DeprecationWarning: PyArray_FromDimsAndDataAndDescr: use PyArray_NewFromDescr.\n  def GetDecode(self): return _FactorGraph.CFactorGraph_GetDecode(self)\n"
     ]
    },
    {
     "name": "stderr",
     "output_type": "stream",
     "text": [
      "FactorBP/FactorGraph.py:399: DeprecationWarning: PyArray_FromDims: use PyArray_SimpleNew.\n  def GetDecode(self): return _FactorGraph.CFactorGraph_GetDecode(self)\nFactorBP/FactorGraph.py:399: DeprecationWarning: PyArray_FromDimsAndDataAndDescr: use PyArray_NewFromDescr.\n  def GetDecode(self): return _FactorGraph.CFactorGraph_GetDecode(self)\n"
     ]
    },
    {
     "name": "stderr",
     "output_type": "stream",
     "text": [
      "FactorBP/FactorGraph.py:399: DeprecationWarning: PyArray_FromDims: use PyArray_SimpleNew.\n  def GetDecode(self): return _FactorGraph.CFactorGraph_GetDecode(self)\nFactorBP/FactorGraph.py:399: DeprecationWarning: PyArray_FromDimsAndDataAndDescr: use PyArray_NewFromDescr.\n  def GetDecode(self): return _FactorGraph.CFactorGraph_GetDecode(self)\n"
     ]
    },
    {
     "name": "stderr",
     "output_type": "stream",
     "text": [
      "FactorBP/FactorGraph.py:399: DeprecationWarning: PyArray_FromDims: use PyArray_SimpleNew.\n  def GetDecode(self): return _FactorGraph.CFactorGraph_GetDecode(self)\nFactorBP/FactorGraph.py:399: DeprecationWarning: PyArray_FromDimsAndDataAndDescr: use PyArray_NewFromDescr.\n  def GetDecode(self): return _FactorGraph.CFactorGraph_GetDecode(self)\n"
     ]
    },
    {
     "name": "stderr",
     "output_type": "stream",
     "text": [
      "FactorBP/FactorGraph.py:399: DeprecationWarning: PyArray_FromDims: use PyArray_SimpleNew.\n  def GetDecode(self): return _FactorGraph.CFactorGraph_GetDecode(self)\nFactorBP/FactorGraph.py:399: DeprecationWarning: PyArray_FromDimsAndDataAndDescr: use PyArray_NewFromDescr.\n  def GetDecode(self): return _FactorGraph.CFactorGraph_GetDecode(self)\n"
     ]
    },
    {
     "name": "stderr",
     "output_type": "stream",
     "text": [
      "FactorBP/FactorGraph.py:399: DeprecationWarning: PyArray_FromDims: use PyArray_SimpleNew.\n  def GetDecode(self): return _FactorGraph.CFactorGraph_GetDecode(self)\nFactorBP/FactorGraph.py:399: DeprecationWarning: PyArray_FromDimsAndDataAndDescr: use PyArray_NewFromDescr.\n  def GetDecode(self): return _FactorGraph.CFactorGraph_GetDecode(self)\n"
     ]
    },
    {
     "name": "stderr",
     "output_type": "stream",
     "text": [
      "FactorBP/FactorGraph.py:399: DeprecationWarning: PyArray_FromDims: use PyArray_SimpleNew.\n  def GetDecode(self): return _FactorGraph.CFactorGraph_GetDecode(self)\nFactorBP/FactorGraph.py:399: DeprecationWarning: PyArray_FromDimsAndDataAndDescr: use PyArray_NewFromDescr.\n  def GetDecode(self): return _FactorGraph.CFactorGraph_GetDecode(self)\n"
     ]
    },
    {
     "name": "stderr",
     "output_type": "stream",
     "text": [
      "FactorBP/FactorGraph.py:399: DeprecationWarning: PyArray_FromDims: use PyArray_SimpleNew.\n  def GetDecode(self): return _FactorGraph.CFactorGraph_GetDecode(self)\nFactorBP/FactorGraph.py:399: DeprecationWarning: PyArray_FromDimsAndDataAndDescr: use PyArray_NewFromDescr.\n  def GetDecode(self): return _FactorGraph.CFactorGraph_GetDecode(self)\n"
     ]
    },
    {
     "name": "stderr",
     "output_type": "stream",
     "text": [
      "FactorBP/FactorGraph.py:399: DeprecationWarning: PyArray_FromDims: use PyArray_SimpleNew.\n  def GetDecode(self): return _FactorGraph.CFactorGraph_GetDecode(self)\nFactorBP/FactorGraph.py:399: DeprecationWarning: PyArray_FromDimsAndDataAndDescr: use PyArray_NewFromDescr.\n  def GetDecode(self): return _FactorGraph.CFactorGraph_GetDecode(self)\n"
     ]
    },
    {
     "name": "stderr",
     "output_type": "stream",
     "text": [
      "FactorBP/FactorGraph.py:399: DeprecationWarning: PyArray_FromDims: use PyArray_SimpleNew.\n  def GetDecode(self): return _FactorGraph.CFactorGraph_GetDecode(self)\nFactorBP/FactorGraph.py:399: DeprecationWarning: PyArray_FromDimsAndDataAndDescr: use PyArray_NewFromDescr.\n  def GetDecode(self): return _FactorGraph.CFactorGraph_GetDecode(self)\n"
     ]
    },
    {
     "name": "stderr",
     "output_type": "stream",
     "text": [
      "FactorBP/FactorGraph.py:399: DeprecationWarning: PyArray_FromDims: use PyArray_SimpleNew.\n  def GetDecode(self): return _FactorGraph.CFactorGraph_GetDecode(self)\nFactorBP/FactorGraph.py:399: DeprecationWarning: PyArray_FromDimsAndDataAndDescr: use PyArray_NewFromDescr.\n  def GetDecode(self): return _FactorGraph.CFactorGraph_GetDecode(self)\n"
     ]
    },
    {
     "name": "stderr",
     "output_type": "stream",
     "text": [
      "FactorBP/FactorGraph.py:399: DeprecationWarning: PyArray_FromDims: use PyArray_SimpleNew.\n  def GetDecode(self): return _FactorGraph.CFactorGraph_GetDecode(self)\nFactorBP/FactorGraph.py:399: DeprecationWarning: PyArray_FromDimsAndDataAndDescr: use PyArray_NewFromDescr.\n  def GetDecode(self): return _FactorGraph.CFactorGraph_GetDecode(self)\n"
     ]
    },
    {
     "name": "stderr",
     "output_type": "stream",
     "text": [
      "FactorBP/FactorGraph.py:399: DeprecationWarning: PyArray_FromDims: use PyArray_SimpleNew.\n  def GetDecode(self): return _FactorGraph.CFactorGraph_GetDecode(self)\nFactorBP/FactorGraph.py:399: DeprecationWarning: PyArray_FromDimsAndDataAndDescr: use PyArray_NewFromDescr.\n  def GetDecode(self): return _FactorGraph.CFactorGraph_GetDecode(self)\n"
     ]
    },
    {
     "name": "stderr",
     "output_type": "stream",
     "text": [
      "FactorBP/FactorGraph.py:399: DeprecationWarning: PyArray_FromDims: use PyArray_SimpleNew.\n  def GetDecode(self): return _FactorGraph.CFactorGraph_GetDecode(self)\nFactorBP/FactorGraph.py:399: DeprecationWarning: PyArray_FromDimsAndDataAndDescr: use PyArray_NewFromDescr.\n  def GetDecode(self): return _FactorGraph.CFactorGraph_GetDecode(self)\n"
     ]
    },
    {
     "name": "stderr",
     "output_type": "stream",
     "text": [
      "FactorBP/FactorGraph.py:399: DeprecationWarning: PyArray_FromDims: use PyArray_SimpleNew.\n  def GetDecode(self): return _FactorGraph.CFactorGraph_GetDecode(self)\nFactorBP/FactorGraph.py:399: DeprecationWarning: PyArray_FromDimsAndDataAndDescr: use PyArray_NewFromDescr.\n  def GetDecode(self): return _FactorGraph.CFactorGraph_GetDecode(self)\n"
     ]
    },
    {
     "name": "stderr",
     "output_type": "stream",
     "text": [
      "FactorBP/FactorGraph.py:399: DeprecationWarning: PyArray_FromDims: use PyArray_SimpleNew.\n  def GetDecode(self): return _FactorGraph.CFactorGraph_GetDecode(self)\nFactorBP/FactorGraph.py:399: DeprecationWarning: PyArray_FromDimsAndDataAndDescr: use PyArray_NewFromDescr.\n  def GetDecode(self): return _FactorGraph.CFactorGraph_GetDecode(self)\n"
     ]
    },
    {
     "name": "stderr",
     "output_type": "stream",
     "text": [
      "FactorBP/FactorGraph.py:399: DeprecationWarning: PyArray_FromDims: use PyArray_SimpleNew.\n  def GetDecode(self): return _FactorGraph.CFactorGraph_GetDecode(self)\nFactorBP/FactorGraph.py:399: DeprecationWarning: PyArray_FromDimsAndDataAndDescr: use PyArray_NewFromDescr.\n  def GetDecode(self): return _FactorGraph.CFactorGraph_GetDecode(self)\n"
     ]
    },
    {
     "name": "stderr",
     "output_type": "stream",
     "text": [
      "FactorBP/FactorGraph.py:399: DeprecationWarning: PyArray_FromDims: use PyArray_SimpleNew.\n  def GetDecode(self): return _FactorGraph.CFactorGraph_GetDecode(self)\nFactorBP/FactorGraph.py:399: DeprecationWarning: PyArray_FromDimsAndDataAndDescr: use PyArray_NewFromDescr.\n  def GetDecode(self): return _FactorGraph.CFactorGraph_GetDecode(self)\n"
     ]
    },
    {
     "name": "stderr",
     "output_type": "stream",
     "text": [
      "FactorBP/FactorGraph.py:399: DeprecationWarning: PyArray_FromDims: use PyArray_SimpleNew.\n  def GetDecode(self): return _FactorGraph.CFactorGraph_GetDecode(self)\nFactorBP/FactorGraph.py:399: DeprecationWarning: PyArray_FromDimsAndDataAndDescr: use PyArray_NewFromDescr.\n  def GetDecode(self): return _FactorGraph.CFactorGraph_GetDecode(self)\n"
     ]
    },
    {
     "name": "stderr",
     "output_type": "stream",
     "text": [
      "FactorBP/FactorGraph.py:399: DeprecationWarning: PyArray_FromDims: use PyArray_SimpleNew.\n  def GetDecode(self): return _FactorGraph.CFactorGraph_GetDecode(self)\nFactorBP/FactorGraph.py:399: DeprecationWarning: PyArray_FromDimsAndDataAndDescr: use PyArray_NewFromDescr.\n  def GetDecode(self): return _FactorGraph.CFactorGraph_GetDecode(self)\n"
     ]
    },
    {
     "name": "stderr",
     "output_type": "stream",
     "text": [
      "FactorBP/FactorGraph.py:399: DeprecationWarning: PyArray_FromDims: use PyArray_SimpleNew.\n  def GetDecode(self): return _FactorGraph.CFactorGraph_GetDecode(self)\nFactorBP/FactorGraph.py:399: DeprecationWarning: PyArray_FromDimsAndDataAndDescr: use PyArray_NewFromDescr.\n  def GetDecode(self): return _FactorGraph.CFactorGraph_GetDecode(self)\n"
     ]
    },
    {
     "name": "stderr",
     "output_type": "stream",
     "text": [
      "FactorBP/FactorGraph.py:399: DeprecationWarning: PyArray_FromDims: use PyArray_SimpleNew.\n  def GetDecode(self): return _FactorGraph.CFactorGraph_GetDecode(self)\nFactorBP/FactorGraph.py:399: DeprecationWarning: PyArray_FromDimsAndDataAndDescr: use PyArray_NewFromDescr.\n  def GetDecode(self): return _FactorGraph.CFactorGraph_GetDecode(self)\n"
     ]
    },
    {
     "name": "stderr",
     "output_type": "stream",
     "text": [
      "FactorBP/FactorGraph.py:399: DeprecationWarning: PyArray_FromDims: use PyArray_SimpleNew.\n  def GetDecode(self): return _FactorGraph.CFactorGraph_GetDecode(self)\nFactorBP/FactorGraph.py:399: DeprecationWarning: PyArray_FromDimsAndDataAndDescr: use PyArray_NewFromDescr.\n  def GetDecode(self): return _FactorGraph.CFactorGraph_GetDecode(self)\n"
     ]
    },
    {
     "name": "stderr",
     "output_type": "stream",
     "text": [
      "FactorBP/FactorGraph.py:399: DeprecationWarning: PyArray_FromDims: use PyArray_SimpleNew.\n  def GetDecode(self): return _FactorGraph.CFactorGraph_GetDecode(self)\nFactorBP/FactorGraph.py:399: DeprecationWarning: PyArray_FromDimsAndDataAndDescr: use PyArray_NewFromDescr.\n  def GetDecode(self): return _FactorGraph.CFactorGraph_GetDecode(self)\n"
     ]
    },
    {
     "name": "stderr",
     "output_type": "stream",
     "text": [
      "FactorBP/FactorGraph.py:399: DeprecationWarning: PyArray_FromDims: use PyArray_SimpleNew.\n  def GetDecode(self): return _FactorGraph.CFactorGraph_GetDecode(self)\nFactorBP/FactorGraph.py:399: DeprecationWarning: PyArray_FromDimsAndDataAndDescr: use PyArray_NewFromDescr.\n  def GetDecode(self): return _FactorGraph.CFactorGraph_GetDecode(self)\n"
     ]
    },
    {
     "name": "stderr",
     "output_type": "stream",
     "text": [
      "FactorBP/FactorGraph.py:399: DeprecationWarning: PyArray_FromDims: use PyArray_SimpleNew.\n  def GetDecode(self): return _FactorGraph.CFactorGraph_GetDecode(self)\nFactorBP/FactorGraph.py:399: DeprecationWarning: PyArray_FromDimsAndDataAndDescr: use PyArray_NewFromDescr.\n  def GetDecode(self): return _FactorGraph.CFactorGraph_GetDecode(self)\n"
     ]
    },
    {
     "name": "stderr",
     "output_type": "stream",
     "text": [
      "FactorBP/FactorGraph.py:399: DeprecationWarning: PyArray_FromDims: use PyArray_SimpleNew.\n  def GetDecode(self): return _FactorGraph.CFactorGraph_GetDecode(self)\nFactorBP/FactorGraph.py:399: DeprecationWarning: PyArray_FromDimsAndDataAndDescr: use PyArray_NewFromDescr.\n  def GetDecode(self): return _FactorGraph.CFactorGraph_GetDecode(self)\n"
     ]
    },
    {
     "name": "stderr",
     "output_type": "stream",
     "text": [
      "FactorBP/FactorGraph.py:399: DeprecationWarning: PyArray_FromDims: use PyArray_SimpleNew.\n  def GetDecode(self): return _FactorGraph.CFactorGraph_GetDecode(self)\nFactorBP/FactorGraph.py:399: DeprecationWarning: PyArray_FromDimsAndDataAndDescr: use PyArray_NewFromDescr.\n  def GetDecode(self): return _FactorGraph.CFactorGraph_GetDecode(self)\n"
     ]
    },
    {
     "name": "stderr",
     "output_type": "stream",
     "text": [
      "FactorBP/FactorGraph.py:399: DeprecationWarning: PyArray_FromDims: use PyArray_SimpleNew.\n  def GetDecode(self): return _FactorGraph.CFactorGraph_GetDecode(self)\nFactorBP/FactorGraph.py:399: DeprecationWarning: PyArray_FromDimsAndDataAndDescr: use PyArray_NewFromDescr.\n  def GetDecode(self): return _FactorGraph.CFactorGraph_GetDecode(self)\n"
     ]
    },
    {
     "name": "stderr",
     "output_type": "stream",
     "text": [
      "FactorBP/FactorGraph.py:399: DeprecationWarning: PyArray_FromDims: use PyArray_SimpleNew.\n  def GetDecode(self): return _FactorGraph.CFactorGraph_GetDecode(self)\nFactorBP/FactorGraph.py:399: DeprecationWarning: PyArray_FromDimsAndDataAndDescr: use PyArray_NewFromDescr.\n  def GetDecode(self): return _FactorGraph.CFactorGraph_GetDecode(self)\n"
     ]
    },
    {
     "name": "stdout",
     "output_type": "stream",
     "text": [
      "IPFP Accuracy 0.884774 Running Time 0.008250 Obj 0.915657\nOurs-PW Accuracy 1.000000 Running Time 0.023811 Obj 1.000000\nFGM Accuracy 0.957202 Running Time 0.028569 Obj 0.965770\nRRWM Accuracy 0.999177 Running Time 0.020627 Obj 0.999775\nSM Accuracy 0.957202 Running Time 0.028500 Obj 0.965770\n××××××××××××××××××××\n Start baseline: 40\n"
     ]
    },
    {
     "name": "stderr",
     "output_type": "stream",
     "text": [
      "FactorBP/FactorGraph.py:399: DeprecationWarning: PyArray_FromDims: use PyArray_SimpleNew.\n  def GetDecode(self): return _FactorGraph.CFactorGraph_GetDecode(self)\nFactorBP/FactorGraph.py:399: DeprecationWarning: PyArray_FromDimsAndDataAndDescr: use PyArray_NewFromDescr.\n  def GetDecode(self): return _FactorGraph.CFactorGraph_GetDecode(self)\n"
     ]
    },
    {
     "name": "stderr",
     "output_type": "stream",
     "text": [
      "FactorBP/FactorGraph.py:399: DeprecationWarning: PyArray_FromDims: use PyArray_SimpleNew.\n  def GetDecode(self): return _FactorGraph.CFactorGraph_GetDecode(self)\nFactorBP/FactorGraph.py:399: DeprecationWarning: PyArray_FromDimsAndDataAndDescr: use PyArray_NewFromDescr.\n  def GetDecode(self): return _FactorGraph.CFactorGraph_GetDecode(self)\n"
     ]
    },
    {
     "name": "stderr",
     "output_type": "stream",
     "text": [
      "FactorBP/FactorGraph.py:399: DeprecationWarning: PyArray_FromDims: use PyArray_SimpleNew.\n  def GetDecode(self): return _FactorGraph.CFactorGraph_GetDecode(self)\nFactorBP/FactorGraph.py:399: DeprecationWarning: PyArray_FromDimsAndDataAndDescr: use PyArray_NewFromDescr.\n  def GetDecode(self): return _FactorGraph.CFactorGraph_GetDecode(self)\n"
     ]
    },
    {
     "name": "stderr",
     "output_type": "stream",
     "text": [
      "FactorBP/FactorGraph.py:399: DeprecationWarning: PyArray_FromDims: use PyArray_SimpleNew.\n  def GetDecode(self): return _FactorGraph.CFactorGraph_GetDecode(self)\nFactorBP/FactorGraph.py:399: DeprecationWarning: PyArray_FromDimsAndDataAndDescr: use PyArray_NewFromDescr.\n  def GetDecode(self): return _FactorGraph.CFactorGraph_GetDecode(self)\n"
     ]
    },
    {
     "name": "stderr",
     "output_type": "stream",
     "text": [
      "FactorBP/FactorGraph.py:399: DeprecationWarning: PyArray_FromDims: use PyArray_SimpleNew.\n  def GetDecode(self): return _FactorGraph.CFactorGraph_GetDecode(self)\nFactorBP/FactorGraph.py:399: DeprecationWarning: PyArray_FromDimsAndDataAndDescr: use PyArray_NewFromDescr.\n  def GetDecode(self): return _FactorGraph.CFactorGraph_GetDecode(self)\n"
     ]
    },
    {
     "name": "stderr",
     "output_type": "stream",
     "text": [
      "FactorBP/FactorGraph.py:399: DeprecationWarning: PyArray_FromDims: use PyArray_SimpleNew.\n  def GetDecode(self): return _FactorGraph.CFactorGraph_GetDecode(self)\nFactorBP/FactorGraph.py:399: DeprecationWarning: PyArray_FromDimsAndDataAndDescr: use PyArray_NewFromDescr.\n  def GetDecode(self): return _FactorGraph.CFactorGraph_GetDecode(self)\n"
     ]
    },
    {
     "name": "stderr",
     "output_type": "stream",
     "text": [
      "FactorBP/FactorGraph.py:399: DeprecationWarning: PyArray_FromDims: use PyArray_SimpleNew.\n  def GetDecode(self): return _FactorGraph.CFactorGraph_GetDecode(self)\nFactorBP/FactorGraph.py:399: DeprecationWarning: PyArray_FromDimsAndDataAndDescr: use PyArray_NewFromDescr.\n  def GetDecode(self): return _FactorGraph.CFactorGraph_GetDecode(self)\n"
     ]
    },
    {
     "name": "stderr",
     "output_type": "stream",
     "text": [
      "FactorBP/FactorGraph.py:399: DeprecationWarning: PyArray_FromDims: use PyArray_SimpleNew.\n  def GetDecode(self): return _FactorGraph.CFactorGraph_GetDecode(self)\nFactorBP/FactorGraph.py:399: DeprecationWarning: PyArray_FromDimsAndDataAndDescr: use PyArray_NewFromDescr.\n  def GetDecode(self): return _FactorGraph.CFactorGraph_GetDecode(self)\n"
     ]
    },
    {
     "name": "stderr",
     "output_type": "stream",
     "text": [
      "FactorBP/FactorGraph.py:399: DeprecationWarning: PyArray_FromDims: use PyArray_SimpleNew.\n  def GetDecode(self): return _FactorGraph.CFactorGraph_GetDecode(self)\nFactorBP/FactorGraph.py:399: DeprecationWarning: PyArray_FromDimsAndDataAndDescr: use PyArray_NewFromDescr.\n  def GetDecode(self): return _FactorGraph.CFactorGraph_GetDecode(self)\n"
     ]
    },
    {
     "name": "stderr",
     "output_type": "stream",
     "text": [
      "FactorBP/FactorGraph.py:399: DeprecationWarning: PyArray_FromDims: use PyArray_SimpleNew.\n  def GetDecode(self): return _FactorGraph.CFactorGraph_GetDecode(self)\nFactorBP/FactorGraph.py:399: DeprecationWarning: PyArray_FromDimsAndDataAndDescr: use PyArray_NewFromDescr.\n  def GetDecode(self): return _FactorGraph.CFactorGraph_GetDecode(self)\n"
     ]
    },
    {
     "name": "stderr",
     "output_type": "stream",
     "text": [
      "FactorBP/FactorGraph.py:399: DeprecationWarning: PyArray_FromDims: use PyArray_SimpleNew.\n  def GetDecode(self): return _FactorGraph.CFactorGraph_GetDecode(self)\nFactorBP/FactorGraph.py:399: DeprecationWarning: PyArray_FromDimsAndDataAndDescr: use PyArray_NewFromDescr.\n  def GetDecode(self): return _FactorGraph.CFactorGraph_GetDecode(self)\n"
     ]
    },
    {
     "name": "stderr",
     "output_type": "stream",
     "text": [
      "FactorBP/FactorGraph.py:399: DeprecationWarning: PyArray_FromDims: use PyArray_SimpleNew.\n  def GetDecode(self): return _FactorGraph.CFactorGraph_GetDecode(self)\nFactorBP/FactorGraph.py:399: DeprecationWarning: PyArray_FromDimsAndDataAndDescr: use PyArray_NewFromDescr.\n  def GetDecode(self): return _FactorGraph.CFactorGraph_GetDecode(self)\n"
     ]
    },
    {
     "name": "stderr",
     "output_type": "stream",
     "text": [
      "FactorBP/FactorGraph.py:399: DeprecationWarning: PyArray_FromDims: use PyArray_SimpleNew.\n  def GetDecode(self): return _FactorGraph.CFactorGraph_GetDecode(self)\nFactorBP/FactorGraph.py:399: DeprecationWarning: PyArray_FromDimsAndDataAndDescr: use PyArray_NewFromDescr.\n  def GetDecode(self): return _FactorGraph.CFactorGraph_GetDecode(self)\n"
     ]
    },
    {
     "name": "stderr",
     "output_type": "stream",
     "text": [
      "FactorBP/FactorGraph.py:399: DeprecationWarning: PyArray_FromDims: use PyArray_SimpleNew.\n  def GetDecode(self): return _FactorGraph.CFactorGraph_GetDecode(self)\nFactorBP/FactorGraph.py:399: DeprecationWarning: PyArray_FromDimsAndDataAndDescr: use PyArray_NewFromDescr.\n  def GetDecode(self): return _FactorGraph.CFactorGraph_GetDecode(self)\n"
     ]
    },
    {
     "name": "stderr",
     "output_type": "stream",
     "text": [
      "FactorBP/FactorGraph.py:399: DeprecationWarning: PyArray_FromDims: use PyArray_SimpleNew.\n  def GetDecode(self): return _FactorGraph.CFactorGraph_GetDecode(self)\nFactorBP/FactorGraph.py:399: DeprecationWarning: PyArray_FromDimsAndDataAndDescr: use PyArray_NewFromDescr.\n  def GetDecode(self): return _FactorGraph.CFactorGraph_GetDecode(self)\n"
     ]
    },
    {
     "name": "stderr",
     "output_type": "stream",
     "text": [
      "FactorBP/FactorGraph.py:399: DeprecationWarning: PyArray_FromDims: use PyArray_SimpleNew.\n  def GetDecode(self): return _FactorGraph.CFactorGraph_GetDecode(self)\nFactorBP/FactorGraph.py:399: DeprecationWarning: PyArray_FromDimsAndDataAndDescr: use PyArray_NewFromDescr.\n  def GetDecode(self): return _FactorGraph.CFactorGraph_GetDecode(self)\n"
     ]
    },
    {
     "name": "stderr",
     "output_type": "stream",
     "text": [
      "FactorBP/FactorGraph.py:399: DeprecationWarning: PyArray_FromDims: use PyArray_SimpleNew.\n  def GetDecode(self): return _FactorGraph.CFactorGraph_GetDecode(self)\nFactorBP/FactorGraph.py:399: DeprecationWarning: PyArray_FromDimsAndDataAndDescr: use PyArray_NewFromDescr.\n  def GetDecode(self): return _FactorGraph.CFactorGraph_GetDecode(self)\n"
     ]
    },
    {
     "name": "stderr",
     "output_type": "stream",
     "text": [
      "FactorBP/FactorGraph.py:399: DeprecationWarning: PyArray_FromDims: use PyArray_SimpleNew.\n  def GetDecode(self): return _FactorGraph.CFactorGraph_GetDecode(self)\nFactorBP/FactorGraph.py:399: DeprecationWarning: PyArray_FromDimsAndDataAndDescr: use PyArray_NewFromDescr.\n  def GetDecode(self): return _FactorGraph.CFactorGraph_GetDecode(self)\n"
     ]
    },
    {
     "name": "stderr",
     "output_type": "stream",
     "text": [
      "FactorBP/FactorGraph.py:399: DeprecationWarning: PyArray_FromDims: use PyArray_SimpleNew.\n  def GetDecode(self): return _FactorGraph.CFactorGraph_GetDecode(self)\nFactorBP/FactorGraph.py:399: DeprecationWarning: PyArray_FromDimsAndDataAndDescr: use PyArray_NewFromDescr.\n  def GetDecode(self): return _FactorGraph.CFactorGraph_GetDecode(self)\nFactorBP/FactorGraph.py:399: DeprecationWarning: PyArray_FromDims: use PyArray_SimpleNew.\n  def GetDecode(self): return _FactorGraph.CFactorGraph_GetDecode(self)\nFactorBP/FactorGraph.py:399: DeprecationWarning: PyArray_FromDimsAndDataAndDescr: use PyArray_NewFromDescr.\n  def GetDecode(self): return _FactorGraph.CFactorGraph_GetDecode(self)\n"
     ]
    },
    {
     "name": "stderr",
     "output_type": "stream",
     "text": [
      "FactorBP/FactorGraph.py:399: DeprecationWarning: PyArray_FromDims: use PyArray_SimpleNew.\n  def GetDecode(self): return _FactorGraph.CFactorGraph_GetDecode(self)\nFactorBP/FactorGraph.py:399: DeprecationWarning: PyArray_FromDimsAndDataAndDescr: use PyArray_NewFromDescr.\n  def GetDecode(self): return _FactorGraph.CFactorGraph_GetDecode(self)\n"
     ]
    },
    {
     "name": "stderr",
     "output_type": "stream",
     "text": [
      "FactorBP/FactorGraph.py:399: DeprecationWarning: PyArray_FromDims: use PyArray_SimpleNew.\n  def GetDecode(self): return _FactorGraph.CFactorGraph_GetDecode(self)\nFactorBP/FactorGraph.py:399: DeprecationWarning: PyArray_FromDimsAndDataAndDescr: use PyArray_NewFromDescr.\n  def GetDecode(self): return _FactorGraph.CFactorGraph_GetDecode(self)\n"
     ]
    },
    {
     "name": "stderr",
     "output_type": "stream",
     "text": [
      "FactorBP/FactorGraph.py:399: DeprecationWarning: PyArray_FromDims: use PyArray_SimpleNew.\n  def GetDecode(self): return _FactorGraph.CFactorGraph_GetDecode(self)\nFactorBP/FactorGraph.py:399: DeprecationWarning: PyArray_FromDimsAndDataAndDescr: use PyArray_NewFromDescr.\n  def GetDecode(self): return _FactorGraph.CFactorGraph_GetDecode(self)\n"
     ]
    },
    {
     "name": "stderr",
     "output_type": "stream",
     "text": [
      "FactorBP/FactorGraph.py:399: DeprecationWarning: PyArray_FromDims: use PyArray_SimpleNew.\n  def GetDecode(self): return _FactorGraph.CFactorGraph_GetDecode(self)\nFactorBP/FactorGraph.py:399: DeprecationWarning: PyArray_FromDimsAndDataAndDescr: use PyArray_NewFromDescr.\n  def GetDecode(self): return _FactorGraph.CFactorGraph_GetDecode(self)\n"
     ]
    },
    {
     "name": "stderr",
     "output_type": "stream",
     "text": [
      "FactorBP/FactorGraph.py:399: DeprecationWarning: PyArray_FromDims: use PyArray_SimpleNew.\n  def GetDecode(self): return _FactorGraph.CFactorGraph_GetDecode(self)\nFactorBP/FactorGraph.py:399: DeprecationWarning: PyArray_FromDimsAndDataAndDescr: use PyArray_NewFromDescr.\n  def GetDecode(self): return _FactorGraph.CFactorGraph_GetDecode(self)\n"
     ]
    },
    {
     "name": "stderr",
     "output_type": "stream",
     "text": [
      "FactorBP/FactorGraph.py:399: DeprecationWarning: PyArray_FromDims: use PyArray_SimpleNew.\n  def GetDecode(self): return _FactorGraph.CFactorGraph_GetDecode(self)\nFactorBP/FactorGraph.py:399: DeprecationWarning: PyArray_FromDimsAndDataAndDescr: use PyArray_NewFromDescr.\n  def GetDecode(self): return _FactorGraph.CFactorGraph_GetDecode(self)\n"
     ]
    },
    {
     "name": "stderr",
     "output_type": "stream",
     "text": [
      "FactorBP/FactorGraph.py:399: DeprecationWarning: PyArray_FromDims: use PyArray_SimpleNew.\n  def GetDecode(self): return _FactorGraph.CFactorGraph_GetDecode(self)\nFactorBP/FactorGraph.py:399: DeprecationWarning: PyArray_FromDimsAndDataAndDescr: use PyArray_NewFromDescr.\n  def GetDecode(self): return _FactorGraph.CFactorGraph_GetDecode(self)\n"
     ]
    },
    {
     "name": "stderr",
     "output_type": "stream",
     "text": [
      "FactorBP/FactorGraph.py:399: DeprecationWarning: PyArray_FromDims: use PyArray_SimpleNew.\n  def GetDecode(self): return _FactorGraph.CFactorGraph_GetDecode(self)\nFactorBP/FactorGraph.py:399: DeprecationWarning: PyArray_FromDimsAndDataAndDescr: use PyArray_NewFromDescr.\n  def GetDecode(self): return _FactorGraph.CFactorGraph_GetDecode(self)\n"
     ]
    },
    {
     "name": "stderr",
     "output_type": "stream",
     "text": [
      "FactorBP/FactorGraph.py:399: DeprecationWarning: PyArray_FromDims: use PyArray_SimpleNew.\n  def GetDecode(self): return _FactorGraph.CFactorGraph_GetDecode(self)\nFactorBP/FactorGraph.py:399: DeprecationWarning: PyArray_FromDimsAndDataAndDescr: use PyArray_NewFromDescr.\n  def GetDecode(self): return _FactorGraph.CFactorGraph_GetDecode(self)\n"
     ]
    },
    {
     "name": "stderr",
     "output_type": "stream",
     "text": [
      "FactorBP/FactorGraph.py:399: DeprecationWarning: PyArray_FromDims: use PyArray_SimpleNew.\n  def GetDecode(self): return _FactorGraph.CFactorGraph_GetDecode(self)\nFactorBP/FactorGraph.py:399: DeprecationWarning: PyArray_FromDimsAndDataAndDescr: use PyArray_NewFromDescr.\n  def GetDecode(self): return _FactorGraph.CFactorGraph_GetDecode(self)\n"
     ]
    },
    {
     "name": "stderr",
     "output_type": "stream",
     "text": [
      "FactorBP/FactorGraph.py:399: DeprecationWarning: PyArray_FromDims: use PyArray_SimpleNew.\n  def GetDecode(self): return _FactorGraph.CFactorGraph_GetDecode(self)\nFactorBP/FactorGraph.py:399: DeprecationWarning: PyArray_FromDimsAndDataAndDescr: use PyArray_NewFromDescr.\n  def GetDecode(self): return _FactorGraph.CFactorGraph_GetDecode(self)\n"
     ]
    },
    {
     "name": "stderr",
     "output_type": "stream",
     "text": [
      "FactorBP/FactorGraph.py:399: DeprecationWarning: PyArray_FromDims: use PyArray_SimpleNew.\n  def GetDecode(self): return _FactorGraph.CFactorGraph_GetDecode(self)\nFactorBP/FactorGraph.py:399: DeprecationWarning: PyArray_FromDimsAndDataAndDescr: use PyArray_NewFromDescr.\n  def GetDecode(self): return _FactorGraph.CFactorGraph_GetDecode(self)\n"
     ]
    },
    {
     "name": "stderr",
     "output_type": "stream",
     "text": [
      "FactorBP/FactorGraph.py:399: DeprecationWarning: PyArray_FromDims: use PyArray_SimpleNew.\n  def GetDecode(self): return _FactorGraph.CFactorGraph_GetDecode(self)\nFactorBP/FactorGraph.py:399: DeprecationWarning: PyArray_FromDimsAndDataAndDescr: use PyArray_NewFromDescr.\n  def GetDecode(self): return _FactorGraph.CFactorGraph_GetDecode(self)\n"
     ]
    },
    {
     "name": "stderr",
     "output_type": "stream",
     "text": [
      "FactorBP/FactorGraph.py:399: DeprecationWarning: PyArray_FromDims: use PyArray_SimpleNew.\n  def GetDecode(self): return _FactorGraph.CFactorGraph_GetDecode(self)\nFactorBP/FactorGraph.py:399: DeprecationWarning: PyArray_FromDimsAndDataAndDescr: use PyArray_NewFromDescr.\n  def GetDecode(self): return _FactorGraph.CFactorGraph_GetDecode(self)\n"
     ]
    },
    {
     "name": "stderr",
     "output_type": "stream",
     "text": [
      "FactorBP/FactorGraph.py:399: DeprecationWarning: PyArray_FromDims: use PyArray_SimpleNew.\n  def GetDecode(self): return _FactorGraph.CFactorGraph_GetDecode(self)\nFactorBP/FactorGraph.py:399: DeprecationWarning: PyArray_FromDimsAndDataAndDescr: use PyArray_NewFromDescr.\n  def GetDecode(self): return _FactorGraph.CFactorGraph_GetDecode(self)\n"
     ]
    },
    {
     "name": "stderr",
     "output_type": "stream",
     "text": [
      "FactorBP/FactorGraph.py:399: DeprecationWarning: PyArray_FromDims: use PyArray_SimpleNew.\n  def GetDecode(self): return _FactorGraph.CFactorGraph_GetDecode(self)\nFactorBP/FactorGraph.py:399: DeprecationWarning: PyArray_FromDimsAndDataAndDescr: use PyArray_NewFromDescr.\n  def GetDecode(self): return _FactorGraph.CFactorGraph_GetDecode(self)\n"
     ]
    },
    {
     "name": "stderr",
     "output_type": "stream",
     "text": [
      "FactorBP/FactorGraph.py:399: DeprecationWarning: PyArray_FromDims: use PyArray_SimpleNew.\n  def GetDecode(self): return _FactorGraph.CFactorGraph_GetDecode(self)\nFactorBP/FactorGraph.py:399: DeprecationWarning: PyArray_FromDimsAndDataAndDescr: use PyArray_NewFromDescr.\n  def GetDecode(self): return _FactorGraph.CFactorGraph_GetDecode(self)\n"
     ]
    },
    {
     "name": "stderr",
     "output_type": "stream",
     "text": [
      "FactorBP/FactorGraph.py:399: DeprecationWarning: PyArray_FromDims: use PyArray_SimpleNew.\n  def GetDecode(self): return _FactorGraph.CFactorGraph_GetDecode(self)\nFactorBP/FactorGraph.py:399: DeprecationWarning: PyArray_FromDimsAndDataAndDescr: use PyArray_NewFromDescr.\n  def GetDecode(self): return _FactorGraph.CFactorGraph_GetDecode(self)\n"
     ]
    },
    {
     "name": "stderr",
     "output_type": "stream",
     "text": [
      "FactorBP/FactorGraph.py:399: DeprecationWarning: PyArray_FromDims: use PyArray_SimpleNew.\n  def GetDecode(self): return _FactorGraph.CFactorGraph_GetDecode(self)\nFactorBP/FactorGraph.py:399: DeprecationWarning: PyArray_FromDimsAndDataAndDescr: use PyArray_NewFromDescr.\n  def GetDecode(self): return _FactorGraph.CFactorGraph_GetDecode(self)\n"
     ]
    },
    {
     "name": "stderr",
     "output_type": "stream",
     "text": [
      "FactorBP/FactorGraph.py:399: DeprecationWarning: PyArray_FromDims: use PyArray_SimpleNew.\n  def GetDecode(self): return _FactorGraph.CFactorGraph_GetDecode(self)\nFactorBP/FactorGraph.py:399: DeprecationWarning: PyArray_FromDimsAndDataAndDescr: use PyArray_NewFromDescr.\n  def GetDecode(self): return _FactorGraph.CFactorGraph_GetDecode(self)\n"
     ]
    },
    {
     "name": "stderr",
     "output_type": "stream",
     "text": [
      "FactorBP/FactorGraph.py:399: DeprecationWarning: PyArray_FromDims: use PyArray_SimpleNew.\n  def GetDecode(self): return _FactorGraph.CFactorGraph_GetDecode(self)\nFactorBP/FactorGraph.py:399: DeprecationWarning: PyArray_FromDimsAndDataAndDescr: use PyArray_NewFromDescr.\n  def GetDecode(self): return _FactorGraph.CFactorGraph_GetDecode(self)\n"
     ]
    },
    {
     "name": "stderr",
     "output_type": "stream",
     "text": [
      "FactorBP/FactorGraph.py:399: DeprecationWarning: PyArray_FromDims: use PyArray_SimpleNew.\n  def GetDecode(self): return _FactorGraph.CFactorGraph_GetDecode(self)\nFactorBP/FactorGraph.py:399: DeprecationWarning: PyArray_FromDimsAndDataAndDescr: use PyArray_NewFromDescr.\n  def GetDecode(self): return _FactorGraph.CFactorGraph_GetDecode(self)\n"
     ]
    },
    {
     "name": "stderr",
     "output_type": "stream",
     "text": [
      "FactorBP/FactorGraph.py:399: DeprecationWarning: PyArray_FromDims: use PyArray_SimpleNew.\n  def GetDecode(self): return _FactorGraph.CFactorGraph_GetDecode(self)\nFactorBP/FactorGraph.py:399: DeprecationWarning: PyArray_FromDimsAndDataAndDescr: use PyArray_NewFromDescr.\n  def GetDecode(self): return _FactorGraph.CFactorGraph_GetDecode(self)\n"
     ]
    },
    {
     "name": "stderr",
     "output_type": "stream",
     "text": [
      "FactorBP/FactorGraph.py:399: DeprecationWarning: PyArray_FromDims: use PyArray_SimpleNew.\n  def GetDecode(self): return _FactorGraph.CFactorGraph_GetDecode(self)\nFactorBP/FactorGraph.py:399: DeprecationWarning: PyArray_FromDimsAndDataAndDescr: use PyArray_NewFromDescr.\n  def GetDecode(self): return _FactorGraph.CFactorGraph_GetDecode(self)\n"
     ]
    },
    {
     "name": "stderr",
     "output_type": "stream",
     "text": [
      "FactorBP/FactorGraph.py:399: DeprecationWarning: PyArray_FromDims: use PyArray_SimpleNew.\n  def GetDecode(self): return _FactorGraph.CFactorGraph_GetDecode(self)\nFactorBP/FactorGraph.py:399: DeprecationWarning: PyArray_FromDimsAndDataAndDescr: use PyArray_NewFromDescr.\n  def GetDecode(self): return _FactorGraph.CFactorGraph_GetDecode(self)\n"
     ]
    },
    {
     "name": "stderr",
     "output_type": "stream",
     "text": [
      "FactorBP/FactorGraph.py:399: DeprecationWarning: PyArray_FromDims: use PyArray_SimpleNew.\n  def GetDecode(self): return _FactorGraph.CFactorGraph_GetDecode(self)\nFactorBP/FactorGraph.py:399: DeprecationWarning: PyArray_FromDimsAndDataAndDescr: use PyArray_NewFromDescr.\n  def GetDecode(self): return _FactorGraph.CFactorGraph_GetDecode(self)\n"
     ]
    },
    {
     "name": "stderr",
     "output_type": "stream",
     "text": [
      "FactorBP/FactorGraph.py:399: DeprecationWarning: PyArray_FromDims: use PyArray_SimpleNew.\n  def GetDecode(self): return _FactorGraph.CFactorGraph_GetDecode(self)\nFactorBP/FactorGraph.py:399: DeprecationWarning: PyArray_FromDimsAndDataAndDescr: use PyArray_NewFromDescr.\n  def GetDecode(self): return _FactorGraph.CFactorGraph_GetDecode(self)\n"
     ]
    },
    {
     "name": "stderr",
     "output_type": "stream",
     "text": [
      "FactorBP/FactorGraph.py:399: DeprecationWarning: PyArray_FromDims: use PyArray_SimpleNew.\n  def GetDecode(self): return _FactorGraph.CFactorGraph_GetDecode(self)\nFactorBP/FactorGraph.py:399: DeprecationWarning: PyArray_FromDimsAndDataAndDescr: use PyArray_NewFromDescr.\n  def GetDecode(self): return _FactorGraph.CFactorGraph_GetDecode(self)\n"
     ]
    },
    {
     "name": "stderr",
     "output_type": "stream",
     "text": [
      "FactorBP/FactorGraph.py:399: DeprecationWarning: PyArray_FromDims: use PyArray_SimpleNew.\n  def GetDecode(self): return _FactorGraph.CFactorGraph_GetDecode(self)\nFactorBP/FactorGraph.py:399: DeprecationWarning: PyArray_FromDimsAndDataAndDescr: use PyArray_NewFromDescr.\n  def GetDecode(self): return _FactorGraph.CFactorGraph_GetDecode(self)\n"
     ]
    },
    {
     "name": "stderr",
     "output_type": "stream",
     "text": [
      "FactorBP/FactorGraph.py:399: DeprecationWarning: PyArray_FromDims: use PyArray_SimpleNew.\n  def GetDecode(self): return _FactorGraph.CFactorGraph_GetDecode(self)\nFactorBP/FactorGraph.py:399: DeprecationWarning: PyArray_FromDimsAndDataAndDescr: use PyArray_NewFromDescr.\n  def GetDecode(self): return _FactorGraph.CFactorGraph_GetDecode(self)\n"
     ]
    },
    {
     "name": "stderr",
     "output_type": "stream",
     "text": [
      "FactorBP/FactorGraph.py:399: DeprecationWarning: PyArray_FromDims: use PyArray_SimpleNew.\n  def GetDecode(self): return _FactorGraph.CFactorGraph_GetDecode(self)\nFactorBP/FactorGraph.py:399: DeprecationWarning: PyArray_FromDimsAndDataAndDescr: use PyArray_NewFromDescr.\n  def GetDecode(self): return _FactorGraph.CFactorGraph_GetDecode(self)\n"
     ]
    },
    {
     "name": "stderr",
     "output_type": "stream",
     "text": [
      "FactorBP/FactorGraph.py:399: DeprecationWarning: PyArray_FromDims: use PyArray_SimpleNew.\n  def GetDecode(self): return _FactorGraph.CFactorGraph_GetDecode(self)\nFactorBP/FactorGraph.py:399: DeprecationWarning: PyArray_FromDimsAndDataAndDescr: use PyArray_NewFromDescr.\n  def GetDecode(self): return _FactorGraph.CFactorGraph_GetDecode(self)\n"
     ]
    },
    {
     "name": "stderr",
     "output_type": "stream",
     "text": [
      "FactorBP/FactorGraph.py:399: DeprecationWarning: PyArray_FromDims: use PyArray_SimpleNew.\n  def GetDecode(self): return _FactorGraph.CFactorGraph_GetDecode(self)\nFactorBP/FactorGraph.py:399: DeprecationWarning: PyArray_FromDimsAndDataAndDescr: use PyArray_NewFromDescr.\n  def GetDecode(self): return _FactorGraph.CFactorGraph_GetDecode(self)\n"
     ]
    },
    {
     "name": "stderr",
     "output_type": "stream",
     "text": [
      "FactorBP/FactorGraph.py:399: DeprecationWarning: PyArray_FromDims: use PyArray_SimpleNew.\n  def GetDecode(self): return _FactorGraph.CFactorGraph_GetDecode(self)\nFactorBP/FactorGraph.py:399: DeprecationWarning: PyArray_FromDimsAndDataAndDescr: use PyArray_NewFromDescr.\n  def GetDecode(self): return _FactorGraph.CFactorGraph_GetDecode(self)\n"
     ]
    },
    {
     "name": "stderr",
     "output_type": "stream",
     "text": [
      "FactorBP/FactorGraph.py:399: DeprecationWarning: PyArray_FromDims: use PyArray_SimpleNew.\n  def GetDecode(self): return _FactorGraph.CFactorGraph_GetDecode(self)\nFactorBP/FactorGraph.py:399: DeprecationWarning: PyArray_FromDimsAndDataAndDescr: use PyArray_NewFromDescr.\n  def GetDecode(self): return _FactorGraph.CFactorGraph_GetDecode(self)\n"
     ]
    },
    {
     "name": "stderr",
     "output_type": "stream",
     "text": [
      "FactorBP/FactorGraph.py:399: DeprecationWarning: PyArray_FromDims: use PyArray_SimpleNew.\n  def GetDecode(self): return _FactorGraph.CFactorGraph_GetDecode(self)\nFactorBP/FactorGraph.py:399: DeprecationWarning: PyArray_FromDimsAndDataAndDescr: use PyArray_NewFromDescr.\n  def GetDecode(self): return _FactorGraph.CFactorGraph_GetDecode(self)\n"
     ]
    },
    {
     "name": "stderr",
     "output_type": "stream",
     "text": [
      "FactorBP/FactorGraph.py:399: DeprecationWarning: PyArray_FromDims: use PyArray_SimpleNew.\n  def GetDecode(self): return _FactorGraph.CFactorGraph_GetDecode(self)\nFactorBP/FactorGraph.py:399: DeprecationWarning: PyArray_FromDimsAndDataAndDescr: use PyArray_NewFromDescr.\n  def GetDecode(self): return _FactorGraph.CFactorGraph_GetDecode(self)\n"
     ]
    },
    {
     "name": "stderr",
     "output_type": "stream",
     "text": [
      "FactorBP/FactorGraph.py:399: DeprecationWarning: PyArray_FromDims: use PyArray_SimpleNew.\n  def GetDecode(self): return _FactorGraph.CFactorGraph_GetDecode(self)\nFactorBP/FactorGraph.py:399: DeprecationWarning: PyArray_FromDimsAndDataAndDescr: use PyArray_NewFromDescr.\n  def GetDecode(self): return _FactorGraph.CFactorGraph_GetDecode(self)\n"
     ]
    },
    {
     "name": "stderr",
     "output_type": "stream",
     "text": [
      "FactorBP/FactorGraph.py:399: DeprecationWarning: PyArray_FromDims: use PyArray_SimpleNew.\n  def GetDecode(self): return _FactorGraph.CFactorGraph_GetDecode(self)\nFactorBP/FactorGraph.py:399: DeprecationWarning: PyArray_FromDimsAndDataAndDescr: use PyArray_NewFromDescr.\n  def GetDecode(self): return _FactorGraph.CFactorGraph_GetDecode(self)\n"
     ]
    },
    {
     "name": "stderr",
     "output_type": "stream",
     "text": [
      "FactorBP/FactorGraph.py:399: DeprecationWarning: PyArray_FromDims: use PyArray_SimpleNew.\n  def GetDecode(self): return _FactorGraph.CFactorGraph_GetDecode(self)\nFactorBP/FactorGraph.py:399: DeprecationWarning: PyArray_FromDimsAndDataAndDescr: use PyArray_NewFromDescr.\n  def GetDecode(self): return _FactorGraph.CFactorGraph_GetDecode(self)\n"
     ]
    },
    {
     "name": "stderr",
     "output_type": "stream",
     "text": [
      "FactorBP/FactorGraph.py:399: DeprecationWarning: PyArray_FromDims: use PyArray_SimpleNew.\n  def GetDecode(self): return _FactorGraph.CFactorGraph_GetDecode(self)\nFactorBP/FactorGraph.py:399: DeprecationWarning: PyArray_FromDimsAndDataAndDescr: use PyArray_NewFromDescr.\n  def GetDecode(self): return _FactorGraph.CFactorGraph_GetDecode(self)\n"
     ]
    },
    {
     "name": "stderr",
     "output_type": "stream",
     "text": [
      "FactorBP/FactorGraph.py:399: DeprecationWarning: PyArray_FromDims: use PyArray_SimpleNew.\n  def GetDecode(self): return _FactorGraph.CFactorGraph_GetDecode(self)\nFactorBP/FactorGraph.py:399: DeprecationWarning: PyArray_FromDimsAndDataAndDescr: use PyArray_NewFromDescr.\n  def GetDecode(self): return _FactorGraph.CFactorGraph_GetDecode(self)\n"
     ]
    },
    {
     "name": "stderr",
     "output_type": "stream",
     "text": [
      "FactorBP/FactorGraph.py:399: DeprecationWarning: PyArray_FromDims: use PyArray_SimpleNew.\n  def GetDecode(self): return _FactorGraph.CFactorGraph_GetDecode(self)\nFactorBP/FactorGraph.py:399: DeprecationWarning: PyArray_FromDimsAndDataAndDescr: use PyArray_NewFromDescr.\n  def GetDecode(self): return _FactorGraph.CFactorGraph_GetDecode(self)\n"
     ]
    },
    {
     "name": "stderr",
     "output_type": "stream",
     "text": [
      "FactorBP/FactorGraph.py:399: DeprecationWarning: PyArray_FromDims: use PyArray_SimpleNew.\n  def GetDecode(self): return _FactorGraph.CFactorGraph_GetDecode(self)\nFactorBP/FactorGraph.py:399: DeprecationWarning: PyArray_FromDimsAndDataAndDescr: use PyArray_NewFromDescr.\n  def GetDecode(self): return _FactorGraph.CFactorGraph_GetDecode(self)\n"
     ]
    },
    {
     "name": "stderr",
     "output_type": "stream",
     "text": [
      "FactorBP/FactorGraph.py:399: DeprecationWarning: PyArray_FromDims: use PyArray_SimpleNew.\n  def GetDecode(self): return _FactorGraph.CFactorGraph_GetDecode(self)\nFactorBP/FactorGraph.py:399: DeprecationWarning: PyArray_FromDimsAndDataAndDescr: use PyArray_NewFromDescr.\n  def GetDecode(self): return _FactorGraph.CFactorGraph_GetDecode(self)\n"
     ]
    },
    {
     "name": "stderr",
     "output_type": "stream",
     "text": [
      "FactorBP/FactorGraph.py:399: DeprecationWarning: PyArray_FromDims: use PyArray_SimpleNew.\n  def GetDecode(self): return _FactorGraph.CFactorGraph_GetDecode(self)\nFactorBP/FactorGraph.py:399: DeprecationWarning: PyArray_FromDimsAndDataAndDescr: use PyArray_NewFromDescr.\n  def GetDecode(self): return _FactorGraph.CFactorGraph_GetDecode(self)\n"
     ]
    },
    {
     "name": "stderr",
     "output_type": "stream",
     "text": [
      "FactorBP/FactorGraph.py:399: DeprecationWarning: PyArray_FromDims: use PyArray_SimpleNew.\n  def GetDecode(self): return _FactorGraph.CFactorGraph_GetDecode(self)\nFactorBP/FactorGraph.py:399: DeprecationWarning: PyArray_FromDimsAndDataAndDescr: use PyArray_NewFromDescr.\n  def GetDecode(self): return _FactorGraph.CFactorGraph_GetDecode(self)\n"
     ]
    },
    {
     "name": "stderr",
     "output_type": "stream",
     "text": [
      "FactorBP/FactorGraph.py:399: DeprecationWarning: PyArray_FromDims: use PyArray_SimpleNew.\n  def GetDecode(self): return _FactorGraph.CFactorGraph_GetDecode(self)\nFactorBP/FactorGraph.py:399: DeprecationWarning: PyArray_FromDimsAndDataAndDescr: use PyArray_NewFromDescr.\n  def GetDecode(self): return _FactorGraph.CFactorGraph_GetDecode(self)\n"
     ]
    },
    {
     "name": "stderr",
     "output_type": "stream",
     "text": [
      "FactorBP/FactorGraph.py:399: DeprecationWarning: PyArray_FromDims: use PyArray_SimpleNew.\n  def GetDecode(self): return _FactorGraph.CFactorGraph_GetDecode(self)\nFactorBP/FactorGraph.py:399: DeprecationWarning: PyArray_FromDimsAndDataAndDescr: use PyArray_NewFromDescr.\n  def GetDecode(self): return _FactorGraph.CFactorGraph_GetDecode(self)\n"
     ]
    },
    {
     "name": "stderr",
     "output_type": "stream",
     "text": [
      "FactorBP/FactorGraph.py:399: DeprecationWarning: PyArray_FromDims: use PyArray_SimpleNew.\n  def GetDecode(self): return _FactorGraph.CFactorGraph_GetDecode(self)\nFactorBP/FactorGraph.py:399: DeprecationWarning: PyArray_FromDimsAndDataAndDescr: use PyArray_NewFromDescr.\n  def GetDecode(self): return _FactorGraph.CFactorGraph_GetDecode(self)\n"
     ]
    },
    {
     "name": "stderr",
     "output_type": "stream",
     "text": [
      "FactorBP/FactorGraph.py:399: DeprecationWarning: PyArray_FromDims: use PyArray_SimpleNew.\n  def GetDecode(self): return _FactorGraph.CFactorGraph_GetDecode(self)\nFactorBP/FactorGraph.py:399: DeprecationWarning: PyArray_FromDimsAndDataAndDescr: use PyArray_NewFromDescr.\n  def GetDecode(self): return _FactorGraph.CFactorGraph_GetDecode(self)\n"
     ]
    },
    {
     "name": "stderr",
     "output_type": "stream",
     "text": [
      "FactorBP/FactorGraph.py:399: DeprecationWarning: PyArray_FromDims: use PyArray_SimpleNew.\n  def GetDecode(self): return _FactorGraph.CFactorGraph_GetDecode(self)\nFactorBP/FactorGraph.py:399: DeprecationWarning: PyArray_FromDimsAndDataAndDescr: use PyArray_NewFromDescr.\n  def GetDecode(self): return _FactorGraph.CFactorGraph_GetDecode(self)\n"
     ]
    },
    {
     "name": "stdout",
     "output_type": "stream",
     "text": [
      "IPFP Accuracy 0.816432 Running Time 0.010975 Obj 0.864656\nOurs-PW Accuracy 1.000000 Running Time 0.046282 Obj 1.000000\nFGM Accuracy 0.930986 Running Time 0.039454 Obj 0.948391\nRRWM Accuracy 0.998122 Running Time 0.024315 Obj 0.999416\nSM Accuracy 0.930986 Running Time 0.038066 Obj 0.948391\n××××××××××××××××××××\n Start baseline: 50\n"
     ]
    },
    {
     "name": "stderr",
     "output_type": "stream",
     "text": [
      "FactorBP/FactorGraph.py:399: DeprecationWarning: PyArray_FromDims: use PyArray_SimpleNew.\n  def GetDecode(self): return _FactorGraph.CFactorGraph_GetDecode(self)\nFactorBP/FactorGraph.py:399: DeprecationWarning: PyArray_FromDimsAndDataAndDescr: use PyArray_NewFromDescr.\n  def GetDecode(self): return _FactorGraph.CFactorGraph_GetDecode(self)\n"
     ]
    },
    {
     "name": "stderr",
     "output_type": "stream",
     "text": [
      "FactorBP/FactorGraph.py:399: DeprecationWarning: PyArray_FromDims: use PyArray_SimpleNew.\n  def GetDecode(self): return _FactorGraph.CFactorGraph_GetDecode(self)\nFactorBP/FactorGraph.py:399: DeprecationWarning: PyArray_FromDimsAndDataAndDescr: use PyArray_NewFromDescr.\n  def GetDecode(self): return _FactorGraph.CFactorGraph_GetDecode(self)\n"
     ]
    },
    {
     "name": "stderr",
     "output_type": "stream",
     "text": [
      "FactorBP/FactorGraph.py:399: DeprecationWarning: PyArray_FromDims: use PyArray_SimpleNew.\n  def GetDecode(self): return _FactorGraph.CFactorGraph_GetDecode(self)\nFactorBP/FactorGraph.py:399: DeprecationWarning: PyArray_FromDimsAndDataAndDescr: use PyArray_NewFromDescr.\n  def GetDecode(self): return _FactorGraph.CFactorGraph_GetDecode(self)\n"
     ]
    },
    {
     "name": "stderr",
     "output_type": "stream",
     "text": [
      "FactorBP/FactorGraph.py:399: DeprecationWarning: PyArray_FromDims: use PyArray_SimpleNew.\n  def GetDecode(self): return _FactorGraph.CFactorGraph_GetDecode(self)\nFactorBP/FactorGraph.py:399: DeprecationWarning: PyArray_FromDimsAndDataAndDescr: use PyArray_NewFromDescr.\n  def GetDecode(self): return _FactorGraph.CFactorGraph_GetDecode(self)\n"
     ]
    },
    {
     "name": "stderr",
     "output_type": "stream",
     "text": [
      "FactorBP/FactorGraph.py:399: DeprecationWarning: PyArray_FromDims: use PyArray_SimpleNew.\n  def GetDecode(self): return _FactorGraph.CFactorGraph_GetDecode(self)\nFactorBP/FactorGraph.py:399: DeprecationWarning: PyArray_FromDimsAndDataAndDescr: use PyArray_NewFromDescr.\n  def GetDecode(self): return _FactorGraph.CFactorGraph_GetDecode(self)\n"
     ]
    },
    {
     "name": "stderr",
     "output_type": "stream",
     "text": [
      "FactorBP/FactorGraph.py:399: DeprecationWarning: PyArray_FromDims: use PyArray_SimpleNew.\n  def GetDecode(self): return _FactorGraph.CFactorGraph_GetDecode(self)\nFactorBP/FactorGraph.py:399: DeprecationWarning: PyArray_FromDimsAndDataAndDescr: use PyArray_NewFromDescr.\n  def GetDecode(self): return _FactorGraph.CFactorGraph_GetDecode(self)\n"
     ]
    },
    {
     "name": "stderr",
     "output_type": "stream",
     "text": [
      "FactorBP/FactorGraph.py:399: DeprecationWarning: PyArray_FromDims: use PyArray_SimpleNew.\n  def GetDecode(self): return _FactorGraph.CFactorGraph_GetDecode(self)\nFactorBP/FactorGraph.py:399: DeprecationWarning: PyArray_FromDimsAndDataAndDescr: use PyArray_NewFromDescr.\n  def GetDecode(self): return _FactorGraph.CFactorGraph_GetDecode(self)\n"
     ]
    },
    {
     "name": "stderr",
     "output_type": "stream",
     "text": [
      "FactorBP/FactorGraph.py:399: DeprecationWarning: PyArray_FromDims: use PyArray_SimpleNew.\n  def GetDecode(self): return _FactorGraph.CFactorGraph_GetDecode(self)\nFactorBP/FactorGraph.py:399: DeprecationWarning: PyArray_FromDimsAndDataAndDescr: use PyArray_NewFromDescr.\n  def GetDecode(self): return _FactorGraph.CFactorGraph_GetDecode(self)\n"
     ]
    },
    {
     "name": "stderr",
     "output_type": "stream",
     "text": [
      "FactorBP/FactorGraph.py:399: DeprecationWarning: PyArray_FromDims: use PyArray_SimpleNew.\n  def GetDecode(self): return _FactorGraph.CFactorGraph_GetDecode(self)\nFactorBP/FactorGraph.py:399: DeprecationWarning: PyArray_FromDimsAndDataAndDescr: use PyArray_NewFromDescr.\n  def GetDecode(self): return _FactorGraph.CFactorGraph_GetDecode(self)\n"
     ]
    },
    {
     "name": "stderr",
     "output_type": "stream",
     "text": [
      "FactorBP/FactorGraph.py:399: DeprecationWarning: PyArray_FromDims: use PyArray_SimpleNew.\n  def GetDecode(self): return _FactorGraph.CFactorGraph_GetDecode(self)\nFactorBP/FactorGraph.py:399: DeprecationWarning: PyArray_FromDimsAndDataAndDescr: use PyArray_NewFromDescr.\n  def GetDecode(self): return _FactorGraph.CFactorGraph_GetDecode(self)\nFactorBP/FactorGraph.py:399: DeprecationWarning: PyArray_FromDims: use PyArray_SimpleNew.\n  def GetDecode(self): return _FactorGraph.CFactorGraph_GetDecode(self)\nFactorBP/FactorGraph.py:399: DeprecationWarning: PyArray_FromDimsAndDataAndDescr: use PyArray_NewFromDescr.\n  def GetDecode(self): return _FactorGraph.CFactorGraph_GetDecode(self)\n"
     ]
    },
    {
     "name": "stderr",
     "output_type": "stream",
     "text": [
      "FactorBP/FactorGraph.py:399: DeprecationWarning: PyArray_FromDims: use PyArray_SimpleNew.\n  def GetDecode(self): return _FactorGraph.CFactorGraph_GetDecode(self)\nFactorBP/FactorGraph.py:399: DeprecationWarning: PyArray_FromDimsAndDataAndDescr: use PyArray_NewFromDescr.\n  def GetDecode(self): return _FactorGraph.CFactorGraph_GetDecode(self)\n"
     ]
    },
    {
     "name": "stderr",
     "output_type": "stream",
     "text": [
      "FactorBP/FactorGraph.py:399: DeprecationWarning: PyArray_FromDims: use PyArray_SimpleNew.\n  def GetDecode(self): return _FactorGraph.CFactorGraph_GetDecode(self)\nFactorBP/FactorGraph.py:399: DeprecationWarning: PyArray_FromDimsAndDataAndDescr: use PyArray_NewFromDescr.\n  def GetDecode(self): return _FactorGraph.CFactorGraph_GetDecode(self)\n"
     ]
    },
    {
     "name": "stderr",
     "output_type": "stream",
     "text": [
      "FactorBP/FactorGraph.py:399: DeprecationWarning: PyArray_FromDims: use PyArray_SimpleNew.\n  def GetDecode(self): return _FactorGraph.CFactorGraph_GetDecode(self)\nFactorBP/FactorGraph.py:399: DeprecationWarning: PyArray_FromDimsAndDataAndDescr: use PyArray_NewFromDescr.\n  def GetDecode(self): return _FactorGraph.CFactorGraph_GetDecode(self)\nFactorBP/FactorGraph.py:399: DeprecationWarning: PyArray_FromDims: use PyArray_SimpleNew.\n  def GetDecode(self): return _FactorGraph.CFactorGraph_GetDecode(self)\nFactorBP/FactorGraph.py:399: DeprecationWarning: PyArray_FromDimsAndDataAndDescr: use PyArray_NewFromDescr.\n  def GetDecode(self): return _FactorGraph.CFactorGraph_GetDecode(self)\n"
     ]
    },
    {
     "name": "stderr",
     "output_type": "stream",
     "text": [
      "FactorBP/FactorGraph.py:399: DeprecationWarning: PyArray_FromDims: use PyArray_SimpleNew.\n  def GetDecode(self): return _FactorGraph.CFactorGraph_GetDecode(self)\nFactorBP/FactorGraph.py:399: DeprecationWarning: PyArray_FromDimsAndDataAndDescr: use PyArray_NewFromDescr.\n  def GetDecode(self): return _FactorGraph.CFactorGraph_GetDecode(self)\n"
     ]
    },
    {
     "name": "stderr",
     "output_type": "stream",
     "text": [
      "FactorBP/FactorGraph.py:399: DeprecationWarning: PyArray_FromDims: use PyArray_SimpleNew.\n  def GetDecode(self): return _FactorGraph.CFactorGraph_GetDecode(self)\nFactorBP/FactorGraph.py:399: DeprecationWarning: PyArray_FromDimsAndDataAndDescr: use PyArray_NewFromDescr.\n  def GetDecode(self): return _FactorGraph.CFactorGraph_GetDecode(self)\n"
     ]
    },
    {
     "name": "stderr",
     "output_type": "stream",
     "text": [
      "FactorBP/FactorGraph.py:399: DeprecationWarning: PyArray_FromDims: use PyArray_SimpleNew.\n  def GetDecode(self): return _FactorGraph.CFactorGraph_GetDecode(self)\nFactorBP/FactorGraph.py:399: DeprecationWarning: PyArray_FromDimsAndDataAndDescr: use PyArray_NewFromDescr.\n  def GetDecode(self): return _FactorGraph.CFactorGraph_GetDecode(self)\n"
     ]
    },
    {
     "name": "stderr",
     "output_type": "stream",
     "text": [
      "FactorBP/FactorGraph.py:399: DeprecationWarning: PyArray_FromDims: use PyArray_SimpleNew.\n  def GetDecode(self): return _FactorGraph.CFactorGraph_GetDecode(self)\nFactorBP/FactorGraph.py:399: DeprecationWarning: PyArray_FromDimsAndDataAndDescr: use PyArray_NewFromDescr.\n  def GetDecode(self): return _FactorGraph.CFactorGraph_GetDecode(self)\n"
     ]
    },
    {
     "name": "stderr",
     "output_type": "stream",
     "text": [
      "FactorBP/FactorGraph.py:399: DeprecationWarning: PyArray_FromDims: use PyArray_SimpleNew.\n  def GetDecode(self): return _FactorGraph.CFactorGraph_GetDecode(self)\nFactorBP/FactorGraph.py:399: DeprecationWarning: PyArray_FromDimsAndDataAndDescr: use PyArray_NewFromDescr.\n  def GetDecode(self): return _FactorGraph.CFactorGraph_GetDecode(self)\n"
     ]
    },
    {
     "name": "stderr",
     "output_type": "stream",
     "text": [
      "FactorBP/FactorGraph.py:399: DeprecationWarning: PyArray_FromDims: use PyArray_SimpleNew.\n  def GetDecode(self): return _FactorGraph.CFactorGraph_GetDecode(self)\nFactorBP/FactorGraph.py:399: DeprecationWarning: PyArray_FromDimsAndDataAndDescr: use PyArray_NewFromDescr.\n  def GetDecode(self): return _FactorGraph.CFactorGraph_GetDecode(self)\n"
     ]
    },
    {
     "name": "stderr",
     "output_type": "stream",
     "text": [
      "FactorBP/FactorGraph.py:399: DeprecationWarning: PyArray_FromDims: use PyArray_SimpleNew.\n  def GetDecode(self): return _FactorGraph.CFactorGraph_GetDecode(self)\nFactorBP/FactorGraph.py:399: DeprecationWarning: PyArray_FromDimsAndDataAndDescr: use PyArray_NewFromDescr.\n  def GetDecode(self): return _FactorGraph.CFactorGraph_GetDecode(self)\n"
     ]
    },
    {
     "name": "stderr",
     "output_type": "stream",
     "text": [
      "FactorBP/FactorGraph.py:399: DeprecationWarning: PyArray_FromDims: use PyArray_SimpleNew.\n  def GetDecode(self): return _FactorGraph.CFactorGraph_GetDecode(self)\nFactorBP/FactorGraph.py:399: DeprecationWarning: PyArray_FromDimsAndDataAndDescr: use PyArray_NewFromDescr.\n  def GetDecode(self): return _FactorGraph.CFactorGraph_GetDecode(self)\n"
     ]
    },
    {
     "name": "stderr",
     "output_type": "stream",
     "text": [
      "FactorBP/FactorGraph.py:399: DeprecationWarning: PyArray_FromDims: use PyArray_SimpleNew.\n  def GetDecode(self): return _FactorGraph.CFactorGraph_GetDecode(self)\nFactorBP/FactorGraph.py:399: DeprecationWarning: PyArray_FromDimsAndDataAndDescr: use PyArray_NewFromDescr.\n  def GetDecode(self): return _FactorGraph.CFactorGraph_GetDecode(self)\n"
     ]
    },
    {
     "name": "stderr",
     "output_type": "stream",
     "text": [
      "FactorBP/FactorGraph.py:399: DeprecationWarning: PyArray_FromDims: use PyArray_SimpleNew.\n  def GetDecode(self): return _FactorGraph.CFactorGraph_GetDecode(self)\nFactorBP/FactorGraph.py:399: DeprecationWarning: PyArray_FromDimsAndDataAndDescr: use PyArray_NewFromDescr.\n  def GetDecode(self): return _FactorGraph.CFactorGraph_GetDecode(self)\n"
     ]
    },
    {
     "name": "stderr",
     "output_type": "stream",
     "text": [
      "FactorBP/FactorGraph.py:399: DeprecationWarning: PyArray_FromDims: use PyArray_SimpleNew.\n  def GetDecode(self): return _FactorGraph.CFactorGraph_GetDecode(self)\nFactorBP/FactorGraph.py:399: DeprecationWarning: PyArray_FromDimsAndDataAndDescr: use PyArray_NewFromDescr.\n  def GetDecode(self): return _FactorGraph.CFactorGraph_GetDecode(self)\n"
     ]
    },
    {
     "name": "stderr",
     "output_type": "stream",
     "text": [
      "FactorBP/FactorGraph.py:399: DeprecationWarning: PyArray_FromDims: use PyArray_SimpleNew.\n  def GetDecode(self): return _FactorGraph.CFactorGraph_GetDecode(self)\nFactorBP/FactorGraph.py:399: DeprecationWarning: PyArray_FromDimsAndDataAndDescr: use PyArray_NewFromDescr.\n  def GetDecode(self): return _FactorGraph.CFactorGraph_GetDecode(self)\n"
     ]
    },
    {
     "name": "stderr",
     "output_type": "stream",
     "text": [
      "FactorBP/FactorGraph.py:399: DeprecationWarning: PyArray_FromDims: use PyArray_SimpleNew.\n  def GetDecode(self): return _FactorGraph.CFactorGraph_GetDecode(self)\nFactorBP/FactorGraph.py:399: DeprecationWarning: PyArray_FromDimsAndDataAndDescr: use PyArray_NewFromDescr.\n  def GetDecode(self): return _FactorGraph.CFactorGraph_GetDecode(self)\n"
     ]
    },
    {
     "name": "stderr",
     "output_type": "stream",
     "text": [
      "FactorBP/FactorGraph.py:399: DeprecationWarning: PyArray_FromDims: use PyArray_SimpleNew.\n  def GetDecode(self): return _FactorGraph.CFactorGraph_GetDecode(self)\nFactorBP/FactorGraph.py:399: DeprecationWarning: PyArray_FromDimsAndDataAndDescr: use PyArray_NewFromDescr.\n  def GetDecode(self): return _FactorGraph.CFactorGraph_GetDecode(self)\n"
     ]
    },
    {
     "name": "stderr",
     "output_type": "stream",
     "text": [
      "FactorBP/FactorGraph.py:399: DeprecationWarning: PyArray_FromDims: use PyArray_SimpleNew.\n  def GetDecode(self): return _FactorGraph.CFactorGraph_GetDecode(self)\nFactorBP/FactorGraph.py:399: DeprecationWarning: PyArray_FromDimsAndDataAndDescr: use PyArray_NewFromDescr.\n  def GetDecode(self): return _FactorGraph.CFactorGraph_GetDecode(self)\n"
     ]
    },
    {
     "name": "stderr",
     "output_type": "stream",
     "text": [
      "FactorBP/FactorGraph.py:399: DeprecationWarning: PyArray_FromDims: use PyArray_SimpleNew.\n  def GetDecode(self): return _FactorGraph.CFactorGraph_GetDecode(self)\nFactorBP/FactorGraph.py:399: DeprecationWarning: PyArray_FromDimsAndDataAndDescr: use PyArray_NewFromDescr.\n  def GetDecode(self): return _FactorGraph.CFactorGraph_GetDecode(self)\n"
     ]
    },
    {
     "name": "stderr",
     "output_type": "stream",
     "text": [
      "FactorBP/FactorGraph.py:399: DeprecationWarning: PyArray_FromDims: use PyArray_SimpleNew.\n  def GetDecode(self): return _FactorGraph.CFactorGraph_GetDecode(self)\nFactorBP/FactorGraph.py:399: DeprecationWarning: PyArray_FromDimsAndDataAndDescr: use PyArray_NewFromDescr.\n  def GetDecode(self): return _FactorGraph.CFactorGraph_GetDecode(self)\n"
     ]
    },
    {
     "name": "stderr",
     "output_type": "stream",
     "text": [
      "FactorBP/FactorGraph.py:399: DeprecationWarning: PyArray_FromDims: use PyArray_SimpleNew.\n  def GetDecode(self): return _FactorGraph.CFactorGraph_GetDecode(self)\nFactorBP/FactorGraph.py:399: DeprecationWarning: PyArray_FromDimsAndDataAndDescr: use PyArray_NewFromDescr.\n  def GetDecode(self): return _FactorGraph.CFactorGraph_GetDecode(self)\n"
     ]
    },
    {
     "name": "stderr",
     "output_type": "stream",
     "text": [
      "FactorBP/FactorGraph.py:399: DeprecationWarning: PyArray_FromDims: use PyArray_SimpleNew.\n  def GetDecode(self): return _FactorGraph.CFactorGraph_GetDecode(self)\nFactorBP/FactorGraph.py:399: DeprecationWarning: PyArray_FromDimsAndDataAndDescr: use PyArray_NewFromDescr.\n  def GetDecode(self): return _FactorGraph.CFactorGraph_GetDecode(self)\n"
     ]
    },
    {
     "name": "stderr",
     "output_type": "stream",
     "text": [
      "FactorBP/FactorGraph.py:399: DeprecationWarning: PyArray_FromDims: use PyArray_SimpleNew.\n  def GetDecode(self): return _FactorGraph.CFactorGraph_GetDecode(self)\nFactorBP/FactorGraph.py:399: DeprecationWarning: PyArray_FromDimsAndDataAndDescr: use PyArray_NewFromDescr.\n  def GetDecode(self): return _FactorGraph.CFactorGraph_GetDecode(self)\n"
     ]
    },
    {
     "name": "stderr",
     "output_type": "stream",
     "text": [
      "FactorBP/FactorGraph.py:399: DeprecationWarning: PyArray_FromDims: use PyArray_SimpleNew.\n  def GetDecode(self): return _FactorGraph.CFactorGraph_GetDecode(self)\nFactorBP/FactorGraph.py:399: DeprecationWarning: PyArray_FromDimsAndDataAndDescr: use PyArray_NewFromDescr.\n  def GetDecode(self): return _FactorGraph.CFactorGraph_GetDecode(self)\n"
     ]
    },
    {
     "name": "stderr",
     "output_type": "stream",
     "text": [
      "FactorBP/FactorGraph.py:399: DeprecationWarning: PyArray_FromDims: use PyArray_SimpleNew.\n  def GetDecode(self): return _FactorGraph.CFactorGraph_GetDecode(self)\nFactorBP/FactorGraph.py:399: DeprecationWarning: PyArray_FromDimsAndDataAndDescr: use PyArray_NewFromDescr.\n  def GetDecode(self): return _FactorGraph.CFactorGraph_GetDecode(self)\n"
     ]
    },
    {
     "name": "stderr",
     "output_type": "stream",
     "text": [
      "FactorBP/FactorGraph.py:399: DeprecationWarning: PyArray_FromDims: use PyArray_SimpleNew.\n  def GetDecode(self): return _FactorGraph.CFactorGraph_GetDecode(self)\nFactorBP/FactorGraph.py:399: DeprecationWarning: PyArray_FromDimsAndDataAndDescr: use PyArray_NewFromDescr.\n  def GetDecode(self): return _FactorGraph.CFactorGraph_GetDecode(self)\n"
     ]
    },
    {
     "name": "stderr",
     "output_type": "stream",
     "text": [
      "FactorBP/FactorGraph.py:399: DeprecationWarning: PyArray_FromDims: use PyArray_SimpleNew.\n  def GetDecode(self): return _FactorGraph.CFactorGraph_GetDecode(self)\nFactorBP/FactorGraph.py:399: DeprecationWarning: PyArray_FromDimsAndDataAndDescr: use PyArray_NewFromDescr.\n  def GetDecode(self): return _FactorGraph.CFactorGraph_GetDecode(self)\n"
     ]
    },
    {
     "name": "stderr",
     "output_type": "stream",
     "text": [
      "FactorBP/FactorGraph.py:399: DeprecationWarning: PyArray_FromDims: use PyArray_SimpleNew.\n  def GetDecode(self): return _FactorGraph.CFactorGraph_GetDecode(self)\nFactorBP/FactorGraph.py:399: DeprecationWarning: PyArray_FromDimsAndDataAndDescr: use PyArray_NewFromDescr.\n  def GetDecode(self): return _FactorGraph.CFactorGraph_GetDecode(self)\nFactorBP/FactorGraph.py:399: DeprecationWarning: PyArray_FromDims: use PyArray_SimpleNew.\n  def GetDecode(self): return _FactorGraph.CFactorGraph_GetDecode(self)\nFactorBP/FactorGraph.py:399: DeprecationWarning: PyArray_FromDimsAndDataAndDescr: use PyArray_NewFromDescr.\n  def GetDecode(self): return _FactorGraph.CFactorGraph_GetDecode(self)\n"
     ]
    },
    {
     "name": "stderr",
     "output_type": "stream",
     "text": [
      "FactorBP/FactorGraph.py:399: DeprecationWarning: PyArray_FromDims: use PyArray_SimpleNew.\n  def GetDecode(self): return _FactorGraph.CFactorGraph_GetDecode(self)\nFactorBP/FactorGraph.py:399: DeprecationWarning: PyArray_FromDimsAndDataAndDescr: use PyArray_NewFromDescr.\n  def GetDecode(self): return _FactorGraph.CFactorGraph_GetDecode(self)\n"
     ]
    },
    {
     "name": "stderr",
     "output_type": "stream",
     "text": [
      "FactorBP/FactorGraph.py:399: DeprecationWarning: PyArray_FromDims: use PyArray_SimpleNew.\n  def GetDecode(self): return _FactorGraph.CFactorGraph_GetDecode(self)\nFactorBP/FactorGraph.py:399: DeprecationWarning: PyArray_FromDimsAndDataAndDescr: use PyArray_NewFromDescr.\n  def GetDecode(self): return _FactorGraph.CFactorGraph_GetDecode(self)\n"
     ]
    },
    {
     "name": "stderr",
     "output_type": "stream",
     "text": [
      "FactorBP/FactorGraph.py:399: DeprecationWarning: PyArray_FromDims: use PyArray_SimpleNew.\n  def GetDecode(self): return _FactorGraph.CFactorGraph_GetDecode(self)\nFactorBP/FactorGraph.py:399: DeprecationWarning: PyArray_FromDimsAndDataAndDescr: use PyArray_NewFromDescr.\n  def GetDecode(self): return _FactorGraph.CFactorGraph_GetDecode(self)\n"
     ]
    },
    {
     "name": "stderr",
     "output_type": "stream",
     "text": [
      "FactorBP/FactorGraph.py:399: DeprecationWarning: PyArray_FromDims: use PyArray_SimpleNew.\n  def GetDecode(self): return _FactorGraph.CFactorGraph_GetDecode(self)\nFactorBP/FactorGraph.py:399: DeprecationWarning: PyArray_FromDimsAndDataAndDescr: use PyArray_NewFromDescr.\n  def GetDecode(self): return _FactorGraph.CFactorGraph_GetDecode(self)\n"
     ]
    },
    {
     "name": "stderr",
     "output_type": "stream",
     "text": [
      "FactorBP/FactorGraph.py:399: DeprecationWarning: PyArray_FromDims: use PyArray_SimpleNew.\n  def GetDecode(self): return _FactorGraph.CFactorGraph_GetDecode(self)\nFactorBP/FactorGraph.py:399: DeprecationWarning: PyArray_FromDimsAndDataAndDescr: use PyArray_NewFromDescr.\n  def GetDecode(self): return _FactorGraph.CFactorGraph_GetDecode(self)\n"
     ]
    },
    {
     "name": "stderr",
     "output_type": "stream",
     "text": [
      "FactorBP/FactorGraph.py:399: DeprecationWarning: PyArray_FromDims: use PyArray_SimpleNew.\n  def GetDecode(self): return _FactorGraph.CFactorGraph_GetDecode(self)\nFactorBP/FactorGraph.py:399: DeprecationWarning: PyArray_FromDimsAndDataAndDescr: use PyArray_NewFromDescr.\n  def GetDecode(self): return _FactorGraph.CFactorGraph_GetDecode(self)\n"
     ]
    },
    {
     "name": "stderr",
     "output_type": "stream",
     "text": [
      "FactorBP/FactorGraph.py:399: DeprecationWarning: PyArray_FromDims: use PyArray_SimpleNew.\n  def GetDecode(self): return _FactorGraph.CFactorGraph_GetDecode(self)\nFactorBP/FactorGraph.py:399: DeprecationWarning: PyArray_FromDimsAndDataAndDescr: use PyArray_NewFromDescr.\n  def GetDecode(self): return _FactorGraph.CFactorGraph_GetDecode(self)\n"
     ]
    },
    {
     "name": "stderr",
     "output_type": "stream",
     "text": [
      "FactorBP/FactorGraph.py:399: DeprecationWarning: PyArray_FromDims: use PyArray_SimpleNew.\n  def GetDecode(self): return _FactorGraph.CFactorGraph_GetDecode(self)\nFactorBP/FactorGraph.py:399: DeprecationWarning: PyArray_FromDimsAndDataAndDescr: use PyArray_NewFromDescr.\n  def GetDecode(self): return _FactorGraph.CFactorGraph_GetDecode(self)\n"
     ]
    },
    {
     "name": "stderr",
     "output_type": "stream",
     "text": [
      "FactorBP/FactorGraph.py:399: DeprecationWarning: PyArray_FromDims: use PyArray_SimpleNew.\n  def GetDecode(self): return _FactorGraph.CFactorGraph_GetDecode(self)\nFactorBP/FactorGraph.py:399: DeprecationWarning: PyArray_FromDimsAndDataAndDescr: use PyArray_NewFromDescr.\n  def GetDecode(self): return _FactorGraph.CFactorGraph_GetDecode(self)\n"
     ]
    },
    {
     "name": "stderr",
     "output_type": "stream",
     "text": [
      "FactorBP/FactorGraph.py:399: DeprecationWarning: PyArray_FromDims: use PyArray_SimpleNew.\n  def GetDecode(self): return _FactorGraph.CFactorGraph_GetDecode(self)\nFactorBP/FactorGraph.py:399: DeprecationWarning: PyArray_FromDimsAndDataAndDescr: use PyArray_NewFromDescr.\n  def GetDecode(self): return _FactorGraph.CFactorGraph_GetDecode(self)\n"
     ]
    },
    {
     "name": "stderr",
     "output_type": "stream",
     "text": [
      "FactorBP/FactorGraph.py:399: DeprecationWarning: PyArray_FromDims: use PyArray_SimpleNew.\n  def GetDecode(self): return _FactorGraph.CFactorGraph_GetDecode(self)\nFactorBP/FactorGraph.py:399: DeprecationWarning: PyArray_FromDimsAndDataAndDescr: use PyArray_NewFromDescr.\n  def GetDecode(self): return _FactorGraph.CFactorGraph_GetDecode(self)\n"
     ]
    },
    {
     "name": "stderr",
     "output_type": "stream",
     "text": [
      "FactorBP/FactorGraph.py:399: DeprecationWarning: PyArray_FromDims: use PyArray_SimpleNew.\n  def GetDecode(self): return _FactorGraph.CFactorGraph_GetDecode(self)\nFactorBP/FactorGraph.py:399: DeprecationWarning: PyArray_FromDimsAndDataAndDescr: use PyArray_NewFromDescr.\n  def GetDecode(self): return _FactorGraph.CFactorGraph_GetDecode(self)\n"
     ]
    },
    {
     "name": "stderr",
     "output_type": "stream",
     "text": [
      "FactorBP/FactorGraph.py:399: DeprecationWarning: PyArray_FromDims: use PyArray_SimpleNew.\n  def GetDecode(self): return _FactorGraph.CFactorGraph_GetDecode(self)\nFactorBP/FactorGraph.py:399: DeprecationWarning: PyArray_FromDimsAndDataAndDescr: use PyArray_NewFromDescr.\n  def GetDecode(self): return _FactorGraph.CFactorGraph_GetDecode(self)\n"
     ]
    },
    {
     "name": "stderr",
     "output_type": "stream",
     "text": [
      "FactorBP/FactorGraph.py:399: DeprecationWarning: PyArray_FromDims: use PyArray_SimpleNew.\n  def GetDecode(self): return _FactorGraph.CFactorGraph_GetDecode(self)\nFactorBP/FactorGraph.py:399: DeprecationWarning: PyArray_FromDimsAndDataAndDescr: use PyArray_NewFromDescr.\n  def GetDecode(self): return _FactorGraph.CFactorGraph_GetDecode(self)\n"
     ]
    },
    {
     "name": "stderr",
     "output_type": "stream",
     "text": [
      "FactorBP/FactorGraph.py:399: DeprecationWarning: PyArray_FromDims: use PyArray_SimpleNew.\n  def GetDecode(self): return _FactorGraph.CFactorGraph_GetDecode(self)\nFactorBP/FactorGraph.py:399: DeprecationWarning: PyArray_FromDimsAndDataAndDescr: use PyArray_NewFromDescr.\n  def GetDecode(self): return _FactorGraph.CFactorGraph_GetDecode(self)\n"
     ]
    },
    {
     "name": "stderr",
     "output_type": "stream",
     "text": [
      "FactorBP/FactorGraph.py:399: DeprecationWarning: PyArray_FromDims: use PyArray_SimpleNew.\n  def GetDecode(self): return _FactorGraph.CFactorGraph_GetDecode(self)\nFactorBP/FactorGraph.py:399: DeprecationWarning: PyArray_FromDimsAndDataAndDescr: use PyArray_NewFromDescr.\n  def GetDecode(self): return _FactorGraph.CFactorGraph_GetDecode(self)\n"
     ]
    },
    {
     "name": "stderr",
     "output_type": "stream",
     "text": [
      "FactorBP/FactorGraph.py:399: DeprecationWarning: PyArray_FromDims: use PyArray_SimpleNew.\n  def GetDecode(self): return _FactorGraph.CFactorGraph_GetDecode(self)\nFactorBP/FactorGraph.py:399: DeprecationWarning: PyArray_FromDimsAndDataAndDescr: use PyArray_NewFromDescr.\n  def GetDecode(self): return _FactorGraph.CFactorGraph_GetDecode(self)\n"
     ]
    },
    {
     "name": "stderr",
     "output_type": "stream",
     "text": [
      "FactorBP/FactorGraph.py:399: DeprecationWarning: PyArray_FromDims: use PyArray_SimpleNew.\n  def GetDecode(self): return _FactorGraph.CFactorGraph_GetDecode(self)\nFactorBP/FactorGraph.py:399: DeprecationWarning: PyArray_FromDimsAndDataAndDescr: use PyArray_NewFromDescr.\n  def GetDecode(self): return _FactorGraph.CFactorGraph_GetDecode(self)\n"
     ]
    },
    {
     "name": "stderr",
     "output_type": "stream",
     "text": [
      "FactorBP/FactorGraph.py:399: DeprecationWarning: PyArray_FromDims: use PyArray_SimpleNew.\n  def GetDecode(self): return _FactorGraph.CFactorGraph_GetDecode(self)\nFactorBP/FactorGraph.py:399: DeprecationWarning: PyArray_FromDimsAndDataAndDescr: use PyArray_NewFromDescr.\n  def GetDecode(self): return _FactorGraph.CFactorGraph_GetDecode(self)\n"
     ]
    },
    {
     "name": "stderr",
     "output_type": "stream",
     "text": [
      "FactorBP/FactorGraph.py:399: DeprecationWarning: PyArray_FromDims: use PyArray_SimpleNew.\n  def GetDecode(self): return _FactorGraph.CFactorGraph_GetDecode(self)\nFactorBP/FactorGraph.py:399: DeprecationWarning: PyArray_FromDimsAndDataAndDescr: use PyArray_NewFromDescr.\n  def GetDecode(self): return _FactorGraph.CFactorGraph_GetDecode(self)\n"
     ]
    },
    {
     "name": "stderr",
     "output_type": "stream",
     "text": [
      "FactorBP/FactorGraph.py:399: DeprecationWarning: PyArray_FromDims: use PyArray_SimpleNew.\n  def GetDecode(self): return _FactorGraph.CFactorGraph_GetDecode(self)\nFactorBP/FactorGraph.py:399: DeprecationWarning: PyArray_FromDimsAndDataAndDescr: use PyArray_NewFromDescr.\n  def GetDecode(self): return _FactorGraph.CFactorGraph_GetDecode(self)\n"
     ]
    },
    {
     "name": "stderr",
     "output_type": "stream",
     "text": [
      "FactorBP/FactorGraph.py:399: DeprecationWarning: PyArray_FromDims: use PyArray_SimpleNew.\n  def GetDecode(self): return _FactorGraph.CFactorGraph_GetDecode(self)\nFactorBP/FactorGraph.py:399: DeprecationWarning: PyArray_FromDimsAndDataAndDescr: use PyArray_NewFromDescr.\n  def GetDecode(self): return _FactorGraph.CFactorGraph_GetDecode(self)\n"
     ]
    },
    {
     "name": "stderr",
     "output_type": "stream",
     "text": [
      "FactorBP/FactorGraph.py:399: DeprecationWarning: PyArray_FromDims: use PyArray_SimpleNew.\n  def GetDecode(self): return _FactorGraph.CFactorGraph_GetDecode(self)\nFactorBP/FactorGraph.py:399: DeprecationWarning: PyArray_FromDimsAndDataAndDescr: use PyArray_NewFromDescr.\n  def GetDecode(self): return _FactorGraph.CFactorGraph_GetDecode(self)\n"
     ]
    },
    {
     "name": "stdout",
     "output_type": "stream",
     "text": [
      "IPFP Accuracy 0.754098 Running Time 0.010686 Obj 0.813166\nOurs-PW Accuracy 1.000000 Running Time 0.067078 Obj 1.000000\nFGM Accuracy 0.913661 Running Time 0.037806 Obj 0.931478\nRRWM Accuracy 1.000000 Running Time 0.024654 Obj 1.000000\nSM Accuracy 0.913661 Running Time 0.037266 Obj 0.931478\n××××××××××××××××××××\n Start baseline: 60\n"
     ]
    },
    {
     "name": "stderr",
     "output_type": "stream",
     "text": [
      "FactorBP/FactorGraph.py:399: DeprecationWarning: PyArray_FromDims: use PyArray_SimpleNew.\n  def GetDecode(self): return _FactorGraph.CFactorGraph_GetDecode(self)\nFactorBP/FactorGraph.py:399: DeprecationWarning: PyArray_FromDimsAndDataAndDescr: use PyArray_NewFromDescr.\n  def GetDecode(self): return _FactorGraph.CFactorGraph_GetDecode(self)\n"
     ]
    },
    {
     "name": "stderr",
     "output_type": "stream",
     "text": [
      "FactorBP/FactorGraph.py:399: DeprecationWarning: PyArray_FromDims: use PyArray_SimpleNew.\n  def GetDecode(self): return _FactorGraph.CFactorGraph_GetDecode(self)\nFactorBP/FactorGraph.py:399: DeprecationWarning: PyArray_FromDimsAndDataAndDescr: use PyArray_NewFromDescr.\n  def GetDecode(self): return _FactorGraph.CFactorGraph_GetDecode(self)\n"
     ]
    },
    {
     "name": "stderr",
     "output_type": "stream",
     "text": [
      "FactorBP/FactorGraph.py:399: DeprecationWarning: PyArray_FromDims: use PyArray_SimpleNew.\n  def GetDecode(self): return _FactorGraph.CFactorGraph_GetDecode(self)\nFactorBP/FactorGraph.py:399: DeprecationWarning: PyArray_FromDimsAndDataAndDescr: use PyArray_NewFromDescr.\n  def GetDecode(self): return _FactorGraph.CFactorGraph_GetDecode(self)\n"
     ]
    },
    {
     "name": "stderr",
     "output_type": "stream",
     "text": [
      "FactorBP/FactorGraph.py:399: DeprecationWarning: PyArray_FromDims: use PyArray_SimpleNew.\n  def GetDecode(self): return _FactorGraph.CFactorGraph_GetDecode(self)\nFactorBP/FactorGraph.py:399: DeprecationWarning: PyArray_FromDimsAndDataAndDescr: use PyArray_NewFromDescr.\n  def GetDecode(self): return _FactorGraph.CFactorGraph_GetDecode(self)\n"
     ]
    },
    {
     "name": "stderr",
     "output_type": "stream",
     "text": [
      "FactorBP/FactorGraph.py:399: DeprecationWarning: PyArray_FromDims: use PyArray_SimpleNew.\n  def GetDecode(self): return _FactorGraph.CFactorGraph_GetDecode(self)\nFactorBP/FactorGraph.py:399: DeprecationWarning: PyArray_FromDimsAndDataAndDescr: use PyArray_NewFromDescr.\n  def GetDecode(self): return _FactorGraph.CFactorGraph_GetDecode(self)\n"
     ]
    },
    {
     "name": "stderr",
     "output_type": "stream",
     "text": [
      "FactorBP/FactorGraph.py:399: DeprecationWarning: PyArray_FromDims: use PyArray_SimpleNew.\n  def GetDecode(self): return _FactorGraph.CFactorGraph_GetDecode(self)\nFactorBP/FactorGraph.py:399: DeprecationWarning: PyArray_FromDimsAndDataAndDescr: use PyArray_NewFromDescr.\n  def GetDecode(self): return _FactorGraph.CFactorGraph_GetDecode(self)\n"
     ]
    },
    {
     "name": "stderr",
     "output_type": "stream",
     "text": [
      "FactorBP/FactorGraph.py:399: DeprecationWarning: PyArray_FromDims: use PyArray_SimpleNew.\n  def GetDecode(self): return _FactorGraph.CFactorGraph_GetDecode(self)\nFactorBP/FactorGraph.py:399: DeprecationWarning: PyArray_FromDimsAndDataAndDescr: use PyArray_NewFromDescr.\n  def GetDecode(self): return _FactorGraph.CFactorGraph_GetDecode(self)\n"
     ]
    },
    {
     "name": "stderr",
     "output_type": "stream",
     "text": [
      "FactorBP/FactorGraph.py:399: DeprecationWarning: PyArray_FromDims: use PyArray_SimpleNew.\n  def GetDecode(self): return _FactorGraph.CFactorGraph_GetDecode(self)\nFactorBP/FactorGraph.py:399: DeprecationWarning: PyArray_FromDimsAndDataAndDescr: use PyArray_NewFromDescr.\n  def GetDecode(self): return _FactorGraph.CFactorGraph_GetDecode(self)\n"
     ]
    },
    {
     "name": "stderr",
     "output_type": "stream",
     "text": [
      "FactorBP/FactorGraph.py:399: DeprecationWarning: PyArray_FromDims: use PyArray_SimpleNew.\n  def GetDecode(self): return _FactorGraph.CFactorGraph_GetDecode(self)\nFactorBP/FactorGraph.py:399: DeprecationWarning: PyArray_FromDimsAndDataAndDescr: use PyArray_NewFromDescr.\n  def GetDecode(self): return _FactorGraph.CFactorGraph_GetDecode(self)\n"
     ]
    },
    {
     "name": "stderr",
     "output_type": "stream",
     "text": [
      "FactorBP/FactorGraph.py:399: DeprecationWarning: PyArray_FromDims: use PyArray_SimpleNew.\n  def GetDecode(self): return _FactorGraph.CFactorGraph_GetDecode(self)\nFactorBP/FactorGraph.py:399: DeprecationWarning: PyArray_FromDimsAndDataAndDescr: use PyArray_NewFromDescr.\n  def GetDecode(self): return _FactorGraph.CFactorGraph_GetDecode(self)\n"
     ]
    },
    {
     "name": "stderr",
     "output_type": "stream",
     "text": [
      "FactorBP/FactorGraph.py:399: DeprecationWarning: PyArray_FromDims: use PyArray_SimpleNew.\n  def GetDecode(self): return _FactorGraph.CFactorGraph_GetDecode(self)\nFactorBP/FactorGraph.py:399: DeprecationWarning: PyArray_FromDimsAndDataAndDescr: use PyArray_NewFromDescr.\n  def GetDecode(self): return _FactorGraph.CFactorGraph_GetDecode(self)\n"
     ]
    },
    {
     "name": "stderr",
     "output_type": "stream",
     "text": [
      "FactorBP/FactorGraph.py:399: DeprecationWarning: PyArray_FromDims: use PyArray_SimpleNew.\n  def GetDecode(self): return _FactorGraph.CFactorGraph_GetDecode(self)\nFactorBP/FactorGraph.py:399: DeprecationWarning: PyArray_FromDimsAndDataAndDescr: use PyArray_NewFromDescr.\n  def GetDecode(self): return _FactorGraph.CFactorGraph_GetDecode(self)\nFactorBP/FactorGraph.py:399: DeprecationWarning: PyArray_FromDims: use PyArray_SimpleNew.\n  def GetDecode(self): return _FactorGraph.CFactorGraph_GetDecode(self)\nFactorBP/FactorGraph.py:399: DeprecationWarning: PyArray_FromDimsAndDataAndDescr: use PyArray_NewFromDescr.\n  def GetDecode(self): return _FactorGraph.CFactorGraph_GetDecode(self)\n"
     ]
    },
    {
     "name": "stderr",
     "output_type": "stream",
     "text": [
      "FactorBP/FactorGraph.py:399: DeprecationWarning: PyArray_FromDims: use PyArray_SimpleNew.\n  def GetDecode(self): return _FactorGraph.CFactorGraph_GetDecode(self)\nFactorBP/FactorGraph.py:399: DeprecationWarning: PyArray_FromDimsAndDataAndDescr: use PyArray_NewFromDescr.\n  def GetDecode(self): return _FactorGraph.CFactorGraph_GetDecode(self)\n"
     ]
    },
    {
     "name": "stderr",
     "output_type": "stream",
     "text": [
      "FactorBP/FactorGraph.py:399: DeprecationWarning: PyArray_FromDims: use PyArray_SimpleNew.\n  def GetDecode(self): return _FactorGraph.CFactorGraph_GetDecode(self)\nFactorBP/FactorGraph.py:399: DeprecationWarning: PyArray_FromDimsAndDataAndDescr: use PyArray_NewFromDescr.\n  def GetDecode(self): return _FactorGraph.CFactorGraph_GetDecode(self)\n"
     ]
    },
    {
     "name": "stderr",
     "output_type": "stream",
     "text": [
      "FactorBP/FactorGraph.py:399: DeprecationWarning: PyArray_FromDims: use PyArray_SimpleNew.\n  def GetDecode(self): return _FactorGraph.CFactorGraph_GetDecode(self)\nFactorBP/FactorGraph.py:399: DeprecationWarning: PyArray_FromDimsAndDataAndDescr: use PyArray_NewFromDescr.\n  def GetDecode(self): return _FactorGraph.CFactorGraph_GetDecode(self)\n"
     ]
    },
    {
     "name": "stderr",
     "output_type": "stream",
     "text": [
      "FactorBP/FactorGraph.py:399: DeprecationWarning: PyArray_FromDims: use PyArray_SimpleNew.\n  def GetDecode(self): return _FactorGraph.CFactorGraph_GetDecode(self)\nFactorBP/FactorGraph.py:399: DeprecationWarning: PyArray_FromDimsAndDataAndDescr: use PyArray_NewFromDescr.\n  def GetDecode(self): return _FactorGraph.CFactorGraph_GetDecode(self)\n"
     ]
    },
    {
     "name": "stderr",
     "output_type": "stream",
     "text": [
      "FactorBP/FactorGraph.py:399: DeprecationWarning: PyArray_FromDims: use PyArray_SimpleNew.\n  def GetDecode(self): return _FactorGraph.CFactorGraph_GetDecode(self)\nFactorBP/FactorGraph.py:399: DeprecationWarning: PyArray_FromDimsAndDataAndDescr: use PyArray_NewFromDescr.\n  def GetDecode(self): return _FactorGraph.CFactorGraph_GetDecode(self)\n"
     ]
    },
    {
     "name": "stderr",
     "output_type": "stream",
     "text": [
      "FactorBP/FactorGraph.py:399: DeprecationWarning: PyArray_FromDims: use PyArray_SimpleNew.\n  def GetDecode(self): return _FactorGraph.CFactorGraph_GetDecode(self)\nFactorBP/FactorGraph.py:399: DeprecationWarning: PyArray_FromDimsAndDataAndDescr: use PyArray_NewFromDescr.\n  def GetDecode(self): return _FactorGraph.CFactorGraph_GetDecode(self)\n"
     ]
    },
    {
     "name": "stderr",
     "output_type": "stream",
     "text": [
      "FactorBP/FactorGraph.py:399: DeprecationWarning: PyArray_FromDims: use PyArray_SimpleNew.\n  def GetDecode(self): return _FactorGraph.CFactorGraph_GetDecode(self)\nFactorBP/FactorGraph.py:399: DeprecationWarning: PyArray_FromDimsAndDataAndDescr: use PyArray_NewFromDescr.\n  def GetDecode(self): return _FactorGraph.CFactorGraph_GetDecode(self)\n"
     ]
    },
    {
     "name": "stderr",
     "output_type": "stream",
     "text": [
      "FactorBP/FactorGraph.py:399: DeprecationWarning: PyArray_FromDims: use PyArray_SimpleNew.\n  def GetDecode(self): return _FactorGraph.CFactorGraph_GetDecode(self)\nFactorBP/FactorGraph.py:399: DeprecationWarning: PyArray_FromDimsAndDataAndDescr: use PyArray_NewFromDescr.\n  def GetDecode(self): return _FactorGraph.CFactorGraph_GetDecode(self)\n"
     ]
    },
    {
     "name": "stderr",
     "output_type": "stream",
     "text": [
      "FactorBP/FactorGraph.py:399: DeprecationWarning: PyArray_FromDims: use PyArray_SimpleNew.\n  def GetDecode(self): return _FactorGraph.CFactorGraph_GetDecode(self)\nFactorBP/FactorGraph.py:399: DeprecationWarning: PyArray_FromDimsAndDataAndDescr: use PyArray_NewFromDescr.\n  def GetDecode(self): return _FactorGraph.CFactorGraph_GetDecode(self)\n"
     ]
    },
    {
     "name": "stderr",
     "output_type": "stream",
     "text": [
      "FactorBP/FactorGraph.py:399: DeprecationWarning: PyArray_FromDims: use PyArray_SimpleNew.\n  def GetDecode(self): return _FactorGraph.CFactorGraph_GetDecode(self)\nFactorBP/FactorGraph.py:399: DeprecationWarning: PyArray_FromDimsAndDataAndDescr: use PyArray_NewFromDescr.\n  def GetDecode(self): return _FactorGraph.CFactorGraph_GetDecode(self)\n"
     ]
    },
    {
     "name": "stderr",
     "output_type": "stream",
     "text": [
      "FactorBP/FactorGraph.py:399: DeprecationWarning: PyArray_FromDims: use PyArray_SimpleNew.\n  def GetDecode(self): return _FactorGraph.CFactorGraph_GetDecode(self)\nFactorBP/FactorGraph.py:399: DeprecationWarning: PyArray_FromDimsAndDataAndDescr: use PyArray_NewFromDescr.\n  def GetDecode(self): return _FactorGraph.CFactorGraph_GetDecode(self)\n"
     ]
    },
    {
     "name": "stderr",
     "output_type": "stream",
     "text": [
      "FactorBP/FactorGraph.py:399: DeprecationWarning: PyArray_FromDims: use PyArray_SimpleNew.\n  def GetDecode(self): return _FactorGraph.CFactorGraph_GetDecode(self)\nFactorBP/FactorGraph.py:399: DeprecationWarning: PyArray_FromDimsAndDataAndDescr: use PyArray_NewFromDescr.\n  def GetDecode(self): return _FactorGraph.CFactorGraph_GetDecode(self)\n"
     ]
    },
    {
     "name": "stderr",
     "output_type": "stream",
     "text": [
      "FactorBP/FactorGraph.py:399: DeprecationWarning: PyArray_FromDims: use PyArray_SimpleNew.\n  def GetDecode(self): return _FactorGraph.CFactorGraph_GetDecode(self)\nFactorBP/FactorGraph.py:399: DeprecationWarning: PyArray_FromDimsAndDataAndDescr: use PyArray_NewFromDescr.\n  def GetDecode(self): return _FactorGraph.CFactorGraph_GetDecode(self)\n"
     ]
    },
    {
     "name": "stderr",
     "output_type": "stream",
     "text": [
      "FactorBP/FactorGraph.py:399: DeprecationWarning: PyArray_FromDims: use PyArray_SimpleNew.\n  def GetDecode(self): return _FactorGraph.CFactorGraph_GetDecode(self)\nFactorBP/FactorGraph.py:399: DeprecationWarning: PyArray_FromDimsAndDataAndDescr: use PyArray_NewFromDescr.\n  def GetDecode(self): return _FactorGraph.CFactorGraph_GetDecode(self)\n"
     ]
    },
    {
     "name": "stderr",
     "output_type": "stream",
     "text": [
      "FactorBP/FactorGraph.py:399: DeprecationWarning: PyArray_FromDims: use PyArray_SimpleNew.\n  def GetDecode(self): return _FactorGraph.CFactorGraph_GetDecode(self)\nFactorBP/FactorGraph.py:399: DeprecationWarning: PyArray_FromDimsAndDataAndDescr: use PyArray_NewFromDescr.\n  def GetDecode(self): return _FactorGraph.CFactorGraph_GetDecode(self)\n"
     ]
    },
    {
     "name": "stderr",
     "output_type": "stream",
     "text": [
      "FactorBP/FactorGraph.py:399: DeprecationWarning: PyArray_FromDims: use PyArray_SimpleNew.\n  def GetDecode(self): return _FactorGraph.CFactorGraph_GetDecode(self)\nFactorBP/FactorGraph.py:399: DeprecationWarning: PyArray_FromDimsAndDataAndDescr: use PyArray_NewFromDescr.\n  def GetDecode(self): return _FactorGraph.CFactorGraph_GetDecode(self)\n"
     ]
    },
    {
     "name": "stderr",
     "output_type": "stream",
     "text": [
      "FactorBP/FactorGraph.py:399: DeprecationWarning: PyArray_FromDims: use PyArray_SimpleNew.\n  def GetDecode(self): return _FactorGraph.CFactorGraph_GetDecode(self)\nFactorBP/FactorGraph.py:399: DeprecationWarning: PyArray_FromDimsAndDataAndDescr: use PyArray_NewFromDescr.\n  def GetDecode(self): return _FactorGraph.CFactorGraph_GetDecode(self)\n"
     ]
    },
    {
     "name": "stderr",
     "output_type": "stream",
     "text": [
      "FactorBP/FactorGraph.py:399: DeprecationWarning: PyArray_FromDims: use PyArray_SimpleNew.\n  def GetDecode(self): return _FactorGraph.CFactorGraph_GetDecode(self)\nFactorBP/FactorGraph.py:399: DeprecationWarning: PyArray_FromDimsAndDataAndDescr: use PyArray_NewFromDescr.\n  def GetDecode(self): return _FactorGraph.CFactorGraph_GetDecode(self)\n"
     ]
    },
    {
     "name": "stderr",
     "output_type": "stream",
     "text": [
      "FactorBP/FactorGraph.py:399: DeprecationWarning: PyArray_FromDims: use PyArray_SimpleNew.\n  def GetDecode(self): return _FactorGraph.CFactorGraph_GetDecode(self)\nFactorBP/FactorGraph.py:399: DeprecationWarning: PyArray_FromDimsAndDataAndDescr: use PyArray_NewFromDescr.\n  def GetDecode(self): return _FactorGraph.CFactorGraph_GetDecode(self)\n"
     ]
    },
    {
     "name": "stderr",
     "output_type": "stream",
     "text": [
      "FactorBP/FactorGraph.py:399: DeprecationWarning: PyArray_FromDims: use PyArray_SimpleNew.\n  def GetDecode(self): return _FactorGraph.CFactorGraph_GetDecode(self)\nFactorBP/FactorGraph.py:399: DeprecationWarning: PyArray_FromDimsAndDataAndDescr: use PyArray_NewFromDescr.\n  def GetDecode(self): return _FactorGraph.CFactorGraph_GetDecode(self)\n"
     ]
    },
    {
     "name": "stderr",
     "output_type": "stream",
     "text": [
      "FactorBP/FactorGraph.py:399: DeprecationWarning: PyArray_FromDims: use PyArray_SimpleNew.\n  def GetDecode(self): return _FactorGraph.CFactorGraph_GetDecode(self)\nFactorBP/FactorGraph.py:399: DeprecationWarning: PyArray_FromDimsAndDataAndDescr: use PyArray_NewFromDescr.\n  def GetDecode(self): return _FactorGraph.CFactorGraph_GetDecode(self)\n"
     ]
    },
    {
     "name": "stderr",
     "output_type": "stream",
     "text": [
      "FactorBP/FactorGraph.py:399: DeprecationWarning: PyArray_FromDims: use PyArray_SimpleNew.\n  def GetDecode(self): return _FactorGraph.CFactorGraph_GetDecode(self)\nFactorBP/FactorGraph.py:399: DeprecationWarning: PyArray_FromDimsAndDataAndDescr: use PyArray_NewFromDescr.\n  def GetDecode(self): return _FactorGraph.CFactorGraph_GetDecode(self)\n"
     ]
    },
    {
     "name": "stderr",
     "output_type": "stream",
     "text": [
      "FactorBP/FactorGraph.py:399: DeprecationWarning: PyArray_FromDims: use PyArray_SimpleNew.\n  def GetDecode(self): return _FactorGraph.CFactorGraph_GetDecode(self)\nFactorBP/FactorGraph.py:399: DeprecationWarning: PyArray_FromDimsAndDataAndDescr: use PyArray_NewFromDescr.\n  def GetDecode(self): return _FactorGraph.CFactorGraph_GetDecode(self)\n"
     ]
    },
    {
     "name": "stderr",
     "output_type": "stream",
     "text": [
      "FactorBP/FactorGraph.py:399: DeprecationWarning: PyArray_FromDims: use PyArray_SimpleNew.\n  def GetDecode(self): return _FactorGraph.CFactorGraph_GetDecode(self)\nFactorBP/FactorGraph.py:399: DeprecationWarning: PyArray_FromDimsAndDataAndDescr: use PyArray_NewFromDescr.\n  def GetDecode(self): return _FactorGraph.CFactorGraph_GetDecode(self)\n"
     ]
    },
    {
     "name": "stderr",
     "output_type": "stream",
     "text": [
      "FactorBP/FactorGraph.py:399: DeprecationWarning: PyArray_FromDims: use PyArray_SimpleNew.\n  def GetDecode(self): return _FactorGraph.CFactorGraph_GetDecode(self)\nFactorBP/FactorGraph.py:399: DeprecationWarning: PyArray_FromDimsAndDataAndDescr: use PyArray_NewFromDescr.\n  def GetDecode(self): return _FactorGraph.CFactorGraph_GetDecode(self)\n"
     ]
    },
    {
     "name": "stderr",
     "output_type": "stream",
     "text": [
      "FactorBP/FactorGraph.py:399: DeprecationWarning: PyArray_FromDims: use PyArray_SimpleNew.\n  def GetDecode(self): return _FactorGraph.CFactorGraph_GetDecode(self)\nFactorBP/FactorGraph.py:399: DeprecationWarning: PyArray_FromDimsAndDataAndDescr: use PyArray_NewFromDescr.\n  def GetDecode(self): return _FactorGraph.CFactorGraph_GetDecode(self)\n"
     ]
    },
    {
     "name": "stderr",
     "output_type": "stream",
     "text": [
      "FactorBP/FactorGraph.py:399: DeprecationWarning: PyArray_FromDims: use PyArray_SimpleNew.\n  def GetDecode(self): return _FactorGraph.CFactorGraph_GetDecode(self)\nFactorBP/FactorGraph.py:399: DeprecationWarning: PyArray_FromDimsAndDataAndDescr: use PyArray_NewFromDescr.\n  def GetDecode(self): return _FactorGraph.CFactorGraph_GetDecode(self)\n"
     ]
    },
    {
     "name": "stderr",
     "output_type": "stream",
     "text": [
      "FactorBP/FactorGraph.py:399: DeprecationWarning: PyArray_FromDims: use PyArray_SimpleNew.\n  def GetDecode(self): return _FactorGraph.CFactorGraph_GetDecode(self)\nFactorBP/FactorGraph.py:399: DeprecationWarning: PyArray_FromDimsAndDataAndDescr: use PyArray_NewFromDescr.\n  def GetDecode(self): return _FactorGraph.CFactorGraph_GetDecode(self)\n"
     ]
    },
    {
     "name": "stderr",
     "output_type": "stream",
     "text": [
      "FactorBP/FactorGraph.py:399: DeprecationWarning: PyArray_FromDims: use PyArray_SimpleNew.\n  def GetDecode(self): return _FactorGraph.CFactorGraph_GetDecode(self)\nFactorBP/FactorGraph.py:399: DeprecationWarning: PyArray_FromDimsAndDataAndDescr: use PyArray_NewFromDescr.\n  def GetDecode(self): return _FactorGraph.CFactorGraph_GetDecode(self)\n"
     ]
    },
    {
     "name": "stderr",
     "output_type": "stream",
     "text": [
      "FactorBP/FactorGraph.py:399: DeprecationWarning: PyArray_FromDims: use PyArray_SimpleNew.\n  def GetDecode(self): return _FactorGraph.CFactorGraph_GetDecode(self)\nFactorBP/FactorGraph.py:399: DeprecationWarning: PyArray_FromDimsAndDataAndDescr: use PyArray_NewFromDescr.\n  def GetDecode(self): return _FactorGraph.CFactorGraph_GetDecode(self)\n"
     ]
    },
    {
     "name": "stderr",
     "output_type": "stream",
     "text": [
      "FactorBP/FactorGraph.py:399: DeprecationWarning: PyArray_FromDims: use PyArray_SimpleNew.\n  def GetDecode(self): return _FactorGraph.CFactorGraph_GetDecode(self)\nFactorBP/FactorGraph.py:399: DeprecationWarning: PyArray_FromDimsAndDataAndDescr: use PyArray_NewFromDescr.\n  def GetDecode(self): return _FactorGraph.CFactorGraph_GetDecode(self)\n"
     ]
    },
    {
     "name": "stderr",
     "output_type": "stream",
     "text": [
      "FactorBP/FactorGraph.py:399: DeprecationWarning: PyArray_FromDims: use PyArray_SimpleNew.\n  def GetDecode(self): return _FactorGraph.CFactorGraph_GetDecode(self)\nFactorBP/FactorGraph.py:399: DeprecationWarning: PyArray_FromDimsAndDataAndDescr: use PyArray_NewFromDescr.\n  def GetDecode(self): return _FactorGraph.CFactorGraph_GetDecode(self)\n"
     ]
    },
    {
     "name": "stderr",
     "output_type": "stream",
     "text": [
      "FactorBP/FactorGraph.py:399: DeprecationWarning: PyArray_FromDims: use PyArray_SimpleNew.\n  def GetDecode(self): return _FactorGraph.CFactorGraph_GetDecode(self)\nFactorBP/FactorGraph.py:399: DeprecationWarning: PyArray_FromDimsAndDataAndDescr: use PyArray_NewFromDescr.\n  def GetDecode(self): return _FactorGraph.CFactorGraph_GetDecode(self)\n"
     ]
    },
    {
     "name": "stderr",
     "output_type": "stream",
     "text": [
      "FactorBP/FactorGraph.py:399: DeprecationWarning: PyArray_FromDims: use PyArray_SimpleNew.\n  def GetDecode(self): return _FactorGraph.CFactorGraph_GetDecode(self)\nFactorBP/FactorGraph.py:399: DeprecationWarning: PyArray_FromDimsAndDataAndDescr: use PyArray_NewFromDescr.\n  def GetDecode(self): return _FactorGraph.CFactorGraph_GetDecode(self)\n"
     ]
    },
    {
     "name": "stderr",
     "output_type": "stream",
     "text": [
      "FactorBP/FactorGraph.py:399: DeprecationWarning: PyArray_FromDims: use PyArray_SimpleNew.\n  def GetDecode(self): return _FactorGraph.CFactorGraph_GetDecode(self)\nFactorBP/FactorGraph.py:399: DeprecationWarning: PyArray_FromDimsAndDataAndDescr: use PyArray_NewFromDescr.\n  def GetDecode(self): return _FactorGraph.CFactorGraph_GetDecode(self)\n"
     ]
    },
    {
     "name": "stderr",
     "output_type": "stream",
     "text": [
      "FactorBP/FactorGraph.py:399: DeprecationWarning: PyArray_FromDims: use PyArray_SimpleNew.\n  def GetDecode(self): return _FactorGraph.CFactorGraph_GetDecode(self)\nFactorBP/FactorGraph.py:399: DeprecationWarning: PyArray_FromDimsAndDataAndDescr: use PyArray_NewFromDescr.\n  def GetDecode(self): return _FactorGraph.CFactorGraph_GetDecode(self)\n"
     ]
    },
    {
     "name": "stderr",
     "output_type": "stream",
     "text": [
      "FactorBP/FactorGraph.py:399: DeprecationWarning: PyArray_FromDims: use PyArray_SimpleNew.\n  def GetDecode(self): return _FactorGraph.CFactorGraph_GetDecode(self)\nFactorBP/FactorGraph.py:399: DeprecationWarning: PyArray_FromDimsAndDataAndDescr: use PyArray_NewFromDescr.\n  def GetDecode(self): return _FactorGraph.CFactorGraph_GetDecode(self)\n"
     ]
    },
    {
     "name": "stderr",
     "output_type": "stream",
     "text": [
      "FactorBP/FactorGraph.py:399: DeprecationWarning: PyArray_FromDims: use PyArray_SimpleNew.\n  def GetDecode(self): return _FactorGraph.CFactorGraph_GetDecode(self)\nFactorBP/FactorGraph.py:399: DeprecationWarning: PyArray_FromDimsAndDataAndDescr: use PyArray_NewFromDescr.\n  def GetDecode(self): return _FactorGraph.CFactorGraph_GetDecode(self)\n"
     ]
    },
    {
     "name": "stderr",
     "output_type": "stream",
     "text": [
      "FactorBP/FactorGraph.py:399: DeprecationWarning: PyArray_FromDims: use PyArray_SimpleNew.\n  def GetDecode(self): return _FactorGraph.CFactorGraph_GetDecode(self)\nFactorBP/FactorGraph.py:399: DeprecationWarning: PyArray_FromDimsAndDataAndDescr: use PyArray_NewFromDescr.\n  def GetDecode(self): return _FactorGraph.CFactorGraph_GetDecode(self)\n"
     ]
    },
    {
     "name": "stdout",
     "output_type": "stream",
     "text": [
      "IPFP Accuracy 0.664052 Running Time 0.011264 Obj 0.747931\nOurs-PW Accuracy 1.000000 Running Time 0.101320 Obj 1.000000\nFGM Accuracy 0.890196 Running Time 0.039566 Obj 0.910692\nRRWM Accuracy 0.994771 Running Time 0.025674 Obj 0.998127\nSM Accuracy 0.890196 Running Time 0.037243 Obj 0.910692\n××××××××××××××××××××\n Start baseline: 70\n"
     ]
    },
    {
     "name": "stderr",
     "output_type": "stream",
     "text": [
      "FactorBP/FactorGraph.py:399: DeprecationWarning: PyArray_FromDims: use PyArray_SimpleNew.\n  def GetDecode(self): return _FactorGraph.CFactorGraph_GetDecode(self)\nFactorBP/FactorGraph.py:399: DeprecationWarning: PyArray_FromDimsAndDataAndDescr: use PyArray_NewFromDescr.\n  def GetDecode(self): return _FactorGraph.CFactorGraph_GetDecode(self)\nFactorBP/FactorGraph.py:399: DeprecationWarning: PyArray_FromDims: use PyArray_SimpleNew.\n  def GetDecode(self): return _FactorGraph.CFactorGraph_GetDecode(self)\nFactorBP/FactorGraph.py:399: DeprecationWarning: PyArray_FromDimsAndDataAndDescr: use PyArray_NewFromDescr.\n  def GetDecode(self): return _FactorGraph.CFactorGraph_GetDecode(self)\n"
     ]
    },
    {
     "name": "stderr",
     "output_type": "stream",
     "text": [
      "FactorBP/FactorGraph.py:399: DeprecationWarning: PyArray_FromDims: use PyArray_SimpleNew.\n  def GetDecode(self): return _FactorGraph.CFactorGraph_GetDecode(self)\nFactorBP/FactorGraph.py:399: DeprecationWarning: PyArray_FromDimsAndDataAndDescr: use PyArray_NewFromDescr.\n  def GetDecode(self): return _FactorGraph.CFactorGraph_GetDecode(self)\n"
     ]
    },
    {
     "name": "stderr",
     "output_type": "stream",
     "text": [
      "FactorBP/FactorGraph.py:399: DeprecationWarning: PyArray_FromDims: use PyArray_SimpleNew.\n  def GetDecode(self): return _FactorGraph.CFactorGraph_GetDecode(self)\nFactorBP/FactorGraph.py:399: DeprecationWarning: PyArray_FromDimsAndDataAndDescr: use PyArray_NewFromDescr.\n  def GetDecode(self): return _FactorGraph.CFactorGraph_GetDecode(self)\n"
     ]
    },
    {
     "name": "stderr",
     "output_type": "stream",
     "text": [
      "FactorBP/FactorGraph.py:399: DeprecationWarning: PyArray_FromDims: use PyArray_SimpleNew.\n  def GetDecode(self): return _FactorGraph.CFactorGraph_GetDecode(self)\nFactorBP/FactorGraph.py:399: DeprecationWarning: PyArray_FromDimsAndDataAndDescr: use PyArray_NewFromDescr.\n  def GetDecode(self): return _FactorGraph.CFactorGraph_GetDecode(self)\n"
     ]
    },
    {
     "name": "stderr",
     "output_type": "stream",
     "text": [
      "FactorBP/FactorGraph.py:399: DeprecationWarning: PyArray_FromDims: use PyArray_SimpleNew.\n  def GetDecode(self): return _FactorGraph.CFactorGraph_GetDecode(self)\nFactorBP/FactorGraph.py:399: DeprecationWarning: PyArray_FromDimsAndDataAndDescr: use PyArray_NewFromDescr.\n  def GetDecode(self): return _FactorGraph.CFactorGraph_GetDecode(self)\n"
     ]
    },
    {
     "name": "stderr",
     "output_type": "stream",
     "text": [
      "FactorBP/FactorGraph.py:399: DeprecationWarning: PyArray_FromDims: use PyArray_SimpleNew.\n  def GetDecode(self): return _FactorGraph.CFactorGraph_GetDecode(self)\nFactorBP/FactorGraph.py:399: DeprecationWarning: PyArray_FromDimsAndDataAndDescr: use PyArray_NewFromDescr.\n  def GetDecode(self): return _FactorGraph.CFactorGraph_GetDecode(self)\n"
     ]
    },
    {
     "name": "stderr",
     "output_type": "stream",
     "text": [
      "FactorBP/FactorGraph.py:399: DeprecationWarning: PyArray_FromDims: use PyArray_SimpleNew.\n  def GetDecode(self): return _FactorGraph.CFactorGraph_GetDecode(self)\nFactorBP/FactorGraph.py:399: DeprecationWarning: PyArray_FromDimsAndDataAndDescr: use PyArray_NewFromDescr.\n  def GetDecode(self): return _FactorGraph.CFactorGraph_GetDecode(self)\n"
     ]
    },
    {
     "name": "stderr",
     "output_type": "stream",
     "text": [
      "FactorBP/FactorGraph.py:399: DeprecationWarning: PyArray_FromDims: use PyArray_SimpleNew.\n  def GetDecode(self): return _FactorGraph.CFactorGraph_GetDecode(self)\nFactorBP/FactorGraph.py:399: DeprecationWarning: PyArray_FromDimsAndDataAndDescr: use PyArray_NewFromDescr.\n  def GetDecode(self): return _FactorGraph.CFactorGraph_GetDecode(self)\n"
     ]
    },
    {
     "name": "stderr",
     "output_type": "stream",
     "text": [
      "FactorBP/FactorGraph.py:399: DeprecationWarning: PyArray_FromDims: use PyArray_SimpleNew.\n  def GetDecode(self): return _FactorGraph.CFactorGraph_GetDecode(self)\nFactorBP/FactorGraph.py:399: DeprecationWarning: PyArray_FromDimsAndDataAndDescr: use PyArray_NewFromDescr.\n  def GetDecode(self): return _FactorGraph.CFactorGraph_GetDecode(self)\n"
     ]
    },
    {
     "name": "stderr",
     "output_type": "stream",
     "text": [
      "FactorBP/FactorGraph.py:399: DeprecationWarning: PyArray_FromDims: use PyArray_SimpleNew.\n  def GetDecode(self): return _FactorGraph.CFactorGraph_GetDecode(self)\nFactorBP/FactorGraph.py:399: DeprecationWarning: PyArray_FromDimsAndDataAndDescr: use PyArray_NewFromDescr.\n  def GetDecode(self): return _FactorGraph.CFactorGraph_GetDecode(self)\n"
     ]
    },
    {
     "name": "stderr",
     "output_type": "stream",
     "text": [
      "FactorBP/FactorGraph.py:399: DeprecationWarning: PyArray_FromDims: use PyArray_SimpleNew.\n  def GetDecode(self): return _FactorGraph.CFactorGraph_GetDecode(self)\nFactorBP/FactorGraph.py:399: DeprecationWarning: PyArray_FromDimsAndDataAndDescr: use PyArray_NewFromDescr.\n  def GetDecode(self): return _FactorGraph.CFactorGraph_GetDecode(self)\n"
     ]
    },
    {
     "name": "stderr",
     "output_type": "stream",
     "text": [
      "FactorBP/FactorGraph.py:399: DeprecationWarning: PyArray_FromDims: use PyArray_SimpleNew.\n  def GetDecode(self): return _FactorGraph.CFactorGraph_GetDecode(self)\nFactorBP/FactorGraph.py:399: DeprecationWarning: PyArray_FromDimsAndDataAndDescr: use PyArray_NewFromDescr.\n  def GetDecode(self): return _FactorGraph.CFactorGraph_GetDecode(self)\n"
     ]
    },
    {
     "name": "stderr",
     "output_type": "stream",
     "text": [
      "FactorBP/FactorGraph.py:399: DeprecationWarning: PyArray_FromDims: use PyArray_SimpleNew.\n  def GetDecode(self): return _FactorGraph.CFactorGraph_GetDecode(self)\nFactorBP/FactorGraph.py:399: DeprecationWarning: PyArray_FromDimsAndDataAndDescr: use PyArray_NewFromDescr.\n  def GetDecode(self): return _FactorGraph.CFactorGraph_GetDecode(self)\n"
     ]
    },
    {
     "name": "stderr",
     "output_type": "stream",
     "text": [
      "FactorBP/FactorGraph.py:399: DeprecationWarning: PyArray_FromDims: use PyArray_SimpleNew.\n  def GetDecode(self): return _FactorGraph.CFactorGraph_GetDecode(self)\nFactorBP/FactorGraph.py:399: DeprecationWarning: PyArray_FromDimsAndDataAndDescr: use PyArray_NewFromDescr.\n  def GetDecode(self): return _FactorGraph.CFactorGraph_GetDecode(self)\n"
     ]
    },
    {
     "name": "stderr",
     "output_type": "stream",
     "text": [
      "FactorBP/FactorGraph.py:399: DeprecationWarning: PyArray_FromDims: use PyArray_SimpleNew.\n  def GetDecode(self): return _FactorGraph.CFactorGraph_GetDecode(self)\nFactorBP/FactorGraph.py:399: DeprecationWarning: PyArray_FromDimsAndDataAndDescr: use PyArray_NewFromDescr.\n  def GetDecode(self): return _FactorGraph.CFactorGraph_GetDecode(self)\n"
     ]
    },
    {
     "name": "stderr",
     "output_type": "stream",
     "text": [
      "FactorBP/FactorGraph.py:399: DeprecationWarning: PyArray_FromDims: use PyArray_SimpleNew.\n  def GetDecode(self): return _FactorGraph.CFactorGraph_GetDecode(self)\nFactorBP/FactorGraph.py:399: DeprecationWarning: PyArray_FromDimsAndDataAndDescr: use PyArray_NewFromDescr.\n  def GetDecode(self): return _FactorGraph.CFactorGraph_GetDecode(self)\n"
     ]
    },
    {
     "name": "stderr",
     "output_type": "stream",
     "text": [
      "FactorBP/FactorGraph.py:399: DeprecationWarning: PyArray_FromDims: use PyArray_SimpleNew.\n  def GetDecode(self): return _FactorGraph.CFactorGraph_GetDecode(self)\nFactorBP/FactorGraph.py:399: DeprecationWarning: PyArray_FromDimsAndDataAndDescr: use PyArray_NewFromDescr.\n  def GetDecode(self): return _FactorGraph.CFactorGraph_GetDecode(self)\n"
     ]
    },
    {
     "name": "stderr",
     "output_type": "stream",
     "text": [
      "FactorBP/FactorGraph.py:399: DeprecationWarning: PyArray_FromDims: use PyArray_SimpleNew.\n  def GetDecode(self): return _FactorGraph.CFactorGraph_GetDecode(self)\nFactorBP/FactorGraph.py:399: DeprecationWarning: PyArray_FromDimsAndDataAndDescr: use PyArray_NewFromDescr.\n  def GetDecode(self): return _FactorGraph.CFactorGraph_GetDecode(self)\n"
     ]
    },
    {
     "name": "stderr",
     "output_type": "stream",
     "text": [
      "FactorBP/FactorGraph.py:399: DeprecationWarning: PyArray_FromDims: use PyArray_SimpleNew.\n  def GetDecode(self): return _FactorGraph.CFactorGraph_GetDecode(self)\nFactorBP/FactorGraph.py:399: DeprecationWarning: PyArray_FromDimsAndDataAndDescr: use PyArray_NewFromDescr.\n  def GetDecode(self): return _FactorGraph.CFactorGraph_GetDecode(self)\n"
     ]
    },
    {
     "name": "stderr",
     "output_type": "stream",
     "text": [
      "FactorBP/FactorGraph.py:399: DeprecationWarning: PyArray_FromDims: use PyArray_SimpleNew.\n  def GetDecode(self): return _FactorGraph.CFactorGraph_GetDecode(self)\nFactorBP/FactorGraph.py:399: DeprecationWarning: PyArray_FromDimsAndDataAndDescr: use PyArray_NewFromDescr.\n  def GetDecode(self): return _FactorGraph.CFactorGraph_GetDecode(self)\nFactorBP/FactorGraph.py:399: DeprecationWarning: PyArray_FromDims: use PyArray_SimpleNew.\n  def GetDecode(self): return _FactorGraph.CFactorGraph_GetDecode(self)\nFactorBP/FactorGraph.py:399: DeprecationWarning: PyArray_FromDimsAndDataAndDescr: use PyArray_NewFromDescr.\n  def GetDecode(self): return _FactorGraph.CFactorGraph_GetDecode(self)\n"
     ]
    },
    {
     "name": "stderr",
     "output_type": "stream",
     "text": [
      "FactorBP/FactorGraph.py:399: DeprecationWarning: PyArray_FromDims: use PyArray_SimpleNew.\n  def GetDecode(self): return _FactorGraph.CFactorGraph_GetDecode(self)\nFactorBP/FactorGraph.py:399: DeprecationWarning: PyArray_FromDimsAndDataAndDescr: use PyArray_NewFromDescr.\n  def GetDecode(self): return _FactorGraph.CFactorGraph_GetDecode(self)\n"
     ]
    },
    {
     "name": "stderr",
     "output_type": "stream",
     "text": [
      "FactorBP/FactorGraph.py:399: DeprecationWarning: PyArray_FromDims: use PyArray_SimpleNew.\n  def GetDecode(self): return _FactorGraph.CFactorGraph_GetDecode(self)\nFactorBP/FactorGraph.py:399: DeprecationWarning: PyArray_FromDimsAndDataAndDescr: use PyArray_NewFromDescr.\n  def GetDecode(self): return _FactorGraph.CFactorGraph_GetDecode(self)\n"
     ]
    },
    {
     "name": "stderr",
     "output_type": "stream",
     "text": [
      "FactorBP/FactorGraph.py:399: DeprecationWarning: PyArray_FromDims: use PyArray_SimpleNew.\n  def GetDecode(self): return _FactorGraph.CFactorGraph_GetDecode(self)\nFactorBP/FactorGraph.py:399: DeprecationWarning: PyArray_FromDimsAndDataAndDescr: use PyArray_NewFromDescr.\n  def GetDecode(self): return _FactorGraph.CFactorGraph_GetDecode(self)\n"
     ]
    },
    {
     "name": "stderr",
     "output_type": "stream",
     "text": [
      "FactorBP/FactorGraph.py:399: DeprecationWarning: PyArray_FromDims: use PyArray_SimpleNew.\n  def GetDecode(self): return _FactorGraph.CFactorGraph_GetDecode(self)\nFactorBP/FactorGraph.py:399: DeprecationWarning: PyArray_FromDimsAndDataAndDescr: use PyArray_NewFromDescr.\n  def GetDecode(self): return _FactorGraph.CFactorGraph_GetDecode(self)\n"
     ]
    },
    {
     "name": "stderr",
     "output_type": "stream",
     "text": [
      "FactorBP/FactorGraph.py:399: DeprecationWarning: PyArray_FromDims: use PyArray_SimpleNew.\n  def GetDecode(self): return _FactorGraph.CFactorGraph_GetDecode(self)\nFactorBP/FactorGraph.py:399: DeprecationWarning: PyArray_FromDimsAndDataAndDescr: use PyArray_NewFromDescr.\n  def GetDecode(self): return _FactorGraph.CFactorGraph_GetDecode(self)\n"
     ]
    },
    {
     "name": "stderr",
     "output_type": "stream",
     "text": [
      "FactorBP/FactorGraph.py:399: DeprecationWarning: PyArray_FromDims: use PyArray_SimpleNew.\n  def GetDecode(self): return _FactorGraph.CFactorGraph_GetDecode(self)\nFactorBP/FactorGraph.py:399: DeprecationWarning: PyArray_FromDimsAndDataAndDescr: use PyArray_NewFromDescr.\n  def GetDecode(self): return _FactorGraph.CFactorGraph_GetDecode(self)\n"
     ]
    },
    {
     "name": "stderr",
     "output_type": "stream",
     "text": [
      "FactorBP/FactorGraph.py:399: DeprecationWarning: PyArray_FromDims: use PyArray_SimpleNew.\n  def GetDecode(self): return _FactorGraph.CFactorGraph_GetDecode(self)\nFactorBP/FactorGraph.py:399: DeprecationWarning: PyArray_FromDimsAndDataAndDescr: use PyArray_NewFromDescr.\n  def GetDecode(self): return _FactorGraph.CFactorGraph_GetDecode(self)\nFactorBP/FactorGraph.py:399: DeprecationWarning: PyArray_FromDims: use PyArray_SimpleNew.\n  def GetDecode(self): return _FactorGraph.CFactorGraph_GetDecode(self)\nFactorBP/FactorGraph.py:399: DeprecationWarning: PyArray_FromDimsAndDataAndDescr: use PyArray_NewFromDescr.\n  def GetDecode(self): return _FactorGraph.CFactorGraph_GetDecode(self)\n"
     ]
    },
    {
     "name": "stderr",
     "output_type": "stream",
     "text": [
      "FactorBP/FactorGraph.py:399: DeprecationWarning: PyArray_FromDims: use PyArray_SimpleNew.\n  def GetDecode(self): return _FactorGraph.CFactorGraph_GetDecode(self)\nFactorBP/FactorGraph.py:399: DeprecationWarning: PyArray_FromDimsAndDataAndDescr: use PyArray_NewFromDescr.\n  def GetDecode(self): return _FactorGraph.CFactorGraph_GetDecode(self)\n"
     ]
    },
    {
     "name": "stderr",
     "output_type": "stream",
     "text": [
      "FactorBP/FactorGraph.py:399: DeprecationWarning: PyArray_FromDims: use PyArray_SimpleNew.\n  def GetDecode(self): return _FactorGraph.CFactorGraph_GetDecode(self)\nFactorBP/FactorGraph.py:399: DeprecationWarning: PyArray_FromDimsAndDataAndDescr: use PyArray_NewFromDescr.\n  def GetDecode(self): return _FactorGraph.CFactorGraph_GetDecode(self)\n"
     ]
    },
    {
     "name": "stderr",
     "output_type": "stream",
     "text": [
      "FactorBP/FactorGraph.py:399: DeprecationWarning: PyArray_FromDims: use PyArray_SimpleNew.\n  def GetDecode(self): return _FactorGraph.CFactorGraph_GetDecode(self)\nFactorBP/FactorGraph.py:399: DeprecationWarning: PyArray_FromDimsAndDataAndDescr: use PyArray_NewFromDescr.\n  def GetDecode(self): return _FactorGraph.CFactorGraph_GetDecode(self)\n"
     ]
    },
    {
     "name": "stderr",
     "output_type": "stream",
     "text": [
      "FactorBP/FactorGraph.py:399: DeprecationWarning: PyArray_FromDims: use PyArray_SimpleNew.\n  def GetDecode(self): return _FactorGraph.CFactorGraph_GetDecode(self)\nFactorBP/FactorGraph.py:399: DeprecationWarning: PyArray_FromDimsAndDataAndDescr: use PyArray_NewFromDescr.\n  def GetDecode(self): return _FactorGraph.CFactorGraph_GetDecode(self)\n"
     ]
    },
    {
     "name": "stderr",
     "output_type": "stream",
     "text": [
      "FactorBP/FactorGraph.py:399: DeprecationWarning: PyArray_FromDims: use PyArray_SimpleNew.\n  def GetDecode(self): return _FactorGraph.CFactorGraph_GetDecode(self)\nFactorBP/FactorGraph.py:399: DeprecationWarning: PyArray_FromDimsAndDataAndDescr: use PyArray_NewFromDescr.\n  def GetDecode(self): return _FactorGraph.CFactorGraph_GetDecode(self)\n"
     ]
    },
    {
     "name": "stderr",
     "output_type": "stream",
     "text": [
      "FactorBP/FactorGraph.py:399: DeprecationWarning: PyArray_FromDims: use PyArray_SimpleNew.\n  def GetDecode(self): return _FactorGraph.CFactorGraph_GetDecode(self)\nFactorBP/FactorGraph.py:399: DeprecationWarning: PyArray_FromDimsAndDataAndDescr: use PyArray_NewFromDescr.\n  def GetDecode(self): return _FactorGraph.CFactorGraph_GetDecode(self)\n"
     ]
    },
    {
     "name": "stderr",
     "output_type": "stream",
     "text": [
      "FactorBP/FactorGraph.py:399: DeprecationWarning: PyArray_FromDims: use PyArray_SimpleNew.\n  def GetDecode(self): return _FactorGraph.CFactorGraph_GetDecode(self)\nFactorBP/FactorGraph.py:399: DeprecationWarning: PyArray_FromDimsAndDataAndDescr: use PyArray_NewFromDescr.\n  def GetDecode(self): return _FactorGraph.CFactorGraph_GetDecode(self)\n"
     ]
    },
    {
     "name": "stderr",
     "output_type": "stream",
     "text": [
      "FactorBP/FactorGraph.py:399: DeprecationWarning: PyArray_FromDims: use PyArray_SimpleNew.\n  def GetDecode(self): return _FactorGraph.CFactorGraph_GetDecode(self)\nFactorBP/FactorGraph.py:399: DeprecationWarning: PyArray_FromDimsAndDataAndDescr: use PyArray_NewFromDescr.\n  def GetDecode(self): return _FactorGraph.CFactorGraph_GetDecode(self)\n"
     ]
    },
    {
     "name": "stderr",
     "output_type": "stream",
     "text": [
      "FactorBP/FactorGraph.py:399: DeprecationWarning: PyArray_FromDims: use PyArray_SimpleNew.\n  def GetDecode(self): return _FactorGraph.CFactorGraph_GetDecode(self)\nFactorBP/FactorGraph.py:399: DeprecationWarning: PyArray_FromDimsAndDataAndDescr: use PyArray_NewFromDescr.\n  def GetDecode(self): return _FactorGraph.CFactorGraph_GetDecode(self)\nFactorBP/FactorGraph.py:399: DeprecationWarning: PyArray_FromDims: use PyArray_SimpleNew.\n  def GetDecode(self): return _FactorGraph.CFactorGraph_GetDecode(self)\nFactorBP/FactorGraph.py:399: DeprecationWarning: PyArray_FromDimsAndDataAndDescr: use PyArray_NewFromDescr.\n  def GetDecode(self): return _FactorGraph.CFactorGraph_GetDecode(self)\n"
     ]
    },
    {
     "name": "stderr",
     "output_type": "stream",
     "text": [
      "FactorBP/FactorGraph.py:399: DeprecationWarning: PyArray_FromDims: use PyArray_SimpleNew.\n  def GetDecode(self): return _FactorGraph.CFactorGraph_GetDecode(self)\nFactorBP/FactorGraph.py:399: DeprecationWarning: PyArray_FromDimsAndDataAndDescr: use PyArray_NewFromDescr.\n  def GetDecode(self): return _FactorGraph.CFactorGraph_GetDecode(self)\n"
     ]
    },
    {
     "name": "stderr",
     "output_type": "stream",
     "text": [
      "FactorBP/FactorGraph.py:399: DeprecationWarning: PyArray_FromDims: use PyArray_SimpleNew.\n  def GetDecode(self): return _FactorGraph.CFactorGraph_GetDecode(self)\nFactorBP/FactorGraph.py:399: DeprecationWarning: PyArray_FromDimsAndDataAndDescr: use PyArray_NewFromDescr.\n  def GetDecode(self): return _FactorGraph.CFactorGraph_GetDecode(self)\n"
     ]
    },
    {
     "name": "stderr",
     "output_type": "stream",
     "text": [
      "FactorBP/FactorGraph.py:399: DeprecationWarning: PyArray_FromDims: use PyArray_SimpleNew.\n  def GetDecode(self): return _FactorGraph.CFactorGraph_GetDecode(self)\nFactorBP/FactorGraph.py:399: DeprecationWarning: PyArray_FromDimsAndDataAndDescr: use PyArray_NewFromDescr.\n  def GetDecode(self): return _FactorGraph.CFactorGraph_GetDecode(self)\n"
     ]
    },
    {
     "name": "stderr",
     "output_type": "stream",
     "text": [
      "FactorBP/FactorGraph.py:399: DeprecationWarning: PyArray_FromDims: use PyArray_SimpleNew.\n  def GetDecode(self): return _FactorGraph.CFactorGraph_GetDecode(self)\nFactorBP/FactorGraph.py:399: DeprecationWarning: PyArray_FromDimsAndDataAndDescr: use PyArray_NewFromDescr.\n  def GetDecode(self): return _FactorGraph.CFactorGraph_GetDecode(self)\n"
     ]
    },
    {
     "name": "stderr",
     "output_type": "stream",
     "text": [
      "FactorBP/FactorGraph.py:399: DeprecationWarning: PyArray_FromDims: use PyArray_SimpleNew.\n  def GetDecode(self): return _FactorGraph.CFactorGraph_GetDecode(self)\nFactorBP/FactorGraph.py:399: DeprecationWarning: PyArray_FromDimsAndDataAndDescr: use PyArray_NewFromDescr.\n  def GetDecode(self): return _FactorGraph.CFactorGraph_GetDecode(self)\nFactorBP/FactorGraph.py:399: DeprecationWarning: PyArray_FromDims: use PyArray_SimpleNew.\n  def GetDecode(self): return _FactorGraph.CFactorGraph_GetDecode(self)\nFactorBP/FactorGraph.py:399: DeprecationWarning: PyArray_FromDimsAndDataAndDescr: use PyArray_NewFromDescr.\n  def GetDecode(self): return _FactorGraph.CFactorGraph_GetDecode(self)\nFactorBP/FactorGraph.py:399: DeprecationWarning: PyArray_FromDims: use PyArray_SimpleNew.\n  def GetDecode(self): return _FactorGraph.CFactorGraph_GetDecode(self)\nFactorBP/FactorGraph.py:399: DeprecationWarning: PyArray_FromDimsAndDataAndDescr: use PyArray_NewFromDescr.\n  def GetDecode(self): return _FactorGraph.CFactorGraph_GetDecode(self)\n"
     ]
    },
    {
     "name": "stdout",
     "output_type": "stream",
     "text": [
      "IPFP Accuracy 0.589431 Running Time 0.011414 Obj 0.694688\nOurs-PW Accuracy 1.000000 Running Time 0.157382 Obj 1.000000\nFGM Accuracy 0.826016 Running Time 0.038999 Obj 0.846987\nRRWM Accuracy 0.998374 Running Time 0.027015 Obj 0.999580\nSM Accuracy 0.826016 Running Time 0.037768 Obj 0.846987\n××××××××××××××××××××\n Start baseline: 80\n"
     ]
    },
    {
     "name": "stderr",
     "output_type": "stream",
     "text": [
      "FactorBP/FactorGraph.py:399: DeprecationWarning: PyArray_FromDims: use PyArray_SimpleNew.\n  def GetDecode(self): return _FactorGraph.CFactorGraph_GetDecode(self)\nFactorBP/FactorGraph.py:399: DeprecationWarning: PyArray_FromDimsAndDataAndDescr: use PyArray_NewFromDescr.\n  def GetDecode(self): return _FactorGraph.CFactorGraph_GetDecode(self)\n"
     ]
    },
    {
     "name": "stderr",
     "output_type": "stream",
     "text": [
      "FactorBP/FactorGraph.py:399: DeprecationWarning: PyArray_FromDims: use PyArray_SimpleNew.\n  def GetDecode(self): return _FactorGraph.CFactorGraph_GetDecode(self)\nFactorBP/FactorGraph.py:399: DeprecationWarning: PyArray_FromDimsAndDataAndDescr: use PyArray_NewFromDescr.\n  def GetDecode(self): return _FactorGraph.CFactorGraph_GetDecode(self)\n"
     ]
    },
    {
     "name": "stderr",
     "output_type": "stream",
     "text": [
      "FactorBP/FactorGraph.py:399: DeprecationWarning: PyArray_FromDims: use PyArray_SimpleNew.\n  def GetDecode(self): return _FactorGraph.CFactorGraph_GetDecode(self)\nFactorBP/FactorGraph.py:399: DeprecationWarning: PyArray_FromDimsAndDataAndDescr: use PyArray_NewFromDescr.\n  def GetDecode(self): return _FactorGraph.CFactorGraph_GetDecode(self)\n"
     ]
    },
    {
     "name": "stderr",
     "output_type": "stream",
     "text": [
      "FactorBP/FactorGraph.py:399: DeprecationWarning: PyArray_FromDims: use PyArray_SimpleNew.\n  def GetDecode(self): return _FactorGraph.CFactorGraph_GetDecode(self)\nFactorBP/FactorGraph.py:399: DeprecationWarning: PyArray_FromDimsAndDataAndDescr: use PyArray_NewFromDescr.\n  def GetDecode(self): return _FactorGraph.CFactorGraph_GetDecode(self)\n"
     ]
    },
    {
     "name": "stderr",
     "output_type": "stream",
     "text": [
      "FactorBP/FactorGraph.py:399: DeprecationWarning: PyArray_FromDims: use PyArray_SimpleNew.\n  def GetDecode(self): return _FactorGraph.CFactorGraph_GetDecode(self)\nFactorBP/FactorGraph.py:399: DeprecationWarning: PyArray_FromDimsAndDataAndDescr: use PyArray_NewFromDescr.\n  def GetDecode(self): return _FactorGraph.CFactorGraph_GetDecode(self)\n"
     ]
    },
    {
     "name": "stderr",
     "output_type": "stream",
     "text": [
      "FactorBP/FactorGraph.py:399: DeprecationWarning: PyArray_FromDims: use PyArray_SimpleNew.\n  def GetDecode(self): return _FactorGraph.CFactorGraph_GetDecode(self)\nFactorBP/FactorGraph.py:399: DeprecationWarning: PyArray_FromDimsAndDataAndDescr: use PyArray_NewFromDescr.\n  def GetDecode(self): return _FactorGraph.CFactorGraph_GetDecode(self)\n"
     ]
    },
    {
     "name": "stderr",
     "output_type": "stream",
     "text": [
      "FactorBP/FactorGraph.py:399: DeprecationWarning: PyArray_FromDims: use PyArray_SimpleNew.\n  def GetDecode(self): return _FactorGraph.CFactorGraph_GetDecode(self)\nFactorBP/FactorGraph.py:399: DeprecationWarning: PyArray_FromDimsAndDataAndDescr: use PyArray_NewFromDescr.\n  def GetDecode(self): return _FactorGraph.CFactorGraph_GetDecode(self)\n"
     ]
    },
    {
     "name": "stderr",
     "output_type": "stream",
     "text": [
      "FactorBP/FactorGraph.py:399: DeprecationWarning: PyArray_FromDims: use PyArray_SimpleNew.\n  def GetDecode(self): return _FactorGraph.CFactorGraph_GetDecode(self)\nFactorBP/FactorGraph.py:399: DeprecationWarning: PyArray_FromDimsAndDataAndDescr: use PyArray_NewFromDescr.\n  def GetDecode(self): return _FactorGraph.CFactorGraph_GetDecode(self)\n"
     ]
    },
    {
     "name": "stderr",
     "output_type": "stream",
     "text": [
      "FactorBP/FactorGraph.py:399: DeprecationWarning: PyArray_FromDims: use PyArray_SimpleNew.\n  def GetDecode(self): return _FactorGraph.CFactorGraph_GetDecode(self)\nFactorBP/FactorGraph.py:399: DeprecationWarning: PyArray_FromDimsAndDataAndDescr: use PyArray_NewFromDescr.\n  def GetDecode(self): return _FactorGraph.CFactorGraph_GetDecode(self)\n"
     ]
    },
    {
     "name": "stderr",
     "output_type": "stream",
     "text": [
      "FactorBP/FactorGraph.py:399: DeprecationWarning: PyArray_FromDims: use PyArray_SimpleNew.\n  def GetDecode(self): return _FactorGraph.CFactorGraph_GetDecode(self)\nFactorBP/FactorGraph.py:399: DeprecationWarning: PyArray_FromDimsAndDataAndDescr: use PyArray_NewFromDescr.\n  def GetDecode(self): return _FactorGraph.CFactorGraph_GetDecode(self)\n"
     ]
    },
    {
     "name": "stderr",
     "output_type": "stream",
     "text": [
      "FactorBP/FactorGraph.py:399: DeprecationWarning: PyArray_FromDims: use PyArray_SimpleNew.\n  def GetDecode(self): return _FactorGraph.CFactorGraph_GetDecode(self)\nFactorBP/FactorGraph.py:399: DeprecationWarning: PyArray_FromDimsAndDataAndDescr: use PyArray_NewFromDescr.\n  def GetDecode(self): return _FactorGraph.CFactorGraph_GetDecode(self)\nFactorBP/FactorGraph.py:399: DeprecationWarning: PyArray_FromDims: use PyArray_SimpleNew.\n  def GetDecode(self): return _FactorGraph.CFactorGraph_GetDecode(self)\nFactorBP/FactorGraph.py:399: DeprecationWarning: PyArray_FromDimsAndDataAndDescr: use PyArray_NewFromDescr.\n  def GetDecode(self): return _FactorGraph.CFactorGraph_GetDecode(self)\n"
     ]
    },
    {
     "name": "stderr",
     "output_type": "stream",
     "text": [
      "FactorBP/FactorGraph.py:399: DeprecationWarning: PyArray_FromDims: use PyArray_SimpleNew.\n  def GetDecode(self): return _FactorGraph.CFactorGraph_GetDecode(self)\nFactorBP/FactorGraph.py:399: DeprecationWarning: PyArray_FromDimsAndDataAndDescr: use PyArray_NewFromDescr.\n  def GetDecode(self): return _FactorGraph.CFactorGraph_GetDecode(self)\n"
     ]
    },
    {
     "name": "stderr",
     "output_type": "stream",
     "text": [
      "FactorBP/FactorGraph.py:399: DeprecationWarning: PyArray_FromDims: use PyArray_SimpleNew.\n  def GetDecode(self): return _FactorGraph.CFactorGraph_GetDecode(self)\nFactorBP/FactorGraph.py:399: DeprecationWarning: PyArray_FromDimsAndDataAndDescr: use PyArray_NewFromDescr.\n  def GetDecode(self): return _FactorGraph.CFactorGraph_GetDecode(self)\n"
     ]
    },
    {
     "name": "stderr",
     "output_type": "stream",
     "text": [
      "FactorBP/FactorGraph.py:399: DeprecationWarning: PyArray_FromDims: use PyArray_SimpleNew.\n  def GetDecode(self): return _FactorGraph.CFactorGraph_GetDecode(self)\nFactorBP/FactorGraph.py:399: DeprecationWarning: PyArray_FromDimsAndDataAndDescr: use PyArray_NewFromDescr.\n  def GetDecode(self): return _FactorGraph.CFactorGraph_GetDecode(self)\n"
     ]
    },
    {
     "name": "stderr",
     "output_type": "stream",
     "text": [
      "FactorBP/FactorGraph.py:399: DeprecationWarning: PyArray_FromDims: use PyArray_SimpleNew.\n  def GetDecode(self): return _FactorGraph.CFactorGraph_GetDecode(self)\nFactorBP/FactorGraph.py:399: DeprecationWarning: PyArray_FromDimsAndDataAndDescr: use PyArray_NewFromDescr.\n  def GetDecode(self): return _FactorGraph.CFactorGraph_GetDecode(self)\n"
     ]
    },
    {
     "name": "stderr",
     "output_type": "stream",
     "text": [
      "FactorBP/FactorGraph.py:399: DeprecationWarning: PyArray_FromDims: use PyArray_SimpleNew.\n  def GetDecode(self): return _FactorGraph.CFactorGraph_GetDecode(self)\nFactorBP/FactorGraph.py:399: DeprecationWarning: PyArray_FromDimsAndDataAndDescr: use PyArray_NewFromDescr.\n  def GetDecode(self): return _FactorGraph.CFactorGraph_GetDecode(self)\n"
     ]
    },
    {
     "name": "stderr",
     "output_type": "stream",
     "text": [
      "FactorBP/FactorGraph.py:399: DeprecationWarning: PyArray_FromDims: use PyArray_SimpleNew.\n  def GetDecode(self): return _FactorGraph.CFactorGraph_GetDecode(self)\nFactorBP/FactorGraph.py:399: DeprecationWarning: PyArray_FromDimsAndDataAndDescr: use PyArray_NewFromDescr.\n  def GetDecode(self): return _FactorGraph.CFactorGraph_GetDecode(self)\nFactorBP/FactorGraph.py:399: DeprecationWarning: PyArray_FromDims: use PyArray_SimpleNew.\n  def GetDecode(self): return _FactorGraph.CFactorGraph_GetDecode(self)\nFactorBP/FactorGraph.py:399: DeprecationWarning: PyArray_FromDimsAndDataAndDescr: use PyArray_NewFromDescr.\n  def GetDecode(self): return _FactorGraph.CFactorGraph_GetDecode(self)\nFactorBP/FactorGraph.py:399: DeprecationWarning: PyArray_FromDims: use PyArray_SimpleNew.\n  def GetDecode(self): return _FactorGraph.CFactorGraph_GetDecode(self)\nFactorBP/FactorGraph.py:399: DeprecationWarning: PyArray_FromDimsAndDataAndDescr: use PyArray_NewFromDescr.\n  def GetDecode(self): return _FactorGraph.CFactorGraph_GetDecode(self)\n"
     ]
    },
    {
     "name": "stderr",
     "output_type": "stream",
     "text": [
      "FactorBP/FactorGraph.py:399: DeprecationWarning: PyArray_FromDims: use PyArray_SimpleNew.\n  def GetDecode(self): return _FactorGraph.CFactorGraph_GetDecode(self)\nFactorBP/FactorGraph.py:399: DeprecationWarning: PyArray_FromDimsAndDataAndDescr: use PyArray_NewFromDescr.\n  def GetDecode(self): return _FactorGraph.CFactorGraph_GetDecode(self)\n"
     ]
    },
    {
     "name": "stderr",
     "output_type": "stream",
     "text": [
      "FactorBP/FactorGraph.py:399: DeprecationWarning: PyArray_FromDims: use PyArray_SimpleNew.\n  def GetDecode(self): return _FactorGraph.CFactorGraph_GetDecode(self)\nFactorBP/FactorGraph.py:399: DeprecationWarning: PyArray_FromDimsAndDataAndDescr: use PyArray_NewFromDescr.\n  def GetDecode(self): return _FactorGraph.CFactorGraph_GetDecode(self)\nFactorBP/FactorGraph.py:399: DeprecationWarning: PyArray_FromDims: use PyArray_SimpleNew.\n  def GetDecode(self): return _FactorGraph.CFactorGraph_GetDecode(self)\nFactorBP/FactorGraph.py:399: DeprecationWarning: PyArray_FromDimsAndDataAndDescr: use PyArray_NewFromDescr.\n  def GetDecode(self): return _FactorGraph.CFactorGraph_GetDecode(self)\n"
     ]
    },
    {
     "name": "stderr",
     "output_type": "stream",
     "text": [
      "FactorBP/FactorGraph.py:399: DeprecationWarning: PyArray_FromDims: use PyArray_SimpleNew.\n  def GetDecode(self): return _FactorGraph.CFactorGraph_GetDecode(self)\nFactorBP/FactorGraph.py:399: DeprecationWarning: PyArray_FromDimsAndDataAndDescr: use PyArray_NewFromDescr.\n  def GetDecode(self): return _FactorGraph.CFactorGraph_GetDecode(self)\n"
     ]
    },
    {
     "name": "stderr",
     "output_type": "stream",
     "text": [
      "FactorBP/FactorGraph.py:399: DeprecationWarning: PyArray_FromDims: use PyArray_SimpleNew.\n  def GetDecode(self): return _FactorGraph.CFactorGraph_GetDecode(self)\nFactorBP/FactorGraph.py:399: DeprecationWarning: PyArray_FromDimsAndDataAndDescr: use PyArray_NewFromDescr.\n  def GetDecode(self): return _FactorGraph.CFactorGraph_GetDecode(self)\n"
     ]
    },
    {
     "name": "stderr",
     "output_type": "stream",
     "text": [
      "FactorBP/FactorGraph.py:399: DeprecationWarning: PyArray_FromDims: use PyArray_SimpleNew.\n  def GetDecode(self): return _FactorGraph.CFactorGraph_GetDecode(self)\nFactorBP/FactorGraph.py:399: DeprecationWarning: PyArray_FromDimsAndDataAndDescr: use PyArray_NewFromDescr.\n  def GetDecode(self): return _FactorGraph.CFactorGraph_GetDecode(self)\n"
     ]
    },
    {
     "name": "stderr",
     "output_type": "stream",
     "text": [
      "FactorBP/FactorGraph.py:399: DeprecationWarning: PyArray_FromDims: use PyArray_SimpleNew.\n  def GetDecode(self): return _FactorGraph.CFactorGraph_GetDecode(self)\nFactorBP/FactorGraph.py:399: DeprecationWarning: PyArray_FromDimsAndDataAndDescr: use PyArray_NewFromDescr.\n  def GetDecode(self): return _FactorGraph.CFactorGraph_GetDecode(self)\nFactorBP/FactorGraph.py:399: DeprecationWarning: PyArray_FromDims: use PyArray_SimpleNew.\n  def GetDecode(self): return _FactorGraph.CFactorGraph_GetDecode(self)\nFactorBP/FactorGraph.py:399: DeprecationWarning: PyArray_FromDimsAndDataAndDescr: use PyArray_NewFromDescr.\n  def GetDecode(self): return _FactorGraph.CFactorGraph_GetDecode(self)\n"
     ]
    },
    {
     "name": "stderr",
     "output_type": "stream",
     "text": [
      "FactorBP/FactorGraph.py:399: DeprecationWarning: PyArray_FromDims: use PyArray_SimpleNew.\n  def GetDecode(self): return _FactorGraph.CFactorGraph_GetDecode(self)\nFactorBP/FactorGraph.py:399: DeprecationWarning: PyArray_FromDimsAndDataAndDescr: use PyArray_NewFromDescr.\n  def GetDecode(self): return _FactorGraph.CFactorGraph_GetDecode(self)\n"
     ]
    },
    {
     "name": "stderr",
     "output_type": "stream",
     "text": [
      "FactorBP/FactorGraph.py:399: DeprecationWarning: PyArray_FromDims: use PyArray_SimpleNew.\n  def GetDecode(self): return _FactorGraph.CFactorGraph_GetDecode(self)\nFactorBP/FactorGraph.py:399: DeprecationWarning: PyArray_FromDimsAndDataAndDescr: use PyArray_NewFromDescr.\n  def GetDecode(self): return _FactorGraph.CFactorGraph_GetDecode(self)\n"
     ]
    },
    {
     "name": "stderr",
     "output_type": "stream",
     "text": [
      "FactorBP/FactorGraph.py:399: DeprecationWarning: PyArray_FromDims: use PyArray_SimpleNew.\n  def GetDecode(self): return _FactorGraph.CFactorGraph_GetDecode(self)\nFactorBP/FactorGraph.py:399: DeprecationWarning: PyArray_FromDimsAndDataAndDescr: use PyArray_NewFromDescr.\n  def GetDecode(self): return _FactorGraph.CFactorGraph_GetDecode(self)\n"
     ]
    },
    {
     "name": "stderr",
     "output_type": "stream",
     "text": [
      "FactorBP/FactorGraph.py:399: DeprecationWarning: PyArray_FromDims: use PyArray_SimpleNew.\n  def GetDecode(self): return _FactorGraph.CFactorGraph_GetDecode(self)\nFactorBP/FactorGraph.py:399: DeprecationWarning: PyArray_FromDimsAndDataAndDescr: use PyArray_NewFromDescr.\n  def GetDecode(self): return _FactorGraph.CFactorGraph_GetDecode(self)\n"
     ]
    },
    {
     "name": "stderr",
     "output_type": "stream",
     "text": [
      "FactorBP/FactorGraph.py:399: DeprecationWarning: PyArray_FromDims: use PyArray_SimpleNew.\n  def GetDecode(self): return _FactorGraph.CFactorGraph_GetDecode(self)\nFactorBP/FactorGraph.py:399: DeprecationWarning: PyArray_FromDimsAndDataAndDescr: use PyArray_NewFromDescr.\n  def GetDecode(self): return _FactorGraph.CFactorGraph_GetDecode(self)\nFactorBP/FactorGraph.py:399: DeprecationWarning: PyArray_FromDims: use PyArray_SimpleNew.\n  def GetDecode(self): return _FactorGraph.CFactorGraph_GetDecode(self)\nFactorBP/FactorGraph.py:399: DeprecationWarning: PyArray_FromDimsAndDataAndDescr: use PyArray_NewFromDescr.\n  def GetDecode(self): return _FactorGraph.CFactorGraph_GetDecode(self)\n"
     ]
    },
    {
     "name": "stderr",
     "output_type": "stream",
     "text": [
      "FactorBP/FactorGraph.py:399: DeprecationWarning: PyArray_FromDims: use PyArray_SimpleNew.\n  def GetDecode(self): return _FactorGraph.CFactorGraph_GetDecode(self)\nFactorBP/FactorGraph.py:399: DeprecationWarning: PyArray_FromDimsAndDataAndDescr: use PyArray_NewFromDescr.\n  def GetDecode(self): return _FactorGraph.CFactorGraph_GetDecode(self)\n"
     ]
    },
    {
     "name": "stderr",
     "output_type": "stream",
     "text": [
      "FactorBP/FactorGraph.py:399: DeprecationWarning: PyArray_FromDims: use PyArray_SimpleNew.\n  def GetDecode(self): return _FactorGraph.CFactorGraph_GetDecode(self)\nFactorBP/FactorGraph.py:399: DeprecationWarning: PyArray_FromDimsAndDataAndDescr: use PyArray_NewFromDescr.\n  def GetDecode(self): return _FactorGraph.CFactorGraph_GetDecode(self)\n"
     ]
    },
    {
     "name": "stderr",
     "output_type": "stream",
     "text": [
      "FactorBP/FactorGraph.py:399: DeprecationWarning: PyArray_FromDims: use PyArray_SimpleNew.\n  def GetDecode(self): return _FactorGraph.CFactorGraph_GetDecode(self)\nFactorBP/FactorGraph.py:399: DeprecationWarning: PyArray_FromDimsAndDataAndDescr: use PyArray_NewFromDescr.\n  def GetDecode(self): return _FactorGraph.CFactorGraph_GetDecode(self)\n"
     ]
    },
    {
     "name": "stdout",
     "output_type": "stream",
     "text": [
      "IPFP Accuracy 0.524731 Running Time 0.011664 Obj 0.659735\nOurs-PW Accuracy 1.000000 Running Time 0.223168 Obj 1.000000\nFGM Accuracy 0.749462 Running Time 0.039980 Obj 0.775363\nRRWM Accuracy 1.000000 Running Time 0.025786 Obj 1.000000\nSM Accuracy 0.749462 Running Time 0.038097 Obj 0.775363\n××××××××××××××××××××\n Start baseline: 90\n"
     ]
    },
    {
     "name": "stderr",
     "output_type": "stream",
     "text": [
      "FactorBP/FactorGraph.py:399: DeprecationWarning: PyArray_FromDims: use PyArray_SimpleNew.\n  def GetDecode(self): return _FactorGraph.CFactorGraph_GetDecode(self)\nFactorBP/FactorGraph.py:399: DeprecationWarning: PyArray_FromDimsAndDataAndDescr: use PyArray_NewFromDescr.\n  def GetDecode(self): return _FactorGraph.CFactorGraph_GetDecode(self)\n"
     ]
    },
    {
     "name": "stderr",
     "output_type": "stream",
     "text": [
      "FactorBP/FactorGraph.py:399: DeprecationWarning: PyArray_FromDims: use PyArray_SimpleNew.\n  def GetDecode(self): return _FactorGraph.CFactorGraph_GetDecode(self)\nFactorBP/FactorGraph.py:399: DeprecationWarning: PyArray_FromDimsAndDataAndDescr: use PyArray_NewFromDescr.\n  def GetDecode(self): return _FactorGraph.CFactorGraph_GetDecode(self)\n"
     ]
    },
    {
     "name": "stderr",
     "output_type": "stream",
     "text": [
      "FactorBP/FactorGraph.py:399: DeprecationWarning: PyArray_FromDims: use PyArray_SimpleNew.\n  def GetDecode(self): return _FactorGraph.CFactorGraph_GetDecode(self)\nFactorBP/FactorGraph.py:399: DeprecationWarning: PyArray_FromDimsAndDataAndDescr: use PyArray_NewFromDescr.\n  def GetDecode(self): return _FactorGraph.CFactorGraph_GetDecode(self)\nFactorBP/FactorGraph.py:399: DeprecationWarning: PyArray_FromDims: use PyArray_SimpleNew.\n  def GetDecode(self): return _FactorGraph.CFactorGraph_GetDecode(self)\nFactorBP/FactorGraph.py:399: DeprecationWarning: PyArray_FromDimsAndDataAndDescr: use PyArray_NewFromDescr.\n  def GetDecode(self): return _FactorGraph.CFactorGraph_GetDecode(self)\n"
     ]
    },
    {
     "name": "stderr",
     "output_type": "stream",
     "text": [
      "FactorBP/FactorGraph.py:399: DeprecationWarning: PyArray_FromDims: use PyArray_SimpleNew.\n  def GetDecode(self): return _FactorGraph.CFactorGraph_GetDecode(self)\nFactorBP/FactorGraph.py:399: DeprecationWarning: PyArray_FromDimsAndDataAndDescr: use PyArray_NewFromDescr.\n  def GetDecode(self): return _FactorGraph.CFactorGraph_GetDecode(self)\n"
     ]
    },
    {
     "name": "stderr",
     "output_type": "stream",
     "text": [
      "FactorBP/FactorGraph.py:399: DeprecationWarning: PyArray_FromDims: use PyArray_SimpleNew.\n  def GetDecode(self): return _FactorGraph.CFactorGraph_GetDecode(self)\nFactorBP/FactorGraph.py:399: DeprecationWarning: PyArray_FromDimsAndDataAndDescr: use PyArray_NewFromDescr.\n  def GetDecode(self): return _FactorGraph.CFactorGraph_GetDecode(self)\n"
     ]
    },
    {
     "name": "stderr",
     "output_type": "stream",
     "text": [
      "FactorBP/FactorGraph.py:399: DeprecationWarning: PyArray_FromDims: use PyArray_SimpleNew.\n  def GetDecode(self): return _FactorGraph.CFactorGraph_GetDecode(self)\nFactorBP/FactorGraph.py:399: DeprecationWarning: PyArray_FromDimsAndDataAndDescr: use PyArray_NewFromDescr.\n  def GetDecode(self): return _FactorGraph.CFactorGraph_GetDecode(self)\nFactorBP/FactorGraph.py:399: DeprecationWarning: PyArray_FromDims: use PyArray_SimpleNew.\n  def GetDecode(self): return _FactorGraph.CFactorGraph_GetDecode(self)\nFactorBP/FactorGraph.py:399: DeprecationWarning: PyArray_FromDimsAndDataAndDescr: use PyArray_NewFromDescr.\n  def GetDecode(self): return _FactorGraph.CFactorGraph_GetDecode(self)\n"
     ]
    },
    {
     "name": "stderr",
     "output_type": "stream",
     "text": [
      "FactorBP/FactorGraph.py:399: DeprecationWarning: PyArray_FromDims: use PyArray_SimpleNew.\n  def GetDecode(self): return _FactorGraph.CFactorGraph_GetDecode(self)\nFactorBP/FactorGraph.py:399: DeprecationWarning: PyArray_FromDimsAndDataAndDescr: use PyArray_NewFromDescr.\n  def GetDecode(self): return _FactorGraph.CFactorGraph_GetDecode(self)\nFactorBP/FactorGraph.py:399: DeprecationWarning: PyArray_FromDims: use PyArray_SimpleNew.\n  def GetDecode(self): return _FactorGraph.CFactorGraph_GetDecode(self)\nFactorBP/FactorGraph.py:399: DeprecationWarning: PyArray_FromDimsAndDataAndDescr: use PyArray_NewFromDescr.\n  def GetDecode(self): return _FactorGraph.CFactorGraph_GetDecode(self)\nFactorBP/FactorGraph.py:399: DeprecationWarning: PyArray_FromDims: use PyArray_SimpleNew.\n  def GetDecode(self): return _FactorGraph.CFactorGraph_GetDecode(self)\nFactorBP/FactorGraph.py:399: DeprecationWarning: PyArray_FromDimsAndDataAndDescr: use PyArray_NewFromDescr.\n  def GetDecode(self): return _FactorGraph.CFactorGraph_GetDecode(self)\n"
     ]
    },
    {
     "name": "stderr",
     "output_type": "stream",
     "text": [
      "FactorBP/FactorGraph.py:399: DeprecationWarning: PyArray_FromDims: use PyArray_SimpleNew.\n  def GetDecode(self): return _FactorGraph.CFactorGraph_GetDecode(self)\nFactorBP/FactorGraph.py:399: DeprecationWarning: PyArray_FromDimsAndDataAndDescr: use PyArray_NewFromDescr.\n  def GetDecode(self): return _FactorGraph.CFactorGraph_GetDecode(self)\nFactorBP/FactorGraph.py:399: DeprecationWarning: PyArray_FromDims: use PyArray_SimpleNew.\n  def GetDecode(self): return _FactorGraph.CFactorGraph_GetDecode(self)\nFactorBP/FactorGraph.py:399: DeprecationWarning: PyArray_FromDimsAndDataAndDescr: use PyArray_NewFromDescr.\n  def GetDecode(self): return _FactorGraph.CFactorGraph_GetDecode(self)\n"
     ]
    },
    {
     "name": "stderr",
     "output_type": "stream",
     "text": [
      "FactorBP/FactorGraph.py:399: DeprecationWarning: PyArray_FromDims: use PyArray_SimpleNew.\n  def GetDecode(self): return _FactorGraph.CFactorGraph_GetDecode(self)\nFactorBP/FactorGraph.py:399: DeprecationWarning: PyArray_FromDimsAndDataAndDescr: use PyArray_NewFromDescr.\n  def GetDecode(self): return _FactorGraph.CFactorGraph_GetDecode(self)\nFactorBP/FactorGraph.py:399: DeprecationWarning: PyArray_FromDims: use PyArray_SimpleNew.\n  def GetDecode(self): return _FactorGraph.CFactorGraph_GetDecode(self)\nFactorBP/FactorGraph.py:399: DeprecationWarning: PyArray_FromDimsAndDataAndDescr: use PyArray_NewFromDescr.\n  def GetDecode(self): return _FactorGraph.CFactorGraph_GetDecode(self)\nFactorBP/FactorGraph.py:399: DeprecationWarning: PyArray_FromDims: use PyArray_SimpleNew.\n  def GetDecode(self): return _FactorGraph.CFactorGraph_GetDecode(self)\nFactorBP/FactorGraph.py:399: DeprecationWarning: PyArray_FromDimsAndDataAndDescr: use PyArray_NewFromDescr.\n  def GetDecode(self): return _FactorGraph.CFactorGraph_GetDecode(self)\n"
     ]
    },
    {
     "name": "stderr",
     "output_type": "stream",
     "text": [
      "FactorBP/FactorGraph.py:399: DeprecationWarning: PyArray_FromDims: use PyArray_SimpleNew.\n  def GetDecode(self): return _FactorGraph.CFactorGraph_GetDecode(self)\nFactorBP/FactorGraph.py:399: DeprecationWarning: PyArray_FromDimsAndDataAndDescr: use PyArray_NewFromDescr.\n  def GetDecode(self): return _FactorGraph.CFactorGraph_GetDecode(self)\n"
     ]
    },
    {
     "name": "stderr",
     "output_type": "stream",
     "text": [
      "FactorBP/FactorGraph.py:399: DeprecationWarning: PyArray_FromDims: use PyArray_SimpleNew.\n  def GetDecode(self): return _FactorGraph.CFactorGraph_GetDecode(self)\nFactorBP/FactorGraph.py:399: DeprecationWarning: PyArray_FromDimsAndDataAndDescr: use PyArray_NewFromDescr.\n  def GetDecode(self): return _FactorGraph.CFactorGraph_GetDecode(self)\nFactorBP/FactorGraph.py:399: DeprecationWarning: PyArray_FromDims: use PyArray_SimpleNew.\n  def GetDecode(self): return _FactorGraph.CFactorGraph_GetDecode(self)\nFactorBP/FactorGraph.py:399: DeprecationWarning: PyArray_FromDimsAndDataAndDescr: use PyArray_NewFromDescr.\n  def GetDecode(self): return _FactorGraph.CFactorGraph_GetDecode(self)\n"
     ]
    },
    {
     "name": "stderr",
     "output_type": "stream",
     "text": [
      "FactorBP/FactorGraph.py:399: DeprecationWarning: PyArray_FromDims: use PyArray_SimpleNew.\n  def GetDecode(self): return _FactorGraph.CFactorGraph_GetDecode(self)\nFactorBP/FactorGraph.py:399: DeprecationWarning: PyArray_FromDimsAndDataAndDescr: use PyArray_NewFromDescr.\n  def GetDecode(self): return _FactorGraph.CFactorGraph_GetDecode(self)\n"
     ]
    },
    {
     "name": "stderr",
     "output_type": "stream",
     "text": [
      "FactorBP/FactorGraph.py:399: DeprecationWarning: PyArray_FromDims: use PyArray_SimpleNew.\n  def GetDecode(self): return _FactorGraph.CFactorGraph_GetDecode(self)\nFactorBP/FactorGraph.py:399: DeprecationWarning: PyArray_FromDimsAndDataAndDescr: use PyArray_NewFromDescr.\n  def GetDecode(self): return _FactorGraph.CFactorGraph_GetDecode(self)\n"
     ]
    },
    {
     "name": "stderr",
     "output_type": "stream",
     "text": [
      "FactorBP/FactorGraph.py:399: DeprecationWarning: PyArray_FromDims: use PyArray_SimpleNew.\n  def GetDecode(self): return _FactorGraph.CFactorGraph_GetDecode(self)\nFactorBP/FactorGraph.py:399: DeprecationWarning: PyArray_FromDimsAndDataAndDescr: use PyArray_NewFromDescr.\n  def GetDecode(self): return _FactorGraph.CFactorGraph_GetDecode(self)\nFactorBP/FactorGraph.py:399: DeprecationWarning: PyArray_FromDims: use PyArray_SimpleNew.\n  def GetDecode(self): return _FactorGraph.CFactorGraph_GetDecode(self)\nFactorBP/FactorGraph.py:399: DeprecationWarning: PyArray_FromDimsAndDataAndDescr: use PyArray_NewFromDescr.\n  def GetDecode(self): return _FactorGraph.CFactorGraph_GetDecode(self)\n"
     ]
    },
    {
     "name": "stderr",
     "output_type": "stream",
     "text": [
      "FactorBP/FactorGraph.py:399: DeprecationWarning: PyArray_FromDims: use PyArray_SimpleNew.\n  def GetDecode(self): return _FactorGraph.CFactorGraph_GetDecode(self)\nFactorBP/FactorGraph.py:399: DeprecationWarning: PyArray_FromDimsAndDataAndDescr: use PyArray_NewFromDescr.\n  def GetDecode(self): return _FactorGraph.CFactorGraph_GetDecode(self)\nFactorBP/FactorGraph.py:399: DeprecationWarning: PyArray_FromDims: use PyArray_SimpleNew.\n  def GetDecode(self): return _FactorGraph.CFactorGraph_GetDecode(self)\nFactorBP/FactorGraph.py:399: DeprecationWarning: PyArray_FromDimsAndDataAndDescr: use PyArray_NewFromDescr.\n  def GetDecode(self): return _FactorGraph.CFactorGraph_GetDecode(self)\n"
     ]
    },
    {
     "name": "stderr",
     "output_type": "stream",
     "text": [
      "FactorBP/FactorGraph.py:399: DeprecationWarning: PyArray_FromDims: use PyArray_SimpleNew.\n  def GetDecode(self): return _FactorGraph.CFactorGraph_GetDecode(self)\nFactorBP/FactorGraph.py:399: DeprecationWarning: PyArray_FromDimsAndDataAndDescr: use PyArray_NewFromDescr.\n  def GetDecode(self): return _FactorGraph.CFactorGraph_GetDecode(self)\nFactorBP/FactorGraph.py:399: DeprecationWarning: PyArray_FromDims: use PyArray_SimpleNew.\n  def GetDecode(self): return _FactorGraph.CFactorGraph_GetDecode(self)\nFactorBP/FactorGraph.py:399: DeprecationWarning: PyArray_FromDimsAndDataAndDescr: use PyArray_NewFromDescr.\n  def GetDecode(self): return _FactorGraph.CFactorGraph_GetDecode(self)\n"
     ]
    },
    {
     "name": "stderr",
     "output_type": "stream",
     "text": [
      "FactorBP/FactorGraph.py:399: DeprecationWarning: PyArray_FromDims: use PyArray_SimpleNew.\n  def GetDecode(self): return _FactorGraph.CFactorGraph_GetDecode(self)\nFactorBP/FactorGraph.py:399: DeprecationWarning: PyArray_FromDimsAndDataAndDescr: use PyArray_NewFromDescr.\n  def GetDecode(self): return _FactorGraph.CFactorGraph_GetDecode(self)\nFactorBP/FactorGraph.py:399: DeprecationWarning: PyArray_FromDims: use PyArray_SimpleNew.\n  def GetDecode(self): return _FactorGraph.CFactorGraph_GetDecode(self)\nFactorBP/FactorGraph.py:399: DeprecationWarning: PyArray_FromDimsAndDataAndDescr: use PyArray_NewFromDescr.\n  def GetDecode(self): return _FactorGraph.CFactorGraph_GetDecode(self)\n"
     ]
    },
    {
     "name": "stderr",
     "output_type": "stream",
     "text": [
      "FactorBP/FactorGraph.py:399: DeprecationWarning: PyArray_FromDims: use PyArray_SimpleNew.\n  def GetDecode(self): return _FactorGraph.CFactorGraph_GetDecode(self)\nFactorBP/FactorGraph.py:399: DeprecationWarning: PyArray_FromDimsAndDataAndDescr: use PyArray_NewFromDescr.\n  def GetDecode(self): return _FactorGraph.CFactorGraph_GetDecode(self)\nFactorBP/FactorGraph.py:399: DeprecationWarning: PyArray_FromDims: use PyArray_SimpleNew.\n  def GetDecode(self): return _FactorGraph.CFactorGraph_GetDecode(self)\nFactorBP/FactorGraph.py:399: DeprecationWarning: PyArray_FromDimsAndDataAndDescr: use PyArray_NewFromDescr.\n  def GetDecode(self): return _FactorGraph.CFactorGraph_GetDecode(self)\n"
     ]
    },
    {
     "name": "stderr",
     "output_type": "stream",
     "text": [
      "FactorBP/FactorGraph.py:399: DeprecationWarning: PyArray_FromDims: use PyArray_SimpleNew.\n  def GetDecode(self): return _FactorGraph.CFactorGraph_GetDecode(self)\nFactorBP/FactorGraph.py:399: DeprecationWarning: PyArray_FromDimsAndDataAndDescr: use PyArray_NewFromDescr.\n  def GetDecode(self): return _FactorGraph.CFactorGraph_GetDecode(self)\n"
     ]
    },
    {
     "name": "stderr",
     "output_type": "stream",
     "text": [
      "FactorBP/FactorGraph.py:399: DeprecationWarning: PyArray_FromDims: use PyArray_SimpleNew.\n  def GetDecode(self): return _FactorGraph.CFactorGraph_GetDecode(self)\nFactorBP/FactorGraph.py:399: DeprecationWarning: PyArray_FromDimsAndDataAndDescr: use PyArray_NewFromDescr.\n  def GetDecode(self): return _FactorGraph.CFactorGraph_GetDecode(self)\nFactorBP/FactorGraph.py:399: DeprecationWarning: PyArray_FromDims: use PyArray_SimpleNew.\n  def GetDecode(self): return _FactorGraph.CFactorGraph_GetDecode(self)\nFactorBP/FactorGraph.py:399: DeprecationWarning: PyArray_FromDimsAndDataAndDescr: use PyArray_NewFromDescr.\n  def GetDecode(self): return _FactorGraph.CFactorGraph_GetDecode(self)\n"
     ]
    },
    {
     "name": "stderr",
     "output_type": "stream",
     "text": [
      "FactorBP/FactorGraph.py:399: DeprecationWarning: PyArray_FromDims: use PyArray_SimpleNew.\n  def GetDecode(self): return _FactorGraph.CFactorGraph_GetDecode(self)\nFactorBP/FactorGraph.py:399: DeprecationWarning: PyArray_FromDimsAndDataAndDescr: use PyArray_NewFromDescr.\n  def GetDecode(self): return _FactorGraph.CFactorGraph_GetDecode(self)\n"
     ]
    },
    {
     "name": "stdout",
     "output_type": "stream",
     "text": [
      "IPFP Accuracy 0.482540 Running Time 0.010264 Obj 0.666452\nOurs-PW Accuracy 1.000000 Running Time 0.271627 Obj 1.000000\nFGM Accuracy 0.636508 Running Time 0.037396 Obj 0.691346\nRRWM Accuracy 0.980952 Running Time 0.027664 Obj 0.994819\nSM Accuracy 0.636508 Running Time 0.040723 Obj 0.691346\n××××××××××××××××××××\n Start baseline: 100\n"
     ]
    },
    {
     "name": "stderr",
     "output_type": "stream",
     "text": [
      "FactorBP/FactorGraph.py:399: DeprecationWarning: PyArray_FromDims: use PyArray_SimpleNew.\n  def GetDecode(self): return _FactorGraph.CFactorGraph_GetDecode(self)\nFactorBP/FactorGraph.py:399: DeprecationWarning: PyArray_FromDimsAndDataAndDescr: use PyArray_NewFromDescr.\n  def GetDecode(self): return _FactorGraph.CFactorGraph_GetDecode(self)\n"
     ]
    },
    {
     "name": "stderr",
     "output_type": "stream",
     "text": [
      "FactorBP/FactorGraph.py:399: DeprecationWarning: PyArray_FromDims: use PyArray_SimpleNew.\n  def GetDecode(self): return _FactorGraph.CFactorGraph_GetDecode(self)\nFactorBP/FactorGraph.py:399: DeprecationWarning: PyArray_FromDimsAndDataAndDescr: use PyArray_NewFromDescr.\n  def GetDecode(self): return _FactorGraph.CFactorGraph_GetDecode(self)\n"
     ]
    },
    {
     "name": "stderr",
     "output_type": "stream",
     "text": [
      "FactorBP/FactorGraph.py:399: DeprecationWarning: PyArray_FromDims: use PyArray_SimpleNew.\n  def GetDecode(self): return _FactorGraph.CFactorGraph_GetDecode(self)\nFactorBP/FactorGraph.py:399: DeprecationWarning: PyArray_FromDimsAndDataAndDescr: use PyArray_NewFromDescr.\n  def GetDecode(self): return _FactorGraph.CFactorGraph_GetDecode(self)\n"
     ]
    },
    {
     "name": "stderr",
     "output_type": "stream",
     "text": [
      "FactorBP/FactorGraph.py:399: DeprecationWarning: PyArray_FromDims: use PyArray_SimpleNew.\n  def GetDecode(self): return _FactorGraph.CFactorGraph_GetDecode(self)\nFactorBP/FactorGraph.py:399: DeprecationWarning: PyArray_FromDimsAndDataAndDescr: use PyArray_NewFromDescr.\n  def GetDecode(self): return _FactorGraph.CFactorGraph_GetDecode(self)\nFactorBP/FactorGraph.py:399: DeprecationWarning: PyArray_FromDims: use PyArray_SimpleNew.\n  def GetDecode(self): return _FactorGraph.CFactorGraph_GetDecode(self)\nFactorBP/FactorGraph.py:399: DeprecationWarning: PyArray_FromDimsAndDataAndDescr: use PyArray_NewFromDescr.\n  def GetDecode(self): return _FactorGraph.CFactorGraph_GetDecode(self)\n"
     ]
    },
    {
     "name": "stderr",
     "output_type": "stream",
     "text": [
      "FactorBP/FactorGraph.py:399: DeprecationWarning: PyArray_FromDims: use PyArray_SimpleNew.\n  def GetDecode(self): return _FactorGraph.CFactorGraph_GetDecode(self)\nFactorBP/FactorGraph.py:399: DeprecationWarning: PyArray_FromDimsAndDataAndDescr: use PyArray_NewFromDescr.\n  def GetDecode(self): return _FactorGraph.CFactorGraph_GetDecode(self)\nFactorBP/FactorGraph.py:399: DeprecationWarning: PyArray_FromDims: use PyArray_SimpleNew.\n  def GetDecode(self): return _FactorGraph.CFactorGraph_GetDecode(self)\nFactorBP/FactorGraph.py:399: DeprecationWarning: PyArray_FromDimsAndDataAndDescr: use PyArray_NewFromDescr.\n  def GetDecode(self): return _FactorGraph.CFactorGraph_GetDecode(self)\n"
     ]
    },
    {
     "name": "stderr",
     "output_type": "stream",
     "text": [
      "FactorBP/FactorGraph.py:399: DeprecationWarning: PyArray_FromDims: use PyArray_SimpleNew.\n  def GetDecode(self): return _FactorGraph.CFactorGraph_GetDecode(self)\nFactorBP/FactorGraph.py:399: DeprecationWarning: PyArray_FromDimsAndDataAndDescr: use PyArray_NewFromDescr.\n  def GetDecode(self): return _FactorGraph.CFactorGraph_GetDecode(self)\n"
     ]
    },
    {
     "name": "stderr",
     "output_type": "stream",
     "text": [
      "FactorBP/FactorGraph.py:399: DeprecationWarning: PyArray_FromDims: use PyArray_SimpleNew.\n  def GetDecode(self): return _FactorGraph.CFactorGraph_GetDecode(self)\nFactorBP/FactorGraph.py:399: DeprecationWarning: PyArray_FromDimsAndDataAndDescr: use PyArray_NewFromDescr.\n  def GetDecode(self): return _FactorGraph.CFactorGraph_GetDecode(self)\nFactorBP/FactorGraph.py:399: DeprecationWarning: PyArray_FromDims: use PyArray_SimpleNew.\n  def GetDecode(self): return _FactorGraph.CFactorGraph_GetDecode(self)\nFactorBP/FactorGraph.py:399: DeprecationWarning: PyArray_FromDimsAndDataAndDescr: use PyArray_NewFromDescr.\n  def GetDecode(self): return _FactorGraph.CFactorGraph_GetDecode(self)\n"
     ]
    },
    {
     "name": "stderr",
     "output_type": "stream",
     "text": [
      "FactorBP/FactorGraph.py:399: DeprecationWarning: PyArray_FromDims: use PyArray_SimpleNew.\n  def GetDecode(self): return _FactorGraph.CFactorGraph_GetDecode(self)\nFactorBP/FactorGraph.py:399: DeprecationWarning: PyArray_FromDimsAndDataAndDescr: use PyArray_NewFromDescr.\n  def GetDecode(self): return _FactorGraph.CFactorGraph_GetDecode(self)\nFactorBP/FactorGraph.py:399: DeprecationWarning: PyArray_FromDims: use PyArray_SimpleNew.\n  def GetDecode(self): return _FactorGraph.CFactorGraph_GetDecode(self)\nFactorBP/FactorGraph.py:399: DeprecationWarning: PyArray_FromDimsAndDataAndDescr: use PyArray_NewFromDescr.\n  def GetDecode(self): return _FactorGraph.CFactorGraph_GetDecode(self)\nFactorBP/FactorGraph.py:399: DeprecationWarning: PyArray_FromDims: use PyArray_SimpleNew.\n  def GetDecode(self): return _FactorGraph.CFactorGraph_GetDecode(self)\nFactorBP/FactorGraph.py:399: DeprecationWarning: PyArray_FromDimsAndDataAndDescr: use PyArray_NewFromDescr.\n  def GetDecode(self): return _FactorGraph.CFactorGraph_GetDecode(self)\n"
     ]
    },
    {
     "name": "stderr",
     "output_type": "stream",
     "text": [
      "FactorBP/FactorGraph.py:399: DeprecationWarning: PyArray_FromDims: use PyArray_SimpleNew.\n  def GetDecode(self): return _FactorGraph.CFactorGraph_GetDecode(self)\nFactorBP/FactorGraph.py:399: DeprecationWarning: PyArray_FromDimsAndDataAndDescr: use PyArray_NewFromDescr.\n  def GetDecode(self): return _FactorGraph.CFactorGraph_GetDecode(self)\nFactorBP/FactorGraph.py:399: DeprecationWarning: PyArray_FromDims: use PyArray_SimpleNew.\n  def GetDecode(self): return _FactorGraph.CFactorGraph_GetDecode(self)\nFactorBP/FactorGraph.py:399: DeprecationWarning: PyArray_FromDimsAndDataAndDescr: use PyArray_NewFromDescr.\n  def GetDecode(self): return _FactorGraph.CFactorGraph_GetDecode(self)\n"
     ]
    },
    {
     "name": "stderr",
     "output_type": "stream",
     "text": [
      "FactorBP/FactorGraph.py:399: DeprecationWarning: PyArray_FromDims: use PyArray_SimpleNew.\n  def GetDecode(self): return _FactorGraph.CFactorGraph_GetDecode(self)\nFactorBP/FactorGraph.py:399: DeprecationWarning: PyArray_FromDimsAndDataAndDescr: use PyArray_NewFromDescr.\n  def GetDecode(self): return _FactorGraph.CFactorGraph_GetDecode(self)\nFactorBP/FactorGraph.py:399: DeprecationWarning: PyArray_FromDims: use PyArray_SimpleNew.\n  def GetDecode(self): return _FactorGraph.CFactorGraph_GetDecode(self)\nFactorBP/FactorGraph.py:399: DeprecationWarning: PyArray_FromDimsAndDataAndDescr: use PyArray_NewFromDescr.\n  def GetDecode(self): return _FactorGraph.CFactorGraph_GetDecode(self)\n"
     ]
    },
    {
     "name": "stderr",
     "output_type": "stream",
     "text": [
      "FactorBP/FactorGraph.py:399: DeprecationWarning: PyArray_FromDims: use PyArray_SimpleNew.\n  def GetDecode(self): return _FactorGraph.CFactorGraph_GetDecode(self)\nFactorBP/FactorGraph.py:399: DeprecationWarning: PyArray_FromDimsAndDataAndDescr: use PyArray_NewFromDescr.\n  def GetDecode(self): return _FactorGraph.CFactorGraph_GetDecode(self)\n"
     ]
    },
    {
     "name": "stdout",
     "output_type": "stream",
     "text": [
      "IPFP Accuracy 0.475758 Running Time 0.011700 Obj 0.669712\nOurs-PW Accuracy 0.969697 Running Time 0.327493 Obj 0.998032\nFGM Accuracy 0.509091 Running Time 0.037431 Obj 0.637208\nRRWM Accuracy 0.945455 Running Time 0.029388 Obj 0.991816\nSM Accuracy 0.509091 Running Time 0.035891 Obj 0.637208\n××××××××××××××××××××\n"
     ]
    }
   ],
   "source": [
    "def ComputeAccurancy(Decode, gTruth, NofInliers):\n",
    "    Ccnt = 0\n",
    "    for i in range(NofInliers):\n",
    "        if(Decode[i] == gTruth[i]):\n",
    "            Ccnt += 1\n",
    "    return 1.0 * Ccnt / NofInliers\n",
    "\n",
    "def LoadHouse():\n",
    "    res = np.zeros([111, 30, 2])\n",
    "    for i in range(1,112):\n",
    "        res[i-1] = np.loadtxt('data/cmum/house/label/house%d' %i)\n",
    "    return res\n",
    "\n",
    "HouseData = LoadHouse()\n",
    "NofAlgorithms = 5\n",
    "# AlgorithmNames=['Ours', 'BCA', 'BCA-MP', 'BCA-IPFP', 'HGM', 'RRWHM', 'TM', 'OursPW', 'Ours-BCA']\n",
    "AlgorithmNames=['IPFP', 'Ours-PW', 'FGM', 'RRWM', 'SM']\n",
    "start = 0\n",
    "end = 111\n",
    "MeanAcc = np.zeros([10,NofAlgorithms])\n",
    "MeanRtime = np.zeros([10, NofAlgorithms])\n",
    "MeanObj = np.zeros([10, NofAlgorithms])\n",
    "AllAcc = {}\n",
    "AllRtim = {}\n",
    "AllObj = {}\n",
    "for baseline in xrange(10,101,10):\n",
    "    print(' Start baseline: %d' % (baseline))\n",
    "    AllAcc[(baseline-10)/10] = np.zeros([NofAlgorithms, end - baseline])\n",
    "    AllRtim[(baseline-10)/10] = np.zeros([NofAlgorithms, end - baseline])\n",
    "    # AllObj[(baseline-10)/10] = np.zeros([NofAlgorithms, end - baseline])\n",
    "    Obj = np.zeros([NofAlgorithms, end - baseline])\n",
    "\n",
    "    for ImageI in range(start, end - baseline):\n",
    "        # print(' Image: %d' % (ImageI))\n",
    "        PT1 = np.copy(HouseData[ImageI])\n",
    "        PT2 = np.copy(HouseData[ImageI+baseline])\n",
    "        NofNodes = 30\n",
    "        gTruth = np.random.permutation(NofNodes)\n",
    "        PT1 = PT1[gTruth, :]\n",
    "        PF1 = np.zeros([NofNodes,1])\n",
    "        PF2 = np.zeros([NofNodes,2])\n",
    "        MG1 = FB.MatchingGraph(PT1[0:NofNodes], PF1[0:NofNodes])\n",
    "        MG2 = FB.MatchingGraph(PT2[0:NofNodes], PF2[0:NofNodes])\n",
    "\n",
    "        [G, FName] = FB.ConstructMatchingModel(MG1, MG2, 'cmu', False, True)\n",
    "        # G2 = FB.ConstructMatchingModel(MG1, MG2, 'cmu', False, True)\n",
    "        [Gvis, FName] = FB.ConstructMatchingModel(MG1, MG2, 'cmu', False, True)\n",
    "        G.SetVerbose(False)\n",
    "        \n",
    "        # IPFP\n",
    "        resIPFP = eng.runIPFP(FName, nargout=3)\n",
    "        AllAcc[(baseline-10)/10][0][ImageI] = ComputeAccurancy(resIPFP[1][0], gTruth, NofNodes)\n",
    "        AllRtim[(baseline-10)/10][0][ImageI] = resIPFP[0]\n",
    "        cDecode = FB.intArray(NofNodes)\n",
    "        for i in range(NofNodes):\n",
    "            cDecode[i] = int(resIPFP[1][0][i])\n",
    "        Obj[0][ImageI] = Gvis.ComputeObj(cDecode)\n",
    "        #end IPFP\n",
    "        \n",
    "        #  Our-PW\n",
    "        res = FB.BaBSolver(G, 30, 10, 0.005, False)\n",
    "        AllAcc[(baseline-10)/10][1][ImageI] = ComputeAccurancy(res.Decode, gTruth, NofNodes)\n",
    "        AllRtim[(baseline-10)/10][1][ImageI] = res.Time\n",
    "        Obj[1][ImageI] = res.Value\n",
    "        #end Our-PW\n",
    "        \n",
    "        # FGM\n",
    "        resFGM = eng.runSM(FName, nargout=3)\n",
    "        #resFGM = eng.runFGM(FName, nargout=3)\n",
    "        AllAcc[(baseline-10)/10][2][ImageI] = ComputeAccurancy(resFGM[1][0], gTruth, NofNodes)\n",
    "        AllRtim[(baseline-10)/10][2][ImageI] = resFGM[0]\n",
    "        for i in range(NofNodes):\n",
    "            cDecode[i] = int(resFGM[1][0][i])\n",
    "        Obj[2][ImageI] = Gvis.ComputeObj(cDecode)\n",
    "        #end FGM\n",
    "        \n",
    "        # RRWM\n",
    "        resRRWM = eng.runRRWM(FName, nargout=3)\n",
    "        AllAcc[(baseline-10)/10][3][ImageI] = ComputeAccurancy(resRRWM[1][0], gTruth, NofNodes)\n",
    "        AllRtim[(baseline-10)/10][3][ImageI] = resRRWM[0]\n",
    "        for i in range(NofNodes):\n",
    "            cDecode[i] = int(resRRWM[1][0][i])\n",
    "        Obj[3][ImageI] = Gvis.ComputeObj(cDecode)\n",
    "        #end RRWM\n",
    "        \n",
    "        # SpectralMatching\n",
    "        # resSM = eng.runIPFP(nargout=3)\n",
    "        resSM = eng.runSM(FName, nargout=3)\n",
    "        AllAcc[(baseline-10)/10][4][ImageI] = ComputeAccurancy(resSM[1][0], gTruth, NofNodes)\n",
    "        AllRtim[(baseline-10)/10][4][ImageI] = resSM[0]\n",
    "        for i in range(NofNodes):\n",
    "            cDecode[i] = int(resSM[1][0][i])\n",
    "        Obj[4][ImageI] = Gvis.ComputeObj(cDecode)\n",
    "        #end SpectralMatching\n",
    "        \n",
    "        \n",
    "        \n",
    "        MaxObj = np.max(Obj[:,ImageI])\n",
    "        Obj[:,ImageI] /= MaxObj\n",
    "        AllObj[(baseline-10)/10] = Obj\n",
    "        #for ai in xrange(NofAlgorithms):\n",
    "        #    print('%s Accuracy %f Running Time %f Obj %f' %(AlgorithmNames[ai], \n",
    "        #                                                     AllAcc[(baseline-10)/10][ai][ImageI],\n",
    "        #                                                    AllRtim[(baseline-10)/10][ai][ImageI],\n",
    "        #                                                   AllObj[(baseline-10)/10][ai][ImageI]))\n",
    "        #print(' Finished Frame: %d ----------------------' % (ImageI) )\n",
    "        #end inner loop\n",
    "    for ai in xrange(NofAlgorithms):\n",
    "        MeanAcc[(baseline-10)/10][ai] = np.mean(AllAcc[(baseline-10)/10][ai])\n",
    "        MeanRtime[(baseline-10)/10][ai] = np.mean(AllRtim[(baseline-10)/10][ai])\n",
    "        # MeanObj[(baseline-10)/10][ai] = np.mean(Obj[ai])\n",
    "        MeanObj[(baseline-10)/10][ai] = np.mean(AllObj[(baseline-10)/10][ai])\n",
    "        print('%s Accuracy %f Running Time %f Obj %f' %(AlgorithmNames[ai], \n",
    "                                                        MeanAcc[(baseline-10)/10][ai],\n",
    "                                                        MeanRtime[(baseline-10)/10][ai],\n",
    "                                                        MeanObj[(baseline-10)/10][ai]))\n",
    "    print('××××××××××××××××××××')\n",
    "    #end outer loop"
   ]
  },
  {
   "cell_type": "code",
   "execution_count": 7,
   "metadata": {
    "collapsed": false
   },
   "outputs": [
    {
     "data": {
      "text/plain": [
       "array([ 0.96006601,  0.93736264,  0.88477366,  0.81643192,  0.75409836,\n        0.66405229,  0.58943089,  0.52473118,  0.48253968,  0.47575758])"
      ]
     },
     "execution_count": 7,
     "metadata": {},
     "output_type": "execute_result"
    },
    {
     "data": {
      "image/png": "[encoded data removed]",
      "text/plain": [
       "<matplotlib.figure.Figure at 0x7f97f36f08d0>"
      ]
     },
     "metadata": {},
     "output_type": "display_data"
    },
    {
     "data": {
      "text/plain": [
       "<matplotlib.figure.Figure at 0x7f97f80dde10>"
      ]
     },
     "execution_count": 0,
     "metadata": {},
     "output_type": "execute_result"
    },
    {
     "data": {
      "image/png": "[encoded data removed]",
      "text/plain": [
       "<matplotlib.figure.Figure at 0x7f97f3683f90>"
      ]
     },
     "metadata": {},
     "output_type": "display_data"
    },
    {
     "data": {
      "image/png": "[encoded data removed]",
      "text/plain": [
       "<matplotlib.figure.Figure at 0x7f97f3559e90>"
      ]
     },
     "metadata": {},
     "output_type": "display_data"
    }
   ],
   "source": [
    "import matplotlib.pyplot as plt\n",
    "import matplotlib\n",
    "import pylab\n",
    "%matplotlib inline\n",
    "\n",
    "\n",
    "Colors = [[ 0.        ,  0.5       , 0.5        ,  1.        ],   #1\n",
    "          [ 1.        ,  0.00196078,  1.        ,  1.        ],   #2\n",
    "          [ 0.        ,  0.50392157,  1.        ,  1.        ],   #3\n",
    "          # [ 0.08538899,  1.        ,  0.88235294,  1.        ],   #4\n",
    "          # [ 0.49019608,  1.        ,  0.47754586,  1.        ],   #5\n",
    "          [ 0.5       ,  1.        ,  0.17273877,  1.        ],   #6\n",
    "          [ 1.        ,  0.58169935,  0.        ,  1.        ],   #7\n",
    "          # [ 1.        ,  0.11692084,  0.        ,  1.        ],   #8\n",
    "          # [ 1.        ,  0.        ,  1.        ,  1.        ]    #9\n",
    "          ]\n",
    "Seq = [0, 1, 2, 3, 4]\n",
    "AlgorithmNames=['IPFP', 'Ours-PW', 'FGM', 'RRWM', 'SM']\n",
    "Markers = ['h', 'v', 'x', '+', 'd']\n",
    "\n",
    "figData = pylab.figure(num=None, figsize=(4, 3), dpi=80, facecolor='w', edgecolor='k')\n",
    "ax = pylab.gca()\n",
    "\n",
    "matplotlib.rc('font',family='Times New Roman')\n",
    "\n",
    "\n",
    "#plt.figure(num=None, figsize=(4, 3), dpi=80, facecolor='w', edgecolor='k')\n",
    "\n",
    "for ai in xrange(NofAlgorithms):\n",
    "    pylab.plot(range(10,101,10), MeanAcc[:,Seq[ai]], label=AlgorithmNames[Seq[ai]], \n",
    "             color=Colors[Seq[ai]], marker=Markers[Seq[ai]])\n",
    "pylab.ylim([0,1.05])\n",
    "pylab.grid(True)\n",
    "\n",
    "pylab.ylabel('Accuracy')\n",
    "pylab.xlabel('Seperation')\n",
    "\n",
    "\n",
    "figLegend = pylab.figure(figsize = (11.7,0.4))\n",
    "pylab.figlegend(*ax.get_legend_handles_labels(), loc = 'upper center',  ncol=9, shadow=True, fancybox=True)\n",
    "figData.savefig('results/EdgesOnly/House_Acc.pdf')\n",
    "#figLegend.savefig(\"legend.pdf\")\n",
    "figLegend.show()\n",
    "\n",
    "#plt.legend(shadow=True, fancybox=True,loc='upper center', bbox_to_anchor=(0.5,-0.25), ncol=9)\n",
    "#plt.savefig('House_ACC.pdf')    # <-- loses transparency\n",
    "\n",
    "StoreForPlot ={}\n",
    "StoreForPlot['Accuracy'] = MeanAcc\n",
    "StoreForPlot['Time'] = MeanRtime\n",
    "StoreForPlot['Obj'] = MeanObj\n",
    "\n",
    "sio.savemat('results/EdgesOnly/PlotData.mat', StoreForPlot)\n",
    "\n",
    "plt.figure(num=None, figsize=(4, 3), dpi=80, facecolor='w', edgecolor='k')\n",
    "\n",
    "\n",
    "for ai in xrange(NofAlgorithms):\n",
    "    if(AlgorithmNames[Seq[ai]] == 'Ours-PW'):\n",
    "        continue\n",
    "    plt.plot(range(10,101,10), MeanObj[:,Seq[ai]], label=AlgorithmNames[Seq[ai]], \n",
    "             color=Colors[Seq[ai]], marker=Markers[Seq[ai]])\n",
    "plt.ylim([0.25,1.02])\n",
    "plt.ylabel('Obj. Value')\n",
    "plt.xlabel('Seperation')\n",
    "plt.grid(True)\n",
    "plt.savefig('results/EdgesOnly/House_Obj.pdf')    # <-- loses transparency\n",
    "\n",
    "\n",
    "plt.figure(num=None, figsize=(4, 3), dpi=80, facecolor='w', edgecolor='k')\n",
    "\n",
    "\n",
    "for ai in xrange(NofAlgorithms):\n",
    "    plt.plot(range(10,101,10), MeanRtime[:,Seq[ai]], label=AlgorithmNames[Seq[ai]], \n",
    "             color=Colors[Seq[ai]], marker=Markers[Seq[ai]], linewidth=1.25)\n",
    "\n",
    "plt.ylabel('Seperation')\n",
    "plt.xlabel('#Outliers')\n",
    "\n",
    "plt.grid(True)\n",
    "plt.savefig('results/EdgesOnly/Car_Time.pdf')    # <-- loses transparency\n",
    "\n",
    "MeanAcc[:,0]"
   ]
  },
  {
   "cell_type": "code",
   "execution_count": 3,
   "metadata": {
    "collapsed": false
   },
   "outputs": [
    {
     "ename": "NameError",
     "evalue": "name 'ImageI' is not defined",
     "traceback": [
      "\u001b[0;31m\u001b[0m",
      "\u001b[0;31mNameError\u001b[0mTraceback (most recent call last)",
      "\u001b[0;32m<ipython-input-3-3bd14c7c2287>\u001b[0m in \u001b[0;36m<module>\u001b[0;34m()\u001b[0m\n\u001b[1;32m     14\u001b[0m \u001b[0mHouseData\u001b[0m \u001b[0;34m=\u001b[0m \u001b[0mLoadHouse\u001b[0m\u001b[0;34m(\u001b[0m\u001b[0;34m)\u001b[0m\u001b[0;34m\u001b[0m\u001b[0m\n\u001b[1;32m     15\u001b[0m \u001b[0;34m\u001b[0m\u001b[0m\n\u001b[0;32m---> 16\u001b[0;31m \u001b[0mPT1\u001b[0m \u001b[0;34m=\u001b[0m \u001b[0mnp\u001b[0m\u001b[0;34m.\u001b[0m\u001b[0mcopy\u001b[0m\u001b[0;34m(\u001b[0m\u001b[0mHouseData\u001b[0m\u001b[0;34m[\u001b[0m\u001b[0mImageI\u001b[0m\u001b[0;34m]\u001b[0m\u001b[0;34m)\u001b[0m\u001b[0;34m\u001b[0m\u001b[0m\n\u001b[0m\u001b[1;32m     17\u001b[0m \u001b[0mPT2\u001b[0m \u001b[0;34m=\u001b[0m \u001b[0mnp\u001b[0m\u001b[0;34m.\u001b[0m\u001b[0mcopy\u001b[0m\u001b[0;34m(\u001b[0m\u001b[0mHouseData\u001b[0m\u001b[0;34m[\u001b[0m\u001b[0mImageI\u001b[0m\u001b[0;34m+\u001b[0m\u001b[0mbaseline\u001b[0m\u001b[0;34m]\u001b[0m\u001b[0;34m)\u001b[0m\u001b[0;34m\u001b[0m\u001b[0m\n\u001b[1;32m     18\u001b[0m \u001b[0mNofNodes\u001b[0m \u001b[0;34m=\u001b[0m \u001b[0;36m30\u001b[0m\u001b[0;34m\u001b[0m\u001b[0m\n",
      "\u001b[0;31mNameError\u001b[0m: name 'ImageI' is not defined"
     ],
     "output_type": "error"
    }
   ],
   "source": [
    "PT1 = np.copy(HouseData[ImageI])\n",
    "PT2 = np.copy(HouseData[ImageI+baseline])\n",
    "NofNodes = 30\n",
    "gTruth = np.random.permutation(NofNodes)\n",
    "PT1 = PT1[gTruth, :]\n",
    "PF1 = np.zeros([NofNodes,1])\n",
    "PF2 = np.zeros([NofNodes,2])\n",
    "MG1 = FB.MatchingGraph(PT1[0:NofNodes], PF1[0:NofNodes])\n",
    "MG2 = FB.MatchingGraph(PT2[0:NofNodes], PF2[0:NofNodes])\n",
    "[G,FName] = FB.ConstructMatchingModel(MG1, MG2, 'cmu', False, True)\n",
    "res1 = FB.BaBSolver(G, 30, 10, 0.005, True)"
   ]
  },
  {
   "cell_type": "code",
   "execution_count": null,
   "metadata": {
    "collapsed": true
   },
   "outputs": [],
   "source": [
    ""
   ]
  }
 ],
 "metadata": {
  "anaconda-cloud": {},
  "celltoolbar": "Slideshow",
  "kernelspec": {
   "display_name": "Python 2",
   "language": "python",
   "name": "python2"
  },
  "language_info": {
   "codemirror_mode": {
    "name": "ipython",
    "version": 2.0
   },
   "file_extension": ".py",
   "mimetype": "text/x-python",
   "name": "python",
   "nbconvert_exporter": "python",
   "pygments_lexer": "ipython2",
   "version": "2.7.6"
  }
 },
 "nbformat": 4,
 "nbformat_minor": 0
}